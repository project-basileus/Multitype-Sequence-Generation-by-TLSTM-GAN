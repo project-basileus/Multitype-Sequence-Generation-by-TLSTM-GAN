{
 "cells": [
  {
   "cell_type": "code",
   "execution_count": 73,
   "metadata": {},
   "outputs": [],
   "source": [
    "import os \n",
    "import sys\n",
    "from tqdm import tqdm\n",
    "import importlib\n",
    "import numpy as np\n",
    "import tensorflow as tf\n",
    "import matplotlib.pyplot as plt\n",
    "\n",
    "import tensorflow as tf\n",
    "from tensorflow.keras.optimizers import Adam, SGD\n",
    "from tensorflow.keras.layers import LSTM\n",
    "import tensorflow_probability as tfp\n",
    "from tensorflow_probability import distributions as tfd\n",
    "\n",
    "import tensorflow as tf\n",
    "from tensorflow.keras.models import Model\n",
    "from tensorflow.keras import Sequential\n",
    "from tensorflow.keras.optimizers import Adam, SGD\n",
    "from tensorflow.keras.layers import Input, LSTM, Embedding, Reshape, Dense\n",
    "import tensorflow_probability as tfp\n",
    "from tensorflow_probability import distributions as tfd\n",
    "\n",
    "module_path = '/Users/zhuo/repos/seq-gan/sgtlstm'\n",
    "if module_path not in sys.path:\n",
    "    sys.path.append(module_path)"
   ]
  },
  {
   "cell_type": "code",
   "execution_count": 68,
   "metadata": {},
   "outputs": [],
   "source": [
    "if 'sgtlstm' in sys.modules:\n",
    "    importlib.reload(sys.modules['sgtlstm'])\n",
    "\n",
    "from sgtlstm.utils import load_fixed_length_sequence_from_pickle, create_dataset\n",
    "from sgtlstm.utils import create_dataset\n",
    "from sgtlstm.SeqGan import build_G, build_D\n",
    "from sgtlstm.pretrain import pretrain_generator, pretrain_discriminator, create_self_regression_data_batch\n",
    "from sgtlstm.TimeLSTM import TimeLSTM0, TimeLSTM1, TimeLSTM2, TimeLSTM3"
   ]
  },
  {
   "cell_type": "markdown",
   "metadata": {},
   "source": [
    "## Global Variables \n"
   ]
  },
  {
   "cell_type": "code",
   "execution_count": 44,
   "metadata": {},
   "outputs": [],
   "source": [
    "BATCH_SIZE = 8\n",
    "EPOCHS = 100\n",
    "BUFFER_SIZE = 500\n",
    "\n",
    "T = 10 + 1\n",
    "VOCAB = ['END/PADDING', 'INIT', 'start', 'click', 'install']\n",
    "EVENT_VOCAB_DIM = len(VOCAB)\n",
    "EMB_DIM = 5\n",
    "HIDDEN_DIM = 32\n",
    "K_MIST = 7\n",
    "END_TOKEN = 0\n",
    "MAX_TIME = 1024"
   ]
  },
  {
   "cell_type": "markdown",
   "metadata": {},
   "source": [
    "## Load data "
   ]
  },
  {
   "cell_type": "code",
   "execution_count": 45,
   "metadata": {},
   "outputs": [],
   "source": [
    "valid_data_path = '/Users/zhuo/repos/seq-gan/data/fixed_length_with_init_token/valid_sequences.pickle'\n",
    "invalid_data_path = '/Users/zhuo/repos/seq-gan/data/fixed_length_with_init_token/invalid_sequences.pickle'\n",
    "\n",
    "valid_event_type_seqs, valid_timestamp_seqs = load_fixed_length_sequence_from_pickle(valid_data_path, to_timedelta=True, end_token=0)\n",
    "invalid_event_type_seqs, invalid_timestamp_seqs = load_fixed_length_sequence_from_pickle(invalid_data_path, to_timedelta=True, end_token=0)"
   ]
  },
  {
   "cell_type": "code",
   "execution_count": 46,
   "metadata": {},
   "outputs": [],
   "source": [
    "\n",
    "pretrain_G_et = valid_event_type_seqs\n",
    "pretrain_G_ts = valid_timestamp_seqs\n",
    "pretrain_G_labels = np.ones((valid_event_type_seqs.shape[0], 1))\n",
    "\n",
    "\n",
    "\n",
    "pretrain_G_features = (pretrain_G_et, pretrain_G_ts)\n",
    "N_pretrain_G = pretrain_G_et.shape[0]\n",
    "\n",
    "dataset = tf.data.Dataset.from_tensor_slices((pretrain_G_features, pretrain_G_labels))\n",
    "dataset = dataset.shuffle(BUFFER_SIZE)\n",
    "dataset = dataset.repeat(EPOCHS)\n",
    "dataset = dataset.batch(BATCH_SIZE, drop_remainder=True)\n"
   ]
  },
  {
   "cell_type": "markdown",
   "metadata": {},
   "source": [
    "## G and D"
   ]
  },
  {
   "cell_type": "code",
   "execution_count": 75,
   "metadata": {},
   "outputs": [],
   "source": [
    "def build_G(batch_size, T, event_vocab_dim, emb_dim, hidden_dim=11, k_mixt=7, return_sequence=False):\n",
    "    \"\"\"\n",
    "        Build a generator for event type sequence of shape (batch_size, T, input_dim)\n",
    "        and input event type sequence of shape (batch_size, T, 1)\n",
    "    :param T: length of the sequence\n",
    "    :param event_vocab_dim: size of event vocabulary ['na', 'start', 'click', 'install']\n",
    "    :param emb_dim: dimension of the embedding layer output for event type\n",
    "    :param hidden_dim: dimension hidden of the time lstm cell\n",
    "    :param k_mixt: num of gaussian distributions in gaussian mixture model\n",
    "    :param return_sequence:\n",
    "    :return:\n",
    "    \"\"\"\n",
    "    # Time-LSTM:\n",
    "    i_et = Input(batch_shape=(batch_size, None, 1), name='event_type')  # input of discrete feature event type\n",
    "    i_ts = Input(batch_shape=(batch_size, None, 1), name='time_delta')  # input of continuous feature timestamp\n",
    "\n",
    "    mask_layer = tf.keras.layers.Masking(mask_value=0., input_shape=(None, 1))\n",
    "    masked_et = mask_layer(i_et)\n",
    "    masked_ts = mask_layer(i_ts)\n",
    "\n",
    "    embed0 = Embedding(input_dim=event_vocab_dim, output_dim=emb_dim, mask_zero=True)(masked_et)\n",
    "    embed0 = Reshape([1, emb_dim])(embed0)\n",
    "    merged0 = tf.keras.layers.concatenate([embed0, masked_ts], axis=2)\n",
    "\n",
    "    # TODO: add deep layers to lstm\n",
    "    # TODO: add activation after layer norm/batch norm\n",
    "#     merged0 = tf.keras.layers.LayerNormalization()(merged0)\n",
    "#     merged0 = tf.keras.layers.PReLU()(merged0)\n",
    "\n",
    "    hm, tm = TimeLSTM1(hidden_dim, activation='selu', name='time_lstm', \n",
    "                       stateful=True, return_sequences=False)(merged0)\n",
    "    time_comb = tf.concat([hm,tm],axis=1)\n",
    "    time_out = Dense(1+1, activation='linear', name='output')(time_comb)\n",
    "    time_out = tfp.layers.DistributionLambda(\n",
    "        lambda t: tfd.Normal(loc=t[..., :1],\n",
    "                             scale=tf.math.softplus(t[...,1:])), \n",
    "        name='Normal')(time_out)\n",
    "\n",
    "    # predicted prob of next token\n",
    "    token_prob = Dense(event_vocab_dim, activation='softmax', name='token_prob')(hm)\n",
    "    model_gen = Model(\n",
    "        inputs=[i_et, i_ts],\n",
    "        outputs=[token_prob, time_out])\n",
    "    return model_gen\n",
    "\n",
    "\n",
    "G2 = build_G(\n",
    "    batch_size=BATCH_SIZE,\n",
    "    T = T,\n",
    "    event_vocab_dim = EVENT_VOCAB_DIM,\n",
    "    emb_dim = EMB_DIM,\n",
    "    hidden_dim= HIDDEN_DIM,\n",
    "    k_mixt = K_MIST,\n",
    "    return_sequence=False,\n",
    ")\n"
   ]
  },
  {
   "cell_type": "code",
   "execution_count": 92,
   "metadata": {},
   "outputs": [
    {
     "name": "stdout",
     "output_type": "stream",
     "text": [
      "tfp.distributions.Normal(\"functional_19_Normal_Normal\", batch_shape=[8, 1], event_shape=[], dtype=float64)\n",
      "tf.Tensor(\n",
      "[[19.]\n",
      " [13.]\n",
      " [ 6.]\n",
      " [14.]\n",
      " [14.]\n",
      " [ 9.]\n",
      " [13.]\n",
      " [12.]], shape=(8, 1), dtype=float64)\n",
      "tf.Tensor(\n",
      "[[-347.85906594]\n",
      " [-162.71418807]\n",
      " [ -34.77363928]\n",
      " [-188.73310679]\n",
      " [-188.73310679]\n",
      " [ -77.99275684]\n",
      " [-162.71418807]\n",
      " [-138.63069371]], shape=(8, 1), dtype=float64)\n",
      "gaussian loss:[[347.85906594]\n",
      " [162.71418807]\n",
      " [ 34.77363928]\n",
      " [188.73310679]\n",
      " [188.73310679]\n",
      " [ 77.99275684]\n",
      " [162.71418807]\n",
      " [138.63069371]]\n"
     ]
    }
   ],
   "source": [
    "for feature_sample, _ in dataset.take(1):\n",
    "    for i in range(0, 1):\n",
    "        curr_state_et = state_et_batch[:, i:i+1, :]\n",
    "        curr_state_ts = state_ts_batch[:, i:i+1, :]\n",
    "        target_et = state_et_batch[:, i+1, :]\n",
    "        target_ts = state_ts_batch[:, i+1, :]\n",
    "\n",
    "        state_et_batch, state_ts_batch = feature_sample \n",
    "        token_prob, timeout_obj = G2([curr_state_et, curr_state_ts])\n",
    "        print(timeout_obj)\n",
    "        gaussian_log=timeout_obj.log_prob(target_ts)\n",
    "        print(target_ts)\n",
    "\n",
    "        print(gaussian_log)\n",
    "        gaussian_loss = -tf.reduce_mean(gaussian_log)\n",
    "        print('gaussian loss:{}'.format(gaussian_loss))\n",
    "        "
   ]
  },
  {
   "cell_type": "code",
   "execution_count": 94,
   "metadata": {
    "scrolled": true
   },
   "outputs": [],
   "source": [
    "batch_idx = -1\n",
    "optimizer=Adam(lr=0.001)\n",
    "whole_ce_loss_list = []\n",
    "whole_gaussian_loss_list = []\n",
    "whole_sigma_list = []\n",
    "whole_alpha_list = []\n",
    "\n",
    "for feature_sample, _ in dataset.take(1):\n",
    "    \n",
    "    state_et_batch, state_ts_batch = feature_sample \n",
    "#     print('state_et_batch: {}'.format(tf.squeeze(state_et_batch)))\n",
    "#     print('state_ts_batch: {}'.format(tf.squeeze(state_ts_batch)))\n",
    "    batch_idx += 1\n",
    "    with tf.GradientTape() as tape:\n",
    "        G2.reset_states()\n",
    "        \n",
    "        ce_loss_list = []\n",
    "        gaussian_list = []\n",
    "        for i in range(0, 10):\n",
    "            curr_state_et = state_et_batch[:, i:i+1, :]\n",
    "            curr_state_ts = state_ts_batch[:, i:i+1, :]\n",
    "            target_et = state_et_batch[:, i+1, :]\n",
    "            target_ts = state_ts_batch[:, i+1, :]\n",
    "\n",
    "            token_prob, timeout_obj = G2([curr_state_et, curr_state_ts])\n",
    "            \n",
    "            gaussian_log=timeout_obj.log_prob(target_ts)\n",
    "            gaussian_loss = -tf.reduce_mean(gaussian_log)\n",
    "#             print('gaussian loss:{}'.format(gaussian_loss))\n",
    "            gaussian_list.append(gaussian_loss)\n",
    "            \n",
    "            ce_losses = tf.keras.losses.sparse_categorical_crossentropy(target_et, token_prob)\n",
    "            ce_loss = tf.reduce_mean(ce_losses)\n",
    "#             if batch_idx % 50 ==1 and i == 0:\n",
    "#                 print('batch:{}, step:{} token prob:{}'.format(batch_idx, i, token_prob[0]))\n",
    "            \n",
    "            ce_loss_list.append(ce_loss)\n",
    "            \n",
    "            if i == 2:\n",
    "                whole_sigma_list.append(tf.reduce_mean(sigma))\n",
    "                \n",
    "        total_ce_loss = tf.reduce_sum(ce_loss_list)\n",
    "        total_gaussian_loss = tf.reduce_sum(gaussian_list)\n",
    "        total_loss = total_ce_loss + total_gaussian_loss\n",
    "        whole_ce_loss_list.append(total_ce_loss)\n",
    "        whole_gaussian_loss_list.append(total_gaussian_loss)\n",
    "        \n",
    "#     print('batch:{}, ce_loss:{}, gaussian_loss:{}'.format(batch_idx, total_ce_loss, total_gaussian_loss))\n",
    "    # apply gradient decent per batch\n",
    "    grads = tape.gradient(total_loss, G2.trainable_variables)\n",
    "    optimizer.apply_gradients(zip(grads, G2.trainable_variables))\n"
   ]
  },
  {
   "cell_type": "code",
   "execution_count": 90,
   "metadata": {},
   "outputs": [
    {
     "data": {
      "image/png": "[encoded data removed]",
      "text/plain": [
       "<Figure size 432x288 with 1 Axes>"
      ]
     },
     "metadata": {
      "needs_background": "light"
     },
     "output_type": "display_data"
    }
   ],
   "source": [
    "plt.plot(whole_gaussian_loss_list, label='gaussian loss')\n",
    "plt.legend(loc=\"upper right\");plt.show()"
   ]
  },
  {
   "cell_type": "code",
   "execution_count": 49,
   "metadata": {
    "scrolled": true
   },
   "outputs": [
    {
     "data": {
      "image/png": "[encoded data removed]",
      "text/plain": [
       "<Figure size 432x288 with 1 Axes>"
      ]
     },
     "metadata": {
      "needs_background": "light"
     },
     "output_type": "display_data"
    }
   ],
   "source": [
    "plt.plot(whole_gaussian_loss_list, label='gaussian loss')\n",
    "plt.legend(loc=\"upper right\");plt.show()"
   ]
  },
  {
   "cell_type": "code",
   "execution_count": 91,
   "metadata": {},
   "outputs": [
    {
     "data": {
      "image/png": "[encoded data removed]",
      "text/plain": [
       "<Figure size 432x288 with 1 Axes>"
      ]
     },
     "metadata": {
      "needs_background": "light"
     },
     "output_type": "display_data"
    }
   ],
   "source": [
    "plt.plot(whole_ce_loss_list, label='ce loss')\n",
    "plt.legend(loc=\"upper right\");plt.show()"
   ]
  },
  {
   "cell_type": "code",
   "execution_count": 50,
   "metadata": {},
   "outputs": [
    {
     "data": {
      "image/png": "[encoded data removed]",
      "text/plain": [
       "<Figure size 432x288 with 1 Axes>"
      ]
     },
     "metadata": {
      "needs_background": "light"
     },
     "output_type": "display_data"
    }
   ],
   "source": [
    "plt.plot(whole_ce_loss_list, label='ce loss')\n",
    "plt.legend(loc=\"upper right\");plt.show()"
   ]
  },
  {
   "cell_type": "code",
   "execution_count": 51,
   "metadata": {},
   "outputs": [
    {
     "data": {
      "image/png": "[encoded data removed]",
      "text/plain": [
       "<Figure size 432x288 with 1 Axes>"
      ]
     },
     "metadata": {
      "needs_background": "light"
     },
     "output_type": "display_data"
    }
   ],
   "source": [
    "plt.plot(whole_sigma_list, label='avg sigma')\n",
    "plt.legend(loc=\"upper left\");plt.show()"
   ]
  },
  {
   "cell_type": "code",
   "execution_count": 24,
   "metadata": {},
   "outputs": [],
   "source": [
    "def generate_batch_sequence_by_rollout(\n",
    "        G, batch_size, T, end_token=0, init_token=1, max_time=1024, verbose=False):\n",
    "    # Begin from dummy init state (init_token=1, init_timestamp=0.0)\n",
    "    curr_state_et = np.zeros([batch_size, 1, 1])\n",
    "    curr_state_et[:, 0, 0] = init_token\n",
    "\n",
    "    curr_state_ts = np.zeros([batch_size, 1, 1])\n",
    "    curr_state_ts[:, 0, 0] = 0.0\n",
    "    \n",
    "    all_state_et = curr_state_et\n",
    "    all_state_ts = curr_state_ts\n",
    "\n",
    "    G.reset_states()\n",
    "\n",
    "    for step in range(1, T):  # sequence length\n",
    "        token_prob, alpha, mu, sigma = G([curr_state_et, curr_state_ts])\n",
    "        sampled_et = tf.random.categorical(tf.math.log(token_prob), num_samples=1, dtype=tf.int32)\n",
    "        sampled_et = tf.reshape(sampled_et, [batch_size, 1, 1])\n",
    "\n",
    "        # stop genererating once hit end_token\n",
    "        cond_end_token = tf.equal(curr_state_et, end_token)\n",
    "        curr_state_et = tf.where(cond_end_token, curr_state_et, sampled_et)\n",
    "        all_state_et = tf.concat([all_state_et, curr_state_et], axis=1)\n",
    "\n",
    "        # generate one timstamp using [alpha, mu, sigma]\n",
    "        gm = tfd.MixtureSameFamily(\n",
    "            mixture_distribution=tfd.Categorical(\n",
    "                probs=alpha),\n",
    "            components_distribution=tfd.Normal(\n",
    "                loc=mu,\n",
    "                scale=sigma))\n",
    "\n",
    "        sampled_ts = tf.clip_by_value(gm.sample(), clip_value_min=1, clip_value_max=max_time)\n",
    "        sampled_ts = tf.reshape(sampled_ts, [batch_size, 1, 1])\n",
    "\n",
    "        # stop genererating once hit end_token\n",
    "        curr_state_ts = tf.where(cond_end_token, curr_state_ts, sampled_ts)\n",
    "        all_state_ts = tf.concat([all_state_ts, curr_state_ts], axis=1)\n",
    "    return all_state_et, all_state_ts"
   ]
  },
  {
   "cell_type": "code",
   "execution_count": null,
   "metadata": {},
   "outputs": [],
   "source": [
    "def mc_rollout_reward(G, D, partial_state_et, partial_state_ts):\n",
    "    curr_state_et = np.zeros([batch_size, 1, 1])\n",
    "    curr_state_et[:, 0, 0] = init_token\n",
    "\n",
    "    curr_state_ts = np.zeros([batch_size, 1, 1])\n",
    "    curr_state_ts[:, 0, 0] = 0.0\n",
    "    \n",
    "    all_state_et = curr_state_et\n",
    "    all_state_ts = curr_state_ts\n",
    "\n",
    "    G.reset_states()\n",
    "\n",
    "    for step in range(1, T):  # sequence length\n",
    "        token_prob, alpha, mu, sigma = G([curr_state_et, curr_state_ts])\n",
    "        sampled_et = tf.random.categorical(tf.math.log(token_prob), num_samples=1, dtype=tf.int32)\n",
    "        sampled_et = tf.reshape(sampled_et, [batch_size, 1, 1])\n",
    "\n",
    "        # stop genererating once hit end_token\n",
    "        cond_end_token = tf.equal(curr_state_et, end_token)\n",
    "        curr_state_et = tf.where(cond_end_token, curr_state_et, sampled_et)\n",
    "        all_state_et = tf.concat([all_state_et, curr_state_et], axis=1)\n",
    "\n",
    "        # generate one timstamp using [alpha, mu, sigma]\n",
    "        gm = tfd.MixtureSameFamily(\n",
    "            mixture_distribution=tfd.Categorical(\n",
    "                probs=alpha),\n",
    "            components_distribution=tfd.Normal(\n",
    "                loc=mu,\n",
    "                scale=sigma))\n",
    "\n",
    "        sampled_ts = tf.clip_by_value(gm.sample(), clip_value_min=1, clip_value_max=max_time)\n",
    "        sampled_ts = tf.reshape(sampled_ts, [batch_size, 1, 1])\n",
    "\n",
    "        # stop genererating once hit end_token\n",
    "        curr_state_ts = tf.where(cond_end_token, curr_state_ts, sampled_ts)\n",
    "        all_state_ts = tf.concat([all_state_ts, curr_state_ts], axis=1)\n",
    "    return all_state_et, all_state_ts"
   ]
  },
  {
   "cell_type": "code",
   "execution_count": 64,
   "metadata": {},
   "outputs": [
    {
     "data": {
      "text/plain": [
       "array([[[0.]],\n",
       "\n",
       "       [[0.]],\n",
       "\n",
       "       [[0.]],\n",
       "\n",
       "       [[0.]],\n",
       "\n",
       "       [[0.]],\n",
       "\n",
       "       [[0.]],\n",
       "\n",
       "       [[0.]],\n",
       "\n",
       "       [[0.]]])"
      ]
     },
     "execution_count": 64,
     "metadata": {},
     "output_type": "execute_result"
    }
   ],
   "source": [
    "batch_size = 8\n",
    "init_token = 0\n",
    "\n",
    "curr_state_et = np.zeros([batch_size, 1, 1])\n",
    "curr_state_et[:, 0, 0] = init_token\n",
    "\n",
    "curr_state_ts = np.zeros([batch_size, 1, 1])\n",
    "curr_state_ts[:, 0, 0] = 0.0\n",
    "\n",
    "all_state_et = curr_state_et\n",
    "all_state_ts = curr_state_ts\n",
    "\n",
    "curr_state_et"
   ]
  },
  {
   "cell_type": "code",
   "execution_count": 61,
   "metadata": {
    "scrolled": false
   },
   "outputs": [
    {
     "name": "stdout",
     "output_type": "stream",
     "text": [
      "tf.Tensor(\n",
      "[[1 2 3 3 3 3 4 4 3 4 4]\n",
      " [1 2 3 2 2 3 3 4 3 2 2]\n",
      " [1 2 3 4 3 3 3 3 3 4 3]\n",
      " [1 2 3 3 2 2 4 2 4 3 2]\n",
      " [1 2 3 4 3 3 3 3 2 4 3]\n",
      " [1 2 3 2 2 3 2 3 4 2 2]\n",
      " [1 2 3 2 4 3 3 2 2 4 2]\n",
      " [1 2 2 2 3 2 3 2 3 4 3]], shape=(8, 11), dtype=int32)\n",
      "tf.Tensor(\n",
      "[[ 0.          5.24926263  6.95387153 12.0758274  18.68257985 14.76920613\n",
      "  15.44348054  5.88285811 18.1658163  19.52303088  4.24221541]\n",
      " [ 0.          4.52537525 17.8582698   5.5253639   7.65287707 18.09869942\n",
      "  16.03076262 22.79140188 15.08187579  8.03853185 14.10323796]\n",
      " [ 0.          6.8146849  11.90809101 11.44892756  6.63153272  4.83573133\n",
      "  18.93599117 11.07060069 17.06230114 13.48590407 16.38346419]\n",
      " [ 0.          5.76629436 10.22818986 13.98724878 12.07403986 23.69903426\n",
      "   8.70319926 10.62469485  8.65831396 16.63237705 12.85308276]\n",
      " [ 0.          4.42089199 10.04771151  3.24778548  2.5454485   6.56151094\n",
      "  11.48788609 12.71942068  4.4199012  16.34350527 12.02253172]\n",
      " [ 0.          6.19985595  5.96866588  9.16345761  6.57767693  6.88527135\n",
      "   8.03913632  7.70928988  3.04630247 12.69902357 16.83256563]\n",
      " [ 0.          5.10699008 16.96648849 12.87159449 19.6593103   4.77539141\n",
      "   2.49032594  8.7844844  15.28932711  6.2971724   8.41201987]\n",
      " [ 0.          4.93507288  3.64299613 13.49447573  9.93231488  9.75659295\n",
      "  12.92200945  7.89871549  6.7785287  13.35539918  5.0589261 ]], shape=(8, 11), dtype=float64)\n"
     ]
    }
   ],
   "source": [
    "all_state_et, all_state_ts = generate_batch_sequence_by_rollout(G, batch_size=BATCH_SIZE, T=T)\n",
    "print(tf.squeeze(all_state_et))\n",
    "print(tf.squeeze(all_state_ts))"
   ]
  },
  {
   "cell_type": "markdown",
   "metadata": {},
   "source": [
    "## Pretrain G"
   ]
  },
  {
   "cell_type": "code",
   "execution_count": null,
   "metadata": {},
   "outputs": [],
   "source": [
    "x = range(len(pretrain_gen_ce_loss_history))\n",
    "plt.figure(dpi=100)\n",
    "plt.plot(x, pretrain_gen_ce_loss_history)\n",
    "plt.title('Pre-training Generator Categorical Cross-Entropy Loss History')\n",
    "plt.xlabel('Pre-training steps')\n",
    "\n",
    "x = range(len(pretrain_gen_gaussian_loss_history))\n",
    "plt.figure(dpi=100)\n",
    "plt.plot(x, pretrain_gen_gaussian_loss_history)\n",
    "plt.title('Pre-training Generator Gaussian Loss History')\n",
    "plt.xlabel('training steps')"
   ]
  },
  {
   "cell_type": "markdown",
   "metadata": {},
   "source": [
    "### predict using pretrained G on self-regression"
   ]
  },
  {
   "cell_type": "code",
   "execution_count": null,
   "metadata": {},
   "outputs": [],
   "source": [
    "self_regression_et, self_regression_ts, self_target_token, _ = create_self_regression_data_batch(feature_sample)\n",
    "print(self_target_token.squeeze())\n",
    "\n",
    "curr_state_et = self_regression_et\n",
    "curr_state_ts = self_regression_ts\n",
    "\n",
    "pred_token_prob, gaussian_log, mask, alpha, mu, sigma = pretrained_generator.predict((curr_state_et, curr_state_ts))\n",
    "pred_token_prob.shape\n",
    "print(pred_token_prob.argmax(axis=1))"
   ]
  },
  {
   "cell_type": "markdown",
   "metadata": {},
   "source": [
    "### Save Pretrained G"
   ]
  },
  {
   "cell_type": "code",
   "execution_count": null,
   "metadata": {},
   "outputs": [],
   "source": [
    "if not os.path.exists('./gan_model_weights/pretrain_1000_gen_clip'):\n",
    "    os.makedirs('./gan_model_weights/pretrain_1000_gen_clip')\n",
    "    \n",
    "G_save_path = './gan_model_weights/pretrain_1000_gen_clip/model.tf'\n",
    "pretrained_generator.save_weights(G_save_path)"
   ]
  },
  {
   "cell_type": "code",
   "execution_count": null,
   "metadata": {},
   "outputs": [],
   "source": [
    "reload_pretrained_gen = build_G(\n",
    "    T = T,\n",
    "    event_vocab_dim = EVENT_VOCAB_DIM,\n",
    "    emb_dim = EMB_DIM,\n",
    "    hidden_dim= HIDDEN_DIM,\n",
    "    k_mixt = K_MIST,\n",
    "    return_sequence=False,\n",
    ")\n",
    "\n",
    "reload_pretrained_gen.build(input_shape=((BATCH_SIZE, T, 1), (BATCH_SIZE, T, 1)))\n",
    "reload_pretrained_gen.load_weights(G_save_path)"
   ]
  },
  {
   "cell_type": "code",
   "execution_count": null,
   "metadata": {},
   "outputs": [],
   "source": [
    "reload_pretrained_gen.summary()"
   ]
  },
  {
   "cell_type": "markdown",
   "metadata": {},
   "source": [
    "## Pretrain D "
   ]
  },
  {
   "cell_type": "code",
   "execution_count": null,
   "metadata": {},
   "outputs": [],
   "source": [
    "pretrain_D_et = np.concatenate([valid_event_type_seqs, invalid_event_type_seqs], axis=0)\n",
    "pretrain_D_ts = np.concatenate([valid_timestamp_seqs, invalid_timestamp_seqs], axis=0)\n",
    "\n",
    "pretrain_D_labels = np.concatenate([np.ones((valid_event_type_seqs.shape[0], 1)), \n",
    "                                  np.zeros((invalid_event_type_seqs.shape[0], 1))\n",
    "                                 ], axis=0)\n",
    "pretrain_D_features = (pretrain_D_et, pretrain_D_ts)\n",
    "N_pretrain_D = pretrain_D_ts.shape[0]"
   ]
  },
  {
   "cell_type": "code",
   "execution_count": null,
   "metadata": {},
   "outputs": [],
   "source": [
    "WEIGHT_GAUSSIAN_LOSS = 1e-2\n",
    "OPTIMIZER = Adam(lr=1e-3)\n",
    "\n",
    "EPOCHS = 1\n",
    "_TOTAL_STEPS = 1000\n",
    "\n",
    "pretrain_D_dataset = create_dataset(pretrain_D_features,\n",
    "                                  pretrain_D_labels,\n",
    "                                  batch_size=BATCH_SIZE,\n",
    "                                  epochs=1,\n",
    "                                  buffer_size=N_pretrain_D)\n",
    "\n",
    "pretrained_discriminator = build_D(\n",
    "    T = T,\n",
    "    event_vocab_dim = EVENT_VOCAB_DIM,\n",
    "    emb_dim = EMB_DIM,\n",
    "    hidden_dim= HIDDEN_DIM,\n",
    "    k_mixt = K_MIST\n",
    ")"
   ]
  },
  {
   "cell_type": "code",
   "execution_count": null,
   "metadata": {},
   "outputs": [],
   "source": [
    "pretrain_disc_token_loss_history = []\n",
    "pretrain_disc_gaussian_loss_history = []\n",
    "\n",
    "step = 0\n",
    "\n",
    "for features_batch, real_labels in tqdm(pretrain_D_dataset.take(_TOTAL_STEPS)):\n",
    "    step += 1\n",
    "    print('Training Step:', step)\n",
    "        \n",
    "    disc_token_loss, disc_gaussian_loss = pretrain_discriminator(features_batch, real_labels, pretrained_discriminator, verbose=False, \n",
    "                                                                 weight_gaussian_loss=WEIGHT_GAUSSIAN_LOSS, optimizer=OPTIMIZER)\n",
    "    pretrain_disc_token_loss_history.append(disc_token_loss.numpy())\n",
    "    pretrain_disc_gaussian_loss_history.append(disc_gaussian_loss.numpy())"
   ]
  },
  {
   "cell_type": "code",
   "execution_count": null,
   "metadata": {},
   "outputs": [],
   "source": [
    "x = range(len(pretrain_disc_token_loss_history))\n",
    "plt.figure(dpi=100)\n",
    "plt.plot(x, pretrain_disc_token_loss_history)\n",
    "plt.title('Pre-training Discriminator CE Loss History')\n",
    "plt.xlabel('Pre-training steps')\n",
    "\n",
    "x = range(len(pretrain_disc_gaussian_loss_history))\n",
    "plt.figure(dpi=100)\n",
    "plt.plot(x, pretrain_disc_gaussian_loss_history)\n",
    "plt.title('Pre-training Discriminator Gaussian Loss History')\n",
    "plt.xlabel('training steps')"
   ]
  },
  {
   "cell_type": "markdown",
   "metadata": {},
   "source": [
    "### Save Pretrained D"
   ]
  },
  {
   "cell_type": "code",
   "execution_count": null,
   "metadata": {},
   "outputs": [],
   "source": [
    "if not os.path.exists('./gan_model_weights/pretrain_1000_disc/'):\n",
    "    os.makedirs('./gan_model_weights/pretrain_1000_disc/')\n",
    "    \n",
    "D_save_path = './gan_model_weights/pretrain_1000_disc/model.tf'\n",
    "pretrained_discriminator.save_weights(D_save_path)"
   ]
  },
  {
   "cell_type": "code",
   "execution_count": null,
   "metadata": {},
   "outputs": [],
   "source": [
    "reload_pretrained_disc = build_D(\n",
    "    T = T,\n",
    "    event_vocab_dim = EVENT_VOCAB_DIM,\n",
    "    emb_dim = EMB_DIM,\n",
    "    hidden_dim= HIDDEN_DIM,\n",
    "    k_mixt = K_MIST\n",
    ")\n",
    "\n",
    "reload_pretrained_disc.build(input_shape=((BATCH_SIZE, T, 1), (BATCH_SIZE, T, 1)))\n",
    "reload_pretrained_disc.load_weights(D_save_path)"
   ]
  },
  {
   "cell_type": "code",
   "execution_count": null,
   "metadata": {},
   "outputs": [],
   "source": [
    "reload_pretrained_disc.summary()"
   ]
  },
  {
   "cell_type": "markdown",
   "metadata": {},
   "source": [
    "## Code chunk"
   ]
  },
  {
   "cell_type": "code",
   "execution_count": null,
   "metadata": {},
   "outputs": [],
   "source": [
    "# import pickle\n",
    "# import numpy as np\n",
    "# import tensorflow as tf\n",
    "\n",
    "# def load_fixed_length_sequence_from_pickle(pickle_file_path, to_timedelta=True, end_token=0):\n",
    "#     \"\"\"\n",
    "#         A list of sequence in format of (event_type, timestamp)\n",
    "#         [[(1, 11), (1, 24), (2, 37), (3, 47), (2, 63), (2, 80), (1, 88), (2, 95), (2, 104), (3, 111)], ...]\n",
    "#     :param pickle_file_path: e.g. /.../project-basileus/seq-gan/data/fixed_length/valid_sequences.pickle\n",
    "#     :param to_timedelta: if True, convert absolute time to timedelta\n",
    "#     :param end_token: same as padding token. default 0\n",
    "#     :return: (event_type_seqs, timestamp_seqs)\n",
    "#     \"\"\"\n",
    "#     with open(pickle_file_path, 'rb') as f:\n",
    "#         raw_seqs = pickle.load(f)\n",
    "\n",
    "#     if not raw_seqs or not raw_seqs[0]:\n",
    "#         return np.array([]), np.array([])\n",
    "\n",
    "#     N = len(raw_seqs)\n",
    "#     T = len(raw_seqs[0])\n",
    "\n",
    "#     event_type_seqs = []\n",
    "#     timestamp_seqs = []\n",
    "\n",
    "#     for seq in raw_seqs:\n",
    "#         _ets, _tss = [], []\n",
    "#         ts_prev = 0\n",
    "#         for et, ts in seq:\n",
    "#             if et == end_token:\n",
    "#                 raise ValueError('Actual data should NOT contain END_TOKEN', end_token)\n",
    "#             _ets.append(et)  # 0 is for padding, standing for END_TOKEN or 'N/A'\n",
    "#             if to_timedelta:\n",
    "#                 _tss.append(ts - ts_prev)\n",
    "#                 ts_prev = ts\n",
    "#             else:\n",
    "#                 _tss.append(ts)\n",
    "#         event_type_seqs.append(_ets)\n",
    "#         timestamp_seqs.append(_tss)\n",
    "\n",
    "#     event_type_seqs = np.array(event_type_seqs).astype(np.float64).reshape((N, T, 1))\n",
    "#     timestamp_seqs = np.array(timestamp_seqs).astype(np.float64).reshape((N, T, 1))\n",
    "\n",
    "#     return event_type_seqs, timestamp_seqs"
   ]
  },
  {
   "cell_type": "code",
   "execution_count": null,
   "metadata": {},
   "outputs": [],
   "source": [
    "# def create_self_regression_data_batch(original_feature_sample, END_TOKEN=0):\n",
    "#     \"\"\"\n",
    "#         Create self regression dataset given original sequences\n",
    "#         only support batch_size = 1 for now, aka, we have to pretrain the generator one seq by\n",
    "\n",
    "#         e.g. original event type seq (including init token -1): [-1, 1, 2, 3, 1, 1, 3]\n",
    "#         turns into a train dataset with the next token(softmax)/timstamp as the target\n",
    "        \n",
    "#         [-1, 0, 0, 0, 0, 0, 0] -> 1 : [0, 1.0, 0, 0]\n",
    "#         [-1, 1, 0, 0, 0, 0, 0] -> 2 : [0, 0, 1.0, 0]\n",
    "#         [-1, 1, 2, 0, 0, 0, 0] -> 3 : [0, 0, 0, 1.0]\n",
    "#         [-1, 1, 2, 3, 0, 0, 0] -> 1 : [0, 1.0, 0, 0]\n",
    "#         [-1, 1, 2, 3, 1, 0, 0] -> 1 : [0, 1.0, 0, 0]\n",
    "#         [-1, 1, 2, 3, 1, 1, 0] -> 3 : [0, 0, 0, 1.0]\n",
    "\n",
    "#         same for timestamp sequence.\n",
    "\n",
    "#     :param original_feature_sample: tuple of numpy arrays (seq_et, seq_ts), each of shape (1, T, 1)\n",
    "#     :param END_TOKEN: by default 0. so that we can fill non-zero values in np.zeros\n",
    "#     :return:\n",
    "#     \"\"\"\n",
    "#     orig_seq_et, orig_seq_ts = original_feature_sample\n",
    "#     _, T_orig, _ = orig_seq_et.shape\n",
    "\n",
    "#     self_regression_et = np.zeros((T_orig - 1, T_orig, 1))\n",
    "#     self_regression_ts = np.zeros((T_orig - 1, T_orig, 1))\n",
    "\n",
    "#     self_target_token = np.zeros((T_orig - 1, 1))\n",
    "#     self_target_timestamp = np.zeros((T_orig - 1, 1))\n",
    "\n",
    "#     for i in range(T_orig - 1):\n",
    "#         self_regression_et[i, :i + 1, :] = orig_seq_et[:, :i + 1, :]\n",
    "#         self_regression_ts[i, :i + 1, :] = orig_seq_ts[:, :i + 1, :]\n",
    "\n",
    "#         self_target_token[i, :] = orig_seq_et[:, i + 1, :]\n",
    "#         self_target_timestamp[i, :] = orig_seq_ts[:, i + 1, :]\n",
    "\n",
    "#     return self_regression_et, self_regression_ts, self_target_token, self_target_timestamp"
   ]
  },
  {
   "cell_type": "code",
   "execution_count": null,
   "metadata": {},
   "outputs": [],
   "source": [
    "# import tensorflow as tf\n",
    "# from tensorflow.keras.optimizers import Adam, SGD\n",
    "\n",
    "# def pretrain_generator(feature_sample, generator, event_vocab_dim, verbose=False, weight_gaussian_loss=1,\n",
    "#                        optimizer=Adam(lr=0.001)):\n",
    "#     self_regression_et, self_regression_ts, self_target_token, _ = create_self_regression_data_batch(feature_sample)\n",
    "#     # self_target_timestamp is not actually needed here,\n",
    "#     # because we cauculate log-likelihood of gaussian mixture fitting original input timestamps\n",
    "#     # rather than comparing the next actual timestamp with a sampled timestamp from the updated gm distribution\n",
    "#     N_reg = self_regression_et.shape[0]\n",
    "\n",
    "#     ce_loss_list = []\n",
    "#     gaussian_loss_list = []\n",
    "\n",
    "#     # train the generator\n",
    "#     with tf.GradientTape() as tape:\n",
    "#         for i in range(N_reg):\n",
    "#             curr_state_et = self_regression_et[[i], :, :]\n",
    "#             curr_state_ts = self_regression_ts[[i], :, :]\n",
    "\n",
    "#             curr_target_token = int(self_target_token[i].item())\n",
    "#             curr_target_token_prob = np.zeros((event_vocab_dim,))\n",
    "#             curr_target_token_prob[curr_target_token] = 1.0\n",
    "\n",
    "#             pred_token_prob, gaussian_log, mask, alpha, mu, sigma = generator([curr_state_et, curr_state_ts])\n",
    "\n",
    "#             gaussian_log = gaussian_log[0, 0:i + 1, 0]  # masked to the current step only\n",
    "#             gaussian_loss = -tf.reduce_sum(gaussian_log)\n",
    "#             ce_loss = tf.reduce_sum(tf.keras.losses.categorical_crossentropy(\n",
    "#                 curr_target_token_prob, pred_token_prob, from_logits=False, label_smoothing=0))\n",
    "\n",
    "#             ce_loss_list.append(ce_loss)\n",
    "#             gaussian_loss_list.append(gaussian_loss)\n",
    "\n",
    "#         ce_loss_batch = tf.reduce_mean(ce_loss_list)\n",
    "#         gaussian_loss_batch = tf.reduce_mean(gaussian_loss_list)\n",
    "#         pretrain_generator_loss_batch = ce_loss_batch + weight_gaussian_loss * gaussian_loss_batch\n",
    "\n",
    "#         if verbose:\n",
    "#             print('pretrain generator categorical cross-entropy loss:{}'.format(ce_loss_batch))\n",
    "#             print('pretrain generator gaussian loss:{}'.format(gaussian_loss_batch))\n",
    "\n",
    "#     # apply gradient decent per batch\n",
    "#     grads = tape.gradient(pretrain_generator_loss_batch, generator.trainable_variables)\n",
    "#     optimizer.apply_gradients(zip(grads, generator.trainable_variables))\n",
    "\n",
    "#     return ce_loss_batch, gaussian_loss_batch\n",
    "\n",
    "\n",
    "# def pretrain_discriminator(features_batch, real_labels, discriminator, verbose=False, weight_gaussian_loss=1,\n",
    "#                            optimizer=Adam(lr=0.001)):\n",
    "#     # train the discriminator\n",
    "#     with tf.GradientTape() as tape:\n",
    "#         real_et, real_ts = features_batch\n",
    "\n",
    "#         # train discriminator\n",
    "#         true_prob, gaussian_log, mask = discriminator((real_et, real_ts))\n",
    "\n",
    "#         # calculate masked neg-likelihood of gaussian mixture\n",
    "#         gaussian_log = gaussian_log[:, :, 0:1]\n",
    "#         gaussian_log = tf.boolean_mask(gaussian_log, mask)\n",
    "#         gaussian_loss = -tf.reduce_sum(gaussian_log)\n",
    "\n",
    "#         # cross-entropy loss\n",
    "#         ce_loss = tf.reduce_mean(\n",
    "#             tf.keras.losses.binary_crossentropy(real_labels, true_prob, from_logits=False))\n",
    "#         discriminator_loss = gaussian_loss * weight_gaussian_loss + ce_loss\n",
    "\n",
    "#         if verbose:\n",
    "#             print('discriminator token loss:{}'.format(ce_loss))\n",
    "#             print('discriminator gaussian loss:{}'.format(gaussian_loss))\n",
    "#             print('total discriminator loss:{}'.format(discriminator_loss))\n",
    "\n",
    "#     grads = tape.gradient(discriminator_loss, discriminator.trainable_variables)\n",
    "#     optimizer.apply_gradients(zip(grads, discriminator.trainable_variables))\n",
    "\n",
    "#     return ce_loss, gaussian_loss"
   ]
  },
  {
   "cell_type": "markdown",
   "metadata": {},
   "source": [
    "## Code chunk"
   ]
  },
  {
   "cell_type": "code",
   "execution_count": 8,
   "metadata": {},
   "outputs": [],
   "source": [
    "# import tensorflow as tf\n",
    "# from tensorflow.keras.models import Model\n",
    "# from tensorflow.keras import Sequential\n",
    "# from tensorflow.keras.optimizers import Adam, SGD\n",
    "# from tensorflow.keras.layers import Input, LSTM, Embedding, Reshape, Dense\n",
    "# import tensorflow_probability as tfp\n",
    "# from tensorflow_probability import distributions as tfd\n",
    "\n",
    "# from sgtlstm.TimeLSTM import TimeLSTM0, TimeLSTM1, TimeLSTM2, TimeLSTM3\n",
    "\n",
    "# tf.keras.backend.set_floatx('float64')\n",
    "\n",
    "\n",
    "# def build_D(T, event_vocab_dim, emb_dim, hidden_dim=11, k_mixt=7):\n",
    "#     \"\"\"\n",
    "#         Build a discriminator for event type sequence of shape (batch_size, T, input_dim)\n",
    "#         and input event type sequence of shape (batch_size, T, 1)\n",
    "#     :param T: length of the sequence\n",
    "#     :param event_vocab_dim: size of event vocabulary ['na', 'start', 'click', 'install']\n",
    "#     :param emb_dim: dimension of the embedding layer output for event type\n",
    "#     :param hidden_dim: dimension hidden of the time lstm cell\n",
    "#     :param k_mixt: num of gaussian distributions in gaussian mixture model\n",
    "#     :return: discriminator D\n",
    "#     \"\"\"\n",
    "#     # Time-LSTM:\n",
    "#     i_et = Input(shape=(T, 1), name='event_type')  # input of discrete feature event type\n",
    "#     i_ts = Input(shape=(T, 1), name='time_delta')  # input of continuous feature timestamp\n",
    "#     mask_layer = tf.keras.layers.Masking(mask_value=0., input_shape=(T, 1))\n",
    "#     masked_ts = mask_layer(i_ts)\n",
    "\n",
    "#     embed0 = Embedding(input_dim=event_vocab_dim, output_dim=emb_dim, input_length=T, mask_zero=True)(i_et)\n",
    "#     embed0 = Reshape((T, emb_dim))(embed0)  # shape=[Batch_size, T, emb_dim]\n",
    "#     merged0 = tf.keras.layers.concatenate([embed0, masked_ts], axis=2)  # # shape=[Batch_size, T, emb_dim + time_dim]\n",
    "\n",
    "#     merged0 = tf.keras.layers.LayerNormalization()(merged0)\n",
    "#     merged0 = tf.keras.layers.PReLU()(merged0)\n",
    "\n",
    "#     hm, tm = TimeLSTM1(hidden_dim, activation='selu', name='time_lstm', return_sequences=False)(merged0)\n",
    "\n",
    "#     # gaussian mixture for time delta\n",
    "#     alpha = Dense(k_mixt, activation=tf.nn.softmax, name='dense_alpha')(tm)\n",
    "#     mu = Dense(k_mixt, activation=None, name='dense_mu')(tm)\n",
    "#     sigma = Dense(k_mixt, activation=tf.nn.softplus, name='dense_sigma')(tm)\n",
    "\n",
    "#     gm = tfd.MixtureSameFamily(\n",
    "#         mixture_distribution=tfd.Categorical(\n",
    "#             probs=alpha),\n",
    "#         components_distribution=tfd.Normal(\n",
    "#             loc=mu,\n",
    "#             scale=sigma))\n",
    "\n",
    "#     gaussian_log = gm.log_prob(masked_ts)  # apply gaussian mixture to time stamp input\n",
    "\n",
    "#     # mask out zeros in time stamps\n",
    "#     mask = tf.not_equal(i_ts, 0)\n",
    "\n",
    "#     # predicted real prob\n",
    "#     real_prob = Dense(1, activation='sigmoid', name='fraud_prob')(hm)\n",
    "\n",
    "#     discriminator = Model(\n",
    "#         inputs=[i_et, i_ts],\n",
    "#         outputs=[real_prob, gaussian_log, mask])\n",
    "\n",
    "#     return discriminator\n",
    "\n",
    "\n",
    "# def build_G(T, event_vocab_dim, emb_dim, hidden_dim=11, k_mixt=7, return_sequence=False):\n",
    "#     \"\"\"\n",
    "#         Build a generator for event type sequence of shape (batch_size, T, input_dim)\n",
    "#         and input event type sequence of shape (batch_size, T, 1)\n",
    "#     :param T: length of the sequence\n",
    "#     :param event_vocab_dim: size of event vocabulary ['na', 'start', 'click', 'install']\n",
    "#     :param emb_dim: dimension of the embedding layer output for event type\n",
    "#     :param hidden_dim: dimension hidden of the time lstm cell\n",
    "#     :param k_mixt: num of gaussian distributions in gaussian mixture model\n",
    "#     :param return_sequence:\n",
    "#     :return:\n",
    "#     \"\"\"\n",
    "#     # Time-LSTM:\n",
    "#     i_et = Input(shape=(T, 1), name='event_type')  # input of discrete feature event type\n",
    "#     i_ts = Input(shape=(T, 1), name='time_delta')  # input of continuous feature timestamp\n",
    "\n",
    "#     mask_layer = tf.keras.layers.Masking(mask_value=0., input_shape=(T, 1))\n",
    "#     masked_ts = mask_layer(i_ts)\n",
    "\n",
    "#     embed0 = Embedding(input_dim=event_vocab_dim, output_dim=emb_dim, input_length=T, mask_zero=True)(i_et)\n",
    "#     embed0 = Reshape((T, emb_dim))(embed0)\n",
    "#     merged0 = tf.keras.layers.concatenate([embed0, masked_ts], axis=2)\n",
    "\n",
    "#     # TODO: add deep layers to lstm\n",
    "#     # TODO: add activation after layer norm/batch norm\n",
    "#     merged0 = tf.keras.layers.LayerNormalization()(merged0)\n",
    "#     merged0 = tf.keras.layers.PReLU()(merged0)\n",
    "\n",
    "#     hm, tm = TimeLSTM1(hidden_dim, activation='selu', name='time_lstm', return_sequences=False)(merged0)\n",
    "\n",
    "#     # gaussian mixture for time delta\n",
    "#     alpha = Dense(k_mixt, activation=tf.nn.softmax, name='dense_alpha')(tm)\n",
    "#     mu = Dense(k_mixt, activation=None, name='dense_mu')(tm)\n",
    "#     sigma = Dense(k_mixt, activation=tf.nn.softplus, name='dense_sigma')(tm)\n",
    "\n",
    "#     # add regularization to sigma to avoid GM collapse\n",
    "#     print('sigma > 1 !')\n",
    "#     sigma = tf.clip_by_value(sigma, clip_value_min=1.0, clip_value_max=1024)\n",
    "\n",
    "#     gm = tfd.MixtureSameFamily(\n",
    "#         mixture_distribution=tfd.Categorical(\n",
    "#             probs=alpha),\n",
    "#         components_distribution=tfd.Normal(\n",
    "#             loc=mu,\n",
    "#             scale=sigma))\n",
    "\n",
    "#     # mask out zeros in time stamps\n",
    "#     mask = tf.not_equal(i_ts, 0)\n",
    "#     gaussian_log = gm.log_prob(masked_ts)  # apply gaussian mixture to time stamp input\n",
    "\n",
    "#     # predicted prob of next token\n",
    "#     token_prob = Dense(event_vocab_dim, activation='softmax', name='token_prob')(hm)\n",
    "\n",
    "#     model_gen = Model(\n",
    "#         inputs=[i_et, i_ts],\n",
    "#         outputs=[token_prob, gaussian_log, mask, alpha, mu, sigma])\n",
    "\n",
    "#     return model_gen\n"
   ]
  },
  {
   "cell_type": "markdown",
   "metadata": {},
   "source": [
    "## Debug "
   ]
  },
  {
   "cell_type": "code",
   "execution_count": null,
   "metadata": {},
   "outputs": [],
   "source": [
    "valid_event_type_seqs.shape"
   ]
  },
  {
   "cell_type": "code",
   "execution_count": null,
   "metadata": {},
   "outputs": [],
   "source": [
    "for feature_sample, label_sample in pretrain_dataset.take(1):\n",
    "    print('feature_sample =', feature_sample)\n",
    "    print('label_sample =', label_sample)"
   ]
  },
  {
   "cell_type": "code",
   "execution_count": null,
   "metadata": {},
   "outputs": [],
   "source": [
    "feature_sample[0].shape"
   ]
  },
  {
   "cell_type": "code",
   "execution_count": null,
   "metadata": {},
   "outputs": [],
   "source": [
    "valid_event_type_seqs[0]"
   ]
  },
  {
   "cell_type": "code",
   "execution_count": null,
   "metadata": {},
   "outputs": [],
   "source": []
  }
 ],
 "metadata": {
  "kernelspec": {
   "display_name": "Python 3",
   "language": "python",
   "name": "python3"
  },
  "language_info": {
   "codemirror_mode": {
    "name": "ipython",
    "version": 3
   },
   "file_extension": ".py",
   "mimetype": "text/x-python",
   "name": "python",
   "nbconvert_exporter": "python",
   "pygments_lexer": "ipython3",
   "version": "3.6.1"
  }
 },
 "nbformat": 4,
 "nbformat_minor": 4
}
