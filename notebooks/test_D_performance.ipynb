{
 "cells": [
  {
   "cell_type": "code",
   "execution_count": 1,
   "metadata": {},
   "outputs": [],
   "source": [
    "import os \n",
    "import sys\n",
    "from tqdm import tqdm\n",
    "import pickle\n",
    "import importlib\n",
    "import numpy as np\n",
    "import tensorflow as tf\n",
    "import matplotlib.pyplot as plt\n",
    "\n",
    "module_path = '/home/lun/project-basileus/seq-gan/sgtlstm'\n",
    "if module_path not in sys.path:\n",
    "    sys.path.append(module_path)"
   ]
  },
  {
   "cell_type": "code",
   "execution_count": 2,
   "metadata": {},
   "outputs": [],
   "source": [
    "if 'sgtlstm' in sys.modules:\n",
    "    importlib.reload(sys.modules['sgtlstm'])\n",
    "\n",
    "from sgtlstm.utils import load_fixed_length_sequence_from_pickle, create_dataset\n",
    "from sgtlstm.utils import create_dataset\n",
    "from sgtlstm.SeqGan import build_G, build_D\n",
    "from sgtlstm.pretrain import pretrain_generator, pretrain_discriminator, create_self_regression_data_batch\n",
    "from sgtlstm.TimeLSTM import TimeLSTM0, TimeLSTM1, TimeLSTM2, TimeLSTM3"
   ]
  },
  {
   "cell_type": "code",
   "execution_count": 3,
   "metadata": {},
   "outputs": [],
   "source": [
    "import tensorflow as tf\n",
    "from tensorflow.keras.optimizers import Adam, SGD\n",
    "from tensorflow.keras.layers import LSTM\n",
    "\n",
    "import tensorflow as tf\n",
    "from tensorflow.keras.models import Model\n",
    "from tensorflow.keras import Sequential\n",
    "from tensorflow.keras.optimizers import Adam, SGD\n",
    "from tensorflow.keras.layers import Input, LSTM, Embedding, Reshape, Dense\n",
    "import tensorflow_probability as tfp\n",
    "from tensorflow_probability import distributions as tfd"
   ]
  },
  {
   "cell_type": "code",
   "execution_count": 4,
   "metadata": {},
   "outputs": [],
   "source": [
    "BATCH_SIZE = 128\n",
    "T = 10 + 1\n",
    "VOCAB = ['END/PADDING', 'INIT', 'start', 'click', 'install']\n",
    "EVENT_VOCAB_DIM = len(VOCAB)\n",
    "EMB_DIM = 5\n",
    "HIDDEN_DIM = 64\n",
    "K_MIST = 2\n",
    "\n",
    "END_TOKEN = 0\n",
    "MAX_TIME = 1024"
   ]
  },
  {
   "cell_type": "markdown",
   "metadata": {},
   "source": [
    "## Load data "
   ]
  },
  {
   "cell_type": "code",
   "execution_count": 6,
   "metadata": {},
   "outputs": [],
   "source": [
    "valid_data_path = '/home/lun/project-basileus/seq-gan/data/fixed_length_with_init_token/valid_sequences.pickle'\n",
    "invalid_data_path = '/home/lun/project-basileus/seq-gan/data/fixed_length_with_init_token/invalid_sequences.pickle'\n",
    "gen_seq_path_pretrain = '/home/lun/project-basileus/seq-gan/experiment_results/init_results_after_pretrain/generated_seqs/generated_seqs.pickle'\n",
    "gen_seq_path_1 = '/home/lun/project-basileus/seq-gan/experiment_results/after_1_epochs/generated_seqs/generated_seqs.pickle'\n",
    "gen_seq_path_4 = '/home/lun/project-basileus/seq-gan/experiment_results/after_4_epochs/generated_seqs/generated_seqs.pickle'\n",
    "gen_seq_path_8 = '/home/lun/project-basileus/seq-gan/experiment_results/after_8_epochs/generated_seqs/generated_seqs.pickle'\n",
    "\n",
    "valid_event_type_seqs, valid_timestamp_seqs = load_fixed_length_sequence_from_pickle(valid_data_path, to_timedelta=True, end_token=0)\n",
    "invalid_event_type_seqs, invalid_timestamp_seqs = load_fixed_length_sequence_from_pickle(invalid_data_path, to_timedelta=True, end_token=0)\n",
    "\n",
    "generated_event_type_seqs_pretrain, generated_timestamp_seqs_pretrain = load_fixed_length_sequence_from_pickle(gen_seq_path_pretrain, to_timedelta=True, end_token=None)\n",
    "generated_event_type_seqs_1, generated_timestamp_seqs_1 = load_fixed_length_sequence_from_pickle(gen_seq_path_1, to_timedelta=True, end_token=None)\n",
    "generated_event_type_seqs_4, generated_timestamp_seqs_4 = load_fixed_length_sequence_from_pickle(gen_seq_path_4, to_timedelta=True, end_token=None)\n",
    "generated_event_type_seqs_8, generated_timestamp_seqs_8 = load_fixed_length_sequence_from_pickle(gen_seq_path_8, to_timedelta=True, end_token=None)"
   ]
  },
  {
   "cell_type": "markdown",
   "metadata": {},
   "source": [
    "## Load D models"
   ]
  },
  {
   "cell_type": "code",
   "execution_count": 8,
   "metadata": {},
   "outputs": [],
   "source": [
    "def load_saved_D_model(D_save_path):\n",
    "    discriminator = build_D(\n",
    "        T = T,\n",
    "        event_vocab_dim = EVENT_VOCAB_DIM,\n",
    "        emb_dim = EMB_DIM,\n",
    "        hidden_dim= HIDDEN_DIM,\n",
    "        k_mixt = K_MIST\n",
    "    )\n",
    "    discriminator.build(input_shape=((BATCH_SIZE, T, 1), (BATCH_SIZE, T, 1)))    \n",
    "    discriminator.load_weights(D_save_path)\n",
    "    return discriminator"
   ]
  },
  {
   "cell_type": "code",
   "execution_count": null,
   "metadata": {},
   "outputs": [],
   "source": [
    "pretrained_D_path = '/home/lun/project-basileus/seq-gan/gan_model_weights/pretrain_40000_disc/model.tf'\n",
    "D_path_1 = '/home/lun/project-basileus/seq-gan/experiment_results/after_1_epochs/disc_weights/disc_model.tf'\n",
    "D_path_4 = '/home/lun/project-basileus/seq-gan/experiment_results/after_4_epochs/disc_weights/disc_model.tf'\n",
    "D_path_8 = '/home/lun/project-basileus/seq-gan/experiment_results/after_8_epochs/disc_weights/disc_model.tf'"
   ]
  },
  {
   "cell_type": "code",
   "execution_count": 9,
   "metadata": {},
   "outputs": [
    {
     "name": "stdout",
     "output_type": "stream",
     "text": [
      "WARNING:tensorflow:AutoGraph could not transform <bound method TimeLSTM0.call of <sgtlstm.TimeLSTM.TimeLSTM1 object at 0x7fe5ad104050>> and will run it as-is.\n",
      "Please report this to the TensorFlow team. When filing the bug, set the verbosity to 10 (on Linux, `export AUTOGRAPH_VERBOSITY=10`) and attach the full output.\n",
      "Cause: Bad argument number for Name: 3, expecting 4\n",
      "WARNING: AutoGraph could not transform <bound method TimeLSTM0.call of <sgtlstm.TimeLSTM.TimeLSTM1 object at 0x7fe5ad104050>> and will run it as-is.\n",
      "Please report this to the TensorFlow team. When filing the bug, set the verbosity to 10 (on Linux, `export AUTOGRAPH_VERBOSITY=10`) and attach the full output.\n",
      "Cause: Bad argument number for Name: 3, expecting 4\n",
      "WARNING:tensorflow:AutoGraph could not transform <bound method TimeLSTM0.call of <sgtlstm.TimeLSTM.TimeLSTM1 object at 0x7fe5a951ff50>> and will run it as-is.\n",
      "Please report this to the TensorFlow team. When filing the bug, set the verbosity to 10 (on Linux, `export AUTOGRAPH_VERBOSITY=10`) and attach the full output.\n",
      "Cause: Bad argument number for Name: 3, expecting 4\n",
      "WARNING: AutoGraph could not transform <bound method TimeLSTM0.call of <sgtlstm.TimeLSTM.TimeLSTM1 object at 0x7fe5a951ff50>> and will run it as-is.\n",
      "Please report this to the TensorFlow team. When filing the bug, set the verbosity to 10 (on Linux, `export AUTOGRAPH_VERBOSITY=10`) and attach the full output.\n",
      "Cause: Bad argument number for Name: 3, expecting 4\n",
      "WARNING:tensorflow:AutoGraph could not transform <bound method TimeLSTM0.call of <sgtlstm.TimeLSTM.TimeLSTM1 object at 0x7fe5ab1b8810>> and will run it as-is.\n",
      "Please report this to the TensorFlow team. When filing the bug, set the verbosity to 10 (on Linux, `export AUTOGRAPH_VERBOSITY=10`) and attach the full output.\n",
      "Cause: Bad argument number for Name: 3, expecting 4\n",
      "WARNING: AutoGraph could not transform <bound method TimeLSTM0.call of <sgtlstm.TimeLSTM.TimeLSTM1 object at 0x7fe5ab1b8810>> and will run it as-is.\n",
      "Please report this to the TensorFlow team. When filing the bug, set the verbosity to 10 (on Linux, `export AUTOGRAPH_VERBOSITY=10`) and attach the full output.\n",
      "Cause: Bad argument number for Name: 3, expecting 4\n",
      "WARNING:tensorflow:AutoGraph could not transform <bound method TimeLSTM0.call of <sgtlstm.TimeLSTM.TimeLSTM1 object at 0x7fe5aafdcc90>> and will run it as-is.\n",
      "Please report this to the TensorFlow team. When filing the bug, set the verbosity to 10 (on Linux, `export AUTOGRAPH_VERBOSITY=10`) and attach the full output.\n",
      "Cause: Bad argument number for Name: 3, expecting 4\n",
      "WARNING: AutoGraph could not transform <bound method TimeLSTM0.call of <sgtlstm.TimeLSTM.TimeLSTM1 object at 0x7fe5aafdcc90>> and will run it as-is.\n",
      "Please report this to the TensorFlow team. When filing the bug, set the verbosity to 10 (on Linux, `export AUTOGRAPH_VERBOSITY=10`) and attach the full output.\n",
      "Cause: Bad argument number for Name: 3, expecting 4\n"
     ]
    }
   ],
   "source": [
    "D_pretrain = load_saved_D_model(pretrained_D_path)\n",
    "D_1 = load_saved_D_model(D_path_1)\n",
    "D_4 = load_saved_D_model(D_path_4)\n",
    "D_8 = load_saved_D_model(D_path_8)"
   ]
  },
  {
   "cell_type": "markdown",
   "metadata": {},
   "source": [
    "## Predict using pretrained genearator"
   ]
  },
  {
   "cell_type": "code",
   "execution_count": null,
   "metadata": {},
   "outputs": [],
   "source": [
    "true_data = (valid_event_type_seqs[:1000,:,:], valid_timestamp_seqs[:1000,:,:])"
   ]
  },
  {
   "cell_type": "code",
   "execution_count": 15,
   "metadata": {},
   "outputs": [],
   "source": [
    "def D_predict_analyze(D, event_type_seqs, timestamp_seqs):\n",
    "    pred_prob, pred_gaussian_log, _ = D((event_type_seqs, timestamp_seqs))    \n",
    "    return pred_prob, pred_gaussian_log"
   ]
  },
  {
   "cell_type": "markdown",
   "metadata": {},
   "source": [
    "### pre-train"
   ]
  },
  {
   "cell_type": "code",
   "execution_count": 21,
   "metadata": {},
   "outputs": [
    {
     "name": "stdout",
     "output_type": "stream",
     "text": [
      "[766]\n",
      "[661]\n"
     ]
    }
   ],
   "source": [
    "pred_prob, pred_gaussian_log = D_predict_analyze(D_pretrain, generated_event_type_seqs_pretrain, generated_timestamp_seqs_pretrain)\n",
    "print('Generated :', sum(pred_prob.numpy() > 0.5))\n",
    "\n",
    "pred_prob, pred_gaussian_log = D_predict_analyze(D_pretrain, valid_event_type_seqs[:1000,:,:], valid_timestamp_seqs[:1000,:,:])\n",
    "print('True :', sum(pred_prob.numpy() > 0.5))"
   ]
  },
  {
   "cell_type": "markdown",
   "metadata": {},
   "source": [
    "### 1 epoch"
   ]
  },
  {
   "cell_type": "code",
   "execution_count": 23,
   "metadata": {},
   "outputs": [
    {
     "name": "stdout",
     "output_type": "stream",
     "text": [
      "Generated : [1]\n",
      "True : [992]\n"
     ]
    }
   ],
   "source": [
    "pred_prob, pred_gaussian_log = D_predict_analyze(D_1, generated_event_type_seqs_1, generated_timestamp_seqs_1)\n",
    "print('Generated :', sum(pred_prob.numpy() > 0.5))\n",
    "\n",
    "pred_prob, pred_gaussian_log = D_predict_analyze(D_1, valid_event_type_seqs[:1000,:,:], valid_timestamp_seqs[:1000,:,:])\n",
    "print('True :', sum(pred_prob.numpy() > 0.5))"
   ]
  },
  {
   "cell_type": "markdown",
   "metadata": {},
   "source": [
    "### 4 epoch"
   ]
  },
  {
   "cell_type": "code",
   "execution_count": 25,
   "metadata": {},
   "outputs": [
    {
     "name": "stdout",
     "output_type": "stream",
     "text": [
      "Generated : [1]\n",
      "True : [1000]\n"
     ]
    }
   ],
   "source": [
    "pred_prob, pred_gaussian_log = D_predict_analyze(D_4, generated_event_type_seqs_4, generated_timestamp_seqs_4)\n",
    "print('Generated :', sum(pred_prob.numpy() > 0.5))\n",
    "\n",
    "pred_prob, pred_gaussian_log = D_predict_analyze(D_4, valid_event_type_seqs[:1000,:,:], valid_timestamp_seqs[:1000,:,:])\n",
    "print('True :', sum(pred_prob.numpy() > 0.5))"
   ]
  },
  {
   "cell_type": "markdown",
   "metadata": {},
   "source": [
    "### 8 epoch"
   ]
  },
  {
   "cell_type": "code",
   "execution_count": 27,
   "metadata": {},
   "outputs": [
    {
     "name": "stdout",
     "output_type": "stream",
     "text": [
      "Generated : [0]\n",
      "True : [1000]\n"
     ]
    }
   ],
   "source": [
    "pred_prob, pred_gaussian_log = D_predict_analyze(D_8, generated_event_type_seqs_8, generated_timestamp_seqs_8)\n",
    "print('Generated :', sum(pred_prob.numpy() > 0.5))\n",
    "\n",
    "pred_prob, pred_gaussian_log = D_predict_analyze(D_8, valid_event_type_seqs[:1000,:,:], valid_timestamp_seqs[:1000,:,:])\n",
    "print('True :', sum(pred_prob.numpy() > 0.5))"
   ]
  },
  {
   "cell_type": "code",
   "execution_count": null,
   "metadata": {},
   "outputs": [],
   "source": []
  }
 ],
 "metadata": {
  "kernelspec": {
   "display_name": "Python 3",
   "language": "python",
   "name": "python3"
  },
  "language_info": {
   "codemirror_mode": {
    "name": "ipython",
    "version": 3
   },
   "file_extension": ".py",
   "mimetype": "text/x-python",
   "name": "python",
   "nbconvert_exporter": "python",
   "pygments_lexer": "ipython3",
   "version": "3.7.6"
  }
 },
 "nbformat": 4,
 "nbformat_minor": 4
}
