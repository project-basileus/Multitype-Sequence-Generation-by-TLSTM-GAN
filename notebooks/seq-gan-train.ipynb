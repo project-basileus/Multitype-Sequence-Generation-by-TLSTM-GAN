{
 "cells": [
  {
   "cell_type": "code",
   "execution_count": 1,
   "metadata": {},
   "outputs": [],
   "source": [
    "import os \n",
    "import sys\n",
    "from tqdm import tqdm\n",
    "import importlib\n",
    "import numpy as np\n",
    "import pickle\n",
    "import tensorflow as tf\n",
    "import matplotlib.pyplot as plt\n",
    "\n",
    "module_path = '/home/lun/project-basileus/seq-gan/'\n",
    "if module_path not in sys.path:\n",
    "    sys.path.append(module_path)"
   ]
  },
  {
   "cell_type": "code",
   "execution_count": 2,
   "metadata": {},
   "outputs": [],
   "source": [
    "if 'sgtlstm' in sys.modules:\n",
    "    importlib.reload(sys.modules['sgtlstm'])\n",
    "\n",
    "from sgtlstm.utils import load_fixed_length_sequence_from_pickle, create_dataset, recover_timedelta_to_timestamp\n",
    "from sgtlstm.SeqGan import build_G, build_D, build_critic\n",
    "from sgtlstm.TimeLSTM import TimeLSTM0, TimeLSTM1, TimeLSTM2, TimeLSTM3\n",
    "# from sgtlstm.train import generate_batch_sequence_by_rollout, train_discriminator, train_generator"
   ]
  },
  {
   "cell_type": "markdown",
   "metadata": {},
   "source": [
    "## Load data "
   ]
  },
  {
   "cell_type": "code",
   "execution_count": 3,
   "metadata": {},
   "outputs": [],
   "source": [
    "pos_data_path = '/home/lun/project-basileus/seq-gan/data/long_seqs_v5/positive_long_sequences.pickle'\n",
    "neg_data_path = '/home/lun/project-basileus/seq-gan/data/long_seqs_v5/negative_long_sequences.pickle'\n",
    "\n",
    "pos_event_type_seqs, pos_timestamp_seqs = load_fixed_length_sequence_from_pickle(pos_data_path, to_timedelta=True, end_token=0)\n",
    "neg_event_type_seqs, neg_timestamp_seqs = load_fixed_length_sequence_from_pickle(neg_data_path, to_timedelta=True, end_token=0)"
   ]
  },
  {
   "cell_type": "markdown",
   "metadata": {},
   "source": [
    "## Global Variables "
   ]
  },
  {
   "cell_type": "code",
   "execution_count": 4,
   "metadata": {},
   "outputs": [],
   "source": [
    "BATCH_SIZE = 64\n",
    "T = 20 + 1\n",
    "VOCAB = ['END/PADDING', 'INIT', 'start', 'view', 'click', 'install']\n",
    "EVENT_VOCAB_DIM = len(VOCAB)\n",
    "EMB_DIM = 5\n",
    "HIDDEN_DIM = 32\n",
    "\n",
    "END_TOKEN = 0\n",
    "MAX_TIME = 1024"
   ]
  },
  {
   "cell_type": "markdown",
   "metadata": {},
   "source": [
    "## Load pretrained model"
   ]
  },
  {
   "cell_type": "code",
   "execution_count": 28,
   "metadata": {},
   "outputs": [],
   "source": [
    "discriminator = build_D(\n",
    "    T = T,\n",
    "    event_vocab_dim = EVENT_VOCAB_DIM,\n",
    "    emb_dim = EMB_DIM,\n",
    "    hidden_dim= HIDDEN_DIM,\n",
    ")\n",
    "\n",
    "# discriminator.build(input_shape=((BATCH_SIZE, T, 1), (BATCH_SIZE, T, 1)))\n",
    "\n",
    "# D_save_path = './experiment_results/long_seqs_no_gm/init_pretrained/pretrained_disc_weights/model.tf'\n",
    "# discriminator.load_weights(D_save_path)"
   ]
  },
  {
   "cell_type": "code",
   "execution_count": 29,
   "metadata": {},
   "outputs": [
    {
     "name": "stdout",
     "output_type": "stream",
     "text": [
      "minimum variance 1 !\n"
     ]
    },
    {
     "data": {
      "text/plain": [
       "<tensorflow.python.training.tracking.util.CheckpointLoadStatus at 0x7f7582f91fd0>"
      ]
     },
     "execution_count": 29,
     "metadata": {},
     "output_type": "execute_result"
    }
   ],
   "source": [
    "generator = build_G(\n",
    "    batch_size=BATCH_SIZE,\n",
    "    event_vocab_dim = EVENT_VOCAB_DIM,\n",
    "    emb_dim = EMB_DIM,\n",
    "    hidden_dim= HIDDEN_DIM)\n",
    "\n",
    "generator.build(input_shape=((BATCH_SIZE, T, 1), (BATCH_SIZE, T, 1)))\n",
    "\n",
    "G_save_path = './experiment_results/long_seqs_no_gm/init_pretrained/pretrained_gen_weights/model.tf'\n",
    "generator.load_weights(G_save_path)"
   ]
  },
  {
   "cell_type": "markdown",
   "metadata": {},
   "source": [
    "## Create a critic network"
   ]
  },
  {
   "cell_type": "code",
   "execution_count": 30,
   "metadata": {},
   "outputs": [
    {
     "name": "stdout",
     "output_type": "stream",
     "text": [
      "using sigmoid!\n"
     ]
    }
   ],
   "source": [
    "critic = build_critic(\n",
    "    batch_size=BATCH_SIZE,\n",
    "    event_vocab_dim = EVENT_VOCAB_DIM,\n",
    "    emb_dim = EMB_DIM,\n",
    "    hidden_dim= HIDDEN_DIM)"
   ]
  },
  {
   "cell_type": "markdown",
   "metadata": {},
   "source": [
    "# functions in training"
   ]
  },
  {
   "cell_type": "code",
   "execution_count": 31,
   "metadata": {},
   "outputs": [],
   "source": [
    "import numpy as np\n",
    "import tensorflow as tf\n",
    "from tensorflow.keras.models import Model\n",
    "from tensorflow.keras import Sequential\n",
    "from tensorflow.keras.optimizers import Adam, SGD\n",
    "from tensorflow.keras.layers import Input, LSTM, Embedding, Reshape, Dense\n",
    "import tensorflow_probability as tfp\n",
    "from tensorflow_probability import distributions as tfd\n",
    "\n",
    "from sgtlstm.TimeLSTM import TimeLSTM0, TimeLSTM1, TimeLSTM2, TimeLSTM3\n",
    "\n",
    "tf.keras.backend.set_floatx('float64')"
   ]
  },
  {
   "cell_type": "code",
   "execution_count": 32,
   "metadata": {},
   "outputs": [],
   "source": [
    "def generate_batch_sequence_by_rollout(\n",
    "        G, batch_size, T, end_token=0, init_token=1.0, max_time=1024, verbose=False):\n",
    "    # Begin from dummy init state (init_token=1, init_timestamp=0.0)\n",
    "    curr_state_et = np.zeros([batch_size, 1, 1])\n",
    "    curr_state_et[:, 0, 0] = init_token\n",
    "\n",
    "    curr_state_ts = np.zeros([batch_size, 1, 1])\n",
    "    curr_state_ts[:, 0, 0] = 0.0\n",
    "\n",
    "    all_state_et = curr_state_et\n",
    "    all_state_ts = curr_state_ts\n",
    "\n",
    "    episode_token_probs = tf.constant(1., dtype=tf.float64, shape=(batch_size, 1))\n",
    "    gaussian_log = tf.constant(0., dtype=tf.float64, shape=(batch_size, 1))\n",
    "\n",
    "    G.reset_states()\n",
    "\n",
    "    for step in range(1, T):  # sequence length\n",
    "        token_prob, time_out = G([curr_state_et, curr_state_ts])\n",
    "\n",
    "        sampled_et = tf.random.categorical(tf.math.log(token_prob), num_samples=1, dtype=tf.int32)\n",
    "        sampled_et = tf.reshape(sampled_et, [batch_size, 1, 1]).numpy().astype(float)\n",
    "\n",
    "        # get the chosen token probability per batch for each step\n",
    "        sampled_et_indices = sampled_et.squeeze().astype(int).tolist()\n",
    "        sampled_token_prob = token_prob.numpy()[np.arange(len(token_prob)), sampled_et_indices].reshape((batch_size, 1))\n",
    "        episode_token_probs = tf.concat([episode_token_probs, sampled_token_prob], axis=1)\n",
    "\n",
    "        # stop genererating once hit end_token\n",
    "        cond_end_token = tf.equal(curr_state_et, end_token)\n",
    "        curr_state_et = tf.where(cond_end_token, curr_state_et, sampled_et)\n",
    "        all_state_et = tf.concat([all_state_et, curr_state_et], axis=1)\n",
    "\n",
    "        # generate one timstamp using time_out\n",
    "        sampled_ts_raw = time_out.sample()\n",
    "        sampled_ts = tf.clip_by_value(tf.reshape(sampled_ts_raw, (batch_size, 1, 1))\n",
    "                                      , clip_value_min=1, clip_value_max=max_time)\n",
    "\n",
    "        # get the gaussian log likelihood for the sampled timestamps\n",
    "        sampled_gaussian_log = time_out.log_prob(tf.reshape(sampled_ts, (batch_size, 1)))\n",
    "        gaussian_log = tf.concat([gaussian_log, sampled_gaussian_log], axis=1)\n",
    "\n",
    "        # stop generating once hit end_token\n",
    "        curr_state_ts = tf.where(cond_end_token, curr_state_et, sampled_ts)\n",
    "        all_state_ts = tf.concat([all_state_ts, curr_state_ts], axis=1)\n",
    "\n",
    "    return all_state_et, all_state_ts, episode_token_probs, gaussian_log\n"
   ]
  },
  {
   "cell_type": "code",
   "execution_count": 33,
   "metadata": {},
   "outputs": [],
   "source": [
    "def generate_sequences(N_gen, generator, batch_size, T, recover_to_timestamp=True):\n",
    "    \"\"\"\n",
    "        Generate sequences batch per batch\n",
    "    :param N_gen: total number of seqs to be generated\n",
    "    :param generator:\n",
    "    :param batch_size:\n",
    "    :param T:\n",
    "    :param recover_to_timestamp: whether to recover time deltas to absolute timestamps\n",
    "    :return: a python list of shape [N_gen, T, 2]\n",
    "    \"\"\"\n",
    "    all_type_seq = None\n",
    "    all_time_seq = None\n",
    "    N = 0\n",
    "\n",
    "    while N < N_gen:\n",
    "        batch_state_et, batch_state_ts, _, _ = generate_batch_sequence_by_rollout(generator, batch_size, T,\n",
    "                                                                                  end_token=0, init_token=1.0,\n",
    "                                                                                  max_time=1024, verbose=False)\n",
    "\n",
    "        batch_type_seq = batch_state_et.numpy()\n",
    "        batch_time_seq = batch_state_ts.numpy()\n",
    "\n",
    "        # recover time delta to time stamps\n",
    "        if recover_to_timestamp:\n",
    "            batch_time_seq = np.cumsum(batch_time_seq, axis=1)\n",
    "\n",
    "        if all_type_seq is None:\n",
    "            all_type_seq = batch_type_seq\n",
    "        else:\n",
    "            all_type_seq = np.concatenate([all_type_seq, batch_type_seq], axis=0)\n",
    "\n",
    "        if all_time_seq is None:\n",
    "            all_time_seq = batch_time_seq\n",
    "        else:\n",
    "            all_time_seq = np.concatenate([all_time_seq, batch_time_seq], axis=0)\n",
    "\n",
    "        N += batch_size\n",
    "\n",
    "    # concat type and time in depth\n",
    "    concated_seq_list = np.concatenate([all_type_seq, all_time_seq], axis=2).tolist()\n",
    "\n",
    "    return concated_seq_list[:N_gen]\n"
   ]
  },
  {
   "cell_type": "code",
   "execution_count": 34,
   "metadata": {},
   "outputs": [],
   "source": [
    "def train_generator(generator, discriminator, critic_network, batch_size, T, verbose=False,\n",
    "                    weight_gaussian_loss=1,\n",
    "                    optimizer=Adam(lr=0.001)):\n",
    "    # reset hidden states for critic network per batch\n",
    "    critic_network.reset_states()\n",
    "\n",
    "    with tf.GradientTape(persistent=True) as tape:\n",
    "        states_et, states_ts, episode_token_probs, gaussian_log = generate_batch_sequence_by_rollout(generator,\n",
    "                                                                                                     batch_size, T,\n",
    "                                                                                                     end_token=0,\n",
    "                                                                                                     init_token=1.0,\n",
    "                                                                                                     max_time=1024,\n",
    "                                                                                                     verbose=False)\n",
    "        ce_loss_list = []\n",
    "        gaussian_list = []\n",
    "        critic_loss_list = []\n",
    "\n",
    "        # run disc on whole sequence\n",
    "        # true_return is the total reward for generating this seq\n",
    "        true_return = discriminator((states_et, states_ts))\n",
    "\n",
    "        for i in range(0, T):\n",
    "            # TODO: should we include the init token in loss?\n",
    "            curr_state_et = states_et[:, i:i + 1, :]\n",
    "            curr_state_ts = states_ts[:, i:i + 1, :]\n",
    "\n",
    "            curr_token_prob = episode_token_probs[:, i:i + 1]\n",
    "            curr_gaussian_log = gaussian_log[:, i:i + 1]\n",
    "\n",
    "            q_value = critic_network([curr_state_et, curr_state_ts])\n",
    "            advantage = true_return - q_value\n",
    "\n",
    "            # At this point in history, the critic estimated that we would get a\n",
    "            # total reward = `q_value` in the future. We took an action with log probability\n",
    "            # of `log_prob` and ended up recieving a total reward = `true_return`.\n",
    "            # The actor must be updated so that it predicts an action that leads to\n",
    "            # high rewards (compared to critic's estimate) with high probability.\n",
    "\n",
    "            mask = tf.squeeze(curr_state_et)\n",
    "            curr_state_et = tf.boolean_mask(curr_state_et, mask)\n",
    "            curr_state_ts = tf.boolean_mask(curr_state_ts, mask)\n",
    "            curr_token_prob = tf.boolean_mask(curr_token_prob, mask)\n",
    "            curr_gaussian_log = tf.boolean_mask(curr_gaussian_log, mask)\n",
    "\n",
    "            masked_q_value = tf.boolean_mask(q_value, mask)\n",
    "            masked_advantage = tf.boolean_mask(advantage, mask)\n",
    "            masked_true_return = tf.boolean_mask(true_return, mask)            \n",
    "            \n",
    "            ce_loss_list.append(-tf.reduce_mean(tf.math.log(curr_token_prob) * masked_advantage))\n",
    "            gaussian_list.append(-tf.reduce_mean(curr_gaussian_log * masked_advantage))\n",
    "\n",
    "            ce_loss_list.append(-tf.reduce_mean(tf.math.log(curr_token_prob)))\n",
    "            gaussian_list.append(-tf.reduce_mean(curr_gaussian_log))\n",
    "\n",
    "            critic_loss_list.append(tf.reduce_mean(tf.keras.losses.MSE(masked_true_return, masked_q_value)))\n",
    "\n",
    "        total_ce_loss = tf.reduce_sum(ce_loss_list)\n",
    "        total_gaussian_loss = tf.reduce_sum(gaussian_list)\n",
    "        total_critic_loss = tf.reduce_sum(critic_loss_list)        \n",
    "        total_generator_loss = total_ce_loss + weight_gaussian_loss * total_gaussian_loss\n",
    "\n",
    "        average_true_return = tf.reduce_mean(true_return)\n",
    "\n",
    "        if verbose:\n",
    "            print('generator token loss:{}'.format(total_ce_loss))\n",
    "            print('generator gaussian loss:{}'.format(total_gaussian_loss))\n",
    "            print('generator total loss:{}'.format(total_generator_loss))\n",
    "            print('generator critic loss:{}'.format(total_critic_loss))\n",
    "            print('average true_return: {}'.format(average_true_return))\n",
    "\n",
    "    # update generator\n",
    "    generator_grads = tape.gradient(total_generator_loss, generator.trainable_variables)\n",
    "    optimizer.apply_gradients(zip(generator_grads, generator.trainable_variables))\n",
    "\n",
    "    # update critic network\n",
    "    critic_grads = tape.gradient(total_critic_loss, critic_network.trainable_variables)\n",
    "    optimizer.apply_gradients(zip(critic_grads, critic_network.trainable_variables))\n",
    "\n",
    "    # explicitly drop tape because persistent=True\n",
    "    del tape\n",
    "\n",
    "    return total_ce_loss, total_gaussian_loss, total_critic_loss, average_true_return"
   ]
  },
  {
   "cell_type": "code",
   "execution_count": 35,
   "metadata": {},
   "outputs": [],
   "source": [
    "def train_discriminator(features_batch, generator, discriminator, batch_size, T, verbose=False,\n",
    "                        optimizer=Adam(lr=0.001)):\n",
    "    # train the discriminator\n",
    "    with tf.GradientTape() as tape:\n",
    "        real_et, real_ts = features_batch\n",
    "        real_labels = tf.ones((batch_size, 1))  # (batch_size, 1)\n",
    "\n",
    "        generated_et, generated_ts, episode_token_probs, gaussian_log = generate_batch_sequence_by_rollout(generator,\n",
    "                                                                                                           batch_size,\n",
    "                                                                                                           T,\n",
    "                                                                                                           end_token=0,\n",
    "                                                                                                           init_token=1.0,\n",
    "                                                                                                           max_time=1024,\n",
    "                                                                                                           verbose=False)\n",
    "        generated_labels = tf.zeros((batch_size, 1))\n",
    "\n",
    "        total_et = tf.concat([generated_et, real_et], axis=0)\n",
    "        total_ts = tf.concat([generated_ts, real_ts], axis=0)\n",
    "        total_labels = tf.concat([generated_labels, real_labels], axis=0)\n",
    "\n",
    "        # train discriminator\n",
    "        pred_prob = discriminator((total_et, total_ts))\n",
    "\n",
    "        # cross-entropy loss\n",
    "        ce_loss = tf.reduce_mean(\n",
    "            tf.keras.losses.binary_crossentropy(total_labels, pred_prob, from_logits=False))\n",
    "        discriminator_loss = ce_loss\n",
    "\n",
    "        if verbose:\n",
    "            print('total discriminator loss:{}'.format(discriminator_loss))\n",
    "\n",
    "    grads = tape.gradient(discriminator_loss, discriminator.trainable_variables)\n",
    "    optimizer.apply_gradients(zip(grads, discriminator.trainable_variables))\n",
    "\n",
    "    return ce_loss"
   ]
  },
  {
   "cell_type": "markdown",
   "metadata": {},
   "source": [
    "# Train G and D"
   ]
  },
  {
   "cell_type": "code",
   "execution_count": 36,
   "metadata": {},
   "outputs": [
    {
     "data": {
      "text/plain": [
       "100000"
      ]
     },
     "execution_count": 36,
     "metadata": {},
     "output_type": "execute_result"
    }
   ],
   "source": [
    "train_et = pos_event_type_seqs\n",
    "train_ts = pos_timestamp_seqs\n",
    "\n",
    "train_labels = np.ones((pos_event_type_seqs.shape[0], 1))\n",
    "\n",
    "train_features = (train_et, train_ts)\n",
    "N_train = train_et.shape[0]\n",
    "N_train"
   ]
  },
  {
   "cell_type": "code",
   "execution_count": 37,
   "metadata": {},
   "outputs": [],
   "source": [
    "optimizer = tf.keras.optimizers.Adam(lr=1e-3)\n",
    "# optimizer = SGD(learning_rate=1e-4)\n",
    "EPOCHS = 2\n",
    "# _TOTAL_STEPS = int(EPOCHS * N_train / BATCH_SIZE)\n",
    "_TOTAL_STEPS = 1000\n",
    "\n",
    "dataset = create_dataset(train_features,\n",
    "                         train_labels,\n",
    "                         batch_size=BATCH_SIZE,\n",
    "                         epochs=EPOCHS,\n",
    "                         buffer_size=N_train)\n",
    "\n",
    "gen_token_loss_history = []\n",
    "gen_gaussian_loss_history = []\n",
    "critic_network_loss_history = []\n",
    "average_true_return_history = []\n",
    "\n",
    "disc_ce_loss_history = []\n",
    "\n",
    "WEIGHT_GAUSSIAN_LOSS = 1\n",
    "_G_STEPS = 2\n",
    "_D_STEPS = 1"
   ]
  },
  {
   "cell_type": "code",
   "execution_count": null,
   "metadata": {},
   "outputs": [
    {
     "name": "stderr",
     "output_type": "stream",
     "text": [
      "0it [00:00, ?it/s]"
     ]
    },
    {
     "name": "stdout",
     "output_type": "stream",
     "text": [
      "Training Step: 1\n",
      "generator token loss:22.796257740984323\n",
      "generator gaussian loss:63.61086189347006\n",
      "generator total loss:86.40711963445438\n",
      "generator critic loss:0.17821988375984285\n",
      "average true_return: 0.3700852330782999\n",
      "WARNING:tensorflow:Gradients do not exist for variables ['time_lstm_6/recurrent_kernel:0', 'time_lstm_6/input_gate_peephole_weights:0', 'time_lstm_6/forget_gate_peephole_weights:0', 'time_lstm_6/output_gate_peephole_weights:0', 'token_prob_2/kernel:0', 'token_prob_2/bias:0'] when minimizing the loss.\n",
      "generator token loss:23.334678231314868\n",
      "generator gaussian loss:64.32432482576189\n",
      "generator total loss:87.65900305707676\n",
      "generator critic loss:0.15560086589326166\n",
      "average true_return: 0.37091629173850904\n",
      "WARNING:tensorflow:Gradients do not exist for variables ['time_lstm_6/recurrent_kernel:0', 'time_lstm_6/input_gate_peephole_weights:0', 'time_lstm_6/forget_gate_peephole_weights:0', 'time_lstm_6/output_gate_peephole_weights:0', 'token_prob_2/kernel:0', 'token_prob_2/bias:0'] when minimizing the loss.\n",
      "total discriminator loss:0.7273031986111469\n"
     ]
    },
    {
     "name": "stderr",
     "output_type": "stream",
     "text": [
      "1it [00:04,  4.85s/it]"
     ]
    },
    {
     "name": "stdout",
     "output_type": "stream",
     "text": [
      "Training Step: 2\n",
      "generator token loss:23.033770665203203\n",
      "generator gaussian loss:65.13910744838222\n",
      "generator total loss:88.17287811358543\n",
      "generator critic loss:0.12556359162578068\n",
      "average true_return: 0.3743011502773669\n",
      "WARNING:tensorflow:Gradients do not exist for variables ['time_lstm_6/recurrent_kernel:0', 'time_lstm_6/input_gate_peephole_weights:0', 'time_lstm_6/forget_gate_peephole_weights:0', 'time_lstm_6/output_gate_peephole_weights:0', 'token_prob_2/kernel:0', 'token_prob_2/bias:0'] when minimizing the loss.\n",
      "generator token loss:23.414294947727374\n",
      "generator gaussian loss:65.73331335445343\n",
      "generator total loss:89.1476083021808\n",
      "generator critic loss:0.1093400136335405\n",
      "average true_return: 0.37433588839975485\n",
      "WARNING:tensorflow:Gradients do not exist for variables ['time_lstm_6/recurrent_kernel:0', 'time_lstm_6/input_gate_peephole_weights:0', 'time_lstm_6/forget_gate_peephole_weights:0', 'time_lstm_6/output_gate_peephole_weights:0', 'token_prob_2/kernel:0', 'token_prob_2/bias:0'] when minimizing the loss.\n",
      "total discriminator loss:0.7255377537987038\n"
     ]
    },
    {
     "name": "stderr",
     "output_type": "stream",
     "text": [
      "2it [00:09,  4.70s/it]"
     ]
    },
    {
     "name": "stdout",
     "output_type": "stream",
     "text": [
      "Training Step: 3\n",
      "generator token loss:23.816999406150153\n",
      "generator gaussian loss:66.04071858869887\n",
      "generator total loss:89.85771799484903\n",
      "generator critic loss:0.08085755791212974\n",
      "average true_return: 0.3789667287541032\n",
      "WARNING:tensorflow:Gradients do not exist for variables ['time_lstm_6/recurrent_kernel:0', 'time_lstm_6/input_gate_peephole_weights:0', 'time_lstm_6/forget_gate_peephole_weights:0', 'time_lstm_6/output_gate_peephole_weights:0', 'token_prob_2/kernel:0', 'token_prob_2/bias:0'] when minimizing the loss.\n",
      "generator token loss:23.93202303982447\n",
      "generator gaussian loss:66.62505085601867\n",
      "generator total loss:90.55707389584315\n",
      "generator critic loss:0.06844975372705968\n",
      "average true_return: 0.37847192693709075\n",
      "WARNING:tensorflow:Gradients do not exist for variables ['time_lstm_6/recurrent_kernel:0', 'time_lstm_6/input_gate_peephole_weights:0', 'time_lstm_6/forget_gate_peephole_weights:0', 'time_lstm_6/output_gate_peephole_weights:0', 'token_prob_2/kernel:0', 'token_prob_2/bias:0'] when minimizing the loss.\n",
      "total discriminator loss:0.7226778461105166\n"
     ]
    },
    {
     "name": "stderr",
     "output_type": "stream",
     "text": [
      "3it [00:13,  4.68s/it]"
     ]
    },
    {
     "name": "stdout",
     "output_type": "stream",
     "text": [
      "Training Step: 4\n",
      "generator token loss:24.22262777367221\n",
      "generator gaussian loss:67.24242599228815\n",
      "generator total loss:91.46505376596036\n",
      "generator critic loss:0.047067191424493046\n",
      "average true_return: 0.38291906887428484\n",
      "WARNING:tensorflow:Gradients do not exist for variables ['time_lstm_6/recurrent_kernel:0', 'time_lstm_6/input_gate_peephole_weights:0', 'time_lstm_6/forget_gate_peephole_weights:0', 'time_lstm_6/output_gate_peephole_weights:0', 'token_prob_2/kernel:0', 'token_prob_2/bias:0'] when minimizing the loss.\n",
      "generator token loss:23.956638556342984\n",
      "generator gaussian loss:67.95692721113717\n",
      "generator total loss:91.91356576748015\n",
      "generator critic loss:0.03620689855677682\n",
      "average true_return: 0.38322390520243355\n",
      "WARNING:tensorflow:Gradients do not exist for variables ['time_lstm_6/recurrent_kernel:0', 'time_lstm_6/input_gate_peephole_weights:0', 'time_lstm_6/forget_gate_peephole_weights:0', 'time_lstm_6/output_gate_peephole_weights:0', 'token_prob_2/kernel:0', 'token_prob_2/bias:0'] when minimizing the loss.\n",
      "total discriminator loss:0.7200183968763791\n"
     ]
    },
    {
     "name": "stderr",
     "output_type": "stream",
     "text": [
      "4it [00:17,  4.51s/it]"
     ]
    },
    {
     "name": "stdout",
     "output_type": "stream",
     "text": [
      "Training Step: 5\n",
      "generator token loss:24.476752122375682\n",
      "generator gaussian loss:68.483016690203\n",
      "generator total loss:92.95976881257869\n",
      "generator critic loss:0.02087845310003088\n",
      "average true_return: 0.3894972766421816\n",
      "WARNING:tensorflow:Gradients do not exist for variables ['time_lstm_6/recurrent_kernel:0', 'time_lstm_6/input_gate_peephole_weights:0', 'time_lstm_6/forget_gate_peephole_weights:0', 'time_lstm_6/output_gate_peephole_weights:0', 'token_prob_2/kernel:0', 'token_prob_2/bias:0'] when minimizing the loss.\n",
      "generator token loss:24.7274019078056\n",
      "generator gaussian loss:68.63263914652283\n",
      "generator total loss:93.36004105432843\n",
      "generator critic loss:0.0160303259643175\n",
      "average true_return: 0.38954242808526607\n",
      "WARNING:tensorflow:Gradients do not exist for variables ['time_lstm_6/recurrent_kernel:0', 'time_lstm_6/input_gate_peephole_weights:0', 'time_lstm_6/forget_gate_peephole_weights:0', 'time_lstm_6/output_gate_peephole_weights:0', 'token_prob_2/kernel:0', 'token_prob_2/bias:0'] when minimizing the loss.\n",
      "total discriminator loss:0.7173505359325302\n"
     ]
    },
    {
     "name": "stderr",
     "output_type": "stream",
     "text": [
      "5it [00:22,  4.52s/it]"
     ]
    },
    {
     "name": "stdout",
     "output_type": "stream",
     "text": [
      "Training Step: 6\n",
      "generator token loss:25.010843457070845\n",
      "generator gaussian loss:69.4805847090945\n",
      "generator total loss:94.49142816616535\n",
      "generator critic loss:0.011365065490264245\n",
      "average true_return: 0.39583596142623145\n",
      "WARNING:tensorflow:Gradients do not exist for variables ['time_lstm_6/recurrent_kernel:0', 'time_lstm_6/input_gate_peephole_weights:0', 'time_lstm_6/forget_gate_peephole_weights:0', 'time_lstm_6/output_gate_peephole_weights:0', 'token_prob_2/kernel:0', 'token_prob_2/bias:0'] when minimizing the loss.\n",
      "generator token loss:25.686498274055566\n",
      "generator gaussian loss:70.25795070111732\n",
      "generator total loss:95.94444897517289\n",
      "generator critic loss:0.011957384290535472\n",
      "average true_return: 0.3956011329570921\n",
      "WARNING:tensorflow:Gradients do not exist for variables ['time_lstm_6/recurrent_kernel:0', 'time_lstm_6/input_gate_peephole_weights:0', 'time_lstm_6/forget_gate_peephole_weights:0', 'time_lstm_6/output_gate_peephole_weights:0', 'token_prob_2/kernel:0', 'token_prob_2/bias:0'] when minimizing the loss.\n",
      "total discriminator loss:0.7143797737136257\n"
     ]
    },
    {
     "name": "stderr",
     "output_type": "stream",
     "text": [
      "6it [00:27,  4.57s/it]"
     ]
    },
    {
     "name": "stdout",
     "output_type": "stream",
     "text": [
      "Training Step: 7\n",
      "generator token loss:25.674992943492434\n",
      "generator gaussian loss:70.53970918739164\n",
      "generator total loss:96.21470213088406\n",
      "generator critic loss:0.017080892052180753\n",
      "average true_return: 0.4033376383078531\n",
      "WARNING:tensorflow:Gradients do not exist for variables ['time_lstm_6/recurrent_kernel:0', 'time_lstm_6/input_gate_peephole_weights:0', 'time_lstm_6/forget_gate_peephole_weights:0', 'time_lstm_6/output_gate_peephole_weights:0', 'token_prob_2/kernel:0', 'token_prob_2/bias:0'] when minimizing the loss.\n",
      "generator token loss:25.971257899727096\n",
      "generator gaussian loss:71.50365112321359\n",
      "generator total loss:97.47490902294068\n",
      "generator critic loss:0.020665192505974827\n",
      "average true_return: 0.40299207064793674\n",
      "WARNING:tensorflow:Gradients do not exist for variables ['time_lstm_6/recurrent_kernel:0', 'time_lstm_6/input_gate_peephole_weights:0', 'time_lstm_6/forget_gate_peephole_weights:0', 'time_lstm_6/output_gate_peephole_weights:0', 'token_prob_2/kernel:0', 'token_prob_2/bias:0'] when minimizing the loss.\n",
      "total discriminator loss:0.7116050591313905\n"
     ]
    },
    {
     "name": "stderr",
     "output_type": "stream",
     "text": [
      "7it [00:31,  4.48s/it]"
     ]
    },
    {
     "name": "stdout",
     "output_type": "stream",
     "text": [
      "Training Step: 8\n",
      "generator token loss:26.327870977901444\n",
      "generator gaussian loss:71.64230314081681\n",
      "generator total loss:97.97017411871825\n",
      "generator critic loss:0.031011204188283896\n",
      "average true_return: 0.4095607551634596\n",
      "WARNING:tensorflow:Gradients do not exist for variables ['time_lstm_6/recurrent_kernel:0', 'time_lstm_6/input_gate_peephole_weights:0', 'time_lstm_6/forget_gate_peephole_weights:0', 'time_lstm_6/output_gate_peephole_weights:0', 'token_prob_2/kernel:0', 'token_prob_2/bias:0'] when minimizing the loss.\n",
      "generator token loss:26.569103440870336\n",
      "generator gaussian loss:71.49333919064172\n",
      "generator total loss:98.06244263151206\n",
      "generator critic loss:0.035201319324219923\n",
      "average true_return: 0.41114424927290294\n",
      "WARNING:tensorflow:Gradients do not exist for variables ['time_lstm_6/recurrent_kernel:0', 'time_lstm_6/input_gate_peephole_weights:0', 'time_lstm_6/forget_gate_peephole_weights:0', 'time_lstm_6/output_gate_peephole_weights:0', 'token_prob_2/kernel:0', 'token_prob_2/bias:0'] when minimizing the loss.\n",
      "total discriminator loss:0.7084873016845451\n"
     ]
    },
    {
     "name": "stderr",
     "output_type": "stream",
     "text": [
      "8it [00:36,  4.57s/it]"
     ]
    },
    {
     "name": "stdout",
     "output_type": "stream",
     "text": [
      "Training Step: 9\n",
      "generator token loss:26.3483098579269\n",
      "generator gaussian loss:72.16592955953617\n",
      "generator total loss:98.51423941746307\n",
      "generator critic loss:0.05065952096493859\n",
      "average true_return: 0.4202880357712048\n",
      "WARNING:tensorflow:Gradients do not exist for variables ['time_lstm_6/recurrent_kernel:0', 'time_lstm_6/input_gate_peephole_weights:0', 'time_lstm_6/forget_gate_peephole_weights:0', 'time_lstm_6/output_gate_peephole_weights:0', 'token_prob_2/kernel:0', 'token_prob_2/bias:0'] when minimizing the loss.\n",
      "generator token loss:26.546813618116317\n",
      "generator gaussian loss:72.78650139332707\n",
      "generator total loss:99.33331501144339\n",
      "generator critic loss:0.04957284670112038\n",
      "average true_return: 0.4201202209081799\n",
      "WARNING:tensorflow:Gradients do not exist for variables ['time_lstm_6/recurrent_kernel:0', 'time_lstm_6/input_gate_peephole_weights:0', 'time_lstm_6/forget_gate_peephole_weights:0', 'time_lstm_6/output_gate_peephole_weights:0', 'token_prob_2/kernel:0', 'token_prob_2/bias:0'] when minimizing the loss.\n",
      "total discriminator loss:0.7053193283783634\n"
     ]
    },
    {
     "name": "stderr",
     "output_type": "stream",
     "text": [
      "9it [00:40,  4.44s/it]"
     ]
    },
    {
     "name": "stdout",
     "output_type": "stream",
     "text": [
      "Training Step: 10\n",
      "generator token loss:26.7068612574294\n",
      "generator gaussian loss:72.7149683126914\n",
      "generator total loss:99.42182957012079\n",
      "generator critic loss:0.06429521464703336\n",
      "average true_return: 0.4290612558977665\n",
      "WARNING:tensorflow:Gradients do not exist for variables ['time_lstm_6/recurrent_kernel:0', 'time_lstm_6/input_gate_peephole_weights:0', 'time_lstm_6/forget_gate_peephole_weights:0', 'time_lstm_6/output_gate_peephole_weights:0', 'token_prob_2/kernel:0', 'token_prob_2/bias:0'] when minimizing the loss.\n",
      "generator token loss:26.26406985930555\n",
      "generator gaussian loss:72.23185813401382\n",
      "generator total loss:98.49592799331937\n",
      "generator critic loss:0.05744004025656306\n",
      "average true_return: 0.42867223080976313\n",
      "WARNING:tensorflow:Gradients do not exist for variables ['time_lstm_6/recurrent_kernel:0', 'time_lstm_6/input_gate_peephole_weights:0', 'time_lstm_6/forget_gate_peephole_weights:0', 'time_lstm_6/output_gate_peephole_weights:0', 'token_prob_2/kernel:0', 'token_prob_2/bias:0'] when minimizing the loss.\n",
      "total discriminator loss:0.7028296814725263\n"
     ]
    },
    {
     "name": "stderr",
     "output_type": "stream",
     "text": [
      "10it [00:45,  4.58s/it]"
     ]
    },
    {
     "name": "stdout",
     "output_type": "stream",
     "text": [
      "Training Step: 11\n",
      "generator token loss:26.68496968319332\n",
      "generator gaussian loss:72.50989927829139\n",
      "generator total loss:99.1948689614847\n",
      "generator critic loss:0.0718003162906251\n",
      "average true_return: 0.44017577529124274\n",
      "WARNING:tensorflow:Gradients do not exist for variables ['time_lstm_6/recurrent_kernel:0', 'time_lstm_6/input_gate_peephole_weights:0', 'time_lstm_6/forget_gate_peephole_weights:0', 'time_lstm_6/output_gate_peephole_weights:0', 'token_prob_2/kernel:0', 'token_prob_2/bias:0'] when minimizing the loss.\n",
      "generator token loss:26.69623127248059\n",
      "generator gaussian loss:72.48758096337272\n",
      "generator total loss:99.18381223585331\n",
      "generator critic loss:0.05968645498279735\n",
      "average true_return: 0.4391162038390678\n",
      "WARNING:tensorflow:Gradients do not exist for variables ['time_lstm_6/recurrent_kernel:0', 'time_lstm_6/input_gate_peephole_weights:0', 'time_lstm_6/forget_gate_peephole_weights:0', 'time_lstm_6/output_gate_peephole_weights:0', 'token_prob_2/kernel:0', 'token_prob_2/bias:0'] when minimizing the loss.\n",
      "total discriminator loss:0.6991138621020814\n"
     ]
    },
    {
     "name": "stderr",
     "output_type": "stream",
     "text": [
      "11it [00:49,  4.45s/it]"
     ]
    },
    {
     "name": "stdout",
     "output_type": "stream",
     "text": [
      "Training Step: 12\n",
      "generator token loss:26.592092079857085\n",
      "generator gaussian loss:72.97511386255407\n",
      "generator total loss:99.56720594241115\n",
      "generator critic loss:0.07120384714300262\n",
      "average true_return: 0.44925975759381503\n",
      "WARNING:tensorflow:Gradients do not exist for variables ['time_lstm_6/recurrent_kernel:0', 'time_lstm_6/input_gate_peephole_weights:0', 'time_lstm_6/forget_gate_peephole_weights:0', 'time_lstm_6/output_gate_peephole_weights:0', 'token_prob_2/kernel:0', 'token_prob_2/bias:0'] when minimizing the loss.\n",
      "generator token loss:26.337868339885087\n",
      "generator gaussian loss:72.6422354465262\n",
      "generator total loss:98.98010378641129\n",
      "generator critic loss:0.05976713441478809\n",
      "average true_return: 0.45017882910105367\n",
      "WARNING:tensorflow:Gradients do not exist for variables ['time_lstm_6/recurrent_kernel:0', 'time_lstm_6/input_gate_peephole_weights:0', 'time_lstm_6/forget_gate_peephole_weights:0', 'time_lstm_6/output_gate_peephole_weights:0', 'token_prob_2/kernel:0', 'token_prob_2/bias:0'] when minimizing the loss.\n",
      "total discriminator loss:0.696074402235515\n"
     ]
    },
    {
     "name": "stderr",
     "output_type": "stream",
     "text": [
      "12it [00:53,  4.38s/it]"
     ]
    },
    {
     "name": "stdout",
     "output_type": "stream",
     "text": [
      "Training Step: 13\n",
      "generator token loss:27.079354990885196\n",
      "generator gaussian loss:71.95700624777746\n",
      "generator total loss:99.03636123866265\n",
      "generator critic loss:0.06809832383690391\n",
      "average true_return: 0.45948497307145997\n",
      "WARNING:tensorflow:Gradients do not exist for variables ['time_lstm_6/recurrent_kernel:0', 'time_lstm_6/input_gate_peephole_weights:0', 'time_lstm_6/forget_gate_peephole_weights:0', 'time_lstm_6/output_gate_peephole_weights:0', 'token_prob_2/kernel:0', 'token_prob_2/bias:0'] when minimizing the loss.\n",
      "generator token loss:26.189095941801405\n",
      "generator gaussian loss:72.03570056575923\n",
      "generator total loss:98.22479650756063\n",
      "generator critic loss:0.054632107534183405\n",
      "average true_return: 0.46039412661214807\n",
      "WARNING:tensorflow:Gradients do not exist for variables ['time_lstm_6/recurrent_kernel:0', 'time_lstm_6/input_gate_peephole_weights:0', 'time_lstm_6/forget_gate_peephole_weights:0', 'time_lstm_6/output_gate_peephole_weights:0', 'token_prob_2/kernel:0', 'token_prob_2/bias:0'] when minimizing the loss.\n",
      "total discriminator loss:0.6931595190921043\n"
     ]
    },
    {
     "name": "stderr",
     "output_type": "stream",
     "text": [
      "13it [00:58,  4.53s/it]"
     ]
    },
    {
     "name": "stdout",
     "output_type": "stream",
     "text": [
      "Training Step: 14\n",
      "generator token loss:26.319614790668542\n",
      "generator gaussian loss:71.72721690477711\n",
      "generator total loss:98.04683169544565\n",
      "generator critic loss:0.06328930431922036\n",
      "average true_return: 0.47263569781319736\n",
      "WARNING:tensorflow:Gradients do not exist for variables ['time_lstm_6/recurrent_kernel:0', 'time_lstm_6/input_gate_peephole_weights:0', 'time_lstm_6/forget_gate_peephole_weights:0', 'time_lstm_6/output_gate_peephole_weights:0', 'token_prob_2/kernel:0', 'token_prob_2/bias:0'] when minimizing the loss.\n",
      "generator token loss:26.513571997239737\n",
      "generator gaussian loss:71.17014612415984\n",
      "generator total loss:97.68371812139958\n",
      "generator critic loss:0.047437914593335434\n",
      "average true_return: 0.4717878787710107\n",
      "WARNING:tensorflow:Gradients do not exist for variables ['time_lstm_6/recurrent_kernel:0', 'time_lstm_6/input_gate_peephole_weights:0', 'time_lstm_6/forget_gate_peephole_weights:0', 'time_lstm_6/output_gate_peephole_weights:0', 'token_prob_2/kernel:0', 'token_prob_2/bias:0'] when minimizing the loss.\n",
      "total discriminator loss:0.6908639433175586\n"
     ]
    },
    {
     "name": "stderr",
     "output_type": "stream",
     "text": [
      "14it [01:02,  4.52s/it]"
     ]
    },
    {
     "name": "stdout",
     "output_type": "stream",
     "text": [
      "Training Step: 15\n",
      "generator token loss:26.401247198975938\n",
      "generator gaussian loss:72.01292263260012\n",
      "generator total loss:98.41416983157606\n",
      "generator critic loss:0.05724462430267402\n",
      "average true_return: 0.4835859183872348\n",
      "WARNING:tensorflow:Gradients do not exist for variables ['time_lstm_6/recurrent_kernel:0', 'time_lstm_6/input_gate_peephole_weights:0', 'time_lstm_6/forget_gate_peephole_weights:0', 'time_lstm_6/output_gate_peephole_weights:0', 'token_prob_2/kernel:0', 'token_prob_2/bias:0'] when minimizing the loss.\n",
      "generator token loss:26.235683191341877\n",
      "generator gaussian loss:70.9891803943406\n",
      "generator total loss:97.22486358568247\n",
      "generator critic loss:0.04311170360386876\n",
      "average true_return: 0.48297722200700594\n",
      "WARNING:tensorflow:Gradients do not exist for variables ['time_lstm_6/recurrent_kernel:0', 'time_lstm_6/input_gate_peephole_weights:0', 'time_lstm_6/forget_gate_peephole_weights:0', 'time_lstm_6/output_gate_peephole_weights:0', 'token_prob_2/kernel:0', 'token_prob_2/bias:0'] when minimizing the loss.\n",
      "total discriminator loss:0.6905237579701632\n"
     ]
    },
    {
     "name": "stderr",
     "output_type": "stream",
     "text": [
      "15it [01:07,  4.43s/it]"
     ]
    },
    {
     "name": "stdout",
     "output_type": "stream",
     "text": [
      "Training Step: 16\n",
      "generator token loss:26.02386074261586\n",
      "generator gaussian loss:70.6307029067044\n",
      "generator total loss:96.65456364932027\n",
      "generator critic loss:0.04764662837922492\n",
      "average true_return: 0.4944046016681441\n",
      "WARNING:tensorflow:Gradients do not exist for variables ['time_lstm_6/recurrent_kernel:0', 'time_lstm_6/input_gate_peephole_weights:0', 'time_lstm_6/forget_gate_peephole_weights:0', 'time_lstm_6/output_gate_peephole_weights:0', 'token_prob_2/kernel:0', 'token_prob_2/bias:0'] when minimizing the loss.\n",
      "generator token loss:26.251595238839933\n",
      "generator gaussian loss:69.73459432955543\n",
      "generator total loss:95.98618956839536\n",
      "generator critic loss:0.03313822172380766\n",
      "average true_return: 0.4948905521409571\n",
      "WARNING:tensorflow:Gradients do not exist for variables ['time_lstm_6/recurrent_kernel:0', 'time_lstm_6/input_gate_peephole_weights:0', 'time_lstm_6/forget_gate_peephole_weights:0', 'time_lstm_6/output_gate_peephole_weights:0', 'token_prob_2/kernel:0', 'token_prob_2/bias:0'] when minimizing the loss.\n",
      "total discriminator loss:0.6893196923324239\n"
     ]
    },
    {
     "name": "stderr",
     "output_type": "stream",
     "text": [
      "16it [01:11,  4.41s/it]"
     ]
    },
    {
     "name": "stdout",
     "output_type": "stream",
     "text": [
      "Training Step: 17\n",
      "generator token loss:26.290788595479544\n",
      "generator gaussian loss:70.71077059610388\n",
      "generator total loss:97.00155919158342\n",
      "generator critic loss:0.039863709768138494\n",
      "average true_return: 0.5070263070558791\n",
      "WARNING:tensorflow:Gradients do not exist for variables ['time_lstm_6/recurrent_kernel:0', 'time_lstm_6/input_gate_peephole_weights:0', 'time_lstm_6/forget_gate_peephole_weights:0', 'time_lstm_6/output_gate_peephole_weights:0', 'token_prob_2/kernel:0', 'token_prob_2/bias:0'] when minimizing the loss.\n",
      "generator token loss:25.53202654018164\n",
      "generator gaussian loss:70.05240711602536\n",
      "generator total loss:95.58443365620701\n",
      "generator critic loss:0.025116409885470144\n",
      "average true_return: 0.5059656645324278\n",
      "WARNING:tensorflow:Gradients do not exist for variables ['time_lstm_6/recurrent_kernel:0', 'time_lstm_6/input_gate_peephole_weights:0', 'time_lstm_6/forget_gate_peephole_weights:0', 'time_lstm_6/output_gate_peephole_weights:0', 'token_prob_2/kernel:0', 'token_prob_2/bias:0'] when minimizing the loss.\n",
      "total discriminator loss:0.688751104584735\n"
     ]
    },
    {
     "name": "stderr",
     "output_type": "stream",
     "text": [
      "17it [01:16,  4.48s/it]"
     ]
    },
    {
     "name": "stdout",
     "output_type": "stream",
     "text": [
      "Training Step: 18\n",
      "generator token loss:25.603558190545368\n",
      "generator gaussian loss:69.8886111132566\n",
      "generator total loss:95.49216930380197\n",
      "generator critic loss:0.02799348138664117\n",
      "average true_return: 0.514810638164473\n",
      "WARNING:tensorflow:Gradients do not exist for variables ['time_lstm_6/recurrent_kernel:0', 'time_lstm_6/input_gate_peephole_weights:0', 'time_lstm_6/forget_gate_peephole_weights:0', 'time_lstm_6/output_gate_peephole_weights:0', 'token_prob_2/kernel:0', 'token_prob_2/bias:0'] when minimizing the loss.\n",
      "generator token loss:25.68363495095087\n",
      "generator gaussian loss:69.19816941485179\n",
      "generator total loss:94.88180436580267\n",
      "generator critic loss:0.018687046753250836\n",
      "average true_return: 0.5164031905981049\n",
      "WARNING:tensorflow:Gradients do not exist for variables ['time_lstm_6/recurrent_kernel:0', 'time_lstm_6/input_gate_peephole_weights:0', 'time_lstm_6/forget_gate_peephole_weights:0', 'time_lstm_6/output_gate_peephole_weights:0', 'token_prob_2/kernel:0', 'token_prob_2/bias:0'] when minimizing the loss.\n",
      "total discriminator loss:0.6889913201287097\n"
     ]
    },
    {
     "name": "stderr",
     "output_type": "stream",
     "text": [
      "18it [01:20,  4.46s/it]"
     ]
    },
    {
     "name": "stdout",
     "output_type": "stream",
     "text": [
      "Training Step: 19\n",
      "generator token loss:25.775030224420735\n",
      "generator gaussian loss:68.69799318788372\n",
      "generator total loss:94.47302341230446\n",
      "generator critic loss:0.020774650046567294\n",
      "average true_return: 0.5240970130108404\n",
      "WARNING:tensorflow:Gradients do not exist for variables ['time_lstm_6/recurrent_kernel:0', 'time_lstm_6/input_gate_peephole_weights:0', 'time_lstm_6/forget_gate_peephole_weights:0', 'time_lstm_6/output_gate_peephole_weights:0', 'token_prob_2/kernel:0', 'token_prob_2/bias:0'] when minimizing the loss.\n",
      "generator token loss:25.541493864157843\n",
      "generator gaussian loss:68.29040254296739\n",
      "generator total loss:93.83189640712523\n",
      "generator critic loss:0.012346675323448991\n",
      "average true_return: 0.5245098070938397\n",
      "WARNING:tensorflow:Gradients do not exist for variables ['time_lstm_6/recurrent_kernel:0', 'time_lstm_6/input_gate_peephole_weights:0', 'time_lstm_6/forget_gate_peephole_weights:0', 'time_lstm_6/output_gate_peephole_weights:0', 'token_prob_2/kernel:0', 'token_prob_2/bias:0'] when minimizing the loss.\n",
      "total discriminator loss:0.6891843554071122\n"
     ]
    },
    {
     "name": "stderr",
     "output_type": "stream",
     "text": [
      "19it [01:24,  4.40s/it]"
     ]
    },
    {
     "name": "stdout",
     "output_type": "stream",
     "text": [
      "Training Step: 20\n",
      "generator token loss:24.97164649672772\n",
      "generator gaussian loss:68.02104829688048\n",
      "generator total loss:92.9926947936082\n",
      "generator critic loss:0.012291456455730793\n",
      "average true_return: 0.5308341956780287\n",
      "WARNING:tensorflow:Gradients do not exist for variables ['time_lstm_6/recurrent_kernel:0', 'time_lstm_6/input_gate_peephole_weights:0', 'time_lstm_6/forget_gate_peephole_weights:0', 'time_lstm_6/output_gate_peephole_weights:0', 'token_prob_2/kernel:0', 'token_prob_2/bias:0'] when minimizing the loss.\n",
      "generator token loss:24.931265540142995\n",
      "generator gaussian loss:67.916123257063\n",
      "generator total loss:92.84738879720601\n",
      "generator critic loss:0.0068085286345757265\n",
      "average true_return: 0.5297069291089757\n",
      "WARNING:tensorflow:Gradients do not exist for variables ['time_lstm_6/recurrent_kernel:0', 'time_lstm_6/input_gate_peephole_weights:0', 'time_lstm_6/forget_gate_peephole_weights:0', 'time_lstm_6/output_gate_peephole_weights:0', 'token_prob_2/kernel:0', 'token_prob_2/bias:0'] when minimizing the loss.\n",
      "total discriminator loss:0.685604248931835\n"
     ]
    },
    {
     "name": "stderr",
     "output_type": "stream",
     "text": [
      "20it [01:29,  4.35s/it]"
     ]
    },
    {
     "name": "stdout",
     "output_type": "stream",
     "text": [
      "Training Step: 21\n",
      "generator token loss:25.029304598944663\n",
      "generator gaussian loss:67.4062833847925\n",
      "generator total loss:92.43558798373716\n",
      "generator critic loss:0.007277943697897951\n",
      "average true_return: 0.5385569425450634\n",
      "WARNING:tensorflow:Gradients do not exist for variables ['time_lstm_6/recurrent_kernel:0', 'time_lstm_6/input_gate_peephole_weights:0', 'time_lstm_6/forget_gate_peephole_weights:0', 'time_lstm_6/output_gate_peephole_weights:0', 'token_prob_2/kernel:0', 'token_prob_2/bias:0'] when minimizing the loss.\n",
      "generator token loss:24.650299947470725\n",
      "generator gaussian loss:66.91150691578495\n",
      "generator total loss:91.56180686325568\n",
      "generator critic loss:0.0037560008734652014\n",
      "average true_return: 0.5350870200995418\n",
      "WARNING:tensorflow:Gradients do not exist for variables ['time_lstm_6/recurrent_kernel:0', 'time_lstm_6/input_gate_peephole_weights:0', 'time_lstm_6/forget_gate_peephole_weights:0', 'time_lstm_6/output_gate_peephole_weights:0', 'token_prob_2/kernel:0', 'token_prob_2/bias:0'] when minimizing the loss.\n",
      "total discriminator loss:0.689323588665502\n"
     ]
    },
    {
     "name": "stderr",
     "output_type": "stream",
     "text": [
      "21it [01:33,  4.27s/it]"
     ]
    },
    {
     "name": "stdout",
     "output_type": "stream",
     "text": [
      "Training Step: 22\n",
      "generator token loss:24.053657241819064\n",
      "generator gaussian loss:66.11507161200056\n",
      "generator total loss:90.16872885381963\n",
      "generator critic loss:0.004079675366173015\n",
      "average true_return: 0.53897254812927\n",
      "WARNING:tensorflow:Gradients do not exist for variables ['time_lstm_6/recurrent_kernel:0', 'time_lstm_6/input_gate_peephole_weights:0', 'time_lstm_6/forget_gate_peephole_weights:0', 'time_lstm_6/output_gate_peephole_weights:0', 'token_prob_2/kernel:0', 'token_prob_2/bias:0'] when minimizing the loss.\n",
      "generator token loss:24.386577143391698\n",
      "generator gaussian loss:65.94432905160366\n",
      "generator total loss:90.33090619499535\n",
      "generator critic loss:0.0035532085551214514\n",
      "average true_return: 0.541672556794875\n",
      "WARNING:tensorflow:Gradients do not exist for variables ['time_lstm_6/recurrent_kernel:0', 'time_lstm_6/input_gate_peephole_weights:0', 'time_lstm_6/forget_gate_peephole_weights:0', 'time_lstm_6/output_gate_peephole_weights:0', 'token_prob_2/kernel:0', 'token_prob_2/bias:0'] when minimizing the loss.\n",
      "total discriminator loss:0.6875976335950035\n"
     ]
    },
    {
     "name": "stderr",
     "output_type": "stream",
     "text": [
      "22it [01:37,  4.31s/it]"
     ]
    },
    {
     "name": "stdout",
     "output_type": "stream",
     "text": [
      "Training Step: 23\n",
      "generator token loss:23.995985354515362\n",
      "generator gaussian loss:65.29238123501543\n",
      "generator total loss:89.2883665895308\n",
      "generator critic loss:0.004624472265388474\n",
      "average true_return: 0.5410900720173011\n",
      "WARNING:tensorflow:Gradients do not exist for variables ['time_lstm_6/recurrent_kernel:0', 'time_lstm_6/input_gate_peephole_weights:0', 'time_lstm_6/forget_gate_peephole_weights:0', 'time_lstm_6/output_gate_peephole_weights:0', 'token_prob_2/kernel:0', 'token_prob_2/bias:0'] when minimizing the loss.\n",
      "generator token loss:23.779215766942418\n",
      "generator gaussian loss:65.20812180758791\n",
      "generator total loss:88.98733757453033\n",
      "generator critic loss:0.0056734973600531665\n",
      "average true_return: 0.543482212676319\n",
      "WARNING:tensorflow:Gradients do not exist for variables ['time_lstm_6/recurrent_kernel:0', 'time_lstm_6/input_gate_peephole_weights:0', 'time_lstm_6/forget_gate_peephole_weights:0', 'time_lstm_6/output_gate_peephole_weights:0', 'token_prob_2/kernel:0', 'token_prob_2/bias:0'] when minimizing the loss.\n",
      "total discriminator loss:0.682787964274621\n"
     ]
    },
    {
     "name": "stderr",
     "output_type": "stream",
     "text": [
      "23it [01:41,  4.32s/it]"
     ]
    },
    {
     "name": "stdout",
     "output_type": "stream",
     "text": [
      "Training Step: 24\n",
      "generator token loss:23.685527278955593\n",
      "generator gaussian loss:64.71926981816141\n",
      "generator total loss:88.404797097117\n",
      "generator critic loss:0.009700061172476283\n",
      "average true_return: 0.5396273162446742\n",
      "WARNING:tensorflow:Gradients do not exist for variables ['time_lstm_6/recurrent_kernel:0', 'time_lstm_6/input_gate_peephole_weights:0', 'time_lstm_6/forget_gate_peephole_weights:0', 'time_lstm_6/output_gate_peephole_weights:0', 'token_prob_2/kernel:0', 'token_prob_2/bias:0'] when minimizing the loss.\n",
      "generator token loss:23.736647514424288\n",
      "generator gaussian loss:64.5368567207016\n",
      "generator total loss:88.2735042351259\n",
      "generator critic loss:0.010676363733499464\n",
      "average true_return: 0.539510168238003\n",
      "WARNING:tensorflow:Gradients do not exist for variables ['time_lstm_6/recurrent_kernel:0', 'time_lstm_6/input_gate_peephole_weights:0', 'time_lstm_6/forget_gate_peephole_weights:0', 'time_lstm_6/output_gate_peephole_weights:0', 'token_prob_2/kernel:0', 'token_prob_2/bias:0'] when minimizing the loss.\n",
      "total discriminator loss:0.6815998046168097\n"
     ]
    },
    {
     "name": "stderr",
     "output_type": "stream",
     "text": [
      "24it [01:46,  4.29s/it]"
     ]
    },
    {
     "name": "stdout",
     "output_type": "stream",
     "text": [
      "Training Step: 25\n",
      "generator token loss:23.212861010652542\n",
      "generator gaussian loss:63.42175434562767\n",
      "generator total loss:86.63461535628021\n",
      "generator critic loss:0.014101482968548197\n",
      "average true_return: 0.538047891802033\n",
      "WARNING:tensorflow:Gradients do not exist for variables ['time_lstm_6/recurrent_kernel:0', 'time_lstm_6/input_gate_peephole_weights:0', 'time_lstm_6/forget_gate_peephole_weights:0', 'time_lstm_6/output_gate_peephole_weights:0', 'token_prob_2/kernel:0', 'token_prob_2/bias:0'] when minimizing the loss.\n",
      "generator token loss:23.796234002980555\n",
      "generator gaussian loss:63.44870764026936\n",
      "generator total loss:87.24494164324992\n",
      "generator critic loss:0.014931646726680537\n",
      "average true_return: 0.5416757557154668\n",
      "WARNING:tensorflow:Gradients do not exist for variables ['time_lstm_6/recurrent_kernel:0', 'time_lstm_6/input_gate_peephole_weights:0', 'time_lstm_6/forget_gate_peephole_weights:0', 'time_lstm_6/output_gate_peephole_weights:0', 'token_prob_2/kernel:0', 'token_prob_2/bias:0'] when minimizing the loss.\n",
      "total discriminator loss:0.6839819588488769\n"
     ]
    },
    {
     "name": "stderr",
     "output_type": "stream",
     "text": [
      "25it [01:50,  4.25s/it]"
     ]
    },
    {
     "name": "stdout",
     "output_type": "stream",
     "text": [
      "Training Step: 26\n",
      "generator token loss:23.184759424164888\n",
      "generator gaussian loss:62.83783185568152\n",
      "generator total loss:86.02259127984641\n",
      "generator critic loss:0.019818845320198033\n",
      "average true_return: 0.5350974158646197\n",
      "WARNING:tensorflow:Gradients do not exist for variables ['time_lstm_6/recurrent_kernel:0', 'time_lstm_6/input_gate_peephole_weights:0', 'time_lstm_6/forget_gate_peephole_weights:0', 'time_lstm_6/output_gate_peephole_weights:0', 'token_prob_2/kernel:0', 'token_prob_2/bias:0'] when minimizing the loss.\n",
      "generator token loss:22.775060543228708\n",
      "generator gaussian loss:62.89999872756515\n",
      "generator total loss:85.67505927079385\n",
      "generator critic loss:0.01997408762519037\n",
      "average true_return: 0.5367442670178909\n",
      "WARNING:tensorflow:Gradients do not exist for variables ['time_lstm_6/recurrent_kernel:0', 'time_lstm_6/input_gate_peephole_weights:0', 'time_lstm_6/forget_gate_peephole_weights:0', 'time_lstm_6/output_gate_peephole_weights:0', 'token_prob_2/kernel:0', 'token_prob_2/bias:0'] when minimizing the loss.\n",
      "total discriminator loss:0.6779968313760363\n"
     ]
    },
    {
     "name": "stderr",
     "output_type": "stream",
     "text": [
      "26it [01:55,  4.45s/it]"
     ]
    },
    {
     "name": "stdout",
     "output_type": "stream",
     "text": [
      "Training Step: 27\n",
      "generator token loss:23.29252423868757\n",
      "generator gaussian loss:62.8917264675956\n",
      "generator total loss:86.18425070628317\n",
      "generator critic loss:0.02113487682506873\n",
      "average true_return: 0.5340264238373342\n",
      "WARNING:tensorflow:Gradients do not exist for variables ['time_lstm_6/recurrent_kernel:0', 'time_lstm_6/input_gate_peephole_weights:0', 'time_lstm_6/forget_gate_peephole_weights:0', 'time_lstm_6/output_gate_peephole_weights:0', 'token_prob_2/kernel:0', 'token_prob_2/bias:0'] when minimizing the loss.\n",
      "generator token loss:23.550831640732348\n",
      "generator gaussian loss:62.362551667277465\n",
      "generator total loss:85.91338330800981\n",
      "generator critic loss:0.017885733753757897\n",
      "average true_return: 0.5322392578921281\n",
      "WARNING:tensorflow:Gradients do not exist for variables ['time_lstm_6/recurrent_kernel:0', 'time_lstm_6/input_gate_peephole_weights:0', 'time_lstm_6/forget_gate_peephole_weights:0', 'time_lstm_6/output_gate_peephole_weights:0', 'token_prob_2/kernel:0', 'token_prob_2/bias:0'] when minimizing the loss.\n",
      "total discriminator loss:0.6787731579356904\n"
     ]
    },
    {
     "name": "stderr",
     "output_type": "stream",
     "text": [
      "27it [02:00,  4.57s/it]"
     ]
    },
    {
     "name": "stdout",
     "output_type": "stream",
     "text": [
      "Training Step: 28\n",
      "generator token loss:23.00816471316952\n",
      "generator gaussian loss:61.48339309045033\n",
      "generator total loss:84.49155780361986\n",
      "generator critic loss:0.023375081302811903\n",
      "average true_return: 0.5273258916162822\n",
      "WARNING:tensorflow:Gradients do not exist for variables ['time_lstm_6/recurrent_kernel:0', 'time_lstm_6/input_gate_peephole_weights:0', 'time_lstm_6/forget_gate_peephole_weights:0', 'time_lstm_6/output_gate_peephole_weights:0', 'token_prob_2/kernel:0', 'token_prob_2/bias:0'] when minimizing the loss.\n",
      "generator token loss:23.44119456013441\n",
      "generator gaussian loss:61.63482980963811\n",
      "generator total loss:85.07602436977253\n",
      "generator critic loss:0.018164002216641842\n",
      "average true_return: 0.5290672258654312\n",
      "WARNING:tensorflow:Gradients do not exist for variables ['time_lstm_6/recurrent_kernel:0', 'time_lstm_6/input_gate_peephole_weights:0', 'time_lstm_6/forget_gate_peephole_weights:0', 'time_lstm_6/output_gate_peephole_weights:0', 'token_prob_2/kernel:0', 'token_prob_2/bias:0'] when minimizing the loss.\n",
      "total discriminator loss:0.6710334282375099\n"
     ]
    },
    {
     "name": "stderr",
     "output_type": "stream",
     "text": [
      "28it [02:04,  4.44s/it]"
     ]
    },
    {
     "name": "stdout",
     "output_type": "stream",
     "text": [
      "Training Step: 29\n",
      "generator token loss:22.74188137226013\n",
      "generator gaussian loss:62.1669864770873\n",
      "generator total loss:84.90886784934743\n",
      "generator critic loss:0.020138908413160544\n",
      "average true_return: 0.524618376770339\n",
      "WARNING:tensorflow:Gradients do not exist for variables ['time_lstm_6/recurrent_kernel:0', 'time_lstm_6/input_gate_peephole_weights:0', 'time_lstm_6/forget_gate_peephole_weights:0', 'time_lstm_6/output_gate_peephole_weights:0', 'token_prob_2/kernel:0', 'token_prob_2/bias:0'] when minimizing the loss.\n",
      "generator token loss:22.966394602139637\n",
      "generator gaussian loss:62.42880128350187\n",
      "generator total loss:85.3951958856415\n",
      "generator critic loss:0.01741674206946192\n",
      "average true_return: 0.5230997316761863\n",
      "WARNING:tensorflow:Gradients do not exist for variables ['time_lstm_6/recurrent_kernel:0', 'time_lstm_6/input_gate_peephole_weights:0', 'time_lstm_6/forget_gate_peephole_weights:0', 'time_lstm_6/output_gate_peephole_weights:0', 'token_prob_2/kernel:0', 'token_prob_2/bias:0'] when minimizing the loss.\n",
      "total discriminator loss:0.6672496492846733\n"
     ]
    },
    {
     "name": "stderr",
     "output_type": "stream",
     "text": [
      "29it [02:08,  4.47s/it]"
     ]
    },
    {
     "name": "stdout",
     "output_type": "stream",
     "text": [
      "Training Step: 30\n",
      "generator token loss:22.85463296631861\n",
      "generator gaussian loss:61.60262682313621\n",
      "generator total loss:84.45725978945482\n",
      "generator critic loss:0.02117531181865566\n",
      "average true_return: 0.5171306084158902\n",
      "WARNING:tensorflow:Gradients do not exist for variables ['time_lstm_6/recurrent_kernel:0', 'time_lstm_6/input_gate_peephole_weights:0', 'time_lstm_6/forget_gate_peephole_weights:0', 'time_lstm_6/output_gate_peephole_weights:0', 'token_prob_2/kernel:0', 'token_prob_2/bias:0'] when minimizing the loss.\n",
      "generator token loss:22.734901490497414\n",
      "generator gaussian loss:60.99746863520279\n",
      "generator total loss:83.73237012570021\n",
      "generator critic loss:0.013914510474098862\n",
      "average true_return: 0.5190289106703789\n",
      "WARNING:tensorflow:Gradients do not exist for variables ['time_lstm_6/recurrent_kernel:0', 'time_lstm_6/input_gate_peephole_weights:0', 'time_lstm_6/forget_gate_peephole_weights:0', 'time_lstm_6/output_gate_peephole_weights:0', 'token_prob_2/kernel:0', 'token_prob_2/bias:0'] when minimizing the loss.\n",
      "total discriminator loss:0.6651610555167831\n"
     ]
    },
    {
     "name": "stderr",
     "output_type": "stream",
     "text": [
      "30it [02:12,  4.38s/it]"
     ]
    },
    {
     "name": "stdout",
     "output_type": "stream",
     "text": [
      "Training Step: 31\n",
      "generator token loss:22.85933956693101\n",
      "generator gaussian loss:61.247970740138676\n",
      "generator total loss:84.10731030706968\n",
      "generator critic loss:0.017873610798097773\n",
      "average true_return: 0.5118456534142235\n",
      "WARNING:tensorflow:Gradients do not exist for variables ['time_lstm_6/recurrent_kernel:0', 'time_lstm_6/input_gate_peephole_weights:0', 'time_lstm_6/forget_gate_peephole_weights:0', 'time_lstm_6/output_gate_peephole_weights:0', 'token_prob_2/kernel:0', 'token_prob_2/bias:0'] when minimizing the loss.\n",
      "generator token loss:22.39866084301765\n",
      "generator gaussian loss:61.811923532272765\n",
      "generator total loss:84.21058437529041\n",
      "generator critic loss:0.013535092952218178\n",
      "average true_return: 0.51082499936975\n",
      "WARNING:tensorflow:Gradients do not exist for variables ['time_lstm_6/recurrent_kernel:0', 'time_lstm_6/input_gate_peephole_weights:0', 'time_lstm_6/forget_gate_peephole_weights:0', 'time_lstm_6/output_gate_peephole_weights:0', 'token_prob_2/kernel:0', 'token_prob_2/bias:0'] when minimizing the loss.\n",
      "total discriminator loss:0.6586245116136997\n"
     ]
    },
    {
     "name": "stderr",
     "output_type": "stream",
     "text": [
      "31it [02:17,  4.33s/it]"
     ]
    },
    {
     "name": "stdout",
     "output_type": "stream",
     "text": [
      "Training Step: 32\n",
      "generator token loss:22.76542836950657\n",
      "generator gaussian loss:60.72324293922715\n",
      "generator total loss:83.48867130873371\n",
      "generator critic loss:0.016691366786326385\n",
      "average true_return: 0.5055059580430563\n",
      "WARNING:tensorflow:Gradients do not exist for variables ['time_lstm_6/recurrent_kernel:0', 'time_lstm_6/input_gate_peephole_weights:0', 'time_lstm_6/forget_gate_peephole_weights:0', 'time_lstm_6/output_gate_peephole_weights:0', 'token_prob_2/kernel:0', 'token_prob_2/bias:0'] when minimizing the loss.\n",
      "generator token loss:22.945681884807012\n",
      "generator gaussian loss:61.01471174718259\n",
      "generator total loss:83.9603936319896\n",
      "generator critic loss:0.010596025466975498\n",
      "average true_return: 0.5041082550497501\n",
      "WARNING:tensorflow:Gradients do not exist for variables ['time_lstm_6/recurrent_kernel:0', 'time_lstm_6/input_gate_peephole_weights:0', 'time_lstm_6/forget_gate_peephole_weights:0', 'time_lstm_6/output_gate_peephole_weights:0', 'token_prob_2/kernel:0', 'token_prob_2/bias:0'] when minimizing the loss.\n",
      "total discriminator loss:0.6496286217195707\n"
     ]
    },
    {
     "name": "stderr",
     "output_type": "stream",
     "text": [
      "32it [02:21,  4.30s/it]"
     ]
    },
    {
     "name": "stdout",
     "output_type": "stream",
     "text": [
      "Training Step: 33\n",
      "generator token loss:22.66210380429345\n",
      "generator gaussian loss:60.32208448425556\n",
      "generator total loss:82.984188288549\n",
      "generator critic loss:0.014376866022323917\n",
      "average true_return: 0.4959285422950529\n",
      "WARNING:tensorflow:Gradients do not exist for variables ['time_lstm_6/recurrent_kernel:0', 'time_lstm_6/input_gate_peephole_weights:0', 'time_lstm_6/forget_gate_peephole_weights:0', 'time_lstm_6/output_gate_peephole_weights:0', 'token_prob_2/kernel:0', 'token_prob_2/bias:0'] when minimizing the loss.\n",
      "generator token loss:22.522464567018453\n",
      "generator gaussian loss:61.26494937424162\n",
      "generator total loss:83.78741394126007\n",
      "generator critic loss:0.00978135374693246\n",
      "average true_return: 0.4966523470623383\n",
      "WARNING:tensorflow:Gradients do not exist for variables ['time_lstm_6/recurrent_kernel:0', 'time_lstm_6/input_gate_peephole_weights:0', 'time_lstm_6/forget_gate_peephole_weights:0', 'time_lstm_6/output_gate_peephole_weights:0', 'token_prob_2/kernel:0', 'token_prob_2/bias:0'] when minimizing the loss.\n",
      "total discriminator loss:0.6355071544556814\n"
     ]
    },
    {
     "name": "stderr",
     "output_type": "stream",
     "text": [
      "33it [02:26,  4.48s/it]"
     ]
    },
    {
     "name": "stdout",
     "output_type": "stream",
     "text": [
      "Training Step: 34\n",
      "generator token loss:23.228424991370385\n",
      "generator gaussian loss:60.69632798091045\n",
      "generator total loss:83.92475297228084\n",
      "generator critic loss:0.011210922590457983\n",
      "average true_return: 0.4917213249917561\n",
      "WARNING:tensorflow:Gradients do not exist for variables ['time_lstm_6/recurrent_kernel:0', 'time_lstm_6/input_gate_peephole_weights:0', 'time_lstm_6/forget_gate_peephole_weights:0', 'time_lstm_6/output_gate_peephole_weights:0', 'token_prob_2/kernel:0', 'token_prob_2/bias:0'] when minimizing the loss.\n",
      "generator token loss:22.33730331355935\n",
      "generator gaussian loss:60.02924143987009\n",
      "generator total loss:82.36654475342944\n",
      "generator critic loss:0.010692218355040058\n",
      "average true_return: 0.4862617580558399\n",
      "WARNING:tensorflow:Gradients do not exist for variables ['time_lstm_6/recurrent_kernel:0', 'time_lstm_6/input_gate_peephole_weights:0', 'time_lstm_6/forget_gate_peephole_weights:0', 'time_lstm_6/output_gate_peephole_weights:0', 'token_prob_2/kernel:0', 'token_prob_2/bias:0'] when minimizing the loss.\n",
      "total discriminator loss:0.6212197091348011\n"
     ]
    },
    {
     "name": "stderr",
     "output_type": "stream",
     "text": [
      "34it [02:30,  4.47s/it]"
     ]
    },
    {
     "name": "stdout",
     "output_type": "stream",
     "text": [
      "Training Step: 35\n",
      "generator token loss:23.501233400648385\n",
      "generator gaussian loss:59.96987723505962\n",
      "generator total loss:83.471110635708\n",
      "generator critic loss:0.010095023689961815\n",
      "average true_return: 0.4901343812367359\n",
      "WARNING:tensorflow:Gradients do not exist for variables ['time_lstm_6/recurrent_kernel:0', 'time_lstm_6/input_gate_peephole_weights:0', 'time_lstm_6/forget_gate_peephole_weights:0', 'time_lstm_6/output_gate_peephole_weights:0', 'token_prob_2/kernel:0', 'token_prob_2/bias:0'] when minimizing the loss.\n",
      "generator token loss:22.790678516799783\n",
      "generator gaussian loss:60.38508612336358\n",
      "generator total loss:83.17576464016337\n",
      "generator critic loss:0.010034436954434074\n",
      "average true_return: 0.48377010102865176\n",
      "WARNING:tensorflow:Gradients do not exist for variables ['time_lstm_6/recurrent_kernel:0', 'time_lstm_6/input_gate_peephole_weights:0', 'time_lstm_6/forget_gate_peephole_weights:0', 'time_lstm_6/output_gate_peephole_weights:0', 'token_prob_2/kernel:0', 'token_prob_2/bias:0'] when minimizing the loss.\n",
      "total discriminator loss:0.6132201268215186\n"
     ]
    },
    {
     "name": "stderr",
     "output_type": "stream",
     "text": [
      "35it [02:34,  4.40s/it]"
     ]
    },
    {
     "name": "stdout",
     "output_type": "stream",
     "text": [
      "Training Step: 36\n",
      "generator token loss:23.1454288070856\n",
      "generator gaussian loss:60.25981726742484\n",
      "generator total loss:83.40524607451044\n",
      "generator critic loss:0.012760537047320641\n",
      "average true_return: 0.48682523509755904\n",
      "WARNING:tensorflow:Gradients do not exist for variables ['time_lstm_6/recurrent_kernel:0', 'time_lstm_6/input_gate_peephole_weights:0', 'time_lstm_6/forget_gate_peephole_weights:0', 'time_lstm_6/output_gate_peephole_weights:0', 'token_prob_2/kernel:0', 'token_prob_2/bias:0'] when minimizing the loss.\n",
      "generator token loss:22.61061212686088\n",
      "generator gaussian loss:60.15677337756864\n",
      "generator total loss:82.76738550442951\n",
      "generator critic loss:0.01199062225035945\n",
      "average true_return: 0.48406483249417287\n",
      "WARNING:tensorflow:Gradients do not exist for variables ['time_lstm_6/recurrent_kernel:0', 'time_lstm_6/input_gate_peephole_weights:0', 'time_lstm_6/forget_gate_peephole_weights:0', 'time_lstm_6/output_gate_peephole_weights:0', 'token_prob_2/kernel:0', 'token_prob_2/bias:0'] when minimizing the loss.\n",
      "total discriminator loss:0.593090979285626\n"
     ]
    },
    {
     "name": "stderr",
     "output_type": "stream",
     "text": [
      "36it [02:39,  4.36s/it]"
     ]
    },
    {
     "name": "stdout",
     "output_type": "stream",
     "text": [
      "Training Step: 37\n",
      "generator token loss:23.282628256976473\n",
      "generator gaussian loss:59.49235907761611\n",
      "generator total loss:82.77498733459258\n",
      "generator critic loss:0.02548878047271219\n",
      "average true_return: 0.4832968978460723\n",
      "WARNING:tensorflow:Gradients do not exist for variables ['time_lstm_6/recurrent_kernel:0', 'time_lstm_6/input_gate_peephole_weights:0', 'time_lstm_6/forget_gate_peephole_weights:0', 'time_lstm_6/output_gate_peephole_weights:0', 'token_prob_2/kernel:0', 'token_prob_2/bias:0'] when minimizing the loss.\n",
      "generator token loss:22.95908201867318\n",
      "generator gaussian loss:60.21561468316334\n",
      "generator total loss:83.17469670183652\n",
      "generator critic loss:0.02589036542208344\n",
      "average true_return: 0.4828240137916905\n",
      "WARNING:tensorflow:Gradients do not exist for variables ['time_lstm_6/recurrent_kernel:0', 'time_lstm_6/input_gate_peephole_weights:0', 'time_lstm_6/forget_gate_peephole_weights:0', 'time_lstm_6/output_gate_peephole_weights:0', 'token_prob_2/kernel:0', 'token_prob_2/bias:0'] when minimizing the loss.\n",
      "total discriminator loss:0.5770671118622155\n"
     ]
    },
    {
     "name": "stderr",
     "output_type": "stream",
     "text": [
      "37it [02:43,  4.36s/it]"
     ]
    },
    {
     "name": "stdout",
     "output_type": "stream",
     "text": [
      "Training Step: 38\n",
      "generator token loss:23.22741800563656\n",
      "generator gaussian loss:59.5178042822234\n",
      "generator total loss:82.74522228785996\n",
      "generator critic loss:0.03524609700214803\n",
      "average true_return: 0.48265911239680775\n",
      "WARNING:tensorflow:Gradients do not exist for variables ['time_lstm_6/recurrent_kernel:0', 'time_lstm_6/input_gate_peephole_weights:0', 'time_lstm_6/forget_gate_peephole_weights:0', 'time_lstm_6/output_gate_peephole_weights:0', 'token_prob_2/kernel:0', 'token_prob_2/bias:0'] when minimizing the loss.\n",
      "generator token loss:23.919448217906456\n",
      "generator gaussian loss:60.11846093493378\n",
      "generator total loss:84.03790915284023\n",
      "generator critic loss:0.05516095108160886\n",
      "average true_return: 0.4890218090951258\n",
      "WARNING:tensorflow:Gradients do not exist for variables ['time_lstm_6/recurrent_kernel:0', 'time_lstm_6/input_gate_peephole_weights:0', 'time_lstm_6/forget_gate_peephole_weights:0', 'time_lstm_6/output_gate_peephole_weights:0', 'token_prob_2/kernel:0', 'token_prob_2/bias:0'] when minimizing the loss.\n",
      "total discriminator loss:0.5616160265032062\n"
     ]
    },
    {
     "name": "stderr",
     "output_type": "stream",
     "text": [
      "38it [02:48,  4.56s/it]"
     ]
    },
    {
     "name": "stdout",
     "output_type": "stream",
     "text": [
      "Training Step: 39\n",
      "generator token loss:23.2297115271329\n",
      "generator gaussian loss:59.13950281328563\n",
      "generator total loss:82.36921434041852\n",
      "generator critic loss:0.0525381949457818\n",
      "average true_return: 0.4721871464540776\n",
      "WARNING:tensorflow:Gradients do not exist for variables ['time_lstm_6/recurrent_kernel:0', 'time_lstm_6/input_gate_peephole_weights:0', 'time_lstm_6/forget_gate_peephole_weights:0', 'time_lstm_6/output_gate_peephole_weights:0', 'token_prob_2/kernel:0', 'token_prob_2/bias:0'] when minimizing the loss.\n",
      "generator token loss:23.639749827188464\n",
      "generator gaussian loss:59.62343526992086\n",
      "generator total loss:83.26318509710933\n",
      "generator critic loss:0.07067610489743878\n",
      "average true_return: 0.48613999772533395\n",
      "WARNING:tensorflow:Gradients do not exist for variables ['time_lstm_6/recurrent_kernel:0', 'time_lstm_6/input_gate_peephole_weights:0', 'time_lstm_6/forget_gate_peephole_weights:0', 'time_lstm_6/output_gate_peephole_weights:0', 'token_prob_2/kernel:0', 'token_prob_2/bias:0'] when minimizing the loss.\n",
      "total discriminator loss:0.5270708930293537\n"
     ]
    },
    {
     "name": "stderr",
     "output_type": "stream",
     "text": [
      "39it [02:52,  4.45s/it]"
     ]
    },
    {
     "name": "stdout",
     "output_type": "stream",
     "text": [
      "Training Step: 40\n",
      "generator token loss:23.320663960719106\n",
      "generator gaussian loss:58.70640276460002\n",
      "generator total loss:82.02706672531913\n",
      "generator critic loss:0.12611597431422697\n",
      "average true_return: 0.48693762253379047\n",
      "WARNING:tensorflow:Gradients do not exist for variables ['time_lstm_6/recurrent_kernel:0', 'time_lstm_6/input_gate_peephole_weights:0', 'time_lstm_6/forget_gate_peephole_weights:0', 'time_lstm_6/output_gate_peephole_weights:0', 'token_prob_2/kernel:0', 'token_prob_2/bias:0'] when minimizing the loss.\n",
      "generator token loss:23.36424819348461\n",
      "generator gaussian loss:58.42153115161828\n",
      "generator total loss:81.7857793451029\n",
      "generator critic loss:0.13351746937230174\n",
      "average true_return: 0.4795491411940197\n",
      "WARNING:tensorflow:Gradients do not exist for variables ['time_lstm_6/recurrent_kernel:0', 'time_lstm_6/input_gate_peephole_weights:0', 'time_lstm_6/forget_gate_peephole_weights:0', 'time_lstm_6/output_gate_peephole_weights:0', 'token_prob_2/kernel:0', 'token_prob_2/bias:0'] when minimizing the loss.\n",
      "total discriminator loss:0.48214321905693663\n"
     ]
    },
    {
     "name": "stderr",
     "output_type": "stream",
     "text": [
      "40it [02:57,  4.40s/it]"
     ]
    },
    {
     "name": "stdout",
     "output_type": "stream",
     "text": [
      "Training Step: 41\n",
      "generator token loss:22.528555466253742\n",
      "generator gaussian loss:57.20463868617442\n",
      "generator total loss:79.73319415242815\n",
      "generator critic loss:0.15928988789045123\n",
      "average true_return: 0.45970983740153537\n",
      "WARNING:tensorflow:Gradients do not exist for variables ['time_lstm_6/recurrent_kernel:0', 'time_lstm_6/input_gate_peephole_weights:0', 'time_lstm_6/forget_gate_peephole_weights:0', 'time_lstm_6/output_gate_peephole_weights:0', 'token_prob_2/kernel:0', 'token_prob_2/bias:0'] when minimizing the loss.\n",
      "generator token loss:23.29059098475372\n",
      "generator gaussian loss:57.15169391273846\n",
      "generator total loss:80.44228489749219\n",
      "generator critic loss:0.18912666165017838\n",
      "average true_return: 0.46339135575861795\n",
      "WARNING:tensorflow:Gradients do not exist for variables ['time_lstm_6/recurrent_kernel:0', 'time_lstm_6/input_gate_peephole_weights:0', 'time_lstm_6/forget_gate_peephole_weights:0', 'time_lstm_6/output_gate_peephole_weights:0', 'token_prob_2/kernel:0', 'token_prob_2/bias:0'] when minimizing the loss.\n",
      "total discriminator loss:0.45079847701817477\n"
     ]
    },
    {
     "name": "stderr",
     "output_type": "stream",
     "text": [
      "41it [03:01,  4.49s/it]"
     ]
    },
    {
     "name": "stdout",
     "output_type": "stream",
     "text": [
      "Training Step: 42\n",
      "generator token loss:22.177224270477616\n",
      "generator gaussian loss:55.31506100970049\n",
      "generator total loss:77.49228528017811\n",
      "generator critic loss:0.28307857677422155\n",
      "average true_return: 0.4486044595986219\n",
      "WARNING:tensorflow:Gradients do not exist for variables ['time_lstm_6/recurrent_kernel:0', 'time_lstm_6/input_gate_peephole_weights:0', 'time_lstm_6/forget_gate_peephole_weights:0', 'time_lstm_6/output_gate_peephole_weights:0', 'token_prob_2/kernel:0', 'token_prob_2/bias:0'] when minimizing the loss.\n",
      "generator token loss:22.158133959033567\n",
      "generator gaussian loss:54.812735905407614\n",
      "generator total loss:76.97086986444118\n",
      "generator critic loss:0.22076276482967588\n",
      "average true_return: 0.43743678396914804\n",
      "WARNING:tensorflow:Gradients do not exist for variables ['time_lstm_6/recurrent_kernel:0', 'time_lstm_6/input_gate_peephole_weights:0', 'time_lstm_6/forget_gate_peephole_weights:0', 'time_lstm_6/output_gate_peephole_weights:0', 'token_prob_2/kernel:0', 'token_prob_2/bias:0'] when minimizing the loss.\n",
      "total discriminator loss:0.416766563674735\n"
     ]
    },
    {
     "name": "stderr",
     "output_type": "stream",
     "text": [
      "42it [03:06,  4.44s/it]"
     ]
    },
    {
     "name": "stdout",
     "output_type": "stream",
     "text": [
      "Training Step: 43\n",
      "generator token loss:23.471333232237235\n",
      "generator gaussian loss:56.33595278047733\n",
      "generator total loss:79.80728601271457\n",
      "generator critic loss:0.45759462335441814\n",
      "average true_return: 0.4711985446901513\n",
      "WARNING:tensorflow:Gradients do not exist for variables ['time_lstm_6/recurrent_kernel:0', 'time_lstm_6/input_gate_peephole_weights:0', 'time_lstm_6/forget_gate_peephole_weights:0', 'time_lstm_6/output_gate_peephole_weights:0', 'token_prob_2/kernel:0', 'token_prob_2/bias:0'] when minimizing the loss.\n",
      "generator token loss:22.654873526364803\n",
      "generator gaussian loss:54.847583195435\n",
      "generator total loss:77.5024567217998\n",
      "generator critic loss:0.41333407060527755\n",
      "average true_return: 0.44230013800874224\n",
      "WARNING:tensorflow:Gradients do not exist for variables ['time_lstm_6/recurrent_kernel:0', 'time_lstm_6/input_gate_peephole_weights:0', 'time_lstm_6/forget_gate_peephole_weights:0', 'time_lstm_6/output_gate_peephole_weights:0', 'token_prob_2/kernel:0', 'token_prob_2/bias:0'] when minimizing the loss.\n",
      "total discriminator loss:0.4566091249267633\n"
     ]
    },
    {
     "name": "stderr",
     "output_type": "stream",
     "text": [
      "43it [03:10,  4.49s/it]"
     ]
    },
    {
     "name": "stdout",
     "output_type": "stream",
     "text": [
      "Training Step: 44\n",
      "generator token loss:21.297131409841434\n",
      "generator gaussian loss:52.16407893007462\n",
      "generator total loss:73.46121033991605\n",
      "generator critic loss:0.5302399480487379\n",
      "average true_return: 0.3939024187049375\n",
      "WARNING:tensorflow:Gradients do not exist for variables ['time_lstm_6/recurrent_kernel:0', 'time_lstm_6/input_gate_peephole_weights:0', 'time_lstm_6/forget_gate_peephole_weights:0', 'time_lstm_6/output_gate_peephole_weights:0', 'token_prob_2/kernel:0', 'token_prob_2/bias:0'] when minimizing the loss.\n",
      "generator token loss:22.00596060000635\n",
      "generator gaussian loss:52.54226419981792\n",
      "generator total loss:74.54822479982427\n",
      "generator critic loss:0.5172440455251036\n",
      "average true_return: 0.42210305720229957\n",
      "WARNING:tensorflow:Gradients do not exist for variables ['time_lstm_6/recurrent_kernel:0', 'time_lstm_6/input_gate_peephole_weights:0', 'time_lstm_6/forget_gate_peephole_weights:0', 'time_lstm_6/output_gate_peephole_weights:0', 'token_prob_2/kernel:0', 'token_prob_2/bias:0'] when minimizing the loss.\n",
      "total discriminator loss:0.34833629829066504\n"
     ]
    },
    {
     "name": "stderr",
     "output_type": "stream",
     "text": [
      "44it [03:14,  4.41s/it]"
     ]
    },
    {
     "name": "stdout",
     "output_type": "stream",
     "text": [
      "Training Step: 45\n",
      "generator token loss:21.503444739484014\n",
      "generator gaussian loss:50.868843232445386\n",
      "generator total loss:72.3722879719294\n",
      "generator critic loss:0.44173922473918253\n",
      "average true_return: 0.37557780413052144\n",
      "WARNING:tensorflow:Gradients do not exist for variables ['time_lstm_6/recurrent_kernel:0', 'time_lstm_6/input_gate_peephole_weights:0', 'time_lstm_6/forget_gate_peephole_weights:0', 'time_lstm_6/output_gate_peephole_weights:0', 'token_prob_2/kernel:0', 'token_prob_2/bias:0'] when minimizing the loss.\n",
      "generator token loss:21.132110748750257\n",
      "generator gaussian loss:49.97931407244607\n",
      "generator total loss:71.11142482119632\n",
      "generator critic loss:0.35936316422670195\n",
      "average true_return: 0.36590685222936264\n",
      "WARNING:tensorflow:Gradients do not exist for variables ['time_lstm_6/recurrent_kernel:0', 'time_lstm_6/input_gate_peephole_weights:0', 'time_lstm_6/forget_gate_peephole_weights:0', 'time_lstm_6/output_gate_peephole_weights:0', 'token_prob_2/kernel:0', 'token_prob_2/bias:0'] when minimizing the loss.\n",
      "total discriminator loss:0.35044553431597397\n"
     ]
    },
    {
     "name": "stderr",
     "output_type": "stream",
     "text": [
      "45it [03:19,  4.38s/it]"
     ]
    },
    {
     "name": "stdout",
     "output_type": "stream",
     "text": [
      "Training Step: 46\n",
      "generator token loss:21.48963960350099\n",
      "generator gaussian loss:50.433725147575004\n",
      "generator total loss:71.923364751076\n",
      "generator critic loss:0.611010585761233\n",
      "average true_return: 0.3653892317148382\n",
      "WARNING:tensorflow:Gradients do not exist for variables ['time_lstm_6/recurrent_kernel:0', 'time_lstm_6/input_gate_peephole_weights:0', 'time_lstm_6/forget_gate_peephole_weights:0', 'time_lstm_6/output_gate_peephole_weights:0', 'token_prob_2/kernel:0', 'token_prob_2/bias:0'] when minimizing the loss.\n",
      "generator token loss:20.721275453888026\n",
      "generator gaussian loss:48.61017184878301\n",
      "generator total loss:69.33144730267104\n",
      "generator critic loss:0.4869636529832293\n",
      "average true_return: 0.3483424453679062\n",
      "WARNING:tensorflow:Gradients do not exist for variables ['time_lstm_6/recurrent_kernel:0', 'time_lstm_6/input_gate_peephole_weights:0', 'time_lstm_6/forget_gate_peephole_weights:0', 'time_lstm_6/output_gate_peephole_weights:0', 'token_prob_2/kernel:0', 'token_prob_2/bias:0'] when minimizing the loss.\n",
      "total discriminator loss:0.3347175495743833\n"
     ]
    },
    {
     "name": "stderr",
     "output_type": "stream",
     "text": [
      "46it [03:23,  4.32s/it]"
     ]
    },
    {
     "name": "stdout",
     "output_type": "stream",
     "text": [
      "Training Step: 47\n",
      "generator token loss:20.482357681929752\n",
      "generator gaussian loss:48.40332673394221\n",
      "generator total loss:68.88568441587196\n",
      "generator critic loss:0.4168871319293141\n",
      "average true_return: 0.3246982381985106\n",
      "WARNING:tensorflow:Gradients do not exist for variables ['time_lstm_6/recurrent_kernel:0', 'time_lstm_6/input_gate_peephole_weights:0', 'time_lstm_6/forget_gate_peephole_weights:0', 'time_lstm_6/output_gate_peephole_weights:0', 'token_prob_2/kernel:0', 'token_prob_2/bias:0'] when minimizing the loss.\n",
      "generator token loss:20.509973682880226\n",
      "generator gaussian loss:48.31711929266641\n",
      "generator total loss:68.82709297554663\n",
      "generator critic loss:0.45058675985635555\n",
      "average true_return: 0.32518432407326436\n",
      "WARNING:tensorflow:Gradients do not exist for variables ['time_lstm_6/recurrent_kernel:0', 'time_lstm_6/input_gate_peephole_weights:0', 'time_lstm_6/forget_gate_peephole_weights:0', 'time_lstm_6/output_gate_peephole_weights:0', 'token_prob_2/kernel:0', 'token_prob_2/bias:0'] when minimizing the loss.\n",
      "total discriminator loss:0.29433889177758943\n"
     ]
    },
    {
     "name": "stderr",
     "output_type": "stream",
     "text": [
      "47it [03:28,  4.47s/it]"
     ]
    },
    {
     "name": "stdout",
     "output_type": "stream",
     "text": [
      "Training Step: 48\n",
      "generator token loss:22.06737899013063\n",
      "generator gaussian loss:49.692004227751355\n",
      "generator total loss:71.75938321788199\n",
      "generator critic loss:0.5509344284526495\n",
      "average true_return: 0.3437741918310554\n",
      "WARNING:tensorflow:Gradients do not exist for variables ['time_lstm_6/recurrent_kernel:0', 'time_lstm_6/input_gate_peephole_weights:0', 'time_lstm_6/forget_gate_peephole_weights:0', 'time_lstm_6/output_gate_peephole_weights:0', 'token_prob_2/kernel:0', 'token_prob_2/bias:0'] when minimizing the loss.\n",
      "generator token loss:20.81666449275612\n",
      "generator gaussian loss:48.85546162772233\n",
      "generator total loss:69.67212612047845\n",
      "generator critic loss:0.4481802846711809\n",
      "average true_return: 0.3189099660240675\n",
      "WARNING:tensorflow:Gradients do not exist for variables ['time_lstm_6/recurrent_kernel:0', 'time_lstm_6/input_gate_peephole_weights:0', 'time_lstm_6/forget_gate_peephole_weights:0', 'time_lstm_6/output_gate_peephole_weights:0', 'token_prob_2/kernel:0', 'token_prob_2/bias:0'] when minimizing the loss.\n",
      "total discriminator loss:0.2710624062833745\n"
     ]
    },
    {
     "name": "stderr",
     "output_type": "stream",
     "text": [
      "48it [03:33,  4.57s/it]"
     ]
    },
    {
     "name": "stdout",
     "output_type": "stream",
     "text": [
      "Training Step: 49\n",
      "generator token loss:20.448805130920082\n",
      "generator gaussian loss:47.84920191804095\n",
      "generator total loss:68.29800704896103\n",
      "generator critic loss:0.34802511427839206\n",
      "average true_return: 0.2803954334984248\n",
      "WARNING:tensorflow:Gradients do not exist for variables ['time_lstm_6/recurrent_kernel:0', 'time_lstm_6/input_gate_peephole_weights:0', 'time_lstm_6/forget_gate_peephole_weights:0', 'time_lstm_6/output_gate_peephole_weights:0', 'token_prob_2/kernel:0', 'token_prob_2/bias:0'] when minimizing the loss.\n",
      "generator token loss:21.136946547653043\n",
      "generator gaussian loss:47.83696437053613\n",
      "generator total loss:68.97391091818918\n",
      "generator critic loss:0.39540501583586063\n",
      "average true_return: 0.28840831861021465\n",
      "WARNING:tensorflow:Gradients do not exist for variables ['time_lstm_6/recurrent_kernel:0', 'time_lstm_6/input_gate_peephole_weights:0', 'time_lstm_6/forget_gate_peephole_weights:0', 'time_lstm_6/output_gate_peephole_weights:0', 'token_prob_2/kernel:0', 'token_prob_2/bias:0'] when minimizing the loss.\n",
      "total discriminator loss:0.24807729569080456\n"
     ]
    },
    {
     "name": "stderr",
     "output_type": "stream",
     "text": [
      "49it [03:37,  4.56s/it]"
     ]
    },
    {
     "name": "stdout",
     "output_type": "stream",
     "text": [
      "Training Step: 50\n",
      "generator token loss:21.117147906396504\n",
      "generator gaussian loss:48.01656483226624\n",
      "generator total loss:69.13371273866275\n",
      "generator critic loss:0.46462557560624723\n",
      "average true_return: 0.2722943862743943\n",
      "WARNING:tensorflow:Gradients do not exist for variables ['time_lstm_6/recurrent_kernel:0', 'time_lstm_6/input_gate_peephole_weights:0', 'time_lstm_6/forget_gate_peephole_weights:0', 'time_lstm_6/output_gate_peephole_weights:0', 'token_prob_2/kernel:0', 'token_prob_2/bias:0'] when minimizing the loss.\n",
      "generator token loss:21.01152882121432\n",
      "generator gaussian loss:46.79030515100615\n",
      "generator total loss:67.80183397222046\n",
      "generator critic loss:0.3811513829758656\n",
      "average true_return: 0.26670561315750246\n",
      "WARNING:tensorflow:Gradients do not exist for variables ['time_lstm_6/recurrent_kernel:0', 'time_lstm_6/input_gate_peephole_weights:0', 'time_lstm_6/forget_gate_peephole_weights:0', 'time_lstm_6/output_gate_peephole_weights:0', 'token_prob_2/kernel:0', 'token_prob_2/bias:0'] when minimizing the loss.\n",
      "total discriminator loss:0.19591910271567173\n"
     ]
    },
    {
     "name": "stderr",
     "output_type": "stream",
     "text": [
      "50it [03:42,  4.71s/it]"
     ]
    },
    {
     "name": "stdout",
     "output_type": "stream",
     "text": [
      "Training Step: 51\n",
      "generator token loss:21.525975950168036\n",
      "generator gaussian loss:46.93382085250277\n",
      "generator total loss:68.45979680267081\n",
      "generator critic loss:0.257755211669596\n",
      "average true_return: 0.24333533328931478\n",
      "WARNING:tensorflow:Gradients do not exist for variables ['time_lstm_6/recurrent_kernel:0', 'time_lstm_6/input_gate_peephole_weights:0', 'time_lstm_6/forget_gate_peephole_weights:0', 'time_lstm_6/output_gate_peephole_weights:0', 'token_prob_2/kernel:0', 'token_prob_2/bias:0'] when minimizing the loss.\n",
      "generator token loss:21.47906141800206\n",
      "generator gaussian loss:47.469387796996095\n",
      "generator total loss:68.94844921499816\n",
      "generator critic loss:0.22728118349700135\n",
      "average true_return: 0.2392767811946136\n",
      "WARNING:tensorflow:Gradients do not exist for variables ['time_lstm_6/recurrent_kernel:0', 'time_lstm_6/input_gate_peephole_weights:0', 'time_lstm_6/forget_gate_peephole_weights:0', 'time_lstm_6/output_gate_peephole_weights:0', 'token_prob_2/kernel:0', 'token_prob_2/bias:0'] when minimizing the loss.\n",
      "total discriminator loss:0.15785627974475105\n"
     ]
    },
    {
     "name": "stderr",
     "output_type": "stream",
     "text": [
      "51it [03:47,  4.69s/it]"
     ]
    },
    {
     "name": "stdout",
     "output_type": "stream",
     "text": [
      "Training Step: 52\n",
      "generator token loss:20.200990724664287\n",
      "generator gaussian loss:46.655948798606644\n",
      "generator total loss:66.85693952327094\n",
      "generator critic loss:0.2487474545072047\n",
      "average true_return: 0.21648251843009694\n",
      "WARNING:tensorflow:Gradients do not exist for variables ['time_lstm_6/recurrent_kernel:0', 'time_lstm_6/input_gate_peephole_weights:0', 'time_lstm_6/forget_gate_peephole_weights:0', 'time_lstm_6/output_gate_peephole_weights:0', 'token_prob_2/kernel:0', 'token_prob_2/bias:0'] when minimizing the loss.\n",
      "generator token loss:20.901688048786642\n",
      "generator gaussian loss:45.69612798126406\n",
      "generator total loss:66.59781603005071\n",
      "generator critic loss:0.19262166483998952\n",
      "average true_return: 0.20624254787499974\n",
      "WARNING:tensorflow:Gradients do not exist for variables ['time_lstm_6/recurrent_kernel:0', 'time_lstm_6/input_gate_peephole_weights:0', 'time_lstm_6/forget_gate_peephole_weights:0', 'time_lstm_6/output_gate_peephole_weights:0', 'token_prob_2/kernel:0', 'token_prob_2/bias:0'] when minimizing the loss.\n",
      "total discriminator loss:0.1491863026554161\n"
     ]
    },
    {
     "name": "stderr",
     "output_type": "stream",
     "text": [
      "52it [03:51,  4.69s/it]"
     ]
    },
    {
     "name": "stdout",
     "output_type": "stream",
     "text": [
      "Training Step: 53\n",
      "generator token loss:21.03191368790173\n",
      "generator gaussian loss:45.34591590001003\n",
      "generator total loss:66.37782958791176\n",
      "generator critic loss:0.19453469865484796\n",
      "average true_return: 0.19055319631980455\n",
      "WARNING:tensorflow:Gradients do not exist for variables ['time_lstm_6/recurrent_kernel:0', 'time_lstm_6/input_gate_peephole_weights:0', 'time_lstm_6/forget_gate_peephole_weights:0', 'time_lstm_6/output_gate_peephole_weights:0', 'token_prob_2/kernel:0', 'token_prob_2/bias:0'] when minimizing the loss.\n",
      "generator token loss:21.33252524498713\n",
      "generator gaussian loss:46.35130000875673\n",
      "generator total loss:67.68382525374386\n",
      "generator critic loss:0.15564726143932758\n",
      "average true_return: 0.18875387363164003\n",
      "WARNING:tensorflow:Gradients do not exist for variables ['time_lstm_6/recurrent_kernel:0', 'time_lstm_6/input_gate_peephole_weights:0', 'time_lstm_6/forget_gate_peephole_weights:0', 'time_lstm_6/output_gate_peephole_weights:0', 'token_prob_2/kernel:0', 'token_prob_2/bias:0'] when minimizing the loss.\n",
      "total discriminator loss:0.12176033568416295\n"
     ]
    },
    {
     "name": "stderr",
     "output_type": "stream",
     "text": [
      "53it [03:56,  4.70s/it]"
     ]
    },
    {
     "name": "stdout",
     "output_type": "stream",
     "text": [
      "Training Step: 54\n",
      "generator token loss:21.30467732194084\n",
      "generator gaussian loss:45.32045529993721\n",
      "generator total loss:66.62513262187805\n",
      "generator critic loss:0.17277001152801771\n",
      "average true_return: 0.16954498913344845\n",
      "WARNING:tensorflow:Gradients do not exist for variables ['time_lstm_6/recurrent_kernel:0', 'time_lstm_6/input_gate_peephole_weights:0', 'time_lstm_6/forget_gate_peephole_weights:0', 'time_lstm_6/output_gate_peephole_weights:0', 'token_prob_2/kernel:0', 'token_prob_2/bias:0'] when minimizing the loss.\n",
      "generator token loss:21.912516922934614\n",
      "generator gaussian loss:46.28998663442677\n",
      "generator total loss:68.20250355736138\n",
      "generator critic loss:0.15286791679194706\n",
      "average true_return: 0.16692188553670675\n",
      "WARNING:tensorflow:Gradients do not exist for variables ['time_lstm_6/recurrent_kernel:0', 'time_lstm_6/input_gate_peephole_weights:0', 'time_lstm_6/forget_gate_peephole_weights:0', 'time_lstm_6/output_gate_peephole_weights:0', 'token_prob_2/kernel:0', 'token_prob_2/bias:0'] when minimizing the loss.\n",
      "total discriminator loss:0.1014001772187435\n"
     ]
    },
    {
     "name": "stderr",
     "output_type": "stream",
     "text": [
      "54it [04:01,  4.66s/it]"
     ]
    },
    {
     "name": "stdout",
     "output_type": "stream",
     "text": [
      "Training Step: 55\n",
      "generator token loss:22.20187027240188\n",
      "generator gaussian loss:45.727621914265164\n",
      "generator total loss:67.92949218666705\n",
      "generator critic loss:0.17049712629493222\n",
      "average true_return: 0.1521061873340313\n",
      "WARNING:tensorflow:Gradients do not exist for variables ['time_lstm_6/recurrent_kernel:0', 'time_lstm_6/input_gate_peephole_weights:0', 'time_lstm_6/forget_gate_peephole_weights:0', 'time_lstm_6/output_gate_peephole_weights:0', 'token_prob_2/kernel:0', 'token_prob_2/bias:0'] when minimizing the loss.\n",
      "generator token loss:21.698143847184348\n",
      "generator gaussian loss:45.951471837277865\n",
      "generator total loss:67.64961568446222\n",
      "generator critic loss:0.1768030690167759\n",
      "average true_return: 0.1458266218198832\n",
      "WARNING:tensorflow:Gradients do not exist for variables ['time_lstm_6/recurrent_kernel:0', 'time_lstm_6/input_gate_peephole_weights:0', 'time_lstm_6/forget_gate_peephole_weights:0', 'time_lstm_6/output_gate_peephole_weights:0', 'token_prob_2/kernel:0', 'token_prob_2/bias:0'] when minimizing the loss.\n",
      "total discriminator loss:0.0819325612201611\n"
     ]
    },
    {
     "name": "stderr",
     "output_type": "stream",
     "text": [
      "55it [04:05,  4.60s/it]"
     ]
    },
    {
     "name": "stdout",
     "output_type": "stream",
     "text": [
      "Training Step: 56\n",
      "generator token loss:22.053649502012814\n",
      "generator gaussian loss:45.35265181872202\n",
      "generator total loss:67.40630132073484\n",
      "generator critic loss:0.20174232926146002\n",
      "average true_return: 0.1310209485550492\n",
      "WARNING:tensorflow:Gradients do not exist for variables ['time_lstm_6/recurrent_kernel:0', 'time_lstm_6/input_gate_peephole_weights:0', 'time_lstm_6/forget_gate_peephole_weights:0', 'time_lstm_6/output_gate_peephole_weights:0', 'token_prob_2/kernel:0', 'token_prob_2/bias:0'] when minimizing the loss.\n",
      "generator token loss:22.312810714461854\n",
      "generator gaussian loss:44.90325771377874\n",
      "generator total loss:67.21606842824059\n",
      "generator critic loss:0.2084066387539544\n",
      "average true_return: 0.1261813753091646\n",
      "WARNING:tensorflow:Gradients do not exist for variables ['time_lstm_6/recurrent_kernel:0', 'time_lstm_6/input_gate_peephole_weights:0', 'time_lstm_6/forget_gate_peephole_weights:0', 'time_lstm_6/output_gate_peephole_weights:0', 'token_prob_2/kernel:0', 'token_prob_2/bias:0'] when minimizing the loss.\n",
      "total discriminator loss:0.0679498982762502\n"
     ]
    },
    {
     "name": "stderr",
     "output_type": "stream",
     "text": [
      "56it [04:10,  4.57s/it]"
     ]
    },
    {
     "name": "stdout",
     "output_type": "stream",
     "text": [
      "Training Step: 57\n",
      "generator token loss:22.363278039472014\n",
      "generator gaussian loss:45.207616050240226\n",
      "generator total loss:67.57089408971224\n",
      "generator critic loss:0.22414994769535118\n",
      "average true_return: 0.11063292145479998\n",
      "WARNING:tensorflow:Gradients do not exist for variables ['time_lstm_6/recurrent_kernel:0', 'time_lstm_6/input_gate_peephole_weights:0', 'time_lstm_6/forget_gate_peephole_weights:0', 'time_lstm_6/output_gate_peephole_weights:0', 'token_prob_2/kernel:0', 'token_prob_2/bias:0'] when minimizing the loss.\n",
      "generator token loss:22.51060551187644\n",
      "generator gaussian loss:44.908323578926094\n",
      "generator total loss:67.41892909080254\n",
      "generator critic loss:0.22279350269502113\n",
      "average true_return: 0.11131820608562011\n",
      "WARNING:tensorflow:Gradients do not exist for variables ['time_lstm_6/recurrent_kernel:0', 'time_lstm_6/input_gate_peephole_weights:0', 'time_lstm_6/forget_gate_peephole_weights:0', 'time_lstm_6/output_gate_peephole_weights:0', 'token_prob_2/kernel:0', 'token_prob_2/bias:0'] when minimizing the loss.\n",
      "total discriminator loss:0.05584799251086978\n"
     ]
    },
    {
     "name": "stderr",
     "output_type": "stream",
     "text": [
      "57it [04:14,  4.47s/it]"
     ]
    },
    {
     "name": "stdout",
     "output_type": "stream",
     "text": [
      "Training Step: 58\n",
      "generator token loss:22.078792079520976\n",
      "generator gaussian loss:44.2265626133546\n",
      "generator total loss:66.30535469287558\n",
      "generator critic loss:0.2430822949160804\n",
      "average true_return: 0.08817007166531968\n",
      "WARNING:tensorflow:Gradients do not exist for variables ['time_lstm_6/recurrent_kernel:0', 'time_lstm_6/input_gate_peephole_weights:0', 'time_lstm_6/forget_gate_peephole_weights:0', 'time_lstm_6/output_gate_peephole_weights:0', 'token_prob_2/kernel:0', 'token_prob_2/bias:0'] when minimizing the loss.\n",
      "generator token loss:22.202906836033474\n",
      "generator gaussian loss:43.68686620365335\n",
      "generator total loss:65.88977303968683\n",
      "generator critic loss:0.23305921119148773\n",
      "average true_return: 0.09400191170976313\n",
      "WARNING:tensorflow:Gradients do not exist for variables ['time_lstm_6/recurrent_kernel:0', 'time_lstm_6/input_gate_peephole_weights:0', 'time_lstm_6/forget_gate_peephole_weights:0', 'time_lstm_6/output_gate_peephole_weights:0', 'token_prob_2/kernel:0', 'token_prob_2/bias:0'] when minimizing the loss.\n",
      "total discriminator loss:0.04707842975817649\n"
     ]
    },
    {
     "name": "stderr",
     "output_type": "stream",
     "text": [
      "58it [04:19,  4.60s/it]"
     ]
    },
    {
     "name": "stdout",
     "output_type": "stream",
     "text": [
      "Training Step: 59\n",
      "generator token loss:21.81619184637505\n",
      "generator gaussian loss:43.10936661991027\n",
      "generator total loss:64.92555846628532\n",
      "generator critic loss:0.24901422230518697\n",
      "average true_return: 0.07253606115510505\n",
      "WARNING:tensorflow:Gradients do not exist for variables ['time_lstm_6/recurrent_kernel:0', 'time_lstm_6/input_gate_peephole_weights:0', 'time_lstm_6/forget_gate_peephole_weights:0', 'time_lstm_6/output_gate_peephole_weights:0', 'token_prob_2/kernel:0', 'token_prob_2/bias:0'] when minimizing the loss.\n",
      "generator token loss:21.967643432337113\n",
      "generator gaussian loss:42.839572156411755\n",
      "generator total loss:64.80721558874887\n",
      "generator critic loss:0.24431903251859172\n",
      "average true_return: 0.06957633828041042\n",
      "WARNING:tensorflow:Gradients do not exist for variables ['time_lstm_6/recurrent_kernel:0', 'time_lstm_6/input_gate_peephole_weights:0', 'time_lstm_6/forget_gate_peephole_weights:0', 'time_lstm_6/output_gate_peephole_weights:0', 'token_prob_2/kernel:0', 'token_prob_2/bias:0'] when minimizing the loss.\n",
      "total discriminator loss:0.037569861416063596\n"
     ]
    },
    {
     "name": "stderr",
     "output_type": "stream",
     "text": [
      "59it [04:24,  4.63s/it]"
     ]
    },
    {
     "name": "stdout",
     "output_type": "stream",
     "text": [
      "Training Step: 60\n",
      "generator token loss:21.54585139613039\n",
      "generator gaussian loss:41.18486058026852\n",
      "generator total loss:62.73071197639891\n",
      "generator critic loss:0.2704432830711906\n",
      "average true_return: 0.05122237507739587\n",
      "WARNING:tensorflow:Gradients do not exist for variables ['time_lstm_6/recurrent_kernel:0', 'time_lstm_6/input_gate_peephole_weights:0', 'time_lstm_6/forget_gate_peephole_weights:0', 'time_lstm_6/output_gate_peephole_weights:0', 'token_prob_2/kernel:0', 'token_prob_2/bias:0'] when minimizing the loss.\n",
      "generator token loss:22.07869916914607\n",
      "generator gaussian loss:40.89773007013115\n",
      "generator total loss:62.97642923927722\n",
      "generator critic loss:0.2630166665711308\n",
      "average true_return: 0.05301876471298092\n",
      "WARNING:tensorflow:Gradients do not exist for variables ['time_lstm_6/recurrent_kernel:0', 'time_lstm_6/input_gate_peephole_weights:0', 'time_lstm_6/forget_gate_peephole_weights:0', 'time_lstm_6/output_gate_peephole_weights:0', 'token_prob_2/kernel:0', 'token_prob_2/bias:0'] when minimizing the loss.\n",
      "total discriminator loss:0.025773741408550783\n"
     ]
    },
    {
     "name": "stderr",
     "output_type": "stream",
     "text": [
      "60it [04:28,  4.62s/it]"
     ]
    },
    {
     "name": "stdout",
     "output_type": "stream",
     "text": [
      "Training Step: 61\n",
      "generator token loss:21.708885294532585\n",
      "generator gaussian loss:40.26169615182306\n",
      "generator total loss:61.970581446355645\n",
      "generator critic loss:0.2758462006408947\n",
      "average true_return: 0.048350893302720126\n",
      "WARNING:tensorflow:Gradients do not exist for variables ['time_lstm_6/recurrent_kernel:0', 'time_lstm_6/input_gate_peephole_weights:0', 'time_lstm_6/forget_gate_peephole_weights:0', 'time_lstm_6/output_gate_peephole_weights:0', 'token_prob_2/kernel:0', 'token_prob_2/bias:0'] when minimizing the loss.\n",
      "generator token loss:21.508949108022918\n",
      "generator gaussian loss:39.423703831969235\n",
      "generator total loss:60.93265293999215\n",
      "generator critic loss:0.2740412566419569\n",
      "average true_return: 0.04170203450323583\n",
      "WARNING:tensorflow:Gradients do not exist for variables ['time_lstm_6/recurrent_kernel:0', 'time_lstm_6/input_gate_peephole_weights:0', 'time_lstm_6/forget_gate_peephole_weights:0', 'time_lstm_6/output_gate_peephole_weights:0', 'token_prob_2/kernel:0', 'token_prob_2/bias:0'] when minimizing the loss.\n",
      "total discriminator loss:0.02455989544667282\n"
     ]
    },
    {
     "name": "stderr",
     "output_type": "stream",
     "text": [
      "61it [04:33,  4.61s/it]"
     ]
    },
    {
     "name": "stdout",
     "output_type": "stream",
     "text": [
      "Training Step: 62\n",
      "generator token loss:21.382280151070244\n",
      "generator gaussian loss:39.17866591931704\n",
      "generator total loss:60.56094607038729\n",
      "generator critic loss:0.2908676700672856\n",
      "average true_return: 0.03287645887627792\n",
      "WARNING:tensorflow:Gradients do not exist for variables ['time_lstm_6/recurrent_kernel:0', 'time_lstm_6/input_gate_peephole_weights:0', 'time_lstm_6/forget_gate_peephole_weights:0', 'time_lstm_6/output_gate_peephole_weights:0', 'token_prob_2/kernel:0', 'token_prob_2/bias:0'] when minimizing the loss.\n",
      "generator token loss:21.567534847183325\n",
      "generator gaussian loss:39.380122449888674\n",
      "generator total loss:60.947657297072\n",
      "generator critic loss:0.28799899671624424\n",
      "average true_return: 0.02664109580833646\n",
      "WARNING:tensorflow:Gradients do not exist for variables ['time_lstm_6/recurrent_kernel:0', 'time_lstm_6/input_gate_peephole_weights:0', 'time_lstm_6/forget_gate_peephole_weights:0', 'time_lstm_6/output_gate_peephole_weights:0', 'token_prob_2/kernel:0', 'token_prob_2/bias:0'] when minimizing the loss.\n",
      "total discriminator loss:0.016083415948679992\n"
     ]
    },
    {
     "name": "stderr",
     "output_type": "stream",
     "text": [
      "62it [04:38,  4.74s/it]"
     ]
    },
    {
     "name": "stdout",
     "output_type": "stream",
     "text": [
      "Training Step: 63\n",
      "generator token loss:21.743009253363322\n",
      "generator gaussian loss:37.716410871199834\n",
      "generator total loss:59.45942012456315\n",
      "generator critic loss:0.29998485395132524\n",
      "average true_return: 0.02009859108568799\n",
      "WARNING:tensorflow:Gradients do not exist for variables ['time_lstm_6/recurrent_kernel:0', 'time_lstm_6/input_gate_peephole_weights:0', 'time_lstm_6/forget_gate_peephole_weights:0', 'time_lstm_6/output_gate_peephole_weights:0', 'token_prob_2/kernel:0', 'token_prob_2/bias:0'] when minimizing the loss.\n",
      "generator token loss:21.56157334136801\n",
      "generator gaussian loss:38.22871351667053\n",
      "generator total loss:59.79028685803854\n",
      "generator critic loss:0.29431700520726245\n",
      "average true_return: 0.016851725335191813\n",
      "WARNING:tensorflow:Gradients do not exist for variables ['time_lstm_6/recurrent_kernel:0', 'time_lstm_6/input_gate_peephole_weights:0', 'time_lstm_6/forget_gate_peephole_weights:0', 'time_lstm_6/output_gate_peephole_weights:0', 'token_prob_2/kernel:0', 'token_prob_2/bias:0'] when minimizing the loss.\n",
      "total discriminator loss:0.008675224704860166\n"
     ]
    },
    {
     "name": "stderr",
     "output_type": "stream",
     "text": [
      "63it [04:42,  4.59s/it]"
     ]
    },
    {
     "name": "stdout",
     "output_type": "stream",
     "text": [
      "Training Step: 64\n",
      "generator token loss:21.705832851968957\n",
      "generator gaussian loss:37.664342101639946\n",
      "generator total loss:59.3701749536089\n",
      "generator critic loss:0.3012578702489559\n",
      "average true_return: 0.012619433473253987\n",
      "WARNING:tensorflow:Gradients do not exist for variables ['time_lstm_6/recurrent_kernel:0', 'time_lstm_6/input_gate_peephole_weights:0', 'time_lstm_6/forget_gate_peephole_weights:0', 'time_lstm_6/output_gate_peephole_weights:0', 'token_prob_2/kernel:0', 'token_prob_2/bias:0'] when minimizing the loss.\n",
      "generator token loss:22.091864064794265\n",
      "generator gaussian loss:37.44933292973168\n",
      "generator total loss:59.54119699452595\n",
      "generator critic loss:0.2954770502667919\n",
      "average true_return: 0.009684241616608894\n",
      "WARNING:tensorflow:Gradients do not exist for variables ['time_lstm_6/recurrent_kernel:0', 'time_lstm_6/input_gate_peephole_weights:0', 'time_lstm_6/forget_gate_peephole_weights:0', 'time_lstm_6/output_gate_peephole_weights:0', 'token_prob_2/kernel:0', 'token_prob_2/bias:0'] when minimizing the loss.\n",
      "total discriminator loss:0.008970760978223852\n"
     ]
    },
    {
     "name": "stderr",
     "output_type": "stream",
     "text": [
      "64it [04:46,  4.53s/it]"
     ]
    },
    {
     "name": "stdout",
     "output_type": "stream",
     "text": [
      "Training Step: 65\n",
      "generator token loss:21.683524728526415\n",
      "generator gaussian loss:36.72884818786102\n",
      "generator total loss:58.41237291638743\n",
      "generator critic loss:0.2928090185214301\n",
      "average true_return: 0.011441689317587343\n",
      "WARNING:tensorflow:Gradients do not exist for variables ['time_lstm_6/recurrent_kernel:0', 'time_lstm_6/input_gate_peephole_weights:0', 'time_lstm_6/forget_gate_peephole_weights:0', 'time_lstm_6/output_gate_peephole_weights:0', 'token_prob_2/kernel:0', 'token_prob_2/bias:0'] when minimizing the loss.\n",
      "generator token loss:21.41298908734032\n",
      "generator gaussian loss:37.17391479401967\n",
      "generator total loss:58.586903881359994\n",
      "generator critic loss:0.2868788309606056\n",
      "average true_return: 0.01120882290593159\n",
      "WARNING:tensorflow:Gradients do not exist for variables ['time_lstm_6/recurrent_kernel:0', 'time_lstm_6/input_gate_peephole_weights:0', 'time_lstm_6/forget_gate_peephole_weights:0', 'time_lstm_6/output_gate_peephole_weights:0', 'token_prob_2/kernel:0', 'token_prob_2/bias:0'] when minimizing the loss.\n",
      "total discriminator loss:0.005960980606148169\n"
     ]
    },
    {
     "name": "stderr",
     "output_type": "stream",
     "text": [
      "65it [04:51,  4.43s/it]"
     ]
    },
    {
     "name": "stdout",
     "output_type": "stream",
     "text": [
      "Training Step: 66\n",
      "generator token loss:21.231106567869215\n",
      "generator gaussian loss:36.74145940620021\n",
      "generator total loss:57.972565974069425\n",
      "generator critic loss:0.2890420459526869\n",
      "average true_return: 0.0033935675237614865\n",
      "WARNING:tensorflow:Gradients do not exist for variables ['time_lstm_6/recurrent_kernel:0', 'time_lstm_6/input_gate_peephole_weights:0', 'time_lstm_6/forget_gate_peephole_weights:0', 'time_lstm_6/output_gate_peephole_weights:0', 'token_prob_2/kernel:0', 'token_prob_2/bias:0'] when minimizing the loss.\n",
      "generator token loss:21.763046342425184\n",
      "generator gaussian loss:35.86213211792339\n",
      "generator total loss:57.62517846034857\n",
      "generator critic loss:0.2844495360531736\n",
      "average true_return: 0.003381415873193089\n",
      "WARNING:tensorflow:Gradients do not exist for variables ['time_lstm_6/recurrent_kernel:0', 'time_lstm_6/input_gate_peephole_weights:0', 'time_lstm_6/forget_gate_peephole_weights:0', 'time_lstm_6/output_gate_peephole_weights:0', 'token_prob_2/kernel:0', 'token_prob_2/bias:0'] when minimizing the loss.\n",
      "total discriminator loss:0.0019158856611739422\n"
     ]
    },
    {
     "name": "stderr",
     "output_type": "stream",
     "text": [
      "66it [04:55,  4.38s/it]"
     ]
    },
    {
     "name": "stdout",
     "output_type": "stream",
     "text": [
      "Training Step: 67\n",
      "generator token loss:21.74412126686343\n",
      "generator gaussian loss:36.29993793388725\n",
      "generator total loss:58.04405920075068\n",
      "generator critic loss:0.2804667589692508\n",
      "average true_return: 0.0029335256973039236\n",
      "WARNING:tensorflow:Gradients do not exist for variables ['time_lstm_6/recurrent_kernel:0', 'time_lstm_6/input_gate_peephole_weights:0', 'time_lstm_6/forget_gate_peephole_weights:0', 'time_lstm_6/output_gate_peephole_weights:0', 'token_prob_2/kernel:0', 'token_prob_2/bias:0'] when minimizing the loss.\n",
      "generator token loss:21.83046009473075\n",
      "generator gaussian loss:36.71970531295939\n",
      "generator total loss:58.550165407690145\n",
      "generator critic loss:0.273577605462377\n",
      "average true_return: 0.0058008448675067725\n",
      "WARNING:tensorflow:Gradients do not exist for variables ['time_lstm_6/recurrent_kernel:0', 'time_lstm_6/input_gate_peephole_weights:0', 'time_lstm_6/forget_gate_peephole_weights:0', 'time_lstm_6/output_gate_peephole_weights:0', 'token_prob_2/kernel:0', 'token_prob_2/bias:0'] when minimizing the loss.\n",
      "total discriminator loss:0.0016254927621651334\n"
     ]
    },
    {
     "name": "stderr",
     "output_type": "stream",
     "text": [
      "67it [04:59,  4.45s/it]"
     ]
    },
    {
     "name": "stdout",
     "output_type": "stream",
     "text": [
      "Training Step: 68\n",
      "generator token loss:22.085032313036496\n",
      "generator gaussian loss:35.88075244284408\n",
      "generator total loss:57.96578475588058\n",
      "generator critic loss:0.2723421320603729\n",
      "average true_return: 0.002820426774434274\n",
      "WARNING:tensorflow:Gradients do not exist for variables ['time_lstm_6/recurrent_kernel:0', 'time_lstm_6/input_gate_peephole_weights:0', 'time_lstm_6/forget_gate_peephole_weights:0', 'time_lstm_6/output_gate_peephole_weights:0', 'token_prob_2/kernel:0', 'token_prob_2/bias:0'] when minimizing the loss.\n",
      "generator token loss:21.822246376277043\n",
      "generator gaussian loss:35.09830177341876\n",
      "generator total loss:56.920548149695804\n",
      "generator critic loss:0.2689910103569291\n",
      "average true_return: 0.002824536567861387\n",
      "WARNING:tensorflow:Gradients do not exist for variables ['time_lstm_6/recurrent_kernel:0', 'time_lstm_6/input_gate_peephole_weights:0', 'time_lstm_6/forget_gate_peephole_weights:0', 'time_lstm_6/output_gate_peephole_weights:0', 'token_prob_2/kernel:0', 'token_prob_2/bias:0'] when minimizing the loss.\n",
      "total discriminator loss:0.003109534414382967\n"
     ]
    },
    {
     "name": "stderr",
     "output_type": "stream",
     "text": [
      "68it [05:04,  4.55s/it]"
     ]
    },
    {
     "name": "stdout",
     "output_type": "stream",
     "text": [
      "Training Step: 69\n",
      "generator token loss:21.96175991129418\n",
      "generator gaussian loss:34.70026947609432\n",
      "generator total loss:56.6620293873885\n",
      "generator critic loss:0.2680463256128896\n",
      "average true_return: 7.742822684453824e-07\n",
      "WARNING:tensorflow:Gradients do not exist for variables ['time_lstm_6/recurrent_kernel:0', 'time_lstm_6/input_gate_peephole_weights:0', 'time_lstm_6/forget_gate_peephole_weights:0', 'time_lstm_6/output_gate_peephole_weights:0', 'token_prob_2/kernel:0', 'token_prob_2/bias:0'] when minimizing the loss.\n",
      "generator token loss:22.183894381632673\n",
      "generator gaussian loss:33.53302456408571\n",
      "generator total loss:55.716918945718376\n",
      "generator critic loss:0.2567660771247984\n",
      "average true_return: 0.011052196175088562\n",
      "WARNING:tensorflow:Gradients do not exist for variables ['time_lstm_6/recurrent_kernel:0', 'time_lstm_6/input_gate_peephole_weights:0', 'time_lstm_6/forget_gate_peephole_weights:0', 'time_lstm_6/output_gate_peephole_weights:0', 'token_prob_2/kernel:0', 'token_prob_2/bias:0'] when minimizing the loss.\n",
      "total discriminator loss:0.0015199301229287241\n"
     ]
    },
    {
     "name": "stderr",
     "output_type": "stream",
     "text": [
      "69it [05:08,  4.44s/it]"
     ]
    },
    {
     "name": "stdout",
     "output_type": "stream",
     "text": [
      "Training Step: 70\n",
      "generator token loss:22.34480551143158\n",
      "generator gaussian loss:34.64247873742892\n",
      "generator total loss:56.9872842488605\n",
      "generator critic loss:0.2586601828120188\n",
      "average true_return: 0.005435327152692973\n",
      "WARNING:tensorflow:Gradients do not exist for variables ['time_lstm_6/recurrent_kernel:0', 'time_lstm_6/input_gate_peephole_weights:0', 'time_lstm_6/forget_gate_peephole_weights:0', 'time_lstm_6/output_gate_peephole_weights:0', 'token_prob_2/kernel:0', 'token_prob_2/bias:0'] when minimizing the loss.\n",
      "generator token loss:21.89454615537613\n",
      "generator gaussian loss:33.79780593806558\n",
      "generator total loss:55.69235209344171\n",
      "generator critic loss:0.2540190558252612\n",
      "average true_return: 0.00814267198033907\n",
      "WARNING:tensorflow:Gradients do not exist for variables ['time_lstm_6/recurrent_kernel:0', 'time_lstm_6/input_gate_peephole_weights:0', 'time_lstm_6/forget_gate_peephole_weights:0', 'time_lstm_6/output_gate_peephole_weights:0', 'token_prob_2/kernel:0', 'token_prob_2/bias:0'] when minimizing the loss.\n",
      "total discriminator loss:0.0029886868243601786\n"
     ]
    },
    {
     "name": "stderr",
     "output_type": "stream",
     "text": [
      "70it [05:13,  4.43s/it]"
     ]
    },
    {
     "name": "stdout",
     "output_type": "stream",
     "text": [
      "Training Step: 71\n",
      "generator token loss:21.92741167530177\n",
      "generator gaussian loss:33.5890322045802\n",
      "generator total loss:55.51644387988197\n",
      "generator critic loss:0.2582370345418731\n",
      "average true_return: 2.3138040816052606e-09\n",
      "WARNING:tensorflow:Gradients do not exist for variables ['time_lstm_6/recurrent_kernel:0', 'time_lstm_6/input_gate_peephole_weights:0', 'time_lstm_6/forget_gate_peephole_weights:0', 'time_lstm_6/output_gate_peephole_weights:0', 'token_prob_2/kernel:0', 'token_prob_2/bias:0'] when minimizing the loss.\n",
      "generator token loss:21.89242687308036\n",
      "generator gaussian loss:33.336913325530055\n",
      "generator total loss:55.229340198610416\n",
      "generator critic loss:0.25235907147348763\n",
      "average true_return: 0.005347315168114906\n",
      "WARNING:tensorflow:Gradients do not exist for variables ['time_lstm_6/recurrent_kernel:0', 'time_lstm_6/input_gate_peephole_weights:0', 'time_lstm_6/forget_gate_peephole_weights:0', 'time_lstm_6/output_gate_peephole_weights:0', 'token_prob_2/kernel:0', 'token_prob_2/bias:0'] when minimizing the loss.\n",
      "total discriminator loss:0.001466175830029642\n"
     ]
    },
    {
     "name": "stderr",
     "output_type": "stream",
     "text": [
      "71it [05:18,  4.53s/it]"
     ]
    },
    {
     "name": "stdout",
     "output_type": "stream",
     "text": [
      "Training Step: 72\n",
      "generator token loss:22.395775683608935\n",
      "generator gaussian loss:33.72128431509552\n",
      "generator total loss:56.11705999870445\n",
      "generator critic loss:0.2528726308008455\n",
      "average true_return: 0.0026330087484324484\n",
      "WARNING:tensorflow:Gradients do not exist for variables ['time_lstm_6/recurrent_kernel:0', 'time_lstm_6/input_gate_peephole_weights:0', 'time_lstm_6/forget_gate_peephole_weights:0', 'time_lstm_6/output_gate_peephole_weights:0', 'token_prob_2/kernel:0', 'token_prob_2/bias:0'] when minimizing the loss.\n",
      "generator token loss:22.037114992783735\n",
      "generator gaussian loss:33.64924601938603\n",
      "generator total loss:55.68636101216976\n",
      "generator critic loss:0.24471581329864026\n",
      "average true_return: 0.010523085844987266\n",
      "WARNING:tensorflow:Gradients do not exist for variables ['time_lstm_6/recurrent_kernel:0', 'time_lstm_6/input_gate_peephole_weights:0', 'time_lstm_6/forget_gate_peephole_weights:0', 'time_lstm_6/output_gate_peephole_weights:0', 'token_prob_2/kernel:0', 'token_prob_2/bias:0'] when minimizing the loss.\n",
      "total discriminator loss:0.0\n"
     ]
    },
    {
     "name": "stderr",
     "output_type": "stream",
     "text": [
      "72it [05:22,  4.49s/it]"
     ]
    },
    {
     "name": "stdout",
     "output_type": "stream",
     "text": [
      "Training Step: 73\n",
      "generator token loss:21.455148473055885\n",
      "generator gaussian loss:32.769143184996395\n",
      "generator total loss:54.22429165805228\n",
      "generator critic loss:0.24329621603048668\n",
      "average true_return: 0.01038692930296399\n",
      "WARNING:tensorflow:Gradients do not exist for variables ['time_lstm_6/recurrent_kernel:0', 'time_lstm_6/input_gate_peephole_weights:0', 'time_lstm_6/forget_gate_peephole_weights:0', 'time_lstm_6/output_gate_peephole_weights:0', 'token_prob_2/kernel:0', 'token_prob_2/bias:0'] when minimizing the loss.\n",
      "generator token loss:21.563760593048798\n",
      "generator gaussian loss:33.29358744596279\n",
      "generator total loss:54.85734803901159\n",
      "generator critic loss:0.2460548736850135\n",
      "average true_return: 0.005190514287010596\n",
      "WARNING:tensorflow:Gradients do not exist for variables ['time_lstm_6/recurrent_kernel:0', 'time_lstm_6/input_gate_peephole_weights:0', 'time_lstm_6/forget_gate_peephole_weights:0', 'time_lstm_6/output_gate_peephole_weights:0', 'token_prob_2/kernel:0', 'token_prob_2/bias:0'] when minimizing the loss.\n",
      "total discriminator loss:0.002838670786486432\n"
     ]
    },
    {
     "name": "stderr",
     "output_type": "stream",
     "text": [
      "73it [05:26,  4.43s/it]"
     ]
    },
    {
     "name": "stdout",
     "output_type": "stream",
     "text": [
      "Training Step: 74\n",
      "generator token loss:22.21627831146531\n",
      "generator gaussian loss:32.607239671704924\n",
      "generator total loss:54.823517983170234\n",
      "generator critic loss:0.24895610274657715\n",
      "average true_return: 6.340765468469944e-13\n",
      "WARNING:tensorflow:Gradients do not exist for variables ['time_lstm_6/recurrent_kernel:0', 'time_lstm_6/input_gate_peephole_weights:0', 'time_lstm_6/forget_gate_peephole_weights:0', 'time_lstm_6/output_gate_peephole_weights:0', 'token_prob_2/kernel:0', 'token_prob_2/bias:0'] when minimizing the loss.\n",
      "generator token loss:22.486175829609515\n",
      "generator gaussian loss:32.847945189375494\n",
      "generator total loss:55.33412101898501\n",
      "generator critic loss:0.24611392688945352\n",
      "average true_return: 0.002567299777306384\n",
      "WARNING:tensorflow:Gradients do not exist for variables ['time_lstm_6/recurrent_kernel:0', 'time_lstm_6/input_gate_peephole_weights:0', 'time_lstm_6/forget_gate_peephole_weights:0', 'time_lstm_6/output_gate_peephole_weights:0', 'token_prob_2/kernel:0', 'token_prob_2/bias:0'] when minimizing the loss.\n",
      "total discriminator loss:0.0028011252886475657\n"
     ]
    },
    {
     "name": "stderr",
     "output_type": "stream",
     "text": [
      "74it [05:31,  4.60s/it]"
     ]
    },
    {
     "name": "stdout",
     "output_type": "stream",
     "text": [
      "Training Step: 75\n",
      "generator token loss:21.928803413723948\n",
      "generator gaussian loss:33.03768080269702\n",
      "generator total loss:54.966484216420966\n",
      "generator critic loss:0.24238358982904043\n",
      "average true_return: 0.005066392447258903\n",
      "WARNING:tensorflow:Gradients do not exist for variables ['time_lstm_6/recurrent_kernel:0', 'time_lstm_6/input_gate_peephole_weights:0', 'time_lstm_6/forget_gate_peephole_weights:0', 'time_lstm_6/output_gate_peephole_weights:0', 'token_prob_2/kernel:0', 'token_prob_2/bias:0'] when minimizing the loss.\n",
      "generator token loss:22.218242095336684\n",
      "generator gaussian loss:32.37942663330702\n",
      "generator total loss:54.597668728643704\n",
      "generator critic loss:0.23747063781385536\n",
      "average true_return: 0.010132407790184098\n",
      "WARNING:tensorflow:Gradients do not exist for variables ['time_lstm_6/recurrent_kernel:0', 'time_lstm_6/input_gate_peephole_weights:0', 'time_lstm_6/forget_gate_peephole_weights:0', 'time_lstm_6/output_gate_peephole_weights:0', 'token_prob_2/kernel:0', 'token_prob_2/bias:0'] when minimizing the loss.\n",
      "total discriminator loss:0.0013814266869134647\n"
     ]
    },
    {
     "name": "stderr",
     "output_type": "stream",
     "text": [
      "75it [05:36,  4.49s/it]"
     ]
    }
   ],
   "source": [
    "step = 0\n",
    "\n",
    "for features_batch, _ in tqdm(dataset.take(_TOTAL_STEPS)):\n",
    "    step += 1\n",
    "    print('Training Step:', step)\n",
    "    # train the generator\n",
    "    for _ in range(_G_STEPS):\n",
    "        gen_token_loss, gen_gaussian_loss, critic_network_loss, average_true_return = train_generator(generator, discriminator, critic, \n",
    "                                                                                 batch_size=BATCH_SIZE, T=T, verbose=True, \n",
    "                                                                                 weight_gaussian_loss=WEIGHT_GAUSSIAN_LOSS,\n",
    "                                                                                 optimizer=optimizer\n",
    "                                                                                )\n",
    "        gen_token_loss_history.append(gen_token_loss.numpy())\n",
    "        gen_gaussian_loss_history.append(gen_gaussian_loss.numpy())    \n",
    "        critic_network_loss_history.append(critic_network_loss.numpy())\n",
    "        average_true_return_history.append(average_true_return.numpy())\n",
    "    \n",
    "    # train the discriminator\n",
    "    for _ in range(_D_STEPS):\n",
    "        disc_ce_loss = train_discriminator(features_batch, generator, discriminator, \n",
    "                                           batch_size=BATCH_SIZE, T=T, verbose=True, \n",
    "                                           optimizer=optimizer)\n",
    "        disc_ce_loss_history.append(disc_ce_loss.numpy())"
   ]
  },
  {
   "cell_type": "markdown",
   "metadata": {},
   "source": [
    "## 1000 steps: Loss over training"
   ]
  },
  {
   "cell_type": "code",
   "execution_count": null,
   "metadata": {},
   "outputs": [],
   "source": [
    "x = range(len(gen_token_loss_history))\n",
    "plt.figure(dpi=100)\n",
    "plt.plot(x, gen_token_loss_history)\n",
    "plt.title('Generator Toke Loss History')\n",
    "plt.xlabel('training steps')\n",
    "\n",
    "x = range(len(gen_gaussian_loss_history))\n",
    "plt.figure(dpi=100)\n",
    "plt.plot(x, gen_gaussian_loss_history)\n",
    "plt.title('Generator Gaussian Loss History')\n",
    "plt.xlabel('training steps')\n",
    "\n",
    "x = range(len(disc_ce_loss_history))\n",
    "plt.figure(dpi=100)\n",
    "plt.plot(x, disc_ce_loss_history)\n",
    "plt.title('Discriminator CE Loss History')\n",
    "plt.xlabel('training steps')"
   ]
  },
  {
   "cell_type": "code",
   "execution_count": null,
   "metadata": {},
   "outputs": [],
   "source": [
    "x = range(len(critic_network_loss_history))\n",
    "plt.figure(dpi=100)\n",
    "plt.plot(x, critic_network_loss_history)\n",
    "plt.title('Critic Loss History')\n",
    "plt.xlabel('training steps')\n",
    "\n",
    "\n",
    "x = range(len(average_true_return_history))\n",
    "plt.figure(dpi=100)\n",
    "plt.plot(x, average_true_return_history)\n",
    "plt.title('Average True Return History')\n",
    "plt.xlabel('training steps')"
   ]
  },
  {
   "cell_type": "code",
   "execution_count": null,
   "metadata": {},
   "outputs": [],
   "source": [
    "loss_save_dir = './experiment_results/after_1000_steps/loss'\n",
    "if not os.path.exists(loss_save_dir):\n",
    "    os.makedirs(loss_save_dir)\n",
    "\n",
    "with open(os.path.join(loss_save_dir, 'gen_token_loss_history.pickle'), 'wb') as f:\n",
    "    pickle.dump(gen_token_loss_history, f)\n",
    "\n",
    "with open(os.path.join(loss_save_dir, 'gen_gaussian_loss_history.pickle'), 'wb') as f:\n",
    "    pickle.dump(gen_gaussian_loss_history, f)\n",
    "    \n",
    "with open(os.path.join(loss_save_dir, 'critic_network_loss_history.pickle'), 'wb') as f:\n",
    "    pickle.dump(critic_network_loss_history, f)\n",
    "\n",
    "with open(os.path.join(loss_save_dir, 'disc_ce_loss_history.pickle'), 'wb') as f:\n",
    "    pickle.dump(disc_ce_loss_history, f)"
   ]
  },
  {
   "cell_type": "markdown",
   "metadata": {},
   "source": [
    "## 1000 steps: Save G and D models"
   ]
  },
  {
   "cell_type": "code",
   "execution_count": null,
   "metadata": {},
   "outputs": [],
   "source": [
    "G_save_dir = './experiment_results/after_1000_steps/gen_weights'\n",
    "if not os.path.exists(G_save_dir):\n",
    "    os.makedirs(G_save_dir)\n",
    "    \n",
    "G_save_path = os.path.join(G_save_dir, 'gen_model.tf')\n",
    "generator.save_weights(G_save_path)"
   ]
  },
  {
   "cell_type": "code",
   "execution_count": null,
   "metadata": {},
   "outputs": [],
   "source": [
    "!pwd"
   ]
  },
  {
   "cell_type": "code",
   "execution_count": null,
   "metadata": {},
   "outputs": [],
   "source": [
    "D_save_dir = './experiment_results/after_1000_steps/disc_weights'\n",
    "if not os.path.exists(D_save_dir):\n",
    "    os.makedirs(D_save_dir)\n",
    "    \n",
    "D_save_path = os.path.join(D_save_dir, 'disc_model.tf')\n",
    "discriminator.save_weights(D_save_path)"
   ]
  },
  {
   "cell_type": "markdown",
   "metadata": {},
   "source": [
    "## 1000 steps: Generate sequences "
   ]
  },
  {
   "cell_type": "code",
   "execution_count": null,
   "metadata": {
    "scrolled": false
   },
   "outputs": [],
   "source": [
    "N_gen = 10000\n",
    "generated_seqs = generate_sequences(N_gen, generator, batch_size=BATCH_SIZE, T=T, recover_to_timestamp=True)"
   ]
  },
  {
   "cell_type": "code",
   "execution_count": null,
   "metadata": {},
   "outputs": [],
   "source": [
    "generated_seqs_save_dir = './experiment_results/after_1000_steps/generated_seqs'\n",
    "if not os.path.exists(generated_seqs_save_dir):\n",
    "    os.makedirs(generated_seqs_save_dir)\n",
    "\n",
    "with open(os.path.join(generated_seqs_save_dir, 'generated_seqs.pickle'), 'wb') as f:\n",
    "    pickle.dump(generated_seqs, f)"
   ]
  },
  {
   "cell_type": "code",
   "execution_count": null,
   "metadata": {},
   "outputs": [],
   "source": [
    "generated_seqs"
   ]
  },
  {
   "cell_type": "markdown",
   "metadata": {},
   "source": [
    "## Debug Session "
   ]
  },
  {
   "cell_type": "code",
   "execution_count": null,
   "metadata": {},
   "outputs": [],
   "source": [
    "batch_size = BATCH_SIZE\n",
    "init_token = 1\n",
    "end_token = 0\n",
    "max_time = 1024"
   ]
  },
  {
   "cell_type": "code",
   "execution_count": null,
   "metadata": {},
   "outputs": [],
   "source": [
    "reload_G = build_G(\n",
    "    batch_size=BATCH_SIZE,\n",
    "    event_vocab_dim = EVENT_VOCAB_DIM,\n",
    "    emb_dim = EMB_DIM,\n",
    "    hidden_dim= HIDDEN_DIM)\n",
    "\n",
    "reload_G.build(input_shape=((BATCH_SIZE, T, 1), (BATCH_SIZE, T, 1)))\n",
    "\n",
    "G_save_path = './experiment_results/long_seqs_no_gm/init_pretrained/pretrained_gen_weights/model.tf'\n",
    "reload_G.load_weights(G_save_path)\n",
    "\n",
    "G = reload_G"
   ]
  },
  {
   "cell_type": "code",
   "execution_count": null,
   "metadata": {},
   "outputs": [],
   "source": [
    "# Begin from dummy init state (init_token=1, init_timestamp=0.0)\n",
    "curr_state_et = np.zeros([batch_size, 1, 1])\n",
    "curr_state_et[:, 0, 0] = init_token\n",
    "\n",
    "curr_state_ts = np.zeros([batch_size, 1, 1])\n",
    "curr_state_ts[:, 0, 0] = 0.0\n",
    "\n",
    "all_state_et = curr_state_et\n",
    "all_state_ts = curr_state_ts\n",
    "\n",
    "episode_token_probs = tf.constant(1., dtype=tf.float64, shape=(batch_size, 1))\n",
    "gaussian_log = tf.constant(0., dtype=tf.float64, shape=(batch_size, 1))\n",
    "\n",
    "G.reset_states()\n",
    "\n",
    "for step in range(1, T):  # sequence length\n",
    "    token_prob, time_out = G([curr_state_et, curr_state_ts])\n",
    "\n",
    "    sampled_et = tf.random.categorical(tf.math.log(token_prob), num_samples=1, dtype=tf.int32)\n",
    "    sampled_et = tf.reshape(sampled_et, [batch_size, 1, 1]).numpy().astype(float)\n",
    "\n",
    "    # get the chosen token probability per batch for each step\n",
    "    sampled_et_indices = sampled_et.squeeze().astype(int).tolist()\n",
    "    sampled_token_prob = token_prob.numpy()[np.arange(len(token_prob)), sampled_et_indices].reshape((batch_size, 1))\n",
    "    episode_token_probs = tf.concat([episode_token_probs, sampled_token_prob], axis=1)\n",
    "\n",
    "    # stop genererating once hit end_token\n",
    "    cond_end_token = tf.equal(curr_state_et, end_token)\n",
    "    curr_state_et = tf.where(cond_end_token, curr_state_et, sampled_et)\n",
    "    all_state_et = tf.concat([all_state_et, curr_state_et], axis=1)\n",
    "\n",
    "    # generate one timstamp using time_out\n",
    "    sampled_ts_raw = time_out.sample()\n",
    "    sampled_ts = tf.clip_by_value(tf.reshape(sampled_ts_raw, (batch_size, 1, 1))\n",
    "                                  , clip_value_min=1, clip_value_max=max_time)\n",
    "\n",
    "    # get the gaussian log likelihood for the sampled timestamps\n",
    "    sampled_gaussian_log = time_out.log_prob(sampled_ts_raw)\n",
    "    gaussian_log = tf.concat([gaussian_log, sampled_gaussian_log], axis=1)\n",
    "\n",
    "    # stop generating once hit end_token\n",
    "    curr_state_ts = tf.where(cond_end_token, curr_state_ts, sampled_ts)\n",
    "    all_state_ts = tf.concat([all_state_ts, curr_state_ts], axis=1)"
   ]
  }
 ],
 "metadata": {
  "kernelspec": {
   "display_name": "Python 3",
   "language": "python",
   "name": "python3"
  },
  "language_info": {
   "codemirror_mode": {
    "name": "ipython",
    "version": 3
   },
   "file_extension": ".py",
   "mimetype": "text/x-python",
   "name": "python",
   "nbconvert_exporter": "python",
   "pygments_lexer": "ipython3",
   "version": "3.7.6"
  }
 },
 "nbformat": 4,
 "nbformat_minor": 4
}
