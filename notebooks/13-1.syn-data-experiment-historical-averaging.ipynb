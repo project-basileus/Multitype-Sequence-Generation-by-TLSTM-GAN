{
 "cells": [
  {
   "cell_type": "code",
   "execution_count": 1,
   "id": "starting-plastic",
   "metadata": {},
   "outputs": [],
   "source": [
    "import os \n",
    "import sys\n",
    "from tqdm import tqdm\n",
    "import importlib\n",
    "import numpy as np\n",
    "import pickle\n",
    "import tensorflow as tf\n",
    "import matplotlib.pyplot as plt\n",
    "\n",
    "module_path = \"/Users/zhuo/repos/multitype-sequence-generation-by-tlstm-gan/\"\n",
    "data_path = \"/Users/zhuo/repos/multitype-sequence-generation-by-tlstm-gan/data/long_seqs_v11/\"\n",
    "model_save_dir = '/Users/zhuo/repos/multitype-sequence-generation-by-tlstm-gan/models/combined-gs-v11'\n",
    "\n",
    "if module_path not in sys.path:\n",
    "    sys.path.append(module_path)"
   ]
  },
  {
   "cell_type": "code",
   "execution_count": 2,
   "id": "blessed-simulation",
   "metadata": {},
   "outputs": [],
   "source": [
    "BATCH_SIZE = 256\n",
    "T = 20\n",
    "VOCAB = ['start', 'view', 'click', 'install']\n",
    "EVENT_VOCAB_DIM = len(VOCAB)\n",
    "EMB_DIM = 16\n",
    "HIDDEN_DIM = 64"
   ]
  },
  {
   "cell_type": "markdown",
   "id": "juvenile-object",
   "metadata": {},
   "source": [
    "## Load Data"
   ]
  },
  {
   "cell_type": "code",
   "execution_count": 3,
   "id": "reflected-gamma",
   "metadata": {},
   "outputs": [],
   "source": [
    "pos_data_path = os.path.join(data_path, 'positive_long_sequences.pickle')\n",
    "# neg_data_path = os.path.join(data_path, 'negative_long_sequences.pickle')\n",
    "\n",
    "def load_sequence_from_pickle_to_numpy(pickle_file_path, use_init_token=False):\n",
    "    \"\"\"\n",
    "        A list of sequence in format of (event_type, time_delta)\n",
    "    :param pickle_file_path: e.g. /.../project-basileus/seq-gan/data/fixed_length/valid_sequences.pickle\n",
    "    :return: (event_type_seqs, time_delta)\n",
    "    \"\"\"\n",
    "    with open(pickle_file_path, 'rb') as f:\n",
    "        raw_seqs = pickle.load(f)\n",
    "\n",
    "    if not raw_seqs or not raw_seqs[0]:\n",
    "        return np.array([]), np.array([])\n",
    "\n",
    "    N = len(raw_seqs)\n",
    "    T = len(raw_seqs[0])\n",
    "    \n",
    "    seqs = np.array(raw_seqs)\n",
    "        \n",
    "    et_seqs = seqs[:, :, 0].astype(np.float64).reshape((N, T, 1))\n",
    "    ts_seqs = seqs[:, :, 1].astype(np.float64).reshape((N, T, 1))\n",
    "    \n",
    "    return et_seqs, ts_seqs\n",
    "\n",
    "raw_pos_event_type_seqs, raw_pos_timestamp_seqs = load_sequence_from_pickle_to_numpy(pos_data_path, use_init_token=False)"
   ]
  },
  {
   "cell_type": "code",
   "execution_count": 4,
   "id": "saving-sacramento",
   "metadata": {},
   "outputs": [],
   "source": [
    "# cast indicator data into one-hot\n",
    "pos_event_type_seqs = tf.cast(raw_pos_event_type_seqs, tf.int32)\n",
    "pos_event_type_seqs = tf.one_hot(pos_event_type_seqs, depth=EVENT_VOCAB_DIM, axis=2, dtype=tf.float64)\n",
    "pos_event_type_seqs = tf.squeeze(pos_event_type_seqs, axis=3)"
   ]
  },
  {
   "cell_type": "code",
   "execution_count": 5,
   "id": "stylish-croatia",
   "metadata": {},
   "outputs": [],
   "source": [
    "def zcore_norm(data):\n",
    "    N = data.shape[0]\n",
    "    \n",
    "    _mean = tf.reduce_mean(data, axis=0)\n",
    "    _mean = tf.expand_dims(_mean, axis=0)\n",
    "    _mean = tf.repeat(_mean, N, axis=0)\n",
    "\n",
    "    _std = tf.math.reduce_std(data, axis=0)\n",
    "    _std = tf.expand_dims(_std, axis=0)\n",
    "    _std = tf.repeat(_std, N, axis=0)\n",
    "\n",
    "    return (data - _mean) / _std\n",
    "\n",
    "def get_mean_std(data):\n",
    "    _mean = tf.reduce_mean(data, axis=0)\n",
    "    _mean = tf.expand_dims(_mean, axis=0)\n",
    "\n",
    "    _std = tf.math.reduce_std(data, axis=0)\n",
    "    _std = tf.expand_dims(_std, axis=0)\n",
    "\n",
    "    return _mean, _std\n",
    "\n",
    "def apply_mean_std(data, _mean, _std):\n",
    "    N = data.shape[0]\n",
    "    _mean = tf.repeat(_mean, N, axis=0)\n",
    "    _std = tf.repeat(_std, N, axis=0)\n",
    "\n",
    "    return data * _std + _mean\n",
    "\n",
    "pos_timestamp_seqs = zcore_norm(raw_pos_timestamp_seqs)"
   ]
  },
  {
   "cell_type": "code",
   "execution_count": 6,
   "id": "prepared-kansas",
   "metadata": {},
   "outputs": [],
   "source": [
    "def create_dataset(features: np.array, labels: np.array, batch_size=2, epochs=10, buffer_size=10000):\n",
    "    \"\"\"\n",
    "    Create dataset from numpy arrays\n",
    "    \"\"\"\n",
    "    dataset = tf.data.Dataset.from_tensor_slices((features, labels))\n",
    "    dataset = dataset.shuffle(buffer_size)\n",
    "    dataset = dataset.repeat(epochs)\n",
    "    dataset = dataset.batch(batch_size, drop_remainder=True)\n",
    "    return dataset"
   ]
  },
  {
   "cell_type": "code",
   "execution_count": 7,
   "id": "deluxe-shark",
   "metadata": {},
   "outputs": [],
   "source": [
    "def generate_initial_noise(max_token=EVENT_VOCAB_DIM, time_mean=0, time_std=1):\n",
    "    init_token_noise_index = tf.random.uniform(shape=[BATCH_SIZE, 1, 1], maxval=max_token, dtype=tf.int32)\n",
    "    init_token_noise = tf.squeeze(tf.one_hot(init_token_noise_index, EVENT_VOCAB_DIM, axis=2, dtype=tf.float64), axis=3)\n",
    "    init_time_noise = tf.random.truncated_normal(shape=[BATCH_SIZE, 1, 1], mean=time_mean, stddev=time_std, dtype=tf.float64)\n",
    "    return init_token_noise, init_time_noise"
   ]
  },
  {
   "cell_type": "markdown",
   "id": "sensitive-organic",
   "metadata": {},
   "source": [
    "## Create multitype SeqGan"
   ]
  },
  {
   "cell_type": "code",
   "execution_count": 8,
   "id": "linear-sunrise",
   "metadata": {},
   "outputs": [],
   "source": [
    "import tensorflow as tf\n",
    "from tensorflow.keras import backend as K\n",
    "from tensorflow.keras.models import Model\n",
    "from tensorflow.keras import Sequential\n",
    "from tensorflow.keras.optimizers import Adam, SGD\n",
    "from tensorflow.keras.layers import Input, LSTM, Embedding, Reshape, Dense, Dropout, Activation, Multiply, Add, Lambda\n",
    "from tensorflow.keras import regularizers\n",
    "\n",
    "from sgtlstm.TimeLSTM import TimeLSTM0, TimeLSTM1, TimeLSTM2, TimeLSTM3\n",
    "\n",
    "tf.keras.backend.set_floatx('float64')\n",
    "\n",
    "def build_G(batch_size, event_vocab_dim, emb_dim, hidden_dim=16):\n",
    "    # inputs of Time-LSTM:\n",
    "    i_et = Input(batch_shape=(batch_size, None, event_vocab_dim), name='event_type')  # input of discrete feature event type\n",
    "    i_ts = Input(batch_shape=(batch_size, None, 1), name='time_delta_in')  # input of continuous feature timestamp\n",
    "\n",
    "    embed0 = Dense(emb_dim, name='dense_emb')(i_et) # dense matrix size: 6*16\n",
    "    merged0 = tf.concat([embed0, i_ts], axis=2)\n",
    "\n",
    "    hm = LSTM(hidden_dim,\n",
    "          name='lstm_token',\n",
    "          stateful=True,\n",
    "          return_sequences=False,\n",
    "          kernel_initializer=tf.keras.initializers.RandomNormal(stddev=0.1),\n",
    "          recurrent_initializer=tf.keras.initializers.RandomNormal(stddev=0.1),\n",
    "          bias_initializer=tf.keras.initializers.RandomNormal(stddev=0.1))(merged0)\n",
    "\n",
    "    \n",
    "    tm = LSTM(hidden_dim,\n",
    "          name='lstm_time',\n",
    "          stateful=True,\n",
    "          return_sequences=False,\n",
    "          kernel_initializer=tf.keras.initializers.RandomNormal(stddev=0.1),\n",
    "          recurrent_initializer=tf.keras.initializers.RandomNormal(stddev=0.1),\n",
    "          bias_initializer=tf.keras.initializers.RandomNormal(stddev=0.1))(merged0)\n",
    "    \n",
    "    \n",
    "    token_time_comb = tf.keras.layers.concatenate([hm, tm], axis=1)\n",
    "    \n",
    "    dense_combined = Dense(hidden_dim, \n",
    "                           activation='elu',\n",
    "                           name='dense_combination')(token_time_comb)\n",
    "        \n",
    "    token_logits = Dense(event_vocab_dim,\n",
    "                   activation='linear',\n",
    "                   name='dense_token',\n",
    "                   kernel_initializer=tf.keras.initializers.RandomNormal(stddev=0.1),\n",
    "                   bias_initializer=tf.keras.initializers.RandomNormal(stddev=0.1))(dense_combined)\n",
    "        \n",
    "    time_delta_out = Dense(1,\n",
    "                   activation='linear',\n",
    "                   name='dense_time',\n",
    "                   kernel_initializer=tf.keras.initializers.RandomNormal(stddev=0.1),\n",
    "                   bias_initializer=tf.keras.initializers.RandomNormal(stddev=0.1))(dense_combined)\n",
    "    \n",
    "    generator = Model(\n",
    "        inputs=[i_et, i_ts],\n",
    "        outputs=[token_logits, time_delta_out])\n",
    "        \n",
    "    return generator"
   ]
  },
  {
   "cell_type": "code",
   "execution_count": 9,
   "id": "alternate-federation",
   "metadata": {},
   "outputs": [],
   "source": [
    "def build_D(batch_size, T, event_vocab_dim, emb_dim, hidden_dim, dropout_rate=0.25):\n",
    "    # normal LSTM\n",
    "    i_et = Input(batch_shape=(batch_size, None, event_vocab_dim), name='event_type')  # input of discrete feature event type\n",
    "    i_ts = Input(batch_shape=(batch_size, None, 1), name='time_delta_in')  # input of continuous feature timestamp\n",
    "    \n",
    "    embed0 = Dense(emb_dim, name='dense_emb')(i_et) # dense matrix size: 6*16\n",
    "    merged0 = tf.concat([embed0, i_ts], axis=2)\n",
    "    \n",
    "    hm = LSTM(hidden_dim,\n",
    "          name='lstm_token',\n",
    "          stateful=True,\n",
    "          return_sequences=False,\n",
    "          kernel_initializer=tf.keras.initializers.RandomNormal(stddev=0.1),\n",
    "          recurrent_initializer=tf.keras.initializers.RandomNormal(stddev=0.1),\n",
    "          bias_initializer=tf.keras.initializers.RandomNormal(stddev=0.1))(merged0)\n",
    "\n",
    "    tm = LSTM(hidden_dim,\n",
    "          name='lstm_time',\n",
    "          stateful=True,\n",
    "          return_sequences=False,\n",
    "          kernel_initializer=tf.keras.initializers.RandomNormal(stddev=0.1),\n",
    "          recurrent_initializer=tf.keras.initializers.RandomNormal(stddev=0.1),\n",
    "          bias_initializer=tf.keras.initializers.RandomNormal(stddev=0.1))(merged0)\n",
    "    \n",
    "    token_time_comb = tf.keras.layers.concatenate([hm, tm], axis=1)\n",
    "    \n",
    "    dropped = Dropout(rate=dropout_rate)(token_time_comb)\n",
    "    \n",
    "    prob = Dense(1, \n",
    "             activation='sigmoid',\n",
    "             name='final',\n",
    "             kernel_initializer=tf.keras.initializers.TruncatedNormal(mean=0.0, stddev=0.1, seed=None),\n",
    "             bias_initializer=tf.keras.initializers.Constant(value=0.1))(dropped)\n",
    "        \n",
    "    discriminator = Model(\n",
    "        inputs=[i_et, i_ts],\n",
    "        outputs=prob)\n",
    "    return discriminator"
   ]
  },
  {
   "cell_type": "code",
   "execution_count": 10,
   "id": "healthy-playlist",
   "metadata": {},
   "outputs": [],
   "source": [
    "# import tensorflow as tf\n",
    "# from tensorflow.keras import backend as K\n",
    "# from tensorflow.keras.models import Model\n",
    "# from tensorflow.keras import Sequential\n",
    "# from tensorflow.keras.optimizers import Adam, SGD\n",
    "# from tensorflow.keras.layers import Input, LSTM, Embedding, Reshape, Dense, Dropout, Activation, Multiply, Add, Lambda\n",
    "# from tensorflow.keras import regularizers\n",
    "\n",
    "# from sgtlstm.TimeLSTM import TimeLSTM0, TimeLSTM1, TimeLSTM2, TimeLSTM3\n",
    "\n",
    "# tf.keras.backend.set_floatx('float64')\n",
    "\n",
    "# def build_G(batch_size, event_vocab_dim, emb_dim, hidden_dim=16):\n",
    "#     # inputs of Time-LSTM:\n",
    "#     i_et = Input(batch_shape=(batch_size, None, event_vocab_dim), name='event_type')  # input of discrete feature event type\n",
    "#     i_ts = Input(batch_shape=(batch_size, None, 1), name='time_delta_in')  # input of continuous feature timestamp\n",
    "\n",
    "#     embed0 = Dense(emb_dim, name='dense_emb')(i_et) # dense matrix size: 6*16\n",
    "#     merged0 = tf.concat([embed0, i_ts], axis=2)\n",
    "    \n",
    "#     hm, tm = TimeLSTM1(hidden_dim,\n",
    "#                        name='time_lstm',\n",
    "#                        stateful=True, \n",
    "#                        return_sequences=False,\n",
    "#                        kernel_initializer=tf.keras.initializers.RandomNormal(stddev=0.1),\n",
    "#                        recurrent_initializer=tf.keras.initializers.RandomNormal(stddev=0.1),\n",
    "#                        time_kernel_initializer=tf.keras.initializers.RandomNormal(stddev=0.1),\n",
    "#                        bias_initializer=tf.keras.initializers.RandomNormal(stddev=0.1))(merged0)    \n",
    "        \n",
    "#     token_logits = Dense(event_vocab_dim,\n",
    "#                    activation='linear',\n",
    "#                    name='dense_token',\n",
    "#                    kernel_initializer=tf.keras.initializers.RandomNormal(stddev=0.1),\n",
    "#                    bias_initializer=tf.keras.initializers.RandomNormal(stddev=0.1))(hm)\n",
    "        \n",
    "#     time_delta_out = Dense(1,\n",
    "#                    activation='linear',\n",
    "#                    name='dense_time',\n",
    "#                    kernel_initializer=tf.keras.initializers.RandomNormal(stddev=0.1),\n",
    "#                    bias_initializer=tf.keras.initializers.RandomNormal(stddev=0.1))(tm)\n",
    "    \n",
    "#     generator = Model(\n",
    "#         inputs=[i_et, i_ts],\n",
    "#         outputs=[token_logits, time_delta_out])\n",
    "        \n",
    "#     return generator"
   ]
  },
  {
   "cell_type": "code",
   "execution_count": 11,
   "id": "worthy-diameter",
   "metadata": {},
   "outputs": [],
   "source": [
    "# def build_D(batch_size, T, event_vocab_dim, emb_dim, hidden_dim, dropout_rate=0.25):\n",
    "#     # normal LSTM\n",
    "#     i_et = Input(batch_shape=(batch_size, None, event_vocab_dim), name='event_type')  # input of discrete feature event type\n",
    "#     i_ts = Input(batch_shape=(batch_size, None, 1), name='time_delta_in')  # input of continuous feature timestamp\n",
    "    \n",
    "#     embed0 = Dense(emb_dim, name='dense_emb')(i_et) # dense matrix size: 6*16\n",
    "#     merged0 = tf.concat([embed0, i_ts], axis=2)\n",
    "    \n",
    "#     hm, tm = TimeLSTM1(hidden_dim,\n",
    "#                        name='time_lstm',\n",
    "#                        stateful=True, \n",
    "#                        return_sequences=False,\n",
    "#                        kernel_initializer=tf.keras.initializers.RandomNormal(stddev=0.1),\n",
    "#                        recurrent_initializer=tf.keras.initializers.RandomNormal(stddev=0.1),\n",
    "#                        time_kernel_initializer=tf.keras.initializers.RandomNormal(stddev=0.1),\n",
    "#                        bias_initializer=tf.keras.initializers.RandomNormal(stddev=0.1))(merged0)\n",
    "    \n",
    "#     token_time_comb = tf.keras.layers.concatenate([hm, tm], axis=1)\n",
    "    \n",
    "#     dropped = Dropout(rate=dropout_rate)(token_time_comb)\n",
    "    \n",
    "#     prob = Dense(1, \n",
    "#              activation='sigmoid',\n",
    "#              name='final',\n",
    "#              kernel_initializer=tf.keras.initializers.TruncatedNormal(mean=0.0, stddev=0.1, seed=None),\n",
    "#              bias_initializer=tf.keras.initializers.Constant(value=0.1))(dropped)\n",
    "        \n",
    "#     discriminator = Model(\n",
    "#         inputs=[i_et, i_ts],\n",
    "#         outputs=prob)\n",
    "#     return discriminator"
   ]
  },
  {
   "cell_type": "markdown",
   "id": "beneficial-neighborhood",
   "metadata": {},
   "source": [
    "## Define rollout and sequence generation"
   ]
  },
  {
   "cell_type": "code",
   "execution_count": 12,
   "id": "abroad-print",
   "metadata": {},
   "outputs": [],
   "source": [
    "def sample_gumbel(shape, eps=1e-20): \n",
    "    U = tf.random.uniform(shape,minval=0,maxval=1)   #gumbel noise\n",
    "#     print('noise:{}'.format(U))\n",
    "    return -tf.math.log(-tf.math.log(U + eps) + eps)\n",
    "\n",
    "def gumbel_softmax_sample(logits, temperature=0.5): \n",
    "    y = logits + tf.cast(sample_gumbel(tf.shape(logits)), logits.dtype)\n",
    "    return tf.nn.softmax( y / temperature)  # use softmax to approximate argmax\n",
    "\n",
    "def gumbel_softmax(logits, temperature=0.5, hard=True):\n",
    "    \"\"\"Sample from the Gumbel-Softmax distribution and optionally discretize.\n",
    "    Args:\n",
    "    logits: [batch_size, n_class] unnormalized log-probs\n",
    "    temperature: non-negative scalar\n",
    "    hard: if True, take argmax, but differentiate w.r.t. soft sample y\n",
    "    Returns:\n",
    "    [batch_size, n_class] sample from the Gumbel-Softmax distribution.\n",
    "    If hard=True, then the returned sample will be one-hot, otherwise it will\n",
    "    be a probabilitiy distribution that sums to 1 across classes\n",
    "    \"\"\"\n",
    "    logits = tf.cast(logits, tf.float64)\n",
    "    y = gumbel_softmax_sample(logits, temperature) # this is differentiable\n",
    "    if hard:\n",
    "        k = tf.shape(logits)[-1]\n",
    "        #y_hard = tf.cast(tf.one_hot(tf.argmax(y,1),k), y.dtype)\n",
    "        y_hard = tf.cast(tf.equal(y,tf.reduce_max(y,1,keepdims=True)),y.dtype)\n",
    "        y = tf.stop_gradient(y_hard - y) + y\n",
    "    return y\n"
   ]
  },
  {
   "cell_type": "code",
   "execution_count": 13,
   "id": "modified-mailman",
   "metadata": {},
   "outputs": [],
   "source": [
    "def rollout_from_initial_gumbel(G, batch_size, init_et, init_ts, L=T):\n",
    "    # Begin from dummy init state (init_token=1, init_timestamp=0.0)\n",
    "    all_state_et = init_et\n",
    "    all_state_ts = init_ts\n",
    "    \n",
    "    l_prefix = init_et.shape[1]\n",
    "    \n",
    "    G.reset_states()\n",
    "#     # LSTM-token\n",
    "#     G.layers[4].states[0] = tf.Variable(tf.random.normal(shape=(BATCH_SIZE, HIDDEN_DIM), mean=0.0, stddev=1, dtype=tf.float64))\n",
    "#     G.layers[4].states[1] = tf.Variable(tf.random.normal(shape=(BATCH_SIZE, HIDDEN_DIM), mean=0.0, stddev=1, dtype=tf.float64))\n",
    "#     # LSTM-time\n",
    "#     G.layers[5].states[0] = tf.Variable(tf.random.normal(shape=(BATCH_SIZE, HIDDEN_DIM), mean=0.0, stddev=1, dtype=tf.float64))\n",
    "#     G.layers[5].states[1] = tf.Variable(tf.random.normal(shape=(BATCH_SIZE, HIDDEN_DIM), mean=0.0, stddev=1, dtype=tf.float64))\n",
    "    \n",
    "    # Time-LSTM\n",
    "#     G.layers[4].states[0] = tf.Variable(tf.random.normal(shape=(BATCH_SIZE, HIDDEN_DIM), mean=0.0, stddev=1, dtype=tf.float64))\n",
    "#     G.layers[4].states[1] = tf.Variable(tf.random.normal(shape=(BATCH_SIZE, HIDDEN_DIM), mean=0.0, stddev=1, dtype=tf.float64))\n",
    "\n",
    "    for _ in range(L + 1 - l_prefix):  # sequence length\n",
    "        curr_state_et = all_state_et[:, -1:, :]\n",
    "        curr_state_ts = all_state_ts[:, -1:, :]\n",
    "        \n",
    "        # add step noise to token and time inputs\n",
    "#         curr_state_et = tf.cast(tf.where(curr_state_et == 1, 0.9, 0.1/3), tf.float64)\n",
    "#         curr_state_ts = curr_state_ts + tf.random.truncated_normal(shape=tf.shape(curr_state_ts), mean=0.0, stddev=1, dtype=tf.float64)\n",
    "\n",
    "        token_logits, time_delta_out = G([curr_state_et, curr_state_ts])\n",
    "        \n",
    "        # sample event types using Gumbel-softmax\n",
    "        sampled_et = gumbel_softmax(token_logits, temperature=0.9)  # this is differentiable\n",
    "        sampled_et = tf.reshape(sampled_et, [batch_size, 1, EVENT_VOCAB_DIM])        \n",
    "        sampled_et = tf.cast(sampled_et, dtype=tf.float64) # cast sampled_et into float\n",
    "        \n",
    "        time_delta_out = tf.reshape(time_delta_out, [batch_size, 1, 1]) \n",
    "        \n",
    "        # Do NOT stop genererating once hit end_token; G is supposed to learn it.\n",
    "        all_state_et = tf.concat([all_state_et, sampled_et], axis=1)\n",
    "        all_state_ts = tf.concat([all_state_ts, time_delta_out], axis=1)\n",
    "\n",
    "    # the initlal random states are excluded in output\n",
    "    return all_state_et[:, 1:, :], all_state_ts[:, 1:, :]\n",
    "\n",
    "\n",
    "def generate_sequences_gumbel(N_gen, generator, batch_size, T):\n",
    "    \"\"\"\n",
    "        Generate sequences batch per batch\n",
    "    :param N_gen: total number of seqs to be generated\n",
    "    :param generator:\n",
    "    :param batch_size:\n",
    "    :param T:\n",
    "    :return: a python list of shape [N_gen, T, 1]\n",
    "    \"\"\"\n",
    "    N = 0\n",
    "    all_type_seq = None\n",
    "    all_time_seq = None\n",
    "    \n",
    "    init_token_noise, init_time_noise = generate_initial_noise()\n",
    "        \n",
    "    while N < N_gen:\n",
    "        batch_state_et, batch_state_ts = rollout_from_initial_gumbel(generator, batch_size, init_token_noise, init_time_noise, T)\n",
    "\n",
    "        if all_type_seq is None or all_time_seq is None:\n",
    "            all_type_seq = batch_state_et\n",
    "            all_time_seq = batch_state_ts\n",
    "        else:\n",
    "            all_type_seq = tf.concat([all_type_seq, batch_state_et], axis=0)\n",
    "            all_time_seq = tf.concat([all_time_seq, batch_state_ts], axis=0)\n",
    "\n",
    "        N += batch_size\n",
    "\n",
    "    all_type_seq = all_type_seq[:N_gen, :, :]\n",
    "    all_time_seq = all_time_seq[:N_gen, :, :]\n",
    "\n",
    "    return all_type_seq, all_time_seq"
   ]
  },
  {
   "cell_type": "markdown",
   "id": "computational-stadium",
   "metadata": {},
   "source": [
    "## Pre-Training of Gumbel-Softmax SeqGan"
   ]
  },
  {
   "cell_type": "code",
   "execution_count": 14,
   "id": "dense-intranet",
   "metadata": {},
   "outputs": [],
   "source": [
    "def pretrain_discriminator(event_type_batch, time_delta_batch, label_batch, discriminator, verbose=False, optimizer=Adam(lr=0.001)):\n",
    "    # train the discriminator\n",
    "    with tf.GradientTape() as tape:\n",
    "        # train discriminator\n",
    "        true_prob = discriminator([event_type_batch, time_delta_batch])\n",
    "\n",
    "        # cross-entropy loss\n",
    "        discriminator_loss = ce_loss = tf.reduce_mean(\n",
    "            tf.keras.losses.binary_crossentropy(label_batch, true_prob, from_logits=False)\n",
    "        )\n",
    "\n",
    "        if verbose:\n",
    "            print('total discriminator loss:{}'.format(discriminator_loss))\n",
    "\n",
    "    grads = tape.gradient(discriminator_loss, discriminator.trainable_variables)\n",
    "    optimizer.apply_gradients(zip(grads, discriminator.trainable_variables))\n",
    "\n",
    "    return discriminator_loss\n",
    "\n",
    "\n",
    "def pretrain_generator(event_type_batch, time_delta_batch, generator, verbose=False, optimizer=Adam(lr=0.001)):\n",
    "    _, T, _ = event_type_batch.shape\n",
    "    \n",
    "    # train the generator\n",
    "    with tf.GradientTape() as tape:\n",
    "        generator.reset_states()\n",
    "        step_token_ce_loss_list = []\n",
    "        step_time_mxe_loss_list = []\n",
    "\n",
    "        for i in range(0, T - 1):\n",
    "            curr_state_et = event_type_batch[:, i:i + 1, :]\n",
    "            curr_state_ts = time_delta_batch[:, i:i + 1, :]\n",
    "            \n",
    "            target_et = event_type_batch[:, i + 1, :]\n",
    "            target_ts = time_delta_batch[:, i + 1, :]            \n",
    "            \n",
    "            token_logits, time_delta_out = generator([curr_state_et, curr_state_ts])\n",
    "\n",
    "            token_ce_losses = tf.keras.losses.categorical_crossentropy(target_et, token_logits, from_logits=True)\n",
    "            token_ce_loss = tf.reduce_mean(token_ce_losses)\n",
    "            step_token_ce_loss_list.append(token_ce_loss)\n",
    "            \n",
    "            time_mxe_losses = tf.keras.losses.MAE(target_ts, time_delta_out)\n",
    "            time_mxe_loss = tf.reduce_mean(time_mxe_losses)\n",
    "            step_time_mxe_loss_list.append(time_mxe_loss)                        \n",
    "    \n",
    "        episode_token_ce_loss = tf.reduce_mean(step_token_ce_loss_list)\n",
    "        episode_time_mxe_loss = tf.reduce_mean(step_time_mxe_loss_list)\n",
    "        generator_loss = episode_token_ce_loss + episode_time_mxe_loss\n",
    "\n",
    "    if verbose:\n",
    "        print('token ce loss:{}'.format(episode_token_ce_loss))\n",
    "        print('time mae loss:{}'.format(episode_time_mxe_loss))\n",
    "        print('train loss:{}'.format(generator_loss))\n",
    "\n",
    "    # apply gradient decent per batch\n",
    "    grads = tape.gradient(generator_loss, generator.trainable_variables)\n",
    "    optimizer.apply_gradients(zip(grads, generator.trainable_variables))\n",
    "\n",
    "    return generator_loss"
   ]
  },
  {
   "cell_type": "markdown",
   "id": "proper-worker",
   "metadata": {},
   "source": [
    "## Pre-train G"
   ]
  },
  {
   "cell_type": "code",
   "execution_count": 15,
   "id": "attached-allen",
   "metadata": {},
   "outputs": [
    {
     "data": {
      "text/plain": [
       "46"
      ]
     },
     "execution_count": 15,
     "metadata": {},
     "output_type": "execute_result"
    }
   ],
   "source": [
    "N_total_G = pos_event_type_seqs.shape[0]\n",
    "\n",
    "EPOCHS = 3\n",
    "_TOTAL_STEPS = int(EPOCHS * N_total_G / BATCH_SIZE)\n",
    "\n",
    "pretrain_G_dataset = create_dataset((pos_event_type_seqs, pos_timestamp_seqs),\n",
    "                                  np.ones((N_total_G, 1)),\n",
    "                                  batch_size=BATCH_SIZE,\n",
    "                                  epochs=EPOCHS,\n",
    "                                  buffer_size=N_total_G)\n",
    "_TOTAL_STEPS"
   ]
  },
  {
   "cell_type": "code",
   "execution_count": 16,
   "id": "mobile-cartoon",
   "metadata": {},
   "outputs": [],
   "source": [
    "pretrain_gen_loss_history = []\n",
    "\n",
    "pretrained_generator = build_G(\n",
    "    batch_size=BATCH_SIZE,\n",
    "    event_vocab_dim = EVENT_VOCAB_DIM,\n",
    "    emb_dim = EMB_DIM,\n",
    "    hidden_dim= HIDDEN_DIM)"
   ]
  },
  {
   "cell_type": "code",
   "execution_count": 17,
   "id": "charitable-woman",
   "metadata": {
    "scrolled": true
   },
   "outputs": [
    {
     "name": "stderr",
     "output_type": "stream",
     "text": [
      "\r",
      "  0%|          | 0/46 [00:00<?, ?it/s]"
     ]
    },
    {
     "name": "stdout",
     "output_type": "stream",
     "text": [
      "Training Step: 1\n"
     ]
    },
    {
     "name": "stderr",
     "output_type": "stream",
     "text": [
      "\r",
      "  2%|▏         | 1/46 [00:00<00:20,  2.23it/s]"
     ]
    },
    {
     "name": "stdout",
     "output_type": "stream",
     "text": [
      "token ce loss:1.3923794590398975\n",
      "time mae loss:0.7982702301661903\n",
      "train loss:2.190649689206088\n",
      "Training Step: 2\n"
     ]
    },
    {
     "name": "stderr",
     "output_type": "stream",
     "text": [
      "\r",
      "  4%|▍         | 2/46 [00:00<00:17,  2.53it/s]"
     ]
    },
    {
     "name": "stdout",
     "output_type": "stream",
     "text": [
      "token ce loss:1.3749805049221693\n",
      "time mae loss:0.7850064252156742\n",
      "train loss:2.1599869301378436\n",
      "Training Step: 3\n"
     ]
    },
    {
     "name": "stderr",
     "output_type": "stream",
     "text": [
      "\r",
      "  7%|▋         | 3/46 [00:01<00:16,  2.68it/s]"
     ]
    },
    {
     "name": "stdout",
     "output_type": "stream",
     "text": [
      "token ce loss:1.366146218165884\n",
      "time mae loss:0.7937894115483809\n",
      "train loss:2.159935629714265\n",
      "Training Step: 4\n"
     ]
    },
    {
     "name": "stderr",
     "output_type": "stream",
     "text": [
      "\r",
      "  9%|▊         | 4/46 [00:01<00:15,  2.73it/s]"
     ]
    },
    {
     "name": "stdout",
     "output_type": "stream",
     "text": [
      "token ce loss:1.3541004559770042\n",
      "time mae loss:0.7865351916004514\n",
      "train loss:2.1406356475774557\n",
      "Training Step: 5\n"
     ]
    },
    {
     "name": "stderr",
     "output_type": "stream",
     "text": [
      "\r",
      " 11%|█         | 5/46 [00:01<00:14,  2.74it/s]"
     ]
    },
    {
     "name": "stdout",
     "output_type": "stream",
     "text": [
      "token ce loss:1.3523065922471853\n",
      "time mae loss:0.7853343218303933\n",
      "train loss:2.1376409140775787\n",
      "Training Step: 6\n"
     ]
    },
    {
     "name": "stderr",
     "output_type": "stream",
     "text": [
      "\r",
      " 13%|█▎        | 6/46 [00:02<00:14,  2.79it/s]"
     ]
    },
    {
     "name": "stdout",
     "output_type": "stream",
     "text": [
      "token ce loss:1.3424107116317991\n",
      "time mae loss:0.7713209491070093\n",
      "train loss:2.1137316607388086\n",
      "Training Step: 7\n"
     ]
    },
    {
     "name": "stderr",
     "output_type": "stream",
     "text": [
      "\r",
      " 15%|█▌        | 7/46 [00:02<00:13,  2.82it/s]"
     ]
    },
    {
     "name": "stdout",
     "output_type": "stream",
     "text": [
      "token ce loss:1.3440493293067606\n",
      "time mae loss:0.7825115027304306\n",
      "train loss:2.126560832037191\n",
      "Training Step: 8\n"
     ]
    },
    {
     "name": "stderr",
     "output_type": "stream",
     "text": [
      "\r",
      " 17%|█▋        | 8/46 [00:02<00:13,  2.82it/s]"
     ]
    },
    {
     "name": "stdout",
     "output_type": "stream",
     "text": [
      "token ce loss:1.3466784856841456\n",
      "time mae loss:0.7853577058382688\n",
      "train loss:2.132036191522414\n",
      "Training Step: 9\n"
     ]
    },
    {
     "name": "stderr",
     "output_type": "stream",
     "text": [
      "\r",
      " 20%|█▉        | 9/46 [00:03<00:13,  2.82it/s]"
     ]
    },
    {
     "name": "stdout",
     "output_type": "stream",
     "text": [
      "token ce loss:1.351646162800223\n",
      "time mae loss:0.7894358504913224\n",
      "train loss:2.1410820132915456\n",
      "Training Step: 10\n"
     ]
    },
    {
     "name": "stderr",
     "output_type": "stream",
     "text": [
      "\r",
      " 22%|██▏       | 10/46 [00:03<00:12,  2.78it/s]"
     ]
    },
    {
     "name": "stdout",
     "output_type": "stream",
     "text": [
      "token ce loss:1.3399428131702138\n",
      "time mae loss:0.7711745631855401\n",
      "train loss:2.111117376355754\n",
      "Training Step: 11\n"
     ]
    },
    {
     "name": "stderr",
     "output_type": "stream",
     "text": [
      "\r",
      " 24%|██▍       | 11/46 [00:03<00:12,  2.83it/s]"
     ]
    },
    {
     "name": "stdout",
     "output_type": "stream",
     "text": [
      "token ce loss:1.3433641083353043\n",
      "time mae loss:0.7916563448277001\n",
      "train loss:2.1350204531630044\n",
      "Training Step: 12\n"
     ]
    },
    {
     "name": "stderr",
     "output_type": "stream",
     "text": [
      "\r",
      " 26%|██▌       | 12/46 [00:04<00:11,  2.85it/s]"
     ]
    },
    {
     "name": "stdout",
     "output_type": "stream",
     "text": [
      "token ce loss:1.3436635311675147\n",
      "time mae loss:0.7722902522770613\n",
      "train loss:2.115953783444576\n",
      "Training Step: 13\n"
     ]
    },
    {
     "name": "stderr",
     "output_type": "stream",
     "text": [
      "\r",
      " 28%|██▊       | 13/46 [00:04<00:11,  2.84it/s]"
     ]
    },
    {
     "name": "stdout",
     "output_type": "stream",
     "text": [
      "token ce loss:1.3478936219487496\n",
      "time mae loss:0.7861135937252366\n",
      "train loss:2.134007215673986\n",
      "Training Step: 14\n"
     ]
    },
    {
     "name": "stderr",
     "output_type": "stream",
     "text": [
      "\r",
      " 30%|███       | 14/46 [00:05<00:11,  2.87it/s]"
     ]
    },
    {
     "name": "stdout",
     "output_type": "stream",
     "text": [
      "token ce loss:1.340177148421596\n",
      "time mae loss:0.7784850766705252\n",
      "train loss:2.1186622250921214\n",
      "Training Step: 15\n"
     ]
    },
    {
     "name": "stderr",
     "output_type": "stream",
     "text": [
      "\r",
      " 33%|███▎      | 15/46 [00:05<00:11,  2.68it/s]"
     ]
    },
    {
     "name": "stdout",
     "output_type": "stream",
     "text": [
      "token ce loss:1.3416365949172053\n",
      "time mae loss:0.7847686975370652\n",
      "train loss:2.1264052924542707\n",
      "Training Step: 16\n"
     ]
    },
    {
     "name": "stderr",
     "output_type": "stream",
     "text": [
      "\r",
      " 35%|███▍      | 16/46 [00:05<00:10,  2.77it/s]"
     ]
    },
    {
     "name": "stdout",
     "output_type": "stream",
     "text": [
      "token ce loss:1.3354333218948669\n",
      "time mae loss:0.7864084473386099\n",
      "train loss:2.121841769233477\n",
      "Training Step: 17\n"
     ]
    },
    {
     "name": "stderr",
     "output_type": "stream",
     "text": [
      "\r",
      " 37%|███▋      | 17/46 [00:06<00:10,  2.83it/s]"
     ]
    },
    {
     "name": "stdout",
     "output_type": "stream",
     "text": [
      "token ce loss:1.3340807877364371\n",
      "time mae loss:0.7703042933047637\n",
      "train loss:2.104385081041201\n",
      "Training Step: 18\n"
     ]
    },
    {
     "name": "stderr",
     "output_type": "stream",
     "text": [
      "\r",
      " 39%|███▉      | 18/46 [00:06<00:09,  2.86it/s]"
     ]
    },
    {
     "name": "stdout",
     "output_type": "stream",
     "text": [
      "token ce loss:1.3349894421708743\n",
      "time mae loss:0.789754428626476\n",
      "train loss:2.1247438707973503\n",
      "Training Step: 19\n"
     ]
    },
    {
     "name": "stderr",
     "output_type": "stream",
     "text": [
      "\r",
      " 41%|████▏     | 19/46 [00:06<00:09,  2.84it/s]"
     ]
    },
    {
     "name": "stdout",
     "output_type": "stream",
     "text": [
      "token ce loss:1.3341948019193612\n",
      "time mae loss:0.7833572614581019\n",
      "train loss:2.117552063377463\n",
      "Training Step: 20\n"
     ]
    },
    {
     "name": "stderr",
     "output_type": "stream",
     "text": [
      "\r",
      " 43%|████▎     | 20/46 [00:07<00:09,  2.82it/s]"
     ]
    },
    {
     "name": "stdout",
     "output_type": "stream",
     "text": [
      "token ce loss:1.3240286064828735\n",
      "time mae loss:0.774341392480535\n",
      "train loss:2.0983699989634084\n",
      "Training Step: 21\n"
     ]
    },
    {
     "name": "stderr",
     "output_type": "stream",
     "text": [
      "\r",
      " 46%|████▌     | 21/46 [00:07<00:08,  2.83it/s]"
     ]
    },
    {
     "name": "stdout",
     "output_type": "stream",
     "text": [
      "token ce loss:1.3287219770941132\n",
      "time mae loss:0.7834817176766351\n",
      "train loss:2.1122036947707485\n",
      "Training Step: 22\n"
     ]
    },
    {
     "name": "stderr",
     "output_type": "stream",
     "text": [
      "\r",
      " 48%|████▊     | 22/46 [00:07<00:08,  2.87it/s]"
     ]
    },
    {
     "name": "stdout",
     "output_type": "stream",
     "text": [
      "token ce loss:1.3282124752422824\n",
      "time mae loss:0.7735660715281174\n",
      "train loss:2.1017785467704\n",
      "Training Step: 23\n"
     ]
    },
    {
     "name": "stderr",
     "output_type": "stream",
     "text": [
      "\r",
      " 50%|█████     | 23/46 [00:08<00:07,  2.91it/s]"
     ]
    },
    {
     "name": "stdout",
     "output_type": "stream",
     "text": [
      "token ce loss:1.3281397965349087\n",
      "time mae loss:0.7787898793346537\n",
      "train loss:2.106929675869562\n",
      "Training Step: 24\n"
     ]
    },
    {
     "name": "stderr",
     "output_type": "stream",
     "text": [
      "\r",
      " 52%|█████▏    | 24/46 [00:08<00:07,  2.89it/s]"
     ]
    },
    {
     "name": "stdout",
     "output_type": "stream",
     "text": [
      "token ce loss:1.3321859720177218\n",
      "time mae loss:0.7791556367322614\n",
      "train loss:2.1113416087499832\n",
      "Training Step: 25\n"
     ]
    },
    {
     "name": "stderr",
     "output_type": "stream",
     "text": [
      "\r",
      " 54%|█████▍    | 25/46 [00:08<00:07,  2.88it/s]"
     ]
    },
    {
     "name": "stdout",
     "output_type": "stream",
     "text": [
      "token ce loss:1.326862775614225\n",
      "time mae loss:0.7875160362953968\n",
      "train loss:2.1143788119096216\n",
      "Training Step: 26\n"
     ]
    },
    {
     "name": "stderr",
     "output_type": "stream",
     "text": [
      "\r",
      " 57%|█████▋    | 26/46 [00:09<00:06,  2.89it/s]"
     ]
    },
    {
     "name": "stdout",
     "output_type": "stream",
     "text": [
      "token ce loss:1.32365041678572\n",
      "time mae loss:0.7856417072600003\n",
      "train loss:2.1092921240457203\n",
      "Training Step: 27\n"
     ]
    },
    {
     "name": "stderr",
     "output_type": "stream",
     "text": [
      "\r",
      " 59%|█████▊    | 27/46 [00:09<00:06,  2.93it/s]"
     ]
    },
    {
     "name": "stdout",
     "output_type": "stream",
     "text": [
      "token ce loss:1.3233196738435244\n",
      "time mae loss:0.7893556228856999\n",
      "train loss:2.1126752967292246\n",
      "Training Step: 28\n"
     ]
    },
    {
     "name": "stderr",
     "output_type": "stream",
     "text": [
      "\r",
      " 61%|██████    | 28/46 [00:09<00:06,  2.95it/s]"
     ]
    },
    {
     "name": "stdout",
     "output_type": "stream",
     "text": [
      "token ce loss:1.3243422067266202\n",
      "time mae loss:0.7708554159882844\n",
      "train loss:2.0951976227149047\n",
      "Training Step: 29\n"
     ]
    },
    {
     "name": "stderr",
     "output_type": "stream",
     "text": [
      "\r",
      " 63%|██████▎   | 29/46 [00:10<00:05,  2.95it/s]"
     ]
    },
    {
     "name": "stdout",
     "output_type": "stream",
     "text": [
      "token ce loss:1.3207489060139412\n",
      "time mae loss:0.7795507845570396\n",
      "train loss:2.100299690570981\n",
      "Training Step: 30\n"
     ]
    },
    {
     "name": "stderr",
     "output_type": "stream",
     "text": [
      "\r",
      " 65%|██████▌   | 30/46 [00:10<00:05,  2.88it/s]"
     ]
    },
    {
     "name": "stdout",
     "output_type": "stream",
     "text": [
      "token ce loss:1.315514242236229\n",
      "time mae loss:0.7761986666907446\n",
      "train loss:2.0917129089269735\n",
      "Training Step: 31\n"
     ]
    },
    {
     "name": "stderr",
     "output_type": "stream",
     "text": [
      "\r",
      " 67%|██████▋   | 31/46 [00:10<00:05,  2.84it/s]"
     ]
    },
    {
     "name": "stdout",
     "output_type": "stream",
     "text": [
      "token ce loss:1.3169237942127332\n",
      "time mae loss:0.7802949594058741\n",
      "train loss:2.0972187536186073\n",
      "Training Step: 32\n"
     ]
    },
    {
     "name": "stderr",
     "output_type": "stream",
     "text": [
      "\r",
      " 70%|██████▉   | 32/46 [00:11<00:04,  2.86it/s]"
     ]
    },
    {
     "name": "stdout",
     "output_type": "stream",
     "text": [
      "token ce loss:1.311915267326236\n",
      "time mae loss:0.7606824411938289\n",
      "train loss:2.072597708520065\n",
      "Training Step: 33\n"
     ]
    },
    {
     "name": "stderr",
     "output_type": "stream",
     "text": [
      "\r",
      " 72%|███████▏  | 33/46 [00:11<00:04,  2.85it/s]"
     ]
    },
    {
     "name": "stdout",
     "output_type": "stream",
     "text": [
      "token ce loss:1.313279015996543\n",
      "time mae loss:0.7745877385026165\n",
      "train loss:2.0878667544991596\n",
      "Training Step: 34\n"
     ]
    },
    {
     "name": "stderr",
     "output_type": "stream",
     "text": [
      "\r",
      " 74%|███████▍  | 34/46 [00:12<00:04,  2.89it/s]"
     ]
    },
    {
     "name": "stdout",
     "output_type": "stream",
     "text": [
      "token ce loss:1.3169357239380148\n",
      "time mae loss:0.7843189479938202\n",
      "train loss:2.101254671931835\n",
      "Training Step: 35\n"
     ]
    },
    {
     "name": "stderr",
     "output_type": "stream",
     "text": [
      "\r",
      " 76%|███████▌  | 35/46 [00:12<00:03,  2.88it/s]"
     ]
    },
    {
     "name": "stdout",
     "output_type": "stream",
     "text": [
      "token ce loss:1.3100882988330955\n",
      "time mae loss:0.77719464415991\n",
      "train loss:2.0872829429930055\n",
      "Training Step: 36\n"
     ]
    },
    {
     "name": "stderr",
     "output_type": "stream",
     "text": [
      "\r",
      " 78%|███████▊  | 36/46 [00:12<00:03,  2.88it/s]"
     ]
    },
    {
     "name": "stdout",
     "output_type": "stream",
     "text": [
      "token ce loss:1.311718398880533\n",
      "time mae loss:0.781618161611196\n",
      "train loss:2.093336560491729\n",
      "Training Step: 37\n"
     ]
    },
    {
     "name": "stderr",
     "output_type": "stream",
     "text": [
      "\r",
      " 80%|████████  | 37/46 [00:13<00:03,  2.82it/s]"
     ]
    },
    {
     "name": "stdout",
     "output_type": "stream",
     "text": [
      "token ce loss:1.3132160854511852\n",
      "time mae loss:0.775843434473372\n",
      "train loss:2.0890595199245574\n",
      "Training Step: 38\n"
     ]
    },
    {
     "name": "stderr",
     "output_type": "stream",
     "text": [
      "\r",
      " 83%|████████▎ | 38/46 [00:13<00:02,  2.87it/s]"
     ]
    },
    {
     "name": "stdout",
     "output_type": "stream",
     "text": [
      "token ce loss:1.3106573367943937\n",
      "time mae loss:0.7932726041953138\n",
      "train loss:2.1039299409897074\n",
      "Training Step: 39\n"
     ]
    },
    {
     "name": "stderr",
     "output_type": "stream",
     "text": [
      "\r",
      " 85%|████████▍ | 39/46 [00:13<00:02,  2.82it/s]"
     ]
    },
    {
     "name": "stdout",
     "output_type": "stream",
     "text": [
      "token ce loss:1.3050201961236727\n",
      "time mae loss:0.7712408139547193\n",
      "train loss:2.076261010078392\n",
      "Training Step: 40\n"
     ]
    },
    {
     "name": "stderr",
     "output_type": "stream",
     "text": [
      "\r",
      " 87%|████████▋ | 40/46 [00:14<00:02,  2.84it/s]"
     ]
    },
    {
     "name": "stdout",
     "output_type": "stream",
     "text": [
      "token ce loss:1.300631284151005\n",
      "time mae loss:0.7701062539751726\n",
      "train loss:2.0707375381261777\n",
      "Training Step: 41\n"
     ]
    },
    {
     "name": "stderr",
     "output_type": "stream",
     "text": [
      "\r",
      " 89%|████████▉ | 41/46 [00:14<00:01,  2.85it/s]"
     ]
    },
    {
     "name": "stdout",
     "output_type": "stream",
     "text": [
      "token ce loss:1.3068798151854428\n",
      "time mae loss:0.7860053447055853\n",
      "train loss:2.0928851598910283\n",
      "Training Step: 42\n"
     ]
    },
    {
     "name": "stderr",
     "output_type": "stream",
     "text": [
      "\r",
      " 91%|█████████▏| 42/46 [00:14<00:01,  2.84it/s]"
     ]
    },
    {
     "name": "stdout",
     "output_type": "stream",
     "text": [
      "token ce loss:1.3026657772645485\n",
      "time mae loss:0.7798025335294029\n",
      "train loss:2.0824683107939514\n",
      "Training Step: 43\n"
     ]
    },
    {
     "name": "stderr",
     "output_type": "stream",
     "text": [
      "\r",
      " 93%|█████████▎| 43/46 [00:15<00:01,  2.89it/s]"
     ]
    },
    {
     "name": "stdout",
     "output_type": "stream",
     "text": [
      "token ce loss:1.3121511804060442\n",
      "time mae loss:0.7966505668149224\n",
      "train loss:2.1088017472209666\n",
      "Training Step: 44\n"
     ]
    },
    {
     "name": "stderr",
     "output_type": "stream",
     "text": [
      "\r",
      " 96%|█████████▌| 44/46 [00:15<00:00,  2.93it/s]"
     ]
    },
    {
     "name": "stdout",
     "output_type": "stream",
     "text": [
      "token ce loss:1.3014519892261347\n",
      "time mae loss:0.7809755048601261\n",
      "train loss:2.082427494086261\n",
      "Training Step: 45\n"
     ]
    },
    {
     "name": "stderr",
     "output_type": "stream",
     "text": [
      "\r",
      " 98%|█████████▊| 45/46 [00:15<00:00,  2.93it/s]"
     ]
    },
    {
     "name": "stdout",
     "output_type": "stream",
     "text": [
      "token ce loss:1.3052456804355155\n",
      "time mae loss:0.775301159224796\n",
      "train loss:2.0805468396603115\n",
      "Training Step: 46\n"
     ]
    },
    {
     "name": "stderr",
     "output_type": "stream",
     "text": [
      "100%|██████████| 46/46 [00:16<00:00,  2.84it/s]"
     ]
    },
    {
     "name": "stdout",
     "output_type": "stream",
     "text": [
      "token ce loss:1.2996983135058602\n",
      "time mae loss:0.7811253449165496\n",
      "train loss:2.0808236584224096\n"
     ]
    },
    {
     "name": "stderr",
     "output_type": "stream",
     "text": [
      "\n"
     ]
    }
   ],
   "source": [
    "step = 0\n",
    "OPTIMIZER = Adam(lr=1e-3)\n",
    "# _TOTAL_STEPS = 100\n",
    "\n",
    "for feature_batch, _ in tqdm(pretrain_G_dataset.take(_TOTAL_STEPS)):\n",
    "    event_type_batch, time_delta_batch = feature_batch\n",
    "    step += 1\n",
    "    print('Training Step:', step)\n",
    "        \n",
    "    gen_loss =  pretrain_generator(event_type_batch, time_delta_batch, pretrained_generator, verbose=True, optimizer=OPTIMIZER)                    \n",
    "    pretrain_gen_loss_history.append(gen_loss.numpy())"
   ]
  },
  {
   "cell_type": "code",
   "execution_count": 18,
   "id": "driven-patch",
   "metadata": {},
   "outputs": [],
   "source": [
    "if not os.path.exists(model_save_dir + '/pretrained_gen_weights'):\n",
    "    os.makedirs(model_save_dir + '/pretrained_gen_weights')\n",
    "\n",
    "G_save_path = model_save_dir + '/pretrained_gen_weights/model.tf'\n",
    "pretrained_generator.save_weights(G_save_path)"
   ]
  },
  {
   "cell_type": "code",
   "execution_count": 19,
   "id": "configured-resident",
   "metadata": {
    "scrolled": true
   },
   "outputs": [
    {
     "name": "stdout",
     "output_type": "stream",
     "text": [
      "Model: \"model_1\"\n",
      "__________________________________________________________________________________________________\n",
      "Layer (type)                    Output Shape         Param #     Connected to                     \n",
      "==================================================================================================\n",
      "event_type (InputLayer)         [(256, None, 4)]     0                                            \n",
      "__________________________________________________________________________________________________\n",
      "dense_emb (Dense)               (256, None, 16)      80          event_type[0][0]                 \n",
      "__________________________________________________________________________________________________\n",
      "time_delta_in (InputLayer)      [(256, None, 1)]     0                                            \n",
      "__________________________________________________________________________________________________\n",
      "tf.concat_1 (TFOpLambda)        (256, None, 17)      0           dense_emb[0][0]                  \n",
      "                                                                 time_delta_in[0][0]              \n",
      "__________________________________________________________________________________________________\n",
      "lstm_token (LSTM)               (256, 64)            20992       tf.concat_1[0][0]                \n",
      "__________________________________________________________________________________________________\n",
      "lstm_time (LSTM)                (256, 64)            20992       tf.concat_1[0][0]                \n",
      "__________________________________________________________________________________________________\n",
      "concatenate_1 (Concatenate)     (256, 128)           0           lstm_token[0][0]                 \n",
      "                                                                 lstm_time[0][0]                  \n",
      "__________________________________________________________________________________________________\n",
      "dense_combination (Dense)       (256, 64)            8256        concatenate_1[0][0]              \n",
      "__________________________________________________________________________________________________\n",
      "dense_token (Dense)             (256, 4)             260         dense_combination[0][0]          \n",
      "__________________________________________________________________________________________________\n",
      "dense_time (Dense)              (256, 1)             65          dense_combination[0][0]          \n",
      "==================================================================================================\n",
      "Total params: 50,645\n",
      "Trainable params: 50,645\n",
      "Non-trainable params: 0\n",
      "__________________________________________________________________________________________________\n"
     ]
    }
   ],
   "source": [
    "reload_pretrained_gen = build_G(\n",
    "    batch_size = BATCH_SIZE,\n",
    "    event_vocab_dim = EVENT_VOCAB_DIM,\n",
    "    emb_dim = EMB_DIM,\n",
    "    hidden_dim= HIDDEN_DIM,\n",
    ")\n",
    "\n",
    "reload_pretrained_gen.build(input_shape=((BATCH_SIZE, T, 1)))\n",
    "reload_pretrained_gen.load_weights(G_save_path)\n",
    "reload_pretrained_gen.summary()"
   ]
  },
  {
   "cell_type": "markdown",
   "id": "legendary-container",
   "metadata": {},
   "source": [
    "## Pre-train D"
   ]
  },
  {
   "cell_type": "code",
   "execution_count": 20,
   "id": "shaped-victoria",
   "metadata": {},
   "outputs": [],
   "source": [
    "N_fake_D = N_real_D = N_total_G "
   ]
  },
  {
   "cell_type": "code",
   "execution_count": 21,
   "id": "discrete-trauma",
   "metadata": {},
   "outputs": [],
   "source": [
    "# generate fake data by G to pre-train D\n",
    "fake_pos_event_type_seqs, fake_pos_timestamp_seqs = generate_sequences_gumbel(N_fake_D, pretrained_generator, BATCH_SIZE, T)"
   ]
  },
  {
   "cell_type": "code",
   "execution_count": 22,
   "id": "korean-recipe",
   "metadata": {},
   "outputs": [],
   "source": [
    "# generate fake data by G to pre-train D\n",
    "real_pos_event_type_seqs = pos_event_type_seqs[0:N_real_D, :, :]\n",
    "real_pos_timestamp_seqs = pos_timestamp_seqs[0:N_real_D, :, :]"
   ]
  },
  {
   "cell_type": "code",
   "execution_count": 23,
   "id": "outstanding-burke",
   "metadata": {},
   "outputs": [],
   "source": [
    "N_total_D = N_fake_D + N_real_D\n",
    "\n",
    "pretrain_D_et = tf.concat([fake_pos_event_type_seqs, real_pos_event_type_seqs], axis=0)\n",
    "pretrain_D_ts = tf.concat([fake_pos_timestamp_seqs, real_pos_timestamp_seqs], axis=0)\n",
    "pretrain_D_labels = tf.concat([np.zeros((N_fake_D, 1)), np.ones((N_real_D, 1))], axis=0)\n",
    "\n",
    "EPOCHS = 1\n",
    "_TOTAL_STEPS = int(EPOCHS * N_total_D / BATCH_SIZE)\n",
    "\n",
    "pretrain_D_dataset = create_dataset((pretrain_D_et, pretrain_D_ts),\n",
    "                                    pretrain_D_labels,\n",
    "                                    batch_size=BATCH_SIZE,\n",
    "                                    epochs=EPOCHS,\n",
    "                                    buffer_size=N_total_D) # shuffle the entire Dataset"
   ]
  },
  {
   "cell_type": "code",
   "execution_count": 24,
   "id": "direct-desire",
   "metadata": {},
   "outputs": [],
   "source": [
    "pretrain_disc_token_loss_history = []\n",
    "\n",
    "pretrained_discriminator = build_D(batch_size=BATCH_SIZE,\n",
    "                                   T=T,\n",
    "                                   event_vocab_dim=EVENT_VOCAB_DIM,\n",
    "                                   emb_dim=EMB_DIM,\n",
    "                                   hidden_dim=HIDDEN_DIM,    \n",
    "                                   dropout_rate=0.25)"
   ]
  },
  {
   "cell_type": "code",
   "execution_count": 25,
   "id": "external-extent",
   "metadata": {
    "scrolled": true
   },
   "outputs": [
    {
     "name": "stderr",
     "output_type": "stream",
     "text": [
      "  3%|▎         | 1/31 [00:00<00:04,  6.38it/s]"
     ]
    },
    {
     "name": "stdout",
     "output_type": "stream",
     "text": [
      "Training Step: 1\n",
      "total discriminator loss:0.6945902060677038\n",
      "Training Step: 2\n",
      "total discriminator loss:0.6885165483044982\n"
     ]
    },
    {
     "name": "stderr",
     "output_type": "stream",
     "text": [
      " 10%|▉         | 3/31 [00:00<00:04,  6.73it/s]"
     ]
    },
    {
     "name": "stdout",
     "output_type": "stream",
     "text": [
      "Training Step: 3\n",
      "total discriminator loss:0.6821092915166089\n",
      "Training Step: 4\n"
     ]
    },
    {
     "name": "stderr",
     "output_type": "stream",
     "text": [
      "\r",
      " 13%|█▎        | 4/31 [00:00<00:03,  6.98it/s]"
     ]
    },
    {
     "name": "stdout",
     "output_type": "stream",
     "text": [
      "total discriminator loss:0.6764472232220182\n",
      "Training Step: 5\n",
      "total discriminator loss:0.6761272580455724\n"
     ]
    },
    {
     "name": "stderr",
     "output_type": "stream",
     "text": [
      " 19%|█▉        | 6/31 [00:00<00:03,  6.96it/s]"
     ]
    },
    {
     "name": "stdout",
     "output_type": "stream",
     "text": [
      "Training Step: 6\n",
      "total discriminator loss:0.6598124991450278\n",
      "Training Step: 7\n"
     ]
    },
    {
     "name": "stderr",
     "output_type": "stream",
     "text": [
      "\r",
      " 23%|██▎       | 7/31 [00:01<00:04,  5.62it/s]"
     ]
    },
    {
     "name": "stdout",
     "output_type": "stream",
     "text": [
      "total discriminator loss:0.6571344440755945\n",
      "Training Step: 8\n",
      "total discriminator loss:0.6447106126903315\n"
     ]
    },
    {
     "name": "stderr",
     "output_type": "stream",
     "text": [
      " 29%|██▉       | 9/31 [00:01<00:03,  6.57it/s]"
     ]
    },
    {
     "name": "stdout",
     "output_type": "stream",
     "text": [
      "Training Step: 9\n",
      "total discriminator loss:0.6422078181882539\n",
      "Training Step: 10\n",
      "total discriminator loss:0.6436837658929203\n"
     ]
    },
    {
     "name": "stderr",
     "output_type": "stream",
     "text": [
      " 35%|███▌      | 11/31 [00:01<00:02,  7.16it/s]"
     ]
    },
    {
     "name": "stdout",
     "output_type": "stream",
     "text": [
      "Training Step: 11\n",
      "total discriminator loss:0.636567355420489\n",
      "Training Step: 12\n",
      "total discriminator loss:0.6107800030820596\n"
     ]
    },
    {
     "name": "stderr",
     "output_type": "stream",
     "text": [
      " 42%|████▏     | 13/31 [00:01<00:02,  7.23it/s]"
     ]
    },
    {
     "name": "stdout",
     "output_type": "stream",
     "text": [
      "Training Step: 13\n",
      "total discriminator loss:0.6058427312745276\n",
      "Training Step: 14\n",
      "total discriminator loss:0.6047948395882534\n"
     ]
    },
    {
     "name": "stderr",
     "output_type": "stream",
     "text": [
      " 48%|████▊     | 15/31 [00:02<00:02,  7.53it/s]"
     ]
    },
    {
     "name": "stdout",
     "output_type": "stream",
     "text": [
      "Training Step: 15\n",
      "total discriminator loss:0.5982520197341787\n",
      "Training Step: 16\n",
      "total discriminator loss:0.6247568746233116\n"
     ]
    },
    {
     "name": "stderr",
     "output_type": "stream",
     "text": [
      " 55%|█████▍    | 17/31 [00:02<00:01,  7.63it/s]"
     ]
    },
    {
     "name": "stdout",
     "output_type": "stream",
     "text": [
      "Training Step: 17\n",
      "total discriminator loss:0.5847119925252182\n",
      "Training Step: 18\n",
      "total discriminator loss:0.5400801803304787\n"
     ]
    },
    {
     "name": "stderr",
     "output_type": "stream",
     "text": [
      " 61%|██████▏   | 19/31 [00:02<00:01,  7.10it/s]"
     ]
    },
    {
     "name": "stdout",
     "output_type": "stream",
     "text": [
      "Training Step: 19\n",
      "total discriminator loss:0.5301923695737363\n",
      "Training Step: 20\n"
     ]
    },
    {
     "name": "stderr",
     "output_type": "stream",
     "text": [
      " 68%|██████▊   | 21/31 [00:02<00:01,  7.31it/s]"
     ]
    },
    {
     "name": "stdout",
     "output_type": "stream",
     "text": [
      "total discriminator loss:0.5342244226928214\n",
      "Training Step: 21\n",
      "total discriminator loss:0.5645169257618037\n",
      "Training Step: 22\n"
     ]
    },
    {
     "name": "stderr",
     "output_type": "stream",
     "text": [
      "\r",
      " 71%|███████   | 22/31 [00:03<00:01,  7.21it/s]"
     ]
    },
    {
     "name": "stdout",
     "output_type": "stream",
     "text": [
      "total discriminator loss:0.5745299023049886\n",
      "Training Step: 23\n",
      "total discriminator loss:0.542360629892702\n"
     ]
    },
    {
     "name": "stderr",
     "output_type": "stream",
     "text": [
      " 77%|███████▋  | 24/31 [00:03<00:00,  7.32it/s]"
     ]
    },
    {
     "name": "stdout",
     "output_type": "stream",
     "text": [
      "Training Step: 24\n",
      "total discriminator loss:0.4778811557650391\n",
      "Training Step: 25\n",
      "total discriminator loss:0.48495150389643005\n"
     ]
    },
    {
     "name": "stderr",
     "output_type": "stream",
     "text": [
      " 84%|████████▍ | 26/31 [00:03<00:00,  7.25it/s]"
     ]
    },
    {
     "name": "stdout",
     "output_type": "stream",
     "text": [
      "Training Step: 26\n",
      "total discriminator loss:0.49612409802163115\n",
      "Training Step: 27\n"
     ]
    },
    {
     "name": "stderr",
     "output_type": "stream",
     "text": [
      " 90%|█████████ | 28/31 [00:03<00:00,  7.44it/s]"
     ]
    },
    {
     "name": "stdout",
     "output_type": "stream",
     "text": [
      "total discriminator loss:0.5223213855537812\n",
      "Training Step: 28\n",
      "total discriminator loss:0.48345295873964866\n",
      "Training Step: 29\n"
     ]
    },
    {
     "name": "stderr",
     "output_type": "stream",
     "text": [
      " 97%|█████████▋| 30/31 [00:04<00:00,  7.49it/s]"
     ]
    },
    {
     "name": "stdout",
     "output_type": "stream",
     "text": [
      "total discriminator loss:0.46280856071913884\n",
      "Training Step: 30\n",
      "total discriminator loss:0.4936984017271048\n",
      "Training Step: 31\n"
     ]
    },
    {
     "name": "stderr",
     "output_type": "stream",
     "text": [
      "100%|██████████| 31/31 [00:04<00:00,  7.14it/s]"
     ]
    },
    {
     "name": "stdout",
     "output_type": "stream",
     "text": [
      "total discriminator loss:0.44822269944748105\n"
     ]
    },
    {
     "name": "stderr",
     "output_type": "stream",
     "text": [
      "\n"
     ]
    }
   ],
   "source": [
    "step = 0\n",
    "OPTIMIZER = Adam(lr=1e-3)\n",
    "_TOTAL_STEPS = 100\n",
    "\n",
    "for feature_batch, labels in tqdm(pretrain_D_dataset.take(100)):\n",
    "    event_type_batch, time_delta_batch = feature_batch\n",
    "    step += 1\n",
    "    print('Training Step:', step)\n",
    "\n",
    "    disc_token_loss = pretrain_discriminator(event_type_batch, time_delta_batch, labels, pretrained_discriminator, verbose=True, optimizer=OPTIMIZER)\n",
    "    pretrain_disc_token_loss_history.append(disc_token_loss.numpy())"
   ]
  },
  {
   "cell_type": "code",
   "execution_count": 26,
   "id": "working-reason",
   "metadata": {},
   "outputs": [],
   "source": [
    "if not os.path.exists(model_save_dir + '/pretrained_disc_weights'):\n",
    "    os.makedirs(model_save_dir + '/pretrained_disc_weights')\n",
    "\n",
    "D_save_path = model_save_dir + '/pretrained_disc_weights/model.tf'\n",
    "pretrained_discriminator.save_weights(D_save_path)"
   ]
  },
  {
   "cell_type": "code",
   "execution_count": 27,
   "id": "cultural-travel",
   "metadata": {
    "scrolled": true
   },
   "outputs": [
    {
     "name": "stdout",
     "output_type": "stream",
     "text": [
      "Model: \"model_3\"\n",
      "__________________________________________________________________________________________________\n",
      "Layer (type)                    Output Shape         Param #     Connected to                     \n",
      "==================================================================================================\n",
      "event_type (InputLayer)         [(256, None, 4)]     0                                            \n",
      "__________________________________________________________________________________________________\n",
      "dense_emb (Dense)               (256, None, 16)      80          event_type[0][0]                 \n",
      "__________________________________________________________________________________________________\n",
      "time_delta_in (InputLayer)      [(256, None, 1)]     0                                            \n",
      "__________________________________________________________________________________________________\n",
      "tf.concat_3 (TFOpLambda)        (256, None, 17)      0           dense_emb[0][0]                  \n",
      "                                                                 time_delta_in[0][0]              \n",
      "__________________________________________________________________________________________________\n",
      "lstm_token (LSTM)               (256, 64)            20992       tf.concat_3[0][0]                \n",
      "__________________________________________________________________________________________________\n",
      "lstm_time (LSTM)                (256, 64)            20992       tf.concat_3[0][0]                \n",
      "__________________________________________________________________________________________________\n",
      "concatenate_3 (Concatenate)     (256, 128)           0           lstm_token[0][0]                 \n",
      "                                                                 lstm_time[0][0]                  \n",
      "__________________________________________________________________________________________________\n",
      "dropout_1 (Dropout)             (256, 128)           0           concatenate_3[0][0]              \n",
      "__________________________________________________________________________________________________\n",
      "final (Dense)                   (256, 1)             129         dropout_1[0][0]                  \n",
      "==================================================================================================\n",
      "Total params: 42,193\n",
      "Trainable params: 42,193\n",
      "Non-trainable params: 0\n",
      "__________________________________________________________________________________________________\n"
     ]
    }
   ],
   "source": [
    "reload_pretrained_disc = build_D(\n",
    "    batch_size=BATCH_SIZE,\n",
    "    T=T,\n",
    "    event_vocab_dim=EVENT_VOCAB_DIM,\n",
    "    emb_dim=EMB_DIM,\n",
    "    hidden_dim=HIDDEN_DIM,    \n",
    "    dropout_rate=0.25)\n",
    "\n",
    "reload_pretrained_disc.build(input_shape=((BATCH_SIZE, T, 1)))\n",
    "reload_pretrained_disc.load_weights(D_save_path)\n",
    "reload_pretrained_disc.summary()"
   ]
  },
  {
   "cell_type": "markdown",
   "id": "north-bacon",
   "metadata": {},
   "source": [
    "## Gumbel  Traning"
   ]
  },
  {
   "cell_type": "code",
   "execution_count": 30,
   "id": "requested-remove",
   "metadata": {},
   "outputs": [],
   "source": [
    "import tensorflow as tf\n",
    "import tensorflow.keras.backend as K\n",
    "keras = tf.keras\n",
    "\n",
    "class HistoricalAvgLoss(object):\n",
    "    def __init__(self, model):\n",
    "        # create tensors (initialized to zero) to hold the previous value of the\n",
    "        # weights\n",
    "        self.model = model\n",
    "        self.prev_weights = []\n",
    "        for w in model.get_weights():\n",
    "            self.prev_weights.append(K.variable(np.zeros(w.shape)))\n",
    "\n",
    "    def loss(self, y_true, y_pred, from_logits=True):\n",
    "        err = keras.losses.binary_crossentropy(y_true, y_pred, from_logits=from_logits)\n",
    "#         err = tf.cast(y_true, tf.float64) * y_pred  # WGAN loss\n",
    "        werr = [K.mean(K.square(c - p)) for c, p in zip(self.model.get_weights(), self.prev_weights)]\n",
    "        self.prev_weights = \\\n",
    "            [K.update(p, c) for c, p in zip(self.model.get_weights(), self.prev_weights)]\n",
    "        return err + K.sum(werr)\n"
   ]
  },
  {
   "cell_type": "code",
   "execution_count": 31,
   "id": "indian-assist",
   "metadata": {},
   "outputs": [],
   "source": [
    "def train_generator_gumbel(generator, discriminator, batch_size, T, verbose=False,                   \n",
    "                    optimizer=Adam(lr=0.001), loss_obj=None):\n",
    "    \n",
    "    assert loss_obj is not None\n",
    "    with tf.GradientTape() as tape:                        \n",
    "\n",
    "        G_sample_et, G_sample_ts = generate_sequences_gumbel(batch_size, generator, batch_size, T)\n",
    "        D_fake = discriminator([G_sample_et, G_sample_ts])\n",
    "\n",
    "#         generator_loss = tf.reduce_mean(tf.keras.losses.binary_crossentropy(tf.ones_like(D_fake), D_fake))\n",
    "        generator_loss =  tf.reduce_mean(loss_obj.loss(tf.ones_like(D_fake), D_fake))\n",
    "        \n",
    "    if verbose:\n",
    "        print('generator loss:{}'.format(generator_loss))\n",
    "        print('-----------------------')\n",
    "\n",
    "    # update generator\n",
    "    generator_grads = tape.gradient(generator_loss, generator.trainable_variables)\n",
    "    optimizer.apply_gradients(zip(generator_grads, generator.trainable_variables))\n",
    "\n",
    "    return generator_loss\n",
    "\n",
    "\n",
    "def train_discriminator_gumbel(real_data_batch_et, real_data_batch_ts, generator, discriminator, batch_size, T, verbose=False,\n",
    "                        optimizer=Adam(lr=0.001), label_smoothing=False, label_flipping=False, loss_obj=None):\n",
    "\n",
    "    assert loss_obj is not None\n",
    "    # data prep\n",
    "    real_labels = tf.ones((batch_size//2, 1))        \n",
    "    fake_labels = tf.zeros((batch_size//2, 1))    \n",
    "    \n",
    "    real_data_batch_et, real_data_batch_ts = real_data_batch_et[:batch_size//2, :, :], real_data_batch_ts[:batch_size//2, :, :]    \n",
    "    fake_data_batch_et, fake_data_batch_ts = generate_sequences_gumbel(batch_size//2, generator, batch_size, T)\n",
    "    \n",
    "    if label_smoothing:\n",
    "        fake_labels = fake_labels + tf.random.normal(fake_labels.shape, mean=0, stddev=0.3)\n",
    "        fake_labels = tf.clip_by_value(fake_labels, clip_value_min=0., clip_value_max=0.3)\n",
    "\n",
    "        real_labels = real_labels + tf.random.normal(real_labels.shape, mean=0, stddev=0.3)\n",
    "        real_labels = tf.clip_by_value(real_labels, clip_value_min=0.7, clip_value_max=1.0)\n",
    "\n",
    "    if label_flipping:\n",
    "        if tf.random.uniform((1,)) < 0.05:\n",
    "            fake_labels, real_labels = real_labels, fake_labels\n",
    "    \n",
    "    total_data_et = tf.concat([fake_data_batch_et, real_data_batch_et], axis=0)\n",
    "    total_data_ts = tf.concat([fake_data_batch_ts, real_data_batch_ts], axis=0)\n",
    "    total_labels = tf.concat([fake_labels, real_labels], axis=0)        \n",
    "        \n",
    "    # train the discriminator\n",
    "    with tf.GradientTape() as tape:                                                           \n",
    "        # train discriminator\n",
    "        pred_prob = discriminator([total_data_et, total_data_ts])\n",
    "\n",
    "        # cross-entropy loss\n",
    "#         discriminator_loss = tf.reduce_mean(\n",
    "#             tf.keras.losses.binary_crossentropy(total_labels, pred_prob, from_logits=False))\n",
    "        \n",
    "        discriminator_loss = tf.reduce_mean(loss_obj.loss(total_labels, pred_prob, from_logits=False))\n",
    "        # average true return\n",
    "        average_true_return = tf.reduce_mean(pred_prob)\n",
    "        \n",
    "        if verbose:\n",
    "            print('total discriminator loss:{}'.format(discriminator_loss))\n",
    "            print('average true return:{}'.format(average_true_return))\n",
    "            print('-----------------------')\n",
    "\n",
    "    grads = tape.gradient(discriminator_loss, discriminator.trainable_variables)\n",
    "    optimizer.apply_gradients(zip(grads, discriminator.trainable_variables))\n",
    "\n",
    "    return discriminator_loss, average_true_return"
   ]
  },
  {
   "cell_type": "code",
   "execution_count": 32,
   "id": "immediate-perry",
   "metadata": {
    "scrolled": true
   },
   "outputs": [
    {
     "name": "stdout",
     "output_type": "stream",
     "text": [
      "Model: \"model_4\"\n",
      "__________________________________________________________________________________________________\n",
      "Layer (type)                    Output Shape         Param #     Connected to                     \n",
      "==================================================================================================\n",
      "event_type (InputLayer)         [(256, None, 4)]     0                                            \n",
      "__________________________________________________________________________________________________\n",
      "dense_emb (Dense)               (256, None, 16)      80          event_type[0][0]                 \n",
      "__________________________________________________________________________________________________\n",
      "time_delta_in (InputLayer)      [(256, None, 1)]     0                                            \n",
      "__________________________________________________________________________________________________\n",
      "tf.concat_4 (TFOpLambda)        (256, None, 17)      0           dense_emb[0][0]                  \n",
      "                                                                 time_delta_in[0][0]              \n",
      "__________________________________________________________________________________________________\n",
      "lstm_token (LSTM)               (256, 64)            20992       tf.concat_4[0][0]                \n",
      "__________________________________________________________________________________________________\n",
      "lstm_time (LSTM)                (256, 64)            20992       tf.concat_4[0][0]                \n",
      "__________________________________________________________________________________________________\n",
      "concatenate_4 (Concatenate)     (256, 128)           0           lstm_token[0][0]                 \n",
      "                                                                 lstm_time[0][0]                  \n",
      "__________________________________________________________________________________________________\n",
      "dense_combination (Dense)       (256, 64)            8256        concatenate_4[0][0]              \n",
      "__________________________________________________________________________________________________\n",
      "dense_token (Dense)             (256, 4)             260         dense_combination[0][0]          \n",
      "__________________________________________________________________________________________________\n",
      "dense_time (Dense)              (256, 1)             65          dense_combination[0][0]          \n",
      "==================================================================================================\n",
      "Total params: 50,645\n",
      "Trainable params: 50,645\n",
      "Non-trainable params: 0\n",
      "__________________________________________________________________________________________________\n",
      "Model: \"model_5\"\n",
      "__________________________________________________________________________________________________\n",
      "Layer (type)                    Output Shape         Param #     Connected to                     \n",
      "==================================================================================================\n",
      "event_type (InputLayer)         [(256, None, 4)]     0                                            \n",
      "__________________________________________________________________________________________________\n",
      "dense_emb (Dense)               (256, None, 16)      80          event_type[0][0]                 \n",
      "__________________________________________________________________________________________________\n",
      "time_delta_in (InputLayer)      [(256, None, 1)]     0                                            \n",
      "__________________________________________________________________________________________________\n",
      "tf.concat_5 (TFOpLambda)        (256, None, 17)      0           dense_emb[0][0]                  \n",
      "                                                                 time_delta_in[0][0]              \n",
      "__________________________________________________________________________________________________\n",
      "lstm_token (LSTM)               (256, 64)            20992       tf.concat_5[0][0]                \n",
      "__________________________________________________________________________________________________\n",
      "lstm_time (LSTM)                (256, 64)            20992       tf.concat_5[0][0]                \n",
      "__________________________________________________________________________________________________\n",
      "concatenate_5 (Concatenate)     (256, 128)           0           lstm_token[0][0]                 \n",
      "                                                                 lstm_time[0][0]                  \n",
      "__________________________________________________________________________________________________\n",
      "dropout_2 (Dropout)             (256, 128)           0           concatenate_5[0][0]              \n",
      "__________________________________________________________________________________________________\n",
      "final (Dense)                   (256, 1)             129         dropout_2[0][0]                  \n",
      "==================================================================================================\n",
      "Total params: 42,193\n",
      "Trainable params: 42,193\n",
      "Non-trainable params: 0\n",
      "__________________________________________________________________________________________________\n"
     ]
    }
   ],
   "source": [
    "G_save_path = model_save_dir + '/pretrained_gen_weights/model.tf'\n",
    "D_save_path = model_save_dir + '/pretrained_disc_weights/model.tf'\n",
    "\n",
    "G = build_G(\n",
    "    batch_size = BATCH_SIZE,\n",
    "    event_vocab_dim = EVENT_VOCAB_DIM,\n",
    "    emb_dim = EMB_DIM,\n",
    "    hidden_dim= HIDDEN_DIM,\n",
    ")\n",
    "\n",
    "G.build(input_shape=((BATCH_SIZE, T, 1)))\n",
    "G.load_weights(G_save_path)\n",
    "G.summary()\n",
    "\n",
    "D = build_D(\n",
    "    batch_size=BATCH_SIZE,\n",
    "    T=T,\n",
    "    event_vocab_dim=EVENT_VOCAB_DIM,\n",
    "    emb_dim=EMB_DIM,\n",
    "    hidden_dim=HIDDEN_DIM,    \n",
    "    dropout_rate=0.25)\n",
    "\n",
    "D.build(input_shape=((BATCH_SIZE, T, 1)))\n",
    "D.load_weights(D_save_path)\n",
    "D.summary()\n",
    "\n",
    "historical_avg_G = HistoricalAvgLoss(G)\n",
    "historical_avg_D = HistoricalAvgLoss(D)\n",
    "\n",
    "assert historical_avg_G.model is G\n",
    "assert historical_avg_D.model is D"
   ]
  },
  {
   "cell_type": "code",
   "execution_count": 33,
   "id": "twelve-transcript",
   "metadata": {},
   "outputs": [],
   "source": [
    "N_total_G = pos_event_type_seqs.shape[0]\n",
    "\n",
    "EPOCHS = 100\n",
    "_TOTAL_STEPS = int(EPOCHS * N_total_G / BATCH_SIZE)\n",
    "\n",
    "\n",
    "train_dataset = create_dataset((pos_event_type_seqs, pos_timestamp_seqs),\n",
    "                             np.ones((N_total_G, 1)),\n",
    "                             batch_size=BATCH_SIZE,\n",
    "                             epochs=EPOCHS,\n",
    "                             buffer_size=N_total_G)\n",
    "\n",
    "gen_loss_history = []\n",
    "disc_loss_history = []\n",
    "average_true_return_history = []\n",
    "\n",
    "step = 0\n",
    "\n",
    "G_optimizer = Adam(learning_rate=1e-3)\n",
    "D_optimizer = Adam(learning_rate=1e-3)\n",
    "\n",
    "_G_STEPS = 1\n",
    "_D_STEPS = 1"
   ]
  },
  {
   "cell_type": "code",
   "execution_count": 34,
   "id": "tribal-parking",
   "metadata": {
    "scrolled": false
   },
   "outputs": [
    {
     "name": "stderr",
     "output_type": "stream",
     "text": [
      "\r",
      "  0%|          | 0/500 [00:00<?, ?it/s]"
     ]
    },
    {
     "name": "stdout",
     "output_type": "stream",
     "text": [
      "Training Step: 0\n",
      "generator loss:2.374151427068319\n",
      "-----------------------\n",
      "total discriminator loss:1.3224805161267479\n",
      "average true return:0.5098105139867917\n",
      "-----------------------\n",
      "tf.Tensor([[3 2 2 0 2 1 1 0 2 3 0 1 2 3 2 0 1 1 2 2]], shape=(1, 20), dtype=int64)\n"
     ]
    },
    {
     "data": {
      "image/png": "[encoded data removed]",
      "text/plain": [
       "<Figure size 432x288 with 1 Axes>"
      ]
     },
     "metadata": {
      "needs_background": "light"
     },
     "output_type": "display_data"
    },
    {
     "name": "stderr",
     "output_type": "stream",
     "text": [
      "\r",
      "  0%|          | 1/500 [00:01<10:08,  1.22s/it]"
     ]
    },
    {
     "name": "stdout",
     "output_type": "stream",
     "text": [
      "Training Step: 1\n",
      "generator loss:1.3067212261165717\n",
      "-----------------------\n"
     ]
    },
    {
     "name": "stderr",
     "output_type": "stream",
     "text": [
      "\r",
      "  0%|          | 2/500 [00:02<08:09,  1.02it/s]"
     ]
    },
    {
     "name": "stdout",
     "output_type": "stream",
     "text": [
      "total discriminator loss:0.745058648981934\n",
      "average true return:0.465874249601459\n",
      "-----------------------\n",
      "Training Step: 2\n",
      "generator loss:1.0103211485640071\n",
      "-----------------------\n"
     ]
    },
    {
     "name": "stderr",
     "output_type": "stream",
     "text": [
      "\r",
      "  1%|          | 3/500 [00:02<07:34,  1.09it/s]"
     ]
    },
    {
     "name": "stdout",
     "output_type": "stream",
     "text": [
      "total discriminator loss:0.8812117149497083\n",
      "average true return:0.4851638837142712\n",
      "-----------------------\n",
      "Training Step: 3\n",
      "generator loss:0.7958766576449391\n",
      "-----------------------\n"
     ]
    },
    {
     "name": "stderr",
     "output_type": "stream",
     "text": [
      "\r",
      "  1%|          | 4/500 [00:03<07:13,  1.14it/s]"
     ]
    },
    {
     "name": "stdout",
     "output_type": "stream",
     "text": [
      "total discriminator loss:0.5836905446373564\n",
      "average true return:0.5623035582640487\n",
      "-----------------------\n",
      "Training Step: 4\n",
      "generator loss:0.5355738987508465\n",
      "-----------------------\n"
     ]
    },
    {
     "name": "stderr",
     "output_type": "stream",
     "text": [
      "\r",
      "  1%|          | 5/500 [00:04<07:03,  1.17it/s]"
     ]
    },
    {
     "name": "stdout",
     "output_type": "stream",
     "text": [
      "total discriminator loss:1.3783073398910237\n",
      "average true return:0.5907421428403772\n",
      "-----------------------\n",
      "Training Step: 5\n",
      "generator loss:0.3993605122151781\n",
      "-----------------------\n"
     ]
    },
    {
     "name": "stderr",
     "output_type": "stream",
     "text": [
      "\r",
      "  1%|          | 6/500 [00:05<06:53,  1.19it/s]"
     ]
    },
    {
     "name": "stdout",
     "output_type": "stream",
     "text": [
      "total discriminator loss:1.4758295623760027\n",
      "average true return:0.6225185925183028\n",
      "-----------------------\n",
      "Training Step: 6\n",
      "generator loss:0.279239506046239\n",
      "-----------------------\n"
     ]
    },
    {
     "name": "stderr",
     "output_type": "stream",
     "text": [
      "\r",
      "  1%|▏         | 7/500 [00:06<06:49,  1.20it/s]"
     ]
    },
    {
     "name": "stdout",
     "output_type": "stream",
     "text": [
      "total discriminator loss:1.4298454682340762\n",
      "average true return:0.6471579902256458\n",
      "-----------------------\n",
      "Training Step: 7\n",
      "generator loss:0.20389977512485244\n",
      "-----------------------\n"
     ]
    },
    {
     "name": "stderr",
     "output_type": "stream",
     "text": [
      "\r",
      "  2%|▏         | 8/500 [00:06<06:51,  1.20it/s]"
     ]
    },
    {
     "name": "stdout",
     "output_type": "stream",
     "text": [
      "total discriminator loss:1.343919450002157\n",
      "average true return:0.6726493252333\n",
      "-----------------------\n",
      "Training Step: 8\n",
      "generator loss:0.18137470349110632\n",
      "-----------------------\n"
     ]
    },
    {
     "name": "stderr",
     "output_type": "stream",
     "text": [
      "\r",
      "  2%|▏         | 9/500 [00:07<06:48,  1.20it/s]"
     ]
    },
    {
     "name": "stdout",
     "output_type": "stream",
     "text": [
      "total discriminator loss:1.2998454653960394\n",
      "average true return:0.675090602305277\n",
      "-----------------------\n",
      "Training Step: 9\n",
      "generator loss:0.1842562092119405\n",
      "-----------------------\n"
     ]
    },
    {
     "name": "stderr",
     "output_type": "stream",
     "text": [
      "\r",
      "  2%|▏         | 10/500 [00:08<06:46,  1.20it/s]"
     ]
    },
    {
     "name": "stdout",
     "output_type": "stream",
     "text": [
      "total discriminator loss:1.2668663861907032\n",
      "average true return:0.6704848405845132\n",
      "-----------------------\n",
      "Training Step: 10\n",
      "generator loss:0.18556947884814357\n",
      "-----------------------\n"
     ]
    },
    {
     "name": "stderr",
     "output_type": "stream",
     "text": [
      "\r",
      "  2%|▏         | 11/500 [00:09<06:48,  1.20it/s]"
     ]
    },
    {
     "name": "stdout",
     "output_type": "stream",
     "text": [
      "total discriminator loss:1.2051821207671178\n",
      "average true return:0.6662083055173945\n",
      "-----------------------\n",
      "Training Step: 11\n",
      "generator loss:0.19795889858744622\n",
      "-----------------------\n"
     ]
    },
    {
     "name": "stderr",
     "output_type": "stream",
     "text": [
      "\r",
      "  2%|▏         | 12/500 [00:10<06:46,  1.20it/s]"
     ]
    },
    {
     "name": "stdout",
     "output_type": "stream",
     "text": [
      "total discriminator loss:1.179477939485182\n",
      "average true return:0.6558447790925208\n",
      "-----------------------\n",
      "Training Step: 12\n",
      "generator loss:0.21245563174727794\n",
      "-----------------------\n"
     ]
    },
    {
     "name": "stderr",
     "output_type": "stream",
     "text": [
      "\r",
      "  3%|▎         | 13/500 [00:11<06:43,  1.21it/s]"
     ]
    },
    {
     "name": "stdout",
     "output_type": "stream",
     "text": [
      "total discriminator loss:1.1046100506827314\n",
      "average true return:0.6487209615965446\n",
      "-----------------------\n",
      "Training Step: 13\n",
      "generator loss:0.2350124485081246\n",
      "-----------------------\n"
     ]
    },
    {
     "name": "stderr",
     "output_type": "stream",
     "text": [
      "\r",
      "  3%|▎         | 14/500 [00:11<06:46,  1.19it/s]"
     ]
    },
    {
     "name": "stdout",
     "output_type": "stream",
     "text": [
      "total discriminator loss:1.054516402496075\n",
      "average true return:0.6392396237926771\n",
      "-----------------------\n",
      "Training Step: 14\n",
      "generator loss:0.2644266211587516\n",
      "-----------------------\n"
     ]
    },
    {
     "name": "stderr",
     "output_type": "stream",
     "text": [
      "\r",
      "  3%|▎         | 15/500 [00:12<06:43,  1.20it/s]"
     ]
    },
    {
     "name": "stdout",
     "output_type": "stream",
     "text": [
      "total discriminator loss:0.994709760848592\n",
      "average true return:0.6240700892287023\n",
      "-----------------------\n",
      "Training Step: 15\n",
      "generator loss:0.29728438838269167\n",
      "-----------------------\n"
     ]
    },
    {
     "name": "stderr",
     "output_type": "stream",
     "text": [
      "\r",
      "  3%|▎         | 16/500 [00:13<06:43,  1.20it/s]"
     ]
    },
    {
     "name": "stdout",
     "output_type": "stream",
     "text": [
      "total discriminator loss:0.9430655284079045\n",
      "average true return:0.6130194360250667\n",
      "-----------------------\n",
      "Training Step: 16\n",
      "generator loss:0.3467849799846532\n",
      "-----------------------\n"
     ]
    },
    {
     "name": "stderr",
     "output_type": "stream",
     "text": [
      "\r",
      "  3%|▎         | 17/500 [00:14<06:44,  1.19it/s]"
     ]
    },
    {
     "name": "stdout",
     "output_type": "stream",
     "text": [
      "total discriminator loss:0.883286247965635\n",
      "average true return:0.5954082676443018\n",
      "-----------------------\n",
      "Training Step: 17\n",
      "generator loss:0.39813588682121004\n",
      "-----------------------\n"
     ]
    },
    {
     "name": "stderr",
     "output_type": "stream",
     "text": [
      "\r",
      "  4%|▎         | 18/500 [00:15<06:40,  1.20it/s]"
     ]
    },
    {
     "name": "stdout",
     "output_type": "stream",
     "text": [
      "total discriminator loss:0.8383215800383947\n",
      "average true return:0.582254335609221\n",
      "-----------------------\n",
      "Training Step: 18\n",
      "generator loss:0.45378733500349366\n",
      "-----------------------\n"
     ]
    },
    {
     "name": "stderr",
     "output_type": "stream",
     "text": [
      "\r",
      "  4%|▍         | 19/500 [00:16<06:37,  1.21it/s]"
     ]
    },
    {
     "name": "stdout",
     "output_type": "stream",
     "text": [
      "total discriminator loss:0.6277089799072473\n",
      "average true return:0.5686947599661573\n",
      "-----------------------\n",
      "Training Step: 19\n",
      "generator loss:0.5011770220719105\n",
      "-----------------------\n"
     ]
    },
    {
     "name": "stderr",
     "output_type": "stream",
     "text": [
      "\r",
      "  4%|▍         | 20/500 [00:16<06:38,  1.20it/s]"
     ]
    },
    {
     "name": "stdout",
     "output_type": "stream",
     "text": [
      "total discriminator loss:0.76615676286295\n",
      "average true return:0.5598693308349545\n",
      "-----------------------\n",
      "Training Step: 20\n",
      "generator loss:0.5440930802190996\n",
      "-----------------------\n"
     ]
    },
    {
     "name": "stderr",
     "output_type": "stream",
     "text": [
      "\r",
      "  4%|▍         | 21/500 [00:17<06:36,  1.21it/s]"
     ]
    },
    {
     "name": "stdout",
     "output_type": "stream",
     "text": [
      "total discriminator loss:0.7457462561589234\n",
      "average true return:0.5513987768558755\n",
      "-----------------------\n",
      "Training Step: 21\n",
      "generator loss:0.5811643057414878\n",
      "-----------------------\n"
     ]
    },
    {
     "name": "stderr",
     "output_type": "stream",
     "text": [
      "\r",
      "  4%|▍         | 22/500 [00:18<06:38,  1.20it/s]"
     ]
    },
    {
     "name": "stdout",
     "output_type": "stream",
     "text": [
      "total discriminator loss:0.7210842747250578\n",
      "average true return:0.5463220505868545\n",
      "-----------------------\n",
      "Training Step: 22\n",
      "generator loss:0.6165481970083212\n",
      "-----------------------\n"
     ]
    },
    {
     "name": "stderr",
     "output_type": "stream",
     "text": [
      "\r",
      "  5%|▍         | 23/500 [00:19<06:37,  1.20it/s]"
     ]
    },
    {
     "name": "stdout",
     "output_type": "stream",
     "text": [
      "total discriminator loss:0.6993957257722816\n",
      "average true return:0.541520620197468\n",
      "-----------------------\n",
      "Training Step: 23\n",
      "generator loss:0.6541769610395376\n",
      "-----------------------\n"
     ]
    },
    {
     "name": "stderr",
     "output_type": "stream",
     "text": [
      "\r",
      "  5%|▍         | 24/500 [00:20<06:36,  1.20it/s]"
     ]
    },
    {
     "name": "stdout",
     "output_type": "stream",
     "text": [
      "total discriminator loss:0.6758112467644994\n",
      "average true return:0.5350993225641114\n",
      "-----------------------\n",
      "Training Step: 24\n",
      "generator loss:0.6929254086591958\n",
      "-----------------------\n"
     ]
    },
    {
     "name": "stderr",
     "output_type": "stream",
     "text": [
      "\r",
      "  5%|▌         | 25/500 [00:21<06:32,  1.21it/s]"
     ]
    },
    {
     "name": "stdout",
     "output_type": "stream",
     "text": [
      "total discriminator loss:0.6577113278477658\n",
      "average true return:0.5276915954111701\n",
      "-----------------------\n",
      "Training Step: 25\n",
      "generator loss:0.7350487295116\n",
      "-----------------------\n",
      "total discriminator loss:0.6367929218073187\n",
      "average true return:0.5193744569857296\n",
      "-----------------------\n",
      "tf.Tensor([[1 1 1 0 0 2 2 2 3 3 1 2 1 1 2 1 3 0 2 2]], shape=(1, 20), dtype=int64)\n"
     ]
    },
    {
     "data": {
      "image/png": "[encoded data removed]",
      "text/plain": [
       "<Figure size 432x288 with 1 Axes>"
      ]
     },
     "metadata": {
      "needs_background": "light"
     },
     "output_type": "display_data"
    },
    {
     "name": "stderr",
     "output_type": "stream",
     "text": [
      "\r",
      "  5%|▌         | 26/500 [00:22<07:12,  1.10it/s]"
     ]
    },
    {
     "name": "stdout",
     "output_type": "stream",
     "text": [
      "Training Step: 26\n",
      "generator loss:0.7819161950868028\n",
      "-----------------------\n"
     ]
    },
    {
     "name": "stderr",
     "output_type": "stream",
     "text": [
      "\r",
      "  5%|▌         | 27/500 [00:23<06:58,  1.13it/s]"
     ]
    },
    {
     "name": "stdout",
     "output_type": "stream",
     "text": [
      "total discriminator loss:0.6140792302139333\n",
      "average true return:0.510602422741668\n",
      "-----------------------\n",
      "Training Step: 27\n",
      "generator loss:0.8306576159327113\n",
      "-----------------------\n"
     ]
    },
    {
     "name": "stderr",
     "output_type": "stream",
     "text": [
      "\r",
      "  6%|▌         | 28/500 [00:23<06:46,  1.16it/s]"
     ]
    },
    {
     "name": "stdout",
     "output_type": "stream",
     "text": [
      "total discriminator loss:0.5933136903493396\n",
      "average true return:0.4990892928018951\n",
      "-----------------------\n",
      "Training Step: 28\n",
      "generator loss:0.8886668036034632\n",
      "-----------------------\n"
     ]
    },
    {
     "name": "stderr",
     "output_type": "stream",
     "text": [
      "\r",
      "  6%|▌         | 29/500 [00:24<06:38,  1.18it/s]"
     ]
    },
    {
     "name": "stdout",
     "output_type": "stream",
     "text": [
      "total discriminator loss:0.5762071818905273\n",
      "average true return:0.4893520483170867\n",
      "-----------------------\n",
      "Training Step: 29\n",
      "generator loss:0.9457229022106479\n",
      "-----------------------\n"
     ]
    },
    {
     "name": "stderr",
     "output_type": "stream",
     "text": [
      "\r",
      "  6%|▌         | 30/500 [00:25<06:34,  1.19it/s]"
     ]
    },
    {
     "name": "stdout",
     "output_type": "stream",
     "text": [
      "total discriminator loss:0.5630979817056735\n",
      "average true return:0.4799502831517138\n",
      "-----------------------\n",
      "Training Step: 30\n",
      "generator loss:1.0017063168547788\n",
      "-----------------------\n"
     ]
    },
    {
     "name": "stderr",
     "output_type": "stream",
     "text": [
      "\r",
      "  6%|▌         | 31/500 [00:26<06:29,  1.21it/s]"
     ]
    },
    {
     "name": "stdout",
     "output_type": "stream",
     "text": [
      "total discriminator loss:0.5398711039784293\n",
      "average true return:0.47358092958036907\n",
      "-----------------------\n",
      "Training Step: 31\n",
      "generator loss:1.0612322786375281\n",
      "-----------------------\n"
     ]
    },
    {
     "name": "stderr",
     "output_type": "stream",
     "text": [
      "\r",
      "  6%|▋         | 32/500 [00:27<06:25,  1.21it/s]"
     ]
    },
    {
     "name": "stdout",
     "output_type": "stream",
     "text": [
      "total discriminator loss:0.520327441490845\n",
      "average true return:0.4645168238896394\n",
      "-----------------------\n",
      "Training Step: 32\n",
      "generator loss:1.1186458280904548\n",
      "-----------------------\n"
     ]
    },
    {
     "name": "stderr",
     "output_type": "stream",
     "text": [
      "\r",
      "  7%|▋         | 33/500 [00:28<06:43,  1.16it/s]"
     ]
    },
    {
     "name": "stdout",
     "output_type": "stream",
     "text": [
      "total discriminator loss:0.5028998298962817\n",
      "average true return:0.46131241642369525\n",
      "-----------------------\n",
      "Training Step: 33\n",
      "generator loss:1.1747140395489781\n",
      "-----------------------\n"
     ]
    },
    {
     "name": "stderr",
     "output_type": "stream",
     "text": [
      "\r",
      "  7%|▋         | 34/500 [00:28<06:47,  1.14it/s]"
     ]
    },
    {
     "name": "stdout",
     "output_type": "stream",
     "text": [
      "total discriminator loss:0.48301090419452875\n",
      "average true return:0.45743208903039073\n",
      "-----------------------\n",
      "Training Step: 34\n",
      "generator loss:1.2282839066599913\n",
      "-----------------------\n"
     ]
    },
    {
     "name": "stderr",
     "output_type": "stream",
     "text": [
      "\r",
      "  7%|▋         | 35/500 [00:29<06:41,  1.16it/s]"
     ]
    },
    {
     "name": "stdout",
     "output_type": "stream",
     "text": [
      "total discriminator loss:0.48496533735274366\n",
      "average true return:0.45623065931788526\n",
      "-----------------------\n",
      "Training Step: 35\n",
      "generator loss:1.2764957340628635\n",
      "-----------------------\n"
     ]
    },
    {
     "name": "stderr",
     "output_type": "stream",
     "text": [
      "\r",
      "  7%|▋         | 36/500 [00:30<06:34,  1.17it/s]"
     ]
    },
    {
     "name": "stdout",
     "output_type": "stream",
     "text": [
      "total discriminator loss:0.46504186999512587\n",
      "average true return:0.45601263708794026\n",
      "-----------------------\n",
      "Training Step: 36\n",
      "generator loss:1.3186084594837748\n",
      "-----------------------\n"
     ]
    },
    {
     "name": "stderr",
     "output_type": "stream",
     "text": [
      "\r",
      "  7%|▋         | 37/500 [00:31<06:29,  1.19it/s]"
     ]
    },
    {
     "name": "stdout",
     "output_type": "stream",
     "text": [
      "total discriminator loss:0.4320996966423166\n",
      "average true return:0.45961388594725405\n",
      "-----------------------\n",
      "Training Step: 37\n",
      "generator loss:1.3534370240760345\n",
      "-----------------------\n"
     ]
    },
    {
     "name": "stderr",
     "output_type": "stream",
     "text": [
      "\r",
      "  8%|▊         | 38/500 [00:32<06:25,  1.20it/s]"
     ]
    },
    {
     "name": "stdout",
     "output_type": "stream",
     "text": [
      "total discriminator loss:0.44056701093094963\n",
      "average true return:0.4634891087109162\n",
      "-----------------------\n",
      "Training Step: 38\n",
      "generator loss:1.3832105537384183\n",
      "-----------------------\n"
     ]
    },
    {
     "name": "stderr",
     "output_type": "stream",
     "text": [
      "\r",
      "  8%|▊         | 39/500 [00:33<06:21,  1.21it/s]"
     ]
    },
    {
     "name": "stdout",
     "output_type": "stream",
     "text": [
      "total discriminator loss:0.42424414575883085\n",
      "average true return:0.4692085380678176\n",
      "-----------------------\n",
      "Training Step: 39\n",
      "generator loss:1.4013079426576467\n",
      "-----------------------\n"
     ]
    },
    {
     "name": "stderr",
     "output_type": "stream",
     "text": [
      "\r",
      "  8%|▊         | 40/500 [00:33<06:18,  1.21it/s]"
     ]
    },
    {
     "name": "stdout",
     "output_type": "stream",
     "text": [
      "total discriminator loss:0.40730418035485866\n",
      "average true return:0.47629980969638747\n",
      "-----------------------\n",
      "Training Step: 40\n",
      "generator loss:1.408005717904317\n",
      "-----------------------\n"
     ]
    },
    {
     "name": "stderr",
     "output_type": "stream",
     "text": [
      "\r",
      "  8%|▊         | 41/500 [00:34<06:18,  1.21it/s]"
     ]
    },
    {
     "name": "stdout",
     "output_type": "stream",
     "text": [
      "total discriminator loss:0.4023599925037319\n",
      "average true return:0.48457981491921487\n",
      "-----------------------\n",
      "Training Step: 41\n",
      "generator loss:1.4025356887687226\n",
      "-----------------------\n"
     ]
    },
    {
     "name": "stderr",
     "output_type": "stream",
     "text": [
      "\r",
      "  8%|▊         | 42/500 [00:35<06:18,  1.21it/s]"
     ]
    },
    {
     "name": "stdout",
     "output_type": "stream",
     "text": [
      "total discriminator loss:1.274171760555285\n",
      "average true return:0.49431466836265797\n",
      "-----------------------\n",
      "Training Step: 42\n",
      "generator loss:1.3474128422402503\n",
      "-----------------------\n"
     ]
    },
    {
     "name": "stderr",
     "output_type": "stream",
     "text": [
      "\r",
      "  9%|▊         | 43/500 [00:36<06:24,  1.19it/s]"
     ]
    },
    {
     "name": "stdout",
     "output_type": "stream",
     "text": [
      "total discriminator loss:0.40282621473496316\n",
      "average true return:0.5098079637780124\n",
      "-----------------------\n",
      "Training Step: 43\n",
      "generator loss:1.2749440970982926\n",
      "-----------------------\n"
     ]
    },
    {
     "name": "stderr",
     "output_type": "stream",
     "text": [
      "\r",
      "  9%|▉         | 44/500 [00:37<06:23,  1.19it/s]"
     ]
    },
    {
     "name": "stdout",
     "output_type": "stream",
     "text": [
      "total discriminator loss:0.4153399382932365\n",
      "average true return:0.5240775107923275\n",
      "-----------------------\n",
      "Training Step: 44\n",
      "generator loss:1.2063650429308552\n",
      "-----------------------\n"
     ]
    },
    {
     "name": "stderr",
     "output_type": "stream",
     "text": [
      "\r",
      "  9%|▉         | 45/500 [00:38<06:21,  1.19it/s]"
     ]
    },
    {
     "name": "stdout",
     "output_type": "stream",
     "text": [
      "total discriminator loss:0.42126723224799956\n",
      "average true return:0.5400609529147191\n",
      "-----------------------\n",
      "Training Step: 45\n",
      "generator loss:1.1433018681840017\n",
      "-----------------------\n"
     ]
    },
    {
     "name": "stderr",
     "output_type": "stream",
     "text": [
      "\r",
      "  9%|▉         | 46/500 [00:38<06:18,  1.20it/s]"
     ]
    },
    {
     "name": "stdout",
     "output_type": "stream",
     "text": [
      "total discriminator loss:0.42776843616863225\n",
      "average true return:0.5506823864024029\n",
      "-----------------------\n",
      "Training Step: 46\n",
      "generator loss:1.0833325972502696\n",
      "-----------------------\n"
     ]
    },
    {
     "name": "stderr",
     "output_type": "stream",
     "text": [
      "\r",
      "  9%|▉         | 47/500 [00:39<06:27,  1.17it/s]"
     ]
    },
    {
     "name": "stdout",
     "output_type": "stream",
     "text": [
      "total discriminator loss:0.42032391017280246\n",
      "average true return:0.561609408736964\n",
      "-----------------------\n",
      "Training Step: 47\n",
      "generator loss:1.0432149557920047\n",
      "-----------------------\n"
     ]
    },
    {
     "name": "stderr",
     "output_type": "stream",
     "text": [
      "\r",
      " 10%|▉         | 48/500 [00:40<06:21,  1.18it/s]"
     ]
    },
    {
     "name": "stdout",
     "output_type": "stream",
     "text": [
      "total discriminator loss:0.44247910024883913\n",
      "average true return:0.5652228079385204\n",
      "-----------------------\n",
      "Training Step: 48\n",
      "generator loss:1.0192655019505859\n",
      "-----------------------\n"
     ]
    },
    {
     "name": "stderr",
     "output_type": "stream",
     "text": [
      "\r",
      " 10%|▉         | 49/500 [00:41<06:18,  1.19it/s]"
     ]
    },
    {
     "name": "stdout",
     "output_type": "stream",
     "text": [
      "total discriminator loss:0.4192437676208103\n",
      "average true return:0.5658812983428895\n",
      "-----------------------\n",
      "Training Step: 49\n",
      "generator loss:1.0108924936199495\n",
      "-----------------------\n"
     ]
    },
    {
     "name": "stderr",
     "output_type": "stream",
     "text": [
      "\r",
      " 10%|█         | 50/500 [00:42<06:24,  1.17it/s]"
     ]
    },
    {
     "name": "stdout",
     "output_type": "stream",
     "text": [
      "total discriminator loss:0.4223659403997396\n",
      "average true return:0.5587542677506461\n",
      "-----------------------\n",
      "Training Step: 50\n",
      "generator loss:1.0219935387897392\n",
      "-----------------------\n",
      "total discriminator loss:0.4053056429862669\n",
      "average true return:0.5510860269318003\n",
      "-----------------------\n",
      "tf.Tensor([[1 2 2 1 0 2 2 2 1 0 3 2 2 2 2 2 3 2 1 2]], shape=(1, 20), dtype=int64)\n"
     ]
    },
    {
     "data": {
      "image/png": "[encoded data removed]",
      "text/plain": [
       "<Figure size 432x288 with 1 Axes>"
      ]
     },
     "metadata": {
      "needs_background": "light"
     },
     "output_type": "display_data"
    },
    {
     "name": "stderr",
     "output_type": "stream",
     "text": [
      "\r",
      " 10%|█         | 51/500 [00:43<07:01,  1.06it/s]"
     ]
    },
    {
     "name": "stdout",
     "output_type": "stream",
     "text": [
      "Training Step: 51\n",
      "generator loss:1.0213006361220807\n",
      "-----------------------\n"
     ]
    },
    {
     "name": "stderr",
     "output_type": "stream",
     "text": [
      "\r",
      " 10%|█         | 52/500 [00:44<06:46,  1.10it/s]"
     ]
    },
    {
     "name": "stdout",
     "output_type": "stream",
     "text": [
      "total discriminator loss:0.41828465007266274\n",
      "average true return:0.5421811610527056\n",
      "-----------------------\n",
      "Training Step: 52\n",
      "generator loss:1.0458092069147877\n",
      "-----------------------\n"
     ]
    },
    {
     "name": "stderr",
     "output_type": "stream",
     "text": [
      "\r",
      " 11%|█         | 53/500 [00:45<06:33,  1.14it/s]"
     ]
    },
    {
     "name": "stdout",
     "output_type": "stream",
     "text": [
      "total discriminator loss:0.40921117004753543\n",
      "average true return:0.5330254164144863\n",
      "-----------------------\n",
      "Training Step: 53\n",
      "generator loss:1.0527673811899068\n",
      "-----------------------\n"
     ]
    },
    {
     "name": "stderr",
     "output_type": "stream",
     "text": [
      "\r",
      " 11%|█         | 54/500 [00:45<06:25,  1.16it/s]"
     ]
    },
    {
     "name": "stdout",
     "output_type": "stream",
     "text": [
      "total discriminator loss:0.41619193582221453\n",
      "average true return:0.5186346656098684\n",
      "-----------------------\n",
      "Training Step: 54\n",
      "generator loss:1.0553089753278764\n",
      "-----------------------\n"
     ]
    },
    {
     "name": "stderr",
     "output_type": "stream",
     "text": [
      "\r",
      " 11%|█         | 55/500 [00:46<06:18,  1.18it/s]"
     ]
    },
    {
     "name": "stdout",
     "output_type": "stream",
     "text": [
      "total discriminator loss:0.4128630081097789\n",
      "average true return:0.5041597734753065\n",
      "-----------------------\n",
      "Training Step: 55\n",
      "generator loss:1.0539755612441304\n",
      "-----------------------\n"
     ]
    },
    {
     "name": "stderr",
     "output_type": "stream",
     "text": [
      "\r",
      " 11%|█         | 56/500 [00:47<06:14,  1.18it/s]"
     ]
    },
    {
     "name": "stdout",
     "output_type": "stream",
     "text": [
      "total discriminator loss:0.40821264307121485\n",
      "average true return:0.4953529215145787\n",
      "-----------------------\n",
      "Training Step: 56\n",
      "generator loss:1.0519545487178403\n",
      "-----------------------\n"
     ]
    },
    {
     "name": "stderr",
     "output_type": "stream",
     "text": [
      "\r",
      " 11%|█▏        | 57/500 [00:48<06:10,  1.20it/s]"
     ]
    },
    {
     "name": "stdout",
     "output_type": "stream",
     "text": [
      "total discriminator loss:0.39642142172037376\n",
      "average true return:0.4896953210121131\n",
      "-----------------------\n",
      "Training Step: 57\n",
      "generator loss:1.034127237913334\n",
      "-----------------------\n"
     ]
    },
    {
     "name": "stderr",
     "output_type": "stream",
     "text": [
      "\r",
      " 12%|█▏        | 58/500 [00:49<06:07,  1.20it/s]"
     ]
    },
    {
     "name": "stdout",
     "output_type": "stream",
     "text": [
      "total discriminator loss:0.43079072321723144\n",
      "average true return:0.48308536399185614\n",
      "-----------------------\n",
      "Training Step: 58\n",
      "generator loss:1.018012574681057\n",
      "-----------------------\n"
     ]
    },
    {
     "name": "stderr",
     "output_type": "stream",
     "text": [
      "\r",
      " 12%|█▏        | 59/500 [00:50<06:06,  1.20it/s]"
     ]
    },
    {
     "name": "stdout",
     "output_type": "stream",
     "text": [
      "total discriminator loss:0.4126323340777494\n",
      "average true return:0.48540871122012774\n",
      "-----------------------\n",
      "Training Step: 59\n",
      "generator loss:0.9868702433490888\n",
      "-----------------------\n"
     ]
    },
    {
     "name": "stderr",
     "output_type": "stream",
     "text": [
      "\r",
      " 12%|█▏        | 60/500 [00:50<06:04,  1.21it/s]"
     ]
    },
    {
     "name": "stdout",
     "output_type": "stream",
     "text": [
      "total discriminator loss:0.412373994278336\n",
      "average true return:0.4900428529583768\n",
      "-----------------------\n",
      "Training Step: 60\n",
      "generator loss:0.9607366553112759\n",
      "-----------------------\n"
     ]
    },
    {
     "name": "stderr",
     "output_type": "stream",
     "text": [
      "\r",
      " 12%|█▏        | 61/500 [00:51<06:02,  1.21it/s]"
     ]
    },
    {
     "name": "stdout",
     "output_type": "stream",
     "text": [
      "total discriminator loss:0.40700755016796714\n",
      "average true return:0.5002285218931696\n",
      "-----------------------\n",
      "Training Step: 61\n",
      "generator loss:0.9212755779952772\n",
      "-----------------------\n"
     ]
    },
    {
     "name": "stderr",
     "output_type": "stream",
     "text": [
      "\r",
      " 12%|█▏        | 62/500 [00:52<06:00,  1.21it/s]"
     ]
    },
    {
     "name": "stdout",
     "output_type": "stream",
     "text": [
      "total discriminator loss:0.4154478715661416\n",
      "average true return:0.5099959476696646\n",
      "-----------------------\n",
      "Training Step: 62\n",
      "generator loss:0.8852992104239886\n",
      "-----------------------\n"
     ]
    },
    {
     "name": "stderr",
     "output_type": "stream",
     "text": [
      "\r",
      " 13%|█▎        | 63/500 [00:53<05:59,  1.21it/s]"
     ]
    },
    {
     "name": "stdout",
     "output_type": "stream",
     "text": [
      "total discriminator loss:0.39029030478953214\n",
      "average true return:0.5183685484114522\n",
      "-----------------------\n",
      "Training Step: 63\n",
      "generator loss:0.8611412870939444\n",
      "-----------------------\n"
     ]
    },
    {
     "name": "stderr",
     "output_type": "stream",
     "text": [
      "\r",
      " 13%|█▎        | 64/500 [00:54<05:59,  1.21it/s]"
     ]
    },
    {
     "name": "stdout",
     "output_type": "stream",
     "text": [
      "total discriminator loss:0.3877635895692556\n",
      "average true return:0.5280001542603424\n",
      "-----------------------\n",
      "Training Step: 64\n",
      "generator loss:0.8506609748188432\n",
      "-----------------------\n"
     ]
    },
    {
     "name": "stderr",
     "output_type": "stream",
     "text": [
      "\r",
      " 13%|█▎        | 65/500 [00:54<05:58,  1.21it/s]"
     ]
    },
    {
     "name": "stdout",
     "output_type": "stream",
     "text": [
      "total discriminator loss:0.38751065922888983\n",
      "average true return:0.5206378825901673\n",
      "-----------------------\n",
      "Training Step: 65\n",
      "generator loss:0.8736402737698021\n",
      "-----------------------\n"
     ]
    },
    {
     "name": "stderr",
     "output_type": "stream",
     "text": [
      "\r",
      " 13%|█▎        | 66/500 [00:55<05:57,  1.22it/s]"
     ]
    },
    {
     "name": "stdout",
     "output_type": "stream",
     "text": [
      "total discriminator loss:0.400618416303654\n",
      "average true return:0.5120770776616007\n",
      "-----------------------\n",
      "Training Step: 66\n",
      "generator loss:0.8921742262336523\n",
      "-----------------------\n"
     ]
    },
    {
     "name": "stderr",
     "output_type": "stream",
     "text": [
      "\r",
      " 13%|█▎        | 67/500 [00:56<05:57,  1.21it/s]"
     ]
    },
    {
     "name": "stdout",
     "output_type": "stream",
     "text": [
      "total discriminator loss:0.3985782485671595\n",
      "average true return:0.49965658042667943\n",
      "-----------------------\n",
      "Training Step: 67\n",
      "generator loss:0.924391918659759\n",
      "-----------------------\n"
     ]
    },
    {
     "name": "stderr",
     "output_type": "stream",
     "text": [
      "\r",
      " 14%|█▎        | 68/500 [00:57<05:56,  1.21it/s]"
     ]
    },
    {
     "name": "stdout",
     "output_type": "stream",
     "text": [
      "total discriminator loss:0.38136265419455073\n",
      "average true return:0.4874111458584499\n",
      "-----------------------\n",
      "Training Step: 68\n",
      "generator loss:0.9685070377577691\n",
      "-----------------------\n"
     ]
    },
    {
     "name": "stderr",
     "output_type": "stream",
     "text": [
      "\r",
      " 14%|█▍        | 69/500 [00:58<05:55,  1.21it/s]"
     ]
    },
    {
     "name": "stdout",
     "output_type": "stream",
     "text": [
      "total discriminator loss:0.38889259858034764\n",
      "average true return:0.4665966339795798\n",
      "-----------------------\n",
      "Training Step: 69\n",
      "generator loss:1.0094258929108608\n",
      "-----------------------\n"
     ]
    },
    {
     "name": "stderr",
     "output_type": "stream",
     "text": [
      "\r",
      " 14%|█▍        | 70/500 [00:59<05:54,  1.21it/s]"
     ]
    },
    {
     "name": "stdout",
     "output_type": "stream",
     "text": [
      "total discriminator loss:0.3792041278461039\n",
      "average true return:0.45502683369361163\n",
      "-----------------------\n",
      "Training Step: 70\n",
      "generator loss:1.0375808597805394\n",
      "-----------------------\n"
     ]
    },
    {
     "name": "stderr",
     "output_type": "stream",
     "text": [
      "\r",
      " 14%|█▍        | 71/500 [00:59<05:54,  1.21it/s]"
     ]
    },
    {
     "name": "stdout",
     "output_type": "stream",
     "text": [
      "total discriminator loss:0.39007201609988046\n",
      "average true return:0.45078452562515414\n",
      "-----------------------\n",
      "Training Step: 71\n",
      "generator loss:1.0326691244548791\n",
      "-----------------------\n"
     ]
    },
    {
     "name": "stderr",
     "output_type": "stream",
     "text": [
      "\r",
      " 14%|█▍        | 72/500 [01:00<05:54,  1.21it/s]"
     ]
    },
    {
     "name": "stdout",
     "output_type": "stream",
     "text": [
      "total discriminator loss:0.37781794036698385\n",
      "average true return:0.4542064794664395\n",
      "-----------------------\n",
      "Training Step: 72\n",
      "generator loss:1.0352358219064302\n",
      "-----------------------\n"
     ]
    },
    {
     "name": "stderr",
     "output_type": "stream",
     "text": [
      "\r",
      " 15%|█▍        | 73/500 [01:01<05:53,  1.21it/s]"
     ]
    },
    {
     "name": "stdout",
     "output_type": "stream",
     "text": [
      "total discriminator loss:0.3695522265713363\n",
      "average true return:0.4557905574101794\n",
      "-----------------------\n",
      "Training Step: 73\n",
      "generator loss:1.0448861635351767\n",
      "-----------------------\n"
     ]
    },
    {
     "name": "stderr",
     "output_type": "stream",
     "text": [
      "\r",
      " 15%|█▍        | 74/500 [01:02<05:51,  1.21it/s]"
     ]
    },
    {
     "name": "stdout",
     "output_type": "stream",
     "text": [
      "total discriminator loss:0.36183447664816776\n",
      "average true return:0.45772352406912253\n",
      "-----------------------\n",
      "Training Step: 74\n",
      "generator loss:1.0596017366157828\n",
      "-----------------------\n"
     ]
    },
    {
     "name": "stderr",
     "output_type": "stream",
     "text": [
      "\r",
      " 15%|█▌        | 75/500 [01:03<05:51,  1.21it/s]"
     ]
    },
    {
     "name": "stdout",
     "output_type": "stream",
     "text": [
      "total discriminator loss:0.3593642284194636\n",
      "average true return:0.4581517102371379\n",
      "-----------------------\n",
      "Training Step: 75\n",
      "generator loss:1.0624051739645766\n",
      "-----------------------\n",
      "total discriminator loss:0.3495948199983252\n",
      "average true return:0.4656704781882408\n",
      "-----------------------\n",
      "tf.Tensor([[2 2 1 1 1 2 3 2 1 3 1 3 3 0 1 1 2 3 1 2]], shape=(1, 20), dtype=int64)\n"
     ]
    },
    {
     "data": {
      "image/png": "[encoded data removed]",
      "text/plain": [
       "<Figure size 432x288 with 1 Axes>"
      ]
     },
     "metadata": {
      "needs_background": "light"
     },
     "output_type": "display_data"
    },
    {
     "name": "stderr",
     "output_type": "stream",
     "text": [
      "\r",
      " 15%|█▌        | 76/500 [01:04<06:29,  1.09it/s]"
     ]
    },
    {
     "name": "stdout",
     "output_type": "stream",
     "text": [
      "Training Step: 76\n",
      "generator loss:1.0498822167476414\n",
      "-----------------------\n"
     ]
    },
    {
     "name": "stderr",
     "output_type": "stream",
     "text": [
      "\r",
      " 15%|█▌        | 77/500 [01:05<06:18,  1.12it/s]"
     ]
    },
    {
     "name": "stdout",
     "output_type": "stream",
     "text": [
      "total discriminator loss:0.3429654156300596\n",
      "average true return:0.4729762424020265\n",
      "-----------------------\n",
      "Training Step: 77\n",
      "generator loss:1.0119107200689772\n",
      "-----------------------\n"
     ]
    },
    {
     "name": "stderr",
     "output_type": "stream",
     "text": [
      "\r",
      " 16%|█▌        | 78/500 [01:06<06:08,  1.15it/s]"
     ]
    },
    {
     "name": "stdout",
     "output_type": "stream",
     "text": [
      "total discriminator loss:0.35210122975739566\n",
      "average true return:0.4951508929567272\n",
      "-----------------------\n",
      "Training Step: 78\n",
      "generator loss:0.8813337635972893\n",
      "-----------------------\n"
     ]
    },
    {
     "name": "stderr",
     "output_type": "stream",
     "text": [
      "\r",
      " 16%|█▌        | 79/500 [01:06<06:15,  1.12it/s]"
     ]
    },
    {
     "name": "stdout",
     "output_type": "stream",
     "text": [
      "total discriminator loss:0.38955466094787167\n",
      "average true return:0.5356875933293344\n",
      "-----------------------\n",
      "Training Step: 79\n",
      "generator loss:0.7249043841668148\n",
      "-----------------------\n"
     ]
    },
    {
     "name": "stderr",
     "output_type": "stream",
     "text": [
      "\r",
      " 16%|█▌        | 80/500 [01:07<06:05,  1.15it/s]"
     ]
    },
    {
     "name": "stdout",
     "output_type": "stream",
     "text": [
      "total discriminator loss:1.2989306445200368\n",
      "average true return:0.57886368893898\n",
      "-----------------------\n",
      "Training Step: 80\n",
      "generator loss:0.5687602041382036\n",
      "-----------------------\n"
     ]
    },
    {
     "name": "stderr",
     "output_type": "stream",
     "text": [
      "\r",
      " 16%|█▌        | 81/500 [01:08<05:59,  1.16it/s]"
     ]
    },
    {
     "name": "stdout",
     "output_type": "stream",
     "text": [
      "total discriminator loss:0.46603256124980985\n",
      "average true return:0.622134650061944\n",
      "-----------------------\n",
      "Training Step: 81\n",
      "generator loss:0.5156533714658748\n",
      "-----------------------\n"
     ]
    },
    {
     "name": "stderr",
     "output_type": "stream",
     "text": [
      "\r",
      " 16%|█▋        | 82/500 [01:09<05:54,  1.18it/s]"
     ]
    },
    {
     "name": "stdout",
     "output_type": "stream",
     "text": [
      "total discriminator loss:0.5068830506215842\n",
      "average true return:0.6364742126597683\n",
      "-----------------------\n",
      "Training Step: 82\n",
      "generator loss:0.526244519396415\n",
      "-----------------------\n"
     ]
    },
    {
     "name": "stderr",
     "output_type": "stream",
     "text": [
      "\r",
      " 17%|█▋        | 83/500 [01:10<05:50,  1.19it/s]"
     ]
    },
    {
     "name": "stdout",
     "output_type": "stream",
     "text": [
      "total discriminator loss:0.46700220136741993\n",
      "average true return:0.6190369983381802\n",
      "-----------------------\n",
      "Training Step: 83\n",
      "generator loss:0.6301264513492972\n",
      "-----------------------\n"
     ]
    },
    {
     "name": "stderr",
     "output_type": "stream",
     "text": [
      "\r",
      " 17%|█▋        | 84/500 [01:11<05:46,  1.20it/s]"
     ]
    },
    {
     "name": "stdout",
     "output_type": "stream",
     "text": [
      "total discriminator loss:0.45023234811117535\n",
      "average true return:0.5810022901053149\n",
      "-----------------------\n",
      "Training Step: 84\n",
      "generator loss:0.7220219853769014\n",
      "-----------------------\n"
     ]
    },
    {
     "name": "stderr",
     "output_type": "stream",
     "text": [
      "\r",
      " 17%|█▋        | 85/500 [01:11<05:44,  1.20it/s]"
     ]
    },
    {
     "name": "stdout",
     "output_type": "stream",
     "text": [
      "total discriminator loss:0.39016046170077134\n",
      "average true return:0.5528622936616991\n",
      "-----------------------\n",
      "Training Step: 85\n",
      "generator loss:0.8061525077220972\n",
      "-----------------------\n"
     ]
    },
    {
     "name": "stderr",
     "output_type": "stream",
     "text": [
      "\r",
      " 17%|█▋        | 86/500 [01:12<05:42,  1.21it/s]"
     ]
    },
    {
     "name": "stdout",
     "output_type": "stream",
     "text": [
      "total discriminator loss:0.37517406003379583\n",
      "average true return:0.5326721505819856\n",
      "-----------------------\n",
      "Training Step: 86\n",
      "generator loss:0.8739680838110848\n",
      "-----------------------\n"
     ]
    },
    {
     "name": "stderr",
     "output_type": "stream",
     "text": [
      "\r",
      " 17%|█▋        | 87/500 [01:13<05:41,  1.21it/s]"
     ]
    },
    {
     "name": "stdout",
     "output_type": "stream",
     "text": [
      "total discriminator loss:0.3748747389788669\n",
      "average true return:0.5190267438217293\n",
      "-----------------------\n",
      "Training Step: 87\n",
      "generator loss:0.925531491337551\n",
      "-----------------------\n"
     ]
    },
    {
     "name": "stderr",
     "output_type": "stream",
     "text": [
      "\r",
      " 18%|█▊        | 88/500 [01:14<05:39,  1.21it/s]"
     ]
    },
    {
     "name": "stdout",
     "output_type": "stream",
     "text": [
      "total discriminator loss:0.36689791619481055\n",
      "average true return:0.5103544073578332\n",
      "-----------------------\n",
      "Training Step: 88\n",
      "generator loss:0.9667148836100439\n",
      "-----------------------\n"
     ]
    },
    {
     "name": "stderr",
     "output_type": "stream",
     "text": [
      "\r",
      " 18%|█▊        | 89/500 [01:15<05:39,  1.21it/s]"
     ]
    },
    {
     "name": "stdout",
     "output_type": "stream",
     "text": [
      "total discriminator loss:0.36294866452077545\n",
      "average true return:0.5013783523494619\n",
      "-----------------------\n",
      "Training Step: 89\n",
      "generator loss:1.0082470426376937\n",
      "-----------------------\n"
     ]
    },
    {
     "name": "stderr",
     "output_type": "stream",
     "text": [
      "\r",
      " 18%|█▊        | 90/500 [01:16<05:38,  1.21it/s]"
     ]
    },
    {
     "name": "stdout",
     "output_type": "stream",
     "text": [
      "total discriminator loss:0.34968612073495453\n",
      "average true return:0.49944661259512174\n",
      "-----------------------\n",
      "Training Step: 90\n",
      "generator loss:1.0399829416105029\n",
      "-----------------------\n"
     ]
    },
    {
     "name": "stderr",
     "output_type": "stream",
     "text": [
      "\r",
      " 18%|█▊        | 91/500 [01:16<05:36,  1.22it/s]"
     ]
    },
    {
     "name": "stdout",
     "output_type": "stream",
     "text": [
      "total discriminator loss:0.35322074444257195\n",
      "average true return:0.49644680016193643\n",
      "-----------------------\n",
      "Training Step: 91\n",
      "generator loss:1.0661345636227244\n",
      "-----------------------\n"
     ]
    },
    {
     "name": "stderr",
     "output_type": "stream",
     "text": [
      "\r",
      " 18%|█▊        | 92/500 [01:17<05:36,  1.21it/s]"
     ]
    },
    {
     "name": "stdout",
     "output_type": "stream",
     "text": [
      "total discriminator loss:0.3459396572663487\n",
      "average true return:0.49570783060345525\n",
      "-----------------------\n",
      "Training Step: 92\n",
      "generator loss:1.0748164346389375\n",
      "-----------------------\n"
     ]
    },
    {
     "name": "stderr",
     "output_type": "stream",
     "text": [
      "\r",
      " 19%|█▊        | 93/500 [01:18<05:45,  1.18it/s]"
     ]
    },
    {
     "name": "stdout",
     "output_type": "stream",
     "text": [
      "total discriminator loss:0.3554013231471508\n",
      "average true return:0.4972462414447379\n",
      "-----------------------\n",
      "Training Step: 93\n",
      "generator loss:1.0877662139020288\n",
      "-----------------------\n"
     ]
    },
    {
     "name": "stderr",
     "output_type": "stream",
     "text": [
      "\r",
      " 19%|█▉        | 94/500 [01:19<05:42,  1.19it/s]"
     ]
    },
    {
     "name": "stdout",
     "output_type": "stream",
     "text": [
      "total discriminator loss:0.35114113683507703\n",
      "average true return:0.5014646162419562\n",
      "-----------------------\n",
      "Training Step: 94\n",
      "generator loss:1.0739905268676733\n",
      "-----------------------\n"
     ]
    },
    {
     "name": "stderr",
     "output_type": "stream",
     "text": [
      "\r",
      " 19%|█▉        | 95/500 [01:20<05:40,  1.19it/s]"
     ]
    },
    {
     "name": "stdout",
     "output_type": "stream",
     "text": [
      "total discriminator loss:0.3680969688910413\n",
      "average true return:0.50365938146847\n",
      "-----------------------\n",
      "Training Step: 95\n",
      "generator loss:1.0605128535813986\n",
      "-----------------------\n"
     ]
    },
    {
     "name": "stderr",
     "output_type": "stream",
     "text": [
      "\r",
      " 19%|█▉        | 96/500 [01:21<05:37,  1.20it/s]"
     ]
    },
    {
     "name": "stdout",
     "output_type": "stream",
     "text": [
      "total discriminator loss:0.3559613269868168\n",
      "average true return:0.5115527872946317\n",
      "-----------------------\n",
      "Training Step: 96\n",
      "generator loss:1.0315656444799042\n",
      "-----------------------\n"
     ]
    },
    {
     "name": "stderr",
     "output_type": "stream",
     "text": [
      "\r",
      " 19%|█▉        | 97/500 [01:21<05:34,  1.21it/s]"
     ]
    },
    {
     "name": "stdout",
     "output_type": "stream",
     "text": [
      "total discriminator loss:0.35305273856080904\n",
      "average true return:0.5177548632450786\n",
      "-----------------------\n",
      "Training Step: 97\n",
      "generator loss:1.0200839239540973\n",
      "-----------------------\n"
     ]
    },
    {
     "name": "stderr",
     "output_type": "stream",
     "text": [
      "\r",
      " 20%|█▉        | 98/500 [01:22<05:32,  1.21it/s]"
     ]
    },
    {
     "name": "stdout",
     "output_type": "stream",
     "text": [
      "total discriminator loss:0.32228914339627057\n",
      "average true return:0.5181448845403075\n",
      "-----------------------\n",
      "Training Step: 98\n",
      "generator loss:1.0425166340903114\n",
      "-----------------------\n"
     ]
    },
    {
     "name": "stderr",
     "output_type": "stream",
     "text": [
      "\r",
      " 20%|█▉        | 99/500 [01:23<05:30,  1.21it/s]"
     ]
    },
    {
     "name": "stdout",
     "output_type": "stream",
     "text": [
      "total discriminator loss:1.6548528342672855\n",
      "average true return:0.515195766645385\n",
      "-----------------------\n",
      "Training Step: 99\n",
      "generator loss:1.041619124164755\n",
      "-----------------------\n"
     ]
    },
    {
     "name": "stderr",
     "output_type": "stream",
     "text": [
      "\r",
      " 20%|██        | 100/500 [01:24<05:30,  1.21it/s]"
     ]
    },
    {
     "name": "stdout",
     "output_type": "stream",
     "text": [
      "total discriminator loss:0.33813190754689976\n",
      "average true return:0.5150237170907926\n",
      "-----------------------\n",
      "Training Step: 100\n",
      "generator loss:1.044891133167658\n",
      "-----------------------\n",
      "total discriminator loss:0.32825636070083497\n",
      "average true return:0.513481498325189\n",
      "-----------------------\n",
      "tf.Tensor([[2 0 1 0 1 3 0 0 0 0 0 0 0 0 0 0 0 0 0 0]], shape=(1, 20), dtype=int64)\n"
     ]
    },
    {
     "data": {
      "image/png": "[encoded data removed]",
      "text/plain": [
       "<Figure size 432x288 with 1 Axes>"
      ]
     },
     "metadata": {
      "needs_background": "light"
     },
     "output_type": "display_data"
    },
    {
     "name": "stderr",
     "output_type": "stream",
     "text": [
      "\r",
      " 20%|██        | 101/500 [01:25<06:07,  1.09it/s]"
     ]
    },
    {
     "name": "stdout",
     "output_type": "stream",
     "text": [
      "Training Step: 101\n",
      "generator loss:1.0517691732497385\n",
      "-----------------------\n"
     ]
    },
    {
     "name": "stderr",
     "output_type": "stream",
     "text": [
      "\r",
      " 20%|██        | 102/500 [01:26<05:58,  1.11it/s]"
     ]
    },
    {
     "name": "stdout",
     "output_type": "stream",
     "text": [
      "total discriminator loss:1.6177562937089305\n",
      "average true return:0.5129597819031619\n",
      "-----------------------\n",
      "Training Step: 102\n",
      "generator loss:1.0353694585793523\n",
      "-----------------------\n"
     ]
    },
    {
     "name": "stderr",
     "output_type": "stream",
     "text": [
      "\r",
      " 21%|██        | 103/500 [01:27<05:49,  1.14it/s]"
     ]
    },
    {
     "name": "stdout",
     "output_type": "stream",
     "text": [
      "total discriminator loss:0.35223990350798606\n",
      "average true return:0.5136202512545052\n",
      "-----------------------\n",
      "Training Step: 103\n",
      "generator loss:1.0263297414509363\n",
      "-----------------------\n"
     ]
    },
    {
     "name": "stderr",
     "output_type": "stream",
     "text": [
      "\r",
      " 21%|██        | 104/500 [01:28<05:41,  1.16it/s]"
     ]
    },
    {
     "name": "stdout",
     "output_type": "stream",
     "text": [
      "total discriminator loss:0.3489590472007166\n",
      "average true return:0.5135157700994963\n",
      "-----------------------\n",
      "Training Step: 104\n",
      "generator loss:1.022173387018631\n",
      "-----------------------\n"
     ]
    },
    {
     "name": "stderr",
     "output_type": "stream",
     "text": [
      "\r",
      " 21%|██        | 105/500 [01:28<05:36,  1.17it/s]"
     ]
    },
    {
     "name": "stdout",
     "output_type": "stream",
     "text": [
      "total discriminator loss:0.37196033009764184\n",
      "average true return:0.5139888596635158\n",
      "-----------------------\n",
      "Training Step: 105\n",
      "generator loss:1.0268227057427841\n",
      "-----------------------\n"
     ]
    },
    {
     "name": "stderr",
     "output_type": "stream",
     "text": [
      "\r",
      " 21%|██        | 106/500 [01:29<05:32,  1.19it/s]"
     ]
    },
    {
     "name": "stdout",
     "output_type": "stream",
     "text": [
      "total discriminator loss:0.37810988747431146\n",
      "average true return:0.5120934706276457\n",
      "-----------------------\n",
      "Training Step: 106\n",
      "generator loss:1.0314239160113439\n",
      "-----------------------\n"
     ]
    },
    {
     "name": "stderr",
     "output_type": "stream",
     "text": [
      "\r",
      " 21%|██▏       | 107/500 [01:30<05:29,  1.19it/s]"
     ]
    },
    {
     "name": "stdout",
     "output_type": "stream",
     "text": [
      "total discriminator loss:0.35956993393270015\n",
      "average true return:0.5101520222632729\n",
      "-----------------------\n",
      "Training Step: 107\n",
      "generator loss:1.0442172985113014\n",
      "-----------------------\n"
     ]
    },
    {
     "name": "stderr",
     "output_type": "stream",
     "text": [
      "\r",
      " 22%|██▏       | 108/500 [01:31<05:26,  1.20it/s]"
     ]
    },
    {
     "name": "stdout",
     "output_type": "stream",
     "text": [
      "total discriminator loss:0.3720854793373274\n",
      "average true return:0.5024328820045758\n",
      "-----------------------\n",
      "Training Step: 108\n",
      "generator loss:1.0679559641767717\n",
      "-----------------------\n"
     ]
    },
    {
     "name": "stderr",
     "output_type": "stream",
     "text": [
      "\r",
      " 22%|██▏       | 109/500 [01:32<05:23,  1.21it/s]"
     ]
    },
    {
     "name": "stdout",
     "output_type": "stream",
     "text": [
      "total discriminator loss:0.37003256339727164\n",
      "average true return:0.49823826819110045\n",
      "-----------------------\n",
      "Training Step: 109\n",
      "generator loss:1.0865143646467055\n",
      "-----------------------\n"
     ]
    },
    {
     "name": "stderr",
     "output_type": "stream",
     "text": [
      "\r",
      " 22%|██▏       | 110/500 [01:32<05:22,  1.21it/s]"
     ]
    },
    {
     "name": "stdout",
     "output_type": "stream",
     "text": [
      "total discriminator loss:0.3898130266887063\n",
      "average true return:0.49608183329156824\n",
      "-----------------------\n",
      "Training Step: 110\n",
      "generator loss:1.0980283131863975\n",
      "-----------------------\n"
     ]
    },
    {
     "name": "stderr",
     "output_type": "stream",
     "text": [
      "\r",
      " 22%|██▏       | 111/500 [01:33<05:21,  1.21it/s]"
     ]
    },
    {
     "name": "stdout",
     "output_type": "stream",
     "text": [
      "total discriminator loss:0.38908388134078464\n",
      "average true return:0.49478752506802337\n",
      "-----------------------\n",
      "Training Step: 111\n",
      "generator loss:1.1139715723763692\n",
      "-----------------------\n"
     ]
    },
    {
     "name": "stderr",
     "output_type": "stream",
     "text": [
      "\r",
      " 22%|██▏       | 112/500 [01:34<05:20,  1.21it/s]"
     ]
    },
    {
     "name": "stdout",
     "output_type": "stream",
     "text": [
      "total discriminator loss:0.3839701936224046\n",
      "average true return:0.4914324817733411\n",
      "-----------------------\n",
      "Training Step: 112\n",
      "generator loss:1.1372468139730985\n",
      "-----------------------\n"
     ]
    },
    {
     "name": "stderr",
     "output_type": "stream",
     "text": [
      "\r",
      " 23%|██▎       | 113/500 [01:35<05:19,  1.21it/s]"
     ]
    },
    {
     "name": "stdout",
     "output_type": "stream",
     "text": [
      "total discriminator loss:0.3697460926745358\n",
      "average true return:0.4901992094536074\n",
      "-----------------------\n",
      "Training Step: 113\n",
      "generator loss:1.1567315584586986\n",
      "-----------------------\n"
     ]
    },
    {
     "name": "stderr",
     "output_type": "stream",
     "text": [
      "\r",
      " 23%|██▎       | 114/500 [01:36<05:17,  1.21it/s]"
     ]
    },
    {
     "name": "stdout",
     "output_type": "stream",
     "text": [
      "total discriminator loss:0.37271997801032186\n",
      "average true return:0.48863830277100473\n",
      "-----------------------\n",
      "Training Step: 114\n",
      "generator loss:1.1787530852537695\n",
      "-----------------------\n"
     ]
    },
    {
     "name": "stderr",
     "output_type": "stream",
     "text": [
      "\r",
      " 23%|██▎       | 115/500 [01:37<05:18,  1.21it/s]"
     ]
    },
    {
     "name": "stdout",
     "output_type": "stream",
     "text": [
      "total discriminator loss:0.37590269183895453\n",
      "average true return:0.48746889367815976\n",
      "-----------------------\n",
      "Training Step: 115\n",
      "generator loss:1.2000498807623323\n",
      "-----------------------\n"
     ]
    },
    {
     "name": "stderr",
     "output_type": "stream",
     "text": [
      "\r",
      " 23%|██▎       | 116/500 [01:37<05:18,  1.21it/s]"
     ]
    },
    {
     "name": "stdout",
     "output_type": "stream",
     "text": [
      "total discriminator loss:0.35737909746287766\n",
      "average true return:0.48649863123710047\n",
      "-----------------------\n",
      "Training Step: 116\n",
      "generator loss:1.2218616969357534\n",
      "-----------------------\n"
     ]
    },
    {
     "name": "stderr",
     "output_type": "stream",
     "text": [
      "\r",
      " 23%|██▎       | 117/500 [01:38<05:16,  1.21it/s]"
     ]
    },
    {
     "name": "stdout",
     "output_type": "stream",
     "text": [
      "total discriminator loss:0.37324573693952173\n",
      "average true return:0.4855102617303329\n",
      "-----------------------\n",
      "Training Step: 117\n",
      "generator loss:1.2433825639973413\n",
      "-----------------------\n"
     ]
    },
    {
     "name": "stderr",
     "output_type": "stream",
     "text": [
      "\r",
      " 24%|██▎       | 118/500 [01:39<05:15,  1.21it/s]"
     ]
    },
    {
     "name": "stdout",
     "output_type": "stream",
     "text": [
      "total discriminator loss:1.720527313239003\n",
      "average true return:0.4850536636197219\n",
      "-----------------------\n",
      "Training Step: 118\n",
      "generator loss:1.2361547284057184\n",
      "-----------------------\n"
     ]
    },
    {
     "name": "stderr",
     "output_type": "stream",
     "text": [
      "\r",
      " 24%|██▍       | 119/500 [01:40<05:14,  1.21it/s]"
     ]
    },
    {
     "name": "stdout",
     "output_type": "stream",
     "text": [
      "total discriminator loss:0.3528978798444401\n",
      "average true return:0.4849607676207278\n",
      "-----------------------\n",
      "Training Step: 119\n",
      "generator loss:1.2322842086731562\n",
      "-----------------------\n"
     ]
    },
    {
     "name": "stderr",
     "output_type": "stream",
     "text": [
      "\r",
      " 24%|██▍       | 120/500 [01:41<05:13,  1.21it/s]"
     ]
    },
    {
     "name": "stdout",
     "output_type": "stream",
     "text": [
      "total discriminator loss:0.3577375816358501\n",
      "average true return:0.48478156495746005\n",
      "-----------------------\n",
      "Training Step: 120\n",
      "generator loss:1.2300184301959167\n",
      "-----------------------\n"
     ]
    },
    {
     "name": "stderr",
     "output_type": "stream",
     "text": [
      "\r",
      " 24%|██▍       | 121/500 [01:42<05:11,  1.22it/s]"
     ]
    },
    {
     "name": "stdout",
     "output_type": "stream",
     "text": [
      "total discriminator loss:0.3528754745174634\n",
      "average true return:0.4852793538202531\n",
      "-----------------------\n",
      "Training Step: 121\n",
      "generator loss:1.2293159624824561\n",
      "-----------------------\n"
     ]
    },
    {
     "name": "stderr",
     "output_type": "stream",
     "text": [
      "\r",
      " 24%|██▍       | 122/500 [01:42<05:21,  1.17it/s]"
     ]
    },
    {
     "name": "stdout",
     "output_type": "stream",
     "text": [
      "total discriminator loss:0.36178406874077673\n",
      "average true return:0.48584700310765194\n",
      "-----------------------\n",
      "Training Step: 122\n",
      "generator loss:1.2302076890746996\n",
      "-----------------------\n"
     ]
    },
    {
     "name": "stderr",
     "output_type": "stream",
     "text": [
      "\r",
      " 25%|██▍       | 123/500 [01:43<05:17,  1.19it/s]"
     ]
    },
    {
     "name": "stdout",
     "output_type": "stream",
     "text": [
      "total discriminator loss:0.3588174783438729\n",
      "average true return:0.48619023494050717\n",
      "-----------------------\n",
      "Training Step: 123\n",
      "generator loss:1.2318939336532244\n",
      "-----------------------\n"
     ]
    },
    {
     "name": "stderr",
     "output_type": "stream",
     "text": [
      "\r",
      " 25%|██▍       | 124/500 [01:44<05:15,  1.19it/s]"
     ]
    },
    {
     "name": "stdout",
     "output_type": "stream",
     "text": [
      "total discriminator loss:0.3628021124556231\n",
      "average true return:0.48638068753929853\n",
      "-----------------------\n",
      "Training Step: 124\n",
      "generator loss:1.2347442178225267\n",
      "-----------------------\n"
     ]
    },
    {
     "name": "stderr",
     "output_type": "stream",
     "text": [
      "\r",
      " 25%|██▌       | 125/500 [01:45<05:13,  1.20it/s]"
     ]
    },
    {
     "name": "stdout",
     "output_type": "stream",
     "text": [
      "total discriminator loss:0.35606742814269043\n",
      "average true return:0.4868851907484446\n",
      "-----------------------\n",
      "Training Step: 125\n",
      "generator loss:1.2382772274947862\n",
      "-----------------------\n",
      "total discriminator loss:0.35997532820727846\n",
      "average true return:0.4876329253035899\n",
      "-----------------------\n",
      "tf.Tensor([[2 2 2 0 0 0 0 0 0 0 0 0 0 0 0 0 0 0 0 0]], shape=(1, 20), dtype=int64)\n"
     ]
    },
    {
     "data": {
      "image/png": "[encoded data removed]",
      "text/plain": [
       "<Figure size 432x288 with 1 Axes>"
      ]
     },
     "metadata": {
      "needs_background": "light"
     },
     "output_type": "display_data"
    },
    {
     "name": "stderr",
     "output_type": "stream",
     "text": [
      "\r",
      " 25%|██▌       | 126/500 [01:46<05:46,  1.08it/s]"
     ]
    },
    {
     "name": "stdout",
     "output_type": "stream",
     "text": [
      "Training Step: 126\n",
      "generator loss:1.243006438541687\n",
      "-----------------------\n"
     ]
    },
    {
     "name": "stderr",
     "output_type": "stream",
     "text": [
      "\r",
      " 25%|██▌       | 127/500 [01:47<05:35,  1.11it/s]"
     ]
    },
    {
     "name": "stdout",
     "output_type": "stream",
     "text": [
      "total discriminator loss:0.34906182735668384\n",
      "average true return:0.48805624971804623\n",
      "-----------------------\n",
      "Training Step: 127\n",
      "generator loss:1.2483786311245408\n",
      "-----------------------\n"
     ]
    },
    {
     "name": "stderr",
     "output_type": "stream",
     "text": [
      "\r",
      " 26%|██▌       | 128/500 [01:48<05:26,  1.14it/s]"
     ]
    },
    {
     "name": "stdout",
     "output_type": "stream",
     "text": [
      "total discriminator loss:0.3483703607248566\n",
      "average true return:0.4886497497687861\n",
      "-----------------------\n",
      "Training Step: 128\n",
      "generator loss:1.2538007530617497\n",
      "-----------------------\n"
     ]
    },
    {
     "name": "stderr",
     "output_type": "stream",
     "text": [
      "\r",
      " 26%|██▌       | 129/500 [01:49<05:19,  1.16it/s]"
     ]
    },
    {
     "name": "stdout",
     "output_type": "stream",
     "text": [
      "total discriminator loss:0.34766171597026485\n",
      "average true return:0.4892519759890307\n",
      "-----------------------\n",
      "Training Step: 129\n",
      "generator loss:1.2593685717320482\n",
      "-----------------------\n"
     ]
    },
    {
     "name": "stderr",
     "output_type": "stream",
     "text": [
      "\r",
      " 26%|██▌       | 130/500 [01:49<05:14,  1.18it/s]"
     ]
    },
    {
     "name": "stdout",
     "output_type": "stream",
     "text": [
      "total discriminator loss:0.3509069284582702\n",
      "average true return:0.4901413025820742\n",
      "-----------------------\n",
      "Training Step: 130\n",
      "generator loss:1.2645915254554043\n",
      "-----------------------\n"
     ]
    },
    {
     "name": "stderr",
     "output_type": "stream",
     "text": [
      "\r",
      " 26%|██▌       | 131/500 [01:50<05:11,  1.19it/s]"
     ]
    },
    {
     "name": "stdout",
     "output_type": "stream",
     "text": [
      "total discriminator loss:0.3495569533220576\n",
      "average true return:0.4906283184843599\n",
      "-----------------------\n",
      "Training Step: 131\n",
      "generator loss:1.2698969660297483\n",
      "-----------------------\n"
     ]
    },
    {
     "name": "stderr",
     "output_type": "stream",
     "text": [
      "\r",
      " 26%|██▋       | 132/500 [01:51<05:08,  1.19it/s]"
     ]
    },
    {
     "name": "stdout",
     "output_type": "stream",
     "text": [
      "total discriminator loss:0.35239772630033817\n",
      "average true return:0.4916828842172187\n",
      "-----------------------\n",
      "Training Step: 132\n",
      "generator loss:1.2754556452183947\n",
      "-----------------------\n"
     ]
    },
    {
     "name": "stderr",
     "output_type": "stream",
     "text": [
      "\r",
      " 27%|██▋       | 133/500 [01:52<05:05,  1.20it/s]"
     ]
    },
    {
     "name": "stdout",
     "output_type": "stream",
     "text": [
      "total discriminator loss:0.3473412153545729\n",
      "average true return:0.4921815303659335\n",
      "-----------------------\n",
      "Training Step: 133\n",
      "generator loss:1.2798259381387695\n",
      "-----------------------\n"
     ]
    },
    {
     "name": "stderr",
     "output_type": "stream",
     "text": [
      "\r",
      " 27%|██▋       | 134/500 [01:53<05:04,  1.20it/s]"
     ]
    },
    {
     "name": "stdout",
     "output_type": "stream",
     "text": [
      "total discriminator loss:0.32864553845466116\n",
      "average true return:0.49302553133968036\n",
      "-----------------------\n",
      "Training Step: 134\n",
      "generator loss:1.283884142894403\n",
      "-----------------------\n"
     ]
    },
    {
     "name": "stderr",
     "output_type": "stream",
     "text": [
      "\r",
      " 27%|██▋       | 135/500 [01:53<05:02,  1.21it/s]"
     ]
    },
    {
     "name": "stdout",
     "output_type": "stream",
     "text": [
      "total discriminator loss:0.3514031399617603\n",
      "average true return:0.4936957493129956\n",
      "-----------------------\n",
      "Training Step: 135\n",
      "generator loss:1.2879126367732703\n",
      "-----------------------\n"
     ]
    },
    {
     "name": "stderr",
     "output_type": "stream",
     "text": [
      "\r",
      " 27%|██▋       | 136/500 [01:54<05:01,  1.21it/s]"
     ]
    },
    {
     "name": "stdout",
     "output_type": "stream",
     "text": [
      "total discriminator loss:0.3434961743985945\n",
      "average true return:0.49412525093233195\n",
      "-----------------------\n",
      "Training Step: 136\n",
      "generator loss:1.291919369545034\n",
      "-----------------------\n"
     ]
    },
    {
     "name": "stderr",
     "output_type": "stream",
     "text": [
      "\r",
      " 27%|██▋       | 137/500 [01:55<05:00,  1.21it/s]"
     ]
    },
    {
     "name": "stdout",
     "output_type": "stream",
     "text": [
      "total discriminator loss:0.33361583486316837\n",
      "average true return:0.4944904058987042\n",
      "-----------------------\n",
      "Training Step: 137\n",
      "generator loss:1.294937318425114\n",
      "-----------------------\n"
     ]
    },
    {
     "name": "stderr",
     "output_type": "stream",
     "text": [
      "\r",
      " 28%|██▊       | 138/500 [01:56<04:58,  1.21it/s]"
     ]
    },
    {
     "name": "stdout",
     "output_type": "stream",
     "text": [
      "total discriminator loss:0.34194004784616383\n",
      "average true return:0.4952940106211541\n",
      "-----------------------\n",
      "Training Step: 138\n",
      "generator loss:1.2971785508050082\n",
      "-----------------------\n"
     ]
    },
    {
     "name": "stderr",
     "output_type": "stream",
     "text": [
      "\r",
      " 28%|██▊       | 139/500 [01:57<04:57,  1.21it/s]"
     ]
    },
    {
     "name": "stdout",
     "output_type": "stream",
     "text": [
      "total discriminator loss:0.351630883251921\n",
      "average true return:0.4956886811120328\n",
      "-----------------------\n",
      "Training Step: 139\n",
      "generator loss:1.2988844369314956\n",
      "-----------------------\n"
     ]
    },
    {
     "name": "stderr",
     "output_type": "stream",
     "text": [
      "\r",
      " 28%|██▊       | 140/500 [01:58<04:56,  1.21it/s]"
     ]
    },
    {
     "name": "stdout",
     "output_type": "stream",
     "text": [
      "total discriminator loss:0.3444672106791547\n",
      "average true return:0.49643466093795446\n",
      "-----------------------\n",
      "Training Step: 140\n",
      "generator loss:1.2996828949198822\n",
      "-----------------------\n"
     ]
    },
    {
     "name": "stderr",
     "output_type": "stream",
     "text": [
      "\r",
      " 28%|██▊       | 141/500 [01:58<04:55,  1.21it/s]"
     ]
    },
    {
     "name": "stdout",
     "output_type": "stream",
     "text": [
      "total discriminator loss:0.37662735087397436\n",
      "average true return:0.49695173182139346\n",
      "-----------------------\n",
      "Training Step: 141\n",
      "generator loss:1.3011909558049215\n",
      "-----------------------\n"
     ]
    },
    {
     "name": "stderr",
     "output_type": "stream",
     "text": [
      "\r",
      " 28%|██▊       | 142/500 [01:59<04:54,  1.22it/s]"
     ]
    },
    {
     "name": "stdout",
     "output_type": "stream",
     "text": [
      "total discriminator loss:0.3637705531529035\n",
      "average true return:0.4976997483719494\n",
      "-----------------------\n",
      "Training Step: 142\n",
      "generator loss:1.302214037215307\n",
      "-----------------------\n"
     ]
    },
    {
     "name": "stderr",
     "output_type": "stream",
     "text": [
      "\r",
      " 29%|██▊       | 143/500 [02:00<04:53,  1.22it/s]"
     ]
    },
    {
     "name": "stdout",
     "output_type": "stream",
     "text": [
      "total discriminator loss:0.3460711726958564\n",
      "average true return:0.4979999660501484\n",
      "-----------------------\n",
      "Training Step: 143\n",
      "generator loss:1.3021910145015947\n",
      "-----------------------\n"
     ]
    },
    {
     "name": "stderr",
     "output_type": "stream",
     "text": [
      "\r",
      " 29%|██▉       | 144/500 [02:01<04:53,  1.21it/s]"
     ]
    },
    {
     "name": "stdout",
     "output_type": "stream",
     "text": [
      "total discriminator loss:0.3317896481701728\n",
      "average true return:0.4983737534563992\n",
      "-----------------------\n",
      "Training Step: 144\n",
      "generator loss:1.303644142192509\n",
      "-----------------------\n"
     ]
    },
    {
     "name": "stderr",
     "output_type": "stream",
     "text": [
      "\r",
      " 29%|██▉       | 145/500 [02:02<04:52,  1.21it/s]"
     ]
    },
    {
     "name": "stdout",
     "output_type": "stream",
     "text": [
      "total discriminator loss:0.3360654257096235\n",
      "average true return:0.4986525264779235\n",
      "-----------------------\n",
      "Training Step: 145\n",
      "generator loss:1.3049690265568321\n",
      "-----------------------\n"
     ]
    },
    {
     "name": "stderr",
     "output_type": "stream",
     "text": [
      "\r",
      " 29%|██▉       | 146/500 [02:03<04:51,  1.21it/s]"
     ]
    },
    {
     "name": "stdout",
     "output_type": "stream",
     "text": [
      "total discriminator loss:0.3085217582040154\n",
      "average true return:0.49878643916099463\n",
      "-----------------------\n",
      "Training Step: 146\n",
      "generator loss:1.3076473915953066\n",
      "-----------------------\n"
     ]
    },
    {
     "name": "stderr",
     "output_type": "stream",
     "text": [
      "\r",
      " 29%|██▉       | 147/500 [02:03<04:50,  1.21it/s]"
     ]
    },
    {
     "name": "stdout",
     "output_type": "stream",
     "text": [
      "total discriminator loss:0.32081284657729403\n",
      "average true return:0.49891427855595666\n",
      "-----------------------\n",
      "Training Step: 147\n",
      "generator loss:1.3101284046901098\n",
      "-----------------------\n"
     ]
    },
    {
     "name": "stderr",
     "output_type": "stream",
     "text": [
      "\r",
      " 30%|██▉       | 148/500 [02:04<04:49,  1.21it/s]"
     ]
    },
    {
     "name": "stdout",
     "output_type": "stream",
     "text": [
      "total discriminator loss:0.33405065005412327\n",
      "average true return:0.49845364993607577\n",
      "-----------------------\n",
      "Training Step: 148\n",
      "generator loss:1.3139181342656812\n",
      "-----------------------\n"
     ]
    },
    {
     "name": "stderr",
     "output_type": "stream",
     "text": [
      "\r",
      " 30%|██▉       | 149/500 [02:05<04:48,  1.22it/s]"
     ]
    },
    {
     "name": "stdout",
     "output_type": "stream",
     "text": [
      "total discriminator loss:0.3578132229156234\n",
      "average true return:0.49831514644578145\n",
      "-----------------------\n",
      "Training Step: 149\n",
      "generator loss:1.318819431749815\n",
      "-----------------------\n"
     ]
    },
    {
     "name": "stderr",
     "output_type": "stream",
     "text": [
      "\r",
      " 30%|███       | 150/500 [02:06<04:57,  1.18it/s]"
     ]
    },
    {
     "name": "stdout",
     "output_type": "stream",
     "text": [
      "total discriminator loss:0.34116411436949845\n",
      "average true return:0.49724255915844595\n",
      "-----------------------\n",
      "Training Step: 150\n",
      "generator loss:1.3291571783156693\n",
      "-----------------------\n",
      "total discriminator loss:0.33134117437126753\n",
      "average true return:0.49597183074531226\n",
      "-----------------------\n",
      "tf.Tensor([[1 2 0 0 2 0 0 0 0 0 0 0 0 0 0 0 0 0 0 0]], shape=(1, 20), dtype=int64)\n"
     ]
    },
    {
     "data": {
      "image/png": "[encoded data removed]",
      "text/plain": [
       "<Figure size 432x288 with 1 Axes>"
      ]
     },
     "metadata": {
      "needs_background": "light"
     },
     "output_type": "display_data"
    },
    {
     "name": "stderr",
     "output_type": "stream",
     "text": [
      "\r",
      " 30%|███       | 151/500 [02:07<05:26,  1.07it/s]"
     ]
    },
    {
     "name": "stdout",
     "output_type": "stream",
     "text": [
      "Training Step: 151\n",
      "generator loss:1.3633451728482247\n",
      "-----------------------\n"
     ]
    },
    {
     "name": "stderr",
     "output_type": "stream",
     "text": [
      "\r",
      " 30%|███       | 152/500 [02:08<05:16,  1.10it/s]"
     ]
    },
    {
     "name": "stdout",
     "output_type": "stream",
     "text": [
      "total discriminator loss:0.33932320082516976\n",
      "average true return:0.489703785327839\n",
      "-----------------------\n",
      "Training Step: 152\n",
      "generator loss:1.4600746682577823\n",
      "-----------------------\n"
     ]
    },
    {
     "name": "stderr",
     "output_type": "stream",
     "text": [
      "\r",
      " 31%|███       | 153/500 [02:09<05:06,  1.13it/s]"
     ]
    },
    {
     "name": "stdout",
     "output_type": "stream",
     "text": [
      "total discriminator loss:0.33040071912716595\n",
      "average true return:0.4822375961840203\n",
      "-----------------------\n",
      "Training Step: 153\n",
      "generator loss:1.4972155753441259\n",
      "-----------------------\n"
     ]
    },
    {
     "name": "stderr",
     "output_type": "stream",
     "text": [
      "\r",
      " 31%|███       | 154/500 [02:10<04:58,  1.16it/s]"
     ]
    },
    {
     "name": "stdout",
     "output_type": "stream",
     "text": [
      "total discriminator loss:0.35686792997824635\n",
      "average true return:0.48222123970109504\n",
      "-----------------------\n",
      "Training Step: 154\n",
      "generator loss:1.483181900420972\n",
      "-----------------------\n"
     ]
    },
    {
     "name": "stderr",
     "output_type": "stream",
     "text": [
      "\r",
      " 31%|███       | 155/500 [02:10<04:53,  1.18it/s]"
     ]
    },
    {
     "name": "stdout",
     "output_type": "stream",
     "text": [
      "total discriminator loss:2.2715665369132623\n",
      "average true return:0.4831078287484846\n",
      "-----------------------\n",
      "Training Step: 155\n",
      "generator loss:1.4377888798898912\n",
      "-----------------------\n"
     ]
    },
    {
     "name": "stderr",
     "output_type": "stream",
     "text": [
      "\r",
      " 31%|███       | 156/500 [02:11<04:50,  1.19it/s]"
     ]
    },
    {
     "name": "stdout",
     "output_type": "stream",
     "text": [
      "total discriminator loss:2.230782654230514\n",
      "average true return:0.4849206338696306\n",
      "-----------------------\n",
      "Training Step: 156\n",
      "generator loss:1.3654268540794914\n",
      "-----------------------\n"
     ]
    },
    {
     "name": "stderr",
     "output_type": "stream",
     "text": [
      "\r",
      " 31%|███▏      | 157/500 [02:12<04:47,  1.19it/s]"
     ]
    },
    {
     "name": "stdout",
     "output_type": "stream",
     "text": [
      "total discriminator loss:0.34431465860588145\n",
      "average true return:0.4877718560487144\n",
      "-----------------------\n",
      "Training Step: 157\n",
      "generator loss:1.2920858051570898\n",
      "-----------------------\n"
     ]
    },
    {
     "name": "stderr",
     "output_type": "stream",
     "text": [
      "\r",
      " 32%|███▏      | 158/500 [02:13<04:45,  1.20it/s]"
     ]
    },
    {
     "name": "stdout",
     "output_type": "stream",
     "text": [
      "total discriminator loss:0.3421110707126711\n",
      "average true return:0.4916532434230376\n",
      "-----------------------\n",
      "Training Step: 158\n",
      "generator loss:1.2223559164131155\n",
      "-----------------------\n"
     ]
    },
    {
     "name": "stderr",
     "output_type": "stream",
     "text": [
      "\r",
      " 32%|███▏      | 159/500 [02:14<04:43,  1.20it/s]"
     ]
    },
    {
     "name": "stdout",
     "output_type": "stream",
     "text": [
      "total discriminator loss:0.33913263977079733\n",
      "average true return:0.49653346438585827\n",
      "-----------------------\n",
      "Training Step: 159\n",
      "generator loss:1.1611365998915737\n",
      "-----------------------\n"
     ]
    },
    {
     "name": "stderr",
     "output_type": "stream",
     "text": [
      "\r",
      " 32%|███▏      | 160/500 [02:14<04:41,  1.21it/s]"
     ]
    },
    {
     "name": "stdout",
     "output_type": "stream",
     "text": [
      "total discriminator loss:0.3278568526685866\n",
      "average true return:0.5005556486970243\n",
      "-----------------------\n",
      "Training Step: 160\n",
      "generator loss:1.1127320433351606\n",
      "-----------------------\n"
     ]
    },
    {
     "name": "stderr",
     "output_type": "stream",
     "text": [
      "\r",
      " 32%|███▏      | 161/500 [02:15<04:40,  1.21it/s]"
     ]
    },
    {
     "name": "stdout",
     "output_type": "stream",
     "text": [
      "total discriminator loss:0.3197163535660038\n",
      "average true return:0.5040439453781371\n",
      "-----------------------\n",
      "Training Step: 161\n",
      "generator loss:1.07317019106046\n",
      "-----------------------\n"
     ]
    },
    {
     "name": "stderr",
     "output_type": "stream",
     "text": [
      "\r",
      " 32%|███▏      | 162/500 [02:16<04:39,  1.21it/s]"
     ]
    },
    {
     "name": "stdout",
     "output_type": "stream",
     "text": [
      "total discriminator loss:0.36287498006644014\n",
      "average true return:0.5066642554066655\n",
      "-----------------------\n",
      "Training Step: 162\n",
      "generator loss:1.0432699709538917\n",
      "-----------------------\n"
     ]
    },
    {
     "name": "stderr",
     "output_type": "stream",
     "text": [
      "\r",
      " 33%|███▎      | 163/500 [02:17<04:48,  1.17it/s]"
     ]
    },
    {
     "name": "stdout",
     "output_type": "stream",
     "text": [
      "total discriminator loss:1.7810940294523965\n",
      "average true return:0.5091899502560862\n",
      "-----------------------\n",
      "Training Step: 163\n",
      "generator loss:0.9872943246323725\n",
      "-----------------------\n"
     ]
    },
    {
     "name": "stderr",
     "output_type": "stream",
     "text": [
      "\r",
      " 33%|███▎      | 164/500 [02:18<04:45,  1.18it/s]"
     ]
    },
    {
     "name": "stdout",
     "output_type": "stream",
     "text": [
      "total discriminator loss:0.34973265157116074\n",
      "average true return:0.5141707555161896\n",
      "-----------------------\n",
      "Training Step: 164\n",
      "generator loss:0.9430573308141625\n",
      "-----------------------\n"
     ]
    },
    {
     "name": "stderr",
     "output_type": "stream",
     "text": [
      "\r",
      " 33%|███▎      | 165/500 [02:19<04:41,  1.19it/s]"
     ]
    },
    {
     "name": "stdout",
     "output_type": "stream",
     "text": [
      "total discriminator loss:0.3574815020273142\n",
      "average true return:0.5178690791977829\n",
      "-----------------------\n",
      "Training Step: 165\n",
      "generator loss:0.9136682482256755\n",
      "-----------------------\n"
     ]
    },
    {
     "name": "stderr",
     "output_type": "stream",
     "text": [
      "\r",
      " 33%|███▎      | 166/500 [02:20<04:39,  1.19it/s]"
     ]
    },
    {
     "name": "stdout",
     "output_type": "stream",
     "text": [
      "total discriminator loss:0.36606119619625044\n",
      "average true return:0.5203284179332914\n",
      "-----------------------\n",
      "Training Step: 166\n",
      "generator loss:0.8916154421173559\n",
      "-----------------------\n"
     ]
    },
    {
     "name": "stderr",
     "output_type": "stream",
     "text": [
      "\r",
      " 33%|███▎      | 167/500 [02:20<04:37,  1.20it/s]"
     ]
    },
    {
     "name": "stdout",
     "output_type": "stream",
     "text": [
      "total discriminator loss:0.357480282887192\n",
      "average true return:0.5213706162942983\n",
      "-----------------------\n",
      "Training Step: 167\n",
      "generator loss:0.881746451275759\n",
      "-----------------------\n"
     ]
    },
    {
     "name": "stderr",
     "output_type": "stream",
     "text": [
      "\r",
      " 34%|███▎      | 168/500 [02:21<04:35,  1.20it/s]"
     ]
    },
    {
     "name": "stdout",
     "output_type": "stream",
     "text": [
      "total discriminator loss:0.3648576093236242\n",
      "average true return:0.5213394694093558\n",
      "-----------------------\n",
      "Training Step: 168\n",
      "generator loss:0.8748666415055293\n",
      "-----------------------\n"
     ]
    },
    {
     "name": "stderr",
     "output_type": "stream",
     "text": [
      "\r",
      " 34%|███▍      | 169/500 [02:22<04:35,  1.20it/s]"
     ]
    },
    {
     "name": "stdout",
     "output_type": "stream",
     "text": [
      "total discriminator loss:0.36265957065250015\n",
      "average true return:0.5203268359245684\n",
      "-----------------------\n",
      "Training Step: 169\n",
      "generator loss:0.8728695833045982\n",
      "-----------------------\n"
     ]
    },
    {
     "name": "stderr",
     "output_type": "stream",
     "text": [
      "\r",
      " 34%|███▍      | 170/500 [02:23<04:33,  1.21it/s]"
     ]
    },
    {
     "name": "stdout",
     "output_type": "stream",
     "text": [
      "total discriminator loss:0.3763972134722413\n",
      "average true return:0.5181025883899144\n",
      "-----------------------\n",
      "Training Step: 170\n",
      "generator loss:0.8745148448077404\n",
      "-----------------------\n"
     ]
    },
    {
     "name": "stderr",
     "output_type": "stream",
     "text": [
      "\r",
      " 34%|███▍      | 171/500 [02:24<04:37,  1.19it/s]"
     ]
    },
    {
     "name": "stdout",
     "output_type": "stream",
     "text": [
      "total discriminator loss:0.3696237164609154\n",
      "average true return:0.5160878182095481\n",
      "-----------------------\n",
      "Training Step: 171\n",
      "generator loss:0.8807858363540413\n",
      "-----------------------\n"
     ]
    },
    {
     "name": "stderr",
     "output_type": "stream",
     "text": [
      "\r",
      " 34%|███▍      | 172/500 [02:25<04:36,  1.19it/s]"
     ]
    },
    {
     "name": "stdout",
     "output_type": "stream",
     "text": [
      "total discriminator loss:0.37415516893823475\n",
      "average true return:0.5142543966744879\n",
      "-----------------------\n",
      "Training Step: 172\n",
      "generator loss:0.8896564950689643\n",
      "-----------------------\n"
     ]
    },
    {
     "name": "stderr",
     "output_type": "stream",
     "text": [
      "\r",
      " 35%|███▍      | 173/500 [02:25<04:37,  1.18it/s]"
     ]
    },
    {
     "name": "stdout",
     "output_type": "stream",
     "text": [
      "total discriminator loss:0.37430434764613085\n",
      "average true return:0.5119220143361007\n",
      "-----------------------\n",
      "Training Step: 173\n",
      "generator loss:0.8914112126144835\n",
      "-----------------------\n"
     ]
    },
    {
     "name": "stderr",
     "output_type": "stream",
     "text": [
      "\r",
      " 35%|███▍      | 174/500 [02:26<04:38,  1.17it/s]"
     ]
    },
    {
     "name": "stdout",
     "output_type": "stream",
     "text": [
      "total discriminator loss:0.3910430571339012\n",
      "average true return:0.5105406282004346\n",
      "-----------------------\n",
      "Training Step: 174\n",
      "generator loss:0.9036179196512828\n",
      "-----------------------\n"
     ]
    },
    {
     "name": "stderr",
     "output_type": "stream",
     "text": [
      "\r",
      " 35%|███▌      | 175/500 [02:27<04:45,  1.14it/s]"
     ]
    },
    {
     "name": "stdout",
     "output_type": "stream",
     "text": [
      "total discriminator loss:0.3859721738942586\n",
      "average true return:0.5082535095701366\n",
      "-----------------------\n",
      "Training Step: 175\n",
      "generator loss:0.9135928790262688\n",
      "-----------------------\n",
      "total discriminator loss:0.3515162241929976\n",
      "average true return:0.5049780868945923\n",
      "-----------------------\n",
      "tf.Tensor([[2 0 2 1 0 0 2 0 0 0 0 0 0 0 0 0 0 0 0 0]], shape=(1, 20), dtype=int64)\n"
     ]
    },
    {
     "data": {
      "image/png": "[encoded data removed]",
      "text/plain": [
       "<Figure size 432x288 with 1 Axes>"
      ]
     },
     "metadata": {
      "needs_background": "light"
     },
     "output_type": "display_data"
    },
    {
     "name": "stderr",
     "output_type": "stream",
     "text": [
      "\r",
      " 35%|███▌      | 176/500 [02:28<05:18,  1.02it/s]"
     ]
    },
    {
     "name": "stdout",
     "output_type": "stream",
     "text": [
      "Training Step: 176\n",
      "generator loss:0.9207304384614312\n",
      "-----------------------\n"
     ]
    },
    {
     "name": "stderr",
     "output_type": "stream",
     "text": [
      "\r",
      " 35%|███▌      | 177/500 [02:29<05:12,  1.03it/s]"
     ]
    },
    {
     "name": "stdout",
     "output_type": "stream",
     "text": [
      "total discriminator loss:0.3614626009464599\n",
      "average true return:0.504295775204217\n",
      "-----------------------\n",
      "Training Step: 177\n",
      "generator loss:0.9329237657238738\n",
      "-----------------------\n"
     ]
    },
    {
     "name": "stderr",
     "output_type": "stream",
     "text": [
      "\r",
      " 36%|███▌      | 178/500 [02:30<05:08,  1.04it/s]"
     ]
    },
    {
     "name": "stdout",
     "output_type": "stream",
     "text": [
      "total discriminator loss:0.37092791934618696\n",
      "average true return:0.5022023512675376\n",
      "-----------------------\n",
      "Training Step: 178\n",
      "generator loss:0.9459403210342908\n",
      "-----------------------\n"
     ]
    },
    {
     "name": "stderr",
     "output_type": "stream",
     "text": [
      "\r",
      " 36%|███▌      | 179/500 [02:31<05:06,  1.05it/s]"
     ]
    },
    {
     "name": "stdout",
     "output_type": "stream",
     "text": [
      "total discriminator loss:0.3515198634614439\n",
      "average true return:0.49940410076410474\n",
      "-----------------------\n",
      "Training Step: 179\n",
      "generator loss:0.9588296723830148\n",
      "-----------------------\n"
     ]
    },
    {
     "name": "stderr",
     "output_type": "stream",
     "text": [
      "\r",
      " 36%|███▌      | 180/500 [02:32<04:52,  1.09it/s]"
     ]
    },
    {
     "name": "stdout",
     "output_type": "stream",
     "text": [
      "total discriminator loss:0.3591274530097972\n",
      "average true return:0.4982623702553628\n",
      "-----------------------\n",
      "Training Step: 180\n",
      "generator loss:0.9696314156043223\n",
      "-----------------------\n"
     ]
    },
    {
     "name": "stderr",
     "output_type": "stream",
     "text": [
      "\r",
      " 36%|███▌      | 181/500 [02:33<04:43,  1.13it/s]"
     ]
    },
    {
     "name": "stdout",
     "output_type": "stream",
     "text": [
      "total discriminator loss:0.3486340766955962\n",
      "average true return:0.49567154913171413\n",
      "-----------------------\n",
      "Training Step: 181\n",
      "generator loss:0.9799965461227764\n",
      "-----------------------\n"
     ]
    },
    {
     "name": "stderr",
     "output_type": "stream",
     "text": [
      "\r",
      " 36%|███▋      | 182/500 [02:34<04:55,  1.08it/s]"
     ]
    },
    {
     "name": "stdout",
     "output_type": "stream",
     "text": [
      "total discriminator loss:0.3391448529620009\n",
      "average true return:0.49555473583272713\n",
      "-----------------------\n",
      "Training Step: 182\n",
      "generator loss:0.9889540233820596\n",
      "-----------------------\n"
     ]
    },
    {
     "name": "stderr",
     "output_type": "stream",
     "text": [
      "\r",
      " 37%|███▋      | 183/500 [02:35<04:46,  1.11it/s]"
     ]
    },
    {
     "name": "stdout",
     "output_type": "stream",
     "text": [
      "total discriminator loss:0.35537271669348536\n",
      "average true return:0.49407324499569083\n",
      "-----------------------\n",
      "Training Step: 183\n",
      "generator loss:0.9890307657390007\n",
      "-----------------------\n"
     ]
    },
    {
     "name": "stderr",
     "output_type": "stream",
     "text": [
      "\r",
      " 37%|███▋      | 184/500 [02:36<04:41,  1.12it/s]"
     ]
    },
    {
     "name": "stdout",
     "output_type": "stream",
     "text": [
      "total discriminator loss:0.32242400555676853\n",
      "average true return:0.495725216457063\n",
      "-----------------------\n",
      "Training Step: 184\n",
      "generator loss:1.0017549902919978\n",
      "-----------------------\n"
     ]
    },
    {
     "name": "stderr",
     "output_type": "stream",
     "text": [
      "\r",
      " 37%|███▋      | 185/500 [02:37<04:36,  1.14it/s]"
     ]
    },
    {
     "name": "stdout",
     "output_type": "stream",
     "text": [
      "total discriminator loss:0.352409752865004\n",
      "average true return:0.4946400977232253\n",
      "-----------------------\n",
      "Training Step: 185\n",
      "generator loss:1.0113183670346786\n",
      "-----------------------\n"
     ]
    },
    {
     "name": "stderr",
     "output_type": "stream",
     "text": [
      "\r",
      " 37%|███▋      | 186/500 [02:37<04:31,  1.16it/s]"
     ]
    },
    {
     "name": "stdout",
     "output_type": "stream",
     "text": [
      "total discriminator loss:0.3535791750697238\n",
      "average true return:0.4939849658386706\n",
      "-----------------------\n",
      "Training Step: 186\n",
      "generator loss:1.0204183838217902\n",
      "-----------------------\n"
     ]
    },
    {
     "name": "stderr",
     "output_type": "stream",
     "text": [
      "\r",
      " 37%|███▋      | 187/500 [02:38<04:33,  1.14it/s]"
     ]
    },
    {
     "name": "stdout",
     "output_type": "stream",
     "text": [
      "total discriminator loss:0.3572298809556938\n",
      "average true return:0.49387906702249174\n",
      "-----------------------\n",
      "Training Step: 187\n",
      "generator loss:1.028616733606777\n",
      "-----------------------\n"
     ]
    },
    {
     "name": "stderr",
     "output_type": "stream",
     "text": [
      "\r",
      " 38%|███▊      | 188/500 [02:39<04:34,  1.14it/s]"
     ]
    },
    {
     "name": "stdout",
     "output_type": "stream",
     "text": [
      "total discriminator loss:0.3154502317250252\n",
      "average true return:0.49325561493567127\n",
      "-----------------------\n",
      "Training Step: 188\n",
      "generator loss:1.034705102789625\n",
      "-----------------------\n"
     ]
    },
    {
     "name": "stderr",
     "output_type": "stream",
     "text": [
      "\r",
      " 38%|███▊      | 189/500 [02:40<04:32,  1.14it/s]"
     ]
    },
    {
     "name": "stdout",
     "output_type": "stream",
     "text": [
      "total discriminator loss:0.35987542404595985\n",
      "average true return:0.4935485307432212\n",
      "-----------------------\n",
      "Training Step: 189\n",
      "generator loss:1.0416108307546974\n",
      "-----------------------\n"
     ]
    },
    {
     "name": "stderr",
     "output_type": "stream",
     "text": [
      "\r",
      " 38%|███▊      | 190/500 [02:41<04:30,  1.15it/s]"
     ]
    },
    {
     "name": "stdout",
     "output_type": "stream",
     "text": [
      "total discriminator loss:0.37329870260449677\n",
      "average true return:0.4937610523294987\n",
      "-----------------------\n",
      "Training Step: 190\n",
      "generator loss:1.0503816600109626\n",
      "-----------------------\n"
     ]
    },
    {
     "name": "stderr",
     "output_type": "stream",
     "text": [
      "\r",
      " 38%|███▊      | 191/500 [02:42<04:29,  1.15it/s]"
     ]
    },
    {
     "name": "stdout",
     "output_type": "stream",
     "text": [
      "total discriminator loss:0.33359343814070685\n",
      "average true return:0.49335691838508405\n",
      "-----------------------\n",
      "Training Step: 191\n",
      "generator loss:1.055405888637396\n",
      "-----------------------\n"
     ]
    },
    {
     "name": "stderr",
     "output_type": "stream",
     "text": [
      "\r",
      " 38%|███▊      | 192/500 [02:43<04:27,  1.15it/s]"
     ]
    },
    {
     "name": "stdout",
     "output_type": "stream",
     "text": [
      "total discriminator loss:0.3346074254935142\n",
      "average true return:0.4940335680793687\n",
      "-----------------------\n",
      "Training Step: 192\n",
      "generator loss:1.0603611597026283\n",
      "-----------------------\n"
     ]
    },
    {
     "name": "stderr",
     "output_type": "stream",
     "text": [
      "\r",
      " 39%|███▊      | 193/500 [02:43<04:27,  1.15it/s]"
     ]
    },
    {
     "name": "stdout",
     "output_type": "stream",
     "text": [
      "total discriminator loss:0.317298616062438\n",
      "average true return:0.4941033259030543\n",
      "-----------------------\n",
      "Training Step: 193\n",
      "generator loss:1.063322265206156\n",
      "-----------------------\n"
     ]
    },
    {
     "name": "stderr",
     "output_type": "stream",
     "text": [
      "\r",
      " 39%|███▉      | 194/500 [02:44<04:25,  1.15it/s]"
     ]
    },
    {
     "name": "stdout",
     "output_type": "stream",
     "text": [
      "total discriminator loss:0.3588354202103964\n",
      "average true return:0.4950147851103003\n",
      "-----------------------\n",
      "Training Step: 194\n",
      "generator loss:1.068761870062891\n",
      "-----------------------\n"
     ]
    },
    {
     "name": "stderr",
     "output_type": "stream",
     "text": [
      "\r",
      " 39%|███▉      | 195/500 [02:45<04:22,  1.16it/s]"
     ]
    },
    {
     "name": "stdout",
     "output_type": "stream",
     "text": [
      "total discriminator loss:0.3462496579383241\n",
      "average true return:0.49510951966642214\n",
      "-----------------------\n",
      "Training Step: 195\n",
      "generator loss:1.072677712976728\n",
      "-----------------------\n"
     ]
    },
    {
     "name": "stderr",
     "output_type": "stream",
     "text": [
      "\r",
      " 39%|███▉      | 196/500 [02:46<04:29,  1.13it/s]"
     ]
    },
    {
     "name": "stdout",
     "output_type": "stream",
     "text": [
      "total discriminator loss:0.35309123543388543\n",
      "average true return:0.4958114355587042\n",
      "-----------------------\n",
      "Training Step: 196\n",
      "generator loss:1.071156255382903\n",
      "-----------------------\n"
     ]
    },
    {
     "name": "stderr",
     "output_type": "stream",
     "text": [
      "\r",
      " 39%|███▉      | 197/500 [02:47<04:22,  1.15it/s]"
     ]
    },
    {
     "name": "stdout",
     "output_type": "stream",
     "text": [
      "total discriminator loss:0.33504445646247843\n",
      "average true return:0.497481252896916\n",
      "-----------------------\n",
      "Training Step: 197\n",
      "generator loss:1.071682551912846\n",
      "-----------------------\n"
     ]
    },
    {
     "name": "stderr",
     "output_type": "stream",
     "text": [
      "\r",
      " 40%|███▉      | 198/500 [02:48<04:17,  1.17it/s]"
     ]
    },
    {
     "name": "stdout",
     "output_type": "stream",
     "text": [
      "total discriminator loss:0.3389114780117004\n",
      "average true return:0.49825207992509546\n",
      "-----------------------\n",
      "Training Step: 198\n",
      "generator loss:1.0713701295347808\n",
      "-----------------------\n"
     ]
    },
    {
     "name": "stderr",
     "output_type": "stream",
     "text": [
      "\r",
      " 40%|███▉      | 199/500 [02:49<04:13,  1.19it/s]"
     ]
    },
    {
     "name": "stdout",
     "output_type": "stream",
     "text": [
      "total discriminator loss:0.3328337056299634\n",
      "average true return:0.49929750658145144\n",
      "-----------------------\n",
      "Training Step: 199\n",
      "generator loss:1.0725491553147881\n",
      "-----------------------\n"
     ]
    },
    {
     "name": "stderr",
     "output_type": "stream",
     "text": [
      "\r",
      " 40%|████      | 200/500 [02:49<04:10,  1.20it/s]"
     ]
    },
    {
     "name": "stdout",
     "output_type": "stream",
     "text": [
      "total discriminator loss:0.3624754074132751\n",
      "average true return:0.5002152997645615\n",
      "-----------------------\n",
      "Training Step: 200\n",
      "generator loss:1.0723501914065876\n",
      "-----------------------\n",
      "total discriminator loss:0.34207183674750663\n",
      "average true return:0.501780719914622\n",
      "-----------------------\n",
      "tf.Tensor([[1 3 1 2 0 3 0 0 0 0 0 2 2 0 0 0 2 0 0 0]], shape=(1, 20), dtype=int64)\n"
     ]
    },
    {
     "data": {
      "image/png": "[encoded data removed]",
      "text/plain": [
       "<Figure size 432x288 with 1 Axes>"
      ]
     },
     "metadata": {
      "needs_background": "light"
     },
     "output_type": "display_data"
    },
    {
     "name": "stderr",
     "output_type": "stream",
     "text": [
      "\r",
      " 40%|████      | 201/500 [02:51<04:36,  1.08it/s]"
     ]
    },
    {
     "name": "stdout",
     "output_type": "stream",
     "text": [
      "Training Step: 201\n",
      "generator loss:1.0688585520322638\n",
      "-----------------------\n"
     ]
    },
    {
     "name": "stderr",
     "output_type": "stream",
     "text": [
      "\r",
      " 40%|████      | 202/500 [02:51<04:27,  1.12it/s]"
     ]
    },
    {
     "name": "stdout",
     "output_type": "stream",
     "text": [
      "total discriminator loss:0.34186401288606916\n",
      "average true return:0.5029632754083377\n",
      "-----------------------\n",
      "Training Step: 202\n",
      "generator loss:1.0629602413868353\n",
      "-----------------------\n"
     ]
    },
    {
     "name": "stderr",
     "output_type": "stream",
     "text": [
      "\r",
      " 41%|████      | 203/500 [02:52<04:19,  1.14it/s]"
     ]
    },
    {
     "name": "stdout",
     "output_type": "stream",
     "text": [
      "total discriminator loss:0.34633713339950967\n",
      "average true return:0.5039753368772667\n",
      "-----------------------\n",
      "Training Step: 203\n",
      "generator loss:1.0599300324505778\n",
      "-----------------------\n"
     ]
    },
    {
     "name": "stderr",
     "output_type": "stream",
     "text": [
      "\r",
      " 41%|████      | 204/500 [02:53<04:14,  1.16it/s]"
     ]
    },
    {
     "name": "stdout",
     "output_type": "stream",
     "text": [
      "total discriminator loss:0.3283978908647287\n",
      "average true return:0.5059487747719172\n",
      "-----------------------\n",
      "Training Step: 204\n",
      "generator loss:1.0588453276201975\n",
      "-----------------------\n"
     ]
    },
    {
     "name": "stderr",
     "output_type": "stream",
     "text": [
      "\r",
      " 41%|████      | 205/500 [02:54<04:10,  1.18it/s]"
     ]
    },
    {
     "name": "stdout",
     "output_type": "stream",
     "text": [
      "total discriminator loss:0.362978124881687\n",
      "average true return:0.5073440448778878\n",
      "-----------------------\n",
      "Training Step: 205\n",
      "generator loss:1.0509593813926768\n",
      "-----------------------\n"
     ]
    },
    {
     "name": "stderr",
     "output_type": "stream",
     "text": [
      "\r",
      " 41%|████      | 206/500 [02:55<04:06,  1.19it/s]"
     ]
    },
    {
     "name": "stdout",
     "output_type": "stream",
     "text": [
      "total discriminator loss:0.3298041878407475\n",
      "average true return:0.5085963259829401\n",
      "-----------------------\n",
      "Training Step: 206\n",
      "generator loss:1.0482919712776755\n",
      "-----------------------\n"
     ]
    },
    {
     "name": "stderr",
     "output_type": "stream",
     "text": [
      "\r",
      " 41%|████▏     | 207/500 [02:55<04:04,  1.20it/s]"
     ]
    },
    {
     "name": "stdout",
     "output_type": "stream",
     "text": [
      "total discriminator loss:0.333333630757664\n",
      "average true return:0.5099521645736438\n",
      "-----------------------\n",
      "Training Step: 207\n",
      "generator loss:1.04102046400876\n",
      "-----------------------\n"
     ]
    },
    {
     "name": "stderr",
     "output_type": "stream",
     "text": [
      "\r",
      " 42%|████▏     | 208/500 [02:56<04:03,  1.20it/s]"
     ]
    },
    {
     "name": "stdout",
     "output_type": "stream",
     "text": [
      "total discriminator loss:0.34269705255453997\n",
      "average true return:0.5116886733081829\n",
      "-----------------------\n",
      "Training Step: 208\n",
      "generator loss:1.035206030431044\n",
      "-----------------------\n"
     ]
    },
    {
     "name": "stderr",
     "output_type": "stream",
     "text": [
      "\r",
      " 42%|████▏     | 209/500 [02:57<04:02,  1.20it/s]"
     ]
    },
    {
     "name": "stdout",
     "output_type": "stream",
     "text": [
      "total discriminator loss:0.3531550094509128\n",
      "average true return:0.5137282920924563\n",
      "-----------------------\n",
      "Training Step: 209\n",
      "generator loss:1.0241449871102952\n",
      "-----------------------\n"
     ]
    },
    {
     "name": "stderr",
     "output_type": "stream",
     "text": [
      "\r",
      " 42%|████▏     | 210/500 [02:58<04:06,  1.18it/s]"
     ]
    },
    {
     "name": "stdout",
     "output_type": "stream",
     "text": [
      "total discriminator loss:0.3243479694313721\n",
      "average true return:0.5163032724285885\n",
      "-----------------------\n",
      "Training Step: 210\n",
      "generator loss:1.0074960799433388\n",
      "-----------------------\n"
     ]
    },
    {
     "name": "stderr",
     "output_type": "stream",
     "text": [
      "\r",
      " 42%|████▏     | 211/500 [02:59<04:02,  1.19it/s]"
     ]
    },
    {
     "name": "stdout",
     "output_type": "stream",
     "text": [
      "total discriminator loss:0.3343950382203945\n",
      "average true return:0.5197682630680812\n",
      "-----------------------\n",
      "Training Step: 211\n",
      "generator loss:0.9989389731333584\n",
      "-----------------------\n"
     ]
    },
    {
     "name": "stderr",
     "output_type": "stream",
     "text": [
      "\r",
      " 42%|████▏     | 212/500 [03:00<04:05,  1.17it/s]"
     ]
    },
    {
     "name": "stdout",
     "output_type": "stream",
     "text": [
      "total discriminator loss:0.3315665388428732\n",
      "average true return:0.5208021236437067\n",
      "-----------------------\n",
      "Training Step: 212\n",
      "generator loss:1.0238894988898632\n",
      "-----------------------\n"
     ]
    },
    {
     "name": "stderr",
     "output_type": "stream",
     "text": [
      "\r",
      " 43%|████▎     | 213/500 [03:01<04:04,  1.18it/s]"
     ]
    },
    {
     "name": "stdout",
     "output_type": "stream",
     "text": [
      "total discriminator loss:0.3310356548716976\n",
      "average true return:0.5081039817624815\n",
      "-----------------------\n",
      "Training Step: 213\n",
      "generator loss:1.157226965888562\n",
      "-----------------------\n"
     ]
    },
    {
     "name": "stderr",
     "output_type": "stream",
     "text": [
      "\r",
      " 43%|████▎     | 214/500 [03:01<04:08,  1.15it/s]"
     ]
    },
    {
     "name": "stdout",
     "output_type": "stream",
     "text": [
      "total discriminator loss:0.3294904777254455\n",
      "average true return:0.49404272494516915\n",
      "-----------------------\n",
      "Training Step: 214\n",
      "generator loss:1.2231742353163924\n",
      "-----------------------\n"
     ]
    },
    {
     "name": "stderr",
     "output_type": "stream",
     "text": [
      "\r",
      " 43%|████▎     | 215/500 [03:02<04:06,  1.16it/s]"
     ]
    },
    {
     "name": "stdout",
     "output_type": "stream",
     "text": [
      "total discriminator loss:0.3097283478028417\n",
      "average true return:0.4866481254355875\n",
      "-----------------------\n",
      "Training Step: 215\n",
      "generator loss:1.2521418710486976\n",
      "-----------------------\n"
     ]
    },
    {
     "name": "stderr",
     "output_type": "stream",
     "text": [
      "\r",
      " 43%|████▎     | 216/500 [03:03<04:11,  1.13it/s]"
     ]
    },
    {
     "name": "stdout",
     "output_type": "stream",
     "text": [
      "total discriminator loss:0.3260917564009187\n",
      "average true return:0.48586283365233773\n",
      "-----------------------\n",
      "Training Step: 216\n",
      "generator loss:1.2548785669453046\n",
      "-----------------------\n"
     ]
    },
    {
     "name": "stderr",
     "output_type": "stream",
     "text": [
      "\r",
      " 43%|████▎     | 217/500 [03:04<04:06,  1.15it/s]"
     ]
    },
    {
     "name": "stdout",
     "output_type": "stream",
     "text": [
      "total discriminator loss:0.33786574892692045\n",
      "average true return:0.48577495713965757\n",
      "-----------------------\n",
      "Training Step: 217\n",
      "generator loss:1.2502267611986668\n",
      "-----------------------\n"
     ]
    },
    {
     "name": "stderr",
     "output_type": "stream",
     "text": [
      "\r",
      " 44%|████▎     | 218/500 [03:05<04:06,  1.14it/s]"
     ]
    },
    {
     "name": "stdout",
     "output_type": "stream",
     "text": [
      "total discriminator loss:2.046116804461635\n",
      "average true return:0.48617801118659004\n",
      "-----------------------\n",
      "Training Step: 218\n",
      "generator loss:1.232868396752549\n",
      "-----------------------\n"
     ]
    },
    {
     "name": "stderr",
     "output_type": "stream",
     "text": [
      "\r",
      " 44%|████▍     | 219/500 [03:06<04:08,  1.13it/s]"
     ]
    },
    {
     "name": "stdout",
     "output_type": "stream",
     "text": [
      "total discriminator loss:2.038315223386915\n",
      "average true return:0.48701108293548206\n",
      "-----------------------\n",
      "Training Step: 219\n",
      "generator loss:1.200924152337489\n",
      "-----------------------\n"
     ]
    },
    {
     "name": "stderr",
     "output_type": "stream",
     "text": [
      "\r",
      " 44%|████▍     | 220/500 [03:07<04:05,  1.14it/s]"
     ]
    },
    {
     "name": "stdout",
     "output_type": "stream",
     "text": [
      "total discriminator loss:0.3235504505590544\n",
      "average true return:0.4883306649307275\n",
      "-----------------------\n",
      "Training Step: 220\n",
      "generator loss:1.1772371574319165\n",
      "-----------------------\n"
     ]
    },
    {
     "name": "stderr",
     "output_type": "stream",
     "text": [
      "\r",
      " 44%|████▍     | 221/500 [03:08<04:00,  1.16it/s]"
     ]
    },
    {
     "name": "stdout",
     "output_type": "stream",
     "text": [
      "total discriminator loss:0.3285361677883511\n",
      "average true return:0.4899265725114089\n",
      "-----------------------\n",
      "Training Step: 221\n",
      "generator loss:1.1473782361723055\n",
      "-----------------------\n"
     ]
    },
    {
     "name": "stderr",
     "output_type": "stream",
     "text": [
      "\r",
      " 44%|████▍     | 222/500 [03:08<04:01,  1.15it/s]"
     ]
    },
    {
     "name": "stdout",
     "output_type": "stream",
     "text": [
      "total discriminator loss:0.3304955526828038\n",
      "average true return:0.4911138894415359\n",
      "-----------------------\n",
      "Training Step: 222\n",
      "generator loss:1.1258701125786346\n",
      "-----------------------\n"
     ]
    },
    {
     "name": "stderr",
     "output_type": "stream",
     "text": [
      "\r",
      " 45%|████▍     | 223/500 [03:09<04:01,  1.15it/s]"
     ]
    },
    {
     "name": "stdout",
     "output_type": "stream",
     "text": [
      "total discriminator loss:0.32373190998920265\n",
      "average true return:0.4925264836114021\n",
      "-----------------------\n",
      "Training Step: 223\n",
      "generator loss:1.1040643079083927\n",
      "-----------------------\n"
     ]
    },
    {
     "name": "stderr",
     "output_type": "stream",
     "text": [
      "\r",
      " 45%|████▍     | 224/500 [03:10<04:05,  1.12it/s]"
     ]
    },
    {
     "name": "stdout",
     "output_type": "stream",
     "text": [
      "total discriminator loss:0.33630418956062946\n",
      "average true return:0.4936686145065402\n",
      "-----------------------\n",
      "Training Step: 224\n",
      "generator loss:1.0878157616980269\n",
      "-----------------------\n"
     ]
    },
    {
     "name": "stderr",
     "output_type": "stream",
     "text": [
      "\r",
      " 45%|████▌     | 225/500 [03:11<04:04,  1.13it/s]"
     ]
    },
    {
     "name": "stdout",
     "output_type": "stream",
     "text": [
      "total discriminator loss:0.3399539883062534\n",
      "average true return:0.49489560973499896\n",
      "-----------------------\n",
      "Training Step: 225\n",
      "generator loss:1.0749995736244313\n",
      "-----------------------\n",
      "total discriminator loss:0.3548005730752403\n",
      "average true return:0.49548451861712334\n",
      "-----------------------\n",
      "tf.Tensor([[1 0 2 0 2 2 0 2 2 2 0 2 2 2 2 2 2 2 1 0]], shape=(1, 20), dtype=int64)\n"
     ]
    },
    {
     "data": {
      "image/png": "[encoded data removed]",
      "text/plain": [
       "<Figure size 432x288 with 1 Axes>"
      ]
     },
     "metadata": {
      "needs_background": "light"
     },
     "output_type": "display_data"
    },
    {
     "name": "stderr",
     "output_type": "stream",
     "text": [
      "\r",
      " 45%|████▌     | 226/500 [03:12<04:27,  1.02it/s]"
     ]
    },
    {
     "name": "stdout",
     "output_type": "stream",
     "text": [
      "Training Step: 226\n",
      "generator loss:1.0646747862754058\n",
      "-----------------------\n"
     ]
    },
    {
     "name": "stderr",
     "output_type": "stream",
     "text": [
      "\r",
      " 45%|████▌     | 227/500 [03:13<04:22,  1.04it/s]"
     ]
    },
    {
     "name": "stdout",
     "output_type": "stream",
     "text": [
      "total discriminator loss:0.3225869726752037\n",
      "average true return:0.4966135020565033\n",
      "-----------------------\n",
      "Training Step: 227\n",
      "generator loss:1.053081591764852\n",
      "-----------------------\n"
     ]
    },
    {
     "name": "stderr",
     "output_type": "stream",
     "text": [
      "\r",
      " 46%|████▌     | 228/500 [03:14<04:16,  1.06it/s]"
     ]
    },
    {
     "name": "stdout",
     "output_type": "stream",
     "text": [
      "total discriminator loss:0.32288281909519856\n",
      "average true return:0.4973958782548918\n",
      "-----------------------\n",
      "Training Step: 228\n",
      "generator loss:1.0440225649630728\n",
      "-----------------------\n"
     ]
    },
    {
     "name": "stderr",
     "output_type": "stream",
     "text": [
      "\r",
      " 46%|████▌     | 229/500 [03:15<04:12,  1.07it/s]"
     ]
    },
    {
     "name": "stdout",
     "output_type": "stream",
     "text": [
      "total discriminator loss:0.33449803000270917\n",
      "average true return:0.4988609926126346\n",
      "-----------------------\n",
      "Training Step: 229\n",
      "generator loss:1.035438499281363\n",
      "-----------------------\n"
     ]
    },
    {
     "name": "stderr",
     "output_type": "stream",
     "text": [
      "\r",
      " 46%|████▌     | 230/500 [03:16<04:04,  1.10it/s]"
     ]
    },
    {
     "name": "stdout",
     "output_type": "stream",
     "text": [
      "total discriminator loss:0.31023893675884096\n",
      "average true return:0.4993681482662433\n",
      "-----------------------\n",
      "Training Step: 230\n",
      "generator loss:1.030483273326963\n",
      "-----------------------\n"
     ]
    },
    {
     "name": "stderr",
     "output_type": "stream",
     "text": [
      "\r",
      " 46%|████▌     | 231/500 [03:17<03:59,  1.13it/s]"
     ]
    },
    {
     "name": "stdout",
     "output_type": "stream",
     "text": [
      "total discriminator loss:0.3345034711387823\n",
      "average true return:0.499860271678674\n",
      "-----------------------\n",
      "Training Step: 231\n",
      "generator loss:1.0237928291668714\n",
      "-----------------------\n"
     ]
    },
    {
     "name": "stderr",
     "output_type": "stream",
     "text": [
      "\r",
      " 46%|████▋     | 232/500 [03:18<03:58,  1.13it/s]"
     ]
    },
    {
     "name": "stdout",
     "output_type": "stream",
     "text": [
      "total discriminator loss:0.33938743074872435\n",
      "average true return:0.5006514440955998\n",
      "-----------------------\n",
      "Training Step: 232\n",
      "generator loss:1.0231158419947732\n",
      "-----------------------\n"
     ]
    },
    {
     "name": "stderr",
     "output_type": "stream",
     "text": [
      "\r",
      " 47%|████▋     | 233/500 [03:18<03:51,  1.15it/s]"
     ]
    },
    {
     "name": "stdout",
     "output_type": "stream",
     "text": [
      "total discriminator loss:1.7160499442001775\n",
      "average true return:0.5018995875276364\n",
      "-----------------------\n",
      "Training Step: 233\n",
      "generator loss:1.0113067457322873\n",
      "-----------------------\n"
     ]
    },
    {
     "name": "stderr",
     "output_type": "stream",
     "text": [
      "\r",
      " 47%|████▋     | 234/500 [03:19<03:47,  1.17it/s]"
     ]
    },
    {
     "name": "stdout",
     "output_type": "stream",
     "text": [
      "total discriminator loss:0.3337299086720934\n",
      "average true return:0.502183288943616\n",
      "-----------------------\n",
      "Training Step: 234\n",
      "generator loss:0.999578670691851\n",
      "-----------------------\n"
     ]
    },
    {
     "name": "stderr",
     "output_type": "stream",
     "text": [
      "\r",
      " 47%|████▋     | 235/500 [03:20<03:48,  1.16it/s]"
     ]
    },
    {
     "name": "stdout",
     "output_type": "stream",
     "text": [
      "total discriminator loss:0.3611653197838888\n",
      "average true return:0.502596379473562\n",
      "-----------------------\n",
      "Training Step: 235\n",
      "generator loss:0.9917549656562453\n",
      "-----------------------\n"
     ]
    },
    {
     "name": "stderr",
     "output_type": "stream",
     "text": [
      "\r",
      " 47%|████▋     | 236/500 [03:21<03:45,  1.17it/s]"
     ]
    },
    {
     "name": "stdout",
     "output_type": "stream",
     "text": [
      "total discriminator loss:0.34153487492146545\n",
      "average true return:0.5029864812809874\n",
      "-----------------------\n",
      "Training Step: 236\n",
      "generator loss:0.9826882101819493\n",
      "-----------------------\n"
     ]
    },
    {
     "name": "stderr",
     "output_type": "stream",
     "text": [
      "\r",
      " 47%|████▋     | 237/500 [03:22<03:45,  1.17it/s]"
     ]
    },
    {
     "name": "stdout",
     "output_type": "stream",
     "text": [
      "total discriminator loss:0.34096892286214964\n",
      "average true return:0.5039966990186967\n",
      "-----------------------\n",
      "Training Step: 237\n",
      "generator loss:0.9765469526524237\n",
      "-----------------------\n"
     ]
    },
    {
     "name": "stderr",
     "output_type": "stream",
     "text": [
      "\r",
      " 48%|████▊     | 238/500 [03:23<03:42,  1.18it/s]"
     ]
    },
    {
     "name": "stdout",
     "output_type": "stream",
     "text": [
      "total discriminator loss:0.3501113043285353\n",
      "average true return:0.504108701025147\n",
      "-----------------------\n",
      "Training Step: 238\n",
      "generator loss:0.9723205022247283\n",
      "-----------------------\n"
     ]
    },
    {
     "name": "stderr",
     "output_type": "stream",
     "text": [
      "\r",
      " 48%|████▊     | 239/500 [03:24<03:40,  1.19it/s]"
     ]
    },
    {
     "name": "stdout",
     "output_type": "stream",
     "text": [
      "total discriminator loss:0.3509146891353834\n",
      "average true return:0.5034000288479776\n",
      "-----------------------\n",
      "Training Step: 239\n",
      "generator loss:0.9721450559457737\n",
      "-----------------------\n"
     ]
    },
    {
     "name": "stderr",
     "output_type": "stream",
     "text": [
      "\r",
      " 48%|████▊     | 240/500 [03:24<03:39,  1.18it/s]"
     ]
    },
    {
     "name": "stdout",
     "output_type": "stream",
     "text": [
      "total discriminator loss:0.3392544638348619\n",
      "average true return:0.5037197696308229\n",
      "-----------------------\n",
      "Training Step: 240\n",
      "generator loss:0.9753794120121653\n",
      "-----------------------\n"
     ]
    },
    {
     "name": "stderr",
     "output_type": "stream",
     "text": [
      "\r",
      " 48%|████▊     | 241/500 [03:25<03:46,  1.15it/s]"
     ]
    },
    {
     "name": "stdout",
     "output_type": "stream",
     "text": [
      "total discriminator loss:0.3408137238824333\n",
      "average true return:0.5031932071921624\n",
      "-----------------------\n",
      "Training Step: 241\n",
      "generator loss:0.9762985693403929\n",
      "-----------------------\n"
     ]
    },
    {
     "name": "stderr",
     "output_type": "stream",
     "text": [
      "\r",
      " 48%|████▊     | 242/500 [03:26<03:42,  1.16it/s]"
     ]
    },
    {
     "name": "stdout",
     "output_type": "stream",
     "text": [
      "total discriminator loss:0.33364454788322206\n",
      "average true return:0.503052065384786\n",
      "-----------------------\n",
      "Training Step: 242\n",
      "generator loss:0.9769002396277296\n",
      "-----------------------\n"
     ]
    },
    {
     "name": "stderr",
     "output_type": "stream",
     "text": [
      "\r",
      " 49%|████▊     | 243/500 [03:27<03:39,  1.17it/s]"
     ]
    },
    {
     "name": "stdout",
     "output_type": "stream",
     "text": [
      "total discriminator loss:0.31929669450786646\n",
      "average true return:0.5027744110651713\n",
      "-----------------------\n",
      "Training Step: 243\n",
      "generator loss:0.9763830059392091\n",
      "-----------------------\n"
     ]
    },
    {
     "name": "stderr",
     "output_type": "stream",
     "text": [
      "\r",
      " 49%|████▉     | 244/500 [03:28<03:35,  1.19it/s]"
     ]
    },
    {
     "name": "stdout",
     "output_type": "stream",
     "text": [
      "total discriminator loss:0.3296681936711673\n",
      "average true return:0.5028553732045487\n",
      "-----------------------\n",
      "Training Step: 244\n",
      "generator loss:0.976156411382818\n",
      "-----------------------\n"
     ]
    },
    {
     "name": "stderr",
     "output_type": "stream",
     "text": [
      "\r",
      " 49%|████▉     | 245/500 [03:29<03:33,  1.19it/s]"
     ]
    },
    {
     "name": "stdout",
     "output_type": "stream",
     "text": [
      "total discriminator loss:0.33608050549196455\n",
      "average true return:0.5019422252122312\n",
      "-----------------------\n",
      "Training Step: 245\n",
      "generator loss:0.9859437695135757\n",
      "-----------------------\n"
     ]
    },
    {
     "name": "stderr",
     "output_type": "stream",
     "text": [
      "\r",
      " 49%|████▉     | 246/500 [03:29<03:32,  1.19it/s]"
     ]
    },
    {
     "name": "stdout",
     "output_type": "stream",
     "text": [
      "total discriminator loss:0.3493840207429591\n",
      "average true return:0.5012023184512332\n",
      "-----------------------\n",
      "Training Step: 246\n",
      "generator loss:0.9860836792284182\n",
      "-----------------------\n"
     ]
    },
    {
     "name": "stderr",
     "output_type": "stream",
     "text": [
      "\r",
      " 49%|████▉     | 247/500 [03:30<03:31,  1.20it/s]"
     ]
    },
    {
     "name": "stdout",
     "output_type": "stream",
     "text": [
      "total discriminator loss:0.33504480878955634\n",
      "average true return:0.5007474093836157\n",
      "-----------------------\n",
      "Training Step: 247\n",
      "generator loss:0.9920068298513778\n",
      "-----------------------\n"
     ]
    },
    {
     "name": "stderr",
     "output_type": "stream",
     "text": [
      "\r",
      " 50%|████▉     | 248/500 [03:31<03:30,  1.20it/s]"
     ]
    },
    {
     "name": "stdout",
     "output_type": "stream",
     "text": [
      "total discriminator loss:0.33158894098778346\n",
      "average true return:0.5007519308411916\n",
      "-----------------------\n",
      "Training Step: 248\n",
      "generator loss:0.992829226532061\n",
      "-----------------------\n"
     ]
    },
    {
     "name": "stderr",
     "output_type": "stream",
     "text": [
      "\r",
      " 50%|████▉     | 249/500 [03:32<03:30,  1.19it/s]"
     ]
    },
    {
     "name": "stdout",
     "output_type": "stream",
     "text": [
      "total discriminator loss:0.3337003274729685\n",
      "average true return:0.5003067925236693\n",
      "-----------------------\n",
      "Training Step: 249\n",
      "generator loss:1.0001474374653645\n",
      "-----------------------\n"
     ]
    },
    {
     "name": "stderr",
     "output_type": "stream",
     "text": [
      "\r",
      " 50%|█████     | 250/500 [03:33<03:28,  1.20it/s]"
     ]
    },
    {
     "name": "stdout",
     "output_type": "stream",
     "text": [
      "total discriminator loss:0.35787065677846985\n",
      "average true return:0.5003698338720877\n",
      "-----------------------\n",
      "Training Step: 250\n",
      "generator loss:1.0067487524583818\n",
      "-----------------------\n",
      "total discriminator loss:0.31916317588723875\n",
      "average true return:0.49974304208436376\n",
      "-----------------------\n",
      "tf.Tensor([[0 2 2 2 2 0 2 3 0 2 2 2 2 2 2 2 0 2 2 2]], shape=(1, 20), dtype=int64)\n"
     ]
    },
    {
     "data": {
      "image/png": "[encoded data removed]",
      "text/plain": [
       "<Figure size 432x288 with 1 Axes>"
      ]
     },
     "metadata": {
      "needs_background": "light"
     },
     "output_type": "display_data"
    },
    {
     "name": "stderr",
     "output_type": "stream",
     "text": [
      "\r",
      " 50%|█████     | 251/500 [03:34<03:50,  1.08it/s]"
     ]
    },
    {
     "name": "stdout",
     "output_type": "stream",
     "text": [
      "Training Step: 251\n",
      "generator loss:1.0111739729125353\n",
      "-----------------------\n"
     ]
    },
    {
     "name": "stderr",
     "output_type": "stream",
     "text": [
      "\r",
      " 50%|█████     | 252/500 [03:35<03:42,  1.11it/s]"
     ]
    },
    {
     "name": "stdout",
     "output_type": "stream",
     "text": [
      "total discriminator loss:0.33123697715236416\n",
      "average true return:0.5001503300877224\n",
      "-----------------------\n",
      "Training Step: 252\n",
      "generator loss:1.0176676416823411\n",
      "-----------------------\n"
     ]
    },
    {
     "name": "stderr",
     "output_type": "stream",
     "text": [
      "\r",
      " 51%|█████     | 253/500 [03:36<03:36,  1.14it/s]"
     ]
    },
    {
     "name": "stdout",
     "output_type": "stream",
     "text": [
      "total discriminator loss:0.33963219382437093\n",
      "average true return:0.4989275963768146\n",
      "-----------------------\n",
      "Training Step: 253\n",
      "generator loss:1.0226810783980076\n",
      "-----------------------\n"
     ]
    },
    {
     "name": "stderr",
     "output_type": "stream",
     "text": [
      "\r",
      " 51%|█████     | 254/500 [03:36<03:32,  1.16it/s]"
     ]
    },
    {
     "name": "stdout",
     "output_type": "stream",
     "text": [
      "total discriminator loss:0.36649626846939043\n",
      "average true return:0.4991722610993405\n",
      "-----------------------\n",
      "Training Step: 254\n",
      "generator loss:1.0319505166423675\n",
      "-----------------------\n"
     ]
    },
    {
     "name": "stderr",
     "output_type": "stream",
     "text": [
      "\r",
      " 51%|█████     | 255/500 [03:37<03:28,  1.18it/s]"
     ]
    },
    {
     "name": "stdout",
     "output_type": "stream",
     "text": [
      "total discriminator loss:0.3539956939010703\n",
      "average true return:0.49787094571588475\n",
      "-----------------------\n",
      "Training Step: 255\n",
      "generator loss:1.0392143054993361\n",
      "-----------------------\n"
     ]
    },
    {
     "name": "stderr",
     "output_type": "stream",
     "text": [
      "\r",
      " 51%|█████     | 256/500 [03:38<03:25,  1.19it/s]"
     ]
    },
    {
     "name": "stdout",
     "output_type": "stream",
     "text": [
      "total discriminator loss:0.3244514206981962\n",
      "average true return:0.4981797058510726\n",
      "-----------------------\n",
      "Training Step: 256\n",
      "generator loss:1.040365645587725\n",
      "-----------------------\n"
     ]
    },
    {
     "name": "stderr",
     "output_type": "stream",
     "text": [
      "\r",
      " 51%|█████▏    | 257/500 [03:39<03:22,  1.20it/s]"
     ]
    },
    {
     "name": "stdout",
     "output_type": "stream",
     "text": [
      "total discriminator loss:0.3464390895923861\n",
      "average true return:0.4974467996502614\n",
      "-----------------------\n",
      "Training Step: 257\n",
      "generator loss:1.0480139073050954\n",
      "-----------------------\n"
     ]
    },
    {
     "name": "stderr",
     "output_type": "stream",
     "text": [
      "\r",
      " 52%|█████▏    | 258/500 [03:40<03:20,  1.20it/s]"
     ]
    },
    {
     "name": "stdout",
     "output_type": "stream",
     "text": [
      "total discriminator loss:0.3438214021204698\n",
      "average true return:0.49721651786980403\n",
      "-----------------------\n",
      "Training Step: 258\n",
      "generator loss:1.0553043368884398\n",
      "-----------------------\n"
     ]
    },
    {
     "name": "stderr",
     "output_type": "stream",
     "text": [
      "\r",
      " 52%|█████▏    | 259/500 [03:41<03:19,  1.21it/s]"
     ]
    },
    {
     "name": "stdout",
     "output_type": "stream",
     "text": [
      "total discriminator loss:0.32687861586907996\n",
      "average true return:0.49682074004157556\n",
      "-----------------------\n",
      "Training Step: 259\n",
      "generator loss:1.0599630745317938\n",
      "-----------------------\n"
     ]
    },
    {
     "name": "stderr",
     "output_type": "stream",
     "text": [
      "\r",
      " 52%|█████▏    | 260/500 [03:41<03:17,  1.21it/s]"
     ]
    },
    {
     "name": "stdout",
     "output_type": "stream",
     "text": [
      "total discriminator loss:0.32336711473725754\n",
      "average true return:0.4969723250055038\n",
      "-----------------------\n",
      "Training Step: 260\n",
      "generator loss:1.068695659950495\n",
      "-----------------------\n"
     ]
    },
    {
     "name": "stderr",
     "output_type": "stream",
     "text": [
      "\r",
      " 52%|█████▏    | 261/500 [03:42<03:16,  1.22it/s]"
     ]
    },
    {
     "name": "stdout",
     "output_type": "stream",
     "text": [
      "total discriminator loss:0.3402457951321633\n",
      "average true return:0.49725538757124643\n",
      "-----------------------\n",
      "Training Step: 261\n",
      "generator loss:1.0702150949316453\n",
      "-----------------------\n"
     ]
    },
    {
     "name": "stderr",
     "output_type": "stream",
     "text": [
      "\r",
      " 52%|█████▏    | 262/500 [03:43<03:15,  1.22it/s]"
     ]
    },
    {
     "name": "stdout",
     "output_type": "stream",
     "text": [
      "total discriminator loss:0.35644373776530186\n",
      "average true return:0.49646330571815395\n",
      "-----------------------\n",
      "Training Step: 262\n",
      "generator loss:1.0741965544832515\n",
      "-----------------------\n"
     ]
    },
    {
     "name": "stderr",
     "output_type": "stream",
     "text": [
      "\r",
      " 53%|█████▎    | 263/500 [03:44<03:15,  1.21it/s]"
     ]
    },
    {
     "name": "stdout",
     "output_type": "stream",
     "text": [
      "total discriminator loss:0.3388438970324883\n",
      "average true return:0.49751785847606433\n",
      "-----------------------\n",
      "Training Step: 263\n",
      "generator loss:1.0756837801236787\n",
      "-----------------------\n"
     ]
    },
    {
     "name": "stderr",
     "output_type": "stream",
     "text": [
      "\r",
      " 53%|█████▎    | 264/500 [03:45<03:14,  1.22it/s]"
     ]
    },
    {
     "name": "stdout",
     "output_type": "stream",
     "text": [
      "total discriminator loss:0.3086711245404573\n",
      "average true return:0.497169398316616\n",
      "-----------------------\n",
      "Training Step: 264\n",
      "generator loss:1.0832850917893153\n",
      "-----------------------\n"
     ]
    },
    {
     "name": "stderr",
     "output_type": "stream",
     "text": [
      "\r",
      " 53%|█████▎    | 265/500 [03:45<03:12,  1.22it/s]"
     ]
    },
    {
     "name": "stdout",
     "output_type": "stream",
     "text": [
      "total discriminator loss:0.3234676334404571\n",
      "average true return:0.4972422527457484\n",
      "-----------------------\n",
      "Training Step: 265\n",
      "generator loss:1.0921989087799076\n",
      "-----------------------\n"
     ]
    },
    {
     "name": "stderr",
     "output_type": "stream",
     "text": [
      "\r",
      " 53%|█████▎    | 266/500 [03:46<03:12,  1.22it/s]"
     ]
    },
    {
     "name": "stdout",
     "output_type": "stream",
     "text": [
      "total discriminator loss:0.3266900980368542\n",
      "average true return:0.4976876791064214\n",
      "-----------------------\n",
      "Training Step: 266\n",
      "generator loss:1.0976932117089149\n",
      "-----------------------\n"
     ]
    },
    {
     "name": "stderr",
     "output_type": "stream",
     "text": [
      "\r",
      " 53%|█████▎    | 267/500 [03:47<03:17,  1.18it/s]"
     ]
    },
    {
     "name": "stdout",
     "output_type": "stream",
     "text": [
      "total discriminator loss:0.32279474447578804\n",
      "average true return:0.49705814857024344\n",
      "-----------------------\n",
      "Training Step: 267\n",
      "generator loss:1.1038593273871669\n",
      "-----------------------\n"
     ]
    },
    {
     "name": "stderr",
     "output_type": "stream",
     "text": [
      "\r",
      " 54%|█████▎    | 268/500 [03:48<03:14,  1.19it/s]"
     ]
    },
    {
     "name": "stdout",
     "output_type": "stream",
     "text": [
      "total discriminator loss:0.3491984826443614\n",
      "average true return:0.49733059352147485\n",
      "-----------------------\n",
      "Training Step: 268\n",
      "generator loss:1.1077867822875558\n",
      "-----------------------\n"
     ]
    },
    {
     "name": "stderr",
     "output_type": "stream",
     "text": [
      "\r",
      " 54%|█████▍    | 269/500 [03:49<03:11,  1.20it/s]"
     ]
    },
    {
     "name": "stdout",
     "output_type": "stream",
     "text": [
      "total discriminator loss:0.3308234831195042\n",
      "average true return:0.4962627156888536\n",
      "-----------------------\n",
      "Training Step: 269\n",
      "generator loss:1.1171391314763373\n",
      "-----------------------\n"
     ]
    },
    {
     "name": "stderr",
     "output_type": "stream",
     "text": [
      "\r",
      " 54%|█████▍    | 270/500 [03:50<03:10,  1.21it/s]"
     ]
    },
    {
     "name": "stdout",
     "output_type": "stream",
     "text": [
      "total discriminator loss:1.8788939708647134\n",
      "average true return:0.49640744558439126\n",
      "-----------------------\n",
      "Training Step: 270\n",
      "generator loss:1.1099325929973207\n",
      "-----------------------\n"
     ]
    },
    {
     "name": "stderr",
     "output_type": "stream",
     "text": [
      "\r",
      " 54%|█████▍    | 271/500 [03:50<03:09,  1.21it/s]"
     ]
    },
    {
     "name": "stdout",
     "output_type": "stream",
     "text": [
      "total discriminator loss:0.3347511223477654\n",
      "average true return:0.496406858536416\n",
      "-----------------------\n",
      "Training Step: 271\n",
      "generator loss:1.101256936633896\n",
      "-----------------------\n"
     ]
    },
    {
     "name": "stderr",
     "output_type": "stream",
     "text": [
      "\r",
      " 54%|█████▍    | 272/500 [03:51<03:07,  1.21it/s]"
     ]
    },
    {
     "name": "stdout",
     "output_type": "stream",
     "text": [
      "total discriminator loss:0.3414480583637708\n",
      "average true return:0.49737019290237716\n",
      "-----------------------\n",
      "Training Step: 272\n",
      "generator loss:1.0903924956277256\n",
      "-----------------------\n"
     ]
    },
    {
     "name": "stderr",
     "output_type": "stream",
     "text": [
      "\r",
      " 55%|█████▍    | 273/500 [03:52<03:06,  1.21it/s]"
     ]
    },
    {
     "name": "stdout",
     "output_type": "stream",
     "text": [
      "total discriminator loss:0.3485781079255241\n",
      "average true return:0.4978007885014307\n",
      "-----------------------\n",
      "Training Step: 273\n",
      "generator loss:1.0833314180045568\n",
      "-----------------------\n"
     ]
    },
    {
     "name": "stderr",
     "output_type": "stream",
     "text": [
      "\r",
      " 55%|█████▍    | 274/500 [03:53<03:06,  1.21it/s]"
     ]
    },
    {
     "name": "stdout",
     "output_type": "stream",
     "text": [
      "total discriminator loss:0.3335159888272856\n",
      "average true return:0.49864751298384064\n",
      "-----------------------\n",
      "Training Step: 274\n",
      "generator loss:1.0789967932609072\n",
      "-----------------------\n"
     ]
    },
    {
     "name": "stderr",
     "output_type": "stream",
     "text": [
      "\r",
      " 55%|█████▌    | 275/500 [03:54<03:05,  1.22it/s]"
     ]
    },
    {
     "name": "stdout",
     "output_type": "stream",
     "text": [
      "total discriminator loss:0.32374517556857585\n",
      "average true return:0.49918970235366333\n",
      "-----------------------\n",
      "Training Step: 275\n",
      "generator loss:1.0747560091320594\n",
      "-----------------------\n",
      "total discriminator loss:1.8151752638803424\n",
      "average true return:0.49964750793025803\n",
      "-----------------------\n",
      "tf.Tensor([[0 1 2 2 0 2 1 2 0 2 2 2 0 0 2 2 2 2 0 0]], shape=(1, 20), dtype=int64)\n"
     ]
    },
    {
     "data": {
      "image/png": "[encoded data removed]",
      "text/plain": [
       "<Figure size 432x288 with 1 Axes>"
      ]
     },
     "metadata": {
      "needs_background": "light"
     },
     "output_type": "display_data"
    },
    {
     "name": "stderr",
     "output_type": "stream",
     "text": [
      "\r",
      " 55%|█████▌    | 276/500 [03:55<03:24,  1.09it/s]"
     ]
    },
    {
     "name": "stdout",
     "output_type": "stream",
     "text": [
      "Training Step: 276\n",
      "generator loss:1.0614007142371957\n",
      "-----------------------\n"
     ]
    },
    {
     "name": "stderr",
     "output_type": "stream",
     "text": [
      "\r",
      " 55%|█████▌    | 277/500 [03:56<03:18,  1.13it/s]"
     ]
    },
    {
     "name": "stdout",
     "output_type": "stream",
     "text": [
      "total discriminator loss:0.32773734900762486\n",
      "average true return:0.5003139877589512\n",
      "-----------------------\n",
      "Training Step: 277\n",
      "generator loss:1.0391748169796458\n",
      "-----------------------\n"
     ]
    },
    {
     "name": "stderr",
     "output_type": "stream",
     "text": [
      "\r",
      " 56%|█████▌    | 278/500 [03:57<03:13,  1.15it/s]"
     ]
    },
    {
     "name": "stdout",
     "output_type": "stream",
     "text": [
      "total discriminator loss:0.3130492138083705\n",
      "average true return:0.5019701678843553\n",
      "-----------------------\n",
      "Training Step: 278\n",
      "generator loss:1.0235837096761282\n",
      "-----------------------\n"
     ]
    },
    {
     "name": "stderr",
     "output_type": "stream",
     "text": [
      "\r",
      " 56%|█████▌    | 279/500 [03:57<03:08,  1.17it/s]"
     ]
    },
    {
     "name": "stdout",
     "output_type": "stream",
     "text": [
      "total discriminator loss:0.358021588561966\n",
      "average true return:0.503223838860035\n",
      "-----------------------\n",
      "Training Step: 279\n",
      "generator loss:1.011201967771954\n",
      "-----------------------\n"
     ]
    },
    {
     "name": "stderr",
     "output_type": "stream",
     "text": [
      "\r",
      " 56%|█████▌    | 280/500 [03:58<03:05,  1.18it/s]"
     ]
    },
    {
     "name": "stdout",
     "output_type": "stream",
     "text": [
      "total discriminator loss:0.3461078603701515\n",
      "average true return:0.5041164568337384\n",
      "-----------------------\n",
      "Training Step: 280\n",
      "generator loss:0.9988805838906857\n",
      "-----------------------\n"
     ]
    },
    {
     "name": "stderr",
     "output_type": "stream",
     "text": [
      "\r",
      " 56%|█████▌    | 281/500 [03:59<03:03,  1.19it/s]"
     ]
    },
    {
     "name": "stdout",
     "output_type": "stream",
     "text": [
      "total discriminator loss:0.33724463102322544\n",
      "average true return:0.5052567105705208\n",
      "-----------------------\n",
      "Training Step: 281\n",
      "generator loss:0.9912121898638584\n",
      "-----------------------\n"
     ]
    },
    {
     "name": "stderr",
     "output_type": "stream",
     "text": [
      "\r",
      " 56%|█████▋    | 282/500 [04:00<03:00,  1.20it/s]"
     ]
    },
    {
     "name": "stdout",
     "output_type": "stream",
     "text": [
      "total discriminator loss:0.32661634933373745\n",
      "average true return:0.5061815366988599\n",
      "-----------------------\n",
      "Training Step: 282\n",
      "generator loss:0.9791150390608673\n",
      "-----------------------\n"
     ]
    },
    {
     "name": "stderr",
     "output_type": "stream",
     "text": [
      "\r",
      " 57%|█████▋    | 283/500 [04:01<02:59,  1.21it/s]"
     ]
    },
    {
     "name": "stdout",
     "output_type": "stream",
     "text": [
      "total discriminator loss:0.34034586823952745\n",
      "average true return:0.509015211660299\n",
      "-----------------------\n",
      "Training Step: 283\n",
      "generator loss:0.9670102307968802\n",
      "-----------------------\n"
     ]
    },
    {
     "name": "stderr",
     "output_type": "stream",
     "text": [
      "\r",
      " 57%|█████▋    | 284/500 [04:01<02:57,  1.22it/s]"
     ]
    },
    {
     "name": "stdout",
     "output_type": "stream",
     "text": [
      "total discriminator loss:0.3394703203340331\n",
      "average true return:0.5125261201627274\n",
      "-----------------------\n",
      "Training Step: 284\n",
      "generator loss:0.9455808992047486\n",
      "-----------------------\n"
     ]
    },
    {
     "name": "stderr",
     "output_type": "stream",
     "text": [
      "\r",
      " 57%|█████▋    | 285/500 [04:02<02:56,  1.22it/s]"
     ]
    },
    {
     "name": "stdout",
     "output_type": "stream",
     "text": [
      "total discriminator loss:1.6225910868099358\n",
      "average true return:0.5231982254121912\n",
      "-----------------------\n",
      "Training Step: 285\n",
      "generator loss:0.802517625920796\n",
      "-----------------------\n"
     ]
    },
    {
     "name": "stderr",
     "output_type": "stream",
     "text": [
      "\r",
      " 57%|█████▋    | 286/500 [04:03<02:55,  1.22it/s]"
     ]
    },
    {
     "name": "stdout",
     "output_type": "stream",
     "text": [
      "total discriminator loss:0.558375863117416\n",
      "average true return:0.6433321464250233\n",
      "-----------------------\n",
      "Training Step: 286\n",
      "generator loss:0.3993332353569066\n",
      "-----------------------\n"
     ]
    },
    {
     "name": "stderr",
     "output_type": "stream",
     "text": [
      "\r",
      " 57%|█████▋    | 287/500 [04:04<03:00,  1.18it/s]"
     ]
    },
    {
     "name": "stdout",
     "output_type": "stream",
     "text": [
      "total discriminator loss:0.8717573932024757\n",
      "average true return:0.7891801499984621\n",
      "-----------------------\n",
      "Training Step: 287\n",
      "generator loss:0.23772168465273785\n",
      "-----------------------\n"
     ]
    },
    {
     "name": "stderr",
     "output_type": "stream",
     "text": [
      "\r",
      " 58%|█████▊    | 288/500 [04:05<02:58,  1.19it/s]"
     ]
    },
    {
     "name": "stdout",
     "output_type": "stream",
     "text": [
      "total discriminator loss:0.9224957623624143\n",
      "average true return:0.8009269099353569\n",
      "-----------------------\n",
      "Training Step: 288\n",
      "generator loss:0.3182653892451031\n",
      "-----------------------\n"
     ]
    },
    {
     "name": "stderr",
     "output_type": "stream",
     "text": [
      "\r",
      " 58%|█████▊    | 289/500 [04:06<02:55,  1.20it/s]"
     ]
    },
    {
     "name": "stdout",
     "output_type": "stream",
     "text": [
      "total discriminator loss:0.8166536482788757\n",
      "average true return:0.7669629366628234\n",
      "-----------------------\n",
      "Training Step: 289\n",
      "generator loss:0.42048142466072036\n",
      "-----------------------\n"
     ]
    },
    {
     "name": "stderr",
     "output_type": "stream",
     "text": [
      "\r",
      " 58%|█████▊    | 290/500 [04:06<02:54,  1.20it/s]"
     ]
    },
    {
     "name": "stdout",
     "output_type": "stream",
     "text": [
      "total discriminator loss:0.6607160487357406\n",
      "average true return:0.7009822689832759\n",
      "-----------------------\n",
      "Training Step: 290\n",
      "generator loss:0.6295527774408178\n",
      "-----------------------\n"
     ]
    },
    {
     "name": "stderr",
     "output_type": "stream",
     "text": [
      "\r",
      " 58%|█████▊    | 291/500 [04:07<02:54,  1.20it/s]"
     ]
    },
    {
     "name": "stdout",
     "output_type": "stream",
     "text": [
      "total discriminator loss:0.4212330974816083\n",
      "average true return:0.5044958326593817\n",
      "-----------------------\n",
      "Training Step: 291\n",
      "generator loss:1.7094367829335564\n",
      "-----------------------\n"
     ]
    },
    {
     "name": "stderr",
     "output_type": "stream",
     "text": [
      "\r",
      " 58%|█████▊    | 292/500 [04:08<02:52,  1.20it/s]"
     ]
    },
    {
     "name": "stdout",
     "output_type": "stream",
     "text": [
      "total discriminator loss:0.3701776029824998\n",
      "average true return:0.3874524352244082\n",
      "-----------------------\n",
      "Training Step: 292\n",
      "generator loss:1.90846122182257\n",
      "-----------------------\n"
     ]
    },
    {
     "name": "stderr",
     "output_type": "stream",
     "text": [
      "\r",
      " 59%|█████▊    | 293/500 [04:09<02:50,  1.21it/s]"
     ]
    },
    {
     "name": "stdout",
     "output_type": "stream",
     "text": [
      "total discriminator loss:1.153011775050457\n",
      "average true return:0.10456165628569716\n",
      "-----------------------\n",
      "Training Step: 293\n",
      "generator loss:2.7732378097733523\n",
      "-----------------------\n"
     ]
    },
    {
     "name": "stderr",
     "output_type": "stream",
     "text": [
      "\r",
      " 59%|█████▉    | 294/500 [04:10<02:49,  1.22it/s]"
     ]
    },
    {
     "name": "stdout",
     "output_type": "stream",
     "text": [
      "total discriminator loss:1.3809615706547111\n",
      "average true return:0.06392847443817778\n",
      "-----------------------\n",
      "Training Step: 294\n",
      "generator loss:2.77099295437981\n",
      "-----------------------\n"
     ]
    },
    {
     "name": "stderr",
     "output_type": "stream",
     "text": [
      "\r",
      " 59%|█████▉    | 295/500 [04:11<02:48,  1.22it/s]"
     ]
    },
    {
     "name": "stdout",
     "output_type": "stream",
     "text": [
      "total discriminator loss:1.3595544505678074\n",
      "average true return:0.06511777361813748\n",
      "-----------------------\n",
      "Training Step: 295\n",
      "generator loss:2.6912275764274183\n",
      "-----------------------\n"
     ]
    },
    {
     "name": "stderr",
     "output_type": "stream",
     "text": [
      "\r",
      " 59%|█████▉    | 296/500 [04:11<02:47,  1.22it/s]"
     ]
    },
    {
     "name": "stdout",
     "output_type": "stream",
     "text": [
      "total discriminator loss:1.3200834569576516\n",
      "average true return:0.07281063554584062\n",
      "-----------------------\n",
      "Training Step: 296\n",
      "generator loss:2.5652042403705986\n",
      "-----------------------\n"
     ]
    },
    {
     "name": "stderr",
     "output_type": "stream",
     "text": [
      "\r",
      " 59%|█████▉    | 297/500 [04:12<02:46,  1.22it/s]"
     ]
    },
    {
     "name": "stdout",
     "output_type": "stream",
     "text": [
      "total discriminator loss:1.2396417000889135\n",
      "average true return:0.084043782421245\n",
      "-----------------------\n",
      "Training Step: 297\n",
      "generator loss:2.423767680032192\n",
      "-----------------------\n"
     ]
    },
    {
     "name": "stderr",
     "output_type": "stream",
     "text": [
      "\r",
      " 60%|█████▉    | 298/500 [04:13<02:46,  1.22it/s]"
     ]
    },
    {
     "name": "stdout",
     "output_type": "stream",
     "text": [
      "total discriminator loss:1.138478263558219\n",
      "average true return:0.09959660374683307\n",
      "-----------------------\n",
      "Training Step: 298\n",
      "generator loss:2.267141044677958\n",
      "-----------------------\n"
     ]
    },
    {
     "name": "stderr",
     "output_type": "stream",
     "text": [
      "\r",
      " 60%|█████▉    | 299/500 [04:14<02:44,  1.22it/s]"
     ]
    },
    {
     "name": "stdout",
     "output_type": "stream",
     "text": [
      "total discriminator loss:1.07784864388155\n",
      "average true return:0.12085940611317329\n",
      "-----------------------\n",
      "Training Step: 299\n",
      "generator loss:2.1045396976701207\n",
      "-----------------------\n"
     ]
    },
    {
     "name": "stderr",
     "output_type": "stream",
     "text": [
      "\r",
      " 60%|██████    | 300/500 [04:15<02:43,  1.22it/s]"
     ]
    },
    {
     "name": "stdout",
     "output_type": "stream",
     "text": [
      "total discriminator loss:0.9842939753100319\n",
      "average true return:0.14645074266435426\n",
      "-----------------------\n",
      "Training Step: 300\n",
      "generator loss:1.9443709225617847\n",
      "-----------------------\n",
      "total discriminator loss:0.8674236273238352\n",
      "average true return:0.17843717196980782\n",
      "-----------------------\n",
      "tf.Tensor([[2 2 2 0 1 0 2 2 0 2 0 2 2 0 2 2 2 2 2 2]], shape=(1, 20), dtype=int64)\n"
     ]
    },
    {
     "data": {
      "image/png": "[encoded data removed]",
      "text/plain": [
       "<Figure size 432x288 with 1 Axes>"
      ]
     },
     "metadata": {
      "needs_background": "light"
     },
     "output_type": "display_data"
    },
    {
     "name": "stderr",
     "output_type": "stream",
     "text": [
      "\r",
      " 60%|██████    | 301/500 [04:16<03:05,  1.07it/s]"
     ]
    },
    {
     "name": "stdout",
     "output_type": "stream",
     "text": [
      "Training Step: 301\n",
      "generator loss:1.7949249624716144\n",
      "-----------------------\n"
     ]
    },
    {
     "name": "stderr",
     "output_type": "stream",
     "text": [
      "\r",
      " 60%|██████    | 302/500 [04:17<02:58,  1.11it/s]"
     ]
    },
    {
     "name": "stdout",
     "output_type": "stream",
     "text": [
      "total discriminator loss:1.0441693518479986\n",
      "average true return:0.21207484825818784\n",
      "-----------------------\n",
      "Training Step: 302\n",
      "generator loss:1.6230137234369961\n",
      "-----------------------\n"
     ]
    },
    {
     "name": "stderr",
     "output_type": "stream",
     "text": [
      "\r",
      " 61%|██████    | 303/500 [04:18<02:53,  1.14it/s]"
     ]
    },
    {
     "name": "stdout",
     "output_type": "stream",
     "text": [
      "total discriminator loss:0.7091040846519914\n",
      "average true return:0.25657612692969933\n",
      "-----------------------\n",
      "Training Step: 303\n",
      "generator loss:1.4573320727804435\n",
      "-----------------------\n"
     ]
    },
    {
     "name": "stderr",
     "output_type": "stream",
     "text": [
      "\r",
      " 61%|██████    | 304/500 [04:18<02:48,  1.16it/s]"
     ]
    },
    {
     "name": "stdout",
     "output_type": "stream",
     "text": [
      "total discriminator loss:0.6622048044381664\n",
      "average true return:0.30271942653185663\n",
      "-----------------------\n",
      "Training Step: 304\n",
      "generator loss:1.3144324353655528\n",
      "-----------------------\n"
     ]
    },
    {
     "name": "stderr",
     "output_type": "stream",
     "text": [
      "\r",
      " 61%|██████    | 305/500 [04:19<02:45,  1.18it/s]"
     ]
    },
    {
     "name": "stdout",
     "output_type": "stream",
     "text": [
      "total discriminator loss:0.5816181800379978\n",
      "average true return:0.3568737897619405\n",
      "-----------------------\n",
      "Training Step: 305\n",
      "generator loss:1.1550799113434853\n",
      "-----------------------\n"
     ]
    },
    {
     "name": "stderr",
     "output_type": "stream",
     "text": [
      "\r",
      " 61%|██████    | 306/500 [04:20<02:42,  1.19it/s]"
     ]
    },
    {
     "name": "stdout",
     "output_type": "stream",
     "text": [
      "total discriminator loss:0.5172952121607353\n",
      "average true return:0.43497370135204566\n",
      "-----------------------\n",
      "Training Step: 306\n",
      "generator loss:0.9819250393781688\n",
      "-----------------------\n"
     ]
    },
    {
     "name": "stderr",
     "output_type": "stream",
     "text": [
      "\r",
      " 61%|██████▏   | 307/500 [04:21<02:40,  1.20it/s]"
     ]
    },
    {
     "name": "stdout",
     "output_type": "stream",
     "text": [
      "total discriminator loss:0.4234474953747003\n",
      "average true return:0.5394691121154442\n",
      "-----------------------\n",
      "Training Step: 307\n",
      "generator loss:0.8267455999949818\n",
      "-----------------------\n"
     ]
    },
    {
     "name": "stderr",
     "output_type": "stream",
     "text": [
      "\r",
      " 62%|██████▏   | 308/500 [04:22<02:39,  1.21it/s]"
     ]
    },
    {
     "name": "stdout",
     "output_type": "stream",
     "text": [
      "total discriminator loss:0.41236518708081793\n",
      "average true return:0.597826752614248\n",
      "-----------------------\n",
      "Training Step: 308\n",
      "generator loss:0.7520936519626067\n",
      "-----------------------\n"
     ]
    },
    {
     "name": "stderr",
     "output_type": "stream",
     "text": [
      "\r",
      " 62%|██████▏   | 309/500 [04:22<02:37,  1.21it/s]"
     ]
    },
    {
     "name": "stdout",
     "output_type": "stream",
     "text": [
      "total discriminator loss:0.43936467113021127\n",
      "average true return:0.6210679315202521\n",
      "-----------------------\n",
      "Training Step: 309\n",
      "generator loss:0.7093937240334003\n",
      "-----------------------\n"
     ]
    },
    {
     "name": "stderr",
     "output_type": "stream",
     "text": [
      "\r",
      " 62%|██████▏   | 310/500 [04:23<02:36,  1.21it/s]"
     ]
    },
    {
     "name": "stdout",
     "output_type": "stream",
     "text": [
      "total discriminator loss:0.4566575058809166\n",
      "average true return:0.6361308362504727\n",
      "-----------------------\n",
      "Training Step: 310\n",
      "generator loss:0.6913452565902127\n",
      "-----------------------\n"
     ]
    },
    {
     "name": "stderr",
     "output_type": "stream",
     "text": [
      "\r",
      " 62%|██████▏   | 311/500 [04:24<02:35,  1.21it/s]"
     ]
    },
    {
     "name": "stdout",
     "output_type": "stream",
     "text": [
      "total discriminator loss:0.4521310930256058\n",
      "average true return:0.6424764009308132\n",
      "-----------------------\n",
      "Training Step: 311\n",
      "generator loss:0.6902455661669122\n",
      "-----------------------\n"
     ]
    },
    {
     "name": "stderr",
     "output_type": "stream",
     "text": [
      "\r",
      " 62%|██████▏   | 312/500 [04:25<02:34,  1.22it/s]"
     ]
    },
    {
     "name": "stdout",
     "output_type": "stream",
     "text": [
      "total discriminator loss:0.4421553863027089\n",
      "average true return:0.643336617594396\n",
      "-----------------------\n",
      "Training Step: 312\n",
      "generator loss:0.699303428623436\n",
      "-----------------------\n"
     ]
    },
    {
     "name": "stderr",
     "output_type": "stream",
     "text": [
      "\r",
      " 63%|██████▎   | 313/500 [04:26<02:34,  1.21it/s]"
     ]
    },
    {
     "name": "stdout",
     "output_type": "stream",
     "text": [
      "total discriminator loss:0.4197355003701356\n",
      "average true return:0.640856072384453\n",
      "-----------------------\n",
      "Training Step: 313\n",
      "generator loss:0.7090338135700375\n",
      "-----------------------\n"
     ]
    },
    {
     "name": "stderr",
     "output_type": "stream",
     "text": [
      "\r",
      " 63%|██████▎   | 314/500 [04:27<02:33,  1.21it/s]"
     ]
    },
    {
     "name": "stdout",
     "output_type": "stream",
     "text": [
      "total discriminator loss:1.3771988750743254\n",
      "average true return:0.639078797388329\n",
      "-----------------------\n",
      "Training Step: 314\n",
      "generator loss:0.697264732631388\n",
      "-----------------------\n"
     ]
    },
    {
     "name": "stderr",
     "output_type": "stream",
     "text": [
      "\r",
      " 63%|██████▎   | 315/500 [04:27<02:32,  1.22it/s]"
     ]
    },
    {
     "name": "stdout",
     "output_type": "stream",
     "text": [
      "total discriminator loss:0.4455092914741703\n",
      "average true return:0.6406443685922336\n",
      "-----------------------\n",
      "Training Step: 315\n",
      "generator loss:0.6958561047220854\n",
      "-----------------------\n"
     ]
    },
    {
     "name": "stderr",
     "output_type": "stream",
     "text": [
      "\r",
      " 63%|██████▎   | 316/500 [04:28<02:31,  1.22it/s]"
     ]
    },
    {
     "name": "stdout",
     "output_type": "stream",
     "text": [
      "total discriminator loss:0.44147620695821405\n",
      "average true return:0.6391943375884864\n",
      "-----------------------\n",
      "Training Step: 316\n",
      "generator loss:0.6955602305236767\n",
      "-----------------------\n"
     ]
    },
    {
     "name": "stderr",
     "output_type": "stream",
     "text": [
      "\r",
      " 63%|██████▎   | 317/500 [04:29<02:29,  1.22it/s]"
     ]
    },
    {
     "name": "stdout",
     "output_type": "stream",
     "text": [
      "total discriminator loss:0.45257099178254073\n",
      "average true return:0.6368598849728814\n",
      "-----------------------\n",
      "Training Step: 317\n",
      "generator loss:0.7003025694191788\n",
      "-----------------------\n"
     ]
    },
    {
     "name": "stderr",
     "output_type": "stream",
     "text": [
      "\r",
      " 64%|██████▎   | 318/500 [04:30<02:29,  1.22it/s]"
     ]
    },
    {
     "name": "stdout",
     "output_type": "stream",
     "text": [
      "total discriminator loss:0.46398611937100454\n",
      "average true return:0.6325823771139303\n",
      "-----------------------\n",
      "Training Step: 318\n",
      "generator loss:0.7074991650161994\n",
      "-----------------------\n"
     ]
    },
    {
     "name": "stderr",
     "output_type": "stream",
     "text": [
      "\r",
      " 64%|██████▍   | 319/500 [04:31<02:28,  1.22it/s]"
     ]
    },
    {
     "name": "stdout",
     "output_type": "stream",
     "text": [
      "total discriminator loss:0.4251107652330926\n",
      "average true return:0.6267099148706672\n",
      "-----------------------\n",
      "Training Step: 319\n",
      "generator loss:0.7185591374201472\n",
      "-----------------------\n"
     ]
    },
    {
     "name": "stderr",
     "output_type": "stream",
     "text": [
      "\r",
      " 64%|██████▍   | 320/500 [04:31<02:27,  1.22it/s]"
     ]
    },
    {
     "name": "stdout",
     "output_type": "stream",
     "text": [
      "total discriminator loss:0.4329465558793372\n",
      "average true return:0.6208497129213375\n",
      "-----------------------\n",
      "Training Step: 320\n",
      "generator loss:0.7277790734467559\n",
      "-----------------------\n"
     ]
    },
    {
     "name": "stderr",
     "output_type": "stream",
     "text": [
      "\r",
      " 64%|██████▍   | 321/500 [04:32<02:27,  1.22it/s]"
     ]
    },
    {
     "name": "stdout",
     "output_type": "stream",
     "text": [
      "total discriminator loss:0.43119497112438343\n",
      "average true return:0.615373230763967\n",
      "-----------------------\n",
      "Training Step: 321\n",
      "generator loss:0.7363229657605694\n",
      "-----------------------\n"
     ]
    },
    {
     "name": "stderr",
     "output_type": "stream",
     "text": [
      "\r",
      " 64%|██████▍   | 322/500 [04:33<02:26,  1.22it/s]"
     ]
    },
    {
     "name": "stdout",
     "output_type": "stream",
     "text": [
      "total discriminator loss:0.4341011790666669\n",
      "average true return:0.6037417463267742\n",
      "-----------------------\n",
      "Training Step: 322\n",
      "generator loss:0.7471109651001755\n",
      "-----------------------\n"
     ]
    },
    {
     "name": "stderr",
     "output_type": "stream",
     "text": [
      "\r",
      " 65%|██████▍   | 323/500 [04:34<02:25,  1.22it/s]"
     ]
    },
    {
     "name": "stdout",
     "output_type": "stream",
     "text": [
      "total discriminator loss:0.4267081563435161\n",
      "average true return:0.5957587201596255\n",
      "-----------------------\n",
      "Training Step: 323\n",
      "generator loss:0.7544511089373376\n",
      "-----------------------\n"
     ]
    },
    {
     "name": "stderr",
     "output_type": "stream",
     "text": [
      "\r",
      " 65%|██████▍   | 324/500 [04:35<02:24,  1.21it/s]"
     ]
    },
    {
     "name": "stdout",
     "output_type": "stream",
     "text": [
      "total discriminator loss:0.43818462344667536\n",
      "average true return:0.5892315018253363\n",
      "-----------------------\n",
      "Training Step: 324\n",
      "generator loss:0.7613282508367334\n",
      "-----------------------\n"
     ]
    },
    {
     "name": "stderr",
     "output_type": "stream",
     "text": [
      "\r",
      " 65%|██████▌   | 325/500 [04:36<02:24,  1.21it/s]"
     ]
    },
    {
     "name": "stdout",
     "output_type": "stream",
     "text": [
      "total discriminator loss:0.44553321477611413\n",
      "average true return:0.5847354399635865\n",
      "-----------------------\n",
      "Training Step: 325\n",
      "generator loss:0.7572298789505323\n",
      "-----------------------\n",
      "total discriminator loss:0.4491757635921122\n",
      "average true return:0.5805345102767983\n",
      "-----------------------\n",
      "tf.Tensor([[0 2 2 2 2 2 2 2 2 2 2 2 2 2 2 2 2 2 2 2]], shape=(1, 20), dtype=int64)\n"
     ]
    },
    {
     "data": {
      "image/png": "[encoded data removed]",
      "text/plain": [
       "<Figure size 432x288 with 1 Axes>"
      ]
     },
     "metadata": {
      "needs_background": "light"
     },
     "output_type": "display_data"
    },
    {
     "name": "stderr",
     "output_type": "stream",
     "text": [
      "\r",
      " 65%|██████▌   | 326/500 [04:37<02:40,  1.08it/s]"
     ]
    },
    {
     "name": "stdout",
     "output_type": "stream",
     "text": [
      "Training Step: 326\n",
      "generator loss:0.7425344789579884\n",
      "-----------------------\n"
     ]
    },
    {
     "name": "stderr",
     "output_type": "stream",
     "text": [
      "\r",
      " 65%|██████▌   | 327/500 [04:38<02:34,  1.12it/s]"
     ]
    },
    {
     "name": "stdout",
     "output_type": "stream",
     "text": [
      "total discriminator loss:0.4622883851417656\n",
      "average true return:0.5883855405457734\n",
      "-----------------------\n",
      "Training Step: 327\n",
      "generator loss:0.6523406761791366\n",
      "-----------------------\n"
     ]
    },
    {
     "name": "stderr",
     "output_type": "stream",
     "text": [
      "\r",
      " 66%|██████▌   | 328/500 [04:38<02:29,  1.15it/s]"
     ]
    },
    {
     "name": "stdout",
     "output_type": "stream",
     "text": [
      "total discriminator loss:0.5901330240833262\n",
      "average true return:0.6523717747699485\n",
      "-----------------------\n",
      "Training Step: 328\n",
      "generator loss:0.405601397478598\n",
      "-----------------------\n"
     ]
    },
    {
     "name": "stderr",
     "output_type": "stream",
     "text": [
      "\r",
      " 66%|██████▌   | 329/500 [04:39<02:26,  1.17it/s]"
     ]
    },
    {
     "name": "stdout",
     "output_type": "stream",
     "text": [
      "total discriminator loss:0.8001535035529168\n",
      "average true return:0.7484945663451512\n",
      "-----------------------\n",
      "Training Step: 329\n",
      "generator loss:0.3617754719445414\n",
      "-----------------------\n"
     ]
    },
    {
     "name": "stderr",
     "output_type": "stream",
     "text": [
      "\r",
      " 66%|██████▌   | 330/500 [04:40<02:23,  1.18it/s]"
     ]
    },
    {
     "name": "stdout",
     "output_type": "stream",
     "text": [
      "total discriminator loss:0.817947353085344\n",
      "average true return:0.7269984528423885\n",
      "-----------------------\n",
      "Training Step: 330\n",
      "generator loss:0.39344151285662865\n",
      "-----------------------\n"
     ]
    },
    {
     "name": "stderr",
     "output_type": "stream",
     "text": [
      "\r",
      " 66%|██████▌   | 331/500 [04:41<02:21,  1.19it/s]"
     ]
    },
    {
     "name": "stdout",
     "output_type": "stream",
     "text": [
      "total discriminator loss:0.772336498673253\n",
      "average true return:0.6914630915342673\n",
      "-----------------------\n",
      "Training Step: 331\n",
      "generator loss:0.49424745409020254\n",
      "-----------------------\n"
     ]
    },
    {
     "name": "stderr",
     "output_type": "stream",
     "text": [
      "\r",
      " 66%|██████▋   | 332/500 [04:42<02:20,  1.20it/s]"
     ]
    },
    {
     "name": "stdout",
     "output_type": "stream",
     "text": [
      "total discriminator loss:0.4553938247882001\n",
      "average true return:0.4802853948533402\n",
      "-----------------------\n",
      "Training Step: 332\n",
      "generator loss:1.303796975051224\n",
      "-----------------------\n"
     ]
    },
    {
     "name": "stderr",
     "output_type": "stream",
     "text": [
      "\r",
      " 67%|██████▋   | 333/500 [04:42<02:18,  1.20it/s]"
     ]
    },
    {
     "name": "stdout",
     "output_type": "stream",
     "text": [
      "total discriminator loss:0.5906630775469703\n",
      "average true return:0.29258744759842104\n",
      "-----------------------\n",
      "Training Step: 333\n",
      "generator loss:1.919727554425835\n",
      "-----------------------\n"
     ]
    },
    {
     "name": "stderr",
     "output_type": "stream",
     "text": [
      "\r",
      " 67%|██████▋   | 334/500 [04:43<02:16,  1.21it/s]"
     ]
    },
    {
     "name": "stdout",
     "output_type": "stream",
     "text": [
      "total discriminator loss:0.9989076771104922\n",
      "average true return:0.16732468333090178\n",
      "-----------------------\n",
      "Training Step: 334\n",
      "generator loss:1.7261664381503885\n",
      "-----------------------\n"
     ]
    },
    {
     "name": "stderr",
     "output_type": "stream",
     "text": [
      "\r",
      " 67%|██████▋   | 335/500 [04:44<02:15,  1.22it/s]"
     ]
    },
    {
     "name": "stdout",
     "output_type": "stream",
     "text": [
      "total discriminator loss:0.9501400280806229\n",
      "average true return:0.18988527662927696\n",
      "-----------------------\n",
      "Training Step: 335\n",
      "generator loss:1.600618183502069\n",
      "-----------------------\n"
     ]
    },
    {
     "name": "stderr",
     "output_type": "stream",
     "text": [
      "\r",
      " 67%|██████▋   | 336/500 [04:45<02:14,  1.22it/s]"
     ]
    },
    {
     "name": "stdout",
     "output_type": "stream",
     "text": [
      "total discriminator loss:0.8561572973797382\n",
      "average true return:0.2537356746265903\n",
      "-----------------------\n",
      "Training Step: 336\n",
      "generator loss:1.6757012158436595\n",
      "-----------------------\n"
     ]
    },
    {
     "name": "stderr",
     "output_type": "stream",
     "text": [
      "\r",
      " 67%|██████▋   | 337/500 [04:46<02:13,  1.22it/s]"
     ]
    },
    {
     "name": "stdout",
     "output_type": "stream",
     "text": [
      "total discriminator loss:0.8000925246640597\n",
      "average true return:0.3394253670914128\n",
      "-----------------------\n",
      "Training Step: 337\n",
      "generator loss:1.6733774206574787\n",
      "-----------------------\n"
     ]
    },
    {
     "name": "stderr",
     "output_type": "stream",
     "text": [
      "\r",
      " 68%|██████▊   | 338/500 [04:47<02:12,  1.22it/s]"
     ]
    },
    {
     "name": "stdout",
     "output_type": "stream",
     "text": [
      "total discriminator loss:0.7039664361628852\n",
      "average true return:0.35919543234030016\n",
      "-----------------------\n",
      "Training Step: 338\n",
      "generator loss:1.4981385153670987\n",
      "-----------------------\n"
     ]
    },
    {
     "name": "stderr",
     "output_type": "stream",
     "text": [
      "\r",
      " 68%|██████▊   | 339/500 [04:47<02:11,  1.22it/s]"
     ]
    },
    {
     "name": "stdout",
     "output_type": "stream",
     "text": [
      "total discriminator loss:0.6047531231683592\n",
      "average true return:0.3375110840923432\n",
      "-----------------------\n",
      "Training Step: 339\n",
      "generator loss:1.3173260257668926\n",
      "-----------------------\n"
     ]
    },
    {
     "name": "stderr",
     "output_type": "stream",
     "text": [
      "\r",
      " 68%|██████▊   | 340/500 [04:48<02:10,  1.22it/s]"
     ]
    },
    {
     "name": "stdout",
     "output_type": "stream",
     "text": [
      "total discriminator loss:0.6201452881517833\n",
      "average true return:0.30746285795649947\n",
      "-----------------------\n",
      "Training Step: 340\n",
      "generator loss:1.143988842745681\n",
      "-----------------------\n"
     ]
    },
    {
     "name": "stderr",
     "output_type": "stream",
     "text": [
      "\r",
      " 68%|██████▊   | 341/500 [04:49<02:09,  1.22it/s]"
     ]
    },
    {
     "name": "stdout",
     "output_type": "stream",
     "text": [
      "total discriminator loss:0.9157261067897856\n",
      "average true return:0.3176786724217885\n",
      "-----------------------\n",
      "Training Step: 341\n",
      "generator loss:1.1627195235529393\n",
      "-----------------------\n"
     ]
    },
    {
     "name": "stderr",
     "output_type": "stream",
     "text": [
      "\r",
      " 68%|██████▊   | 342/500 [04:50<02:09,  1.22it/s]"
     ]
    },
    {
     "name": "stdout",
     "output_type": "stream",
     "text": [
      "total discriminator loss:0.8921682682114183\n",
      "average true return:0.37024854153960207\n",
      "-----------------------\n",
      "Training Step: 342\n",
      "generator loss:1.1603153863008524\n",
      "-----------------------\n"
     ]
    },
    {
     "name": "stderr",
     "output_type": "stream",
     "text": [
      "\r",
      " 69%|██████▊   | 343/500 [04:51<02:08,  1.22it/s]"
     ]
    },
    {
     "name": "stdout",
     "output_type": "stream",
     "text": [
      "total discriminator loss:0.6004179973415602\n",
      "average true return:0.40825024684685374\n",
      "-----------------------\n",
      "Training Step: 343\n",
      "generator loss:1.16127418807493\n",
      "-----------------------\n"
     ]
    },
    {
     "name": "stderr",
     "output_type": "stream",
     "text": [
      "\r",
      " 69%|██████▉   | 344/500 [04:51<02:07,  1.23it/s]"
     ]
    },
    {
     "name": "stdout",
     "output_type": "stream",
     "text": [
      "total discriminator loss:0.5393713619928676\n",
      "average true return:0.38583886064745787\n",
      "-----------------------\n",
      "Training Step: 344\n",
      "generator loss:1.096755997248028\n",
      "-----------------------\n"
     ]
    },
    {
     "name": "stderr",
     "output_type": "stream",
     "text": [
      "\r",
      " 69%|██████▉   | 345/500 [04:52<02:06,  1.22it/s]"
     ]
    },
    {
     "name": "stdout",
     "output_type": "stream",
     "text": [
      "total discriminator loss:0.7741636472995592\n",
      "average true return:0.36651604242901714\n",
      "-----------------------\n",
      "Training Step: 345\n",
      "generator loss:1.089669832997888\n",
      "-----------------------\n"
     ]
    },
    {
     "name": "stderr",
     "output_type": "stream",
     "text": [
      "\r",
      " 69%|██████▉   | 346/500 [04:53<02:06,  1.22it/s]"
     ]
    },
    {
     "name": "stdout",
     "output_type": "stream",
     "text": [
      "total discriminator loss:0.7828398106059227\n",
      "average true return:0.39373416687001084\n",
      "-----------------------\n",
      "Training Step: 346\n",
      "generator loss:1.0949847365881582\n",
      "-----------------------\n"
     ]
    },
    {
     "name": "stderr",
     "output_type": "stream",
     "text": [
      "\r",
      " 69%|██████▉   | 347/500 [04:54<02:05,  1.22it/s]"
     ]
    },
    {
     "name": "stdout",
     "output_type": "stream",
     "text": [
      "total discriminator loss:0.5224676231677776\n",
      "average true return:0.460659700904605\n",
      "-----------------------\n",
      "Training Step: 347\n",
      "generator loss:1.1293929727697762\n",
      "-----------------------\n"
     ]
    },
    {
     "name": "stderr",
     "output_type": "stream",
     "text": [
      "\r",
      " 70%|██████▉   | 348/500 [04:55<02:04,  1.22it/s]"
     ]
    },
    {
     "name": "stdout",
     "output_type": "stream",
     "text": [
      "total discriminator loss:0.5522425721630029\n",
      "average true return:0.3943175739278755\n",
      "-----------------------\n",
      "Training Step: 348\n",
      "generator loss:1.0060903784828072\n",
      "-----------------------\n"
     ]
    },
    {
     "name": "stderr",
     "output_type": "stream",
     "text": [
      "\r",
      " 70%|██████▉   | 349/500 [04:56<02:03,  1.22it/s]"
     ]
    },
    {
     "name": "stdout",
     "output_type": "stream",
     "text": [
      "total discriminator loss:0.7067642649478026\n",
      "average true return:0.35390495188136756\n",
      "-----------------------\n",
      "Training Step: 349\n",
      "generator loss:1.0541761374761904\n",
      "-----------------------\n"
     ]
    },
    {
     "name": "stderr",
     "output_type": "stream",
     "text": [
      "\r",
      " 70%|███████   | 350/500 [04:56<02:07,  1.18it/s]"
     ]
    },
    {
     "name": "stdout",
     "output_type": "stream",
     "text": [
      "total discriminator loss:0.5595253560243907\n",
      "average true return:0.4705006065081059\n",
      "-----------------------\n",
      "Training Step: 350\n",
      "generator loss:1.223600529864128\n",
      "-----------------------\n",
      "total discriminator loss:0.5197621530560455\n",
      "average true return:0.47286158538700024\n",
      "-----------------------\n",
      "tf.Tensor([[1 2 2 2 2 2 2 2 2 2 2 2 2 2 2 2 2 2 2 2]], shape=(1, 20), dtype=int64)\n"
     ]
    },
    {
     "data": {
      "image/png": "[encoded data removed]",
      "text/plain": [
       "<Figure size 432x288 with 1 Axes>"
      ]
     },
     "metadata": {
      "needs_background": "light"
     },
     "output_type": "display_data"
    },
    {
     "name": "stderr",
     "output_type": "stream",
     "text": [
      "\r",
      " 70%|███████   | 351/500 [04:58<02:19,  1.07it/s]"
     ]
    },
    {
     "name": "stdout",
     "output_type": "stream",
     "text": [
      "Training Step: 351\n",
      "generator loss:1.1751724396459848\n",
      "-----------------------\n"
     ]
    },
    {
     "name": "stderr",
     "output_type": "stream",
     "text": [
      "\r",
      " 70%|███████   | 352/500 [04:58<02:13,  1.11it/s]"
     ]
    },
    {
     "name": "stdout",
     "output_type": "stream",
     "text": [
      "total discriminator loss:0.6201853716668192\n",
      "average true return:0.38616320126837705\n",
      "-----------------------\n",
      "Training Step: 352\n",
      "generator loss:1.1387221627248223\n",
      "-----------------------\n"
     ]
    },
    {
     "name": "stderr",
     "output_type": "stream",
     "text": [
      "\r",
      " 71%|███████   | 353/500 [04:59<02:08,  1.14it/s]"
     ]
    },
    {
     "name": "stdout",
     "output_type": "stream",
     "text": [
      "total discriminator loss:0.5702637401495636\n",
      "average true return:0.40695990415677585\n",
      "-----------------------\n",
      "Training Step: 353\n",
      "generator loss:1.178326939141284\n",
      "-----------------------\n"
     ]
    },
    {
     "name": "stderr",
     "output_type": "stream",
     "text": [
      "\r",
      " 71%|███████   | 354/500 [05:00<02:06,  1.16it/s]"
     ]
    },
    {
     "name": "stdout",
     "output_type": "stream",
     "text": [
      "total discriminator loss:1.0898602817242913\n",
      "average true return:0.4816785003125883\n",
      "-----------------------\n",
      "Training Step: 354\n",
      "generator loss:1.1627353983112818\n",
      "-----------------------\n"
     ]
    },
    {
     "name": "stderr",
     "output_type": "stream",
     "text": [
      "\r",
      " 71%|███████   | 355/500 [05:01<02:03,  1.17it/s]"
     ]
    },
    {
     "name": "stdout",
     "output_type": "stream",
     "text": [
      "total discriminator loss:0.5148984706434483\n",
      "average true return:0.4415961149274248\n",
      "-----------------------\n",
      "Training Step: 355\n",
      "generator loss:1.1587799221161825\n",
      "-----------------------\n"
     ]
    },
    {
     "name": "stderr",
     "output_type": "stream",
     "text": [
      "\r",
      " 71%|███████   | 356/500 [05:02<02:01,  1.18it/s]"
     ]
    },
    {
     "name": "stdout",
     "output_type": "stream",
     "text": [
      "total discriminator loss:0.5424109580521623\n",
      "average true return:0.427350050176119\n",
      "-----------------------\n",
      "Training Step: 356\n",
      "generator loss:1.1614074872373719\n",
      "-----------------------\n"
     ]
    },
    {
     "name": "stderr",
     "output_type": "stream",
     "text": [
      "\r",
      " 71%|███████▏  | 357/500 [05:03<01:59,  1.20it/s]"
     ]
    },
    {
     "name": "stdout",
     "output_type": "stream",
     "text": [
      "total discriminator loss:0.48755689130568886\n",
      "average true return:0.47806881844681715\n",
      "-----------------------\n",
      "Training Step: 357\n",
      "generator loss:1.1202070640679351\n",
      "-----------------------\n"
     ]
    },
    {
     "name": "stderr",
     "output_type": "stream",
     "text": [
      "\r",
      " 72%|███████▏  | 358/500 [05:03<01:57,  1.21it/s]"
     ]
    },
    {
     "name": "stdout",
     "output_type": "stream",
     "text": [
      "total discriminator loss:0.47775755568781236\n",
      "average true return:0.47915495597083924\n",
      "-----------------------\n",
      "Training Step: 358\n",
      "generator loss:1.089944024329374\n",
      "-----------------------\n"
     ]
    },
    {
     "name": "stderr",
     "output_type": "stream",
     "text": [
      "\r",
      " 72%|███████▏  | 359/500 [05:04<01:56,  1.21it/s]"
     ]
    },
    {
     "name": "stdout",
     "output_type": "stream",
     "text": [
      "total discriminator loss:0.4944845295832173\n",
      "average true return:0.4691068798695618\n",
      "-----------------------\n",
      "Training Step: 359\n",
      "generator loss:1.0801589884526173\n",
      "-----------------------\n"
     ]
    },
    {
     "name": "stderr",
     "output_type": "stream",
     "text": [
      "\r",
      " 72%|███████▏  | 360/500 [05:05<01:55,  1.21it/s]"
     ]
    },
    {
     "name": "stdout",
     "output_type": "stream",
     "text": [
      "total discriminator loss:0.48286912699061957\n",
      "average true return:0.48103184724060544\n",
      "-----------------------\n",
      "Training Step: 360\n",
      "generator loss:1.0354133568924753\n",
      "-----------------------\n"
     ]
    },
    {
     "name": "stderr",
     "output_type": "stream",
     "text": [
      "\r",
      " 72%|███████▏  | 361/500 [05:06<01:54,  1.22it/s]"
     ]
    },
    {
     "name": "stdout",
     "output_type": "stream",
     "text": [
      "total discriminator loss:0.470237915095175\n",
      "average true return:0.4998456829824269\n",
      "-----------------------\n",
      "Training Step: 361\n",
      "generator loss:0.9876868348136388\n",
      "-----------------------\n"
     ]
    },
    {
     "name": "stderr",
     "output_type": "stream",
     "text": [
      "\r",
      " 72%|███████▏  | 362/500 [05:07<01:53,  1.21it/s]"
     ]
    },
    {
     "name": "stdout",
     "output_type": "stream",
     "text": [
      "total discriminator loss:0.48458412374558113\n",
      "average true return:0.5122203175421329\n",
      "-----------------------\n",
      "Training Step: 362\n",
      "generator loss:0.9284307519062713\n",
      "-----------------------\n"
     ]
    },
    {
     "name": "stderr",
     "output_type": "stream",
     "text": [
      "\r",
      " 73%|███████▎  | 363/500 [05:07<01:52,  1.22it/s]"
     ]
    },
    {
     "name": "stdout",
     "output_type": "stream",
     "text": [
      "total discriminator loss:0.49610786503998516\n",
      "average true return:0.518191791754055\n",
      "-----------------------\n",
      "Training Step: 363\n",
      "generator loss:0.8614034200042916\n",
      "-----------------------\n"
     ]
    },
    {
     "name": "stderr",
     "output_type": "stream",
     "text": [
      "\r",
      " 73%|███████▎  | 364/500 [05:08<01:52,  1.21it/s]"
     ]
    },
    {
     "name": "stdout",
     "output_type": "stream",
     "text": [
      "total discriminator loss:0.49022724890009756\n",
      "average true return:0.5436120531037634\n",
      "-----------------------\n",
      "Training Step: 364\n",
      "generator loss:0.8013076900635419\n",
      "-----------------------\n"
     ]
    },
    {
     "name": "stderr",
     "output_type": "stream",
     "text": [
      "\r",
      " 73%|███████▎  | 365/500 [05:09<01:51,  1.21it/s]"
     ]
    },
    {
     "name": "stdout",
     "output_type": "stream",
     "text": [
      "total discriminator loss:0.5244016408570902\n",
      "average true return:0.5707161072147524\n",
      "-----------------------\n",
      "Training Step: 365\n",
      "generator loss:0.7100473766830978\n",
      "-----------------------\n"
     ]
    },
    {
     "name": "stderr",
     "output_type": "stream",
     "text": [
      "\r",
      " 73%|███████▎  | 366/500 [05:10<01:50,  1.22it/s]"
     ]
    },
    {
     "name": "stdout",
     "output_type": "stream",
     "text": [
      "total discriminator loss:0.9619056120645407\n",
      "average true return:0.5993437017865122\n",
      "-----------------------\n",
      "Training Step: 366\n",
      "generator loss:0.6136864508167508\n",
      "-----------------------\n"
     ]
    },
    {
     "name": "stderr",
     "output_type": "stream",
     "text": [
      "\r",
      " 73%|███████▎  | 367/500 [05:11<01:49,  1.22it/s]"
     ]
    },
    {
     "name": "stdout",
     "output_type": "stream",
     "text": [
      "total discriminator loss:0.5970161019786755\n",
      "average true return:0.6234544356409462\n",
      "-----------------------\n",
      "Training Step: 367\n",
      "generator loss:0.5344921364136003\n",
      "-----------------------\n"
     ]
    },
    {
     "name": "stderr",
     "output_type": "stream",
     "text": [
      "\r",
      " 74%|███████▎  | 368/500 [05:12<01:48,  1.22it/s]"
     ]
    },
    {
     "name": "stdout",
     "output_type": "stream",
     "text": [
      "total discriminator loss:0.6481523930369641\n",
      "average true return:0.6488908023949287\n",
      "-----------------------\n",
      "Training Step: 368\n",
      "generator loss:0.49787583759654697\n",
      "-----------------------\n"
     ]
    },
    {
     "name": "stderr",
     "output_type": "stream",
     "text": [
      "\r",
      " 74%|███████▍  | 369/500 [05:12<01:47,  1.22it/s]"
     ]
    },
    {
     "name": "stdout",
     "output_type": "stream",
     "text": [
      "total discriminator loss:0.6545320297593087\n",
      "average true return:0.6571333360340893\n",
      "-----------------------\n",
      "Training Step: 369\n",
      "generator loss:0.48630755488048216\n",
      "-----------------------\n"
     ]
    },
    {
     "name": "stderr",
     "output_type": "stream",
     "text": [
      "\r",
      " 74%|███████▍  | 370/500 [05:13<01:46,  1.22it/s]"
     ]
    },
    {
     "name": "stdout",
     "output_type": "stream",
     "text": [
      "total discriminator loss:0.6721741608198497\n",
      "average true return:0.6544038956888572\n",
      "-----------------------\n",
      "Training Step: 370\n",
      "generator loss:0.48895999445745875\n",
      "-----------------------\n"
     ]
    },
    {
     "name": "stderr",
     "output_type": "stream",
     "text": [
      "\r",
      " 74%|███████▍  | 371/500 [05:14<01:45,  1.22it/s]"
     ]
    },
    {
     "name": "stdout",
     "output_type": "stream",
     "text": [
      "total discriminator loss:0.6450534941219286\n",
      "average true return:0.6379333918430319\n",
      "-----------------------\n",
      "Training Step: 371\n",
      "generator loss:0.5264116170468853\n",
      "-----------------------\n"
     ]
    },
    {
     "name": "stderr",
     "output_type": "stream",
     "text": [
      "\r",
      " 74%|███████▍  | 372/500 [05:15<01:44,  1.22it/s]"
     ]
    },
    {
     "name": "stdout",
     "output_type": "stream",
     "text": [
      "total discriminator loss:0.6601565393618918\n",
      "average true return:0.6189816711290674\n",
      "-----------------------\n",
      "Training Step: 372\n",
      "generator loss:0.5460601010340046\n",
      "-----------------------\n"
     ]
    },
    {
     "name": "stderr",
     "output_type": "stream",
     "text": [
      "\r",
      " 75%|███████▍  | 373/500 [05:16<01:44,  1.22it/s]"
     ]
    },
    {
     "name": "stdout",
     "output_type": "stream",
     "text": [
      "total discriminator loss:0.6744420134393749\n",
      "average true return:0.5911298404251419\n",
      "-----------------------\n",
      "Training Step: 373\n",
      "generator loss:0.582018068167629\n",
      "-----------------------\n"
     ]
    },
    {
     "name": "stderr",
     "output_type": "stream",
     "text": [
      "\r",
      " 75%|███████▍  | 374/500 [05:16<01:43,  1.22it/s]"
     ]
    },
    {
     "name": "stdout",
     "output_type": "stream",
     "text": [
      "total discriminator loss:0.6855264036688388\n",
      "average true return:0.5608943984112171\n",
      "-----------------------\n",
      "Training Step: 374\n",
      "generator loss:0.639743839052346\n",
      "-----------------------\n"
     ]
    },
    {
     "name": "stderr",
     "output_type": "stream",
     "text": [
      "\r",
      " 75%|███████▌  | 375/500 [05:17<01:42,  1.22it/s]"
     ]
    },
    {
     "name": "stdout",
     "output_type": "stream",
     "text": [
      "total discriminator loss:0.6964139893422382\n",
      "average true return:0.5248765454239865\n",
      "-----------------------\n",
      "Training Step: 375\n",
      "generator loss:0.6775856069511426\n",
      "-----------------------\n",
      "total discriminator loss:0.6970419249030088\n",
      "average true return:0.5085857919708086\n",
      "-----------------------\n",
      "tf.Tensor([[3 1 1 3 3 0 1 0 2 2 2 1 1 2 3 1 0 3 1 1]], shape=(1, 20), dtype=int64)\n"
     ]
    },
    {
     "data": {
      "image/png": "[encoded data removed]",
      "text/plain": [
       "<Figure size 432x288 with 1 Axes>"
      ]
     },
     "metadata": {
      "needs_background": "light"
     },
     "output_type": "display_data"
    },
    {
     "name": "stderr",
     "output_type": "stream",
     "text": [
      "\r",
      " 75%|███████▌  | 376/500 [05:18<01:53,  1.09it/s]"
     ]
    },
    {
     "name": "stdout",
     "output_type": "stream",
     "text": [
      "Training Step: 376\n",
      "generator loss:0.6996677828097099\n",
      "-----------------------\n"
     ]
    },
    {
     "name": "stderr",
     "output_type": "stream",
     "text": [
      "\r",
      " 75%|███████▌  | 377/500 [05:19<01:49,  1.13it/s]"
     ]
    },
    {
     "name": "stdout",
     "output_type": "stream",
     "text": [
      "total discriminator loss:0.7277927887526237\n",
      "average true return:0.48476719161280324\n",
      "-----------------------\n",
      "Training Step: 377\n",
      "generator loss:0.7176140315959065\n",
      "-----------------------\n"
     ]
    },
    {
     "name": "stderr",
     "output_type": "stream",
     "text": [
      "\r",
      " 76%|███████▌  | 378/500 [05:20<01:45,  1.15it/s]"
     ]
    },
    {
     "name": "stdout",
     "output_type": "stream",
     "text": [
      "total discriminator loss:0.6989049701045784\n",
      "average true return:0.47386868607552945\n",
      "-----------------------\n",
      "Training Step: 378\n",
      "generator loss:0.7279432781995979\n",
      "-----------------------\n"
     ]
    },
    {
     "name": "stderr",
     "output_type": "stream",
     "text": [
      "\r",
      " 76%|███████▌  | 379/500 [05:21<01:43,  1.17it/s]"
     ]
    },
    {
     "name": "stdout",
     "output_type": "stream",
     "text": [
      "total discriminator loss:0.7250996268210892\n",
      "average true return:0.4705546194224984\n",
      "-----------------------\n",
      "Training Step: 379\n",
      "generator loss:0.7416424762970443\n",
      "-----------------------\n"
     ]
    },
    {
     "name": "stderr",
     "output_type": "stream",
     "text": [
      "\r",
      " 76%|███████▌  | 380/500 [05:22<01:41,  1.19it/s]"
     ]
    },
    {
     "name": "stdout",
     "output_type": "stream",
     "text": [
      "total discriminator loss:0.7129268333264767\n",
      "average true return:0.4587138502937108\n",
      "-----------------------\n",
      "Training Step: 380\n",
      "generator loss:0.7470943801023546\n",
      "-----------------------\n"
     ]
    },
    {
     "name": "stderr",
     "output_type": "stream",
     "text": [
      "\r",
      " 76%|███████▌  | 381/500 [05:23<01:39,  1.20it/s]"
     ]
    },
    {
     "name": "stdout",
     "output_type": "stream",
     "text": [
      "total discriminator loss:0.7017567964632403\n",
      "average true return:0.46509179843397963\n",
      "-----------------------\n",
      "Training Step: 381\n",
      "generator loss:0.7355053859289074\n",
      "-----------------------\n"
     ]
    },
    {
     "name": "stderr",
     "output_type": "stream",
     "text": [
      "\r",
      " 76%|███████▋  | 382/500 [05:23<01:41,  1.16it/s]"
     ]
    },
    {
     "name": "stdout",
     "output_type": "stream",
     "text": [
      "total discriminator loss:0.7200532544304252\n",
      "average true return:0.4547911274289742\n",
      "-----------------------\n",
      "Training Step: 382\n",
      "generator loss:0.7451376059201957\n",
      "-----------------------\n"
     ]
    },
    {
     "name": "stderr",
     "output_type": "stream",
     "text": [
      "\r",
      " 77%|███████▋  | 383/500 [05:24<01:39,  1.18it/s]"
     ]
    },
    {
     "name": "stdout",
     "output_type": "stream",
     "text": [
      "total discriminator loss:0.7209864852312706\n",
      "average true return:0.46229031793992725\n",
      "-----------------------\n",
      "Training Step: 383\n",
      "generator loss:0.7195774570001454\n",
      "-----------------------\n"
     ]
    },
    {
     "name": "stderr",
     "output_type": "stream",
     "text": [
      "\r",
      " 77%|███████▋  | 384/500 [05:25<01:37,  1.19it/s]"
     ]
    },
    {
     "name": "stdout",
     "output_type": "stream",
     "text": [
      "total discriminator loss:0.701902120920695\n",
      "average true return:0.4704689781589917\n",
      "-----------------------\n",
      "Training Step: 384\n",
      "generator loss:0.7287225974552716\n",
      "-----------------------\n"
     ]
    },
    {
     "name": "stderr",
     "output_type": "stream",
     "text": [
      "\r",
      " 77%|███████▋  | 385/500 [05:26<01:36,  1.20it/s]"
     ]
    },
    {
     "name": "stdout",
     "output_type": "stream",
     "text": [
      "total discriminator loss:0.7031190337523233\n",
      "average true return:0.4676462914106869\n",
      "-----------------------\n",
      "Training Step: 385\n",
      "generator loss:0.7037095046574692\n",
      "-----------------------\n"
     ]
    },
    {
     "name": "stderr",
     "output_type": "stream",
     "text": [
      "\r",
      " 77%|███████▋  | 386/500 [05:27<01:35,  1.20it/s]"
     ]
    },
    {
     "name": "stdout",
     "output_type": "stream",
     "text": [
      "total discriminator loss:0.6920056047342378\n",
      "average true return:0.480908412918769\n",
      "-----------------------\n",
      "Training Step: 386\n",
      "generator loss:0.7139077134014408\n",
      "-----------------------\n"
     ]
    },
    {
     "name": "stderr",
     "output_type": "stream",
     "text": [
      "\r",
      " 77%|███████▋  | 387/500 [05:28<01:34,  1.20it/s]"
     ]
    },
    {
     "name": "stdout",
     "output_type": "stream",
     "text": [
      "total discriminator loss:0.6971857554077412\n",
      "average true return:0.47681043332487005\n",
      "-----------------------\n",
      "Training Step: 387\n",
      "generator loss:0.7031467362448152\n",
      "-----------------------\n"
     ]
    },
    {
     "name": "stderr",
     "output_type": "stream",
     "text": [
      "\r",
      " 78%|███████▊  | 388/500 [05:28<01:32,  1.20it/s]"
     ]
    },
    {
     "name": "stdout",
     "output_type": "stream",
     "text": [
      "total discriminator loss:0.7155821290301108\n",
      "average true return:0.4833906633020396\n",
      "-----------------------\n",
      "Training Step: 388\n",
      "generator loss:0.6929823986681964\n",
      "-----------------------\n"
     ]
    },
    {
     "name": "stderr",
     "output_type": "stream",
     "text": [
      "\r",
      " 78%|███████▊  | 389/500 [05:29<01:31,  1.21it/s]"
     ]
    },
    {
     "name": "stdout",
     "output_type": "stream",
     "text": [
      "total discriminator loss:0.694649345808495\n",
      "average true return:0.4916147101448985\n",
      "-----------------------\n",
      "Training Step: 389\n",
      "generator loss:0.6889466515486002\n",
      "-----------------------\n"
     ]
    },
    {
     "name": "stderr",
     "output_type": "stream",
     "text": [
      "\r",
      " 78%|███████▊  | 390/500 [05:30<01:30,  1.21it/s]"
     ]
    },
    {
     "name": "stdout",
     "output_type": "stream",
     "text": [
      "total discriminator loss:0.6902975392149575\n",
      "average true return:0.48951522421201754\n",
      "-----------------------\n",
      "Training Step: 390\n",
      "generator loss:0.6894936178975757\n",
      "-----------------------\n"
     ]
    },
    {
     "name": "stderr",
     "output_type": "stream",
     "text": [
      "\r",
      " 78%|███████▊  | 391/500 [05:31<01:29,  1.22it/s]"
     ]
    },
    {
     "name": "stdout",
     "output_type": "stream",
     "text": [
      "total discriminator loss:0.7497077640685142\n",
      "average true return:0.4886397422858838\n",
      "-----------------------\n",
      "Training Step: 391\n",
      "generator loss:0.685999350649086\n",
      "-----------------------\n"
     ]
    },
    {
     "name": "stderr",
     "output_type": "stream",
     "text": [
      "\r",
      " 78%|███████▊  | 392/500 [05:32<01:28,  1.22it/s]"
     ]
    },
    {
     "name": "stdout",
     "output_type": "stream",
     "text": [
      "total discriminator loss:0.6910165767192962\n",
      "average true return:0.4915764019625539\n",
      "-----------------------\n",
      "Training Step: 392\n",
      "generator loss:0.693903426618804\n",
      "-----------------------\n"
     ]
    },
    {
     "name": "stderr",
     "output_type": "stream",
     "text": [
      "\r",
      " 79%|███████▊  | 393/500 [05:32<01:27,  1.22it/s]"
     ]
    },
    {
     "name": "stdout",
     "output_type": "stream",
     "text": [
      "total discriminator loss:0.6985413705877155\n",
      "average true return:0.49306070155718396\n",
      "-----------------------\n",
      "Training Step: 393\n",
      "generator loss:0.6863744771047248\n",
      "-----------------------\n"
     ]
    },
    {
     "name": "stderr",
     "output_type": "stream",
     "text": [
      "\r",
      " 79%|███████▉  | 394/500 [05:33<01:27,  1.22it/s]"
     ]
    },
    {
     "name": "stdout",
     "output_type": "stream",
     "text": [
      "total discriminator loss:0.7036414772172465\n",
      "average true return:0.4998737482201542\n",
      "-----------------------\n",
      "Training Step: 394\n",
      "generator loss:0.6714454645292516\n",
      "-----------------------\n"
     ]
    },
    {
     "name": "stderr",
     "output_type": "stream",
     "text": [
      "\r",
      " 79%|███████▉  | 395/500 [05:34<01:26,  1.22it/s]"
     ]
    },
    {
     "name": "stdout",
     "output_type": "stream",
     "text": [
      "total discriminator loss:0.7496734990538203\n",
      "average true return:0.4873310648670335\n",
      "-----------------------\n",
      "Training Step: 395\n",
      "generator loss:0.6782004072499241\n",
      "-----------------------\n"
     ]
    },
    {
     "name": "stderr",
     "output_type": "stream",
     "text": [
      "\r",
      " 79%|███████▉  | 396/500 [05:35<01:28,  1.18it/s]"
     ]
    },
    {
     "name": "stdout",
     "output_type": "stream",
     "text": [
      "total discriminator loss:0.6819875427285087\n",
      "average true return:0.4979662144771087\n",
      "-----------------------\n",
      "Training Step: 396\n",
      "generator loss:0.6897408764540149\n",
      "-----------------------\n"
     ]
    },
    {
     "name": "stderr",
     "output_type": "stream",
     "text": [
      "\r",
      " 79%|███████▉  | 397/500 [05:36<01:26,  1.19it/s]"
     ]
    },
    {
     "name": "stdout",
     "output_type": "stream",
     "text": [
      "total discriminator loss:0.6876774733197434\n",
      "average true return:0.49934090617567395\n",
      "-----------------------\n",
      "Training Step: 397\n",
      "generator loss:0.6937151710287487\n",
      "-----------------------\n"
     ]
    },
    {
     "name": "stderr",
     "output_type": "stream",
     "text": [
      "\r",
      " 80%|███████▉  | 398/500 [05:37<01:25,  1.19it/s]"
     ]
    },
    {
     "name": "stdout",
     "output_type": "stream",
     "text": [
      "total discriminator loss:0.6913509532058848\n",
      "average true return:0.49755731439418094\n",
      "-----------------------\n",
      "Training Step: 398\n",
      "generator loss:0.6887386313894699\n",
      "-----------------------\n"
     ]
    },
    {
     "name": "stderr",
     "output_type": "stream",
     "text": [
      "\r",
      " 80%|███████▉  | 399/500 [05:38<01:24,  1.20it/s]"
     ]
    },
    {
     "name": "stdout",
     "output_type": "stream",
     "text": [
      "total discriminator loss:0.686212024234996\n",
      "average true return:0.49539910240149393\n",
      "-----------------------\n",
      "Training Step: 399\n",
      "generator loss:0.6878225229997096\n",
      "-----------------------\n"
     ]
    },
    {
     "name": "stderr",
     "output_type": "stream",
     "text": [
      "\r",
      " 80%|████████  | 400/500 [05:38<01:22,  1.21it/s]"
     ]
    },
    {
     "name": "stdout",
     "output_type": "stream",
     "text": [
      "total discriminator loss:0.6739396858255468\n",
      "average true return:0.4898617525003267\n",
      "-----------------------\n",
      "Training Step: 400\n",
      "generator loss:0.698756435370961\n",
      "-----------------------\n",
      "total discriminator loss:0.6798426846631994\n",
      "average true return:0.49357668120691633\n",
      "-----------------------\n",
      "tf.Tensor([[2 0 2 3 0 2 1 3 0 3 1 0 0 0 3 1 0 1 0 3]], shape=(1, 20), dtype=int64)\n"
     ]
    },
    {
     "data": {
      "image/png": "[encoded data removed]",
      "text/plain": [
       "<Figure size 432x288 with 1 Axes>"
      ]
     },
     "metadata": {
      "needs_background": "light"
     },
     "output_type": "display_data"
    },
    {
     "name": "stderr",
     "output_type": "stream",
     "text": [
      "\r",
      " 80%|████████  | 401/500 [05:39<01:31,  1.08it/s]"
     ]
    },
    {
     "name": "stdout",
     "output_type": "stream",
     "text": [
      "Training Step: 401\n",
      "generator loss:0.7147413654600526\n",
      "-----------------------\n"
     ]
    },
    {
     "name": "stderr",
     "output_type": "stream",
     "text": [
      "\r",
      " 80%|████████  | 402/500 [05:40<01:27,  1.12it/s]"
     ]
    },
    {
     "name": "stdout",
     "output_type": "stream",
     "text": [
      "total discriminator loss:0.6840332699555569\n",
      "average true return:0.49186318452458655\n",
      "-----------------------\n",
      "Training Step: 402\n",
      "generator loss:0.7168995734541157\n",
      "-----------------------\n"
     ]
    },
    {
     "name": "stderr",
     "output_type": "stream",
     "text": [
      "\r",
      " 81%|████████  | 403/500 [05:41<01:24,  1.14it/s]"
     ]
    },
    {
     "name": "stdout",
     "output_type": "stream",
     "text": [
      "total discriminator loss:0.6733589814375783\n",
      "average true return:0.48398892740823307\n",
      "-----------------------\n",
      "Training Step: 403\n",
      "generator loss:0.7080161004103003\n",
      "-----------------------\n"
     ]
    },
    {
     "name": "stderr",
     "output_type": "stream",
     "text": [
      "\r",
      " 81%|████████  | 404/500 [05:42<01:22,  1.17it/s]"
     ]
    },
    {
     "name": "stdout",
     "output_type": "stream",
     "text": [
      "total discriminator loss:0.6595654044063255\n",
      "average true return:0.48010007112333664\n",
      "-----------------------\n",
      "Training Step: 404\n",
      "generator loss:0.7384078134775198\n",
      "-----------------------\n"
     ]
    },
    {
     "name": "stderr",
     "output_type": "stream",
     "text": [
      "\r",
      " 81%|████████  | 405/500 [05:43<01:20,  1.18it/s]"
     ]
    },
    {
     "name": "stdout",
     "output_type": "stream",
     "text": [
      "total discriminator loss:0.656626460114407\n",
      "average true return:0.4836084348297867\n",
      "-----------------------\n",
      "Training Step: 405\n",
      "generator loss:0.7608411632293026\n",
      "-----------------------\n"
     ]
    },
    {
     "name": "stderr",
     "output_type": "stream",
     "text": [
      "\r",
      " 81%|████████  | 406/500 [05:44<01:18,  1.20it/s]"
     ]
    },
    {
     "name": "stdout",
     "output_type": "stream",
     "text": [
      "total discriminator loss:0.6481760926022768\n",
      "average true return:0.47653230056500595\n",
      "-----------------------\n",
      "Training Step: 406\n",
      "generator loss:0.7634276543677084\n",
      "-----------------------\n"
     ]
    },
    {
     "name": "stderr",
     "output_type": "stream",
     "text": [
      "\r",
      " 81%|████████▏ | 407/500 [05:44<01:17,  1.20it/s]"
     ]
    },
    {
     "name": "stdout",
     "output_type": "stream",
     "text": [
      "total discriminator loss:0.6426482332170264\n",
      "average true return:0.47596217765020943\n",
      "-----------------------\n",
      "Training Step: 407\n",
      "generator loss:0.7664763747263654\n",
      "-----------------------\n"
     ]
    },
    {
     "name": "stderr",
     "output_type": "stream",
     "text": [
      "\r",
      " 82%|████████▏ | 408/500 [05:45<01:16,  1.20it/s]"
     ]
    },
    {
     "name": "stdout",
     "output_type": "stream",
     "text": [
      "total discriminator loss:0.6470861957559716\n",
      "average true return:0.4751695859935835\n",
      "-----------------------\n",
      "Training Step: 408\n",
      "generator loss:0.7715393805775101\n",
      "-----------------------\n"
     ]
    },
    {
     "name": "stderr",
     "output_type": "stream",
     "text": [
      "\r",
      " 82%|████████▏ | 409/500 [05:46<01:15,  1.21it/s]"
     ]
    },
    {
     "name": "stdout",
     "output_type": "stream",
     "text": [
      "total discriminator loss:0.6638723436806608\n",
      "average true return:0.4763017329317608\n",
      "-----------------------\n",
      "Training Step: 409\n",
      "generator loss:0.7875447961940545\n",
      "-----------------------\n"
     ]
    },
    {
     "name": "stderr",
     "output_type": "stream",
     "text": [
      "\r",
      " 82%|████████▏ | 410/500 [05:47<01:14,  1.21it/s]"
     ]
    },
    {
     "name": "stdout",
     "output_type": "stream",
     "text": [
      "total discriminator loss:0.6615852351092246\n",
      "average true return:0.4816311272958348\n",
      "-----------------------\n",
      "Training Step: 410\n",
      "generator loss:0.810267025354992\n",
      "-----------------------\n"
     ]
    },
    {
     "name": "stderr",
     "output_type": "stream",
     "text": [
      "\r",
      " 82%|████████▏ | 411/500 [05:48<01:13,  1.21it/s]"
     ]
    },
    {
     "name": "stdout",
     "output_type": "stream",
     "text": [
      "total discriminator loss:0.6568462379789288\n",
      "average true return:0.47566473298420203\n",
      "-----------------------\n",
      "Training Step: 411\n",
      "generator loss:0.8271681045813457\n",
      "-----------------------\n"
     ]
    },
    {
     "name": "stderr",
     "output_type": "stream",
     "text": [
      "\r",
      " 82%|████████▏ | 412/500 [05:49<01:12,  1.21it/s]"
     ]
    },
    {
     "name": "stdout",
     "output_type": "stream",
     "text": [
      "total discriminator loss:0.6356434293835362\n",
      "average true return:0.4699020517393625\n",
      "-----------------------\n",
      "Training Step: 412\n",
      "generator loss:0.840684230021145\n",
      "-----------------------\n"
     ]
    },
    {
     "name": "stderr",
     "output_type": "stream",
     "text": [
      "\r",
      " 83%|████████▎ | 413/500 [05:49<01:11,  1.22it/s]"
     ]
    },
    {
     "name": "stdout",
     "output_type": "stream",
     "text": [
      "total discriminator loss:0.6230259566852321\n",
      "average true return:0.46989495396717773\n",
      "-----------------------\n",
      "Training Step: 413\n",
      "generator loss:0.85018259346553\n",
      "-----------------------\n"
     ]
    },
    {
     "name": "stderr",
     "output_type": "stream",
     "text": [
      "\r",
      " 83%|████████▎ | 414/500 [05:50<01:10,  1.22it/s]"
     ]
    },
    {
     "name": "stdout",
     "output_type": "stream",
     "text": [
      "total discriminator loss:0.6103635276605204\n",
      "average true return:0.4721323836007746\n",
      "-----------------------\n",
      "Training Step: 414\n",
      "generator loss:0.8494297214548382\n",
      "-----------------------\n"
     ]
    },
    {
     "name": "stderr",
     "output_type": "stream",
     "text": [
      "\r",
      " 83%|████████▎ | 415/500 [05:51<01:09,  1.22it/s]"
     ]
    },
    {
     "name": "stdout",
     "output_type": "stream",
     "text": [
      "total discriminator loss:0.891258771276537\n",
      "average true return:0.47235265889618167\n",
      "-----------------------\n",
      "Training Step: 415\n",
      "generator loss:0.8338794050541066\n",
      "-----------------------\n"
     ]
    },
    {
     "name": "stderr",
     "output_type": "stream",
     "text": [
      "\r",
      " 83%|████████▎ | 416/500 [05:52<01:08,  1.22it/s]"
     ]
    },
    {
     "name": "stdout",
     "output_type": "stream",
     "text": [
      "total discriminator loss:0.6007185771761856\n",
      "average true return:0.4756601712953559\n",
      "-----------------------\n",
      "Training Step: 416\n",
      "generator loss:0.8400580694883689\n",
      "-----------------------\n"
     ]
    },
    {
     "name": "stderr",
     "output_type": "stream",
     "text": [
      "\r",
      " 83%|████████▎ | 417/500 [05:53<01:08,  1.22it/s]"
     ]
    },
    {
     "name": "stdout",
     "output_type": "stream",
     "text": [
      "total discriminator loss:0.9027579567522994\n",
      "average true return:0.48420529180817173\n",
      "-----------------------\n",
      "Training Step: 417\n",
      "generator loss:0.8116283329760551\n",
      "-----------------------\n"
     ]
    },
    {
     "name": "stderr",
     "output_type": "stream",
     "text": [
      "\r",
      " 84%|████████▎ | 418/500 [05:53<01:07,  1.21it/s]"
     ]
    },
    {
     "name": "stdout",
     "output_type": "stream",
     "text": [
      "total discriminator loss:0.5790126038981009\n",
      "average true return:0.48439601861121123\n",
      "-----------------------\n",
      "Training Step: 418\n",
      "generator loss:0.790409470244362\n",
      "-----------------------\n"
     ]
    },
    {
     "name": "stderr",
     "output_type": "stream",
     "text": [
      "\r",
      " 84%|████████▍ | 419/500 [05:54<01:06,  1.21it/s]"
     ]
    },
    {
     "name": "stdout",
     "output_type": "stream",
     "text": [
      "total discriminator loss:0.8943019009477995\n",
      "average true return:0.4939348430571364\n",
      "-----------------------\n",
      "Training Step: 419\n",
      "generator loss:0.7707192383637229\n",
      "-----------------------\n"
     ]
    },
    {
     "name": "stderr",
     "output_type": "stream",
     "text": [
      "\r",
      " 84%|████████▍ | 420/500 [05:55<01:05,  1.22it/s]"
     ]
    },
    {
     "name": "stdout",
     "output_type": "stream",
     "text": [
      "total discriminator loss:0.58933866260157\n",
      "average true return:0.49624523059667736\n",
      "-----------------------\n",
      "Training Step: 420\n",
      "generator loss:0.7553184488787017\n",
      "-----------------------\n"
     ]
    },
    {
     "name": "stderr",
     "output_type": "stream",
     "text": [
      "\r",
      " 84%|████████▍ | 421/500 [05:56<01:04,  1.22it/s]"
     ]
    },
    {
     "name": "stdout",
     "output_type": "stream",
     "text": [
      "total discriminator loss:0.6029917373304852\n",
      "average true return:0.501864094613302\n",
      "-----------------------\n",
      "Training Step: 421\n",
      "generator loss:0.7557285508658156\n",
      "-----------------------\n"
     ]
    },
    {
     "name": "stderr",
     "output_type": "stream",
     "text": [
      "\r",
      " 84%|████████▍ | 422/500 [05:57<01:03,  1.22it/s]"
     ]
    },
    {
     "name": "stdout",
     "output_type": "stream",
     "text": [
      "total discriminator loss:0.8891883720420424\n",
      "average true return:0.5079574377327567\n",
      "-----------------------\n",
      "Training Step: 422\n",
      "generator loss:0.7406260199271986\n",
      "-----------------------\n"
     ]
    },
    {
     "name": "stderr",
     "output_type": "stream",
     "text": [
      "\r",
      " 85%|████████▍ | 423/500 [05:58<01:03,  1.22it/s]"
     ]
    },
    {
     "name": "stdout",
     "output_type": "stream",
     "text": [
      "total discriminator loss:0.6008163525831703\n",
      "average true return:0.5093783253213147\n",
      "-----------------------\n",
      "Training Step: 423\n",
      "generator loss:0.7366651719274716\n",
      "-----------------------\n"
     ]
    },
    {
     "name": "stderr",
     "output_type": "stream",
     "text": [
      "\r",
      " 85%|████████▍ | 424/500 [05:58<01:02,  1.22it/s]"
     ]
    },
    {
     "name": "stdout",
     "output_type": "stream",
     "text": [
      "total discriminator loss:0.5961470550325207\n",
      "average true return:0.5135433410194886\n",
      "-----------------------\n",
      "Training Step: 424\n",
      "generator loss:0.7363176692031932\n",
      "-----------------------\n"
     ]
    },
    {
     "name": "stderr",
     "output_type": "stream",
     "text": [
      "\r",
      " 85%|████████▌ | 425/500 [05:59<01:01,  1.22it/s]"
     ]
    },
    {
     "name": "stdout",
     "output_type": "stream",
     "text": [
      "total discriminator loss:0.5966084782444394\n",
      "average true return:0.5159124593247261\n",
      "-----------------------\n",
      "Training Step: 425\n",
      "generator loss:0.7345096234906808\n",
      "-----------------------\n",
      "total discriminator loss:0.5981367870118928\n",
      "average true return:0.5171491511804909\n",
      "-----------------------\n",
      "tf.Tensor([[1 0 3 1 0 2 0 3 0 3 3 0 2 3 0 0 1 3 0 3]], shape=(1, 20), dtype=int64)\n"
     ]
    },
    {
     "data": {
      "image/png": "[encoded data removed]",
      "text/plain": [
       "<Figure size 432x288 with 1 Axes>"
      ]
     },
     "metadata": {
      "needs_background": "light"
     },
     "output_type": "display_data"
    },
    {
     "name": "stderr",
     "output_type": "stream",
     "text": [
      "\r",
      " 85%|████████▌ | 426/500 [06:00<01:07,  1.10it/s]"
     ]
    },
    {
     "name": "stdout",
     "output_type": "stream",
     "text": [
      "Training Step: 426\n",
      "generator loss:0.7427668154212637\n",
      "-----------------------\n"
     ]
    },
    {
     "name": "stderr",
     "output_type": "stream",
     "text": [
      "\r",
      " 85%|████████▌ | 427/500 [06:01<01:06,  1.10it/s]"
     ]
    },
    {
     "name": "stdout",
     "output_type": "stream",
     "text": [
      "total discriminator loss:0.582915688012509\n",
      "average true return:0.5138276475353634\n",
      "-----------------------\n",
      "Training Step: 427\n",
      "generator loss:0.7427364883127212\n",
      "-----------------------\n"
     ]
    },
    {
     "name": "stderr",
     "output_type": "stream",
     "text": [
      "\r",
      " 86%|████████▌ | 428/500 [06:02<01:03,  1.13it/s]"
     ]
    },
    {
     "name": "stdout",
     "output_type": "stream",
     "text": [
      "total discriminator loss:0.5868325337958993\n",
      "average true return:0.515326379678376\n",
      "-----------------------\n",
      "Training Step: 428\n",
      "generator loss:0.7491560487699123\n",
      "-----------------------\n"
     ]
    },
    {
     "name": "stderr",
     "output_type": "stream",
     "text": [
      "\r",
      " 86%|████████▌ | 429/500 [06:03<01:01,  1.16it/s]"
     ]
    },
    {
     "name": "stdout",
     "output_type": "stream",
     "text": [
      "total discriminator loss:0.5686700470536803\n",
      "average true return:0.5112426061828872\n",
      "-----------------------\n",
      "Training Step: 429\n",
      "generator loss:0.7534366824667711\n",
      "-----------------------\n"
     ]
    },
    {
     "name": "stderr",
     "output_type": "stream",
     "text": [
      "\r",
      " 86%|████████▌ | 430/500 [06:04<00:59,  1.18it/s]"
     ]
    },
    {
     "name": "stdout",
     "output_type": "stream",
     "text": [
      "total discriminator loss:0.9122591443671075\n",
      "average true return:0.5111794679351169\n",
      "-----------------------\n",
      "Training Step: 430\n",
      "generator loss:0.7708670549615353\n",
      "-----------------------\n"
     ]
    },
    {
     "name": "stderr",
     "output_type": "stream",
     "text": [
      "\r",
      " 86%|████████▌ | 431/500 [06:05<00:58,  1.19it/s]"
     ]
    },
    {
     "name": "stdout",
     "output_type": "stream",
     "text": [
      "total discriminator loss:0.5585417203972115\n",
      "average true return:0.5080495948801328\n",
      "-----------------------\n",
      "Training Step: 431\n",
      "generator loss:0.7806612958252189\n",
      "-----------------------\n"
     ]
    },
    {
     "name": "stderr",
     "output_type": "stream",
     "text": [
      "\r",
      " 86%|████████▋ | 432/500 [06:05<00:56,  1.20it/s]"
     ]
    },
    {
     "name": "stdout",
     "output_type": "stream",
     "text": [
      "total discriminator loss:0.5711544985354926\n",
      "average true return:0.5031352203226493\n",
      "-----------------------\n",
      "Training Step: 432\n",
      "generator loss:0.7845738102837991\n",
      "-----------------------\n"
     ]
    },
    {
     "name": "stderr",
     "output_type": "stream",
     "text": [
      "\r",
      " 87%|████████▋ | 433/500 [06:06<00:55,  1.20it/s]"
     ]
    },
    {
     "name": "stdout",
     "output_type": "stream",
     "text": [
      "total discriminator loss:0.5643193962894643\n",
      "average true return:0.4996026073012081\n",
      "-----------------------\n",
      "Training Step: 433\n",
      "generator loss:0.7919725367668201\n",
      "-----------------------\n"
     ]
    },
    {
     "name": "stderr",
     "output_type": "stream",
     "text": [
      "\r",
      " 87%|████████▋ | 434/500 [06:07<00:55,  1.20it/s]"
     ]
    },
    {
     "name": "stdout",
     "output_type": "stream",
     "text": [
      "total discriminator loss:0.5615443548671433\n",
      "average true return:0.49842459747126744\n",
      "-----------------------\n",
      "Training Step: 434\n",
      "generator loss:0.7899582280583881\n",
      "-----------------------\n"
     ]
    },
    {
     "name": "stderr",
     "output_type": "stream",
     "text": [
      "\r",
      " 87%|████████▋ | 435/500 [06:08<00:53,  1.21it/s]"
     ]
    },
    {
     "name": "stdout",
     "output_type": "stream",
     "text": [
      "total discriminator loss:0.548460306457736\n",
      "average true return:0.5013989930656184\n",
      "-----------------------\n",
      "Training Step: 435\n",
      "generator loss:0.8022414818372725\n",
      "-----------------------\n"
     ]
    },
    {
     "name": "stderr",
     "output_type": "stream",
     "text": [
      "\r",
      " 87%|████████▋ | 436/500 [06:09<00:52,  1.21it/s]"
     ]
    },
    {
     "name": "stdout",
     "output_type": "stream",
     "text": [
      "total discriminator loss:0.5400237175508782\n",
      "average true return:0.5013985430515135\n",
      "-----------------------\n",
      "Training Step: 436\n",
      "generator loss:0.8040107333847163\n",
      "-----------------------\n"
     ]
    },
    {
     "name": "stderr",
     "output_type": "stream",
     "text": [
      "\r",
      " 87%|████████▋ | 437/500 [06:09<00:51,  1.21it/s]"
     ]
    },
    {
     "name": "stdout",
     "output_type": "stream",
     "text": [
      "total discriminator loss:0.5311401415041519\n",
      "average true return:0.5026856833395853\n",
      "-----------------------\n",
      "Training Step: 437\n",
      "generator loss:0.8093911635285793\n",
      "-----------------------\n"
     ]
    },
    {
     "name": "stderr",
     "output_type": "stream",
     "text": [
      "\r",
      " 88%|████████▊ | 438/500 [06:10<00:51,  1.21it/s]"
     ]
    },
    {
     "name": "stdout",
     "output_type": "stream",
     "text": [
      "total discriminator loss:0.5213502154435052\n",
      "average true return:0.5047008197664482\n",
      "-----------------------\n",
      "Training Step: 438\n",
      "generator loss:0.7993899499116277\n",
      "-----------------------\n"
     ]
    },
    {
     "name": "stderr",
     "output_type": "stream",
     "text": [
      "\r",
      " 88%|████████▊ | 439/500 [06:11<00:50,  1.21it/s]"
     ]
    },
    {
     "name": "stdout",
     "output_type": "stream",
     "text": [
      "total discriminator loss:0.5212848281227545\n",
      "average true return:0.5118288984710202\n",
      "-----------------------\n",
      "Training Step: 439\n",
      "generator loss:0.792618174993984\n",
      "-----------------------\n"
     ]
    },
    {
     "name": "stderr",
     "output_type": "stream",
     "text": [
      "\r",
      " 88%|████████▊ | 440/500 [06:12<00:49,  1.22it/s]"
     ]
    },
    {
     "name": "stdout",
     "output_type": "stream",
     "text": [
      "total discriminator loss:0.510676504150246\n",
      "average true return:0.5134633620474888\n",
      "-----------------------\n",
      "Training Step: 440\n",
      "generator loss:0.7893474006469356\n",
      "-----------------------\n"
     ]
    },
    {
     "name": "stderr",
     "output_type": "stream",
     "text": [
      "\r",
      " 88%|████████▊ | 441/500 [06:13<00:49,  1.18it/s]"
     ]
    },
    {
     "name": "stdout",
     "output_type": "stream",
     "text": [
      "total discriminator loss:0.5046436232849904\n",
      "average true return:0.5194940764741462\n",
      "-----------------------\n",
      "Training Step: 441\n",
      "generator loss:0.804009236063135\n",
      "-----------------------\n"
     ]
    },
    {
     "name": "stderr",
     "output_type": "stream",
     "text": [
      "\r",
      " 88%|████████▊ | 442/500 [06:14<00:48,  1.19it/s]"
     ]
    },
    {
     "name": "stdout",
     "output_type": "stream",
     "text": [
      "total discriminator loss:0.4970193742858178\n",
      "average true return:0.5199995761392426\n",
      "-----------------------\n",
      "Training Step: 442\n",
      "generator loss:0.8093513249041765\n",
      "-----------------------\n"
     ]
    },
    {
     "name": "stderr",
     "output_type": "stream",
     "text": [
      "\r",
      " 89%|████████▊ | 443/500 [06:14<00:47,  1.20it/s]"
     ]
    },
    {
     "name": "stdout",
     "output_type": "stream",
     "text": [
      "total discriminator loss:0.49550977150372333\n",
      "average true return:0.5157311764310731\n",
      "-----------------------\n",
      "Training Step: 443\n",
      "generator loss:0.8215340723807079\n",
      "-----------------------\n"
     ]
    },
    {
     "name": "stderr",
     "output_type": "stream",
     "text": [
      "\r",
      " 89%|████████▉ | 444/500 [06:15<00:46,  1.20it/s]"
     ]
    },
    {
     "name": "stdout",
     "output_type": "stream",
     "text": [
      "total discriminator loss:0.49352219653826956\n",
      "average true return:0.5122728651127569\n",
      "-----------------------\n",
      "Training Step: 444\n",
      "generator loss:0.8409744102263033\n",
      "-----------------------\n"
     ]
    },
    {
     "name": "stderr",
     "output_type": "stream",
     "text": [
      "\r",
      " 89%|████████▉ | 445/500 [06:16<00:45,  1.21it/s]"
     ]
    },
    {
     "name": "stdout",
     "output_type": "stream",
     "text": [
      "total discriminator loss:0.47160769586758045\n",
      "average true return:0.5100685111966008\n",
      "-----------------------\n",
      "Training Step: 445\n",
      "generator loss:0.855099052786877\n",
      "-----------------------\n"
     ]
    },
    {
     "name": "stderr",
     "output_type": "stream",
     "text": [
      "\r",
      " 89%|████████▉ | 446/500 [06:17<00:44,  1.21it/s]"
     ]
    },
    {
     "name": "stdout",
     "output_type": "stream",
     "text": [
      "total discriminator loss:0.47368992160135315\n",
      "average true return:0.5087320237131461\n",
      "-----------------------\n",
      "Training Step: 446\n",
      "generator loss:0.8706704218628878\n",
      "-----------------------\n"
     ]
    },
    {
     "name": "stderr",
     "output_type": "stream",
     "text": [
      "\r",
      " 89%|████████▉ | 447/500 [06:18<00:43,  1.21it/s]"
     ]
    },
    {
     "name": "stdout",
     "output_type": "stream",
     "text": [
      "total discriminator loss:0.4694347367911853\n",
      "average true return:0.5057596875780366\n",
      "-----------------------\n",
      "Training Step: 447\n",
      "generator loss:0.9050169543542415\n",
      "-----------------------\n"
     ]
    },
    {
     "name": "stderr",
     "output_type": "stream",
     "text": [
      "\r",
      " 90%|████████▉ | 448/500 [06:19<00:42,  1.21it/s]"
     ]
    },
    {
     "name": "stdout",
     "output_type": "stream",
     "text": [
      "total discriminator loss:0.47622476243104345\n",
      "average true return:0.49908070565191476\n",
      "-----------------------\n",
      "Training Step: 448\n",
      "generator loss:0.939886766110167\n",
      "-----------------------\n"
     ]
    },
    {
     "name": "stderr",
     "output_type": "stream",
     "text": [
      "\r",
      " 90%|████████▉ | 449/500 [06:19<00:42,  1.20it/s]"
     ]
    },
    {
     "name": "stdout",
     "output_type": "stream",
     "text": [
      "total discriminator loss:0.44788429061777607\n",
      "average true return:0.49184469598757435\n",
      "-----------------------\n",
      "Training Step: 449\n",
      "generator loss:0.9690108783905436\n",
      "-----------------------\n"
     ]
    },
    {
     "name": "stderr",
     "output_type": "stream",
     "text": [
      "\r",
      " 90%|█████████ | 450/500 [06:20<00:42,  1.19it/s]"
     ]
    },
    {
     "name": "stdout",
     "output_type": "stream",
     "text": [
      "total discriminator loss:0.4328652620402549\n",
      "average true return:0.48692002376266824\n",
      "-----------------------\n",
      "Training Step: 450\n",
      "generator loss:1.002402118304028\n",
      "-----------------------\n",
      "total discriminator loss:0.42634974625399424\n",
      "average true return:0.4832588153285976\n",
      "-----------------------\n",
      "tf.Tensor([[2 0 3 2 2 1 3 0 3 3 0 3 2 1 3 1 0 1 0 1]], shape=(1, 20), dtype=int64)\n"
     ]
    },
    {
     "data": {
      "image/png": "[encoded data removed]",
      "text/plain": [
       "<Figure size 432x288 with 1 Axes>"
      ]
     },
     "metadata": {
      "needs_background": "light"
     },
     "output_type": "display_data"
    },
    {
     "name": "stderr",
     "output_type": "stream",
     "text": [
      "\r",
      " 90%|█████████ | 451/500 [06:22<00:46,  1.04it/s]"
     ]
    },
    {
     "name": "stdout",
     "output_type": "stream",
     "text": [
      "Training Step: 451\n",
      "generator loss:1.0301028200513151\n",
      "-----------------------\n"
     ]
    },
    {
     "name": "stderr",
     "output_type": "stream",
     "text": [
      "\r",
      " 90%|█████████ | 452/500 [06:22<00:44,  1.07it/s]"
     ]
    },
    {
     "name": "stdout",
     "output_type": "stream",
     "text": [
      "total discriminator loss:0.42053637932790855\n",
      "average true return:0.47771337206757614\n",
      "-----------------------\n",
      "Training Step: 452\n",
      "generator loss:1.0633652126296411\n",
      "-----------------------\n"
     ]
    },
    {
     "name": "stderr",
     "output_type": "stream",
     "text": [
      "\r",
      " 91%|█████████ | 453/500 [06:23<00:43,  1.09it/s]"
     ]
    },
    {
     "name": "stdout",
     "output_type": "stream",
     "text": [
      "total discriminator loss:0.4244998354792788\n",
      "average true return:0.4744571040499294\n",
      "-----------------------\n",
      "Training Step: 453\n",
      "generator loss:1.0817142470383088\n",
      "-----------------------\n"
     ]
    },
    {
     "name": "stderr",
     "output_type": "stream",
     "text": [
      "\r",
      " 91%|█████████ | 454/500 [06:24<00:41,  1.10it/s]"
     ]
    },
    {
     "name": "stdout",
     "output_type": "stream",
     "text": [
      "total discriminator loss:1.480499310737557\n",
      "average true return:0.47363123792469064\n",
      "-----------------------\n",
      "Training Step: 454\n",
      "generator loss:1.088856955137588\n",
      "-----------------------\n"
     ]
    },
    {
     "name": "stderr",
     "output_type": "stream",
     "text": [
      "\r",
      " 91%|█████████ | 455/500 [06:25<00:40,  1.10it/s]"
     ]
    },
    {
     "name": "stdout",
     "output_type": "stream",
     "text": [
      "total discriminator loss:0.42779037727951064\n",
      "average true return:0.4716830655424347\n",
      "-----------------------\n",
      "Training Step: 455\n",
      "generator loss:1.0941930158811233\n",
      "-----------------------\n"
     ]
    },
    {
     "name": "stderr",
     "output_type": "stream",
     "text": [
      "\r",
      " 91%|█████████ | 456/500 [06:26<00:39,  1.12it/s]"
     ]
    },
    {
     "name": "stdout",
     "output_type": "stream",
     "text": [
      "total discriminator loss:0.41597705692336917\n",
      "average true return:0.4668204056421582\n",
      "-----------------------\n",
      "Training Step: 456\n",
      "generator loss:1.0948525175663215\n",
      "-----------------------\n"
     ]
    },
    {
     "name": "stderr",
     "output_type": "stream",
     "text": [
      "\r",
      " 91%|█████████▏| 457/500 [06:27<00:37,  1.14it/s]"
     ]
    },
    {
     "name": "stdout",
     "output_type": "stream",
     "text": [
      "total discriminator loss:0.3950526510401965\n",
      "average true return:0.46391233967071654\n",
      "-----------------------\n",
      "Training Step: 457\n",
      "generator loss:1.0955807542676306\n",
      "-----------------------\n"
     ]
    },
    {
     "name": "stderr",
     "output_type": "stream",
     "text": [
      "\r",
      " 92%|█████████▏| 458/500 [06:28<00:36,  1.15it/s]"
     ]
    },
    {
     "name": "stdout",
     "output_type": "stream",
     "text": [
      "total discriminator loss:1.4689562759975408\n",
      "average true return:0.46594351227004493\n",
      "-----------------------\n",
      "Training Step: 458\n",
      "generator loss:1.0840691574088719\n",
      "-----------------------\n"
     ]
    },
    {
     "name": "stderr",
     "output_type": "stream",
     "text": [
      "\r",
      " 92%|█████████▏| 459/500 [06:29<00:35,  1.15it/s]"
     ]
    },
    {
     "name": "stdout",
     "output_type": "stream",
     "text": [
      "total discriminator loss:0.42539337889414364\n",
      "average true return:0.4625553517706992\n",
      "-----------------------\n",
      "Training Step: 459\n",
      "generator loss:1.0747139339474\n",
      "-----------------------\n"
     ]
    },
    {
     "name": "stderr",
     "output_type": "stream",
     "text": [
      "\r",
      " 92%|█████████▏| 460/500 [06:29<00:35,  1.14it/s]"
     ]
    },
    {
     "name": "stdout",
     "output_type": "stream",
     "text": [
      "total discriminator loss:0.44681221432060464\n",
      "average true return:0.4643549009948147\n",
      "-----------------------\n",
      "Training Step: 460\n",
      "generator loss:1.0684703816985313\n",
      "-----------------------\n"
     ]
    },
    {
     "name": "stderr",
     "output_type": "stream",
     "text": [
      "\r",
      " 92%|█████████▏| 461/500 [06:30<00:33,  1.15it/s]"
     ]
    },
    {
     "name": "stdout",
     "output_type": "stream",
     "text": [
      "total discriminator loss:0.4117570161805223\n",
      "average true return:0.46539109825187086\n",
      "-----------------------\n",
      "Training Step: 461\n",
      "generator loss:1.0621578580706394\n",
      "-----------------------\n"
     ]
    },
    {
     "name": "stderr",
     "output_type": "stream",
     "text": [
      "\r",
      " 92%|█████████▏| 462/500 [06:31<00:32,  1.16it/s]"
     ]
    },
    {
     "name": "stdout",
     "output_type": "stream",
     "text": [
      "total discriminator loss:0.4345643033785032\n",
      "average true return:0.46714233674626104\n",
      "-----------------------\n",
      "Training Step: 462\n",
      "generator loss:1.0501108935445154\n",
      "-----------------------\n"
     ]
    },
    {
     "name": "stderr",
     "output_type": "stream",
     "text": [
      "\r",
      " 93%|█████████▎| 463/500 [06:32<00:32,  1.15it/s]"
     ]
    },
    {
     "name": "stdout",
     "output_type": "stream",
     "text": [
      "total discriminator loss:1.424125466757737\n",
      "average true return:0.46849019983643414\n",
      "-----------------------\n",
      "Training Step: 463\n",
      "generator loss:1.0351690416428658\n",
      "-----------------------\n"
     ]
    },
    {
     "name": "stderr",
     "output_type": "stream",
     "text": [
      "\r",
      " 93%|█████████▎| 464/500 [06:33<00:31,  1.14it/s]"
     ]
    },
    {
     "name": "stdout",
     "output_type": "stream",
     "text": [
      "total discriminator loss:0.43038504701854247\n",
      "average true return:0.4675034513271258\n",
      "-----------------------\n",
      "Training Step: 464\n",
      "generator loss:1.028097402258429\n",
      "-----------------------\n"
     ]
    },
    {
     "name": "stderr",
     "output_type": "stream",
     "text": [
      "\r",
      " 93%|█████████▎| 465/500 [06:34<00:30,  1.15it/s]"
     ]
    },
    {
     "name": "stdout",
     "output_type": "stream",
     "text": [
      "total discriminator loss:0.4171201551271676\n",
      "average true return:0.4666153930689355\n",
      "-----------------------\n",
      "Training Step: 465\n",
      "generator loss:1.006450245219194\n",
      "-----------------------\n"
     ]
    },
    {
     "name": "stderr",
     "output_type": "stream",
     "text": [
      "\r",
      " 93%|█████████▎| 466/500 [06:35<00:29,  1.16it/s]"
     ]
    },
    {
     "name": "stdout",
     "output_type": "stream",
     "text": [
      "total discriminator loss:0.4063835705075681\n",
      "average true return:0.4688702755005888\n",
      "-----------------------\n",
      "Training Step: 466\n",
      "generator loss:0.9960207218843151\n",
      "-----------------------\n"
     ]
    },
    {
     "name": "stderr",
     "output_type": "stream",
     "text": [
      "\r",
      " 93%|█████████▎| 467/500 [06:36<00:29,  1.12it/s]"
     ]
    },
    {
     "name": "stdout",
     "output_type": "stream",
     "text": [
      "total discriminator loss:0.4186008273748445\n",
      "average true return:0.4706308952570909\n",
      "-----------------------\n",
      "Training Step: 467\n",
      "generator loss:0.9869453330366011\n",
      "-----------------------\n"
     ]
    },
    {
     "name": "stderr",
     "output_type": "stream",
     "text": [
      "\r",
      " 94%|█████████▎| 468/500 [06:36<00:27,  1.14it/s]"
     ]
    },
    {
     "name": "stdout",
     "output_type": "stream",
     "text": [
      "total discriminator loss:0.4263294756886168\n",
      "average true return:0.472141902317547\n",
      "-----------------------\n",
      "Training Step: 468\n",
      "generator loss:0.978481570589697\n",
      "-----------------------\n"
     ]
    },
    {
     "name": "stderr",
     "output_type": "stream",
     "text": [
      "\r",
      " 94%|█████████▍| 469/500 [06:37<00:27,  1.15it/s]"
     ]
    },
    {
     "name": "stdout",
     "output_type": "stream",
     "text": [
      "total discriminator loss:0.42125093268660885\n",
      "average true return:0.4712254098331129\n",
      "-----------------------\n",
      "Training Step: 469\n",
      "generator loss:0.9769657962767437\n",
      "-----------------------\n"
     ]
    },
    {
     "name": "stderr",
     "output_type": "stream",
     "text": [
      "\r",
      " 94%|█████████▍| 470/500 [06:38<00:26,  1.15it/s]"
     ]
    },
    {
     "name": "stdout",
     "output_type": "stream",
     "text": [
      "total discriminator loss:0.43312162311254454\n",
      "average true return:0.4728461455028735\n",
      "-----------------------\n",
      "Training Step: 470\n",
      "generator loss:0.9627458431514362\n",
      "-----------------------\n"
     ]
    },
    {
     "name": "stderr",
     "output_type": "stream",
     "text": [
      "\r",
      " 94%|█████████▍| 471/500 [06:39<00:25,  1.15it/s]"
     ]
    },
    {
     "name": "stdout",
     "output_type": "stream",
     "text": [
      "total discriminator loss:0.4312281846012318\n",
      "average true return:0.47507811410257755\n",
      "-----------------------\n",
      "Training Step: 471\n",
      "generator loss:0.9581440838653835\n",
      "-----------------------\n"
     ]
    },
    {
     "name": "stderr",
     "output_type": "stream",
     "text": [
      "\r",
      " 94%|█████████▍| 472/500 [06:40<00:24,  1.14it/s]"
     ]
    },
    {
     "name": "stdout",
     "output_type": "stream",
     "text": [
      "total discriminator loss:0.42097502708600776\n",
      "average true return:0.47617525746649497\n",
      "-----------------------\n",
      "Training Step: 472\n",
      "generator loss:0.9509152773341949\n",
      "-----------------------\n"
     ]
    },
    {
     "name": "stderr",
     "output_type": "stream",
     "text": [
      "\r",
      " 95%|█████████▍| 473/500 [06:41<00:23,  1.15it/s]"
     ]
    },
    {
     "name": "stdout",
     "output_type": "stream",
     "text": [
      "total discriminator loss:1.348587519710223\n",
      "average true return:0.4779264375634952\n",
      "-----------------------\n",
      "Training Step: 473\n",
      "generator loss:0.9425171662069196\n",
      "-----------------------\n"
     ]
    },
    {
     "name": "stderr",
     "output_type": "stream",
     "text": [
      "\r",
      " 95%|█████████▍| 474/500 [06:42<00:22,  1.14it/s]"
     ]
    },
    {
     "name": "stdout",
     "output_type": "stream",
     "text": [
      "total discriminator loss:0.43879389873640817\n",
      "average true return:0.47779681258659734\n",
      "-----------------------\n",
      "Training Step: 474\n",
      "generator loss:0.9322663841409081\n",
      "-----------------------\n"
     ]
    },
    {
     "name": "stderr",
     "output_type": "stream",
     "text": [
      "\r",
      " 95%|█████████▌| 475/500 [06:42<00:21,  1.14it/s]"
     ]
    },
    {
     "name": "stdout",
     "output_type": "stream",
     "text": [
      "total discriminator loss:0.4298658355259889\n",
      "average true return:0.48003973311844206\n",
      "-----------------------\n",
      "Training Step: 475\n",
      "generator loss:0.9225733168864928\n",
      "-----------------------\n",
      "total discriminator loss:0.44331757881104367\n",
      "average true return:0.48144489458935025\n",
      "-----------------------\n",
      "tf.Tensor([[1 2 2 1 0 0 1 2 0 0 2 2 2 1 2 1 3 2 2 2]], shape=(1, 20), dtype=int64)\n"
     ]
    },
    {
     "data": {
      "image/png": "[encoded data removed]",
      "text/plain": [
       "<Figure size 432x288 with 1 Axes>"
      ]
     },
     "metadata": {
      "needs_background": "light"
     },
     "output_type": "display_data"
    },
    {
     "name": "stderr",
     "output_type": "stream",
     "text": [
      "\r",
      " 95%|█████████▌| 476/500 [06:44<00:23,  1.03it/s]"
     ]
    },
    {
     "name": "stdout",
     "output_type": "stream",
     "text": [
      "Training Step: 476\n",
      "generator loss:0.9192670801596446\n",
      "-----------------------\n"
     ]
    },
    {
     "name": "stderr",
     "output_type": "stream",
     "text": [
      "\r",
      " 95%|█████████▌| 477/500 [06:45<00:22,  1.04it/s]"
     ]
    },
    {
     "name": "stdout",
     "output_type": "stream",
     "text": [
      "total discriminator loss:0.4352215485453277\n",
      "average true return:0.4797254375015492\n",
      "-----------------------\n",
      "Training Step: 477\n",
      "generator loss:0.9078402032058874\n",
      "-----------------------\n"
     ]
    },
    {
     "name": "stderr",
     "output_type": "stream",
     "text": [
      "\r",
      " 96%|█████████▌| 478/500 [06:45<00:20,  1.08it/s]"
     ]
    },
    {
     "name": "stdout",
     "output_type": "stream",
     "text": [
      "total discriminator loss:1.279523294592676\n",
      "average true return:0.481506865140999\n",
      "-----------------------\n",
      "Training Step: 478\n",
      "generator loss:0.887036412253539\n",
      "-----------------------\n"
     ]
    },
    {
     "name": "stderr",
     "output_type": "stream",
     "text": [
      "\r",
      " 96%|█████████▌| 479/500 [06:46<00:18,  1.11it/s]"
     ]
    },
    {
     "name": "stdout",
     "output_type": "stream",
     "text": [
      "total discriminator loss:0.4438954739590638\n",
      "average true return:0.4839882884667608\n",
      "-----------------------\n",
      "Training Step: 479\n",
      "generator loss:0.858106014818416\n",
      "-----------------------\n"
     ]
    },
    {
     "name": "stderr",
     "output_type": "stream",
     "text": [
      "\r",
      " 96%|█████████▌| 480/500 [06:47<00:17,  1.14it/s]"
     ]
    },
    {
     "name": "stdout",
     "output_type": "stream",
     "text": [
      "total discriminator loss:0.46723507404669107\n",
      "average true return:0.4916701383262174\n",
      "-----------------------\n",
      "Training Step: 480\n",
      "generator loss:0.8253551240866732\n",
      "-----------------------\n"
     ]
    },
    {
     "name": "stderr",
     "output_type": "stream",
     "text": [
      "\r",
      " 96%|█████████▌| 481/500 [06:48<00:16,  1.16it/s]"
     ]
    },
    {
     "name": "stdout",
     "output_type": "stream",
     "text": [
      "total discriminator loss:0.5129653544035715\n",
      "average true return:0.5018981593996208\n",
      "-----------------------\n",
      "Training Step: 481\n",
      "generator loss:0.7761762078194931\n",
      "-----------------------\n"
     ]
    },
    {
     "name": "stderr",
     "output_type": "stream",
     "text": [
      "\r",
      " 96%|█████████▋| 482/500 [06:49<00:15,  1.16it/s]"
     ]
    },
    {
     "name": "stdout",
     "output_type": "stream",
     "text": [
      "total discriminator loss:0.5135048550680712\n",
      "average true return:0.5137592710634793\n",
      "-----------------------\n",
      "Training Step: 482\n",
      "generator loss:0.7552399936240243\n",
      "-----------------------\n"
     ]
    },
    {
     "name": "stderr",
     "output_type": "stream",
     "text": [
      "\r",
      " 97%|█████████▋| 483/500 [06:50<00:14,  1.16it/s]"
     ]
    },
    {
     "name": "stdout",
     "output_type": "stream",
     "text": [
      "total discriminator loss:0.5364602779758937\n",
      "average true return:0.5201313373171486\n",
      "-----------------------\n",
      "Training Step: 483\n",
      "generator loss:0.7515273335181893\n",
      "-----------------------\n"
     ]
    },
    {
     "name": "stderr",
     "output_type": "stream",
     "text": [
      "\r",
      " 97%|█████████▋| 484/500 [06:50<00:13,  1.17it/s]"
     ]
    },
    {
     "name": "stdout",
     "output_type": "stream",
     "text": [
      "total discriminator loss:0.5228628014151346\n",
      "average true return:0.5211682287464978\n",
      "-----------------------\n",
      "Training Step: 484\n",
      "generator loss:0.753264455054389\n",
      "-----------------------\n"
     ]
    },
    {
     "name": "stderr",
     "output_type": "stream",
     "text": [
      "\r",
      " 97%|█████████▋| 485/500 [06:51<00:12,  1.16it/s]"
     ]
    },
    {
     "name": "stdout",
     "output_type": "stream",
     "text": [
      "total discriminator loss:0.5367862277129042\n",
      "average true return:0.522047700722073\n",
      "-----------------------\n",
      "Training Step: 485\n",
      "generator loss:0.7611354454005328\n",
      "-----------------------\n"
     ]
    },
    {
     "name": "stderr",
     "output_type": "stream",
     "text": [
      "\r",
      " 97%|█████████▋| 486/500 [06:52<00:11,  1.18it/s]"
     ]
    },
    {
     "name": "stdout",
     "output_type": "stream",
     "text": [
      "total discriminator loss:0.5228349554166563\n",
      "average true return:0.5216679383940455\n",
      "-----------------------\n",
      "Training Step: 486\n",
      "generator loss:0.7632020027853399\n",
      "-----------------------\n"
     ]
    },
    {
     "name": "stderr",
     "output_type": "stream",
     "text": [
      "\r",
      " 97%|█████████▋| 487/500 [06:53<00:11,  1.14it/s]"
     ]
    },
    {
     "name": "stdout",
     "output_type": "stream",
     "text": [
      "total discriminator loss:0.5299921464896382\n",
      "average true return:0.5226310872147041\n",
      "-----------------------\n",
      "Training Step: 487\n",
      "generator loss:0.7708975830160059\n",
      "-----------------------\n"
     ]
    },
    {
     "name": "stderr",
     "output_type": "stream",
     "text": [
      "\r",
      " 98%|█████████▊| 488/500 [06:54<00:10,  1.16it/s]"
     ]
    },
    {
     "name": "stdout",
     "output_type": "stream",
     "text": [
      "total discriminator loss:0.5094664722243045\n",
      "average true return:0.5238355541746237\n",
      "-----------------------\n",
      "Training Step: 488\n",
      "generator loss:0.7781311824540722\n",
      "-----------------------\n"
     ]
    },
    {
     "name": "stderr",
     "output_type": "stream",
     "text": [
      "\r",
      " 98%|█████████▊| 489/500 [06:55<00:09,  1.15it/s]"
     ]
    },
    {
     "name": "stdout",
     "output_type": "stream",
     "text": [
      "total discriminator loss:0.5240614694690723\n",
      "average true return:0.5262581471006841\n",
      "-----------------------\n",
      "Training Step: 489\n",
      "generator loss:0.7940058777007639\n",
      "-----------------------\n"
     ]
    },
    {
     "name": "stderr",
     "output_type": "stream",
     "text": [
      "\r",
      " 98%|█████████▊| 490/500 [06:56<00:08,  1.15it/s]"
     ]
    },
    {
     "name": "stdout",
     "output_type": "stream",
     "text": [
      "total discriminator loss:0.49991000275975667\n",
      "average true return:0.5280489809690745\n",
      "-----------------------\n",
      "Training Step: 490\n",
      "generator loss:0.8010770233657007\n",
      "-----------------------\n"
     ]
    },
    {
     "name": "stderr",
     "output_type": "stream",
     "text": [
      "\r",
      " 98%|█████████▊| 491/500 [06:57<00:07,  1.16it/s]"
     ]
    },
    {
     "name": "stdout",
     "output_type": "stream",
     "text": [
      "total discriminator loss:0.49406388352312225\n",
      "average true return:0.5299600901989239\n",
      "-----------------------\n",
      "Training Step: 491\n",
      "generator loss:0.8147719123684407\n",
      "-----------------------\n"
     ]
    },
    {
     "name": "stderr",
     "output_type": "stream",
     "text": [
      "\r",
      " 98%|█████████▊| 492/500 [06:57<00:06,  1.18it/s]"
     ]
    },
    {
     "name": "stdout",
     "output_type": "stream",
     "text": [
      "total discriminator loss:1.1903110465816746\n",
      "average true return:0.5292864460977398\n",
      "-----------------------\n",
      "Training Step: 492\n",
      "generator loss:0.8255324879693973\n",
      "-----------------------\n"
     ]
    },
    {
     "name": "stderr",
     "output_type": "stream",
     "text": [
      "\r",
      " 99%|█████████▊| 493/500 [06:58<00:05,  1.17it/s]"
     ]
    },
    {
     "name": "stdout",
     "output_type": "stream",
     "text": [
      "total discriminator loss:0.4984672669098817\n",
      "average true return:0.5281587216548788\n",
      "-----------------------\n",
      "Training Step: 493\n",
      "generator loss:0.8390741037349375\n",
      "-----------------------\n"
     ]
    },
    {
     "name": "stderr",
     "output_type": "stream",
     "text": [
      "\r",
      " 99%|█████████▉| 494/500 [06:59<00:05,  1.16it/s]"
     ]
    },
    {
     "name": "stdout",
     "output_type": "stream",
     "text": [
      "total discriminator loss:0.47432798037723745\n",
      "average true return:0.5228973812023872\n",
      "-----------------------\n",
      "Training Step: 494\n",
      "generator loss:0.8434126433011478\n",
      "-----------------------\n"
     ]
    },
    {
     "name": "stderr",
     "output_type": "stream",
     "text": [
      "\r",
      " 99%|█████████▉| 495/500 [07:00<00:04,  1.17it/s]"
     ]
    },
    {
     "name": "stdout",
     "output_type": "stream",
     "text": [
      "total discriminator loss:0.472058409658332\n",
      "average true return:0.5203702491860092\n",
      "-----------------------\n",
      "Training Step: 495\n",
      "generator loss:0.8548563555523254\n",
      "-----------------------\n"
     ]
    },
    {
     "name": "stderr",
     "output_type": "stream",
     "text": [
      "\r",
      " 99%|█████████▉| 496/500 [07:01<00:03,  1.15it/s]"
     ]
    },
    {
     "name": "stdout",
     "output_type": "stream",
     "text": [
      "total discriminator loss:0.4813347181264879\n",
      "average true return:0.5142589495630979\n",
      "-----------------------\n",
      "Training Step: 496\n",
      "generator loss:0.8739705955921161\n",
      "-----------------------\n"
     ]
    },
    {
     "name": "stderr",
     "output_type": "stream",
     "text": [
      "\r",
      " 99%|█████████▉| 497/500 [07:02<00:02,  1.16it/s]"
     ]
    },
    {
     "name": "stdout",
     "output_type": "stream",
     "text": [
      "total discriminator loss:0.49945123981944123\n",
      "average true return:0.5094318849867459\n",
      "-----------------------\n",
      "Training Step: 497\n",
      "generator loss:0.879860546891581\n",
      "-----------------------\n"
     ]
    },
    {
     "name": "stderr",
     "output_type": "stream",
     "text": [
      "\r",
      "100%|█████████▉| 498/500 [07:03<00:01,  1.18it/s]"
     ]
    },
    {
     "name": "stdout",
     "output_type": "stream",
     "text": [
      "total discriminator loss:0.47627822275786913\n",
      "average true return:0.5074625081719778\n",
      "-----------------------\n",
      "Training Step: 498\n",
      "generator loss:0.8927179042533562\n",
      "-----------------------\n"
     ]
    },
    {
     "name": "stderr",
     "output_type": "stream",
     "text": [
      "\r",
      "100%|█████████▉| 499/500 [07:03<00:00,  1.19it/s]"
     ]
    },
    {
     "name": "stdout",
     "output_type": "stream",
     "text": [
      "total discriminator loss:0.4866429568411428\n",
      "average true return:0.5029244053211226\n",
      "-----------------------\n",
      "Training Step: 499\n",
      "generator loss:0.89777937550207\n",
      "-----------------------\n"
     ]
    },
    {
     "name": "stderr",
     "output_type": "stream",
     "text": [
      "100%|██████████| 500/500 [07:04<00:00,  1.18it/s]"
     ]
    },
    {
     "name": "stdout",
     "output_type": "stream",
     "text": [
      "total discriminator loss:0.4650290326777602\n",
      "average true return:0.5036030859317391\n",
      "-----------------------\n"
     ]
    },
    {
     "name": "stderr",
     "output_type": "stream",
     "text": [
      "\n"
     ]
    }
   ],
   "source": [
    "_TOTAL_STEPS = 500\n",
    "historical_avg = HistoricalAvgLoss(G)\n",
    "for feature_batch, _ in tqdm(train_dataset.take(_TOTAL_STEPS)):\n",
    "    event_type_batch, time_delta_batch = feature_batch\n",
    "\n",
    "    print('Training Step:', step)\n",
    "    # train the generator\n",
    "    for _ in range(_G_STEPS):\n",
    "        gen_loss = train_generator_gumbel(G, D, BATCH_SIZE, T, verbose=True, optimizer=G_optimizer, \n",
    "                                          loss_obj=historical_avg_G)\n",
    "        gen_loss_history.append(gen_loss.numpy())\n",
    "    \n",
    "    # train the discriminator\n",
    "    for _ in range(_D_STEPS):\n",
    "        disc_loss, ave_true_return = train_discriminator_gumbel(event_type_batch, time_delta_batch, G, D, BATCH_SIZE, T,\n",
    "                                                                verbose=True, optimizer=D_optimizer, \n",
    "                                                                label_smoothing=True, label_flipping=True,\n",
    "                                                                loss_obj=historical_avg_D)\n",
    "        disc_loss_history.append(disc_loss.numpy())\n",
    "        average_true_return_history.append(ave_true_return.numpy())\n",
    "        \n",
    "        \n",
    "    if step % 25 == 0:\n",
    "        _gen_seqs_et, _gen_seqs_ts = generate_sequences_gumbel(1, G, BATCH_SIZE, T)\n",
    "        plt.figure()\n",
    "        print(tf.argmax(_gen_seqs_et, axis=2))\n",
    "        x = np.arange(_gen_seqs_et[0,:,:].shape[0])\n",
    "        y = _gen_seqs_ts[0,:,:]\n",
    "        plt.plot(x, y)\n",
    "        plt.title(f'wave shape after {step} steps')\n",
    "        plt.show()\n",
    "        \n",
    "    step += 1"
   ]
  },
  {
   "cell_type": "code",
   "execution_count": 36,
   "id": "floral-annual",
   "metadata": {},
   "outputs": [
    {
     "data": {
      "text/plain": [
       "Text(0.5, 0, 'Training steps')"
      ]
     },
     "execution_count": 36,
     "metadata": {},
     "output_type": "execute_result"
    },
    {
     "data": {
      "image/png": "[encoded data removed]",
      "text/plain": [
       "<Figure size 600x400 with 1 Axes>"
      ]
     },
     "metadata": {
      "needs_background": "light"
     },
     "output_type": "display_data"
    },
    {
     "data": {
      "image/png": "[encoded data removed]",
      "text/plain": [
       "<Figure size 600x400 with 1 Axes>"
      ]
     },
     "metadata": {
      "needs_background": "light"
     },
     "output_type": "display_data"
    }
   ],
   "source": [
    "x = range(len(gen_loss_history))\n",
    "plt.figure(dpi=100)\n",
    "plt.plot(x, gen_loss_history)\n",
    "plt.title('Generator Loss History')\n",
    "plt.xlabel('Training steps')\n",
    "\n",
    "x = range(len(disc_loss_history))\n",
    "plt.figure(dpi=100)\n",
    "plt.plot(x, disc_loss_history)\n",
    "plt.title('Discriminator Loss History')\n",
    "plt.xlabel('Training steps')"
   ]
  },
  {
   "cell_type": "markdown",
   "id": "accurate-fossil",
   "metadata": {},
   "source": [
    "## Compare between G0, G1 and G2"
   ]
  },
  {
   "cell_type": "code",
   "execution_count": 80,
   "id": "random-geneva",
   "metadata": {},
   "outputs": [],
   "source": [
    "from matplotlib import pyplot as plt"
   ]
  },
  {
   "cell_type": "code",
   "execution_count": 81,
   "id": "tropical-disney",
   "metadata": {},
   "outputs": [
    {
     "name": "stdout",
     "output_type": "stream",
     "text": [
      "tf.Tensor(\n",
      "[[3 3 1 3 2 3 1 2 0 3 1 2 1 1 1 0 2 3 0 3]\n",
      " [0 0 3 3 0 1 3 3 0 0 0 1 0 0 1 1 2 1 2 3]\n",
      " [3 2 0 0 0 3 0 2 0 0 3 2 1 3 2 1 3 0 0 0]\n",
      " [0 2 0 0 2 3 0 2 0 2 2 0 1 0 3 3 3 2 1 2]\n",
      " [2 0 1 0 1 2 1 2 3 1 0 0 0 2 3 3 3 1 0 0]\n",
      " [1 3 3 2 2 2 2 0 0 0 1 1 2 0 3 0 0 3 0 0]\n",
      " [3 0 2 1 3 0 0 1 1 0 3 0 3 0 3 0 1 1 2 2]\n",
      " [0 2 0 2 3 1 2 0 2 0 1 3 1 3 2 3 0 2 3 1]\n",
      " [3 3 0 1 1 0 3 0 3 2 3 2 3 1 0 0 0 2 0 1]\n",
      " [1 2 2 3 2 2 0 2 2 1 0 0 0 1 3 3 1 0 2 2]], shape=(10, 20), dtype=int64)\n"
     ]
    },
    {
     "data": {
      "text/plain": [
       "[<matplotlib.lines.Line2D at 0x7fb3e6193510>]"
      ]
     },
     "execution_count": 81,
     "metadata": {},
     "output_type": "execute_result"
    },
    {
     "data": {
      "image/png": "[encoded data removed]",
      "text/plain": [
       "<Figure size 432x288 with 1 Axes>"
      ]
     },
     "metadata": {
      "needs_background": "light"
     },
     "output_type": "display_data"
    }
   ],
   "source": [
    "G0 = build_G(\n",
    "    batch_size = BATCH_SIZE,\n",
    "    event_vocab_dim = EVENT_VOCAB_DIM,\n",
    "    emb_dim = EMB_DIM,\n",
    "    hidden_dim= HIDDEN_DIM,\n",
    ")\n",
    "seqs_random_et, seqs_random_ts = generate_sequences_gumbel(10, G0, BATCH_SIZE, T)\n",
    "print(tf.argmax(seqs_random_et, axis=2))\n",
    "\n",
    "ind = 1\n",
    "x = np.arange(seqs_random_ts[ind,:,:].shape[0])\n",
    "y = seqs_random_ts[ind,:,:]\n",
    "\n",
    "plt.plot(x, y)"
   ]
  },
  {
   "cell_type": "code",
   "execution_count": 82,
   "id": "greater-latvia",
   "metadata": {},
   "outputs": [
    {
     "name": "stdout",
     "output_type": "stream",
     "text": [
      "tf.Tensor(\n",
      "[[0 1 2 3 1 2 2 3 1 3 1 2 1 2 1 0 2 1 3 1]\n",
      " [2 1 0 0 1 1 2 2 2 3 3 2 2 1 0 3 1 2 2 1]\n",
      " [2 1 1 0 1 1 2 1 3 2 2 2 1 3 3 2 0 2 1 3]\n",
      " [0 2 3 1 0 1 1 2 1 0 2 2 0 2 1 3 2 1 0 2]\n",
      " [2 2 1 0 2 2 3 3 3 2 3 2 1 0 2 0 2 0 3 1]\n",
      " [3 2 2 3 2 1 1 1 2 0 2 1 0 2 1 1 2 2 2 0]\n",
      " [3 1 0 1 2 2 3 2 2 0 2 0 2 3 3 1 2 1 2 2]\n",
      " [2 2 3 3 1 1 1 2 0 2 2 1 0 0 2 1 0 2 1 1]\n",
      " [3 2 2 1 3 2 1 0 2 1 2 0 0 2 3 1 0 2 0 1]\n",
      " [2 0 1 2 0 2 2 3 3 1 3 2 1 0 3 2 2 1 3 0]], shape=(10, 20), dtype=int64)\n"
     ]
    },
    {
     "data": {
      "text/plain": [
       "[<matplotlib.lines.Line2D at 0x7fb3e6a3d0d0>]"
      ]
     },
     "execution_count": 82,
     "metadata": {},
     "output_type": "execute_result"
    },
    {
     "data": {
      "image/png": "[encoded data removed]",
      "text/plain": [
       "<Figure size 432x288 with 1 Axes>"
      ]
     },
     "metadata": {
      "needs_background": "light"
     },
     "output_type": "display_data"
    }
   ],
   "source": [
    "G1 = pretrained_generator\n",
    "seqs_pretrained_et, seqs_pretrained_ts = generate_sequences_gumbel(10, G1, BATCH_SIZE, T)\n",
    "print(tf.argmax(seqs_pretrained_et, axis=2))\n",
    "\n",
    "ind = 1\n",
    "x = np.arange(seqs_pretrained_ts[ind,:,:].shape[0])\n",
    "y = seqs_pretrained_ts[ind,:,:]\n",
    "\n",
    "plt.plot(x, y)"
   ]
  },
  {
   "cell_type": "code",
   "execution_count": 83,
   "id": "banner-wichita",
   "metadata": {},
   "outputs": [
    {
     "name": "stdout",
     "output_type": "stream",
     "text": [
      "tf.Tensor(\n",
      "[[2 0 3 1 2 1 0 2 3 2 2 1 0 2 2 3 2 1 1 3]\n",
      " [1 1 1 0 2 3 1 2 3 1 1 1 0 2 2 0 1 0 3 1]\n",
      " [2 2 2 3 2 3 2 1 0 2 1 0 2 3 2 1 2 0 1 2]\n",
      " [0 2 2 1 0 1 0 1 0 0 2 2 2 3 0 0 0 2 2 1]\n",
      " [0 0 1 2 3 1 2 3 3 2 3 1 2 0 2 0 2 1 2 0]\n",
      " [2 3 1 1 0 2 1 2 2 1 0 0 3 2 3 2 2 0 3 2]\n",
      " [2 3 1 2 1 2 0 1 2 2 3 2 1 0 3 2 2 2 2 2]\n",
      " [3 1 0 1 0 1 3 1 2 2 2 1 1 2 0 1 2 2 3 1]\n",
      " [3 1 2 2 0 2 1 2 0 1 2 3 1 1 0 1 2 2 2 2]\n",
      " [1 0 1 2 1 0 3 2 2 3 2 0 1 1 1 2 2 0 1 0]], shape=(10, 20), dtype=int64)\n"
     ]
    },
    {
     "data": {
      "text/plain": [
       "[<matplotlib.lines.Line2D at 0x7fb3e6050cd0>]"
      ]
     },
     "execution_count": 83,
     "metadata": {},
     "output_type": "execute_result"
    },
    {
     "data": {
      "image/png": "[encoded data removed]",
      "text/plain": [
       "<Figure size 432x288 with 1 Axes>"
      ]
     },
     "metadata": {
      "needs_background": "light"
     },
     "output_type": "display_data"
    }
   ],
   "source": [
    "G2 = G\n",
    "seqs_trained_et, seqs_trained_ts = generate_sequences_gumbel(10, G2, BATCH_SIZE, T)\n",
    "\n",
    "print(tf.argmax(seqs_trained_et, axis=2))\n",
    "\n",
    "ind = 3\n",
    "x = np.arange(seqs_trained_ts[ind,:,:].shape[0])\n",
    "y = seqs_trained_ts[ind,:,:]\n",
    "\n",
    "plt.plot(x, y)"
   ]
  },
  {
   "cell_type": "markdown",
   "id": "opposed-cuisine",
   "metadata": {},
   "source": [
    "## Save trained G and D weights"
   ]
  },
  {
   "cell_type": "code",
   "execution_count": 75,
   "id": "successful-career",
   "metadata": {},
   "outputs": [],
   "source": [
    "if not os.path.exists(model_save_dir + '/G_run_syn_v11_200'):\n",
    "    os.makedirs(model_save_dir + '/G_run_syn_v11_200')\n",
    "\n",
    "G_save_path = model_save_dir + '/G_run_syn_v11_200/model.tf'\n",
    "                \n",
    "if not os.path.exists(model_save_dir + '/D_run_syn_v11_200'):\n",
    "    os.makedirs(model_save_dir + '/D_run_syn_v11_200')\n",
    "\n",
    "D_save_path = model_save_dir + '/D_run_syn_v11_200/model.tf'\n",
    "\n",
    "G.save_weights(G_save_path)\n",
    "D.save_weights(D_save_path)"
   ]
  },
  {
   "cell_type": "markdown",
   "id": "other-egypt",
   "metadata": {},
   "source": [
    "## Generate Synthesized data"
   ]
  },
  {
   "cell_type": "code",
   "execution_count": 87,
   "id": "educational-neutral",
   "metadata": {},
   "outputs": [],
   "source": [
    "G_save_path = '/home/lun/project-basileus/multitype-sequence-generation-by-tlstm-gan/models/combined-gs-v11/G_run_syn_v11_200/model.tf'"
   ]
  },
  {
   "cell_type": "code",
   "execution_count": 88,
   "id": "crazy-alliance",
   "metadata": {},
   "outputs": [
    {
     "name": "stdout",
     "output_type": "stream",
     "text": [
      "Model: \"model_16\"\n",
      "__________________________________________________________________________________________________\n",
      "Layer (type)                    Output Shape         Param #     Connected to                     \n",
      "==================================================================================================\n",
      "event_type (InputLayer)         [(256, None, 4)]     0                                            \n",
      "__________________________________________________________________________________________________\n",
      "dense_emb (Dense)               (256, None, 16)      80          event_type[0][0]                 \n",
      "__________________________________________________________________________________________________\n",
      "time_delta_in (InputLayer)      [(256, None, 1)]     0                                            \n",
      "__________________________________________________________________________________________________\n",
      "tf_op_layer_concat_16 (TensorFl [(256, None, 17)]    0           dense_emb[0][0]                  \n",
      "                                                                 time_delta_in[0][0]              \n",
      "__________________________________________________________________________________________________\n",
      "lstm_token (LSTM)               (256, 128)           74752       tf_op_layer_concat_16[0][0]      \n",
      "__________________________________________________________________________________________________\n",
      "lstm_time (LSTM)                (256, 128)           74752       tf_op_layer_concat_16[0][0]      \n",
      "__________________________________________________________________________________________________\n",
      "concatenate_16 (Concatenate)    (256, 256)           0           lstm_token[0][0]                 \n",
      "                                                                 lstm_time[0][0]                  \n",
      "__________________________________________________________________________________________________\n",
      "dense_combination (Dense)       (256, 128)           32896       concatenate_16[0][0]             \n",
      "__________________________________________________________________________________________________\n",
      "dense_token (Dense)             (256, 4)             516         dense_combination[0][0]          \n",
      "__________________________________________________________________________________________________\n",
      "dense_time (Dense)              (256, 1)             129         dense_combination[0][0]          \n",
      "==================================================================================================\n",
      "Total params: 183,125\n",
      "Trainable params: 183,125\n",
      "Non-trainable params: 0\n",
      "__________________________________________________________________________________________________\n"
     ]
    }
   ],
   "source": [
    "G_200 = build_G(\n",
    "    batch_size = BATCH_SIZE,\n",
    "    event_vocab_dim = EVENT_VOCAB_DIM,\n",
    "    emb_dim = EMB_DIM,\n",
    "    hidden_dim= HIDDEN_DIM,\n",
    ")\n",
    "\n",
    "G_200.build(input_shape=((BATCH_SIZE, T, 1)))\n",
    "G.load_weights(G_save_path)\n",
    "G.summary()"
   ]
  },
  {
   "cell_type": "code",
   "execution_count": 145,
   "id": "directed-appeal",
   "metadata": {},
   "outputs": [],
   "source": [
    "raw_seqs_trained_et_200, raw_seqs_trained_ts_200 = generate_sequences_gumbel(400000, G_200, BATCH_SIZE, T)"
   ]
  },
  {
   "cell_type": "code",
   "execution_count": 148,
   "id": "eight-concert",
   "metadata": {},
   "outputs": [],
   "source": [
    "seqs_save_et_200 = tf.argmax(raw_seqs_trained_et_200[:400000, :, :], axis=2)\n",
    "seqs_save_ts_200 = apply_mean_std(raw_seqs_trained_ts_200[:400000, :, :], *get_mean_std(raw_pos_timestamp_seqs))"
   ]
  },
  {
   "cell_type": "code",
   "execution_count": 151,
   "id": "rolled-alexandria",
   "metadata": {},
   "outputs": [],
   "source": [
    "import pickle\n",
    "\n",
    "pos_seqs_filename_et = 'syn_positive_type_sequences.pickle'\n",
    "pos_seqs_filename_ts = 'syn_positive_time_sequences.pickle'\n",
    "\n",
    "repo_path = \"/home/lun/project-basileus/multitype-sequence-generation-by-tlstm-gan/\"\n",
    "\n",
    "with open(os.path.join(repo_path, 'syn_data', 'combined_v0', pos_seqs_filename_et), 'wb') as f:\n",
    "    pickle.dump(seqs_save_et_200, f)\n",
    "    \n",
    "with open(os.path.join(repo_path, 'syn_data', 'combined_v0', pos_seqs_filename_ts), 'wb') as f:\n",
    "    pickle.dump(seqs_save_ts_200, f)"
   ]
  },
  {
   "cell_type": "code",
   "execution_count": null,
   "id": "elegant-controversy",
   "metadata": {},
   "outputs": [],
   "source": []
  }
 ],
 "metadata": {
  "kernelspec": {
   "display_name": "Python 3",
   "language": "python",
   "name": "python3"
  },
  "language_info": {
   "codemirror_mode": {
    "name": "ipython",
    "version": 3
   },
   "file_extension": ".py",
   "mimetype": "text/x-python",
   "name": "python",
   "nbconvert_exporter": "python",
   "pygments_lexer": "ipython3",
   "version": "3.7.9"
  }
 },
 "nbformat": 4,
 "nbformat_minor": 5
}
