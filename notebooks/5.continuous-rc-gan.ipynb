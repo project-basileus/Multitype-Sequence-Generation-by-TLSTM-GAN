{
 "cells": [
  {
   "cell_type": "code",
   "execution_count": 2,
   "metadata": {},
   "outputs": [],
   "source": [
    "import os \n",
    "import sys\n",
    "from tqdm import tqdm\n",
    "import importlib\n",
    "import numpy as np\n",
    "import pickle\n",
    "import tensorflow as tf\n",
    "import matplotlib.pyplot as plt\n",
    "\n",
    "\n",
    "\n",
    "import tensorflow as tf\n",
    "from tensorflow.keras import backend as K\n",
    "from tensorflow.keras.models import Model\n",
    "from tensorflow.keras import Sequential\n",
    "from tensorflow.keras.optimizers import Adam, SGD\n",
    "from tensorflow.keras.layers import Input, LSTM, Embedding, Reshape, Dense, Dropout, Conv1D, Conv2D, MaxPooling1D, Activation, Multiply, Add, Lambda, BatchNormalization\n",
    "from tensorflow.keras import regularizers\n",
    "\n",
    "\n",
    "module_path = \"/home/lun/project-basileus/multitype-sequence-generation-by-tlstm-gan/\"\n",
    "data_path = \"/home/lun/project-basileus/multitype-sequence-generation-by-tlstm-gan/data/long_seqs_v11/\"\n",
    "\n",
    "if module_path not in sys.path:\n",
    "    sys.path.append(module_path)"
   ]
  },
  {
   "cell_type": "code",
   "execution_count": 3,
   "metadata": {},
   "outputs": [],
   "source": [
    "BATCH_SIZE = 256\n",
    "T = 20\n",
    "VOCAB = ['start', 'view', 'click', 'install']\n",
    "EVENT_VOCAB_DIM = len(VOCAB)\n",
    "LATENT_DIM = EMB_DIM = 16\n",
    "HIDDEN_DIM = 128"
   ]
  },
  {
   "cell_type": "markdown",
   "metadata": {},
   "source": [
    "## Load Data"
   ]
  },
  {
   "cell_type": "code",
   "execution_count": 4,
   "metadata": {},
   "outputs": [],
   "source": [
    "pos_data_path = os.path.join(data_path, 'positive_long_sequences.pickle')\n",
    "#neg_data_path = os.path.join(data_path, 'negative_long_sequences.pickle')\n",
    "\n",
    "\n",
    "def create_dataset(features: np.array, labels: np.array, batch_size=2, epochs=10, buffer_size=10000):\n",
    "    \"\"\"\n",
    "    Create dataset from numpy arrays\n",
    "    \"\"\"\n",
    "    dataset = tf.data.Dataset.from_tensor_slices((features, labels))\n",
    "    dataset = dataset.shuffle(buffer_size)\n",
    "    dataset = dataset.repeat(epochs)\n",
    "    dataset = dataset.batch(batch_size, drop_remainder=True)\n",
    "    return dataset\n",
    "\n",
    "\n",
    "def load_sequence_from_pickle_to_numpy(pickle_file_path):\n",
    "    \"\"\"\n",
    "        A list of sequence in format of (event_type, time_delta)\n",
    "    :param pickle_file_path: e.g. /.../project-basileus/seq-gan/data/fixed_length/valid_sequences.pickle\n",
    "    :return: (event_type_seqs, time_delta)\n",
    "    \"\"\"\n",
    "    with open(pickle_file_path, 'rb') as f:\n",
    "        raw_seqs = pickle.load(f)\n",
    "\n",
    "    if not raw_seqs or not raw_seqs[0]:\n",
    "        return np.array([]), np.array([])\n",
    "\n",
    "    N = len(raw_seqs)\n",
    "    T = len(raw_seqs[0])\n",
    "    \n",
    "    seqs = np.array(raw_seqs)\n",
    "#     print(seqs.shape)\n",
    "    \n",
    "    et_seqs = seqs[:, :, 0].astype(np.float64).reshape((N, T, 1))\n",
    "    ts_seqs = seqs[:, :, 1].astype(np.float64).reshape((N, T, 1))\n",
    "    return et_seqs, ts_seqs\n",
    "    \n",
    "pos_event_type_seqs, pos_timestamp_seqs = load_sequence_from_pickle_to_numpy(pos_data_path)\n",
    "#neg_event_type_seqs, neg_timestamp_seqs = load_sequence_from_pickle_to_numpy(neg_data_path)"
   ]
  },
  {
   "cell_type": "code",
   "execution_count": 26,
   "metadata": {},
   "outputs": [],
   "source": [
    "def zcore_norm(data):\n",
    "    N = data.shape[0]\n",
    "    \n",
    "    _mean = tf.reduce_mean(data, axis=0)\n",
    "    _mean = tf.expand_dims(_mean, axis=0)\n",
    "    _mean = tf.repeat(_mean, N, axis=0)\n",
    "\n",
    "    _std = tf.math.reduce_std(data, axis=0)\n",
    "    _std = tf.expand_dims(_std, axis=0)\n",
    "    _std = tf.repeat(_std, N, axis=0)\n",
    "\n",
    "    return (data - _mean) / _std\n",
    "\n",
    "pos_timestamp_seqs = zcore_norm(pos_timestamp_seqs)"
   ]
  },
  {
   "cell_type": "markdown",
   "metadata": {},
   "source": [
    "## Build G and D of RC-GAN"
   ]
  },
  {
   "cell_type": "code",
   "execution_count": 27,
   "metadata": {},
   "outputs": [],
   "source": [
    "# noise\n",
    "z = np.float32(np.random.normal(size=[BATCH_SIZE, T, LATENT_DIM]))"
   ]
  },
  {
   "cell_type": "code",
   "execution_count": 56,
   "metadata": {},
   "outputs": [],
   "source": [
    "def build_G(batch_size, seq_length, latent_dim, hidden_dim=11):\n",
    "    # normal LSTM\n",
    "    i_noise = Input(batch_shape=(batch_size, seq_length, latent_dim), name='noise')\n",
    "\n",
    "    whole_seq_output, final_memory_state, final_carry_state = LSTM(hidden_dim, \n",
    "                       name='lstm',\n",
    "                       stateful=True,\n",
    "                       return_sequences=True,\n",
    "                       return_state = True, #from RC-GAN\n",
    "                       unit_forget_bias=True, #from RC-GAN\n",
    "                       kernel_initializer=tf.keras.initializers.RandomNormal(stddev=0.1),\n",
    "                       recurrent_initializer=tf.keras.initializers.RandomNormal(stddev=0.1),\n",
    "                       bias_initializer=tf.keras.initializers.RandomNormal(stddev=0.1))(i_noise)\n",
    "\n",
    "    ts = Dense(1,\n",
    "                   activation='linear',\n",
    "                   name='dense_1',\n",
    "                   kernel_initializer=tf.keras.initializers.RandomNormal(stddev=0.1),\n",
    "                   bias_initializer=tf.keras.initializers.RandomNormal(stddev=0.1))(whole_seq_output)    \n",
    "\n",
    "    generator = Model(\n",
    "        inputs=i_noise,\n",
    "        outputs=ts)\n",
    "    \n",
    "    return generator"
   ]
  },
  {
   "cell_type": "code",
   "execution_count": 57,
   "metadata": {},
   "outputs": [],
   "source": [
    "G = build_G(batch_size=BATCH_SIZE, seq_length=T, latent_dim=LATENT_DIM, hidden_dim=HIDDEN_DIM)"
   ]
  },
  {
   "cell_type": "code",
   "execution_count": 58,
   "metadata": {},
   "outputs": [],
   "source": [
    "# G(z)"
   ]
  },
  {
   "cell_type": "code",
   "execution_count": 59,
   "metadata": {},
   "outputs": [],
   "source": [
    "def build_D(T, latent_dim, hidden_dim=11):\n",
    "    i_ts = Input(shape=(T, 1), name='time_stamps')\n",
    "    \n",
    "    whole_seq_output, final_memory_state, final_carry_state = LSTM(hidden_dim, \n",
    "                       name='lstm',\n",
    "                       #stateful=True,\n",
    "                       return_sequences=False,\n",
    "                       return_state = True, #from RC-GAN\n",
    "                       unit_forget_bias=True, #from RC-GAN\n",
    "                       kernel_initializer=tf.keras.initializers.RandomNormal(stddev=0.1),\n",
    "                       recurrent_initializer=tf.keras.initializers.RandomNormal(stddev=0.1),\n",
    "                       bias_initializer=tf.keras.initializers.RandomNormal(stddev=0.1))(i_ts)\n",
    "    \n",
    "\n",
    "    logits = Dense(1,\n",
    "                   activation='linear',\n",
    "                   name='dense_1',\n",
    "                   kernel_initializer=tf.keras.initializers.RandomNormal(stddev=0.1),\n",
    "                   bias_initializer=tf.keras.initializers.RandomNormal(stddev=0.1))(whole_seq_output)    \n",
    "    \n",
    "    prob = tf.math.sigmoid(logits)\n",
    "    \n",
    "    discriminator = Model(\n",
    "        inputs=i_ts,\n",
    "        outputs=[prob, logits])\n",
    "\n",
    "    return discriminator"
   ]
  },
  {
   "cell_type": "code",
   "execution_count": 60,
   "metadata": {},
   "outputs": [],
   "source": [
    "D = build_D(T=T, latent_dim=LATENT_DIM, hidden_dim=HIDDEN_DIM)"
   ]
  },
  {
   "cell_type": "markdown",
   "metadata": {},
   "source": [
    "## Traning G and D with different noises"
   ]
  },
  {
   "cell_type": "code",
   "execution_count": 61,
   "metadata": {},
   "outputs": [],
   "source": [
    "def train_generator(generator, discriminator, batch_size, T, latent_dim, mc_size=10, verbose=False,                   \n",
    "                    optimizer=Adam(lr=0.001), end_token=0, init_token=1):\n",
    "            \n",
    "    z = np.float32(np.random.normal(size=[batch_size, T, latent_dim]))\n",
    "    \n",
    "    with tf.GradientTape() as tape:                        \n",
    "\n",
    "        G_sample = generator(z)\n",
    "        D_fake, D_logit_fake = discriminator(G_sample)\n",
    "\n",
    "        generator_loss = tf.reduce_mean(tf.nn.sigmoid_cross_entropy_with_logits(logits=D_logit_fake, labels=tf.ones_like(D_logit_fake)))\n",
    "        \n",
    "    if verbose:\n",
    "        print('generator loss:{}'.format(generator_loss))\n",
    "        print('-----------------------')\n",
    "\n",
    "    # update generator\n",
    "    generator_grads = tape.gradient(generator_loss, generator.trainable_variables)\n",
    "    optimizer.apply_gradients(zip(generator_grads, generator.trainable_variables))\n",
    "\n",
    "    return generator_loss\n",
    "\n",
    "\n",
    "def train_discriminator(real_data_batch, generator, discriminator, batch_size, T, latent_dim, verbose=False,\n",
    "                        optimizer=Adam(lr=0.001), label_smoothing=False, label_flipping=False):\n",
    "\n",
    "    # data prep\n",
    "    real_labels = tf.ones((batch_size, 1))        \n",
    "    fake_labels = tf.zeros((batch_size, 1))    \n",
    "    \n",
    "    z = np.float32(np.random.normal(size=[batch_size, T, latent_dim]))\n",
    "    fake_data_batch = np.array(generator(z))    \n",
    "    \n",
    "    if label_smoothing:\n",
    "        fake_labels = fake_labels + tf.random.normal(fake_labels.shape, mean=0, stddev=0.3)\n",
    "        fake_labels = tf.clip_by_value(fake_labels, clip_value_min=0., clip_value_max=0.3)\n",
    "\n",
    "        real_labels = real_labels + tf.random.normal(real_labels.shape, mean=0, stddev=0.3)\n",
    "        real_labels = tf.clip_by_value(real_labels, clip_value_min=0.7, clip_value_max=1.0)\n",
    "\n",
    "    if label_flipping:\n",
    "        if tf.random.uniform((1,)) < 0.05:\n",
    "            fake_labels, real_labels = real_labels, fake_labels\n",
    "    \n",
    "    total_data = tf.concat([fake_data_batch, real_data_batch], axis=0)\n",
    "    total_labels = tf.concat([fake_labels, real_labels], axis=0)\n",
    "        \n",
    "    # train the discriminator\n",
    "    with tf.GradientTape() as tape:                                                           \n",
    "        # train discriminator\n",
    "        pred_prob, pred_logits = discriminator(total_data)\n",
    "\n",
    "        # cross-entropy loss\n",
    "        discriminator_loss = tf.reduce_mean(\n",
    "            tf.keras.losses.binary_crossentropy(total_labels, pred_prob, from_logits=False))\n",
    "\n",
    "        # average true return\n",
    "        average_true_return = tf.reduce_mean(pred_prob)\n",
    "        \n",
    "        if verbose:\n",
    "            print('total discriminator loss:{}'.format(discriminator_loss))\n",
    "            print('average true return:{}'.format(average_true_return))\n",
    "            print('-----------------------')\n",
    "\n",
    "    grads = tape.gradient(discriminator_loss, discriminator.trainable_variables)\n",
    "    optimizer.apply_gradients(zip(grads, discriminator.trainable_variables))\n",
    "\n",
    "    return discriminator_loss, average_true_return"
   ]
  },
  {
   "cell_type": "code",
   "execution_count": 68,
   "metadata": {},
   "outputs": [],
   "source": [
    "G = build_G(batch_size=BATCH_SIZE, seq_length=T, latent_dim=LATENT_DIM, hidden_dim=HIDDEN_DIM)\n",
    "\n",
    "D = build_D(T=T, latent_dim=LATENT_DIM, hidden_dim=HIDDEN_DIM)"
   ]
  },
  {
   "cell_type": "code",
   "execution_count": 69,
   "metadata": {},
   "outputs": [],
   "source": [
    "N_total_G = pos_timestamp_seqs.shape[0]\n",
    "\n",
    "EPOCHS = 10\n",
    "_TOTAL_STEPS = int(EPOCHS * N_total_G / BATCH_SIZE)\n",
    "\n",
    "train_dataset = create_dataset(pos_timestamp_seqs[:N_total_G,:,:],\n",
    "                             np.ones((N_total_G, 1)),\n",
    "                             batch_size=BATCH_SIZE,\n",
    "                             epochs=EPOCHS,\n",
    "                             buffer_size=N_total_G)\n",
    "\n",
    "gen_loss_history = []\n",
    "disc_loss_history = []\n",
    "average_true_return_history = []\n",
    "\n",
    "step = 0\n",
    "\n",
    "G_optimizer = Adam(learning_rate=1e-3)\n",
    "D_optimizer = Adam(learning_rate=1e-3)\n",
    "\n",
    "_G_STEPS = 2\n",
    "_D_STEPS = 1"
   ]
  },
  {
   "cell_type": "code",
   "execution_count": 75,
   "metadata": {},
   "outputs": [
    {
     "name": "stderr",
     "output_type": "stream",
     "text": [
      "\r",
      "0it [00:00, ?it/s]"
     ]
    },
    {
     "name": "stdout",
     "output_type": "stream",
     "text": [
      "Training Step: 156\n",
      "generator loss:0.6602950096130371\n",
      "-----------------------\n",
      "generator loss:0.6472615003585815\n",
      "-----------------------\n"
     ]
    },
    {
     "name": "stderr",
     "output_type": "stream",
     "text": [
      "\r",
      "1it [00:00,  1.26it/s]"
     ]
    },
    {
     "name": "stdout",
     "output_type": "stream",
     "text": [
      "total discriminator loss:0.6663464307785034\n",
      "average true return:0.551563024520874\n",
      "-----------------------\n",
      "Training Step: 157\n",
      "generator loss:0.6515321135520935\n",
      "-----------------------\n",
      "generator loss:0.6349675059318542\n",
      "-----------------------\n"
     ]
    },
    {
     "name": "stderr",
     "output_type": "stream",
     "text": [
      "\r",
      "2it [00:01,  1.28it/s]"
     ]
    },
    {
     "name": "stdout",
     "output_type": "stream",
     "text": [
      "total discriminator loss:0.676726758480072\n",
      "average true return:0.5547336339950562\n",
      "-----------------------\n",
      "Training Step: 158\n",
      "generator loss:0.6474793553352356\n",
      "-----------------------\n",
      "generator loss:0.6250660419464111\n",
      "-----------------------\n"
     ]
    },
    {
     "name": "stderr",
     "output_type": "stream",
     "text": [
      "\r",
      "3it [00:02,  1.29it/s]"
     ]
    },
    {
     "name": "stdout",
     "output_type": "stream",
     "text": [
      "total discriminator loss:0.6931765675544739\n",
      "average true return:0.5543566942214966\n",
      "-----------------------\n",
      "Training Step: 159\n",
      "generator loss:0.6358388066291809\n",
      "-----------------------\n",
      "generator loss:0.605642557144165\n",
      "-----------------------\n"
     ]
    },
    {
     "name": "stderr",
     "output_type": "stream",
     "text": [
      "\r",
      "4it [00:03,  1.28it/s]"
     ]
    },
    {
     "name": "stdout",
     "output_type": "stream",
     "text": [
      "total discriminator loss:0.7141167521476746\n",
      "average true return:0.5581451654434204\n",
      "-----------------------\n",
      "Training Step: 160\n",
      "generator loss:0.603481650352478\n",
      "-----------------------\n",
      "generator loss:0.5779954195022583\n",
      "-----------------------\n"
     ]
    },
    {
     "name": "stderr",
     "output_type": "stream",
     "text": [
      "\r",
      "5it [00:03,  1.28it/s]"
     ]
    },
    {
     "name": "stdout",
     "output_type": "stream",
     "text": [
      "total discriminator loss:0.7448693513870239\n",
      "average true return:0.5524111986160278\n",
      "-----------------------\n",
      "Training Step: 161\n",
      "generator loss:0.5768793821334839\n",
      "-----------------------\n",
      "generator loss:0.5727473497390747\n",
      "-----------------------\n"
     ]
    },
    {
     "name": "stderr",
     "output_type": "stream",
     "text": [
      "\r",
      "6it [00:04,  1.29it/s]"
     ]
    },
    {
     "name": "stdout",
     "output_type": "stream",
     "text": [
      "total discriminator loss:0.7412688732147217\n",
      "average true return:0.537367045879364\n",
      "-----------------------\n",
      "Training Step: 162\n",
      "generator loss:0.6423933506011963\n",
      "-----------------------\n",
      "generator loss:0.6483855247497559\n",
      "-----------------------\n"
     ]
    },
    {
     "name": "stderr",
     "output_type": "stream",
     "text": [
      "\r",
      "7it [00:05,  1.28it/s]"
     ]
    },
    {
     "name": "stdout",
     "output_type": "stream",
     "text": [
      "total discriminator loss:0.723390519618988\n",
      "average true return:0.5136260986328125\n",
      "-----------------------\n",
      "Training Step: 163\n",
      "generator loss:0.744265615940094\n",
      "-----------------------\n",
      "generator loss:0.7142034769058228\n",
      "-----------------------\n"
     ]
    },
    {
     "name": "stderr",
     "output_type": "stream",
     "text": [
      "\r",
      "8it [00:06,  1.29it/s]"
     ]
    },
    {
     "name": "stdout",
     "output_type": "stream",
     "text": [
      "total discriminator loss:0.6950024366378784\n",
      "average true return:0.4974592328071594\n",
      "-----------------------\n",
      "Training Step: 164\n",
      "generator loss:0.8097947835922241\n",
      "-----------------------\n",
      "generator loss:0.7842373847961426\n",
      "-----------------------\n"
     ]
    },
    {
     "name": "stderr",
     "output_type": "stream",
     "text": [
      "\r",
      "9it [00:07,  1.28it/s]"
     ]
    },
    {
     "name": "stdout",
     "output_type": "stream",
     "text": [
      "total discriminator loss:0.6630312204360962\n",
      "average true return:0.47886547446250916\n",
      "-----------------------\n",
      "Training Step: 165\n",
      "generator loss:0.8629179000854492\n",
      "-----------------------\n",
      "generator loss:0.847974419593811\n",
      "-----------------------\n"
     ]
    },
    {
     "name": "stderr",
     "output_type": "stream",
     "text": [
      "\r",
      "10it [00:07,  1.28it/s]"
     ]
    },
    {
     "name": "stdout",
     "output_type": "stream",
     "text": [
      "total discriminator loss:0.6411009430885315\n",
      "average true return:0.4658600091934204\n",
      "-----------------------\n",
      "Training Step: 166\n",
      "generator loss:0.9092181921005249\n",
      "-----------------------\n",
      "generator loss:0.8960906267166138\n",
      "-----------------------\n"
     ]
    },
    {
     "name": "stderr",
     "output_type": "stream",
     "text": [
      "\r",
      "11it [00:08,  1.28it/s]"
     ]
    },
    {
     "name": "stdout",
     "output_type": "stream",
     "text": [
      "total discriminator loss:0.6240195035934448\n",
      "average true return:0.45811671018600464\n",
      "-----------------------\n",
      "Training Step: 167\n",
      "generator loss:0.9434113502502441\n",
      "-----------------------\n",
      "generator loss:0.927687406539917\n",
      "-----------------------\n"
     ]
    },
    {
     "name": "stderr",
     "output_type": "stream",
     "text": [
      "\r",
      "12it [00:09,  1.27it/s]"
     ]
    },
    {
     "name": "stdout",
     "output_type": "stream",
     "text": [
      "total discriminator loss:0.620840311050415\n",
      "average true return:0.4527445435523987\n",
      "-----------------------\n",
      "Training Step: 168\n",
      "generator loss:0.9604564309120178\n",
      "-----------------------\n",
      "generator loss:0.9360886812210083\n",
      "-----------------------\n"
     ]
    },
    {
     "name": "stderr",
     "output_type": "stream",
     "text": [
      "\r",
      "13it [00:10,  1.27it/s]"
     ]
    },
    {
     "name": "stdout",
     "output_type": "stream",
     "text": [
      "total discriminator loss:0.619543194770813\n",
      "average true return:0.45516419410705566\n",
      "-----------------------\n",
      "Training Step: 169\n",
      "generator loss:0.9481000900268555\n",
      "-----------------------\n",
      "generator loss:0.9114775657653809\n",
      "-----------------------\n"
     ]
    },
    {
     "name": "stderr",
     "output_type": "stream",
     "text": [
      "\r",
      "14it [00:10,  1.28it/s]"
     ]
    },
    {
     "name": "stdout",
     "output_type": "stream",
     "text": [
      "total discriminator loss:0.6339778304100037\n",
      "average true return:0.46315813064575195\n",
      "-----------------------\n",
      "Training Step: 170\n",
      "generator loss:0.8634724617004395\n",
      "-----------------------\n",
      "generator loss:0.810192346572876\n",
      "-----------------------\n"
     ]
    },
    {
     "name": "stderr",
     "output_type": "stream",
     "text": [
      "\r",
      "15it [00:11,  1.28it/s]"
     ]
    },
    {
     "name": "stdout",
     "output_type": "stream",
     "text": [
      "total discriminator loss:0.6715795993804932\n",
      "average true return:0.4920283555984497\n",
      "-----------------------\n",
      "Training Step: 171\n",
      "generator loss:0.7626301646232605\n",
      "-----------------------\n",
      "generator loss:0.726202130317688\n",
      "-----------------------\n"
     ]
    },
    {
     "name": "stderr",
     "output_type": "stream",
     "text": [
      "\r",
      "16it [00:12,  1.28it/s]"
     ]
    },
    {
     "name": "stdout",
     "output_type": "stream",
     "text": [
      "total discriminator loss:0.7024590373039246\n",
      "average true return:0.4991479814052582\n",
      "-----------------------\n",
      "Training Step: 172\n",
      "generator loss:0.708337128162384\n",
      "-----------------------\n",
      "generator loss:0.6509435176849365\n",
      "-----------------------\n"
     ]
    },
    {
     "name": "stderr",
     "output_type": "stream",
     "text": [
      "\r",
      "17it [00:13,  1.27it/s]"
     ]
    },
    {
     "name": "stdout",
     "output_type": "stream",
     "text": [
      "total discriminator loss:0.7482093572616577\n",
      "average true return:0.5198838114738464\n",
      "-----------------------\n",
      "Training Step: 173\n",
      "generator loss:0.5922470688819885\n",
      "-----------------------\n",
      "generator loss:0.6036586165428162\n",
      "-----------------------\n"
     ]
    },
    {
     "name": "stderr",
     "output_type": "stream",
     "text": [
      "\r",
      "18it [00:14,  1.27it/s]"
     ]
    },
    {
     "name": "stdout",
     "output_type": "stream",
     "text": [
      "total discriminator loss:0.7269351482391357\n",
      "average true return:0.525973916053772\n",
      "-----------------------\n",
      "Training Step: 174\n",
      "generator loss:0.6405858993530273\n",
      "-----------------------\n",
      "generator loss:0.6374393701553345\n",
      "-----------------------\n"
     ]
    },
    {
     "name": "stderr",
     "output_type": "stream",
     "text": [
      "\r",
      "19it [00:14,  1.27it/s]"
     ]
    },
    {
     "name": "stdout",
     "output_type": "stream",
     "text": [
      "total discriminator loss:0.7219076156616211\n",
      "average true return:0.533768355846405\n",
      "-----------------------\n",
      "Training Step: 175\n",
      "generator loss:0.6352460384368896\n",
      "-----------------------\n",
      "generator loss:0.6173965334892273\n",
      "-----------------------\n"
     ]
    },
    {
     "name": "stderr",
     "output_type": "stream",
     "text": [
      "\r",
      "20it [00:15,  1.24it/s]"
     ]
    },
    {
     "name": "stdout",
     "output_type": "stream",
     "text": [
      "total discriminator loss:0.7134549617767334\n",
      "average true return:0.5438162684440613\n",
      "-----------------------\n",
      "tf.Tensor(\n",
      "[[[ 0.3376556 ]\n",
      "  [ 0.6241954 ]\n",
      "  [ 0.8442815 ]\n",
      "  ...\n",
      "  [ 0.5835409 ]\n",
      "  [ 1.0841209 ]\n",
      "  [ 1.0517795 ]]\n",
      "\n",
      " [[-0.23440759]\n",
      "  [ 0.03178836]\n",
      "  [-0.09436929]\n",
      "  ...\n",
      "  [-0.41478124]\n",
      "  [-0.61657816]\n",
      "  [-0.41041943]]\n",
      "\n",
      " [[ 0.48037106]\n",
      "  [ 0.55010176]\n",
      "  [ 1.0305364 ]\n",
      "  ...\n",
      "  [ 1.0702897 ]\n",
      "  [ 0.8381728 ]\n",
      "  [ 0.78244084]]\n",
      "\n",
      " ...\n",
      "\n",
      " [[ 1.148027  ]\n",
      "  [ 0.81449026]\n",
      "  [ 0.7771773 ]\n",
      "  ...\n",
      "  [ 0.19966885]\n",
      "  [-0.10517599]\n",
      "  [-0.5023575 ]]\n",
      "\n",
      " [[-0.05152611]\n",
      "  [ 0.12042271]\n",
      "  [ 0.06018132]\n",
      "  ...\n",
      "  [ 0.01450223]\n",
      "  [ 0.14077708]\n",
      "  [ 0.61162716]]\n",
      "\n",
      " [[ 0.49504697]\n",
      "  [ 0.22465682]\n",
      "  [ 0.01698178]\n",
      "  ...\n",
      "  [-0.19891451]\n",
      "  [-0.23716293]\n",
      "  [-0.47983316]]], shape=(256, 20, 1), dtype=float32)\n",
      "Training Step: 176\n",
      "generator loss:0.6221936345100403\n",
      "-----------------------\n",
      "generator loss:0.5983694195747375\n",
      "-----------------------\n"
     ]
    },
    {
     "name": "stderr",
     "output_type": "stream",
     "text": [
      "\r",
      "21it [00:16,  1.26it/s]"
     ]
    },
    {
     "name": "stdout",
     "output_type": "stream",
     "text": [
      "total discriminator loss:0.7059422731399536\n",
      "average true return:0.5520758628845215\n",
      "-----------------------\n",
      "Training Step: 177\n",
      "generator loss:0.6157639026641846\n",
      "-----------------------\n",
      "generator loss:0.6017558574676514\n",
      "-----------------------\n"
     ]
    },
    {
     "name": "stderr",
     "output_type": "stream",
     "text": [
      "\r",
      "22it [00:17,  1.27it/s]"
     ]
    },
    {
     "name": "stdout",
     "output_type": "stream",
     "text": [
      "total discriminator loss:0.694281816482544\n",
      "average true return:0.5447320938110352\n",
      "-----------------------\n",
      "Training Step: 178\n",
      "generator loss:0.623241662979126\n",
      "-----------------------\n",
      "generator loss:0.6244713068008423\n",
      "-----------------------\n"
     ]
    },
    {
     "name": "stderr",
     "output_type": "stream",
     "text": [
      "\r",
      "23it [00:18,  1.27it/s]"
     ]
    },
    {
     "name": "stdout",
     "output_type": "stream",
     "text": [
      "total discriminator loss:0.6770128011703491\n",
      "average true return:0.5465831756591797\n",
      "-----------------------\n",
      "Training Step: 179\n",
      "generator loss:0.6454449892044067\n",
      "-----------------------\n",
      "generator loss:0.6416452527046204\n",
      "-----------------------\n"
     ]
    },
    {
     "name": "stderr",
     "output_type": "stream",
     "text": [
      "\r",
      "24it [00:18,  1.28it/s]"
     ]
    },
    {
     "name": "stdout",
     "output_type": "stream",
     "text": [
      "total discriminator loss:0.6720141172409058\n",
      "average true return:0.5397051572799683\n",
      "-----------------------\n",
      "Training Step: 180\n",
      "generator loss:0.6722877621650696\n",
      "-----------------------\n",
      "generator loss:0.6687226295471191\n",
      "-----------------------\n"
     ]
    },
    {
     "name": "stderr",
     "output_type": "stream",
     "text": [
      "\r",
      "25it [00:19,  1.28it/s]"
     ]
    },
    {
     "name": "stdout",
     "output_type": "stream",
     "text": [
      "total discriminator loss:0.6648332476615906\n",
      "average true return:0.529688835144043\n",
      "-----------------------\n",
      "Training Step: 181\n",
      "generator loss:0.7111812233924866\n",
      "-----------------------\n",
      "generator loss:0.7075473666191101\n",
      "-----------------------\n"
     ]
    },
    {
     "name": "stderr",
     "output_type": "stream",
     "text": [
      "\r",
      "26it [00:20,  1.27it/s]"
     ]
    },
    {
     "name": "stdout",
     "output_type": "stream",
     "text": [
      "total discriminator loss:0.6571776866912842\n",
      "average true return:0.5171374082565308\n",
      "-----------------------\n",
      "Training Step: 182\n",
      "generator loss:0.7718617916107178\n",
      "-----------------------\n",
      "generator loss:0.7704666256904602\n",
      "-----------------------\n"
     ]
    },
    {
     "name": "stderr",
     "output_type": "stream",
     "text": [
      "\r",
      "27it [00:21,  1.28it/s]"
     ]
    },
    {
     "name": "stdout",
     "output_type": "stream",
     "text": [
      "total discriminator loss:0.643347978591919\n",
      "average true return:0.4982472360134125\n",
      "-----------------------\n",
      "Training Step: 183\n",
      "generator loss:0.85374915599823\n",
      "-----------------------\n",
      "generator loss:0.8529757857322693\n",
      "-----------------------\n"
     ]
    },
    {
     "name": "stderr",
     "output_type": "stream",
     "text": [
      "\r",
      "28it [00:21,  1.28it/s]"
     ]
    },
    {
     "name": "stdout",
     "output_type": "stream",
     "text": [
      "total discriminator loss:0.6265918016433716\n",
      "average true return:0.4734994173049927\n",
      "-----------------------\n",
      "Training Step: 184\n",
      "generator loss:0.9551318287849426\n",
      "-----------------------\n",
      "generator loss:0.9496322870254517\n",
      "-----------------------\n"
     ]
    },
    {
     "name": "stderr",
     "output_type": "stream",
     "text": [
      "\r",
      "29it [00:22,  1.39it/s]"
     ]
    },
    {
     "name": "stdout",
     "output_type": "stream",
     "text": [
      "total discriminator loss:0.8004952669143677\n",
      "average true return:0.44173604249954224\n",
      "-----------------------\n",
      "Training Step: 185\n",
      "generator loss:0.9915899038314819\n",
      "-----------------------\n",
      "generator loss:0.9882853627204895\n",
      "-----------------------\n",
      "total discriminator loss:0.6171598434448242\n",
      "average true return:0.4310970902442932\n",
      "-----------------------\n"
     ]
    },
    {
     "name": "stderr",
     "output_type": "stream",
     "text": [
      "\r",
      "30it [00:23,  1.50it/s]"
     ]
    },
    {
     "name": "stdout",
     "output_type": "stream",
     "text": [
      "Training Step: 186\n",
      "generator loss:1.019404411315918\n",
      "-----------------------\n",
      "generator loss:1.0124752521514893\n",
      "-----------------------\n",
      "total discriminator loss:0.6220043897628784\n",
      "average true return:0.4208143949508667\n",
      "-----------------------\n"
     ]
    },
    {
     "name": "stderr",
     "output_type": "stream",
     "text": [
      "\r",
      "31it [00:23,  1.60it/s]"
     ]
    },
    {
     "name": "stdout",
     "output_type": "stream",
     "text": [
      "Training Step: 187\n",
      "generator loss:1.0285816192626953\n",
      "-----------------------\n",
      "generator loss:1.0214170217514038\n",
      "-----------------------\n",
      "total discriminator loss:0.6289424896240234\n",
      "average true return:0.41386955976486206\n",
      "-----------------------\n"
     ]
    },
    {
     "name": "stderr",
     "output_type": "stream",
     "text": [
      "\r",
      "32it [00:24,  1.66it/s]"
     ]
    },
    {
     "name": "stdout",
     "output_type": "stream",
     "text": [
      "Training Step: 188\n",
      "generator loss:1.0267245769500732\n",
      "-----------------------\n",
      "generator loss:1.0159099102020264\n",
      "-----------------------\n",
      "total discriminator loss:0.6252865791320801\n",
      "average true return:0.4207160472869873\n",
      "-----------------------\n"
     ]
    },
    {
     "name": "stderr",
     "output_type": "stream",
     "text": [
      "\r",
      "33it [00:24,  1.72it/s]"
     ]
    },
    {
     "name": "stdout",
     "output_type": "stream",
     "text": [
      "Training Step: 189\n",
      "generator loss:1.0083389282226562\n",
      "-----------------------\n",
      "generator loss:0.9986264109611511\n",
      "-----------------------\n",
      "total discriminator loss:0.6319323778152466\n",
      "average true return:0.4223787784576416\n",
      "-----------------------\n"
     ]
    },
    {
     "name": "stderr",
     "output_type": "stream",
     "text": [
      "\r",
      "34it [00:25,  1.76it/s]"
     ]
    },
    {
     "name": "stdout",
     "output_type": "stream",
     "text": [
      "Training Step: 190\n",
      "generator loss:0.9894113540649414\n",
      "-----------------------\n",
      "generator loss:0.984153151512146\n",
      "-----------------------\n",
      "total discriminator loss:0.6169407963752747\n",
      "average true return:0.4313116669654846\n",
      "-----------------------\n"
     ]
    },
    {
     "name": "stderr",
     "output_type": "stream",
     "text": [
      "\r",
      "35it [00:25,  1.79it/s]"
     ]
    },
    {
     "name": "stdout",
     "output_type": "stream",
     "text": [
      "Training Step: 191\n",
      "generator loss:0.9850825071334839\n",
      "-----------------------\n",
      "generator loss:0.9818230867385864\n",
      "-----------------------\n",
      "total discriminator loss:0.6082244515419006\n",
      "average true return:0.44352999329566956\n",
      "-----------------------\n"
     ]
    },
    {
     "name": "stderr",
     "output_type": "stream",
     "text": [
      "\r",
      "36it [00:26,  1.81it/s]"
     ]
    },
    {
     "name": "stdout",
     "output_type": "stream",
     "text": [
      "Training Step: 192\n",
      "generator loss:0.967731237411499\n",
      "-----------------------\n",
      "generator loss:0.9506010413169861\n",
      "-----------------------\n",
      "total discriminator loss:0.5947753190994263\n",
      "average true return:0.4726886749267578\n",
      "-----------------------\n"
     ]
    },
    {
     "name": "stderr",
     "output_type": "stream",
     "text": [
      "\r",
      "37it [00:26,  1.82it/s]"
     ]
    },
    {
     "name": "stdout",
     "output_type": "stream",
     "text": [
      "Training Step: 193\n",
      "generator loss:0.9249465465545654\n",
      "-----------------------\n",
      "generator loss:0.8790879249572754\n",
      "-----------------------\n",
      "total discriminator loss:0.5982580780982971\n",
      "average true return:0.5006977319717407\n",
      "-----------------------\n"
     ]
    },
    {
     "name": "stderr",
     "output_type": "stream",
     "text": [
      "\r",
      "38it [00:27,  1.84it/s]"
     ]
    },
    {
     "name": "stdout",
     "output_type": "stream",
     "text": [
      "Training Step: 194\n",
      "generator loss:0.8729498386383057\n",
      "-----------------------\n",
      "generator loss:0.824898898601532\n",
      "-----------------------\n",
      "total discriminator loss:0.7981016635894775\n",
      "average true return:0.5245550870895386\n",
      "-----------------------\n"
     ]
    },
    {
     "name": "stderr",
     "output_type": "stream",
     "text": [
      "\r",
      "39it [00:27,  1.84it/s]"
     ]
    },
    {
     "name": "stdout",
     "output_type": "stream",
     "text": [
      "Training Step: 195\n",
      "generator loss:0.6881719827651978\n",
      "-----------------------\n",
      "generator loss:0.6559872627258301\n",
      "-----------------------\n",
      "total discriminator loss:0.6762140989303589\n",
      "average true return:0.5772093534469604\n",
      "-----------------------\n"
     ]
    },
    {
     "name": "stderr",
     "output_type": "stream",
     "text": [
      "\r",
      "40it [00:28,  1.85it/s]"
     ]
    },
    {
     "name": "stdout",
     "output_type": "stream",
     "text": [
      "Training Step: 196\n",
      "generator loss:0.5769821405410767\n",
      "-----------------------\n",
      "generator loss:0.5474213361740112\n",
      "-----------------------\n",
      "total discriminator loss:0.6936371922492981\n",
      "average true return:0.6045254468917847\n",
      "-----------------------\n"
     ]
    },
    {
     "name": "stderr",
     "output_type": "stream",
     "text": [
      "\r",
      "41it [00:28,  1.85it/s]"
     ]
    },
    {
     "name": "stdout",
     "output_type": "stream",
     "text": [
      "Training Step: 197\n",
      "generator loss:0.5138238668441772\n",
      "-----------------------\n",
      "generator loss:0.509363055229187\n",
      "-----------------------\n",
      "total discriminator loss:0.7147755026817322\n",
      "average true return:0.6099110841751099\n",
      "-----------------------\n"
     ]
    },
    {
     "name": "stderr",
     "output_type": "stream",
     "text": [
      "\r",
      "42it [00:29,  1.86it/s]"
     ]
    },
    {
     "name": "stdout",
     "output_type": "stream",
     "text": [
      "Training Step: 198\n",
      "generator loss:0.49651262164115906\n",
      "-----------------------\n",
      "generator loss:0.4918897747993469\n",
      "-----------------------\n",
      "total discriminator loss:0.7252969741821289\n",
      "average true return:0.6222056746482849\n",
      "-----------------------\n"
     ]
    },
    {
     "name": "stderr",
     "output_type": "stream",
     "text": [
      "\r",
      "43it [00:30,  1.86it/s]"
     ]
    },
    {
     "name": "stdout",
     "output_type": "stream",
     "text": [
      "Training Step: 199\n",
      "generator loss:0.4945434629917145\n",
      "-----------------------\n",
      "generator loss:0.48440980911254883\n",
      "-----------------------\n",
      "total discriminator loss:0.7290016412734985\n",
      "average true return:0.6245955228805542\n",
      "-----------------------\n"
     ]
    },
    {
     "name": "stderr",
     "output_type": "stream",
     "text": [
      "\r",
      "44it [00:30,  1.86it/s]"
     ]
    },
    {
     "name": "stdout",
     "output_type": "stream",
     "text": [
      "Training Step: 200\n",
      "generator loss:0.49245211482048035\n",
      "-----------------------\n",
      "generator loss:0.47375941276550293\n",
      "-----------------------\n",
      "total discriminator loss:0.7377181053161621\n",
      "average true return:0.6281789541244507\n",
      "-----------------------\n"
     ]
    },
    {
     "name": "stderr",
     "output_type": "stream",
     "text": [
      "\r",
      "45it [00:31,  1.80it/s]"
     ]
    },
    {
     "name": "stdout",
     "output_type": "stream",
     "text": [
      "tf.Tensor(\n",
      "[[[ 1.8006684 ]\n",
      "  [ 1.2371316 ]\n",
      "  [ 0.05951097]\n",
      "  ...\n",
      "  [-1.2673166 ]\n",
      "  [-0.83620083]\n",
      "  [ 0.00843657]]\n",
      "\n",
      " [[-0.40627804]\n",
      "  [ 0.20367372]\n",
      "  [ 0.96890247]\n",
      "  ...\n",
      "  [ 0.3370628 ]\n",
      "  [-0.18393618]\n",
      "  [-1.3174517 ]]\n",
      "\n",
      " [[-2.0606787 ]\n",
      "  [-0.59186625]\n",
      "  [-0.33047506]\n",
      "  ...\n",
      "  [ 1.901452  ]\n",
      "  [ 1.2164487 ]\n",
      "  [ 0.5630618 ]]\n",
      "\n",
      " ...\n",
      "\n",
      " [[ 1.5193498 ]\n",
      "  [ 1.6395926 ]\n",
      "  [ 1.4102911 ]\n",
      "  ...\n",
      "  [-1.2908247 ]\n",
      "  [-1.3794427 ]\n",
      "  [-0.39207852]]\n",
      "\n",
      " [[-1.2362654 ]\n",
      "  [-2.4388826 ]\n",
      "  [-2.618333  ]\n",
      "  ...\n",
      "  [ 1.3089952 ]\n",
      "  [ 0.6829723 ]\n",
      "  [ 1.0459856 ]]\n",
      "\n",
      " [[ 1.1444352 ]\n",
      "  [-0.33303326]\n",
      "  [ 0.7559107 ]\n",
      "  ...\n",
      "  [ 0.26649544]\n",
      "  [ 1.8489605 ]\n",
      "  [ 1.7059437 ]]], shape=(256, 20, 1), dtype=float32)\n",
      "Training Step: 201\n",
      "generator loss:0.4831353425979614\n",
      "-----------------------\n",
      "generator loss:0.46671316027641296\n",
      "-----------------------\n",
      "total discriminator loss:0.7478712797164917\n",
      "average true return:0.6293073892593384\n",
      "-----------------------\n"
     ]
    },
    {
     "name": "stderr",
     "output_type": "stream",
     "text": [
      "\r",
      "46it [00:31,  1.82it/s]"
     ]
    },
    {
     "name": "stdout",
     "output_type": "stream",
     "text": [
      "Training Step: 202\n",
      "generator loss:0.4868249297142029\n",
      "-----------------------\n",
      "generator loss:0.473025381565094\n",
      "-----------------------\n",
      "total discriminator loss:0.7398674488067627\n",
      "average true return:0.6242653131484985\n",
      "-----------------------\n"
     ]
    },
    {
     "name": "stderr",
     "output_type": "stream",
     "text": [
      "\r",
      "47it [00:32,  1.83it/s]"
     ]
    },
    {
     "name": "stdout",
     "output_type": "stream",
     "text": [
      "Training Step: 203\n",
      "generator loss:0.5036780834197998\n",
      "-----------------------\n",
      "generator loss:0.49655017256736755\n",
      "-----------------------\n",
      "total discriminator loss:0.7302408218383789\n",
      "average true return:0.6128913760185242\n",
      "-----------------------\n"
     ]
    },
    {
     "name": "stderr",
     "output_type": "stream",
     "text": [
      "\r",
      "48it [00:32,  1.84it/s]"
     ]
    },
    {
     "name": "stdout",
     "output_type": "stream",
     "text": [
      "Training Step: 204\n",
      "generator loss:0.5312491655349731\n",
      "-----------------------\n",
      "generator loss:0.5266697406768799\n",
      "-----------------------\n",
      "total discriminator loss:0.7208912372589111\n",
      "average true return:0.5903965830802917\n",
      "-----------------------\n"
     ]
    },
    {
     "name": "stderr",
     "output_type": "stream",
     "text": [
      "\r",
      "49it [00:33,  1.84it/s]"
     ]
    },
    {
     "name": "stdout",
     "output_type": "stream",
     "text": [
      "Training Step: 205\n",
      "generator loss:0.5679432153701782\n",
      "-----------------------\n",
      "generator loss:0.5614473819732666\n",
      "-----------------------\n",
      "total discriminator loss:0.7120763659477234\n",
      "average true return:0.5706928968429565\n",
      "-----------------------\n"
     ]
    },
    {
     "name": "stderr",
     "output_type": "stream",
     "text": [
      "\r",
      "50it [00:33,  1.85it/s]"
     ]
    },
    {
     "name": "stdout",
     "output_type": "stream",
     "text": [
      "Training Step: 206\n",
      "generator loss:0.6138187050819397\n",
      "-----------------------\n",
      "generator loss:0.6148136854171753\n",
      "-----------------------\n",
      "total discriminator loss:0.7090091109275818\n",
      "average true return:0.5425351858139038\n",
      "-----------------------\n"
     ]
    },
    {
     "name": "stderr",
     "output_type": "stream",
     "text": [
      "\r",
      "51it [00:34,  1.86it/s]"
     ]
    },
    {
     "name": "stdout",
     "output_type": "stream",
     "text": [
      "Training Step: 207\n",
      "generator loss:0.6631286144256592\n",
      "-----------------------\n",
      "generator loss:0.6590092182159424\n",
      "-----------------------\n",
      "total discriminator loss:0.7060644030570984\n",
      "average true return:0.517072319984436\n",
      "-----------------------\n"
     ]
    },
    {
     "name": "stderr",
     "output_type": "stream",
     "text": [
      "\r",
      "52it [00:34,  1.86it/s]"
     ]
    },
    {
     "name": "stdout",
     "output_type": "stream",
     "text": [
      "Training Step: 208\n",
      "generator loss:0.7131326198577881\n",
      "-----------------------\n",
      "generator loss:0.7073441743850708\n",
      "-----------------------\n",
      "total discriminator loss:0.7010635733604431\n",
      "average true return:0.49560242891311646\n",
      "-----------------------\n"
     ]
    },
    {
     "name": "stderr",
     "output_type": "stream",
     "text": [
      "\r",
      "53it [00:35,  1.86it/s]"
     ]
    },
    {
     "name": "stdout",
     "output_type": "stream",
     "text": [
      "Training Step: 209\n",
      "generator loss:0.7524310350418091\n",
      "-----------------------\n",
      "generator loss:0.737271785736084\n",
      "-----------------------\n",
      "total discriminator loss:0.7056244015693665\n",
      "average true return:0.47800761461257935\n",
      "-----------------------\n"
     ]
    },
    {
     "name": "stderr",
     "output_type": "stream",
     "text": [
      "\r",
      "54it [00:36,  1.86it/s]"
     ]
    },
    {
     "name": "stdout",
     "output_type": "stream",
     "text": [
      "Training Step: 210\n",
      "generator loss:0.7737144231796265\n",
      "-----------------------\n",
      "generator loss:0.7651898860931396\n",
      "-----------------------\n",
      "total discriminator loss:0.7024399042129517\n",
      "average true return:0.46565091609954834\n",
      "-----------------------\n"
     ]
    },
    {
     "name": "stderr",
     "output_type": "stream",
     "text": [
      "\r",
      "55it [00:36,  1.86it/s]"
     ]
    },
    {
     "name": "stdout",
     "output_type": "stream",
     "text": [
      "Training Step: 211\n",
      "generator loss:0.7990453243255615\n",
      "-----------------------\n",
      "generator loss:0.7811498045921326\n",
      "-----------------------\n",
      "total discriminator loss:0.7082129120826721\n",
      "average true return:0.4560433328151703\n",
      "-----------------------\n"
     ]
    },
    {
     "name": "stderr",
     "output_type": "stream",
     "text": [
      "\r",
      "56it [00:37,  1.86it/s]"
     ]
    },
    {
     "name": "stdout",
     "output_type": "stream",
     "text": [
      "Training Step: 212\n",
      "generator loss:0.8057054281234741\n",
      "-----------------------\n",
      "generator loss:0.7954265475273132\n",
      "-----------------------\n",
      "total discriminator loss:0.7098912596702576\n",
      "average true return:0.4526105523109436\n",
      "-----------------------\n"
     ]
    },
    {
     "name": "stderr",
     "output_type": "stream",
     "text": [
      "\r",
      "57it [00:37,  1.85it/s]"
     ]
    },
    {
     "name": "stdout",
     "output_type": "stream",
     "text": [
      "Training Step: 213\n",
      "generator loss:0.7983220815658569\n",
      "-----------------------\n",
      "generator loss:0.7909384369850159\n",
      "-----------------------\n",
      "total discriminator loss:0.718093991279602\n",
      "average true return:0.4498896598815918\n",
      "-----------------------\n"
     ]
    },
    {
     "name": "stderr",
     "output_type": "stream",
     "text": [
      "\r",
      "58it [00:38,  1.86it/s]"
     ]
    },
    {
     "name": "stdout",
     "output_type": "stream",
     "text": [
      "Training Step: 214\n",
      "generator loss:0.7839403748512268\n",
      "-----------------------\n",
      "generator loss:0.7774686813354492\n",
      "-----------------------\n",
      "total discriminator loss:0.7201985716819763\n",
      "average true return:0.4521436095237732\n",
      "-----------------------\n"
     ]
    },
    {
     "name": "stderr",
     "output_type": "stream",
     "text": [
      "\r",
      "59it [00:38,  1.86it/s]"
     ]
    },
    {
     "name": "stdout",
     "output_type": "stream",
     "text": [
      "Training Step: 215\n",
      "generator loss:0.7664763927459717\n",
      "-----------------------\n",
      "generator loss:0.7577860355377197\n",
      "-----------------------\n",
      "total discriminator loss:0.7280846834182739\n",
      "average true return:0.4551117420196533\n",
      "-----------------------\n"
     ]
    },
    {
     "name": "stderr",
     "output_type": "stream",
     "text": [
      "\r",
      "60it [00:39,  1.86it/s]"
     ]
    },
    {
     "name": "stdout",
     "output_type": "stream",
     "text": [
      "Training Step: 216\n",
      "generator loss:0.7448417544364929\n",
      "-----------------------\n",
      "generator loss:0.742048978805542\n",
      "-----------------------\n",
      "total discriminator loss:0.7274847626686096\n",
      "average true return:0.4609103202819824\n",
      "-----------------------\n"
     ]
    },
    {
     "name": "stderr",
     "output_type": "stream",
     "text": [
      "\r",
      "61it [00:39,  1.86it/s]"
     ]
    },
    {
     "name": "stdout",
     "output_type": "stream",
     "text": [
      "Training Step: 217\n",
      "generator loss:0.7238434553146362\n",
      "-----------------------\n",
      "generator loss:0.7254729270935059\n",
      "-----------------------\n",
      "total discriminator loss:0.7257195711135864\n",
      "average true return:0.46677884459495544\n",
      "-----------------------\n"
     ]
    },
    {
     "name": "stderr",
     "output_type": "stream",
     "text": [
      "\r",
      "62it [00:40,  1.87it/s]"
     ]
    },
    {
     "name": "stdout",
     "output_type": "stream",
     "text": [
      "Training Step: 218\n",
      "generator loss:0.7145302295684814\n",
      "-----------------------\n",
      "generator loss:0.7121705412864685\n",
      "-----------------------\n",
      "total discriminator loss:0.7203824520111084\n",
      "average true return:0.47355812788009644\n",
      "-----------------------\n"
     ]
    },
    {
     "name": "stderr",
     "output_type": "stream",
     "text": [
      "\r",
      "63it [00:40,  1.86it/s]"
     ]
    },
    {
     "name": "stdout",
     "output_type": "stream",
     "text": [
      "Training Step: 219\n",
      "generator loss:0.7027868032455444\n",
      "-----------------------\n",
      "generator loss:0.7021732926368713\n",
      "-----------------------\n",
      "total discriminator loss:0.7161967754364014\n",
      "average true return:0.48283469676971436\n",
      "-----------------------\n"
     ]
    },
    {
     "name": "stderr",
     "output_type": "stream",
     "text": [
      "\r",
      "64it [00:41,  1.85it/s]"
     ]
    },
    {
     "name": "stdout",
     "output_type": "stream",
     "text": [
      "Training Step: 220\n",
      "generator loss:0.690669059753418\n",
      "-----------------------\n",
      "generator loss:0.6905075907707214\n",
      "-----------------------\n",
      "total discriminator loss:0.7116942405700684\n",
      "average true return:0.49189817905426025\n",
      "-----------------------\n"
     ]
    },
    {
     "name": "stderr",
     "output_type": "stream",
     "text": [
      "\r",
      "65it [00:41,  1.85it/s]"
     ]
    },
    {
     "name": "stdout",
     "output_type": "stream",
     "text": [
      "Training Step: 221\n",
      "generator loss:0.6784054040908813\n",
      "-----------------------\n",
      "generator loss:0.6768314242362976\n",
      "-----------------------\n",
      "total discriminator loss:0.7064614295959473\n",
      "average true return:0.5019083023071289\n",
      "-----------------------\n"
     ]
    },
    {
     "name": "stderr",
     "output_type": "stream",
     "text": [
      "\r",
      "66it [00:42,  1.85it/s]"
     ]
    },
    {
     "name": "stdout",
     "output_type": "stream",
     "text": [
      "Training Step: 222\n",
      "generator loss:0.6661561727523804\n",
      "-----------------------\n",
      "generator loss:0.662224292755127\n",
      "-----------------------\n",
      "total discriminator loss:0.7006335258483887\n",
      "average true return:0.5112674832344055\n",
      "-----------------------\n"
     ]
    },
    {
     "name": "stderr",
     "output_type": "stream",
     "text": [
      "\r",
      "67it [00:43,  1.85it/s]"
     ]
    },
    {
     "name": "stdout",
     "output_type": "stream",
     "text": [
      "Training Step: 223\n",
      "generator loss:0.652411699295044\n",
      "-----------------------\n",
      "generator loss:0.6522477865219116\n",
      "-----------------------\n",
      "total discriminator loss:0.6975017189979553\n",
      "average true return:0.5201601982116699\n",
      "-----------------------\n"
     ]
    },
    {
     "name": "stderr",
     "output_type": "stream",
     "text": [
      "\r",
      "68it [00:43,  1.85it/s]"
     ]
    },
    {
     "name": "stdout",
     "output_type": "stream",
     "text": [
      "Training Step: 224\n",
      "generator loss:0.6419382691383362\n",
      "-----------------------\n",
      "generator loss:0.6398181319236755\n",
      "-----------------------\n",
      "total discriminator loss:0.6944459676742554\n",
      "average true return:0.5276279449462891\n",
      "-----------------------\n"
     ]
    },
    {
     "name": "stderr",
     "output_type": "stream",
     "text": [
      "\r",
      "69it [00:44,  1.85it/s]"
     ]
    },
    {
     "name": "stdout",
     "output_type": "stream",
     "text": [
      "Training Step: 225\n",
      "generator loss:0.6326079368591309\n",
      "-----------------------\n",
      "generator loss:0.6313729286193848\n",
      "-----------------------\n",
      "total discriminator loss:0.691862940788269\n",
      "average true return:0.5344061851501465\n",
      "-----------------------\n"
     ]
    },
    {
     "name": "stderr",
     "output_type": "stream",
     "text": [
      "\r",
      "70it [00:44,  1.81it/s]"
     ]
    },
    {
     "name": "stdout",
     "output_type": "stream",
     "text": [
      "tf.Tensor(\n",
      "[[[ 0.37015823]\n",
      "  [ 0.4818234 ]\n",
      "  [ 0.6887095 ]\n",
      "  ...\n",
      "  [-0.1181533 ]\n",
      "  [ 0.0366472 ]\n",
      "  [ 0.64194936]]\n",
      "\n",
      " [[-0.49930924]\n",
      "  [-0.612866  ]\n",
      "  [-0.4356804 ]\n",
      "  ...\n",
      "  [-0.20591184]\n",
      "  [ 0.36652333]\n",
      "  [ 0.40833482]]\n",
      "\n",
      " [[-0.98360497]\n",
      "  [-0.58066577]\n",
      "  [-0.34594986]\n",
      "  ...\n",
      "  [ 0.26130608]\n",
      "  [-0.20893842]\n",
      "  [-1.1813693 ]]\n",
      "\n",
      " ...\n",
      "\n",
      " [[ 0.03751092]\n",
      "  [ 0.1860798 ]\n",
      "  [ 0.12206884]\n",
      "  ...\n",
      "  [-0.674225  ]\n",
      "  [ 0.4746156 ]\n",
      "  [-0.5000136 ]]\n",
      "\n",
      " [[ 0.14976162]\n",
      "  [-0.4003035 ]\n",
      "  [-0.26680386]\n",
      "  ...\n",
      "  [-0.25181028]\n",
      "  [ 0.23971683]\n",
      "  [ 0.503265  ]]\n",
      "\n",
      " [[-0.04794685]\n",
      "  [-0.92356956]\n",
      "  [-0.92511356]\n",
      "  ...\n",
      "  [ 0.6383536 ]\n",
      "  [-0.01610339]\n",
      "  [ 0.15058538]]], shape=(256, 20, 1), dtype=float32)\n",
      "Training Step: 226\n",
      "generator loss:0.6238602995872498\n",
      "-----------------------\n",
      "generator loss:0.6231057643890381\n",
      "-----------------------\n",
      "total discriminator loss:0.7029780149459839\n",
      "average true return:0.5403158664703369\n",
      "-----------------------\n"
     ]
    },
    {
     "name": "stderr",
     "output_type": "stream",
     "text": [
      "\r",
      "71it [00:45,  1.82it/s]"
     ]
    },
    {
     "name": "stdout",
     "output_type": "stream",
     "text": [
      "Training Step: 227\n",
      "generator loss:0.6192581653594971\n",
      "-----------------------\n",
      "generator loss:0.6182922124862671\n",
      "-----------------------\n",
      "total discriminator loss:0.691394031047821\n",
      "average true return:0.5434154272079468\n",
      "-----------------------\n"
     ]
    },
    {
     "name": "stderr",
     "output_type": "stream",
     "text": [
      "\r",
      "72it [00:45,  1.83it/s]"
     ]
    },
    {
     "name": "stdout",
     "output_type": "stream",
     "text": [
      "Training Step: 228\n",
      "generator loss:0.6142120361328125\n",
      "-----------------------\n",
      "generator loss:0.6125689744949341\n",
      "-----------------------\n",
      "total discriminator loss:0.6912108659744263\n",
      "average true return:0.5459648370742798\n",
      "-----------------------\n"
     ]
    },
    {
     "name": "stderr",
     "output_type": "stream",
     "text": [
      "\r",
      "73it [00:46,  1.84it/s]"
     ]
    },
    {
     "name": "stdout",
     "output_type": "stream",
     "text": [
      "Training Step: 229\n",
      "generator loss:0.6099624037742615\n",
      "-----------------------\n",
      "generator loss:0.6099604368209839\n",
      "-----------------------\n",
      "total discriminator loss:0.6897834539413452\n",
      "average true return:0.5483372807502747\n",
      "-----------------------\n"
     ]
    },
    {
     "name": "stderr",
     "output_type": "stream",
     "text": [
      "\r",
      "74it [00:46,  1.85it/s]"
     ]
    },
    {
     "name": "stdout",
     "output_type": "stream",
     "text": [
      "Training Step: 230\n",
      "generator loss:0.6092150211334229\n",
      "-----------------------\n",
      "generator loss:0.6101014614105225\n",
      "-----------------------\n",
      "total discriminator loss:0.6904309391975403\n",
      "average true return:0.5490003824234009\n",
      "-----------------------\n"
     ]
    },
    {
     "name": "stderr",
     "output_type": "stream",
     "text": [
      "\r",
      "75it [00:47,  1.86it/s]"
     ]
    },
    {
     "name": "stdout",
     "output_type": "stream",
     "text": [
      "Training Step: 231\n",
      "generator loss:0.6092382669448853\n",
      "-----------------------\n",
      "generator loss:0.6085996627807617\n",
      "-----------------------\n",
      "total discriminator loss:0.6907563209533691\n",
      "average true return:0.5486643314361572\n",
      "-----------------------\n"
     ]
    },
    {
     "name": "stderr",
     "output_type": "stream",
     "text": [
      "\r",
      "76it [00:47,  1.86it/s]"
     ]
    },
    {
     "name": "stdout",
     "output_type": "stream",
     "text": [
      "Training Step: 232\n",
      "generator loss:0.6110826730728149\n",
      "-----------------------\n",
      "generator loss:0.6092482805252075\n",
      "-----------------------\n",
      "total discriminator loss:0.6902446746826172\n",
      "average true return:0.548609733581543\n",
      "-----------------------\n"
     ]
    },
    {
     "name": "stderr",
     "output_type": "stream",
     "text": [
      "\r",
      "77it [00:48,  1.86it/s]"
     ]
    },
    {
     "name": "stdout",
     "output_type": "stream",
     "text": [
      "Training Step: 233\n",
      "generator loss:0.6144914031028748\n",
      "-----------------------\n",
      "generator loss:0.612417459487915\n",
      "-----------------------\n",
      "total discriminator loss:0.689752459526062\n",
      "average true return:0.5474810600280762\n",
      "-----------------------\n"
     ]
    },
    {
     "name": "stderr",
     "output_type": "stream",
     "text": [
      "\r",
      "78it [00:48,  1.86it/s]"
     ]
    },
    {
     "name": "stdout",
     "output_type": "stream",
     "text": [
      "Training Step: 234\n",
      "generator loss:0.6170492768287659\n",
      "-----------------------\n",
      "generator loss:0.6158351898193359\n",
      "-----------------------\n",
      "total discriminator loss:0.6920462846755981\n",
      "average true return:0.5457141995429993\n",
      "-----------------------\n"
     ]
    },
    {
     "name": "stderr",
     "output_type": "stream",
     "text": [
      "\r",
      "79it [00:49,  1.86it/s]"
     ]
    },
    {
     "name": "stdout",
     "output_type": "stream",
     "text": [
      "Training Step: 235\n",
      "generator loss:0.6217817068099976\n",
      "-----------------------\n",
      "generator loss:0.6188786625862122\n",
      "-----------------------\n",
      "total discriminator loss:0.690335750579834\n",
      "average true return:0.5419671535491943\n",
      "-----------------------\n"
     ]
    },
    {
     "name": "stderr",
     "output_type": "stream",
     "text": [
      "\r",
      "80it [00:50,  1.86it/s]"
     ]
    },
    {
     "name": "stdout",
     "output_type": "stream",
     "text": [
      "Training Step: 236\n",
      "generator loss:0.6255656480789185\n",
      "-----------------------\n",
      "generator loss:0.6254146099090576\n",
      "-----------------------\n",
      "total discriminator loss:0.691024899482727\n",
      "average true return:0.5389716029167175\n",
      "-----------------------\n"
     ]
    },
    {
     "name": "stderr",
     "output_type": "stream",
     "text": [
      "\r",
      "81it [00:50,  1.86it/s]"
     ]
    },
    {
     "name": "stdout",
     "output_type": "stream",
     "text": [
      "Training Step: 237\n",
      "generator loss:0.6302147507667542\n",
      "-----------------------\n",
      "generator loss:0.6299620866775513\n",
      "-----------------------\n",
      "total discriminator loss:0.6899626851081848\n",
      "average true return:0.536737859249115\n",
      "-----------------------\n"
     ]
    },
    {
     "name": "stderr",
     "output_type": "stream",
     "text": [
      "\r",
      "82it [00:51,  1.86it/s]"
     ]
    },
    {
     "name": "stdout",
     "output_type": "stream",
     "text": [
      "Training Step: 238\n",
      "generator loss:0.6368044018745422\n",
      "-----------------------\n",
      "generator loss:0.6339317560195923\n",
      "-----------------------\n",
      "total discriminator loss:0.6903289556503296\n",
      "average true return:0.5335344672203064\n",
      "-----------------------\n"
     ]
    },
    {
     "name": "stderr",
     "output_type": "stream",
     "text": [
      "\r",
      "83it [00:51,  1.85it/s]"
     ]
    },
    {
     "name": "stdout",
     "output_type": "stream",
     "text": [
      "Training Step: 239\n",
      "generator loss:0.6408309936523438\n",
      "-----------------------\n",
      "generator loss:0.6398523449897766\n",
      "-----------------------\n",
      "total discriminator loss:0.6933771371841431\n",
      "average true return:0.5291506052017212\n",
      "-----------------------\n"
     ]
    },
    {
     "name": "stderr",
     "output_type": "stream",
     "text": [
      "\r",
      "84it [00:52,  1.85it/s]"
     ]
    },
    {
     "name": "stdout",
     "output_type": "stream",
     "text": [
      "Training Step: 240\n",
      "generator loss:0.6463279724121094\n",
      "-----------------------\n",
      "generator loss:0.6472315788269043\n",
      "-----------------------\n",
      "total discriminator loss:0.6927451491355896\n",
      "average true return:0.5258355140686035\n",
      "-----------------------\n"
     ]
    },
    {
     "name": "stderr",
     "output_type": "stream",
     "text": [
      "\r",
      "85it [00:52,  1.85it/s]"
     ]
    },
    {
     "name": "stdout",
     "output_type": "stream",
     "text": [
      "Training Step: 241\n",
      "generator loss:0.6529526710510254\n",
      "-----------------------\n",
      "generator loss:0.6523895859718323\n",
      "-----------------------\n",
      "total discriminator loss:0.6913072466850281\n",
      "average true return:0.522997260093689\n",
      "-----------------------\n"
     ]
    },
    {
     "name": "stderr",
     "output_type": "stream",
     "text": [
      "\r",
      "86it [00:53,  1.86it/s]"
     ]
    },
    {
     "name": "stdout",
     "output_type": "stream",
     "text": [
      "Training Step: 242\n",
      "generator loss:0.6596975326538086\n",
      "-----------------------\n",
      "generator loss:0.6595107316970825\n",
      "-----------------------\n",
      "total discriminator loss:0.6930311918258667\n",
      "average true return:0.5192323923110962\n",
      "-----------------------\n"
     ]
    },
    {
     "name": "stderr",
     "output_type": "stream",
     "text": [
      "\r",
      "87it [00:53,  1.85it/s]"
     ]
    },
    {
     "name": "stdout",
     "output_type": "stream",
     "text": [
      "Training Step: 243\n",
      "generator loss:0.6674052476882935\n",
      "-----------------------\n",
      "generator loss:0.6666405200958252\n",
      "-----------------------\n",
      "total discriminator loss:0.6922175884246826\n",
      "average true return:0.5153643488883972\n",
      "-----------------------\n"
     ]
    },
    {
     "name": "stderr",
     "output_type": "stream",
     "text": [
      "\r",
      "88it [00:54,  1.85it/s]"
     ]
    },
    {
     "name": "stdout",
     "output_type": "stream",
     "text": [
      "Training Step: 244\n",
      "generator loss:0.6769281625747681\n",
      "-----------------------\n",
      "generator loss:0.6747120022773743\n",
      "-----------------------\n"
     ]
    },
    {
     "name": "stderr",
     "output_type": "stream",
     "text": [
      "\r",
      "89it [00:54,  1.82it/s]"
     ]
    },
    {
     "name": "stdout",
     "output_type": "stream",
     "text": [
      "total discriminator loss:0.6895995736122131\n",
      "average true return:0.5129736661911011\n",
      "-----------------------\n",
      "Training Step: 245\n",
      "generator loss:0.6850675940513611\n",
      "-----------------------\n",
      "generator loss:0.684600830078125\n",
      "-----------------------\n",
      "total discriminator loss:0.6879473924636841\n",
      "average true return:0.5081726312637329\n",
      "-----------------------\n"
     ]
    },
    {
     "name": "stderr",
     "output_type": "stream",
     "text": [
      "\r",
      "90it [00:55,  1.83it/s]"
     ]
    },
    {
     "name": "stdout",
     "output_type": "stream",
     "text": [
      "Training Step: 246\n",
      "generator loss:0.6966888904571533\n",
      "-----------------------\n",
      "generator loss:0.6960920095443726\n",
      "-----------------------\n",
      "total discriminator loss:0.6851476430892944\n",
      "average true return:0.5050525665283203\n",
      "-----------------------\n"
     ]
    },
    {
     "name": "stderr",
     "output_type": "stream",
     "text": [
      "\r",
      "91it [00:56,  1.84it/s]"
     ]
    },
    {
     "name": "stdout",
     "output_type": "stream",
     "text": [
      "Training Step: 247\n",
      "generator loss:0.7090719938278198\n",
      "-----------------------\n",
      "generator loss:0.7064404487609863\n",
      "-----------------------\n",
      "total discriminator loss:0.6817076206207275\n",
      "average true return:0.500993013381958\n",
      "-----------------------\n"
     ]
    },
    {
     "name": "stderr",
     "output_type": "stream",
     "text": [
      "\r",
      "92it [00:56,  1.85it/s]"
     ]
    },
    {
     "name": "stdout",
     "output_type": "stream",
     "text": [
      "Training Step: 248\n",
      "generator loss:0.7204928398132324\n",
      "-----------------------\n",
      "generator loss:0.7199780941009521\n",
      "-----------------------\n",
      "total discriminator loss:0.6781011819839478\n",
      "average true return:0.49687761068344116\n",
      "-----------------------\n"
     ]
    },
    {
     "name": "stderr",
     "output_type": "stream",
     "text": [
      "\r",
      "93it [00:57,  1.85it/s]"
     ]
    },
    {
     "name": "stdout",
     "output_type": "stream",
     "text": [
      "Training Step: 249\n",
      "generator loss:0.7350422143936157\n",
      "-----------------------\n",
      "generator loss:0.7342603206634521\n",
      "-----------------------\n",
      "total discriminator loss:0.6768848896026611\n",
      "average true return:0.4913386106491089\n",
      "-----------------------\n"
     ]
    },
    {
     "name": "stderr",
     "output_type": "stream",
     "text": [
      "\r",
      "94it [00:57,  1.85it/s]"
     ]
    },
    {
     "name": "stdout",
     "output_type": "stream",
     "text": [
      "Training Step: 250\n",
      "generator loss:0.7509867548942566\n",
      "-----------------------\n",
      "generator loss:0.7491476535797119\n",
      "-----------------------\n",
      "total discriminator loss:0.6718558073043823\n",
      "average true return:0.4881505072116852\n",
      "-----------------------\n"
     ]
    },
    {
     "name": "stderr",
     "output_type": "stream",
     "text": [
      "\r",
      "95it [00:58,  1.80it/s]"
     ]
    },
    {
     "name": "stdout",
     "output_type": "stream",
     "text": [
      "tf.Tensor(\n",
      "[[[-0.18932597]\n",
      "  [ 0.29277802]\n",
      "  [-0.9339556 ]\n",
      "  ...\n",
      "  [ 0.68513113]\n",
      "  [ 0.29622987]\n",
      "  [-0.03143039]]\n",
      "\n",
      " [[-0.71197486]\n",
      "  [-1.9613118 ]\n",
      "  [-1.3744198 ]\n",
      "  ...\n",
      "  [ 0.68671775]\n",
      "  [-1.4083267 ]\n",
      "  [-1.9011018 ]]\n",
      "\n",
      " [[-1.716893  ]\n",
      "  [-1.2609539 ]\n",
      "  [ 0.10644799]\n",
      "  ...\n",
      "  [-1.0355414 ]\n",
      "  [-1.0263164 ]\n",
      "  [ 0.14393741]]\n",
      "\n",
      " ...\n",
      "\n",
      " [[-0.10919896]\n",
      "  [-1.2609681 ]\n",
      "  [-1.3712518 ]\n",
      "  ...\n",
      "  [ 0.50398225]\n",
      "  [-1.2368151 ]\n",
      "  [-0.04495   ]]\n",
      "\n",
      " [[-0.5178119 ]\n",
      "  [-0.5388518 ]\n",
      "  [-0.48219776]\n",
      "  ...\n",
      "  [-0.61101466]\n",
      "  [ 0.69534177]\n",
      "  [-0.19447361]]\n",
      "\n",
      " [[ 0.67873806]\n",
      "  [-0.04730171]\n",
      "  [-0.47767282]\n",
      "  ...\n",
      "  [ 0.85017556]\n",
      "  [-0.80859333]\n",
      "  [-0.95936316]]], shape=(256, 20, 1), dtype=float32)\n",
      "Training Step: 251\n",
      "generator loss:0.7681466341018677\n",
      "-----------------------\n",
      "generator loss:0.7599506378173828\n",
      "-----------------------\n",
      "total discriminator loss:0.670042872428894\n",
      "average true return:0.48325687646865845\n",
      "-----------------------\n"
     ]
    },
    {
     "name": "stderr",
     "output_type": "stream",
     "text": [
      "\r",
      "96it [00:58,  1.82it/s]"
     ]
    },
    {
     "name": "stdout",
     "output_type": "stream",
     "text": [
      "Training Step: 252\n",
      "generator loss:0.7807233333587646\n",
      "-----------------------\n",
      "generator loss:0.774775505065918\n",
      "-----------------------\n",
      "total discriminator loss:0.671196460723877\n",
      "average true return:0.4805285334587097\n",
      "-----------------------\n"
     ]
    },
    {
     "name": "stderr",
     "output_type": "stream",
     "text": [
      "\r",
      "97it [00:59,  1.83it/s]"
     ]
    },
    {
     "name": "stdout",
     "output_type": "stream",
     "text": [
      "Training Step: 253\n",
      "generator loss:0.7849008440971375\n",
      "-----------------------\n",
      "generator loss:0.7787047624588013\n",
      "-----------------------\n",
      "total discriminator loss:0.6727071404457092\n",
      "average true return:0.4776546359062195\n",
      "-----------------------\n"
     ]
    },
    {
     "name": "stderr",
     "output_type": "stream",
     "text": [
      "\r",
      "98it [00:59,  1.84it/s]"
     ]
    },
    {
     "name": "stdout",
     "output_type": "stream",
     "text": [
      "Training Step: 254\n",
      "generator loss:0.7859834432601929\n",
      "-----------------------\n",
      "generator loss:0.7806240320205688\n",
      "-----------------------\n",
      "total discriminator loss:0.6776587963104248\n",
      "average true return:0.47645750641822815\n",
      "-----------------------\n"
     ]
    },
    {
     "name": "stderr",
     "output_type": "stream",
     "text": [
      "\r",
      "99it [01:00,  1.84it/s]"
     ]
    },
    {
     "name": "stdout",
     "output_type": "stream",
     "text": [
      "Training Step: 255\n",
      "generator loss:0.7798311114311218\n",
      "-----------------------\n",
      "generator loss:0.7703823447227478\n",
      "-----------------------\n",
      "total discriminator loss:0.7114943265914917\n",
      "average true return:0.4790906608104706\n",
      "-----------------------\n"
     ]
    },
    {
     "name": "stderr",
     "output_type": "stream",
     "text": [
      "\r",
      "100it [01:00,  1.85it/s]"
     ]
    },
    {
     "name": "stdout",
     "output_type": "stream",
     "text": [
      "Training Step: 256\n",
      "generator loss:0.7602533102035522\n",
      "-----------------------\n",
      "generator loss:0.7393994331359863\n",
      "-----------------------\n",
      "total discriminator loss:0.6941959261894226\n",
      "average true return:0.4834097623825073\n",
      "-----------------------\n"
     ]
    },
    {
     "name": "stderr",
     "output_type": "stream",
     "text": [
      "\r",
      "101it [01:01,  1.85it/s]"
     ]
    },
    {
     "name": "stdout",
     "output_type": "stream",
     "text": [
      "Training Step: 257\n",
      "generator loss:0.7318894863128662\n",
      "-----------------------\n",
      "generator loss:0.7086519002914429\n",
      "-----------------------\n",
      "total discriminator loss:0.7144712209701538\n",
      "average true return:0.4924003779888153\n",
      "-----------------------\n"
     ]
    },
    {
     "name": "stderr",
     "output_type": "stream",
     "text": [
      "\r",
      "102it [01:01,  1.85it/s]"
     ]
    },
    {
     "name": "stdout",
     "output_type": "stream",
     "text": [
      "Training Step: 258\n",
      "generator loss:0.6798704266548157\n",
      "-----------------------\n",
      "generator loss:0.654939591884613\n",
      "-----------------------\n",
      "total discriminator loss:0.7352198362350464\n",
      "average true return:0.5065991282463074\n",
      "-----------------------\n"
     ]
    },
    {
     "name": "stderr",
     "output_type": "stream",
     "text": [
      "\r",
      "103it [01:02,  1.85it/s]"
     ]
    },
    {
     "name": "stdout",
     "output_type": "stream",
     "text": [
      "Training Step: 259\n",
      "generator loss:0.6313149929046631\n",
      "-----------------------\n",
      "generator loss:0.6113871335983276\n",
      "-----------------------\n",
      "total discriminator loss:0.752302348613739\n",
      "average true return:0.5233442783355713\n",
      "-----------------------\n"
     ]
    },
    {
     "name": "stderr",
     "output_type": "stream",
     "text": [
      "\r",
      "104it [01:03,  1.86it/s]"
     ]
    },
    {
     "name": "stdout",
     "output_type": "stream",
     "text": [
      "Training Step: 260\n",
      "generator loss:0.5817180275917053\n",
      "-----------------------\n",
      "generator loss:0.5639432668685913\n",
      "-----------------------\n",
      "total discriminator loss:0.7775987982749939\n",
      "average true return:0.5356006622314453\n",
      "-----------------------\n"
     ]
    },
    {
     "name": "stderr",
     "output_type": "stream",
     "text": [
      "\r",
      "105it [01:03,  1.86it/s]"
     ]
    },
    {
     "name": "stdout",
     "output_type": "stream",
     "text": [
      "Training Step: 261\n",
      "generator loss:0.5502057671546936\n",
      "-----------------------\n",
      "generator loss:0.5415937900543213\n",
      "-----------------------\n",
      "total discriminator loss:0.7791401743888855\n",
      "average true return:0.5406398773193359\n",
      "-----------------------\n"
     ]
    },
    {
     "name": "stderr",
     "output_type": "stream",
     "text": [
      "\r",
      "106it [01:04,  1.86it/s]"
     ]
    },
    {
     "name": "stdout",
     "output_type": "stream",
     "text": [
      "Training Step: 262\n",
      "generator loss:0.5413212776184082\n",
      "-----------------------\n",
      "generator loss:0.540076732635498\n",
      "-----------------------\n",
      "total discriminator loss:0.77811598777771\n",
      "average true return:0.5447342395782471\n",
      "-----------------------\n"
     ]
    },
    {
     "name": "stderr",
     "output_type": "stream",
     "text": [
      "\r",
      "107it [01:04,  1.86it/s]"
     ]
    },
    {
     "name": "stdout",
     "output_type": "stream",
     "text": [
      "Training Step: 263\n",
      "generator loss:0.558644711971283\n",
      "-----------------------\n",
      "generator loss:0.5457911491394043\n",
      "-----------------------\n",
      "total discriminator loss:0.7706356644630432\n",
      "average true return:0.5462350845336914\n",
      "-----------------------\n"
     ]
    },
    {
     "name": "stderr",
     "output_type": "stream",
     "text": [
      "\r",
      "108it [01:05,  1.86it/s]"
     ]
    },
    {
     "name": "stdout",
     "output_type": "stream",
     "text": [
      "Training Step: 264\n",
      "generator loss:0.5633093118667603\n",
      "-----------------------\n",
      "generator loss:0.5579737424850464\n",
      "-----------------------\n",
      "total discriminator loss:0.7591625452041626\n",
      "average true return:0.5462126135826111\n",
      "-----------------------\n"
     ]
    },
    {
     "name": "stderr",
     "output_type": "stream",
     "text": [
      "\r",
      "109it [01:05,  1.86it/s]"
     ]
    },
    {
     "name": "stdout",
     "output_type": "stream",
     "text": [
      "Training Step: 265\n",
      "generator loss:0.5800590515136719\n",
      "-----------------------\n",
      "generator loss:0.569917619228363\n",
      "-----------------------\n",
      "total discriminator loss:0.7483501434326172\n",
      "average true return:0.5417453050613403\n",
      "-----------------------\n"
     ]
    },
    {
     "name": "stderr",
     "output_type": "stream",
     "text": [
      "\r",
      "110it [01:06,  1.86it/s]"
     ]
    },
    {
     "name": "stdout",
     "output_type": "stream",
     "text": [
      "Training Step: 266\n",
      "generator loss:0.5982682704925537\n",
      "-----------------------\n",
      "generator loss:0.5945420861244202\n",
      "-----------------------\n",
      "total discriminator loss:0.7364214658737183\n",
      "average true return:0.5327915549278259\n",
      "-----------------------\n"
     ]
    },
    {
     "name": "stderr",
     "output_type": "stream",
     "text": [
      "\r",
      "111it [01:06,  1.86it/s]"
     ]
    },
    {
     "name": "stdout",
     "output_type": "stream",
     "text": [
      "Training Step: 267\n",
      "generator loss:0.6196956634521484\n",
      "-----------------------\n",
      "generator loss:0.6123789548873901\n",
      "-----------------------\n",
      "total discriminator loss:0.7262187004089355\n",
      "average true return:0.5260723233222961\n",
      "-----------------------\n"
     ]
    },
    {
     "name": "stderr",
     "output_type": "stream",
     "text": [
      "\r",
      "112it [01:07,  1.86it/s]"
     ]
    },
    {
     "name": "stdout",
     "output_type": "stream",
     "text": [
      "Training Step: 268\n",
      "generator loss:0.6410102844238281\n",
      "-----------------------\n",
      "generator loss:0.6422706842422485\n",
      "-----------------------\n",
      "total discriminator loss:0.7178983688354492\n",
      "average true return:0.5171184539794922\n",
      "-----------------------\n"
     ]
    },
    {
     "name": "stderr",
     "output_type": "stream",
     "text": [
      "\r",
      "113it [01:07,  1.86it/s]"
     ]
    },
    {
     "name": "stdout",
     "output_type": "stream",
     "text": [
      "Training Step: 269\n",
      "generator loss:0.6624216437339783\n",
      "-----------------------\n",
      "generator loss:0.661189079284668\n",
      "-----------------------\n",
      "total discriminator loss:0.7088140249252319\n",
      "average true return:0.5086554288864136\n",
      "-----------------------\n"
     ]
    },
    {
     "name": "stderr",
     "output_type": "stream",
     "text": [
      "\r",
      "114it [01:08,  1.86it/s]"
     ]
    },
    {
     "name": "stdout",
     "output_type": "stream",
     "text": [
      "Training Step: 270\n",
      "generator loss:0.6915647387504578\n",
      "-----------------------\n",
      "generator loss:0.6863191723823547\n",
      "-----------------------\n",
      "total discriminator loss:0.7037299871444702\n",
      "average true return:0.5011413097381592\n",
      "-----------------------\n"
     ]
    },
    {
     "name": "stderr",
     "output_type": "stream",
     "text": [
      "\r",
      "115it [01:08,  1.86it/s]"
     ]
    },
    {
     "name": "stdout",
     "output_type": "stream",
     "text": [
      "Training Step: 271\n",
      "generator loss:0.7106996178627014\n",
      "-----------------------\n",
      "generator loss:0.6998403072357178\n",
      "-----------------------\n",
      "total discriminator loss:0.7019945383071899\n",
      "average true return:0.4931941032409668\n",
      "-----------------------\n"
     ]
    },
    {
     "name": "stderr",
     "output_type": "stream",
     "text": [
      "\r",
      "116it [01:09,  1.86it/s]"
     ]
    },
    {
     "name": "stdout",
     "output_type": "stream",
     "text": [
      "Training Step: 272\n",
      "generator loss:0.7239161133766174\n",
      "-----------------------\n",
      "generator loss:0.7187695503234863\n",
      "-----------------------\n",
      "total discriminator loss:0.6967490911483765\n",
      "average true return:0.48583853244781494\n",
      "-----------------------\n"
     ]
    },
    {
     "name": "stderr",
     "output_type": "stream",
     "text": [
      "\r",
      "117it [01:10,  1.86it/s]"
     ]
    },
    {
     "name": "stdout",
     "output_type": "stream",
     "text": [
      "Training Step: 273\n",
      "generator loss:0.7407982349395752\n",
      "-----------------------\n",
      "generator loss:0.7359910011291504\n",
      "-----------------------\n",
      "total discriminator loss:0.693938672542572\n",
      "average true return:0.47892436385154724\n",
      "-----------------------\n"
     ]
    },
    {
     "name": "stderr",
     "output_type": "stream",
     "text": [
      "\r",
      "118it [01:10,  1.85it/s]"
     ]
    },
    {
     "name": "stdout",
     "output_type": "stream",
     "text": [
      "Training Step: 274\n",
      "generator loss:0.7568225860595703\n",
      "-----------------------\n",
      "generator loss:0.7481479048728943\n",
      "-----------------------\n",
      "total discriminator loss:0.6921365261077881\n",
      "average true return:0.4732215106487274\n",
      "-----------------------\n"
     ]
    },
    {
     "name": "stderr",
     "output_type": "stream",
     "text": [
      "\r",
      "119it [01:11,  1.85it/s]"
     ]
    },
    {
     "name": "stdout",
     "output_type": "stream",
     "text": [
      "Training Step: 275\n",
      "generator loss:0.7650746703147888\n",
      "-----------------------\n",
      "generator loss:0.7633482217788696\n",
      "-----------------------\n",
      "total discriminator loss:0.691946268081665\n",
      "average true return:0.46806275844573975\n",
      "-----------------------\n"
     ]
    },
    {
     "name": "stderr",
     "output_type": "stream",
     "text": [
      "\r",
      "120it [01:11,  1.80it/s]"
     ]
    },
    {
     "name": "stdout",
     "output_type": "stream",
     "text": [
      "tf.Tensor(\n",
      "[[[-3.3965838 ]\n",
      "  [ 1.4686966 ]\n",
      "  [ 4.7893806 ]\n",
      "  ...\n",
      "  [-2.443118  ]\n",
      "  [-5.104732  ]\n",
      "  [-3.146996  ]]\n",
      "\n",
      " [[-3.8513577 ]\n",
      "  [-3.2950783 ]\n",
      "  [-0.39082348]\n",
      "  ...\n",
      "  [ 0.31084466]\n",
      "  [-2.7262714 ]\n",
      "  [-5.016557  ]]\n",
      "\n",
      " [[ 0.43812534]\n",
      "  [-1.0077046 ]\n",
      "  [-4.4216776 ]\n",
      "  ...\n",
      "  [ 0.75882435]\n",
      "  [-3.8087595 ]\n",
      "  [-2.9173245 ]]\n",
      "\n",
      " ...\n",
      "\n",
      " [[ 1.9459212 ]\n",
      "  [ 4.5218763 ]\n",
      "  [ 1.8893838 ]\n",
      "  ...\n",
      "  [-3.436261  ]\n",
      "  [-3.195536  ]\n",
      "  [ 2.2931492 ]]\n",
      "\n",
      " [[ 0.9013462 ]\n",
      "  [ 2.8872848 ]\n",
      "  [ 3.031026  ]\n",
      "  ...\n",
      "  [ 1.7518831 ]\n",
      "  [ 4.48886   ]\n",
      "  [ 2.208271  ]]\n",
      "\n",
      " [[-0.63723135]\n",
      "  [ 3.5452497 ]\n",
      "  [ 2.5337205 ]\n",
      "  ...\n",
      "  [-1.7922184 ]\n",
      "  [-2.1917589 ]\n",
      "  [ 2.8239098 ]]], shape=(256, 20, 1), dtype=float32)\n",
      "Training Step: 276\n",
      "generator loss:0.7775355577468872\n",
      "-----------------------\n",
      "generator loss:0.7767307758331299\n",
      "-----------------------\n",
      "total discriminator loss:0.7031530737876892\n",
      "average true return:0.4636712074279785\n",
      "-----------------------\n"
     ]
    },
    {
     "name": "stderr",
     "output_type": "stream",
     "text": [
      "\r",
      "121it [01:12,  1.82it/s]"
     ]
    },
    {
     "name": "stdout",
     "output_type": "stream",
     "text": [
      "Training Step: 277\n",
      "generator loss:0.7823238372802734\n",
      "-----------------------\n",
      "generator loss:0.7844290733337402\n",
      "-----------------------\n",
      "total discriminator loss:0.691979169845581\n",
      "average true return:0.46306848526000977\n",
      "-----------------------\n"
     ]
    },
    {
     "name": "stderr",
     "output_type": "stream",
     "text": [
      "\r",
      "122it [01:12,  1.83it/s]"
     ]
    },
    {
     "name": "stdout",
     "output_type": "stream",
     "text": [
      "Training Step: 278\n",
      "generator loss:0.7917742729187012\n",
      "-----------------------\n",
      "generator loss:0.7895947694778442\n",
      "-----------------------\n"
     ]
    },
    {
     "name": "stderr",
     "output_type": "stream",
     "text": [
      "\r",
      "123it [01:13,  1.72it/s]"
     ]
    },
    {
     "name": "stdout",
     "output_type": "stream",
     "text": [
      "total discriminator loss:0.6866869926452637\n",
      "average true return:0.45990610122680664\n",
      "-----------------------\n",
      "Training Step: 279\n",
      "generator loss:0.7912445068359375\n",
      "-----------------------\n",
      "generator loss:0.7873528599739075\n",
      "-----------------------\n",
      "total discriminator loss:0.6885465383529663\n",
      "average true return:0.4581912159919739\n",
      "-----------------------\n"
     ]
    },
    {
     "name": "stderr",
     "output_type": "stream",
     "text": [
      "\r",
      "124it [01:13,  1.76it/s]"
     ]
    },
    {
     "name": "stdout",
     "output_type": "stream",
     "text": [
      "Training Step: 280\n",
      "generator loss:0.8013595342636108\n",
      "-----------------------\n",
      "generator loss:0.7975761890411377\n",
      "-----------------------\n",
      "total discriminator loss:0.687763512134552\n",
      "average true return:0.4582134485244751\n",
      "-----------------------\n"
     ]
    },
    {
     "name": "stderr",
     "output_type": "stream",
     "text": [
      "\r",
      "125it [01:14,  1.79it/s]"
     ]
    },
    {
     "name": "stdout",
     "output_type": "stream",
     "text": [
      "Training Step: 281\n",
      "generator loss:0.7990914583206177\n",
      "-----------------------\n",
      "generator loss:0.7985717058181763\n",
      "-----------------------\n",
      "total discriminator loss:0.6872323751449585\n",
      "average true return:0.45958247780799866\n",
      "-----------------------\n"
     ]
    },
    {
     "name": "stderr",
     "output_type": "stream",
     "text": [
      "\r",
      "126it [01:15,  1.80it/s]"
     ]
    },
    {
     "name": "stdout",
     "output_type": "stream",
     "text": [
      "Training Step: 282\n",
      "generator loss:0.8008115291595459\n",
      "-----------------------\n",
      "generator loss:0.8005278706550598\n",
      "-----------------------\n",
      "total discriminator loss:0.681415319442749\n",
      "average true return:0.4618661403656006\n",
      "-----------------------\n"
     ]
    },
    {
     "name": "stderr",
     "output_type": "stream",
     "text": [
      "\r",
      "127it [01:15,  1.82it/s]"
     ]
    },
    {
     "name": "stdout",
     "output_type": "stream",
     "text": [
      "Training Step: 283\n",
      "generator loss:0.7958983182907104\n",
      "-----------------------\n",
      "generator loss:0.7899273037910461\n",
      "-----------------------\n",
      "total discriminator loss:0.6800627708435059\n",
      "average true return:0.4655325412750244\n",
      "-----------------------\n"
     ]
    },
    {
     "name": "stderr",
     "output_type": "stream",
     "text": [
      "\r",
      "128it [01:16,  1.83it/s]"
     ]
    },
    {
     "name": "stdout",
     "output_type": "stream",
     "text": [
      "Training Step: 284\n",
      "generator loss:0.7822598218917847\n",
      "-----------------------\n",
      "generator loss:0.7792620062828064\n",
      "-----------------------\n",
      "total discriminator loss:0.6797740459442139\n",
      "average true return:0.4713553786277771\n",
      "-----------------------\n"
     ]
    },
    {
     "name": "stderr",
     "output_type": "stream",
     "text": [
      "\r",
      "129it [01:16,  1.84it/s]"
     ]
    },
    {
     "name": "stdout",
     "output_type": "stream",
     "text": [
      "Training Step: 285\n",
      "generator loss:0.7692050933837891\n",
      "-----------------------\n",
      "generator loss:0.7642951607704163\n",
      "-----------------------\n",
      "total discriminator loss:0.6813266277313232\n",
      "average true return:0.47716841101646423\n",
      "-----------------------\n"
     ]
    },
    {
     "name": "stderr",
     "output_type": "stream",
     "text": [
      "\r",
      "130it [01:17,  1.85it/s]"
     ]
    },
    {
     "name": "stdout",
     "output_type": "stream",
     "text": [
      "Training Step: 286\n",
      "generator loss:0.7519457340240479\n",
      "-----------------------\n",
      "generator loss:0.7443666458129883\n",
      "-----------------------\n",
      "total discriminator loss:0.6832979321479797\n",
      "average true return:0.4844158887863159\n",
      "-----------------------\n"
     ]
    },
    {
     "name": "stderr",
     "output_type": "stream",
     "text": [
      "\r",
      "131it [01:17,  1.84it/s]"
     ]
    },
    {
     "name": "stdout",
     "output_type": "stream",
     "text": [
      "Training Step: 287\n",
      "generator loss:0.7303111553192139\n",
      "-----------------------\n",
      "generator loss:0.7217315435409546\n",
      "-----------------------\n",
      "total discriminator loss:0.6892279386520386\n",
      "average true return:0.492353618144989\n",
      "-----------------------\n"
     ]
    },
    {
     "name": "stderr",
     "output_type": "stream",
     "text": [
      "\r",
      "132it [01:18,  1.85it/s]"
     ]
    },
    {
     "name": "stdout",
     "output_type": "stream",
     "text": [
      "Training Step: 288\n",
      "generator loss:0.7103971242904663\n",
      "-----------------------\n",
      "generator loss:0.7023333311080933\n",
      "-----------------------\n",
      "total discriminator loss:0.6916599273681641\n",
      "average true return:0.4990171194076538\n",
      "-----------------------\n"
     ]
    },
    {
     "name": "stderr",
     "output_type": "stream",
     "text": [
      "\r",
      "133it [01:18,  1.85it/s]"
     ]
    },
    {
     "name": "stdout",
     "output_type": "stream",
     "text": [
      "Training Step: 289\n",
      "generator loss:0.6894726753234863\n",
      "-----------------------\n",
      "generator loss:0.6826537251472473\n",
      "-----------------------\n",
      "total discriminator loss:0.6984672546386719\n",
      "average true return:0.5052326321601868\n",
      "-----------------------\n"
     ]
    },
    {
     "name": "stderr",
     "output_type": "stream",
     "text": [
      "\r",
      "134it [01:19,  1.85it/s]"
     ]
    },
    {
     "name": "stdout",
     "output_type": "stream",
     "text": [
      "Training Step: 290\n",
      "generator loss:0.6693434715270996\n",
      "-----------------------\n",
      "generator loss:0.6661373376846313\n",
      "-----------------------\n",
      "total discriminator loss:0.7006022930145264\n",
      "average true return:0.5117346048355103\n",
      "-----------------------\n"
     ]
    },
    {
     "name": "stderr",
     "output_type": "stream",
     "text": [
      "\r",
      "135it [01:19,  1.85it/s]"
     ]
    },
    {
     "name": "stdout",
     "output_type": "stream",
     "text": [
      "Training Step: 291\n",
      "generator loss:0.6529102921485901\n",
      "-----------------------\n",
      "generator loss:0.6520571708679199\n",
      "-----------------------\n",
      "total discriminator loss:0.7037217020988464\n",
      "average true return:0.5166923403739929\n",
      "-----------------------\n"
     ]
    },
    {
     "name": "stderr",
     "output_type": "stream",
     "text": [
      "\r",
      "136it [01:20,  1.85it/s]"
     ]
    },
    {
     "name": "stdout",
     "output_type": "stream",
     "text": [
      "Training Step: 292\n",
      "generator loss:0.6426900625228882\n",
      "-----------------------\n",
      "generator loss:0.6407833099365234\n",
      "-----------------------\n",
      "total discriminator loss:0.7053393125534058\n",
      "average true return:0.5211900472640991\n",
      "-----------------------\n"
     ]
    },
    {
     "name": "stderr",
     "output_type": "stream",
     "text": [
      "\r",
      "137it [01:21,  1.85it/s]"
     ]
    },
    {
     "name": "stdout",
     "output_type": "stream",
     "text": [
      "Training Step: 293\n",
      "generator loss:0.6335421204566956\n",
      "-----------------------\n",
      "generator loss:0.6320186853408813\n",
      "-----------------------\n",
      "total discriminator loss:0.7091771364212036\n",
      "average true return:0.5234800577163696\n",
      "-----------------------\n"
     ]
    },
    {
     "name": "stderr",
     "output_type": "stream",
     "text": [
      "\r",
      "138it [01:21,  1.85it/s]"
     ]
    },
    {
     "name": "stdout",
     "output_type": "stream",
     "text": [
      "Training Step: 294\n",
      "generator loss:0.6264091730117798\n",
      "-----------------------\n",
      "generator loss:0.6263419985771179\n",
      "-----------------------\n",
      "total discriminator loss:0.7089430689811707\n",
      "average true return:0.5269918441772461\n",
      "-----------------------\n"
     ]
    },
    {
     "name": "stderr",
     "output_type": "stream",
     "text": [
      "\r",
      "139it [01:22,  1.85it/s]"
     ]
    },
    {
     "name": "stdout",
     "output_type": "stream",
     "text": [
      "Training Step: 295\n",
      "generator loss:0.6213780045509338\n",
      "-----------------------\n",
      "generator loss:0.6215255260467529\n",
      "-----------------------\n",
      "total discriminator loss:0.7073379755020142\n",
      "average true return:0.5292872190475464\n",
      "-----------------------\n"
     ]
    },
    {
     "name": "stderr",
     "output_type": "stream",
     "text": [
      "\r",
      "140it [01:22,  1.86it/s]"
     ]
    },
    {
     "name": "stdout",
     "output_type": "stream",
     "text": [
      "Training Step: 296\n",
      "generator loss:0.6176798939704895\n",
      "-----------------------\n",
      "generator loss:0.616679310798645\n",
      "-----------------------\n",
      "total discriminator loss:0.7086489200592041\n",
      "average true return:0.5324044227600098\n",
      "-----------------------\n"
     ]
    },
    {
     "name": "stderr",
     "output_type": "stream",
     "text": [
      "\r",
      "141it [01:23,  1.85it/s]"
     ]
    },
    {
     "name": "stdout",
     "output_type": "stream",
     "text": [
      "Training Step: 297\n",
      "generator loss:0.6139100790023804\n",
      "-----------------------\n",
      "generator loss:0.6135268211364746\n",
      "-----------------------\n",
      "total discriminator loss:0.7079540491104126\n",
      "average true return:0.5348128080368042\n",
      "-----------------------\n"
     ]
    },
    {
     "name": "stderr",
     "output_type": "stream",
     "text": [
      "\r",
      "142it [01:23,  1.85it/s]"
     ]
    },
    {
     "name": "stdout",
     "output_type": "stream",
     "text": [
      "Training Step: 298\n",
      "generator loss:0.6118932962417603\n",
      "-----------------------\n",
      "generator loss:0.6115075349807739\n",
      "-----------------------\n",
      "total discriminator loss:0.7065485715866089\n",
      "average true return:0.5356870889663696\n",
      "-----------------------\n"
     ]
    },
    {
     "name": "stderr",
     "output_type": "stream",
     "text": [
      "\r",
      "143it [01:24,  1.85it/s]"
     ]
    },
    {
     "name": "stdout",
     "output_type": "stream",
     "text": [
      "Training Step: 299\n",
      "generator loss:0.610087513923645\n",
      "-----------------------\n",
      "generator loss:0.6101927161216736\n",
      "-----------------------\n",
      "total discriminator loss:0.7050454616546631\n",
      "average true return:0.537850022315979\n",
      "-----------------------\n"
     ]
    },
    {
     "name": "stderr",
     "output_type": "stream",
     "text": [
      "\r",
      "144it [01:24,  1.85it/s]"
     ]
    },
    {
     "name": "stdout",
     "output_type": "stream",
     "text": [
      "Training Step: 300\n",
      "generator loss:0.6094805598258972\n",
      "-----------------------\n",
      "generator loss:0.6089171171188354\n",
      "-----------------------\n",
      "total discriminator loss:0.7039572596549988\n",
      "average true return:0.538518488407135\n",
      "-----------------------\n"
     ]
    },
    {
     "name": "stderr",
     "output_type": "stream",
     "text": [
      "\r",
      "145it [01:25,  1.80it/s]"
     ]
    },
    {
     "name": "stdout",
     "output_type": "stream",
     "text": [
      "tf.Tensor(\n",
      "[[[-0.22161731]\n",
      "  [ 0.2877971 ]\n",
      "  [ 0.05452804]\n",
      "  ...\n",
      "  [-0.09162721]\n",
      "  [-0.03605308]\n",
      "  [-0.00233762]]\n",
      "\n",
      " [[-0.07201891]\n",
      "  [-0.03433861]\n",
      "  [ 0.05155338]\n",
      "  ...\n",
      "  [-0.17576957]\n",
      "  [-0.21102361]\n",
      "  [-0.09965365]]\n",
      "\n",
      " [[ 0.16268347]\n",
      "  [ 0.10582097]\n",
      "  [ 0.32619214]\n",
      "  ...\n",
      "  [-0.04390709]\n",
      "  [ 0.25842667]\n",
      "  [-0.17102446]]\n",
      "\n",
      " ...\n",
      "\n",
      " [[ 0.00528155]\n",
      "  [ 0.23188198]\n",
      "  [ 0.00296743]\n",
      "  ...\n",
      "  [ 0.13255388]\n",
      "  [-0.0745766 ]\n",
      "  [ 0.17748262]]\n",
      "\n",
      " [[-0.2027755 ]\n",
      "  [-0.04517688]\n",
      "  [ 0.01039531]\n",
      "  ...\n",
      "  [ 0.14076324]\n",
      "  [ 0.00525011]\n",
      "  [-0.12838437]]\n",
      "\n",
      " [[ 0.20023854]\n",
      "  [ 0.2491257 ]\n",
      "  [-0.14237353]\n",
      "  ...\n",
      "  [-0.05985455]\n",
      "  [ 0.13384165]\n",
      "  [ 0.16588487]]], shape=(256, 20, 1), dtype=float32)\n",
      "Training Step: 301\n",
      "generator loss:0.6084296703338623\n",
      "-----------------------\n",
      "generator loss:0.6084616780281067\n",
      "-----------------------\n",
      "total discriminator loss:0.7027194499969482\n",
      "average true return:0.539893627166748\n",
      "-----------------------\n"
     ]
    },
    {
     "name": "stderr",
     "output_type": "stream",
     "text": [
      "\r",
      "146it [01:25,  1.82it/s]"
     ]
    },
    {
     "name": "stdout",
     "output_type": "stream",
     "text": [
      "Training Step: 302\n",
      "generator loss:0.6077215671539307\n",
      "-----------------------\n",
      "generator loss:0.6077998876571655\n",
      "-----------------------\n",
      "total discriminator loss:0.7024787664413452\n",
      "average true return:0.5404672622680664\n",
      "-----------------------\n"
     ]
    },
    {
     "name": "stderr",
     "output_type": "stream",
     "text": [
      "\r",
      "147it [01:26,  1.83it/s]"
     ]
    },
    {
     "name": "stdout",
     "output_type": "stream",
     "text": [
      "Training Step: 303\n",
      "generator loss:0.6080191135406494\n",
      "-----------------------\n",
      "generator loss:0.6084325313568115\n",
      "-----------------------\n",
      "total discriminator loss:0.6907622814178467\n",
      "average true return:0.5410100221633911\n",
      "-----------------------\n"
     ]
    },
    {
     "name": "stderr",
     "output_type": "stream",
     "text": [
      "\r",
      "148it [01:27,  1.83it/s]"
     ]
    },
    {
     "name": "stdout",
     "output_type": "stream",
     "text": [
      "Training Step: 304\n",
      "generator loss:0.6100937128067017\n",
      "-----------------------\n",
      "generator loss:0.6098950505256653\n",
      "-----------------------\n",
      "total discriminator loss:0.700782299041748\n",
      "average true return:0.5402144193649292\n",
      "-----------------------\n"
     ]
    },
    {
     "name": "stderr",
     "output_type": "stream",
     "text": [
      "\r",
      "149it [01:27,  1.84it/s]"
     ]
    },
    {
     "name": "stdout",
     "output_type": "stream",
     "text": [
      "Training Step: 305\n",
      "generator loss:0.6117665767669678\n",
      "-----------------------\n",
      "generator loss:0.6118552088737488\n",
      "-----------------------\n",
      "total discriminator loss:0.7002283930778503\n",
      "average true return:0.5399320125579834\n",
      "-----------------------\n"
     ]
    },
    {
     "name": "stderr",
     "output_type": "stream",
     "text": [
      "\r",
      "150it [01:28,  1.84it/s]"
     ]
    },
    {
     "name": "stdout",
     "output_type": "stream",
     "text": [
      "Training Step: 306\n",
      "generator loss:0.6141598224639893\n",
      "-----------------------\n",
      "generator loss:0.613976001739502\n",
      "-----------------------\n",
      "total discriminator loss:0.698652446269989\n",
      "average true return:0.5395588874816895\n",
      "-----------------------\n"
     ]
    },
    {
     "name": "stderr",
     "output_type": "stream",
     "text": [
      "\r",
      "151it [01:28,  1.85it/s]"
     ]
    },
    {
     "name": "stdout",
     "output_type": "stream",
     "text": [
      "Training Step: 307\n",
      "generator loss:0.6163414716720581\n",
      "-----------------------\n",
      "generator loss:0.6162546873092651\n",
      "-----------------------\n",
      "total discriminator loss:0.6998095512390137\n",
      "average true return:0.538272500038147\n",
      "-----------------------\n"
     ]
    },
    {
     "name": "stderr",
     "output_type": "stream",
     "text": [
      "\r",
      "152it [01:29,  1.85it/s]"
     ]
    },
    {
     "name": "stdout",
     "output_type": "stream",
     "text": [
      "Training Step: 308\n",
      "generator loss:0.6190191507339478\n",
      "-----------------------\n",
      "generator loss:0.6188233494758606\n",
      "-----------------------\n",
      "total discriminator loss:0.6981391906738281\n",
      "average true return:0.5374376773834229\n",
      "-----------------------\n"
     ]
    },
    {
     "name": "stderr",
     "output_type": "stream",
     "text": [
      "\r",
      "153it [01:29,  1.85it/s]"
     ]
    },
    {
     "name": "stdout",
     "output_type": "stream",
     "text": [
      "Training Step: 309\n",
      "generator loss:0.6219332218170166\n",
      "-----------------------\n",
      "generator loss:0.6217393279075623\n",
      "-----------------------\n",
      "total discriminator loss:0.6983031034469604\n",
      "average true return:0.5356568098068237\n",
      "-----------------------\n"
     ]
    },
    {
     "name": "stderr",
     "output_type": "stream",
     "text": [
      "\r",
      "154it [01:30,  1.85it/s]"
     ]
    },
    {
     "name": "stdout",
     "output_type": "stream",
     "text": [
      "Training Step: 310\n",
      "generator loss:0.6251586675643921\n",
      "-----------------------\n",
      "generator loss:0.6249851584434509\n",
      "-----------------------\n",
      "total discriminator loss:0.6962279677391052\n",
      "average true return:0.534417986869812\n",
      "-----------------------\n"
     ]
    },
    {
     "name": "stderr",
     "output_type": "stream",
     "text": [
      "\r",
      "155it [01:30,  1.85it/s]"
     ]
    },
    {
     "name": "stdout",
     "output_type": "stream",
     "text": [
      "Training Step: 311\n",
      "generator loss:0.6281067132949829\n",
      "-----------------------\n",
      "generator loss:0.6281557679176331\n",
      "-----------------------\n",
      "total discriminator loss:0.6951757669448853\n",
      "average true return:0.5332434773445129\n",
      "-----------------------\n"
     ]
    },
    {
     "name": "stderr",
     "output_type": "stream",
     "text": [
      "156it [01:31,  1.71it/s]\n"
     ]
    }
   ],
   "source": [
    "for time_stamp_batch, _ in tqdm(train_dataset.take(_TOTAL_STEPS)):\n",
    "\n",
    "    print('Training Step:', step)\n",
    "    # train the generator\n",
    "    for _ in range(_G_STEPS):\n",
    "        gen_loss = train_generator(G, D, BATCH_SIZE, T, LATENT_DIM, mc_size=100, verbose=True, optimizer=G_optimizer)\n",
    "        gen_loss_history.append(gen_loss.numpy())\n",
    "    \n",
    "    # train the discriminator\n",
    "    for _ in range(_D_STEPS):\n",
    "        disc_loss, ave_true_return = train_discriminator(time_stamp_batch, G, D, BATCH_SIZE, T, LATENT_DIM, \n",
    "                                                         verbose=True, optimizer=D_optimizer, \n",
    "                                                         label_smoothing=True, label_flipping=True)\n",
    "        disc_loss_history.append(disc_loss.numpy())\n",
    "        average_true_return_history.append(ave_true_return.numpy())\n",
    "        \n",
    "    if step % 25 == 0:\n",
    "        z_test = np.float32(np.random.normal(size=[BATCH_SIZE, T, LATENT_DIM]))\n",
    "        print(G(z_test))\n",
    "    \n",
    "    step += 1"
   ]
  },
  {
   "cell_type": "code",
   "execution_count": 74,
   "metadata": {
    "scrolled": true
   },
   "outputs": [
    {
     "data": {
      "text/plain": [
       "Text(0.5, 0, 'training steps')"
      ]
     },
     "execution_count": 74,
     "metadata": {},
     "output_type": "execute_result"
    },
    {
     "data": {
      "image/png": "[encoded data removed]",
      "text/plain": [
       "<Figure size 600x400 with 1 Axes>"
      ]
     },
     "metadata": {
      "needs_background": "light"
     },
     "output_type": "display_data"
    }
   ],
   "source": [
    "x = range(len(gen_loss_history))\n",
    "plt.figure(dpi=100)\n",
    "plt.plot(x, gen_loss_history)\n",
    "plt.title('Generator Loss History')\n",
    "plt.xlabel('training steps')"
   ]
  },
  {
   "cell_type": "code",
   "execution_count": 73,
   "metadata": {},
   "outputs": [
    {
     "data": {
      "text/plain": [
       "Text(0.5, 0, 'training steps')"
      ]
     },
     "execution_count": 73,
     "metadata": {},
     "output_type": "execute_result"
    },
    {
     "data": {
      "image/png": "[encoded data removed]",
      "text/plain": [
       "<Figure size 600x400 with 1 Axes>"
      ]
     },
     "metadata": {
      "needs_background": "light"
     },
     "output_type": "display_data"
    }
   ],
   "source": [
    "\n",
    "x = range(len(disc_loss_history))\n",
    "plt.figure(dpi=100)\n",
    "plt.plot(x, disc_loss_history)\n",
    "plt.title('Discriminator Loss History')\n",
    "plt.xlabel('training steps')"
   ]
  },
  {
   "cell_type": "code",
   "execution_count": null,
   "metadata": {},
   "outputs": [],
   "source": []
  },
  {
   "cell_type": "code",
   "execution_count": 78,
   "metadata": {},
   "outputs": [],
   "source": [
    "G0 = build_G(batch_size=BATCH_SIZE, seq_length=T, latent_dim=LATENT_DIM, hidden_dim=HIDDEN_DIM)\n",
    "\n",
    "G2 = G"
   ]
  },
  {
   "cell_type": "code",
   "execution_count": 79,
   "metadata": {},
   "outputs": [
    {
     "data": {
      "text/plain": [
       "<tf.Tensor: shape=(256, 20, 1), dtype=float32, numpy=\n",
       "array([[[-0.11187293],\n",
       "        [-0.22788005],\n",
       "        [-0.00102461],\n",
       "        ...,\n",
       "        [ 0.05429771],\n",
       "        [-0.35168523],\n",
       "        [-0.24617822]],\n",
       "\n",
       "       [[-0.24046192],\n",
       "        [-0.18075684],\n",
       "        [-0.14890137],\n",
       "        ...,\n",
       "        [-0.08441966],\n",
       "        [-0.14262506],\n",
       "        [-0.16034356]],\n",
       "\n",
       "       [[-0.21134427],\n",
       "        [-0.17313868],\n",
       "        [-0.14223929],\n",
       "        ...,\n",
       "        [-0.19191837],\n",
       "        [-0.04020587],\n",
       "        [-0.04673288]],\n",
       "\n",
       "       ...,\n",
       "\n",
       "       [[-0.16234645],\n",
       "        [-0.08490358],\n",
       "        [-0.04763082],\n",
       "        ...,\n",
       "        [-0.11541191],\n",
       "        [ 0.0339409 ],\n",
       "        [-0.28663778]],\n",
       "\n",
       "       [[-0.20192966],\n",
       "        [ 0.00995448],\n",
       "        [-0.01683194],\n",
       "        ...,\n",
       "        [-0.03958438],\n",
       "        [-0.1895127 ],\n",
       "        [-0.24992537]],\n",
       "\n",
       "       [[-0.22772217],\n",
       "        [-0.28243193],\n",
       "        [ 0.1845355 ],\n",
       "        ...,\n",
       "        [ 0.2019063 ],\n",
       "        [ 0.04899137],\n",
       "        [-0.04260484]]], dtype=float32)>"
      ]
     },
     "execution_count": 79,
     "metadata": {},
     "output_type": "execute_result"
    }
   ],
   "source": [
    "z = np.float32(np.random.normal(size=[BATCH_SIZE, T, LATENT_DIM]))\n",
    "G2(z)"
   ]
  },
  {
   "cell_type": "code",
   "execution_count": 80,
   "metadata": {},
   "outputs": [],
   "source": [
    "if not os.path.exists(model_save_dir + '/trained_G_weights'):\n",
    "    os.makedirs(model_save_dir + '/trained_G_weights')\n",
    "\n",
    "G_save_path = model_save_dir + '/trained_G_weights/model.tf'\n",
    "G.save_weights(G_save_path)\n",
    "\n",
    "if not os.path.exists(model_save_dir + '/trained_D_weights'):\n",
    "    os.makedirs(model_save_dir + '/trained_D_weights')\n",
    "\n",
    "D_save_path = model_save_dir + '/trained_D_weights/model.tf'\n",
    "D.save_weights(D_save_path)"
   ]
  },
  {
   "cell_type": "code",
   "execution_count": null,
   "metadata": {},
   "outputs": [],
   "source": []
  }
 ],
 "metadata": {
  "kernelspec": {
   "display_name": "Python 3",
   "language": "python",
   "name": "python3"
  },
  "language_info": {
   "codemirror_mode": {
    "name": "ipython",
    "version": 3
   },
   "file_extension": ".py",
   "mimetype": "text/x-python",
   "name": "python",
   "nbconvert_exporter": "python",
   "pygments_lexer": "ipython3",
   "version": "3.7.9"
  }
 },
 "nbformat": 4,
 "nbformat_minor": 2
}
