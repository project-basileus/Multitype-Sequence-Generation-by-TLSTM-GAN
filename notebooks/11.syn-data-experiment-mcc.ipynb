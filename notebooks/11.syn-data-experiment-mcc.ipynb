{
 "cells": [
  {
   "cell_type": "code",
   "execution_count": 84,
   "id": "starting-plastic",
   "metadata": {},
   "outputs": [],
   "source": [
    "import os \n",
    "import sys\n",
    "from tqdm import tqdm\n",
    "import importlib\n",
    "import numpy as np\n",
    "import pickle\n",
    "import tensorflow as tf\n",
    "import matplotlib.pyplot as plt\n",
    "import pandas as pd\n",
    "from datetime import datetime\n",
    "\n",
    "module_path = \"/home/lun/project-basileus/multitype-sequence-generation-by-tlstm-gan/\"\n",
    "data_path = \"/home/lun/project-basileus/multitype-sequence-generation-by-tlstm-gan/data/long_seqs_v11/\"\n",
    "model_save_dir = '/home/lun/project-basileus/multitype-sequence-generation-by-tlstm-gan/models/combined-mcc-v11'\n",
    "\n",
    "if module_path not in sys.path:\n",
    "    sys.path.append(module_path)"
   ]
  },
  {
   "cell_type": "code",
   "execution_count": 85,
   "id": "blessed-simulation",
   "metadata": {},
   "outputs": [],
   "source": [
    "BATCH_SIZE = 256\n",
    "N_DATA = 4000\n",
    "T = 20\n",
    "VOCAB = ['start', 'view', 'click', 'install']\n",
    "EVENT_VOCAB_DIM = len(VOCAB)\n",
    "EMB_DIM = 16\n",
    "HIDDEN_DIM = 128"
   ]
  },
  {
   "cell_type": "markdown",
   "id": "juvenile-object",
   "metadata": {},
   "source": [
    "## Load Data"
   ]
  },
  {
   "cell_type": "code",
   "execution_count": 4,
   "id": "reflected-gamma",
   "metadata": {},
   "outputs": [],
   "source": [
    "pos_data_path = os.path.join(data_path, 'positive_long_sequences.pickle')\n",
    "# neg_data_path = os.path.join(data_path, 'negative_long_sequences.pickle')\n",
    "\n",
    "def load_sequence_from_pickle_to_numpy(pickle_file_path, use_init_token=False):\n",
    "    \"\"\"\n",
    "        A list of sequence in format of (event_type, time_delta)\n",
    "    :param pickle_file_path: e.g. /.../project-basileus/seq-gan/data/fixed_length/valid_sequences.pickle\n",
    "    :return: (event_type_seqs, time_delta)\n",
    "    \"\"\"\n",
    "    with open(pickle_file_path, 'rb') as f:\n",
    "        raw_seqs = pickle.load(f)\n",
    "\n",
    "    if not raw_seqs or not raw_seqs[0]:\n",
    "        return np.array([]), np.array([])\n",
    "\n",
    "    N = len(raw_seqs)\n",
    "    T = len(raw_seqs[0])\n",
    "    \n",
    "    seqs = np.array(raw_seqs)\n",
    "        \n",
    "    et_seqs = seqs[:, :, 0].astype(np.float64).reshape((N, T, 1))\n",
    "    ts_seqs = seqs[:, :, 1].astype(np.float64).reshape((N, T, 1))\n",
    "    \n",
    "    return et_seqs, ts_seqs\n",
    "\n",
    "raw_pos_event_type_seqs, raw_pos_timestamp_seqs = load_sequence_from_pickle_to_numpy(pos_data_path, use_init_token=False)"
   ]
  },
  {
   "cell_type": "code",
   "execution_count": 5,
   "id": "saving-sacramento",
   "metadata": {},
   "outputs": [],
   "source": [
    "# cast indicator data into one-hot\n",
    "pos_event_type_seqs = tf.cast(raw_pos_event_type_seqs, tf.int32)\n",
    "pos_event_type_seqs = tf.one_hot(pos_event_type_seqs, depth=EVENT_VOCAB_DIM, axis=2, dtype=tf.float64)\n",
    "pos_event_type_seqs = tf.squeeze(pos_event_type_seqs, axis=3)"
   ]
  },
  {
   "cell_type": "code",
   "execution_count": 7,
   "id": "stylish-croatia",
   "metadata": {},
   "outputs": [],
   "source": [
    "def zcore_norm(data):\n",
    "    N = data.shape[0]\n",
    "    \n",
    "    _mean = tf.reduce_mean(data, axis=0)\n",
    "    _mean = tf.expand_dims(_mean, axis=0)\n",
    "    _mean = tf.repeat(_mean, N, axis=0)\n",
    "\n",
    "    _std = tf.math.reduce_std(data, axis=0)\n",
    "    _std = tf.expand_dims(_std, axis=0)\n",
    "    _std = tf.repeat(_std, N, axis=0)\n",
    "\n",
    "    return (data - _mean) / _std, _mean[0,:,:], _std[0,:,:]\n",
    "\n",
    "def get_mean_std(data):\n",
    "    _mean = tf.reduce_mean(data, axis=0)\n",
    "    _mean = tf.expand_dims(_mean, axis=0)\n",
    "\n",
    "    _std = tf.math.reduce_std(data, axis=0)\n",
    "    _std = tf.expand_dims(_std, axis=0)\n",
    "\n",
    "    return _mean, _std\n",
    "\n",
    "def apply_mean_std(data, _mean, _std):\n",
    "    N = data.shape[0]\n",
    "    \n",
    "    _mean = tf.reshape(_mean, (1, T, 1))\n",
    "    _mean = tf.repeat(_mean, N, axis=0)\n",
    "    \n",
    "    _std = tf.reshape(_std, (1, T, 1))\n",
    "    _std = tf.repeat(_std, N, axis=0)\n",
    "    \n",
    "    return data * _std + _mean\n",
    "\n",
    "pos_timestamp_seqs, GLOBAL_MEAN, GLOBAL_STD = zcore_norm(raw_pos_timestamp_seqs)"
   ]
  },
  {
   "cell_type": "markdown",
   "id": "cognitive-smoke",
   "metadata": {},
   "source": [
    "## Global Functions"
   ]
  },
  {
   "cell_type": "code",
   "execution_count": 8,
   "id": "prepared-kansas",
   "metadata": {},
   "outputs": [],
   "source": [
    "def create_dataset(features: np.array, labels: np.array, batch_size=2, epochs=10, buffer_size=10000):\n",
    "    \"\"\"\n",
    "    Create dataset from numpy arrays\n",
    "    \"\"\"\n",
    "    dataset = tf.data.Dataset.from_tensor_slices((features, labels))\n",
    "    dataset = dataset.shuffle(buffer_size)\n",
    "    dataset = dataset.repeat(epochs)\n",
    "    dataset = dataset.batch(batch_size, drop_remainder=True)\n",
    "    return dataset"
   ]
  },
  {
   "cell_type": "code",
   "execution_count": 10,
   "id": "deluxe-shark",
   "metadata": {},
   "outputs": [],
   "source": [
    "def generate_initial_noise(max_token=EVENT_VOCAB_DIM, time_mean=0, time_std=1):\n",
    "    init_token_noise_index = tf.random.uniform(shape=[BATCH_SIZE, 1, 1], maxval=max_token, dtype=tf.int32)\n",
    "    init_token_noise = tf.squeeze(tf.one_hot(init_token_noise_index, EVENT_VOCAB_DIM, axis=2, dtype=tf.float64), axis=3)\n",
    "    init_time_noise = tf.random.truncated_normal(shape=[BATCH_SIZE, 1, 1], mean=time_mean, stddev=time_std, dtype=tf.float64)\n",
    "    return init_token_noise, init_time_noise"
   ]
  },
  {
   "cell_type": "code",
   "execution_count": 11,
   "id": "composed-today",
   "metadata": {},
   "outputs": [],
   "source": [
    "from scipy.linalg import sqrtm\n",
    "\n",
    "def calculate_FID_batch(batch1, batch2, weight=1, N=4000, T=20):\n",
    "    batch1, batch2 = np.array(batch1).reshape((N, T)), np.array(batch2).reshape((N, T))\n",
    "    mu1, sigma1 = batch1.mean(axis=0), np.cov(batch1, rowvar=False)\n",
    "    mu2, sigma2 = batch2.mean(axis=0), np.cov(batch2, rowvar=False)\n",
    "    ssdiff = np.sum((mu1 - mu2) ** 2.0)\n",
    "    # calculate sqrt of product between cov\n",
    "    covmean = sqrtm(sigma1.dot(sigma2))\n",
    "    # check and correct imaginary numbers from sqrt\n",
    "    if np.iscomplexobj(covmean):\n",
    "        covmean = covmean.real\n",
    "    # calculate score\n",
    "    fid2 = ssdiff + np.trace(sigma1 + sigma2 - 2.0 * covmean)\n",
    "    return fid2\n",
    "\n",
    "calculate_FID_score = lambda batch: calculate_FID_batch(raw_pos_timestamp_seqs, batch)\n",
    "# calculate_FID_score(raw_pos_timestamp_seqs)"
   ]
  },
  {
   "cell_type": "code",
   "execution_count": 12,
   "id": "satellite-photograph",
   "metadata": {},
   "outputs": [],
   "source": [
    "class MAD:\n",
    "    \"\"\" Sum square of one-hot distance between tokens\n",
    "    Params:\n",
    "    -- batch1         : The first batch of sequences to be compared with the second one\n",
    "                        or it can be the comparison base\n",
    "    -- batch2\n",
    "    Returns:\n",
    "    --   : dict, sum square of distances and base medians\n",
    "    \"\"\"\n",
    "\n",
    "    def __init__(self):\n",
    "        self.base_ssad = []\n",
    "        self.base_med = []\n",
    "        self.base_med_oh = []\n",
    "        self.one_hot_map = {0: [0, 0, 0, 0, 0],\n",
    "                            1: [1, 0, 0, 0, 0],\n",
    "                            2: [0, 1, 0, 0, 0],\n",
    "                            3: [0, 0, 1, 0, 0]}\n",
    "\n",
    "    def nan_if(self, arr, value):\n",
    "        return np.where(arr == value, np.nan, arr)\n",
    "\n",
    "    def fit(self, batch1):\n",
    "        assert len(batch1) > 1, 'batch1 should have more than one sequence'\n",
    "        X_tok = []\n",
    "        for i in batch1:\n",
    "            X_tok.append([j[0] for j in i])\n",
    "        X_tok_t = np.array(X_tok).T\n",
    "        X_tok_oh = [[self.one_hot_map[j] for j in i] for i in X_tok]\n",
    "        medians = [int(i) for i in np.nanmedian(self.nan_if(X_tok_t, 0), axis=1)]\n",
    "        medians_oh = [self.one_hot_map[j] for j in medians]\n",
    "        self.base_med = medians\n",
    "        self.base_med_oh = medians_oh\n",
    "        tok_dist = []\n",
    "        for tok in X_tok_oh:\n",
    "            dist = []\n",
    "            for j in range(len(tok)):\n",
    "                tt = np.array(tok[j])\n",
    "                med = np.array(medians_oh[j])\n",
    "                # skip 0\n",
    "                dist.append(np.nansum(np.abs(self.nan_if(tt, 0) - med)))\n",
    "            tok_dist.append(dist)\n",
    "        self.base_ssad = np.mean(tok_dist)\n",
    "\n",
    "    def compare(self, batch2):\n",
    "        assert len(batch2) > 1, 'batch2 should have more than one sequence'\n",
    "        X_tok = []\n",
    "        for i in batch2:\n",
    "            X_tok.append([j[0] for j in i])\n",
    "        X_tok_t = np.array(X_tok).T\n",
    "        X_tok_oh = [[self.one_hot_map[j] for j in i] for i in X_tok]\n",
    "        medians = [int(i) for i in np.nanmedian(self.nan_if(X_tok_t, 0), axis=1)]\n",
    "        medians_oh = [self.one_hot_map[j] for j in medians]\n",
    "        tok_dist = []\n",
    "        for tok in X_tok_oh:\n",
    "            dist = []\n",
    "            for j in range(len(tok)):\n",
    "                tt = np.array(tok[j])\n",
    "                med = np.array(self.base_med_oh[j])\n",
    "                # skip 0\n",
    "                dist.append(np.nansum(np.abs(self.nan_if(tt, 0) - med)))\n",
    "            tok_dist.append(dist)\n",
    "        compare_ssd = np.mean(tok_dist)\n",
    "        return {'mad': compare_ssd,\n",
    "                'base_medians': np.array(self.base_med),\n",
    "                'base_medians_oh': np.array(self.base_med_oh),\n",
    "                'comp_medians': np.array(medians),\n",
    "                'comp_medians_oh': np.array(medians_oh)}\n",
    "    \n",
    "mad_obj = MAD()\n",
    "mad_obj.fit(raw_pos_event_type_seqs)\n",
    "calculate_MAD_score = lambda batch: mad_obj.compare(batch)['mad']\n",
    "# calculate_MAD_score(raw_pos_event_type_seqs)"
   ]
  },
  {
   "cell_type": "code",
   "execution_count": 13,
   "id": "systematic-classic",
   "metadata": {},
   "outputs": [],
   "source": [
    "EVENT_TYPES = ['A', 'B', 'C', 'D']\n",
    "EVENT_ENCODE = {'A':0, 'B':1, 'C':2, 'D':3}\n",
    "\n",
    "MIN_SAME_DELAY = 20\n",
    "MAX_PAIR_DELAY = 200\n",
    "\n",
    "\n",
    "def check_min_delay_rule(seq, use_init_token=False):\n",
    "    if use_init_token:\n",
    "        seq = seq[1:]\n",
    "    prev_et, _ = None, 0.0\n",
    "    for et, dt in seq:\n",
    "        if et == prev_et and dt < MIN_SAME_DELAY:\n",
    "            return False\n",
    "        prev_et = et\n",
    "    return True\n",
    "\n",
    "def check_paring_rule(seq, use_init_token=False):\n",
    "    if use_init_token:\n",
    "        seq = seq[1:]    \n",
    "    # one-pass: add D to queue to be attributed to the first available C in a reversed linear scanning\n",
    "    queue = []\n",
    "    for i in range(len(seq)-1, -1, -1):\n",
    "        if seq[i][0] == EVENT_ENCODE['D']: # encounter a D event\n",
    "            queue.append(i)\n",
    "        elif seq[i][0] == EVENT_ENCODE['C'] and queue: # encounter a C event\n",
    "            queue.pop(0)\n",
    "    return len(queue) == 0\n",
    "\n",
    "def check_max_delay_rule(seq, use_init_token=False):    \n",
    "    if use_init_token:\n",
    "        seq = seq[1:]    \n",
    "        \n",
    "    def recover_timedelta_to_timestamp(time_seq):\n",
    "        csum = []\n",
    "        curr = 0\n",
    "        for dt in time_seq:\n",
    "            if dt != 0:\n",
    "                curr += dt\n",
    "                csum.append(curr)\n",
    "            else:\n",
    "                csum.append(0)\n",
    "        return csum\n",
    "    \n",
    "    ets = [e[0] for e in seq]\n",
    "    tss = recover_timedelta_to_timestamp([e[1] for e in seq])\n",
    "        \n",
    "    # one-pass: add D to queue to be attributed to the first available C in a reversed linear scanning\n",
    "    queue = []\n",
    "    for i in range(len(seq)-1, -1, -1):\n",
    "        if ets[i] == EVENT_ENCODE['D']: # encounter a D event\n",
    "            queue.append(i)\n",
    "        elif ets[i] == EVENT_ENCODE['C'] and queue: # encounter a C event\n",
    "            if tss[queue[0]] - tss[i] <= MAX_PAIR_DELAY:\n",
    "                queue.pop(0)\n",
    "            else:\n",
    "                return False\n",
    "    # for rule 6, it's fine if there are unpaired D in queue\n",
    "    # b/c this rules is to ensure for each paired (C, D), the delay is bounded\n",
    "    return True\n",
    "\n",
    "\n",
    "def calculate_rule_score(batch):\n",
    "    N_batch = batch.shape[0]\n",
    "    cnt = 0\n",
    "    for i in range(N_batch):\n",
    "        seq = batch[i, :, :]\n",
    "        if check_min_delay_rule(seq) and check_paring_rule(seq) and check_max_delay_rule(seq):\n",
    "            cnt += 1    \n",
    "    return cnt / N_batch\n",
    "\n",
    "# calculate_rule_score(batch)"
   ]
  },
  {
   "cell_type": "markdown",
   "id": "sensitive-organic",
   "metadata": {},
   "source": [
    "## Create multitype SeqGan"
   ]
  },
  {
   "cell_type": "code",
   "execution_count": 14,
   "id": "linear-sunrise",
   "metadata": {},
   "outputs": [],
   "source": [
    "import tensorflow as tf\n",
    "from tensorflow.keras import backend as K\n",
    "from tensorflow.keras.models import Model\n",
    "from tensorflow.keras import Sequential\n",
    "from tensorflow.keras.optimizers import Adam, SGD\n",
    "from tensorflow.keras.layers import Input, LSTM, Embedding, Reshape, Dense, Dropout, Activation, Multiply, Add, Lambda\n",
    "from tensorflow.keras import regularizers\n",
    "\n",
    "from sgtlstm.TimeLSTM import TimeLSTM0, TimeLSTM1, TimeLSTM2, TimeLSTM3\n",
    "\n",
    "tf.keras.backend.set_floatx('float64')\n",
    "\n",
    "def build_G(batch_size, event_vocab_dim, emb_dim, hidden_dim=16):\n",
    "    # inputs of Time-LSTM:\n",
    "    i_et = Input(batch_shape=(batch_size, None, event_vocab_dim), name='event_type')  # input of discrete feature event type\n",
    "    i_ts = Input(batch_shape=(batch_size, None, 1), name='time_delta_in')  # input of continuous feature timestamp\n",
    "\n",
    "    embed0 = Dense(emb_dim, name='dense_emb')(i_et) # dense matrix size: 6*16\n",
    "    merged0 = tf.concat([embed0, i_ts], axis=2)\n",
    "\n",
    "    hm = LSTM(hidden_dim,\n",
    "          name='lstm_token',\n",
    "          stateful=True,\n",
    "          return_sequences=False,\n",
    "          kernel_initializer=tf.keras.initializers.RandomNormal(stddev=0.1),\n",
    "          recurrent_initializer=tf.keras.initializers.RandomNormal(stddev=0.1),\n",
    "          bias_initializer=tf.keras.initializers.RandomNormal(stddev=0.1))(merged0)\n",
    "\n",
    "    \n",
    "    tm = LSTM(hidden_dim,\n",
    "          name='lstm_time',\n",
    "          stateful=True,\n",
    "          return_sequences=False,\n",
    "          kernel_initializer=tf.keras.initializers.RandomNormal(stddev=0.1),\n",
    "          recurrent_initializer=tf.keras.initializers.RandomNormal(stddev=0.1),\n",
    "          bias_initializer=tf.keras.initializers.RandomNormal(stddev=0.1))(merged0)\n",
    "    \n",
    "    \n",
    "    token_time_comb = tf.keras.layers.concatenate([hm, tm], axis=1)\n",
    "    \n",
    "    dense_combined = Dense(hidden_dim, \n",
    "                           activation='elu',\n",
    "                           name='dense_combination')(token_time_comb)\n",
    "        \n",
    "    token_logits = Dense(event_vocab_dim,\n",
    "                   activation='linear',\n",
    "                   name='dense_token',\n",
    "                   kernel_initializer=tf.keras.initializers.RandomNormal(stddev=0.1),\n",
    "                   bias_initializer=tf.keras.initializers.RandomNormal(stddev=0.1))(dense_combined)\n",
    "        \n",
    "    time_delta_out = Dense(1,\n",
    "                   activation='linear',\n",
    "                   name='dense_time',\n",
    "                   kernel_initializer=tf.keras.initializers.RandomNormal(stddev=0.1),\n",
    "                   bias_initializer=tf.keras.initializers.RandomNormal(stddev=0.1))(dense_combined)\n",
    "    \n",
    "    generator = Model(\n",
    "        inputs=[i_et, i_ts],\n",
    "        outputs=[token_logits, time_delta_out])\n",
    "        \n",
    "    return generator"
   ]
  },
  {
   "cell_type": "code",
   "execution_count": 15,
   "id": "alternate-federation",
   "metadata": {},
   "outputs": [],
   "source": [
    "def build_D(batch_size, T, event_vocab_dim, emb_dim, hidden_dim, dropout_rate=0.25):\n",
    "    # normal LSTM\n",
    "    i_et = Input(batch_shape=(batch_size, None, event_vocab_dim), name='event_type')  # input of discrete feature event type\n",
    "    i_ts = Input(batch_shape=(batch_size, None, 1), name='time_delta_in')  # input of continuous feature timestamp\n",
    "    \n",
    "    embed0 = Dense(emb_dim, name='dense_emb')(i_et) # dense matrix size: 6*16\n",
    "    merged0 = tf.concat([embed0, i_ts], axis=2)\n",
    "    \n",
    "    hm = LSTM(hidden_dim,\n",
    "          name='lstm_token',\n",
    "          stateful=False,\n",
    "          return_sequences=False, \n",
    "          kernel_initializer=tf.keras.initializers.RandomNormal(stddev=0.1),\n",
    "          recurrent_initializer=tf.keras.initializers.RandomNormal(stddev=0.1),\n",
    "          bias_initializer=tf.keras.initializers.RandomNormal(stddev=0.1))(merged0)\n",
    "\n",
    "    tm = LSTM(hidden_dim,\n",
    "          name='lstm_time',\n",
    "          stateful=False,\n",
    "          return_sequences=False,\n",
    "          kernel_initializer=tf.keras.initializers.RandomNormal(stddev=0.1),\n",
    "          recurrent_initializer=tf.keras.initializers.RandomNormal(stddev=0.1),\n",
    "          bias_initializer=tf.keras.initializers.RandomNormal(stddev=0.1))(merged0)\n",
    "    \n",
    "    token_time_comb = tf.keras.layers.concatenate([hm, tm], axis=1)\n",
    "    \n",
    "    dropped = Dropout(rate=dropout_rate)(token_time_comb)\n",
    "    \n",
    "    prob = Dense(1, \n",
    "             activation='sigmoid',\n",
    "             name='final',\n",
    "             kernel_initializer=tf.keras.initializers.TruncatedNormal(mean=0.0, stddev=0.1, seed=None),\n",
    "             bias_initializer=tf.keras.initializers.Constant(value=0.1))(dropped)\n",
    "        \n",
    "    discriminator = Model(\n",
    "        inputs=[i_et, i_ts],\n",
    "        outputs=prob)\n",
    "    return discriminator"
   ]
  },
  {
   "cell_type": "code",
   "execution_count": 16,
   "id": "devoted-concert",
   "metadata": {},
   "outputs": [],
   "source": [
    "# critic is a copy of D, except that stateful=True\n",
    "\n",
    "def build_critic(batch_size, T, event_vocab_dim, emb_dim, hidden_dim, dropout_rate=0.25):\n",
    "    # normal LSTM\n",
    "    i_et = Input(batch_shape=(batch_size, None, event_vocab_dim), name='event_type')  # input of discrete feature event type\n",
    "    i_ts = Input(batch_shape=(batch_size, None, 1), name='time_delta_in')  # input of continuous feature timestamp\n",
    "    \n",
    "    embed0 = Dense(emb_dim, name='dense_emb')(i_et) # dense matrix size: 6*16\n",
    "    merged0 = tf.concat([embed0, i_ts], axis=2)\n",
    "    \n",
    "    hm = LSTM(hidden_dim,\n",
    "          name='lstm_token',\n",
    "          stateful=True, # stateful, critic makes prediction on a partial sequence\n",
    "          return_sequences=False,\n",
    "          kernel_initializer=tf.keras.initializers.RandomNormal(stddev=0.1),\n",
    "          recurrent_initializer=tf.keras.initializers.RandomNormal(stddev=0.1),\n",
    "          bias_initializer=tf.keras.initializers.RandomNormal(stddev=0.1))(merged0)\n",
    "\n",
    "    tm = LSTM(hidden_dim,\n",
    "          name='lstm_time',\n",
    "          stateful=True, # stateful, critic makes prediction on a partial sequence\n",
    "          return_sequences=False,\n",
    "          kernel_initializer=tf.keras.initializers.RandomNormal(stddev=0.1),\n",
    "          recurrent_initializer=tf.keras.initializers.RandomNormal(stddev=0.1),\n",
    "          bias_initializer=tf.keras.initializers.RandomNormal(stddev=0.1))(merged0)\n",
    "    \n",
    "    token_time_comb = tf.keras.layers.concatenate([hm, tm], axis=1)\n",
    "    \n",
    "    dropped = Dropout(rate=dropout_rate)(token_time_comb)\n",
    "    \n",
    "    critic_value = Dense(1, \n",
    "             activation='sigmoid',\n",
    "             name='critic_final',\n",
    "             kernel_initializer=tf.keras.initializers.TruncatedNormal(mean=0.0, stddev=0.1, seed=None),\n",
    "             bias_initializer=tf.keras.initializers.Constant(value=0.1))(dropped)\n",
    "        \n",
    "    discriminator = Model(\n",
    "        inputs=[i_et, i_ts],\n",
    "        outputs=critic_value)\n",
    "    return discriminator"
   ]
  },
  {
   "cell_type": "code",
   "execution_count": 17,
   "id": "healthy-playlist",
   "metadata": {},
   "outputs": [],
   "source": [
    "# import tensorflow as tf\n",
    "# from tensorflow.keras import backend as K\n",
    "# from tensorflow.keras.models import Model\n",
    "# from tensorflow.keras import Sequential\n",
    "# from tensorflow.keras.optimizers import Adam, SGD\n",
    "# from tensorflow.keras.layers import Input, LSTM, Embedding, Reshape, Dense, Dropout, Activation, Multiply, Add, Lambda\n",
    "# from tensorflow.keras import regularizers\n",
    "\n",
    "# from sgtlstm.TimeLSTM import TimeLSTM0, TimeLSTM1, TimeLSTM2, TimeLSTM3\n",
    "\n",
    "# tf.keras.backend.set_floatx('float64')\n",
    "\n",
    "# def build_G(batch_size, event_vocab_dim, emb_dim, hidden_dim=16):\n",
    "#     # inputs of Time-LSTM:\n",
    "#     i_et = Input(batch_shape=(batch_size, None, event_vocab_dim), name='event_type')  # input of discrete feature event type\n",
    "#     i_ts = Input(batch_shape=(batch_size, None, 1), name='time_delta_in')  # input of continuous feature timestamp\n",
    "\n",
    "#     embed0 = Dense(emb_dim, name='dense_emb')(i_et) # dense matrix size: 6*16\n",
    "#     merged0 = tf.concat([embed0, i_ts], axis=2)\n",
    "    \n",
    "#     hm, tm = TimeLSTM1(hidden_dim,\n",
    "#                        name='time_lstm',\n",
    "#                        stateful=True, \n",
    "#                        return_sequences=False,\n",
    "#                        kernel_initializer=tf.keras.initializers.RandomNormal(stddev=0.1),\n",
    "#                        recurrent_initializer=tf.keras.initializers.RandomNormal(stddev=0.1),\n",
    "#                        time_kernel_initializer=tf.keras.initializers.RandomNormal(stddev=0.1),\n",
    "#                        bias_initializer=tf.keras.initializers.RandomNormal(stddev=0.1))(merged0)    \n",
    "        \n",
    "#     token_logits = Dense(event_vocab_dim,\n",
    "#                    activation='linear',\n",
    "#                    name='dense_token',\n",
    "#                    kernel_initializer=tf.keras.initializers.RandomNormal(stddev=0.1),\n",
    "#                    bias_initializer=tf.keras.initializers.RandomNormal(stddev=0.1))(hm)\n",
    "        \n",
    "#     time_delta_out = Dense(1,\n",
    "#                    activation='linear',\n",
    "#                    name='dense_time',\n",
    "#                    kernel_initializer=tf.keras.initializers.RandomNormal(stddev=0.1),\n",
    "#                    bias_initializer=tf.keras.initializers.RandomNormal(stddev=0.1))(tm)\n",
    "    \n",
    "#     generator = Model(\n",
    "#         inputs=[i_et, i_ts],\n",
    "#         outputs=[token_logits, time_delta_out])\n",
    "        \n",
    "#     return generator\n",
    "\n",
    "\n",
    "# def build_D(batch_size, T, event_vocab_dim, emb_dim, hidden_dim, dropout_rate=0.25):\n",
    "#     # normal LSTM\n",
    "#     i_et = Input(batch_shape=(batch_size, None, event_vocab_dim), name='event_type')  # input of discrete feature event type\n",
    "#     i_ts = Input(batch_shape=(batch_size, None, 1), name='time_delta_in')  # input of continuous feature timestamp\n",
    "    \n",
    "#     embed0 = Dense(emb_dim, name='dense_emb')(i_et) # dense matrix size: 6*16\n",
    "#     merged0 = tf.concat([embed0, i_ts], axis=2)\n",
    "    \n",
    "#     hm, tm = TimeLSTM1(hidden_dim,\n",
    "#                        name='time_lstm',\n",
    "#                        stateful=True, \n",
    "#                        return_sequences=False,\n",
    "#                        kernel_initializer=tf.keras.initializers.RandomNormal(stddev=0.1),\n",
    "#                        recurrent_initializer=tf.keras.initializers.RandomNormal(stddev=0.1),\n",
    "#                        time_kernel_initializer=tf.keras.initializers.RandomNormal(stddev=0.1),\n",
    "#                        bias_initializer=tf.keras.initializers.RandomNormal(stddev=0.1))(merged0)\n",
    "    \n",
    "#     token_time_comb = tf.keras.layers.concatenate([hm, tm], axis=1)\n",
    "    \n",
    "#     dropped = Dropout(rate=dropout_rate)(token_time_comb)\n",
    "    \n",
    "#     prob = Dense(1, \n",
    "#              activation='sigmoid',\n",
    "#              name='final',\n",
    "#              kernel_initializer=tf.keras.initializers.TruncatedNormal(mean=0.0, stddev=0.1, seed=None),\n",
    "#              bias_initializer=tf.keras.initializers.Constant(value=0.1))(dropped)\n",
    "        \n",
    "#     discriminator = Model(\n",
    "#         inputs=[i_et, i_ts],\n",
    "#         outputs=prob)\n",
    "#     return discriminator"
   ]
  },
  {
   "cell_type": "markdown",
   "id": "beneficial-neighborhood",
   "metadata": {},
   "source": [
    "## Define rollout and sequence generation"
   ]
  },
  {
   "cell_type": "code",
   "execution_count": 67,
   "id": "modified-mailman",
   "metadata": {},
   "outputs": [],
   "source": [
    "def rollout_from_initial_mcc(G, batch_size, init_et, init_ts, L=T):\n",
    "    # Begin from dummy init state (init_token=1, init_timestamp=0.0)\n",
    "    all_state_et = init_et\n",
    "    all_state_ts = init_ts\n",
    "    all_token_logits = tf.zeros_like(init_et)\n",
    "    \n",
    "    l_prefix = init_et.shape[1]\n",
    "    \n",
    "    G.reset_states()\n",
    "#     # LSTM-token\n",
    "    G.layers[4].states[0] = tf.Variable(tf.random.normal(shape=(BATCH_SIZE, HIDDEN_DIM), mean=0.0, stddev=1, dtype=tf.float64))\n",
    "    G.layers[4].states[1] = tf.Variable(tf.random.normal(shape=(BATCH_SIZE, HIDDEN_DIM), mean=0.0, stddev=1, dtype=tf.float64))\n",
    "    # LSTM-time\n",
    "    G.layers[5].states[0] = tf.Variable(tf.random.normal(shape=(BATCH_SIZE, HIDDEN_DIM), mean=0.0, stddev=1, dtype=tf.float64))\n",
    "    G.layers[5].states[1] = tf.Variable(tf.random.normal(shape=(BATCH_SIZE, HIDDEN_DIM), mean=0.0, stddev=1, dtype=tf.float64))\n",
    "    \n",
    "    # Time-LSTM\n",
    "#     G.layers[4].states[0] = tf.Variable(tf.random.normal(shape=(BATCH_SIZE, HIDDEN_DIM), mean=0.0, stddev=1, dtype=tf.float64))\n",
    "#     G.layers[4].states[1] = tf.Variable(tf.random.normal(shape=(BATCH_SIZE, HIDDEN_DIM), mean=0.0, stddev=1, dtype=tf.float64))\n",
    "\n",
    "    for _ in range(L + 1 - l_prefix):  # sequence length\n",
    "        curr_state_et = all_state_et[:, -1:, :]\n",
    "        curr_state_ts = all_state_ts[:, -1:, :]\n",
    "        \n",
    "        # add step noise to token and time inputs\n",
    "#         curr_state_et = tf.cast(tf.where(curr_state_et == 1, 0.9, 0.1/3), tf.float64)\n",
    "#         curr_state_ts = curr_state_ts + tf.random.truncated_normal(shape=tf.shape(curr_state_ts), mean=0.0, stddev=1, dtype=tf.float64)\n",
    "\n",
    "        token_logits, time_delta_out = G([curr_state_et, curr_state_ts])\n",
    "        \n",
    "        # non-differentiable sampling\n",
    "        sampled_et_ind = tf.random.categorical(token_logits, num_samples=1, dtype=tf.int32)\n",
    "        sampled_et = tf.one_hot(sampled_et_ind, depth=EVENT_VOCAB_DIM, axis=2, dtype=tf.float64)\n",
    "        \n",
    "        sampled_et = tf.reshape(sampled_et, [batch_size, 1, EVENT_VOCAB_DIM])        \n",
    "        sampled_et = tf.cast(sampled_et, dtype=tf.float64) # cast sampled_et into float\n",
    "        \n",
    "        time_delta_out = tf.reshape(time_delta_out, [batch_size, 1, 1]) \n",
    "        token_logits = tf.reshape(token_logits, [batch_size, 1, EVENT_VOCAB_DIM]) \n",
    "        \n",
    "        # Do NOT stop genererating once hit end_token; G is supposed to learn it.\n",
    "        all_state_et = tf.concat([all_state_et, sampled_et], axis=1)\n",
    "        all_state_ts = tf.concat([all_state_ts, time_delta_out], axis=1)\n",
    "        all_token_logits = tf.concat([all_token_logits, token_logits], axis=1)\n",
    "\n",
    "    # the initlal random states are excluded in output\n",
    "    return all_state_et[:, 1:, :], all_state_ts[:, 1:, :], all_token_logits[:,1:,:]\n",
    "\n",
    "\n",
    "def generate_sequences_mcc(N_gen, generator, batch_size, T):\n",
    "    \"\"\"\n",
    "        Generate sequences batch per batch\n",
    "    :param N_gen: total number of seqs to be generated\n",
    "    :param generator:\n",
    "    :param batch_size:\n",
    "    :param T:\n",
    "    :return: a python list of shape [N_gen, T, 1]\n",
    "    \"\"\"\n",
    "    N = 0\n",
    "    all_type_seq = None\n",
    "    all_time_seq = None\n",
    "    all_token_logits = None\n",
    "    \n",
    "    init_token_noise, init_time_noise = generate_initial_noise()\n",
    "        \n",
    "    while N < N_gen:\n",
    "        batch_state_et, batch_state_ts, batch_token_logits = rollout_from_initial_mcc(generator, batch_size, init_token_noise, init_time_noise, T)\n",
    "\n",
    "        if all_type_seq is None or all_time_seq is None:\n",
    "            all_type_seq = batch_state_et\n",
    "            all_time_seq = batch_state_ts\n",
    "            all_token_logits = batch_token_logits\n",
    "        else:\n",
    "            all_type_seq = tf.concat([all_type_seq, batch_state_et], axis=0)\n",
    "            all_time_seq = tf.concat([all_time_seq, batch_state_ts], axis=0)\n",
    "            all_token_logits = tf.concat([all_token_logits, batch_token_logits], axis=0)\n",
    "\n",
    "        N += batch_size\n",
    "\n",
    "    all_type_seq = all_type_seq[:N_gen, :, :]\n",
    "    all_time_seq = all_time_seq[:N_gen, :, :]\n",
    "    all_token_logits = all_token_logits[:N_gen, :, :]\n",
    "\n",
    "    return all_type_seq, all_time_seq, all_token_logits"
   ]
  },
  {
   "cell_type": "markdown",
   "id": "computational-stadium",
   "metadata": {},
   "source": [
    "## Pre-Training using MLE"
   ]
  },
  {
   "cell_type": "code",
   "execution_count": 65,
   "id": "dense-intranet",
   "metadata": {},
   "outputs": [],
   "source": [
    "def pretrain_discriminator(event_type_batch, time_delta_batch, label_batch, discriminator, verbose=False, optimizer=Adam(lr=0.001)):\n",
    "    # train the discriminator\n",
    "    with tf.GradientTape() as tape:\n",
    "        # train discriminator\n",
    "        true_prob = discriminator([event_type_batch, time_delta_batch])\n",
    "\n",
    "        # cross-entropy loss\n",
    "        discriminator_loss = ce_loss = tf.reduce_mean(\n",
    "            tf.keras.losses.binary_crossentropy(label_batch, true_prob, from_logits=False)\n",
    "        )\n",
    "\n",
    "        if verbose:\n",
    "            print('total discriminator loss:{}'.format(discriminator_loss))\n",
    "\n",
    "    grads = tape.gradient(discriminator_loss, discriminator.trainable_variables)\n",
    "    optimizer.apply_gradients(zip(grads, discriminator.trainable_variables))\n",
    "\n",
    "    return discriminator_loss\n",
    "\n",
    "\n",
    "def pretrain_generator(event_type_batch, time_delta_batch, generator, verbose=False, optimizer=Adam(lr=0.001)):\n",
    "    _, T, _ = event_type_batch.shape\n",
    "    \n",
    "    # train the generator\n",
    "    with tf.GradientTape() as tape:\n",
    "        generator.reset_states()\n",
    "        step_token_ce_loss_list = []\n",
    "        step_time_mxe_loss_list = []\n",
    "\n",
    "        for i in range(0, T - 1):\n",
    "            curr_state_et = event_type_batch[:, i:i + 1, :]\n",
    "            curr_state_ts = time_delta_batch[:, i:i + 1, :]\n",
    "            \n",
    "            target_et = event_type_batch[:, i + 1, :]\n",
    "            target_ts = time_delta_batch[:, i + 1, :]            \n",
    "            \n",
    "            token_logits, time_delta_out = generator([curr_state_et, curr_state_ts])\n",
    "\n",
    "            token_ce_losses = tf.keras.losses.categorical_crossentropy(target_et, token_logits, from_logits=True)\n",
    "            token_ce_loss = tf.reduce_mean(token_ce_losses)\n",
    "            step_token_ce_loss_list.append(token_ce_loss)\n",
    "            \n",
    "            time_mxe_losses = tf.keras.losses.MAE(target_ts, time_delta_out)\n",
    "            time_mxe_loss = tf.reduce_mean(time_mxe_losses)\n",
    "            step_time_mxe_loss_list.append(time_mxe_loss)                        \n",
    "    \n",
    "        episode_token_ce_loss = tf.reduce_mean(step_token_ce_loss_list)\n",
    "        episode_time_mxe_loss = tf.reduce_mean(step_time_mxe_loss_list)\n",
    "        generator_loss = episode_token_ce_loss + episode_time_mxe_loss\n",
    "\n",
    "    if verbose:\n",
    "        print('token ce loss:{}'.format(episode_token_ce_loss))\n",
    "        print('time mae loss:{}'.format(episode_time_mxe_loss))\n",
    "        print('train loss:{}'.format(generator_loss))\n",
    "\n",
    "    # apply gradient decent per batch\n",
    "    grads = tape.gradient(generator_loss, generator.trainable_variables)\n",
    "    optimizer.apply_gradients(zip(grads, generator.trainable_variables))\n",
    "\n",
    "    return generator_loss"
   ]
  },
  {
   "cell_type": "markdown",
   "id": "proper-worker",
   "metadata": {},
   "source": [
    "### pre-train G"
   ]
  },
  {
   "cell_type": "code",
   "execution_count": 57,
   "id": "attached-allen",
   "metadata": {},
   "outputs": [
    {
     "data": {
      "text/plain": [
       "46"
      ]
     },
     "execution_count": 57,
     "metadata": {},
     "output_type": "execute_result"
    }
   ],
   "source": [
    "N_total_G = pos_event_type_seqs.shape[0]\n",
    "\n",
    "EPOCHS = 3\n",
    "_TOTAL_STEPS = int(EPOCHS * N_total_G / BATCH_SIZE)\n",
    "\n",
    "pretrain_G_dataset = create_dataset((pos_event_type_seqs, pos_timestamp_seqs),\n",
    "                                  np.ones((N_total_G, 1)),\n",
    "                                  batch_size=BATCH_SIZE,\n",
    "                                  epochs=EPOCHS,\n",
    "                                  buffer_size=N_total_G)\n",
    "_TOTAL_STEPS"
   ]
  },
  {
   "cell_type": "code",
   "execution_count": 58,
   "id": "mobile-cartoon",
   "metadata": {},
   "outputs": [],
   "source": [
    "pretrain_gen_loss_history = []\n",
    "\n",
    "pretrained_generator = build_G(\n",
    "    batch_size=BATCH_SIZE,\n",
    "    event_vocab_dim = EVENT_VOCAB_DIM,\n",
    "    emb_dim = EMB_DIM,\n",
    "    hidden_dim= HIDDEN_DIM)"
   ]
  },
  {
   "cell_type": "code",
   "execution_count": 59,
   "id": "charitable-woman",
   "metadata": {
    "scrolled": true
   },
   "outputs": [
    {
     "name": "stderr",
     "output_type": "stream",
     "text": [
      "\r",
      "0it [00:00, ?it/s]"
     ]
    },
    {
     "name": "stdout",
     "output_type": "stream",
     "text": [
      "Training Step: 1\n",
      "WARNING:tensorflow:AutoGraph could not transform <bound method TensorFlowOpLayer._defun_call of <tensorflow.python.eager.function.TfMethodTarget object at 0x7f3f4849a350>> and will run it as-is.\n",
      "Please report this to the TensorFlow team. When filing the bug, set the verbosity to 10 (on Linux, `export AUTOGRAPH_VERBOSITY=10`) and attach the full output.\n",
      "Cause: Bad argument number for Name: 3, expecting 4\n",
      "WARNING: AutoGraph could not transform <bound method TensorFlowOpLayer._defun_call of <tensorflow.python.eager.function.TfMethodTarget object at 0x7f3f4849a350>> and will run it as-is.\n",
      "Please report this to the TensorFlow team. When filing the bug, set the verbosity to 10 (on Linux, `export AUTOGRAPH_VERBOSITY=10`) and attach the full output.\n",
      "Cause: Bad argument number for Name: 3, expecting 4\n",
      "token ce loss:1.4297610685091509\n",
      "time mae loss:0.8102964999059232\n",
      "train loss:2.2400575684150743\n"
     ]
    },
    {
     "name": "stderr",
     "output_type": "stream",
     "text": [
      "\r",
      "1it [00:01,  1.07s/it]"
     ]
    },
    {
     "name": "stdout",
     "output_type": "stream",
     "text": [
      "Training Step: 2\n",
      "token ce loss:1.3824813390791142\n",
      "time mae loss:0.8078768942268217\n",
      "train loss:2.190358233305936\n"
     ]
    },
    {
     "name": "stderr",
     "output_type": "stream",
     "text": [
      "\r",
      "2it [00:02,  1.02s/it]"
     ]
    },
    {
     "name": "stdout",
     "output_type": "stream",
     "text": [
      "Training Step: 3\n",
      "token ce loss:1.3603935554606859\n",
      "time mae loss:0.7968666094972093\n",
      "train loss:2.1572601649578953\n"
     ]
    },
    {
     "name": "stderr",
     "output_type": "stream",
     "text": [
      "\r",
      "3it [00:03,  1.00s/it]"
     ]
    },
    {
     "name": "stdout",
     "output_type": "stream",
     "text": [
      "Training Step: 4\n",
      "token ce loss:1.3638821646099162\n",
      "time mae loss:0.7827206920984559\n",
      "train loss:2.146602856708372\n"
     ]
    },
    {
     "name": "stderr",
     "output_type": "stream",
     "text": [
      "\r",
      "4it [00:04,  1.01it/s]"
     ]
    },
    {
     "name": "stdout",
     "output_type": "stream",
     "text": [
      "Training Step: 5\n",
      "token ce loss:1.3668334285488115\n",
      "time mae loss:0.7805461581412271\n",
      "train loss:2.1473795866900387\n"
     ]
    },
    {
     "name": "stderr",
     "output_type": "stream",
     "text": [
      "\r",
      "5it [00:05,  1.00it/s]"
     ]
    },
    {
     "name": "stdout",
     "output_type": "stream",
     "text": [
      "Training Step: 6\n",
      "token ce loss:1.3598033114333585\n",
      "time mae loss:0.7898709780835271\n",
      "train loss:2.1496742895168857\n"
     ]
    },
    {
     "name": "stderr",
     "output_type": "stream",
     "text": [
      "\r",
      "6it [00:06,  1.01it/s]"
     ]
    },
    {
     "name": "stdout",
     "output_type": "stream",
     "text": [
      "Training Step: 7\n",
      "token ce loss:1.3501882059906665\n",
      "time mae loss:0.7820348552699143\n",
      "train loss:2.132223061260581\n"
     ]
    },
    {
     "name": "stderr",
     "output_type": "stream",
     "text": [
      "\r",
      "7it [00:06,  1.01it/s]"
     ]
    },
    {
     "name": "stdout",
     "output_type": "stream",
     "text": [
      "Training Step: 8\n",
      "token ce loss:1.3492598949762507\n",
      "time mae loss:0.7834722857788528\n",
      "train loss:2.132732180755103\n"
     ]
    },
    {
     "name": "stderr",
     "output_type": "stream",
     "text": [
      "\r",
      "8it [00:07,  1.01it/s]"
     ]
    },
    {
     "name": "stdout",
     "output_type": "stream",
     "text": [
      "Training Step: 9\n",
      "token ce loss:1.3408185913359618\n",
      "time mae loss:0.7859998575001824\n",
      "train loss:2.1268184488361443\n"
     ]
    },
    {
     "name": "stderr",
     "output_type": "stream",
     "text": [
      "\r",
      "9it [00:08,  1.02it/s]"
     ]
    },
    {
     "name": "stdout",
     "output_type": "stream",
     "text": [
      "Training Step: 10\n",
      "token ce loss:1.332043169656852\n",
      "time mae loss:0.7854343313245531\n",
      "train loss:2.117477500981405\n"
     ]
    },
    {
     "name": "stderr",
     "output_type": "stream",
     "text": [
      "\r",
      "10it [00:09,  1.06it/s]"
     ]
    },
    {
     "name": "stdout",
     "output_type": "stream",
     "text": [
      "Training Step: 11\n",
      "token ce loss:1.3294287553437822\n",
      "time mae loss:0.7880910235409002\n",
      "train loss:2.1175197788846827\n"
     ]
    },
    {
     "name": "stderr",
     "output_type": "stream",
     "text": [
      "\r",
      "11it [00:10,  1.10it/s]"
     ]
    },
    {
     "name": "stdout",
     "output_type": "stream",
     "text": [
      "Training Step: 12\n",
      "token ce loss:1.3266973931450012\n",
      "time mae loss:0.781516894648236\n",
      "train loss:2.1082142877932375\n"
     ]
    },
    {
     "name": "stderr",
     "output_type": "stream",
     "text": [
      "\r",
      "12it [00:11,  1.12it/s]"
     ]
    },
    {
     "name": "stdout",
     "output_type": "stream",
     "text": [
      "Training Step: 13\n",
      "token ce loss:1.323825366953003\n",
      "time mae loss:0.7758475271329229\n",
      "train loss:2.0996728940859257\n"
     ]
    },
    {
     "name": "stderr",
     "output_type": "stream",
     "text": [
      "\r",
      "13it [00:12,  1.08it/s]"
     ]
    },
    {
     "name": "stdout",
     "output_type": "stream",
     "text": [
      "Training Step: 14\n",
      "token ce loss:1.3234860433244429\n",
      "time mae loss:0.7930476244834652\n",
      "train loss:2.116533667807908\n"
     ]
    },
    {
     "name": "stderr",
     "output_type": "stream",
     "text": [
      "\r",
      "14it [00:13,  1.05it/s]"
     ]
    },
    {
     "name": "stdout",
     "output_type": "stream",
     "text": [
      "Training Step: 15\n",
      "token ce loss:1.326557020265003\n",
      "time mae loss:0.782767228578124\n",
      "train loss:2.109324248843127\n"
     ]
    },
    {
     "name": "stderr",
     "output_type": "stream",
     "text": [
      "\r",
      "15it [00:14,  1.04it/s]"
     ]
    },
    {
     "name": "stdout",
     "output_type": "stream",
     "text": [
      "Training Step: 16\n",
      "token ce loss:1.322190460576782\n",
      "time mae loss:0.7854038286550077\n",
      "train loss:2.10759428923179\n"
     ]
    },
    {
     "name": "stderr",
     "output_type": "stream",
     "text": [
      "\r",
      "16it [00:15,  1.02it/s]"
     ]
    },
    {
     "name": "stdout",
     "output_type": "stream",
     "text": [
      "Training Step: 17\n",
      "token ce loss:1.316508633055769\n",
      "time mae loss:0.7700862948090426\n",
      "train loss:2.0865949278648115\n"
     ]
    },
    {
     "name": "stderr",
     "output_type": "stream",
     "text": [
      "\r",
      "17it [00:16,  1.02it/s]"
     ]
    },
    {
     "name": "stdout",
     "output_type": "stream",
     "text": [
      "Training Step: 18\n",
      "token ce loss:1.3147999075132282\n",
      "time mae loss:0.7856230446311122\n",
      "train loss:2.1004229521443403\n"
     ]
    },
    {
     "name": "stderr",
     "output_type": "stream",
     "text": [
      "\r",
      "18it [00:17,  1.01it/s]"
     ]
    },
    {
     "name": "stdout",
     "output_type": "stream",
     "text": [
      "Training Step: 19\n",
      "token ce loss:1.3127208989719603\n",
      "time mae loss:0.7826448322748295\n",
      "train loss:2.09536573124679\n"
     ]
    },
    {
     "name": "stderr",
     "output_type": "stream",
     "text": [
      "\r",
      "19it [00:18,  1.01it/s]"
     ]
    },
    {
     "name": "stdout",
     "output_type": "stream",
     "text": [
      "Training Step: 20\n",
      "token ce loss:1.309259125751405\n",
      "time mae loss:0.7733634368106524\n",
      "train loss:2.0826225625620576\n"
     ]
    },
    {
     "name": "stderr",
     "output_type": "stream",
     "text": [
      "\r",
      "20it [00:19,  1.00it/s]"
     ]
    },
    {
     "name": "stdout",
     "output_type": "stream",
     "text": [
      "Training Step: 21\n",
      "token ce loss:1.313441986201901\n",
      "time mae loss:0.7887055974878739\n",
      "train loss:2.1021475836897747\n"
     ]
    },
    {
     "name": "stderr",
     "output_type": "stream",
     "text": [
      "\r",
      "21it [00:20,  1.00it/s]"
     ]
    },
    {
     "name": "stdout",
     "output_type": "stream",
     "text": [
      "Training Step: 22\n",
      "token ce loss:1.302237970563268\n",
      "time mae loss:0.7767801797895897\n",
      "train loss:2.0790181503528578\n"
     ]
    },
    {
     "name": "stderr",
     "output_type": "stream",
     "text": [
      "\r",
      "22it [00:21,  1.01s/it]"
     ]
    },
    {
     "name": "stdout",
     "output_type": "stream",
     "text": [
      "Training Step: 23\n",
      "token ce loss:1.3071395811698903\n",
      "time mae loss:0.7819585244634333\n",
      "train loss:2.0890981056333233\n"
     ]
    },
    {
     "name": "stderr",
     "output_type": "stream",
     "text": [
      "\r",
      "23it [00:22,  1.00s/it]"
     ]
    },
    {
     "name": "stdout",
     "output_type": "stream",
     "text": [
      "Training Step: 24\n",
      "token ce loss:1.3049790889287345\n",
      "time mae loss:0.7819231596700846\n",
      "train loss:2.086902248598819\n"
     ]
    },
    {
     "name": "stderr",
     "output_type": "stream",
     "text": [
      "\r",
      "24it [00:23,  1.02it/s]"
     ]
    },
    {
     "name": "stdout",
     "output_type": "stream",
     "text": [
      "Training Step: 25\n",
      "token ce loss:1.298887749320043\n",
      "time mae loss:0.778625510859132\n",
      "train loss:2.077513260179175\n"
     ]
    },
    {
     "name": "stderr",
     "output_type": "stream",
     "text": [
      "\r",
      "25it [00:24,  1.04it/s]"
     ]
    },
    {
     "name": "stdout",
     "output_type": "stream",
     "text": [
      "Training Step: 26\n",
      "token ce loss:1.3033745586622008\n",
      "time mae loss:0.7768005104174446\n",
      "train loss:2.0801750690796452\n"
     ]
    },
    {
     "name": "stderr",
     "output_type": "stream",
     "text": [
      "\r",
      "26it [00:25,  1.03it/s]"
     ]
    },
    {
     "name": "stdout",
     "output_type": "stream",
     "text": [
      "Training Step: 27\n",
      "token ce loss:1.2949149218295297\n",
      "time mae loss:0.7795714611599985\n",
      "train loss:2.0744863829895284\n"
     ]
    },
    {
     "name": "stderr",
     "output_type": "stream",
     "text": [
      "\r",
      "27it [00:26,  1.02it/s]"
     ]
    },
    {
     "name": "stdout",
     "output_type": "stream",
     "text": [
      "Training Step: 28\n",
      "token ce loss:1.2928710836338688\n",
      "time mae loss:0.7808646771536938\n",
      "train loss:2.073735760787563\n"
     ]
    },
    {
     "name": "stderr",
     "output_type": "stream",
     "text": [
      "\r",
      "28it [00:27,  1.02it/s]"
     ]
    },
    {
     "name": "stdout",
     "output_type": "stream",
     "text": [
      "Training Step: 29\n",
      "token ce loss:1.2896759658613863\n",
      "time mae loss:0.7870204333932395\n",
      "train loss:2.076696399254626\n"
     ]
    },
    {
     "name": "stderr",
     "output_type": "stream",
     "text": [
      "\r",
      "29it [00:28,  1.01it/s]"
     ]
    },
    {
     "name": "stdout",
     "output_type": "stream",
     "text": [
      "Training Step: 30\n",
      "token ce loss:1.2964983332507212\n",
      "time mae loss:0.7736234268158761\n",
      "train loss:2.0701217600665975\n"
     ]
    },
    {
     "name": "stderr",
     "output_type": "stream",
     "text": [
      "\r",
      "30it [00:29,  1.02it/s]"
     ]
    },
    {
     "name": "stdout",
     "output_type": "stream",
     "text": [
      "Training Step: 31\n",
      "token ce loss:1.29876293252765\n",
      "time mae loss:0.7758471049203007\n",
      "train loss:2.074610037447951\n"
     ]
    },
    {
     "name": "stderr",
     "output_type": "stream",
     "text": [
      "\r",
      "31it [00:30,  1.02it/s]"
     ]
    },
    {
     "name": "stdout",
     "output_type": "stream",
     "text": [
      "Training Step: 32\n",
      "token ce loss:1.2978327258042446\n",
      "time mae loss:0.7959846315616568\n",
      "train loss:2.0938173573659014\n"
     ]
    },
    {
     "name": "stderr",
     "output_type": "stream",
     "text": [
      "\r",
      "32it [00:31,  1.02it/s]"
     ]
    },
    {
     "name": "stdout",
     "output_type": "stream",
     "text": [
      "Training Step: 33\n",
      "token ce loss:1.2943247242568934\n",
      "time mae loss:0.7827617848632659\n",
      "train loss:2.0770865091201594\n"
     ]
    },
    {
     "name": "stderr",
     "output_type": "stream",
     "text": [
      "\r",
      "33it [00:32,  1.01it/s]"
     ]
    },
    {
     "name": "stdout",
     "output_type": "stream",
     "text": [
      "Training Step: 34\n",
      "token ce loss:1.2911590848398042\n",
      "time mae loss:0.7781059221282228\n",
      "train loss:2.069265006968027\n"
     ]
    },
    {
     "name": "stderr",
     "output_type": "stream",
     "text": [
      "\r",
      "34it [00:33,  1.03s/it]"
     ]
    },
    {
     "name": "stdout",
     "output_type": "stream",
     "text": [
      "Training Step: 35\n",
      "token ce loss:1.2858037204509352\n",
      "time mae loss:0.7735953982735255\n",
      "train loss:2.0593991187244605\n"
     ]
    },
    {
     "name": "stderr",
     "output_type": "stream",
     "text": [
      "\r",
      "35it [00:34,  1.02s/it]"
     ]
    },
    {
     "name": "stdout",
     "output_type": "stream",
     "text": [
      "Training Step: 36\n",
      "token ce loss:1.2909523334775088\n",
      "time mae loss:0.7707368926963586\n",
      "train loss:2.0616892261738675\n"
     ]
    },
    {
     "name": "stderr",
     "output_type": "stream",
     "text": [
      "\r",
      "36it [00:35,  1.00s/it]"
     ]
    },
    {
     "name": "stdout",
     "output_type": "stream",
     "text": [
      "Training Step: 37\n",
      "token ce loss:1.2887655689761346\n",
      "time mae loss:0.7804171701901715\n",
      "train loss:2.069182739166306\n"
     ]
    },
    {
     "name": "stderr",
     "output_type": "stream",
     "text": [
      "\r",
      "37it [00:36,  1.00it/s]"
     ]
    },
    {
     "name": "stdout",
     "output_type": "stream",
     "text": [
      "Training Step: 38\n",
      "token ce loss:1.2933104244943865\n",
      "time mae loss:0.7784248098448782\n",
      "train loss:2.0717352343392648\n"
     ]
    },
    {
     "name": "stderr",
     "output_type": "stream",
     "text": [
      "\r",
      "38it [00:37,  1.05it/s]"
     ]
    },
    {
     "name": "stdout",
     "output_type": "stream",
     "text": [
      "Training Step: 39\n",
      "token ce loss:1.2917742081366186\n",
      "time mae loss:0.7795866502275766\n",
      "train loss:2.071360858364195\n"
     ]
    },
    {
     "name": "stderr",
     "output_type": "stream",
     "text": [
      "\r",
      "39it [00:38,  1.08it/s]"
     ]
    },
    {
     "name": "stdout",
     "output_type": "stream",
     "text": [
      "Training Step: 40\n",
      "token ce loss:1.2860569400032151\n",
      "time mae loss:0.7834438162558871\n",
      "train loss:2.069500756259102\n"
     ]
    },
    {
     "name": "stderr",
     "output_type": "stream",
     "text": [
      "\r",
      "40it [00:38,  1.12it/s]"
     ]
    },
    {
     "name": "stdout",
     "output_type": "stream",
     "text": [
      "Training Step: 41\n",
      "token ce loss:1.2894921702350717\n",
      "time mae loss:0.7665345972729094\n",
      "train loss:2.056026767507981\n"
     ]
    },
    {
     "name": "stderr",
     "output_type": "stream",
     "text": [
      "\r",
      "41it [00:39,  1.13it/s]"
     ]
    },
    {
     "name": "stdout",
     "output_type": "stream",
     "text": [
      "Training Step: 42\n",
      "token ce loss:1.2821232409246115\n",
      "time mae loss:0.7681254306858615\n",
      "train loss:2.050248671610473\n"
     ]
    },
    {
     "name": "stderr",
     "output_type": "stream",
     "text": [
      "\r",
      "42it [00:40,  1.08it/s]"
     ]
    },
    {
     "name": "stdout",
     "output_type": "stream",
     "text": [
      "Training Step: 43\n",
      "token ce loss:1.285756990443013\n",
      "time mae loss:0.7682815204866507\n",
      "train loss:2.0540385109296637\n"
     ]
    },
    {
     "name": "stderr",
     "output_type": "stream",
     "text": [
      "\r",
      "43it [00:41,  1.06it/s]"
     ]
    },
    {
     "name": "stdout",
     "output_type": "stream",
     "text": [
      "Training Step: 44\n",
      "token ce loss:1.2825614090918493\n",
      "time mae loss:0.7725570103520516\n",
      "train loss:2.055118419443901\n"
     ]
    },
    {
     "name": "stderr",
     "output_type": "stream",
     "text": [
      "\r",
      "44it [00:42,  1.04it/s]"
     ]
    },
    {
     "name": "stdout",
     "output_type": "stream",
     "text": [
      "Training Step: 45\n",
      "token ce loss:1.2839594062357775\n",
      "time mae loss:0.7966468888637873\n",
      "train loss:2.0806062950995647\n"
     ]
    },
    {
     "name": "stderr",
     "output_type": "stream",
     "text": [
      "\r",
      "45it [00:43,  1.03it/s]"
     ]
    },
    {
     "name": "stdout",
     "output_type": "stream",
     "text": [
      "Training Step: 46\n",
      "token ce loss:1.276259760085819\n",
      "time mae loss:0.7877001128950027\n",
      "train loss:2.0639598729808215\n"
     ]
    },
    {
     "name": "stderr",
     "output_type": "stream",
     "text": [
      "46it [00:44,  1.03it/s]\n"
     ]
    }
   ],
   "source": [
    "step = 0\n",
    "OPTIMIZER = Adam(lr=1e-3)\n",
    "# _TOTAL_STEPS = 100\n",
    "\n",
    "for feature_batch, _ in tqdm(pretrain_G_dataset.take(_TOTAL_STEPS)):\n",
    "    event_type_batch, time_delta_batch = feature_batch\n",
    "    step += 1\n",
    "    print('Training Step:', step)\n",
    "        \n",
    "    gen_loss =  pretrain_generator(event_type_batch, time_delta_batch, pretrained_generator, verbose=True, optimizer=OPTIMIZER)                    \n",
    "    pretrain_gen_loss_history.append(gen_loss.numpy())"
   ]
  },
  {
   "cell_type": "code",
   "execution_count": 60,
   "id": "driven-patch",
   "metadata": {},
   "outputs": [],
   "source": [
    "if not os.path.exists(model_save_dir + '/pretrained_gen_weights'):\n",
    "    os.makedirs(model_save_dir + '/pretrained_gen_weights')\n",
    "\n",
    "G_save_path = model_save_dir + '/pretrained_gen_weights/model.tf'\n",
    "pretrained_generator.save_weights(G_save_path)"
   ]
  },
  {
   "cell_type": "code",
   "execution_count": 61,
   "id": "configured-resident",
   "metadata": {},
   "outputs": [
    {
     "name": "stdout",
     "output_type": "stream",
     "text": [
      "Model: \"model_10\"\n",
      "__________________________________________________________________________________________________\n",
      "Layer (type)                    Output Shape         Param #     Connected to                     \n",
      "==================================================================================================\n",
      "event_type (InputLayer)         [(256, None, 4)]     0                                            \n",
      "__________________________________________________________________________________________________\n",
      "dense_emb (Dense)               (256, None, 16)      80          event_type[0][0]                 \n",
      "__________________________________________________________________________________________________\n",
      "time_delta_in (InputLayer)      [(256, None, 1)]     0                                            \n",
      "__________________________________________________________________________________________________\n",
      "tf_op_layer_concat_10 (TensorFl [(256, None, 17)]    0           dense_emb[0][0]                  \n",
      "                                                                 time_delta_in[0][0]              \n",
      "__________________________________________________________________________________________________\n",
      "lstm_token (LSTM)               (256, 128)           74752       tf_op_layer_concat_10[0][0]      \n",
      "__________________________________________________________________________________________________\n",
      "lstm_time (LSTM)                (256, 128)           74752       tf_op_layer_concat_10[0][0]      \n",
      "__________________________________________________________________________________________________\n",
      "concatenate_10 (Concatenate)    (256, 256)           0           lstm_token[0][0]                 \n",
      "                                                                 lstm_time[0][0]                  \n",
      "__________________________________________________________________________________________________\n",
      "dense_combination (Dense)       (256, 128)           32896       concatenate_10[0][0]             \n",
      "__________________________________________________________________________________________________\n",
      "dense_token (Dense)             (256, 4)             516         dense_combination[0][0]          \n",
      "__________________________________________________________________________________________________\n",
      "dense_time (Dense)              (256, 1)             129         dense_combination[0][0]          \n",
      "==================================================================================================\n",
      "Total params: 183,125\n",
      "Trainable params: 183,125\n",
      "Non-trainable params: 0\n",
      "__________________________________________________________________________________________________\n"
     ]
    }
   ],
   "source": [
    "reload_pretrained_gen = build_G(\n",
    "    batch_size = BATCH_SIZE,\n",
    "    event_vocab_dim = EVENT_VOCAB_DIM,\n",
    "    emb_dim = EMB_DIM,\n",
    "    hidden_dim= HIDDEN_DIM,\n",
    ")\n",
    "\n",
    "reload_pretrained_gen.build(input_shape=((BATCH_SIZE, T, 1)))\n",
    "reload_pretrained_gen.load_weights(G_save_path)\n",
    "reload_pretrained_gen.summary()"
   ]
  },
  {
   "cell_type": "markdown",
   "id": "legendary-container",
   "metadata": {},
   "source": [
    "### pre-train D"
   ]
  },
  {
   "cell_type": "code",
   "execution_count": 43,
   "id": "shaped-victoria",
   "metadata": {},
   "outputs": [],
   "source": [
    "N_fake_D = N_real_D = N_total_G "
   ]
  },
  {
   "cell_type": "code",
   "execution_count": 68,
   "id": "discrete-trauma",
   "metadata": {},
   "outputs": [],
   "source": [
    "# generate fake data by G to pre-train D\n",
    "fake_pos_event_type_seqs, fake_pos_timestamp_seqs, _ = generate_sequences_mcc(N_fake_D, pretrained_generator, BATCH_SIZE, T)"
   ]
  },
  {
   "cell_type": "code",
   "execution_count": 69,
   "id": "korean-recipe",
   "metadata": {},
   "outputs": [],
   "source": [
    "# generate fake data by G to pre-train D\n",
    "real_pos_event_type_seqs = pos_event_type_seqs[0:N_real_D, :, :]\n",
    "real_pos_timestamp_seqs = pos_timestamp_seqs[0:N_real_D, :, :]"
   ]
  },
  {
   "cell_type": "code",
   "execution_count": 70,
   "id": "outstanding-burke",
   "metadata": {},
   "outputs": [],
   "source": [
    "N_total_D = N_fake_D + N_real_D\n",
    "\n",
    "pretrain_D_et = tf.concat([fake_pos_event_type_seqs, real_pos_event_type_seqs], axis=0)\n",
    "pretrain_D_ts = tf.concat([fake_pos_timestamp_seqs, real_pos_timestamp_seqs], axis=0)\n",
    "pretrain_D_labels = tf.concat([np.zeros((N_fake_D, 1)), np.ones((N_real_D, 1))], axis=0)\n",
    "\n",
    "EPOCHS = 1\n",
    "_TOTAL_STEPS = int(EPOCHS * N_total_D / BATCH_SIZE)\n",
    "\n",
    "pretrain_D_dataset = create_dataset((pretrain_D_et, pretrain_D_ts),\n",
    "                                    pretrain_D_labels,\n",
    "                                    batch_size=BATCH_SIZE,\n",
    "                                    epochs=EPOCHS,\n",
    "                                    buffer_size=N_total_D) # shuffle the entire Dataset"
   ]
  },
  {
   "cell_type": "code",
   "execution_count": 71,
   "id": "direct-desire",
   "metadata": {},
   "outputs": [],
   "source": [
    "pretrain_disc_token_loss_history = []\n",
    "\n",
    "pretrained_discriminator = build_D(batch_size=BATCH_SIZE,\n",
    "                                   T=T,\n",
    "                                   event_vocab_dim=EVENT_VOCAB_DIM,\n",
    "                                   emb_dim=EMB_DIM,\n",
    "                                   hidden_dim=HIDDEN_DIM,    \n",
    "                                   dropout_rate=0.25)"
   ]
  },
  {
   "cell_type": "code",
   "execution_count": 72,
   "id": "external-extent",
   "metadata": {
    "scrolled": true
   },
   "outputs": [
    {
     "name": "stderr",
     "output_type": "stream",
     "text": [
      "\r",
      "0it [00:00, ?it/s]"
     ]
    },
    {
     "name": "stdout",
     "output_type": "stream",
     "text": [
      "Training Step: 1\n",
      "WARNING:tensorflow:AutoGraph could not transform <bound method TensorFlowOpLayer._defun_call of <tensorflow.python.eager.function.TfMethodTarget object at 0x7f3f4807e290>> and will run it as-is.\n",
      "Please report this to the TensorFlow team. When filing the bug, set the verbosity to 10 (on Linux, `export AUTOGRAPH_VERBOSITY=10`) and attach the full output.\n",
      "Cause: Bad argument number for Name: 3, expecting 4\n",
      "WARNING: AutoGraph could not transform <bound method TensorFlowOpLayer._defun_call of <tensorflow.python.eager.function.TfMethodTarget object at 0x7f3f4807e290>> and will run it as-is.\n",
      "Please report this to the TensorFlow team. When filing the bug, set the verbosity to 10 (on Linux, `export AUTOGRAPH_VERBOSITY=10`) and attach the full output.\n",
      "Cause: Bad argument number for Name: 3, expecting 4\n",
      "total discriminator loss:0.703598470116161\n"
     ]
    },
    {
     "name": "stderr",
     "output_type": "stream",
     "text": [
      "\r",
      "1it [00:00,  1.64it/s]"
     ]
    },
    {
     "name": "stdout",
     "output_type": "stream",
     "text": [
      "Training Step: 2\n",
      "total discriminator loss:0.6830114051045489\n"
     ]
    },
    {
     "name": "stderr",
     "output_type": "stream",
     "text": [
      "\r",
      "2it [00:01,  1.76it/s]"
     ]
    },
    {
     "name": "stdout",
     "output_type": "stream",
     "text": [
      "Training Step: 3\n",
      "total discriminator loss:0.6670575900989302\n"
     ]
    },
    {
     "name": "stderr",
     "output_type": "stream",
     "text": [
      "\r",
      "3it [00:01,  1.81it/s]"
     ]
    },
    {
     "name": "stdout",
     "output_type": "stream",
     "text": [
      "Training Step: 4\n",
      "total discriminator loss:0.6366159271587752\n"
     ]
    },
    {
     "name": "stderr",
     "output_type": "stream",
     "text": [
      "\r",
      "4it [00:02,  1.83it/s]"
     ]
    },
    {
     "name": "stdout",
     "output_type": "stream",
     "text": [
      "Training Step: 5\n",
      "total discriminator loss:0.6216779262451122\n"
     ]
    },
    {
     "name": "stderr",
     "output_type": "stream",
     "text": [
      "\r",
      "5it [00:02,  1.83it/s]"
     ]
    },
    {
     "name": "stdout",
     "output_type": "stream",
     "text": [
      "Training Step: 6\n",
      "total discriminator loss:0.5955789889881881\n"
     ]
    },
    {
     "name": "stderr",
     "output_type": "stream",
     "text": [
      "\r",
      "6it [00:03,  1.82it/s]"
     ]
    },
    {
     "name": "stdout",
     "output_type": "stream",
     "text": [
      "Training Step: 7\n",
      "total discriminator loss:0.5805332934225175\n"
     ]
    },
    {
     "name": "stderr",
     "output_type": "stream",
     "text": [
      "\r",
      "7it [00:03,  1.82it/s]"
     ]
    },
    {
     "name": "stdout",
     "output_type": "stream",
     "text": [
      "Training Step: 8\n",
      "total discriminator loss:0.5703157834632441\n"
     ]
    },
    {
     "name": "stderr",
     "output_type": "stream",
     "text": [
      "\r",
      "8it [00:04,  1.83it/s]"
     ]
    },
    {
     "name": "stdout",
     "output_type": "stream",
     "text": [
      "Training Step: 9\n",
      "total discriminator loss:0.5282789871662232\n"
     ]
    },
    {
     "name": "stderr",
     "output_type": "stream",
     "text": [
      "\r",
      "9it [00:04,  1.83it/s]"
     ]
    },
    {
     "name": "stdout",
     "output_type": "stream",
     "text": [
      "Training Step: 10\n",
      "total discriminator loss:0.5312463369799714\n"
     ]
    },
    {
     "name": "stderr",
     "output_type": "stream",
     "text": [
      "\r",
      "10it [00:05,  1.83it/s]"
     ]
    },
    {
     "name": "stdout",
     "output_type": "stream",
     "text": [
      "Training Step: 11\n",
      "total discriminator loss:0.49730150914915033\n"
     ]
    },
    {
     "name": "stderr",
     "output_type": "stream",
     "text": [
      "\r",
      "11it [00:06,  1.82it/s]"
     ]
    },
    {
     "name": "stdout",
     "output_type": "stream",
     "text": [
      "Training Step: 12\n",
      "total discriminator loss:0.45445829907848007\n"
     ]
    },
    {
     "name": "stderr",
     "output_type": "stream",
     "text": [
      "\r",
      "12it [00:06,  1.83it/s]"
     ]
    },
    {
     "name": "stdout",
     "output_type": "stream",
     "text": [
      "Training Step: 13\n",
      "total discriminator loss:0.39019445966044697\n"
     ]
    },
    {
     "name": "stderr",
     "output_type": "stream",
     "text": [
      "\r",
      "13it [00:07,  1.84it/s]"
     ]
    },
    {
     "name": "stdout",
     "output_type": "stream",
     "text": [
      "Training Step: 14\n",
      "total discriminator loss:0.41271928418021514\n"
     ]
    },
    {
     "name": "stderr",
     "output_type": "stream",
     "text": [
      "\r",
      "14it [00:07,  1.82it/s]"
     ]
    },
    {
     "name": "stdout",
     "output_type": "stream",
     "text": [
      "Training Step: 15\n",
      "total discriminator loss:0.3682390786997698\n"
     ]
    },
    {
     "name": "stderr",
     "output_type": "stream",
     "text": [
      "\r",
      "15it [00:08,  1.81it/s]"
     ]
    },
    {
     "name": "stdout",
     "output_type": "stream",
     "text": [
      "Training Step: 16\n",
      "total discriminator loss:0.37250702455100526\n"
     ]
    },
    {
     "name": "stderr",
     "output_type": "stream",
     "text": [
      "\r",
      "16it [00:08,  1.95it/s]"
     ]
    },
    {
     "name": "stdout",
     "output_type": "stream",
     "text": [
      "Training Step: 17\n",
      "total discriminator loss:0.32443891637038\n"
     ]
    },
    {
     "name": "stderr",
     "output_type": "stream",
     "text": [
      "\r",
      "17it [00:09,  2.05it/s]"
     ]
    },
    {
     "name": "stdout",
     "output_type": "stream",
     "text": [
      "Training Step: 18\n",
      "total discriminator loss:0.3138747709381744\n"
     ]
    },
    {
     "name": "stderr",
     "output_type": "stream",
     "text": [
      "\r",
      "18it [00:09,  2.12it/s]"
     ]
    },
    {
     "name": "stdout",
     "output_type": "stream",
     "text": [
      "Training Step: 19\n",
      "total discriminator loss:0.27675061746049334\n"
     ]
    },
    {
     "name": "stderr",
     "output_type": "stream",
     "text": [
      "\r",
      "19it [00:09,  2.17it/s]"
     ]
    },
    {
     "name": "stdout",
     "output_type": "stream",
     "text": [
      "Training Step: 20\n",
      "total discriminator loss:0.2192536412899822\n"
     ]
    },
    {
     "name": "stderr",
     "output_type": "stream",
     "text": [
      "\r",
      "20it [00:10,  2.21it/s]"
     ]
    },
    {
     "name": "stdout",
     "output_type": "stream",
     "text": [
      "Training Step: 21\n",
      "total discriminator loss:0.2460170627621315\n"
     ]
    },
    {
     "name": "stderr",
     "output_type": "stream",
     "text": [
      "\r",
      "21it [00:10,  2.24it/s]"
     ]
    },
    {
     "name": "stdout",
     "output_type": "stream",
     "text": [
      "Training Step: 22\n",
      "total discriminator loss:0.2159178246373006\n"
     ]
    },
    {
     "name": "stderr",
     "output_type": "stream",
     "text": [
      "\r",
      "22it [00:11,  2.29it/s]"
     ]
    },
    {
     "name": "stdout",
     "output_type": "stream",
     "text": [
      "Training Step: 23\n"
     ]
    },
    {
     "name": "stderr",
     "output_type": "stream",
     "text": [
      "\r",
      "23it [00:11,  2.31it/s]"
     ]
    },
    {
     "name": "stdout",
     "output_type": "stream",
     "text": [
      "total discriminator loss:0.18521321730368095\n",
      "Training Step: 24\n",
      "total discriminator loss:0.1529252078110578\n"
     ]
    },
    {
     "name": "stderr",
     "output_type": "stream",
     "text": [
      "\r",
      "24it [00:12,  2.17it/s]"
     ]
    },
    {
     "name": "stdout",
     "output_type": "stream",
     "text": [
      "Training Step: 25\n",
      "total discriminator loss:0.16463541732986778\n"
     ]
    },
    {
     "name": "stderr",
     "output_type": "stream",
     "text": [
      "\r",
      "25it [00:12,  2.05it/s]"
     ]
    },
    {
     "name": "stdout",
     "output_type": "stream",
     "text": [
      "Training Step: 26\n",
      "total discriminator loss:0.09298411488760631\n"
     ]
    },
    {
     "name": "stderr",
     "output_type": "stream",
     "text": [
      "\r",
      "26it [00:13,  1.95it/s]"
     ]
    },
    {
     "name": "stdout",
     "output_type": "stream",
     "text": [
      "Training Step: 27\n",
      "total discriminator loss:0.16263635861386963\n"
     ]
    },
    {
     "name": "stderr",
     "output_type": "stream",
     "text": [
      "\r",
      "27it [00:13,  1.92it/s]"
     ]
    },
    {
     "name": "stdout",
     "output_type": "stream",
     "text": [
      "Training Step: 28\n",
      "total discriminator loss:0.07884539138212875\n"
     ]
    },
    {
     "name": "stderr",
     "output_type": "stream",
     "text": [
      "\r",
      "28it [00:14,  1.90it/s]"
     ]
    },
    {
     "name": "stdout",
     "output_type": "stream",
     "text": [
      "Training Step: 29\n",
      "total discriminator loss:0.11109962442800901\n"
     ]
    },
    {
     "name": "stderr",
     "output_type": "stream",
     "text": [
      "\r",
      "29it [00:14,  1.86it/s]"
     ]
    },
    {
     "name": "stdout",
     "output_type": "stream",
     "text": [
      "Training Step: 30\n",
      "total discriminator loss:0.09452716111499987\n"
     ]
    },
    {
     "name": "stderr",
     "output_type": "stream",
     "text": [
      "\r",
      "30it [00:15,  1.83it/s]"
     ]
    },
    {
     "name": "stdout",
     "output_type": "stream",
     "text": [
      "Training Step: 31\n",
      "total discriminator loss:0.033331530965415815\n"
     ]
    },
    {
     "name": "stderr",
     "output_type": "stream",
     "text": [
      "31it [00:16,  1.93it/s]\n"
     ]
    }
   ],
   "source": [
    "step = 0\n",
    "OPTIMIZER = Adam(lr=1e-3)\n",
    "# _TOTAL_STEPS = 100\n",
    "\n",
    "for feature_batch, labels in tqdm(pretrain_D_dataset.take(_TOTAL_STEPS)):\n",
    "    event_type_batch, time_delta_batch = feature_batch\n",
    "    step += 1\n",
    "    print('Training Step:', step)\n",
    "\n",
    "    disc_token_loss = pretrain_discriminator(event_type_batch, time_delta_batch, labels, pretrained_discriminator, verbose=True, optimizer=OPTIMIZER)\n",
    "    pretrain_disc_token_loss_history.append(disc_token_loss.numpy())"
   ]
  },
  {
   "cell_type": "code",
   "execution_count": 73,
   "id": "working-reason",
   "metadata": {},
   "outputs": [],
   "source": [
    "if not os.path.exists(model_save_dir + '/pretrained_disc_weights'):\n",
    "    os.makedirs(model_save_dir + '/pretrained_disc_weights')\n",
    "\n",
    "D_save_path = model_save_dir + '/pretrained_disc_weights/model.tf'\n",
    "pretrained_discriminator.save_weights(D_save_path)"
   ]
  },
  {
   "cell_type": "code",
   "execution_count": 74,
   "id": "cultural-travel",
   "metadata": {
    "scrolled": true
   },
   "outputs": [
    {
     "name": "stdout",
     "output_type": "stream",
     "text": [
      "Model: \"model_12\"\n",
      "__________________________________________________________________________________________________\n",
      "Layer (type)                    Output Shape         Param #     Connected to                     \n",
      "==================================================================================================\n",
      "event_type (InputLayer)         [(256, None, 4)]     0                                            \n",
      "__________________________________________________________________________________________________\n",
      "dense_emb (Dense)               (256, None, 16)      80          event_type[0][0]                 \n",
      "__________________________________________________________________________________________________\n",
      "time_delta_in (InputLayer)      [(256, None, 1)]     0                                            \n",
      "__________________________________________________________________________________________________\n",
      "tf_op_layer_concat_12 (TensorFl [(256, None, 17)]    0           dense_emb[0][0]                  \n",
      "                                                                 time_delta_in[0][0]              \n",
      "__________________________________________________________________________________________________\n",
      "lstm_token (LSTM)               (256, 128)           74752       tf_op_layer_concat_12[0][0]      \n",
      "__________________________________________________________________________________________________\n",
      "lstm_time (LSTM)                (256, 128)           74752       tf_op_layer_concat_12[0][0]      \n",
      "__________________________________________________________________________________________________\n",
      "concatenate_12 (Concatenate)    (256, 256)           0           lstm_token[0][0]                 \n",
      "                                                                 lstm_time[0][0]                  \n",
      "__________________________________________________________________________________________________\n",
      "dropout_5 (Dropout)             (256, 256)           0           concatenate_12[0][0]             \n",
      "__________________________________________________________________________________________________\n",
      "final (Dense)                   (256, 1)             257         dropout_5[0][0]                  \n",
      "==================================================================================================\n",
      "Total params: 149,841\n",
      "Trainable params: 149,841\n",
      "Non-trainable params: 0\n",
      "__________________________________________________________________________________________________\n"
     ]
    }
   ],
   "source": [
    "reload_pretrained_disc = build_D(\n",
    "    batch_size=BATCH_SIZE,\n",
    "    T=T,\n",
    "    event_vocab_dim=EVENT_VOCAB_DIM,\n",
    "    emb_dim=EMB_DIM,\n",
    "    hidden_dim=HIDDEN_DIM,    \n",
    "    dropout_rate=0.25)\n",
    "\n",
    "reload_pretrained_disc.build(input_shape=((BATCH_SIZE, T, 1)))\n",
    "reload_pretrained_disc.load_weights(D_save_path)\n",
    "reload_pretrained_disc.summary()"
   ]
  },
  {
   "cell_type": "markdown",
   "id": "north-bacon",
   "metadata": {},
   "source": [
    "## Monte-Carlo with Critic  Traning"
   ]
  },
  {
   "cell_type": "code",
   "execution_count": 93,
   "id": "indian-assist",
   "metadata": {},
   "outputs": [],
   "source": [
    "def train_generator_mcc(generator, discriminator, critic, batch_size, T, verbose=False,                   \n",
    "                    optimizer=Adam(lr=0.001)):\n",
    "    \n",
    "    # clear critic states for a new batch\n",
    "    critic.reset_states()\n",
    "    \n",
    "    with tf.GradientTape(persistent=True) as tape:     \n",
    "                        \n",
    "        gen_step_loss = []\n",
    "        critic_step_loss = []\n",
    "\n",
    "        G_sample_et, G_sample_ts, G_token_logits = generate_sequences_mcc(batch_size, generator, batch_size, T)        \n",
    "        \n",
    "        true_return = discriminator([G_sample_et, G_sample_ts])\n",
    "        \n",
    "        # Monte-Carlo with Critic\n",
    "        for i in range(T):  \n",
    "            curr_state_et = G_sample_et[:, -1:, :]\n",
    "            curr_state_ts = G_sample_ts[:, -1:, :]\n",
    "            curr_token_logits = G_token_logits[:, -1:, :]\n",
    "        \n",
    "            q_value = critic([curr_state_et, curr_state_ts])\n",
    "            advantage = true_return - q_value\n",
    "        \n",
    "            # averge loss over batch at each rollout step: -E[log_prob * Q]\n",
    "            policy_gradient_loss = -tf.reduce_mean(tf.math.log(tf.nn.softmax(curr_token_logits)) * advantage)\n",
    "            gen_step_loss.append(policy_gradient_loss)\n",
    "            \n",
    "            critic_mse_loss = tf.reduce_mean(tf.keras.losses.MSE(true_return, q_value))\n",
    "            critic_step_loss.append(critic_mse_loss)\n",
    "            \n",
    "        generator_loss = tf.reduce_mean(gen_step_loss)\n",
    "        critic_loss = tf.reduce_mean(critic_step_loss)\n",
    "        \n",
    "    if verbose:\n",
    "        print('generator loss:{}'.format(generator_loss))\n",
    "        print('critic loss:{}'.format(critic_loss))\n",
    "        print('-----------------------')\n",
    "\n",
    "    # update generator\n",
    "    generator_grads = tape.gradient(generator_loss, generator.trainable_variables)\n",
    "    optimizer.apply_gradients(zip(generator_grads, generator.trainable_variables))\n",
    "    \n",
    "    # update critic\n",
    "    critic_grads = tape.gradient(critic_loss, critic.trainable_variables)\n",
    "    optimizer.apply_gradients(zip(critic_grads, critic.trainable_variables))\n",
    "\n",
    "    # explicitly drop tape because persistent=True\n",
    "    del tape\n",
    "\n",
    "    return generator_loss, critic_loss\n",
    "\n",
    "\n",
    "def train_discriminator_mcc(real_data_batch_et, real_data_batch_ts, generator, discriminator, batch_size, T, verbose=False,\n",
    "                        optimizer=Adam(lr=0.001), label_smoothing=False, label_flipping=False):\n",
    "\n",
    "    # data prep\n",
    "    real_labels = tf.ones((batch_size//2, 1))\n",
    "    fake_labels = tf.zeros((batch_size//2, 1))\n",
    "    \n",
    "    real_data_batch_et, real_data_batch_ts = real_data_batch_et[:batch_size//2, :, :], real_data_batch_ts[:batch_size//2, :, :]    \n",
    "    fake_data_batch_et, fake_data_batch_ts = generate_sequences(batch_size//2, generator, batch_size, T)\n",
    "    \n",
    "    if label_smoothing:\n",
    "        fake_labels = fake_labels + tf.random.normal(fake_labels.shape, mean=0, stddev=0.3)\n",
    "        fake_labels = tf.clip_by_value(fake_labels, clip_value_min=0., clip_value_max=0.3)\n",
    "\n",
    "        real_labels = real_labels + tf.random.normal(real_labels.shape, mean=0, stddev=0.3)\n",
    "        real_labels = tf.clip_by_value(real_labels, clip_value_min=0.7, clip_value_max=1.0)\n",
    "\n",
    "    if label_flipping:\n",
    "        if tf.random.uniform((1,)) < 0.05:\n",
    "            fake_labels, real_labels = real_labels, fake_labels\n",
    "    \n",
    "    total_data_et = tf.concat([fake_data_batch_et, real_data_batch_et], axis=0)\n",
    "    total_data_ts = tf.concat([fake_data_batch_ts, real_data_batch_ts], axis=0)\n",
    "    total_labels = tf.concat([fake_labels, real_labels], axis=0)        \n",
    "        \n",
    "    # train the discriminator\n",
    "    with tf.GradientTape() as tape:                                                           \n",
    "        # train discriminator\n",
    "        pred_prob = discriminator([total_data_et, total_data_ts])\n",
    "\n",
    "        # cross-entropy loss\n",
    "        discriminator_loss = tf.reduce_mean(\n",
    "            tf.keras.losses.binary_crossentropy(total_labels, pred_prob, from_logits=False))\n",
    "\n",
    "        # average true return\n",
    "        average_true_return = tf.reduce_mean(pred_prob)\n",
    "        \n",
    "        if verbose:\n",
    "            print('total discriminator loss:{}'.format(discriminator_loss))\n",
    "            print('average true return:{}'.format(average_true_return))\n",
    "            print('-----------------------')\n",
    "\n",
    "    grads = tape.gradient(discriminator_loss, discriminator.trainable_variables)\n",
    "    optimizer.apply_gradients(zip(grads, discriminator.trainable_variables))\n",
    "\n",
    "    return discriminator_loss, average_true_return"
   ]
  },
  {
   "cell_type": "code",
   "execution_count": 94,
   "id": "alternate-format",
   "metadata": {},
   "outputs": [],
   "source": [
    "def track_training(step, G, save_path=None, verbose=True, plot=True):\n",
    "    _gen_seqs_et, _gen_seqs_ts, _ = generate_sequences_mcc(N_DATA, G, BATCH_SIZE, T)\n",
    "    \n",
    "    # convert one-hot event types to indices; convert normalized timestamps to original\n",
    "    _gen_seqs_et_ind = tf.argmax(_gen_seqs_et, axis=2).numpy().reshape(N_DATA, T, 1)\n",
    "    _gen_seqs_ts_ori = apply_mean_std(_gen_seqs_ts, GLOBAL_MEAN, GLOBAL_STD)\n",
    "    _gen_seqs_for_rules = np.dstack((_gen_seqs_et_ind, _gen_seqs_ts_ori))\n",
    "    \n",
    "    _mad_score = calculate_MAD_score(_gen_seqs_et_ind)\n",
    "    _fid_score = calculate_FID_score(_gen_seqs_ts_ori)\n",
    "    _rule_score = calculate_rule_score(_gen_seqs_for_rules)\n",
    "\n",
    "    if verbose:\n",
    "        print('event_types:', _gen_seqs_et_ind[0,:, :].squeeze().tolist())\n",
    "        print('mad_score:', _mad_score)\n",
    "        print('fid_score:', _fid_score)\n",
    "        print('rule_score:', _rule_score)\n",
    "\n",
    "    if plot:\n",
    "        plt.figure()\n",
    "        x = np.arange(_gen_seqs_et[0,:,:].shape[0])\n",
    "        y = _gen_seqs_ts[0,:,:]\n",
    "        plt.plot(x, y)\n",
    "        plt.title(f'wave shape after {step} steps')\n",
    "        plt.show()\n",
    "\n",
    "    if save_path:     \n",
    "        G_save_path = os.path.join(save_path, f'G_{step}', 'model_weights.tf')\n",
    "        G.save_weights(G_save_path)\n",
    "        print('G saved to:', G_save_path)\n",
    "\n",
    "        D_save_path = os.path.join(save_path, f'D_{step}', 'model_weights.tf')\n",
    "        D.save_weights(D_save_path)\n",
    "        print('D saved to:', D_save_path)\n",
    "        \n",
    "    return _mad_score, _fid_score, _rule_score"
   ]
  },
  {
   "cell_type": "code",
   "execution_count": 98,
   "id": "immediate-perry",
   "metadata": {
    "scrolled": true
   },
   "outputs": [
    {
     "name": "stdout",
     "output_type": "stream",
     "text": [
      "Model: \"model_28\"\n",
      "__________________________________________________________________________________________________\n",
      "Layer (type)                    Output Shape         Param #     Connected to                     \n",
      "==================================================================================================\n",
      "event_type (InputLayer)         [(256, None, 4)]     0                                            \n",
      "__________________________________________________________________________________________________\n",
      "dense_emb (Dense)               (256, None, 16)      80          event_type[0][0]                 \n",
      "__________________________________________________________________________________________________\n",
      "time_delta_in (InputLayer)      [(256, None, 1)]     0                                            \n",
      "__________________________________________________________________________________________________\n",
      "tf_op_layer_concat_28 (TensorFl [(256, None, 17)]    0           dense_emb[0][0]                  \n",
      "                                                                 time_delta_in[0][0]              \n",
      "__________________________________________________________________________________________________\n",
      "lstm_token (LSTM)               (256, 128)           74752       tf_op_layer_concat_28[0][0]      \n",
      "__________________________________________________________________________________________________\n",
      "lstm_time (LSTM)                (256, 128)           74752       tf_op_layer_concat_28[0][0]      \n",
      "__________________________________________________________________________________________________\n",
      "concatenate_28 (Concatenate)    (256, 256)           0           lstm_token[0][0]                 \n",
      "                                                                 lstm_time[0][0]                  \n",
      "__________________________________________________________________________________________________\n",
      "dense_combination (Dense)       (256, 128)           32896       concatenate_28[0][0]             \n",
      "__________________________________________________________________________________________________\n",
      "dense_token (Dense)             (256, 4)             516         dense_combination[0][0]          \n",
      "__________________________________________________________________________________________________\n",
      "dense_time (Dense)              (256, 1)             129         dense_combination[0][0]          \n",
      "==================================================================================================\n",
      "Total params: 183,125\n",
      "Trainable params: 183,125\n",
      "Non-trainable params: 0\n",
      "__________________________________________________________________________________________________\n",
      "Model: \"model_29\"\n",
      "__________________________________________________________________________________________________\n",
      "Layer (type)                    Output Shape         Param #     Connected to                     \n",
      "==================================================================================================\n",
      "event_type (InputLayer)         [(256, None, 4)]     0                                            \n",
      "__________________________________________________________________________________________________\n",
      "dense_emb (Dense)               (256, None, 16)      80          event_type[0][0]                 \n",
      "__________________________________________________________________________________________________\n",
      "time_delta_in (InputLayer)      [(256, None, 1)]     0                                            \n",
      "__________________________________________________________________________________________________\n",
      "tf_op_layer_concat_29 (TensorFl [(256, None, 17)]    0           dense_emb[0][0]                  \n",
      "                                                                 time_delta_in[0][0]              \n",
      "__________________________________________________________________________________________________\n",
      "lstm_token (LSTM)               (256, 128)           74752       tf_op_layer_concat_29[0][0]      \n",
      "__________________________________________________________________________________________________\n",
      "lstm_time (LSTM)                (256, 128)           74752       tf_op_layer_concat_29[0][0]      \n",
      "__________________________________________________________________________________________________\n",
      "concatenate_29 (Concatenate)    (256, 256)           0           lstm_token[0][0]                 \n",
      "                                                                 lstm_time[0][0]                  \n",
      "__________________________________________________________________________________________________\n",
      "dropout_16 (Dropout)            (256, 256)           0           concatenate_29[0][0]             \n",
      "__________________________________________________________________________________________________\n",
      "final (Dense)                   (256, 1)             257         dropout_16[0][0]                 \n",
      "==================================================================================================\n",
      "Total params: 149,841\n",
      "Trainable params: 149,841\n",
      "Non-trainable params: 0\n",
      "__________________________________________________________________________________________________\n",
      "Model: \"model_30\"\n",
      "__________________________________________________________________________________________________\n",
      "Layer (type)                    Output Shape         Param #     Connected to                     \n",
      "==================================================================================================\n",
      "event_type (InputLayer)         [(256, None, 4)]     0                                            \n",
      "__________________________________________________________________________________________________\n",
      "dense_emb (Dense)               (256, None, 16)      80          event_type[0][0]                 \n",
      "__________________________________________________________________________________________________\n",
      "time_delta_in (InputLayer)      [(256, None, 1)]     0                                            \n",
      "__________________________________________________________________________________________________\n",
      "tf_op_layer_concat_30 (TensorFl [(256, None, 17)]    0           dense_emb[0][0]                  \n",
      "                                                                 time_delta_in[0][0]              \n",
      "__________________________________________________________________________________________________\n",
      "lstm_token (LSTM)               (256, 128)           74752       tf_op_layer_concat_30[0][0]      \n",
      "__________________________________________________________________________________________________\n",
      "lstm_time (LSTM)                (256, 128)           74752       tf_op_layer_concat_30[0][0]      \n",
      "__________________________________________________________________________________________________\n",
      "concatenate_30 (Concatenate)    (256, 256)           0           lstm_token[0][0]                 \n",
      "                                                                 lstm_time[0][0]                  \n",
      "__________________________________________________________________________________________________\n",
      "dropout_17 (Dropout)            (256, 256)           0           concatenate_30[0][0]             \n",
      "__________________________________________________________________________________________________\n",
      "critic_final (Dense)            (256, 1)             257         dropout_17[0][0]                 \n",
      "==================================================================================================\n",
      "Total params: 149,841\n",
      "Trainable params: 149,841\n",
      "Non-trainable params: 0\n",
      "__________________________________________________________________________________________________\n"
     ]
    }
   ],
   "source": [
    "G_save_path = model_save_dir + '/pretrained_gen_weights/model.tf'\n",
    "D_save_path = model_save_dir + '/pretrained_disc_weights/model.tf'\n",
    "\n",
    "G = build_G(\n",
    "    batch_size = BATCH_SIZE,\n",
    "    event_vocab_dim = EVENT_VOCAB_DIM,\n",
    "    emb_dim = EMB_DIM,\n",
    "    hidden_dim= HIDDEN_DIM,\n",
    ")\n",
    "\n",
    "G.build(input_shape=((BATCH_SIZE, T, 1)))\n",
    "G.load_weights(G_save_path)\n",
    "G.summary()\n",
    "\n",
    "D = build_D(\n",
    "    batch_size=BATCH_SIZE,\n",
    "    T=T,\n",
    "    event_vocab_dim=EVENT_VOCAB_DIM,\n",
    "    emb_dim=EMB_DIM,\n",
    "    hidden_dim=HIDDEN_DIM,    \n",
    "    dropout_rate=0.25)\n",
    "\n",
    "D.build(input_shape=((BATCH_SIZE, T, 1)))\n",
    "D.load_weights(D_save_path)\n",
    "D.summary()\n",
    "\n",
    "critic = build_critic(\n",
    "    batch_size=BATCH_SIZE,\n",
    "    T=T,\n",
    "    event_vocab_dim=EVENT_VOCAB_DIM,\n",
    "    emb_dim=EMB_DIM,\n",
    "    hidden_dim=HIDDEN_DIM,    \n",
    "    dropout_rate=0.25)\n",
    "\n",
    "critic.build(input_shape=((BATCH_SIZE, T, 1)))\n",
    "critic.summary()"
   ]
  },
  {
   "cell_type": "code",
   "execution_count": 99,
   "id": "twelve-transcript",
   "metadata": {},
   "outputs": [
    {
     "name": "stdout",
     "output_type": "stream",
     "text": [
      "/home/lun/project-basileus/multitype-sequence-generation-by-tlstm-gan/models/combined-mcc-v11/2021-03-30-10-26-40\n",
      "1562\n"
     ]
    }
   ],
   "source": [
    "N_total_G = pos_event_type_seqs.shape[0]\n",
    "\n",
    "EPOCHS = 100\n",
    "_TOTAL_STEPS = int(EPOCHS * N_total_G / BATCH_SIZE)\n",
    "\n",
    "\n",
    "train_dataset = create_dataset((pos_event_type_seqs, pos_timestamp_seqs),\n",
    "                             np.ones((N_total_G, 1)),\n",
    "                             batch_size=BATCH_SIZE,\n",
    "                             epochs=EPOCHS,\n",
    "                             buffer_size=N_total_G)\n",
    "\n",
    "gen_loss_history = []\n",
    "disc_loss_history = []\n",
    "critic_loss_history = []\n",
    "average_true_return_history = []\n",
    "mad_history = []\n",
    "fid_history = []\n",
    "rule_history = []\n",
    "\n",
    "step = 0\n",
    "\n",
    "G_optimizer = Adam(learning_rate=1e-3)\n",
    "D_optimizer = Adam(learning_rate=1e-3)\n",
    "\n",
    "_G_STEPS = 1\n",
    "_D_STEPS = 1\n",
    "\n",
    "now_str = datetime.strftime(datetime.now(), format='%Y-%m-%d-%H-%M-%S')\n",
    "model_save_path = os.path.join(model_save_dir, now_str)\n",
    "print(model_save_path)\n",
    "print(_TOTAL_STEPS)"
   ]
  },
  {
   "cell_type": "code",
   "execution_count": 100,
   "id": "tribal-parking",
   "metadata": {
    "scrolled": true
   },
   "outputs": [
    {
     "name": "stderr",
     "output_type": "stream",
     "text": [
      "\r",
      "0it [00:00, ?it/s]"
     ]
    },
    {
     "name": "stdout",
     "output_type": "stream",
     "text": [
      "Training Step: 0\n",
      "WARNING:tensorflow:AutoGraph could not transform <bound method TensorFlowOpLayer._defun_call of <tensorflow.python.eager.function.TfMethodTarget object at 0x7f3f0442c810>> and will run it as-is.\n",
      "Please report this to the TensorFlow team. When filing the bug, set the verbosity to 10 (on Linux, `export AUTOGRAPH_VERBOSITY=10`) and attach the full output.\n",
      "Cause: Bad argument number for Name: 3, expecting 4\n",
      "WARNING: AutoGraph could not transform <bound method TensorFlowOpLayer._defun_call of <tensorflow.python.eager.function.TfMethodTarget object at 0x7f3f0442c810>> and will run it as-is.\n",
      "Please report this to the TensorFlow team. When filing the bug, set the verbosity to 10 (on Linux, `export AUTOGRAPH_VERBOSITY=10`) and attach the full output.\n",
      "Cause: Bad argument number for Name: 3, expecting 4\n",
      "event_types: [1, 0, 2, 0, 3, 2, 3, 3, 0, 2, 2, 1, 2, 0, 1, 2, 3, 0, 2, 2]\n",
      "mad_score: 0.4315125\n",
      "fid_score: 9481.020606434931\n",
      "rule_score: 0.475\n"
     ]
    },
    {
     "data": {
      "image/png": "[encoded data removed]",
      "text/plain": [
       "<Figure size 432x288 with 1 Axes>"
      ]
     },
     "metadata": {
      "needs_background": "light"
     },
     "output_type": "display_data"
    },
    {
     "name": "stdout",
     "output_type": "stream",
     "text": [
      "G saved to: /home/lun/project-basileus/multitype-sequence-generation-by-tlstm-gan/models/combined-mcc-v11/2021-03-30-10-26-40/G_0/model_weights.tf\n",
      "D saved to: /home/lun/project-basileus/multitype-sequence-generation-by-tlstm-gan/models/combined-mcc-v11/2021-03-30-10-26-40/D_0/model_weights.tf\n",
      "WARNING:tensorflow:AutoGraph could not transform <bound method TensorFlowOpLayer._defun_call of <tensorflow.python.eager.function.TfMethodTarget object at 0x7f3ef77e6b90>> and will run it as-is.\n",
      "Please report this to the TensorFlow team. When filing the bug, set the verbosity to 10 (on Linux, `export AUTOGRAPH_VERBOSITY=10`) and attach the full output.\n",
      "Cause: Bad argument number for Name: 3, expecting 4\n",
      "WARNING: AutoGraph could not transform <bound method TensorFlowOpLayer._defun_call of <tensorflow.python.eager.function.TfMethodTarget object at 0x7f3ef77e6b90>> and will run it as-is.\n",
      "Please report this to the TensorFlow team. When filing the bug, set the verbosity to 10 (on Linux, `export AUTOGRAPH_VERBOSITY=10`) and attach the full output.\n",
      "Cause: Bad argument number for Name: 3, expecting 4\n",
      "WARNING:tensorflow:AutoGraph could not transform <bound method TensorFlowOpLayer._defun_call of <tensorflow.python.eager.function.TfMethodTarget object at 0x7f3ef77ad410>> and will run it as-is.\n",
      "Please report this to the TensorFlow team. When filing the bug, set the verbosity to 10 (on Linux, `export AUTOGRAPH_VERBOSITY=10`) and attach the full output.\n",
      "Cause: Bad argument number for Name: 3, expecting 4\n",
      "WARNING: AutoGraph could not transform <bound method TensorFlowOpLayer._defun_call of <tensorflow.python.eager.function.TfMethodTarget object at 0x7f3ef77ad410>> and will run it as-is.\n",
      "Please report this to the TensorFlow team. When filing the bug, set the verbosity to 10 (on Linux, `export AUTOGRAPH_VERBOSITY=10`) and attach the full output.\n",
      "Cause: Bad argument number for Name: 3, expecting 4\n",
      "generator loss:-0.7050638772959272\n",
      "critic loss:0.2596851983457747\n",
      "-----------------------\n"
     ]
    },
    {
     "name": "stderr",
     "output_type": "stream",
     "text": [
      "\r",
      "1it [00:12, 12.31s/it]"
     ]
    },
    {
     "name": "stdout",
     "output_type": "stream",
     "text": [
      "total discriminator loss:0.46529876630464984\n",
      "average true return:0.5452324771155109\n",
      "-----------------------\n",
      "Training Step: 1\n",
      "generator loss:-0.7595786349489344\n",
      "critic loss:0.25084452388530815\n",
      "-----------------------\n",
      "total discriminator loss:1.2176856955314939\n",
      "average true return:0.19484974091241658\n",
      "-----------------------\n"
     ]
    },
    {
     "name": "stderr",
     "output_type": "stream",
     "text": [
      "\r",
      "2it [00:15,  7.00s/it]"
     ]
    },
    {
     "name": "stdout",
     "output_type": "stream",
     "text": [
      "Training Step: 2\n",
      "generator loss:-0.6805482427681384\n",
      "critic loss:0.18943528174434512\n",
      "-----------------------\n"
     ]
    },
    {
     "name": "stderr",
     "output_type": "stream",
     "text": [
      "\r",
      "3it [00:19,  5.37s/it]"
     ]
    },
    {
     "name": "stdout",
     "output_type": "stream",
     "text": [
      "total discriminator loss:0.5369816858662858\n",
      "average true return:0.436901378897223\n",
      "-----------------------\n",
      "Training Step: 3\n",
      "generator loss:-0.31344079850409434\n",
      "critic loss:0.08125033005520357\n",
      "-----------------------\n"
     ]
    },
    {
     "name": "stderr",
     "output_type": "stream",
     "text": [
      "\r",
      "4it [00:22,  4.52s/it]"
     ]
    },
    {
     "name": "stdout",
     "output_type": "stream",
     "text": [
      "total discriminator loss:0.44023194513963393\n",
      "average true return:0.5747128174907181\n",
      "-----------------------\n",
      "Training Step: 4\n",
      "generator loss:0.3560983244369912\n",
      "critic loss:0.12634120854963865\n",
      "-----------------------\n"
     ]
    },
    {
     "name": "stderr",
     "output_type": "stream",
     "text": [
      "\r",
      "5it [00:25,  4.04s/it]"
     ]
    },
    {
     "name": "stdout",
     "output_type": "stream",
     "text": [
      "total discriminator loss:0.6872947877240523\n",
      "average true return:0.7298441618991163\n",
      "-----------------------\n",
      "Training Step: 5\n",
      "event_types: [2, 2, 0, 2, 2, 3, 3, 2, 2, 1, 2, 0, 2, 2, 2, 1, 2, 2, 2, 2]\n",
      "mad_score: 0.31865\n",
      "fid_score: 24538.892743339988\n",
      "rule_score: 0.00075\n"
     ]
    },
    {
     "data": {
      "image/png": "[encoded data removed]",
      "text/plain": [
       "<Figure size 432x288 with 1 Axes>"
      ]
     },
     "metadata": {
      "needs_background": "light"
     },
     "output_type": "display_data"
    },
    {
     "name": "stdout",
     "output_type": "stream",
     "text": [
      "G saved to: /home/lun/project-basileus/multitype-sequence-generation-by-tlstm-gan/models/combined-mcc-v11/2021-03-30-10-26-40/G_5/model_weights.tf\n",
      "D saved to: /home/lun/project-basileus/multitype-sequence-generation-by-tlstm-gan/models/combined-mcc-v11/2021-03-30-10-26-40/D_5/model_weights.tf\n",
      "generator loss:0.019119570395921964\n",
      "critic loss:0.04779427112481026\n",
      "-----------------------\n"
     ]
    },
    {
     "name": "stderr",
     "output_type": "stream",
     "text": [
      "\r",
      "6it [00:37,  6.77s/it]"
     ]
    },
    {
     "name": "stdout",
     "output_type": "stream",
     "text": [
      "total discriminator loss:2.9832029444390273\n",
      "average true return:0.6121956548198104\n",
      "-----------------------\n",
      "Training Step: 6\n",
      "generator loss:0.23627847999229606\n",
      "critic loss:0.057143449310299486\n",
      "-----------------------\n"
     ]
    },
    {
     "name": "stderr",
     "output_type": "stream",
     "text": [
      "\r",
      "7it [00:40,  5.61s/it]"
     ]
    },
    {
     "name": "stdout",
     "output_type": "stream",
     "text": [
      "total discriminator loss:0.4969317291273889\n",
      "average true return:0.6841017524595656\n",
      "-----------------------\n",
      "Training Step: 7\n",
      "generator loss:0.25155592492413353\n",
      "critic loss:0.0458741676611691\n",
      "-----------------------\n"
     ]
    },
    {
     "name": "stderr",
     "output_type": "stream",
     "text": [
      "\r",
      "8it [00:43,  4.84s/it]"
     ]
    },
    {
     "name": "stdout",
     "output_type": "stream",
     "text": [
      "total discriminator loss:0.48121098778421845\n",
      "average true return:0.6703732441337573\n",
      "-----------------------\n",
      "Training Step: 8\n",
      "generator loss:0.07767002259613934\n",
      "critic loss:0.022594713407002115\n",
      "-----------------------\n"
     ]
    },
    {
     "name": "stderr",
     "output_type": "stream",
     "text": [
      "\r",
      "9it [00:47,  4.33s/it]"
     ]
    },
    {
     "name": "stdout",
     "output_type": "stream",
     "text": [
      "total discriminator loss:0.3842220367743528\n",
      "average true return:0.6181045590440412\n",
      "-----------------------\n",
      "Training Step: 9\n",
      "generator loss:-0.1192232418117349\n",
      "critic loss:0.01210638094340945\n",
      "-----------------------\n"
     ]
    },
    {
     "name": "stderr",
     "output_type": "stream",
     "text": [
      "\r",
      "10it [00:50,  3.98s/it]"
     ]
    },
    {
     "name": "stdout",
     "output_type": "stream",
     "text": [
      "total discriminator loss:0.3665435962749114\n",
      "average true return:0.5828290675299651\n",
      "-----------------------\n",
      "Training Step: 10\n",
      "event_types: [1, 0, 2, 2, 1, 2, 0, 2, 2, 2, 2, 2, 1, 0, 2, 2, 2, 2, 2, 1]\n",
      "mad_score: 0.29065\n",
      "fid_score: 110534.2256213154\n",
      "rule_score: 0.0\n"
     ]
    },
    {
     "data": {
      "image/png": "[encoded data removed]",
      "text/plain": [
       "<Figure size 432x288 with 1 Axes>"
      ]
     },
     "metadata": {
      "needs_background": "light"
     },
     "output_type": "display_data"
    },
    {
     "name": "stdout",
     "output_type": "stream",
     "text": [
      "G saved to: /home/lun/project-basileus/multitype-sequence-generation-by-tlstm-gan/models/combined-mcc-v11/2021-03-30-10-26-40/G_10/model_weights.tf\n",
      "D saved to: /home/lun/project-basileus/multitype-sequence-generation-by-tlstm-gan/models/combined-mcc-v11/2021-03-30-10-26-40/D_10/model_weights.tf\n",
      "generator loss:-0.2401976548086549\n",
      "critic loss:0.01899397171980165\n",
      "-----------------------\n"
     ]
    },
    {
     "name": "stderr",
     "output_type": "stream",
     "text": [
      "\r",
      "11it [01:02,  6.50s/it]"
     ]
    },
    {
     "name": "stdout",
     "output_type": "stream",
     "text": [
      "total discriminator loss:0.3186980765590589\n",
      "average true return:0.5553024936012096\n",
      "-----------------------\n",
      "Training Step: 11\n",
      "generator loss:-0.2874356245538361\n",
      "critic loss:0.022228341272948444\n",
      "-----------------------\n"
     ]
    },
    {
     "name": "stderr",
     "output_type": "stream",
     "text": [
      "\r",
      "12it [01:05,  5.53s/it]"
     ]
    },
    {
     "name": "stdout",
     "output_type": "stream",
     "text": [
      "total discriminator loss:0.37810274610453143\n",
      "average true return:0.5407579499273759\n",
      "-----------------------\n",
      "Training Step: 12\n",
      "generator loss:-0.3025260495751162\n",
      "critic loss:0.02056509705198052\n",
      "-----------------------\n"
     ]
    },
    {
     "name": "stderr",
     "output_type": "stream",
     "text": [
      "\r",
      "13it [01:09,  4.85s/it]"
     ]
    },
    {
     "name": "stdout",
     "output_type": "stream",
     "text": [
      "total discriminator loss:0.35109272363609023\n",
      "average true return:0.5303742744125031\n",
      "-----------------------\n",
      "Training Step: 13\n",
      "generator loss:-0.3002509704936927\n",
      "critic loss:0.016251474824636992\n",
      "-----------------------\n"
     ]
    },
    {
     "name": "stderr",
     "output_type": "stream",
     "text": [
      "\r",
      "14it [01:12,  4.38s/it]"
     ]
    },
    {
     "name": "stdout",
     "output_type": "stream",
     "text": [
      "total discriminator loss:0.3259428939715375\n",
      "average true return:0.5193252725163137\n",
      "-----------------------\n",
      "Training Step: 14\n",
      "generator loss:-0.27584907292150335\n",
      "critic loss:0.011614871860026323\n",
      "-----------------------\n"
     ]
    },
    {
     "name": "stderr",
     "output_type": "stream",
     "text": [
      "\r",
      "15it [01:15,  4.06s/it]"
     ]
    },
    {
     "name": "stdout",
     "output_type": "stream",
     "text": [
      "total discriminator loss:2.407368059733326\n",
      "average true return:0.5080488658937155\n",
      "-----------------------\n",
      "Training Step: 15\n",
      "event_types: [1, 2, 2, 2, 2, 2, 2, 2, 2, 2, 2, 2, 2, 2, 2, 2, 2, 2, 2, 2]\n",
      "mad_score: 0.1260875\n",
      "fid_score: 253726.73643481382\n",
      "rule_score: 0.0\n"
     ]
    },
    {
     "data": {
      "image/png": "[encoded data removed]",
      "text/plain": [
       "<Figure size 432x288 with 1 Axes>"
      ]
     },
     "metadata": {
      "needs_background": "light"
     },
     "output_type": "display_data"
    },
    {
     "name": "stdout",
     "output_type": "stream",
     "text": [
      "G saved to: /home/lun/project-basileus/multitype-sequence-generation-by-tlstm-gan/models/combined-mcc-v11/2021-03-30-10-26-40/G_15/model_weights.tf\n",
      "D saved to: /home/lun/project-basileus/multitype-sequence-generation-by-tlstm-gan/models/combined-mcc-v11/2021-03-30-10-26-40/D_15/model_weights.tf\n",
      "generator loss:-0.1439720978526736\n",
      "critic loss:0.006268545816825698\n",
      "-----------------------\n"
     ]
    },
    {
     "name": "stderr",
     "output_type": "stream",
     "text": [
      "\r",
      "16it [01:28,  6.73s/it]"
     ]
    },
    {
     "name": "stdout",
     "output_type": "stream",
     "text": [
      "total discriminator loss:0.31518667382388615\n",
      "average true return:0.5107182621961435\n",
      "-----------------------\n",
      "Training Step: 16\n",
      "generator loss:0.025348682151695993\n",
      "critic loss:0.0052831781406195094\n",
      "-----------------------\n"
     ]
    },
    {
     "name": "stderr",
     "output_type": "stream",
     "text": [
      "\r",
      "17it [01:32,  5.74s/it]"
     ]
    },
    {
     "name": "stdout",
     "output_type": "stream",
     "text": [
      "total discriminator loss:0.33145616183255633\n",
      "average true return:0.49647042112595985\n",
      "-----------------------\n",
      "Training Step: 17\n",
      "generator loss:0.15388161081088403\n",
      "critic loss:0.006339670177959458\n",
      "-----------------------\n"
     ]
    },
    {
     "name": "stderr",
     "output_type": "stream",
     "text": [
      "\r",
      "18it [01:35,  5.05s/it]"
     ]
    },
    {
     "name": "stdout",
     "output_type": "stream",
     "text": [
      "total discriminator loss:0.32099511926532237\n",
      "average true return:0.48870079765200336\n",
      "-----------------------\n",
      "Training Step: 18\n",
      "generator loss:0.207522021370192\n",
      "critic loss:0.007242644054563356\n",
      "-----------------------\n"
     ]
    },
    {
     "name": "stderr",
     "output_type": "stream",
     "text": [
      "\r",
      "19it [01:39,  4.64s/it]"
     ]
    },
    {
     "name": "stdout",
     "output_type": "stream",
     "text": [
      "total discriminator loss:0.33418972338444464\n",
      "average true return:0.48208430253248247\n",
      "-----------------------\n",
      "Training Step: 19\n",
      "generator loss:0.20690103390613773\n",
      "critic loss:0.007667602790203519\n",
      "-----------------------\n"
     ]
    },
    {
     "name": "stderr",
     "output_type": "stream",
     "text": [
      "\r",
      "20it [01:42,  4.29s/it]"
     ]
    },
    {
     "name": "stdout",
     "output_type": "stream",
     "text": [
      "total discriminator loss:0.3206630864468787\n",
      "average true return:0.47724864276731077\n",
      "-----------------------\n",
      "Training Step: 20\n",
      "event_types: [2, 2, 3, 2, 2, 2, 2, 2, 2, 2, 2, 2, 2, 2, 2, 2, 2, 2, 2, 2]\n",
      "mad_score: 0.0974375\n",
      "fid_score: 127815.4111585349\n",
      "rule_score: 0.0\n"
     ]
    },
    {
     "data": {
      "image/png": "[encoded data removed]",
      "text/plain": [
       "<Figure size 432x288 with 1 Axes>"
      ]
     },
     "metadata": {
      "needs_background": "light"
     },
     "output_type": "display_data"
    },
    {
     "name": "stdout",
     "output_type": "stream",
     "text": [
      "G saved to: /home/lun/project-basileus/multitype-sequence-generation-by-tlstm-gan/models/combined-mcc-v11/2021-03-30-10-26-40/G_20/model_weights.tf\n",
      "D saved to: /home/lun/project-basileus/multitype-sequence-generation-by-tlstm-gan/models/combined-mcc-v11/2021-03-30-10-26-40/D_20/model_weights.tf\n",
      "generator loss:0.16928992012499852\n",
      "critic loss:0.007729484941959003\n",
      "-----------------------\n"
     ]
    },
    {
     "name": "stderr",
     "output_type": "stream",
     "text": [
      "\r",
      "21it [01:55,  6.86s/it]"
     ]
    },
    {
     "name": "stdout",
     "output_type": "stream",
     "text": [
      "total discriminator loss:0.32226539541710253\n",
      "average true return:0.47385667726912284\n",
      "-----------------------\n",
      "Training Step: 21\n",
      "generator loss:0.13302902663890037\n",
      "critic loss:0.007943159562627262\n",
      "-----------------------\n"
     ]
    },
    {
     "name": "stderr",
     "output_type": "stream",
     "text": [
      "21it [01:57,  5.58s/it]\n"
     ]
    },
    {
     "ename": "KeyboardInterrupt",
     "evalue": "",
     "output_type": "error",
     "traceback": [
      "\u001b[0;31m---------------------------------------------------------------------------\u001b[0m",
      "\u001b[0;31mKeyboardInterrupt\u001b[0m                         Traceback (most recent call last)",
      "\u001b[0;32m<ipython-input-100-15c701f4a518>\u001b[0m in \u001b[0;36m<module>\u001b[0;34m()\u001b[0m\n\u001b[1;32m     11\u001b[0m     \u001b[0;31m# train the generator\u001b[0m\u001b[0;34m\u001b[0m\u001b[0;34m\u001b[0m\u001b[0;34m\u001b[0m\u001b[0m\n\u001b[1;32m     12\u001b[0m     \u001b[0;32mfor\u001b[0m \u001b[0m_\u001b[0m \u001b[0;32min\u001b[0m \u001b[0mrange\u001b[0m\u001b[0;34m(\u001b[0m\u001b[0m_G_STEPS\u001b[0m\u001b[0;34m)\u001b[0m\u001b[0;34m:\u001b[0m\u001b[0;34m\u001b[0m\u001b[0;34m\u001b[0m\u001b[0m\n\u001b[0;32m---> 13\u001b[0;31m         \u001b[0mgen_loss\u001b[0m\u001b[0;34m,\u001b[0m \u001b[0mcritic_loss\u001b[0m \u001b[0;34m=\u001b[0m \u001b[0mtrain_generator_mcc\u001b[0m\u001b[0;34m(\u001b[0m\u001b[0mG\u001b[0m\u001b[0;34m,\u001b[0m \u001b[0mD\u001b[0m\u001b[0;34m,\u001b[0m \u001b[0mcritic\u001b[0m\u001b[0;34m,\u001b[0m \u001b[0mBATCH_SIZE\u001b[0m\u001b[0;34m,\u001b[0m \u001b[0mT\u001b[0m\u001b[0;34m,\u001b[0m \u001b[0mverbose\u001b[0m\u001b[0;34m=\u001b[0m\u001b[0;32mTrue\u001b[0m\u001b[0;34m,\u001b[0m \u001b[0moptimizer\u001b[0m\u001b[0;34m=\u001b[0m\u001b[0mG_optimizer\u001b[0m\u001b[0;34m)\u001b[0m\u001b[0;34m\u001b[0m\u001b[0;34m\u001b[0m\u001b[0m\n\u001b[0m\u001b[1;32m     14\u001b[0m         \u001b[0mgen_loss_history\u001b[0m\u001b[0;34m.\u001b[0m\u001b[0mappend\u001b[0m\u001b[0;34m(\u001b[0m\u001b[0mgen_loss\u001b[0m\u001b[0;34m.\u001b[0m\u001b[0mnumpy\u001b[0m\u001b[0;34m(\u001b[0m\u001b[0;34m)\u001b[0m\u001b[0;34m)\u001b[0m\u001b[0;34m\u001b[0m\u001b[0;34m\u001b[0m\u001b[0m\n\u001b[1;32m     15\u001b[0m         \u001b[0mcritic_loss_history\u001b[0m\u001b[0;34m.\u001b[0m\u001b[0mappend\u001b[0m\u001b[0;34m(\u001b[0m\u001b[0mcritic_loss\u001b[0m\u001b[0;34m.\u001b[0m\u001b[0mnumpy\u001b[0m\u001b[0;34m(\u001b[0m\u001b[0;34m)\u001b[0m\u001b[0;34m)\u001b[0m\u001b[0;34m\u001b[0m\u001b[0;34m\u001b[0m\u001b[0m\n",
      "\u001b[0;32m<ipython-input-93-719fbef2d716>\u001b[0m in \u001b[0;36mtrain_generator_mcc\u001b[0;34m(generator, discriminator, critic, batch_size, T, verbose, optimizer)\u001b[0m\n\u001b[1;32m     39\u001b[0m \u001b[0;34m\u001b[0m\u001b[0m\n\u001b[1;32m     40\u001b[0m     \u001b[0;31m# update generator\u001b[0m\u001b[0;34m\u001b[0m\u001b[0;34m\u001b[0m\u001b[0;34m\u001b[0m\u001b[0m\n\u001b[0;32m---> 41\u001b[0;31m     \u001b[0mgenerator_grads\u001b[0m \u001b[0;34m=\u001b[0m \u001b[0mtape\u001b[0m\u001b[0;34m.\u001b[0m\u001b[0mgradient\u001b[0m\u001b[0;34m(\u001b[0m\u001b[0mgenerator_loss\u001b[0m\u001b[0;34m,\u001b[0m \u001b[0mgenerator\u001b[0m\u001b[0;34m.\u001b[0m\u001b[0mtrainable_variables\u001b[0m\u001b[0;34m)\u001b[0m\u001b[0;34m\u001b[0m\u001b[0;34m\u001b[0m\u001b[0m\n\u001b[0m\u001b[1;32m     42\u001b[0m     \u001b[0moptimizer\u001b[0m\u001b[0;34m.\u001b[0m\u001b[0mapply_gradients\u001b[0m\u001b[0;34m(\u001b[0m\u001b[0mzip\u001b[0m\u001b[0;34m(\u001b[0m\u001b[0mgenerator_grads\u001b[0m\u001b[0;34m,\u001b[0m \u001b[0mgenerator\u001b[0m\u001b[0;34m.\u001b[0m\u001b[0mtrainable_variables\u001b[0m\u001b[0;34m)\u001b[0m\u001b[0;34m)\u001b[0m\u001b[0;34m\u001b[0m\u001b[0;34m\u001b[0m\u001b[0m\n\u001b[1;32m     43\u001b[0m \u001b[0;34m\u001b[0m\u001b[0m\n",
      "\u001b[0;32m/opt/conda/envs/basileus/lib/python3.7/site-packages/tensorflow_core/python/eager/backprop.py\u001b[0m in \u001b[0;36mgradient\u001b[0;34m(self, target, sources, output_gradients, unconnected_gradients)\u001b[0m\n\u001b[1;32m   1027\u001b[0m         \u001b[0moutput_gradients\u001b[0m\u001b[0;34m=\u001b[0m\u001b[0moutput_gradients\u001b[0m\u001b[0;34m,\u001b[0m\u001b[0;34m\u001b[0m\u001b[0;34m\u001b[0m\u001b[0m\n\u001b[1;32m   1028\u001b[0m         \u001b[0msources_raw\u001b[0m\u001b[0;34m=\u001b[0m\u001b[0mflat_sources_raw\u001b[0m\u001b[0;34m,\u001b[0m\u001b[0;34m\u001b[0m\u001b[0;34m\u001b[0m\u001b[0m\n\u001b[0;32m-> 1029\u001b[0;31m         unconnected_gradients=unconnected_gradients)\n\u001b[0m\u001b[1;32m   1030\u001b[0m \u001b[0;34m\u001b[0m\u001b[0m\n\u001b[1;32m   1031\u001b[0m     \u001b[0;32mif\u001b[0m \u001b[0;32mnot\u001b[0m \u001b[0mself\u001b[0m\u001b[0;34m.\u001b[0m\u001b[0m_persistent\u001b[0m\u001b[0;34m:\u001b[0m\u001b[0;34m\u001b[0m\u001b[0;34m\u001b[0m\u001b[0m\n",
      "\u001b[0;32m/opt/conda/envs/basileus/lib/python3.7/site-packages/tensorflow_core/python/eager/imperative_grad.py\u001b[0m in \u001b[0;36mimperative_grad\u001b[0;34m(tape, target, sources, output_gradients, sources_raw, unconnected_gradients)\u001b[0m\n\u001b[1;32m     75\u001b[0m       \u001b[0moutput_gradients\u001b[0m\u001b[0;34m,\u001b[0m\u001b[0;34m\u001b[0m\u001b[0;34m\u001b[0m\u001b[0m\n\u001b[1;32m     76\u001b[0m       \u001b[0msources_raw\u001b[0m\u001b[0;34m,\u001b[0m\u001b[0;34m\u001b[0m\u001b[0;34m\u001b[0m\u001b[0m\n\u001b[0;32m---> 77\u001b[0;31m       compat.as_str(unconnected_gradients.value))\n\u001b[0m",
      "\u001b[0;32m/opt/conda/envs/basileus/lib/python3.7/site-packages/tensorflow_core/python/eager/backprop.py\u001b[0m in \u001b[0;36m_gradient_function\u001b[0;34m(op_name, attr_tuple, num_inputs, inputs, outputs, out_grads, skip_input_indices)\u001b[0m\n\u001b[1;32m    139\u001b[0m     \u001b[0;32mreturn\u001b[0m \u001b[0;34m[\u001b[0m\u001b[0;32mNone\u001b[0m\u001b[0;34m]\u001b[0m \u001b[0;34m*\u001b[0m \u001b[0mnum_inputs\u001b[0m\u001b[0;34m\u001b[0m\u001b[0;34m\u001b[0m\u001b[0m\n\u001b[1;32m    140\u001b[0m \u001b[0;34m\u001b[0m\u001b[0m\n\u001b[0;32m--> 141\u001b[0;31m   \u001b[0;32mreturn\u001b[0m \u001b[0mgrad_fn\u001b[0m\u001b[0;34m(\u001b[0m\u001b[0mmock_op\u001b[0m\u001b[0;34m,\u001b[0m \u001b[0;34m*\u001b[0m\u001b[0mout_grads\u001b[0m\u001b[0;34m)\u001b[0m\u001b[0;34m\u001b[0m\u001b[0;34m\u001b[0m\u001b[0m\n\u001b[0m\u001b[1;32m    142\u001b[0m \u001b[0;34m\u001b[0m\u001b[0m\n\u001b[1;32m    143\u001b[0m \u001b[0;34m\u001b[0m\u001b[0m\n",
      "\u001b[0;32m/opt/conda/envs/basileus/lib/python3.7/site-packages/tensorflow_core/python/ops/math_grad.py\u001b[0m in \u001b[0;36m_MatMulGrad\u001b[0;34m(op, grad)\u001b[0m\n\u001b[1;32m   1629\u001b[0m   \u001b[0;32mif\u001b[0m \u001b[0;32mnot\u001b[0m \u001b[0mt_a\u001b[0m \u001b[0;32mand\u001b[0m \u001b[0;32mnot\u001b[0m \u001b[0mt_b\u001b[0m\u001b[0;34m:\u001b[0m\u001b[0;34m\u001b[0m\u001b[0;34m\u001b[0m\u001b[0m\n\u001b[1;32m   1630\u001b[0m     \u001b[0mgrad_a\u001b[0m \u001b[0;34m=\u001b[0m \u001b[0mgen_math_ops\u001b[0m\u001b[0;34m.\u001b[0m\u001b[0mmat_mul\u001b[0m\u001b[0;34m(\u001b[0m\u001b[0mgrad\u001b[0m\u001b[0;34m,\u001b[0m \u001b[0mb\u001b[0m\u001b[0;34m,\u001b[0m \u001b[0mtranspose_b\u001b[0m\u001b[0;34m=\u001b[0m\u001b[0;32mTrue\u001b[0m\u001b[0;34m)\u001b[0m\u001b[0;34m\u001b[0m\u001b[0;34m\u001b[0m\u001b[0m\n\u001b[0;32m-> 1631\u001b[0;31m     \u001b[0mgrad_b\u001b[0m \u001b[0;34m=\u001b[0m \u001b[0mgen_math_ops\u001b[0m\u001b[0;34m.\u001b[0m\u001b[0mmat_mul\u001b[0m\u001b[0;34m(\u001b[0m\u001b[0ma\u001b[0m\u001b[0;34m,\u001b[0m \u001b[0mgrad\u001b[0m\u001b[0;34m,\u001b[0m \u001b[0mtranspose_a\u001b[0m\u001b[0;34m=\u001b[0m\u001b[0;32mTrue\u001b[0m\u001b[0;34m)\u001b[0m\u001b[0;34m\u001b[0m\u001b[0;34m\u001b[0m\u001b[0m\n\u001b[0m\u001b[1;32m   1632\u001b[0m   \u001b[0;32melif\u001b[0m \u001b[0;32mnot\u001b[0m \u001b[0mt_a\u001b[0m \u001b[0;32mand\u001b[0m \u001b[0mt_b\u001b[0m\u001b[0;34m:\u001b[0m\u001b[0;34m\u001b[0m\u001b[0;34m\u001b[0m\u001b[0m\n\u001b[1;32m   1633\u001b[0m     \u001b[0mgrad_a\u001b[0m \u001b[0;34m=\u001b[0m \u001b[0mgen_math_ops\u001b[0m\u001b[0;34m.\u001b[0m\u001b[0mmat_mul\u001b[0m\u001b[0;34m(\u001b[0m\u001b[0mgrad\u001b[0m\u001b[0;34m,\u001b[0m \u001b[0mb\u001b[0m\u001b[0;34m)\u001b[0m\u001b[0;34m\u001b[0m\u001b[0;34m\u001b[0m\u001b[0m\n",
      "\u001b[0;32m/opt/conda/envs/basileus/lib/python3.7/site-packages/tensorflow_core/python/ops/gen_math_ops.py\u001b[0m in \u001b[0;36mmat_mul\u001b[0;34m(a, b, transpose_a, transpose_b, name)\u001b[0m\n\u001b[1;32m   5604\u001b[0m         \u001b[0m_ctx\u001b[0m\u001b[0;34m.\u001b[0m\u001b[0m_context_handle\u001b[0m\u001b[0;34m,\u001b[0m \u001b[0mtld\u001b[0m\u001b[0;34m.\u001b[0m\u001b[0mdevice_name\u001b[0m\u001b[0;34m,\u001b[0m \u001b[0;34m\"MatMul\"\u001b[0m\u001b[0;34m,\u001b[0m \u001b[0mname\u001b[0m\u001b[0;34m,\u001b[0m\u001b[0;34m\u001b[0m\u001b[0;34m\u001b[0m\u001b[0m\n\u001b[1;32m   5605\u001b[0m         \u001b[0mtld\u001b[0m\u001b[0;34m.\u001b[0m\u001b[0mop_callbacks\u001b[0m\u001b[0;34m,\u001b[0m \u001b[0ma\u001b[0m\u001b[0;34m,\u001b[0m \u001b[0mb\u001b[0m\u001b[0;34m,\u001b[0m \u001b[0;34m\"transpose_a\"\u001b[0m\u001b[0;34m,\u001b[0m \u001b[0mtranspose_a\u001b[0m\u001b[0;34m,\u001b[0m \u001b[0;34m\"transpose_b\"\u001b[0m\u001b[0;34m,\u001b[0m\u001b[0;34m\u001b[0m\u001b[0;34m\u001b[0m\u001b[0m\n\u001b[0;32m-> 5606\u001b[0;31m         transpose_b)\n\u001b[0m\u001b[1;32m   5607\u001b[0m       \u001b[0;32mreturn\u001b[0m \u001b[0m_result\u001b[0m\u001b[0;34m\u001b[0m\u001b[0;34m\u001b[0m\u001b[0m\n\u001b[1;32m   5608\u001b[0m     \u001b[0;32mexcept\u001b[0m \u001b[0m_core\u001b[0m\u001b[0;34m.\u001b[0m\u001b[0m_FallbackException\u001b[0m\u001b[0;34m:\u001b[0m\u001b[0;34m\u001b[0m\u001b[0;34m\u001b[0m\u001b[0m\n",
      "\u001b[0;31mKeyboardInterrupt\u001b[0m: "
     ]
    }
   ],
   "source": [
    "for feature_batch, _ in tqdm(train_dataset.take(_TOTAL_STEPS)):\n",
    "    event_type_batch, time_delta_batch = feature_batch\n",
    "    print('Training Step:', step)\n",
    "    \n",
    "    if step % 5 == 0:\n",
    "        _mad_score, _fid_score, _rule_score = track_training(step, G, model_save_path, verbose=True, plot=True)\n",
    "        mad_history.append(_mad_score)\n",
    "        fid_history.append(_fid_score)\n",
    "        rule_history.append(_rule_score)\n",
    "        \n",
    "    # train the generator\n",
    "    for _ in range(_G_STEPS):\n",
    "        gen_loss, critic_loss = train_generator_mcc(G, D, critic, BATCH_SIZE, T, verbose=True, optimizer=G_optimizer)\n",
    "        gen_loss_history.append(gen_loss.numpy())\n",
    "        critic_loss_history.append(critic_loss.numpy())\n",
    "    \n",
    "    # train the discriminator\n",
    "    for _ in range(_D_STEPS):\n",
    "        disc_loss, ave_true_return = train_discriminator_mcc(event_type_batch, time_delta_batch, G, D, BATCH_SIZE, T,\n",
    "                                                                verbose=True, optimizer=D_optimizer, \n",
    "                                                                label_smoothing=True, label_flipping=True)\n",
    "        disc_loss_history.append(disc_loss.numpy())\n",
    "        average_true_return_history.append(ave_true_return.numpy())\n",
    "                \n",
    "    step += 1"
   ]
  },
  {
   "cell_type": "code",
   "execution_count": null,
   "id": "floral-annual",
   "metadata": {},
   "outputs": [],
   "source": [
    "x = range(len(gen_loss_history))\n",
    "plt.figure(dpi=100)\n",
    "plt.plot(x, gen_loss_history)\n",
    "plt.title('Generator Loss History')\n",
    "plt.xlabel('Training steps')\n",
    "\n",
    "x = range(len(disc_loss_history))\n",
    "plt.figure(dpi=100)\n",
    "plt.plot(x, disc_loss_history)\n",
    "plt.title('Discriminator Loss History')\n",
    "plt.xlabel('Training steps')"
   ]
  },
  {
   "cell_type": "markdown",
   "id": "accurate-fossil",
   "metadata": {},
   "source": [
    "## Compare between G0, G1 and G2"
   ]
  },
  {
   "cell_type": "code",
   "execution_count": null,
   "id": "random-geneva",
   "metadata": {},
   "outputs": [],
   "source": [
    "from matplotlib import pyplot as plt"
   ]
  },
  {
   "cell_type": "code",
   "execution_count": null,
   "id": "tropical-disney",
   "metadata": {},
   "outputs": [],
   "source": [
    "G0 = build_G(\n",
    "    batch_size = BATCH_SIZE,\n",
    "    event_vocab_dim = EVENT_VOCAB_DIM,\n",
    "    emb_dim = EMB_DIM,\n",
    "    hidden_dim= HIDDEN_DIM,\n",
    ")\n",
    "seqs_random_et, seqs_random_ts = generate_sequences_gumbel(10, G0, BATCH_SIZE, T)\n",
    "print(tf.argmax(seqs_random_et, axis=2))\n",
    "\n",
    "ind = 1\n",
    "x = np.arange(seqs_random_ts[ind,:,:].shape[0])\n",
    "y = seqs_random_ts[ind,:,:]\n",
    "\n",
    "plt.plot(x, y)"
   ]
  },
  {
   "cell_type": "code",
   "execution_count": null,
   "id": "greater-latvia",
   "metadata": {},
   "outputs": [],
   "source": [
    "G1 = pretrained_generator\n",
    "seqs_pretrained_et, seqs_pretrained_ts = generate_sequences_gumbel(10, G1, BATCH_SIZE, T)\n",
    "print(tf.argmax(seqs_pretrained_et, axis=2))\n",
    "\n",
    "ind = 1\n",
    "x = np.arange(seqs_pretrained_ts[ind,:,:].shape[0])\n",
    "y = seqs_pretrained_ts[ind,:,:]\n",
    "\n",
    "plt.plot(x, y)"
   ]
  },
  {
   "cell_type": "code",
   "execution_count": null,
   "id": "banner-wichita",
   "metadata": {},
   "outputs": [],
   "source": [
    "G2 = G\n",
    "seqs_trained_et, seqs_trained_ts = generate_sequences_gumbel(10, G2, BATCH_SIZE, T)\n",
    "\n",
    "print(tf.argmax(seqs_trained_et, axis=2))\n",
    "\n",
    "ind = 3\n",
    "x = np.arange(seqs_trained_ts[ind,:,:].shape[0])\n",
    "y = seqs_trained_ts[ind,:,:]\n",
    "\n",
    "plt.plot(x, y)"
   ]
  },
  {
   "cell_type": "code",
   "execution_count": null,
   "id": "spread-generic",
   "metadata": {},
   "outputs": [],
   "source": [
    "raw_seqs_trained_et_100, raw_seqs_trained_ts_100 = generate_sequences_gumbel(400, G2, BATCH_SIZE, T)"
   ]
  },
  {
   "cell_type": "code",
   "execution_count": null,
   "id": "drawn-suicide",
   "metadata": {},
   "outputs": [],
   "source": [
    " tf.argmax(raw_seqs_trained_et_100, axis=2)"
   ]
  },
  {
   "cell_type": "code",
   "execution_count": null,
   "id": "lasting-expense",
   "metadata": {},
   "outputs": [],
   "source": [
    "apply_mean_std(raw_seqs_trained_ts_100, *get_mean_std(raw_pos_timestamp_seqs))"
   ]
  },
  {
   "cell_type": "markdown",
   "id": "opposed-cuisine",
   "metadata": {},
   "source": [
    "## Save trained G and D weights"
   ]
  },
  {
   "cell_type": "code",
   "execution_count": null,
   "id": "successful-career",
   "metadata": {},
   "outputs": [],
   "source": [
    "if not os.path.exists(model_save_dir + '/G_run_syn_v11_200'):\n",
    "    os.makedirs(model_save_dir + '/G_run_syn_v11_200')\n",
    "\n",
    "G_save_path = model_save_dir + '/G_run_syn_v11_200/model.tf'\n",
    "                \n",
    "if not os.path.exists(model_save_dir + '/D_run_syn_v11_200'):\n",
    "    os.makedirs(model_save_dir + '/D_run_syn_v11_200')\n",
    "\n",
    "D_save_path = model_save_dir + '/D_run_syn_v11_200/model.tf'\n",
    "\n",
    "G.save_weights(G_save_path)\n",
    "D.save_weights(D_save_path)"
   ]
  },
  {
   "cell_type": "markdown",
   "id": "formed-uncle",
   "metadata": {},
   "source": [
    "## Generate Synthesized data"
   ]
  },
  {
   "cell_type": "code",
   "execution_count": null,
   "id": "municipal-electronics",
   "metadata": {},
   "outputs": [],
   "source": [
    "G_save_path = '/home/lun/project-basileus/multitype-sequence-generation-by-tlstm-gan/models/combined-gs-v11/G_run_syn_v11_200/model.tf'"
   ]
  },
  {
   "cell_type": "code",
   "execution_count": null,
   "id": "representative-mileage",
   "metadata": {},
   "outputs": [],
   "source": [
    "G_200 = build_G(\n",
    "    batch_size = BATCH_SIZE,\n",
    "    event_vocab_dim = EVENT_VOCAB_DIM,\n",
    "    emb_dim = EMB_DIM,\n",
    "    hidden_dim= HIDDEN_DIM,\n",
    ")\n",
    "\n",
    "G_200.build(input_shape=((BATCH_SIZE, T, 1)))\n",
    "G.load_weights(G_save_path)\n",
    "G.summary()"
   ]
  },
  {
   "cell_type": "code",
   "execution_count": null,
   "id": "registered-clinic",
   "metadata": {},
   "outputs": [],
   "source": [
    "G_100 = G2\n",
    "raw_seqs_trained_et_100, raw_seqs_trained_ts_100 = generate_sequences_gumbel(400000, G_100, BATCH_SIZE, T)"
   ]
  },
  {
   "cell_type": "code",
   "execution_count": null,
   "id": "north-bishop",
   "metadata": {},
   "outputs": [],
   "source": [
    "seqs_save_et_100 = tf.argmax(raw_seqs_trained_et_100[:400000, :, :], axis=2)\n",
    "seqs_save_ts_100 = apply_mean_std(raw_seqs_trained_ts_100[:400000, :, :], *get_mean_std(raw_pos_timestamp_seqs))"
   ]
  },
  {
   "cell_type": "code",
   "execution_count": null,
   "id": "alternate-preparation",
   "metadata": {},
   "outputs": [],
   "source": [
    "import pickle\n",
    "\n",
    "pos_seqs_filename_et = 'syn_positive_type_sequences.pickle'\n",
    "pos_seqs_filename_ts = 'syn_positive_time_sequences.pickle'\n",
    "\n",
    "repo_path = \"/home/lun/project-basileus/multitype-sequence-generation-by-tlstm-gan/\"\n",
    "\n",
    "with open(os.path.join(repo_path, 'syn_data', 'gumbel_softmax_100it', pos_seqs_filename_et), 'wb') as f:\n",
    "    pickle.dump(seqs_save_et_100, f)\n",
    "    \n",
    "with open(os.path.join(repo_path, 'syn_data', 'gumbel_softmax_100it', pos_seqs_filename_ts), 'wb') as f:\n",
    "    pickle.dump(seqs_save_ts_100, f)"
   ]
  },
  {
   "cell_type": "code",
   "execution_count": null,
   "id": "retired-preparation",
   "metadata": {},
   "outputs": [],
   "source": [
    "seqs_save_et_100[:10]"
   ]
  },
  {
   "cell_type": "code",
   "execution_count": null,
   "id": "restricted-cover",
   "metadata": {},
   "outputs": [],
   "source": [
    "seqs_save_ts_100[:10]"
   ]
  },
  {
   "cell_type": "code",
   "execution_count": null,
   "id": "incident-plant",
   "metadata": {},
   "outputs": [],
   "source": []
  }
 ],
 "metadata": {
  "kernelspec": {
   "display_name": "Python 3",
   "language": "python",
   "name": "python3"
  },
  "language_info": {
   "codemirror_mode": {
    "name": "ipython",
    "version": 3
   },
   "file_extension": ".py",
   "mimetype": "text/x-python",
   "name": "python",
   "nbconvert_exporter": "python",
   "pygments_lexer": "ipython3",
   "version": "3.7.9"
  }
 },
 "nbformat": 4,
 "nbformat_minor": 5
}
