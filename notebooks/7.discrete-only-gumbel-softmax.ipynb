{
 "cells": [
  {
   "cell_type": "code",
   "execution_count": 19,
   "id": "starting-plastic",
   "metadata": {},
   "outputs": [],
   "source": [
    "import os \n",
    "import sys\n",
    "from tqdm import tqdm\n",
    "import importlib\n",
    "import numpy as np\n",
    "import pickle\n",
    "import tensorflow as tf\n",
    "import matplotlib.pyplot as plt\n",
    "\n",
    "module_path = \"/home/lun/project-basileus/multitype-sequence-generation-by-tlstm-gan/\"\n",
    "data_path = \"/home/lun/project-basileus/multitype-sequence-generation-by-tlstm-gan/data/long_seqs_v10/\"\n",
    "model_save_dir = '/home/lun/project-basileus/multitype-sequence-generation-by-tlstm-gan/models/discrete-seq-gan-gs'\n",
    "\n",
    "if module_path not in sys.path:\n",
    "    sys.path.append(module_path)"
   ]
  },
  {
   "cell_type": "code",
   "execution_count": 20,
   "id": "funny-swaziland",
   "metadata": {},
   "outputs": [
    {
     "data": {
      "text/plain": [
       "'2.1.0'"
      ]
     },
     "execution_count": 20,
     "metadata": {},
     "output_type": "execute_result"
    }
   ],
   "source": [
    "tf.__version__"
   ]
  },
  {
   "cell_type": "code",
   "execution_count": 3,
   "id": "blessed-simulation",
   "metadata": {},
   "outputs": [],
   "source": [
    "BATCH_SIZE = 256\n",
    "T = 20 + 1\n",
    "VOCAB = ['END/PADDING', 'INIT', 'start', 'view', 'click', 'install']\n",
    "EVENT_VOCAB_DIM = len(VOCAB)\n",
    "EMB_DIM = 16\n",
    "HIDDEN_DIM = 16\n",
    "\n",
    "END_TOKEN = 0"
   ]
  },
  {
   "cell_type": "markdown",
   "id": "juvenile-object",
   "metadata": {},
   "source": [
    "## Load Data"
   ]
  },
  {
   "cell_type": "code",
   "execution_count": 36,
   "id": "reflected-gamma",
   "metadata": {},
   "outputs": [],
   "source": [
    "pos_data_path = os.path.join(data_path, 'positive_long_sequences.pickle')\n",
    "# neg_data_path = os.path.join(data_path, 'negative_long_sequences.pickle')\n",
    "\n",
    "def load_sequence_from_pickle_to_numpy(pickle_file_path):\n",
    "    \"\"\"\n",
    "        A list of sequence in format of (event_type, time_delta)\n",
    "    :param pickle_file_path: e.g. /.../project-basileus/seq-gan/data/fixed_length/valid_sequences.pickle\n",
    "    :return: (event_type_seqs, time_delta)\n",
    "    \"\"\"\n",
    "    with open(pickle_file_path, 'rb') as f:\n",
    "        raw_seqs = pickle.load(f)\n",
    "\n",
    "    if not raw_seqs or not raw_seqs[0]:\n",
    "        return np.array([]), np.array([])\n",
    "\n",
    "    N = len(raw_seqs)\n",
    "    T = len(raw_seqs[0])\n",
    "    \n",
    "    seqs = np.array(raw_seqs)\n",
    "#     print(seqs.shape)\n",
    "    \n",
    "    et_seqs = seqs[:, :, 0].astype(np.float64).reshape((N, T, 1))\n",
    "    ts_seqs = seqs[:, :, 1].astype(np.float64).reshape((N, T, 1))\n",
    "    return et_seqs, ts_seqs\n",
    "    \n",
    "pos_event_type_seqs, pos_timestamp_seqs = load_sequence_from_pickle_to_numpy(pos_data_path)\n",
    "# neg_event_type_seqs, neg_timestamp_seqs = load_sequence_from_pickle_to_numpy(neg_data_path)\n",
    "\n",
    "# cast indicator data into one-hot\n",
    "pos_event_type_seqs = tf.cast(pos_event_type_seqs, tf.int32)\n",
    "pos_event_type_seqs = tf.one_hot(pos_event_type_seqs, depth=EVENT_VOCAB_DIM, axis=2, dtype=tf.float64)\n",
    "pos_event_type_seqs = tf.squeeze(pos_event_type_seqs, axis=3)"
   ]
  },
  {
   "cell_type": "code",
   "execution_count": 5,
   "id": "prepared-kansas",
   "metadata": {},
   "outputs": [],
   "source": [
    "def create_dataset(features: np.array, labels: np.array, batch_size=2, epochs=10, buffer_size=10000):\n",
    "    \"\"\"\n",
    "    Create dataset from numpy arrays\n",
    "    \"\"\"\n",
    "    dataset = tf.data.Dataset.from_tensor_slices((features, labels))\n",
    "    dataset = dataset.shuffle(buffer_size)\n",
    "    dataset = dataset.repeat(epochs)\n",
    "    dataset = dataset.batch(batch_size, drop_remainder=True)\n",
    "    return dataset"
   ]
  },
  {
   "cell_type": "markdown",
   "id": "sensitive-organic",
   "metadata": {},
   "source": [
    "## Create original SeqGan"
   ]
  },
  {
   "cell_type": "code",
   "execution_count": 6,
   "id": "linear-sunrise",
   "metadata": {},
   "outputs": [],
   "source": [
    "import tensorflow as tf\n",
    "from tensorflow.keras import backend as K\n",
    "from tensorflow.keras.models import Model\n",
    "from tensorflow.keras import Sequential\n",
    "from tensorflow.keras.optimizers import Adam, SGD\n",
    "from tensorflow.keras.layers import Input, LSTM, Embedding, Reshape, Dense, Dropout, Conv1D, Conv2D, MaxPooling1D, Activation, Multiply, Add, Lambda\n",
    "from tensorflow.keras import regularizers\n",
    "\n",
    "# from sgtlstm.TimeLSTM import TimeLSTM0, TimeLSTM1, TimeLSTM2, TimeLSTM3\n",
    "\n",
    "tf.keras.backend.set_floatx('float64')\n",
    "\n",
    "\n",
    "def build_G(batch_size, event_vocab_dim, emb_dim, hidden_dim=16):\n",
    "    # normal LSTM\n",
    "    i_et = Input(batch_shape=(batch_size, None, event_vocab_dim), name='event_type')  # input of discrete feature event type\n",
    "#     mask_layer = tf.keras.layers.Masking(mask_value=0., input_shape=(None, 1))\n",
    "#     masked_et = mask_layer(i_et)\n",
    "    embed0 = Dense(emb_dim,name='dense_emb')(i_et) # dense matrix size: 6*16\n",
    "#     embed0 = Embedding(input_dim=event_vocab_dim, output_dim=emb_dim, mask_zero=True)(masked_et)\n",
    "    # turn [batch_size, None, 1, emb_dim] -> [batch_size, None, emb_dim]\n",
    "#     embed0 = tf.squeeze(embed0, axis=2)\n",
    "\n",
    "    hm = LSTM(hidden_dim, \n",
    "              name='lstm',\n",
    "              stateful=True,\n",
    "              return_sequences=False,\n",
    "              kernel_initializer=tf.keras.initializers.RandomNormal(stddev=0.1),\n",
    "              recurrent_initializer=tf.keras.initializers.RandomNormal(stddev=0.1),\n",
    "              bias_initializer=tf.keras.initializers.RandomNormal(stddev=0.1))(embed0)\n",
    "\n",
    "    logits = Dense(event_vocab_dim,\n",
    "                   activation='linear',\n",
    "                   name='dense_1',\n",
    "                   kernel_initializer=tf.keras.initializers.RandomNormal(stddev=0.1),\n",
    "                   bias_initializer=tf.keras.initializers.RandomNormal(stddev=0.1))(hm)\n",
    "    \n",
    "    generator = Model(\n",
    "        inputs=i_et,\n",
    "        outputs=logits)\n",
    "        \n",
    "    return generator"
   ]
  },
  {
   "cell_type": "code",
   "execution_count": 7,
   "id": "former-portuguese",
   "metadata": {},
   "outputs": [],
   "source": [
    "# Modified from: https://gist.github.com/iskandr/a874e4cf358697037d14a17020304535\n",
    "# def highway_layers(value, n_layers, activation=\"tanh\", gate_bias=-3):\n",
    "#     dim = K.int_shape(value)[-1]\n",
    "#     gate_bias_initializer = tf.keras.initializers.Constant(gate_bias)\n",
    "#     for i in range(n_layers):     \n",
    "#         gate = Dense(units=dim, bias_initializer=gate_bias_initializer, activation='sigmoid')(value)\n",
    "#         negated_gate = Lambda(\n",
    "#             lambda x: 1.0 - x,\n",
    "#             output_shape=(dim,))(gate)\n",
    "#         transformed = Dense(units=dim, activation=activation)(value)\n",
    "#         transformed_gated = Multiply()([gate, transformed])\n",
    "#         identity_gated = Multiply()([negated_gate, value])\n",
    "#         value = Add()([transformed_gated, identity_gated])\n",
    "#     return value"
   ]
  },
  {
   "cell_type": "code",
   "execution_count": 8,
   "id": "worthy-diameter",
   "metadata": {},
   "outputs": [],
   "source": [
    "def build_D_RNN(batch_size, T, event_vocab_dim, emb_dim, dropout_rate=0.25):\n",
    "    # normal LSTM\n",
    "    i_et = Input(batch_shape=(batch_size, None, event_vocab_dim), name='event_type')  # input of discrete feature event type\n",
    "#     mask_layer = tf.keras.layers.Masking(mask_value=0., input_shape=(None, 1))\n",
    "#     masked_et = mask_layer(i_et)\n",
    "    embed0 = Dense(emb_dim,name='dense_emb')(i_et) # dense matrix size: 6*16\n",
    "    hm = LSTM(HIDDEN_DIM, \n",
    "              name='lstm',\n",
    "              stateful=True,\n",
    "              return_sequences=False,\n",
    "              kernel_initializer=tf.keras.initializers.RandomNormal(stddev=0.1),\n",
    "              recurrent_initializer=tf.keras.initializers.RandomNormal(stddev=0.1),\n",
    "              bias_initializer=tf.keras.initializers.RandomNormal(stddev=0.1))(embed0)\n",
    "    dropped = Dropout(rate=dropout_rate)(hm)\n",
    "    prob = Dense(1, \n",
    "             activation='sigmoid',\n",
    "             name='final',\n",
    "             kernel_initializer=tf.keras.initializers.TruncatedNormal(mean=0.0, stddev=0.1, seed=None),\n",
    "             bias_initializer=tf.keras.initializers.Constant(value=0.1))(dropped)  \n",
    "    discriminator = Model(\n",
    "        inputs=i_et,\n",
    "        outputs=prob)\n",
    "    return discriminator"
   ]
  },
  {
   "cell_type": "markdown",
   "id": "voluntary-apartment",
   "metadata": {},
   "source": [
    "## Pre-Training of Gumbel-Softmax SeqGan"
   ]
  },
  {
   "cell_type": "code",
   "execution_count": 13,
   "id": "dense-intranet",
   "metadata": {},
   "outputs": [],
   "source": [
    "def pretrain_discriminator(event_type_batch, label_batch, discriminator, verbose=False, optimizer=Adam(lr=0.001)):\n",
    "    # train the discriminator\n",
    "    with tf.GradientTape() as tape:\n",
    "        # train discriminator\n",
    "        true_prob = discriminator(event_type_batch)\n",
    "\n",
    "        # cross-entropy loss\n",
    "        discriminator_loss = ce_loss = tf.reduce_mean(\n",
    "            tf.keras.losses.binary_crossentropy(label_batch, true_prob, from_logits=False)\n",
    "        )\n",
    "\n",
    "        if verbose:\n",
    "            print('total discriminator loss:{}'.format(discriminator_loss))\n",
    "\n",
    "    grads = tape.gradient(discriminator_loss, discriminator.trainable_variables)\n",
    "    optimizer.apply_gradients(zip(grads, discriminator.trainable_variables))\n",
    "\n",
    "    return discriminator_loss\n",
    "\n",
    "\n",
    "def pretrain_generator(event_type_batch, generator, verbose=False, optimizer=Adam(lr=0.001)):\n",
    "    _, T, _ = event_type_batch.shape\n",
    "    \n",
    "    # train the generator\n",
    "    with tf.GradientTape() as tape:\n",
    "        generator.reset_states()\n",
    "        ce_loss_list = []\n",
    "\n",
    "        for i in range(0, T - 1):\n",
    "            curr_state_et = event_type_batch[:, i:i + 1, :]\n",
    "            target_et = event_type_batch[:, i + 1, :]\n",
    "\n",
    "            token_logits = generator(curr_state_et)\n",
    "\n",
    "            ce_losses = tf.keras.losses.categorical_crossentropy(target_et, token_logits, from_logits=True)\n",
    "            ce_loss = tf.reduce_mean(ce_losses)\n",
    "            ce_loss_list.append(ce_loss)\n",
    "\n",
    "        generator_loss = tf.reduce_mean(ce_loss_list)\n",
    "\n",
    "    if verbose:\n",
    "        print('train loss:{}'.format(generator_loss))\n",
    "\n",
    "    # apply gradient decent per batch\n",
    "    grads = tape.gradient(generator_loss, generator.trainable_variables)\n",
    "    optimizer.apply_gradients(zip(grads, generator.trainable_variables))\n",
    "\n",
    "    return generator_loss"
   ]
  },
  {
   "cell_type": "markdown",
   "id": "proper-worker",
   "metadata": {},
   "source": [
    "### pre-train G"
   ]
  },
  {
   "cell_type": "code",
   "execution_count": 14,
   "id": "attached-allen",
   "metadata": {},
   "outputs": [],
   "source": [
    "N_total_G = pos_event_type_seqs.shape[0]\n",
    "\n",
    "EPOCHS = 1\n",
    "_TOTAL_STEPS = int(EPOCHS * N_total_G / BATCH_SIZE)\n",
    "\n",
    "pretrain_G_dataset = create_dataset(pos_event_type_seqs,\n",
    "                                  np.ones((N_total_G, 1)),\n",
    "                                  batch_size=BATCH_SIZE,\n",
    "                                  epochs=EPOCHS,\n",
    "                                  buffer_size=N_total_G)"
   ]
  },
  {
   "cell_type": "code",
   "execution_count": 15,
   "id": "mobile-cartoon",
   "metadata": {},
   "outputs": [],
   "source": [
    "pretrain_gen_ce_loss_history = []\n",
    "pretrain_gen_metrics_history = []\n",
    "\n",
    "pretrained_generator = build_G(\n",
    "    batch_size=BATCH_SIZE,\n",
    "    event_vocab_dim = EVENT_VOCAB_DIM,\n",
    "    emb_dim = EMB_DIM,\n",
    "    hidden_dim= HIDDEN_DIM)"
   ]
  },
  {
   "cell_type": "code",
   "execution_count": 16,
   "id": "charitable-woman",
   "metadata": {
    "scrolled": true
   },
   "outputs": [
    {
     "name": "stderr",
     "output_type": "stream",
     "text": [
      "\r",
      "0it [00:00, ?it/s]"
     ]
    },
    {
     "name": "stdout",
     "output_type": "stream",
     "text": [
      "Training Step: 1\n",
      "WARNING:tensorflow:Layer dense_emb is casting an input tensor from dtype float32 to the layer's dtype of float64, which is new behavior in TensorFlow 2.  The layer has dtype float64 because it's dtype defaults to floatx.\n",
      "\n",
      "If you intended to run this layer in float64, you can safely ignore this warning. If in doubt, this warning is likely only an issue if you are porting a TensorFlow 1.X model to TensorFlow 2.\n",
      "\n",
      "To change all layers to have dtype float32 by default, call `tf.keras.backend.set_floatx('float32')`. To change just this layer, pass dtype='float32' to the layer constructor. If you are the author of this layer, you can disable autocasting by passing autocast=False to the base Layer constructor.\n",
      "\n",
      "train loss:1.8094647976090807\n"
     ]
    },
    {
     "name": "stderr",
     "output_type": "stream",
     "text": [
      "\r",
      "1it [00:00,  2.06it/s]"
     ]
    },
    {
     "name": "stdout",
     "output_type": "stream",
     "text": [
      "Training Step: 2\n",
      "train loss:1.805986485323844\n"
     ]
    },
    {
     "name": "stderr",
     "output_type": "stream",
     "text": [
      "\r",
      "2it [00:00,  3.13it/s]"
     ]
    },
    {
     "name": "stdout",
     "output_type": "stream",
     "text": [
      "Training Step: 3\n",
      "train loss:1.801750689089891\n"
     ]
    },
    {
     "name": "stderr",
     "output_type": "stream",
     "text": [
      "\r",
      "3it [00:00,  3.78it/s]"
     ]
    },
    {
     "name": "stdout",
     "output_type": "stream",
     "text": [
      "Training Step: 4\n"
     ]
    },
    {
     "name": "stderr",
     "output_type": "stream",
     "text": [
      "\r",
      "4it [00:01,  4.19it/s]"
     ]
    },
    {
     "name": "stdout",
     "output_type": "stream",
     "text": [
      "train loss:1.8008116643719156\n",
      "Training Step: 5\n",
      "train loss:1.7967083775000856\n"
     ]
    },
    {
     "name": "stderr",
     "output_type": "stream",
     "text": [
      "\r",
      "5it [00:01,  4.43it/s]"
     ]
    },
    {
     "name": "stdout",
     "output_type": "stream",
     "text": [
      "Training Step: 6\n",
      "train loss:1.7952485900533108\n"
     ]
    },
    {
     "name": "stderr",
     "output_type": "stream",
     "text": [
      "\r",
      "6it [00:01,  4.61it/s]"
     ]
    },
    {
     "name": "stdout",
     "output_type": "stream",
     "text": [
      "Training Step: 7\n",
      "train loss:1.7925954576750283\n"
     ]
    },
    {
     "name": "stderr",
     "output_type": "stream",
     "text": [
      "\r",
      "7it [00:01,  4.66it/s]"
     ]
    },
    {
     "name": "stdout",
     "output_type": "stream",
     "text": [
      "Training Step: 8\n",
      "train loss:1.7903695699339022\n"
     ]
    },
    {
     "name": "stderr",
     "output_type": "stream",
     "text": [
      "\r",
      "8it [00:01,  4.74it/s]"
     ]
    },
    {
     "name": "stdout",
     "output_type": "stream",
     "text": [
      "Training Step: 9\n",
      "train loss:1.7858702571382046\n"
     ]
    },
    {
     "name": "stderr",
     "output_type": "stream",
     "text": [
      "\r",
      "9it [00:02,  4.96it/s]"
     ]
    },
    {
     "name": "stdout",
     "output_type": "stream",
     "text": [
      "Training Step: 10\n"
     ]
    },
    {
     "name": "stderr",
     "output_type": "stream",
     "text": [
      "\r",
      "10it [00:02,  4.99it/s]"
     ]
    },
    {
     "name": "stdout",
     "output_type": "stream",
     "text": [
      "train loss:1.785521117570429\n",
      "Training Step: 11\n"
     ]
    },
    {
     "name": "stderr",
     "output_type": "stream",
     "text": [
      "\r",
      "11it [00:02,  4.91it/s]"
     ]
    },
    {
     "name": "stdout",
     "output_type": "stream",
     "text": [
      "train loss:1.7815334728254086\n",
      "Training Step: 12\n"
     ]
    },
    {
     "name": "stderr",
     "output_type": "stream",
     "text": [
      "\r",
      "12it [00:02,  4.86it/s]"
     ]
    },
    {
     "name": "stdout",
     "output_type": "stream",
     "text": [
      "train loss:1.7789168301149665\n",
      "Training Step: 13\n"
     ]
    },
    {
     "name": "stderr",
     "output_type": "stream",
     "text": [
      "\r",
      "13it [00:02,  4.87it/s]"
     ]
    },
    {
     "name": "stdout",
     "output_type": "stream",
     "text": [
      "train loss:1.7762675701303963\n",
      "Training Step: 14\n"
     ]
    },
    {
     "name": "stderr",
     "output_type": "stream",
     "text": [
      "\r",
      "14it [00:03,  4.89it/s]"
     ]
    },
    {
     "name": "stdout",
     "output_type": "stream",
     "text": [
      "train loss:1.7744885945156175\n",
      "Training Step: 15\n"
     ]
    },
    {
     "name": "stderr",
     "output_type": "stream",
     "text": [
      "\r",
      "15it [00:03,  4.81it/s]"
     ]
    },
    {
     "name": "stdout",
     "output_type": "stream",
     "text": [
      "train loss:1.7722869877480414\n",
      "Training Step: 16\n"
     ]
    },
    {
     "name": "stderr",
     "output_type": "stream",
     "text": [
      "\r",
      "16it [00:03,  4.80it/s]"
     ]
    },
    {
     "name": "stdout",
     "output_type": "stream",
     "text": [
      "train loss:1.7688514983749282\n",
      "Training Step: 17\n"
     ]
    },
    {
     "name": "stderr",
     "output_type": "stream",
     "text": [
      "\r",
      "17it [00:03,  4.85it/s]"
     ]
    },
    {
     "name": "stdout",
     "output_type": "stream",
     "text": [
      "train loss:1.7653906260923118\n",
      "Training Step: 18\n",
      "train loss:1.7628966029050308\n"
     ]
    },
    {
     "name": "stderr",
     "output_type": "stream",
     "text": [
      "\r",
      "18it [00:03,  4.84it/s]"
     ]
    },
    {
     "name": "stdout",
     "output_type": "stream",
     "text": [
      "Training Step: 19\n",
      "train loss:1.759738366249676\n"
     ]
    },
    {
     "name": "stderr",
     "output_type": "stream",
     "text": [
      "\r",
      "19it [00:04,  4.87it/s]"
     ]
    },
    {
     "name": "stdout",
     "output_type": "stream",
     "text": [
      "Training Step: 20\n",
      "train loss:1.7565999259442748\n"
     ]
    },
    {
     "name": "stderr",
     "output_type": "stream",
     "text": [
      "21it [00:04,  4.89it/s]"
     ]
    },
    {
     "name": "stdout",
     "output_type": "stream",
     "text": [
      "Training Step: 21\n",
      "train loss:1.7546698143484765\n",
      "Training Step: 22\n",
      "train loss:1.7501452473541814\n"
     ]
    },
    {
     "name": "stderr",
     "output_type": "stream",
     "text": [
      "\r",
      "22it [00:04,  4.86it/s]"
     ]
    },
    {
     "name": "stdout",
     "output_type": "stream",
     "text": [
      "Training Step: 23\n",
      "train loss:1.746354506024342\n"
     ]
    },
    {
     "name": "stderr",
     "output_type": "stream",
     "text": [
      "\r",
      "23it [00:04,  4.83it/s]"
     ]
    },
    {
     "name": "stdout",
     "output_type": "stream",
     "text": [
      "Training Step: 24\n",
      "train loss:1.7435432739056629\n"
     ]
    },
    {
     "name": "stderr",
     "output_type": "stream",
     "text": [
      "\r",
      "24it [00:05,  4.86it/s]"
     ]
    },
    {
     "name": "stdout",
     "output_type": "stream",
     "text": [
      "Training Step: 25\n",
      "train loss:1.7390722117005528\n"
     ]
    },
    {
     "name": "stderr",
     "output_type": "stream",
     "text": [
      "\r",
      "25it [00:05,  4.87it/s]"
     ]
    },
    {
     "name": "stdout",
     "output_type": "stream",
     "text": [
      "Training Step: 26\n",
      "train loss:1.7349592492775727\n"
     ]
    },
    {
     "name": "stderr",
     "output_type": "stream",
     "text": [
      "\r",
      "26it [00:05,  4.82it/s]"
     ]
    },
    {
     "name": "stdout",
     "output_type": "stream",
     "text": [
      "Training Step: 27\n",
      "train loss:1.7323197691399237\n"
     ]
    },
    {
     "name": "stderr",
     "output_type": "stream",
     "text": [
      "28it [00:05,  5.15it/s]"
     ]
    },
    {
     "name": "stdout",
     "output_type": "stream",
     "text": [
      "Training Step: 28\n",
      "train loss:1.7280990279326134\n",
      "Training Step: 29\n"
     ]
    },
    {
     "name": "stderr",
     "output_type": "stream",
     "text": [
      "\r",
      "29it [00:06,  5.02it/s]"
     ]
    },
    {
     "name": "stdout",
     "output_type": "stream",
     "text": [
      "train loss:1.7214262834794998\n",
      "Training Step: 30\n"
     ]
    },
    {
     "name": "stderr",
     "output_type": "stream",
     "text": [
      "\r",
      "30it [00:06,  4.96it/s]"
     ]
    },
    {
     "name": "stdout",
     "output_type": "stream",
     "text": [
      "train loss:1.7175192146758476\n",
      "Training Step: 31\n"
     ]
    },
    {
     "name": "stderr",
     "output_type": "stream",
     "text": [
      "\r",
      "31it [00:06,  4.92it/s]"
     ]
    },
    {
     "name": "stdout",
     "output_type": "stream",
     "text": [
      "train loss:1.7128630172737007\n",
      "Training Step: 32\n"
     ]
    },
    {
     "name": "stderr",
     "output_type": "stream",
     "text": [
      "\r",
      "32it [00:06,  4.92it/s]"
     ]
    },
    {
     "name": "stdout",
     "output_type": "stream",
     "text": [
      "train loss:1.7073512882056572\n",
      "Training Step: 33\n",
      "train loss:1.7049262944761423\n"
     ]
    },
    {
     "name": "stderr",
     "output_type": "stream",
     "text": [
      "\r",
      "33it [00:06,  4.90it/s]"
     ]
    },
    {
     "name": "stdout",
     "output_type": "stream",
     "text": [
      "Training Step: 34\n",
      "train loss:1.6977664070783802\n"
     ]
    },
    {
     "name": "stderr",
     "output_type": "stream",
     "text": [
      "\r",
      "34it [00:07,  4.89it/s]"
     ]
    },
    {
     "name": "stdout",
     "output_type": "stream",
     "text": [
      "Training Step: 35\n",
      "train loss:1.6926258876402707\n"
     ]
    },
    {
     "name": "stderr",
     "output_type": "stream",
     "text": [
      "36it [00:07,  4.97it/s]"
     ]
    },
    {
     "name": "stdout",
     "output_type": "stream",
     "text": [
      "Training Step: 36\n",
      "train loss:1.6864654857263257\n",
      "Training Step: 37\n"
     ]
    },
    {
     "name": "stderr",
     "output_type": "stream",
     "text": [
      "\r",
      "37it [00:07,  5.01it/s]"
     ]
    },
    {
     "name": "stdout",
     "output_type": "stream",
     "text": [
      "train loss:1.680726942583399\n",
      "Training Step: 38\n",
      "train loss:1.6734292792044954\n"
     ]
    },
    {
     "name": "stderr",
     "output_type": "stream",
     "text": [
      "39it [00:08,  4.98it/s]"
     ]
    },
    {
     "name": "stdout",
     "output_type": "stream",
     "text": [
      "Training Step: 39\n",
      "train loss:1.6684362157463597\n",
      "Training Step: 40\n",
      "train loss:1.6619101246961698\n"
     ]
    },
    {
     "name": "stderr",
     "output_type": "stream",
     "text": [
      "\r",
      "40it [00:08,  4.94it/s]"
     ]
    },
    {
     "name": "stdout",
     "output_type": "stream",
     "text": [
      "Training Step: 41\n",
      "train loss:1.654349919946292\n"
     ]
    },
    {
     "name": "stderr",
     "output_type": "stream",
     "text": [
      "42it [00:08,  4.94it/s]"
     ]
    },
    {
     "name": "stdout",
     "output_type": "stream",
     "text": [
      "Training Step: 42\n",
      "train loss:1.6468998199222433\n",
      "Training Step: 43\n"
     ]
    },
    {
     "name": "stderr",
     "output_type": "stream",
     "text": [
      "\r",
      "43it [00:09,  4.94it/s]"
     ]
    },
    {
     "name": "stdout",
     "output_type": "stream",
     "text": [
      "train loss:1.6364810083982675\n",
      "Training Step: 44\n"
     ]
    },
    {
     "name": "stderr",
     "output_type": "stream",
     "text": [
      "\r",
      "44it [00:09,  5.00it/s]"
     ]
    },
    {
     "name": "stdout",
     "output_type": "stream",
     "text": [
      "train loss:1.6301876664196826\n",
      "Training Step: 45\n",
      "train loss:1.6252218753389442\n"
     ]
    },
    {
     "name": "stderr",
     "output_type": "stream",
     "text": [
      "\r",
      "45it [00:09,  4.99it/s]"
     ]
    },
    {
     "name": "stdout",
     "output_type": "stream",
     "text": [
      "Training Step: 46\n",
      "train loss:1.6168019268684155\n"
     ]
    },
    {
     "name": "stderr",
     "output_type": "stream",
     "text": [
      "47it [00:09,  4.98it/s]"
     ]
    },
    {
     "name": "stdout",
     "output_type": "stream",
     "text": [
      "Training Step: 47\n",
      "train loss:1.6073503766809047\n",
      "Training Step: 48\n"
     ]
    },
    {
     "name": "stderr",
     "output_type": "stream",
     "text": [
      "\r",
      "48it [00:10,  4.95it/s]"
     ]
    },
    {
     "name": "stdout",
     "output_type": "stream",
     "text": [
      "train loss:1.6007498958042135\n",
      "Training Step: 49\n",
      "train loss:1.5938630957901931\n"
     ]
    },
    {
     "name": "stderr",
     "output_type": "stream",
     "text": [
      "\r",
      "49it [00:10,  4.97it/s]"
     ]
    },
    {
     "name": "stdout",
     "output_type": "stream",
     "text": [
      "Training Step: 50\n",
      "train loss:1.5852996201222567\n"
     ]
    },
    {
     "name": "stderr",
     "output_type": "stream",
     "text": [
      "51it [00:10,  5.05it/s]"
     ]
    },
    {
     "name": "stdout",
     "output_type": "stream",
     "text": [
      "Training Step: 51\n",
      "train loss:1.577451997301344\n",
      "Training Step: 52\n"
     ]
    },
    {
     "name": "stderr",
     "output_type": "stream",
     "text": [
      "\r",
      "52it [00:10,  5.13it/s]"
     ]
    },
    {
     "name": "stdout",
     "output_type": "stream",
     "text": [
      "train loss:1.571958203137284\n",
      "Training Step: 53\n"
     ]
    },
    {
     "name": "stderr",
     "output_type": "stream",
     "text": [
      "\r",
      "53it [00:11,  4.96it/s]"
     ]
    },
    {
     "name": "stdout",
     "output_type": "stream",
     "text": [
      "train loss:1.561970611523202\n",
      "Training Step: 54\n",
      "train loss:1.557672757121934\n"
     ]
    },
    {
     "name": "stderr",
     "output_type": "stream",
     "text": [
      "\r",
      "54it [00:11,  4.96it/s]"
     ]
    },
    {
     "name": "stdout",
     "output_type": "stream",
     "text": [
      "Training Step: 55\n",
      "train loss:1.5524290146653477\n"
     ]
    },
    {
     "name": "stderr",
     "output_type": "stream",
     "text": [
      "\r",
      "55it [00:11,  4.93it/s]"
     ]
    },
    {
     "name": "stdout",
     "output_type": "stream",
     "text": [
      "Training Step: 56\n"
     ]
    },
    {
     "name": "stderr",
     "output_type": "stream",
     "text": [
      "\r",
      "56it [00:11,  4.44it/s]"
     ]
    },
    {
     "name": "stdout",
     "output_type": "stream",
     "text": [
      "train loss:1.5440955993560745\n",
      "Training Step: 57\n"
     ]
    },
    {
     "name": "stderr",
     "output_type": "stream",
     "text": [
      "\r",
      "57it [00:11,  4.50it/s]"
     ]
    },
    {
     "name": "stdout",
     "output_type": "stream",
     "text": [
      "train loss:1.5369384201694505\n",
      "Training Step: 58\n"
     ]
    },
    {
     "name": "stderr",
     "output_type": "stream",
     "text": [
      "\r",
      "58it [00:12,  4.61it/s]"
     ]
    },
    {
     "name": "stdout",
     "output_type": "stream",
     "text": [
      "train loss:1.5320813769946193\n",
      "Training Step: 59\n"
     ]
    },
    {
     "name": "stderr",
     "output_type": "stream",
     "text": [
      "\r",
      "59it [00:12,  4.65it/s]"
     ]
    },
    {
     "name": "stdout",
     "output_type": "stream",
     "text": [
      "train loss:1.5266555679480458\n",
      "Training Step: 60\n"
     ]
    },
    {
     "name": "stderr",
     "output_type": "stream",
     "text": [
      "\r",
      "60it [00:12,  4.69it/s]"
     ]
    },
    {
     "name": "stdout",
     "output_type": "stream",
     "text": [
      "train loss:1.5232780450256374\n",
      "Training Step: 61\n"
     ]
    },
    {
     "name": "stderr",
     "output_type": "stream",
     "text": [
      "\r",
      "61it [00:12,  4.69it/s]"
     ]
    },
    {
     "name": "stdout",
     "output_type": "stream",
     "text": [
      "train loss:1.5157120903481305\n",
      "Training Step: 62\n",
      "train loss:1.512378415763075\n"
     ]
    },
    {
     "name": "stderr",
     "output_type": "stream",
     "text": [
      "\r",
      "62it [00:12,  4.77it/s]"
     ]
    },
    {
     "name": "stdout",
     "output_type": "stream",
     "text": [
      "Training Step: 63\n",
      "train loss:1.506006750647351\n"
     ]
    },
    {
     "name": "stderr",
     "output_type": "stream",
     "text": [
      "\r",
      "63it [00:13,  4.79it/s]"
     ]
    },
    {
     "name": "stdout",
     "output_type": "stream",
     "text": [
      "Training Step: 64\n",
      "train loss:1.4988807016472576\n"
     ]
    },
    {
     "name": "stderr",
     "output_type": "stream",
     "text": [
      "\r",
      "64it [00:13,  4.77it/s]"
     ]
    },
    {
     "name": "stdout",
     "output_type": "stream",
     "text": [
      "Training Step: 65\n",
      "train loss:1.4923266867038512\n"
     ]
    },
    {
     "name": "stderr",
     "output_type": "stream",
     "text": [
      "\r",
      "65it [00:13,  4.74it/s]"
     ]
    },
    {
     "name": "stdout",
     "output_type": "stream",
     "text": [
      "Training Step: 66\n",
      "train loss:1.4930714620042718\n"
     ]
    },
    {
     "name": "stderr",
     "output_type": "stream",
     "text": [
      "67it [00:13,  4.85it/s]"
     ]
    },
    {
     "name": "stdout",
     "output_type": "stream",
     "text": [
      "Training Step: 67\n",
      "train loss:1.4915420006099305\n",
      "Training Step: 68\n"
     ]
    },
    {
     "name": "stderr",
     "output_type": "stream",
     "text": [
      "\r",
      "68it [00:14,  4.89it/s]"
     ]
    },
    {
     "name": "stdout",
     "output_type": "stream",
     "text": [
      "train loss:1.4814354522282414\n",
      "Training Step: 69\n",
      "train loss:1.4840721270965382\n"
     ]
    },
    {
     "name": "stderr",
     "output_type": "stream",
     "text": [
      "70it [00:14,  4.94it/s]"
     ]
    },
    {
     "name": "stdout",
     "output_type": "stream",
     "text": [
      "Training Step: 70\n",
      "train loss:1.4773841660658147\n",
      "Training Step: 71\n",
      "train loss:1.4684358936990656\n"
     ]
    },
    {
     "name": "stderr",
     "output_type": "stream",
     "text": [
      "72it [00:15,  4.92it/s]"
     ]
    },
    {
     "name": "stdout",
     "output_type": "stream",
     "text": [
      "Training Step: 72\n",
      "train loss:1.4657565311349299\n",
      "Training Step: 73\n"
     ]
    },
    {
     "name": "stderr",
     "output_type": "stream",
     "text": [
      "\r",
      "73it [00:15,  4.87it/s]"
     ]
    },
    {
     "name": "stdout",
     "output_type": "stream",
     "text": [
      "train loss:1.4677256271187278\n",
      "Training Step: 74\n"
     ]
    },
    {
     "name": "stderr",
     "output_type": "stream",
     "text": [
      "\r",
      "74it [00:15,  4.84it/s]"
     ]
    },
    {
     "name": "stdout",
     "output_type": "stream",
     "text": [
      "train loss:1.4621106230822347\n",
      "Training Step: 75\n"
     ]
    },
    {
     "name": "stderr",
     "output_type": "stream",
     "text": [
      "\r",
      "75it [00:15,  4.73it/s]"
     ]
    },
    {
     "name": "stdout",
     "output_type": "stream",
     "text": [
      "train loss:1.4605730388118896\n",
      "Training Step: 76\n"
     ]
    },
    {
     "name": "stderr",
     "output_type": "stream",
     "text": [
      "\r",
      "76it [00:15,  4.67it/s]"
     ]
    },
    {
     "name": "stdout",
     "output_type": "stream",
     "text": [
      "train loss:1.4560334028768562\n",
      "Training Step: 77\n"
     ]
    },
    {
     "name": "stderr",
     "output_type": "stream",
     "text": [
      "\r",
      "77it [00:16,  4.68it/s]"
     ]
    },
    {
     "name": "stdout",
     "output_type": "stream",
     "text": [
      "train loss:1.452008506227874\n",
      "Training Step: 78\n"
     ]
    },
    {
     "name": "stderr",
     "output_type": "stream",
     "text": [
      "\r",
      "78it [00:16,  4.77it/s]"
     ]
    },
    {
     "name": "stdout",
     "output_type": "stream",
     "text": [
      "train loss:1.4505102900787685\n",
      "Training Step: 79\n",
      "train loss:1.449549213141919\n"
     ]
    },
    {
     "name": "stderr",
     "output_type": "stream",
     "text": [
      "\r",
      "79it [00:16,  5.00it/s]"
     ]
    },
    {
     "name": "stdout",
     "output_type": "stream",
     "text": [
      "Training Step: 80\n",
      "train loss:1.4437601226128076\n"
     ]
    },
    {
     "name": "stderr",
     "output_type": "stream",
     "text": [
      "\r",
      "80it [00:16,  4.92it/s]"
     ]
    },
    {
     "name": "stdout",
     "output_type": "stream",
     "text": [
      "Training Step: 81\n",
      "train loss:1.4379630048313217\n"
     ]
    },
    {
     "name": "stderr",
     "output_type": "stream",
     "text": [
      "\r",
      "81it [00:16,  4.87it/s]"
     ]
    },
    {
     "name": "stdout",
     "output_type": "stream",
     "text": [
      "Training Step: 82\n",
      "train loss:1.4409817949059875\n"
     ]
    },
    {
     "name": "stderr",
     "output_type": "stream",
     "text": [
      "\r",
      "82it [00:17,  4.83it/s]"
     ]
    },
    {
     "name": "stdout",
     "output_type": "stream",
     "text": [
      "Training Step: 83\n",
      "train loss:1.4398455127978682\n"
     ]
    },
    {
     "name": "stderr",
     "output_type": "stream",
     "text": [
      "84it [00:17,  4.94it/s]"
     ]
    },
    {
     "name": "stdout",
     "output_type": "stream",
     "text": [
      "Training Step: 84\n",
      "train loss:1.4378020928823672\n",
      "Training Step: 85\n"
     ]
    },
    {
     "name": "stderr",
     "output_type": "stream",
     "text": [
      "\r",
      "85it [00:17,  5.05it/s]"
     ]
    },
    {
     "name": "stdout",
     "output_type": "stream",
     "text": [
      "train loss:1.4320145804636861\n",
      "Training Step: 86\n",
      "train loss:1.4296456265014033\n"
     ]
    },
    {
     "name": "stderr",
     "output_type": "stream",
     "text": [
      "87it [00:18,  5.34it/s]"
     ]
    },
    {
     "name": "stdout",
     "output_type": "stream",
     "text": [
      "Training Step: 87\n",
      "train loss:1.4249197890955354\n",
      "Training Step: 88\n"
     ]
    },
    {
     "name": "stderr",
     "output_type": "stream",
     "text": [
      "\r",
      "88it [00:18,  5.31it/s]"
     ]
    },
    {
     "name": "stdout",
     "output_type": "stream",
     "text": [
      "train loss:1.4283494431262036\n",
      "Training Step: 89\n",
      "train loss:1.4285178168019106\n"
     ]
    },
    {
     "name": "stderr",
     "output_type": "stream",
     "text": [
      "90it [00:18,  5.48it/s]"
     ]
    },
    {
     "name": "stdout",
     "output_type": "stream",
     "text": [
      "Training Step: 90\n",
      "train loss:1.4229414322548004\n",
      "Training Step: 91\n"
     ]
    },
    {
     "name": "stderr",
     "output_type": "stream",
     "text": [
      "\r",
      "91it [00:18,  5.43it/s]"
     ]
    },
    {
     "name": "stdout",
     "output_type": "stream",
     "text": [
      "train loss:1.422279299495152\n",
      "Training Step: 92\n",
      "train loss:1.4196902216408582\n"
     ]
    },
    {
     "name": "stderr",
     "output_type": "stream",
     "text": [
      "93it [00:19,  5.51it/s]"
     ]
    },
    {
     "name": "stdout",
     "output_type": "stream",
     "text": [
      "Training Step: 93\n",
      "train loss:1.4172520081757523\n",
      "Training Step: 94\n"
     ]
    },
    {
     "name": "stderr",
     "output_type": "stream",
     "text": [
      "\r",
      "94it [00:19,  5.56it/s]"
     ]
    },
    {
     "name": "stdout",
     "output_type": "stream",
     "text": [
      "train loss:1.4159978658605936\n",
      "Training Step: 95\n",
      "train loss:1.420216939371058\n"
     ]
    },
    {
     "name": "stderr",
     "output_type": "stream",
     "text": [
      "96it [00:19,  5.53it/s]"
     ]
    },
    {
     "name": "stdout",
     "output_type": "stream",
     "text": [
      "Training Step: 96\n",
      "train loss:1.4142703385579285\n",
      "Training Step: 97\n"
     ]
    },
    {
     "name": "stderr",
     "output_type": "stream",
     "text": [
      "\r",
      "97it [00:19,  5.50it/s]"
     ]
    },
    {
     "name": "stdout",
     "output_type": "stream",
     "text": [
      "train loss:1.4139697419466946\n",
      "Training Step: 98\n",
      "train loss:1.411283090108828\n"
     ]
    },
    {
     "name": "stderr",
     "output_type": "stream",
     "text": [
      "99it [00:20,  5.53it/s]"
     ]
    },
    {
     "name": "stdout",
     "output_type": "stream",
     "text": [
      "Training Step: 99\n",
      "train loss:1.4071525974163959\n",
      "Training Step: 100\n"
     ]
    },
    {
     "name": "stderr",
     "output_type": "stream",
     "text": [
      "100it [00:20,  4.89it/s]"
     ]
    },
    {
     "name": "stdout",
     "output_type": "stream",
     "text": [
      "train loss:1.4091126261014495\n"
     ]
    },
    {
     "name": "stderr",
     "output_type": "stream",
     "text": [
      "\n"
     ]
    }
   ],
   "source": [
    "step = 0\n",
    "OPTIMIZER = Adam(lr=1e-3)\n",
    "_TOTAL_STEPS = 100\n",
    "\n",
    "for event_type_batch, _ in tqdm(pretrain_G_dataset.take(_TOTAL_STEPS)):\n",
    "    step += 1\n",
    "    print('Training Step:', step)\n",
    "        \n",
    "    gen_ce_loss =  pretrain_generator(event_type_batch, pretrained_generator, verbose=True, optimizer=OPTIMIZER)                    \n",
    "    pretrain_gen_ce_loss_history.append(gen_ce_loss.numpy())"
   ]
  },
  {
   "cell_type": "code",
   "execution_count": 21,
   "id": "driven-patch",
   "metadata": {},
   "outputs": [],
   "source": [
    "if not os.path.exists(model_save_dir + '/pretrained_gen_weights'):\n",
    "    os.makedirs(model_save_dir + '/pretrained_gen_weights')\n",
    "\n",
    "G_save_path = model_save_dir + '/pretrained_gen_weights/model.tf'\n",
    "pretrained_generator.save_weights(G_save_path)"
   ]
  },
  {
   "cell_type": "code",
   "execution_count": 22,
   "id": "configured-resident",
   "metadata": {},
   "outputs": [
    {
     "name": "stdout",
     "output_type": "stream",
     "text": [
      "Model: \"model_2\"\n",
      "_________________________________________________________________\n",
      "Layer (type)                 Output Shape              Param #   \n",
      "=================================================================\n",
      "event_type (InputLayer)      [(256, None, 6)]          0         \n",
      "_________________________________________________________________\n",
      "dense_emb (Dense)            (256, None, 16)           112       \n",
      "_________________________________________________________________\n",
      "lstm (LSTM)                  (256, 16)                 2112      \n",
      "_________________________________________________________________\n",
      "dense_1 (Dense)              (256, 6)                  102       \n",
      "=================================================================\n",
      "Total params: 2,326\n",
      "Trainable params: 2,326\n",
      "Non-trainable params: 0\n",
      "_________________________________________________________________\n"
     ]
    }
   ],
   "source": [
    "reload_pretrained_gen = build_G(\n",
    "    batch_size = BATCH_SIZE,\n",
    "    event_vocab_dim = EVENT_VOCAB_DIM,\n",
    "    emb_dim = EMB_DIM,\n",
    "    hidden_dim= HIDDEN_DIM,\n",
    ")\n",
    "\n",
    "reload_pretrained_gen.build(input_shape=((BATCH_SIZE, T, 1)))\n",
    "reload_pretrained_gen.load_weights(G_save_path)\n",
    "reload_pretrained_gen.summary()"
   ]
  },
  {
   "cell_type": "markdown",
   "id": "controversial-major",
   "metadata": {},
   "source": [
    "## Gumbel Softmax"
   ]
  },
  {
   "cell_type": "code",
   "execution_count": 23,
   "id": "sudden-opening",
   "metadata": {},
   "outputs": [],
   "source": [
    "def sample_gumbel(shape, eps=1e-20): \n",
    "    U = tf.random.uniform(shape,minval=0,maxval=1)   #gumbel noise\n",
    "#     print('noise:{}'.format(U))\n",
    "    return -tf.math.log(-tf.math.log(U + eps) + eps)\n",
    "\n",
    "def gumbel_softmax_sample(logits, temperature=0.5): \n",
    "    y = logits + tf.cast(sample_gumbel(tf.shape(logits)), logits.dtype)\n",
    "    return tf.nn.softmax( y / temperature)  # use softmax to approximate argmax\n",
    "\n",
    "def gumbel_softmax(logits, temperature=0.5, hard=True):\n",
    "    \"\"\"Sample from the Gumbel-Softmax distribution and optionally discretize.\n",
    "    Args:\n",
    "    logits: [batch_size, n_class] unnormalized log-probs\n",
    "    temperature: non-negative scalar\n",
    "    hard: if True, take argmax, but differentiate w.r.t. soft sample y\n",
    "    Returns:\n",
    "    [batch_size, n_class] sample from the Gumbel-Softmax distribution.\n",
    "    If hard=True, then the returned sample will be one-hot, otherwise it will\n",
    "    be a probabilitiy distribution that sums to 1 across classes\n",
    "    \"\"\"\n",
    "    logits = tf.cast(logits, tf.float64)\n",
    "    y = gumbel_softmax_sample(logits, temperature) # this is differentiable\n",
    "    if hard:\n",
    "        k = tf.shape(logits)[-1]\n",
    "        #y_hard = tf.cast(tf.one_hot(tf.argmax(y,1),k), y.dtype)\n",
    "        y_hard = tf.cast(tf.equal(y,tf.reduce_max(y,1,keepdims=True)),y.dtype)\n",
    "        y = tf.stop_gradient(y_hard - y) + y\n",
    "    return y\n"
   ]
  },
  {
   "cell_type": "code",
   "execution_count": 27,
   "id": "corrected-portfolio",
   "metadata": {},
   "outputs": [],
   "source": [
    "def rollout_from_prefix_gumbel(\n",
    "        G, batch_size, prefix, L=T, end_token=0, init_token=1):\n",
    "    # Begin from dummy init state (init_token=1, init_timestamp=0.0)\n",
    "    all_state_et = prefix\n",
    "    l_prefix = prefix.shape[1]\n",
    "    \n",
    "    G.reset_states()\n",
    "\n",
    "    for _ in range(L-l_prefix):  # sequence length\n",
    "        curr_state_et = all_state_et[:, -1:, :]\n",
    "        token_logits = G(curr_state_et)\n",
    "        \n",
    "        sampled_et = gumbel_softmax(token_logits)  # this is differentiable\n",
    "        sampled_et = tf.reshape(sampled_et, [batch_size, 1, EVENT_VOCAB_DIM])\n",
    "\n",
    "        # cast sampled_et into float\n",
    "        sampled_et = tf.cast(sampled_et, dtype=tf.float64)\n",
    "        \n",
    "        # Do NOT stop genererating once hit end_token\n",
    "        all_state_et = tf.concat([all_state_et, sampled_et], axis=1)\n",
    "\n",
    "    return all_state_et\n",
    "\n",
    "\n",
    "def generate_sequences_gumbel(N_gen, generator, batch_size, T):\n",
    "    \"\"\"\n",
    "        Generate sequences batch per batch\n",
    "    :param N_gen: total number of seqs to be generated\n",
    "    :param generator:\n",
    "    :param batch_size:\n",
    "    :param T:\n",
    "    :return: a python list of shape [N_gen, T, 1]\n",
    "    \"\"\"\n",
    "    N = 0\n",
    "    all_type_seq = None\n",
    "    init_index = tf.ones([batch_size, 1, 1], dtype=tf.int32)\n",
    "    init_prefix = tf.squeeze(tf.one_hot(init_index, EVENT_VOCAB_DIM, axis=2, dtype=tf.float64), axis=3)\n",
    "        \n",
    "    while N < N_gen:\n",
    "        batch_state_et = rollout_from_prefix_gumbel(generator, batch_size, init_prefix, T)\n",
    "\n",
    "        if all_type_seq is None:\n",
    "            all_type_seq = batch_state_et\n",
    "        else:\n",
    "            all_type_seq = tf.concat([all_type_seq, batch_state_et], axis=0)\n",
    "\n",
    "        N += batch_size\n",
    "\n",
    "    all_type_seq = all_type_seq[:N_gen, :, :]\n",
    "\n",
    "    return all_type_seq"
   ]
  },
  {
   "cell_type": "markdown",
   "id": "legendary-container",
   "metadata": {},
   "source": [
    "### pre-train D"
   ]
  },
  {
   "cell_type": "code",
   "execution_count": 28,
   "id": "shaped-victoria",
   "metadata": {},
   "outputs": [],
   "source": [
    "N_fake_D = N_real_D = N_total_G // 2"
   ]
  },
  {
   "cell_type": "code",
   "execution_count": 29,
   "id": "discrete-trauma",
   "metadata": {},
   "outputs": [],
   "source": [
    "# generate fake data by G to pre-train D\n",
    "fake_pos_event_type_seqs = generate_sequences_gumbel(N_fake_D, pretrained_generator, BATCH_SIZE, T)\n"
   ]
  },
  {
   "cell_type": "code",
   "execution_count": 37,
   "id": "korean-recipe",
   "metadata": {},
   "outputs": [],
   "source": [
    "# generate fake data by G to pre-train D\n",
    "real_pos_event_type_seqs = pos_event_type_seqs[0:N_real_D, :, :]"
   ]
  },
  {
   "cell_type": "code",
   "execution_count": 38,
   "id": "outstanding-burke",
   "metadata": {},
   "outputs": [],
   "source": [
    "N_total_D = N_fake_D + N_real_D\n",
    "\n",
    "pretrain_D_et = tf.concat([fake_pos_event_type_seqs, real_pos_event_type_seqs], axis=0)\n",
    "pretrain_D_labels = tf.concat([np.zeros((N_fake_D, 1)), np.ones((N_real_D, 1))], axis=0)\n",
    "\n",
    "EPOCHS = 1\n",
    "_TOTAL_STEPS = int(EPOCHS * N_total_D / BATCH_SIZE)\n",
    "\n",
    "pretrain_D_dataset = create_dataset(pretrain_D_et,\n",
    "                                    pretrain_D_labels,\n",
    "                                    batch_size=BATCH_SIZE,\n",
    "                                    epochs=EPOCHS,\n",
    "                                    buffer_size=N_total_D) # shuffle the entire Dataset"
   ]
  },
  {
   "cell_type": "code",
   "execution_count": 39,
   "id": "direct-desire",
   "metadata": {},
   "outputs": [],
   "source": [
    "pretrain_disc_token_loss_history = []\n",
    "\n",
    "pretrained_discriminator = build_D_RNN(batch_size=BATCH_SIZE,\n",
    "                                   T=T,\n",
    "                                   event_vocab_dim=EVENT_VOCAB_DIM,\n",
    "                                   emb_dim=EMB_DIM,\n",
    "                                   dropout_rate=0.25)"
   ]
  },
  {
   "cell_type": "code",
   "execution_count": 40,
   "id": "external-extent",
   "metadata": {
    "scrolled": true
   },
   "outputs": [
    {
     "name": "stderr",
     "output_type": "stream",
     "text": [
      "1it [00:00,  3.25it/s]"
     ]
    },
    {
     "name": "stdout",
     "output_type": "stream",
     "text": [
      "Training Step: 1\n",
      "total discriminator loss:0.6928967350561195\n",
      "Training Step: 2\n",
      "total discriminator loss:0.6884425197765501\n",
      "Training Step: 3\n",
      "total discriminator loss:0.6949140237235838\n"
     ]
    },
    {
     "name": "stderr",
     "output_type": "stream",
     "text": [
      "5it [00:00, 10.26it/s]"
     ]
    },
    {
     "name": "stdout",
     "output_type": "stream",
     "text": [
      "Training Step: 4\n",
      "total discriminator loss:0.6906237376806184\n",
      "Training Step: 5\n",
      "total discriminator loss:0.6981278546050558\n",
      "Training Step: 6\n",
      "total discriminator loss:0.6922447337281716\n",
      "Training Step: 7\n"
     ]
    },
    {
     "name": "stderr",
     "output_type": "stream",
     "text": [
      "9it [00:00, 12.84it/s]"
     ]
    },
    {
     "name": "stdout",
     "output_type": "stream",
     "text": [
      "total discriminator loss:0.6904591188665196\n",
      "Training Step: 8\n",
      "total discriminator loss:0.6939941110921144\n",
      "Training Step: 9\n",
      "total discriminator loss:0.6938661256553698\n",
      "Training Step: 10\n"
     ]
    },
    {
     "name": "stderr",
     "output_type": "stream",
     "text": [
      "\r",
      "11it [00:00, 13.45it/s]"
     ]
    },
    {
     "name": "stdout",
     "output_type": "stream",
     "text": [
      "total discriminator loss:0.6971305138204916\n",
      "Training Step: 11\n",
      "total discriminator loss:0.691365304112113\n",
      "Training Step: 12\n",
      "total discriminator loss:0.6928631416437373\n",
      "Training Step: 13\n"
     ]
    },
    {
     "name": "stderr",
     "output_type": "stream",
     "text": [
      "15it [00:01, 13.76it/s]"
     ]
    },
    {
     "name": "stdout",
     "output_type": "stream",
     "text": [
      "total discriminator loss:0.697246286988279\n",
      "Training Step: 14\n",
      "total discriminator loss:0.693628453402676\n",
      "Training Step: 15\n",
      "total discriminator loss:0.6954111009998142\n",
      "Training Step: 16\n"
     ]
    },
    {
     "name": "stderr",
     "output_type": "stream",
     "text": [
      "\r",
      "17it [00:01, 13.98it/s]"
     ]
    },
    {
     "name": "stdout",
     "output_type": "stream",
     "text": [
      "total discriminator loss:0.6917372376800626\n",
      "Training Step: 17\n",
      "total discriminator loss:0.6914138757291362\n",
      "Training Step: 18\n",
      "total discriminator loss:0.6905630906408597\n",
      "Training Step: 19\n"
     ]
    },
    {
     "name": "stderr",
     "output_type": "stream",
     "text": [
      "21it [00:01, 13.83it/s]"
     ]
    },
    {
     "name": "stdout",
     "output_type": "stream",
     "text": [
      "total discriminator loss:0.6929367719557704\n",
      "Training Step: 20\n",
      "total discriminator loss:0.6914490823791133\n",
      "Training Step: 21\n",
      "total discriminator loss:0.6886432451862748\n",
      "Training Step: 22\n"
     ]
    },
    {
     "name": "stderr",
     "output_type": "stream",
     "text": [
      "\r",
      "23it [00:01, 13.94it/s]"
     ]
    },
    {
     "name": "stdout",
     "output_type": "stream",
     "text": [
      "total discriminator loss:0.695815843438044\n",
      "Training Step: 23\n",
      "total discriminator loss:0.6951038860464274\n",
      "Training Step: 24\n",
      "total discriminator loss:0.6959613743782933\n",
      "Training Step: 25\n"
     ]
    },
    {
     "name": "stderr",
     "output_type": "stream",
     "text": [
      "27it [00:02, 13.99it/s]"
     ]
    },
    {
     "name": "stdout",
     "output_type": "stream",
     "text": [
      "total discriminator loss:0.690931635327809\n",
      "Training Step: 26\n",
      "total discriminator loss:0.6949893465554058\n",
      "Training Step: 27\n",
      "total discriminator loss:0.6935745699868225\n",
      "Training Step: 28\n"
     ]
    },
    {
     "name": "stderr",
     "output_type": "stream",
     "text": [
      "\r",
      "29it [00:02, 14.04it/s]"
     ]
    },
    {
     "name": "stdout",
     "output_type": "stream",
     "text": [
      "total discriminator loss:0.6932976493145508\n",
      "Training Step: 29\n",
      "total discriminator loss:0.6929356437312919\n",
      "Training Step: 30\n",
      "total discriminator loss:0.691928533415259\n",
      "Training Step: 31\n"
     ]
    },
    {
     "name": "stderr",
     "output_type": "stream",
     "text": [
      "33it [00:02, 14.38it/s]"
     ]
    },
    {
     "name": "stdout",
     "output_type": "stream",
     "text": [
      "total discriminator loss:0.6920027224663778\n",
      "Training Step: 32\n",
      "total discriminator loss:0.6915404264088751\n",
      "Training Step: 33\n",
      "total discriminator loss:0.693206855161849\n",
      "Training Step: 34\n"
     ]
    },
    {
     "name": "stderr",
     "output_type": "stream",
     "text": [
      "\r",
      "35it [00:02, 14.44it/s]"
     ]
    },
    {
     "name": "stdout",
     "output_type": "stream",
     "text": [
      "total discriminator loss:0.6920478605585307\n",
      "Training Step: 35\n",
      "total discriminator loss:0.6919111204163788\n",
      "Training Step: 36\n",
      "total discriminator loss:0.6919641532626442\n",
      "Training Step: 37\n"
     ]
    },
    {
     "name": "stderr",
     "output_type": "stream",
     "text": [
      "39it [00:02, 14.56it/s]"
     ]
    },
    {
     "name": "stdout",
     "output_type": "stream",
     "text": [
      "total discriminator loss:0.6905270440827429\n",
      "Training Step: 38\n",
      "total discriminator loss:0.6934697488871511\n",
      "Training Step: 39\n",
      "total discriminator loss:0.6914085782938183\n",
      "Training Step: 40\n"
     ]
    },
    {
     "name": "stderr",
     "output_type": "stream",
     "text": [
      "\r",
      "41it [00:03, 13.57it/s]"
     ]
    },
    {
     "name": "stdout",
     "output_type": "stream",
     "text": [
      "total discriminator loss:0.6921793134756622\n",
      "Training Step: 41\n",
      "total discriminator loss:0.6926887632430392\n",
      "Training Step: 42\n",
      "total discriminator loss:0.6927252716882915\n",
      "Training Step: 43\n"
     ]
    },
    {
     "name": "stderr",
     "output_type": "stream",
     "text": [
      "45it [00:03, 14.30it/s]"
     ]
    },
    {
     "name": "stdout",
     "output_type": "stream",
     "text": [
      "total discriminator loss:0.6921797749349105\n",
      "Training Step: 44\n",
      "total discriminator loss:0.692299445389835\n",
      "Training Step: 45\n",
      "total discriminator loss:0.6925071442193452\n",
      "Training Step: 46\n",
      "total discriminator loss:0.69333150979826\n"
     ]
    },
    {
     "name": "stderr",
     "output_type": "stream",
     "text": [
      "\r",
      "47it [00:03, 14.68it/s]"
     ]
    },
    {
     "name": "stdout",
     "output_type": "stream",
     "text": [
      "Training Step: 47\n",
      "total discriminator loss:0.6933552457492634\n",
      "Training Step: 48\n",
      "total discriminator loss:0.691995411824827\n",
      "Training Step: 49\n",
      "total discriminator loss:0.6920765307718748\n"
     ]
    },
    {
     "name": "stderr",
     "output_type": "stream",
     "text": [
      "51it [00:03, 15.03it/s]"
     ]
    },
    {
     "name": "stdout",
     "output_type": "stream",
     "text": [
      "Training Step: 50\n",
      "total discriminator loss:0.693386220515203\n",
      "Training Step: 51\n",
      "total discriminator loss:0.6920195716782801\n",
      "Training Step: 52\n",
      "total discriminator loss:0.6926549075606294\n",
      "Training Step: 53\n"
     ]
    },
    {
     "name": "stderr",
     "output_type": "stream",
     "text": [
      "55it [00:04, 14.36it/s]"
     ]
    },
    {
     "name": "stdout",
     "output_type": "stream",
     "text": [
      "total discriminator loss:0.6924402919852232\n",
      "Training Step: 54\n",
      "total discriminator loss:0.69238014229393\n",
      "Training Step: 55\n",
      "total discriminator loss:0.6916998995908934\n",
      "Training Step: 56\n"
     ]
    },
    {
     "name": "stderr",
     "output_type": "stream",
     "text": [
      "\r",
      "57it [00:04, 13.41it/s]"
     ]
    },
    {
     "name": "stdout",
     "output_type": "stream",
     "text": [
      "total discriminator loss:0.690770833899725\n",
      "Training Step: 57\n",
      "total discriminator loss:0.6906764585096364\n",
      "Training Step: 58\n",
      "total discriminator loss:0.691249189351383\n"
     ]
    },
    {
     "name": "stderr",
     "output_type": "stream",
     "text": [
      "\r",
      "59it [00:04, 13.45it/s]"
     ]
    },
    {
     "name": "stdout",
     "output_type": "stream",
     "text": [
      "Training Step: 59\n",
      "total discriminator loss:0.6898511395418819\n",
      "Training Step: 60\n",
      "total discriminator loss:0.6921131760300024\n",
      "Training Step: 61\n",
      "total discriminator loss:0.6914179424611903\n"
     ]
    },
    {
     "name": "stderr",
     "output_type": "stream",
     "text": [
      "63it [00:04, 13.26it/s]"
     ]
    },
    {
     "name": "stdout",
     "output_type": "stream",
     "text": [
      "Training Step: 62\n",
      "total discriminator loss:0.6928375618348965\n",
      "Training Step: 63\n",
      "total discriminator loss:0.6889815983202948\n",
      "Training Step: 64\n",
      "total discriminator loss:0.6902589488852505\n"
     ]
    },
    {
     "name": "stderr",
     "output_type": "stream",
     "text": [
      "\r",
      "65it [00:04, 13.29it/s]"
     ]
    },
    {
     "name": "stdout",
     "output_type": "stream",
     "text": [
      "Training Step: 65\n",
      "total discriminator loss:0.6891372366310909\n",
      "Training Step: 66\n",
      "total discriminator loss:0.6937371772399634\n",
      "Training Step: 67\n",
      "total discriminator loss:0.6911330579132172\n"
     ]
    },
    {
     "name": "stderr",
     "output_type": "stream",
     "text": [
      "69it [00:05, 13.47it/s]"
     ]
    },
    {
     "name": "stdout",
     "output_type": "stream",
     "text": [
      "Training Step: 68\n",
      "total discriminator loss:0.6916850096494509\n",
      "Training Step: 69\n",
      "total discriminator loss:0.688631791041693\n",
      "Training Step: 70\n",
      "total discriminator loss:0.6883439783367407\n"
     ]
    },
    {
     "name": "stderr",
     "output_type": "stream",
     "text": [
      "\r",
      "71it [00:05, 13.33it/s]"
     ]
    },
    {
     "name": "stdout",
     "output_type": "stream",
     "text": [
      "Training Step: 71\n",
      "total discriminator loss:0.691906323443501\n",
      "Training Step: 72\n",
      "total discriminator loss:0.6942114335788263\n",
      "Training Step: 73\n",
      "total discriminator loss:0.6895358411295082\n"
     ]
    },
    {
     "name": "stderr",
     "output_type": "stream",
     "text": [
      "75it [00:05, 13.38it/s]"
     ]
    },
    {
     "name": "stdout",
     "output_type": "stream",
     "text": [
      "Training Step: 74\n",
      "total discriminator loss:0.690495735298791\n",
      "Training Step: 75\n",
      "total discriminator loss:0.6894934497004195\n",
      "Training Step: 76\n",
      "total discriminator loss:0.690061901513778\n"
     ]
    },
    {
     "name": "stderr",
     "output_type": "stream",
     "text": [
      "\r",
      "77it [00:05, 13.32it/s]"
     ]
    },
    {
     "name": "stdout",
     "output_type": "stream",
     "text": [
      "Training Step: 77\n",
      "total discriminator loss:0.6875695659632195\n",
      "Training Step: 78\n",
      "total discriminator loss:0.6867017381125355\n",
      "Training Step: 79\n",
      "total discriminator loss:0.6880893241482101\n"
     ]
    },
    {
     "name": "stderr",
     "output_type": "stream",
     "text": [
      "81it [00:06, 13.18it/s]"
     ]
    },
    {
     "name": "stdout",
     "output_type": "stream",
     "text": [
      "Training Step: 80\n",
      "total discriminator loss:0.6867424206258962\n",
      "Training Step: 81\n",
      "total discriminator loss:0.6904004757113664\n",
      "Training Step: 82\n",
      "total discriminator loss:0.6891507156963265\n"
     ]
    },
    {
     "name": "stderr",
     "output_type": "stream",
     "text": [
      "\r",
      "83it [00:06, 13.19it/s]"
     ]
    },
    {
     "name": "stdout",
     "output_type": "stream",
     "text": [
      "Training Step: 83\n",
      "total discriminator loss:0.6935590095081028\n",
      "Training Step: 84\n",
      "total discriminator loss:0.688761084144949\n",
      "Training Step: 85\n",
      "total discriminator loss:0.6864232450072512\n"
     ]
    },
    {
     "name": "stderr",
     "output_type": "stream",
     "text": [
      "87it [00:06, 13.23it/s]"
     ]
    },
    {
     "name": "stdout",
     "output_type": "stream",
     "text": [
      "Training Step: 86\n",
      "total discriminator loss:0.6885837728967806\n",
      "Training Step: 87\n",
      "total discriminator loss:0.6870546442217582\n",
      "Training Step: 88\n",
      "total discriminator loss:0.6893682201894755\n"
     ]
    },
    {
     "name": "stderr",
     "output_type": "stream",
     "text": [
      "\r",
      "89it [00:06, 13.05it/s]"
     ]
    },
    {
     "name": "stdout",
     "output_type": "stream",
     "text": [
      "Training Step: 89\n",
      "total discriminator loss:0.6863893393205927\n",
      "Training Step: 90\n",
      "total discriminator loss:0.6907667461631333\n",
      "Training Step: 91\n",
      "total discriminator loss:0.6830964461013161\n"
     ]
    },
    {
     "name": "stderr",
     "output_type": "stream",
     "text": [
      "93it [00:06, 12.95it/s]"
     ]
    },
    {
     "name": "stdout",
     "output_type": "stream",
     "text": [
      "Training Step: 92\n",
      "total discriminator loss:0.6867407055072029\n",
      "Training Step: 93\n",
      "total discriminator loss:0.6745909161118904\n",
      "Training Step: 94\n",
      "total discriminator loss:0.6863086023729794\n"
     ]
    },
    {
     "name": "stderr",
     "output_type": "stream",
     "text": [
      "\r",
      "95it [00:07, 13.05it/s]"
     ]
    },
    {
     "name": "stdout",
     "output_type": "stream",
     "text": [
      "Training Step: 95\n",
      "total discriminator loss:0.6852109443896813\n",
      "Training Step: 96\n",
      "total discriminator loss:0.6895009859089882\n",
      "Training Step: 97\n",
      "total discriminator loss:0.6790562861714111\n"
     ]
    },
    {
     "name": "stderr",
     "output_type": "stream",
     "text": [
      "99it [00:07, 13.28it/s]"
     ]
    },
    {
     "name": "stdout",
     "output_type": "stream",
     "text": [
      "Training Step: 98\n",
      "total discriminator loss:0.6776159204450771\n",
      "Training Step: 99\n",
      "total discriminator loss:0.6805815455917484\n",
      "Training Step: 100\n",
      "total discriminator loss:0.6754383589031673\n"
     ]
    },
    {
     "name": "stderr",
     "output_type": "stream",
     "text": [
      "\r",
      "101it [00:07, 13.16it/s]"
     ]
    },
    {
     "name": "stdout",
     "output_type": "stream",
     "text": [
      "Training Step: 101\n",
      "total discriminator loss:0.6723803702468648\n",
      "Training Step: 102\n",
      "total discriminator loss:0.6834650165228147\n",
      "Training Step: 103\n",
      "total discriminator loss:0.7131527489655343\n"
     ]
    },
    {
     "name": "stderr",
     "output_type": "stream",
     "text": [
      "105it [00:07, 12.88it/s]"
     ]
    },
    {
     "name": "stdout",
     "output_type": "stream",
     "text": [
      "Training Step: 104\n",
      "total discriminator loss:0.7848324746758393\n",
      "Training Step: 105\n",
      "total discriminator loss:0.7755297771925258\n",
      "Training Step: 106\n",
      "total discriminator loss:0.7781091489624155\n"
     ]
    },
    {
     "name": "stderr",
     "output_type": "stream",
     "text": [
      "\r",
      "107it [00:08, 13.34it/s]"
     ]
    },
    {
     "name": "stdout",
     "output_type": "stream",
     "text": [
      "Training Step: 107\n",
      "total discriminator loss:0.7063599468851043\n",
      "Training Step: 108\n",
      "total discriminator loss:0.7230951381158723\n",
      "Training Step: 109\n",
      "total discriminator loss:0.7163832880171837\n"
     ]
    },
    {
     "name": "stderr",
     "output_type": "stream",
     "text": [
      "111it [00:08, 13.77it/s]"
     ]
    },
    {
     "name": "stdout",
     "output_type": "stream",
     "text": [
      "Training Step: 110\n",
      "total discriminator loss:0.6853315746737827\n",
      "Training Step: 111\n",
      "total discriminator loss:0.6805153600078422\n",
      "Training Step: 112\n",
      "total discriminator loss:0.6811121743099204\n"
     ]
    },
    {
     "name": "stderr",
     "output_type": "stream",
     "text": [
      "\r",
      "113it [00:08, 13.53it/s]"
     ]
    },
    {
     "name": "stdout",
     "output_type": "stream",
     "text": [
      "Training Step: 113\n",
      "total discriminator loss:0.6991000052362708\n",
      "Training Step: 114\n",
      "total discriminator loss:0.6924885725705284\n",
      "Training Step: 115\n",
      "total discriminator loss:0.6792769695674089\n"
     ]
    },
    {
     "name": "stderr",
     "output_type": "stream",
     "text": [
      "117it [00:08, 13.41it/s]"
     ]
    },
    {
     "name": "stdout",
     "output_type": "stream",
     "text": [
      "Training Step: 116\n",
      "total discriminator loss:0.6927917033177533\n",
      "Training Step: 117\n",
      "total discriminator loss:0.6933555992748308\n",
      "Training Step: 118\n",
      "total discriminator loss:0.6905712029572582\n"
     ]
    },
    {
     "name": "stderr",
     "output_type": "stream",
     "text": [
      "\r",
      "119it [00:08, 13.38it/s]"
     ]
    },
    {
     "name": "stdout",
     "output_type": "stream",
     "text": [
      "Training Step: 119\n",
      "total discriminator loss:0.6870777768313447\n",
      "Training Step: 120\n",
      "total discriminator loss:0.6998669178741025\n",
      "Training Step: 121\n",
      "total discriminator loss:0.6803984649092064\n"
     ]
    },
    {
     "name": "stderr",
     "output_type": "stream",
     "text": [
      "123it [00:09, 13.21it/s]"
     ]
    },
    {
     "name": "stdout",
     "output_type": "stream",
     "text": [
      "Training Step: 122\n",
      "total discriminator loss:0.7028615111349229\n",
      "Training Step: 123\n",
      "total discriminator loss:0.6833516955593142\n",
      "Training Step: 124\n",
      "total discriminator loss:0.6857975168988448\n"
     ]
    },
    {
     "name": "stderr",
     "output_type": "stream",
     "text": [
      "\r",
      "125it [00:09, 13.33it/s]"
     ]
    },
    {
     "name": "stdout",
     "output_type": "stream",
     "text": [
      "Training Step: 125\n",
      "total discriminator loss:0.6935585923194441\n",
      "Training Step: 126\n",
      "total discriminator loss:0.6795542016421595\n",
      "Training Step: 127\n",
      "total discriminator loss:0.6868056383335421\n"
     ]
    },
    {
     "name": "stderr",
     "output_type": "stream",
     "text": [
      "129it [00:09, 13.00it/s]"
     ]
    },
    {
     "name": "stdout",
     "output_type": "stream",
     "text": [
      "Training Step: 128\n",
      "total discriminator loss:0.6845878465958971\n",
      "Training Step: 129\n",
      "total discriminator loss:0.6888140663612511\n",
      "Training Step: 130\n",
      "total discriminator loss:0.6861677969474731\n"
     ]
    },
    {
     "name": "stderr",
     "output_type": "stream",
     "text": [
      "\r",
      "131it [00:09, 13.23it/s]"
     ]
    },
    {
     "name": "stdout",
     "output_type": "stream",
     "text": [
      "Training Step: 131\n",
      "total discriminator loss:0.6861725461467211\n",
      "Training Step: 132\n",
      "total discriminator loss:0.684435106365751\n",
      "Training Step: 133\n",
      "total discriminator loss:0.6808827881695292\n"
     ]
    },
    {
     "name": "stderr",
     "output_type": "stream",
     "text": [
      "135it [00:10, 13.10it/s]"
     ]
    },
    {
     "name": "stdout",
     "output_type": "stream",
     "text": [
      "Training Step: 134\n",
      "total discriminator loss:0.6818712414548354\n",
      "Training Step: 135\n",
      "total discriminator loss:0.6837247970246311\n",
      "Training Step: 136\n",
      "total discriminator loss:0.6809103709780723\n"
     ]
    },
    {
     "name": "stderr",
     "output_type": "stream",
     "text": [
      "\r",
      "137it [00:10, 13.34it/s]"
     ]
    },
    {
     "name": "stdout",
     "output_type": "stream",
     "text": [
      "Training Step: 137\n",
      "total discriminator loss:0.6824505820291032\n",
      "Training Step: 138\n",
      "total discriminator loss:0.683738704476759\n",
      "Training Step: 139\n",
      "total discriminator loss:0.6861051159016169\n"
     ]
    },
    {
     "name": "stderr",
     "output_type": "stream",
     "text": [
      "141it [00:10, 13.09it/s]"
     ]
    },
    {
     "name": "stdout",
     "output_type": "stream",
     "text": [
      "Training Step: 140\n",
      "total discriminator loss:0.6811382427532582\n",
      "Training Step: 141\n",
      "total discriminator loss:0.6798806196155022\n",
      "Training Step: 142\n"
     ]
    },
    {
     "name": "stderr",
     "output_type": "stream",
     "text": [
      "\r",
      "143it [00:10, 13.10it/s]"
     ]
    },
    {
     "name": "stdout",
     "output_type": "stream",
     "text": [
      "total discriminator loss:0.6789148751256865\n",
      "Training Step: 143\n",
      "total discriminator loss:0.6852647806220182\n",
      "Training Step: 144\n",
      "total discriminator loss:0.6796953853275386\n",
      "Training Step: 145\n"
     ]
    },
    {
     "name": "stderr",
     "output_type": "stream",
     "text": [
      "147it [00:11, 13.10it/s]"
     ]
    },
    {
     "name": "stdout",
     "output_type": "stream",
     "text": [
      "total discriminator loss:0.678899451325826\n",
      "Training Step: 146\n",
      "total discriminator loss:0.6818593836862114\n",
      "Training Step: 147\n",
      "total discriminator loss:0.6828576739445913\n",
      "Training Step: 148\n"
     ]
    },
    {
     "name": "stderr",
     "output_type": "stream",
     "text": [
      "\r",
      "149it [00:11, 13.24it/s]"
     ]
    },
    {
     "name": "stdout",
     "output_type": "stream",
     "text": [
      "total discriminator loss:0.6776154909019102\n",
      "Training Step: 149\n",
      "total discriminator loss:0.682778045489679\n",
      "Training Step: 150\n",
      "total discriminator loss:0.6778887189175388\n",
      "Training Step: 151\n"
     ]
    },
    {
     "name": "stderr",
     "output_type": "stream",
     "text": [
      "153it [00:11, 13.90it/s]"
     ]
    },
    {
     "name": "stdout",
     "output_type": "stream",
     "text": [
      "total discriminator loss:0.678883817974665\n",
      "Training Step: 152\n",
      "total discriminator loss:0.6795388082093998\n",
      "Training Step: 153\n",
      "total discriminator loss:0.673825843915651\n",
      "Training Step: 154\n"
     ]
    },
    {
     "name": "stderr",
     "output_type": "stream",
     "text": [
      "\r",
      "155it [00:11, 13.57it/s]"
     ]
    },
    {
     "name": "stdout",
     "output_type": "stream",
     "text": [
      "total discriminator loss:0.6797982126111519\n",
      "Training Step: 155\n",
      "total discriminator loss:0.6746386939355611\n",
      "Training Step: 156\n",
      "total discriminator loss:0.6724480331688291\n",
      "Training Step: 157\n"
     ]
    },
    {
     "name": "stderr",
     "output_type": "stream",
     "text": [
      "159it [00:11, 13.66it/s]"
     ]
    },
    {
     "name": "stdout",
     "output_type": "stream",
     "text": [
      "total discriminator loss:0.6801148370575373\n",
      "Training Step: 158\n",
      "total discriminator loss:0.6746797281819976\n",
      "Training Step: 159\n",
      "total discriminator loss:0.6782386441447625\n",
      "Training Step: 160\n"
     ]
    },
    {
     "name": "stderr",
     "output_type": "stream",
     "text": [
      "\r",
      "161it [00:12, 13.57it/s]"
     ]
    },
    {
     "name": "stdout",
     "output_type": "stream",
     "text": [
      "total discriminator loss:0.6748690889735924\n",
      "Training Step: 161\n",
      "total discriminator loss:0.6750169307727413\n",
      "Training Step: 162\n",
      "total discriminator loss:0.6707269059580099\n",
      "Training Step: 163\n"
     ]
    },
    {
     "name": "stderr",
     "output_type": "stream",
     "text": [
      "\r",
      "163it [00:12, 13.27it/s]"
     ]
    },
    {
     "name": "stdout",
     "output_type": "stream",
     "text": [
      "total discriminator loss:0.6738089137267469\n",
      "Training Step: 164\n",
      "total discriminator loss:0.6641578554304705\n",
      "Training Step: 165\n",
      "total discriminator loss:0.6620712385858551\n"
     ]
    },
    {
     "name": "stderr",
     "output_type": "stream",
     "text": [
      "167it [00:12, 13.04it/s]"
     ]
    },
    {
     "name": "stdout",
     "output_type": "stream",
     "text": [
      "Training Step: 166\n",
      "total discriminator loss:0.6740206881734139\n",
      "Training Step: 167\n",
      "total discriminator loss:0.6704022236510958\n",
      "Training Step: 168\n",
      "total discriminator loss:0.6693963189654567\n"
     ]
    },
    {
     "name": "stderr",
     "output_type": "stream",
     "text": [
      "\r",
      "169it [00:12, 13.14it/s]"
     ]
    },
    {
     "name": "stdout",
     "output_type": "stream",
     "text": [
      "Training Step: 169\n",
      "total discriminator loss:0.6574973961031284\n",
      "Training Step: 170\n",
      "total discriminator loss:0.6626940332331108\n",
      "Training Step: 171\n",
      "total discriminator loss:0.6761574711839065\n"
     ]
    },
    {
     "name": "stderr",
     "output_type": "stream",
     "text": [
      "173it [00:12, 13.04it/s]"
     ]
    },
    {
     "name": "stdout",
     "output_type": "stream",
     "text": [
      "Training Step: 172\n",
      "total discriminator loss:0.6796957700373462\n",
      "Training Step: 173\n",
      "total discriminator loss:0.6745484520855574\n",
      "Training Step: 174\n",
      "total discriminator loss:0.6715082766071175\n"
     ]
    },
    {
     "name": "stderr",
     "output_type": "stream",
     "text": [
      "\r",
      "175it [00:13, 13.01it/s]"
     ]
    },
    {
     "name": "stdout",
     "output_type": "stream",
     "text": [
      "Training Step: 175\n",
      "total discriminator loss:0.6625752639241007\n",
      "Training Step: 176\n",
      "total discriminator loss:0.6816696911678819\n",
      "Training Step: 177\n",
      "total discriminator loss:0.6642935359445418\n"
     ]
    },
    {
     "name": "stderr",
     "output_type": "stream",
     "text": [
      "179it [00:13, 13.08it/s]"
     ]
    },
    {
     "name": "stdout",
     "output_type": "stream",
     "text": [
      "Training Step: 178\n",
      "total discriminator loss:0.6987113078687828\n",
      "Training Step: 179\n",
      "total discriminator loss:0.6642839675486016\n",
      "Training Step: 180\n",
      "total discriminator loss:0.7017815068709043\n"
     ]
    },
    {
     "name": "stderr",
     "output_type": "stream",
     "text": [
      "\r",
      "181it [00:13, 13.18it/s]"
     ]
    },
    {
     "name": "stdout",
     "output_type": "stream",
     "text": [
      "Training Step: 181\n",
      "total discriminator loss:0.6743431066512382\n",
      "Training Step: 182\n",
      "total discriminator loss:0.6585743783371043\n",
      "Training Step: 183\n",
      "total discriminator loss:0.6661119948617661\n"
     ]
    },
    {
     "name": "stderr",
     "output_type": "stream",
     "text": [
      "185it [00:13, 13.14it/s]"
     ]
    },
    {
     "name": "stdout",
     "output_type": "stream",
     "text": [
      "Training Step: 184\n",
      "total discriminator loss:0.6320548362708703\n",
      "Training Step: 185\n",
      "total discriminator loss:0.6684931192334793\n",
      "Training Step: 186\n",
      "total discriminator loss:0.6808043445393397\n"
     ]
    },
    {
     "name": "stderr",
     "output_type": "stream",
     "text": [
      "\r",
      "187it [00:14, 13.00it/s]"
     ]
    },
    {
     "name": "stdout",
     "output_type": "stream",
     "text": [
      "Training Step: 187\n",
      "total discriminator loss:0.6641366031616431\n",
      "Training Step: 188\n",
      "total discriminator loss:0.6809809891369957\n",
      "Training Step: 189\n"
     ]
    },
    {
     "name": "stderr",
     "output_type": "stream",
     "text": [
      "191it [00:14, 12.88it/s]"
     ]
    },
    {
     "name": "stdout",
     "output_type": "stream",
     "text": [
      "total discriminator loss:0.6901858932381225\n",
      "Training Step: 190\n",
      "total discriminator loss:0.6826384793008776\n",
      "Training Step: 191\n",
      "total discriminator loss:0.6936690124057455\n",
      "Training Step: 192\n"
     ]
    },
    {
     "name": "stderr",
     "output_type": "stream",
     "text": [
      "\r",
      "193it [00:14, 12.88it/s]"
     ]
    },
    {
     "name": "stdout",
     "output_type": "stream",
     "text": [
      "total discriminator loss:0.6909140126439376\n",
      "Training Step: 193\n",
      "total discriminator loss:0.6703578785604981\n",
      "Training Step: 194\n",
      "total discriminator loss:0.6593243944134336\n",
      "Training Step: 195\n"
     ]
    },
    {
     "name": "stderr",
     "output_type": "stream",
     "text": [
      "197it [00:14, 12.83it/s]"
     ]
    },
    {
     "name": "stdout",
     "output_type": "stream",
     "text": [
      "total discriminator loss:0.6615561941143189\n",
      "Training Step: 196\n",
      "total discriminator loss:0.6438846727236683\n",
      "Training Step: 197\n",
      "total discriminator loss:0.6538745369292365\n",
      "Training Step: 198\n"
     ]
    },
    {
     "name": "stderr",
     "output_type": "stream",
     "text": [
      "\r",
      "199it [00:15, 12.68it/s]"
     ]
    },
    {
     "name": "stdout",
     "output_type": "stream",
     "text": [
      "total discriminator loss:0.6723641354278062\n",
      "Training Step: 199\n",
      "total discriminator loss:0.660342732473535\n",
      "Training Step: 200\n",
      "total discriminator loss:0.66048844833788\n",
      "Training Step: 201\n"
     ]
    },
    {
     "name": "stderr",
     "output_type": "stream",
     "text": [
      "203it [00:15, 13.02it/s]"
     ]
    },
    {
     "name": "stdout",
     "output_type": "stream",
     "text": [
      "total discriminator loss:0.6531778602254805\n",
      "Training Step: 202\n",
      "total discriminator loss:0.6648455462702746\n",
      "Training Step: 203\n",
      "total discriminator loss:0.6635795410372762\n",
      "Training Step: 204\n"
     ]
    },
    {
     "name": "stderr",
     "output_type": "stream",
     "text": [
      "\r",
      "205it [00:15, 13.14it/s]"
     ]
    },
    {
     "name": "stdout",
     "output_type": "stream",
     "text": [
      "total discriminator loss:0.6598811733784903\n",
      "Training Step: 205\n",
      "total discriminator loss:0.6494530742428501\n",
      "Training Step: 206\n",
      "total discriminator loss:0.6456849118021218\n",
      "Training Step: 207\n"
     ]
    },
    {
     "name": "stderr",
     "output_type": "stream",
     "text": [
      "209it [00:15, 13.71it/s]"
     ]
    },
    {
     "name": "stdout",
     "output_type": "stream",
     "text": [
      "total discriminator loss:0.6428642171956824\n",
      "Training Step: 208\n",
      "total discriminator loss:0.6488383981001142\n",
      "Training Step: 209\n",
      "total discriminator loss:0.6698657436463569\n",
      "Training Step: 210\n"
     ]
    },
    {
     "name": "stderr",
     "output_type": "stream",
     "text": [
      "\r",
      "211it [00:15, 13.47it/s]"
     ]
    },
    {
     "name": "stdout",
     "output_type": "stream",
     "text": [
      "total discriminator loss:0.6477087691045419\n",
      "Training Step: 211\n",
      "total discriminator loss:0.6700417211221994\n",
      "Training Step: 212\n",
      "total discriminator loss:0.6587793808791678\n",
      "Training Step: 213\n"
     ]
    },
    {
     "name": "stderr",
     "output_type": "stream",
     "text": [
      "215it [00:16, 13.31it/s]"
     ]
    },
    {
     "name": "stdout",
     "output_type": "stream",
     "text": [
      "total discriminator loss:0.6431119439948653\n",
      "Training Step: 214\n",
      "total discriminator loss:0.6335247299468805\n",
      "Training Step: 215\n",
      "total discriminator loss:0.6394033956992653\n",
      "Training Step: 216\n"
     ]
    },
    {
     "name": "stderr",
     "output_type": "stream",
     "text": [
      "\r",
      "217it [00:16, 13.08it/s]"
     ]
    },
    {
     "name": "stdout",
     "output_type": "stream",
     "text": [
      "total discriminator loss:0.6512712515654934\n",
      "Training Step: 217\n",
      "total discriminator loss:0.6675407696546878\n",
      "Training Step: 218\n",
      "total discriminator loss:0.658825756356624\n",
      "Training Step: 219\n"
     ]
    },
    {
     "name": "stderr",
     "output_type": "stream",
     "text": [
      "221it [00:16, 13.34it/s]"
     ]
    },
    {
     "name": "stdout",
     "output_type": "stream",
     "text": [
      "total discriminator loss:0.6354676147862522\n",
      "Training Step: 220\n",
      "total discriminator loss:0.6297130347454903\n",
      "Training Step: 221\n",
      "total discriminator loss:0.6031127397994539\n",
      "Training Step: 222\n"
     ]
    },
    {
     "name": "stderr",
     "output_type": "stream",
     "text": [
      "\r",
      "223it [00:16, 13.11it/s]"
     ]
    },
    {
     "name": "stdout",
     "output_type": "stream",
     "text": [
      "total discriminator loss:0.6367357636199746\n",
      "Training Step: 223\n",
      "total discriminator loss:0.6329843562966455\n",
      "Training Step: 224\n",
      "total discriminator loss:0.660155289606598\n",
      "Training Step: 225\n"
     ]
    },
    {
     "name": "stderr",
     "output_type": "stream",
     "text": [
      "227it [00:17, 13.27it/s]"
     ]
    },
    {
     "name": "stdout",
     "output_type": "stream",
     "text": [
      "total discriminator loss:0.6935214131047214\n",
      "Training Step: 226\n",
      "total discriminator loss:0.7101347515107721\n",
      "Training Step: 227\n",
      "total discriminator loss:0.6976384281049604\n",
      "Training Step: 228\n"
     ]
    },
    {
     "name": "stderr",
     "output_type": "stream",
     "text": [
      "\r",
      "229it [00:17, 13.26it/s]"
     ]
    },
    {
     "name": "stdout",
     "output_type": "stream",
     "text": [
      "total discriminator loss:0.6428547332260418\n",
      "Training Step: 229\n",
      "total discriminator loss:0.6139947508593242\n",
      "Training Step: 230\n",
      "total discriminator loss:0.6431699910826216\n",
      "Training Step: 231\n"
     ]
    },
    {
     "name": "stderr",
     "output_type": "stream",
     "text": [
      "233it [00:17, 13.41it/s]"
     ]
    },
    {
     "name": "stdout",
     "output_type": "stream",
     "text": [
      "total discriminator loss:0.6456294777987263\n",
      "Training Step: 232\n",
      "total discriminator loss:0.6421359587756321\n",
      "Training Step: 233\n",
      "total discriminator loss:0.638956874880929\n",
      "Training Step: 234\n"
     ]
    },
    {
     "name": "stderr",
     "output_type": "stream",
     "text": [
      "\r",
      "235it [00:17, 13.54it/s]"
     ]
    },
    {
     "name": "stdout",
     "output_type": "stream",
     "text": [
      "total discriminator loss:0.6336046084193252\n",
      "Training Step: 235\n",
      "total discriminator loss:0.6231535562190793\n",
      "Training Step: 236\n",
      "total discriminator loss:0.6322707139154342\n",
      "Training Step: 237\n"
     ]
    },
    {
     "name": "stderr",
     "output_type": "stream",
     "text": [
      "239it [00:17, 13.38it/s]"
     ]
    },
    {
     "name": "stdout",
     "output_type": "stream",
     "text": [
      "total discriminator loss:0.6334246967751884\n",
      "Training Step: 238\n",
      "total discriminator loss:0.6077924283944064\n",
      "Training Step: 239\n",
      "total discriminator loss:0.6140826089621663\n",
      "Training Step: 240\n"
     ]
    },
    {
     "name": "stderr",
     "output_type": "stream",
     "text": [
      "\r",
      "241it [00:18, 13.30it/s]"
     ]
    },
    {
     "name": "stdout",
     "output_type": "stream",
     "text": [
      "total discriminator loss:0.6111022002459696\n",
      "Training Step: 241\n",
      "total discriminator loss:0.6100740009609502\n",
      "Training Step: 242\n",
      "total discriminator loss:0.6224859342640465\n",
      "Training Step: 243\n"
     ]
    },
    {
     "name": "stderr",
     "output_type": "stream",
     "text": [
      "245it [00:18, 13.48it/s]"
     ]
    },
    {
     "name": "stdout",
     "output_type": "stream",
     "text": [
      "total discriminator loss:0.6233137019131785\n",
      "Training Step: 244\n",
      "total discriminator loss:0.6298788217859492\n",
      "Training Step: 245\n",
      "total discriminator loss:0.6359928597704418\n",
      "Training Step: 246\n"
     ]
    },
    {
     "name": "stderr",
     "output_type": "stream",
     "text": [
      "\r",
      "247it [00:18, 13.51it/s]"
     ]
    },
    {
     "name": "stdout",
     "output_type": "stream",
     "text": [
      "total discriminator loss:0.6083102371017448\n",
      "Training Step: 247\n",
      "total discriminator loss:0.5814888341254212\n",
      "Training Step: 248\n",
      "total discriminator loss:0.5936466806380785\n",
      "Training Step: 249\n"
     ]
    },
    {
     "name": "stderr",
     "output_type": "stream",
     "text": [
      "251it [00:18, 13.67it/s]"
     ]
    },
    {
     "name": "stdout",
     "output_type": "stream",
     "text": [
      "total discriminator loss:0.5720623789140166\n",
      "Training Step: 250\n",
      "total discriminator loss:0.5842837789017742\n",
      "Training Step: 251\n",
      "total discriminator loss:0.6008989877835668\n",
      "Training Step: 252\n"
     ]
    },
    {
     "name": "stderr",
     "output_type": "stream",
     "text": [
      "\r",
      "253it [00:19, 13.29it/s]"
     ]
    },
    {
     "name": "stdout",
     "output_type": "stream",
     "text": [
      "total discriminator loss:0.5996605600562186\n",
      "Training Step: 253\n",
      "total discriminator loss:0.5993009793365706\n",
      "Training Step: 254\n",
      "total discriminator loss:0.5878748022792488\n",
      "Training Step: 255\n"
     ]
    },
    {
     "name": "stderr",
     "output_type": "stream",
     "text": [
      "257it [00:19, 12.93it/s]"
     ]
    },
    {
     "name": "stdout",
     "output_type": "stream",
     "text": [
      "total discriminator loss:0.5641809619851206\n",
      "Training Step: 256\n",
      "total discriminator loss:0.5883970835727637\n",
      "Training Step: 257\n",
      "total discriminator loss:0.6259031998254931\n",
      "Training Step: 258\n"
     ]
    },
    {
     "name": "stderr",
     "output_type": "stream",
     "text": [
      "\r",
      "259it [00:19, 12.81it/s]"
     ]
    },
    {
     "name": "stdout",
     "output_type": "stream",
     "text": [
      "total discriminator loss:0.5768705716708014\n",
      "Training Step: 259\n",
      "total discriminator loss:0.5889756034661159\n",
      "Training Step: 260\n",
      "total discriminator loss:0.5727325968341341\n",
      "Training Step: 261\n"
     ]
    },
    {
     "name": "stderr",
     "output_type": "stream",
     "text": [
      "263it [00:19, 13.25it/s]"
     ]
    },
    {
     "name": "stdout",
     "output_type": "stream",
     "text": [
      "total discriminator loss:0.5819941644479019\n",
      "Training Step: 262\n",
      "total discriminator loss:0.5590852877842787\n",
      "Training Step: 263\n",
      "total discriminator loss:0.562244122550772\n",
      "Training Step: 264\n"
     ]
    },
    {
     "name": "stderr",
     "output_type": "stream",
     "text": [
      "\r",
      "265it [00:19, 13.06it/s]"
     ]
    },
    {
     "name": "stdout",
     "output_type": "stream",
     "text": [
      "total discriminator loss:0.5752766692746965\n",
      "Training Step: 265\n",
      "total discriminator loss:0.5625139700989813\n",
      "Training Step: 266\n",
      "total discriminator loss:0.5779475629383941\n",
      "Training Step: 267\n"
     ]
    },
    {
     "name": "stderr",
     "output_type": "stream",
     "text": [
      "269it [00:20, 12.92it/s]"
     ]
    },
    {
     "name": "stdout",
     "output_type": "stream",
     "text": [
      "total discriminator loss:0.5890187088121563\n",
      "Training Step: 268\n",
      "total discriminator loss:0.5841558711846212\n",
      "Training Step: 269\n",
      "total discriminator loss:0.5776957213492977\n",
      "Training Step: 270\n"
     ]
    },
    {
     "name": "stderr",
     "output_type": "stream",
     "text": [
      "\r",
      "271it [00:20, 12.92it/s]"
     ]
    },
    {
     "name": "stdout",
     "output_type": "stream",
     "text": [
      "total discriminator loss:0.5686254451435293\n",
      "Training Step: 271\n",
      "total discriminator loss:0.5455458161818906\n",
      "Training Step: 272\n",
      "total discriminator loss:0.5556002162394365\n",
      "Training Step: 273\n"
     ]
    },
    {
     "name": "stderr",
     "output_type": "stream",
     "text": [
      "275it [00:20, 13.66it/s]"
     ]
    },
    {
     "name": "stdout",
     "output_type": "stream",
     "text": [
      "total discriminator loss:0.5587489672983716\n",
      "Training Step: 274\n",
      "total discriminator loss:0.5504480957047979\n",
      "Training Step: 275\n",
      "total discriminator loss:0.5414476161364319\n",
      "Training Step: 276\n",
      "total discriminator loss:0.5366629373315323\n"
     ]
    },
    {
     "name": "stderr",
     "output_type": "stream",
     "text": [
      "\r",
      "277it [00:20, 13.88it/s]"
     ]
    },
    {
     "name": "stdout",
     "output_type": "stream",
     "text": [
      "Training Step: 277\n",
      "total discriminator loss:0.5372623347925671\n",
      "Training Step: 278\n",
      "total discriminator loss:0.5466185195350088\n",
      "Training Step: 279\n",
      "total discriminator loss:0.5512673968953147\n"
     ]
    },
    {
     "name": "stderr",
     "output_type": "stream",
     "text": [
      "281it [00:21, 13.25it/s]"
     ]
    },
    {
     "name": "stdout",
     "output_type": "stream",
     "text": [
      "Training Step: 280\n",
      "total discriminator loss:0.5696394802193749\n",
      "Training Step: 281\n",
      "total discriminator loss:0.5410844388251714\n",
      "Training Step: 282\n"
     ]
    },
    {
     "name": "stderr",
     "output_type": "stream",
     "text": [
      "\r",
      "283it [00:21, 11.38it/s]"
     ]
    },
    {
     "name": "stdout",
     "output_type": "stream",
     "text": [
      "total discriminator loss:0.528659478296658\n",
      "Training Step: 283\n",
      "total discriminator loss:0.5356542518869991\n",
      "Training Step: 284\n",
      "total discriminator loss:0.549474184622171\n",
      "Training Step: 285\n"
     ]
    },
    {
     "name": "stderr",
     "output_type": "stream",
     "text": [
      "287it [00:21, 12.15it/s]"
     ]
    },
    {
     "name": "stdout",
     "output_type": "stream",
     "text": [
      "total discriminator loss:0.5190921149666887\n",
      "Training Step: 286\n",
      "total discriminator loss:0.5292030967640085\n",
      "Training Step: 287\n",
      "total discriminator loss:0.5394375850067158\n",
      "Training Step: 288\n"
     ]
    },
    {
     "name": "stderr",
     "output_type": "stream",
     "text": [
      "\r",
      "289it [00:21, 12.26it/s]"
     ]
    },
    {
     "name": "stdout",
     "output_type": "stream",
     "text": [
      "total discriminator loss:0.5371799870597141\n",
      "Training Step: 289\n",
      "total discriminator loss:0.5845860296035853\n",
      "Training Step: 290\n",
      "total discriminator loss:0.5149250553566798\n",
      "Training Step: 291\n"
     ]
    },
    {
     "name": "stderr",
     "output_type": "stream",
     "text": [
      "293it [00:22, 12.55it/s]"
     ]
    },
    {
     "name": "stdout",
     "output_type": "stream",
     "text": [
      "total discriminator loss:0.5561841308002229\n",
      "Training Step: 292\n",
      "total discriminator loss:0.47995684684171536\n",
      "Training Step: 293\n",
      "total discriminator loss:0.5269603615748242\n",
      "Training Step: 294\n"
     ]
    },
    {
     "name": "stderr",
     "output_type": "stream",
     "text": [
      "\r",
      "295it [00:22, 12.75it/s]"
     ]
    },
    {
     "name": "stdout",
     "output_type": "stream",
     "text": [
      "total discriminator loss:0.5428084254474228\n",
      "Training Step: 295\n",
      "total discriminator loss:0.542576064463137\n",
      "Training Step: 296\n",
      "total discriminator loss:0.49661745206243596\n",
      "Training Step: 297\n"
     ]
    },
    {
     "name": "stderr",
     "output_type": "stream",
     "text": [
      "299it [00:22, 12.72it/s]"
     ]
    },
    {
     "name": "stdout",
     "output_type": "stream",
     "text": [
      "total discriminator loss:0.5225441287005563\n",
      "Training Step: 298\n",
      "total discriminator loss:0.49511497153599393\n",
      "Training Step: 299\n",
      "total discriminator loss:0.5396379888526607\n",
      "Training Step: 300\n"
     ]
    },
    {
     "name": "stderr",
     "output_type": "stream",
     "text": [
      "\r",
      "301it [00:22, 12.65it/s]"
     ]
    },
    {
     "name": "stdout",
     "output_type": "stream",
     "text": [
      "total discriminator loss:0.4926446797485303\n",
      "Training Step: 301\n",
      "total discriminator loss:0.5503185664601219\n",
      "Training Step: 302\n",
      "total discriminator loss:0.5132992695409042\n",
      "Training Step: 303\n"
     ]
    },
    {
     "name": "stderr",
     "output_type": "stream",
     "text": [
      "305it [00:23, 13.03it/s]"
     ]
    },
    {
     "name": "stdout",
     "output_type": "stream",
     "text": [
      "total discriminator loss:0.5119308977304101\n",
      "Training Step: 304\n",
      "total discriminator loss:0.5240216934650681\n",
      "Training Step: 305\n",
      "total discriminator loss:0.5533420989625539\n",
      "Training Step: 306\n"
     ]
    },
    {
     "name": "stderr",
     "output_type": "stream",
     "text": [
      "\r",
      "307it [00:23, 13.05it/s]"
     ]
    },
    {
     "name": "stdout",
     "output_type": "stream",
     "text": [
      "total discriminator loss:0.5664608743401689\n",
      "Training Step: 307\n",
      "total discriminator loss:0.4916621963891688\n",
      "Training Step: 308\n",
      "total discriminator loss:0.5146506507792654\n",
      "Training Step: 309\n"
     ]
    },
    {
     "name": "stderr",
     "output_type": "stream",
     "text": [
      "311it [00:23, 13.08it/s]"
     ]
    },
    {
     "name": "stdout",
     "output_type": "stream",
     "text": [
      "total discriminator loss:0.49038138971362694\n",
      "Training Step: 310\n",
      "total discriminator loss:0.5748705707957767\n",
      "Training Step: 311\n",
      "total discriminator loss:0.49808751237024845\n",
      "Training Step: 312\n"
     ]
    },
    {
     "name": "stderr",
     "output_type": "stream",
     "text": [
      "\r",
      "313it [00:23, 12.94it/s]"
     ]
    },
    {
     "name": "stdout",
     "output_type": "stream",
     "text": [
      "total discriminator loss:0.5287485918657469\n",
      "Training Step: 313\n",
      "total discriminator loss:0.4974290542048458\n",
      "Training Step: 314\n",
      "total discriminator loss:0.5237158650423137\n",
      "Training Step: 315\n"
     ]
    },
    {
     "name": "stderr",
     "output_type": "stream",
     "text": [
      "317it [00:24, 13.08it/s]"
     ]
    },
    {
     "name": "stdout",
     "output_type": "stream",
     "text": [
      "total discriminator loss:0.4853032606333634\n",
      "Training Step: 316\n",
      "total discriminator loss:0.5207554645047032\n",
      "Training Step: 317\n",
      "total discriminator loss:0.5238116503767838\n",
      "Training Step: 318\n"
     ]
    },
    {
     "name": "stderr",
     "output_type": "stream",
     "text": [
      "\r",
      "319it [00:24, 13.03it/s]"
     ]
    },
    {
     "name": "stdout",
     "output_type": "stream",
     "text": [
      "total discriminator loss:0.49652900065789757\n",
      "Training Step: 319\n",
      "total discriminator loss:0.4870246654719111\n",
      "Training Step: 320\n",
      "total discriminator loss:0.5582777723462384\n",
      "Training Step: 321\n"
     ]
    },
    {
     "name": "stderr",
     "output_type": "stream",
     "text": [
      "323it [00:24, 13.22it/s]"
     ]
    },
    {
     "name": "stdout",
     "output_type": "stream",
     "text": [
      "total discriminator loss:0.4983077934636434\n",
      "Training Step: 322\n",
      "total discriminator loss:0.4837212952714236\n",
      "Training Step: 323\n",
      "total discriminator loss:0.46143878244209574\n",
      "Training Step: 324\n"
     ]
    },
    {
     "name": "stderr",
     "output_type": "stream",
     "text": [
      "\r",
      "325it [00:24, 12.86it/s]"
     ]
    },
    {
     "name": "stdout",
     "output_type": "stream",
     "text": [
      "total discriminator loss:0.5021570355696227\n",
      "Training Step: 325\n",
      "total discriminator loss:0.45591641554917256\n",
      "Training Step: 326\n",
      "total discriminator loss:0.4638126872914074\n",
      "Training Step: 327\n"
     ]
    },
    {
     "name": "stderr",
     "output_type": "stream",
     "text": [
      "329it [00:24, 12.89it/s]"
     ]
    },
    {
     "name": "stdout",
     "output_type": "stream",
     "text": [
      "total discriminator loss:0.4990503878343812\n",
      "Training Step: 328\n",
      "total discriminator loss:0.4969429387135268\n",
      "Training Step: 329\n",
      "total discriminator loss:0.4425465388728894\n",
      "Training Step: 330\n"
     ]
    },
    {
     "name": "stderr",
     "output_type": "stream",
     "text": [
      "\r",
      "331it [00:25, 12.75it/s]"
     ]
    },
    {
     "name": "stdout",
     "output_type": "stream",
     "text": [
      "total discriminator loss:0.4982473634515176\n",
      "Training Step: 331\n",
      "total discriminator loss:0.5247248552278264\n",
      "Training Step: 332\n",
      "total discriminator loss:0.48643307369284555\n",
      "Training Step: 333\n"
     ]
    },
    {
     "name": "stderr",
     "output_type": "stream",
     "text": [
      "335it [00:25, 12.75it/s]"
     ]
    },
    {
     "name": "stdout",
     "output_type": "stream",
     "text": [
      "total discriminator loss:0.4737939286914068\n",
      "Training Step: 334\n",
      "total discriminator loss:0.4954657315575282\n",
      "Training Step: 335\n",
      "total discriminator loss:0.45369413306005507\n",
      "Training Step: 336\n"
     ]
    },
    {
     "name": "stderr",
     "output_type": "stream",
     "text": [
      "\r",
      "337it [00:25, 12.90it/s]"
     ]
    },
    {
     "name": "stdout",
     "output_type": "stream",
     "text": [
      "total discriminator loss:0.5398775426215983\n",
      "Training Step: 337\n",
      "total discriminator loss:0.44561522777386137\n",
      "Training Step: 338\n",
      "total discriminator loss:0.46363518717047325\n",
      "Training Step: 339\n"
     ]
    },
    {
     "name": "stderr",
     "output_type": "stream",
     "text": [
      "341it [00:25, 12.88it/s]"
     ]
    },
    {
     "name": "stdout",
     "output_type": "stream",
     "text": [
      "total discriminator loss:0.47415720997233773\n",
      "Training Step: 340\n",
      "total discriminator loss:0.5366376432028436\n",
      "Training Step: 341\n",
      "total discriminator loss:0.5074112788371188\n",
      "Training Step: 342\n"
     ]
    },
    {
     "name": "stderr",
     "output_type": "stream",
     "text": [
      "\r",
      "343it [00:26, 12.92it/s]"
     ]
    },
    {
     "name": "stdout",
     "output_type": "stream",
     "text": [
      "total discriminator loss:0.4407584919872197\n",
      "Training Step: 343\n",
      "total discriminator loss:0.4872377736649209\n",
      "Training Step: 344\n",
      "total discriminator loss:0.5007403419466355\n",
      "Training Step: 345\n"
     ]
    },
    {
     "name": "stderr",
     "output_type": "stream",
     "text": [
      "347it [00:26, 13.10it/s]"
     ]
    },
    {
     "name": "stdout",
     "output_type": "stream",
     "text": [
      "total discriminator loss:0.44730044039528516\n",
      "Training Step: 346\n",
      "total discriminator loss:0.5078935282542897\n",
      "Training Step: 347\n",
      "total discriminator loss:0.4826665836451755\n",
      "Training Step: 348\n"
     ]
    },
    {
     "name": "stderr",
     "output_type": "stream",
     "text": [
      "\r",
      "349it [00:26, 13.06it/s]"
     ]
    },
    {
     "name": "stdout",
     "output_type": "stream",
     "text": [
      "total discriminator loss:0.4786199123489523\n",
      "Training Step: 349\n",
      "total discriminator loss:0.4960024058573331\n",
      "Training Step: 350\n",
      "total discriminator loss:0.4628003554925768\n",
      "Training Step: 351\n"
     ]
    },
    {
     "name": "stderr",
     "output_type": "stream",
     "text": [
      "353it [00:26, 13.54it/s]"
     ]
    },
    {
     "name": "stdout",
     "output_type": "stream",
     "text": [
      "total discriminator loss:0.46935518960664135\n",
      "Training Step: 352\n",
      "total discriminator loss:0.4676070384906449\n",
      "Training Step: 353\n",
      "total discriminator loss:0.4592051962409046\n",
      "Training Step: 354\n"
     ]
    },
    {
     "name": "stderr",
     "output_type": "stream",
     "text": [
      "\r",
      "355it [00:26, 13.90it/s]"
     ]
    },
    {
     "name": "stdout",
     "output_type": "stream",
     "text": [
      "total discriminator loss:0.4964300176942692\n",
      "Training Step: 355\n",
      "total discriminator loss:0.4952721804093876\n",
      "Training Step: 356\n",
      "total discriminator loss:0.47384712788893074\n",
      "Training Step: 357\n"
     ]
    },
    {
     "name": "stderr",
     "output_type": "stream",
     "text": [
      "359it [00:27, 13.77it/s]"
     ]
    },
    {
     "name": "stdout",
     "output_type": "stream",
     "text": [
      "total discriminator loss:0.453481092035111\n",
      "Training Step: 358\n",
      "total discriminator loss:0.49333923750225595\n",
      "Training Step: 359\n",
      "total discriminator loss:0.44286052347074567\n",
      "Training Step: 360\n"
     ]
    },
    {
     "name": "stderr",
     "output_type": "stream",
     "text": [
      "\r",
      "361it [00:27, 14.10it/s]"
     ]
    },
    {
     "name": "stdout",
     "output_type": "stream",
     "text": [
      "total discriminator loss:0.46182927045334704\n",
      "Training Step: 361\n",
      "total discriminator loss:0.4843803108719763\n",
      "Training Step: 362\n",
      "total discriminator loss:0.4829185628519147\n",
      "Training Step: 363\n",
      "total discriminator loss:0.4640234293850617\n"
     ]
    },
    {
     "name": "stderr",
     "output_type": "stream",
     "text": [
      "365it [00:27, 14.54it/s]"
     ]
    },
    {
     "name": "stdout",
     "output_type": "stream",
     "text": [
      "Training Step: 364\n",
      "total discriminator loss:0.44729649923081305\n",
      "Training Step: 365\n",
      "total discriminator loss:0.4946597358407008\n",
      "Training Step: 366\n",
      "total discriminator loss:0.5006109277447948\n"
     ]
    },
    {
     "name": "stderr",
     "output_type": "stream",
     "text": [
      "\r",
      "367it [00:27, 13.99it/s]"
     ]
    },
    {
     "name": "stdout",
     "output_type": "stream",
     "text": [
      "Training Step: 367\n",
      "total discriminator loss:0.44238908041534325\n",
      "Training Step: 368\n",
      "total discriminator loss:0.46151694130599896\n",
      "Training Step: 369\n",
      "total discriminator loss:0.4869869138125191\n"
     ]
    },
    {
     "name": "stderr",
     "output_type": "stream",
     "text": [
      "371it [00:28, 14.24it/s]"
     ]
    },
    {
     "name": "stdout",
     "output_type": "stream",
     "text": [
      "Training Step: 370\n",
      "total discriminator loss:0.44971194603722087\n",
      "Training Step: 371\n",
      "total discriminator loss:0.4519481390364008\n",
      "Training Step: 372\n",
      "total discriminator loss:0.44654604908650275\n"
     ]
    },
    {
     "name": "stderr",
     "output_type": "stream",
     "text": [
      "\r",
      "373it [00:28, 14.06it/s]"
     ]
    },
    {
     "name": "stdout",
     "output_type": "stream",
     "text": [
      "Training Step: 373\n",
      "total discriminator loss:0.44390482574481593\n",
      "Training Step: 374\n",
      "total discriminator loss:0.4612389149330329\n",
      "Training Step: 375\n",
      "total discriminator loss:0.4256030955448757\n"
     ]
    },
    {
     "name": "stderr",
     "output_type": "stream",
     "text": [
      "377it [00:28, 14.15it/s]"
     ]
    },
    {
     "name": "stdout",
     "output_type": "stream",
     "text": [
      "Training Step: 376\n",
      "total discriminator loss:0.47684747386925674\n",
      "Training Step: 377\n",
      "total discriminator loss:0.42267243287986406\n",
      "Training Step: 378\n",
      "total discriminator loss:0.47620779918105327\n"
     ]
    },
    {
     "name": "stderr",
     "output_type": "stream",
     "text": [
      "\r",
      "379it [00:28, 14.28it/s]"
     ]
    },
    {
     "name": "stdout",
     "output_type": "stream",
     "text": [
      "Training Step: 379\n",
      "total discriminator loss:0.46470469761301314\n",
      "Training Step: 380\n",
      "total discriminator loss:0.46382180435461107\n",
      "Training Step: 381\n",
      "total discriminator loss:0.4350186516245368\n"
     ]
    },
    {
     "name": "stderr",
     "output_type": "stream",
     "text": [
      "383it [00:28, 14.59it/s]"
     ]
    },
    {
     "name": "stdout",
     "output_type": "stream",
     "text": [
      "Training Step: 382\n",
      "total discriminator loss:0.42492073822642207\n",
      "Training Step: 383\n",
      "total discriminator loss:0.4190911266573449\n",
      "Training Step: 384\n",
      "total discriminator loss:0.4703251819020703\n"
     ]
    },
    {
     "name": "stderr",
     "output_type": "stream",
     "text": [
      "\r",
      "385it [00:29, 14.35it/s]"
     ]
    },
    {
     "name": "stdout",
     "output_type": "stream",
     "text": [
      "Training Step: 385\n",
      "total discriminator loss:0.45622854184462636\n",
      "Training Step: 386\n",
      "total discriminator loss:0.4752324773266693\n",
      "Training Step: 387\n",
      "total discriminator loss:0.5128140695763235\n"
     ]
    },
    {
     "name": "stderr",
     "output_type": "stream",
     "text": [
      "389it [00:29, 14.17it/s]"
     ]
    },
    {
     "name": "stdout",
     "output_type": "stream",
     "text": [
      "Training Step: 388\n",
      "total discriminator loss:0.4458043397752679\n",
      "Training Step: 389\n",
      "total discriminator loss:0.4471568599835939\n",
      "Training Step: 390\n",
      "total discriminator loss:0.43591998292376155\n"
     ]
    },
    {
     "name": "stderr",
     "output_type": "stream",
     "text": [
      "\r",
      "391it [00:29, 14.31it/s]"
     ]
    },
    {
     "name": "stdout",
     "output_type": "stream",
     "text": [
      "Training Step: 391\n",
      "total discriminator loss:0.4128990378282831\n",
      "Training Step: 392\n",
      "total discriminator loss:0.4579663353022007\n",
      "Training Step: 393\n",
      "total discriminator loss:0.5160865767014284\n"
     ]
    },
    {
     "name": "stderr",
     "output_type": "stream",
     "text": [
      "395it [00:29, 14.29it/s]"
     ]
    },
    {
     "name": "stdout",
     "output_type": "stream",
     "text": [
      "Training Step: 394\n",
      "total discriminator loss:0.43183353427895643\n",
      "Training Step: 395\n",
      "total discriminator loss:0.4392891933725498\n",
      "Training Step: 396\n",
      "total discriminator loss:0.45079463857525826\n"
     ]
    },
    {
     "name": "stderr",
     "output_type": "stream",
     "text": [
      "399it [00:29, 14.65it/s]"
     ]
    },
    {
     "name": "stdout",
     "output_type": "stream",
     "text": [
      "Training Step: 397\n",
      "total discriminator loss:0.48048427874931826\n",
      "Training Step: 398\n",
      "total discriminator loss:0.45189872429103023\n",
      "Training Step: 399\n",
      "total discriminator loss:0.4764214137476368\n",
      "Training Step: 400\n"
     ]
    },
    {
     "name": "stderr",
     "output_type": "stream",
     "text": [
      "\r",
      "401it [00:30, 14.48it/s]"
     ]
    },
    {
     "name": "stdout",
     "output_type": "stream",
     "text": [
      "total discriminator loss:0.4488530675477073\n",
      "Training Step: 401\n",
      "total discriminator loss:0.4421041797850196\n",
      "Training Step: 402\n",
      "total discriminator loss:0.45634992540619934\n",
      "Training Step: 403\n"
     ]
    },
    {
     "name": "stderr",
     "output_type": "stream",
     "text": [
      "405it [00:30, 14.62it/s]"
     ]
    },
    {
     "name": "stdout",
     "output_type": "stream",
     "text": [
      "total discriminator loss:0.48773694942697154\n",
      "Training Step: 404\n",
      "total discriminator loss:0.45485246300560855\n",
      "Training Step: 405\n",
      "total discriminator loss:0.47850219115095116\n",
      "Training Step: 406\n"
     ]
    },
    {
     "name": "stderr",
     "output_type": "stream",
     "text": [
      "\r",
      "407it [00:30, 14.02it/s]"
     ]
    },
    {
     "name": "stdout",
     "output_type": "stream",
     "text": [
      "total discriminator loss:0.46822769361650596\n",
      "Training Step: 407\n",
      "total discriminator loss:0.5081092443354683\n",
      "Training Step: 408\n",
      "total discriminator loss:0.4846589240442082\n",
      "Training Step: 409\n"
     ]
    },
    {
     "name": "stderr",
     "output_type": "stream",
     "text": [
      "411it [00:30, 13.95it/s]"
     ]
    },
    {
     "name": "stdout",
     "output_type": "stream",
     "text": [
      "total discriminator loss:0.4365740559604486\n",
      "Training Step: 410\n",
      "total discriminator loss:0.4048906099077515\n",
      "Training Step: 411\n",
      "total discriminator loss:0.4556286834227812\n",
      "Training Step: 412\n"
     ]
    },
    {
     "name": "stderr",
     "output_type": "stream",
     "text": [
      "\r",
      "413it [00:31, 13.70it/s]"
     ]
    },
    {
     "name": "stdout",
     "output_type": "stream",
     "text": [
      "total discriminator loss:0.4483549879222666\n",
      "Training Step: 413\n",
      "total discriminator loss:0.45011837158241375\n",
      "Training Step: 414\n",
      "total discriminator loss:0.4418567290765212\n",
      "Training Step: 415\n"
     ]
    },
    {
     "name": "stderr",
     "output_type": "stream",
     "text": [
      "417it [00:31, 14.40it/s]"
     ]
    },
    {
     "name": "stdout",
     "output_type": "stream",
     "text": [
      "total discriminator loss:0.4486609981160041\n",
      "Training Step: 416\n",
      "total discriminator loss:0.4783165998888397\n",
      "Training Step: 417\n",
      "total discriminator loss:0.5065610543051038\n",
      "Training Step: 418\n"
     ]
    },
    {
     "name": "stderr",
     "output_type": "stream",
     "text": [
      "\r",
      "419it [00:31, 14.08it/s]"
     ]
    },
    {
     "name": "stdout",
     "output_type": "stream",
     "text": [
      "total discriminator loss:0.4586173526008942\n",
      "Training Step: 419\n",
      "total discriminator loss:0.41918414640000456\n",
      "Training Step: 420\n",
      "total discriminator loss:0.41527103499814244\n",
      "Training Step: 421\n"
     ]
    },
    {
     "name": "stderr",
     "output_type": "stream",
     "text": [
      "423it [00:31, 13.64it/s]"
     ]
    },
    {
     "name": "stdout",
     "output_type": "stream",
     "text": [
      "total discriminator loss:0.423395208316621\n",
      "Training Step: 422\n",
      "total discriminator loss:0.4152412506679507\n",
      "Training Step: 423\n",
      "total discriminator loss:0.41224742388029495\n",
      "Training Step: 424\n"
     ]
    },
    {
     "name": "stderr",
     "output_type": "stream",
     "text": [
      "\r",
      "425it [00:31, 13.82it/s]"
     ]
    },
    {
     "name": "stdout",
     "output_type": "stream",
     "text": [
      "total discriminator loss:0.4468583471390705\n",
      "Training Step: 425\n",
      "total discriminator loss:0.4025973554418393\n",
      "Training Step: 426\n",
      "total discriminator loss:0.4251278787511475\n",
      "Training Step: 427\n"
     ]
    },
    {
     "name": "stderr",
     "output_type": "stream",
     "text": [
      "429it [00:32, 14.45it/s]"
     ]
    },
    {
     "name": "stdout",
     "output_type": "stream",
     "text": [
      "total discriminator loss:0.47992770090353676\n",
      "Training Step: 428\n",
      "total discriminator loss:0.4348067139815066\n",
      "Training Step: 429\n",
      "total discriminator loss:0.4042219462556012\n",
      "Training Step: 430\n",
      "total discriminator loss:0.4675662116578518\n"
     ]
    },
    {
     "name": "stderr",
     "output_type": "stream",
     "text": [
      "\r",
      "431it [00:32, 14.59it/s]"
     ]
    },
    {
     "name": "stdout",
     "output_type": "stream",
     "text": [
      "Training Step: 431\n",
      "total discriminator loss:0.4531935227176642\n",
      "Training Step: 432\n",
      "total discriminator loss:0.4280187613971379\n",
      "Training Step: 433\n",
      "total discriminator loss:0.43722021714170095\n"
     ]
    },
    {
     "name": "stderr",
     "output_type": "stream",
     "text": [
      "435it [00:32, 13.85it/s]"
     ]
    },
    {
     "name": "stdout",
     "output_type": "stream",
     "text": [
      "Training Step: 434\n",
      "total discriminator loss:0.47137249226480343\n",
      "Training Step: 435\n",
      "total discriminator loss:0.4256105758596895\n",
      "Training Step: 436\n",
      "total discriminator loss:0.49282419367783253\n"
     ]
    },
    {
     "name": "stderr",
     "output_type": "stream",
     "text": [
      "\r",
      "437it [00:32, 13.47it/s]"
     ]
    },
    {
     "name": "stdout",
     "output_type": "stream",
     "text": [
      "Training Step: 437\n",
      "total discriminator loss:0.43195101340305464\n",
      "Training Step: 438\n",
      "total discriminator loss:0.4701878410416138\n",
      "Training Step: 439\n",
      "total discriminator loss:0.45038591433230796\n"
     ]
    },
    {
     "name": "stderr",
     "output_type": "stream",
     "text": [
      "441it [00:33, 12.97it/s]"
     ]
    },
    {
     "name": "stdout",
     "output_type": "stream",
     "text": [
      "Training Step: 440\n",
      "total discriminator loss:0.45778556824485006\n",
      "Training Step: 441\n",
      "total discriminator loss:0.45112149260442164\n",
      "Training Step: 442\n",
      "total discriminator loss:0.44301319807402567\n"
     ]
    },
    {
     "name": "stderr",
     "output_type": "stream",
     "text": [
      "\r",
      "443it [00:33, 13.01it/s]"
     ]
    },
    {
     "name": "stdout",
     "output_type": "stream",
     "text": [
      "Training Step: 443\n",
      "total discriminator loss:0.48874348516909527\n",
      "Training Step: 444\n",
      "total discriminator loss:0.43427670790812634\n",
      "Training Step: 445\n",
      "total discriminator loss:0.4578166879275714\n"
     ]
    },
    {
     "name": "stderr",
     "output_type": "stream",
     "text": [
      "447it [00:33, 12.95it/s]"
     ]
    },
    {
     "name": "stdout",
     "output_type": "stream",
     "text": [
      "Training Step: 446\n",
      "total discriminator loss:0.461815256183018\n",
      "Training Step: 447\n",
      "total discriminator loss:0.48076032549867725\n",
      "Training Step: 448\n",
      "total discriminator loss:0.4601066567971561\n"
     ]
    },
    {
     "name": "stderr",
     "output_type": "stream",
     "text": [
      "\r",
      "449it [00:33, 12.83it/s]"
     ]
    },
    {
     "name": "stdout",
     "output_type": "stream",
     "text": [
      "Training Step: 449\n",
      "total discriminator loss:0.434977499748081\n",
      "Training Step: 450\n",
      "total discriminator loss:0.42048621985778967\n",
      "Training Step: 451\n",
      "total discriminator loss:0.4723917450303021\n"
     ]
    },
    {
     "name": "stderr",
     "output_type": "stream",
     "text": [
      "453it [00:33, 12.93it/s]"
     ]
    },
    {
     "name": "stdout",
     "output_type": "stream",
     "text": [
      "Training Step: 452\n",
      "total discriminator loss:0.4544314204505322\n",
      "Training Step: 453\n",
      "total discriminator loss:0.4427549553169765\n",
      "Training Step: 454\n",
      "total discriminator loss:0.45672295480845226\n"
     ]
    },
    {
     "name": "stderr",
     "output_type": "stream",
     "text": [
      "\r",
      "455it [00:34, 13.07it/s]"
     ]
    },
    {
     "name": "stdout",
     "output_type": "stream",
     "text": [
      "Training Step: 455\n",
      "total discriminator loss:0.42126795106395265\n",
      "Training Step: 456\n",
      "total discriminator loss:0.49766811600899347\n",
      "Training Step: 457\n",
      "total discriminator loss:0.4474324226462181\n"
     ]
    },
    {
     "name": "stderr",
     "output_type": "stream",
     "text": [
      "459it [00:34, 13.23it/s]"
     ]
    },
    {
     "name": "stdout",
     "output_type": "stream",
     "text": [
      "Training Step: 458\n",
      "total discriminator loss:0.44099803521176695\n",
      "Training Step: 459\n",
      "total discriminator loss:0.4782855710977186\n",
      "Training Step: 460\n",
      "total discriminator loss:0.44064305069788784\n"
     ]
    },
    {
     "name": "stderr",
     "output_type": "stream",
     "text": [
      "\r",
      "461it [00:34, 13.11it/s]"
     ]
    },
    {
     "name": "stdout",
     "output_type": "stream",
     "text": [
      "Training Step: 461\n",
      "total discriminator loss:0.4321445746817444\n",
      "Training Step: 462\n",
      "total discriminator loss:0.4144801903667711\n",
      "Training Step: 463\n",
      "total discriminator loss:0.4579803561225642\n"
     ]
    },
    {
     "name": "stderr",
     "output_type": "stream",
     "text": [
      "465it [00:34, 13.08it/s]"
     ]
    },
    {
     "name": "stdout",
     "output_type": "stream",
     "text": [
      "Training Step: 464\n",
      "total discriminator loss:0.4638473328667897\n",
      "Training Step: 465\n",
      "total discriminator loss:0.4361383209026177\n",
      "Training Step: 466\n",
      "total discriminator loss:0.37527030391564875\n"
     ]
    },
    {
     "name": "stderr",
     "output_type": "stream",
     "text": [
      "\r",
      "467it [00:35, 13.03it/s]"
     ]
    },
    {
     "name": "stdout",
     "output_type": "stream",
     "text": [
      "Training Step: 467\n",
      "total discriminator loss:0.4581028227817307\n",
      "Training Step: 468\n",
      "total discriminator loss:0.4439985636690242\n",
      "Training Step: 469\n"
     ]
    },
    {
     "name": "stderr",
     "output_type": "stream",
     "text": [
      "471it [00:35, 12.87it/s]"
     ]
    },
    {
     "name": "stdout",
     "output_type": "stream",
     "text": [
      "total discriminator loss:0.41375634631910607\n",
      "Training Step: 470\n",
      "total discriminator loss:0.45610924183676255\n",
      "Training Step: 471\n",
      "total discriminator loss:0.4320689868953568\n",
      "Training Step: 472\n"
     ]
    },
    {
     "name": "stderr",
     "output_type": "stream",
     "text": [
      "\r",
      "473it [00:35, 12.65it/s]"
     ]
    },
    {
     "name": "stdout",
     "output_type": "stream",
     "text": [
      "total discriminator loss:0.41188779368003303\n",
      "Training Step: 473\n",
      "total discriminator loss:0.4326254362360841\n",
      "Training Step: 474\n",
      "total discriminator loss:0.4118104478784127\n",
      "Training Step: 475\n"
     ]
    },
    {
     "name": "stderr",
     "output_type": "stream",
     "text": [
      "477it [00:35, 12.73it/s]"
     ]
    },
    {
     "name": "stdout",
     "output_type": "stream",
     "text": [
      "total discriminator loss:0.45159710463194275\n",
      "Training Step: 476\n",
      "total discriminator loss:0.4683206778571081\n",
      "Training Step: 477\n",
      "total discriminator loss:0.39884083690249494\n",
      "Training Step: 478\n"
     ]
    },
    {
     "name": "stderr",
     "output_type": "stream",
     "text": [
      "\r",
      "479it [00:35, 12.92it/s]"
     ]
    },
    {
     "name": "stdout",
     "output_type": "stream",
     "text": [
      "total discriminator loss:0.4621625150957491\n",
      "Training Step: 479\n",
      "total discriminator loss:0.48944590273727734\n",
      "Training Step: 480\n",
      "total discriminator loss:0.44713336447426355\n",
      "Training Step: 481\n"
     ]
    },
    {
     "name": "stderr",
     "output_type": "stream",
     "text": [
      "483it [00:36, 12.98it/s]"
     ]
    },
    {
     "name": "stdout",
     "output_type": "stream",
     "text": [
      "total discriminator loss:0.3732715744718737\n",
      "Training Step: 482\n",
      "total discriminator loss:0.4075040870679551\n",
      "Training Step: 483\n",
      "total discriminator loss:0.4543833698891045\n",
      "Training Step: 484\n"
     ]
    },
    {
     "name": "stderr",
     "output_type": "stream",
     "text": [
      "\r",
      "485it [00:36, 13.11it/s]"
     ]
    },
    {
     "name": "stdout",
     "output_type": "stream",
     "text": [
      "total discriminator loss:0.44999358314431925\n",
      "Training Step: 485\n",
      "total discriminator loss:0.4291412643503669\n",
      "Training Step: 486\n",
      "total discriminator loss:0.3880815465870046\n",
      "Training Step: 487\n"
     ]
    },
    {
     "name": "stderr",
     "output_type": "stream",
     "text": [
      "489it [00:36, 13.06it/s]"
     ]
    },
    {
     "name": "stdout",
     "output_type": "stream",
     "text": [
      "total discriminator loss:0.49870339056174734\n",
      "Training Step: 488\n",
      "total discriminator loss:0.4369152928122898\n",
      "Training Step: 489\n",
      "total discriminator loss:0.43964131609460255\n",
      "Training Step: 490\n"
     ]
    },
    {
     "name": "stderr",
     "output_type": "stream",
     "text": [
      "\r",
      "491it [00:36, 13.05it/s]"
     ]
    },
    {
     "name": "stdout",
     "output_type": "stream",
     "text": [
      "total discriminator loss:0.41373234646159135\n",
      "Training Step: 491\n",
      "total discriminator loss:0.47861158488792677\n",
      "Training Step: 492\n",
      "total discriminator loss:0.40989772147730796\n",
      "Training Step: 493\n"
     ]
    },
    {
     "name": "stderr",
     "output_type": "stream",
     "text": [
      "495it [00:37, 13.31it/s]"
     ]
    },
    {
     "name": "stdout",
     "output_type": "stream",
     "text": [
      "total discriminator loss:0.4244566306053241\n",
      "Training Step: 494\n",
      "total discriminator loss:0.45174826438692406\n",
      "Training Step: 495\n",
      "total discriminator loss:0.4672637338772975\n",
      "Training Step: 496\n"
     ]
    },
    {
     "name": "stderr",
     "output_type": "stream",
     "text": [
      "\r",
      "497it [00:37, 13.02it/s]"
     ]
    },
    {
     "name": "stdout",
     "output_type": "stream",
     "text": [
      "total discriminator loss:0.454264285607415\n",
      "Training Step: 497\n",
      "total discriminator loss:0.45408617556234687\n",
      "Training Step: 498\n",
      "total discriminator loss:0.48015501225862983\n",
      "Training Step: 499\n"
     ]
    },
    {
     "name": "stderr",
     "output_type": "stream",
     "text": [
      "501it [00:37, 13.12it/s]"
     ]
    },
    {
     "name": "stdout",
     "output_type": "stream",
     "text": [
      "total discriminator loss:0.43308707976135463\n",
      "Training Step: 500\n",
      "total discriminator loss:0.44038918892653905\n",
      "Training Step: 501\n",
      "total discriminator loss:0.4847343347294284\n",
      "Training Step: 502\n"
     ]
    },
    {
     "name": "stderr",
     "output_type": "stream",
     "text": [
      "\r",
      "503it [00:37, 13.06it/s]"
     ]
    },
    {
     "name": "stdout",
     "output_type": "stream",
     "text": [
      "total discriminator loss:0.44236890247386335\n",
      "Training Step: 503\n",
      "total discriminator loss:0.40634366869436644\n",
      "Training Step: 504\n",
      "total discriminator loss:0.4456049830073876\n",
      "Training Step: 505\n"
     ]
    },
    {
     "name": "stderr",
     "output_type": "stream",
     "text": [
      "507it [00:38, 13.00it/s]"
     ]
    },
    {
     "name": "stdout",
     "output_type": "stream",
     "text": [
      "total discriminator loss:0.5022711764375631\n",
      "Training Step: 506\n",
      "total discriminator loss:0.4557689991077978\n",
      "Training Step: 507\n",
      "total discriminator loss:0.4242789338661396\n",
      "Training Step: 508\n"
     ]
    },
    {
     "name": "stderr",
     "output_type": "stream",
     "text": [
      "\r",
      "509it [00:38, 12.95it/s]"
     ]
    },
    {
     "name": "stdout",
     "output_type": "stream",
     "text": [
      "total discriminator loss:0.47302280929305474\n",
      "Training Step: 509\n",
      "total discriminator loss:0.4423707362739553\n",
      "Training Step: 510\n",
      "total discriminator loss:0.45437541785281566\n",
      "Training Step: 511\n"
     ]
    },
    {
     "name": "stderr",
     "output_type": "stream",
     "text": [
      "513it [00:38, 12.81it/s]"
     ]
    },
    {
     "name": "stdout",
     "output_type": "stream",
     "text": [
      "total discriminator loss:0.47493241656885155\n",
      "Training Step: 512\n",
      "total discriminator loss:0.4646773262983823\n",
      "Training Step: 513\n",
      "total discriminator loss:0.47694808147853107\n",
      "Training Step: 514\n"
     ]
    },
    {
     "name": "stderr",
     "output_type": "stream",
     "text": [
      "\r",
      "515it [00:38, 12.92it/s]"
     ]
    },
    {
     "name": "stdout",
     "output_type": "stream",
     "text": [
      "total discriminator loss:0.4616152473651817\n",
      "Training Step: 515\n",
      "total discriminator loss:0.41544840222090684\n",
      "Training Step: 516\n",
      "total discriminator loss:0.44665263871993166\n",
      "Training Step: 517\n"
     ]
    },
    {
     "name": "stderr",
     "output_type": "stream",
     "text": [
      "519it [00:39, 12.88it/s]"
     ]
    },
    {
     "name": "stdout",
     "output_type": "stream",
     "text": [
      "total discriminator loss:0.448521872760289\n",
      "Training Step: 518\n",
      "total discriminator loss:0.4712552090414758\n",
      "Training Step: 519\n",
      "total discriminator loss:0.41459859012353023\n",
      "Training Step: 520\n"
     ]
    },
    {
     "name": "stderr",
     "output_type": "stream",
     "text": [
      "\r",
      "521it [00:39, 12.69it/s]"
     ]
    },
    {
     "name": "stdout",
     "output_type": "stream",
     "text": [
      "total discriminator loss:0.48167291611495\n",
      "Training Step: 521\n",
      "total discriminator loss:0.475382503599556\n",
      "Training Step: 522\n",
      "total discriminator loss:0.43529115581565336\n",
      "Training Step: 523\n"
     ]
    },
    {
     "name": "stderr",
     "output_type": "stream",
     "text": [
      "\r",
      "523it [00:39, 12.69it/s]"
     ]
    },
    {
     "name": "stdout",
     "output_type": "stream",
     "text": [
      "total discriminator loss:0.43928009444011284\n",
      "Training Step: 524\n",
      "total discriminator loss:0.46045772666321305\n",
      "Training Step: 525\n",
      "total discriminator loss:0.46820541950043926\n"
     ]
    },
    {
     "name": "stderr",
     "output_type": "stream",
     "text": [
      "527it [00:39, 12.17it/s]"
     ]
    },
    {
     "name": "stdout",
     "output_type": "stream",
     "text": [
      "Training Step: 526\n",
      "total discriminator loss:0.42345351370353856\n",
      "Training Step: 527\n",
      "total discriminator loss:0.415582401247491\n",
      "Training Step: 528\n",
      "total discriminator loss:0.44285798922200914\n"
     ]
    },
    {
     "name": "stderr",
     "output_type": "stream",
     "text": [
      "\r",
      "529it [00:39, 12.56it/s]"
     ]
    },
    {
     "name": "stdout",
     "output_type": "stream",
     "text": [
      "Training Step: 529\n",
      "total discriminator loss:0.41961811257262227\n",
      "Training Step: 530\n",
      "total discriminator loss:0.4491075539266516\n",
      "Training Step: 531\n",
      "total discriminator loss:0.4418317785025868\n"
     ]
    },
    {
     "name": "stderr",
     "output_type": "stream",
     "text": [
      "533it [00:40, 13.11it/s]"
     ]
    },
    {
     "name": "stdout",
     "output_type": "stream",
     "text": [
      "Training Step: 532\n",
      "total discriminator loss:0.44946570681358733\n",
      "Training Step: 533\n",
      "total discriminator loss:0.4400649018112182\n",
      "Training Step: 534\n",
      "total discriminator loss:0.3827729944690187\n"
     ]
    },
    {
     "name": "stderr",
     "output_type": "stream",
     "text": [
      "\r",
      "535it [00:40, 12.95it/s]"
     ]
    },
    {
     "name": "stdout",
     "output_type": "stream",
     "text": [
      "Training Step: 535\n",
      "total discriminator loss:0.41373609668647937\n",
      "Training Step: 536\n",
      "total discriminator loss:0.4523778528263403\n",
      "Training Step: 537\n"
     ]
    },
    {
     "name": "stderr",
     "output_type": "stream",
     "text": [
      "539it [00:40, 12.82it/s]"
     ]
    },
    {
     "name": "stdout",
     "output_type": "stream",
     "text": [
      "total discriminator loss:0.4614273783765548\n",
      "Training Step: 538\n",
      "total discriminator loss:0.45976582366701757\n",
      "Training Step: 539\n",
      "total discriminator loss:0.42089919495586114\n",
      "Training Step: 540\n"
     ]
    },
    {
     "name": "stderr",
     "output_type": "stream",
     "text": [
      "\r",
      "541it [00:40, 12.94it/s]"
     ]
    },
    {
     "name": "stdout",
     "output_type": "stream",
     "text": [
      "total discriminator loss:0.3849432781446764\n",
      "Training Step: 541\n",
      "total discriminator loss:0.4783721017789736\n",
      "Training Step: 542\n",
      "total discriminator loss:0.4071393555960242\n",
      "Training Step: 543\n"
     ]
    },
    {
     "name": "stderr",
     "output_type": "stream",
     "text": [
      "545it [00:41, 12.50it/s]"
     ]
    },
    {
     "name": "stdout",
     "output_type": "stream",
     "text": [
      "total discriminator loss:0.41736757279839304\n",
      "Training Step: 544\n",
      "total discriminator loss:0.40626540036904335\n",
      "Training Step: 545\n",
      "total discriminator loss:0.4447542585337557\n",
      "Training Step: 546\n"
     ]
    },
    {
     "name": "stderr",
     "output_type": "stream",
     "text": [
      "\r",
      "547it [00:41, 12.70it/s]"
     ]
    },
    {
     "name": "stdout",
     "output_type": "stream",
     "text": [
      "total discriminator loss:0.37644355639598936\n",
      "Training Step: 547\n",
      "total discriminator loss:0.4187819475484937\n",
      "Training Step: 548\n",
      "total discriminator loss:0.4010996728693492\n",
      "Training Step: 549\n"
     ]
    },
    {
     "name": "stderr",
     "output_type": "stream",
     "text": [
      "551it [00:41, 12.96it/s]"
     ]
    },
    {
     "name": "stdout",
     "output_type": "stream",
     "text": [
      "total discriminator loss:0.4180859667048912\n",
      "Training Step: 550\n",
      "total discriminator loss:0.4676318605999247\n",
      "Training Step: 551\n",
      "total discriminator loss:0.37696632113061035\n",
      "Training Step: 552\n"
     ]
    },
    {
     "name": "stderr",
     "output_type": "stream",
     "text": [
      "\r",
      "553it [00:41, 12.85it/s]"
     ]
    },
    {
     "name": "stdout",
     "output_type": "stream",
     "text": [
      "total discriminator loss:0.4153040849110422\n",
      "Training Step: 553\n",
      "total discriminator loss:0.47107802237394425\n",
      "Training Step: 554\n",
      "total discriminator loss:0.41796955080409126\n",
      "Training Step: 555\n"
     ]
    },
    {
     "name": "stderr",
     "output_type": "stream",
     "text": [
      "557it [00:42, 12.77it/s]"
     ]
    },
    {
     "name": "stdout",
     "output_type": "stream",
     "text": [
      "total discriminator loss:0.42709639757902196\n",
      "Training Step: 556\n",
      "total discriminator loss:0.4107703845187004\n",
      "Training Step: 557\n",
      "total discriminator loss:0.46299437413286487\n",
      "Training Step: 558\n"
     ]
    },
    {
     "name": "stderr",
     "output_type": "stream",
     "text": [
      "\r",
      "559it [00:42, 12.78it/s]"
     ]
    },
    {
     "name": "stdout",
     "output_type": "stream",
     "text": [
      "total discriminator loss:0.4118168479820481\n",
      "Training Step: 559\n",
      "total discriminator loss:0.41391967237944427\n",
      "Training Step: 560\n",
      "total discriminator loss:0.4305437096300653\n",
      "Training Step: 561\n"
     ]
    },
    {
     "name": "stderr",
     "output_type": "stream",
     "text": [
      "563it [00:42, 12.76it/s]"
     ]
    },
    {
     "name": "stdout",
     "output_type": "stream",
     "text": [
      "total discriminator loss:0.41380809686152903\n",
      "Training Step: 562\n",
      "total discriminator loss:0.443639839010612\n",
      "Training Step: 563\n",
      "total discriminator loss:0.4765606135403607\n",
      "Training Step: 564\n"
     ]
    },
    {
     "name": "stderr",
     "output_type": "stream",
     "text": [
      "\r",
      "565it [00:42, 12.70it/s]"
     ]
    },
    {
     "name": "stdout",
     "output_type": "stream",
     "text": [
      "total discriminator loss:0.42591076538439276\n",
      "Training Step: 565\n",
      "total discriminator loss:0.3853801382235434\n",
      "Training Step: 566\n",
      "total discriminator loss:0.42722460180376887\n",
      "Training Step: 567\n"
     ]
    },
    {
     "name": "stderr",
     "output_type": "stream",
     "text": [
      "569it [00:42, 12.88it/s]"
     ]
    },
    {
     "name": "stdout",
     "output_type": "stream",
     "text": [
      "total discriminator loss:0.4856760095479941\n",
      "Training Step: 568\n",
      "total discriminator loss:0.41448221350851866\n",
      "Training Step: 569\n",
      "total discriminator loss:0.37933061741910434\n",
      "Training Step: 570\n"
     ]
    },
    {
     "name": "stderr",
     "output_type": "stream",
     "text": [
      "\r",
      "571it [00:43, 12.77it/s]"
     ]
    },
    {
     "name": "stdout",
     "output_type": "stream",
     "text": [
      "total discriminator loss:0.41996131062241754\n",
      "Training Step: 571\n",
      "total discriminator loss:0.4428137650290923\n",
      "Training Step: 572\n",
      "total discriminator loss:0.4162901547734509\n",
      "Training Step: 573\n"
     ]
    },
    {
     "name": "stderr",
     "output_type": "stream",
     "text": [
      "575it [00:43, 12.93it/s]"
     ]
    },
    {
     "name": "stdout",
     "output_type": "stream",
     "text": [
      "total discriminator loss:0.47311862252305675\n",
      "Training Step: 574\n",
      "total discriminator loss:0.5204189031481022\n",
      "Training Step: 575\n",
      "total discriminator loss:0.44467069742635507\n",
      "Training Step: 576\n"
     ]
    },
    {
     "name": "stderr",
     "output_type": "stream",
     "text": [
      "\r",
      "577it [00:43, 12.95it/s]"
     ]
    },
    {
     "name": "stdout",
     "output_type": "stream",
     "text": [
      "total discriminator loss:0.4209936496646191\n",
      "Training Step: 577\n",
      "total discriminator loss:0.3996321939111419\n",
      "Training Step: 578\n",
      "total discriminator loss:0.40690189658809284\n",
      "Training Step: 579\n"
     ]
    },
    {
     "name": "stderr",
     "output_type": "stream",
     "text": [
      "581it [00:43, 12.79it/s]"
     ]
    },
    {
     "name": "stdout",
     "output_type": "stream",
     "text": [
      "total discriminator loss:0.43894471868944007\n",
      "Training Step: 580\n",
      "total discriminator loss:0.39456321730819616\n",
      "Training Step: 581\n",
      "total discriminator loss:0.46447729412779104\n",
      "Training Step: 582\n"
     ]
    },
    {
     "name": "stderr",
     "output_type": "stream",
     "text": [
      "\r",
      "583it [00:44, 12.75it/s]"
     ]
    },
    {
     "name": "stdout",
     "output_type": "stream",
     "text": [
      "total discriminator loss:0.4119367174820168\n",
      "Training Step: 583\n",
      "total discriminator loss:0.40948286320503263\n",
      "Training Step: 584\n",
      "total discriminator loss:0.4000918527559204\n",
      "Training Step: 585\n"
     ]
    },
    {
     "name": "stderr",
     "output_type": "stream",
     "text": [
      "587it [00:44, 13.48it/s]"
     ]
    },
    {
     "name": "stdout",
     "output_type": "stream",
     "text": [
      "total discriminator loss:0.44460725616131885\n",
      "Training Step: 586\n",
      "total discriminator loss:0.4534908708170663\n",
      "Training Step: 587\n",
      "total discriminator loss:0.3930533980454421\n",
      "Training Step: 588\n"
     ]
    },
    {
     "name": "stderr",
     "output_type": "stream",
     "text": [
      "\r",
      "589it [00:44, 13.27it/s]"
     ]
    },
    {
     "name": "stdout",
     "output_type": "stream",
     "text": [
      "total discriminator loss:0.4481984827113594\n",
      "Training Step: 589\n",
      "total discriminator loss:0.42519133060993586\n",
      "Training Step: 590\n",
      "total discriminator loss:0.4647873333704675\n",
      "Training Step: 591\n"
     ]
    },
    {
     "name": "stderr",
     "output_type": "stream",
     "text": [
      "593it [00:44, 13.22it/s]"
     ]
    },
    {
     "name": "stdout",
     "output_type": "stream",
     "text": [
      "total discriminator loss:0.45374949837774115\n",
      "Training Step: 592\n",
      "total discriminator loss:0.4066732051544837\n",
      "Training Step: 593\n",
      "total discriminator loss:0.4158319536191135\n",
      "Training Step: 594\n"
     ]
    },
    {
     "name": "stderr",
     "output_type": "stream",
     "text": [
      "\r",
      "595it [00:44, 13.44it/s]"
     ]
    },
    {
     "name": "stdout",
     "output_type": "stream",
     "text": [
      "total discriminator loss:0.4311681478937353\n",
      "Training Step: 595\n",
      "total discriminator loss:0.4558927493272952\n",
      "Training Step: 596\n",
      "total discriminator loss:0.42552760254655797\n",
      "Training Step: 597\n"
     ]
    },
    {
     "name": "stderr",
     "output_type": "stream",
     "text": [
      "599it [00:45, 13.24it/s]"
     ]
    },
    {
     "name": "stdout",
     "output_type": "stream",
     "text": [
      "total discriminator loss:0.4041405382523628\n",
      "Training Step: 598\n",
      "total discriminator loss:0.42308833890663383\n",
      "Training Step: 599\n",
      "total discriminator loss:0.41889289371528293\n",
      "Training Step: 600\n"
     ]
    },
    {
     "name": "stderr",
     "output_type": "stream",
     "text": [
      "602it [00:45, 13.23it/s]"
     ]
    },
    {
     "name": "stdout",
     "output_type": "stream",
     "text": [
      "total discriminator loss:0.40415732430518336\n",
      "Training Step: 601\n",
      "total discriminator loss:0.48147082007687136\n",
      "Training Step: 602\n",
      "total discriminator loss:0.44264870395256534\n"
     ]
    },
    {
     "name": "stderr",
     "output_type": "stream",
     "text": [
      "\n"
     ]
    }
   ],
   "source": [
    "step = 0\n",
    "OPTIMIZER = Adam(lr=1e-3)\n",
    "for event_type_batch, labels in tqdm(pretrain_D_dataset.take(1000)):\n",
    "    step += 1\n",
    "    print('Training Step:', step)\n",
    "\n",
    "    disc_token_loss = pretrain_discriminator(event_type_batch, labels, pretrained_discriminator, verbose=True, optimizer=OPTIMIZER)\n",
    "    pretrain_disc_token_loss_history.append(disc_token_loss.numpy())"
   ]
  },
  {
   "cell_type": "code",
   "execution_count": 41,
   "id": "practical-column",
   "metadata": {},
   "outputs": [
    {
     "data": {
      "text/plain": [
       "'/home/lun/project-basileus/multitype-sequence-generation-by-tlstm-gan/models/discrete-seq-gan-gs'"
      ]
     },
     "execution_count": 41,
     "metadata": {},
     "output_type": "execute_result"
    }
   ],
   "source": [
    "model_save_dir"
   ]
  },
  {
   "cell_type": "code",
   "execution_count": 42,
   "id": "working-reason",
   "metadata": {},
   "outputs": [],
   "source": [
    "if not os.path.exists(model_save_dir + '/pretrained_disc_weights'):\n",
    "    os.makedirs(model_save_dir + '/pretrained_disc_weights')\n",
    "\n",
    "D_save_path = model_save_dir + '/pretrained_disc_weights/model.tf'\n",
    "pretrained_discriminator.save_weights(D_save_path)"
   ]
  },
  {
   "cell_type": "code",
   "execution_count": 43,
   "id": "cultural-travel",
   "metadata": {
    "scrolled": true
   },
   "outputs": [
    {
     "name": "stdout",
     "output_type": "stream",
     "text": [
      "Model: \"model_4\"\n",
      "_________________________________________________________________\n",
      "Layer (type)                 Output Shape              Param #   \n",
      "=================================================================\n",
      "event_type (InputLayer)      [(256, None, 6)]          0         \n",
      "_________________________________________________________________\n",
      "dense_emb (Dense)            (256, None, 16)           112       \n",
      "_________________________________________________________________\n",
      "lstm (LSTM)                  (256, 16)                 2112      \n",
      "_________________________________________________________________\n",
      "dropout_1 (Dropout)          (256, 16)                 0         \n",
      "_________________________________________________________________\n",
      "final (Dense)                (256, 1)                  17        \n",
      "=================================================================\n",
      "Total params: 2,241\n",
      "Trainable params: 2,241\n",
      "Non-trainable params: 0\n",
      "_________________________________________________________________\n"
     ]
    }
   ],
   "source": [
    "reload_pretrained_disc = build_D_RNN(\n",
    "                                   batch_size=BATCH_SIZE,\n",
    "                                   T=T,\n",
    "                                   event_vocab_dim=EVENT_VOCAB_DIM,\n",
    "                                   emb_dim=EMB_DIM,\n",
    "                                   dropout_rate=0.25)\n",
    "\n",
    "reload_pretrained_disc.build(input_shape=((BATCH_SIZE, T, 1)))\n",
    "reload_pretrained_disc.load_weights(D_save_path)\n",
    "reload_pretrained_disc.summary()"
   ]
  },
  {
   "cell_type": "markdown",
   "id": "north-bacon",
   "metadata": {},
   "source": [
    "## Gumbel  Traning"
   ]
  },
  {
   "cell_type": "code",
   "execution_count": 44,
   "id": "indian-assist",
   "metadata": {},
   "outputs": [],
   "source": [
    "def train_generator_gumbel(generator, discriminator, batch_size, T, verbose=False,                   \n",
    "                    optimizer=Adam(lr=0.001)):\n",
    "    \n",
    "    with tf.GradientTape() as tape:                        \n",
    "\n",
    "        G_sample = generate_sequences_gumbel(batch_size, generator, batch_size, T)\n",
    "        D_fake = discriminator(G_sample)\n",
    "\n",
    "        generator_loss = tf.reduce_mean(tf.keras.losses.binary_crossentropy(tf.ones_like(D_fake), D_fake))\n",
    "        \n",
    "    if verbose:\n",
    "        print('generator loss:{}'.format(generator_loss))\n",
    "        print('-----------------------')\n",
    "\n",
    "    # update generator\n",
    "    generator_grads = tape.gradient(generator_loss, generator.trainable_variables)\n",
    "    optimizer.apply_gradients(zip(generator_grads, generator.trainable_variables))\n",
    "\n",
    "    return generator_loss\n",
    "\n",
    "\n",
    "def train_discriminator_gumbel(real_data_batch, generator, discriminator, batch_size, T, verbose=False,\n",
    "                        optimizer=Adam(lr=0.001)):\n",
    "\n",
    "    # data prep\n",
    "    real_labels = tf.ones((batch_size//2, 1))        \n",
    "    fake_labels = tf.zeros((batch_size//2, 1))    \n",
    "    \n",
    "    real_data_batch = real_data_batch[:batch_size//2, :, :]\n",
    "\n",
    "    fake_data_batch = generate_sequences_gumbel(batch_size//2, generator, batch_size, T)\n",
    "    \n",
    "    total_data = tf.concat([fake_data_batch, real_data_batch], axis=0)\n",
    "    total_labels = tf.concat([fake_labels, real_labels], axis=0)\n",
    "        \n",
    "    # train the discriminator\n",
    "    with tf.GradientTape() as tape:                                                           \n",
    "        # train discriminator\n",
    "        pred_prob = discriminator(total_data)\n",
    "\n",
    "        # cross-entropy loss\n",
    "        discriminator_loss = tf.reduce_mean(\n",
    "            tf.keras.losses.binary_crossentropy(total_labels, pred_prob, from_logits=False))\n",
    "\n",
    "        # average true return\n",
    "        average_true_return = tf.reduce_mean(pred_prob)\n",
    "        \n",
    "        if verbose:\n",
    "            print('total discriminator loss:{}'.format(discriminator_loss))\n",
    "            print('average true return:{}'.format(average_true_return))\n",
    "            print('-----------------------')\n",
    "\n",
    "    grads = tape.gradient(discriminator_loss, discriminator.trainable_variables)\n",
    "    optimizer.apply_gradients(zip(grads, discriminator.trainable_variables))\n",
    "\n",
    "    return discriminator_loss, average_true_return"
   ]
  },
  {
   "cell_type": "code",
   "execution_count": 45,
   "id": "immediate-perry",
   "metadata": {
    "scrolled": true
   },
   "outputs": [
    {
     "name": "stdout",
     "output_type": "stream",
     "text": [
      "Model: \"model_5\"\n",
      "_________________________________________________________________\n",
      "Layer (type)                 Output Shape              Param #   \n",
      "=================================================================\n",
      "event_type (InputLayer)      [(256, None, 6)]          0         \n",
      "_________________________________________________________________\n",
      "dense_emb (Dense)            (256, None, 16)           112       \n",
      "_________________________________________________________________\n",
      "lstm (LSTM)                  (256, 16)                 2112      \n",
      "_________________________________________________________________\n",
      "dense_1 (Dense)              (256, 6)                  102       \n",
      "=================================================================\n",
      "Total params: 2,326\n",
      "Trainable params: 2,326\n",
      "Non-trainable params: 0\n",
      "_________________________________________________________________\n",
      "Model: \"model_6\"\n",
      "_________________________________________________________________\n",
      "Layer (type)                 Output Shape              Param #   \n",
      "=================================================================\n",
      "event_type (InputLayer)      [(256, None, 6)]          0         \n",
      "_________________________________________________________________\n",
      "dense_emb (Dense)            (256, None, 16)           112       \n",
      "_________________________________________________________________\n",
      "lstm (LSTM)                  (256, 16)                 2112      \n",
      "_________________________________________________________________\n",
      "dropout_2 (Dropout)          (256, 16)                 0         \n",
      "_________________________________________________________________\n",
      "final (Dense)                (256, 1)                  17        \n",
      "=================================================================\n",
      "Total params: 2,241\n",
      "Trainable params: 2,241\n",
      "Non-trainable params: 0\n",
      "_________________________________________________________________\n"
     ]
    }
   ],
   "source": [
    "G_save_path = model_save_dir + '/pretrained_gen_weights/model.tf'\n",
    "D_save_path = model_save_dir + '/pretrained_disc_weights/model.tf'\n",
    "\n",
    "G = build_G(\n",
    "    batch_size = BATCH_SIZE,\n",
    "    event_vocab_dim = EVENT_VOCAB_DIM,\n",
    "    emb_dim = EMB_DIM,\n",
    "    hidden_dim= HIDDEN_DIM,\n",
    ")\n",
    "\n",
    "G.build(input_shape=((BATCH_SIZE, T, 1)))\n",
    "G.load_weights(G_save_path)\n",
    "G.summary()\n",
    "\n",
    "D = build_D_RNN(batch_size=BATCH_SIZE, T=T,\n",
    "            event_vocab_dim=EVENT_VOCAB_DIM,\n",
    "            emb_dim=EMB_DIM,\n",
    "            dropout_rate=0.25)\n",
    "\n",
    "D.build(input_shape=((BATCH_SIZE, T, 1)))\n",
    "D.load_weights(D_save_path)\n",
    "D.summary()"
   ]
  },
  {
   "cell_type": "code",
   "execution_count": 46,
   "id": "twelve-transcript",
   "metadata": {},
   "outputs": [],
   "source": [
    "N_total_G = pos_event_type_seqs.shape[0]\n",
    "\n",
    "EPOCHS = 1\n",
    "_TOTAL_STEPS = int(EPOCHS * N_total_G / BATCH_SIZE)\n",
    "\n",
    "\n",
    "train_dataset = create_dataset(pos_event_type_seqs,\n",
    "                             np.ones((N_total_G, 1)),\n",
    "                             batch_size=BATCH_SIZE,\n",
    "                             epochs=EPOCHS,\n",
    "                             buffer_size=N_total_G)\n",
    "\n",
    "gen_loss_history = []\n",
    "disc_loss_history = []\n",
    "\n",
    "step = 0\n",
    "\n",
    "G_optimizer = Adam(learning_rate=1e-3)\n",
    "D_optimizer = Adam(learning_rate=1e-3)\n",
    "\n",
    "_G_STEPS = 1\n",
    "_D_STEPS = 1"
   ]
  },
  {
   "cell_type": "code",
   "execution_count": 47,
   "id": "tribal-parking",
   "metadata": {
    "scrolled": true
   },
   "outputs": [
    {
     "name": "stderr",
     "output_type": "stream",
     "text": [
      "\r",
      "0it [00:00, ?it/s]"
     ]
    },
    {
     "name": "stdout",
     "output_type": "stream",
     "text": [
      "Training Step: 1\n",
      "generator loss:2.1536699999171054\n",
      "-----------------------\n"
     ]
    },
    {
     "name": "stderr",
     "output_type": "stream",
     "text": [
      "\r",
      "1it [00:00,  1.25it/s]"
     ]
    },
    {
     "name": "stdout",
     "output_type": "stream",
     "text": [
      "total discriminator loss:0.4919253358028901\n",
      "average true return:0.5368266695275593\n",
      "-----------------------\n",
      "Training Step: 2\n",
      "generator loss:2.5663610239632373\n",
      "-----------------------\n"
     ]
    },
    {
     "name": "stderr",
     "output_type": "stream",
     "text": [
      "\r",
      "2it [00:01,  1.61it/s]"
     ]
    },
    {
     "name": "stdout",
     "output_type": "stream",
     "text": [
      "total discriminator loss:0.4828037619292962\n",
      "average true return:0.4065915045378684\n",
      "-----------------------\n",
      "Training Step: 3\n",
      "generator loss:2.3519589574084097\n",
      "-----------------------\n"
     ]
    },
    {
     "name": "stderr",
     "output_type": "stream",
     "text": [
      "\r",
      "3it [00:01,  1.79it/s]"
     ]
    },
    {
     "name": "stdout",
     "output_type": "stream",
     "text": [
      "total discriminator loss:0.47043867160067837\n",
      "average true return:0.5011288228265887\n",
      "-----------------------\n",
      "Training Step: 4\n",
      "generator loss:2.068373208734319\n",
      "-----------------------\n"
     ]
    },
    {
     "name": "stderr",
     "output_type": "stream",
     "text": [
      "\r",
      "4it [00:02,  1.86it/s]"
     ]
    },
    {
     "name": "stdout",
     "output_type": "stream",
     "text": [
      "total discriminator loss:0.4274635190368038\n",
      "average true return:0.5038947717474688\n",
      "-----------------------\n",
      "Training Step: 5\n",
      "generator loss:1.927036807277964\n",
      "-----------------------\n"
     ]
    },
    {
     "name": "stderr",
     "output_type": "stream",
     "text": [
      "\r",
      "5it [00:02,  1.94it/s]"
     ]
    },
    {
     "name": "stdout",
     "output_type": "stream",
     "text": [
      "total discriminator loss:0.47386551142835187\n",
      "average true return:0.5461978501087367\n",
      "-----------------------\n",
      "Training Step: 6\n",
      "generator loss:1.8143416503333967\n",
      "-----------------------\n"
     ]
    },
    {
     "name": "stderr",
     "output_type": "stream",
     "text": [
      "\r",
      "6it [00:03,  1.87it/s]"
     ]
    },
    {
     "name": "stdout",
     "output_type": "stream",
     "text": [
      "total discriminator loss:0.47360091533055343\n",
      "average true return:0.5435039139221761\n",
      "-----------------------\n",
      "Training Step: 7\n",
      "generator loss:1.8064347050309126\n",
      "-----------------------\n"
     ]
    },
    {
     "name": "stderr",
     "output_type": "stream",
     "text": [
      "\r",
      "7it [00:03,  1.92it/s]"
     ]
    },
    {
     "name": "stdout",
     "output_type": "stream",
     "text": [
      "total discriminator loss:0.5279755229434293\n",
      "average true return:0.5874829447333214\n",
      "-----------------------\n",
      "Training Step: 8\n",
      "generator loss:1.83484753339047\n",
      "-----------------------\n"
     ]
    },
    {
     "name": "stderr",
     "output_type": "stream",
     "text": [
      "\r",
      "8it [00:04,  1.95it/s]"
     ]
    },
    {
     "name": "stdout",
     "output_type": "stream",
     "text": [
      "total discriminator loss:0.47431030205517366\n",
      "average true return:0.5552895154226487\n",
      "-----------------------\n",
      "Training Step: 9\n",
      "generator loss:1.9035051246530563\n",
      "-----------------------\n"
     ]
    },
    {
     "name": "stderr",
     "output_type": "stream",
     "text": [
      "\r",
      "9it [00:04,  1.96it/s]"
     ]
    },
    {
     "name": "stdout",
     "output_type": "stream",
     "text": [
      "total discriminator loss:0.46935425112041923\n",
      "average true return:0.5311564108067723\n",
      "-----------------------\n",
      "Training Step: 10\n",
      "generator loss:1.9723743117287316\n",
      "-----------------------\n"
     ]
    },
    {
     "name": "stderr",
     "output_type": "stream",
     "text": [
      "\r",
      "10it [00:05,  1.96it/s]"
     ]
    },
    {
     "name": "stdout",
     "output_type": "stream",
     "text": [
      "total discriminator loss:0.49454871457145816\n",
      "average true return:0.5290555131644372\n",
      "-----------------------\n",
      "Training Step: 11\n",
      "generator loss:1.995376079845665\n",
      "-----------------------\n"
     ]
    },
    {
     "name": "stderr",
     "output_type": "stream",
     "text": [
      "\r",
      "11it [00:05,  1.99it/s]"
     ]
    },
    {
     "name": "stdout",
     "output_type": "stream",
     "text": [
      "total discriminator loss:0.4869723963662477\n",
      "average true return:0.4862988095735101\n",
      "-----------------------\n",
      "Training Step: 12\n",
      "generator loss:1.866636597165999\n",
      "-----------------------\n"
     ]
    },
    {
     "name": "stderr",
     "output_type": "stream",
     "text": [
      "\r",
      "12it [00:06,  2.01it/s]"
     ]
    },
    {
     "name": "stdout",
     "output_type": "stream",
     "text": [
      "total discriminator loss:0.48491500636628265\n",
      "average true return:0.474191202709107\n",
      "-----------------------\n",
      "Training Step: 13\n",
      "generator loss:2.0511695885791195\n",
      "-----------------------\n"
     ]
    },
    {
     "name": "stderr",
     "output_type": "stream",
     "text": [
      "\r",
      "13it [00:06,  2.02it/s]"
     ]
    },
    {
     "name": "stdout",
     "output_type": "stream",
     "text": [
      "total discriminator loss:0.5410753081836794\n",
      "average true return:0.49737023908651634\n",
      "-----------------------\n",
      "Training Step: 14\n",
      "generator loss:1.8057103078152823\n",
      "-----------------------\n"
     ]
    },
    {
     "name": "stderr",
     "output_type": "stream",
     "text": [
      "\r",
      "14it [00:07,  2.02it/s]"
     ]
    },
    {
     "name": "stdout",
     "output_type": "stream",
     "text": [
      "total discriminator loss:0.5255896204910093\n",
      "average true return:0.46335534665401407\n",
      "-----------------------\n",
      "Training Step: 15\n",
      "generator loss:1.7893343477272095\n",
      "-----------------------\n"
     ]
    },
    {
     "name": "stderr",
     "output_type": "stream",
     "text": [
      "\r",
      "15it [00:07,  2.02it/s]"
     ]
    },
    {
     "name": "stdout",
     "output_type": "stream",
     "text": [
      "total discriminator loss:0.5349838619573328\n",
      "average true return:0.5331903371615494\n",
      "-----------------------\n",
      "Training Step: 16\n",
      "generator loss:1.8199970224326656\n",
      "-----------------------\n"
     ]
    },
    {
     "name": "stderr",
     "output_type": "stream",
     "text": [
      "\r",
      "16it [00:08,  1.97it/s]"
     ]
    },
    {
     "name": "stdout",
     "output_type": "stream",
     "text": [
      "total discriminator loss:0.5005286435715461\n",
      "average true return:0.5086638780610246\n",
      "-----------------------\n",
      "Training Step: 17\n",
      "generator loss:1.6844639758858584\n",
      "-----------------------\n"
     ]
    },
    {
     "name": "stderr",
     "output_type": "stream",
     "text": [
      "\r",
      "17it [00:08,  1.97it/s]"
     ]
    },
    {
     "name": "stdout",
     "output_type": "stream",
     "text": [
      "total discriminator loss:0.5661942050878657\n",
      "average true return:0.5579008343348422\n",
      "-----------------------\n",
      "Training Step: 18\n",
      "generator loss:1.484558259863702\n",
      "-----------------------\n"
     ]
    },
    {
     "name": "stderr",
     "output_type": "stream",
     "text": [
      "\r",
      "18it [00:09,  1.97it/s]"
     ]
    },
    {
     "name": "stdout",
     "output_type": "stream",
     "text": [
      "total discriminator loss:0.5302014814800777\n",
      "average true return:0.557400134329324\n",
      "-----------------------\n",
      "Training Step: 19\n",
      "generator loss:1.6151118795312094\n",
      "-----------------------\n"
     ]
    },
    {
     "name": "stderr",
     "output_type": "stream",
     "text": [
      "\r",
      "19it [00:09,  1.98it/s]"
     ]
    },
    {
     "name": "stdout",
     "output_type": "stream",
     "text": [
      "total discriminator loss:0.5556708807468319\n",
      "average true return:0.571086719794071\n",
      "-----------------------\n",
      "Training Step: 20\n",
      "generator loss:1.4173134568402137\n",
      "-----------------------\n"
     ]
    },
    {
     "name": "stderr",
     "output_type": "stream",
     "text": [
      "\r",
      "20it [00:10,  2.00it/s]"
     ]
    },
    {
     "name": "stdout",
     "output_type": "stream",
     "text": [
      "total discriminator loss:0.5398342875932843\n",
      "average true return:0.5549760302069413\n",
      "-----------------------\n",
      "Training Step: 21\n",
      "generator loss:1.53958892833395\n",
      "-----------------------\n"
     ]
    },
    {
     "name": "stderr",
     "output_type": "stream",
     "text": [
      "\r",
      "21it [00:10,  2.03it/s]"
     ]
    },
    {
     "name": "stdout",
     "output_type": "stream",
     "text": [
      "total discriminator loss:0.5254249987571639\n",
      "average true return:0.5485230811095647\n",
      "-----------------------\n",
      "Training Step: 22\n",
      "generator loss:1.4824039694085984\n",
      "-----------------------\n"
     ]
    },
    {
     "name": "stderr",
     "output_type": "stream",
     "text": [
      "\r",
      "22it [00:11,  2.03it/s]"
     ]
    },
    {
     "name": "stdout",
     "output_type": "stream",
     "text": [
      "total discriminator loss:0.5315842083228814\n",
      "average true return:0.535587568685379\n",
      "-----------------------\n",
      "Training Step: 23\n",
      "generator loss:1.5224014861367243\n",
      "-----------------------\n"
     ]
    },
    {
     "name": "stderr",
     "output_type": "stream",
     "text": [
      "\r",
      "23it [00:11,  1.98it/s]"
     ]
    },
    {
     "name": "stdout",
     "output_type": "stream",
     "text": [
      "total discriminator loss:0.5342581870659099\n",
      "average true return:0.5101624109945533\n",
      "-----------------------\n",
      "Training Step: 24\n",
      "generator loss:1.601137825796747\n",
      "-----------------------\n"
     ]
    },
    {
     "name": "stderr",
     "output_type": "stream",
     "text": [
      "\r",
      "24it [00:12,  1.99it/s]"
     ]
    },
    {
     "name": "stdout",
     "output_type": "stream",
     "text": [
      "total discriminator loss:0.5072976303701123\n",
      "average true return:0.47967039255572896\n",
      "-----------------------\n",
      "Training Step: 25\n",
      "generator loss:1.5643550687457788\n",
      "-----------------------\n"
     ]
    },
    {
     "name": "stderr",
     "output_type": "stream",
     "text": [
      "\r",
      "25it [00:12,  1.99it/s]"
     ]
    },
    {
     "name": "stdout",
     "output_type": "stream",
     "text": [
      "total discriminator loss:0.5087447899921307\n",
      "average true return:0.47661849688447744\n",
      "-----------------------\n",
      "Training Step: 26\n",
      "generator loss:1.6770126788946942\n",
      "-----------------------\n"
     ]
    },
    {
     "name": "stderr",
     "output_type": "stream",
     "text": [
      "\r",
      "26it [00:13,  2.00it/s]"
     ]
    },
    {
     "name": "stdout",
     "output_type": "stream",
     "text": [
      "total discriminator loss:0.5508386373841361\n",
      "average true return:0.45904750786284254\n",
      "-----------------------\n",
      "Training Step: 27\n",
      "generator loss:1.6787843099683644\n",
      "-----------------------\n"
     ]
    },
    {
     "name": "stderr",
     "output_type": "stream",
     "text": [
      "\r",
      "27it [00:13,  1.99it/s]"
     ]
    },
    {
     "name": "stdout",
     "output_type": "stream",
     "text": [
      "total discriminator loss:0.5653404613414067\n",
      "average true return:0.5028964722589859\n",
      "-----------------------\n",
      "Training Step: 28\n",
      "generator loss:1.4174641615024446\n",
      "-----------------------\n"
     ]
    },
    {
     "name": "stderr",
     "output_type": "stream",
     "text": [
      "\r",
      "28it [00:14,  1.96it/s]"
     ]
    },
    {
     "name": "stdout",
     "output_type": "stream",
     "text": [
      "total discriminator loss:0.5580250312565742\n",
      "average true return:0.4947990137116462\n",
      "-----------------------\n",
      "Training Step: 29\n",
      "generator loss:1.5799523857420015\n",
      "-----------------------\n"
     ]
    },
    {
     "name": "stderr",
     "output_type": "stream",
     "text": [
      "\r",
      "29it [00:14,  1.97it/s]"
     ]
    },
    {
     "name": "stdout",
     "output_type": "stream",
     "text": [
      "total discriminator loss:0.556087172270292\n",
      "average true return:0.5025065290599033\n",
      "-----------------------\n",
      "Training Step: 30\n",
      "generator loss:1.4669358754506356\n",
      "-----------------------\n"
     ]
    },
    {
     "name": "stderr",
     "output_type": "stream",
     "text": [
      "\r",
      "30it [00:15,  1.97it/s]"
     ]
    },
    {
     "name": "stdout",
     "output_type": "stream",
     "text": [
      "total discriminator loss:0.5520284729577457\n",
      "average true return:0.516162481488775\n",
      "-----------------------\n",
      "Training Step: 31\n",
      "generator loss:1.4207585905977327\n",
      "-----------------------\n"
     ]
    },
    {
     "name": "stderr",
     "output_type": "stream",
     "text": [
      "\r",
      "31it [00:15,  2.02it/s]"
     ]
    },
    {
     "name": "stdout",
     "output_type": "stream",
     "text": [
      "total discriminator loss:0.5629872277510588\n",
      "average true return:0.526938595128011\n",
      "-----------------------\n",
      "Training Step: 32\n",
      "generator loss:1.2356981414721386\n",
      "-----------------------\n"
     ]
    },
    {
     "name": "stderr",
     "output_type": "stream",
     "text": [
      "\r",
      "32it [00:16,  2.00it/s]"
     ]
    },
    {
     "name": "stdout",
     "output_type": "stream",
     "text": [
      "total discriminator loss:0.6160539012445763\n",
      "average true return:0.5548846552984712\n",
      "-----------------------\n",
      "Training Step: 33\n",
      "generator loss:1.409711831081545\n",
      "-----------------------\n"
     ]
    },
    {
     "name": "stderr",
     "output_type": "stream",
     "text": [
      "\r",
      "33it [00:16,  1.99it/s]"
     ]
    },
    {
     "name": "stdout",
     "output_type": "stream",
     "text": [
      "total discriminator loss:0.5825413548365518\n",
      "average true return:0.5389016497974987\n",
      "-----------------------\n",
      "Training Step: 34\n",
      "generator loss:1.263296359053025\n",
      "-----------------------\n"
     ]
    },
    {
     "name": "stderr",
     "output_type": "stream",
     "text": [
      "\r",
      "34it [00:17,  1.98it/s]"
     ]
    },
    {
     "name": "stdout",
     "output_type": "stream",
     "text": [
      "total discriminator loss:0.5903350201583588\n",
      "average true return:0.5254890298745734\n",
      "-----------------------\n",
      "Training Step: 35\n",
      "generator loss:1.4798382697559467\n",
      "-----------------------\n"
     ]
    },
    {
     "name": "stderr",
     "output_type": "stream",
     "text": [
      "\r",
      "35it [00:17,  1.99it/s]"
     ]
    },
    {
     "name": "stdout",
     "output_type": "stream",
     "text": [
      "total discriminator loss:0.5813648113754253\n",
      "average true return:0.4991906621880402\n",
      "-----------------------\n",
      "Training Step: 36\n",
      "generator loss:1.4717630600850735\n",
      "-----------------------\n"
     ]
    },
    {
     "name": "stderr",
     "output_type": "stream",
     "text": [
      "\r",
      "36it [00:18,  1.98it/s]"
     ]
    },
    {
     "name": "stdout",
     "output_type": "stream",
     "text": [
      "total discriminator loss:0.5801550805556291\n",
      "average true return:0.4939663589041958\n",
      "-----------------------\n",
      "Training Step: 37\n",
      "generator loss:1.4482991545625619\n",
      "-----------------------\n"
     ]
    },
    {
     "name": "stderr",
     "output_type": "stream",
     "text": [
      "\r",
      "37it [00:18,  1.98it/s]"
     ]
    },
    {
     "name": "stdout",
     "output_type": "stream",
     "text": [
      "total discriminator loss:0.6028236561813607\n",
      "average true return:0.48627406877987644\n",
      "-----------------------\n",
      "Training Step: 38\n",
      "generator loss:1.6374226861092356\n",
      "-----------------------\n"
     ]
    },
    {
     "name": "stderr",
     "output_type": "stream",
     "text": [
      "\r",
      "38it [00:19,  1.96it/s]"
     ]
    },
    {
     "name": "stdout",
     "output_type": "stream",
     "text": [
      "total discriminator loss:0.5776879310466475\n",
      "average true return:0.4707135841250528\n",
      "-----------------------\n",
      "Training Step: 39\n",
      "generator loss:1.5358253195341884\n",
      "-----------------------\n"
     ]
    },
    {
     "name": "stderr",
     "output_type": "stream",
     "text": [
      "\r",
      "39it [00:19,  1.97it/s]"
     ]
    },
    {
     "name": "stdout",
     "output_type": "stream",
     "text": [
      "total discriminator loss:0.5878466809674301\n",
      "average true return:0.4921346344843387\n",
      "-----------------------\n",
      "Training Step: 40\n",
      "generator loss:1.3544505902118105\n",
      "-----------------------\n"
     ]
    },
    {
     "name": "stderr",
     "output_type": "stream",
     "text": [
      "\r",
      "40it [00:20,  1.97it/s]"
     ]
    },
    {
     "name": "stdout",
     "output_type": "stream",
     "text": [
      "total discriminator loss:0.5684539733533787\n",
      "average true return:0.44253325654811004\n",
      "-----------------------\n",
      "Training Step: 41\n",
      "generator loss:1.2649051056533154\n",
      "-----------------------\n"
     ]
    },
    {
     "name": "stderr",
     "output_type": "stream",
     "text": [
      "\r",
      "41it [00:20,  2.04it/s]"
     ]
    },
    {
     "name": "stdout",
     "output_type": "stream",
     "text": [
      "total discriminator loss:0.58296283848186\n",
      "average true return:0.48960230411114697\n",
      "-----------------------\n",
      "Training Step: 42\n",
      "generator loss:1.3599158244153333\n",
      "-----------------------\n"
     ]
    },
    {
     "name": "stderr",
     "output_type": "stream",
     "text": [
      "\r",
      "42it [00:21,  2.08it/s]"
     ]
    },
    {
     "name": "stdout",
     "output_type": "stream",
     "text": [
      "total discriminator loss:0.5654814183457364\n",
      "average true return:0.50584883384864\n",
      "-----------------------\n",
      "Training Step: 43\n",
      "generator loss:1.3096011376711794\n",
      "-----------------------\n"
     ]
    },
    {
     "name": "stderr",
     "output_type": "stream",
     "text": [
      "\r",
      "43it [00:21,  2.12it/s]"
     ]
    },
    {
     "name": "stdout",
     "output_type": "stream",
     "text": [
      "total discriminator loss:0.5899327780766472\n",
      "average true return:0.5161038772944222\n",
      "-----------------------\n",
      "Training Step: 44\n",
      "generator loss:1.0973715328008318\n",
      "-----------------------\n"
     ]
    },
    {
     "name": "stderr",
     "output_type": "stream",
     "text": [
      "\r",
      "44it [00:22,  2.11it/s]"
     ]
    },
    {
     "name": "stdout",
     "output_type": "stream",
     "text": [
      "total discriminator loss:0.5720539089235316\n",
      "average true return:0.5167272674021262\n",
      "-----------------------\n",
      "Training Step: 45\n",
      "generator loss:1.1974165155891394\n",
      "-----------------------\n"
     ]
    },
    {
     "name": "stderr",
     "output_type": "stream",
     "text": [
      "\r",
      "45it [00:22,  2.03it/s]"
     ]
    },
    {
     "name": "stdout",
     "output_type": "stream",
     "text": [
      "total discriminator loss:0.5880016670071548\n",
      "average true return:0.5500752048284473\n",
      "-----------------------\n",
      "Training Step: 46\n",
      "generator loss:1.1257930136318641\n",
      "-----------------------\n"
     ]
    },
    {
     "name": "stderr",
     "output_type": "stream",
     "text": [
      "\r",
      "46it [00:23,  2.07it/s]"
     ]
    },
    {
     "name": "stdout",
     "output_type": "stream",
     "text": [
      "total discriminator loss:0.5986698604009254\n",
      "average true return:0.5301436642366254\n",
      "-----------------------\n",
      "Training Step: 47\n",
      "generator loss:1.1949700023751229\n",
      "-----------------------\n"
     ]
    },
    {
     "name": "stderr",
     "output_type": "stream",
     "text": [
      "\r",
      "47it [00:23,  2.11it/s]"
     ]
    },
    {
     "name": "stdout",
     "output_type": "stream",
     "text": [
      "total discriminator loss:0.6084252881005305\n",
      "average true return:0.5250301547874022\n",
      "-----------------------\n",
      "Training Step: 48\n",
      "generator loss:1.271624757528337\n",
      "-----------------------\n"
     ]
    },
    {
     "name": "stderr",
     "output_type": "stream",
     "text": [
      "\r",
      "48it [00:24,  2.13it/s]"
     ]
    },
    {
     "name": "stdout",
     "output_type": "stream",
     "text": [
      "total discriminator loss:0.5887862434732509\n",
      "average true return:0.5002118753056233\n",
      "-----------------------\n",
      "Training Step: 49\n",
      "generator loss:1.302503452319375\n",
      "-----------------------\n"
     ]
    },
    {
     "name": "stderr",
     "output_type": "stream",
     "text": [
      "\r",
      "49it [00:24,  2.15it/s]"
     ]
    },
    {
     "name": "stdout",
     "output_type": "stream",
     "text": [
      "total discriminator loss:0.5835401321318007\n",
      "average true return:0.4781680176921181\n",
      "-----------------------\n",
      "Training Step: 50\n",
      "generator loss:1.546834853960857\n",
      "-----------------------\n"
     ]
    },
    {
     "name": "stderr",
     "output_type": "stream",
     "text": [
      "\r",
      "50it [00:25,  2.14it/s]"
     ]
    },
    {
     "name": "stdout",
     "output_type": "stream",
     "text": [
      "total discriminator loss:0.610588966855256\n",
      "average true return:0.4676295549688322\n",
      "-----------------------\n",
      "Training Step: 51\n",
      "generator loss:1.359435033348498\n",
      "-----------------------\n"
     ]
    },
    {
     "name": "stderr",
     "output_type": "stream",
     "text": [
      "\r",
      "51it [00:25,  2.13it/s]"
     ]
    },
    {
     "name": "stdout",
     "output_type": "stream",
     "text": [
      "total discriminator loss:0.5864706976981835\n",
      "average true return:0.46349168426084064\n",
      "-----------------------\n",
      "Training Step: 52\n",
      "generator loss:1.4594771354684124\n",
      "-----------------------\n"
     ]
    },
    {
     "name": "stderr",
     "output_type": "stream",
     "text": [
      "\r",
      "52it [00:25,  2.18it/s]"
     ]
    },
    {
     "name": "stdout",
     "output_type": "stream",
     "text": [
      "total discriminator loss:0.5671315928517164\n",
      "average true return:0.47092936639998023\n",
      "-----------------------\n",
      "Training Step: 53\n",
      "generator loss:1.3484987274877809\n",
      "-----------------------\n"
     ]
    },
    {
     "name": "stderr",
     "output_type": "stream",
     "text": [
      "\r",
      "53it [00:26,  2.13it/s]"
     ]
    },
    {
     "name": "stdout",
     "output_type": "stream",
     "text": [
      "total discriminator loss:0.6173067003744457\n",
      "average true return:0.47680672588785167\n",
      "-----------------------\n",
      "Training Step: 54\n",
      "generator loss:1.2073629084242783\n",
      "-----------------------\n"
     ]
    },
    {
     "name": "stderr",
     "output_type": "stream",
     "text": [
      "\r",
      "54it [00:26,  2.11it/s]"
     ]
    },
    {
     "name": "stdout",
     "output_type": "stream",
     "text": [
      "total discriminator loss:0.6150536605561387\n",
      "average true return:0.4933462270357827\n",
      "-----------------------\n",
      "Training Step: 55\n",
      "generator loss:1.0506147721213615\n",
      "-----------------------\n"
     ]
    },
    {
     "name": "stderr",
     "output_type": "stream",
     "text": [
      "\r",
      "55it [00:27,  2.10it/s]"
     ]
    },
    {
     "name": "stdout",
     "output_type": "stream",
     "text": [
      "total discriminator loss:0.626999528568237\n",
      "average true return:0.5140147970037303\n",
      "-----------------------\n",
      "Training Step: 56\n",
      "generator loss:1.1341679315006226\n",
      "-----------------------\n"
     ]
    },
    {
     "name": "stderr",
     "output_type": "stream",
     "text": [
      "\r",
      "56it [00:27,  2.05it/s]"
     ]
    },
    {
     "name": "stdout",
     "output_type": "stream",
     "text": [
      "total discriminator loss:0.6141159984659899\n",
      "average true return:0.5474148918046462\n",
      "-----------------------\n",
      "Training Step: 57\n",
      "generator loss:1.2087255108108919\n",
      "-----------------------\n"
     ]
    },
    {
     "name": "stderr",
     "output_type": "stream",
     "text": [
      "\r",
      "57it [00:28,  2.02it/s]"
     ]
    },
    {
     "name": "stdout",
     "output_type": "stream",
     "text": [
      "total discriminator loss:0.6030294876437317\n",
      "average true return:0.535485989277075\n",
      "-----------------------\n",
      "Training Step: 58\n",
      "generator loss:1.0927612875208894\n",
      "-----------------------\n"
     ]
    },
    {
     "name": "stderr",
     "output_type": "stream",
     "text": [
      "\r",
      "58it [00:29,  1.99it/s]"
     ]
    },
    {
     "name": "stdout",
     "output_type": "stream",
     "text": [
      "total discriminator loss:0.6335918415146913\n",
      "average true return:0.5305711623051136\n",
      "-----------------------\n",
      "Training Step: 59\n",
      "generator loss:1.078746037012312\n",
      "-----------------------\n"
     ]
    },
    {
     "name": "stderr",
     "output_type": "stream",
     "text": [
      "\r",
      "59it [00:29,  2.01it/s]"
     ]
    },
    {
     "name": "stdout",
     "output_type": "stream",
     "text": [
      "total discriminator loss:0.6285812078213534\n",
      "average true return:0.5414169927227552\n",
      "-----------------------\n",
      "Training Step: 60\n",
      "generator loss:1.1944496064489663\n",
      "-----------------------\n"
     ]
    },
    {
     "name": "stderr",
     "output_type": "stream",
     "text": [
      "\r",
      "60it [00:30,  1.98it/s]"
     ]
    },
    {
     "name": "stdout",
     "output_type": "stream",
     "text": [
      "total discriminator loss:0.6093136445465523\n",
      "average true return:0.5052877436467123\n",
      "-----------------------\n",
      "Training Step: 61\n",
      "generator loss:1.2568208743099634\n",
      "-----------------------\n"
     ]
    },
    {
     "name": "stderr",
     "output_type": "stream",
     "text": [
      "\r",
      "61it [00:30,  1.97it/s]"
     ]
    },
    {
     "name": "stdout",
     "output_type": "stream",
     "text": [
      "total discriminator loss:0.6144096905192231\n",
      "average true return:0.47906003142464587\n",
      "-----------------------\n",
      "Training Step: 62\n",
      "generator loss:1.4256859333335659\n",
      "-----------------------\n"
     ]
    },
    {
     "name": "stderr",
     "output_type": "stream",
     "text": [
      "\r",
      "62it [00:31,  1.96it/s]"
     ]
    },
    {
     "name": "stdout",
     "output_type": "stream",
     "text": [
      "total discriminator loss:0.6699434234851336\n",
      "average true return:0.48933534426938075\n",
      "-----------------------\n",
      "Training Step: 63\n",
      "generator loss:1.1560934502467557\n",
      "-----------------------\n"
     ]
    },
    {
     "name": "stderr",
     "output_type": "stream",
     "text": [
      "\r",
      "63it [00:31,  1.96it/s]"
     ]
    },
    {
     "name": "stdout",
     "output_type": "stream",
     "text": [
      "total discriminator loss:0.6232384241954949\n",
      "average true return:0.47438816178425086\n",
      "-----------------------\n",
      "Training Step: 64\n",
      "generator loss:1.2354646449420907\n",
      "-----------------------\n"
     ]
    },
    {
     "name": "stderr",
     "output_type": "stream",
     "text": [
      "\r",
      "64it [00:32,  1.96it/s]"
     ]
    },
    {
     "name": "stdout",
     "output_type": "stream",
     "text": [
      "total discriminator loss:0.6378387243801987\n",
      "average true return:0.4873317961640783\n",
      "-----------------------\n",
      "Training Step: 65\n",
      "generator loss:1.280472549694973\n",
      "-----------------------\n"
     ]
    },
    {
     "name": "stderr",
     "output_type": "stream",
     "text": [
      "\r",
      "65it [00:32,  1.98it/s]"
     ]
    },
    {
     "name": "stdout",
     "output_type": "stream",
     "text": [
      "total discriminator loss:0.6166376961174352\n",
      "average true return:0.47643971064367974\n",
      "-----------------------\n",
      "Training Step: 66\n",
      "generator loss:1.1162967421804721\n",
      "-----------------------\n"
     ]
    },
    {
     "name": "stderr",
     "output_type": "stream",
     "text": [
      "\r",
      "66it [00:33,  1.97it/s]"
     ]
    },
    {
     "name": "stdout",
     "output_type": "stream",
     "text": [
      "total discriminator loss:0.6020714527112738\n",
      "average true return:0.5043703294384017\n",
      "-----------------------\n",
      "Training Step: 67\n",
      "generator loss:1.1228585290613435\n",
      "-----------------------\n"
     ]
    },
    {
     "name": "stderr",
     "output_type": "stream",
     "text": [
      "\r",
      "67it [00:33,  1.95it/s]"
     ]
    },
    {
     "name": "stdout",
     "output_type": "stream",
     "text": [
      "total discriminator loss:0.6216870087883688\n",
      "average true return:0.5187648161700869\n",
      "-----------------------\n",
      "Training Step: 68\n",
      "generator loss:1.2062131987159086\n",
      "-----------------------\n"
     ]
    },
    {
     "name": "stderr",
     "output_type": "stream",
     "text": [
      "\r",
      "68it [00:34,  1.93it/s]"
     ]
    },
    {
     "name": "stdout",
     "output_type": "stream",
     "text": [
      "total discriminator loss:0.6220001323498767\n",
      "average true return:0.5280659966532162\n",
      "-----------------------\n",
      "Training Step: 69\n",
      "generator loss:1.2162606897344244\n",
      "-----------------------\n"
     ]
    },
    {
     "name": "stderr",
     "output_type": "stream",
     "text": [
      "\r",
      "69it [00:34,  1.95it/s]"
     ]
    },
    {
     "name": "stdout",
     "output_type": "stream",
     "text": [
      "total discriminator loss:0.6665668654961431\n",
      "average true return:0.5414959778585013\n",
      "-----------------------\n",
      "Training Step: 70\n",
      "generator loss:1.2326572778558296\n",
      "-----------------------\n"
     ]
    },
    {
     "name": "stderr",
     "output_type": "stream",
     "text": [
      "\r",
      "70it [00:35,  1.97it/s]"
     ]
    },
    {
     "name": "stdout",
     "output_type": "stream",
     "text": [
      "total discriminator loss:0.6267084738748744\n",
      "average true return:0.5160233064374403\n",
      "-----------------------\n",
      "Training Step: 71\n",
      "generator loss:1.3688886853530953\n",
      "-----------------------\n"
     ]
    },
    {
     "name": "stderr",
     "output_type": "stream",
     "text": [
      "\r",
      "71it [00:35,  1.95it/s]"
     ]
    },
    {
     "name": "stdout",
     "output_type": "stream",
     "text": [
      "total discriminator loss:0.6224929842434341\n",
      "average true return:0.4766097563718406\n",
      "-----------------------\n",
      "Training Step: 72\n",
      "generator loss:1.3155597453776\n",
      "-----------------------\n"
     ]
    },
    {
     "name": "stderr",
     "output_type": "stream",
     "text": [
      "\r",
      "72it [00:36,  1.97it/s]"
     ]
    },
    {
     "name": "stdout",
     "output_type": "stream",
     "text": [
      "total discriminator loss:0.6246297324653275\n",
      "average true return:0.47680391346541967\n",
      "-----------------------\n",
      "Training Step: 73\n",
      "generator loss:1.3736788000737283\n",
      "-----------------------\n"
     ]
    },
    {
     "name": "stderr",
     "output_type": "stream",
     "text": [
      "\r",
      "73it [00:36,  2.01it/s]"
     ]
    },
    {
     "name": "stdout",
     "output_type": "stream",
     "text": [
      "total discriminator loss:0.6029310862758444\n",
      "average true return:0.45744433908383797\n",
      "-----------------------\n",
      "Training Step: 74\n",
      "generator loss:1.2351296610405167\n",
      "-----------------------\n"
     ]
    },
    {
     "name": "stderr",
     "output_type": "stream",
     "text": [
      "\r",
      "74it [00:37,  2.01it/s]"
     ]
    },
    {
     "name": "stdout",
     "output_type": "stream",
     "text": [
      "total discriminator loss:0.6243594899948581\n",
      "average true return:0.4759059149087844\n",
      "-----------------------\n",
      "Training Step: 75\n",
      "generator loss:1.2763284462494275\n",
      "-----------------------\n"
     ]
    },
    {
     "name": "stderr",
     "output_type": "stream",
     "text": [
      "\r",
      "75it [00:37,  2.02it/s]"
     ]
    },
    {
     "name": "stdout",
     "output_type": "stream",
     "text": [
      "total discriminator loss:0.6216173922687855\n",
      "average true return:0.49652328398504575\n",
      "-----------------------\n",
      "Training Step: 76\n",
      "generator loss:1.3523551828337248\n",
      "-----------------------\n"
     ]
    },
    {
     "name": "stderr",
     "output_type": "stream",
     "text": [
      "\r",
      "76it [00:38,  2.01it/s]"
     ]
    },
    {
     "name": "stdout",
     "output_type": "stream",
     "text": [
      "total discriminator loss:0.6514624068035528\n",
      "average true return:0.5062901305755081\n",
      "-----------------------\n",
      "Training Step: 77\n",
      "generator loss:1.3288114789896257\n",
      "-----------------------\n"
     ]
    },
    {
     "name": "stderr",
     "output_type": "stream",
     "text": [
      "\r",
      "77it [00:38,  2.03it/s]"
     ]
    },
    {
     "name": "stdout",
     "output_type": "stream",
     "text": [
      "total discriminator loss:0.5656728130390395\n",
      "average true return:0.4839945703641856\n",
      "-----------------------\n",
      "Training Step: 78\n",
      "generator loss:1.2485334924226468\n",
      "-----------------------\n"
     ]
    },
    {
     "name": "stderr",
     "output_type": "stream",
     "text": [
      "\r",
      "78it [00:39,  2.01it/s]"
     ]
    },
    {
     "name": "stdout",
     "output_type": "stream",
     "text": [
      "total discriminator loss:0.5824800082927841\n",
      "average true return:0.47641622555601926\n",
      "-----------------------\n",
      "Training Step: 79\n",
      "generator loss:1.3503278763512752\n",
      "-----------------------\n"
     ]
    },
    {
     "name": "stderr",
     "output_type": "stream",
     "text": [
      "\r",
      "79it [00:39,  1.99it/s]"
     ]
    },
    {
     "name": "stdout",
     "output_type": "stream",
     "text": [
      "total discriminator loss:0.5456268401066889\n",
      "average true return:0.47354554930532394\n",
      "-----------------------\n",
      "Training Step: 80\n",
      "generator loss:1.4016374257736457\n",
      "-----------------------\n"
     ]
    },
    {
     "name": "stderr",
     "output_type": "stream",
     "text": [
      "\r",
      "80it [00:40,  2.01it/s]"
     ]
    },
    {
     "name": "stdout",
     "output_type": "stream",
     "text": [
      "total discriminator loss:0.5647418108698186\n",
      "average true return:0.45676513710549305\n",
      "-----------------------\n",
      "Training Step: 81\n",
      "generator loss:1.5555786541165737\n",
      "-----------------------\n"
     ]
    },
    {
     "name": "stderr",
     "output_type": "stream",
     "text": [
      "\r",
      "81it [00:40,  2.00it/s]"
     ]
    },
    {
     "name": "stdout",
     "output_type": "stream",
     "text": [
      "total discriminator loss:0.5917449130385348\n",
      "average true return:0.4467387954813681\n",
      "-----------------------\n",
      "Training Step: 82\n",
      "generator loss:1.5986702966501514\n",
      "-----------------------\n"
     ]
    },
    {
     "name": "stderr",
     "output_type": "stream",
     "text": [
      "\r",
      "82it [00:41,  2.04it/s]"
     ]
    },
    {
     "name": "stdout",
     "output_type": "stream",
     "text": [
      "total discriminator loss:0.5873005335271702\n",
      "average true return:0.45126101185669\n",
      "-----------------------\n",
      "Training Step: 83\n",
      "generator loss:1.6521352581258664\n",
      "-----------------------\n"
     ]
    },
    {
     "name": "stderr",
     "output_type": "stream",
     "text": [
      "\r",
      "83it [00:41,  2.01it/s]"
     ]
    },
    {
     "name": "stdout",
     "output_type": "stream",
     "text": [
      "total discriminator loss:0.5792136274125809\n",
      "average true return:0.4804327222662563\n",
      "-----------------------\n",
      "Training Step: 84\n",
      "generator loss:1.5447945745361418\n",
      "-----------------------\n"
     ]
    },
    {
     "name": "stderr",
     "output_type": "stream",
     "text": [
      "\r",
      "84it [00:42,  1.91it/s]"
     ]
    },
    {
     "name": "stdout",
     "output_type": "stream",
     "text": [
      "total discriminator loss:0.5773969570877273\n",
      "average true return:0.4762411113871433\n",
      "-----------------------\n",
      "Training Step: 85\n",
      "generator loss:1.5131311059679402\n",
      "-----------------------\n"
     ]
    },
    {
     "name": "stderr",
     "output_type": "stream",
     "text": [
      "\r",
      "85it [00:42,  1.93it/s]"
     ]
    },
    {
     "name": "stdout",
     "output_type": "stream",
     "text": [
      "total discriminator loss:0.6087278361628891\n",
      "average true return:0.5101783791097937\n",
      "-----------------------\n",
      "Training Step: 86\n",
      "generator loss:1.4881071969086643\n",
      "-----------------------\n"
     ]
    },
    {
     "name": "stderr",
     "output_type": "stream",
     "text": [
      "\r",
      "86it [00:43,  1.94it/s]"
     ]
    },
    {
     "name": "stdout",
     "output_type": "stream",
     "text": [
      "total discriminator loss:0.5602168885433848\n",
      "average true return:0.5083850755141105\n",
      "-----------------------\n",
      "Training Step: 87\n",
      "generator loss:1.4226769655972995\n",
      "-----------------------\n"
     ]
    },
    {
     "name": "stderr",
     "output_type": "stream",
     "text": [
      "\r",
      "87it [00:43,  1.94it/s]"
     ]
    },
    {
     "name": "stdout",
     "output_type": "stream",
     "text": [
      "total discriminator loss:0.5359254688648244\n",
      "average true return:0.4921420987089816\n",
      "-----------------------\n",
      "Training Step: 88\n",
      "generator loss:1.7642875023560687\n",
      "-----------------------\n"
     ]
    },
    {
     "name": "stderr",
     "output_type": "stream",
     "text": [
      "\r",
      "88it [00:44,  1.97it/s]"
     ]
    },
    {
     "name": "stdout",
     "output_type": "stream",
     "text": [
      "total discriminator loss:0.6202047121043304\n",
      "average true return:0.49445656108141045\n",
      "-----------------------\n",
      "Training Step: 89\n",
      "generator loss:1.8289292152611032\n",
      "-----------------------\n"
     ]
    },
    {
     "name": "stderr",
     "output_type": "stream",
     "text": [
      "\r",
      "89it [00:44,  1.96it/s]"
     ]
    },
    {
     "name": "stdout",
     "output_type": "stream",
     "text": [
      "total discriminator loss:0.6122755558190713\n",
      "average true return:0.46353700445899537\n",
      "-----------------------\n",
      "Training Step: 90\n",
      "generator loss:1.5339412346824675\n",
      "-----------------------\n"
     ]
    },
    {
     "name": "stderr",
     "output_type": "stream",
     "text": [
      "\r",
      "90it [00:45,  1.96it/s]"
     ]
    },
    {
     "name": "stdout",
     "output_type": "stream",
     "text": [
      "total discriminator loss:0.6071531844426798\n",
      "average true return:0.4753783136687947\n",
      "-----------------------\n",
      "Training Step: 91\n",
      "generator loss:1.5762319477781173\n",
      "-----------------------\n"
     ]
    },
    {
     "name": "stderr",
     "output_type": "stream",
     "text": [
      "\r",
      "91it [00:45,  1.97it/s]"
     ]
    },
    {
     "name": "stdout",
     "output_type": "stream",
     "text": [
      "total discriminator loss:0.5822152800118012\n",
      "average true return:0.5070940680457988\n",
      "-----------------------\n",
      "Training Step: 92\n",
      "generator loss:1.2991965255977185\n",
      "-----------------------\n"
     ]
    },
    {
     "name": "stderr",
     "output_type": "stream",
     "text": [
      "\r",
      "92it [00:46,  1.97it/s]"
     ]
    },
    {
     "name": "stdout",
     "output_type": "stream",
     "text": [
      "total discriminator loss:0.6467983188448674\n",
      "average true return:0.5809794070299101\n",
      "-----------------------\n",
      "Training Step: 93\n",
      "generator loss:1.23503622450979\n",
      "-----------------------\n"
     ]
    },
    {
     "name": "stderr",
     "output_type": "stream",
     "text": [
      "\r",
      "93it [00:46,  2.01it/s]"
     ]
    },
    {
     "name": "stdout",
     "output_type": "stream",
     "text": [
      "total discriminator loss:0.6532962700955296\n",
      "average true return:0.5489889871860555\n",
      "-----------------------\n",
      "Training Step: 94\n",
      "generator loss:1.3126716503518923\n",
      "-----------------------\n"
     ]
    },
    {
     "name": "stderr",
     "output_type": "stream",
     "text": [
      "\r",
      "94it [00:47,  1.99it/s]"
     ]
    },
    {
     "name": "stdout",
     "output_type": "stream",
     "text": [
      "total discriminator loss:0.6416999891943561\n",
      "average true return:0.5491393535127382\n",
      "-----------------------\n",
      "Training Step: 95\n",
      "generator loss:1.2785620252819534\n",
      "-----------------------\n"
     ]
    },
    {
     "name": "stderr",
     "output_type": "stream",
     "text": [
      "\r",
      "95it [00:47,  1.99it/s]"
     ]
    },
    {
     "name": "stdout",
     "output_type": "stream",
     "text": [
      "total discriminator loss:0.6616144354209716\n",
      "average true return:0.549015880566978\n",
      "-----------------------\n",
      "Training Step: 96\n",
      "generator loss:1.1797460855816615\n",
      "-----------------------\n"
     ]
    },
    {
     "name": "stderr",
     "output_type": "stream",
     "text": [
      "\r",
      "96it [00:48,  2.00it/s]"
     ]
    },
    {
     "name": "stdout",
     "output_type": "stream",
     "text": [
      "total discriminator loss:0.6110113831770915\n",
      "average true return:0.4927113510018514\n",
      "-----------------------\n",
      "Training Step: 97\n",
      "generator loss:1.3063721296227946\n",
      "-----------------------\n"
     ]
    },
    {
     "name": "stderr",
     "output_type": "stream",
     "text": [
      "\r",
      "97it [00:48,  2.03it/s]"
     ]
    },
    {
     "name": "stdout",
     "output_type": "stream",
     "text": [
      "total discriminator loss:0.6368343312209147\n",
      "average true return:0.5465746546676755\n",
      "-----------------------\n",
      "Training Step: 98\n",
      "generator loss:1.2239944475173932\n",
      "-----------------------\n"
     ]
    },
    {
     "name": "stderr",
     "output_type": "stream",
     "text": [
      "\r",
      "98it [00:49,  2.08it/s]"
     ]
    },
    {
     "name": "stdout",
     "output_type": "stream",
     "text": [
      "total discriminator loss:0.6719705693152767\n",
      "average true return:0.5297527626688839\n",
      "-----------------------\n",
      "Training Step: 99\n",
      "generator loss:1.057243480943248\n",
      "-----------------------\n"
     ]
    },
    {
     "name": "stderr",
     "output_type": "stream",
     "text": [
      "\r",
      "99it [00:49,  2.10it/s]"
     ]
    },
    {
     "name": "stdout",
     "output_type": "stream",
     "text": [
      "total discriminator loss:0.6716132685130607\n",
      "average true return:0.5559122822740772\n",
      "-----------------------\n",
      "Training Step: 100\n",
      "generator loss:1.0259880501341387\n",
      "-----------------------\n"
     ]
    },
    {
     "name": "stderr",
     "output_type": "stream",
     "text": [
      "\r",
      "100it [00:50,  2.10it/s]"
     ]
    },
    {
     "name": "stdout",
     "output_type": "stream",
     "text": [
      "total discriminator loss:0.6858152067743326\n",
      "average true return:0.5680493345780254\n",
      "-----------------------\n",
      "Training Step: 101\n",
      "generator loss:0.9913113123097371\n",
      "-----------------------\n"
     ]
    },
    {
     "name": "stderr",
     "output_type": "stream",
     "text": [
      "\r",
      "101it [00:50,  2.15it/s]"
     ]
    },
    {
     "name": "stdout",
     "output_type": "stream",
     "text": [
      "total discriminator loss:0.7215113367661985\n",
      "average true return:0.5503036852227541\n",
      "-----------------------\n",
      "Training Step: 102\n",
      "generator loss:0.8083342945641829\n",
      "-----------------------\n"
     ]
    },
    {
     "name": "stderr",
     "output_type": "stream",
     "text": [
      "\r",
      "102it [00:50,  2.17it/s]"
     ]
    },
    {
     "name": "stdout",
     "output_type": "stream",
     "text": [
      "total discriminator loss:0.7126526650725125\n",
      "average true return:0.5713725539023191\n",
      "-----------------------\n",
      "Training Step: 103\n",
      "generator loss:0.8271489038987153\n",
      "-----------------------\n"
     ]
    },
    {
     "name": "stderr",
     "output_type": "stream",
     "text": [
      "\r",
      "103it [00:51,  2.19it/s]"
     ]
    },
    {
     "name": "stdout",
     "output_type": "stream",
     "text": [
      "total discriminator loss:0.7271608704226764\n",
      "average true return:0.5740493194279387\n",
      "-----------------------\n",
      "Training Step: 104\n",
      "generator loss:0.7293982881057075\n",
      "-----------------------\n"
     ]
    },
    {
     "name": "stderr",
     "output_type": "stream",
     "text": [
      "\r",
      "104it [00:51,  2.22it/s]"
     ]
    },
    {
     "name": "stdout",
     "output_type": "stream",
     "text": [
      "total discriminator loss:0.7000241558243184\n",
      "average true return:0.6029499054464396\n",
      "-----------------------\n",
      "Training Step: 105\n",
      "generator loss:0.7026753210088748\n",
      "-----------------------\n"
     ]
    },
    {
     "name": "stderr",
     "output_type": "stream",
     "text": [
      "\r",
      "105it [00:52,  2.23it/s]"
     ]
    },
    {
     "name": "stdout",
     "output_type": "stream",
     "text": [
      "total discriminator loss:0.7154863706725929\n",
      "average true return:0.5963121582161722\n",
      "-----------------------\n",
      "Training Step: 106\n",
      "generator loss:0.6341714044868321\n",
      "-----------------------\n"
     ]
    },
    {
     "name": "stderr",
     "output_type": "stream",
     "text": [
      "\r",
      "106it [00:52,  2.22it/s]"
     ]
    },
    {
     "name": "stdout",
     "output_type": "stream",
     "text": [
      "total discriminator loss:0.7554135130549369\n",
      "average true return:0.607188726620516\n",
      "-----------------------\n",
      "Training Step: 107\n",
      "generator loss:0.718047419028454\n",
      "-----------------------\n"
     ]
    },
    {
     "name": "stderr",
     "output_type": "stream",
     "text": [
      "\r",
      "107it [00:53,  2.22it/s]"
     ]
    },
    {
     "name": "stdout",
     "output_type": "stream",
     "text": [
      "total discriminator loss:0.7369535087956758\n",
      "average true return:0.591298158967742\n",
      "-----------------------\n",
      "Training Step: 108\n",
      "generator loss:0.6719573670980943\n",
      "-----------------------\n"
     ]
    },
    {
     "name": "stderr",
     "output_type": "stream",
     "text": [
      "\r",
      "108it [00:53,  2.18it/s]"
     ]
    },
    {
     "name": "stdout",
     "output_type": "stream",
     "text": [
      "total discriminator loss:0.7460662732115055\n",
      "average true return:0.599867528150836\n",
      "-----------------------\n",
      "Training Step: 109\n",
      "generator loss:0.6592432358853775\n",
      "-----------------------\n"
     ]
    },
    {
     "name": "stderr",
     "output_type": "stream",
     "text": [
      "\r",
      "109it [00:54,  2.17it/s]"
     ]
    },
    {
     "name": "stdout",
     "output_type": "stream",
     "text": [
      "total discriminator loss:0.7269986564879944\n",
      "average true return:0.5840865295649197\n",
      "-----------------------\n",
      "Training Step: 110\n",
      "generator loss:0.5961428473714221\n",
      "-----------------------\n"
     ]
    },
    {
     "name": "stderr",
     "output_type": "stream",
     "text": [
      "\r",
      "110it [00:54,  2.13it/s]"
     ]
    },
    {
     "name": "stdout",
     "output_type": "stream",
     "text": [
      "total discriminator loss:0.7433284531140799\n",
      "average true return:0.5954737551969236\n",
      "-----------------------\n",
      "Training Step: 111\n",
      "generator loss:0.6169738379625351\n",
      "-----------------------\n"
     ]
    },
    {
     "name": "stderr",
     "output_type": "stream",
     "text": [
      "\r",
      "111it [00:55,  2.11it/s]"
     ]
    },
    {
     "name": "stdout",
     "output_type": "stream",
     "text": [
      "total discriminator loss:0.7709825145958857\n",
      "average true return:0.5988480994159033\n",
      "-----------------------\n",
      "Training Step: 112\n",
      "generator loss:0.5963273020468676\n",
      "-----------------------\n"
     ]
    },
    {
     "name": "stderr",
     "output_type": "stream",
     "text": [
      "\r",
      "112it [00:55,  2.08it/s]"
     ]
    },
    {
     "name": "stdout",
     "output_type": "stream",
     "text": [
      "total discriminator loss:0.7463532779670783\n",
      "average true return:0.5900353060663983\n",
      "-----------------------\n",
      "Training Step: 113\n",
      "generator loss:0.5859053973899606\n",
      "-----------------------\n"
     ]
    },
    {
     "name": "stderr",
     "output_type": "stream",
     "text": [
      "\r",
      "113it [00:56,  2.05it/s]"
     ]
    },
    {
     "name": "stdout",
     "output_type": "stream",
     "text": [
      "total discriminator loss:0.7324021572106019\n",
      "average true return:0.5943791915591923\n",
      "-----------------------\n",
      "Training Step: 114\n",
      "generator loss:0.60555793580193\n",
      "-----------------------\n"
     ]
    },
    {
     "name": "stderr",
     "output_type": "stream",
     "text": [
      "\r",
      "114it [00:56,  2.05it/s]"
     ]
    },
    {
     "name": "stdout",
     "output_type": "stream",
     "text": [
      "total discriminator loss:0.7249591096402527\n",
      "average true return:0.5817804660303434\n",
      "-----------------------\n",
      "Training Step: 115\n",
      "generator loss:0.5878318992230724\n",
      "-----------------------\n"
     ]
    },
    {
     "name": "stderr",
     "output_type": "stream",
     "text": [
      "\r",
      "115it [00:57,  2.05it/s]"
     ]
    },
    {
     "name": "stdout",
     "output_type": "stream",
     "text": [
      "total discriminator loss:0.7429444923714728\n",
      "average true return:0.5676430979887068\n",
      "-----------------------\n",
      "Training Step: 116\n",
      "generator loss:0.6403435054120787\n",
      "-----------------------\n"
     ]
    },
    {
     "name": "stderr",
     "output_type": "stream",
     "text": [
      "\r",
      "116it [00:57,  2.04it/s]"
     ]
    },
    {
     "name": "stdout",
     "output_type": "stream",
     "text": [
      "total discriminator loss:0.6981053834056316\n",
      "average true return:0.5701623412164364\n",
      "-----------------------\n",
      "Training Step: 117\n",
      "generator loss:0.6080832944801162\n",
      "-----------------------\n"
     ]
    },
    {
     "name": "stderr",
     "output_type": "stream",
     "text": [
      "\r",
      "117it [00:58,  2.03it/s]"
     ]
    },
    {
     "name": "stdout",
     "output_type": "stream",
     "text": [
      "total discriminator loss:0.6923855273344293\n",
      "average true return:0.5594438357128971\n",
      "-----------------------\n",
      "Training Step: 118\n",
      "generator loss:0.622442658802494\n",
      "-----------------------\n"
     ]
    },
    {
     "name": "stderr",
     "output_type": "stream",
     "text": [
      "\r",
      "118it [00:58,  2.05it/s]"
     ]
    },
    {
     "name": "stdout",
     "output_type": "stream",
     "text": [
      "total discriminator loss:0.6969425863032586\n",
      "average true return:0.5602670260802751\n",
      "-----------------------\n",
      "Training Step: 119\n",
      "generator loss:0.6250972402115585\n",
      "-----------------------\n"
     ]
    },
    {
     "name": "stderr",
     "output_type": "stream",
     "text": [
      "\r",
      "119it [00:59,  2.03it/s]"
     ]
    },
    {
     "name": "stdout",
     "output_type": "stream",
     "text": [
      "total discriminator loss:0.6926540080411914\n",
      "average true return:0.5481428606631127\n",
      "-----------------------\n",
      "Training Step: 120\n",
      "generator loss:0.6089109972247555\n",
      "-----------------------\n"
     ]
    },
    {
     "name": "stderr",
     "output_type": "stream",
     "text": [
      "\r",
      "120it [00:59,  1.98it/s]"
     ]
    },
    {
     "name": "stdout",
     "output_type": "stream",
     "text": [
      "total discriminator loss:0.6856686508551504\n",
      "average true return:0.5492484307722147\n",
      "-----------------------\n",
      "Training Step: 121\n",
      "generator loss:0.662370170387731\n",
      "-----------------------\n"
     ]
    },
    {
     "name": "stderr",
     "output_type": "stream",
     "text": [
      "\r",
      "121it [01:00,  1.99it/s]"
     ]
    },
    {
     "name": "stdout",
     "output_type": "stream",
     "text": [
      "total discriminator loss:0.6888153695359511\n",
      "average true return:0.5430421396001901\n",
      "-----------------------\n",
      "Training Step: 122\n",
      "generator loss:0.680373753976822\n",
      "-----------------------\n"
     ]
    },
    {
     "name": "stderr",
     "output_type": "stream",
     "text": [
      "\r",
      "122it [01:00,  2.00it/s]"
     ]
    },
    {
     "name": "stdout",
     "output_type": "stream",
     "text": [
      "total discriminator loss:0.6954346834602907\n",
      "average true return:0.5364939903432289\n",
      "-----------------------\n",
      "Training Step: 123\n",
      "generator loss:0.6630267363605196\n",
      "-----------------------\n"
     ]
    },
    {
     "name": "stderr",
     "output_type": "stream",
     "text": [
      "\r",
      "123it [01:01,  1.90it/s]"
     ]
    },
    {
     "name": "stdout",
     "output_type": "stream",
     "text": [
      "total discriminator loss:0.6812969339660557\n",
      "average true return:0.526596440375252\n",
      "-----------------------\n",
      "Training Step: 124\n",
      "generator loss:0.7133115489660091\n",
      "-----------------------\n"
     ]
    },
    {
     "name": "stderr",
     "output_type": "stream",
     "text": [
      "\r",
      "124it [01:01,  1.90it/s]"
     ]
    },
    {
     "name": "stdout",
     "output_type": "stream",
     "text": [
      "total discriminator loss:0.6783572149996263\n",
      "average true return:0.523525244152224\n",
      "-----------------------\n",
      "Training Step: 125\n",
      "generator loss:0.7385542819676327\n",
      "-----------------------\n"
     ]
    },
    {
     "name": "stderr",
     "output_type": "stream",
     "text": [
      "\r",
      "125it [01:02,  1.96it/s]"
     ]
    },
    {
     "name": "stdout",
     "output_type": "stream",
     "text": [
      "total discriminator loss:0.6777336509655492\n",
      "average true return:0.5170723571156185\n",
      "-----------------------\n",
      "Training Step: 126\n",
      "generator loss:0.724413592100327\n",
      "-----------------------\n"
     ]
    },
    {
     "name": "stderr",
     "output_type": "stream",
     "text": [
      "\r",
      "126it [01:02,  1.94it/s]"
     ]
    },
    {
     "name": "stdout",
     "output_type": "stream",
     "text": [
      "total discriminator loss:0.666859767329412\n",
      "average true return:0.5095398786933005\n",
      "-----------------------\n",
      "Training Step: 127\n",
      "generator loss:0.6963642549872613\n",
      "-----------------------\n"
     ]
    },
    {
     "name": "stderr",
     "output_type": "stream",
     "text": [
      "\r",
      "127it [01:03,  1.94it/s]"
     ]
    },
    {
     "name": "stdout",
     "output_type": "stream",
     "text": [
      "total discriminator loss:0.6820211827306164\n",
      "average true return:0.5136454650995703\n",
      "-----------------------\n",
      "Training Step: 128\n",
      "generator loss:0.7473319626505294\n",
      "-----------------------\n"
     ]
    },
    {
     "name": "stderr",
     "output_type": "stream",
     "text": [
      "\r",
      "128it [01:03,  1.96it/s]"
     ]
    },
    {
     "name": "stdout",
     "output_type": "stream",
     "text": [
      "total discriminator loss:0.6611457875517286\n",
      "average true return:0.5013664804010954\n",
      "-----------------------\n",
      "Training Step: 129\n",
      "generator loss:0.7612319441401783\n",
      "-----------------------\n"
     ]
    },
    {
     "name": "stderr",
     "output_type": "stream",
     "text": [
      "\r",
      "129it [01:04,  1.95it/s]"
     ]
    },
    {
     "name": "stdout",
     "output_type": "stream",
     "text": [
      "total discriminator loss:0.6652473610459273\n",
      "average true return:0.5013001092131784\n",
      "-----------------------\n",
      "Training Step: 130\n",
      "generator loss:0.7518633632745414\n",
      "-----------------------\n"
     ]
    },
    {
     "name": "stderr",
     "output_type": "stream",
     "text": [
      "\r",
      "130it [01:04,  1.97it/s]"
     ]
    },
    {
     "name": "stdout",
     "output_type": "stream",
     "text": [
      "total discriminator loss:0.6753341358610563\n",
      "average true return:0.49810076494442157\n",
      "-----------------------\n",
      "Training Step: 131\n",
      "generator loss:0.7408329279280731\n",
      "-----------------------\n"
     ]
    },
    {
     "name": "stderr",
     "output_type": "stream",
     "text": [
      "\r",
      "131it [01:05,  1.96it/s]"
     ]
    },
    {
     "name": "stdout",
     "output_type": "stream",
     "text": [
      "total discriminator loss:0.6639402493052424\n",
      "average true return:0.49835691759589634\n",
      "-----------------------\n",
      "Training Step: 132\n",
      "generator loss:0.7657500270640325\n",
      "-----------------------\n"
     ]
    },
    {
     "name": "stderr",
     "output_type": "stream",
     "text": [
      "\r",
      "132it [01:05,  1.97it/s]"
     ]
    },
    {
     "name": "stdout",
     "output_type": "stream",
     "text": [
      "total discriminator loss:0.6697641601463326\n",
      "average true return:0.49763097025092623\n",
      "-----------------------\n",
      "Training Step: 133\n",
      "generator loss:0.7532530471919952\n",
      "-----------------------\n"
     ]
    },
    {
     "name": "stderr",
     "output_type": "stream",
     "text": [
      "\r",
      "133it [01:06,  1.98it/s]"
     ]
    },
    {
     "name": "stdout",
     "output_type": "stream",
     "text": [
      "total discriminator loss:0.6643741170932531\n",
      "average true return:0.49732748865503457\n",
      "-----------------------\n",
      "Training Step: 134\n",
      "generator loss:0.7499056929250396\n",
      "-----------------------\n"
     ]
    },
    {
     "name": "stderr",
     "output_type": "stream",
     "text": [
      "\r",
      "134it [01:06,  2.00it/s]"
     ]
    },
    {
     "name": "stdout",
     "output_type": "stream",
     "text": [
      "total discriminator loss:0.6663501994124306\n",
      "average true return:0.4943846603231028\n",
      "-----------------------\n",
      "Training Step: 135\n",
      "generator loss:0.7917359970063186\n",
      "-----------------------\n"
     ]
    },
    {
     "name": "stderr",
     "output_type": "stream",
     "text": [
      "\r",
      "135it [01:07,  2.00it/s]"
     ]
    },
    {
     "name": "stdout",
     "output_type": "stream",
     "text": [
      "total discriminator loss:0.6528469016407656\n",
      "average true return:0.4877064823346121\n",
      "-----------------------\n",
      "Training Step: 136\n",
      "generator loss:0.7714090455928562\n",
      "-----------------------\n"
     ]
    },
    {
     "name": "stderr",
     "output_type": "stream",
     "text": [
      "\r",
      "136it [01:07,  2.01it/s]"
     ]
    },
    {
     "name": "stdout",
     "output_type": "stream",
     "text": [
      "total discriminator loss:0.664104904120307\n",
      "average true return:0.4948527208196219\n",
      "-----------------------\n",
      "Training Step: 137\n",
      "generator loss:0.7739117787592114\n",
      "-----------------------\n"
     ]
    },
    {
     "name": "stderr",
     "output_type": "stream",
     "text": [
      "\r",
      "137it [01:08,  2.00it/s]"
     ]
    },
    {
     "name": "stdout",
     "output_type": "stream",
     "text": [
      "total discriminator loss:0.6570988776568442\n",
      "average true return:0.49426176211634215\n",
      "-----------------------\n",
      "Training Step: 138\n",
      "generator loss:0.7679903609784429\n",
      "-----------------------\n"
     ]
    },
    {
     "name": "stderr",
     "output_type": "stream",
     "text": [
      "\r",
      "138it [01:08,  1.99it/s]"
     ]
    },
    {
     "name": "stdout",
     "output_type": "stream",
     "text": [
      "total discriminator loss:0.6584111110566465\n",
      "average true return:0.4954857764609937\n",
      "-----------------------\n",
      "Training Step: 139\n",
      "generator loss:0.7587642858154448\n",
      "-----------------------\n"
     ]
    },
    {
     "name": "stderr",
     "output_type": "stream",
     "text": [
      "\r",
      "139it [01:09,  1.99it/s]"
     ]
    },
    {
     "name": "stdout",
     "output_type": "stream",
     "text": [
      "total discriminator loss:0.6519114470443279\n",
      "average true return:0.49712796746868504\n",
      "-----------------------\n",
      "Training Step: 140\n",
      "generator loss:0.7722124780655945\n",
      "-----------------------\n"
     ]
    },
    {
     "name": "stderr",
     "output_type": "stream",
     "text": [
      "\r",
      "140it [01:09,  1.97it/s]"
     ]
    },
    {
     "name": "stdout",
     "output_type": "stream",
     "text": [
      "total discriminator loss:0.6558845917414761\n",
      "average true return:0.49256683686864833\n",
      "-----------------------\n",
      "Training Step: 141\n",
      "generator loss:0.7799016918819146\n",
      "-----------------------\n"
     ]
    },
    {
     "name": "stderr",
     "output_type": "stream",
     "text": [
      "\r",
      "141it [01:10,  1.99it/s]"
     ]
    },
    {
     "name": "stdout",
     "output_type": "stream",
     "text": [
      "total discriminator loss:0.645491510419022\n",
      "average true return:0.49142913135831756\n",
      "-----------------------\n",
      "Training Step: 142\n",
      "generator loss:0.7578843858301244\n",
      "-----------------------\n"
     ]
    },
    {
     "name": "stderr",
     "output_type": "stream",
     "text": [
      "\r",
      "142it [01:10,  1.97it/s]"
     ]
    },
    {
     "name": "stdout",
     "output_type": "stream",
     "text": [
      "total discriminator loss:0.6520990362843277\n",
      "average true return:0.4990282569343024\n",
      "-----------------------\n",
      "Training Step: 143\n",
      "generator loss:0.7447697540020172\n",
      "-----------------------\n"
     ]
    },
    {
     "name": "stderr",
     "output_type": "stream",
     "text": [
      "\r",
      "143it [01:11,  2.02it/s]"
     ]
    },
    {
     "name": "stdout",
     "output_type": "stream",
     "text": [
      "total discriminator loss:0.6454928935130342\n",
      "average true return:0.4980402999119383\n",
      "-----------------------\n",
      "Training Step: 144\n",
      "generator loss:0.7917866219219775\n",
      "-----------------------\n"
     ]
    },
    {
     "name": "stderr",
     "output_type": "stream",
     "text": [
      "\r",
      "144it [01:11,  2.01it/s]"
     ]
    },
    {
     "name": "stdout",
     "output_type": "stream",
     "text": [
      "total discriminator loss:0.6425804312987081\n",
      "average true return:0.49503081655579323\n",
      "-----------------------\n",
      "Training Step: 145\n",
      "generator loss:0.7793166164323216\n",
      "-----------------------\n"
     ]
    },
    {
     "name": "stderr",
     "output_type": "stream",
     "text": [
      "\r",
      "145it [01:12,  2.00it/s]"
     ]
    },
    {
     "name": "stdout",
     "output_type": "stream",
     "text": [
      "total discriminator loss:0.6487377114848712\n",
      "average true return:0.5004011147092737\n",
      "-----------------------\n",
      "Training Step: 146\n",
      "generator loss:0.7632241804966027\n",
      "-----------------------\n"
     ]
    },
    {
     "name": "stderr",
     "output_type": "stream",
     "text": [
      "\r",
      "146it [01:12,  2.00it/s]"
     ]
    },
    {
     "name": "stdout",
     "output_type": "stream",
     "text": [
      "total discriminator loss:0.6412731855409849\n",
      "average true return:0.49838082462214583\n",
      "-----------------------\n",
      "Training Step: 147\n",
      "generator loss:0.7506699254522755\n",
      "-----------------------\n"
     ]
    },
    {
     "name": "stderr",
     "output_type": "stream",
     "text": [
      "\r",
      "147it [01:13,  1.98it/s]"
     ]
    },
    {
     "name": "stdout",
     "output_type": "stream",
     "text": [
      "total discriminator loss:0.6322470354606302\n",
      "average true return:0.5064704258089998\n",
      "-----------------------\n",
      "Training Step: 148\n",
      "generator loss:0.8041378534154233\n",
      "-----------------------\n"
     ]
    },
    {
     "name": "stderr",
     "output_type": "stream",
     "text": [
      "\r",
      "148it [01:13,  1.98it/s]"
     ]
    },
    {
     "name": "stdout",
     "output_type": "stream",
     "text": [
      "total discriminator loss:0.6227994709344724\n",
      "average true return:0.5123085926667097\n",
      "-----------------------\n",
      "Training Step: 149\n",
      "generator loss:0.7530939774245696\n",
      "-----------------------\n"
     ]
    },
    {
     "name": "stderr",
     "output_type": "stream",
     "text": [
      "\r",
      "149it [01:14,  2.00it/s]"
     ]
    },
    {
     "name": "stdout",
     "output_type": "stream",
     "text": [
      "total discriminator loss:0.6373828621212052\n",
      "average true return:0.5207707317287904\n",
      "-----------------------\n",
      "Training Step: 150\n",
      "generator loss:0.741084766932173\n",
      "-----------------------\n"
     ]
    },
    {
     "name": "stderr",
     "output_type": "stream",
     "text": [
      "\r",
      "150it [01:14,  1.98it/s]"
     ]
    },
    {
     "name": "stdout",
     "output_type": "stream",
     "text": [
      "total discriminator loss:0.6241280184816143\n",
      "average true return:0.5211858625986809\n",
      "-----------------------\n",
      "Training Step: 151\n",
      "generator loss:0.7710068756646854\n",
      "-----------------------\n"
     ]
    },
    {
     "name": "stderr",
     "output_type": "stream",
     "text": [
      "\r",
      "151it [01:15,  1.98it/s]"
     ]
    },
    {
     "name": "stdout",
     "output_type": "stream",
     "text": [
      "total discriminator loss:0.6333838316462783\n",
      "average true return:0.5242980319685684\n",
      "-----------------------\n",
      "Training Step: 152\n",
      "generator loss:0.751393282339788\n",
      "-----------------------\n"
     ]
    },
    {
     "name": "stderr",
     "output_type": "stream",
     "text": [
      "\r",
      "152it [01:15,  1.97it/s]"
     ]
    },
    {
     "name": "stdout",
     "output_type": "stream",
     "text": [
      "total discriminator loss:0.6036264404938025\n",
      "average true return:0.5304168390302717\n",
      "-----------------------\n",
      "Training Step: 153\n",
      "generator loss:0.7493252941649824\n",
      "-----------------------\n"
     ]
    },
    {
     "name": "stderr",
     "output_type": "stream",
     "text": [
      "\r",
      "153it [01:16,  1.97it/s]"
     ]
    },
    {
     "name": "stdout",
     "output_type": "stream",
     "text": [
      "total discriminator loss:0.6187126140409828\n",
      "average true return:0.539053900043487\n",
      "-----------------------\n",
      "Training Step: 154\n",
      "generator loss:0.7490129393759707\n",
      "-----------------------\n"
     ]
    },
    {
     "name": "stderr",
     "output_type": "stream",
     "text": [
      "\r",
      "154it [01:16,  2.05it/s]"
     ]
    },
    {
     "name": "stdout",
     "output_type": "stream",
     "text": [
      "total discriminator loss:0.596243249447181\n",
      "average true return:0.5353251061830671\n",
      "-----------------------\n",
      "Training Step: 155\n",
      "generator loss:0.7597951150240514\n",
      "-----------------------\n"
     ]
    },
    {
     "name": "stderr",
     "output_type": "stream",
     "text": [
      "\r",
      "155it [01:17,  2.09it/s]"
     ]
    },
    {
     "name": "stdout",
     "output_type": "stream",
     "text": [
      "total discriminator loss:0.6060712611270662\n",
      "average true return:0.5462955712842331\n",
      "-----------------------\n",
      "Training Step: 156\n",
      "generator loss:0.7394079880186032\n",
      "-----------------------\n"
     ]
    },
    {
     "name": "stderr",
     "output_type": "stream",
     "text": [
      "\r",
      "156it [01:17,  2.13it/s]"
     ]
    },
    {
     "name": "stdout",
     "output_type": "stream",
     "text": [
      "total discriminator loss:0.6171047133227736\n",
      "average true return:0.5499748458637135\n",
      "-----------------------\n",
      "Training Step: 157\n",
      "generator loss:0.7459139678525966\n",
      "-----------------------\n"
     ]
    },
    {
     "name": "stderr",
     "output_type": "stream",
     "text": [
      "\r",
      "157it [01:18,  2.16it/s]"
     ]
    },
    {
     "name": "stdout",
     "output_type": "stream",
     "text": [
      "total discriminator loss:0.5903929475497953\n",
      "average true return:0.5426587843164294\n",
      "-----------------------\n",
      "Training Step: 158\n",
      "generator loss:0.7348793465309542\n",
      "-----------------------\n"
     ]
    },
    {
     "name": "stderr",
     "output_type": "stream",
     "text": [
      "\r",
      "158it [01:18,  2.17it/s]"
     ]
    },
    {
     "name": "stdout",
     "output_type": "stream",
     "text": [
      "total discriminator loss:0.6103106485105518\n",
      "average true return:0.5606399706727891\n",
      "-----------------------\n",
      "Training Step: 159\n",
      "generator loss:0.7194505806074141\n",
      "-----------------------\n"
     ]
    },
    {
     "name": "stderr",
     "output_type": "stream",
     "text": [
      "\r",
      "159it [01:18,  2.20it/s]"
     ]
    },
    {
     "name": "stdout",
     "output_type": "stream",
     "text": [
      "total discriminator loss:0.5918964759255596\n",
      "average true return:0.5497116988710465\n",
      "-----------------------\n",
      "Training Step: 160\n",
      "generator loss:0.7388426141057228\n",
      "-----------------------\n"
     ]
    },
    {
     "name": "stderr",
     "output_type": "stream",
     "text": [
      "\r",
      "160it [01:19,  2.22it/s]"
     ]
    },
    {
     "name": "stdout",
     "output_type": "stream",
     "text": [
      "total discriminator loss:0.5977912903321572\n",
      "average true return:0.5531043337507051\n",
      "-----------------------\n",
      "Training Step: 161\n",
      "generator loss:0.7806412541271668\n",
      "-----------------------\n"
     ]
    },
    {
     "name": "stderr",
     "output_type": "stream",
     "text": [
      "\r",
      "161it [01:19,  2.19it/s]"
     ]
    },
    {
     "name": "stdout",
     "output_type": "stream",
     "text": [
      "total discriminator loss:0.5838106006287372\n",
      "average true return:0.548630461382415\n",
      "-----------------------\n",
      "Training Step: 162\n",
      "generator loss:0.7955053724210936\n",
      "-----------------------\n"
     ]
    },
    {
     "name": "stderr",
     "output_type": "stream",
     "text": [
      "\r",
      "162it [01:20,  2.07it/s]"
     ]
    },
    {
     "name": "stdout",
     "output_type": "stream",
     "text": [
      "total discriminator loss:0.6155133353747992\n",
      "average true return:0.530087655479285\n",
      "-----------------------\n",
      "Training Step: 163\n",
      "generator loss:0.8022288988202283\n",
      "-----------------------\n"
     ]
    },
    {
     "name": "stderr",
     "output_type": "stream",
     "text": [
      "\r",
      "163it [01:20,  2.09it/s]"
     ]
    },
    {
     "name": "stdout",
     "output_type": "stream",
     "text": [
      "total discriminator loss:0.5951007236381116\n",
      "average true return:0.5476885518635679\n",
      "-----------------------\n",
      "Training Step: 164\n",
      "generator loss:0.8237092056714315\n",
      "-----------------------\n"
     ]
    },
    {
     "name": "stderr",
     "output_type": "stream",
     "text": [
      "\r",
      "164it [01:21,  2.14it/s]"
     ]
    },
    {
     "name": "stdout",
     "output_type": "stream",
     "text": [
      "total discriminator loss:0.5865644136028845\n",
      "average true return:0.5272880578023749\n",
      "-----------------------\n",
      "Training Step: 165\n",
      "generator loss:0.8160906111399374\n",
      "-----------------------\n"
     ]
    },
    {
     "name": "stderr",
     "output_type": "stream",
     "text": [
      "\r",
      "165it [01:21,  2.08it/s]"
     ]
    },
    {
     "name": "stdout",
     "output_type": "stream",
     "text": [
      "total discriminator loss:0.5737935939025003\n",
      "average true return:0.528051057330194\n",
      "-----------------------\n",
      "Training Step: 166\n",
      "generator loss:0.8432579198179313\n",
      "-----------------------\n"
     ]
    },
    {
     "name": "stderr",
     "output_type": "stream",
     "text": [
      "\r",
      "166it [01:22,  2.06it/s]"
     ]
    },
    {
     "name": "stdout",
     "output_type": "stream",
     "text": [
      "total discriminator loss:0.5653514433035345\n",
      "average true return:0.5159983358489609\n",
      "-----------------------\n",
      "Training Step: 167\n",
      "generator loss:0.92085342459826\n",
      "-----------------------\n"
     ]
    },
    {
     "name": "stderr",
     "output_type": "stream",
     "text": [
      "\r",
      "167it [01:22,  2.04it/s]"
     ]
    },
    {
     "name": "stdout",
     "output_type": "stream",
     "text": [
      "total discriminator loss:0.5684920319335482\n",
      "average true return:0.5155532294226148\n",
      "-----------------------\n",
      "Training Step: 168\n",
      "generator loss:0.8489094669111018\n",
      "-----------------------\n"
     ]
    },
    {
     "name": "stderr",
     "output_type": "stream",
     "text": [
      "\r",
      "168it [01:23,  2.03it/s]"
     ]
    },
    {
     "name": "stdout",
     "output_type": "stream",
     "text": [
      "total discriminator loss:0.5718991156520378\n",
      "average true return:0.5017782430867803\n",
      "-----------------------\n",
      "Training Step: 169\n",
      "generator loss:0.9514005492231958\n",
      "-----------------------\n"
     ]
    },
    {
     "name": "stderr",
     "output_type": "stream",
     "text": [
      "\r",
      "169it [01:23,  2.02it/s]"
     ]
    },
    {
     "name": "stdout",
     "output_type": "stream",
     "text": [
      "total discriminator loss:0.580096126806491\n",
      "average true return:0.5186284702591144\n",
      "-----------------------\n",
      "Training Step: 170\n",
      "generator loss:0.9317385178579546\n",
      "-----------------------\n"
     ]
    },
    {
     "name": "stderr",
     "output_type": "stream",
     "text": [
      "\r",
      "170it [01:24,  2.02it/s]"
     ]
    },
    {
     "name": "stdout",
     "output_type": "stream",
     "text": [
      "total discriminator loss:0.5586836519112928\n",
      "average true return:0.49285683277502595\n",
      "-----------------------\n",
      "Training Step: 171\n",
      "generator loss:0.9475333399353348\n",
      "-----------------------\n"
     ]
    },
    {
     "name": "stderr",
     "output_type": "stream",
     "text": [
      "\r",
      "171it [01:24,  2.00it/s]"
     ]
    },
    {
     "name": "stdout",
     "output_type": "stream",
     "text": [
      "total discriminator loss:0.5973629847408248\n",
      "average true return:0.5100251424056937\n",
      "-----------------------\n",
      "Training Step: 172\n",
      "generator loss:0.9355174992191658\n",
      "-----------------------\n"
     ]
    },
    {
     "name": "stderr",
     "output_type": "stream",
     "text": [
      "\r",
      "172it [01:25,  2.01it/s]"
     ]
    },
    {
     "name": "stdout",
     "output_type": "stream",
     "text": [
      "total discriminator loss:0.5795042032755211\n",
      "average true return:0.5006718300824162\n",
      "-----------------------\n",
      "Training Step: 173\n",
      "generator loss:0.9281764692390537\n",
      "-----------------------\n"
     ]
    },
    {
     "name": "stderr",
     "output_type": "stream",
     "text": [
      "\r",
      "173it [01:25,  1.99it/s]"
     ]
    },
    {
     "name": "stdout",
     "output_type": "stream",
     "text": [
      "total discriminator loss:0.5401630235969906\n",
      "average true return:0.5173078579767125\n",
      "-----------------------\n",
      "Training Step: 174\n",
      "generator loss:0.9133432998588805\n",
      "-----------------------\n"
     ]
    },
    {
     "name": "stderr",
     "output_type": "stream",
     "text": [
      "\r",
      "174it [01:26,  2.00it/s]"
     ]
    },
    {
     "name": "stdout",
     "output_type": "stream",
     "text": [
      "total discriminator loss:0.5648260414865303\n",
      "average true return:0.5127233104916842\n",
      "-----------------------\n",
      "Training Step: 175\n",
      "generator loss:0.8978145846010652\n",
      "-----------------------\n"
     ]
    },
    {
     "name": "stderr",
     "output_type": "stream",
     "text": [
      "\r",
      "175it [01:26,  1.98it/s]"
     ]
    },
    {
     "name": "stdout",
     "output_type": "stream",
     "text": [
      "total discriminator loss:0.5399113110510991\n",
      "average true return:0.5135770506250135\n",
      "-----------------------\n",
      "Training Step: 176\n",
      "generator loss:0.9373455857761146\n",
      "-----------------------\n"
     ]
    },
    {
     "name": "stderr",
     "output_type": "stream",
     "text": [
      "\r",
      "176it [01:27,  1.98it/s]"
     ]
    },
    {
     "name": "stdout",
     "output_type": "stream",
     "text": [
      "total discriminator loss:0.5462923357433986\n",
      "average true return:0.5239115465932374\n",
      "-----------------------\n",
      "Training Step: 177\n",
      "generator loss:0.9271145235319103\n",
      "-----------------------\n"
     ]
    },
    {
     "name": "stderr",
     "output_type": "stream",
     "text": [
      "\r",
      "177it [01:27,  1.97it/s]"
     ]
    },
    {
     "name": "stdout",
     "output_type": "stream",
     "text": [
      "total discriminator loss:0.5488113553294751\n",
      "average true return:0.5287804016577038\n",
      "-----------------------\n",
      "Training Step: 178\n",
      "generator loss:0.9305683892369989\n",
      "-----------------------\n"
     ]
    },
    {
     "name": "stderr",
     "output_type": "stream",
     "text": [
      "\r",
      "178it [01:28,  2.02it/s]"
     ]
    },
    {
     "name": "stdout",
     "output_type": "stream",
     "text": [
      "total discriminator loss:0.5728420278408\n",
      "average true return:0.5183608765307928\n",
      "-----------------------\n",
      "Training Step: 179\n",
      "generator loss:0.9345628448488486\n",
      "-----------------------\n"
     ]
    },
    {
     "name": "stderr",
     "output_type": "stream",
     "text": [
      "\r",
      "179it [01:28,  2.01it/s]"
     ]
    },
    {
     "name": "stdout",
     "output_type": "stream",
     "text": [
      "total discriminator loss:0.5539422239468064\n",
      "average true return:0.5193091600701196\n",
      "-----------------------\n",
      "Training Step: 180\n",
      "generator loss:0.9282196147982797\n",
      "-----------------------\n"
     ]
    },
    {
     "name": "stderr",
     "output_type": "stream",
     "text": [
      "\r",
      "180it [01:29,  1.99it/s]"
     ]
    },
    {
     "name": "stdout",
     "output_type": "stream",
     "text": [
      "total discriminator loss:0.5636893850623068\n",
      "average true return:0.5298552731661241\n",
      "-----------------------\n",
      "Training Step: 181\n",
      "generator loss:0.8888411656241023\n",
      "-----------------------\n"
     ]
    },
    {
     "name": "stderr",
     "output_type": "stream",
     "text": [
      "\r",
      "181it [01:29,  1.99it/s]"
     ]
    },
    {
     "name": "stdout",
     "output_type": "stream",
     "text": [
      "total discriminator loss:0.5724672604277612\n",
      "average true return:0.5166054519747576\n",
      "-----------------------\n",
      "Training Step: 182\n",
      "generator loss:0.9978457428434244\n",
      "-----------------------\n"
     ]
    },
    {
     "name": "stderr",
     "output_type": "stream",
     "text": [
      "\r",
      "182it [01:30,  1.98it/s]"
     ]
    },
    {
     "name": "stdout",
     "output_type": "stream",
     "text": [
      "total discriminator loss:0.5543478745722759\n",
      "average true return:0.501788041826048\n",
      "-----------------------\n",
      "Training Step: 183\n",
      "generator loss:1.0207763282692524\n",
      "-----------------------\n"
     ]
    },
    {
     "name": "stderr",
     "output_type": "stream",
     "text": [
      "\r",
      "183it [01:30,  1.99it/s]"
     ]
    },
    {
     "name": "stdout",
     "output_type": "stream",
     "text": [
      "total discriminator loss:0.5458802590247429\n",
      "average true return:0.4878387497202532\n",
      "-----------------------\n",
      "Training Step: 184\n",
      "generator loss:1.0667442943649397\n",
      "-----------------------\n"
     ]
    },
    {
     "name": "stderr",
     "output_type": "stream",
     "text": [
      "\r",
      "184it [01:31,  1.99it/s]"
     ]
    },
    {
     "name": "stdout",
     "output_type": "stream",
     "text": [
      "total discriminator loss:0.5600031945922602\n",
      "average true return:0.4916019992652236\n",
      "-----------------------\n",
      "Training Step: 185\n",
      "generator loss:1.0218845475901983\n",
      "-----------------------\n"
     ]
    },
    {
     "name": "stderr",
     "output_type": "stream",
     "text": [
      "\r",
      "185it [01:31,  2.02it/s]"
     ]
    },
    {
     "name": "stdout",
     "output_type": "stream",
     "text": [
      "total discriminator loss:0.5433939708765301\n",
      "average true return:0.4912120768095154\n",
      "-----------------------\n",
      "Training Step: 186\n",
      "generator loss:0.9570316397329537\n",
      "-----------------------\n"
     ]
    },
    {
     "name": "stderr",
     "output_type": "stream",
     "text": [
      "\r",
      "186it [01:32,  2.00it/s]"
     ]
    },
    {
     "name": "stdout",
     "output_type": "stream",
     "text": [
      "total discriminator loss:0.5908976138101776\n",
      "average true return:0.5151544923987964\n",
      "-----------------------\n",
      "Training Step: 187\n",
      "generator loss:0.9776799782904366\n",
      "-----------------------\n"
     ]
    },
    {
     "name": "stderr",
     "output_type": "stream",
     "text": [
      "\r",
      "187it [01:32,  1.96it/s]"
     ]
    },
    {
     "name": "stdout",
     "output_type": "stream",
     "text": [
      "total discriminator loss:0.5985871461359725\n",
      "average true return:0.5213293938287499\n",
      "-----------------------\n",
      "Training Step: 188\n",
      "generator loss:0.9359074778698073\n",
      "-----------------------\n"
     ]
    },
    {
     "name": "stderr",
     "output_type": "stream",
     "text": [
      "\r",
      "188it [01:33,  1.95it/s]"
     ]
    },
    {
     "name": "stdout",
     "output_type": "stream",
     "text": [
      "total discriminator loss:0.5828518090522383\n",
      "average true return:0.5136718569489493\n",
      "-----------------------\n",
      "Training Step: 189\n",
      "generator loss:0.9213270795839088\n",
      "-----------------------\n"
     ]
    },
    {
     "name": "stderr",
     "output_type": "stream",
     "text": [
      "\r",
      "189it [01:33,  1.97it/s]"
     ]
    },
    {
     "name": "stdout",
     "output_type": "stream",
     "text": [
      "total discriminator loss:0.6045267663679048\n",
      "average true return:0.5274937245989839\n",
      "-----------------------\n",
      "Training Step: 190\n",
      "generator loss:0.8907323890249836\n",
      "-----------------------\n"
     ]
    },
    {
     "name": "stderr",
     "output_type": "stream",
     "text": [
      "\r",
      "190it [01:34,  1.95it/s]"
     ]
    },
    {
     "name": "stdout",
     "output_type": "stream",
     "text": [
      "total discriminator loss:0.612779330349333\n",
      "average true return:0.5349760176142347\n",
      "-----------------------\n",
      "Training Step: 191\n",
      "generator loss:0.8577622441598319\n",
      "-----------------------\n"
     ]
    },
    {
     "name": "stderr",
     "output_type": "stream",
     "text": [
      "\r",
      "191it [01:34,  1.95it/s]"
     ]
    },
    {
     "name": "stdout",
     "output_type": "stream",
     "text": [
      "total discriminator loss:0.6761779590549721\n",
      "average true return:0.5400641808884479\n",
      "-----------------------\n",
      "Training Step: 192\n",
      "generator loss:0.9242492770732973\n",
      "-----------------------\n"
     ]
    },
    {
     "name": "stderr",
     "output_type": "stream",
     "text": [
      "\r",
      "192it [01:35,  1.97it/s]"
     ]
    },
    {
     "name": "stdout",
     "output_type": "stream",
     "text": [
      "total discriminator loss:0.6848658911510016\n",
      "average true return:0.5157803326739189\n",
      "-----------------------\n",
      "Training Step: 193\n",
      "generator loss:0.9261820009031249\n",
      "-----------------------\n"
     ]
    },
    {
     "name": "stderr",
     "output_type": "stream",
     "text": [
      "\r",
      "193it [01:35,  1.95it/s]"
     ]
    },
    {
     "name": "stdout",
     "output_type": "stream",
     "text": [
      "total discriminator loss:0.6722172220317992\n",
      "average true return:0.5299887072180809\n",
      "-----------------------\n",
      "Training Step: 194\n",
      "generator loss:0.8779256242351903\n",
      "-----------------------\n"
     ]
    },
    {
     "name": "stderr",
     "output_type": "stream",
     "text": [
      "\r",
      "194it [01:36,  1.98it/s]"
     ]
    },
    {
     "name": "stdout",
     "output_type": "stream",
     "text": [
      "total discriminator loss:0.6481198017696278\n",
      "average true return:0.5407090050723277\n",
      "-----------------------\n",
      "Training Step: 195\n",
      "generator loss:0.9879069971573102\n",
      "-----------------------\n"
     ]
    },
    {
     "name": "stderr",
     "output_type": "stream",
     "text": [
      "\r",
      "195it [01:36,  1.99it/s]"
     ]
    },
    {
     "name": "stdout",
     "output_type": "stream",
     "text": [
      "total discriminator loss:0.7004154451825807\n",
      "average true return:0.5297601668779368\n",
      "-----------------------\n",
      "Training Step: 196\n",
      "generator loss:0.8769203400652776\n",
      "-----------------------\n"
     ]
    },
    {
     "name": "stderr",
     "output_type": "stream",
     "text": [
      "\r",
      "196it [01:37,  1.98it/s]"
     ]
    },
    {
     "name": "stdout",
     "output_type": "stream",
     "text": [
      "total discriminator loss:0.6801169964195591\n",
      "average true return:0.5431442146937957\n",
      "-----------------------\n",
      "Training Step: 197\n",
      "generator loss:0.7692550777929141\n",
      "-----------------------\n"
     ]
    },
    {
     "name": "stderr",
     "output_type": "stream",
     "text": [
      "\r",
      "197it [01:37,  1.99it/s]"
     ]
    },
    {
     "name": "stdout",
     "output_type": "stream",
     "text": [
      "total discriminator loss:0.6762879492453573\n",
      "average true return:0.5604900331294176\n",
      "-----------------------\n",
      "Training Step: 198\n",
      "generator loss:0.7441493833626762\n",
      "-----------------------\n"
     ]
    },
    {
     "name": "stderr",
     "output_type": "stream",
     "text": [
      "\r",
      "198it [01:38,  1.99it/s]"
     ]
    },
    {
     "name": "stdout",
     "output_type": "stream",
     "text": [
      "total discriminator loss:0.6919357150772736\n",
      "average true return:0.5514704935062995\n",
      "-----------------------\n",
      "Training Step: 199\n",
      "generator loss:0.7299436834832727\n",
      "-----------------------\n"
     ]
    },
    {
     "name": "stderr",
     "output_type": "stream",
     "text": [
      "\r",
      "199it [01:38,  1.97it/s]"
     ]
    },
    {
     "name": "stdout",
     "output_type": "stream",
     "text": [
      "total discriminator loss:0.7546028506095718\n",
      "average true return:0.56000583460321\n",
      "-----------------------\n",
      "Training Step: 200\n",
      "generator loss:0.7158299880852831\n",
      "-----------------------\n"
     ]
    },
    {
     "name": "stderr",
     "output_type": "stream",
     "text": [
      "\r",
      "200it [01:39,  1.94it/s]"
     ]
    },
    {
     "name": "stdout",
     "output_type": "stream",
     "text": [
      "total discriminator loss:0.7066777595430498\n",
      "average true return:0.5632593390726288\n",
      "-----------------------\n",
      "Training Step: 201\n",
      "generator loss:0.7139730791455757\n",
      "-----------------------\n"
     ]
    },
    {
     "name": "stderr",
     "output_type": "stream",
     "text": [
      "\r",
      "201it [01:40,  1.87it/s]"
     ]
    },
    {
     "name": "stdout",
     "output_type": "stream",
     "text": [
      "total discriminator loss:0.6992454247870281\n",
      "average true return:0.5735861792219621\n",
      "-----------------------\n",
      "Training Step: 202\n",
      "generator loss:0.6555512499611019\n",
      "-----------------------\n"
     ]
    },
    {
     "name": "stderr",
     "output_type": "stream",
     "text": [
      "\r",
      "202it [01:40,  1.90it/s]"
     ]
    },
    {
     "name": "stdout",
     "output_type": "stream",
     "text": [
      "total discriminator loss:0.7459073807264262\n",
      "average true return:0.5919884502963411\n",
      "-----------------------\n",
      "Training Step: 203\n",
      "generator loss:0.665040686110864\n",
      "-----------------------\n"
     ]
    },
    {
     "name": "stderr",
     "output_type": "stream",
     "text": [
      "\r",
      "203it [01:41,  1.92it/s]"
     ]
    },
    {
     "name": "stdout",
     "output_type": "stream",
     "text": [
      "total discriminator loss:0.6728217601706048\n",
      "average true return:0.5708045039440524\n",
      "-----------------------\n",
      "Training Step: 204\n",
      "generator loss:0.7277161847870168\n",
      "-----------------------\n"
     ]
    },
    {
     "name": "stderr",
     "output_type": "stream",
     "text": [
      "\r",
      "204it [01:41,  1.92it/s]"
     ]
    },
    {
     "name": "stdout",
     "output_type": "stream",
     "text": [
      "total discriminator loss:0.7077171731918096\n",
      "average true return:0.5405670041840187\n",
      "-----------------------\n",
      "Training Step: 205\n",
      "generator loss:0.7309534124949102\n",
      "-----------------------\n"
     ]
    },
    {
     "name": "stderr",
     "output_type": "stream",
     "text": [
      "\r",
      "205it [01:42,  1.97it/s]"
     ]
    },
    {
     "name": "stdout",
     "output_type": "stream",
     "text": [
      "total discriminator loss:0.7301021394495011\n",
      "average true return:0.550364082075483\n",
      "-----------------------\n",
      "Training Step: 206\n",
      "generator loss:0.7507385590534538\n",
      "-----------------------\n"
     ]
    },
    {
     "name": "stderr",
     "output_type": "stream",
     "text": [
      "\r",
      "206it [01:42,  1.96it/s]"
     ]
    },
    {
     "name": "stdout",
     "output_type": "stream",
     "text": [
      "total discriminator loss:0.7769357284193038\n",
      "average true return:0.542483877966996\n",
      "-----------------------\n",
      "Training Step: 207\n",
      "generator loss:0.750095729263287\n",
      "-----------------------\n"
     ]
    },
    {
     "name": "stderr",
     "output_type": "stream",
     "text": [
      "\r",
      "207it [01:43,  1.96it/s]"
     ]
    },
    {
     "name": "stdout",
     "output_type": "stream",
     "text": [
      "total discriminator loss:0.7295217887267946\n",
      "average true return:0.5578313807994373\n",
      "-----------------------\n",
      "Training Step: 208\n",
      "generator loss:0.6695005408343608\n",
      "-----------------------\n"
     ]
    },
    {
     "name": "stderr",
     "output_type": "stream",
     "text": [
      "\r",
      "208it [01:43,  1.94it/s]"
     ]
    },
    {
     "name": "stdout",
     "output_type": "stream",
     "text": [
      "total discriminator loss:0.7277946704728839\n",
      "average true return:0.5657219861041208\n",
      "-----------------------\n",
      "Training Step: 209\n",
      "generator loss:0.7345991513562063\n",
      "-----------------------\n"
     ]
    },
    {
     "name": "stderr",
     "output_type": "stream",
     "text": [
      "\r",
      "209it [01:44,  1.94it/s]"
     ]
    },
    {
     "name": "stdout",
     "output_type": "stream",
     "text": [
      "total discriminator loss:0.7197831411784316\n",
      "average true return:0.5553014351669723\n",
      "-----------------------\n",
      "Training Step: 210\n",
      "generator loss:0.6979432668691419\n",
      "-----------------------\n"
     ]
    },
    {
     "name": "stderr",
     "output_type": "stream",
     "text": [
      "\r",
      "210it [01:44,  1.99it/s]"
     ]
    },
    {
     "name": "stdout",
     "output_type": "stream",
     "text": [
      "total discriminator loss:0.736111341415569\n",
      "average true return:0.5710191093293459\n",
      "-----------------------\n",
      "Training Step: 211\n",
      "generator loss:0.65902680703316\n",
      "-----------------------\n"
     ]
    },
    {
     "name": "stderr",
     "output_type": "stream",
     "text": [
      "\r",
      "211it [01:45,  2.06it/s]"
     ]
    },
    {
     "name": "stdout",
     "output_type": "stream",
     "text": [
      "total discriminator loss:0.7138216433627796\n",
      "average true return:0.5699058952758251\n",
      "-----------------------\n",
      "Training Step: 212\n",
      "generator loss:0.661098794335647\n",
      "-----------------------\n"
     ]
    },
    {
     "name": "stderr",
     "output_type": "stream",
     "text": [
      "\r",
      "212it [01:45,  2.10it/s]"
     ]
    },
    {
     "name": "stdout",
     "output_type": "stream",
     "text": [
      "total discriminator loss:0.7705277203263514\n",
      "average true return:0.5706457004012054\n",
      "-----------------------\n",
      "Training Step: 213\n",
      "generator loss:0.6669020417520958\n",
      "-----------------------\n"
     ]
    },
    {
     "name": "stderr",
     "output_type": "stream",
     "text": [
      "\r",
      "213it [01:46,  2.14it/s]"
     ]
    },
    {
     "name": "stdout",
     "output_type": "stream",
     "text": [
      "total discriminator loss:0.7566420108005039\n",
      "average true return:0.5612473612110478\n",
      "-----------------------\n",
      "Training Step: 214\n",
      "generator loss:0.6613222174785622\n",
      "-----------------------\n"
     ]
    },
    {
     "name": "stderr",
     "output_type": "stream",
     "text": [
      "\r",
      "214it [01:46,  2.18it/s]"
     ]
    },
    {
     "name": "stdout",
     "output_type": "stream",
     "text": [
      "total discriminator loss:0.7157402580015138\n",
      "average true return:0.5583786469309635\n",
      "-----------------------\n",
      "Training Step: 215\n",
      "generator loss:0.6940792409783848\n",
      "-----------------------\n"
     ]
    },
    {
     "name": "stderr",
     "output_type": "stream",
     "text": [
      "\r",
      "215it [01:46,  2.17it/s]"
     ]
    },
    {
     "name": "stdout",
     "output_type": "stream",
     "text": [
      "total discriminator loss:0.7124332685124923\n",
      "average true return:0.5561935831753704\n",
      "-----------------------\n",
      "Training Step: 216\n",
      "generator loss:0.6924142118089232\n",
      "-----------------------\n"
     ]
    },
    {
     "name": "stderr",
     "output_type": "stream",
     "text": [
      "\r",
      "216it [01:47,  2.19it/s]"
     ]
    },
    {
     "name": "stdout",
     "output_type": "stream",
     "text": [
      "total discriminator loss:0.7122848594852974\n",
      "average true return:0.5610272777188905\n",
      "-----------------------\n",
      "Training Step: 217\n",
      "generator loss:0.7013534107271289\n",
      "-----------------------\n"
     ]
    },
    {
     "name": "stderr",
     "output_type": "stream",
     "text": [
      "\r",
      "217it [01:47,  2.19it/s]"
     ]
    },
    {
     "name": "stdout",
     "output_type": "stream",
     "text": [
      "total discriminator loss:0.7190034534096914\n",
      "average true return:0.5512399674081108\n",
      "-----------------------\n",
      "Training Step: 218\n",
      "generator loss:0.6817509277836987\n",
      "-----------------------\n"
     ]
    },
    {
     "name": "stderr",
     "output_type": "stream",
     "text": [
      "\r",
      "218it [01:48,  2.18it/s]"
     ]
    },
    {
     "name": "stdout",
     "output_type": "stream",
     "text": [
      "total discriminator loss:0.6979360439215738\n",
      "average true return:0.5550746617637135\n",
      "-----------------------\n",
      "Training Step: 219\n",
      "generator loss:0.772639451663852\n",
      "-----------------------\n"
     ]
    },
    {
     "name": "stderr",
     "output_type": "stream",
     "text": [
      "\r",
      "219it [01:48,  2.16it/s]"
     ]
    },
    {
     "name": "stdout",
     "output_type": "stream",
     "text": [
      "total discriminator loss:0.7262027534415041\n",
      "average true return:0.5371819253257656\n",
      "-----------------------\n",
      "Training Step: 220\n",
      "generator loss:0.7583137111878573\n",
      "-----------------------\n"
     ]
    },
    {
     "name": "stderr",
     "output_type": "stream",
     "text": [
      "\r",
      "220it [01:49,  2.13it/s]"
     ]
    },
    {
     "name": "stdout",
     "output_type": "stream",
     "text": [
      "total discriminator loss:0.7192813745504946\n",
      "average true return:0.5433598589310156\n",
      "-----------------------\n",
      "Training Step: 221\n",
      "generator loss:0.8026810434138508\n",
      "-----------------------\n"
     ]
    },
    {
     "name": "stderr",
     "output_type": "stream",
     "text": [
      "\r",
      "221it [01:49,  2.18it/s]"
     ]
    },
    {
     "name": "stdout",
     "output_type": "stream",
     "text": [
      "total discriminator loss:0.7212363169023221\n",
      "average true return:0.5352422616219508\n",
      "-----------------------\n",
      "Training Step: 222\n",
      "generator loss:0.7915107498958667\n",
      "-----------------------\n"
     ]
    },
    {
     "name": "stderr",
     "output_type": "stream",
     "text": [
      "\r",
      "222it [01:50,  2.13it/s]"
     ]
    },
    {
     "name": "stdout",
     "output_type": "stream",
     "text": [
      "total discriminator loss:0.6977051020956414\n",
      "average true return:0.5347113620598196\n",
      "-----------------------\n",
      "Training Step: 223\n",
      "generator loss:0.7979328888303137\n",
      "-----------------------\n"
     ]
    },
    {
     "name": "stderr",
     "output_type": "stream",
     "text": [
      "\r",
      "223it [01:50,  2.09it/s]"
     ]
    },
    {
     "name": "stdout",
     "output_type": "stream",
     "text": [
      "total discriminator loss:0.7301658049836781\n",
      "average true return:0.5085086712566569\n",
      "-----------------------\n",
      "Training Step: 224\n",
      "generator loss:0.7740184457279032\n",
      "-----------------------\n"
     ]
    },
    {
     "name": "stderr",
     "output_type": "stream",
     "text": [
      "\r",
      "224it [01:51,  2.05it/s]"
     ]
    },
    {
     "name": "stdout",
     "output_type": "stream",
     "text": [
      "total discriminator loss:0.6923168735379551\n",
      "average true return:0.5021878313192771\n",
      "-----------------------\n",
      "Training Step: 225\n",
      "generator loss:0.7597679541991103\n",
      "-----------------------\n"
     ]
    },
    {
     "name": "stderr",
     "output_type": "stream",
     "text": [
      "\r",
      "225it [01:51,  2.00it/s]"
     ]
    },
    {
     "name": "stdout",
     "output_type": "stream",
     "text": [
      "total discriminator loss:0.6956511772711835\n",
      "average true return:0.49779373680878314\n",
      "-----------------------\n",
      "Training Step: 226\n",
      "generator loss:0.7981052925925987\n",
      "-----------------------\n"
     ]
    },
    {
     "name": "stderr",
     "output_type": "stream",
     "text": [
      "\r",
      "226it [01:52,  2.01it/s]"
     ]
    },
    {
     "name": "stdout",
     "output_type": "stream",
     "text": [
      "total discriminator loss:0.7187667119923753\n",
      "average true return:0.5020811844337819\n",
      "-----------------------\n",
      "Training Step: 227\n",
      "generator loss:0.8080999894170591\n",
      "-----------------------\n"
     ]
    },
    {
     "name": "stderr",
     "output_type": "stream",
     "text": [
      "\r",
      "227it [01:52,  2.03it/s]"
     ]
    },
    {
     "name": "stdout",
     "output_type": "stream",
     "text": [
      "total discriminator loss:0.7067223237505382\n",
      "average true return:0.5107590256364624\n",
      "-----------------------\n",
      "Training Step: 228\n",
      "generator loss:0.8033396715107746\n",
      "-----------------------\n"
     ]
    },
    {
     "name": "stderr",
     "output_type": "stream",
     "text": [
      "\r",
      "228it [01:53,  2.02it/s]"
     ]
    },
    {
     "name": "stdout",
     "output_type": "stream",
     "text": [
      "total discriminator loss:0.7033109732669962\n",
      "average true return:0.5027071699118641\n",
      "-----------------------\n",
      "Training Step: 229\n",
      "generator loss:0.8126630450502247\n",
      "-----------------------\n"
     ]
    },
    {
     "name": "stderr",
     "output_type": "stream",
     "text": [
      "\r",
      "229it [01:53,  2.00it/s]"
     ]
    },
    {
     "name": "stdout",
     "output_type": "stream",
     "text": [
      "total discriminator loss:0.6986916974686941\n",
      "average true return:0.5034954841209609\n",
      "-----------------------\n",
      "Training Step: 230\n",
      "generator loss:0.7952289297084874\n",
      "-----------------------\n"
     ]
    },
    {
     "name": "stderr",
     "output_type": "stream",
     "text": [
      "\r",
      "230it [01:54,  2.01it/s]"
     ]
    },
    {
     "name": "stdout",
     "output_type": "stream",
     "text": [
      "total discriminator loss:0.7006717774008951\n",
      "average true return:0.49309274723238083\n",
      "-----------------------\n",
      "Training Step: 231\n",
      "generator loss:0.7658396516548668\n",
      "-----------------------\n"
     ]
    },
    {
     "name": "stderr",
     "output_type": "stream",
     "text": [
      "\r",
      "231it [01:54,  2.05it/s]"
     ]
    },
    {
     "name": "stdout",
     "output_type": "stream",
     "text": [
      "total discriminator loss:0.6657165051163354\n",
      "average true return:0.4961358488432802\n",
      "-----------------------\n",
      "Training Step: 232\n",
      "generator loss:0.8093187742393186\n",
      "-----------------------\n"
     ]
    },
    {
     "name": "stderr",
     "output_type": "stream",
     "text": [
      "\r",
      "232it [01:55,  2.01it/s]"
     ]
    },
    {
     "name": "stdout",
     "output_type": "stream",
     "text": [
      "total discriminator loss:0.6655262240235617\n",
      "average true return:0.4980695133726135\n",
      "-----------------------\n",
      "Training Step: 233\n",
      "generator loss:0.8044994487337901\n",
      "-----------------------\n"
     ]
    },
    {
     "name": "stderr",
     "output_type": "stream",
     "text": [
      "\r",
      "233it [01:55,  2.00it/s]"
     ]
    },
    {
     "name": "stdout",
     "output_type": "stream",
     "text": [
      "total discriminator loss:0.6891513648934873\n",
      "average true return:0.503417429158207\n",
      "-----------------------\n",
      "Training Step: 234\n",
      "generator loss:0.8043293348206852\n",
      "-----------------------\n"
     ]
    },
    {
     "name": "stderr",
     "output_type": "stream",
     "text": [
      "\r",
      "234it [01:56,  1.98it/s]"
     ]
    },
    {
     "name": "stdout",
     "output_type": "stream",
     "text": [
      "total discriminator loss:0.6675792971199105\n",
      "average true return:0.492701127840093\n",
      "-----------------------\n",
      "Training Step: 235\n",
      "generator loss:0.7959226762241189\n",
      "-----------------------\n"
     ]
    },
    {
     "name": "stderr",
     "output_type": "stream",
     "text": [
      "\r",
      "235it [01:56,  1.99it/s]"
     ]
    },
    {
     "name": "stdout",
     "output_type": "stream",
     "text": [
      "total discriminator loss:0.7038749290381701\n",
      "average true return:0.4777188477232518\n",
      "-----------------------\n",
      "Training Step: 236\n",
      "generator loss:0.8592809589366726\n",
      "-----------------------\n"
     ]
    },
    {
     "name": "stderr",
     "output_type": "stream",
     "text": [
      "\r",
      "236it [01:57,  1.97it/s]"
     ]
    },
    {
     "name": "stdout",
     "output_type": "stream",
     "text": [
      "total discriminator loss:0.6977504200920202\n",
      "average true return:0.49755575530197466\n",
      "-----------------------\n",
      "Training Step: 237\n",
      "generator loss:0.7911068227441012\n",
      "-----------------------\n"
     ]
    },
    {
     "name": "stderr",
     "output_type": "stream",
     "text": [
      "\r",
      "237it [01:57,  1.98it/s]"
     ]
    },
    {
     "name": "stdout",
     "output_type": "stream",
     "text": [
      "total discriminator loss:0.6836415519670367\n",
      "average true return:0.48664443506010124\n",
      "-----------------------\n",
      "Training Step: 238\n",
      "generator loss:0.794659389275517\n",
      "-----------------------\n"
     ]
    },
    {
     "name": "stderr",
     "output_type": "stream",
     "text": [
      "\r",
      "238it [01:58,  2.00it/s]"
     ]
    },
    {
     "name": "stdout",
     "output_type": "stream",
     "text": [
      "total discriminator loss:0.6874222872867904\n",
      "average true return:0.4876936131546973\n",
      "-----------------------\n",
      "Training Step: 239\n",
      "generator loss:0.8074312310283195\n",
      "-----------------------\n"
     ]
    },
    {
     "name": "stderr",
     "output_type": "stream",
     "text": [
      "\r",
      "239it [01:58,  2.00it/s]"
     ]
    },
    {
     "name": "stdout",
     "output_type": "stream",
     "text": [
      "total discriminator loss:0.6758793062942294\n",
      "average true return:0.5068545592632414\n",
      "-----------------------\n",
      "Training Step: 240\n",
      "generator loss:0.8382099280759849\n",
      "-----------------------\n"
     ]
    },
    {
     "name": "stderr",
     "output_type": "stream",
     "text": [
      "\r",
      "240it [01:59,  1.91it/s]"
     ]
    },
    {
     "name": "stdout",
     "output_type": "stream",
     "text": [
      "total discriminator loss:0.6784192702477584\n",
      "average true return:0.5002592020783556\n",
      "-----------------------\n",
      "Training Step: 241\n",
      "generator loss:0.8402836203126516\n",
      "-----------------------\n"
     ]
    },
    {
     "name": "stderr",
     "output_type": "stream",
     "text": [
      "\r",
      "241it [01:59,  1.95it/s]"
     ]
    },
    {
     "name": "stdout",
     "output_type": "stream",
     "text": [
      "total discriminator loss:0.6682363564951816\n",
      "average true return:0.4966203734714733\n",
      "-----------------------\n",
      "Training Step: 242\n",
      "generator loss:0.8714828800759982\n",
      "-----------------------\n"
     ]
    },
    {
     "name": "stderr",
     "output_type": "stream",
     "text": [
      "\r",
      "242it [02:00,  1.95it/s]"
     ]
    },
    {
     "name": "stdout",
     "output_type": "stream",
     "text": [
      "total discriminator loss:0.6712862844843475\n",
      "average true return:0.4917339969383451\n",
      "-----------------------\n",
      "Training Step: 243\n",
      "generator loss:0.860059078136984\n",
      "-----------------------\n"
     ]
    },
    {
     "name": "stderr",
     "output_type": "stream",
     "text": [
      "\r",
      "243it [02:00,  1.95it/s]"
     ]
    },
    {
     "name": "stdout",
     "output_type": "stream",
     "text": [
      "total discriminator loss:0.6661717326027695\n",
      "average true return:0.5049590737690566\n",
      "-----------------------\n",
      "Training Step: 244\n",
      "generator loss:0.9553177178712505\n",
      "-----------------------\n"
     ]
    },
    {
     "name": "stderr",
     "output_type": "stream",
     "text": [
      "\r",
      "244it [02:01,  1.96it/s]"
     ]
    },
    {
     "name": "stdout",
     "output_type": "stream",
     "text": [
      "total discriminator loss:0.6732134606738582\n",
      "average true return:0.5014006388247179\n",
      "-----------------------\n",
      "Training Step: 245\n",
      "generator loss:0.9280341273947471\n",
      "-----------------------\n"
     ]
    },
    {
     "name": "stderr",
     "output_type": "stream",
     "text": [
      "\r",
      "245it [02:01,  1.96it/s]"
     ]
    },
    {
     "name": "stdout",
     "output_type": "stream",
     "text": [
      "total discriminator loss:0.6648304541785227\n",
      "average true return:0.4787603788820408\n",
      "-----------------------\n",
      "Training Step: 246\n",
      "generator loss:0.9549355599436777\n",
      "-----------------------\n"
     ]
    },
    {
     "name": "stderr",
     "output_type": "stream",
     "text": [
      "\r",
      "246it [02:02,  1.95it/s]"
     ]
    },
    {
     "name": "stdout",
     "output_type": "stream",
     "text": [
      "total discriminator loss:0.6628522960697601\n",
      "average true return:0.4765742265299742\n",
      "-----------------------\n",
      "Training Step: 247\n",
      "generator loss:1.0153043886144713\n",
      "-----------------------\n"
     ]
    },
    {
     "name": "stderr",
     "output_type": "stream",
     "text": [
      "\r",
      "247it [02:02,  1.95it/s]"
     ]
    },
    {
     "name": "stdout",
     "output_type": "stream",
     "text": [
      "total discriminator loss:0.6438258207114996\n",
      "average true return:0.4755022774510923\n",
      "-----------------------\n",
      "Training Step: 248\n",
      "generator loss:1.0515610158842863\n",
      "-----------------------\n"
     ]
    },
    {
     "name": "stderr",
     "output_type": "stream",
     "text": [
      "\r",
      "248it [02:03,  1.93it/s]"
     ]
    },
    {
     "name": "stdout",
     "output_type": "stream",
     "text": [
      "total discriminator loss:0.6416631639762648\n",
      "average true return:0.46356034543257546\n",
      "-----------------------\n",
      "Training Step: 249\n",
      "generator loss:1.1153587494846497\n",
      "-----------------------\n"
     ]
    },
    {
     "name": "stderr",
     "output_type": "stream",
     "text": [
      "\r",
      "249it [02:03,  1.93it/s]"
     ]
    },
    {
     "name": "stdout",
     "output_type": "stream",
     "text": [
      "total discriminator loss:0.6418493359366629\n",
      "average true return:0.4513040407800516\n",
      "-----------------------\n",
      "Training Step: 250\n",
      "generator loss:1.2726657670213388\n",
      "-----------------------\n"
     ]
    },
    {
     "name": "stderr",
     "output_type": "stream",
     "text": [
      "\r",
      "250it [02:04,  1.95it/s]"
     ]
    },
    {
     "name": "stdout",
     "output_type": "stream",
     "text": [
      "total discriminator loss:0.615707635932528\n",
      "average true return:0.44492578094973023\n",
      "-----------------------\n",
      "Training Step: 251\n",
      "generator loss:1.2841633403911619\n",
      "-----------------------\n"
     ]
    },
    {
     "name": "stderr",
     "output_type": "stream",
     "text": [
      "\r",
      "251it [02:04,  1.95it/s]"
     ]
    },
    {
     "name": "stdout",
     "output_type": "stream",
     "text": [
      "total discriminator loss:0.6123490009131842\n",
      "average true return:0.44117625000474214\n",
      "-----------------------\n",
      "Training Step: 252\n",
      "generator loss:1.365771980764581\n",
      "-----------------------\n"
     ]
    },
    {
     "name": "stderr",
     "output_type": "stream",
     "text": [
      "\r",
      "252it [02:05,  1.95it/s]"
     ]
    },
    {
     "name": "stdout",
     "output_type": "stream",
     "text": [
      "total discriminator loss:0.6207122694823807\n",
      "average true return:0.41440516716809217\n",
      "-----------------------\n",
      "Training Step: 253\n",
      "generator loss:1.4336099434388725\n",
      "-----------------------\n"
     ]
    },
    {
     "name": "stderr",
     "output_type": "stream",
     "text": [
      "\r",
      "253it [02:05,  1.94it/s]"
     ]
    },
    {
     "name": "stdout",
     "output_type": "stream",
     "text": [
      "total discriminator loss:0.6061501331474183\n",
      "average true return:0.4181752205683057\n",
      "-----------------------\n",
      "Training Step: 254\n",
      "generator loss:1.4658517565944278\n",
      "-----------------------\n"
     ]
    },
    {
     "name": "stderr",
     "output_type": "stream",
     "text": [
      "\r",
      "254it [02:06,  1.94it/s]"
     ]
    },
    {
     "name": "stdout",
     "output_type": "stream",
     "text": [
      "total discriminator loss:0.5860096693974062\n",
      "average true return:0.4200003983057676\n",
      "-----------------------\n",
      "Training Step: 255\n",
      "generator loss:1.6532059686072769\n",
      "-----------------------\n"
     ]
    },
    {
     "name": "stderr",
     "output_type": "stream",
     "text": [
      "\r",
      "255it [02:06,  1.95it/s]"
     ]
    },
    {
     "name": "stdout",
     "output_type": "stream",
     "text": [
      "total discriminator loss:0.5798729177186747\n",
      "average true return:0.42024165305830263\n",
      "-----------------------\n",
      "Training Step: 256\n",
      "generator loss:1.7262174129774572\n",
      "-----------------------\n"
     ]
    },
    {
     "name": "stderr",
     "output_type": "stream",
     "text": [
      "\r",
      "256it [02:07,  1.99it/s]"
     ]
    },
    {
     "name": "stdout",
     "output_type": "stream",
     "text": [
      "total discriminator loss:0.5754390299412885\n",
      "average true return:0.41525504342894665\n",
      "-----------------------\n",
      "Training Step: 257\n",
      "generator loss:1.7914823428225892\n",
      "-----------------------\n"
     ]
    },
    {
     "name": "stderr",
     "output_type": "stream",
     "text": [
      "\r",
      "257it [02:07,  1.96it/s]"
     ]
    },
    {
     "name": "stdout",
     "output_type": "stream",
     "text": [
      "total discriminator loss:0.567869985216438\n",
      "average true return:0.42107756750111114\n",
      "-----------------------\n",
      "Training Step: 258\n",
      "generator loss:1.9037114769119057\n",
      "-----------------------\n"
     ]
    },
    {
     "name": "stderr",
     "output_type": "stream",
     "text": [
      "\r",
      "258it [02:08,  1.97it/s]"
     ]
    },
    {
     "name": "stdout",
     "output_type": "stream",
     "text": [
      "total discriminator loss:0.5655989853249788\n",
      "average true return:0.41745501597003276\n",
      "-----------------------\n",
      "Training Step: 259\n",
      "generator loss:1.913143731059932\n",
      "-----------------------\n"
     ]
    },
    {
     "name": "stderr",
     "output_type": "stream",
     "text": [
      "\r",
      "259it [02:08,  1.97it/s]"
     ]
    },
    {
     "name": "stdout",
     "output_type": "stream",
     "text": [
      "total discriminator loss:0.5347129825083534\n",
      "average true return:0.40979198174563436\n",
      "-----------------------\n",
      "Training Step: 260\n",
      "generator loss:1.9253259067540238\n",
      "-----------------------\n"
     ]
    },
    {
     "name": "stderr",
     "output_type": "stream",
     "text": [
      "\r",
      "260it [02:09,  1.89it/s]"
     ]
    },
    {
     "name": "stdout",
     "output_type": "stream",
     "text": [
      "total discriminator loss:0.535881966483817\n",
      "average true return:0.3910953384074566\n",
      "-----------------------\n",
      "Training Step: 261\n",
      "generator loss:1.8463677344025053\n",
      "-----------------------\n"
     ]
    },
    {
     "name": "stderr",
     "output_type": "stream",
     "text": [
      "\r",
      "261it [02:10,  1.90it/s]"
     ]
    },
    {
     "name": "stdout",
     "output_type": "stream",
     "text": [
      "total discriminator loss:0.5115270174635086\n",
      "average true return:0.4017269248670596\n",
      "-----------------------\n",
      "Training Step: 262\n",
      "generator loss:1.7780606747877161\n",
      "-----------------------\n"
     ]
    },
    {
     "name": "stderr",
     "output_type": "stream",
     "text": [
      "\r",
      "262it [02:10,  1.91it/s]"
     ]
    },
    {
     "name": "stdout",
     "output_type": "stream",
     "text": [
      "total discriminator loss:0.49701049775872386\n",
      "average true return:0.40055046579811415\n",
      "-----------------------\n",
      "Training Step: 263\n",
      "generator loss:1.8845031889098873\n",
      "-----------------------\n"
     ]
    },
    {
     "name": "stderr",
     "output_type": "stream",
     "text": [
      "\r",
      "263it [02:11,  1.91it/s]"
     ]
    },
    {
     "name": "stdout",
     "output_type": "stream",
     "text": [
      "total discriminator loss:0.47976857694252273\n",
      "average true return:0.4162257126481694\n",
      "-----------------------\n",
      "Training Step: 264\n",
      "generator loss:1.8593120739267128\n",
      "-----------------------\n"
     ]
    },
    {
     "name": "stderr",
     "output_type": "stream",
     "text": [
      "\r",
      "264it [02:11,  1.90it/s]"
     ]
    },
    {
     "name": "stdout",
     "output_type": "stream",
     "text": [
      "total discriminator loss:0.49336776698370677\n",
      "average true return:0.4208124348789217\n",
      "-----------------------\n",
      "Training Step: 265\n",
      "generator loss:1.8902883450511374\n",
      "-----------------------\n"
     ]
    },
    {
     "name": "stderr",
     "output_type": "stream",
     "text": [
      "\r",
      "265it [02:12,  1.93it/s]"
     ]
    },
    {
     "name": "stdout",
     "output_type": "stream",
     "text": [
      "total discriminator loss:0.482882374750462\n",
      "average true return:0.4426084005743478\n",
      "-----------------------\n",
      "Training Step: 266\n",
      "generator loss:1.9493756167540985\n",
      "-----------------------\n"
     ]
    },
    {
     "name": "stderr",
     "output_type": "stream",
     "text": [
      "\r",
      "266it [02:12,  1.99it/s]"
     ]
    },
    {
     "name": "stdout",
     "output_type": "stream",
     "text": [
      "total discriminator loss:0.4712162898870038\n",
      "average true return:0.42891533628354517\n",
      "-----------------------\n",
      "Training Step: 267\n",
      "generator loss:1.9890542369361386\n",
      "-----------------------\n"
     ]
    },
    {
     "name": "stderr",
     "output_type": "stream",
     "text": [
      "\r",
      "267it [02:13,  2.06it/s]"
     ]
    },
    {
     "name": "stdout",
     "output_type": "stream",
     "text": [
      "total discriminator loss:0.479611682858188\n",
      "average true return:0.4266092978352623\n",
      "-----------------------\n",
      "Training Step: 268\n",
      "generator loss:2.0149182348099184\n",
      "-----------------------\n"
     ]
    },
    {
     "name": "stderr",
     "output_type": "stream",
     "text": [
      "\r",
      "268it [02:13,  2.10it/s]"
     ]
    },
    {
     "name": "stdout",
     "output_type": "stream",
     "text": [
      "total discriminator loss:0.44242973914831824\n",
      "average true return:0.43502656564650694\n",
      "-----------------------\n",
      "Training Step: 269\n",
      "generator loss:2.092150556367022\n",
      "-----------------------\n"
     ]
    },
    {
     "name": "stderr",
     "output_type": "stream",
     "text": [
      "\r",
      "269it [02:13,  2.13it/s]"
     ]
    },
    {
     "name": "stdout",
     "output_type": "stream",
     "text": [
      "total discriminator loss:0.45073288016245106\n",
      "average true return:0.43578874658268435\n",
      "-----------------------\n",
      "Training Step: 270\n",
      "generator loss:2.0662867587910485\n",
      "-----------------------\n"
     ]
    },
    {
     "name": "stderr",
     "output_type": "stream",
     "text": [
      "\r",
      "270it [02:14,  2.15it/s]"
     ]
    },
    {
     "name": "stdout",
     "output_type": "stream",
     "text": [
      "total discriminator loss:0.4587895692472712\n",
      "average true return:0.43640730021641905\n",
      "-----------------------\n",
      "Training Step: 271\n",
      "generator loss:2.2163622020017053\n",
      "-----------------------\n"
     ]
    },
    {
     "name": "stderr",
     "output_type": "stream",
     "text": [
      "\r",
      "271it [02:14,  2.19it/s]"
     ]
    },
    {
     "name": "stdout",
     "output_type": "stream",
     "text": [
      "total discriminator loss:0.47652811207906665\n",
      "average true return:0.43398407610353634\n",
      "-----------------------\n",
      "Training Step: 272\n",
      "generator loss:2.168247331384691\n",
      "-----------------------\n"
     ]
    },
    {
     "name": "stderr",
     "output_type": "stream",
     "text": [
      "\r",
      "272it [02:15,  2.19it/s]"
     ]
    },
    {
     "name": "stdout",
     "output_type": "stream",
     "text": [
      "total discriminator loss:0.5502082480532743\n",
      "average true return:0.425477111361777\n",
      "-----------------------\n",
      "Training Step: 273\n",
      "generator loss:2.1488303238362025\n",
      "-----------------------\n"
     ]
    },
    {
     "name": "stderr",
     "output_type": "stream",
     "text": [
      "\r",
      "273it [02:15,  2.22it/s]"
     ]
    },
    {
     "name": "stdout",
     "output_type": "stream",
     "text": [
      "total discriminator loss:0.5455491133844144\n",
      "average true return:0.4483445811570489\n",
      "-----------------------\n",
      "Training Step: 274\n",
      "generator loss:2.013784297178491\n",
      "-----------------------\n"
     ]
    },
    {
     "name": "stderr",
     "output_type": "stream",
     "text": [
      "\r",
      "274it [02:16,  2.23it/s]"
     ]
    },
    {
     "name": "stdout",
     "output_type": "stream",
     "text": [
      "total discriminator loss:0.5342671007635142\n",
      "average true return:0.44050644826191077\n",
      "-----------------------\n",
      "Training Step: 275\n",
      "generator loss:1.840738653178454\n",
      "-----------------------\n"
     ]
    },
    {
     "name": "stderr",
     "output_type": "stream",
     "text": [
      "\r",
      "275it [02:16,  2.20it/s]"
     ]
    },
    {
     "name": "stdout",
     "output_type": "stream",
     "text": [
      "total discriminator loss:0.5465104193795689\n",
      "average true return:0.4644222380394616\n",
      "-----------------------\n",
      "Training Step: 276\n",
      "generator loss:1.773221353642524\n",
      "-----------------------\n"
     ]
    },
    {
     "name": "stderr",
     "output_type": "stream",
     "text": [
      "\r",
      "276it [02:17,  2.18it/s]"
     ]
    },
    {
     "name": "stdout",
     "output_type": "stream",
     "text": [
      "total discriminator loss:0.5187223243655341\n",
      "average true return:0.4632221609717725\n",
      "-----------------------\n",
      "Training Step: 277\n",
      "generator loss:1.5013594255625955\n",
      "-----------------------\n"
     ]
    },
    {
     "name": "stderr",
     "output_type": "stream",
     "text": [
      "\r",
      "277it [02:17,  2.17it/s]"
     ]
    },
    {
     "name": "stdout",
     "output_type": "stream",
     "text": [
      "total discriminator loss:0.5529201163355818\n",
      "average true return:0.4985981602267494\n",
      "-----------------------\n",
      "Training Step: 278\n",
      "generator loss:1.480261544848942\n",
      "-----------------------\n"
     ]
    },
    {
     "name": "stderr",
     "output_type": "stream",
     "text": [
      "\r",
      "278it [02:18,  2.12it/s]"
     ]
    },
    {
     "name": "stdout",
     "output_type": "stream",
     "text": [
      "total discriminator loss:0.6005224144208592\n",
      "average true return:0.49863616974277364\n",
      "-----------------------\n",
      "Training Step: 279\n",
      "generator loss:1.278494759146691\n",
      "-----------------------\n"
     ]
    },
    {
     "name": "stderr",
     "output_type": "stream",
     "text": [
      "\r",
      "279it [02:18,  2.00it/s]"
     ]
    },
    {
     "name": "stdout",
     "output_type": "stream",
     "text": [
      "total discriminator loss:0.59967392066787\n",
      "average true return:0.5278016767072278\n",
      "-----------------------\n",
      "Training Step: 280\n",
      "generator loss:1.1252660327661084\n",
      "-----------------------\n"
     ]
    },
    {
     "name": "stderr",
     "output_type": "stream",
     "text": [
      "\r",
      "280it [02:19,  2.01it/s]"
     ]
    },
    {
     "name": "stdout",
     "output_type": "stream",
     "text": [
      "total discriminator loss:0.6453073239766294\n",
      "average true return:0.5358352989657181\n",
      "-----------------------\n",
      "Training Step: 281\n",
      "generator loss:0.985567604947641\n",
      "-----------------------\n"
     ]
    },
    {
     "name": "stderr",
     "output_type": "stream",
     "text": [
      "\r",
      "281it [02:19,  1.99it/s]"
     ]
    },
    {
     "name": "stdout",
     "output_type": "stream",
     "text": [
      "total discriminator loss:0.6325278684669468\n",
      "average true return:0.5594317454459214\n",
      "-----------------------\n",
      "Training Step: 282\n",
      "generator loss:0.8896061252976062\n",
      "-----------------------\n"
     ]
    },
    {
     "name": "stderr",
     "output_type": "stream",
     "text": [
      "\r",
      "282it [02:20,  1.99it/s]"
     ]
    },
    {
     "name": "stdout",
     "output_type": "stream",
     "text": [
      "total discriminator loss:0.655481252119823\n",
      "average true return:0.5622709505154615\n",
      "-----------------------\n",
      "Training Step: 283\n",
      "generator loss:0.8136296111841274\n",
      "-----------------------\n"
     ]
    },
    {
     "name": "stderr",
     "output_type": "stream",
     "text": [
      "\r",
      "283it [02:20,  1.99it/s]"
     ]
    },
    {
     "name": "stdout",
     "output_type": "stream",
     "text": [
      "total discriminator loss:0.7203429141891364\n",
      "average true return:0.5930189582816445\n",
      "-----------------------\n",
      "Training Step: 284\n",
      "generator loss:0.6655364944856156\n",
      "-----------------------\n"
     ]
    },
    {
     "name": "stderr",
     "output_type": "stream",
     "text": [
      "\r",
      "284it [02:21,  1.98it/s]"
     ]
    },
    {
     "name": "stdout",
     "output_type": "stream",
     "text": [
      "total discriminator loss:0.7121624127228957\n",
      "average true return:0.6106125571228548\n",
      "-----------------------\n",
      "Training Step: 285\n",
      "generator loss:0.6229919190876545\n",
      "-----------------------\n"
     ]
    },
    {
     "name": "stderr",
     "output_type": "stream",
     "text": [
      "\r",
      "285it [02:21,  2.00it/s]"
     ]
    },
    {
     "name": "stdout",
     "output_type": "stream",
     "text": [
      "total discriminator loss:0.7212849979956426\n",
      "average true return:0.6183890143528635\n",
      "-----------------------\n",
      "Training Step: 286\n",
      "generator loss:0.6178796016514003\n",
      "-----------------------\n"
     ]
    },
    {
     "name": "stderr",
     "output_type": "stream",
     "text": [
      "\r",
      "286it [02:22,  1.98it/s]"
     ]
    },
    {
     "name": "stdout",
     "output_type": "stream",
     "text": [
      "total discriminator loss:0.7049796728817725\n",
      "average true return:0.6190968085419337\n",
      "-----------------------\n",
      "Training Step: 287\n",
      "generator loss:0.599858004269727\n",
      "-----------------------\n"
     ]
    },
    {
     "name": "stderr",
     "output_type": "stream",
     "text": [
      "\r",
      "287it [02:22,  1.98it/s]"
     ]
    },
    {
     "name": "stdout",
     "output_type": "stream",
     "text": [
      "total discriminator loss:0.743183168844054\n",
      "average true return:0.6145082164893048\n",
      "-----------------------\n",
      "Training Step: 288\n",
      "generator loss:0.5809230826068934\n",
      "-----------------------\n"
     ]
    },
    {
     "name": "stderr",
     "output_type": "stream",
     "text": [
      "\r",
      "288it [02:23,  1.97it/s]"
     ]
    },
    {
     "name": "stdout",
     "output_type": "stream",
     "text": [
      "total discriminator loss:0.7626023054294979\n",
      "average true return:0.603007484032076\n",
      "-----------------------\n",
      "Training Step: 289\n",
      "generator loss:0.5364016809281638\n",
      "-----------------------\n"
     ]
    },
    {
     "name": "stderr",
     "output_type": "stream",
     "text": [
      "\r",
      "289it [02:23,  1.98it/s]"
     ]
    },
    {
     "name": "stdout",
     "output_type": "stream",
     "text": [
      "total discriminator loss:0.7589792162783237\n",
      "average true return:0.6154602218360272\n",
      "-----------------------\n",
      "Training Step: 290\n",
      "generator loss:0.5537249728300837\n",
      "-----------------------\n"
     ]
    },
    {
     "name": "stderr",
     "output_type": "stream",
     "text": [
      "\r",
      "290it [02:24,  2.01it/s]"
     ]
    },
    {
     "name": "stdout",
     "output_type": "stream",
     "text": [
      "total discriminator loss:0.764885543082366\n",
      "average true return:0.6271122707871659\n",
      "-----------------------\n",
      "Training Step: 291\n",
      "generator loss:0.516786709720911\n",
      "-----------------------\n"
     ]
    },
    {
     "name": "stderr",
     "output_type": "stream",
     "text": [
      "\r",
      "291it [02:24,  2.01it/s]"
     ]
    },
    {
     "name": "stdout",
     "output_type": "stream",
     "text": [
      "total discriminator loss:0.7659501672025177\n",
      "average true return:0.6261710726128549\n",
      "-----------------------\n",
      "Training Step: 292\n",
      "generator loss:0.4706527372902335\n",
      "-----------------------\n"
     ]
    },
    {
     "name": "stderr",
     "output_type": "stream",
     "text": [
      "\r",
      "292it [02:25,  2.00it/s]"
     ]
    },
    {
     "name": "stdout",
     "output_type": "stream",
     "text": [
      "total discriminator loss:0.7785192916538364\n",
      "average true return:0.6248054854137179\n",
      "-----------------------\n",
      "Training Step: 293\n",
      "generator loss:0.468680886580608\n",
      "-----------------------\n"
     ]
    },
    {
     "name": "stderr",
     "output_type": "stream",
     "text": [
      "\r",
      "293it [02:25,  1.99it/s]"
     ]
    },
    {
     "name": "stdout",
     "output_type": "stream",
     "text": [
      "total discriminator loss:0.7335105210715154\n",
      "average true return:0.618385723705153\n",
      "-----------------------\n",
      "Training Step: 294\n",
      "generator loss:0.513773490292289\n",
      "-----------------------\n"
     ]
    },
    {
     "name": "stderr",
     "output_type": "stream",
     "text": [
      "\r",
      "294it [02:26,  1.99it/s]"
     ]
    },
    {
     "name": "stdout",
     "output_type": "stream",
     "text": [
      "total discriminator loss:0.7629346565025352\n",
      "average true return:0.6214512627654352\n",
      "-----------------------\n",
      "Training Step: 295\n",
      "generator loss:0.48526008969698675\n",
      "-----------------------\n"
     ]
    },
    {
     "name": "stderr",
     "output_type": "stream",
     "text": [
      "\r",
      "295it [02:26,  1.99it/s]"
     ]
    },
    {
     "name": "stdout",
     "output_type": "stream",
     "text": [
      "total discriminator loss:0.7342901432122745\n",
      "average true return:0.6233565150111231\n",
      "-----------------------\n",
      "Training Step: 296\n",
      "generator loss:0.4959228130165594\n",
      "-----------------------\n"
     ]
    },
    {
     "name": "stderr",
     "output_type": "stream",
     "text": [
      "\r",
      "296it [02:27,  1.99it/s]"
     ]
    },
    {
     "name": "stdout",
     "output_type": "stream",
     "text": [
      "total discriminator loss:0.7331108138193821\n",
      "average true return:0.6276442760424121\n",
      "-----------------------\n",
      "Training Step: 297\n",
      "generator loss:0.4946748538634573\n",
      "-----------------------\n"
     ]
    },
    {
     "name": "stderr",
     "output_type": "stream",
     "text": [
      "\r",
      "297it [02:27,  2.00it/s]"
     ]
    },
    {
     "name": "stdout",
     "output_type": "stream",
     "text": [
      "total discriminator loss:0.7682880771718463\n",
      "average true return:0.6185536331472444\n",
      "-----------------------\n",
      "Training Step: 298\n",
      "generator loss:0.48804122801158156\n",
      "-----------------------\n"
     ]
    },
    {
     "name": "stderr",
     "output_type": "stream",
     "text": [
      "\r",
      "298it [02:28,  1.99it/s]"
     ]
    },
    {
     "name": "stdout",
     "output_type": "stream",
     "text": [
      "total discriminator loss:0.7349146746611129\n",
      "average true return:0.6166277052142158\n",
      "-----------------------\n",
      "Training Step: 299\n",
      "generator loss:0.5020621681500843\n",
      "-----------------------\n"
     ]
    },
    {
     "name": "stderr",
     "output_type": "stream",
     "text": [
      "\r",
      "299it [02:28,  1.96it/s]"
     ]
    },
    {
     "name": "stdout",
     "output_type": "stream",
     "text": [
      "total discriminator loss:0.7519599719786724\n",
      "average true return:0.6224469808387497\n",
      "-----------------------\n",
      "Training Step: 300\n",
      "generator loss:0.5042147621455504\n",
      "-----------------------\n"
     ]
    },
    {
     "name": "stderr",
     "output_type": "stream",
     "text": [
      "\r",
      "300it [02:29,  1.97it/s]"
     ]
    },
    {
     "name": "stdout",
     "output_type": "stream",
     "text": [
      "total discriminator loss:0.7312332536722976\n",
      "average true return:0.6148222288139635\n",
      "-----------------------\n",
      "Training Step: 301\n",
      "generator loss:0.5130982068496956\n",
      "-----------------------\n"
     ]
    },
    {
     "name": "stderr",
     "output_type": "stream",
     "text": [
      "\r",
      "301it [02:29,  1.97it/s]"
     ]
    },
    {
     "name": "stdout",
     "output_type": "stream",
     "text": [
      "total discriminator loss:0.7281984963376084\n",
      "average true return:0.6043727434387063\n",
      "-----------------------\n",
      "Training Step: 302\n",
      "generator loss:0.5039953072293475\n",
      "-----------------------\n"
     ]
    },
    {
     "name": "stderr",
     "output_type": "stream",
     "text": [
      "\r",
      "302it [02:30,  1.97it/s]"
     ]
    },
    {
     "name": "stdout",
     "output_type": "stream",
     "text": [
      "total discriminator loss:0.736013012577985\n",
      "average true return:0.5975990673467596\n",
      "-----------------------\n",
      "Training Step: 303\n",
      "generator loss:0.5315437278287112\n",
      "-----------------------\n"
     ]
    },
    {
     "name": "stderr",
     "output_type": "stream",
     "text": [
      "\r",
      "303it [02:30,  1.97it/s]"
     ]
    },
    {
     "name": "stdout",
     "output_type": "stream",
     "text": [
      "total discriminator loss:0.7299742373982053\n",
      "average true return:0.5936111294263408\n",
      "-----------------------\n",
      "Training Step: 304\n",
      "generator loss:0.5358170056908065\n",
      "-----------------------\n"
     ]
    },
    {
     "name": "stderr",
     "output_type": "stream",
     "text": [
      "\r",
      "304it [02:31,  1.96it/s]"
     ]
    },
    {
     "name": "stdout",
     "output_type": "stream",
     "text": [
      "total discriminator loss:0.7322653098098154\n",
      "average true return:0.5926466722120124\n",
      "-----------------------\n",
      "Training Step: 305\n",
      "generator loss:0.5364414912200013\n",
      "-----------------------\n"
     ]
    },
    {
     "name": "stderr",
     "output_type": "stream",
     "text": [
      "\r",
      "305it [02:31,  1.98it/s]"
     ]
    },
    {
     "name": "stdout",
     "output_type": "stream",
     "text": [
      "total discriminator loss:0.7150114494095816\n",
      "average true return:0.5859260515321657\n",
      "-----------------------\n",
      "Training Step: 306\n",
      "generator loss:0.5370251161413598\n",
      "-----------------------\n"
     ]
    },
    {
     "name": "stderr",
     "output_type": "stream",
     "text": [
      "\r",
      "306it [02:32,  2.02it/s]"
     ]
    },
    {
     "name": "stdout",
     "output_type": "stream",
     "text": [
      "total discriminator loss:0.7162585830504282\n",
      "average true return:0.583740549773015\n",
      "-----------------------\n",
      "Training Step: 307\n",
      "generator loss:0.5574138972512364\n",
      "-----------------------\n"
     ]
    },
    {
     "name": "stderr",
     "output_type": "stream",
     "text": [
      "\r",
      "307it [02:32,  2.00it/s]"
     ]
    },
    {
     "name": "stdout",
     "output_type": "stream",
     "text": [
      "total discriminator loss:0.7053814114622385\n",
      "average true return:0.5813869013249295\n",
      "-----------------------\n",
      "Training Step: 308\n",
      "generator loss:0.5685442559713576\n",
      "-----------------------\n"
     ]
    },
    {
     "name": "stderr",
     "output_type": "stream",
     "text": [
      "\r",
      "308it [02:33,  1.98it/s]"
     ]
    },
    {
     "name": "stdout",
     "output_type": "stream",
     "text": [
      "total discriminator loss:0.7087676755801652\n",
      "average true return:0.5783168480504701\n",
      "-----------------------\n",
      "Training Step: 309\n",
      "generator loss:0.5685277937261457\n",
      "-----------------------\n"
     ]
    },
    {
     "name": "stderr",
     "output_type": "stream",
     "text": [
      "\r",
      "309it [02:33,  1.98it/s]"
     ]
    },
    {
     "name": "stdout",
     "output_type": "stream",
     "text": [
      "total discriminator loss:0.6943131463152392\n",
      "average true return:0.5692083534159766\n",
      "-----------------------\n",
      "Training Step: 310\n",
      "generator loss:0.5809989141448085\n",
      "-----------------------\n"
     ]
    },
    {
     "name": "stderr",
     "output_type": "stream",
     "text": [
      "\r",
      "310it [02:34,  1.97it/s]"
     ]
    },
    {
     "name": "stdout",
     "output_type": "stream",
     "text": [
      "total discriminator loss:0.7013851334122988\n",
      "average true return:0.5621514692774456\n",
      "-----------------------\n",
      "Training Step: 311\n",
      "generator loss:0.5858880314272925\n",
      "-----------------------\n"
     ]
    },
    {
     "name": "stderr",
     "output_type": "stream",
     "text": [
      "\r",
      "311it [02:34,  1.97it/s]"
     ]
    },
    {
     "name": "stdout",
     "output_type": "stream",
     "text": [
      "total discriminator loss:0.6898917422265566\n",
      "average true return:0.5674913834636865\n",
      "-----------------------\n",
      "Training Step: 312\n",
      "generator loss:0.6035265668281589\n",
      "-----------------------\n"
     ]
    },
    {
     "name": "stderr",
     "output_type": "stream",
     "text": [
      "\r",
      "312it [02:35,  1.95it/s]"
     ]
    },
    {
     "name": "stdout",
     "output_type": "stream",
     "text": [
      "total discriminator loss:0.6791632009564077\n",
      "average true return:0.5641024382233715\n",
      "-----------------------\n",
      "Training Step: 313\n",
      "generator loss:0.6330575946039944\n",
      "-----------------------\n"
     ]
    },
    {
     "name": "stderr",
     "output_type": "stream",
     "text": [
      "\r",
      "313it [02:35,  1.95it/s]"
     ]
    },
    {
     "name": "stdout",
     "output_type": "stream",
     "text": [
      "total discriminator loss:0.6847033440842396\n",
      "average true return:0.5579190383959038\n",
      "-----------------------\n",
      "Training Step: 314\n",
      "generator loss:0.6115001462295789\n",
      "-----------------------\n"
     ]
    },
    {
     "name": "stderr",
     "output_type": "stream",
     "text": [
      "\r",
      "314it [02:36,  1.95it/s]"
     ]
    },
    {
     "name": "stdout",
     "output_type": "stream",
     "text": [
      "total discriminator loss:0.6844104739577124\n",
      "average true return:0.5508800427039695\n",
      "-----------------------\n",
      "Training Step: 315\n",
      "generator loss:0.6259085878940351\n",
      "-----------------------\n"
     ]
    },
    {
     "name": "stderr",
     "output_type": "stream",
     "text": [
      "\r",
      "315it [02:36,  1.95it/s]"
     ]
    },
    {
     "name": "stdout",
     "output_type": "stream",
     "text": [
      "total discriminator loss:0.6802476030458442\n",
      "average true return:0.5493158437180613\n",
      "-----------------------\n",
      "Training Step: 316\n",
      "generator loss:0.6285092588873831\n",
      "-----------------------\n"
     ]
    },
    {
     "name": "stderr",
     "output_type": "stream",
     "text": [
      "\r",
      "316it [02:37,  1.94it/s]"
     ]
    },
    {
     "name": "stdout",
     "output_type": "stream",
     "text": [
      "total discriminator loss:0.6745092186045097\n",
      "average true return:0.548439747124062\n",
      "-----------------------\n",
      "Training Step: 317\n",
      "generator loss:0.6378700301598377\n",
      "-----------------------\n"
     ]
    },
    {
     "name": "stderr",
     "output_type": "stream",
     "text": [
      "\r",
      "317it [02:37,  2.00it/s]"
     ]
    },
    {
     "name": "stdout",
     "output_type": "stream",
     "text": [
      "total discriminator loss:0.6756101538363644\n",
      "average true return:0.538253045407364\n",
      "-----------------------\n",
      "Training Step: 318\n",
      "generator loss:0.6532828180900797\n",
      "-----------------------\n"
     ]
    },
    {
     "name": "stderr",
     "output_type": "stream",
     "text": [
      "\r",
      "318it [02:38,  1.89it/s]"
     ]
    },
    {
     "name": "stdout",
     "output_type": "stream",
     "text": [
      "total discriminator loss:0.6685587793862391\n",
      "average true return:0.5374027913517283\n",
      "-----------------------\n",
      "Training Step: 319\n",
      "generator loss:0.6638103249961419\n",
      "-----------------------\n"
     ]
    },
    {
     "name": "stderr",
     "output_type": "stream",
     "text": [
      "\r",
      "319it [02:38,  1.89it/s]"
     ]
    },
    {
     "name": "stdout",
     "output_type": "stream",
     "text": [
      "total discriminator loss:0.6686284359164034\n",
      "average true return:0.5337858336299545\n",
      "-----------------------\n",
      "Training Step: 320\n",
      "generator loss:0.6807410084127395\n",
      "-----------------------\n"
     ]
    },
    {
     "name": "stderr",
     "output_type": "stream",
     "text": [
      "\r",
      "320it [02:39,  1.90it/s]"
     ]
    },
    {
     "name": "stdout",
     "output_type": "stream",
     "text": [
      "total discriminator loss:0.6818176964595976\n",
      "average true return:0.5260136560815154\n",
      "-----------------------\n",
      "Training Step: 321\n",
      "generator loss:0.671619907570935\n",
      "-----------------------\n"
     ]
    },
    {
     "name": "stderr",
     "output_type": "stream",
     "text": [
      "\r",
      "321it [02:39,  1.93it/s]"
     ]
    },
    {
     "name": "stdout",
     "output_type": "stream",
     "text": [
      "total discriminator loss:0.6673603362628423\n",
      "average true return:0.5309796283344547\n",
      "-----------------------\n",
      "Training Step: 322\n",
      "generator loss:0.6813850403340874\n",
      "-----------------------\n"
     ]
    },
    {
     "name": "stderr",
     "output_type": "stream",
     "text": [
      "\r",
      "322it [02:40,  1.98it/s]"
     ]
    },
    {
     "name": "stdout",
     "output_type": "stream",
     "text": [
      "total discriminator loss:0.6584701757623214\n",
      "average true return:0.5268677901940919\n",
      "-----------------------\n",
      "Training Step: 323\n",
      "generator loss:0.6962121105382394\n",
      "-----------------------\n"
     ]
    },
    {
     "name": "stderr",
     "output_type": "stream",
     "text": [
      "\r",
      "323it [02:40,  2.05it/s]"
     ]
    },
    {
     "name": "stdout",
     "output_type": "stream",
     "text": [
      "total discriminator loss:0.6517588363248964\n",
      "average true return:0.5239342601882935\n",
      "-----------------------\n",
      "Training Step: 324\n",
      "generator loss:0.6963201239903016\n",
      "-----------------------\n"
     ]
    },
    {
     "name": "stderr",
     "output_type": "stream",
     "text": [
      "\r",
      "324it [02:41,  2.08it/s]"
     ]
    },
    {
     "name": "stdout",
     "output_type": "stream",
     "text": [
      "total discriminator loss:0.6532494715893866\n",
      "average true return:0.5276233160345201\n",
      "-----------------------\n",
      "Training Step: 325\n",
      "generator loss:0.7267040693583469\n",
      "-----------------------\n"
     ]
    },
    {
     "name": "stderr",
     "output_type": "stream",
     "text": [
      "\r",
      "325it [02:41,  2.10it/s]"
     ]
    },
    {
     "name": "stdout",
     "output_type": "stream",
     "text": [
      "total discriminator loss:0.6493234632095507\n",
      "average true return:0.5150011347046615\n",
      "-----------------------\n",
      "Training Step: 326\n",
      "generator loss:0.7009561540356042\n",
      "-----------------------\n"
     ]
    },
    {
     "name": "stderr",
     "output_type": "stream",
     "text": [
      "\r",
      "326it [02:42,  2.13it/s]"
     ]
    },
    {
     "name": "stdout",
     "output_type": "stream",
     "text": [
      "total discriminator loss:0.655942287959412\n",
      "average true return:0.5160286410210306\n",
      "-----------------------\n",
      "Training Step: 327\n",
      "generator loss:0.7204645378456148\n",
      "-----------------------\n"
     ]
    },
    {
     "name": "stderr",
     "output_type": "stream",
     "text": [
      "\r",
      "327it [02:42,  2.18it/s]"
     ]
    },
    {
     "name": "stdout",
     "output_type": "stream",
     "text": [
      "total discriminator loss:0.6384801515313585\n",
      "average true return:0.5178571041595603\n",
      "-----------------------\n",
      "Training Step: 328\n",
      "generator loss:0.7248384338421097\n",
      "-----------------------\n"
     ]
    },
    {
     "name": "stderr",
     "output_type": "stream",
     "text": [
      "\r",
      "328it [02:43,  2.21it/s]"
     ]
    },
    {
     "name": "stdout",
     "output_type": "stream",
     "text": [
      "total discriminator loss:0.6543244397809352\n",
      "average true return:0.5131422085297448\n",
      "-----------------------\n",
      "Training Step: 329\n",
      "generator loss:0.713236401106728\n",
      "-----------------------\n"
     ]
    },
    {
     "name": "stderr",
     "output_type": "stream",
     "text": [
      "\r",
      "329it [02:43,  2.22it/s]"
     ]
    },
    {
     "name": "stdout",
     "output_type": "stream",
     "text": [
      "total discriminator loss:0.6431475135392607\n",
      "average true return:0.515389021730162\n",
      "-----------------------\n",
      "Training Step: 330\n",
      "generator loss:0.7400160958762343\n",
      "-----------------------\n"
     ]
    },
    {
     "name": "stderr",
     "output_type": "stream",
     "text": [
      "\r",
      "330it [02:44,  2.20it/s]"
     ]
    },
    {
     "name": "stdout",
     "output_type": "stream",
     "text": [
      "total discriminator loss:0.6427671121300969\n",
      "average true return:0.5086763410291735\n",
      "-----------------------\n",
      "Training Step: 331\n",
      "generator loss:0.7451211180868575\n",
      "-----------------------\n"
     ]
    },
    {
     "name": "stderr",
     "output_type": "stream",
     "text": [
      "\r",
      "331it [02:44,  2.21it/s]"
     ]
    },
    {
     "name": "stdout",
     "output_type": "stream",
     "text": [
      "total discriminator loss:0.6372442620130959\n",
      "average true return:0.5101524877051464\n",
      "-----------------------\n",
      "Training Step: 332\n",
      "generator loss:0.7550352754979441\n",
      "-----------------------\n"
     ]
    },
    {
     "name": "stderr",
     "output_type": "stream",
     "text": [
      "\r",
      "332it [02:44,  2.18it/s]"
     ]
    },
    {
     "name": "stdout",
     "output_type": "stream",
     "text": [
      "total discriminator loss:0.6425090993793724\n",
      "average true return:0.5096020277530036\n",
      "-----------------------\n",
      "Training Step: 333\n",
      "generator loss:0.7487464210082593\n",
      "-----------------------\n"
     ]
    },
    {
     "name": "stderr",
     "output_type": "stream",
     "text": [
      "\r",
      "333it [02:45,  2.16it/s]"
     ]
    },
    {
     "name": "stdout",
     "output_type": "stream",
     "text": [
      "total discriminator loss:0.6343448434424062\n",
      "average true return:0.5117627023839304\n",
      "-----------------------\n",
      "Training Step: 334\n",
      "generator loss:0.7552991483558629\n",
      "-----------------------\n"
     ]
    },
    {
     "name": "stderr",
     "output_type": "stream",
     "text": [
      "\r",
      "334it [02:45,  2.10it/s]"
     ]
    },
    {
     "name": "stdout",
     "output_type": "stream",
     "text": [
      "total discriminator loss:0.6316757311228053\n",
      "average true return:0.508902376418269\n",
      "-----------------------\n",
      "Training Step: 335\n",
      "generator loss:0.766038129327852\n",
      "-----------------------\n"
     ]
    },
    {
     "name": "stderr",
     "output_type": "stream",
     "text": [
      "\r",
      "335it [02:46,  2.05it/s]"
     ]
    },
    {
     "name": "stdout",
     "output_type": "stream",
     "text": [
      "total discriminator loss:0.6320752473380375\n",
      "average true return:0.5063467161144821\n",
      "-----------------------\n",
      "Training Step: 336\n",
      "generator loss:0.7600606770057967\n",
      "-----------------------\n"
     ]
    },
    {
     "name": "stderr",
     "output_type": "stream",
     "text": [
      "\r",
      "336it [02:47,  2.00it/s]"
     ]
    },
    {
     "name": "stdout",
     "output_type": "stream",
     "text": [
      "total discriminator loss:0.6251848981290044\n",
      "average true return:0.5079367750556434\n",
      "-----------------------\n",
      "Training Step: 337\n",
      "generator loss:0.7682009851107998\n",
      "-----------------------\n"
     ]
    },
    {
     "name": "stderr",
     "output_type": "stream",
     "text": [
      "\r",
      "337it [02:47,  1.97it/s]"
     ]
    },
    {
     "name": "stdout",
     "output_type": "stream",
     "text": [
      "total discriminator loss:0.628290957773531\n",
      "average true return:0.5061952489724121\n",
      "-----------------------\n",
      "Training Step: 338\n",
      "generator loss:0.7571700210604527\n",
      "-----------------------\n"
     ]
    },
    {
     "name": "stderr",
     "output_type": "stream",
     "text": [
      "\r",
      "338it [02:48,  1.96it/s]"
     ]
    },
    {
     "name": "stdout",
     "output_type": "stream",
     "text": [
      "total discriminator loss:0.6087461898749593\n",
      "average true return:0.5114665244465804\n",
      "-----------------------\n",
      "Training Step: 339\n",
      "generator loss:0.7911634749206823\n",
      "-----------------------\n"
     ]
    },
    {
     "name": "stderr",
     "output_type": "stream",
     "text": [
      "\r",
      "339it [02:48,  1.95it/s]"
     ]
    },
    {
     "name": "stdout",
     "output_type": "stream",
     "text": [
      "total discriminator loss:0.623902519682271\n",
      "average true return:0.5015942489920276\n",
      "-----------------------\n",
      "Training Step: 340\n",
      "generator loss:0.783679458831093\n",
      "-----------------------\n"
     ]
    },
    {
     "name": "stderr",
     "output_type": "stream",
     "text": [
      "\r",
      "340it [02:49,  1.94it/s]"
     ]
    },
    {
     "name": "stdout",
     "output_type": "stream",
     "text": [
      "total discriminator loss:0.6221337666893179\n",
      "average true return:0.5060571272766007\n",
      "-----------------------\n",
      "Training Step: 341\n",
      "generator loss:0.785388518629945\n",
      "-----------------------\n"
     ]
    },
    {
     "name": "stderr",
     "output_type": "stream",
     "text": [
      "\r",
      "341it [02:49,  1.94it/s]"
     ]
    },
    {
     "name": "stdout",
     "output_type": "stream",
     "text": [
      "total discriminator loss:0.6126653160424258\n",
      "average true return:0.5073021657645069\n",
      "-----------------------\n",
      "Training Step: 342\n",
      "generator loss:0.77387369015296\n",
      "-----------------------\n"
     ]
    },
    {
     "name": "stderr",
     "output_type": "stream",
     "text": [
      "\r",
      "342it [02:50,  1.93it/s]"
     ]
    },
    {
     "name": "stdout",
     "output_type": "stream",
     "text": [
      "total discriminator loss:0.6037043860337439\n",
      "average true return:0.5128269260949094\n",
      "-----------------------\n",
      "Training Step: 343\n",
      "generator loss:0.7763366299443288\n",
      "-----------------------\n"
     ]
    },
    {
     "name": "stderr",
     "output_type": "stream",
     "text": [
      "\r",
      "343it [02:50,  1.92it/s]"
     ]
    },
    {
     "name": "stdout",
     "output_type": "stream",
     "text": [
      "total discriminator loss:0.6113748263999422\n",
      "average true return:0.5189382578208618\n",
      "-----------------------\n",
      "Training Step: 344\n",
      "generator loss:0.7956308331020001\n",
      "-----------------------\n"
     ]
    },
    {
     "name": "stderr",
     "output_type": "stream",
     "text": [
      "\r",
      "344it [02:51,  1.94it/s]"
     ]
    },
    {
     "name": "stdout",
     "output_type": "stream",
     "text": [
      "total discriminator loss:0.6129427127920981\n",
      "average true return:0.5025494650893109\n",
      "-----------------------\n",
      "Training Step: 345\n",
      "generator loss:0.7947330194718162\n",
      "-----------------------\n"
     ]
    },
    {
     "name": "stderr",
     "output_type": "stream",
     "text": [
      "\r",
      "345it [02:51,  1.94it/s]"
     ]
    },
    {
     "name": "stdout",
     "output_type": "stream",
     "text": [
      "total discriminator loss:0.5997789792822656\n",
      "average true return:0.5050049043032907\n",
      "-----------------------\n",
      "Training Step: 346\n",
      "generator loss:0.8052709044874715\n",
      "-----------------------\n"
     ]
    },
    {
     "name": "stderr",
     "output_type": "stream",
     "text": [
      "\r",
      "346it [02:52,  1.96it/s]"
     ]
    },
    {
     "name": "stdout",
     "output_type": "stream",
     "text": [
      "total discriminator loss:0.610779264677783\n",
      "average true return:0.5097884692261156\n",
      "-----------------------\n",
      "Training Step: 347\n",
      "generator loss:0.7939711770474221\n",
      "-----------------------\n"
     ]
    },
    {
     "name": "stderr",
     "output_type": "stream",
     "text": [
      "\r",
      "347it [02:52,  1.95it/s]"
     ]
    },
    {
     "name": "stdout",
     "output_type": "stream",
     "text": [
      "total discriminator loss:0.6009042872738578\n",
      "average true return:0.5147529347886666\n",
      "-----------------------\n",
      "Training Step: 348\n",
      "generator loss:0.807694463869822\n",
      "-----------------------\n"
     ]
    },
    {
     "name": "stderr",
     "output_type": "stream",
     "text": [
      "\r",
      "348it [02:53,  1.94it/s]"
     ]
    },
    {
     "name": "stdout",
     "output_type": "stream",
     "text": [
      "total discriminator loss:0.58858804778344\n",
      "average true return:0.5056067123920153\n",
      "-----------------------\n",
      "Training Step: 349\n",
      "generator loss:0.8173174654407139\n",
      "-----------------------\n"
     ]
    },
    {
     "name": "stderr",
     "output_type": "stream",
     "text": [
      "\r",
      "349it [02:53,  2.00it/s]"
     ]
    },
    {
     "name": "stdout",
     "output_type": "stream",
     "text": [
      "total discriminator loss:0.590251793187862\n",
      "average true return:0.5098817196236884\n",
      "-----------------------\n",
      "Training Step: 350\n",
      "generator loss:0.8273780399141991\n",
      "-----------------------\n"
     ]
    },
    {
     "name": "stderr",
     "output_type": "stream",
     "text": [
      "\r",
      "350it [02:54,  1.96it/s]"
     ]
    },
    {
     "name": "stdout",
     "output_type": "stream",
     "text": [
      "total discriminator loss:0.6037813462647779\n",
      "average true return:0.5104643992589881\n",
      "-----------------------\n",
      "Training Step: 351\n",
      "generator loss:0.8472488441166888\n",
      "-----------------------\n"
     ]
    },
    {
     "name": "stderr",
     "output_type": "stream",
     "text": [
      "\r",
      "351it [02:54,  1.96it/s]"
     ]
    },
    {
     "name": "stdout",
     "output_type": "stream",
     "text": [
      "total discriminator loss:0.6061821160100039\n",
      "average true return:0.4989911751869009\n",
      "-----------------------\n",
      "Training Step: 352\n",
      "generator loss:0.8245772209458065\n",
      "-----------------------\n"
     ]
    },
    {
     "name": "stderr",
     "output_type": "stream",
     "text": [
      "\r",
      "352it [02:55,  1.97it/s]"
     ]
    },
    {
     "name": "stdout",
     "output_type": "stream",
     "text": [
      "total discriminator loss:0.5806582584585062\n",
      "average true return:0.5057547868085066\n",
      "-----------------------\n",
      "Training Step: 353\n",
      "generator loss:0.8568756055284105\n",
      "-----------------------\n"
     ]
    },
    {
     "name": "stderr",
     "output_type": "stream",
     "text": [
      "\r",
      "353it [02:55,  1.98it/s]"
     ]
    },
    {
     "name": "stdout",
     "output_type": "stream",
     "text": [
      "total discriminator loss:0.5685034259957196\n",
      "average true return:0.49258454823072795\n",
      "-----------------------\n",
      "Training Step: 354\n",
      "generator loss:0.8461297912341874\n",
      "-----------------------\n"
     ]
    },
    {
     "name": "stderr",
     "output_type": "stream",
     "text": [
      "\r",
      "354it [02:56,  1.99it/s]"
     ]
    },
    {
     "name": "stdout",
     "output_type": "stream",
     "text": [
      "total discriminator loss:0.5846684875645343\n",
      "average true return:0.4932015361083831\n",
      "-----------------------\n",
      "Training Step: 355\n",
      "generator loss:0.8447799338041488\n",
      "-----------------------\n"
     ]
    },
    {
     "name": "stderr",
     "output_type": "stream",
     "text": [
      "\r",
      "355it [02:56,  1.98it/s]"
     ]
    },
    {
     "name": "stdout",
     "output_type": "stream",
     "text": [
      "total discriminator loss:0.5953491319994996\n",
      "average true return:0.49861886575697256\n",
      "-----------------------\n",
      "Training Step: 356\n",
      "generator loss:0.8957821641812475\n",
      "-----------------------\n"
     ]
    },
    {
     "name": "stderr",
     "output_type": "stream",
     "text": [
      "\r",
      "356it [02:57,  1.99it/s]"
     ]
    },
    {
     "name": "stdout",
     "output_type": "stream",
     "text": [
      "total discriminator loss:0.5689146593700974\n",
      "average true return:0.5047139816282491\n",
      "-----------------------\n",
      "Training Step: 357\n",
      "generator loss:0.8682700054389176\n",
      "-----------------------\n"
     ]
    },
    {
     "name": "stderr",
     "output_type": "stream",
     "text": [
      "\r",
      "357it [02:57,  1.92it/s]"
     ]
    },
    {
     "name": "stdout",
     "output_type": "stream",
     "text": [
      "total discriminator loss:0.5692706549428831\n",
      "average true return:0.494228327171074\n",
      "-----------------------\n",
      "Training Step: 358\n",
      "generator loss:0.8936168758277342\n",
      "-----------------------\n"
     ]
    },
    {
     "name": "stderr",
     "output_type": "stream",
     "text": [
      "\r",
      "358it [02:58,  1.91it/s]"
     ]
    },
    {
     "name": "stdout",
     "output_type": "stream",
     "text": [
      "total discriminator loss:0.566741921196168\n",
      "average true return:0.4926492787341591\n",
      "-----------------------\n",
      "Training Step: 359\n",
      "generator loss:0.9092583670911836\n",
      "-----------------------\n"
     ]
    },
    {
     "name": "stderr",
     "output_type": "stream",
     "text": [
      "\r",
      "359it [02:58,  1.93it/s]"
     ]
    },
    {
     "name": "stdout",
     "output_type": "stream",
     "text": [
      "total discriminator loss:0.5488962307546936\n",
      "average true return:0.48907466334828553\n",
      "-----------------------\n",
      "Training Step: 360\n",
      "generator loss:0.9225796175858877\n",
      "-----------------------\n"
     ]
    },
    {
     "name": "stderr",
     "output_type": "stream",
     "text": [
      "\r",
      "360it [02:59,  1.94it/s]"
     ]
    },
    {
     "name": "stdout",
     "output_type": "stream",
     "text": [
      "total discriminator loss:0.5664232934059318\n",
      "average true return:0.49364712083497964\n",
      "-----------------------\n",
      "Training Step: 361\n",
      "generator loss:0.9248394881310609\n",
      "-----------------------\n"
     ]
    },
    {
     "name": "stderr",
     "output_type": "stream",
     "text": [
      "\r",
      "361it [02:59,  1.95it/s]"
     ]
    },
    {
     "name": "stdout",
     "output_type": "stream",
     "text": [
      "total discriminator loss:0.5520340933740128\n",
      "average true return:0.47647230214695907\n",
      "-----------------------\n",
      "Training Step: 362\n",
      "generator loss:0.9209128545565757\n",
      "-----------------------\n"
     ]
    },
    {
     "name": "stderr",
     "output_type": "stream",
     "text": [
      "\r",
      "362it [03:00,  1.96it/s]"
     ]
    },
    {
     "name": "stdout",
     "output_type": "stream",
     "text": [
      "total discriminator loss:0.5651906418979804\n",
      "average true return:0.4934780990303287\n",
      "-----------------------\n",
      "Training Step: 363\n",
      "generator loss:0.924810219764298\n",
      "-----------------------\n"
     ]
    },
    {
     "name": "stderr",
     "output_type": "stream",
     "text": [
      "\r",
      "363it [03:00,  1.96it/s]"
     ]
    },
    {
     "name": "stdout",
     "output_type": "stream",
     "text": [
      "total discriminator loss:0.5464875508474514\n",
      "average true return:0.4934045435338156\n",
      "-----------------------\n",
      "Training Step: 364\n",
      "generator loss:0.9416313321071875\n",
      "-----------------------\n"
     ]
    },
    {
     "name": "stderr",
     "output_type": "stream",
     "text": [
      "\r",
      "364it [03:01,  1.96it/s]"
     ]
    },
    {
     "name": "stdout",
     "output_type": "stream",
     "text": [
      "total discriminator loss:0.5809550469731876\n",
      "average true return:0.48964141823432994\n",
      "-----------------------\n",
      "Training Step: 365\n",
      "generator loss:0.9655454333185115\n",
      "-----------------------\n"
     ]
    },
    {
     "name": "stderr",
     "output_type": "stream",
     "text": [
      "\r",
      "365it [03:01,  1.98it/s]"
     ]
    },
    {
     "name": "stdout",
     "output_type": "stream",
     "text": [
      "total discriminator loss:0.5452058991009454\n",
      "average true return:0.4890546734153469\n",
      "-----------------------\n",
      "Training Step: 366\n",
      "generator loss:0.9285056057035657\n",
      "-----------------------\n"
     ]
    },
    {
     "name": "stderr",
     "output_type": "stream",
     "text": [
      "\r",
      "366it [03:02,  1.96it/s]"
     ]
    },
    {
     "name": "stdout",
     "output_type": "stream",
     "text": [
      "total discriminator loss:0.5525445507496791\n",
      "average true return:0.4966018273469768\n",
      "-----------------------\n",
      "Training Step: 367\n",
      "generator loss:0.9440541157931737\n",
      "-----------------------\n"
     ]
    },
    {
     "name": "stderr",
     "output_type": "stream",
     "text": [
      "\r",
      "367it [03:02,  2.01it/s]"
     ]
    },
    {
     "name": "stdout",
     "output_type": "stream",
     "text": [
      "total discriminator loss:0.5560753678621033\n",
      "average true return:0.5040827239802663\n",
      "-----------------------\n",
      "Training Step: 368\n",
      "generator loss:0.9485589301278491\n",
      "-----------------------\n"
     ]
    },
    {
     "name": "stderr",
     "output_type": "stream",
     "text": [
      "\r",
      "368it [03:03,  1.96it/s]"
     ]
    },
    {
     "name": "stdout",
     "output_type": "stream",
     "text": [
      "total discriminator loss:0.5577365420975\n",
      "average true return:0.49397723931627824\n",
      "-----------------------\n",
      "Training Step: 369\n",
      "generator loss:0.9609519113159833\n",
      "-----------------------\n"
     ]
    },
    {
     "name": "stderr",
     "output_type": "stream",
     "text": [
      "\r",
      "369it [03:03,  1.96it/s]"
     ]
    },
    {
     "name": "stdout",
     "output_type": "stream",
     "text": [
      "total discriminator loss:0.5792770099923905\n",
      "average true return:0.49084975147612037\n",
      "-----------------------\n",
      "Training Step: 370\n",
      "generator loss:0.9875550979045002\n",
      "-----------------------\n"
     ]
    },
    {
     "name": "stderr",
     "output_type": "stream",
     "text": [
      "\r",
      "370it [03:04,  1.97it/s]"
     ]
    },
    {
     "name": "stdout",
     "output_type": "stream",
     "text": [
      "total discriminator loss:0.5352673738081647\n",
      "average true return:0.4927922900503786\n",
      "-----------------------\n",
      "Training Step: 371\n",
      "generator loss:0.9591554621316905\n",
      "-----------------------\n"
     ]
    },
    {
     "name": "stderr",
     "output_type": "stream",
     "text": [
      "\r",
      "371it [03:04,  1.96it/s]"
     ]
    },
    {
     "name": "stdout",
     "output_type": "stream",
     "text": [
      "total discriminator loss:0.533438265356035\n",
      "average true return:0.5026143167142068\n",
      "-----------------------\n",
      "Training Step: 372\n",
      "generator loss:0.9690244216682506\n",
      "-----------------------\n"
     ]
    },
    {
     "name": "stderr",
     "output_type": "stream",
     "text": [
      "\r",
      "372it [03:05,  1.96it/s]"
     ]
    },
    {
     "name": "stdout",
     "output_type": "stream",
     "text": [
      "total discriminator loss:0.5458138703901005\n",
      "average true return:0.5028651202838572\n",
      "-----------------------\n",
      "Training Step: 373\n",
      "generator loss:0.9912332136464397\n",
      "-----------------------\n"
     ]
    },
    {
     "name": "stderr",
     "output_type": "stream",
     "text": [
      "\r",
      "373it [03:05,  1.94it/s]"
     ]
    },
    {
     "name": "stdout",
     "output_type": "stream",
     "text": [
      "total discriminator loss:0.5492700950817817\n",
      "average true return:0.5003750537559912\n",
      "-----------------------\n",
      "Training Step: 374\n",
      "generator loss:0.9630357040598307\n",
      "-----------------------\n"
     ]
    },
    {
     "name": "stderr",
     "output_type": "stream",
     "text": [
      "\r",
      "374it [03:06,  1.94it/s]"
     ]
    },
    {
     "name": "stdout",
     "output_type": "stream",
     "text": [
      "total discriminator loss:0.5560302797688834\n",
      "average true return:0.5101395583233145\n",
      "-----------------------\n",
      "Training Step: 375\n",
      "generator loss:0.9715840791582064\n",
      "-----------------------\n"
     ]
    },
    {
     "name": "stderr",
     "output_type": "stream",
     "text": [
      "\r",
      "375it [03:07,  1.93it/s]"
     ]
    },
    {
     "name": "stdout",
     "output_type": "stream",
     "text": [
      "total discriminator loss:0.5732560061528567\n",
      "average true return:0.515094677291944\n",
      "-----------------------\n",
      "Training Step: 376\n",
      "generator loss:0.9512372701976355\n",
      "-----------------------\n"
     ]
    },
    {
     "name": "stderr",
     "output_type": "stream",
     "text": [
      "\r",
      "376it [03:07,  1.94it/s]"
     ]
    },
    {
     "name": "stdout",
     "output_type": "stream",
     "text": [
      "total discriminator loss:0.5395387778895415\n",
      "average true return:0.4891217031553629\n",
      "-----------------------\n",
      "Training Step: 377\n",
      "generator loss:1.016650619948551\n",
      "-----------------------\n"
     ]
    },
    {
     "name": "stderr",
     "output_type": "stream",
     "text": [
      "\r",
      "377it [03:08,  1.96it/s]"
     ]
    },
    {
     "name": "stdout",
     "output_type": "stream",
     "text": [
      "total discriminator loss:0.5748266636918922\n",
      "average true return:0.4953360633131334\n",
      "-----------------------\n",
      "Training Step: 378\n",
      "generator loss:0.9816751223428437\n",
      "-----------------------\n"
     ]
    },
    {
     "name": "stderr",
     "output_type": "stream",
     "text": [
      "\r",
      "378it [03:08,  2.03it/s]"
     ]
    },
    {
     "name": "stdout",
     "output_type": "stream",
     "text": [
      "total discriminator loss:0.5619116804209969\n",
      "average true return:0.4819116756556102\n",
      "-----------------------\n",
      "Training Step: 379\n",
      "generator loss:0.9934743225293025\n",
      "-----------------------\n"
     ]
    },
    {
     "name": "stderr",
     "output_type": "stream",
     "text": [
      "\r",
      "379it [03:08,  2.07it/s]"
     ]
    },
    {
     "name": "stdout",
     "output_type": "stream",
     "text": [
      "total discriminator loss:0.5941512446774657\n",
      "average true return:0.5135969217642737\n",
      "-----------------------\n",
      "Training Step: 380\n",
      "generator loss:0.9387141171944187\n",
      "-----------------------\n"
     ]
    },
    {
     "name": "stderr",
     "output_type": "stream",
     "text": [
      "\r",
      "380it [03:09,  2.11it/s]"
     ]
    },
    {
     "name": "stdout",
     "output_type": "stream",
     "text": [
      "total discriminator loss:0.6034621922634392\n",
      "average true return:0.5169358937108557\n",
      "-----------------------\n",
      "Training Step: 381\n",
      "generator loss:0.9102011224095088\n",
      "-----------------------\n"
     ]
    },
    {
     "name": "stderr",
     "output_type": "stream",
     "text": [
      "\r",
      "381it [03:09,  2.14it/s]"
     ]
    },
    {
     "name": "stdout",
     "output_type": "stream",
     "text": [
      "total discriminator loss:0.6201830634865035\n",
      "average true return:0.5188453658181338\n",
      "-----------------------\n",
      "Training Step: 382\n",
      "generator loss:0.8775202175725394\n",
      "-----------------------\n"
     ]
    },
    {
     "name": "stderr",
     "output_type": "stream",
     "text": [
      "\r",
      "382it [03:10,  2.17it/s]"
     ]
    },
    {
     "name": "stdout",
     "output_type": "stream",
     "text": [
      "total discriminator loss:0.5900388207760084\n",
      "average true return:0.5192448429431324\n",
      "-----------------------\n",
      "Training Step: 383\n",
      "generator loss:0.9738039316246803\n",
      "-----------------------\n"
     ]
    },
    {
     "name": "stderr",
     "output_type": "stream",
     "text": [
      "\r",
      "383it [03:10,  2.19it/s]"
     ]
    },
    {
     "name": "stdout",
     "output_type": "stream",
     "text": [
      "total discriminator loss:0.6122938530139246\n",
      "average true return:0.526779369449661\n",
      "-----------------------\n",
      "Training Step: 384\n",
      "generator loss:0.8778277281574374\n",
      "-----------------------\n"
     ]
    },
    {
     "name": "stderr",
     "output_type": "stream",
     "text": [
      "\r",
      "384it [03:11,  2.19it/s]"
     ]
    },
    {
     "name": "stdout",
     "output_type": "stream",
     "text": [
      "total discriminator loss:0.6268223870102341\n",
      "average true return:0.5278114929594239\n",
      "-----------------------\n",
      "Training Step: 385\n",
      "generator loss:0.8837129556308154\n",
      "-----------------------\n"
     ]
    },
    {
     "name": "stderr",
     "output_type": "stream",
     "text": [
      "\r",
      "385it [03:11,  2.19it/s]"
     ]
    },
    {
     "name": "stdout",
     "output_type": "stream",
     "text": [
      "total discriminator loss:0.6488576457217812\n",
      "average true return:0.5423634540249558\n",
      "-----------------------\n",
      "Training Step: 386\n",
      "generator loss:0.8617725922914189\n",
      "-----------------------\n"
     ]
    },
    {
     "name": "stderr",
     "output_type": "stream",
     "text": [
      "\r",
      "386it [03:12,  2.18it/s]"
     ]
    },
    {
     "name": "stdout",
     "output_type": "stream",
     "text": [
      "total discriminator loss:0.6472706294052173\n",
      "average true return:0.5110172270652908\n",
      "-----------------------\n",
      "Training Step: 387\n",
      "generator loss:0.811149150984113\n",
      "-----------------------\n"
     ]
    },
    {
     "name": "stderr",
     "output_type": "stream",
     "text": [
      "\r",
      "387it [03:12,  2.18it/s]"
     ]
    },
    {
     "name": "stdout",
     "output_type": "stream",
     "text": [
      "total discriminator loss:0.6450229408554234\n",
      "average true return:0.5436107378691591\n",
      "-----------------------\n",
      "Training Step: 388\n",
      "generator loss:0.8025273485796572\n",
      "-----------------------\n"
     ]
    },
    {
     "name": "stderr",
     "output_type": "stream",
     "text": [
      "\r",
      "388it [03:13,  2.18it/s]"
     ]
    },
    {
     "name": "stdout",
     "output_type": "stream",
     "text": [
      "total discriminator loss:0.687913760220574\n",
      "average true return:0.5399558508948329\n",
      "-----------------------\n",
      "Training Step: 389\n",
      "generator loss:0.7766799708559602\n",
      "-----------------------\n"
     ]
    },
    {
     "name": "stderr",
     "output_type": "stream",
     "text": [
      "\r",
      "389it [03:13,  2.21it/s]"
     ]
    },
    {
     "name": "stdout",
     "output_type": "stream",
     "text": [
      "total discriminator loss:0.666998770563666\n",
      "average true return:0.5471929455448667\n",
      "-----------------------\n",
      "Training Step: 390\n",
      "generator loss:0.7846729154932267\n",
      "-----------------------\n"
     ]
    },
    {
     "name": "stderr",
     "output_type": "stream",
     "text": [
      "\r",
      "390it [03:13,  2.15it/s]"
     ]
    },
    {
     "name": "stdout",
     "output_type": "stream",
     "text": [
      "total discriminator loss:0.7339552777984435\n",
      "average true return:0.5644367457203101\n",
      "-----------------------\n",
      "Training Step: 391\n",
      "generator loss:0.7261585830112993\n",
      "-----------------------\n"
     ]
    },
    {
     "name": "stderr",
     "output_type": "stream",
     "text": [
      "\r",
      "391it [03:14,  2.07it/s]"
     ]
    },
    {
     "name": "stdout",
     "output_type": "stream",
     "text": [
      "total discriminator loss:0.7051716154379848\n",
      "average true return:0.553256376798001\n",
      "-----------------------\n",
      "Training Step: 392\n",
      "generator loss:0.6772555080764071\n",
      "-----------------------\n"
     ]
    },
    {
     "name": "stderr",
     "output_type": "stream",
     "text": [
      "\r",
      "392it [03:14,  2.03it/s]"
     ]
    },
    {
     "name": "stdout",
     "output_type": "stream",
     "text": [
      "total discriminator loss:0.7113112579722148\n",
      "average true return:0.5586848499176768\n",
      "-----------------------\n",
      "Training Step: 393\n",
      "generator loss:0.6530724626249705\n",
      "-----------------------\n"
     ]
    },
    {
     "name": "stderr",
     "output_type": "stream",
     "text": [
      "\r",
      "393it [03:15,  2.02it/s]"
     ]
    },
    {
     "name": "stdout",
     "output_type": "stream",
     "text": [
      "total discriminator loss:0.7315552528085025\n",
      "average true return:0.568723177208256\n",
      "-----------------------\n",
      "Training Step: 394\n",
      "generator loss:0.630517393340957\n",
      "-----------------------\n"
     ]
    },
    {
     "name": "stderr",
     "output_type": "stream",
     "text": [
      "\r",
      "394it [03:15,  2.02it/s]"
     ]
    },
    {
     "name": "stdout",
     "output_type": "stream",
     "text": [
      "total discriminator loss:0.7620332625062873\n",
      "average true return:0.5616052877562823\n",
      "-----------------------\n",
      "Training Step: 395\n",
      "generator loss:0.6690666706137063\n",
      "-----------------------\n"
     ]
    },
    {
     "name": "stderr",
     "output_type": "stream",
     "text": [
      "\r",
      "395it [03:16,  2.01it/s]"
     ]
    },
    {
     "name": "stdout",
     "output_type": "stream",
     "text": [
      "total discriminator loss:0.7875210968512096\n",
      "average true return:0.5709970170322839\n",
      "-----------------------\n",
      "Training Step: 396\n",
      "generator loss:0.623335405511503\n",
      "-----------------------\n"
     ]
    },
    {
     "name": "stderr",
     "output_type": "stream",
     "text": [
      "\r",
      "396it [03:17,  1.88it/s]"
     ]
    },
    {
     "name": "stdout",
     "output_type": "stream",
     "text": [
      "total discriminator loss:0.7756313576403197\n",
      "average true return:0.5820777322850139\n",
      "-----------------------\n",
      "Training Step: 397\n",
      "generator loss:0.5748989846322519\n",
      "-----------------------\n"
     ]
    },
    {
     "name": "stderr",
     "output_type": "stream",
     "text": [
      "\r",
      "397it [03:17,  1.90it/s]"
     ]
    },
    {
     "name": "stdout",
     "output_type": "stream",
     "text": [
      "total discriminator loss:0.7813152791541806\n",
      "average true return:0.5797102451922576\n",
      "-----------------------\n",
      "Training Step: 398\n",
      "generator loss:0.5456089210769606\n",
      "-----------------------\n"
     ]
    },
    {
     "name": "stderr",
     "output_type": "stream",
     "text": [
      "\r",
      "398it [03:18,  1.91it/s]"
     ]
    },
    {
     "name": "stdout",
     "output_type": "stream",
     "text": [
      "total discriminator loss:0.7789068706478863\n",
      "average true return:0.6143601215509578\n",
      "-----------------------\n",
      "Training Step: 399\n",
      "generator loss:0.5582231539852974\n",
      "-----------------------\n"
     ]
    },
    {
     "name": "stderr",
     "output_type": "stream",
     "text": [
      "\r",
      "399it [03:18,  1.93it/s]"
     ]
    },
    {
     "name": "stdout",
     "output_type": "stream",
     "text": [
      "total discriminator loss:0.8064980048143092\n",
      "average true return:0.6124081083331574\n",
      "-----------------------\n",
      "Training Step: 400\n",
      "generator loss:0.5314709357924357\n",
      "-----------------------\n"
     ]
    },
    {
     "name": "stderr",
     "output_type": "stream",
     "text": [
      "\r",
      "400it [03:19,  1.94it/s]"
     ]
    },
    {
     "name": "stdout",
     "output_type": "stream",
     "text": [
      "total discriminator loss:0.8288275138270853\n",
      "average true return:0.6131301785462828\n",
      "-----------------------\n",
      "Training Step: 401\n",
      "generator loss:0.5128856812219307\n",
      "-----------------------\n"
     ]
    },
    {
     "name": "stderr",
     "output_type": "stream",
     "text": [
      "\r",
      "401it [03:19,  1.94it/s]"
     ]
    },
    {
     "name": "stdout",
     "output_type": "stream",
     "text": [
      "total discriminator loss:0.8011608909655419\n",
      "average true return:0.6090625827468039\n",
      "-----------------------\n",
      "Training Step: 402\n",
      "generator loss:0.4677633924520833\n",
      "-----------------------\n"
     ]
    },
    {
     "name": "stderr",
     "output_type": "stream",
     "text": [
      "\r",
      "402it [03:20,  1.91it/s]"
     ]
    },
    {
     "name": "stdout",
     "output_type": "stream",
     "text": [
      "total discriminator loss:0.7904395027277107\n",
      "average true return:0.6060116766919993\n",
      "-----------------------\n",
      "Training Step: 403\n",
      "generator loss:0.45231538997867293\n",
      "-----------------------\n"
     ]
    },
    {
     "name": "stderr",
     "output_type": "stream",
     "text": [
      "\r",
      "403it [03:20,  1.96it/s]"
     ]
    },
    {
     "name": "stdout",
     "output_type": "stream",
     "text": [
      "total discriminator loss:0.8074605449472307\n",
      "average true return:0.6196054951011558\n",
      "-----------------------\n",
      "Training Step: 404\n",
      "generator loss:0.50842593655529\n",
      "-----------------------\n"
     ]
    },
    {
     "name": "stderr",
     "output_type": "stream",
     "text": [
      "\r",
      "404it [03:21,  1.98it/s]"
     ]
    },
    {
     "name": "stdout",
     "output_type": "stream",
     "text": [
      "total discriminator loss:0.7921809971400028\n",
      "average true return:0.6262002661856845\n",
      "-----------------------\n",
      "Training Step: 405\n",
      "generator loss:0.4718056845124805\n",
      "-----------------------\n"
     ]
    },
    {
     "name": "stderr",
     "output_type": "stream",
     "text": [
      "\r",
      "405it [03:21,  1.97it/s]"
     ]
    },
    {
     "name": "stdout",
     "output_type": "stream",
     "text": [
      "total discriminator loss:0.7946569203926968\n",
      "average true return:0.6167187620804354\n",
      "-----------------------\n",
      "Training Step: 406\n",
      "generator loss:0.46289186992377407\n",
      "-----------------------\n"
     ]
    },
    {
     "name": "stderr",
     "output_type": "stream",
     "text": [
      "\r",
      "406it [03:22,  1.98it/s]"
     ]
    },
    {
     "name": "stdout",
     "output_type": "stream",
     "text": [
      "total discriminator loss:0.7913176389349654\n",
      "average true return:0.6192145219466998\n",
      "-----------------------\n",
      "Training Step: 407\n",
      "generator loss:0.4789294581125678\n",
      "-----------------------\n"
     ]
    },
    {
     "name": "stderr",
     "output_type": "stream",
     "text": [
      "\r",
      "407it [03:22,  1.91it/s]"
     ]
    },
    {
     "name": "stdout",
     "output_type": "stream",
     "text": [
      "total discriminator loss:0.7822218719714678\n",
      "average true return:0.6288496129149808\n",
      "-----------------------\n",
      "Training Step: 408\n",
      "generator loss:0.4683210576218137\n",
      "-----------------------\n"
     ]
    },
    {
     "name": "stderr",
     "output_type": "stream",
     "text": [
      "\r",
      "408it [03:23,  1.92it/s]"
     ]
    },
    {
     "name": "stdout",
     "output_type": "stream",
     "text": [
      "total discriminator loss:0.780725604363008\n",
      "average true return:0.6116428305008923\n",
      "-----------------------\n",
      "Training Step: 409\n",
      "generator loss:0.46263806410520075\n",
      "-----------------------\n"
     ]
    },
    {
     "name": "stderr",
     "output_type": "stream",
     "text": [
      "\r",
      "409it [03:23,  1.94it/s]"
     ]
    },
    {
     "name": "stdout",
     "output_type": "stream",
     "text": [
      "total discriminator loss:0.7742106482185097\n",
      "average true return:0.6036989800074365\n",
      "-----------------------\n",
      "Training Step: 410\n",
      "generator loss:0.46687981783260485\n",
      "-----------------------\n"
     ]
    },
    {
     "name": "stderr",
     "output_type": "stream",
     "text": [
      "\r",
      "410it [03:24,  1.94it/s]"
     ]
    },
    {
     "name": "stdout",
     "output_type": "stream",
     "text": [
      "total discriminator loss:0.8033076763638516\n",
      "average true return:0.61396697107289\n",
      "-----------------------\n",
      "Training Step: 411\n",
      "generator loss:0.48092535314800877\n",
      "-----------------------\n"
     ]
    },
    {
     "name": "stderr",
     "output_type": "stream",
     "text": [
      "\r",
      "411it [03:24,  1.96it/s]"
     ]
    },
    {
     "name": "stdout",
     "output_type": "stream",
     "text": [
      "total discriminator loss:0.7974121709893892\n",
      "average true return:0.6156994773222573\n",
      "-----------------------\n",
      "Training Step: 412\n",
      "generator loss:0.47390586477182894\n",
      "-----------------------\n"
     ]
    },
    {
     "name": "stderr",
     "output_type": "stream",
     "text": [
      "\r",
      "412it [03:25,  1.95it/s]"
     ]
    },
    {
     "name": "stdout",
     "output_type": "stream",
     "text": [
      "total discriminator loss:0.7848212523632443\n",
      "average true return:0.6067582025927205\n",
      "-----------------------\n",
      "Training Step: 413\n",
      "generator loss:0.49194965063461704\n",
      "-----------------------\n"
     ]
    },
    {
     "name": "stderr",
     "output_type": "stream",
     "text": [
      "\r",
      "413it [03:25,  1.95it/s]"
     ]
    },
    {
     "name": "stdout",
     "output_type": "stream",
     "text": [
      "total discriminator loss:0.7799473625561774\n",
      "average true return:0.59562539995195\n",
      "-----------------------\n",
      "Training Step: 414\n",
      "generator loss:0.49524518951669105\n",
      "-----------------------\n"
     ]
    },
    {
     "name": "stderr",
     "output_type": "stream",
     "text": [
      "\r",
      "414it [03:26,  2.00it/s]"
     ]
    },
    {
     "name": "stdout",
     "output_type": "stream",
     "text": [
      "total discriminator loss:0.7689158130682525\n",
      "average true return:0.5944076494418107\n",
      "-----------------------\n",
      "Training Step: 415\n",
      "generator loss:0.4960028637837718\n",
      "-----------------------\n"
     ]
    },
    {
     "name": "stderr",
     "output_type": "stream",
     "text": [
      "\r",
      "415it [03:26,  1.99it/s]"
     ]
    },
    {
     "name": "stdout",
     "output_type": "stream",
     "text": [
      "total discriminator loss:0.7754960540061706\n",
      "average true return:0.5835151053837828\n",
      "-----------------------\n",
      "Training Step: 416\n",
      "generator loss:0.490588967503095\n",
      "-----------------------\n"
     ]
    },
    {
     "name": "stderr",
     "output_type": "stream",
     "text": [
      "\r",
      "416it [03:27,  2.00it/s]"
     ]
    },
    {
     "name": "stdout",
     "output_type": "stream",
     "text": [
      "total discriminator loss:0.7439217444791744\n",
      "average true return:0.5841690154266475\n",
      "-----------------------\n",
      "Training Step: 417\n",
      "generator loss:0.5226921722197695\n",
      "-----------------------\n"
     ]
    },
    {
     "name": "stderr",
     "output_type": "stream",
     "text": [
      "\r",
      "417it [03:27,  1.99it/s]"
     ]
    },
    {
     "name": "stdout",
     "output_type": "stream",
     "text": [
      "total discriminator loss:0.7643151428924166\n",
      "average true return:0.5902167407440643\n",
      "-----------------------\n",
      "Training Step: 418\n",
      "generator loss:0.5105513201143902\n",
      "-----------------------\n"
     ]
    },
    {
     "name": "stderr",
     "output_type": "stream",
     "text": [
      "\r",
      "418it [03:28,  1.98it/s]"
     ]
    },
    {
     "name": "stdout",
     "output_type": "stream",
     "text": [
      "total discriminator loss:0.7419536562768989\n",
      "average true return:0.5817757823431378\n",
      "-----------------------\n",
      "Training Step: 419\n",
      "generator loss:0.5315143825109476\n",
      "-----------------------\n"
     ]
    },
    {
     "name": "stderr",
     "output_type": "stream",
     "text": [
      "\r",
      "419it [03:28,  1.97it/s]"
     ]
    },
    {
     "name": "stdout",
     "output_type": "stream",
     "text": [
      "total discriminator loss:0.735651425354223\n",
      "average true return:0.5823487006121855\n",
      "-----------------------\n",
      "Training Step: 420\n",
      "generator loss:0.534448078834497\n",
      "-----------------------\n"
     ]
    },
    {
     "name": "stderr",
     "output_type": "stream",
     "text": [
      "\r",
      "420it [03:29,  1.96it/s]"
     ]
    },
    {
     "name": "stdout",
     "output_type": "stream",
     "text": [
      "total discriminator loss:0.7350769767338449\n",
      "average true return:0.5818668652505996\n",
      "-----------------------\n",
      "Training Step: 421\n",
      "generator loss:0.5470497089046131\n",
      "-----------------------\n"
     ]
    },
    {
     "name": "stderr",
     "output_type": "stream",
     "text": [
      "\r",
      "421it [03:29,  1.96it/s]"
     ]
    },
    {
     "name": "stdout",
     "output_type": "stream",
     "text": [
      "total discriminator loss:0.7266913377172122\n",
      "average true return:0.5770398525322011\n",
      "-----------------------\n",
      "Training Step: 422\n",
      "generator loss:0.5469199459092571\n",
      "-----------------------\n"
     ]
    },
    {
     "name": "stderr",
     "output_type": "stream",
     "text": [
      "\r",
      "422it [03:30,  1.96it/s]"
     ]
    },
    {
     "name": "stdout",
     "output_type": "stream",
     "text": [
      "total discriminator loss:0.7269246554907395\n",
      "average true return:0.5682581671183392\n",
      "-----------------------\n",
      "Training Step: 423\n",
      "generator loss:0.5746234355239488\n",
      "-----------------------\n"
     ]
    },
    {
     "name": "stderr",
     "output_type": "stream",
     "text": [
      "\r",
      "423it [03:30,  1.98it/s]"
     ]
    },
    {
     "name": "stdout",
     "output_type": "stream",
     "text": [
      "total discriminator loss:0.7299060711701755\n",
      "average true return:0.5635700845423912\n",
      "-----------------------\n",
      "Training Step: 424\n",
      "generator loss:0.5800044477157469\n",
      "-----------------------\n"
     ]
    },
    {
     "name": "stderr",
     "output_type": "stream",
     "text": [
      "\r",
      "424it [03:31,  2.01it/s]"
     ]
    },
    {
     "name": "stdout",
     "output_type": "stream",
     "text": [
      "total discriminator loss:0.7189972250800838\n",
      "average true return:0.5561348642818227\n",
      "-----------------------\n",
      "Training Step: 425\n",
      "generator loss:0.5801076033702932\n",
      "-----------------------\n"
     ]
    },
    {
     "name": "stderr",
     "output_type": "stream",
     "text": [
      "\r",
      "425it [03:31,  2.01it/s]"
     ]
    },
    {
     "name": "stdout",
     "output_type": "stream",
     "text": [
      "total discriminator loss:0.7226027573303049\n",
      "average true return:0.5533847400916692\n",
      "-----------------------\n",
      "Training Step: 426\n",
      "generator loss:0.5906257415816946\n",
      "-----------------------\n"
     ]
    },
    {
     "name": "stderr",
     "output_type": "stream",
     "text": [
      "\r",
      "426it [03:32,  1.99it/s]"
     ]
    },
    {
     "name": "stdout",
     "output_type": "stream",
     "text": [
      "total discriminator loss:0.7113008174467721\n",
      "average true return:0.5468518552978214\n",
      "-----------------------\n",
      "Training Step: 427\n",
      "generator loss:0.6046665969590129\n",
      "-----------------------\n"
     ]
    },
    {
     "name": "stderr",
     "output_type": "stream",
     "text": [
      "\r",
      "427it [03:32,  1.97it/s]"
     ]
    },
    {
     "name": "stdout",
     "output_type": "stream",
     "text": [
      "total discriminator loss:0.71352560108693\n",
      "average true return:0.5419746571311717\n",
      "-----------------------\n",
      "Training Step: 428\n",
      "generator loss:0.6118244381984358\n",
      "-----------------------\n"
     ]
    },
    {
     "name": "stderr",
     "output_type": "stream",
     "text": [
      "\r",
      "428it [03:33,  1.97it/s]"
     ]
    },
    {
     "name": "stdout",
     "output_type": "stream",
     "text": [
      "total discriminator loss:0.7148253371980463\n",
      "average true return:0.5436565972856089\n",
      "-----------------------\n",
      "Training Step: 429\n",
      "generator loss:0.6153926456900293\n",
      "-----------------------\n"
     ]
    },
    {
     "name": "stderr",
     "output_type": "stream",
     "text": [
      "\r",
      "429it [03:33,  1.97it/s]"
     ]
    },
    {
     "name": "stdout",
     "output_type": "stream",
     "text": [
      "total discriminator loss:0.7083333506487199\n",
      "average true return:0.5400993123450424\n",
      "-----------------------\n",
      "Training Step: 430\n",
      "generator loss:0.6194315379501745\n",
      "-----------------------\n"
     ]
    },
    {
     "name": "stderr",
     "output_type": "stream",
     "text": [
      "\r",
      "430it [03:34,  1.96it/s]"
     ]
    },
    {
     "name": "stdout",
     "output_type": "stream",
     "text": [
      "total discriminator loss:0.7113110285372135\n",
      "average true return:0.5333521982966933\n",
      "-----------------------\n",
      "Training Step: 431\n",
      "generator loss:0.6337149748924076\n",
      "-----------------------\n"
     ]
    },
    {
     "name": "stderr",
     "output_type": "stream",
     "text": [
      "\r",
      "431it [03:34,  1.94it/s]"
     ]
    },
    {
     "name": "stdout",
     "output_type": "stream",
     "text": [
      "total discriminator loss:0.7144341805951733\n",
      "average true return:0.5273499488410818\n",
      "-----------------------\n",
      "Training Step: 432\n",
      "generator loss:0.6435525480693367\n",
      "-----------------------\n"
     ]
    },
    {
     "name": "stderr",
     "output_type": "stream",
     "text": [
      "\r",
      "432it [03:35,  1.92it/s]"
     ]
    },
    {
     "name": "stdout",
     "output_type": "stream",
     "text": [
      "total discriminator loss:0.6971829617320873\n",
      "average true return:0.525358230423705\n",
      "-----------------------\n",
      "Training Step: 433\n",
      "generator loss:0.6529529881827352\n",
      "-----------------------\n"
     ]
    },
    {
     "name": "stderr",
     "output_type": "stream",
     "text": [
      "\r",
      "433it [03:35,  1.96it/s]"
     ]
    },
    {
     "name": "stdout",
     "output_type": "stream",
     "text": [
      "total discriminator loss:0.7055224162204847\n",
      "average true return:0.5250703298899149\n",
      "-----------------------\n",
      "Training Step: 434\n",
      "generator loss:0.6607791747732019\n",
      "-----------------------\n"
     ]
    },
    {
     "name": "stderr",
     "output_type": "stream",
     "text": [
      "\r",
      "434it [03:36,  2.00it/s]"
     ]
    },
    {
     "name": "stdout",
     "output_type": "stream",
     "text": [
      "total discriminator loss:0.6854534841166439\n",
      "average true return:0.5163727259727424\n",
      "-----------------------\n",
      "Training Step: 435\n",
      "generator loss:0.6632722003054164\n",
      "-----------------------\n"
     ]
    },
    {
     "name": "stderr",
     "output_type": "stream",
     "text": [
      "\r",
      "435it [03:36,  1.96it/s]"
     ]
    },
    {
     "name": "stdout",
     "output_type": "stream",
     "text": [
      "total discriminator loss:0.6898110273067507\n",
      "average true return:0.5199528275495335\n",
      "-----------------------\n",
      "Training Step: 436\n",
      "generator loss:0.6790669353737668\n",
      "-----------------------\n"
     ]
    },
    {
     "name": "stderr",
     "output_type": "stream",
     "text": [
      "\r",
      "436it [03:37,  2.02it/s]"
     ]
    },
    {
     "name": "stdout",
     "output_type": "stream",
     "text": [
      "total discriminator loss:0.684648851757145\n",
      "average true return:0.5138854883176857\n",
      "-----------------------\n",
      "Training Step: 437\n",
      "generator loss:0.6796222278596054\n",
      "-----------------------\n"
     ]
    },
    {
     "name": "stderr",
     "output_type": "stream",
     "text": [
      "\r",
      "437it [03:37,  2.07it/s]"
     ]
    },
    {
     "name": "stdout",
     "output_type": "stream",
     "text": [
      "total discriminator loss:0.7006165985489897\n",
      "average true return:0.5174397038945655\n",
      "-----------------------\n",
      "Training Step: 438\n",
      "generator loss:0.6725913305370145\n",
      "-----------------------\n"
     ]
    },
    {
     "name": "stderr",
     "output_type": "stream",
     "text": [
      "\r",
      "438it [03:38,  2.12it/s]"
     ]
    },
    {
     "name": "stdout",
     "output_type": "stream",
     "text": [
      "total discriminator loss:0.6992537049787064\n",
      "average true return:0.5137936948182952\n",
      "-----------------------\n",
      "Training Step: 439\n",
      "generator loss:0.6882834502861235\n",
      "-----------------------\n"
     ]
    },
    {
     "name": "stderr",
     "output_type": "stream",
     "text": [
      "\r",
      "439it [03:38,  2.15it/s]"
     ]
    },
    {
     "name": "stdout",
     "output_type": "stream",
     "text": [
      "total discriminator loss:0.680859735125833\n",
      "average true return:0.5136341821919289\n",
      "-----------------------\n",
      "Training Step: 440\n",
      "generator loss:0.7012941363794596\n",
      "-----------------------\n"
     ]
    },
    {
     "name": "stderr",
     "output_type": "stream",
     "text": [
      "\r",
      "440it [03:39,  2.15it/s]"
     ]
    },
    {
     "name": "stdout",
     "output_type": "stream",
     "text": [
      "total discriminator loss:0.6793038012249125\n",
      "average true return:0.5091563602243125\n",
      "-----------------------\n",
      "Training Step: 441\n",
      "generator loss:0.7022557815344581\n",
      "-----------------------\n"
     ]
    },
    {
     "name": "stderr",
     "output_type": "stream",
     "text": [
      "\r",
      "441it [03:39,  2.14it/s]"
     ]
    },
    {
     "name": "stdout",
     "output_type": "stream",
     "text": [
      "total discriminator loss:0.693206737112708\n",
      "average true return:0.5088740775466398\n",
      "-----------------------\n",
      "Training Step: 442\n",
      "generator loss:0.715051605822534\n",
      "-----------------------\n"
     ]
    },
    {
     "name": "stderr",
     "output_type": "stream",
     "text": [
      "\r",
      "442it [03:40,  2.12it/s]"
     ]
    },
    {
     "name": "stdout",
     "output_type": "stream",
     "text": [
      "total discriminator loss:0.6746426986441026\n",
      "average true return:0.5030746610375115\n",
      "-----------------------\n",
      "Training Step: 443\n",
      "generator loss:0.7160275881517656\n",
      "-----------------------\n"
     ]
    },
    {
     "name": "stderr",
     "output_type": "stream",
     "text": [
      "\r",
      "443it [03:40,  2.10it/s]"
     ]
    },
    {
     "name": "stdout",
     "output_type": "stream",
     "text": [
      "total discriminator loss:0.6754014011072819\n",
      "average true return:0.4964996737237034\n",
      "-----------------------\n",
      "Training Step: 444\n",
      "generator loss:0.7145111810092187\n",
      "-----------------------\n"
     ]
    },
    {
     "name": "stderr",
     "output_type": "stream",
     "text": [
      "\r",
      "444it [03:41,  2.13it/s]"
     ]
    },
    {
     "name": "stdout",
     "output_type": "stream",
     "text": [
      "total discriminator loss:0.6725263220389318\n",
      "average true return:0.5018099663891236\n",
      "-----------------------\n",
      "Training Step: 445\n",
      "generator loss:0.7249589077777215\n",
      "-----------------------\n"
     ]
    },
    {
     "name": "stderr",
     "output_type": "stream",
     "text": [
      "\r",
      "445it [03:41,  2.12it/s]"
     ]
    },
    {
     "name": "stdout",
     "output_type": "stream",
     "text": [
      "total discriminator loss:0.6644555996307097\n",
      "average true return:0.5036039718026437\n",
      "-----------------------\n",
      "Training Step: 446\n",
      "generator loss:0.7267415502471469\n",
      "-----------------------\n"
     ]
    },
    {
     "name": "stderr",
     "output_type": "stream",
     "text": [
      "\r",
      "446it [03:42,  2.06it/s]"
     ]
    },
    {
     "name": "stdout",
     "output_type": "stream",
     "text": [
      "total discriminator loss:0.6706104726215031\n",
      "average true return:0.49584740494079954\n",
      "-----------------------\n",
      "Training Step: 447\n",
      "generator loss:0.7304932099737127\n",
      "-----------------------\n"
     ]
    },
    {
     "name": "stderr",
     "output_type": "stream",
     "text": [
      "\r",
      "447it [03:42,  2.02it/s]"
     ]
    },
    {
     "name": "stdout",
     "output_type": "stream",
     "text": [
      "total discriminator loss:0.673744233350908\n",
      "average true return:0.4938791772988888\n",
      "-----------------------\n",
      "Training Step: 448\n",
      "generator loss:0.7307276642692369\n",
      "-----------------------\n"
     ]
    },
    {
     "name": "stderr",
     "output_type": "stream",
     "text": [
      "\r",
      "448it [03:43,  2.04it/s]"
     ]
    },
    {
     "name": "stdout",
     "output_type": "stream",
     "text": [
      "total discriminator loss:0.6682948974543097\n",
      "average true return:0.5043857724178974\n",
      "-----------------------\n",
      "Training Step: 449\n",
      "generator loss:0.747321570641711\n",
      "-----------------------\n"
     ]
    },
    {
     "name": "stderr",
     "output_type": "stream",
     "text": [
      "\r",
      "449it [03:43,  2.00it/s]"
     ]
    },
    {
     "name": "stdout",
     "output_type": "stream",
     "text": [
      "total discriminator loss:0.6701850747682963\n",
      "average true return:0.4959742487736917\n",
      "-----------------------\n",
      "Training Step: 450\n",
      "generator loss:0.7448036239863642\n",
      "-----------------------\n"
     ]
    },
    {
     "name": "stderr",
     "output_type": "stream",
     "text": [
      "\r",
      "450it [03:44,  1.97it/s]"
     ]
    },
    {
     "name": "stdout",
     "output_type": "stream",
     "text": [
      "total discriminator loss:0.652622935627146\n",
      "average true return:0.4997566578104383\n",
      "-----------------------\n",
      "Training Step: 451\n",
      "generator loss:0.7406173791437857\n",
      "-----------------------\n"
     ]
    },
    {
     "name": "stderr",
     "output_type": "stream",
     "text": [
      "\r",
      "451it [03:44,  1.97it/s]"
     ]
    },
    {
     "name": "stdout",
     "output_type": "stream",
     "text": [
      "total discriminator loss:0.6574430542905187\n",
      "average true return:0.49108414012259327\n",
      "-----------------------\n",
      "Training Step: 452\n",
      "generator loss:0.7478458500878326\n",
      "-----------------------\n"
     ]
    },
    {
     "name": "stderr",
     "output_type": "stream",
     "text": [
      "\r",
      "452it [03:45,  1.97it/s]"
     ]
    },
    {
     "name": "stdout",
     "output_type": "stream",
     "text": [
      "total discriminator loss:0.6632104370110132\n",
      "average true return:0.4963447487669621\n",
      "-----------------------\n",
      "Training Step: 453\n",
      "generator loss:0.741744297791511\n",
      "-----------------------\n"
     ]
    },
    {
     "name": "stderr",
     "output_type": "stream",
     "text": [
      "\r",
      "453it [03:45,  2.01it/s]"
     ]
    },
    {
     "name": "stdout",
     "output_type": "stream",
     "text": [
      "total discriminator loss:0.6648578225123263\n",
      "average true return:0.4906208275761698\n",
      "-----------------------\n",
      "Training Step: 454\n",
      "generator loss:0.7546683648557763\n",
      "-----------------------\n"
     ]
    },
    {
     "name": "stderr",
     "output_type": "stream",
     "text": [
      "\r",
      "454it [03:46,  2.01it/s]"
     ]
    },
    {
     "name": "stdout",
     "output_type": "stream",
     "text": [
      "total discriminator loss:0.6582468641030162\n",
      "average true return:0.49337135318510056\n",
      "-----------------------\n",
      "Training Step: 455\n",
      "generator loss:0.7473599170097163\n",
      "-----------------------\n"
     ]
    },
    {
     "name": "stderr",
     "output_type": "stream",
     "text": [
      "\r",
      "455it [03:46,  2.02it/s]"
     ]
    },
    {
     "name": "stdout",
     "output_type": "stream",
     "text": [
      "total discriminator loss:0.6524830204711436\n",
      "average true return:0.49742413702904775\n",
      "-----------------------\n",
      "Training Step: 456\n",
      "generator loss:0.7600027689115163\n",
      "-----------------------\n"
     ]
    },
    {
     "name": "stderr",
     "output_type": "stream",
     "text": [
      "\r",
      "456it [03:47,  2.02it/s]"
     ]
    },
    {
     "name": "stdout",
     "output_type": "stream",
     "text": [
      "total discriminator loss:0.6728397061991612\n",
      "average true return:0.49527116584213904\n",
      "-----------------------\n",
      "Training Step: 457\n",
      "generator loss:0.7511072863564507\n",
      "-----------------------\n"
     ]
    },
    {
     "name": "stderr",
     "output_type": "stream",
     "text": [
      "\r",
      "457it [03:47,  2.01it/s]"
     ]
    },
    {
     "name": "stdout",
     "output_type": "stream",
     "text": [
      "total discriminator loss:0.6555950799285672\n",
      "average true return:0.5032838839848497\n",
      "-----------------------\n",
      "Training Step: 458\n",
      "generator loss:0.7532866627253474\n",
      "-----------------------\n"
     ]
    },
    {
     "name": "stderr",
     "output_type": "stream",
     "text": [
      "\r",
      "458it [03:48,  2.02it/s]"
     ]
    },
    {
     "name": "stdout",
     "output_type": "stream",
     "text": [
      "total discriminator loss:0.6578412221348827\n",
      "average true return:0.5001714783478212\n",
      "-----------------------\n",
      "Training Step: 459\n",
      "generator loss:0.7575561351886911\n",
      "-----------------------\n"
     ]
    },
    {
     "name": "stderr",
     "output_type": "stream",
     "text": [
      "\r",
      "459it [03:48,  2.03it/s]"
     ]
    },
    {
     "name": "stdout",
     "output_type": "stream",
     "text": [
      "total discriminator loss:0.6595412094794442\n",
      "average true return:0.5012806637815482\n",
      "-----------------------\n",
      "Training Step: 460\n",
      "generator loss:0.7509634715498714\n",
      "-----------------------\n"
     ]
    },
    {
     "name": "stderr",
     "output_type": "stream",
     "text": [
      "\r",
      "460it [03:49,  2.03it/s]"
     ]
    },
    {
     "name": "stdout",
     "output_type": "stream",
     "text": [
      "total discriminator loss:0.6555820462303237\n",
      "average true return:0.4966529970760848\n",
      "-----------------------\n",
      "Training Step: 461\n",
      "generator loss:0.7687359441330682\n",
      "-----------------------\n"
     ]
    },
    {
     "name": "stderr",
     "output_type": "stream",
     "text": [
      "\r",
      "461it [03:49,  1.98it/s]"
     ]
    },
    {
     "name": "stdout",
     "output_type": "stream",
     "text": [
      "total discriminator loss:0.6564715793467337\n",
      "average true return:0.49618539972535647\n",
      "-----------------------\n",
      "Training Step: 462\n",
      "generator loss:0.7698461745621191\n",
      "-----------------------\n"
     ]
    },
    {
     "name": "stderr",
     "output_type": "stream",
     "text": [
      "\r",
      "462it [03:50,  1.98it/s]"
     ]
    },
    {
     "name": "stdout",
     "output_type": "stream",
     "text": [
      "total discriminator loss:0.6506422423985547\n",
      "average true return:0.49987662586593806\n",
      "-----------------------\n",
      "Training Step: 463\n",
      "generator loss:0.7637843587839268\n",
      "-----------------------\n"
     ]
    },
    {
     "name": "stderr",
     "output_type": "stream",
     "text": [
      "\r",
      "463it [03:50,  1.97it/s]"
     ]
    },
    {
     "name": "stdout",
     "output_type": "stream",
     "text": [
      "total discriminator loss:0.6357132649338455\n",
      "average true return:0.4969850600085244\n",
      "-----------------------\n",
      "Training Step: 464\n",
      "generator loss:0.7550515182654811\n",
      "-----------------------\n"
     ]
    },
    {
     "name": "stderr",
     "output_type": "stream",
     "text": [
      "\r",
      "464it [03:51,  1.97it/s]"
     ]
    },
    {
     "name": "stdout",
     "output_type": "stream",
     "text": [
      "total discriminator loss:0.6296338431546128\n",
      "average true return:0.5001586158868163\n",
      "-----------------------\n",
      "Training Step: 465\n",
      "generator loss:0.7712931304805541\n",
      "-----------------------\n"
     ]
    },
    {
     "name": "stderr",
     "output_type": "stream",
     "text": [
      "\r",
      "465it [03:51,  1.96it/s]"
     ]
    },
    {
     "name": "stdout",
     "output_type": "stream",
     "text": [
      "total discriminator loss:0.6494975750363396\n",
      "average true return:0.4993534329385845\n",
      "-----------------------\n",
      "Training Step: 466\n",
      "generator loss:0.7546156114563516\n",
      "-----------------------\n"
     ]
    },
    {
     "name": "stderr",
     "output_type": "stream",
     "text": [
      "\r",
      "466it [03:52,  1.98it/s]"
     ]
    },
    {
     "name": "stdout",
     "output_type": "stream",
     "text": [
      "total discriminator loss:0.6443499842542775\n",
      "average true return:0.5054119619013596\n",
      "-----------------------\n",
      "Training Step: 467\n",
      "generator loss:0.766671318371033\n",
      "-----------------------\n"
     ]
    },
    {
     "name": "stderr",
     "output_type": "stream",
     "text": [
      "\r",
      "467it [03:52,  2.02it/s]"
     ]
    },
    {
     "name": "stdout",
     "output_type": "stream",
     "text": [
      "total discriminator loss:0.6438938313149178\n",
      "average true return:0.5049330716267496\n",
      "-----------------------\n",
      "Training Step: 468\n",
      "generator loss:0.7703947617515665\n",
      "-----------------------\n"
     ]
    },
    {
     "name": "stderr",
     "output_type": "stream",
     "text": [
      "\r",
      "468it [03:53,  2.00it/s]"
     ]
    },
    {
     "name": "stdout",
     "output_type": "stream",
     "text": [
      "total discriminator loss:0.6466669277423887\n",
      "average true return:0.5020501399095516\n",
      "-----------------------\n",
      "Training Step: 469\n",
      "generator loss:0.779793002303764\n",
      "-----------------------\n"
     ]
    },
    {
     "name": "stderr",
     "output_type": "stream",
     "text": [
      "\r",
      "469it [03:53,  1.97it/s]"
     ]
    },
    {
     "name": "stdout",
     "output_type": "stream",
     "text": [
      "total discriminator loss:0.6361412325517465\n",
      "average true return:0.5076670180533358\n",
      "-----------------------\n",
      "Training Step: 470\n",
      "generator loss:0.7578486480370368\n",
      "-----------------------\n"
     ]
    },
    {
     "name": "stderr",
     "output_type": "stream",
     "text": [
      "\r",
      "470it [03:54,  1.97it/s]"
     ]
    },
    {
     "name": "stdout",
     "output_type": "stream",
     "text": [
      "total discriminator loss:0.6377497602148797\n",
      "average true return:0.5007996530979713\n",
      "-----------------------\n",
      "Training Step: 471\n",
      "generator loss:0.7833995967986811\n",
      "-----------------------\n"
     ]
    },
    {
     "name": "stderr",
     "output_type": "stream",
     "text": [
      "\r",
      "471it [03:54,  1.98it/s]"
     ]
    },
    {
     "name": "stdout",
     "output_type": "stream",
     "text": [
      "total discriminator loss:0.6236438205725574\n",
      "average true return:0.49518221072533014\n",
      "-----------------------\n",
      "Training Step: 472\n",
      "generator loss:0.7693337649943638\n",
      "-----------------------\n"
     ]
    },
    {
     "name": "stderr",
     "output_type": "stream",
     "text": [
      "\r",
      "472it [03:55,  1.94it/s]"
     ]
    },
    {
     "name": "stdout",
     "output_type": "stream",
     "text": [
      "total discriminator loss:0.637367127768584\n",
      "average true return:0.4988185489540884\n",
      "-----------------------\n",
      "Training Step: 473\n",
      "generator loss:0.7909518623560373\n",
      "-----------------------\n"
     ]
    },
    {
     "name": "stderr",
     "output_type": "stream",
     "text": [
      "\r",
      "473it [03:55,  1.95it/s]"
     ]
    },
    {
     "name": "stdout",
     "output_type": "stream",
     "text": [
      "total discriminator loss:0.6321979446261156\n",
      "average true return:0.49749834244036834\n",
      "-----------------------\n",
      "Training Step: 474\n",
      "generator loss:0.7716224424661198\n",
      "-----------------------\n"
     ]
    },
    {
     "name": "stderr",
     "output_type": "stream",
     "text": [
      "\r",
      "474it [03:56,  1.87it/s]"
     ]
    },
    {
     "name": "stdout",
     "output_type": "stream",
     "text": [
      "total discriminator loss:0.636929237688318\n",
      "average true return:0.5006615607009107\n",
      "-----------------------\n",
      "Training Step: 475\n",
      "generator loss:0.8058095601373291\n",
      "-----------------------\n"
     ]
    },
    {
     "name": "stderr",
     "output_type": "stream",
     "text": [
      "\r",
      "475it [03:56,  1.89it/s]"
     ]
    },
    {
     "name": "stdout",
     "output_type": "stream",
     "text": [
      "total discriminator loss:0.6344498113006756\n",
      "average true return:0.5050642020493488\n",
      "-----------------------\n",
      "Training Step: 476\n",
      "generator loss:0.7818699282535864\n",
      "-----------------------\n"
     ]
    },
    {
     "name": "stderr",
     "output_type": "stream",
     "text": [
      "\r",
      "476it [03:57,  1.95it/s]"
     ]
    },
    {
     "name": "stdout",
     "output_type": "stream",
     "text": [
      "total discriminator loss:0.6346753191374174\n",
      "average true return:0.5024870556548593\n",
      "-----------------------\n",
      "Training Step: 477\n",
      "generator loss:0.7998309110840645\n",
      "-----------------------\n"
     ]
    },
    {
     "name": "stderr",
     "output_type": "stream",
     "text": [
      "\r",
      "477it [03:57,  1.93it/s]"
     ]
    },
    {
     "name": "stdout",
     "output_type": "stream",
     "text": [
      "total discriminator loss:0.6251107086978747\n",
      "average true return:0.5072130343060384\n",
      "-----------------------\n",
      "Training Step: 478\n",
      "generator loss:0.80036657198993\n",
      "-----------------------\n"
     ]
    },
    {
     "name": "stderr",
     "output_type": "stream",
     "text": [
      "\r",
      "478it [03:58,  1.92it/s]"
     ]
    },
    {
     "name": "stdout",
     "output_type": "stream",
     "text": [
      "total discriminator loss:0.652549326020234\n",
      "average true return:0.5082030999555337\n",
      "-----------------------\n",
      "Training Step: 479\n",
      "generator loss:0.7901891293478194\n",
      "-----------------------\n"
     ]
    },
    {
     "name": "stderr",
     "output_type": "stream",
     "text": [
      "\r",
      "479it [03:58,  1.94it/s]"
     ]
    },
    {
     "name": "stdout",
     "output_type": "stream",
     "text": [
      "total discriminator loss:0.6137551527970887\n",
      "average true return:0.5056911159366556\n",
      "-----------------------\n",
      "Training Step: 480\n",
      "generator loss:0.8265385304390216\n",
      "-----------------------\n"
     ]
    },
    {
     "name": "stderr",
     "output_type": "stream",
     "text": [
      "\r",
      "480it [03:59,  1.95it/s]"
     ]
    },
    {
     "name": "stdout",
     "output_type": "stream",
     "text": [
      "total discriminator loss:0.6305142685905414\n",
      "average true return:0.5005932465896311\n",
      "-----------------------\n",
      "Training Step: 481\n",
      "generator loss:0.7898756900147261\n",
      "-----------------------\n"
     ]
    },
    {
     "name": "stderr",
     "output_type": "stream",
     "text": [
      "\r",
      "481it [03:59,  1.93it/s]"
     ]
    },
    {
     "name": "stdout",
     "output_type": "stream",
     "text": [
      "total discriminator loss:0.628766469816351\n",
      "average true return:0.5045793690649865\n",
      "-----------------------\n",
      "Training Step: 482\n",
      "generator loss:0.8251955524898275\n",
      "-----------------------\n"
     ]
    },
    {
     "name": "stderr",
     "output_type": "stream",
     "text": [
      "\r",
      "482it [04:00,  1.95it/s]"
     ]
    },
    {
     "name": "stdout",
     "output_type": "stream",
     "text": [
      "total discriminator loss:0.6450764918141192\n",
      "average true return:0.5031709796543004\n",
      "-----------------------\n",
      "Training Step: 483\n",
      "generator loss:0.8068142417911549\n",
      "-----------------------\n"
     ]
    },
    {
     "name": "stderr",
     "output_type": "stream",
     "text": [
      "\r",
      "483it [04:00,  1.96it/s]"
     ]
    },
    {
     "name": "stdout",
     "output_type": "stream",
     "text": [
      "total discriminator loss:0.6188507084907959\n",
      "average true return:0.4932022019070105\n",
      "-----------------------\n",
      "Training Step: 484\n",
      "generator loss:0.81821956375343\n",
      "-----------------------\n"
     ]
    },
    {
     "name": "stderr",
     "output_type": "stream",
     "text": [
      "\r",
      "484it [04:01,  1.93it/s]"
     ]
    },
    {
     "name": "stdout",
     "output_type": "stream",
     "text": [
      "total discriminator loss:0.6399226846000198\n",
      "average true return:0.49819756524888326\n",
      "-----------------------\n",
      "Training Step: 485\n",
      "generator loss:0.8049330138971678\n",
      "-----------------------\n"
     ]
    },
    {
     "name": "stderr",
     "output_type": "stream",
     "text": [
      "\r",
      "485it [04:01,  1.95it/s]"
     ]
    },
    {
     "name": "stdout",
     "output_type": "stream",
     "text": [
      "total discriminator loss:0.641252682299146\n",
      "average true return:0.49035883925931806\n",
      "-----------------------\n",
      "Training Step: 486\n",
      "generator loss:0.802638288021682\n",
      "-----------------------\n"
     ]
    },
    {
     "name": "stderr",
     "output_type": "stream",
     "text": [
      "\r",
      "486it [04:02,  1.93it/s]"
     ]
    },
    {
     "name": "stdout",
     "output_type": "stream",
     "text": [
      "total discriminator loss:0.6508097847271352\n",
      "average true return:0.49985765101987834\n",
      "-----------------------\n",
      "Training Step: 487\n",
      "generator loss:0.820077423699552\n",
      "-----------------------\n"
     ]
    },
    {
     "name": "stderr",
     "output_type": "stream",
     "text": [
      "\r",
      "487it [04:02,  1.95it/s]"
     ]
    },
    {
     "name": "stdout",
     "output_type": "stream",
     "text": [
      "total discriminator loss:0.6282520301263324\n",
      "average true return:0.4943759108571066\n",
      "-----------------------\n",
      "Training Step: 488\n",
      "generator loss:0.8370760021089435\n",
      "-----------------------\n"
     ]
    },
    {
     "name": "stderr",
     "output_type": "stream",
     "text": [
      "\r",
      "488it [04:03,  1.96it/s]"
     ]
    },
    {
     "name": "stdout",
     "output_type": "stream",
     "text": [
      "total discriminator loss:0.6385816572681997\n",
      "average true return:0.5066878155028237\n",
      "-----------------------\n",
      "Training Step: 489\n",
      "generator loss:0.809380565145914\n",
      "-----------------------\n"
     ]
    },
    {
     "name": "stderr",
     "output_type": "stream",
     "text": [
      "\r",
      "489it [04:03,  1.99it/s]"
     ]
    },
    {
     "name": "stdout",
     "output_type": "stream",
     "text": [
      "total discriminator loss:0.6279198806301832\n",
      "average true return:0.5070362821183925\n",
      "-----------------------\n",
      "Training Step: 490\n",
      "generator loss:0.7825810582979684\n",
      "-----------------------\n"
     ]
    },
    {
     "name": "stderr",
     "output_type": "stream",
     "text": [
      "\r",
      "490it [04:04,  2.04it/s]"
     ]
    },
    {
     "name": "stdout",
     "output_type": "stream",
     "text": [
      "total discriminator loss:0.637289893331725\n",
      "average true return:0.5195070362675676\n",
      "-----------------------\n",
      "Training Step: 491\n",
      "generator loss:0.7978290423588632\n",
      "-----------------------\n"
     ]
    },
    {
     "name": "stderr",
     "output_type": "stream",
     "text": [
      "\r",
      "491it [04:04,  2.06it/s]"
     ]
    },
    {
     "name": "stdout",
     "output_type": "stream",
     "text": [
      "total discriminator loss:0.6270572571819737\n",
      "average true return:0.4988150598537896\n",
      "-----------------------\n",
      "Training Step: 492\n",
      "generator loss:0.7391370989994366\n",
      "-----------------------\n"
     ]
    },
    {
     "name": "stderr",
     "output_type": "stream",
     "text": [
      "\r",
      "492it [04:05,  2.09it/s]"
     ]
    },
    {
     "name": "stdout",
     "output_type": "stream",
     "text": [
      "total discriminator loss:0.6534908373896452\n",
      "average true return:0.5361348791057453\n",
      "-----------------------\n",
      "Training Step: 493\n",
      "generator loss:0.7490429408945376\n",
      "-----------------------\n"
     ]
    },
    {
     "name": "stderr",
     "output_type": "stream",
     "text": [
      "\r",
      "493it [04:05,  2.13it/s]"
     ]
    },
    {
     "name": "stdout",
     "output_type": "stream",
     "text": [
      "total discriminator loss:0.663857359873514\n",
      "average true return:0.5197079086951224\n",
      "-----------------------\n",
      "Training Step: 494\n",
      "generator loss:0.7701556127823864\n",
      "-----------------------\n"
     ]
    },
    {
     "name": "stderr",
     "output_type": "stream",
     "text": [
      "\r",
      "494it [04:06,  2.17it/s]"
     ]
    },
    {
     "name": "stdout",
     "output_type": "stream",
     "text": [
      "total discriminator loss:0.6833471411131448\n",
      "average true return:0.5325850353263495\n",
      "-----------------------\n",
      "Training Step: 495\n",
      "generator loss:0.7620792257251228\n",
      "-----------------------\n"
     ]
    },
    {
     "name": "stderr",
     "output_type": "stream",
     "text": [
      "\r",
      "495it [04:06,  2.16it/s]"
     ]
    },
    {
     "name": "stdout",
     "output_type": "stream",
     "text": [
      "total discriminator loss:0.6877391507825915\n",
      "average true return:0.5205943279044926\n",
      "-----------------------\n",
      "Training Step: 496\n",
      "generator loss:0.7786727770509607\n",
      "-----------------------\n"
     ]
    },
    {
     "name": "stderr",
     "output_type": "stream",
     "text": [
      "\r",
      "496it [04:07,  2.13it/s]"
     ]
    },
    {
     "name": "stdout",
     "output_type": "stream",
     "text": [
      "total discriminator loss:0.6705426006263306\n",
      "average true return:0.5366878296613974\n",
      "-----------------------\n",
      "Training Step: 497\n",
      "generator loss:0.7201354570647134\n",
      "-----------------------\n"
     ]
    },
    {
     "name": "stderr",
     "output_type": "stream",
     "text": [
      "\r",
      "497it [04:07,  2.13it/s]"
     ]
    },
    {
     "name": "stdout",
     "output_type": "stream",
     "text": [
      "total discriminator loss:0.67330713462188\n",
      "average true return:0.5321402829438004\n",
      "-----------------------\n",
      "Training Step: 498\n",
      "generator loss:0.6853891147273482\n",
      "-----------------------\n"
     ]
    },
    {
     "name": "stderr",
     "output_type": "stream",
     "text": [
      "\r",
      "498it [04:08,  2.11it/s]"
     ]
    },
    {
     "name": "stdout",
     "output_type": "stream",
     "text": [
      "total discriminator loss:0.6668077789223029\n",
      "average true return:0.5428592919880707\n",
      "-----------------------\n",
      "Training Step: 499\n",
      "generator loss:0.723332782367986\n",
      "-----------------------\n"
     ]
    },
    {
     "name": "stderr",
     "output_type": "stream",
     "text": [
      "\r",
      "499it [04:08,  2.11it/s]"
     ]
    },
    {
     "name": "stdout",
     "output_type": "stream",
     "text": [
      "total discriminator loss:0.6917913903370657\n",
      "average true return:0.5531411165997089\n",
      "-----------------------\n",
      "Training Step: 500\n",
      "generator loss:0.6892674576788007\n",
      "-----------------------\n"
     ]
    },
    {
     "name": "stderr",
     "output_type": "stream",
     "text": [
      "\r",
      "500it [04:09,  2.07it/s]"
     ]
    },
    {
     "name": "stdout",
     "output_type": "stream",
     "text": [
      "total discriminator loss:0.6787444788368231\n",
      "average true return:0.55474596575418\n",
      "-----------------------\n",
      "Training Step: 501\n",
      "generator loss:0.6751751424151061\n",
      "-----------------------\n"
     ]
    },
    {
     "name": "stderr",
     "output_type": "stream",
     "text": [
      "\r",
      "501it [04:09,  2.05it/s]"
     ]
    },
    {
     "name": "stdout",
     "output_type": "stream",
     "text": [
      "total discriminator loss:0.6888475693467202\n",
      "average true return:0.5559629808517166\n",
      "-----------------------\n",
      "Training Step: 502\n",
      "generator loss:0.6590441654795838\n",
      "-----------------------\n"
     ]
    },
    {
     "name": "stderr",
     "output_type": "stream",
     "text": [
      "\r",
      "502it [04:10,  2.00it/s]"
     ]
    },
    {
     "name": "stdout",
     "output_type": "stream",
     "text": [
      "total discriminator loss:0.696303473535426\n",
      "average true return:0.5488464948020835\n",
      "-----------------------\n",
      "Training Step: 503\n",
      "generator loss:0.6778210251042156\n",
      "-----------------------\n"
     ]
    },
    {
     "name": "stderr",
     "output_type": "stream",
     "text": [
      "\r",
      "503it [04:10,  1.97it/s]"
     ]
    },
    {
     "name": "stdout",
     "output_type": "stream",
     "text": [
      "total discriminator loss:0.7081830221555996\n",
      "average true return:0.556612723978045\n",
      "-----------------------\n",
      "Training Step: 504\n",
      "generator loss:0.6865512535766464\n",
      "-----------------------\n"
     ]
    },
    {
     "name": "stderr",
     "output_type": "stream",
     "text": [
      "\r",
      "504it [04:11,  1.93it/s]"
     ]
    },
    {
     "name": "stdout",
     "output_type": "stream",
     "text": [
      "total discriminator loss:0.6710091263610662\n",
      "average true return:0.5310842075551525\n",
      "-----------------------\n",
      "Training Step: 505\n",
      "generator loss:0.690879867934289\n",
      "-----------------------\n"
     ]
    },
    {
     "name": "stderr",
     "output_type": "stream",
     "text": [
      "\r",
      "505it [04:11,  1.94it/s]"
     ]
    },
    {
     "name": "stdout",
     "output_type": "stream",
     "text": [
      "total discriminator loss:0.6871847351250995\n",
      "average true return:0.5386904701618136\n",
      "-----------------------\n",
      "Training Step: 506\n",
      "generator loss:0.6733970353471916\n",
      "-----------------------\n"
     ]
    },
    {
     "name": "stderr",
     "output_type": "stream",
     "text": [
      "\r",
      "506it [04:12,  1.93it/s]"
     ]
    },
    {
     "name": "stdout",
     "output_type": "stream",
     "text": [
      "total discriminator loss:0.7017371736164209\n",
      "average true return:0.5498159838851917\n",
      "-----------------------\n",
      "Training Step: 507\n",
      "generator loss:0.6962510315303242\n",
      "-----------------------\n"
     ]
    },
    {
     "name": "stderr",
     "output_type": "stream",
     "text": [
      "\r",
      "507it [04:12,  1.94it/s]"
     ]
    },
    {
     "name": "stdout",
     "output_type": "stream",
     "text": [
      "total discriminator loss:0.6983523161305947\n",
      "average true return:0.5338263577206682\n",
      "-----------------------\n",
      "Training Step: 508\n",
      "generator loss:0.7176578304878017\n",
      "-----------------------\n"
     ]
    },
    {
     "name": "stderr",
     "output_type": "stream",
     "text": [
      "\r",
      "508it [04:13,  1.95it/s]"
     ]
    },
    {
     "name": "stdout",
     "output_type": "stream",
     "text": [
      "total discriminator loss:0.6968119001641107\n",
      "average true return:0.5317924054057301\n",
      "-----------------------\n",
      "Training Step: 509\n",
      "generator loss:0.7003151677064512\n",
      "-----------------------\n"
     ]
    },
    {
     "name": "stderr",
     "output_type": "stream",
     "text": [
      "\r",
      "509it [04:13,  1.92it/s]"
     ]
    },
    {
     "name": "stdout",
     "output_type": "stream",
     "text": [
      "total discriminator loss:0.7117844665856311\n",
      "average true return:0.5444791675124884\n",
      "-----------------------\n",
      "Training Step: 510\n",
      "generator loss:0.6939711569006028\n",
      "-----------------------\n"
     ]
    },
    {
     "name": "stderr",
     "output_type": "stream",
     "text": [
      "\r",
      "510it [04:14,  1.90it/s]"
     ]
    },
    {
     "name": "stdout",
     "output_type": "stream",
     "text": [
      "total discriminator loss:0.6697248465467196\n",
      "average true return:0.5285439536237085\n",
      "-----------------------\n",
      "Training Step: 511\n",
      "generator loss:0.6992668265293636\n",
      "-----------------------\n"
     ]
    },
    {
     "name": "stderr",
     "output_type": "stream",
     "text": [
      "\r",
      "511it [04:14,  1.89it/s]"
     ]
    },
    {
     "name": "stdout",
     "output_type": "stream",
     "text": [
      "total discriminator loss:0.668277813535237\n",
      "average true return:0.5313375216333134\n",
      "-----------------------\n",
      "Training Step: 512\n",
      "generator loss:0.7146344331753892\n",
      "-----------------------\n"
     ]
    },
    {
     "name": "stderr",
     "output_type": "stream",
     "text": [
      "\r",
      "512it [04:15,  1.90it/s]"
     ]
    },
    {
     "name": "stdout",
     "output_type": "stream",
     "text": [
      "total discriminator loss:0.6645237190964668\n",
      "average true return:0.5443765576874358\n",
      "-----------------------\n",
      "Training Step: 513\n",
      "generator loss:0.7161724616958082\n",
      "-----------------------\n"
     ]
    },
    {
     "name": "stderr",
     "output_type": "stream",
     "text": [
      "\r",
      "513it [04:16,  1.86it/s]"
     ]
    },
    {
     "name": "stdout",
     "output_type": "stream",
     "text": [
      "total discriminator loss:0.6627039444279349\n",
      "average true return:0.5394574179463789\n",
      "-----------------------\n",
      "Training Step: 514\n",
      "generator loss:0.7623714356070341\n",
      "-----------------------\n"
     ]
    },
    {
     "name": "stderr",
     "output_type": "stream",
     "text": [
      "\r",
      "514it [04:16,  1.89it/s]"
     ]
    },
    {
     "name": "stdout",
     "output_type": "stream",
     "text": [
      "total discriminator loss:0.663749515608125\n",
      "average true return:0.5269537472428227\n",
      "-----------------------\n",
      "Training Step: 515\n",
      "generator loss:0.7330191993482933\n",
      "-----------------------\n"
     ]
    },
    {
     "name": "stderr",
     "output_type": "stream",
     "text": [
      "\r",
      "515it [04:17,  1.90it/s]"
     ]
    },
    {
     "name": "stdout",
     "output_type": "stream",
     "text": [
      "total discriminator loss:0.6469564125572138\n",
      "average true return:0.5188589988067045\n",
      "-----------------------\n",
      "Training Step: 516\n",
      "generator loss:0.7604595996047988\n",
      "-----------------------\n"
     ]
    },
    {
     "name": "stderr",
     "output_type": "stream",
     "text": [
      "\r",
      "516it [04:17,  1.91it/s]"
     ]
    },
    {
     "name": "stdout",
     "output_type": "stream",
     "text": [
      "total discriminator loss:0.6478163894198834\n",
      "average true return:0.5152114524841961\n",
      "-----------------------\n",
      "Training Step: 517\n",
      "generator loss:0.7991376311821792\n",
      "-----------------------\n"
     ]
    },
    {
     "name": "stderr",
     "output_type": "stream",
     "text": [
      "\r",
      "517it [04:18,  1.88it/s]"
     ]
    },
    {
     "name": "stdout",
     "output_type": "stream",
     "text": [
      "total discriminator loss:0.6361636721116168\n",
      "average true return:0.5044476736430663\n",
      "-----------------------\n",
      "Training Step: 518\n",
      "generator loss:0.8198550639396212\n",
      "-----------------------\n"
     ]
    },
    {
     "name": "stderr",
     "output_type": "stream",
     "text": [
      "\r",
      "518it [04:18,  1.89it/s]"
     ]
    },
    {
     "name": "stdout",
     "output_type": "stream",
     "text": [
      "total discriminator loss:0.6058667806733296\n",
      "average true return:0.5100591603105713\n",
      "-----------------------\n",
      "Training Step: 519\n",
      "generator loss:0.8523575254672449\n",
      "-----------------------\n"
     ]
    },
    {
     "name": "stderr",
     "output_type": "stream",
     "text": [
      "\r",
      "519it [04:19,  1.91it/s]"
     ]
    },
    {
     "name": "stdout",
     "output_type": "stream",
     "text": [
      "total discriminator loss:0.599668550721925\n",
      "average true return:0.4897562280258352\n",
      "-----------------------\n",
      "Training Step: 520\n",
      "generator loss:0.8162653580016069\n",
      "-----------------------\n"
     ]
    },
    {
     "name": "stderr",
     "output_type": "stream",
     "text": [
      "\r",
      "520it [04:19,  1.93it/s]"
     ]
    },
    {
     "name": "stdout",
     "output_type": "stream",
     "text": [
      "total discriminator loss:0.612724038764625\n",
      "average true return:0.5222573768464318\n",
      "-----------------------\n",
      "Training Step: 521\n",
      "generator loss:0.8132496650370232\n",
      "-----------------------\n"
     ]
    },
    {
     "name": "stderr",
     "output_type": "stream",
     "text": [
      "\r",
      "521it [04:20,  1.95it/s]"
     ]
    },
    {
     "name": "stdout",
     "output_type": "stream",
     "text": [
      "total discriminator loss:0.6192355715292517\n",
      "average true return:0.513411446394186\n",
      "-----------------------\n",
      "Training Step: 522\n",
      "generator loss:0.8411180041996645\n",
      "-----------------------\n"
     ]
    },
    {
     "name": "stderr",
     "output_type": "stream",
     "text": [
      "\r",
      "522it [04:20,  1.95it/s]"
     ]
    },
    {
     "name": "stdout",
     "output_type": "stream",
     "text": [
      "total discriminator loss:0.5934283626054979\n",
      "average true return:0.5208961716677346\n",
      "-----------------------\n",
      "Training Step: 523\n",
      "generator loss:0.8253845633680597\n",
      "-----------------------\n"
     ]
    },
    {
     "name": "stderr",
     "output_type": "stream",
     "text": [
      "\r",
      "523it [04:21,  1.95it/s]"
     ]
    },
    {
     "name": "stdout",
     "output_type": "stream",
     "text": [
      "total discriminator loss:0.6096121136048787\n",
      "average true return:0.525324949031524\n",
      "-----------------------\n",
      "Training Step: 524\n",
      "generator loss:0.8815288882153517\n",
      "-----------------------\n"
     ]
    },
    {
     "name": "stderr",
     "output_type": "stream",
     "text": [
      "\r",
      "524it [04:21,  1.93it/s]"
     ]
    },
    {
     "name": "stdout",
     "output_type": "stream",
     "text": [
      "total discriminator loss:0.6012182566153055\n",
      "average true return:0.5007229690999391\n",
      "-----------------------\n",
      "Training Step: 525\n",
      "generator loss:0.8952722409459504\n",
      "-----------------------\n"
     ]
    },
    {
     "name": "stderr",
     "output_type": "stream",
     "text": [
      "\r",
      "525it [04:22,  1.91it/s]"
     ]
    },
    {
     "name": "stdout",
     "output_type": "stream",
     "text": [
      "total discriminator loss:0.5933354275560971\n",
      "average true return:0.5008451169390672\n",
      "-----------------------\n",
      "Training Step: 526\n",
      "generator loss:0.8834472600640115\n",
      "-----------------------\n"
     ]
    },
    {
     "name": "stderr",
     "output_type": "stream",
     "text": [
      "\r",
      "526it [04:22,  1.88it/s]"
     ]
    },
    {
     "name": "stdout",
     "output_type": "stream",
     "text": [
      "total discriminator loss:0.6251695972886866\n",
      "average true return:0.507443354868383\n",
      "-----------------------\n",
      "Training Step: 527\n",
      "generator loss:0.8737860540555473\n",
      "-----------------------\n"
     ]
    },
    {
     "name": "stderr",
     "output_type": "stream",
     "text": [
      "\r",
      "527it [04:23,  1.90it/s]"
     ]
    },
    {
     "name": "stdout",
     "output_type": "stream",
     "text": [
      "total discriminator loss:0.6103037589389914\n",
      "average true return:0.5005500639388842\n",
      "-----------------------\n",
      "Training Step: 528\n",
      "generator loss:0.9311093420843759\n",
      "-----------------------\n"
     ]
    },
    {
     "name": "stderr",
     "output_type": "stream",
     "text": [
      "\r",
      "528it [04:23,  1.89it/s]"
     ]
    },
    {
     "name": "stdout",
     "output_type": "stream",
     "text": [
      "total discriminator loss:0.6130837092263904\n",
      "average true return:0.4904999134954045\n",
      "-----------------------\n",
      "Training Step: 529\n",
      "generator loss:0.9123823617396312\n",
      "-----------------------\n"
     ]
    },
    {
     "name": "stderr",
     "output_type": "stream",
     "text": [
      "\r",
      "529it [04:24,  1.88it/s]"
     ]
    },
    {
     "name": "stdout",
     "output_type": "stream",
     "text": [
      "total discriminator loss:0.6111099496664745\n",
      "average true return:0.502714059856627\n",
      "-----------------------\n",
      "Training Step: 530\n",
      "generator loss:0.8887923308964746\n",
      "-----------------------\n"
     ]
    },
    {
     "name": "stderr",
     "output_type": "stream",
     "text": [
      "\r",
      "530it [04:24,  1.94it/s]"
     ]
    },
    {
     "name": "stdout",
     "output_type": "stream",
     "text": [
      "total discriminator loss:0.5886339630499389\n",
      "average true return:0.5067640124758248\n",
      "-----------------------\n",
      "Training Step: 531\n",
      "generator loss:0.844231449731863\n",
      "-----------------------\n"
     ]
    },
    {
     "name": "stderr",
     "output_type": "stream",
     "text": [
      "\r",
      "531it [04:25,  1.91it/s]"
     ]
    },
    {
     "name": "stdout",
     "output_type": "stream",
     "text": [
      "total discriminator loss:0.6002866439464478\n",
      "average true return:0.5126266789865048\n",
      "-----------------------\n",
      "Training Step: 532\n",
      "generator loss:0.8273732260782622\n",
      "-----------------------\n"
     ]
    },
    {
     "name": "stderr",
     "output_type": "stream",
     "text": [
      "\r",
      "532it [04:25,  1.91it/s]"
     ]
    },
    {
     "name": "stdout",
     "output_type": "stream",
     "text": [
      "total discriminator loss:0.6038992708719184\n",
      "average true return:0.5310579682898092\n",
      "-----------------------\n",
      "Training Step: 533\n",
      "generator loss:0.806494249300572\n",
      "-----------------------\n"
     ]
    },
    {
     "name": "stderr",
     "output_type": "stream",
     "text": [
      "\r",
      "533it [04:26,  1.88it/s]"
     ]
    },
    {
     "name": "stdout",
     "output_type": "stream",
     "text": [
      "total discriminator loss:0.5802808429127706\n",
      "average true return:0.5265236544770701\n",
      "-----------------------\n",
      "Training Step: 534\n",
      "generator loss:0.8204334806387213\n",
      "-----------------------\n"
     ]
    },
    {
     "name": "stderr",
     "output_type": "stream",
     "text": [
      "\r",
      "534it [04:26,  1.90it/s]"
     ]
    },
    {
     "name": "stdout",
     "output_type": "stream",
     "text": [
      "total discriminator loss:0.6483556000492956\n",
      "average true return:0.5511043008480356\n",
      "-----------------------\n",
      "Training Step: 535\n",
      "generator loss:0.8109323160025244\n",
      "-----------------------\n"
     ]
    },
    {
     "name": "stderr",
     "output_type": "stream",
     "text": [
      "\r",
      "535it [04:27,  1.90it/s]"
     ]
    },
    {
     "name": "stdout",
     "output_type": "stream",
     "text": [
      "total discriminator loss:0.6372690659762554\n",
      "average true return:0.5478434608403625\n",
      "-----------------------\n",
      "Training Step: 536\n",
      "generator loss:0.7596659204765743\n",
      "-----------------------\n"
     ]
    },
    {
     "name": "stderr",
     "output_type": "stream",
     "text": [
      "\r",
      "536it [04:28,  1.90it/s]"
     ]
    },
    {
     "name": "stdout",
     "output_type": "stream",
     "text": [
      "total discriminator loss:0.6621731915974998\n",
      "average true return:0.5577770461460301\n",
      "-----------------------\n",
      "Training Step: 537\n",
      "generator loss:0.7547360059382326\n",
      "-----------------------\n"
     ]
    },
    {
     "name": "stderr",
     "output_type": "stream",
     "text": [
      "\r",
      "537it [04:28,  1.89it/s]"
     ]
    },
    {
     "name": "stdout",
     "output_type": "stream",
     "text": [
      "total discriminator loss:0.6484615097221436\n",
      "average true return:0.5398350813676248\n",
      "-----------------------\n",
      "Training Step: 538\n",
      "generator loss:0.7426913198109305\n",
      "-----------------------\n"
     ]
    },
    {
     "name": "stderr",
     "output_type": "stream",
     "text": [
      "\r",
      "538it [04:29,  1.89it/s]"
     ]
    },
    {
     "name": "stdout",
     "output_type": "stream",
     "text": [
      "total discriminator loss:0.6446807472045809\n",
      "average true return:0.5432153861501512\n",
      "-----------------------\n",
      "Training Step: 539\n",
      "generator loss:0.7878046120366126\n",
      "-----------------------\n"
     ]
    },
    {
     "name": "stderr",
     "output_type": "stream",
     "text": [
      "\r",
      "539it [04:29,  1.89it/s]"
     ]
    },
    {
     "name": "stdout",
     "output_type": "stream",
     "text": [
      "total discriminator loss:0.6799890069300596\n",
      "average true return:0.5393402762677264\n",
      "-----------------------\n",
      "Training Step: 540\n",
      "generator loss:0.7376775797440471\n",
      "-----------------------\n"
     ]
    },
    {
     "name": "stderr",
     "output_type": "stream",
     "text": [
      "\r",
      "540it [04:30,  1.88it/s]"
     ]
    },
    {
     "name": "stdout",
     "output_type": "stream",
     "text": [
      "total discriminator loss:0.6679387969852835\n",
      "average true return:0.5414076078915027\n",
      "-----------------------\n",
      "Training Step: 541\n",
      "generator loss:0.7141214756652896\n",
      "-----------------------\n"
     ]
    },
    {
     "name": "stderr",
     "output_type": "stream",
     "text": [
      "\r",
      "541it [04:30,  1.92it/s]"
     ]
    },
    {
     "name": "stdout",
     "output_type": "stream",
     "text": [
      "total discriminator loss:0.691482096425003\n",
      "average true return:0.5384257704903608\n",
      "-----------------------\n",
      "Training Step: 542\n",
      "generator loss:0.7095390338268519\n",
      "-----------------------\n"
     ]
    },
    {
     "name": "stderr",
     "output_type": "stream",
     "text": [
      "\r",
      "542it [04:31,  1.90it/s]"
     ]
    },
    {
     "name": "stdout",
     "output_type": "stream",
     "text": [
      "total discriminator loss:0.7199098240204793\n",
      "average true return:0.556551349463145\n",
      "-----------------------\n",
      "Training Step: 543\n",
      "generator loss:0.7164303356701923\n",
      "-----------------------\n"
     ]
    },
    {
     "name": "stderr",
     "output_type": "stream",
     "text": [
      "\r",
      "543it [04:31,  1.87it/s]"
     ]
    },
    {
     "name": "stdout",
     "output_type": "stream",
     "text": [
      "total discriminator loss:0.7258229741605849\n",
      "average true return:0.5514779783742212\n",
      "-----------------------\n",
      "Training Step: 544\n",
      "generator loss:0.6551782184763553\n",
      "-----------------------\n"
     ]
    },
    {
     "name": "stderr",
     "output_type": "stream",
     "text": [
      "\r",
      "544it [04:32,  1.89it/s]"
     ]
    },
    {
     "name": "stdout",
     "output_type": "stream",
     "text": [
      "total discriminator loss:0.7377770787867728\n",
      "average true return:0.5635927798071245\n",
      "-----------------------\n",
      "Training Step: 545\n",
      "generator loss:0.6523499031719788\n",
      "-----------------------\n"
     ]
    },
    {
     "name": "stderr",
     "output_type": "stream",
     "text": [
      "\r",
      "545it [04:32,  1.93it/s]"
     ]
    },
    {
     "name": "stdout",
     "output_type": "stream",
     "text": [
      "total discriminator loss:0.7402850185757891\n",
      "average true return:0.5674364487984735\n",
      "-----------------------\n",
      "Training Step: 546\n",
      "generator loss:0.6032714148196536\n",
      "-----------------------\n"
     ]
    },
    {
     "name": "stderr",
     "output_type": "stream",
     "text": [
      "\r",
      "546it [04:33,  1.96it/s]"
     ]
    },
    {
     "name": "stdout",
     "output_type": "stream",
     "text": [
      "total discriminator loss:0.7467387292306948\n",
      "average true return:0.5934230013037141\n",
      "-----------------------\n",
      "Training Step: 547\n",
      "generator loss:0.5752522041927401\n",
      "-----------------------\n"
     ]
    },
    {
     "name": "stderr",
     "output_type": "stream",
     "text": [
      "\r",
      "547it [04:33,  2.00it/s]"
     ]
    },
    {
     "name": "stdout",
     "output_type": "stream",
     "text": [
      "total discriminator loss:0.7451150892592066\n",
      "average true return:0.5813784419590589\n",
      "-----------------------\n",
      "Training Step: 548\n",
      "generator loss:0.5728536043500406\n",
      "-----------------------\n"
     ]
    },
    {
     "name": "stderr",
     "output_type": "stream",
     "text": [
      "\r",
      "548it [04:34,  2.04it/s]"
     ]
    },
    {
     "name": "stdout",
     "output_type": "stream",
     "text": [
      "total discriminator loss:0.7554575319581276\n",
      "average true return:0.5794908151864333\n",
      "-----------------------\n",
      "Training Step: 549\n",
      "generator loss:0.5567575034775449\n",
      "-----------------------\n"
     ]
    },
    {
     "name": "stderr",
     "output_type": "stream",
     "text": [
      "\r",
      "549it [04:34,  2.07it/s]"
     ]
    },
    {
     "name": "stdout",
     "output_type": "stream",
     "text": [
      "total discriminator loss:0.7540276602334548\n",
      "average true return:0.5948062744799433\n",
      "-----------------------\n",
      "Training Step: 550\n",
      "generator loss:0.5385211471273124\n",
      "-----------------------\n"
     ]
    },
    {
     "name": "stderr",
     "output_type": "stream",
     "text": [
      "\r",
      "550it [04:35,  2.10it/s]"
     ]
    },
    {
     "name": "stdout",
     "output_type": "stream",
     "text": [
      "total discriminator loss:0.7543147579234151\n",
      "average true return:0.5833413948060671\n",
      "-----------------------\n",
      "Training Step: 551\n",
      "generator loss:0.5223178254121812\n",
      "-----------------------\n"
     ]
    },
    {
     "name": "stderr",
     "output_type": "stream",
     "text": [
      "\r",
      "551it [04:35,  2.14it/s]"
     ]
    },
    {
     "name": "stdout",
     "output_type": "stream",
     "text": [
      "total discriminator loss:0.7614142946589738\n",
      "average true return:0.5795109549747668\n",
      "-----------------------\n",
      "Training Step: 552\n",
      "generator loss:0.5207217753303306\n",
      "-----------------------\n"
     ]
    },
    {
     "name": "stderr",
     "output_type": "stream",
     "text": [
      "\r",
      "552it [04:36,  2.05it/s]"
     ]
    },
    {
     "name": "stdout",
     "output_type": "stream",
     "text": [
      "total discriminator loss:0.757528049652686\n",
      "average true return:0.5799418426718481\n",
      "-----------------------\n",
      "Training Step: 553\n",
      "generator loss:0.5198072432875951\n",
      "-----------------------\n"
     ]
    },
    {
     "name": "stderr",
     "output_type": "stream",
     "text": [
      "\r",
      "553it [04:36,  2.08it/s]"
     ]
    },
    {
     "name": "stdout",
     "output_type": "stream",
     "text": [
      "total discriminator loss:0.7511762739851767\n",
      "average true return:0.584508617570926\n",
      "-----------------------\n",
      "Training Step: 554\n",
      "generator loss:0.5091012885097099\n",
      "-----------------------\n"
     ]
    },
    {
     "name": "stderr",
     "output_type": "stream",
     "text": [
      "\r",
      "554it [04:37,  2.11it/s]"
     ]
    },
    {
     "name": "stdout",
     "output_type": "stream",
     "text": [
      "total discriminator loss:0.7497274069366524\n",
      "average true return:0.5883370770561334\n",
      "-----------------------\n",
      "Training Step: 555\n",
      "generator loss:0.5115511069382181\n",
      "-----------------------\n"
     ]
    },
    {
     "name": "stderr",
     "output_type": "stream",
     "text": [
      "\r",
      "555it [04:37,  2.10it/s]"
     ]
    },
    {
     "name": "stdout",
     "output_type": "stream",
     "text": [
      "total discriminator loss:0.7492133276269468\n",
      "average true return:0.5894744240408027\n",
      "-----------------------\n",
      "Training Step: 556\n",
      "generator loss:0.5202831157569918\n",
      "-----------------------\n"
     ]
    },
    {
     "name": "stderr",
     "output_type": "stream",
     "text": [
      "\r",
      "556it [04:37,  2.12it/s]"
     ]
    },
    {
     "name": "stdout",
     "output_type": "stream",
     "text": [
      "total discriminator loss:0.7363007779065462\n",
      "average true return:0.5804947134048226\n",
      "-----------------------\n",
      "Training Step: 557\n",
      "generator loss:0.5322336247800632\n",
      "-----------------------\n"
     ]
    },
    {
     "name": "stderr",
     "output_type": "stream",
     "text": [
      "\r",
      "557it [04:38,  2.05it/s]"
     ]
    },
    {
     "name": "stdout",
     "output_type": "stream",
     "text": [
      "total discriminator loss:0.7369826251108773\n",
      "average true return:0.5785720635534848\n",
      "-----------------------\n",
      "Training Step: 558\n",
      "generator loss:0.5269924295874195\n",
      "-----------------------\n"
     ]
    },
    {
     "name": "stderr",
     "output_type": "stream",
     "text": [
      "\r",
      "558it [04:39,  2.02it/s]"
     ]
    },
    {
     "name": "stdout",
     "output_type": "stream",
     "text": [
      "total discriminator loss:0.7290184580358147\n",
      "average true return:0.5833663802204563\n",
      "-----------------------\n",
      "Training Step: 559\n",
      "generator loss:0.5274833240204959\n",
      "-----------------------\n"
     ]
    },
    {
     "name": "stderr",
     "output_type": "stream",
     "text": [
      "\r",
      "559it [04:39,  1.99it/s]"
     ]
    },
    {
     "name": "stdout",
     "output_type": "stream",
     "text": [
      "total discriminator loss:0.7349428509089342\n",
      "average true return:0.5745393683491772\n",
      "-----------------------\n",
      "Training Step: 560\n",
      "generator loss:0.5562849360314699\n",
      "-----------------------\n"
     ]
    },
    {
     "name": "stderr",
     "output_type": "stream",
     "text": [
      "\r",
      "560it [04:40,  2.00it/s]"
     ]
    },
    {
     "name": "stdout",
     "output_type": "stream",
     "text": [
      "total discriminator loss:0.7366765910337904\n",
      "average true return:0.5657870127388268\n",
      "-----------------------\n",
      "Training Step: 561\n",
      "generator loss:0.5608749278383203\n",
      "-----------------------\n"
     ]
    },
    {
     "name": "stderr",
     "output_type": "stream",
     "text": [
      "\r",
      "561it [04:40,  1.97it/s]"
     ]
    },
    {
     "name": "stdout",
     "output_type": "stream",
     "text": [
      "total discriminator loss:0.7139802430683865\n",
      "average true return:0.5628214502103258\n",
      "-----------------------\n",
      "Training Step: 562\n",
      "generator loss:0.5689968997529097\n",
      "-----------------------\n"
     ]
    },
    {
     "name": "stderr",
     "output_type": "stream",
     "text": [
      "\r",
      "562it [04:41,  1.98it/s]"
     ]
    },
    {
     "name": "stdout",
     "output_type": "stream",
     "text": [
      "total discriminator loss:0.7218015908775848\n",
      "average true return:0.5522160050776241\n",
      "-----------------------\n",
      "Training Step: 563\n",
      "generator loss:0.5811399297240492\n",
      "-----------------------\n"
     ]
    },
    {
     "name": "stderr",
     "output_type": "stream",
     "text": [
      "\r",
      "563it [04:41,  1.99it/s]"
     ]
    },
    {
     "name": "stdout",
     "output_type": "stream",
     "text": [
      "total discriminator loss:0.7228722416708784\n",
      "average true return:0.5480153087031414\n",
      "-----------------------\n",
      "Training Step: 564\n",
      "generator loss:0.5992669137512361\n",
      "-----------------------\n"
     ]
    },
    {
     "name": "stderr",
     "output_type": "stream",
     "text": [
      "\r",
      "564it [04:42,  1.97it/s]"
     ]
    },
    {
     "name": "stdout",
     "output_type": "stream",
     "text": [
      "total discriminator loss:0.7101303800384406\n",
      "average true return:0.5450305543579261\n",
      "-----------------------\n",
      "Training Step: 565\n",
      "generator loss:0.6131565107428659\n",
      "-----------------------\n"
     ]
    },
    {
     "name": "stderr",
     "output_type": "stream",
     "text": [
      "\r",
      "565it [04:42,  1.97it/s]"
     ]
    },
    {
     "name": "stdout",
     "output_type": "stream",
     "text": [
      "total discriminator loss:0.7116567862031011\n",
      "average true return:0.5372383343143261\n",
      "-----------------------\n",
      "Training Step: 566\n",
      "generator loss:0.6261056559278428\n",
      "-----------------------\n"
     ]
    },
    {
     "name": "stderr",
     "output_type": "stream",
     "text": [
      "\r",
      "566it [04:43,  1.96it/s]"
     ]
    },
    {
     "name": "stdout",
     "output_type": "stream",
     "text": [
      "total discriminator loss:0.7034056146475782\n",
      "average true return:0.5302451190737424\n",
      "-----------------------\n",
      "Training Step: 567\n",
      "generator loss:0.6386691794825874\n",
      "-----------------------\n"
     ]
    },
    {
     "name": "stderr",
     "output_type": "stream",
     "text": [
      "\r",
      "567it [04:43,  1.97it/s]"
     ]
    },
    {
     "name": "stdout",
     "output_type": "stream",
     "text": [
      "total discriminator loss:0.7050514582705955\n",
      "average true return:0.5226602061830147\n",
      "-----------------------\n",
      "Training Step: 568\n",
      "generator loss:0.6596558163212427\n",
      "-----------------------\n"
     ]
    },
    {
     "name": "stderr",
     "output_type": "stream",
     "text": [
      "\r",
      "568it [04:44,  1.98it/s]"
     ]
    },
    {
     "name": "stdout",
     "output_type": "stream",
     "text": [
      "total discriminator loss:0.6986681688008718\n",
      "average true return:0.5172149284686647\n",
      "-----------------------\n",
      "Training Step: 569\n",
      "generator loss:0.6660796491711076\n",
      "-----------------------\n"
     ]
    },
    {
     "name": "stderr",
     "output_type": "stream",
     "text": [
      "\r",
      "569it [04:44,  1.98it/s]"
     ]
    },
    {
     "name": "stdout",
     "output_type": "stream",
     "text": [
      "total discriminator loss:0.7012495873077972\n",
      "average true return:0.5102589587511436\n",
      "-----------------------\n",
      "Training Step: 570\n",
      "generator loss:0.679868801428128\n",
      "-----------------------\n"
     ]
    },
    {
     "name": "stderr",
     "output_type": "stream",
     "text": [
      "\r",
      "570it [04:45,  1.97it/s]"
     ]
    },
    {
     "name": "stdout",
     "output_type": "stream",
     "text": [
      "total discriminator loss:0.6977217561933696\n",
      "average true return:0.5031030688486571\n",
      "-----------------------\n",
      "Training Step: 571\n",
      "generator loss:0.6948117091859569\n",
      "-----------------------\n"
     ]
    },
    {
     "name": "stderr",
     "output_type": "stream",
     "text": [
      "\r",
      "571it [04:45,  1.98it/s]"
     ]
    },
    {
     "name": "stdout",
     "output_type": "stream",
     "text": [
      "total discriminator loss:0.6923209678458503\n",
      "average true return:0.49805903020272635\n",
      "-----------------------\n",
      "Training Step: 572\n",
      "generator loss:0.7181681047870414\n",
      "-----------------------\n"
     ]
    },
    {
     "name": "stderr",
     "output_type": "stream",
     "text": [
      "\r",
      "572it [04:46,  1.99it/s]"
     ]
    },
    {
     "name": "stdout",
     "output_type": "stream",
     "text": [
      "total discriminator loss:0.6904187638482104\n",
      "average true return:0.4924391460610088\n",
      "-----------------------\n",
      "Training Step: 573\n",
      "generator loss:0.7246669271749668\n",
      "-----------------------\n"
     ]
    },
    {
     "name": "stderr",
     "output_type": "stream",
     "text": [
      "\r",
      "573it [04:46,  1.99it/s]"
     ]
    },
    {
     "name": "stdout",
     "output_type": "stream",
     "text": [
      "total discriminator loss:0.6908850723926973\n",
      "average true return:0.4876735838545394\n",
      "-----------------------\n",
      "Training Step: 574\n",
      "generator loss:0.7380653565028472\n",
      "-----------------------\n"
     ]
    },
    {
     "name": "stderr",
     "output_type": "stream",
     "text": [
      "\r",
      "574it [04:47,  1.98it/s]"
     ]
    },
    {
     "name": "stdout",
     "output_type": "stream",
     "text": [
      "total discriminator loss:0.6897385326864528\n",
      "average true return:0.48272330458383766\n",
      "-----------------------\n",
      "Training Step: 575\n",
      "generator loss:0.7517829713785509\n",
      "-----------------------\n"
     ]
    },
    {
     "name": "stderr",
     "output_type": "stream",
     "text": [
      "\r",
      "575it [04:47,  1.98it/s]"
     ]
    },
    {
     "name": "stdout",
     "output_type": "stream",
     "text": [
      "total discriminator loss:0.6896567605956558\n",
      "average true return:0.475831498713409\n",
      "-----------------------\n",
      "Training Step: 576\n",
      "generator loss:0.7619642436323946\n",
      "-----------------------\n"
     ]
    },
    {
     "name": "stderr",
     "output_type": "stream",
     "text": [
      "\r",
      "576it [04:48,  1.94it/s]"
     ]
    },
    {
     "name": "stdout",
     "output_type": "stream",
     "text": [
      "total discriminator loss:0.6816678007094933\n",
      "average true return:0.4718714534159477\n",
      "-----------------------\n",
      "Training Step: 577\n",
      "generator loss:0.7716002046606936\n",
      "-----------------------\n"
     ]
    },
    {
     "name": "stderr",
     "output_type": "stream",
     "text": [
      "\r",
      "577it [04:48,  1.96it/s]"
     ]
    },
    {
     "name": "stdout",
     "output_type": "stream",
     "text": [
      "total discriminator loss:0.6843161617448286\n",
      "average true return:0.469293758572385\n",
      "-----------------------\n",
      "Training Step: 578\n",
      "generator loss:0.7820760896111836\n",
      "-----------------------\n"
     ]
    },
    {
     "name": "stderr",
     "output_type": "stream",
     "text": [
      "\r",
      "578it [04:49,  1.95it/s]"
     ]
    },
    {
     "name": "stdout",
     "output_type": "stream",
     "text": [
      "total discriminator loss:0.6816705316293743\n",
      "average true return:0.4638221170913659\n",
      "-----------------------\n",
      "Training Step: 579\n",
      "generator loss:0.7909763826587741\n",
      "-----------------------\n"
     ]
    },
    {
     "name": "stderr",
     "output_type": "stream",
     "text": [
      "\r",
      "579it [04:49,  1.96it/s]"
     ]
    },
    {
     "name": "stdout",
     "output_type": "stream",
     "text": [
      "total discriminator loss:0.681457054979006\n",
      "average true return:0.4604582090209293\n",
      "-----------------------\n",
      "Training Step: 580\n",
      "generator loss:0.799646107245454\n",
      "-----------------------\n"
     ]
    },
    {
     "name": "stderr",
     "output_type": "stream",
     "text": [
      "\r",
      "580it [04:50,  1.98it/s]"
     ]
    },
    {
     "name": "stdout",
     "output_type": "stream",
     "text": [
      "total discriminator loss:0.6819481680691459\n",
      "average true return:0.4612461268862757\n",
      "-----------------------\n",
      "Training Step: 581\n",
      "generator loss:0.8037833868244948\n",
      "-----------------------\n"
     ]
    },
    {
     "name": "stderr",
     "output_type": "stream",
     "text": [
      "\r",
      "581it [04:50,  1.98it/s]"
     ]
    },
    {
     "name": "stdout",
     "output_type": "stream",
     "text": [
      "total discriminator loss:0.6789359683421367\n",
      "average true return:0.45856789756512956\n",
      "-----------------------\n",
      "Training Step: 582\n",
      "generator loss:0.8081632629429586\n",
      "-----------------------\n"
     ]
    },
    {
     "name": "stderr",
     "output_type": "stream",
     "text": [
      "\r",
      "582it [04:51,  1.95it/s]"
     ]
    },
    {
     "name": "stdout",
     "output_type": "stream",
     "text": [
      "total discriminator loss:0.6782640445019879\n",
      "average true return:0.4554750533753965\n",
      "-----------------------\n",
      "Training Step: 583\n",
      "generator loss:0.8191663354096114\n",
      "-----------------------\n"
     ]
    },
    {
     "name": "stderr",
     "output_type": "stream",
     "text": [
      "\r",
      "583it [04:51,  1.94it/s]"
     ]
    },
    {
     "name": "stdout",
     "output_type": "stream",
     "text": [
      "total discriminator loss:0.6758391399742878\n",
      "average true return:0.4544574877523837\n",
      "-----------------------\n",
      "Training Step: 584\n",
      "generator loss:0.8111820008933817\n",
      "-----------------------\n"
     ]
    },
    {
     "name": "stderr",
     "output_type": "stream",
     "text": [
      "\r",
      "584it [04:52,  1.97it/s]"
     ]
    },
    {
     "name": "stdout",
     "output_type": "stream",
     "text": [
      "total discriminator loss:0.6748942060860234\n",
      "average true return:0.4550359988621854\n",
      "-----------------------\n",
      "Training Step: 585\n",
      "generator loss:0.8290072236814797\n",
      "-----------------------\n"
     ]
    },
    {
     "name": "stderr",
     "output_type": "stream",
     "text": [
      "\r",
      "585it [04:52,  1.97it/s]"
     ]
    },
    {
     "name": "stdout",
     "output_type": "stream",
     "text": [
      "total discriminator loss:0.6781050395198932\n",
      "average true return:0.4477951365438062\n",
      "-----------------------\n",
      "Training Step: 586\n",
      "generator loss:0.8292040175918809\n",
      "-----------------------\n"
     ]
    },
    {
     "name": "stderr",
     "output_type": "stream",
     "text": [
      "\r",
      "586it [04:53,  1.98it/s]"
     ]
    },
    {
     "name": "stdout",
     "output_type": "stream",
     "text": [
      "total discriminator loss:0.674616431817546\n",
      "average true return:0.4527094611156901\n",
      "-----------------------\n",
      "Training Step: 587\n",
      "generator loss:0.8321060387758679\n",
      "-----------------------\n"
     ]
    },
    {
     "name": "stderr",
     "output_type": "stream",
     "text": [
      "\r",
      "587it [04:53,  1.98it/s]"
     ]
    },
    {
     "name": "stdout",
     "output_type": "stream",
     "text": [
      "total discriminator loss:0.6715475111837652\n",
      "average true return:0.4498104899109249\n",
      "-----------------------\n",
      "Training Step: 588\n",
      "generator loss:0.8274397893161827\n",
      "-----------------------\n"
     ]
    },
    {
     "name": "stderr",
     "output_type": "stream",
     "text": [
      "\r",
      "588it [04:54,  1.96it/s]"
     ]
    },
    {
     "name": "stdout",
     "output_type": "stream",
     "text": [
      "total discriminator loss:0.6687051751639523\n",
      "average true return:0.4510168970996672\n",
      "-----------------------\n",
      "Training Step: 589\n",
      "generator loss:0.8362151585596604\n",
      "-----------------------\n"
     ]
    },
    {
     "name": "stderr",
     "output_type": "stream",
     "text": [
      "\r",
      "589it [04:54,  1.98it/s]"
     ]
    },
    {
     "name": "stdout",
     "output_type": "stream",
     "text": [
      "total discriminator loss:0.667955713206232\n",
      "average true return:0.45435336486959715\n",
      "-----------------------\n",
      "Training Step: 590\n",
      "generator loss:0.8359062248074765\n",
      "-----------------------\n"
     ]
    },
    {
     "name": "stderr",
     "output_type": "stream",
     "text": [
      "\r",
      "590it [04:55,  2.02it/s]"
     ]
    },
    {
     "name": "stdout",
     "output_type": "stream",
     "text": [
      "total discriminator loss:0.6676153474252858\n",
      "average true return:0.45469613382035856\n",
      "-----------------------\n",
      "Training Step: 591\n",
      "generator loss:0.8279691993154833\n",
      "-----------------------\n"
     ]
    },
    {
     "name": "stderr",
     "output_type": "stream",
     "text": [
      "\r",
      "591it [04:55,  1.88it/s]"
     ]
    },
    {
     "name": "stdout",
     "output_type": "stream",
     "text": [
      "total discriminator loss:0.6605742671160889\n",
      "average true return:0.4535996827748948\n",
      "-----------------------\n",
      "Training Step: 592\n",
      "generator loss:0.823673849380081\n",
      "-----------------------\n"
     ]
    },
    {
     "name": "stderr",
     "output_type": "stream",
     "text": [
      "\r",
      "592it [04:56,  1.90it/s]"
     ]
    },
    {
     "name": "stdout",
     "output_type": "stream",
     "text": [
      "total discriminator loss:0.6684186156947036\n",
      "average true return:0.4565647423469167\n",
      "-----------------------\n",
      "Training Step: 593\n",
      "generator loss:0.8195901111014985\n",
      "-----------------------\n"
     ]
    },
    {
     "name": "stderr",
     "output_type": "stream",
     "text": [
      "\r",
      "593it [04:56,  1.93it/s]"
     ]
    },
    {
     "name": "stdout",
     "output_type": "stream",
     "text": [
      "total discriminator loss:0.6616075677188071\n",
      "average true return:0.4621802934165125\n",
      "-----------------------\n",
      "Training Step: 594\n",
      "generator loss:0.8122488009009659\n",
      "-----------------------\n"
     ]
    },
    {
     "name": "stderr",
     "output_type": "stream",
     "text": [
      "\r",
      "594it [04:57,  1.95it/s]"
     ]
    },
    {
     "name": "stdout",
     "output_type": "stream",
     "text": [
      "total discriminator loss:0.6614483712114092\n",
      "average true return:0.46672370410105757\n",
      "-----------------------\n",
      "Training Step: 595\n",
      "generator loss:0.8161433726431417\n",
      "-----------------------\n"
     ]
    },
    {
     "name": "stderr",
     "output_type": "stream",
     "text": [
      "\r",
      "595it [04:57,  1.95it/s]"
     ]
    },
    {
     "name": "stdout",
     "output_type": "stream",
     "text": [
      "total discriminator loss:0.6587081965344876\n",
      "average true return:0.4683066568662657\n",
      "-----------------------\n",
      "Training Step: 596\n",
      "generator loss:0.812848031899248\n",
      "-----------------------\n"
     ]
    },
    {
     "name": "stderr",
     "output_type": "stream",
     "text": [
      "\r",
      "596it [04:58,  1.98it/s]"
     ]
    },
    {
     "name": "stdout",
     "output_type": "stream",
     "text": [
      "total discriminator loss:0.6486298907287561\n",
      "average true return:0.46536380356352974\n",
      "-----------------------\n",
      "Training Step: 597\n",
      "generator loss:0.8099643958244711\n",
      "-----------------------\n"
     ]
    },
    {
     "name": "stderr",
     "output_type": "stream",
     "text": [
      "\r",
      "597it [04:58,  1.99it/s]"
     ]
    },
    {
     "name": "stdout",
     "output_type": "stream",
     "text": [
      "total discriminator loss:0.6593067909609808\n",
      "average true return:0.46230420325665245\n",
      "-----------------------\n",
      "Training Step: 598\n",
      "generator loss:0.8083794414011684\n",
      "-----------------------\n"
     ]
    },
    {
     "name": "stderr",
     "output_type": "stream",
     "text": [
      "\r",
      "598it [04:59,  1.98it/s]"
     ]
    },
    {
     "name": "stdout",
     "output_type": "stream",
     "text": [
      "total discriminator loss:0.650109196326152\n",
      "average true return:0.4660733597857603\n",
      "-----------------------\n",
      "Training Step: 599\n",
      "generator loss:0.8097805085223673\n",
      "-----------------------\n"
     ]
    },
    {
     "name": "stderr",
     "output_type": "stream",
     "text": [
      "\r",
      "599it [04:59,  1.99it/s]"
     ]
    },
    {
     "name": "stdout",
     "output_type": "stream",
     "text": [
      "total discriminator loss:0.6550950872533259\n",
      "average true return:0.46924187446927107\n",
      "-----------------------\n",
      "Training Step: 600\n",
      "generator loss:0.8056709010537201\n",
      "-----------------------\n"
     ]
    },
    {
     "name": "stderr",
     "output_type": "stream",
     "text": [
      "\r",
      "600it [05:00,  2.05it/s]"
     ]
    },
    {
     "name": "stdout",
     "output_type": "stream",
     "text": [
      "total discriminator loss:0.6398206754259356\n",
      "average true return:0.4713333180874846\n",
      "-----------------------\n",
      "Training Step: 601\n",
      "generator loss:0.8087907771123403\n",
      "-----------------------\n"
     ]
    },
    {
     "name": "stderr",
     "output_type": "stream",
     "text": [
      "\r",
      "601it [05:00,  2.12it/s]"
     ]
    },
    {
     "name": "stdout",
     "output_type": "stream",
     "text": [
      "total discriminator loss:0.6430298783060621\n",
      "average true return:0.47449136479115916\n",
      "-----------------------\n",
      "Training Step: 602\n",
      "generator loss:0.819094781403462\n",
      "-----------------------\n"
     ]
    },
    {
     "name": "stderr",
     "output_type": "stream",
     "text": [
      "602it [05:01,  2.00it/s]"
     ]
    },
    {
     "name": "stdout",
     "output_type": "stream",
     "text": [
      "total discriminator loss:0.6421203099235343\n",
      "average true return:0.47241850163878907\n",
      "-----------------------\n"
     ]
    },
    {
     "name": "stderr",
     "output_type": "stream",
     "text": [
      "\n"
     ]
    }
   ],
   "source": [
    "_G_STEPS = 1\n",
    "_D_STEPS = 1\n",
    "\n",
    "average_true_return_history = []\n",
    "for event_type_batch, _ in tqdm(train_dataset.take(_TOTAL_STEPS)):\n",
    "    step += 1\n",
    "    print('Training Step:', step)\n",
    "    # train the generator\n",
    "    for _ in range(_G_STEPS):\n",
    "        gen_loss = train_generator_gumbel(G, D, BATCH_SIZE, T, verbose=True, optimizer=G_optimizer)\n",
    "        gen_loss_history.append(gen_loss.numpy())\n",
    "    \n",
    "    # train the discriminator\n",
    "    for _ in range(_D_STEPS):\n",
    "        disc_loss, ave_true_return = train_discriminator_gumbel(event_type_batch, G, D, BATCH_SIZE, T, verbose=True, optimizer=D_optimizer)\n",
    "        disc_loss_history.append(disc_loss.numpy())\n",
    "        average_true_return_history.append(ave_true_return.numpy())"
   ]
  },
  {
   "cell_type": "code",
   "execution_count": 48,
   "id": "floral-annual",
   "metadata": {},
   "outputs": [
    {
     "data": {
      "text/plain": [
       "Text(0.5, 0, 'Training steps')"
      ]
     },
     "execution_count": 48,
     "metadata": {},
     "output_type": "execute_result"
    },
    {
     "data": {
      "image/png": "[encoded data removed]",
      "text/plain": [
       "<Figure size 600x400 with 1 Axes>"
      ]
     },
     "metadata": {
      "needs_background": "light"
     },
     "output_type": "display_data"
    },
    {
     "data": {
      "image/png": "[encoded data removed]",
      "text/plain": [
       "<Figure size 600x400 with 1 Axes>"
      ]
     },
     "metadata": {
      "needs_background": "light"
     },
     "output_type": "display_data"
    }
   ],
   "source": [
    "x = range(len(gen_loss_history))\n",
    "plt.figure(dpi=100)\n",
    "plt.plot(x, gen_loss_history)\n",
    "plt.title('Generator Loss History')\n",
    "plt.xlabel('Training steps')\n",
    "\n",
    "x = range(len(disc_loss_history))\n",
    "plt.figure(dpi=100)\n",
    "plt.plot(x, disc_loss_history)\n",
    "plt.title('Discriminator Loss History')\n",
    "plt.xlabel('Training steps')"
   ]
  },
  {
   "cell_type": "markdown",
   "id": "accurate-fossil",
   "metadata": {},
   "source": [
    "## Compare generated sequences between Random G and trained G"
   ]
  },
  {
   "cell_type": "code",
   "execution_count": 51,
   "id": "tropical-disney",
   "metadata": {},
   "outputs": [],
   "source": [
    "G0 = build_G(\n",
    "    batch_size = BATCH_SIZE,\n",
    "    event_vocab_dim = EVENT_VOCAB_DIM,\n",
    "    emb_dim = EMB_DIM,\n",
    "    hidden_dim= HIDDEN_DIM,\n",
    ")\n",
    "seqs_random = generate_sequences_gumbel(1000, G0,BATCH_SIZE, T)"
   ]
  },
  {
   "cell_type": "code",
   "execution_count": 52,
   "id": "muslim-illustration",
   "metadata": {},
   "outputs": [],
   "source": [
    "seqs_trained = generate_sequences_gumbel(1000, G, BATCH_SIZE, T)"
   ]
  },
  {
   "cell_type": "code",
   "execution_count": 54,
   "id": "greater-latvia",
   "metadata": {},
   "outputs": [
    {
     "data": {
      "text/plain": [
       "<tf.Tensor: shape=(1000, 21), dtype=int64, numpy=\n",
       "array([[1, 2, 1, ..., 5, 2, 2],\n",
       "       [1, 0, 2, ..., 0, 2, 3],\n",
       "       [1, 2, 0, ..., 4, 4, 5],\n",
       "       ...,\n",
       "       [1, 2, 4, ..., 1, 3, 0],\n",
       "       [1, 3, 5, ..., 5, 4, 0],\n",
       "       [1, 1, 2, ..., 0, 3, 4]])>"
      ]
     },
     "execution_count": 54,
     "metadata": {},
     "output_type": "execute_result"
    }
   ],
   "source": [
    "tf.argmax(seqs_random, axis=2)"
   ]
  },
  {
   "cell_type": "code",
   "execution_count": 55,
   "id": "threaded-kernel",
   "metadata": {},
   "outputs": [
    {
     "data": {
      "text/plain": [
       "<tf.Tensor: shape=(1000, 21), dtype=int64, numpy=\n",
       "array([[1, 4, 3, ..., 2, 3, 5],\n",
       "       [1, 4, 4, ..., 3, 4, 3],\n",
       "       [1, 3, 4, ..., 4, 4, 3],\n",
       "       ...,\n",
       "       [1, 5, 2, ..., 3, 3, 3],\n",
       "       [1, 5, 4, ..., 4, 3, 3],\n",
       "       [1, 3, 4, ..., 4, 4, 2]])>"
      ]
     },
     "execution_count": 55,
     "metadata": {},
     "output_type": "execute_result"
    }
   ],
   "source": [
    "tf.argmax(seqs_trained, axis=2)"
   ]
  },
  {
   "cell_type": "markdown",
   "id": "opposed-cuisine",
   "metadata": {},
   "source": [
    "## Save trained G and D weights"
   ]
  },
  {
   "cell_type": "code",
   "execution_count": 57,
   "id": "successful-career",
   "metadata": {},
   "outputs": [],
   "source": [
    "if not os.path.exists(model_save_dir + '/G_run_2021-03-26'):\n",
    "    os.makedirs(model_save_dir + '/G_run_2021-03-26')\n",
    "\n",
    "G_save_path = model_save_dir + '/G_run_2021-03-26/model.tf'\n",
    "                \n",
    "if not os.path.exists(model_save_dir + '/D_run_2021-03-26'):\n",
    "    os.makedirs(model_save_dir + '/D_run_2021-03-26')\n",
    "\n",
    "D_save_path = model_save_dir + '/D_run_2021-03-26/model.tf'\n",
    "\n",
    "G.save_weights(G_save_path)\n",
    "D.save_weights(D_save_path)"
   ]
  },
  {
   "cell_type": "code",
   "execution_count": null,
   "id": "centered-selling",
   "metadata": {},
   "outputs": [],
   "source": []
  }
 ],
 "metadata": {
  "kernelspec": {
   "display_name": "Python 3",
   "language": "python",
   "name": "python3"
  },
  "language_info": {
   "codemirror_mode": {
    "name": "ipython",
    "version": 3
   },
   "file_extension": ".py",
   "mimetype": "text/x-python",
   "name": "python",
   "nbconvert_exporter": "python",
   "pygments_lexer": "ipython3",
   "version": "3.7.9"
  }
 },
 "nbformat": 4,
 "nbformat_minor": 5
}
