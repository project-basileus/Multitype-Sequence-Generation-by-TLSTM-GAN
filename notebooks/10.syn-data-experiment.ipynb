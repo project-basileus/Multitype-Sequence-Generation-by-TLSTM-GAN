{
 "cells": [
  {
   "cell_type": "code",
   "execution_count": 37,
   "id": "starting-plastic",
   "metadata": {},
   "outputs": [],
   "source": [
    "import os \n",
    "import sys\n",
    "from tqdm import tqdm\n",
    "import importlib\n",
    "import numpy as np\n",
    "import pickle\n",
    "import tensorflow as tf\n",
    "import matplotlib.pyplot as plt\n",
    "\n",
    "module_path = \"/home/lun/project-basileus/multitype-sequence-generation-by-tlstm-gan/\"\n",
    "data_path = \"/home/lun/project-basileus/multitype-sequence-generation-by-tlstm-gan/data/long_seqs_v11/\"\n",
    "model_save_dir = '/home/lun/project-basileus/multitype-sequence-generation-by-tlstm-gan/models/combined-gs-v11'\n",
    "\n",
    "if module_path not in sys.path:\n",
    "    sys.path.append(module_path)"
   ]
  },
  {
   "cell_type": "code",
   "execution_count": 38,
   "id": "blessed-simulation",
   "metadata": {},
   "outputs": [],
   "source": [
    "BATCH_SIZE = 256\n",
    "T = 20\n",
    "VOCAB = ['start', 'view', 'click', 'install']\n",
    "EVENT_VOCAB_DIM = len(VOCAB)\n",
    "EMB_DIM = 16\n",
    "HIDDEN_DIM = 128"
   ]
  },
  {
   "cell_type": "markdown",
   "id": "juvenile-object",
   "metadata": {},
   "source": [
    "## Load Data"
   ]
  },
  {
   "cell_type": "code",
   "execution_count": 106,
   "id": "reflected-gamma",
   "metadata": {},
   "outputs": [],
   "source": [
    "pos_data_path = os.path.join(data_path, 'positive_long_sequences.pickle')\n",
    "# neg_data_path = os.path.join(data_path, 'negative_long_sequences.pickle')\n",
    "\n",
    "def load_sequence_from_pickle_to_numpy(pickle_file_path, use_init_token=False):\n",
    "    \"\"\"\n",
    "        A list of sequence in format of (event_type, time_delta)\n",
    "    :param pickle_file_path: e.g. /.../project-basileus/seq-gan/data/fixed_length/valid_sequences.pickle\n",
    "    :return: (event_type_seqs, time_delta)\n",
    "    \"\"\"\n",
    "    with open(pickle_file_path, 'rb') as f:\n",
    "        raw_seqs = pickle.load(f)\n",
    "\n",
    "    if not raw_seqs or not raw_seqs[0]:\n",
    "        return np.array([]), np.array([])\n",
    "\n",
    "    N = len(raw_seqs)\n",
    "    T = len(raw_seqs[0])\n",
    "    \n",
    "    seqs = np.array(raw_seqs)\n",
    "        \n",
    "    et_seqs = seqs[:, :, 0].astype(np.float64).reshape((N, T, 1))\n",
    "    ts_seqs = seqs[:, :, 1].astype(np.float64).reshape((N, T, 1))\n",
    "    \n",
    "    return et_seqs, ts_seqs\n",
    "\n",
    "raw_pos_event_type_seqs, raw_pos_timestamp_seqs = load_sequence_from_pickle_to_numpy(pos_data_path, use_init_token=False)"
   ]
  },
  {
   "cell_type": "code",
   "execution_count": 107,
   "id": "saving-sacramento",
   "metadata": {},
   "outputs": [],
   "source": [
    "# cast indicator data into one-hot\n",
    "pos_event_type_seqs = tf.cast(raw_pos_event_type_seqs, tf.int32)\n",
    "pos_event_type_seqs = tf.one_hot(pos_event_type_seqs, depth=EVENT_VOCAB_DIM, axis=2, dtype=tf.float64)\n",
    "pos_event_type_seqs = tf.squeeze(pos_event_type_seqs, axis=3)"
   ]
  },
  {
   "cell_type": "code",
   "execution_count": 141,
   "id": "stylish-croatia",
   "metadata": {},
   "outputs": [],
   "source": [
    "def zcore_norm(data):\n",
    "    N = data.shape[0]\n",
    "    \n",
    "    _mean = tf.reduce_mean(data, axis=0)\n",
    "    _mean = tf.expand_dims(_mean, axis=0)\n",
    "    _mean = tf.repeat(_mean, N, axis=0)\n",
    "\n",
    "    _std = tf.math.reduce_std(data, axis=0)\n",
    "    _std = tf.expand_dims(_std, axis=0)\n",
    "    _std = tf.repeat(_std, N, axis=0)\n",
    "\n",
    "    return (data - _mean) / _std\n",
    "\n",
    "def get_mean_std(data):\n",
    "    _mean = tf.reduce_mean(data, axis=0)\n",
    "    _mean = tf.expand_dims(_mean, axis=0)\n",
    "\n",
    "    _std = tf.math.reduce_std(data, axis=0)\n",
    "    _std = tf.expand_dims(_std, axis=0)\n",
    "\n",
    "    return _mean, _std\n",
    "\n",
    "def apply_mean_std(data, _mean, _std):\n",
    "    N = data.shape[0]\n",
    "    _mean = tf.repeat(_mean, N, axis=0)\n",
    "    _std = tf.repeat(_std, N, axis=0)\n",
    "\n",
    "    return data * _std + _mean\n",
    "\n",
    "pos_timestamp_seqs = zcore_norm(raw_pos_timestamp_seqs)"
   ]
  },
  {
   "cell_type": "code",
   "execution_count": 16,
   "id": "prepared-kansas",
   "metadata": {},
   "outputs": [],
   "source": [
    "def create_dataset(features: np.array, labels: np.array, batch_size=2, epochs=10, buffer_size=10000):\n",
    "    \"\"\"\n",
    "    Create dataset from numpy arrays\n",
    "    \"\"\"\n",
    "    dataset = tf.data.Dataset.from_tensor_slices((features, labels))\n",
    "    dataset = dataset.shuffle(buffer_size)\n",
    "    dataset = dataset.repeat(epochs)\n",
    "    dataset = dataset.batch(batch_size, drop_remainder=True)\n",
    "    return dataset"
   ]
  },
  {
   "cell_type": "code",
   "execution_count": 17,
   "id": "deluxe-shark",
   "metadata": {},
   "outputs": [],
   "source": [
    "def generate_initial_noise(max_token=EVENT_VOCAB_DIM, time_mean=0, time_std=1):\n",
    "    init_token_noise_index = tf.random.uniform(shape=[BATCH_SIZE, 1, 1], maxval=max_token, dtype=tf.int32)\n",
    "    init_token_noise = tf.squeeze(tf.one_hot(init_token_noise_index, EVENT_VOCAB_DIM, axis=2, dtype=tf.float64), axis=3)\n",
    "    init_time_noise = tf.random.truncated_normal(shape=[BATCH_SIZE, 1, 1], mean=time_mean, stddev=time_std, dtype=tf.float64)\n",
    "    return init_token_noise, init_time_noise"
   ]
  },
  {
   "cell_type": "markdown",
   "id": "sensitive-organic",
   "metadata": {},
   "source": [
    "## Create multitype SeqGan"
   ]
  },
  {
   "cell_type": "code",
   "execution_count": 18,
   "id": "linear-sunrise",
   "metadata": {},
   "outputs": [],
   "source": [
    "import tensorflow as tf\n",
    "from tensorflow.keras import backend as K\n",
    "from tensorflow.keras.models import Model\n",
    "from tensorflow.keras import Sequential\n",
    "from tensorflow.keras.optimizers import Adam, SGD\n",
    "from tensorflow.keras.layers import Input, LSTM, Embedding, Reshape, Dense, Dropout, Activation, Multiply, Add, Lambda\n",
    "from tensorflow.keras import regularizers\n",
    "\n",
    "from sgtlstm.TimeLSTM import TimeLSTM0, TimeLSTM1, TimeLSTM2, TimeLSTM3\n",
    "\n",
    "tf.keras.backend.set_floatx('float64')\n",
    "\n",
    "def build_G(batch_size, event_vocab_dim, emb_dim, hidden_dim=16):\n",
    "    # inputs of Time-LSTM:\n",
    "    i_et = Input(batch_shape=(batch_size, None, event_vocab_dim), name='event_type')  # input of discrete feature event type\n",
    "    i_ts = Input(batch_shape=(batch_size, None, 1), name='time_delta_in')  # input of continuous feature timestamp\n",
    "\n",
    "    embed0 = Dense(emb_dim, name='dense_emb')(i_et) # dense matrix size: 6*16\n",
    "    merged0 = tf.concat([embed0, i_ts], axis=2)\n",
    "\n",
    "    hm = LSTM(hidden_dim,\n",
    "          name='lstm_token',\n",
    "          stateful=True,\n",
    "          return_sequences=False,\n",
    "          kernel_initializer=tf.keras.initializers.RandomNormal(stddev=0.1),\n",
    "          recurrent_initializer=tf.keras.initializers.RandomNormal(stddev=0.1),\n",
    "          bias_initializer=tf.keras.initializers.RandomNormal(stddev=0.1))(merged0)\n",
    "\n",
    "    \n",
    "    tm = LSTM(hidden_dim,\n",
    "          name='lstm_time',\n",
    "          stateful=True,\n",
    "          return_sequences=False,\n",
    "          kernel_initializer=tf.keras.initializers.RandomNormal(stddev=0.1),\n",
    "          recurrent_initializer=tf.keras.initializers.RandomNormal(stddev=0.1),\n",
    "          bias_initializer=tf.keras.initializers.RandomNormal(stddev=0.1))(merged0)\n",
    "    \n",
    "    \n",
    "    token_time_comb = tf.keras.layers.concatenate([hm, tm], axis=1)\n",
    "    \n",
    "    dense_combined = Dense(hidden_dim, \n",
    "                           activation='elu',\n",
    "                           name='dense_combination')(token_time_comb)\n",
    "        \n",
    "    token_logits = Dense(event_vocab_dim,\n",
    "                   activation='linear',\n",
    "                   name='dense_token',\n",
    "                   kernel_initializer=tf.keras.initializers.RandomNormal(stddev=0.1),\n",
    "                   bias_initializer=tf.keras.initializers.RandomNormal(stddev=0.1))(dense_combined)\n",
    "        \n",
    "    time_delta_out = Dense(1,\n",
    "                   activation='linear',\n",
    "                   name='dense_time',\n",
    "                   kernel_initializer=tf.keras.initializers.RandomNormal(stddev=0.1),\n",
    "                   bias_initializer=tf.keras.initializers.RandomNormal(stddev=0.1))(dense_combined)\n",
    "    \n",
    "    generator = Model(\n",
    "        inputs=[i_et, i_ts],\n",
    "        outputs=[token_logits, time_delta_out])\n",
    "        \n",
    "    return generator"
   ]
  },
  {
   "cell_type": "code",
   "execution_count": 19,
   "id": "alternate-federation",
   "metadata": {},
   "outputs": [],
   "source": [
    "def build_D(batch_size, T, event_vocab_dim, emb_dim, hidden_dim, dropout_rate=0.25):\n",
    "    # normal LSTM\n",
    "    i_et = Input(batch_shape=(batch_size, None, event_vocab_dim), name='event_type')  # input of discrete feature event type\n",
    "    i_ts = Input(batch_shape=(batch_size, None, 1), name='time_delta_in')  # input of continuous feature timestamp\n",
    "    \n",
    "    embed0 = Dense(emb_dim, name='dense_emb')(i_et) # dense matrix size: 6*16\n",
    "    merged0 = tf.concat([embed0, i_ts], axis=2)\n",
    "    \n",
    "    hm = LSTM(hidden_dim,\n",
    "          name='lstm_token',\n",
    "          stateful=True,\n",
    "          return_sequences=False,\n",
    "          kernel_initializer=tf.keras.initializers.RandomNormal(stddev=0.1),\n",
    "          recurrent_initializer=tf.keras.initializers.RandomNormal(stddev=0.1),\n",
    "          bias_initializer=tf.keras.initializers.RandomNormal(stddev=0.1))(merged0)\n",
    "\n",
    "    tm = LSTM(hidden_dim,\n",
    "          name='lstm_time',\n",
    "          stateful=True,\n",
    "          return_sequences=False,\n",
    "          kernel_initializer=tf.keras.initializers.RandomNormal(stddev=0.1),\n",
    "          recurrent_initializer=tf.keras.initializers.RandomNormal(stddev=0.1),\n",
    "          bias_initializer=tf.keras.initializers.RandomNormal(stddev=0.1))(merged0)\n",
    "    \n",
    "    token_time_comb = tf.keras.layers.concatenate([hm, tm], axis=1)\n",
    "    \n",
    "    dropped = Dropout(rate=dropout_rate)(token_time_comb)\n",
    "    \n",
    "    prob = Dense(1, \n",
    "             activation='sigmoid',\n",
    "             name='final',\n",
    "             kernel_initializer=tf.keras.initializers.TruncatedNormal(mean=0.0, stddev=0.1, seed=None),\n",
    "             bias_initializer=tf.keras.initializers.Constant(value=0.1))(dropped)\n",
    "        \n",
    "    discriminator = Model(\n",
    "        inputs=[i_et, i_ts],\n",
    "        outputs=prob)\n",
    "    return discriminator"
   ]
  },
  {
   "cell_type": "code",
   "execution_count": 20,
   "id": "healthy-playlist",
   "metadata": {},
   "outputs": [],
   "source": [
    "# import tensorflow as tf\n",
    "# from tensorflow.keras import backend as K\n",
    "# from tensorflow.keras.models import Model\n",
    "# from tensorflow.keras import Sequential\n",
    "# from tensorflow.keras.optimizers import Adam, SGD\n",
    "# from tensorflow.keras.layers import Input, LSTM, Embedding, Reshape, Dense, Dropout, Activation, Multiply, Add, Lambda\n",
    "# from tensorflow.keras import regularizers\n",
    "\n",
    "# from sgtlstm.TimeLSTM import TimeLSTM0, TimeLSTM1, TimeLSTM2, TimeLSTM3\n",
    "\n",
    "# tf.keras.backend.set_floatx('float64')\n",
    "\n",
    "# def build_G(batch_size, event_vocab_dim, emb_dim, hidden_dim=16):\n",
    "#     # inputs of Time-LSTM:\n",
    "#     i_et = Input(batch_shape=(batch_size, None, event_vocab_dim), name='event_type')  # input of discrete feature event type\n",
    "#     i_ts = Input(batch_shape=(batch_size, None, 1), name='time_delta_in')  # input of continuous feature timestamp\n",
    "\n",
    "#     embed0 = Dense(emb_dim, name='dense_emb')(i_et) # dense matrix size: 6*16\n",
    "#     merged0 = tf.concat([embed0, i_ts], axis=2)\n",
    "    \n",
    "#     hm, tm = TimeLSTM1(hidden_dim,\n",
    "#                        name='time_lstm',\n",
    "#                        stateful=True, \n",
    "#                        return_sequences=False,\n",
    "#                        kernel_initializer=tf.keras.initializers.RandomNormal(stddev=0.1),\n",
    "#                        recurrent_initializer=tf.keras.initializers.RandomNormal(stddev=0.1),\n",
    "#                        time_kernel_initializer=tf.keras.initializers.RandomNormal(stddev=0.1),\n",
    "#                        bias_initializer=tf.keras.initializers.RandomNormal(stddev=0.1))(merged0)    \n",
    "        \n",
    "#     token_logits = Dense(event_vocab_dim,\n",
    "#                    activation='linear',\n",
    "#                    name='dense_token',\n",
    "#                    kernel_initializer=tf.keras.initializers.RandomNormal(stddev=0.1),\n",
    "#                    bias_initializer=tf.keras.initializers.RandomNormal(stddev=0.1))(hm)\n",
    "        \n",
    "#     time_delta_out = Dense(1,\n",
    "#                    activation='linear',\n",
    "#                    name='dense_time',\n",
    "#                    kernel_initializer=tf.keras.initializers.RandomNormal(stddev=0.1),\n",
    "#                    bias_initializer=tf.keras.initializers.RandomNormal(stddev=0.1))(tm)\n",
    "    \n",
    "#     generator = Model(\n",
    "#         inputs=[i_et, i_ts],\n",
    "#         outputs=[token_logits, time_delta_out])\n",
    "        \n",
    "#     return generator"
   ]
  },
  {
   "cell_type": "code",
   "execution_count": 21,
   "id": "worthy-diameter",
   "metadata": {},
   "outputs": [],
   "source": [
    "# def build_D(batch_size, T, event_vocab_dim, emb_dim, hidden_dim, dropout_rate=0.25):\n",
    "#     # normal LSTM\n",
    "#     i_et = Input(batch_shape=(batch_size, None, event_vocab_dim), name='event_type')  # input of discrete feature event type\n",
    "#     i_ts = Input(batch_shape=(batch_size, None, 1), name='time_delta_in')  # input of continuous feature timestamp\n",
    "    \n",
    "#     embed0 = Dense(emb_dim, name='dense_emb')(i_et) # dense matrix size: 6*16\n",
    "#     merged0 = tf.concat([embed0, i_ts], axis=2)\n",
    "    \n",
    "#     hm, tm = TimeLSTM1(hidden_dim,\n",
    "#                        name='time_lstm',\n",
    "#                        stateful=True, \n",
    "#                        return_sequences=False,\n",
    "#                        kernel_initializer=tf.keras.initializers.RandomNormal(stddev=0.1),\n",
    "#                        recurrent_initializer=tf.keras.initializers.RandomNormal(stddev=0.1),\n",
    "#                        time_kernel_initializer=tf.keras.initializers.RandomNormal(stddev=0.1),\n",
    "#                        bias_initializer=tf.keras.initializers.RandomNormal(stddev=0.1))(merged0)\n",
    "    \n",
    "#     token_time_comb = tf.keras.layers.concatenate([hm, tm], axis=1)\n",
    "    \n",
    "#     dropped = Dropout(rate=dropout_rate)(token_time_comb)\n",
    "    \n",
    "#     prob = Dense(1, \n",
    "#              activation='sigmoid',\n",
    "#              name='final',\n",
    "#              kernel_initializer=tf.keras.initializers.TruncatedNormal(mean=0.0, stddev=0.1, seed=None),\n",
    "#              bias_initializer=tf.keras.initializers.Constant(value=0.1))(dropped)\n",
    "        \n",
    "#     discriminator = Model(\n",
    "#         inputs=[i_et, i_ts],\n",
    "#         outputs=prob)\n",
    "#     return discriminator"
   ]
  },
  {
   "cell_type": "markdown",
   "id": "beneficial-neighborhood",
   "metadata": {},
   "source": [
    "## Define rollout and sequence generation"
   ]
  },
  {
   "cell_type": "code",
   "execution_count": 24,
   "id": "abroad-print",
   "metadata": {},
   "outputs": [],
   "source": [
    "def sample_gumbel(shape, eps=1e-20): \n",
    "    U = tf.random.uniform(shape,minval=0,maxval=1)   #gumbel noise\n",
    "#     print('noise:{}'.format(U))\n",
    "    return -tf.math.log(-tf.math.log(U + eps) + eps)\n",
    "\n",
    "def gumbel_softmax_sample(logits, temperature=0.5): \n",
    "    y = logits + tf.cast(sample_gumbel(tf.shape(logits)), logits.dtype)\n",
    "    return tf.nn.softmax( y / temperature)  # use softmax to approximate argmax\n",
    "\n",
    "def gumbel_softmax(logits, temperature=0.5, hard=True):\n",
    "    \"\"\"Sample from the Gumbel-Softmax distribution and optionally discretize.\n",
    "    Args:\n",
    "    logits: [batch_size, n_class] unnormalized log-probs\n",
    "    temperature: non-negative scalar\n",
    "    hard: if True, take argmax, but differentiate w.r.t. soft sample y\n",
    "    Returns:\n",
    "    [batch_size, n_class] sample from the Gumbel-Softmax distribution.\n",
    "    If hard=True, then the returned sample will be one-hot, otherwise it will\n",
    "    be a probabilitiy distribution that sums to 1 across classes\n",
    "    \"\"\"\n",
    "    logits = tf.cast(logits, tf.float64)\n",
    "    y = gumbel_softmax_sample(logits, temperature) # this is differentiable\n",
    "    if hard:\n",
    "        k = tf.shape(logits)[-1]\n",
    "        #y_hard = tf.cast(tf.one_hot(tf.argmax(y,1),k), y.dtype)\n",
    "        y_hard = tf.cast(tf.equal(y,tf.reduce_max(y,1,keepdims=True)),y.dtype)\n",
    "        y = tf.stop_gradient(y_hard - y) + y\n",
    "    return y\n"
   ]
  },
  {
   "cell_type": "code",
   "execution_count": 25,
   "id": "modified-mailman",
   "metadata": {},
   "outputs": [],
   "source": [
    "def rollout_from_initial_gumbel(G, batch_size, init_et, init_ts, L=T):\n",
    "    # Begin from dummy init state (init_token=1, init_timestamp=0.0)\n",
    "    all_state_et = init_et\n",
    "    all_state_ts = init_ts\n",
    "    \n",
    "    l_prefix = init_et.shape[1]\n",
    "    \n",
    "    G.reset_states()\n",
    "#     # LSTM-token\n",
    "#     G.layers[4].states[0] = tf.Variable(tf.random.normal(shape=(BATCH_SIZE, HIDDEN_DIM), mean=0.0, stddev=1, dtype=tf.float64))\n",
    "#     G.layers[4].states[1] = tf.Variable(tf.random.normal(shape=(BATCH_SIZE, HIDDEN_DIM), mean=0.0, stddev=1, dtype=tf.float64))\n",
    "#     # LSTM-time\n",
    "#     G.layers[5].states[0] = tf.Variable(tf.random.normal(shape=(BATCH_SIZE, HIDDEN_DIM), mean=0.0, stddev=1, dtype=tf.float64))\n",
    "#     G.layers[5].states[1] = tf.Variable(tf.random.normal(shape=(BATCH_SIZE, HIDDEN_DIM), mean=0.0, stddev=1, dtype=tf.float64))\n",
    "    \n",
    "    # Time-LSTM\n",
    "#     G.layers[4].states[0] = tf.Variable(tf.random.normal(shape=(BATCH_SIZE, HIDDEN_DIM), mean=0.0, stddev=1, dtype=tf.float64))\n",
    "#     G.layers[4].states[1] = tf.Variable(tf.random.normal(shape=(BATCH_SIZE, HIDDEN_DIM), mean=0.0, stddev=1, dtype=tf.float64))\n",
    "\n",
    "    for _ in range(L + 1 - l_prefix):  # sequence length\n",
    "        curr_state_et = all_state_et[:, -1:, :]\n",
    "        curr_state_ts = all_state_ts[:, -1:, :]\n",
    "        \n",
    "        # add step noise to token and time inputs\n",
    "#         curr_state_et = tf.cast(tf.where(curr_state_et == 1, 0.9, 0.1/3), tf.float64)\n",
    "#         curr_state_ts = curr_state_ts + tf.random.truncated_normal(shape=tf.shape(curr_state_ts), mean=0.0, stddev=1, dtype=tf.float64)\n",
    "\n",
    "        token_logits, time_delta_out = G([curr_state_et, curr_state_ts])\n",
    "        \n",
    "        # sample event types using Gumbel-softmax\n",
    "        sampled_et = gumbel_softmax(token_logits, temperature=0.9)  # this is differentiable\n",
    "        sampled_et = tf.reshape(sampled_et, [batch_size, 1, EVENT_VOCAB_DIM])        \n",
    "        sampled_et = tf.cast(sampled_et, dtype=tf.float64) # cast sampled_et into float\n",
    "        \n",
    "        time_delta_out = tf.reshape(time_delta_out, [batch_size, 1, 1]) \n",
    "        \n",
    "        # Do NOT stop genererating once hit end_token; G is supposed to learn it.\n",
    "        all_state_et = tf.concat([all_state_et, sampled_et], axis=1)\n",
    "        all_state_ts = tf.concat([all_state_ts, time_delta_out], axis=1)\n",
    "\n",
    "    # the initlal random states are excluded in output\n",
    "    return all_state_et[:, 1:, :], all_state_ts[:, 1:, :]\n",
    "\n",
    "\n",
    "def generate_sequences_gumbel(N_gen, generator, batch_size, T):\n",
    "    \"\"\"\n",
    "        Generate sequences batch per batch\n",
    "    :param N_gen: total number of seqs to be generated\n",
    "    :param generator:\n",
    "    :param batch_size:\n",
    "    :param T:\n",
    "    :return: a python list of shape [N_gen, T, 1]\n",
    "    \"\"\"\n",
    "    N = 0\n",
    "    all_type_seq = None\n",
    "    all_time_seq = None\n",
    "    \n",
    "    init_token_noise, init_time_noise = generate_initial_noise()\n",
    "        \n",
    "    while N < N_gen:\n",
    "        batch_state_et, batch_state_ts = rollout_from_initial_gumbel(generator, batch_size, init_token_noise, init_time_noise, T)\n",
    "\n",
    "        if all_type_seq is None or all_time_seq is None:\n",
    "            all_type_seq = batch_state_et\n",
    "            all_time_seq = batch_state_ts\n",
    "        else:\n",
    "            all_type_seq = tf.concat([all_type_seq, batch_state_et], axis=0)\n",
    "            all_time_seq = tf.concat([all_time_seq, batch_state_ts], axis=0)\n",
    "\n",
    "        N += batch_size\n",
    "\n",
    "    all_type_seq = all_type_seq[:N_gen, :, :]\n",
    "    all_time_seq = all_time_seq[:N_gen, :, :]\n",
    "\n",
    "    return all_type_seq, all_time_seq"
   ]
  },
  {
   "cell_type": "markdown",
   "id": "computational-stadium",
   "metadata": {},
   "source": [
    "## Pre-Training of Gumbel-Softmax SeqGan"
   ]
  },
  {
   "cell_type": "code",
   "execution_count": 26,
   "id": "dense-intranet",
   "metadata": {},
   "outputs": [],
   "source": [
    "def pretrain_discriminator(event_type_batch, time_delta_batch, label_batch, discriminator, verbose=False, optimizer=Adam(lr=0.001)):\n",
    "    # train the discriminator\n",
    "    with tf.GradientTape() as tape:\n",
    "        # train discriminator\n",
    "        true_prob = discriminator([event_type_batch, time_delta_batch])\n",
    "\n",
    "        # cross-entropy loss\n",
    "        discriminator_loss = ce_loss = tf.reduce_mean(\n",
    "            tf.keras.losses.binary_crossentropy(label_batch, true_prob, from_logits=False)\n",
    "        )\n",
    "\n",
    "        if verbose:\n",
    "            print('total discriminator loss:{}'.format(discriminator_loss))\n",
    "\n",
    "    grads = tape.gradient(discriminator_loss, discriminator.trainable_variables)\n",
    "    optimizer.apply_gradients(zip(grads, discriminator.trainable_variables))\n",
    "\n",
    "    return discriminator_loss\n",
    "\n",
    "\n",
    "def pretrain_generator(event_type_batch, time_delta_batch, generator, verbose=False, optimizer=Adam(lr=0.001)):\n",
    "    _, T, _ = event_type_batch.shape\n",
    "    \n",
    "    # train the generator\n",
    "    with tf.GradientTape() as tape:\n",
    "        generator.reset_states()\n",
    "        step_token_ce_loss_list = []\n",
    "        step_time_mxe_loss_list = []\n",
    "\n",
    "        for i in range(0, T - 1):\n",
    "            curr_state_et = event_type_batch[:, i:i + 1, :]\n",
    "            curr_state_ts = time_delta_batch[:, i:i + 1, :]\n",
    "            \n",
    "            target_et = event_type_batch[:, i + 1, :]\n",
    "            target_ts = time_delta_batch[:, i + 1, :]            \n",
    "            \n",
    "            token_logits, time_delta_out = generator([curr_state_et, curr_state_ts])\n",
    "\n",
    "            token_ce_losses = tf.keras.losses.categorical_crossentropy(target_et, token_logits, from_logits=True)\n",
    "            token_ce_loss = tf.reduce_mean(token_ce_losses)\n",
    "            step_token_ce_loss_list.append(token_ce_loss)\n",
    "            \n",
    "            time_mxe_losses = tf.keras.losses.MAE(target_ts, time_delta_out)\n",
    "            time_mxe_loss = tf.reduce_mean(time_mxe_losses)\n",
    "            step_time_mxe_loss_list.append(time_mxe_loss)                        \n",
    "    \n",
    "        episode_token_ce_loss = tf.reduce_mean(step_token_ce_loss_list)\n",
    "        episode_time_mxe_loss = tf.reduce_mean(step_time_mxe_loss_list)\n",
    "        generator_loss = episode_token_ce_loss + episode_time_mxe_loss\n",
    "\n",
    "    if verbose:\n",
    "        print('token ce loss:{}'.format(episode_token_ce_loss))\n",
    "        print('time mae loss:{}'.format(episode_time_mxe_loss))\n",
    "        print('train loss:{}'.format(generator_loss))\n",
    "\n",
    "    # apply gradient decent per batch\n",
    "    grads = tape.gradient(generator_loss, generator.trainable_variables)\n",
    "    optimizer.apply_gradients(zip(grads, generator.trainable_variables))\n",
    "\n",
    "    return generator_loss"
   ]
  },
  {
   "cell_type": "markdown",
   "id": "proper-worker",
   "metadata": {},
   "source": [
    "### pre-train G"
   ]
  },
  {
   "cell_type": "code",
   "execution_count": 34,
   "id": "attached-allen",
   "metadata": {},
   "outputs": [
    {
     "data": {
      "text/plain": [
       "46"
      ]
     },
     "execution_count": 34,
     "metadata": {},
     "output_type": "execute_result"
    }
   ],
   "source": [
    "N_total_G = pos_event_type_seqs.shape[0]\n",
    "\n",
    "EPOCHS = 3\n",
    "_TOTAL_STEPS = int(EPOCHS * N_total_G / BATCH_SIZE)\n",
    "\n",
    "pretrain_G_dataset = create_dataset((pos_event_type_seqs, pos_timestamp_seqs),\n",
    "                                  np.ones((N_total_G, 1)),\n",
    "                                  batch_size=BATCH_SIZE,\n",
    "                                  epochs=EPOCHS,\n",
    "                                  buffer_size=N_total_G)\n",
    "_TOTAL_STEPS"
   ]
  },
  {
   "cell_type": "code",
   "execution_count": 35,
   "id": "mobile-cartoon",
   "metadata": {},
   "outputs": [],
   "source": [
    "pretrain_gen_loss_history = []\n",
    "\n",
    "pretrained_generator = build_G(\n",
    "    batch_size=BATCH_SIZE,\n",
    "    event_vocab_dim = EVENT_VOCAB_DIM,\n",
    "    emb_dim = EMB_DIM,\n",
    "    hidden_dim= HIDDEN_DIM)"
   ]
  },
  {
   "cell_type": "code",
   "execution_count": 36,
   "id": "charitable-woman",
   "metadata": {
    "scrolled": true
   },
   "outputs": [
    {
     "name": "stderr",
     "output_type": "stream",
     "text": [
      "\r",
      "0it [00:00, ?it/s]"
     ]
    },
    {
     "name": "stdout",
     "output_type": "stream",
     "text": [
      "Training Step: 1\n",
      "token ce loss:1.391859274823286\n",
      "time mae loss:0.9672658050323657\n",
      "train loss:2.3591250798556516\n"
     ]
    },
    {
     "name": "stderr",
     "output_type": "stream",
     "text": [
      "\r",
      "1it [00:01,  1.15s/it]"
     ]
    },
    {
     "name": "stdout",
     "output_type": "stream",
     "text": [
      "Training Step: 2\n",
      "token ce loss:1.3655450613355629\n",
      "time mae loss:0.801971608509615\n",
      "train loss:2.167516669845178\n"
     ]
    },
    {
     "name": "stderr",
     "output_type": "stream",
     "text": [
      "\r",
      "2it [00:02,  1.11s/it]"
     ]
    },
    {
     "name": "stdout",
     "output_type": "stream",
     "text": [
      "Training Step: 3\n",
      "token ce loss:1.3575710789472661\n",
      "time mae loss:0.8161169725439951\n",
      "train loss:2.1736880514912613\n"
     ]
    },
    {
     "name": "stderr",
     "output_type": "stream",
     "text": [
      "\r",
      "3it [00:03,  1.08s/it]"
     ]
    },
    {
     "name": "stdout",
     "output_type": "stream",
     "text": [
      "Training Step: 4\n",
      "token ce loss:1.3526876457135215\n",
      "time mae loss:0.8281102558816663\n",
      "train loss:2.180797901595188\n"
     ]
    },
    {
     "name": "stderr",
     "output_type": "stream",
     "text": [
      "\r",
      "4it [00:04,  1.12s/it]"
     ]
    },
    {
     "name": "stdout",
     "output_type": "stream",
     "text": [
      "Training Step: 5\n",
      "token ce loss:1.3640889447888873\n",
      "time mae loss:0.8168702040623754\n",
      "train loss:2.1809591488512625\n"
     ]
    },
    {
     "name": "stderr",
     "output_type": "stream",
     "text": [
      "\r",
      "5it [00:05,  1.09s/it]"
     ]
    },
    {
     "name": "stdout",
     "output_type": "stream",
     "text": [
      "Training Step: 6\n",
      "token ce loss:1.355940126680804\n",
      "time mae loss:0.7923422898678361\n",
      "train loss:2.14828241654864\n"
     ]
    },
    {
     "name": "stderr",
     "output_type": "stream",
     "text": [
      "\r",
      "6it [00:06,  1.08s/it]"
     ]
    },
    {
     "name": "stdout",
     "output_type": "stream",
     "text": [
      "Training Step: 7\n",
      "token ce loss:1.3610586369283233\n",
      "time mae loss:0.7975439364702457\n",
      "train loss:2.1586025733985688\n"
     ]
    },
    {
     "name": "stderr",
     "output_type": "stream",
     "text": [
      "\r",
      "7it [00:07,  1.07s/it]"
     ]
    },
    {
     "name": "stdout",
     "output_type": "stream",
     "text": [
      "Training Step: 8\n",
      "token ce loss:1.3476244812743274\n",
      "time mae loss:0.7955256566832346\n",
      "train loss:2.143150137957562\n"
     ]
    },
    {
     "name": "stderr",
     "output_type": "stream",
     "text": [
      "\r",
      "8it [00:08,  1.07s/it]"
     ]
    },
    {
     "name": "stdout",
     "output_type": "stream",
     "text": [
      "Training Step: 9\n",
      "token ce loss:1.3366691286026593\n",
      "time mae loss:0.7832816957017634\n",
      "train loss:2.1199508243044227\n"
     ]
    },
    {
     "name": "stderr",
     "output_type": "stream",
     "text": [
      "\r",
      "9it [00:09,  1.07s/it]"
     ]
    },
    {
     "name": "stdout",
     "output_type": "stream",
     "text": [
      "Training Step: 10\n",
      "token ce loss:1.3319850145561145\n",
      "time mae loss:0.7930783464613294\n",
      "train loss:2.125063361017444\n"
     ]
    },
    {
     "name": "stderr",
     "output_type": "stream",
     "text": [
      "\r",
      "10it [00:10,  1.06s/it]"
     ]
    },
    {
     "name": "stdout",
     "output_type": "stream",
     "text": [
      "Training Step: 11\n",
      "token ce loss:1.3278497815614427\n",
      "time mae loss:0.7866069937216033\n",
      "train loss:2.114456775283046\n"
     ]
    },
    {
     "name": "stderr",
     "output_type": "stream",
     "text": [
      "\r",
      "11it [00:11,  1.07s/it]"
     ]
    },
    {
     "name": "stdout",
     "output_type": "stream",
     "text": [
      "Training Step: 12\n",
      "token ce loss:1.3351812972779167\n",
      "time mae loss:0.7912787937615906\n",
      "train loss:2.1264600910395073\n"
     ]
    },
    {
     "name": "stderr",
     "output_type": "stream",
     "text": [
      "\r",
      "12it [00:12,  1.07s/it]"
     ]
    },
    {
     "name": "stdout",
     "output_type": "stream",
     "text": [
      "Training Step: 13\n",
      "token ce loss:1.3324929552503975\n",
      "time mae loss:0.797385529680654\n",
      "train loss:2.1298784849310515\n"
     ]
    },
    {
     "name": "stderr",
     "output_type": "stream",
     "text": [
      "\r",
      "13it [00:13,  1.06s/it]"
     ]
    },
    {
     "name": "stdout",
     "output_type": "stream",
     "text": [
      "Training Step: 14\n",
      "token ce loss:1.3378652074655997\n",
      "time mae loss:0.7797304492309323\n",
      "train loss:2.117595656696532\n"
     ]
    },
    {
     "name": "stderr",
     "output_type": "stream",
     "text": [
      "\r",
      "14it [00:15,  1.06s/it]"
     ]
    },
    {
     "name": "stdout",
     "output_type": "stream",
     "text": [
      "Training Step: 15\n",
      "token ce loss:1.3257278083386048\n",
      "time mae loss:0.7805860719517524\n",
      "train loss:2.106313880290357\n"
     ]
    },
    {
     "name": "stderr",
     "output_type": "stream",
     "text": [
      "\r",
      "15it [00:16,  1.06s/it]"
     ]
    },
    {
     "name": "stdout",
     "output_type": "stream",
     "text": [
      "Training Step: 16\n",
      "token ce loss:1.3273898355579064\n",
      "time mae loss:0.7757007815829414\n",
      "train loss:2.1030906171408477\n"
     ]
    },
    {
     "name": "stderr",
     "output_type": "stream",
     "text": [
      "\r",
      "16it [00:17,  1.06s/it]"
     ]
    },
    {
     "name": "stdout",
     "output_type": "stream",
     "text": [
      "Training Step: 17\n",
      "token ce loss:1.3187021470847036\n",
      "time mae loss:0.7765045796051264\n",
      "train loss:2.09520672668983\n"
     ]
    },
    {
     "name": "stderr",
     "output_type": "stream",
     "text": [
      "\r",
      "17it [00:18,  1.05s/it]"
     ]
    },
    {
     "name": "stdout",
     "output_type": "stream",
     "text": [
      "Training Step: 18\n",
      "token ce loss:1.3186001864673522\n",
      "time mae loss:0.7799107096883461\n",
      "train loss:2.098510896155698\n"
     ]
    },
    {
     "name": "stderr",
     "output_type": "stream",
     "text": [
      "\r",
      "18it [00:19,  1.06s/it]"
     ]
    },
    {
     "name": "stdout",
     "output_type": "stream",
     "text": [
      "Training Step: 19\n",
      "token ce loss:1.3240758776943367\n",
      "time mae loss:0.812382630752115\n",
      "train loss:2.136458508446452\n"
     ]
    },
    {
     "name": "stderr",
     "output_type": "stream",
     "text": [
      "\r",
      "19it [00:20,  1.07s/it]"
     ]
    },
    {
     "name": "stdout",
     "output_type": "stream",
     "text": [
      "Training Step: 20\n",
      "token ce loss:1.3176008004770736\n",
      "time mae loss:0.7807694408737916\n",
      "train loss:2.098370241350865\n"
     ]
    },
    {
     "name": "stderr",
     "output_type": "stream",
     "text": [
      "\r",
      "20it [00:21,  1.07s/it]"
     ]
    },
    {
     "name": "stdout",
     "output_type": "stream",
     "text": [
      "Training Step: 21\n",
      "token ce loss:1.3199362125197012\n",
      "time mae loss:0.7688146546811613\n",
      "train loss:2.0887508672008623\n"
     ]
    },
    {
     "name": "stderr",
     "output_type": "stream",
     "text": [
      "\r",
      "21it [00:22,  1.06s/it]"
     ]
    },
    {
     "name": "stdout",
     "output_type": "stream",
     "text": [
      "Training Step: 22\n",
      "token ce loss:1.3136556531876769\n",
      "time mae loss:0.7743749268977403\n",
      "train loss:2.0880305800854173\n"
     ]
    },
    {
     "name": "stderr",
     "output_type": "stream",
     "text": [
      "\r",
      "22it [00:23,  1.07s/it]"
     ]
    },
    {
     "name": "stdout",
     "output_type": "stream",
     "text": [
      "Training Step: 23\n",
      "token ce loss:1.32147670645051\n",
      "time mae loss:0.7773451164692234\n",
      "train loss:2.0988218229197333\n"
     ]
    },
    {
     "name": "stderr",
     "output_type": "stream",
     "text": [
      "\r",
      "23it [00:24,  1.10s/it]"
     ]
    },
    {
     "name": "stdout",
     "output_type": "stream",
     "text": [
      "Training Step: 24\n",
      "token ce loss:1.3163881573940788\n",
      "time mae loss:0.7781708519612431\n",
      "train loss:2.094559009355322\n"
     ]
    },
    {
     "name": "stderr",
     "output_type": "stream",
     "text": [
      "\r",
      "24it [00:25,  1.09s/it]"
     ]
    },
    {
     "name": "stdout",
     "output_type": "stream",
     "text": [
      "Training Step: 25\n",
      "token ce loss:1.3119578421497091\n",
      "time mae loss:0.7895918883451997\n",
      "train loss:2.101549730494909\n"
     ]
    },
    {
     "name": "stderr",
     "output_type": "stream",
     "text": [
      "\r",
      "25it [00:26,  1.06s/it]"
     ]
    },
    {
     "name": "stdout",
     "output_type": "stream",
     "text": [
      "Training Step: 26\n",
      "token ce loss:1.3090435126762903\n",
      "time mae loss:0.773055476757934\n",
      "train loss:2.082098989434224\n"
     ]
    },
    {
     "name": "stderr",
     "output_type": "stream",
     "text": [
      "\r",
      "26it [00:27,  1.06s/it]"
     ]
    },
    {
     "name": "stdout",
     "output_type": "stream",
     "text": [
      "Training Step: 27\n",
      "token ce loss:1.3063296141110232\n",
      "time mae loss:0.7895579029693209\n",
      "train loss:2.095887517080344\n"
     ]
    },
    {
     "name": "stderr",
     "output_type": "stream",
     "text": [
      "\r",
      "27it [00:28,  1.06s/it]"
     ]
    },
    {
     "name": "stdout",
     "output_type": "stream",
     "text": [
      "Training Step: 28\n",
      "token ce loss:1.307847699785209\n",
      "time mae loss:0.78112427392462\n",
      "train loss:2.088971973709829\n"
     ]
    },
    {
     "name": "stderr",
     "output_type": "stream",
     "text": [
      "\r",
      "28it [00:29,  1.06s/it]"
     ]
    },
    {
     "name": "stdout",
     "output_type": "stream",
     "text": [
      "Training Step: 29\n",
      "token ce loss:1.3065879681162065\n",
      "time mae loss:0.7840835703682629\n",
      "train loss:2.0906715384844694\n"
     ]
    },
    {
     "name": "stderr",
     "output_type": "stream",
     "text": [
      "\r",
      "29it [00:31,  1.06s/it]"
     ]
    },
    {
     "name": "stdout",
     "output_type": "stream",
     "text": [
      "Training Step: 30\n",
      "token ce loss:1.303671173408785\n",
      "time mae loss:0.7842507329877698\n",
      "train loss:2.087921906396555\n"
     ]
    },
    {
     "name": "stderr",
     "output_type": "stream",
     "text": [
      "\r",
      "30it [00:32,  1.06s/it]"
     ]
    },
    {
     "name": "stdout",
     "output_type": "stream",
     "text": [
      "Training Step: 31\n",
      "token ce loss:1.2991418061233524\n",
      "time mae loss:0.7759713859549496\n",
      "train loss:2.075113192078302\n"
     ]
    },
    {
     "name": "stderr",
     "output_type": "stream",
     "text": [
      "\r",
      "31it [00:33,  1.07s/it]"
     ]
    },
    {
     "name": "stdout",
     "output_type": "stream",
     "text": [
      "Training Step: 32\n",
      "token ce loss:1.3054078377786467\n",
      "time mae loss:0.7951352701681242\n",
      "train loss:2.1005431079467707\n"
     ]
    },
    {
     "name": "stderr",
     "output_type": "stream",
     "text": [
      "\r",
      "32it [00:34,  1.06s/it]"
     ]
    },
    {
     "name": "stdout",
     "output_type": "stream",
     "text": [
      "Training Step: 33\n",
      "token ce loss:1.2982249102698042\n",
      "time mae loss:0.7802399082384855\n",
      "train loss:2.07846481850829\n"
     ]
    },
    {
     "name": "stderr",
     "output_type": "stream",
     "text": [
      "\r",
      "33it [00:35,  1.07s/it]"
     ]
    },
    {
     "name": "stdout",
     "output_type": "stream",
     "text": [
      "Training Step: 34\n",
      "token ce loss:1.2994978095238647\n",
      "time mae loss:0.7721987216900305\n",
      "train loss:2.0716965312138953\n"
     ]
    },
    {
     "name": "stderr",
     "output_type": "stream",
     "text": [
      "\r",
      "34it [00:36,  1.07s/it]"
     ]
    },
    {
     "name": "stdout",
     "output_type": "stream",
     "text": [
      "Training Step: 35\n",
      "token ce loss:1.297919452736324\n",
      "time mae loss:0.7822394705517679\n",
      "train loss:2.080158923288092\n"
     ]
    },
    {
     "name": "stderr",
     "output_type": "stream",
     "text": [
      "\r",
      "35it [00:37,  1.07s/it]"
     ]
    },
    {
     "name": "stdout",
     "output_type": "stream",
     "text": [
      "Training Step: 36\n",
      "token ce loss:1.2956174121103028\n",
      "time mae loss:0.7796933394943323\n",
      "train loss:2.075310751604635\n"
     ]
    },
    {
     "name": "stderr",
     "output_type": "stream",
     "text": [
      "\r",
      "36it [00:38,  1.06s/it]"
     ]
    },
    {
     "name": "stdout",
     "output_type": "stream",
     "text": [
      "Training Step: 37\n",
      "token ce loss:1.299685575765385\n",
      "time mae loss:0.789864034961878\n",
      "train loss:2.089549610727263\n"
     ]
    },
    {
     "name": "stderr",
     "output_type": "stream",
     "text": [
      "\r",
      "37it [00:39,  1.06s/it]"
     ]
    },
    {
     "name": "stdout",
     "output_type": "stream",
     "text": [
      "Training Step: 38\n",
      "token ce loss:1.292215809214922\n",
      "time mae loss:0.7775256216957502\n",
      "train loss:2.069741430910672\n"
     ]
    },
    {
     "name": "stderr",
     "output_type": "stream",
     "text": [
      "\r",
      "38it [00:40,  1.06s/it]"
     ]
    },
    {
     "name": "stdout",
     "output_type": "stream",
     "text": [
      "Training Step: 39\n",
      "token ce loss:1.2942895996433548\n",
      "time mae loss:0.7870100568294326\n",
      "train loss:2.0812996564727873\n"
     ]
    },
    {
     "name": "stderr",
     "output_type": "stream",
     "text": [
      "\r",
      "39it [00:41,  1.06s/it]"
     ]
    },
    {
     "name": "stdout",
     "output_type": "stream",
     "text": [
      "Training Step: 40\n",
      "token ce loss:1.2972335436664477\n",
      "time mae loss:0.7915431025575745\n",
      "train loss:2.088776646224022\n"
     ]
    },
    {
     "name": "stderr",
     "output_type": "stream",
     "text": [
      "\r",
      "40it [00:42,  1.07s/it]"
     ]
    },
    {
     "name": "stdout",
     "output_type": "stream",
     "text": [
      "Training Step: 41\n",
      "token ce loss:1.298076864019113\n",
      "time mae loss:0.7789730127624649\n",
      "train loss:2.0770498767815777\n"
     ]
    },
    {
     "name": "stderr",
     "output_type": "stream",
     "text": [
      "\r",
      "41it [00:43,  1.10s/it]"
     ]
    },
    {
     "name": "stdout",
     "output_type": "stream",
     "text": [
      "Training Step: 42\n",
      "token ce loss:1.2943886205289814\n",
      "time mae loss:0.7796886166143612\n",
      "train loss:2.0740772371433427\n"
     ]
    },
    {
     "name": "stderr",
     "output_type": "stream",
     "text": [
      "\r",
      "42it [00:45,  1.09s/it]"
     ]
    },
    {
     "name": "stdout",
     "output_type": "stream",
     "text": [
      "Training Step: 43\n",
      "token ce loss:1.2847370881082514\n",
      "time mae loss:0.7707600405821116\n",
      "train loss:2.055497128690363\n"
     ]
    },
    {
     "name": "stderr",
     "output_type": "stream",
     "text": [
      "\r",
      "43it [00:46,  1.08s/it]"
     ]
    },
    {
     "name": "stdout",
     "output_type": "stream",
     "text": [
      "Training Step: 44\n",
      "token ce loss:1.2881501692884079\n",
      "time mae loss:0.772387947390033\n",
      "train loss:2.060538116678441\n"
     ]
    },
    {
     "name": "stderr",
     "output_type": "stream",
     "text": [
      "\r",
      "44it [00:47,  1.07s/it]"
     ]
    },
    {
     "name": "stdout",
     "output_type": "stream",
     "text": [
      "Training Step: 45\n",
      "token ce loss:1.2878179762817286\n",
      "time mae loss:0.7717142790101834\n",
      "train loss:2.059532255291912\n"
     ]
    },
    {
     "name": "stderr",
     "output_type": "stream",
     "text": [
      "\r",
      "45it [00:48,  1.07s/it]"
     ]
    },
    {
     "name": "stdout",
     "output_type": "stream",
     "text": [
      "Training Step: 46\n",
      "token ce loss:1.2906517466866239\n",
      "time mae loss:0.7703969049199926\n",
      "train loss:2.061048651606616\n"
     ]
    },
    {
     "name": "stderr",
     "output_type": "stream",
     "text": [
      "46it [00:49,  1.07s/it]\n"
     ]
    }
   ],
   "source": [
    "step = 0\n",
    "OPTIMIZER = Adam(lr=1e-3)\n",
    "# _TOTAL_STEPS = 100\n",
    "\n",
    "for feature_batch, _ in tqdm(pretrain_G_dataset.take(_TOTAL_STEPS)):\n",
    "    event_type_batch, time_delta_batch = feature_batch\n",
    "    step += 1\n",
    "    print('Training Step:', step)\n",
    "        \n",
    "    gen_loss =  pretrain_generator(event_type_batch, time_delta_batch, pretrained_generator, verbose=True, optimizer=OPTIMIZER)                    \n",
    "    pretrain_gen_loss_history.append(gen_loss.numpy())"
   ]
  },
  {
   "cell_type": "code",
   "execution_count": 39,
   "id": "driven-patch",
   "metadata": {},
   "outputs": [],
   "source": [
    "if not os.path.exists(model_save_dir + '/pretrained_gen_weights'):\n",
    "    os.makedirs(model_save_dir + '/pretrained_gen_weights')\n",
    "\n",
    "G_save_path = model_save_dir + '/pretrained_gen_weights/model.tf'\n",
    "pretrained_generator.save_weights(G_save_path)"
   ]
  },
  {
   "cell_type": "code",
   "execution_count": 40,
   "id": "configured-resident",
   "metadata": {},
   "outputs": [
    {
     "name": "stdout",
     "output_type": "stream",
     "text": [
      "Model: \"model_4\"\n",
      "__________________________________________________________________________________________________\n",
      "Layer (type)                    Output Shape         Param #     Connected to                     \n",
      "==================================================================================================\n",
      "event_type (InputLayer)         [(256, None, 4)]     0                                            \n",
      "__________________________________________________________________________________________________\n",
      "dense_emb (Dense)               (256, None, 16)      80          event_type[0][0]                 \n",
      "__________________________________________________________________________________________________\n",
      "time_delta_in (InputLayer)      [(256, None, 1)]     0                                            \n",
      "__________________________________________________________________________________________________\n",
      "tf_op_layer_concat_4 (TensorFlo [(256, None, 17)]    0           dense_emb[0][0]                  \n",
      "                                                                 time_delta_in[0][0]              \n",
      "__________________________________________________________________________________________________\n",
      "lstm_token (LSTM)               (256, 128)           74752       tf_op_layer_concat_4[0][0]       \n",
      "__________________________________________________________________________________________________\n",
      "lstm_time (LSTM)                (256, 128)           74752       tf_op_layer_concat_4[0][0]       \n",
      "__________________________________________________________________________________________________\n",
      "concatenate_4 (Concatenate)     (256, 256)           0           lstm_token[0][0]                 \n",
      "                                                                 lstm_time[0][0]                  \n",
      "__________________________________________________________________________________________________\n",
      "dense_combination (Dense)       (256, 128)           32896       concatenate_4[0][0]              \n",
      "__________________________________________________________________________________________________\n",
      "dense_token (Dense)             (256, 4)             516         dense_combination[0][0]          \n",
      "__________________________________________________________________________________________________\n",
      "dense_time (Dense)              (256, 1)             129         dense_combination[0][0]          \n",
      "==================================================================================================\n",
      "Total params: 183,125\n",
      "Trainable params: 183,125\n",
      "Non-trainable params: 0\n",
      "__________________________________________________________________________________________________\n"
     ]
    }
   ],
   "source": [
    "reload_pretrained_gen = build_G(\n",
    "    batch_size = BATCH_SIZE,\n",
    "    event_vocab_dim = EVENT_VOCAB_DIM,\n",
    "    emb_dim = EMB_DIM,\n",
    "    hidden_dim= HIDDEN_DIM,\n",
    ")\n",
    "\n",
    "reload_pretrained_gen.build(input_shape=((BATCH_SIZE, T, 1)))\n",
    "reload_pretrained_gen.load_weights(G_save_path)\n",
    "reload_pretrained_gen.summary()"
   ]
  },
  {
   "cell_type": "markdown",
   "id": "legendary-container",
   "metadata": {},
   "source": [
    "### pre-train D"
   ]
  },
  {
   "cell_type": "code",
   "execution_count": 41,
   "id": "shaped-victoria",
   "metadata": {},
   "outputs": [],
   "source": [
    "N_fake_D = N_real_D = N_total_G "
   ]
  },
  {
   "cell_type": "code",
   "execution_count": 42,
   "id": "discrete-trauma",
   "metadata": {},
   "outputs": [],
   "source": [
    "# generate fake data by G to pre-train D\n",
    "fake_pos_event_type_seqs, fake_pos_timestamp_seqs = generate_sequences_gumbel(N_fake_D, pretrained_generator, BATCH_SIZE, T)"
   ]
  },
  {
   "cell_type": "code",
   "execution_count": 50,
   "id": "korean-recipe",
   "metadata": {},
   "outputs": [],
   "source": [
    "# generate fake data by G to pre-train D\n",
    "real_pos_event_type_seqs = pos_event_type_seqs[0:N_real_D, :, :]\n",
    "real_pos_timestamp_seqs = pos_timestamp_seqs[0:N_real_D, :, :]"
   ]
  },
  {
   "cell_type": "code",
   "execution_count": 51,
   "id": "outstanding-burke",
   "metadata": {},
   "outputs": [],
   "source": [
    "N_total_D = N_fake_D + N_real_D\n",
    "\n",
    "pretrain_D_et = tf.concat([fake_pos_event_type_seqs, real_pos_event_type_seqs], axis=0)\n",
    "pretrain_D_ts = tf.concat([fake_pos_timestamp_seqs, real_pos_timestamp_seqs], axis=0)\n",
    "pretrain_D_labels = tf.concat([np.zeros((N_fake_D, 1)), np.ones((N_real_D, 1))], axis=0)\n",
    "\n",
    "EPOCHS = 1\n",
    "_TOTAL_STEPS = int(EPOCHS * N_total_D / BATCH_SIZE)\n",
    "\n",
    "pretrain_D_dataset = create_dataset((pretrain_D_et, pretrain_D_ts),\n",
    "                                    pretrain_D_labels,\n",
    "                                    batch_size=BATCH_SIZE,\n",
    "                                    epochs=EPOCHS,\n",
    "                                    buffer_size=N_total_D) # shuffle the entire Dataset"
   ]
  },
  {
   "cell_type": "code",
   "execution_count": 52,
   "id": "direct-desire",
   "metadata": {},
   "outputs": [],
   "source": [
    "pretrain_disc_token_loss_history = []\n",
    "\n",
    "pretrained_discriminator = build_D(batch_size=BATCH_SIZE,\n",
    "                                   T=T,\n",
    "                                   event_vocab_dim=EVENT_VOCAB_DIM,\n",
    "                                   emb_dim=EMB_DIM,\n",
    "                                   hidden_dim=HIDDEN_DIM,    \n",
    "                                   dropout_rate=0.25)"
   ]
  },
  {
   "cell_type": "code",
   "execution_count": 53,
   "id": "external-extent",
   "metadata": {
    "scrolled": true
   },
   "outputs": [
    {
     "name": "stderr",
     "output_type": "stream",
     "text": [
      "\r",
      "0it [00:00, ?it/s]"
     ]
    },
    {
     "name": "stdout",
     "output_type": "stream",
     "text": [
      "Training Step: 1\n",
      "total discriminator loss:0.6844135210169635\n"
     ]
    },
    {
     "name": "stderr",
     "output_type": "stream",
     "text": [
      "\r",
      "1it [00:00,  1.57it/s]"
     ]
    },
    {
     "name": "stdout",
     "output_type": "stream",
     "text": [
      "Training Step: 2\n",
      "total discriminator loss:0.6692778131441446\n"
     ]
    },
    {
     "name": "stderr",
     "output_type": "stream",
     "text": [
      "\r",
      "2it [00:01,  1.68it/s]"
     ]
    },
    {
     "name": "stdout",
     "output_type": "stream",
     "text": [
      "Training Step: 3\n",
      "total discriminator loss:0.6421025308571104\n"
     ]
    },
    {
     "name": "stderr",
     "output_type": "stream",
     "text": [
      "\r",
      "3it [00:01,  1.66it/s]"
     ]
    },
    {
     "name": "stdout",
     "output_type": "stream",
     "text": [
      "Training Step: 4\n",
      "total discriminator loss:0.6477281243775592\n"
     ]
    },
    {
     "name": "stderr",
     "output_type": "stream",
     "text": [
      "\r",
      "4it [00:02,  1.69it/s]"
     ]
    },
    {
     "name": "stdout",
     "output_type": "stream",
     "text": [
      "Training Step: 5\n",
      "total discriminator loss:0.615771478816243\n"
     ]
    },
    {
     "name": "stderr",
     "output_type": "stream",
     "text": [
      "\r",
      "5it [00:02,  1.72it/s]"
     ]
    },
    {
     "name": "stdout",
     "output_type": "stream",
     "text": [
      "Training Step: 6\n",
      "total discriminator loss:0.6097842219767562\n"
     ]
    },
    {
     "name": "stderr",
     "output_type": "stream",
     "text": [
      "\r",
      "6it [00:03,  1.72it/s]"
     ]
    },
    {
     "name": "stdout",
     "output_type": "stream",
     "text": [
      "Training Step: 7\n",
      "total discriminator loss:0.708943186604545\n"
     ]
    },
    {
     "name": "stderr",
     "output_type": "stream",
     "text": [
      "\r",
      "7it [00:04,  1.72it/s]"
     ]
    },
    {
     "name": "stdout",
     "output_type": "stream",
     "text": [
      "Training Step: 8\n",
      "total discriminator loss:0.6351500788554647\n"
     ]
    },
    {
     "name": "stderr",
     "output_type": "stream",
     "text": [
      "\r",
      "8it [00:04,  1.72it/s]"
     ]
    },
    {
     "name": "stdout",
     "output_type": "stream",
     "text": [
      "Training Step: 9\n",
      "total discriminator loss:0.580040914046\n"
     ]
    },
    {
     "name": "stderr",
     "output_type": "stream",
     "text": [
      "\r",
      "9it [00:05,  1.69it/s]"
     ]
    },
    {
     "name": "stdout",
     "output_type": "stream",
     "text": [
      "Training Step: 10\n",
      "total discriminator loss:0.6561272794699551\n"
     ]
    },
    {
     "name": "stderr",
     "output_type": "stream",
     "text": [
      "\r",
      "10it [00:05,  1.68it/s]"
     ]
    },
    {
     "name": "stdout",
     "output_type": "stream",
     "text": [
      "Training Step: 11\n",
      "total discriminator loss:0.6150209000062699\n"
     ]
    },
    {
     "name": "stderr",
     "output_type": "stream",
     "text": [
      "\r",
      "11it [00:06,  1.68it/s]"
     ]
    },
    {
     "name": "stdout",
     "output_type": "stream",
     "text": [
      "Training Step: 12\n",
      "total discriminator loss:0.5644818282521501\n"
     ]
    },
    {
     "name": "stderr",
     "output_type": "stream",
     "text": [
      "\r",
      "12it [00:07,  1.69it/s]"
     ]
    },
    {
     "name": "stdout",
     "output_type": "stream",
     "text": [
      "Training Step: 13\n",
      "total discriminator loss:0.5739392326861719\n"
     ]
    },
    {
     "name": "stderr",
     "output_type": "stream",
     "text": [
      "\r",
      "13it [00:07,  1.76it/s]"
     ]
    },
    {
     "name": "stdout",
     "output_type": "stream",
     "text": [
      "Training Step: 14\n",
      "total discriminator loss:0.5701292106095265\n"
     ]
    },
    {
     "name": "stderr",
     "output_type": "stream",
     "text": [
      "\r",
      "14it [00:08,  1.73it/s]"
     ]
    },
    {
     "name": "stdout",
     "output_type": "stream",
     "text": [
      "Training Step: 15\n",
      "total discriminator loss:0.595645004286019\n"
     ]
    },
    {
     "name": "stderr",
     "output_type": "stream",
     "text": [
      "\r",
      "15it [00:08,  1.73it/s]"
     ]
    },
    {
     "name": "stdout",
     "output_type": "stream",
     "text": [
      "Training Step: 16\n",
      "total discriminator loss:0.565248812098779\n"
     ]
    },
    {
     "name": "stderr",
     "output_type": "stream",
     "text": [
      "\r",
      "16it [00:09,  1.73it/s]"
     ]
    },
    {
     "name": "stdout",
     "output_type": "stream",
     "text": [
      "Training Step: 17\n",
      "total discriminator loss:0.5555291681816965\n"
     ]
    },
    {
     "name": "stderr",
     "output_type": "stream",
     "text": [
      "\r",
      "17it [00:09,  1.72it/s]"
     ]
    },
    {
     "name": "stdout",
     "output_type": "stream",
     "text": [
      "Training Step: 18\n",
      "total discriminator loss:0.5183401637803091\n"
     ]
    },
    {
     "name": "stderr",
     "output_type": "stream",
     "text": [
      "\r",
      "18it [00:10,  1.72it/s]"
     ]
    },
    {
     "name": "stdout",
     "output_type": "stream",
     "text": [
      "Training Step: 19\n",
      "total discriminator loss:0.5044927007207127\n"
     ]
    },
    {
     "name": "stderr",
     "output_type": "stream",
     "text": [
      "\r",
      "19it [00:11,  1.74it/s]"
     ]
    },
    {
     "name": "stdout",
     "output_type": "stream",
     "text": [
      "Training Step: 20\n",
      "total discriminator loss:0.5054077396611673\n"
     ]
    },
    {
     "name": "stderr",
     "output_type": "stream",
     "text": [
      "\r",
      "20it [00:11,  1.73it/s]"
     ]
    },
    {
     "name": "stdout",
     "output_type": "stream",
     "text": [
      "Training Step: 21\n",
      "total discriminator loss:0.4670143429225392\n"
     ]
    },
    {
     "name": "stderr",
     "output_type": "stream",
     "text": [
      "\r",
      "21it [00:12,  1.71it/s]"
     ]
    },
    {
     "name": "stdout",
     "output_type": "stream",
     "text": [
      "Training Step: 22\n",
      "total discriminator loss:0.467028299574522\n"
     ]
    },
    {
     "name": "stderr",
     "output_type": "stream",
     "text": [
      "\r",
      "22it [00:12,  1.71it/s]"
     ]
    },
    {
     "name": "stdout",
     "output_type": "stream",
     "text": [
      "Training Step: 23\n",
      "total discriminator loss:0.4262633450214662\n"
     ]
    },
    {
     "name": "stderr",
     "output_type": "stream",
     "text": [
      "\r",
      "23it [00:13,  1.72it/s]"
     ]
    },
    {
     "name": "stdout",
     "output_type": "stream",
     "text": [
      "Training Step: 24\n",
      "total discriminator loss:0.4483457621821991\n"
     ]
    },
    {
     "name": "stderr",
     "output_type": "stream",
     "text": [
      "\r",
      "24it [00:14,  1.71it/s]"
     ]
    },
    {
     "name": "stdout",
     "output_type": "stream",
     "text": [
      "Training Step: 25\n",
      "total discriminator loss:0.44892173320104456\n"
     ]
    },
    {
     "name": "stderr",
     "output_type": "stream",
     "text": [
      "\r",
      "25it [00:14,  1.70it/s]"
     ]
    },
    {
     "name": "stdout",
     "output_type": "stream",
     "text": [
      "Training Step: 26\n",
      "total discriminator loss:0.40573094928541603\n"
     ]
    },
    {
     "name": "stderr",
     "output_type": "stream",
     "text": [
      "\r",
      "26it [00:15,  1.69it/s]"
     ]
    },
    {
     "name": "stdout",
     "output_type": "stream",
     "text": [
      "Training Step: 27\n",
      "total discriminator loss:0.45627325771880356\n"
     ]
    },
    {
     "name": "stderr",
     "output_type": "stream",
     "text": [
      "\r",
      "27it [00:15,  1.69it/s]"
     ]
    },
    {
     "name": "stdout",
     "output_type": "stream",
     "text": [
      "Training Step: 28\n",
      "total discriminator loss:0.4003868123580524\n"
     ]
    },
    {
     "name": "stderr",
     "output_type": "stream",
     "text": [
      "\r",
      "28it [00:16,  1.69it/s]"
     ]
    },
    {
     "name": "stdout",
     "output_type": "stream",
     "text": [
      "Training Step: 29\n",
      "total discriminator loss:0.38803852404463834\n"
     ]
    },
    {
     "name": "stderr",
     "output_type": "stream",
     "text": [
      "\r",
      "29it [00:16,  1.69it/s]"
     ]
    },
    {
     "name": "stdout",
     "output_type": "stream",
     "text": [
      "Training Step: 30\n",
      "total discriminator loss:0.4005658886956408\n"
     ]
    },
    {
     "name": "stderr",
     "output_type": "stream",
     "text": [
      "\r",
      "30it [00:17,  1.70it/s]"
     ]
    },
    {
     "name": "stdout",
     "output_type": "stream",
     "text": [
      "Training Step: 31\n",
      "total discriminator loss:0.3718736721398605\n"
     ]
    },
    {
     "name": "stderr",
     "output_type": "stream",
     "text": [
      "31it [00:18,  1.71it/s]\n"
     ]
    }
   ],
   "source": [
    "step = 0\n",
    "OPTIMIZER = Adam(lr=1e-3)\n",
    "# _TOTAL_STEPS = 100\n",
    "\n",
    "for feature_batch, labels in tqdm(pretrain_D_dataset.take(_TOTAL_STEPS)):\n",
    "    event_type_batch, time_delta_batch = feature_batch\n",
    "    step += 1\n",
    "    print('Training Step:', step)\n",
    "\n",
    "    disc_token_loss = pretrain_discriminator(event_type_batch, time_delta_batch, labels, pretrained_discriminator, verbose=True, optimizer=OPTIMIZER)\n",
    "    pretrain_disc_token_loss_history.append(disc_token_loss.numpy())"
   ]
  },
  {
   "cell_type": "code",
   "execution_count": 54,
   "id": "working-reason",
   "metadata": {},
   "outputs": [],
   "source": [
    "if not os.path.exists(model_save_dir + '/pretrained_disc_weights'):\n",
    "    os.makedirs(model_save_dir + '/pretrained_disc_weights')\n",
    "\n",
    "D_save_path = model_save_dir + '/pretrained_disc_weights/model.tf'\n",
    "pretrained_discriminator.save_weights(D_save_path)"
   ]
  },
  {
   "cell_type": "code",
   "execution_count": 55,
   "id": "cultural-travel",
   "metadata": {
    "scrolled": true
   },
   "outputs": [
    {
     "name": "stdout",
     "output_type": "stream",
     "text": [
      "Model: \"model_8\"\n",
      "__________________________________________________________________________________________________\n",
      "Layer (type)                    Output Shape         Param #     Connected to                     \n",
      "==================================================================================================\n",
      "event_type (InputLayer)         [(256, None, 4)]     0                                            \n",
      "__________________________________________________________________________________________________\n",
      "dense_emb (Dense)               (256, None, 16)      80          event_type[0][0]                 \n",
      "__________________________________________________________________________________________________\n",
      "time_delta_in (InputLayer)      [(256, None, 1)]     0                                            \n",
      "__________________________________________________________________________________________________\n",
      "tf_op_layer_concat_8 (TensorFlo [(256, None, 17)]    0           dense_emb[0][0]                  \n",
      "                                                                 time_delta_in[0][0]              \n",
      "__________________________________________________________________________________________________\n",
      "lstm_token (LSTM)               (256, 128)           74752       tf_op_layer_concat_8[0][0]       \n",
      "__________________________________________________________________________________________________\n",
      "lstm_time (LSTM)                (256, 128)           74752       tf_op_layer_concat_8[0][0]       \n",
      "__________________________________________________________________________________________________\n",
      "concatenate_8 (Concatenate)     (256, 256)           0           lstm_token[0][0]                 \n",
      "                                                                 lstm_time[0][0]                  \n",
      "__________________________________________________________________________________________________\n",
      "dropout_2 (Dropout)             (256, 256)           0           concatenate_8[0][0]              \n",
      "__________________________________________________________________________________________________\n",
      "final (Dense)                   (256, 1)             257         dropout_2[0][0]                  \n",
      "==================================================================================================\n",
      "Total params: 149,841\n",
      "Trainable params: 149,841\n",
      "Non-trainable params: 0\n",
      "__________________________________________________________________________________________________\n"
     ]
    }
   ],
   "source": [
    "reload_pretrained_disc = build_D(\n",
    "    batch_size=BATCH_SIZE,\n",
    "    T=T,\n",
    "    event_vocab_dim=EVENT_VOCAB_DIM,\n",
    "    emb_dim=EMB_DIM,\n",
    "    hidden_dim=HIDDEN_DIM,    \n",
    "    dropout_rate=0.25)\n",
    "\n",
    "reload_pretrained_disc.build(input_shape=((BATCH_SIZE, T, 1)))\n",
    "reload_pretrained_disc.load_weights(D_save_path)\n",
    "reload_pretrained_disc.summary()"
   ]
  },
  {
   "cell_type": "markdown",
   "id": "north-bacon",
   "metadata": {},
   "source": [
    "## Gumbel  Traning"
   ]
  },
  {
   "cell_type": "code",
   "execution_count": 66,
   "id": "indian-assist",
   "metadata": {},
   "outputs": [],
   "source": [
    "def train_generator_gumbel(generator, discriminator, batch_size, T, verbose=False,                   \n",
    "                    optimizer=Adam(lr=0.001)):\n",
    "    \n",
    "    with tf.GradientTape() as tape:                        \n",
    "\n",
    "        G_sample_et, G_sample_ts = generate_sequences_gumbel(batch_size, generator, batch_size, T)\n",
    "        D_fake = discriminator([G_sample_et, G_sample_ts])\n",
    "\n",
    "        generator_loss = tf.reduce_mean(tf.keras.losses.binary_crossentropy(tf.ones_like(D_fake), D_fake))\n",
    "        \n",
    "    if verbose:\n",
    "        print('generator loss:{}'.format(generator_loss))\n",
    "        print('-----------------------')\n",
    "\n",
    "    # update generator\n",
    "    generator_grads = tape.gradient(generator_loss, generator.trainable_variables)\n",
    "    optimizer.apply_gradients(zip(generator_grads, generator.trainable_variables))\n",
    "\n",
    "    return generator_loss\n",
    "\n",
    "\n",
    "def train_discriminator_gumbel(real_data_batch_et, real_data_batch_ts, generator, discriminator, batch_size, T, verbose=False,\n",
    "                        optimizer=Adam(lr=0.001), label_smoothing=False, label_flipping=False):\n",
    "\n",
    "    # data prep\n",
    "    real_labels = tf.ones((batch_size//2, 1))        \n",
    "    fake_labels = tf.zeros((batch_size//2, 1))    \n",
    "    \n",
    "    real_data_batch_et, real_data_batch_ts = real_data_batch_et[:batch_size//2, :, :], real_data_batch_ts[:batch_size//2, :, :]    \n",
    "    fake_data_batch_et, fake_data_batch_ts = generate_sequences_gumbel(batch_size//2, generator, batch_size, T)\n",
    "    \n",
    "    if label_smoothing:\n",
    "        fake_labels = fake_labels + tf.random.normal(fake_labels.shape, mean=0, stddev=0.3)\n",
    "        fake_labels = tf.clip_by_value(fake_labels, clip_value_min=0., clip_value_max=0.3)\n",
    "\n",
    "        real_labels = real_labels + tf.random.normal(real_labels.shape, mean=0, stddev=0.3)\n",
    "        real_labels = tf.clip_by_value(real_labels, clip_value_min=0.7, clip_value_max=1.0)\n",
    "\n",
    "    if label_flipping:\n",
    "        if tf.random.uniform((1,)) < 0.05:\n",
    "            fake_labels, real_labels = real_labels, fake_labels\n",
    "    \n",
    "    total_data_et = tf.concat([fake_data_batch_et, real_data_batch_et], axis=0)\n",
    "    total_data_ts = tf.concat([fake_data_batch_ts, real_data_batch_ts], axis=0)\n",
    "    total_labels = tf.concat([fake_labels, real_labels], axis=0)        \n",
    "        \n",
    "    # train the discriminator\n",
    "    with tf.GradientTape() as tape:                                                           \n",
    "        # train discriminator\n",
    "        pred_prob = discriminator([total_data_et, total_data_ts])\n",
    "\n",
    "        # cross-entropy loss\n",
    "        discriminator_loss = tf.reduce_mean(\n",
    "            tf.keras.losses.binary_crossentropy(total_labels, pred_prob, from_logits=False))\n",
    "\n",
    "        # average true return\n",
    "        average_true_return = tf.reduce_mean(pred_prob)\n",
    "        \n",
    "        if verbose:\n",
    "            print('total discriminator loss:{}'.format(discriminator_loss))\n",
    "            print('average true return:{}'.format(average_true_return))\n",
    "            print('-----------------------')\n",
    "\n",
    "    grads = tape.gradient(discriminator_loss, discriminator.trainable_variables)\n",
    "    optimizer.apply_gradients(zip(grads, discriminator.trainable_variables))\n",
    "\n",
    "    return discriminator_loss, average_true_return"
   ]
  },
  {
   "cell_type": "code",
   "execution_count": 76,
   "id": "immediate-perry",
   "metadata": {
    "scrolled": true
   },
   "outputs": [
    {
     "name": "stdout",
     "output_type": "stream",
     "text": [
      "Model: \"model_16\"\n",
      "__________________________________________________________________________________________________\n",
      "Layer (type)                    Output Shape         Param #     Connected to                     \n",
      "==================================================================================================\n",
      "event_type (InputLayer)         [(256, None, 4)]     0                                            \n",
      "__________________________________________________________________________________________________\n",
      "dense_emb (Dense)               (256, None, 16)      80          event_type[0][0]                 \n",
      "__________________________________________________________________________________________________\n",
      "time_delta_in (InputLayer)      [(256, None, 1)]     0                                            \n",
      "__________________________________________________________________________________________________\n",
      "tf_op_layer_concat_16 (TensorFl [(256, None, 17)]    0           dense_emb[0][0]                  \n",
      "                                                                 time_delta_in[0][0]              \n",
      "__________________________________________________________________________________________________\n",
      "lstm_token (LSTM)               (256, 128)           74752       tf_op_layer_concat_16[0][0]      \n",
      "__________________________________________________________________________________________________\n",
      "lstm_time (LSTM)                (256, 128)           74752       tf_op_layer_concat_16[0][0]      \n",
      "__________________________________________________________________________________________________\n",
      "concatenate_16 (Concatenate)    (256, 256)           0           lstm_token[0][0]                 \n",
      "                                                                 lstm_time[0][0]                  \n",
      "__________________________________________________________________________________________________\n",
      "dense_combination (Dense)       (256, 128)           32896       concatenate_16[0][0]             \n",
      "__________________________________________________________________________________________________\n",
      "dense_token (Dense)             (256, 4)             516         dense_combination[0][0]          \n",
      "__________________________________________________________________________________________________\n",
      "dense_time (Dense)              (256, 1)             129         dense_combination[0][0]          \n",
      "==================================================================================================\n",
      "Total params: 183,125\n",
      "Trainable params: 183,125\n",
      "Non-trainable params: 0\n",
      "__________________________________________________________________________________________________\n",
      "Model: \"model_17\"\n",
      "__________________________________________________________________________________________________\n",
      "Layer (type)                    Output Shape         Param #     Connected to                     \n",
      "==================================================================================================\n",
      "event_type (InputLayer)         [(256, None, 4)]     0                                            \n",
      "__________________________________________________________________________________________________\n",
      "dense_emb (Dense)               (256, None, 16)      80          event_type[0][0]                 \n",
      "__________________________________________________________________________________________________\n",
      "time_delta_in (InputLayer)      [(256, None, 1)]     0                                            \n",
      "__________________________________________________________________________________________________\n",
      "tf_op_layer_concat_17 (TensorFl [(256, None, 17)]    0           dense_emb[0][0]                  \n",
      "                                                                 time_delta_in[0][0]              \n",
      "__________________________________________________________________________________________________\n",
      "lstm_token (LSTM)               (256, 128)           74752       tf_op_layer_concat_17[0][0]      \n",
      "__________________________________________________________________________________________________\n",
      "lstm_time (LSTM)                (256, 128)           74752       tf_op_layer_concat_17[0][0]      \n",
      "__________________________________________________________________________________________________\n",
      "concatenate_17 (Concatenate)    (256, 256)           0           lstm_token[0][0]                 \n",
      "                                                                 lstm_time[0][0]                  \n",
      "__________________________________________________________________________________________________\n",
      "dropout_6 (Dropout)             (256, 256)           0           concatenate_17[0][0]             \n",
      "__________________________________________________________________________________________________\n",
      "final (Dense)                   (256, 1)             257         dropout_6[0][0]                  \n",
      "==================================================================================================\n",
      "Total params: 149,841\n",
      "Trainable params: 149,841\n",
      "Non-trainable params: 0\n",
      "__________________________________________________________________________________________________\n"
     ]
    }
   ],
   "source": [
    "G_save_path = model_save_dir + '/pretrained_gen_weights/model.tf'\n",
    "D_save_path = model_save_dir + '/pretrained_disc_weights/model.tf'\n",
    "\n",
    "G = build_G(\n",
    "    batch_size = BATCH_SIZE,\n",
    "    event_vocab_dim = EVENT_VOCAB_DIM,\n",
    "    emb_dim = EMB_DIM,\n",
    "    hidden_dim= HIDDEN_DIM,\n",
    ")\n",
    "\n",
    "G.build(input_shape=((BATCH_SIZE, T, 1)))\n",
    "G.load_weights(G_save_path)\n",
    "G.summary()\n",
    "\n",
    "D = build_D(\n",
    "    batch_size=BATCH_SIZE,\n",
    "    T=T,\n",
    "    event_vocab_dim=EVENT_VOCAB_DIM,\n",
    "    emb_dim=EMB_DIM,\n",
    "    hidden_dim=HIDDEN_DIM,    \n",
    "    dropout_rate=0.25)\n",
    "\n",
    "D.build(input_shape=((BATCH_SIZE, T, 1)))\n",
    "D.load_weights(D_save_path)\n",
    "D.summary()"
   ]
  },
  {
   "cell_type": "code",
   "execution_count": 77,
   "id": "twelve-transcript",
   "metadata": {},
   "outputs": [],
   "source": [
    "N_total_G = pos_event_type_seqs.shape[0]\n",
    "\n",
    "EPOCHS = 100\n",
    "_TOTAL_STEPS = int(EPOCHS * N_total_G / BATCH_SIZE)\n",
    "\n",
    "\n",
    "train_dataset = create_dataset((pos_event_type_seqs, pos_timestamp_seqs),\n",
    "                             np.ones((N_total_G, 1)),\n",
    "                             batch_size=BATCH_SIZE,\n",
    "                             epochs=EPOCHS,\n",
    "                             buffer_size=N_total_G)\n",
    "\n",
    "gen_loss_history = []\n",
    "disc_loss_history = []\n",
    "average_true_return_history = []\n",
    "\n",
    "step = 0\n",
    "\n",
    "G_optimizer = Adam(learning_rate=1e-3)\n",
    "D_optimizer = Adam(learning_rate=1e-3)\n",
    "\n",
    "_G_STEPS = 1\n",
    "_D_STEPS = 1"
   ]
  },
  {
   "cell_type": "code",
   "execution_count": 78,
   "id": "tribal-parking",
   "metadata": {
    "scrolled": true
   },
   "outputs": [
    {
     "name": "stderr",
     "output_type": "stream",
     "text": [
      "\r",
      "0it [00:00, ?it/s]"
     ]
    },
    {
     "name": "stdout",
     "output_type": "stream",
     "text": [
      "Training Step: 0\n",
      "generator loss:1.7802187026067688\n",
      "-----------------------\n",
      "total discriminator loss:1.0202944528595235\n",
      "average true return:0.6904657715280089\n",
      "-----------------------\n",
      "tf.Tensor([[0 2 2 2 0 2 2 2 1 2 3 2 3 3 1 2 0 2 2 2]], shape=(1, 20), dtype=int64)\n"
     ]
    },
    {
     "data": {
      "image/png": "[encoded data removed]",
      "text/plain": [
       "<Figure size 432x288 with 1 Axes>"
      ]
     },
     "metadata": {
      "needs_background": "light"
     },
     "output_type": "display_data"
    },
    {
     "name": "stderr",
     "output_type": "stream",
     "text": [
      "\r",
      "1it [00:02,  2.57s/it]"
     ]
    },
    {
     "name": "stdout",
     "output_type": "stream",
     "text": [
      "Training Step: 1\n",
      "generator loss:1.5938798647380124\n",
      "-----------------------\n"
     ]
    },
    {
     "name": "stderr",
     "output_type": "stream",
     "text": [
      "\r",
      "2it [00:04,  2.21s/it]"
     ]
    },
    {
     "name": "stdout",
     "output_type": "stream",
     "text": [
      "total discriminator loss:1.3120059988766766\n",
      "average true return:0.32255596396390895\n",
      "-----------------------\n",
      "Training Step: 2\n",
      "generator loss:1.1347181721136432\n",
      "-----------------------\n"
     ]
    },
    {
     "name": "stderr",
     "output_type": "stream",
     "text": [
      "\r",
      "3it [00:06,  2.09s/it]"
     ]
    },
    {
     "name": "stdout",
     "output_type": "stream",
     "text": [
      "total discriminator loss:1.4066245267656479\n",
      "average true return:0.3508225591924573\n",
      "-----------------------\n",
      "Training Step: 3\n",
      "generator loss:0.7788606389044903\n",
      "-----------------------\n"
     ]
    },
    {
     "name": "stderr",
     "output_type": "stream",
     "text": [
      "\r",
      "4it [00:08,  2.04s/it]"
     ]
    },
    {
     "name": "stdout",
     "output_type": "stream",
     "text": [
      "total discriminator loss:1.2077065797452664\n",
      "average true return:0.4330459099071446\n",
      "-----------------------\n",
      "Training Step: 4\n",
      "generator loss:0.6046322835892148\n",
      "-----------------------\n"
     ]
    },
    {
     "name": "stderr",
     "output_type": "stream",
     "text": [
      "\r",
      "5it [00:10,  2.01s/it]"
     ]
    },
    {
     "name": "stdout",
     "output_type": "stream",
     "text": [
      "total discriminator loss:0.9250880753146583\n",
      "average true return:0.5060830084224601\n",
      "-----------------------\n",
      "Training Step: 5\n",
      "generator loss:0.5815377378837141\n",
      "-----------------------\n"
     ]
    },
    {
     "name": "stderr",
     "output_type": "stream",
     "text": [
      "\r",
      "6it [00:12,  1.99s/it]"
     ]
    },
    {
     "name": "stdout",
     "output_type": "stream",
     "text": [
      "total discriminator loss:0.7986335156414562\n",
      "average true return:0.5348675639562881\n",
      "-----------------------\n",
      "Training Step: 6\n",
      "generator loss:0.6223192847197043\n",
      "-----------------------\n"
     ]
    },
    {
     "name": "stderr",
     "output_type": "stream",
     "text": [
      "\r",
      "7it [00:14,  1.98s/it]"
     ]
    },
    {
     "name": "stdout",
     "output_type": "stream",
     "text": [
      "total discriminator loss:0.7187631585640922\n",
      "average true return:0.5362083251439091\n",
      "-----------------------\n",
      "Training Step: 7\n",
      "generator loss:0.6845015065944853\n",
      "-----------------------\n"
     ]
    },
    {
     "name": "stderr",
     "output_type": "stream",
     "text": [
      "\r",
      "8it [00:16,  1.98s/it]"
     ]
    },
    {
     "name": "stdout",
     "output_type": "stream",
     "text": [
      "total discriminator loss:0.6678640140663972\n",
      "average true return:0.5206412948179291\n",
      "-----------------------\n",
      "Training Step: 8\n",
      "generator loss:0.7765867628027097\n",
      "-----------------------\n"
     ]
    },
    {
     "name": "stderr",
     "output_type": "stream",
     "text": [
      "\r",
      "9it [00:18,  1.98s/it]"
     ]
    },
    {
     "name": "stdout",
     "output_type": "stream",
     "text": [
      "total discriminator loss:0.6211046419422459\n",
      "average true return:0.4918563927294725\n",
      "-----------------------\n",
      "Training Step: 9\n",
      "generator loss:0.8874145962982507\n",
      "-----------------------\n"
     ]
    },
    {
     "name": "stderr",
     "output_type": "stream",
     "text": [
      "\r",
      "10it [00:20,  1.97s/it]"
     ]
    },
    {
     "name": "stdout",
     "output_type": "stream",
     "text": [
      "total discriminator loss:0.5836379079247609\n",
      "average true return:0.467180303715778\n",
      "-----------------------\n",
      "Training Step: 10\n",
      "generator loss:1.0125238388718416\n",
      "-----------------------\n"
     ]
    },
    {
     "name": "stderr",
     "output_type": "stream",
     "text": [
      "\r",
      "11it [00:22,  1.97s/it]"
     ]
    },
    {
     "name": "stdout",
     "output_type": "stream",
     "text": [
      "total discriminator loss:0.5560344005610826\n",
      "average true return:0.4497316436985503\n",
      "-----------------------\n",
      "Training Step: 11\n",
      "generator loss:1.1158579690230597\n",
      "-----------------------\n"
     ]
    },
    {
     "name": "stderr",
     "output_type": "stream",
     "text": [
      "\r",
      "12it [00:24,  1.96s/it]"
     ]
    },
    {
     "name": "stdout",
     "output_type": "stream",
     "text": [
      "total discriminator loss:0.5140960043025292\n",
      "average true return:0.4413550867321595\n",
      "-----------------------\n",
      "Training Step: 12\n",
      "generator loss:1.199872846426918\n",
      "-----------------------\n"
     ]
    },
    {
     "name": "stderr",
     "output_type": "stream",
     "text": [
      "\r",
      "13it [00:26,  1.96s/it]"
     ]
    },
    {
     "name": "stdout",
     "output_type": "stream",
     "text": [
      "total discriminator loss:0.47219825832917145\n",
      "average true return:0.4460925220711911\n",
      "-----------------------\n",
      "Training Step: 13\n",
      "generator loss:1.2435929399346264\n",
      "-----------------------\n"
     ]
    },
    {
     "name": "stderr",
     "output_type": "stream",
     "text": [
      "\r",
      "14it [00:28,  2.02s/it]"
     ]
    },
    {
     "name": "stdout",
     "output_type": "stream",
     "text": [
      "total discriminator loss:0.46451938703605977\n",
      "average true return:0.4602344912753238\n",
      "-----------------------\n",
      "Training Step: 14\n",
      "generator loss:1.2428115024443305\n",
      "-----------------------\n"
     ]
    },
    {
     "name": "stderr",
     "output_type": "stream",
     "text": [
      "\r",
      "15it [00:30,  2.00s/it]"
     ]
    },
    {
     "name": "stdout",
     "output_type": "stream",
     "text": [
      "total discriminator loss:0.4376678224462627\n",
      "average true return:0.4809876854831101\n",
      "-----------------------\n",
      "Training Step: 15\n",
      "generator loss:1.207851628282483\n",
      "-----------------------\n"
     ]
    },
    {
     "name": "stderr",
     "output_type": "stream",
     "text": [
      "\r",
      "16it [00:32,  1.99s/it]"
     ]
    },
    {
     "name": "stdout",
     "output_type": "stream",
     "text": [
      "total discriminator loss:0.41762802354785605\n",
      "average true return:0.5111362000037898\n",
      "-----------------------\n",
      "Training Step: 16\n",
      "generator loss:1.1539705966216676\n",
      "-----------------------\n"
     ]
    },
    {
     "name": "stderr",
     "output_type": "stream",
     "text": [
      "\r",
      "17it [00:34,  1.98s/it]"
     ]
    },
    {
     "name": "stdout",
     "output_type": "stream",
     "text": [
      "total discriminator loss:0.41906800838658564\n",
      "average true return:0.531643716505942\n",
      "-----------------------\n",
      "Training Step: 17\n",
      "generator loss:1.1169535676626596\n",
      "-----------------------\n"
     ]
    },
    {
     "name": "stderr",
     "output_type": "stream",
     "text": [
      "\r",
      "18it [00:36,  1.97s/it]"
     ]
    },
    {
     "name": "stdout",
     "output_type": "stream",
     "text": [
      "total discriminator loss:0.39838184717500696\n",
      "average true return:0.5403821325331454\n",
      "-----------------------\n",
      "Training Step: 18\n",
      "generator loss:1.0887429377455258\n",
      "-----------------------\n"
     ]
    },
    {
     "name": "stderr",
     "output_type": "stream",
     "text": [
      "\r",
      "19it [00:38,  1.96s/it]"
     ]
    },
    {
     "name": "stdout",
     "output_type": "stream",
     "text": [
      "total discriminator loss:0.3949091168407738\n",
      "average true return:0.5417490528790814\n",
      "-----------------------\n",
      "Training Step: 19\n",
      "generator loss:1.0582857064821622\n",
      "-----------------------\n"
     ]
    },
    {
     "name": "stderr",
     "output_type": "stream",
     "text": [
      "\r",
      "20it [00:39,  1.96s/it]"
     ]
    },
    {
     "name": "stdout",
     "output_type": "stream",
     "text": [
      "total discriminator loss:0.3804840937652024\n",
      "average true return:0.5408818119735485\n",
      "-----------------------\n",
      "Training Step: 20\n",
      "generator loss:1.0263302465434174\n",
      "-----------------------\n"
     ]
    },
    {
     "name": "stderr",
     "output_type": "stream",
     "text": [
      "\r",
      "21it [00:41,  1.96s/it]"
     ]
    },
    {
     "name": "stdout",
     "output_type": "stream",
     "text": [
      "total discriminator loss:0.3758791336595361\n",
      "average true return:0.5349756168670897\n",
      "-----------------------\n",
      "Training Step: 21\n",
      "generator loss:0.9925072930993865\n",
      "-----------------------\n"
     ]
    },
    {
     "name": "stderr",
     "output_type": "stream",
     "text": [
      "\r",
      "22it [00:43,  1.96s/it]"
     ]
    },
    {
     "name": "stdout",
     "output_type": "stream",
     "text": [
      "total discriminator loss:0.36983509806073944\n",
      "average true return:0.5363173651429869\n",
      "-----------------------\n",
      "Training Step: 22\n",
      "generator loss:0.9344187869257077\n",
      "-----------------------\n"
     ]
    },
    {
     "name": "stderr",
     "output_type": "stream",
     "text": [
      "\r",
      "23it [00:45,  1.96s/it]"
     ]
    },
    {
     "name": "stdout",
     "output_type": "stream",
     "text": [
      "total discriminator loss:1.5645997695019593\n",
      "average true return:0.5399428679223935\n",
      "-----------------------\n",
      "Training Step: 23\n",
      "generator loss:0.882850626523781\n",
      "-----------------------\n"
     ]
    },
    {
     "name": "stderr",
     "output_type": "stream",
     "text": [
      "\r",
      "24it [00:47,  1.96s/it]"
     ]
    },
    {
     "name": "stdout",
     "output_type": "stream",
     "text": [
      "total discriminator loss:0.35390015571635985\n",
      "average true return:0.544465292000068\n",
      "-----------------------\n",
      "Training Step: 24\n",
      "generator loss:0.8756506704862793\n",
      "-----------------------\n"
     ]
    },
    {
     "name": "stderr",
     "output_type": "stream",
     "text": [
      "\r",
      "25it [00:49,  1.96s/it]"
     ]
    },
    {
     "name": "stdout",
     "output_type": "stream",
     "text": [
      "total discriminator loss:0.3395622522130268\n",
      "average true return:0.5390955022063157\n",
      "-----------------------\n",
      "Training Step: 25\n",
      "generator loss:0.9077875232417103\n",
      "-----------------------\n",
      "total discriminator loss:0.3790983950103588\n",
      "average true return:0.5240881372077888\n",
      "-----------------------\n",
      "tf.Tensor([[2 2 0 1 1 1 0 1 1 2 0 2 0 1 1 2 0 0 1 1]], shape=(1, 20), dtype=int64)\n"
     ]
    },
    {
     "data": {
      "image/png": "[encoded data removed]",
      "text/plain": [
       "<Figure size 432x288 with 1 Axes>"
      ]
     },
     "metadata": {
      "needs_background": "light"
     },
     "output_type": "display_data"
    },
    {
     "name": "stderr",
     "output_type": "stream",
     "text": [
      "\r",
      "26it [00:52,  2.13s/it]"
     ]
    },
    {
     "name": "stdout",
     "output_type": "stream",
     "text": [
      "Training Step: 26\n",
      "generator loss:0.9461152746410324\n",
      "-----------------------\n"
     ]
    },
    {
     "name": "stderr",
     "output_type": "stream",
     "text": [
      "\r",
      "27it [00:54,  2.08s/it]"
     ]
    },
    {
     "name": "stdout",
     "output_type": "stream",
     "text": [
      "total discriminator loss:0.3681066568369613\n",
      "average true return:0.504236964139461\n",
      "-----------------------\n",
      "Training Step: 27\n",
      "generator loss:0.9968619943750742\n",
      "-----------------------\n"
     ]
    },
    {
     "name": "stderr",
     "output_type": "stream",
     "text": [
      "\r",
      "28it [00:56,  2.04s/it]"
     ]
    },
    {
     "name": "stdout",
     "output_type": "stream",
     "text": [
      "total discriminator loss:1.4473379346262916\n",
      "average true return:0.4832711687564516\n",
      "-----------------------\n",
      "Training Step: 28\n",
      "generator loss:1.0276518123045233\n",
      "-----------------------\n"
     ]
    },
    {
     "name": "stderr",
     "output_type": "stream",
     "text": [
      "\r",
      "29it [00:58,  2.03s/it]"
     ]
    },
    {
     "name": "stdout",
     "output_type": "stream",
     "text": [
      "total discriminator loss:0.40437687746517736\n",
      "average true return:0.4557972165123343\n",
      "-----------------------\n",
      "Training Step: 29\n",
      "generator loss:1.0596612805536227\n",
      "-----------------------\n"
     ]
    },
    {
     "name": "stderr",
     "output_type": "stream",
     "text": [
      "\r",
      "30it [01:00,  2.06s/it]"
     ]
    },
    {
     "name": "stdout",
     "output_type": "stream",
     "text": [
      "total discriminator loss:0.47291850522752954\n",
      "average true return:0.429464684047673\n",
      "-----------------------\n",
      "Training Step: 30\n",
      "generator loss:0.9970940793890545\n",
      "-----------------------\n"
     ]
    },
    {
     "name": "stderr",
     "output_type": "stream",
     "text": [
      "\r",
      "31it [01:02,  2.03s/it]"
     ]
    },
    {
     "name": "stdout",
     "output_type": "stream",
     "text": [
      "total discriminator loss:0.45123713262058873\n",
      "average true return:0.47164295715676463\n",
      "-----------------------\n",
      "Training Step: 31\n",
      "generator loss:0.7348338529063071\n",
      "-----------------------\n"
     ]
    },
    {
     "name": "stderr",
     "output_type": "stream",
     "text": [
      "\r",
      "32it [01:04,  2.01s/it]"
     ]
    },
    {
     "name": "stdout",
     "output_type": "stream",
     "text": [
      "total discriminator loss:0.5471804017414419\n",
      "average true return:0.6364016781783198\n",
      "-----------------------\n",
      "Training Step: 32\n",
      "generator loss:0.3375042415099191\n",
      "-----------------------\n"
     ]
    },
    {
     "name": "stderr",
     "output_type": "stream",
     "text": [
      "\r",
      "33it [01:06,  2.00s/it]"
     ]
    },
    {
     "name": "stdout",
     "output_type": "stream",
     "text": [
      "total discriminator loss:0.9160047447835697\n",
      "average true return:0.7777006772939603\n",
      "-----------------------\n",
      "Training Step: 33\n",
      "generator loss:0.27141673608920047\n",
      "-----------------------\n"
     ]
    },
    {
     "name": "stderr",
     "output_type": "stream",
     "text": [
      "\r",
      "34it [01:08,  1.99s/it]"
     ]
    },
    {
     "name": "stdout",
     "output_type": "stream",
     "text": [
      "total discriminator loss:0.8952478335820888\n",
      "average true return:0.754121183025018\n",
      "-----------------------\n",
      "Training Step: 34\n",
      "generator loss:0.3372746003976662\n",
      "-----------------------\n"
     ]
    },
    {
     "name": "stderr",
     "output_type": "stream",
     "text": [
      "\r",
      "35it [01:10,  1.98s/it]"
     ]
    },
    {
     "name": "stdout",
     "output_type": "stream",
     "text": [
      "total discriminator loss:0.7284218647414519\n",
      "average true return:0.6922011932402676\n",
      "-----------------------\n",
      "Training Step: 35\n",
      "generator loss:0.5137273656546811\n",
      "-----------------------\n"
     ]
    },
    {
     "name": "stderr",
     "output_type": "stream",
     "text": [
      "\r",
      "36it [01:12,  1.96s/it]"
     ]
    },
    {
     "name": "stdout",
     "output_type": "stream",
     "text": [
      "total discriminator loss:0.9372301773201879\n",
      "average true return:0.5530765847034067\n",
      "-----------------------\n",
      "Training Step: 36\n",
      "generator loss:0.9203395234133903\n",
      "-----------------------\n"
     ]
    },
    {
     "name": "stderr",
     "output_type": "stream",
     "text": [
      "\r",
      "37it [01:14,  1.95s/it]"
     ]
    },
    {
     "name": "stdout",
     "output_type": "stream",
     "text": [
      "total discriminator loss:1.1787877055404814\n",
      "average true return:0.397756822517615\n",
      "-----------------------\n",
      "Training Step: 37\n",
      "generator loss:1.2555640497225966\n",
      "-----------------------\n"
     ]
    },
    {
     "name": "stderr",
     "output_type": "stream",
     "text": [
      "\r",
      "38it [01:15,  1.95s/it]"
     ]
    },
    {
     "name": "stdout",
     "output_type": "stream",
     "text": [
      "total discriminator loss:1.3204514028409786\n",
      "average true return:0.3140934113018938\n",
      "-----------------------\n",
      "Training Step: 38\n",
      "generator loss:1.3137607436986185\n",
      "-----------------------\n"
     ]
    },
    {
     "name": "stderr",
     "output_type": "stream",
     "text": [
      "\r",
      "39it [01:17,  1.94s/it]"
     ]
    },
    {
     "name": "stdout",
     "output_type": "stream",
     "text": [
      "total discriminator loss:1.2121250334072182\n",
      "average true return:0.2905126060138569\n",
      "-----------------------\n",
      "Training Step: 39\n",
      "generator loss:1.248865789771506\n",
      "-----------------------\n"
     ]
    },
    {
     "name": "stderr",
     "output_type": "stream",
     "text": [
      "\r",
      "40it [01:19,  1.94s/it]"
     ]
    },
    {
     "name": "stdout",
     "output_type": "stream",
     "text": [
      "total discriminator loss:1.1253736665359884\n",
      "average true return:0.288320450612569\n",
      "-----------------------\n",
      "Training Step: 40\n",
      "generator loss:1.1702809387547695\n",
      "-----------------------\n"
     ]
    },
    {
     "name": "stderr",
     "output_type": "stream",
     "text": [
      "\r",
      "41it [01:21,  1.94s/it]"
     ]
    },
    {
     "name": "stdout",
     "output_type": "stream",
     "text": [
      "total discriminator loss:1.0470616672119013\n",
      "average true return:0.2945586424802796\n",
      "-----------------------\n",
      "Training Step: 41\n",
      "generator loss:1.0976886348504875\n",
      "-----------------------\n"
     ]
    },
    {
     "name": "stderr",
     "output_type": "stream",
     "text": [
      "\r",
      "42it [01:23,  1.94s/it]"
     ]
    },
    {
     "name": "stdout",
     "output_type": "stream",
     "text": [
      "total discriminator loss:0.9529837734335749\n",
      "average true return:0.30129942516204744\n",
      "-----------------------\n",
      "Training Step: 42\n",
      "generator loss:1.0233766299605687\n",
      "-----------------------\n"
     ]
    },
    {
     "name": "stderr",
     "output_type": "stream",
     "text": [
      "\r",
      "43it [01:25,  1.94s/it]"
     ]
    },
    {
     "name": "stdout",
     "output_type": "stream",
     "text": [
      "total discriminator loss:0.8918806436299352\n",
      "average true return:0.3236138911927404\n",
      "-----------------------\n",
      "Training Step: 43\n",
      "generator loss:0.9034643228975776\n",
      "-----------------------\n"
     ]
    },
    {
     "name": "stderr",
     "output_type": "stream",
     "text": [
      "\r",
      "44it [01:27,  1.95s/it]"
     ]
    },
    {
     "name": "stdout",
     "output_type": "stream",
     "text": [
      "total discriminator loss:0.8402533519330107\n",
      "average true return:0.3682236660759286\n",
      "-----------------------\n",
      "Training Step: 44\n",
      "generator loss:0.786307068739162\n",
      "-----------------------\n"
     ]
    },
    {
     "name": "stderr",
     "output_type": "stream",
     "text": [
      "\r",
      "45it [01:29,  1.95s/it]"
     ]
    },
    {
     "name": "stdout",
     "output_type": "stream",
     "text": [
      "total discriminator loss:0.8228195001414536\n",
      "average true return:0.41867191373395696\n",
      "-----------------------\n",
      "Training Step: 45\n",
      "generator loss:0.680209466666725\n",
      "-----------------------\n"
     ]
    },
    {
     "name": "stderr",
     "output_type": "stream",
     "text": [
      "\r",
      "46it [01:31,  1.95s/it]"
     ]
    },
    {
     "name": "stdout",
     "output_type": "stream",
     "text": [
      "total discriminator loss:0.8017095344111392\n",
      "average true return:0.4729158251821588\n",
      "-----------------------\n",
      "Training Step: 46\n",
      "generator loss:0.6095089618331551\n",
      "-----------------------\n"
     ]
    },
    {
     "name": "stderr",
     "output_type": "stream",
     "text": [
      "\r",
      "47it [01:33,  1.96s/it]"
     ]
    },
    {
     "name": "stdout",
     "output_type": "stream",
     "text": [
      "total discriminator loss:0.7777077012888256\n",
      "average true return:0.514863922332728\n",
      "-----------------------\n",
      "Training Step: 47\n",
      "generator loss:0.5762409446560317\n",
      "-----------------------\n"
     ]
    },
    {
     "name": "stderr",
     "output_type": "stream",
     "text": [
      "\r",
      "48it [01:35,  1.96s/it]"
     ]
    },
    {
     "name": "stdout",
     "output_type": "stream",
     "text": [
      "total discriminator loss:0.7496371300837696\n",
      "average true return:0.542880755671788\n",
      "-----------------------\n",
      "Training Step: 48\n",
      "generator loss:0.5889110118900673\n",
      "-----------------------\n"
     ]
    },
    {
     "name": "stderr",
     "output_type": "stream",
     "text": [
      "\r",
      "49it [01:37,  1.96s/it]"
     ]
    },
    {
     "name": "stdout",
     "output_type": "stream",
     "text": [
      "total discriminator loss:0.7025565871176251\n",
      "average true return:0.5538507438802829\n",
      "-----------------------\n",
      "Training Step: 49\n",
      "generator loss:0.6323877493130416\n",
      "-----------------------\n"
     ]
    },
    {
     "name": "stderr",
     "output_type": "stream",
     "text": [
      "\r",
      "50it [01:39,  2.01s/it]"
     ]
    },
    {
     "name": "stdout",
     "output_type": "stream",
     "text": [
      "total discriminator loss:0.6524701430102089\n",
      "average true return:0.5503115644115384\n",
      "-----------------------\n",
      "Training Step: 50\n",
      "generator loss:0.7253672143199514\n",
      "-----------------------\n",
      "total discriminator loss:0.541845049355665\n",
      "average true return:0.5019739268260135\n",
      "-----------------------\n",
      "tf.Tensor([[3 0 2 0 3 2 2 3 3 3 3 1 3 3 3 3 2 2 3 2]], shape=(1, 20), dtype=int64)\n"
     ]
    },
    {
     "data": {
      "image/png": "[encoded data removed]",
      "text/plain": [
       "<Figure size 432x288 with 1 Axes>"
      ]
     },
     "metadata": {
      "needs_background": "light"
     },
     "output_type": "display_data"
    },
    {
     "name": "stderr",
     "output_type": "stream",
     "text": [
      "\r",
      "51it [01:42,  2.17s/it]"
     ]
    },
    {
     "name": "stdout",
     "output_type": "stream",
     "text": [
      "Training Step: 51\n",
      "generator loss:1.1820162607760767\n",
      "-----------------------\n"
     ]
    },
    {
     "name": "stderr",
     "output_type": "stream",
     "text": [
      "\r",
      "52it [01:44,  2.10s/it]"
     ]
    },
    {
     "name": "stdout",
     "output_type": "stream",
     "text": [
      "total discriminator loss:0.44693930560007955\n",
      "average true return:0.4277095661160214\n",
      "-----------------------\n",
      "Training Step: 52\n",
      "generator loss:1.170800508310857\n",
      "-----------------------\n"
     ]
    },
    {
     "name": "stderr",
     "output_type": "stream",
     "text": [
      "\r",
      "53it [01:45,  2.06s/it]"
     ]
    },
    {
     "name": "stdout",
     "output_type": "stream",
     "text": [
      "total discriminator loss:0.4364256113978334\n",
      "average true return:0.43568623629311126\n",
      "-----------------------\n",
      "Training Step: 53\n",
      "generator loss:1.2099515196182995\n",
      "-----------------------\n"
     ]
    },
    {
     "name": "stderr",
     "output_type": "stream",
     "text": [
      "\r",
      "54it [01:47,  2.03s/it]"
     ]
    },
    {
     "name": "stdout",
     "output_type": "stream",
     "text": [
      "total discriminator loss:0.43422438427193777\n",
      "average true return:0.43933417422155113\n",
      "-----------------------\n",
      "Training Step: 54\n",
      "generator loss:1.227300233161617\n",
      "-----------------------\n"
     ]
    },
    {
     "name": "stderr",
     "output_type": "stream",
     "text": [
      "\r",
      "55it [01:49,  2.01s/it]"
     ]
    },
    {
     "name": "stdout",
     "output_type": "stream",
     "text": [
      "total discriminator loss:0.4445768711587096\n",
      "average true return:0.44089781030581265\n",
      "-----------------------\n",
      "Training Step: 55\n",
      "generator loss:1.2192245724593227\n",
      "-----------------------\n"
     ]
    },
    {
     "name": "stderr",
     "output_type": "stream",
     "text": [
      "\r",
      "56it [01:51,  2.00s/it]"
     ]
    },
    {
     "name": "stdout",
     "output_type": "stream",
     "text": [
      "total discriminator loss:0.4217190201244098\n",
      "average true return:0.45179915942245297\n",
      "-----------------------\n",
      "Training Step: 56\n",
      "generator loss:1.1814184879424057\n",
      "-----------------------\n"
     ]
    },
    {
     "name": "stderr",
     "output_type": "stream",
     "text": [
      "\r",
      "57it [01:53,  1.99s/it]"
     ]
    },
    {
     "name": "stdout",
     "output_type": "stream",
     "text": [
      "total discriminator loss:0.40402840031945375\n",
      "average true return:0.4699122071335201\n",
      "-----------------------\n",
      "Training Step: 57\n",
      "generator loss:1.114397605331536\n",
      "-----------------------\n"
     ]
    },
    {
     "name": "stderr",
     "output_type": "stream",
     "text": [
      "\r",
      "58it [01:55,  1.98s/it]"
     ]
    },
    {
     "name": "stdout",
     "output_type": "stream",
     "text": [
      "total discriminator loss:0.38860949141371065\n",
      "average true return:0.48680847061448984\n",
      "-----------------------\n",
      "Training Step: 58\n",
      "generator loss:1.0592288825046468\n",
      "-----------------------\n"
     ]
    },
    {
     "name": "stderr",
     "output_type": "stream",
     "text": [
      "\r",
      "59it [01:57,  1.98s/it]"
     ]
    },
    {
     "name": "stdout",
     "output_type": "stream",
     "text": [
      "total discriminator loss:1.4937074790535732\n",
      "average true return:0.4984874157022662\n",
      "-----------------------\n",
      "Training Step: 59\n",
      "generator loss:0.9691053588650002\n",
      "-----------------------\n"
     ]
    },
    {
     "name": "stderr",
     "output_type": "stream",
     "text": [
      "\r",
      "60it [01:59,  1.97s/it]"
     ]
    },
    {
     "name": "stdout",
     "output_type": "stream",
     "text": [
      "total discriminator loss:0.3894824007705201\n",
      "average true return:0.5175543124932185\n",
      "-----------------------\n",
      "Training Step: 60\n",
      "generator loss:0.8947700552843292\n",
      "-----------------------\n"
     ]
    },
    {
     "name": "stderr",
     "output_type": "stream",
     "text": [
      "\r",
      "61it [02:01,  1.97s/it]"
     ]
    },
    {
     "name": "stdout",
     "output_type": "stream",
     "text": [
      "total discriminator loss:0.3873675401893865\n",
      "average true return:0.537185247257432\n",
      "-----------------------\n",
      "Training Step: 61\n",
      "generator loss:0.8190730490049962\n",
      "-----------------------\n"
     ]
    },
    {
     "name": "stderr",
     "output_type": "stream",
     "text": [
      "\r",
      "62it [02:03,  1.96s/it]"
     ]
    },
    {
     "name": "stdout",
     "output_type": "stream",
     "text": [
      "total discriminator loss:0.38084450932855995\n",
      "average true return:0.5579107354909132\n",
      "-----------------------\n",
      "Training Step: 62\n",
      "generator loss:0.774587400246174\n",
      "-----------------------\n"
     ]
    },
    {
     "name": "stderr",
     "output_type": "stream",
     "text": [
      "\r",
      "63it [02:05,  1.96s/it]"
     ]
    },
    {
     "name": "stdout",
     "output_type": "stream",
     "text": [
      "total discriminator loss:0.3793327217175899\n",
      "average true return:0.5697754546086017\n",
      "-----------------------\n",
      "Training Step: 63\n",
      "generator loss:0.7525801022644455\n",
      "-----------------------\n"
     ]
    },
    {
     "name": "stderr",
     "output_type": "stream",
     "text": [
      "\r",
      "64it [02:07,  1.95s/it]"
     ]
    },
    {
     "name": "stdout",
     "output_type": "stream",
     "text": [
      "total discriminator loss:0.3520200221236264\n",
      "average true return:0.5779541773923884\n",
      "-----------------------\n",
      "Training Step: 64\n",
      "generator loss:0.7409719241339991\n",
      "-----------------------\n"
     ]
    },
    {
     "name": "stderr",
     "output_type": "stream",
     "text": [
      "\r",
      "65it [02:09,  1.94s/it]"
     ]
    },
    {
     "name": "stdout",
     "output_type": "stream",
     "text": [
      "total discriminator loss:0.3742276343290797\n",
      "average true return:0.5798059886275482\n",
      "-----------------------\n",
      "Training Step: 65\n",
      "generator loss:0.7534289932187846\n",
      "-----------------------\n"
     ]
    },
    {
     "name": "stderr",
     "output_type": "stream",
     "text": [
      "\r",
      "66it [02:11,  1.94s/it]"
     ]
    },
    {
     "name": "stdout",
     "output_type": "stream",
     "text": [
      "total discriminator loss:0.36258974305925207\n",
      "average true return:0.5750657633416588\n",
      "-----------------------\n",
      "Training Step: 66\n",
      "generator loss:0.7778536140205972\n",
      "-----------------------\n"
     ]
    },
    {
     "name": "stderr",
     "output_type": "stream",
     "text": [
      "\r",
      "67it [02:13,  1.94s/it]"
     ]
    },
    {
     "name": "stdout",
     "output_type": "stream",
     "text": [
      "total discriminator loss:0.36303313316295316\n",
      "average true return:0.5686552765084598\n",
      "-----------------------\n",
      "Training Step: 67\n",
      "generator loss:0.8188137366984576\n",
      "-----------------------\n"
     ]
    },
    {
     "name": "stderr",
     "output_type": "stream",
     "text": [
      "\r",
      "68it [02:15,  1.99s/it]"
     ]
    },
    {
     "name": "stdout",
     "output_type": "stream",
     "text": [
      "total discriminator loss:0.33918023426391075\n",
      "average true return:0.55573404324769\n",
      "-----------------------\n",
      "Training Step: 68\n",
      "generator loss:0.862167847221747\n",
      "-----------------------\n"
     ]
    },
    {
     "name": "stderr",
     "output_type": "stream",
     "text": [
      "\r",
      "69it [02:17,  1.98s/it]"
     ]
    },
    {
     "name": "stdout",
     "output_type": "stream",
     "text": [
      "total discriminator loss:0.3296663389586383\n",
      "average true return:0.5454010599291028\n",
      "-----------------------\n",
      "Training Step: 69\n",
      "generator loss:0.9170645723864904\n",
      "-----------------------\n"
     ]
    },
    {
     "name": "stderr",
     "output_type": "stream",
     "text": [
      "\r",
      "70it [02:19,  1.97s/it]"
     ]
    },
    {
     "name": "stdout",
     "output_type": "stream",
     "text": [
      "total discriminator loss:0.3386828773226711\n",
      "average true return:0.5336253984305892\n",
      "-----------------------\n",
      "Training Step: 70\n",
      "generator loss:0.9643862836923326\n",
      "-----------------------\n"
     ]
    },
    {
     "name": "stderr",
     "output_type": "stream",
     "text": [
      "\r",
      "71it [02:21,  1.97s/it]"
     ]
    },
    {
     "name": "stdout",
     "output_type": "stream",
     "text": [
      "total discriminator loss:0.30152171546572093\n",
      "average true return:0.5236399049020466\n",
      "-----------------------\n",
      "Training Step: 71\n",
      "generator loss:1.0220383521574607\n",
      "-----------------------\n"
     ]
    },
    {
     "name": "stderr",
     "output_type": "stream",
     "text": [
      "\r",
      "72it [02:23,  1.97s/it]"
     ]
    },
    {
     "name": "stdout",
     "output_type": "stream",
     "text": [
      "total discriminator loss:0.3245189032191187\n",
      "average true return:0.5135796009466631\n",
      "-----------------------\n",
      "Training Step: 72\n",
      "generator loss:1.0625585572913099\n",
      "-----------------------\n"
     ]
    },
    {
     "name": "stderr",
     "output_type": "stream",
     "text": [
      "\r",
      "73it [02:25,  1.97s/it]"
     ]
    },
    {
     "name": "stdout",
     "output_type": "stream",
     "text": [
      "total discriminator loss:0.3203559528662535\n",
      "average true return:0.5054161199392444\n",
      "-----------------------\n",
      "Training Step: 73\n",
      "generator loss:1.1100147287665423\n",
      "-----------------------\n"
     ]
    },
    {
     "name": "stderr",
     "output_type": "stream",
     "text": [
      "\r",
      "74it [02:27,  1.96s/it]"
     ]
    },
    {
     "name": "stdout",
     "output_type": "stream",
     "text": [
      "total discriminator loss:0.3112598401814911\n",
      "average true return:0.49763252253170565\n",
      "-----------------------\n",
      "Training Step: 74\n",
      "generator loss:1.1567046452253829\n",
      "-----------------------\n"
     ]
    },
    {
     "name": "stderr",
     "output_type": "stream",
     "text": [
      "\r",
      "75it [02:29,  1.96s/it]"
     ]
    },
    {
     "name": "stdout",
     "output_type": "stream",
     "text": [
      "total discriminator loss:0.33265402087892254\n",
      "average true return:0.49174918523469274\n",
      "-----------------------\n",
      "Training Step: 75\n",
      "generator loss:1.1917764242635949\n",
      "-----------------------\n",
      "total discriminator loss:0.29045089565223614\n",
      "average true return:0.48915533958971225\n",
      "-----------------------\n",
      "tf.Tensor([[2 1 0 1 3 3 2 1 1 2 2 3 2 2 2 3 3 3 2 3]], shape=(1, 20), dtype=int64)\n"
     ]
    },
    {
     "data": {
      "image/png": "[encoded data removed]",
      "text/plain": [
       "<Figure size 432x288 with 1 Axes>"
      ]
     },
     "metadata": {
      "needs_background": "light"
     },
     "output_type": "display_data"
    },
    {
     "name": "stderr",
     "output_type": "stream",
     "text": [
      "\r",
      "76it [02:31,  2.13s/it]"
     ]
    },
    {
     "name": "stdout",
     "output_type": "stream",
     "text": [
      "Training Step: 76\n",
      "generator loss:1.2341559752026758\n",
      "-----------------------\n"
     ]
    },
    {
     "name": "stderr",
     "output_type": "stream",
     "text": [
      "\r",
      "77it [02:33,  2.08s/it]"
     ]
    },
    {
     "name": "stdout",
     "output_type": "stream",
     "text": [
      "total discriminator loss:0.32248189081288536\n",
      "average true return:0.4855824280695036\n",
      "-----------------------\n",
      "Training Step: 77\n",
      "generator loss:1.2690098103885745\n",
      "-----------------------\n"
     ]
    },
    {
     "name": "stderr",
     "output_type": "stream",
     "text": [
      "\r",
      "78it [02:35,  2.04s/it]"
     ]
    },
    {
     "name": "stdout",
     "output_type": "stream",
     "text": [
      "total discriminator loss:0.30324816668674137\n",
      "average true return:0.48334086430639445\n",
      "-----------------------\n",
      "Training Step: 78\n",
      "generator loss:1.2957093134870792\n",
      "-----------------------\n"
     ]
    },
    {
     "name": "stderr",
     "output_type": "stream",
     "text": [
      "\r",
      "79it [02:37,  2.02s/it]"
     ]
    },
    {
     "name": "stdout",
     "output_type": "stream",
     "text": [
      "total discriminator loss:0.30540642689049013\n",
      "average true return:0.48016241271601484\n",
      "-----------------------\n",
      "Training Step: 79\n",
      "generator loss:1.3198668409848797\n",
      "-----------------------\n"
     ]
    },
    {
     "name": "stderr",
     "output_type": "stream",
     "text": [
      "\r",
      "80it [02:39,  2.00s/it]"
     ]
    },
    {
     "name": "stdout",
     "output_type": "stream",
     "text": [
      "total discriminator loss:0.30875769736144765\n",
      "average true return:0.4816347245784411\n",
      "-----------------------\n",
      "Training Step: 80\n",
      "generator loss:1.3286392744770525\n",
      "-----------------------\n"
     ]
    },
    {
     "name": "stderr",
     "output_type": "stream",
     "text": [
      "\r",
      "81it [02:41,  1.99s/it]"
     ]
    },
    {
     "name": "stdout",
     "output_type": "stream",
     "text": [
      "total discriminator loss:0.3158972714121002\n",
      "average true return:0.4801632360370316\n",
      "-----------------------\n",
      "Training Step: 81\n",
      "generator loss:1.338518780381223\n",
      "-----------------------\n"
     ]
    },
    {
     "name": "stderr",
     "output_type": "stream",
     "text": [
      "\r",
      "82it [02:43,  1.98s/it]"
     ]
    },
    {
     "name": "stdout",
     "output_type": "stream",
     "text": [
      "total discriminator loss:0.2893876793097748\n",
      "average true return:0.4821804728588064\n",
      "-----------------------\n",
      "Training Step: 82\n",
      "generator loss:1.3463141198459265\n",
      "-----------------------\n"
     ]
    },
    {
     "name": "stderr",
     "output_type": "stream",
     "text": [
      "\r",
      "83it [02:45,  1.98s/it]"
     ]
    },
    {
     "name": "stdout",
     "output_type": "stream",
     "text": [
      "total discriminator loss:2.1816072641605464\n",
      "average true return:0.4830298166105015\n",
      "-----------------------\n",
      "Training Step: 83\n",
      "generator loss:1.2978808208097106\n",
      "-----------------------\n"
     ]
    },
    {
     "name": "stderr",
     "output_type": "stream",
     "text": [
      "\r",
      "84it [02:47,  1.97s/it]"
     ]
    },
    {
     "name": "stdout",
     "output_type": "stream",
     "text": [
      "total discriminator loss:0.32622427476912885\n",
      "average true return:0.4849931132108537\n",
      "-----------------------\n",
      "Training Step: 84\n",
      "generator loss:1.2524123387716541\n",
      "-----------------------\n"
     ]
    },
    {
     "name": "stderr",
     "output_type": "stream",
     "text": [
      "\r",
      "85it [02:49,  1.97s/it]"
     ]
    },
    {
     "name": "stdout",
     "output_type": "stream",
     "text": [
      "total discriminator loss:0.319689301549885\n",
      "average true return:0.4868212343030122\n",
      "-----------------------\n",
      "Training Step: 85\n",
      "generator loss:1.2091954397713716\n",
      "-----------------------\n"
     ]
    },
    {
     "name": "stderr",
     "output_type": "stream",
     "text": [
      "\r",
      "86it [02:51,  2.03s/it]"
     ]
    },
    {
     "name": "stdout",
     "output_type": "stream",
     "text": [
      "total discriminator loss:0.3089063804055658\n",
      "average true return:0.4896646628742062\n",
      "-----------------------\n",
      "Training Step: 86\n",
      "generator loss:1.1657098126609347\n",
      "-----------------------\n"
     ]
    },
    {
     "name": "stderr",
     "output_type": "stream",
     "text": [
      "\r",
      "87it [02:53,  2.02s/it]"
     ]
    },
    {
     "name": "stdout",
     "output_type": "stream",
     "text": [
      "total discriminator loss:0.31984119593379823\n",
      "average true return:0.4950675380389486\n",
      "-----------------------\n",
      "Training Step: 87\n",
      "generator loss:1.1255083214043586\n",
      "-----------------------\n"
     ]
    },
    {
     "name": "stderr",
     "output_type": "stream",
     "text": [
      "\r",
      "88it [02:55,  2.00s/it]"
     ]
    },
    {
     "name": "stdout",
     "output_type": "stream",
     "text": [
      "total discriminator loss:0.2858313551309407\n",
      "average true return:0.49946818446226027\n",
      "-----------------------\n",
      "Training Step: 88\n",
      "generator loss:1.0970021183272995\n",
      "-----------------------\n"
     ]
    },
    {
     "name": "stderr",
     "output_type": "stream",
     "text": [
      "\r",
      "89it [02:57,  2.00s/it]"
     ]
    },
    {
     "name": "stdout",
     "output_type": "stream",
     "text": [
      "total discriminator loss:0.2875662005444188\n",
      "average true return:0.5029710371351062\n",
      "-----------------------\n",
      "Training Step: 89\n",
      "generator loss:1.0647524811626532\n",
      "-----------------------\n"
     ]
    },
    {
     "name": "stderr",
     "output_type": "stream",
     "text": [
      "\r",
      "90it [02:59,  1.99s/it]"
     ]
    },
    {
     "name": "stdout",
     "output_type": "stream",
     "text": [
      "total discriminator loss:0.33217356151672156\n",
      "average true return:0.5061824895179379\n",
      "-----------------------\n",
      "Training Step: 90\n",
      "generator loss:1.027953507910798\n",
      "-----------------------\n"
     ]
    },
    {
     "name": "stderr",
     "output_type": "stream",
     "text": [
      "\r",
      "91it [03:01,  1.97s/it]"
     ]
    },
    {
     "name": "stdout",
     "output_type": "stream",
     "text": [
      "total discriminator loss:1.7939944135661174\n",
      "average true return:0.512101188580592\n",
      "-----------------------\n",
      "Training Step: 91\n",
      "generator loss:0.9534135426887819\n",
      "-----------------------\n"
     ]
    },
    {
     "name": "stderr",
     "output_type": "stream",
     "text": [
      "\r",
      "92it [03:03,  1.96s/it]"
     ]
    },
    {
     "name": "stdout",
     "output_type": "stream",
     "text": [
      "total discriminator loss:0.33518280590733374\n",
      "average true return:0.5282000663778899\n",
      "-----------------------\n",
      "Training Step: 92\n",
      "generator loss:0.8292849540674128\n",
      "-----------------------\n"
     ]
    },
    {
     "name": "stderr",
     "output_type": "stream",
     "text": [
      "\r",
      "93it [03:05,  1.95s/it]"
     ]
    },
    {
     "name": "stdout",
     "output_type": "stream",
     "text": [
      "total discriminator loss:0.44391312748903167\n",
      "average true return:0.6059811379143427\n",
      "-----------------------\n",
      "Training Step: 93\n",
      "generator loss:0.3522668927189646\n",
      "-----------------------\n"
     ]
    },
    {
     "name": "stderr",
     "output_type": "stream",
     "text": [
      "\r",
      "94it [03:07,  1.96s/it]"
     ]
    },
    {
     "name": "stdout",
     "output_type": "stream",
     "text": [
      "total discriminator loss:0.9832246926763435\n",
      "average true return:0.824254541231884\n",
      "-----------------------\n",
      "Training Step: 94\n",
      "generator loss:0.18234031853588803\n",
      "-----------------------\n"
     ]
    },
    {
     "name": "stderr",
     "output_type": "stream",
     "text": [
      "\r",
      "95it [03:09,  1.96s/it]"
     ]
    },
    {
     "name": "stdout",
     "output_type": "stream",
     "text": [
      "total discriminator loss:1.0199130792744628\n",
      "average true return:0.8378578829076837\n",
      "-----------------------\n",
      "Training Step: 95\n",
      "generator loss:0.2052298686989998\n",
      "-----------------------\n"
     ]
    },
    {
     "name": "stderr",
     "output_type": "stream",
     "text": [
      "\r",
      "96it [03:11,  1.96s/it]"
     ]
    },
    {
     "name": "stdout",
     "output_type": "stream",
     "text": [
      "total discriminator loss:0.9644348235848299\n",
      "average true return:0.8047576950570569\n",
      "-----------------------\n",
      "Training Step: 96\n",
      "generator loss:0.2634829262501516\n",
      "-----------------------\n"
     ]
    },
    {
     "name": "stderr",
     "output_type": "stream",
     "text": [
      "\r",
      "97it [03:13,  1.96s/it]"
     ]
    },
    {
     "name": "stdout",
     "output_type": "stream",
     "text": [
      "total discriminator loss:0.8685316683818729\n",
      "average true return:0.7569776448696443\n",
      "-----------------------\n",
      "Training Step: 97\n",
      "generator loss:0.34216918689117204\n",
      "-----------------------\n"
     ]
    },
    {
     "name": "stderr",
     "output_type": "stream",
     "text": [
      "\r",
      "98it [03:14,  1.96s/it]"
     ]
    },
    {
     "name": "stdout",
     "output_type": "stream",
     "text": [
      "total discriminator loss:0.8083737689270264\n",
      "average true return:0.6952570334507409\n",
      "-----------------------\n",
      "Training Step: 98\n",
      "generator loss:0.4413664129427606\n",
      "-----------------------\n"
     ]
    },
    {
     "name": "stderr",
     "output_type": "stream",
     "text": [
      "\r",
      "99it [03:16,  1.95s/it]"
     ]
    },
    {
     "name": "stdout",
     "output_type": "stream",
     "text": [
      "total discriminator loss:0.762570829810054\n",
      "average true return:0.6270870217291293\n",
      "-----------------------\n",
      "Training Step: 99\n",
      "generator loss:0.5555532680374089\n",
      "-----------------------\n"
     ]
    },
    {
     "name": "stderr",
     "output_type": "stream",
     "text": [
      "100it [03:18,  1.99s/it]"
     ]
    },
    {
     "name": "stdout",
     "output_type": "stream",
     "text": [
      "total discriminator loss:0.7417232772485486\n",
      "average true return:0.5520449777037434\n",
      "-----------------------\n"
     ]
    },
    {
     "name": "stderr",
     "output_type": "stream",
     "text": [
      "\n"
     ]
    }
   ],
   "source": [
    "_TOTAL_STEPS = 100\n",
    "for feature_batch, _ in tqdm(train_dataset.take(_TOTAL_STEPS)):\n",
    "    event_type_batch, time_delta_batch = feature_batch\n",
    "\n",
    "    print('Training Step:', step)\n",
    "    # train the generator\n",
    "    for _ in range(_G_STEPS):\n",
    "        gen_loss = train_generator_gumbel(G, D, BATCH_SIZE, T, verbose=True, optimizer=G_optimizer)\n",
    "        gen_loss_history.append(gen_loss.numpy())\n",
    "    \n",
    "    # train the discriminator\n",
    "    for _ in range(_D_STEPS):\n",
    "        disc_loss, ave_true_return = train_discriminator_gumbel(event_type_batch, time_delta_batch, G, D, BATCH_SIZE, T,\n",
    "                                                                verbose=True, optimizer=D_optimizer, \n",
    "                                                                label_smoothing=True, label_flipping=True)\n",
    "        disc_loss_history.append(disc_loss.numpy())\n",
    "        average_true_return_history.append(ave_true_return.numpy())\n",
    "        \n",
    "        \n",
    "    if step % 25 == 0:\n",
    "        _gen_seqs_et, _gen_seqs_ts = generate_sequences_gumbel(1, G, BATCH_SIZE, T)\n",
    "        plt.figure()\n",
    "        print(tf.argmax(_gen_seqs_et, axis=2))\n",
    "        x = np.arange(_gen_seqs_et[0,:,:].shape[0])\n",
    "        y = _gen_seqs_ts[0,:,:]\n",
    "        plt.plot(x, y)\n",
    "        plt.title(f'wave shape after {step} steps')\n",
    "        plt.show()\n",
    "        \n",
    "    step += 1"
   ]
  },
  {
   "cell_type": "code",
   "execution_count": 79,
   "id": "floral-annual",
   "metadata": {},
   "outputs": [
    {
     "data": {
      "text/plain": [
       "Text(0.5, 0, 'Training steps')"
      ]
     },
     "execution_count": 79,
     "metadata": {},
     "output_type": "execute_result"
    },
    {
     "data": {
      "image/png": "[encoded data removed]",
      "text/plain": [
       "<Figure size 600x400 with 1 Axes>"
      ]
     },
     "metadata": {
      "needs_background": "light"
     },
     "output_type": "display_data"
    },
    {
     "data": {
      "image/png": "[encoded data removed]",
      "text/plain": [
       "<Figure size 600x400 with 1 Axes>"
      ]
     },
     "metadata": {
      "needs_background": "light"
     },
     "output_type": "display_data"
    }
   ],
   "source": [
    "x = range(len(gen_loss_history))\n",
    "plt.figure(dpi=100)\n",
    "plt.plot(x, gen_loss_history)\n",
    "plt.title('Generator Loss History')\n",
    "plt.xlabel('Training steps')\n",
    "\n",
    "x = range(len(disc_loss_history))\n",
    "plt.figure(dpi=100)\n",
    "plt.plot(x, disc_loss_history)\n",
    "plt.title('Discriminator Loss History')\n",
    "plt.xlabel('Training steps')"
   ]
  },
  {
   "cell_type": "markdown",
   "id": "accurate-fossil",
   "metadata": {},
   "source": [
    "## Compare between G0, G1 and G2"
   ]
  },
  {
   "cell_type": "code",
   "execution_count": 80,
   "id": "random-geneva",
   "metadata": {},
   "outputs": [],
   "source": [
    "from matplotlib import pyplot as plt"
   ]
  },
  {
   "cell_type": "code",
   "execution_count": 81,
   "id": "tropical-disney",
   "metadata": {},
   "outputs": [
    {
     "name": "stdout",
     "output_type": "stream",
     "text": [
      "tf.Tensor(\n",
      "[[3 3 1 3 2 3 1 2 0 3 1 2 1 1 1 0 2 3 0 3]\n",
      " [0 0 3 3 0 1 3 3 0 0 0 1 0 0 1 1 2 1 2 3]\n",
      " [3 2 0 0 0 3 0 2 0 0 3 2 1 3 2 1 3 0 0 0]\n",
      " [0 2 0 0 2 3 0 2 0 2 2 0 1 0 3 3 3 2 1 2]\n",
      " [2 0 1 0 1 2 1 2 3 1 0 0 0 2 3 3 3 1 0 0]\n",
      " [1 3 3 2 2 2 2 0 0 0 1 1 2 0 3 0 0 3 0 0]\n",
      " [3 0 2 1 3 0 0 1 1 0 3 0 3 0 3 0 1 1 2 2]\n",
      " [0 2 0 2 3 1 2 0 2 0 1 3 1 3 2 3 0 2 3 1]\n",
      " [3 3 0 1 1 0 3 0 3 2 3 2 3 1 0 0 0 2 0 1]\n",
      " [1 2 2 3 2 2 0 2 2 1 0 0 0 1 3 3 1 0 2 2]], shape=(10, 20), dtype=int64)\n"
     ]
    },
    {
     "data": {
      "text/plain": [
       "[<matplotlib.lines.Line2D at 0x7fb3e6193510>]"
      ]
     },
     "execution_count": 81,
     "metadata": {},
     "output_type": "execute_result"
    },
    {
     "data": {
      "image/png": "[encoded data removed]",
      "text/plain": [
       "<Figure size 432x288 with 1 Axes>"
      ]
     },
     "metadata": {
      "needs_background": "light"
     },
     "output_type": "display_data"
    }
   ],
   "source": [
    "G0 = build_G(\n",
    "    batch_size = BATCH_SIZE,\n",
    "    event_vocab_dim = EVENT_VOCAB_DIM,\n",
    "    emb_dim = EMB_DIM,\n",
    "    hidden_dim= HIDDEN_DIM,\n",
    ")\n",
    "seqs_random_et, seqs_random_ts = generate_sequences_gumbel(10, G0, BATCH_SIZE, T)\n",
    "print(tf.argmax(seqs_random_et, axis=2))\n",
    "\n",
    "ind = 1\n",
    "x = np.arange(seqs_random_ts[ind,:,:].shape[0])\n",
    "y = seqs_random_ts[ind,:,:]\n",
    "\n",
    "plt.plot(x, y)"
   ]
  },
  {
   "cell_type": "code",
   "execution_count": 82,
   "id": "greater-latvia",
   "metadata": {},
   "outputs": [
    {
     "name": "stdout",
     "output_type": "stream",
     "text": [
      "tf.Tensor(\n",
      "[[0 1 2 3 1 2 2 3 1 3 1 2 1 2 1 0 2 1 3 1]\n",
      " [2 1 0 0 1 1 2 2 2 3 3 2 2 1 0 3 1 2 2 1]\n",
      " [2 1 1 0 1 1 2 1 3 2 2 2 1 3 3 2 0 2 1 3]\n",
      " [0 2 3 1 0 1 1 2 1 0 2 2 0 2 1 3 2 1 0 2]\n",
      " [2 2 1 0 2 2 3 3 3 2 3 2 1 0 2 0 2 0 3 1]\n",
      " [3 2 2 3 2 1 1 1 2 0 2 1 0 2 1 1 2 2 2 0]\n",
      " [3 1 0 1 2 2 3 2 2 0 2 0 2 3 3 1 2 1 2 2]\n",
      " [2 2 3 3 1 1 1 2 0 2 2 1 0 0 2 1 0 2 1 1]\n",
      " [3 2 2 1 3 2 1 0 2 1 2 0 0 2 3 1 0 2 0 1]\n",
      " [2 0 1 2 0 2 2 3 3 1 3 2 1 0 3 2 2 1 3 0]], shape=(10, 20), dtype=int64)\n"
     ]
    },
    {
     "data": {
      "text/plain": [
       "[<matplotlib.lines.Line2D at 0x7fb3e6a3d0d0>]"
      ]
     },
     "execution_count": 82,
     "metadata": {},
     "output_type": "execute_result"
    },
    {
     "data": {
      "image/png": "[encoded data removed]",
      "text/plain": [
       "<Figure size 432x288 with 1 Axes>"
      ]
     },
     "metadata": {
      "needs_background": "light"
     },
     "output_type": "display_data"
    }
   ],
   "source": [
    "G1 = pretrained_generator\n",
    "seqs_pretrained_et, seqs_pretrained_ts = generate_sequences_gumbel(10, G1, BATCH_SIZE, T)\n",
    "print(tf.argmax(seqs_pretrained_et, axis=2))\n",
    "\n",
    "ind = 1\n",
    "x = np.arange(seqs_pretrained_ts[ind,:,:].shape[0])\n",
    "y = seqs_pretrained_ts[ind,:,:]\n",
    "\n",
    "plt.plot(x, y)"
   ]
  },
  {
   "cell_type": "code",
   "execution_count": 83,
   "id": "banner-wichita",
   "metadata": {},
   "outputs": [
    {
     "name": "stdout",
     "output_type": "stream",
     "text": [
      "tf.Tensor(\n",
      "[[2 0 3 1 2 1 0 2 3 2 2 1 0 2 2 3 2 1 1 3]\n",
      " [1 1 1 0 2 3 1 2 3 1 1 1 0 2 2 0 1 0 3 1]\n",
      " [2 2 2 3 2 3 2 1 0 2 1 0 2 3 2 1 2 0 1 2]\n",
      " [0 2 2 1 0 1 0 1 0 0 2 2 2 3 0 0 0 2 2 1]\n",
      " [0 0 1 2 3 1 2 3 3 2 3 1 2 0 2 0 2 1 2 0]\n",
      " [2 3 1 1 0 2 1 2 2 1 0 0 3 2 3 2 2 0 3 2]\n",
      " [2 3 1 2 1 2 0 1 2 2 3 2 1 0 3 2 2 2 2 2]\n",
      " [3 1 0 1 0 1 3 1 2 2 2 1 1 2 0 1 2 2 3 1]\n",
      " [3 1 2 2 0 2 1 2 0 1 2 3 1 1 0 1 2 2 2 2]\n",
      " [1 0 1 2 1 0 3 2 2 3 2 0 1 1 1 2 2 0 1 0]], shape=(10, 20), dtype=int64)\n"
     ]
    },
    {
     "data": {
      "text/plain": [
       "[<matplotlib.lines.Line2D at 0x7fb3e6050cd0>]"
      ]
     },
     "execution_count": 83,
     "metadata": {},
     "output_type": "execute_result"
    },
    {
     "data": {
      "image/png": "[encoded data removed]",
      "text/plain": [
       "<Figure size 432x288 with 1 Axes>"
      ]
     },
     "metadata": {
      "needs_background": "light"
     },
     "output_type": "display_data"
    }
   ],
   "source": [
    "G2 = G\n",
    "seqs_trained_et, seqs_trained_ts = generate_sequences_gumbel(10, G2, BATCH_SIZE, T)\n",
    "\n",
    "print(tf.argmax(seqs_trained_et, axis=2))\n",
    "\n",
    "ind = 3\n",
    "x = np.arange(seqs_trained_ts[ind,:,:].shape[0])\n",
    "y = seqs_trained_ts[ind,:,:]\n",
    "\n",
    "plt.plot(x, y)"
   ]
  },
  {
   "cell_type": "markdown",
   "id": "opposed-cuisine",
   "metadata": {},
   "source": [
    "## Save trained G and D weights"
   ]
  },
  {
   "cell_type": "code",
   "execution_count": 75,
   "id": "successful-career",
   "metadata": {},
   "outputs": [],
   "source": [
    "if not os.path.exists(model_save_dir + '/G_run_syn_v11_200'):\n",
    "    os.makedirs(model_save_dir + '/G_run_syn_v11_200')\n",
    "\n",
    "G_save_path = model_save_dir + '/G_run_syn_v11_200/model.tf'\n",
    "                \n",
    "if not os.path.exists(model_save_dir + '/D_run_syn_v11_200'):\n",
    "    os.makedirs(model_save_dir + '/D_run_syn_v11_200')\n",
    "\n",
    "D_save_path = model_save_dir + '/D_run_syn_v11_200/model.tf'\n",
    "\n",
    "G.save_weights(G_save_path)\n",
    "D.save_weights(D_save_path)"
   ]
  },
  {
   "cell_type": "markdown",
   "id": "other-egypt",
   "metadata": {},
   "source": [
    "## Generate Synthesized data"
   ]
  },
  {
   "cell_type": "code",
   "execution_count": 87,
   "id": "educational-neutral",
   "metadata": {},
   "outputs": [],
   "source": [
    "G_save_path = '/home/lun/project-basileus/multitype-sequence-generation-by-tlstm-gan/models/combined-gs-v11/G_run_syn_v11_200/model.tf'"
   ]
  },
  {
   "cell_type": "code",
   "execution_count": 88,
   "id": "crazy-alliance",
   "metadata": {},
   "outputs": [
    {
     "name": "stdout",
     "output_type": "stream",
     "text": [
      "Model: \"model_16\"\n",
      "__________________________________________________________________________________________________\n",
      "Layer (type)                    Output Shape         Param #     Connected to                     \n",
      "==================================================================================================\n",
      "event_type (InputLayer)         [(256, None, 4)]     0                                            \n",
      "__________________________________________________________________________________________________\n",
      "dense_emb (Dense)               (256, None, 16)      80          event_type[0][0]                 \n",
      "__________________________________________________________________________________________________\n",
      "time_delta_in (InputLayer)      [(256, None, 1)]     0                                            \n",
      "__________________________________________________________________________________________________\n",
      "tf_op_layer_concat_16 (TensorFl [(256, None, 17)]    0           dense_emb[0][0]                  \n",
      "                                                                 time_delta_in[0][0]              \n",
      "__________________________________________________________________________________________________\n",
      "lstm_token (LSTM)               (256, 128)           74752       tf_op_layer_concat_16[0][0]      \n",
      "__________________________________________________________________________________________________\n",
      "lstm_time (LSTM)                (256, 128)           74752       tf_op_layer_concat_16[0][0]      \n",
      "__________________________________________________________________________________________________\n",
      "concatenate_16 (Concatenate)    (256, 256)           0           lstm_token[0][0]                 \n",
      "                                                                 lstm_time[0][0]                  \n",
      "__________________________________________________________________________________________________\n",
      "dense_combination (Dense)       (256, 128)           32896       concatenate_16[0][0]             \n",
      "__________________________________________________________________________________________________\n",
      "dense_token (Dense)             (256, 4)             516         dense_combination[0][0]          \n",
      "__________________________________________________________________________________________________\n",
      "dense_time (Dense)              (256, 1)             129         dense_combination[0][0]          \n",
      "==================================================================================================\n",
      "Total params: 183,125\n",
      "Trainable params: 183,125\n",
      "Non-trainable params: 0\n",
      "__________________________________________________________________________________________________\n"
     ]
    }
   ],
   "source": [
    "G_200 = build_G(\n",
    "    batch_size = BATCH_SIZE,\n",
    "    event_vocab_dim = EVENT_VOCAB_DIM,\n",
    "    emb_dim = EMB_DIM,\n",
    "    hidden_dim= HIDDEN_DIM,\n",
    ")\n",
    "\n",
    "G_200.build(input_shape=((BATCH_SIZE, T, 1)))\n",
    "G.load_weights(G_save_path)\n",
    "G.summary()"
   ]
  },
  {
   "cell_type": "code",
   "execution_count": 145,
   "id": "directed-appeal",
   "metadata": {},
   "outputs": [],
   "source": [
    "raw_seqs_trained_et_200, raw_seqs_trained_ts_200 = generate_sequences_gumbel(400000, G_200, BATCH_SIZE, T)"
   ]
  },
  {
   "cell_type": "code",
   "execution_count": 148,
   "id": "eight-concert",
   "metadata": {},
   "outputs": [],
   "source": [
    "seqs_save_et_200 = tf.argmax(raw_seqs_trained_et_200[:400000, :, :], axis=2)\n",
    "seqs_save_ts_200 = apply_mean_std(raw_seqs_trained_ts_200[:400000, :, :], *get_mean_std(raw_pos_timestamp_seqs))"
   ]
  },
  {
   "cell_type": "code",
   "execution_count": 151,
   "id": "rolled-alexandria",
   "metadata": {},
   "outputs": [],
   "source": [
    "import pickle\n",
    "\n",
    "pos_seqs_filename_et = 'syn_positive_type_sequences.pickle'\n",
    "pos_seqs_filename_ts = 'syn_positive_time_sequences.pickle'\n",
    "\n",
    "repo_path = \"/home/lun/project-basileus/multitype-sequence-generation-by-tlstm-gan/\"\n",
    "\n",
    "with open(os.path.join(repo_path, 'syn_data', 'combined_v0', pos_seqs_filename_et), 'wb') as f:\n",
    "    pickle.dump(seqs_save_et_200, f)\n",
    "    \n",
    "with open(os.path.join(repo_path, 'syn_data', 'combined_v0', pos_seqs_filename_ts), 'wb') as f:\n",
    "    pickle.dump(seqs_save_ts_200, f)"
   ]
  },
  {
   "cell_type": "code",
   "execution_count": null,
   "id": "elegant-controversy",
   "metadata": {},
   "outputs": [],
   "source": []
  }
 ],
 "metadata": {
  "kernelspec": {
   "display_name": "Python 3",
   "language": "python",
   "name": "python3"
  }
 },
 "nbformat": 4,
 "nbformat_minor": 5
}
