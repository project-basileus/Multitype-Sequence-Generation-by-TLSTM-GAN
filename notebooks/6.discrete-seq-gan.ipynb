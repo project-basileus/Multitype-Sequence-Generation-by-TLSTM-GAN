{
 "cells": [
  {
   "cell_type": "code",
   "execution_count": null,
   "id": "starting-plastic",
   "metadata": {},
   "outputs": [],
   "source": [
    "import os \n",
    "import sys\n",
    "from tqdm import tqdm\n",
    "import importlib\n",
    "import numpy as np\n",
    "import pickle\n",
    "import tensorflow as tf\n",
    "import matplotlib.pyplot as plt\n",
    "\n",
    "module_path = \"/home/lun/project-basileus/multitype-sequence-generation-by-tlstm-gan/\"\n",
    "data_path = \"/home/lun/project-basileus/multitype-sequence-generation-by-tlstm-gan/data/long_seqs_v10/\"\n",
    "model_save_dir = '/home/lun/project-basileus/multitype-sequence-generation-by-tlstm-gan/models/discrete-seq-gan-mc'\n",
    "\n",
    "if module_path not in sys.path:\n",
    "    sys.path.append(module_path)"
   ]
  },
  {
   "cell_type": "code",
   "execution_count": 2,
   "id": "funny-swaziland",
   "metadata": {},
   "outputs": [
    {
     "data": {
      "text/plain": [
       "'2.1.0'"
      ]
     },
     "execution_count": 2,
     "metadata": {},
     "output_type": "execute_result"
    }
   ],
   "source": [
    "tf.__version__"
   ]
  },
  {
   "cell_type": "code",
   "execution_count": 4,
   "id": "duplicate-sugar",
   "metadata": {},
   "outputs": [],
   "source": [
    "BATCH_SIZE = 256\n",
    "T = 20 + 1\n",
    "VOCAB = ['END/PADDING', 'INIT', 'start', 'view', 'click', 'install']\n",
    "EVENT_VOCAB_DIM = len(VOCAB)\n",
    "EMB_DIM = 16\n",
    "HIDDEN_DIM = 16\n",
    "\n",
    "END_TOKEN = 0"
   ]
  },
  {
   "cell_type": "markdown",
   "id": "juvenile-object",
   "metadata": {},
   "source": [
    "## Load Data"
   ]
  },
  {
   "cell_type": "code",
   "execution_count": 5,
   "id": "reflected-gamma",
   "metadata": {},
   "outputs": [],
   "source": [
    "pos_data_path = os.path.join(data_path, 'positive_long_sequences.pickle')\n",
    "# neg_data_path = os.path.join(data_path, 'negative_long_sequences.pickle')\n",
    "\n",
    "def load_sequence_from_pickle_to_numpy(pickle_file_path):\n",
    "    \"\"\"\n",
    "        A list of sequence in format of (event_type, time_delta)\n",
    "    :param pickle_file_path: e.g. /.../project-basileus/seq-gan/data/fixed_length/valid_sequences.pickle\n",
    "    :return: (event_type_seqs, time_delta)\n",
    "    \"\"\"\n",
    "    with open(pickle_file_path, 'rb') as f:\n",
    "        raw_seqs = pickle.load(f)\n",
    "\n",
    "    if not raw_seqs or not raw_seqs[0]:\n",
    "        return np.array([]), np.array([])\n",
    "\n",
    "    N = len(raw_seqs)\n",
    "    T = len(raw_seqs[0])\n",
    "    \n",
    "    seqs = np.array(raw_seqs)\n",
    "#     print(seqs.shape)\n",
    "    \n",
    "    et_seqs = seqs[:, :, 0].astype(np.float64).reshape((N, T, 1))\n",
    "    ts_seqs = seqs[:, :, 1].astype(np.float64).reshape((N, T, 1))\n",
    "    return et_seqs, ts_seqs\n",
    "    \n",
    "pos_event_type_seqs, pos_timestamp_seqs = load_sequence_from_pickle_to_numpy(pos_data_path)\n",
    "# neg_event_type_seqs, neg_timestamp_seqs = load_sequence_from_pickle_to_numpy(neg_data_path)"
   ]
  },
  {
   "cell_type": "code",
   "execution_count": 6,
   "id": "prepared-kansas",
   "metadata": {},
   "outputs": [],
   "source": [
    "def create_dataset(features: np.array, labels: np.array, batch_size=2, epochs=10, buffer_size=10000):\n",
    "    \"\"\"\n",
    "    Create dataset from numpy arrays\n",
    "    \"\"\"\n",
    "    dataset = tf.data.Dataset.from_tensor_slices((features, labels))\n",
    "    dataset = dataset.shuffle(buffer_size)\n",
    "    dataset = dataset.repeat(epochs)\n",
    "    dataset = dataset.batch(batch_size, drop_remainder=True)\n",
    "    return dataset"
   ]
  },
  {
   "cell_type": "code",
   "execution_count": 7,
   "id": "brown-stranger",
   "metadata": {},
   "outputs": [],
   "source": [
    "BATCH_SIZE = 256\n",
    "T = 20 + 1\n",
    "VOCAB = ['END/PADDING', 'INIT', 'start', 'view', 'click', 'install']\n",
    "EVENT_VOCAB_DIM = len(VOCAB)\n",
    "EMB_DIM = 16\n",
    "HIDDEN_DIM = 16\n",
    "\n",
    "END_TOKEN = 0\n",
    "MAX_TIME = 1024"
   ]
  },
  {
   "cell_type": "markdown",
   "id": "sensitive-organic",
   "metadata": {},
   "source": [
    "## Create original SeqGan"
   ]
  },
  {
   "cell_type": "code",
   "execution_count": 10,
   "id": "linear-sunrise",
   "metadata": {},
   "outputs": [],
   "source": [
    "import tensorflow as tf\n",
    "from tensorflow.keras import backend as K\n",
    "from tensorflow.keras.models import Model\n",
    "from tensorflow.keras import Sequential\n",
    "from tensorflow.keras.optimizers import Adam, SGD\n",
    "from tensorflow.keras.layers import Input, LSTM, Embedding, Reshape, Dense, Dropout, Conv1D, Conv2D, MaxPooling1D, Activation, Multiply, Add, Lambda\n",
    "from tensorflow.keras import regularizers\n",
    "\n",
    "tf.keras.backend.set_floatx('float64')\n",
    "\n",
    "\n",
    "def build_G(batch_size, event_vocab_dim, emb_dim, hidden_dim=16):\n",
    "    # normal LSTM\n",
    "    i_et = Input(batch_shape=(batch_size, None, 1), name='event_type')  # input of discrete feature event type\n",
    "    \n",
    "    embed0 = Embedding(input_dim=event_vocab_dim, output_dim=emb_dim, mask_zero=True)(i_et)\n",
    "    # turn [batch_size, None, 1, emb_dim] -> [batch_size, None, emb_dim]\n",
    "    embed0 = tf.squeeze(embed0, axis=2)\n",
    "\n",
    "    hm = LSTM(hidden_dim, \n",
    "              name='lstm',\n",
    "              stateful=True,\n",
    "              return_sequences=False,\n",
    "              kernel_initializer=tf.keras.initializers.RandomNormal(stddev=0.1),\n",
    "              recurrent_initializer=tf.keras.initializers.RandomNormal(stddev=0.1),\n",
    "              bias_initializer=tf.keras.initializers.RandomNormal(stddev=0.1))(embed0)\n",
    "\n",
    "    logits = Dense(event_vocab_dim,\n",
    "                   activation='linear',\n",
    "                   name='dense_1',\n",
    "                   kernel_initializer=tf.keras.initializers.RandomNormal(stddev=0.1),\n",
    "                   bias_initializer=tf.keras.initializers.RandomNormal(stddev=0.1))(hm)\n",
    "    \n",
    "    generator = Model(\n",
    "        inputs=i_et,\n",
    "        outputs=logits)\n",
    "        \n",
    "    return generator"
   ]
  },
  {
   "cell_type": "code",
   "execution_count": 11,
   "id": "piano-merchandise",
   "metadata": {},
   "outputs": [],
   "source": [
    "# Modified from: https://gist.github.com/iskandr/a874e4cf358697037d14a17020304535\n",
    "def highway_layers(value, n_layers, activation=\"tanh\", gate_bias=-3):\n",
    "    dim = K.int_shape(value)[-1]\n",
    "    gate_bias_initializer = tf.keras.initializers.Constant(gate_bias)\n",
    "    for i in range(n_layers):     \n",
    "        gate = Dense(units=dim, bias_initializer=gate_bias_initializer, activation='sigmoid')(value)\n",
    "        negated_gate = Lambda(\n",
    "            lambda x: 1.0 - x,\n",
    "            output_shape=(dim,))(gate)\n",
    "        transformed = Dense(units=dim, activation=activation)(value)\n",
    "        transformed_gated = Multiply()([gate, transformed])\n",
    "        identity_gated = Multiply()([negated_gate, value])\n",
    "        value = Add()([transformed_gated, identity_gated])\n",
    "    return value\n",
    "\n",
    "\n",
    "def build_D_CNN(T, event_vocab_dim, emb_dim, num_filters=100, kernel_size=4, dropout_rate=0.25):\n",
    "    # Highway network\n",
    "    i_et = Input(shape=(T, 1), name='event_type')  # input of discrete feature event type\n",
    "    \n",
    "    embed0 = Embedding(input_dim=event_vocab_dim, output_dim=emb_dim, mask_zero=True)(i_et)\n",
    "    embed0 = tf.squeeze(embed0, axis=2)\n",
    "\n",
    "    conv1 = Conv1D(\n",
    "        filters=num_filters,\n",
    "        kernel_size=kernel_size,\n",
    "        strides=1,\n",
    "        padding=\"valid\",\n",
    "        activation='relu',\n",
    "        use_bias=True,\n",
    "        kernel_initializer=tf.keras.initializers.TruncatedNormal(mean=0.0, stddev=0.1, seed=None),\n",
    "        bias_initializer=tf.keras.initializers.Constant(value=0.1))(embed0)\n",
    "    \n",
    "    pooled = MaxPooling1D(pool_size=T-kernel_size+1, strides=1)(conv1)\n",
    "    \n",
    "    highwayed = highway_layers(pooled, n_layers=1, activation=\"relu\", gate_bias=0)\n",
    "\n",
    "    dropped = Dropout(rate=dropout_rate)(highwayed)\n",
    "    \n",
    "    prob = Dense(1, \n",
    "                 activation='sigmoid',\n",
    "                 name='final',\n",
    "                 kernel_initializer=tf.keras.initializers.TruncatedNormal(mean=0.0, stddev=0.1, seed=None),\n",
    "                 bias_initializer=tf.keras.initializers.Constant(value=0.1))(dropped)\n",
    "\n",
    "    discriminator = Model(\n",
    "        inputs=i_et,\n",
    "        outputs=prob)\n",
    "\n",
    "    return discriminator"
   ]
  },
  {
   "cell_type": "code",
   "execution_count": 33,
   "id": "finite-tomato",
   "metadata": {},
   "outputs": [],
   "source": [
    "def build_D_RNN(batch_size, T, event_vocab_dim, emb_dim, dropout_rate=0.25):\n",
    "    # normal LSTM\n",
    "    i_et = Input(batch_shape=(batch_size, None, 1), name='event_type')  # input of discrete feature event type\n",
    "    \n",
    "    embed0 = Embedding(input_dim=event_vocab_dim, output_dim=emb_dim, mask_zero=True)(i_et)\n",
    "    # turn [batch_size, None, 1, emb_dim] -> [batch_size, None, emb_dim]\n",
    "    embed0 = tf.squeeze(embed0, axis=2)\n",
    "\n",
    "    hm = LSTM(HIDDEN_DIM, \n",
    "              name='lstm',\n",
    "              stateful=True,\n",
    "              return_sequences=False,\n",
    "              kernel_initializer=tf.keras.initializers.RandomNormal(stddev=0.1),\n",
    "              recurrent_initializer=tf.keras.initializers.RandomNormal(stddev=0.1),\n",
    "              bias_initializer=tf.keras.initializers.RandomNormal(stddev=0.1))(embed0)\n",
    "              \n",
    "    dropped = Dropout(rate=dropout_rate)(hm)\n",
    "    \n",
    "    prob = Dense(1, \n",
    "             activation='sigmoid',\n",
    "             name='final',\n",
    "             kernel_initializer=tf.keras.initializers.TruncatedNormal(mean=0.0, stddev=0.1, seed=None),\n",
    "             bias_initializer=tf.keras.initializers.Constant(value=0.1))(dropped)  \n",
    "\n",
    "    discriminator = Model(\n",
    "        inputs=i_et,\n",
    "        outputs=prob)\n",
    "\n",
    "    return discriminator"
   ]
  },
  {
   "cell_type": "markdown",
   "id": "voluntary-apartment",
   "metadata": {},
   "source": [
    "## Pre-Training of original SeqGAn"
   ]
  },
  {
   "cell_type": "code",
   "execution_count": 13,
   "id": "dense-intranet",
   "metadata": {},
   "outputs": [],
   "source": [
    "def pretrain_discriminator(event_type_batch, label_batch, discriminator, verbose=False, optimizer=Adam(lr=0.001)):\n",
    "    # train the discriminator\n",
    "    with tf.GradientTape() as tape:\n",
    "        # train discriminator\n",
    "        true_prob = discriminator(event_type_batch)\n",
    "\n",
    "        # cross-entropy loss\n",
    "        discriminator_loss = ce_loss = tf.reduce_mean(\n",
    "            tf.keras.losses.binary_crossentropy(label_batch, true_prob, from_logits=False)\n",
    "        )\n",
    "\n",
    "        if verbose:\n",
    "            print('total discriminator loss:{}'.format(discriminator_loss))\n",
    "\n",
    "    grads = tape.gradient(discriminator_loss, discriminator.trainable_variables)\n",
    "    optimizer.apply_gradients(zip(grads, discriminator.trainable_variables))\n",
    "\n",
    "    return discriminator_loss\n",
    "\n",
    "\n",
    "def pretrain_generator(event_type_batch, generator, verbose=False, optimizer=Adam(lr=0.001)):\n",
    "    _, T, _ = event_type_batch.shape\n",
    "\n",
    "    # train the generator\n",
    "    with tf.GradientTape() as tape:\n",
    "        generator.reset_states()\n",
    "        ce_loss_list = []\n",
    "\n",
    "        for i in range(0, T - 1):\n",
    "            curr_state_et = event_type_batch[:, i:i + 1, :]\n",
    "            target_et = event_type_batch[:, i + 1, :]\n",
    "\n",
    "            token_logits = generator(curr_state_et)\n",
    "\n",
    "            ce_losses = tf.keras.losses.sparse_categorical_crossentropy(target_et, token_logits, from_logits=True)\n",
    "            ce_loss = tf.reduce_mean(ce_losses)\n",
    "            ce_loss_list.append(ce_loss)\n",
    "\n",
    "        generator_loss = tf.reduce_mean(ce_loss_list)\n",
    "\n",
    "    if verbose:\n",
    "        print('train loss:{}'.format(generator_loss))\n",
    "\n",
    "    # apply gradient decent per batch\n",
    "    grads = tape.gradient(generator_loss, generator.trainable_variables)\n",
    "    optimizer.apply_gradients(zip(grads, generator.trainable_variables))\n",
    "\n",
    "    return generator_loss"
   ]
  },
  {
   "cell_type": "markdown",
   "id": "proper-worker",
   "metadata": {},
   "source": [
    "### pre-train G"
   ]
  },
  {
   "cell_type": "code",
   "execution_count": 42,
   "id": "attached-allen",
   "metadata": {},
   "outputs": [],
   "source": [
    "N_total_G = pos_event_type_seqs.shape[0]\n",
    "\n",
    "EPOCHS = 1\n",
    "_TOTAL_STEPS = int(EPOCHS * N_total_G / BATCH_SIZE)\n",
    "\n",
    "pretrain_G_dataset = create_dataset(pos_event_type_seqs,\n",
    "                                  np.ones((N_total_G, 1)),\n",
    "                                  batch_size=BATCH_SIZE,\n",
    "                                  epochs=EPOCHS,\n",
    "                                  buffer_size=N_total_G)"
   ]
  },
  {
   "cell_type": "code",
   "execution_count": 43,
   "id": "mobile-cartoon",
   "metadata": {},
   "outputs": [],
   "source": [
    "pretrain_gen_ce_loss_history = []\n",
    "pretrain_gen_metrics_history = []\n",
    "\n",
    "pretrained_generator = build_G(\n",
    "    batch_size=BATCH_SIZE,\n",
    "    event_vocab_dim = EVENT_VOCAB_DIM,\n",
    "    emb_dim = EMB_DIM,\n",
    "    hidden_dim= HIDDEN_DIM)"
   ]
  },
  {
   "cell_type": "code",
   "execution_count": 44,
   "id": "charitable-woman",
   "metadata": {},
   "outputs": [
    {
     "name": "stderr",
     "output_type": "stream",
     "text": [
      "1it [00:00,  3.00it/s]"
     ]
    },
    {
     "name": "stdout",
     "output_type": "stream",
     "text": [
      "Training Step: 1\n",
      "train loss:1.8733454842391624\n",
      "Training Step: 2\n"
     ]
    },
    {
     "name": "stderr",
     "output_type": "stream",
     "text": [
      "3it [00:00,  5.29it/s]"
     ]
    },
    {
     "name": "stdout",
     "output_type": "stream",
     "text": [
      "train loss:1.8699141962692352\n",
      "Training Step: 3\n",
      "train loss:1.8673622389196047\n",
      "Training Step: 4\n"
     ]
    },
    {
     "name": "stderr",
     "output_type": "stream",
     "text": [
      "5it [00:00,  6.09it/s]"
     ]
    },
    {
     "name": "stdout",
     "output_type": "stream",
     "text": [
      "train loss:1.8654005062069299\n",
      "Training Step: 5\n",
      "train loss:1.8618666576882337\n",
      "Training Step: 6\n"
     ]
    },
    {
     "name": "stderr",
     "output_type": "stream",
     "text": [
      "7it [00:01,  6.43it/s]"
     ]
    },
    {
     "name": "stdout",
     "output_type": "stream",
     "text": [
      "train loss:1.859323195229657\n",
      "Training Step: 7\n",
      "train loss:1.8569507398232297\n",
      "Training Step: 8\n"
     ]
    },
    {
     "name": "stderr",
     "output_type": "stream",
     "text": [
      "9it [00:01,  6.55it/s]"
     ]
    },
    {
     "name": "stdout",
     "output_type": "stream",
     "text": [
      "train loss:1.8540238143888481\n",
      "Training Step: 9\n",
      "train loss:1.851669184355058\n",
      "Training Step: 10\n"
     ]
    },
    {
     "name": "stderr",
     "output_type": "stream",
     "text": [
      "11it [00:01,  6.57it/s]"
     ]
    },
    {
     "name": "stdout",
     "output_type": "stream",
     "text": [
      "train loss:1.8490487554723054\n",
      "Training Step: 11\n",
      "train loss:1.845790562245773\n",
      "Training Step: 12\n"
     ]
    },
    {
     "name": "stderr",
     "output_type": "stream",
     "text": [
      "13it [00:02,  6.61it/s]"
     ]
    },
    {
     "name": "stdout",
     "output_type": "stream",
     "text": [
      "train loss:1.843755510736853\n",
      "Training Step: 13\n",
      "train loss:1.8410615398214472\n",
      "Training Step: 14\n"
     ]
    },
    {
     "name": "stderr",
     "output_type": "stream",
     "text": [
      "15it [00:02,  6.73it/s]"
     ]
    },
    {
     "name": "stdout",
     "output_type": "stream",
     "text": [
      "train loss:1.8390057294988993\n",
      "Training Step: 15\n",
      "train loss:1.8369176552600295\n",
      "Training Step: 16\n"
     ]
    },
    {
     "name": "stderr",
     "output_type": "stream",
     "text": [
      "17it [00:02,  6.03it/s]"
     ]
    },
    {
     "name": "stdout",
     "output_type": "stream",
     "text": [
      "train loss:1.8341304625103063\n",
      "Training Step: 17\n",
      "train loss:1.8311816393466471\n",
      "Training Step: 18\n"
     ]
    },
    {
     "name": "stderr",
     "output_type": "stream",
     "text": [
      "19it [00:03,  6.39it/s]"
     ]
    },
    {
     "name": "stdout",
     "output_type": "stream",
     "text": [
      "train loss:1.8286592991885215\n",
      "Training Step: 19\n",
      "train loss:1.8271684461966458\n",
      "Training Step: 20\n"
     ]
    },
    {
     "name": "stderr",
     "output_type": "stream",
     "text": [
      "21it [00:03,  6.58it/s]"
     ]
    },
    {
     "name": "stdout",
     "output_type": "stream",
     "text": [
      "train loss:1.8248504016940068\n",
      "Training Step: 21\n",
      "train loss:1.8209681806163505\n",
      "Training Step: 22\n"
     ]
    },
    {
     "name": "stderr",
     "output_type": "stream",
     "text": [
      "23it [00:03,  6.67it/s]"
     ]
    },
    {
     "name": "stdout",
     "output_type": "stream",
     "text": [
      "train loss:1.8189253701415828\n",
      "Training Step: 23\n",
      "train loss:1.8164316319537286\n",
      "Training Step: 24\n"
     ]
    },
    {
     "name": "stderr",
     "output_type": "stream",
     "text": [
      "25it [00:03,  6.70it/s]"
     ]
    },
    {
     "name": "stdout",
     "output_type": "stream",
     "text": [
      "train loss:1.8132050817646117\n",
      "Training Step: 25\n",
      "train loss:1.80963953928157\n",
      "Training Step: 26\n"
     ]
    },
    {
     "name": "stderr",
     "output_type": "stream",
     "text": [
      "27it [00:04,  6.73it/s]"
     ]
    },
    {
     "name": "stdout",
     "output_type": "stream",
     "text": [
      "train loss:1.8085402449950618\n",
      "Training Step: 27\n",
      "train loss:1.806299336299174\n",
      "Training Step: 28\n"
     ]
    },
    {
     "name": "stderr",
     "output_type": "stream",
     "text": [
      "29it [00:04,  6.78it/s]"
     ]
    },
    {
     "name": "stdout",
     "output_type": "stream",
     "text": [
      "train loss:1.8011606327207523\n",
      "Training Step: 29\n",
      "train loss:1.7998807622247874\n",
      "Training Step: 30\n"
     ]
    },
    {
     "name": "stderr",
     "output_type": "stream",
     "text": [
      "31it [00:04,  6.73it/s]"
     ]
    },
    {
     "name": "stdout",
     "output_type": "stream",
     "text": [
      "train loss:1.7958017367064283\n",
      "Training Step: 31\n",
      "train loss:1.7935297771191252\n",
      "Training Step: 32\n"
     ]
    },
    {
     "name": "stderr",
     "output_type": "stream",
     "text": [
      "33it [00:05,  6.71it/s]"
     ]
    },
    {
     "name": "stdout",
     "output_type": "stream",
     "text": [
      "train loss:1.7909912162954764\n",
      "Training Step: 33\n",
      "train loss:1.7880775631054089\n",
      "Training Step: 34\n"
     ]
    },
    {
     "name": "stderr",
     "output_type": "stream",
     "text": [
      "35it [00:05,  6.74it/s]"
     ]
    },
    {
     "name": "stdout",
     "output_type": "stream",
     "text": [
      "train loss:1.7836108114128684\n",
      "Training Step: 35\n",
      "train loss:1.780646137137446\n",
      "Training Step: 36\n"
     ]
    },
    {
     "name": "stderr",
     "output_type": "stream",
     "text": [
      "37it [00:05,  6.74it/s]"
     ]
    },
    {
     "name": "stdout",
     "output_type": "stream",
     "text": [
      "train loss:1.7775416395352384\n",
      "Training Step: 37\n",
      "train loss:1.775047688925992\n",
      "Training Step: 38\n"
     ]
    },
    {
     "name": "stderr",
     "output_type": "stream",
     "text": [
      "39it [00:06,  6.75it/s]"
     ]
    },
    {
     "name": "stdout",
     "output_type": "stream",
     "text": [
      "train loss:1.7712089239016102\n",
      "Training Step: 39\n",
      "train loss:1.76836758294404\n",
      "Training Step: 40\n"
     ]
    },
    {
     "name": "stderr",
     "output_type": "stream",
     "text": [
      "41it [00:06,  6.73it/s]"
     ]
    },
    {
     "name": "stdout",
     "output_type": "stream",
     "text": [
      "train loss:1.764062444831054\n",
      "Training Step: 41\n",
      "train loss:1.7596661041270245\n",
      "Training Step: 42\n"
     ]
    },
    {
     "name": "stderr",
     "output_type": "stream",
     "text": [
      "43it [00:06,  6.72it/s]"
     ]
    },
    {
     "name": "stdout",
     "output_type": "stream",
     "text": [
      "train loss:1.7565268380863643\n",
      "Training Step: 43\n",
      "train loss:1.7519552394681681\n",
      "Training Step: 44\n"
     ]
    },
    {
     "name": "stderr",
     "output_type": "stream",
     "text": [
      "45it [00:06,  6.75it/s]"
     ]
    },
    {
     "name": "stdout",
     "output_type": "stream",
     "text": [
      "train loss:1.74748461459596\n",
      "Training Step: 45\n",
      "train loss:1.7425911123918247\n",
      "Training Step: 46\n"
     ]
    },
    {
     "name": "stderr",
     "output_type": "stream",
     "text": [
      "47it [00:07,  6.74it/s]"
     ]
    },
    {
     "name": "stdout",
     "output_type": "stream",
     "text": [
      "train loss:1.738089438542152\n",
      "Training Step: 47\n",
      "train loss:1.7338586197644823\n",
      "Training Step: 48\n"
     ]
    },
    {
     "name": "stderr",
     "output_type": "stream",
     "text": [
      "49it [00:07,  6.76it/s]"
     ]
    },
    {
     "name": "stdout",
     "output_type": "stream",
     "text": [
      "train loss:1.727413214981468\n",
      "Training Step: 49\n",
      "train loss:1.7233259246590265\n",
      "Training Step: 50\n"
     ]
    },
    {
     "name": "stderr",
     "output_type": "stream",
     "text": [
      "51it [00:07,  6.72it/s]"
     ]
    },
    {
     "name": "stdout",
     "output_type": "stream",
     "text": [
      "train loss:1.716905219031196\n",
      "Training Step: 51\n",
      "train loss:1.7118405057195165\n",
      "Training Step: 52\n"
     ]
    },
    {
     "name": "stderr",
     "output_type": "stream",
     "text": [
      "53it [00:08,  6.73it/s]"
     ]
    },
    {
     "name": "stdout",
     "output_type": "stream",
     "text": [
      "train loss:1.704905187695514\n",
      "Training Step: 53\n",
      "train loss:1.6994489527103898\n",
      "Training Step: 54\n"
     ]
    },
    {
     "name": "stderr",
     "output_type": "stream",
     "text": [
      "55it [00:08,  6.74it/s]"
     ]
    },
    {
     "name": "stdout",
     "output_type": "stream",
     "text": [
      "train loss:1.6933732209868055\n",
      "Training Step: 55\n",
      "train loss:1.6852329514408333\n",
      "Training Step: 56\n"
     ]
    },
    {
     "name": "stderr",
     "output_type": "stream",
     "text": [
      "57it [00:08,  6.74it/s]"
     ]
    },
    {
     "name": "stdout",
     "output_type": "stream",
     "text": [
      "train loss:1.6784508089918002\n",
      "Training Step: 57\n",
      "train loss:1.670826324087497\n",
      "Training Step: 58\n"
     ]
    },
    {
     "name": "stderr",
     "output_type": "stream",
     "text": [
      "59it [00:09,  6.76it/s]"
     ]
    },
    {
     "name": "stdout",
     "output_type": "stream",
     "text": [
      "train loss:1.6625673197738222\n",
      "Training Step: 59\n",
      "train loss:1.6552996410219705\n",
      "Training Step: 60\n"
     ]
    },
    {
     "name": "stderr",
     "output_type": "stream",
     "text": [
      "61it [00:09,  6.77it/s]"
     ]
    },
    {
     "name": "stdout",
     "output_type": "stream",
     "text": [
      "train loss:1.6483465097164718\n",
      "Training Step: 61\n",
      "train loss:1.6389602288431075\n",
      "Training Step: 62\n"
     ]
    },
    {
     "name": "stderr",
     "output_type": "stream",
     "text": [
      "63it [00:09,  6.79it/s]"
     ]
    },
    {
     "name": "stdout",
     "output_type": "stream",
     "text": [
      "train loss:1.631360725450191\n",
      "Training Step: 63\n",
      "train loss:1.6224888934993498\n",
      "Training Step: 64\n"
     ]
    },
    {
     "name": "stderr",
     "output_type": "stream",
     "text": [
      "65it [00:09,  6.78it/s]"
     ]
    },
    {
     "name": "stdout",
     "output_type": "stream",
     "text": [
      "train loss:1.6146008654342148\n",
      "Training Step: 65\n",
      "train loss:1.6034386020907143\n",
      "Training Step: 66\n"
     ]
    },
    {
     "name": "stderr",
     "output_type": "stream",
     "text": [
      "67it [00:10,  6.74it/s]"
     ]
    },
    {
     "name": "stdout",
     "output_type": "stream",
     "text": [
      "train loss:1.5963540679439912\n",
      "Training Step: 67\n",
      "train loss:1.5868990559540386\n",
      "Training Step: 68\n"
     ]
    },
    {
     "name": "stderr",
     "output_type": "stream",
     "text": [
      "69it [00:10,  6.76it/s]"
     ]
    },
    {
     "name": "stdout",
     "output_type": "stream",
     "text": [
      "train loss:1.5774361443309803\n",
      "Training Step: 69\n",
      "train loss:1.5716283526598627\n",
      "Training Step: 70\n"
     ]
    },
    {
     "name": "stderr",
     "output_type": "stream",
     "text": [
      "71it [00:10,  6.12it/s]"
     ]
    },
    {
     "name": "stdout",
     "output_type": "stream",
     "text": [
      "train loss:1.5639424395586705\n",
      "Training Step: 71\n",
      "train loss:1.5568084016197208\n",
      "Training Step: 72\n"
     ]
    },
    {
     "name": "stderr",
     "output_type": "stream",
     "text": [
      "73it [00:11,  6.40it/s]"
     ]
    },
    {
     "name": "stdout",
     "output_type": "stream",
     "text": [
      "train loss:1.5498402280385863\n",
      "Training Step: 73\n",
      "train loss:1.5423324273884838\n",
      "Training Step: 74\n"
     ]
    },
    {
     "name": "stderr",
     "output_type": "stream",
     "text": [
      "75it [00:11,  6.56it/s]"
     ]
    },
    {
     "name": "stdout",
     "output_type": "stream",
     "text": [
      "train loss:1.5341621100508387\n",
      "Training Step: 75\n",
      "train loss:1.5303548233072057\n",
      "Training Step: 76\n"
     ]
    },
    {
     "name": "stderr",
     "output_type": "stream",
     "text": [
      "77it [00:11,  6.67it/s]"
     ]
    },
    {
     "name": "stdout",
     "output_type": "stream",
     "text": [
      "train loss:1.522583281494073\n",
      "Training Step: 77\n",
      "train loss:1.5143416979715432\n",
      "Training Step: 78\n"
     ]
    },
    {
     "name": "stderr",
     "output_type": "stream",
     "text": [
      "79it [00:12,  6.64it/s]"
     ]
    },
    {
     "name": "stdout",
     "output_type": "stream",
     "text": [
      "train loss:1.5144668813839157\n",
      "Training Step: 79\n",
      "train loss:1.5064020320157312\n",
      "Training Step: 80\n"
     ]
    },
    {
     "name": "stderr",
     "output_type": "stream",
     "text": [
      "81it [00:12,  6.71it/s]"
     ]
    },
    {
     "name": "stdout",
     "output_type": "stream",
     "text": [
      "train loss:1.499299835444265\n",
      "Training Step: 81\n",
      "train loss:1.4921486619699773\n",
      "Training Step: 82\n"
     ]
    },
    {
     "name": "stderr",
     "output_type": "stream",
     "text": [
      "83it [00:12,  6.74it/s]"
     ]
    },
    {
     "name": "stdout",
     "output_type": "stream",
     "text": [
      "train loss:1.4902137896633618\n",
      "Training Step: 83\n",
      "train loss:1.485008263196044\n",
      "Training Step: 84\n"
     ]
    },
    {
     "name": "stderr",
     "output_type": "stream",
     "text": [
      "85it [00:12,  6.76it/s]"
     ]
    },
    {
     "name": "stdout",
     "output_type": "stream",
     "text": [
      "train loss:1.4818472511645853\n",
      "Training Step: 85\n",
      "train loss:1.4765420811997245\n",
      "Training Step: 86\n"
     ]
    },
    {
     "name": "stderr",
     "output_type": "stream",
     "text": [
      "87it [00:13,  6.76it/s]"
     ]
    },
    {
     "name": "stdout",
     "output_type": "stream",
     "text": [
      "train loss:1.4726558687758673\n",
      "Training Step: 87\n",
      "train loss:1.4680242246313067\n",
      "Training Step: 88\n"
     ]
    },
    {
     "name": "stderr",
     "output_type": "stream",
     "text": [
      "89it [00:13,  6.79it/s]"
     ]
    },
    {
     "name": "stdout",
     "output_type": "stream",
     "text": [
      "train loss:1.4628063972416048\n",
      "Training Step: 89\n",
      "train loss:1.4644315621869428\n",
      "Training Step: 90\n"
     ]
    },
    {
     "name": "stderr",
     "output_type": "stream",
     "text": [
      "91it [00:13,  6.77it/s]"
     ]
    },
    {
     "name": "stdout",
     "output_type": "stream",
     "text": [
      "train loss:1.4592137761594803\n",
      "Training Step: 91\n",
      "train loss:1.454067443540449\n",
      "Training Step: 92\n"
     ]
    },
    {
     "name": "stderr",
     "output_type": "stream",
     "text": [
      "93it [00:14,  6.70it/s]"
     ]
    },
    {
     "name": "stdout",
     "output_type": "stream",
     "text": [
      "train loss:1.4492870157754605\n",
      "Training Step: 93\n",
      "train loss:1.447622534948526\n",
      "Training Step: 94\n"
     ]
    },
    {
     "name": "stderr",
     "output_type": "stream",
     "text": [
      "95it [00:14,  6.70it/s]"
     ]
    },
    {
     "name": "stdout",
     "output_type": "stream",
     "text": [
      "train loss:1.4454110974896301\n",
      "Training Step: 95\n",
      "train loss:1.446217975577531\n",
      "Training Step: 96\n"
     ]
    },
    {
     "name": "stderr",
     "output_type": "stream",
     "text": [
      "97it [00:14,  6.76it/s]"
     ]
    },
    {
     "name": "stdout",
     "output_type": "stream",
     "text": [
      "train loss:1.4434563320808242\n",
      "Training Step: 97\n",
      "train loss:1.4382715625917206\n",
      "Training Step: 98\n"
     ]
    },
    {
     "name": "stderr",
     "output_type": "stream",
     "text": [
      "99it [00:15,  6.73it/s]"
     ]
    },
    {
     "name": "stdout",
     "output_type": "stream",
     "text": [
      "train loss:1.4379346623667342\n",
      "Training Step: 99\n",
      "train loss:1.4340929440484005\n",
      "Training Step: 100\n"
     ]
    },
    {
     "name": "stderr",
     "output_type": "stream",
     "text": [
      "100it [00:15,  6.56it/s]"
     ]
    },
    {
     "name": "stdout",
     "output_type": "stream",
     "text": [
      "train loss:1.431338543056747\n"
     ]
    },
    {
     "name": "stderr",
     "output_type": "stream",
     "text": [
      "\n"
     ]
    }
   ],
   "source": [
    "step = 0\n",
    "OPTIMIZER = Adam(lr=1e-3)\n",
    "_TOTAL_STEPS = 100  # suppose we only has 100 batches\n",
    "\n",
    "for event_type_batch, _ in tqdm(pretrain_G_dataset.take(_TOTAL_STEPS)):\n",
    "    step += 1\n",
    "    print('Training Step:', step)\n",
    "        \n",
    "    gen_ce_loss =  pretrain_generator(event_type_batch, pretrained_generator, verbose=True, optimizer=OPTIMIZER)                    \n",
    "    pretrain_gen_ce_loss_history.append(gen_ce_loss.numpy())"
   ]
  },
  {
   "cell_type": "code",
   "execution_count": 45,
   "id": "driven-patch",
   "metadata": {},
   "outputs": [],
   "source": [
    "if not os.path.exists(model_save_dir + '/pretrained_gen_weights'):\n",
    "    os.makedirs(model_save_dir + '/pretrained_gen_weights')\n",
    "\n",
    "G_save_path = model_save_dir + '/pretrained_gen_weights/model.tf'\n",
    "pretrained_generator.save_weights(G_save_path)"
   ]
  },
  {
   "cell_type": "code",
   "execution_count": 46,
   "id": "configured-resident",
   "metadata": {},
   "outputs": [
    {
     "name": "stdout",
     "output_type": "stream",
     "text": [
      "Model: \"model_8\"\n",
      "_________________________________________________________________\n",
      "Layer (type)                 Output Shape              Param #   \n",
      "=================================================================\n",
      "event_type (InputLayer)      [(256, None, 1)]          0         \n",
      "_________________________________________________________________\n",
      "embedding_8 (Embedding)      (256, None, 1, 16)        96        \n",
      "_________________________________________________________________\n",
      "tf_op_layer_Squeeze_8 (Tenso [(256, None, 16)]         0         \n",
      "_________________________________________________________________\n",
      "lstm (LSTM)                  (256, 16)                 2112      \n",
      "_________________________________________________________________\n",
      "dense_1 (Dense)              (256, 6)                  102       \n",
      "=================================================================\n",
      "Total params: 2,310\n",
      "Trainable params: 2,310\n",
      "Non-trainable params: 0\n",
      "_________________________________________________________________\n"
     ]
    }
   ],
   "source": [
    "reload_pretrained_gen = build_G(\n",
    "    batch_size = BATCH_SIZE,\n",
    "    event_vocab_dim = EVENT_VOCAB_DIM,\n",
    "    emb_dim = EMB_DIM,\n",
    "    hidden_dim= HIDDEN_DIM,\n",
    ")\n",
    "\n",
    "reload_pretrained_gen.build(input_shape=((BATCH_SIZE, T, 1)))\n",
    "reload_pretrained_gen.load_weights(G_save_path)\n",
    "reload_pretrained_gen.summary()"
   ]
  },
  {
   "cell_type": "code",
   "execution_count": 70,
   "id": "western-borough",
   "metadata": {},
   "outputs": [],
   "source": [
    "def rollout_from_prefix(\n",
    "        G, batch_size, prefix, L=T, end_token=0, init_token=1):\n",
    "    # Begin from dummy init state (init_token=1, init_timestamp=0.0)\n",
    "    all_state_et = prefix\n",
    "    l_prefix = prefix.shape[1]\n",
    "    \n",
    "    G.reset_states()\n",
    "\n",
    "    for _ in range(L-l_prefix):  # sequence length\n",
    "        curr_state_et = all_state_et[:, -1:, :]\n",
    "        token_logits = G(curr_state_et)\n",
    "        \n",
    "        sampled_et = tf.random.categorical(token_logits, num_samples=1, dtype=tf.int32)\n",
    "        sampled_et = tf.reshape(sampled_et, [batch_size, 1, 1])\n",
    "\n",
    "        # cast sampled_et into float\n",
    "        sampled_et = tf.cast(sampled_et, dtype=tf.float64)\n",
    "\n",
    "        # Do NOT stop genererating once hit end_token\n",
    "        all_state_et = tf.concat([all_state_et, sampled_et], axis=1)\n",
    "\n",
    "    return all_state_et\n",
    "\n",
    "\n",
    "\n",
    "def generate_sequences(N_gen, generator, batch_size, T):\n",
    "    \"\"\"\n",
    "        Generate sequences batch per batch\n",
    "    :param N_gen: total number of seqs to be generated\n",
    "    :param generator:\n",
    "    :param batch_size:\n",
    "    :param T:\n",
    "    :return: a python list of shape [N_gen, T, 1]\n",
    "    \"\"\"\n",
    "    N = 0\n",
    "    all_type_seq = None\n",
    "    init_prefix = tf.ones([batch_size, 1, 1], dtype=tf.float64)\n",
    "    \n",
    "    while N < N_gen:\n",
    "        batch_state_et = rollout_from_prefix(generator, batch_size, init_prefix, T)\n",
    "        batch_type_seq = batch_state_et.numpy()\n",
    "\n",
    "        if all_type_seq is None:\n",
    "            all_type_seq = batch_type_seq\n",
    "        else:\n",
    "            all_type_seq = tf.concat([all_type_seq, batch_type_seq], axis=0)\n",
    "\n",
    "        N += batch_size\n",
    "\n",
    "    all_type_seq = all_type_seq[:N_gen, :, :]\n",
    "\n",
    "    return all_type_seq"
   ]
  },
  {
   "cell_type": "markdown",
   "id": "legendary-container",
   "metadata": {},
   "source": [
    "### pre-train D"
   ]
  },
  {
   "cell_type": "code",
   "execution_count": 48,
   "id": "shaped-victoria",
   "metadata": {},
   "outputs": [],
   "source": [
    "N_fake_D = N_real_D = N_total_G // 2"
   ]
  },
  {
   "cell_type": "code",
   "execution_count": 49,
   "id": "discrete-trauma",
   "metadata": {},
   "outputs": [],
   "source": [
    "# generate fake data by pre-trained G to pre-train D\n",
    "fake_pos_event_type_seqs = generate_sequences(N_fake_D, pretrained_generator, BATCH_SIZE, T)"
   ]
  },
  {
   "cell_type": "code",
   "execution_count": null,
   "id": "great-stadium",
   "metadata": {},
   "outputs": [],
   "source": [
    "# # generate fake data by random G to pre-train D\n",
    "# random_G = build_G(\n",
    "#     batch_size=BATCH_SIZE,\n",
    "#     event_vocab_dim = EVENT_VOCAB_DIM,\n",
    "#     emb_dim = EMB_DIM,\n",
    "#     hidden_dim= HIDDEN_DIM)\n",
    "\n",
    "# fake_pos_event_type_seqs = np.array(generate_sequences(N_fake_D, random_G, BATCH_SIZE, T))"
   ]
  },
  {
   "cell_type": "code",
   "execution_count": 50,
   "id": "authorized-catering",
   "metadata": {},
   "outputs": [],
   "source": [
    "# generate fake data by G to pre-train D\n",
    "real_pos_event_type_seqs = pos_event_type_seqs[0:N_real_D, :, :]"
   ]
  },
  {
   "cell_type": "code",
   "execution_count": 54,
   "id": "outstanding-burke",
   "metadata": {},
   "outputs": [],
   "source": [
    "N_total_D = N_fake_D + N_real_D\n",
    "\n",
    "pretrain_D_et = tf.concat([fake_pos_event_type_seqs, real_pos_event_type_seqs], axis=0)\n",
    "pretrain_D_labels = tf.concat([np.zeros((N_fake_D, 1)), np.ones((N_real_D, 1))], axis=0)\n",
    "\n",
    "EPOCHS = 1\n",
    "_TOTAL_STEPS = int(EPOCHS * N_total_D / BATCH_SIZE)\n",
    "\n",
    "pretrain_D_dataset = create_dataset(pretrain_D_et,\n",
    "                                    pretrain_D_labels,\n",
    "                                    batch_size=BATCH_SIZE,\n",
    "                                    epochs=EPOCHS,\n",
    "                                    buffer_size=N_total_D) # shuffle the entire Dataset"
   ]
  },
  {
   "cell_type": "code",
   "execution_count": 55,
   "id": "direct-desire",
   "metadata": {},
   "outputs": [],
   "source": [
    "pretrain_disc_token_loss_history = []\n",
    "\n",
    "pretrained_discriminator = build_D_RNN(batch_size=BATCH_SIZE,\n",
    "                                   T=T,\n",
    "                                   event_vocab_dim=EVENT_VOCAB_DIM,\n",
    "                                   emb_dim=EMB_DIM,\n",
    "                                   dropout_rate=0.25)"
   ]
  },
  {
   "cell_type": "code",
   "execution_count": 56,
   "id": "external-extent",
   "metadata": {},
   "outputs": [
    {
     "name": "stderr",
     "output_type": "stream",
     "text": [
      "1it [00:00,  4.26it/s]"
     ]
    },
    {
     "name": "stdout",
     "output_type": "stream",
     "text": [
      "Training Step: 1\n",
      "total discriminator loss:0.6896384023012484\n",
      "Training Step: 2\n",
      "total discriminator loss:0.6932112734779359\n",
      "Training Step: 3\n",
      "total discriminator loss:0.6949274512997571\n"
     ]
    },
    {
     "name": "stderr",
     "output_type": "stream",
     "text": [
      "5it [00:00, 12.75it/s]"
     ]
    },
    {
     "name": "stdout",
     "output_type": "stream",
     "text": [
      "Training Step: 4\n",
      "total discriminator loss:0.6904173455387378\n",
      "Training Step: 5\n",
      "total discriminator loss:0.6932450348771125\n",
      "Training Step: 6\n",
      "total discriminator loss:0.703140289935611\n",
      "Training Step: 7\n",
      "total discriminator loss:0.6991056820238568\n"
     ]
    },
    {
     "name": "stderr",
     "output_type": "stream",
     "text": [
      "9it [00:00, 15.53it/s]"
     ]
    },
    {
     "name": "stdout",
     "output_type": "stream",
     "text": [
      "Training Step: 8\n",
      "total discriminator loss:0.6886088394855816\n",
      "Training Step: 9\n",
      "total discriminator loss:0.6967253727267031\n",
      "Training Step: 10\n",
      "total discriminator loss:0.6974661118214633\n",
      "Training Step: 11\n",
      "total discriminator loss:0.6929234842217724\n"
     ]
    },
    {
     "name": "stderr",
     "output_type": "stream",
     "text": [
      "13it [00:00, 13.74it/s]"
     ]
    },
    {
     "name": "stdout",
     "output_type": "stream",
     "text": [
      "Training Step: 12\n",
      "total discriminator loss:0.6939859046092304\n",
      "Training Step: 13\n",
      "total discriminator loss:0.6925858165301702\n",
      "Training Step: 14\n"
     ]
    },
    {
     "name": "stderr",
     "output_type": "stream",
     "text": [
      "17it [00:01, 15.71it/s]"
     ]
    },
    {
     "name": "stdout",
     "output_type": "stream",
     "text": [
      "total discriminator loss:0.6951576198371769\n",
      "Training Step: 15\n",
      "total discriminator loss:0.691610131297099\n",
      "Training Step: 16\n",
      "total discriminator loss:0.6944379441160982\n",
      "Training Step: 17\n",
      "total discriminator loss:0.6925523950188104\n",
      "Training Step: 18\n"
     ]
    },
    {
     "name": "stderr",
     "output_type": "stream",
     "text": [
      "21it [00:01, 16.63it/s]"
     ]
    },
    {
     "name": "stdout",
     "output_type": "stream",
     "text": [
      "total discriminator loss:0.6916294059975056\n",
      "Training Step: 19\n",
      "total discriminator loss:0.6953628077512961\n",
      "Training Step: 20\n",
      "total discriminator loss:0.6941305281412558\n",
      "Training Step: 21\n",
      "total discriminator loss:0.6914918557341896\n",
      "Training Step: 22\n"
     ]
    },
    {
     "name": "stderr",
     "output_type": "stream",
     "text": [
      "25it [00:01, 17.19it/s]"
     ]
    },
    {
     "name": "stdout",
     "output_type": "stream",
     "text": [
      "total discriminator loss:0.6956699124454355\n",
      "Training Step: 23\n",
      "total discriminator loss:0.6939908053465633\n",
      "Training Step: 24\n",
      "total discriminator loss:0.6915132764307659\n",
      "Training Step: 25\n",
      "total discriminator loss:0.6910770942099858\n",
      "Training Step: 26\n"
     ]
    },
    {
     "name": "stderr",
     "output_type": "stream",
     "text": [
      "29it [00:01, 17.56it/s]"
     ]
    },
    {
     "name": "stdout",
     "output_type": "stream",
     "text": [
      "total discriminator loss:0.6934863357611858\n",
      "Training Step: 27\n",
      "total discriminator loss:0.691846256217949\n",
      "Training Step: 28\n",
      "total discriminator loss:0.6940950392202974\n",
      "Training Step: 29\n",
      "total discriminator loss:0.6937147022615662\n",
      "Training Step: 30\n"
     ]
    },
    {
     "name": "stderr",
     "output_type": "stream",
     "text": [
      "33it [00:02, 17.75it/s]"
     ]
    },
    {
     "name": "stdout",
     "output_type": "stream",
     "text": [
      "total discriminator loss:0.6926181606342039\n",
      "Training Step: 31\n",
      "total discriminator loss:0.6948929452549537\n",
      "Training Step: 32\n",
      "total discriminator loss:0.692446700763158\n",
      "Training Step: 33\n",
      "total discriminator loss:0.6948031310549315\n",
      "Training Step: 34\n"
     ]
    },
    {
     "name": "stderr",
     "output_type": "stream",
     "text": [
      "37it [00:02, 17.76it/s]"
     ]
    },
    {
     "name": "stdout",
     "output_type": "stream",
     "text": [
      "total discriminator loss:0.6930499406030505\n",
      "Training Step: 35\n",
      "total discriminator loss:0.69317923840769\n",
      "Training Step: 36\n",
      "total discriminator loss:0.6949993242457779\n",
      "Training Step: 37\n",
      "total discriminator loss:0.6919940378667906\n",
      "Training Step: 38\n"
     ]
    },
    {
     "name": "stderr",
     "output_type": "stream",
     "text": [
      "41it [00:02, 17.68it/s]"
     ]
    },
    {
     "name": "stdout",
     "output_type": "stream",
     "text": [
      "total discriminator loss:0.6927676503862815\n",
      "Training Step: 39\n",
      "total discriminator loss:0.6929228339089132\n",
      "Training Step: 40\n",
      "total discriminator loss:0.6922758937552939\n",
      "Training Step: 41\n",
      "total discriminator loss:0.694915560657791\n",
      "Training Step: 42\n"
     ]
    },
    {
     "name": "stderr",
     "output_type": "stream",
     "text": [
      "45it [00:02, 17.88it/s]"
     ]
    },
    {
     "name": "stdout",
     "output_type": "stream",
     "text": [
      "total discriminator loss:0.6929566684065962\n",
      "Training Step: 43\n",
      "total discriminator loss:0.6924566360933306\n",
      "Training Step: 44\n",
      "total discriminator loss:0.692491464491445\n",
      "Training Step: 45\n",
      "total discriminator loss:0.6940161897056505\n",
      "Training Step: 46\n"
     ]
    },
    {
     "name": "stderr",
     "output_type": "stream",
     "text": [
      "49it [00:03, 17.87it/s]"
     ]
    },
    {
     "name": "stdout",
     "output_type": "stream",
     "text": [
      "total discriminator loss:0.6926083203720805\n",
      "Training Step: 47\n",
      "total discriminator loss:0.6932403803381297\n",
      "Training Step: 48\n",
      "total discriminator loss:0.6924944076310009\n",
      "Training Step: 49\n",
      "total discriminator loss:0.6922849045170416\n",
      "Training Step: 50\n"
     ]
    },
    {
     "name": "stderr",
     "output_type": "stream",
     "text": [
      "53it [00:03, 17.89it/s]"
     ]
    },
    {
     "name": "stdout",
     "output_type": "stream",
     "text": [
      "total discriminator loss:0.6923760933377673\n",
      "Training Step: 51\n",
      "total discriminator loss:0.6928295765770365\n",
      "Training Step: 52\n",
      "total discriminator loss:0.6922285542858753\n",
      "Training Step: 53\n",
      "total discriminator loss:0.6927695365747952\n",
      "Training Step: 54\n"
     ]
    },
    {
     "name": "stderr",
     "output_type": "stream",
     "text": [
      "57it [00:03, 17.87it/s]"
     ]
    },
    {
     "name": "stdout",
     "output_type": "stream",
     "text": [
      "total discriminator loss:0.6924214101960114\n",
      "Training Step: 55\n",
      "total discriminator loss:0.6923742876563432\n",
      "Training Step: 56\n",
      "total discriminator loss:0.6929183148392564\n",
      "Training Step: 57\n",
      "total discriminator loss:0.6924822881865231\n",
      "Training Step: 58\n"
     ]
    },
    {
     "name": "stderr",
     "output_type": "stream",
     "text": [
      "61it [00:03, 17.75it/s]"
     ]
    },
    {
     "name": "stdout",
     "output_type": "stream",
     "text": [
      "total discriminator loss:0.6915117132530277\n",
      "Training Step: 59\n",
      "total discriminator loss:0.6923901231880275\n",
      "Training Step: 60\n",
      "total discriminator loss:0.6925555205823812\n",
      "Training Step: 61\n",
      "total discriminator loss:0.6926375271018423\n",
      "Training Step: 62\n"
     ]
    },
    {
     "name": "stderr",
     "output_type": "stream",
     "text": [
      "65it [00:03, 17.71it/s]"
     ]
    },
    {
     "name": "stdout",
     "output_type": "stream",
     "text": [
      "total discriminator loss:0.6932407199715898\n",
      "Training Step: 63\n",
      "total discriminator loss:0.6921705490519734\n",
      "Training Step: 64\n",
      "total discriminator loss:0.6922925443829583\n",
      "Training Step: 65\n",
      "total discriminator loss:0.6920622681444308\n",
      "Training Step: 66\n"
     ]
    },
    {
     "name": "stderr",
     "output_type": "stream",
     "text": [
      "69it [00:04, 17.65it/s]"
     ]
    },
    {
     "name": "stdout",
     "output_type": "stream",
     "text": [
      "total discriminator loss:0.6910326931336854\n",
      "Training Step: 67\n",
      "total discriminator loss:0.6921023437521427\n",
      "Training Step: 68\n",
      "total discriminator loss:0.6921354894915746\n",
      "Training Step: 69\n",
      "total discriminator loss:0.6919290079508711\n",
      "Training Step: 70\n"
     ]
    },
    {
     "name": "stderr",
     "output_type": "stream",
     "text": [
      "73it [00:04, 17.57it/s]"
     ]
    },
    {
     "name": "stdout",
     "output_type": "stream",
     "text": [
      "total discriminator loss:0.6920491941131605\n",
      "Training Step: 71\n",
      "total discriminator loss:0.6931650492255833\n",
      "Training Step: 72\n",
      "total discriminator loss:0.6918678122058374\n",
      "Training Step: 73\n",
      "total discriminator loss:0.6911695649773857\n",
      "Training Step: 74\n"
     ]
    },
    {
     "name": "stderr",
     "output_type": "stream",
     "text": [
      "77it [00:04, 17.59it/s]"
     ]
    },
    {
     "name": "stdout",
     "output_type": "stream",
     "text": [
      "total discriminator loss:0.6920034412629147\n",
      "Training Step: 75\n",
      "total discriminator loss:0.6923365184235662\n",
      "Training Step: 76\n",
      "total discriminator loss:0.6916290043964646\n",
      "Training Step: 77\n",
      "total discriminator loss:0.6919267217170924\n",
      "Training Step: 78\n"
     ]
    },
    {
     "name": "stderr",
     "output_type": "stream",
     "text": [
      "81it [00:04, 17.68it/s]"
     ]
    },
    {
     "name": "stdout",
     "output_type": "stream",
     "text": [
      "total discriminator loss:0.6900040513585446\n",
      "Training Step: 79\n",
      "total discriminator loss:0.6917163726660887\n",
      "Training Step: 80\n",
      "total discriminator loss:0.6919678427672445\n",
      "Training Step: 81\n",
      "total discriminator loss:0.6913304107484336\n",
      "Training Step: 82\n"
     ]
    },
    {
     "name": "stderr",
     "output_type": "stream",
     "text": [
      "85it [00:05, 17.63it/s]"
     ]
    },
    {
     "name": "stdout",
     "output_type": "stream",
     "text": [
      "total discriminator loss:0.6905980037703515\n",
      "Training Step: 83\n",
      "total discriminator loss:0.6915841600117758\n",
      "Training Step: 84\n",
      "total discriminator loss:0.6899956515702464\n",
      "Training Step: 85\n",
      "total discriminator loss:0.6897170066654112\n",
      "Training Step: 86\n"
     ]
    },
    {
     "name": "stderr",
     "output_type": "stream",
     "text": [
      "89it [00:05, 17.62it/s]"
     ]
    },
    {
     "name": "stdout",
     "output_type": "stream",
     "text": [
      "total discriminator loss:0.6897161316000827\n",
      "Training Step: 87\n",
      "total discriminator loss:0.6902115388381364\n",
      "Training Step: 88\n",
      "total discriminator loss:0.6887620109119816\n",
      "Training Step: 89\n",
      "total discriminator loss:0.6872764477535879\n",
      "Training Step: 90\n"
     ]
    },
    {
     "name": "stderr",
     "output_type": "stream",
     "text": [
      "93it [00:05, 17.61it/s]"
     ]
    },
    {
     "name": "stdout",
     "output_type": "stream",
     "text": [
      "total discriminator loss:0.6891351234746941\n",
      "Training Step: 91\n",
      "total discriminator loss:0.6879628689150574\n",
      "Training Step: 92\n",
      "total discriminator loss:0.6877851934207674\n",
      "Training Step: 93\n",
      "total discriminator loss:0.6879833934969886\n",
      "Training Step: 94\n"
     ]
    },
    {
     "name": "stderr",
     "output_type": "stream",
     "text": [
      "97it [00:05, 17.51it/s]"
     ]
    },
    {
     "name": "stdout",
     "output_type": "stream",
     "text": [
      "total discriminator loss:0.6820976518050395\n",
      "Training Step: 95\n",
      "total discriminator loss:0.6832889753270931\n",
      "Training Step: 96\n",
      "total discriminator loss:0.6810018329343854\n",
      "Training Step: 97\n",
      "total discriminator loss:0.6816280476697323\n",
      "Training Step: 98\n"
     ]
    },
    {
     "name": "stderr",
     "output_type": "stream",
     "text": [
      "101it [00:05, 17.48it/s]"
     ]
    },
    {
     "name": "stdout",
     "output_type": "stream",
     "text": [
      "total discriminator loss:0.6837248273172731\n",
      "Training Step: 99\n",
      "total discriminator loss:0.6869743127864555\n",
      "Training Step: 100\n",
      "total discriminator loss:0.6728500436942655\n",
      "Training Step: 101\n",
      "total discriminator loss:0.6688380710701193\n",
      "Training Step: 102\n"
     ]
    },
    {
     "name": "stderr",
     "output_type": "stream",
     "text": [
      "105it [00:06, 17.59it/s]"
     ]
    },
    {
     "name": "stdout",
     "output_type": "stream",
     "text": [
      "total discriminator loss:0.6788733548685579\n",
      "Training Step: 103\n",
      "total discriminator loss:0.6732428540020359\n",
      "Training Step: 104\n",
      "total discriminator loss:0.6745762675722776\n",
      "Training Step: 105\n",
      "total discriminator loss:0.6722958627156257\n",
      "Training Step: 106\n"
     ]
    },
    {
     "name": "stderr",
     "output_type": "stream",
     "text": [
      "109it [00:06, 17.52it/s]"
     ]
    },
    {
     "name": "stdout",
     "output_type": "stream",
     "text": [
      "total discriminator loss:0.6762704864572785\n",
      "Training Step: 107\n",
      "total discriminator loss:0.6836947080203579\n",
      "Training Step: 108\n",
      "total discriminator loss:0.6768800385617588\n",
      "Training Step: 109\n",
      "total discriminator loss:0.6747608328992625\n",
      "Training Step: 110\n"
     ]
    },
    {
     "name": "stderr",
     "output_type": "stream",
     "text": [
      "113it [00:06, 17.47it/s]"
     ]
    },
    {
     "name": "stdout",
     "output_type": "stream",
     "text": [
      "total discriminator loss:0.6716847777067934\n",
      "Training Step: 111\n",
      "total discriminator loss:0.6770631242026457\n",
      "Training Step: 112\n",
      "total discriminator loss:0.6633056899493025\n",
      "Training Step: 113\n",
      "total discriminator loss:0.6598648303099126\n",
      "Training Step: 114\n"
     ]
    },
    {
     "name": "stderr",
     "output_type": "stream",
     "text": [
      "117it [00:06, 17.50it/s]"
     ]
    },
    {
     "name": "stdout",
     "output_type": "stream",
     "text": [
      "total discriminator loss:0.6786778241563556\n",
      "Training Step: 115\n",
      "total discriminator loss:0.7113175830333734\n",
      "Training Step: 116\n",
      "total discriminator loss:0.7604745857580067\n",
      "Training Step: 117\n",
      "total discriminator loss:0.7622815823397172\n",
      "Training Step: 118\n"
     ]
    },
    {
     "name": "stderr",
     "output_type": "stream",
     "text": [
      "121it [00:07, 17.54it/s]"
     ]
    },
    {
     "name": "stdout",
     "output_type": "stream",
     "text": [
      "total discriminator loss:0.7778519644789235\n",
      "Training Step: 119\n",
      "total discriminator loss:0.7644602320572218\n",
      "Training Step: 120\n",
      "total discriminator loss:0.7620692544785375\n",
      "Training Step: 121\n",
      "total discriminator loss:0.7887146894550308\n",
      "Training Step: 122\n"
     ]
    },
    {
     "name": "stderr",
     "output_type": "stream",
     "text": [
      "125it [00:07, 17.51it/s]"
     ]
    },
    {
     "name": "stdout",
     "output_type": "stream",
     "text": [
      "total discriminator loss:0.7237261881340971\n",
      "Training Step: 123\n",
      "total discriminator loss:0.7333428200095221\n",
      "Training Step: 124\n",
      "total discriminator loss:0.7415811400214153\n",
      "Training Step: 125\n",
      "total discriminator loss:0.7051234441225418\n",
      "Training Step: 126\n"
     ]
    },
    {
     "name": "stderr",
     "output_type": "stream",
     "text": [
      "129it [00:07, 17.39it/s]"
     ]
    },
    {
     "name": "stdout",
     "output_type": "stream",
     "text": [
      "total discriminator loss:0.6924994460620799\n",
      "Training Step: 127\n",
      "total discriminator loss:0.6894291254234755\n",
      "Training Step: 128\n",
      "total discriminator loss:0.659866201917717\n",
      "Training Step: 129\n",
      "total discriminator loss:0.6626303086079575\n",
      "Training Step: 130\n"
     ]
    },
    {
     "name": "stderr",
     "output_type": "stream",
     "text": [
      "133it [00:07, 17.36it/s]"
     ]
    },
    {
     "name": "stdout",
     "output_type": "stream",
     "text": [
      "total discriminator loss:0.6605072903303542\n",
      "Training Step: 131\n",
      "total discriminator loss:0.6643852522582884\n",
      "Training Step: 132\n",
      "total discriminator loss:0.6707840622983067\n",
      "Training Step: 133\n",
      "total discriminator loss:0.6737577077773709\n",
      "Training Step: 134\n"
     ]
    },
    {
     "name": "stderr",
     "output_type": "stream",
     "text": [
      "137it [00:08, 17.33it/s]"
     ]
    },
    {
     "name": "stdout",
     "output_type": "stream",
     "text": [
      "total discriminator loss:0.6740465551669861\n",
      "Training Step: 135\n",
      "total discriminator loss:0.6900249565169773\n",
      "Training Step: 136\n",
      "total discriminator loss:0.6817684676842748\n",
      "Training Step: 137\n",
      "total discriminator loss:0.6654545805023926\n",
      "Training Step: 138\n"
     ]
    },
    {
     "name": "stderr",
     "output_type": "stream",
     "text": [
      "141it [00:08, 17.35it/s]"
     ]
    },
    {
     "name": "stdout",
     "output_type": "stream",
     "text": [
      "total discriminator loss:0.6794890809146983\n",
      "Training Step: 139\n",
      "total discriminator loss:0.6725462216190431\n",
      "Training Step: 140\n",
      "total discriminator loss:0.6629981237444404\n",
      "Training Step: 141\n",
      "total discriminator loss:0.6734169809042714\n",
      "Training Step: 142\n"
     ]
    },
    {
     "name": "stderr",
     "output_type": "stream",
     "text": [
      "145it [00:08, 17.45it/s]"
     ]
    },
    {
     "name": "stdout",
     "output_type": "stream",
     "text": [
      "total discriminator loss:0.6685678467021956\n",
      "Training Step: 143\n",
      "total discriminator loss:0.6703249275441288\n",
      "Training Step: 144\n",
      "total discriminator loss:0.6676236564027896\n",
      "Training Step: 145\n",
      "total discriminator loss:0.6643175759603916\n",
      "Training Step: 146\n"
     ]
    },
    {
     "name": "stderr",
     "output_type": "stream",
     "text": [
      "149it [00:08, 17.56it/s]"
     ]
    },
    {
     "name": "stdout",
     "output_type": "stream",
     "text": [
      "total discriminator loss:0.6659765616052608\n",
      "Training Step: 147\n",
      "total discriminator loss:0.6701566969662693\n",
      "Training Step: 148\n",
      "total discriminator loss:0.6511899400980834\n",
      "Training Step: 149\n",
      "total discriminator loss:0.653174051643338\n",
      "Training Step: 150\n"
     ]
    },
    {
     "name": "stderr",
     "output_type": "stream",
     "text": [
      "153it [00:08, 17.53it/s]"
     ]
    },
    {
     "name": "stdout",
     "output_type": "stream",
     "text": [
      "total discriminator loss:0.6529650582422146\n",
      "Training Step: 151\n",
      "total discriminator loss:0.6600504147116042\n",
      "Training Step: 152\n",
      "total discriminator loss:0.6703942323262098\n",
      "Training Step: 153\n",
      "total discriminator loss:0.6600813111357035\n",
      "Training Step: 154\n"
     ]
    },
    {
     "name": "stderr",
     "output_type": "stream",
     "text": [
      "157it [00:09, 17.70it/s]"
     ]
    },
    {
     "name": "stdout",
     "output_type": "stream",
     "text": [
      "total discriminator loss:0.6630728525458063\n",
      "Training Step: 155\n",
      "total discriminator loss:0.6680994304565941\n",
      "Training Step: 156\n",
      "total discriminator loss:0.6653418383014896\n",
      "Training Step: 157\n",
      "total discriminator loss:0.6533993741699512\n",
      "Training Step: 158\n"
     ]
    },
    {
     "name": "stderr",
     "output_type": "stream",
     "text": [
      "161it [00:09, 17.66it/s]"
     ]
    },
    {
     "name": "stdout",
     "output_type": "stream",
     "text": [
      "total discriminator loss:0.6658005741064785\n",
      "Training Step: 159\n",
      "total discriminator loss:0.6471006125384072\n",
      "Training Step: 160\n",
      "total discriminator loss:0.6461290019029362\n",
      "Training Step: 161\n",
      "total discriminator loss:0.6470721743334671\n",
      "Training Step: 162\n"
     ]
    },
    {
     "name": "stderr",
     "output_type": "stream",
     "text": [
      "165it [00:09, 17.70it/s]"
     ]
    },
    {
     "name": "stdout",
     "output_type": "stream",
     "text": [
      "total discriminator loss:0.6404053008422634\n",
      "Training Step: 163\n",
      "total discriminator loss:0.651001808301692\n",
      "Training Step: 164\n",
      "total discriminator loss:0.6470264116867226\n",
      "Training Step: 165\n",
      "total discriminator loss:0.654486498592072\n",
      "Training Step: 166\n"
     ]
    },
    {
     "name": "stderr",
     "output_type": "stream",
     "text": [
      "169it [00:09, 17.62it/s]"
     ]
    },
    {
     "name": "stdout",
     "output_type": "stream",
     "text": [
      "total discriminator loss:0.6434176552974649\n",
      "Training Step: 167\n",
      "total discriminator loss:0.6421003552427631\n",
      "Training Step: 168\n",
      "total discriminator loss:0.6445281722461385\n",
      "Training Step: 169\n",
      "total discriminator loss:0.6202708601151244\n",
      "Training Step: 170\n"
     ]
    },
    {
     "name": "stderr",
     "output_type": "stream",
     "text": [
      "173it [00:10, 17.60it/s]"
     ]
    },
    {
     "name": "stdout",
     "output_type": "stream",
     "text": [
      "total discriminator loss:0.6334935855073294\n",
      "Training Step: 171\n",
      "total discriminator loss:0.6233548965478317\n",
      "Training Step: 172\n",
      "total discriminator loss:0.6453277831037116\n",
      "Training Step: 173\n",
      "total discriminator loss:0.6249803221625766\n",
      "Training Step: 174\n"
     ]
    },
    {
     "name": "stderr",
     "output_type": "stream",
     "text": [
      "177it [00:10, 17.44it/s]"
     ]
    },
    {
     "name": "stdout",
     "output_type": "stream",
     "text": [
      "total discriminator loss:0.653991964402088\n",
      "Training Step: 175\n",
      "total discriminator loss:0.6587395899601178\n",
      "Training Step: 176\n",
      "total discriminator loss:0.6501404096229049\n",
      "Training Step: 177\n",
      "total discriminator loss:0.6733352705682649\n",
      "Training Step: 178\n"
     ]
    },
    {
     "name": "stderr",
     "output_type": "stream",
     "text": [
      "181it [00:10, 17.28it/s]"
     ]
    },
    {
     "name": "stdout",
     "output_type": "stream",
     "text": [
      "total discriminator loss:0.6202268155436466\n",
      "Training Step: 179\n",
      "total discriminator loss:0.6493961339453954\n",
      "Training Step: 180\n",
      "total discriminator loss:0.6426143964794078\n",
      "Training Step: 181\n",
      "total discriminator loss:0.6178937331009464\n",
      "Training Step: 182\n"
     ]
    },
    {
     "name": "stderr",
     "output_type": "stream",
     "text": [
      "185it [00:10, 17.31it/s]"
     ]
    },
    {
     "name": "stdout",
     "output_type": "stream",
     "text": [
      "total discriminator loss:0.6333154457308976\n",
      "Training Step: 183\n",
      "total discriminator loss:0.6253385256078954\n",
      "Training Step: 184\n",
      "total discriminator loss:0.6247110080079413\n",
      "Training Step: 185\n",
      "total discriminator loss:0.6318770899465385\n",
      "Training Step: 186\n"
     ]
    },
    {
     "name": "stderr",
     "output_type": "stream",
     "text": [
      "189it [00:10, 17.46it/s]"
     ]
    },
    {
     "name": "stdout",
     "output_type": "stream",
     "text": [
      "total discriminator loss:0.5992273706947249\n",
      "Training Step: 187\n",
      "total discriminator loss:0.6175583799748346\n",
      "Training Step: 188\n",
      "total discriminator loss:0.6138233244670845\n",
      "Training Step: 189\n",
      "total discriminator loss:0.6245779024508206\n",
      "Training Step: 190\n"
     ]
    },
    {
     "name": "stderr",
     "output_type": "stream",
     "text": [
      "193it [00:11, 17.60it/s]"
     ]
    },
    {
     "name": "stdout",
     "output_type": "stream",
     "text": [
      "total discriminator loss:0.5955801190763952\n",
      "Training Step: 191\n",
      "total discriminator loss:0.596480011272784\n",
      "Training Step: 192\n",
      "total discriminator loss:0.642738363701056\n",
      "Training Step: 193\n",
      "total discriminator loss:0.6535135561210184\n",
      "Training Step: 194\n"
     ]
    },
    {
     "name": "stderr",
     "output_type": "stream",
     "text": [
      "197it [00:11, 17.54it/s]"
     ]
    },
    {
     "name": "stdout",
     "output_type": "stream",
     "text": [
      "total discriminator loss:0.6458257071245145\n",
      "Training Step: 195\n",
      "total discriminator loss:0.6340639868216553\n",
      "Training Step: 196\n",
      "total discriminator loss:0.6069721543090829\n",
      "Training Step: 197\n",
      "total discriminator loss:0.5856945341856645\n",
      "Training Step: 198\n"
     ]
    },
    {
     "name": "stderr",
     "output_type": "stream",
     "text": [
      "201it [00:11, 17.61it/s]"
     ]
    },
    {
     "name": "stdout",
     "output_type": "stream",
     "text": [
      "total discriminator loss:0.5925262122100222\n",
      "Training Step: 199\n",
      "total discriminator loss:0.6150254554482049\n",
      "Training Step: 200\n",
      "total discriminator loss:0.6137955251506813\n",
      "Training Step: 201\n",
      "total discriminator loss:0.6058407141927407\n",
      "Training Step: 202\n"
     ]
    },
    {
     "name": "stderr",
     "output_type": "stream",
     "text": [
      "205it [00:11, 17.68it/s]"
     ]
    },
    {
     "name": "stdout",
     "output_type": "stream",
     "text": [
      "total discriminator loss:0.576381911473526\n",
      "Training Step: 203\n",
      "total discriminator loss:0.5942756535890907\n",
      "Training Step: 204\n",
      "total discriminator loss:0.5944964475307826\n",
      "Training Step: 205\n",
      "total discriminator loss:0.5512966645987707\n",
      "Training Step: 206\n"
     ]
    },
    {
     "name": "stderr",
     "output_type": "stream",
     "text": [
      "209it [00:12, 17.77it/s]"
     ]
    },
    {
     "name": "stdout",
     "output_type": "stream",
     "text": [
      "total discriminator loss:0.5723702752495454\n",
      "Training Step: 207\n",
      "total discriminator loss:0.5623661867787851\n",
      "Training Step: 208\n",
      "total discriminator loss:0.5732627410666221\n",
      "Training Step: 209\n",
      "total discriminator loss:0.5755715549185921\n",
      "Training Step: 210\n"
     ]
    },
    {
     "name": "stderr",
     "output_type": "stream",
     "text": [
      "213it [00:12, 17.70it/s]"
     ]
    },
    {
     "name": "stdout",
     "output_type": "stream",
     "text": [
      "total discriminator loss:0.6036568001943651\n",
      "Training Step: 211\n",
      "total discriminator loss:0.5793737876635503\n",
      "Training Step: 212\n",
      "total discriminator loss:0.6086430228701897\n",
      "Training Step: 213\n",
      "total discriminator loss:0.5760668786585932\n",
      "Training Step: 214\n"
     ]
    },
    {
     "name": "stderr",
     "output_type": "stream",
     "text": [
      "217it [00:12, 17.61it/s]"
     ]
    },
    {
     "name": "stdout",
     "output_type": "stream",
     "text": [
      "total discriminator loss:0.5497843693895365\n",
      "Training Step: 215\n",
      "total discriminator loss:0.5591754560888214\n",
      "Training Step: 216\n",
      "total discriminator loss:0.5355298774699203\n",
      "Training Step: 217\n",
      "total discriminator loss:0.5572549817771731\n",
      "Training Step: 218\n"
     ]
    },
    {
     "name": "stderr",
     "output_type": "stream",
     "text": [
      "221it [00:12, 17.72it/s]"
     ]
    },
    {
     "name": "stdout",
     "output_type": "stream",
     "text": [
      "total discriminator loss:0.5221357227737913\n",
      "Training Step: 219\n",
      "total discriminator loss:0.5600562590805243\n",
      "Training Step: 220\n",
      "total discriminator loss:0.545152529757223\n",
      "Training Step: 221\n",
      "total discriminator loss:0.5519569755989038\n",
      "Training Step: 222\n"
     ]
    },
    {
     "name": "stderr",
     "output_type": "stream",
     "text": [
      "225it [00:13, 17.68it/s]"
     ]
    },
    {
     "name": "stdout",
     "output_type": "stream",
     "text": [
      "total discriminator loss:0.563190002803587\n",
      "Training Step: 223\n",
      "total discriminator loss:0.533883538537338\n",
      "Training Step: 224\n",
      "total discriminator loss:0.5245943857829528\n",
      "Training Step: 225\n",
      "total discriminator loss:0.5321407698398303\n",
      "Training Step: 226\n"
     ]
    },
    {
     "name": "stderr",
     "output_type": "stream",
     "text": [
      "229it [00:13, 17.76it/s]"
     ]
    },
    {
     "name": "stdout",
     "output_type": "stream",
     "text": [
      "total discriminator loss:0.5294432178546202\n",
      "Training Step: 227\n",
      "total discriminator loss:0.5537917670865573\n",
      "Training Step: 228\n",
      "total discriminator loss:0.5012880950009286\n",
      "Training Step: 229\n",
      "total discriminator loss:0.49228993887129346\n",
      "Training Step: 230\n"
     ]
    },
    {
     "name": "stderr",
     "output_type": "stream",
     "text": [
      "233it [00:13, 17.73it/s]"
     ]
    },
    {
     "name": "stdout",
     "output_type": "stream",
     "text": [
      "total discriminator loss:0.5693460414936024\n",
      "Training Step: 231\n",
      "total discriminator loss:0.5065359592912958\n",
      "Training Step: 232\n",
      "total discriminator loss:0.5023777672427154\n",
      "Training Step: 233\n",
      "total discriminator loss:0.5119351756435913\n",
      "Training Step: 234\n"
     ]
    },
    {
     "name": "stderr",
     "output_type": "stream",
     "text": [
      "237it [00:13, 17.75it/s]"
     ]
    },
    {
     "name": "stdout",
     "output_type": "stream",
     "text": [
      "total discriminator loss:0.5193778433057299\n",
      "Training Step: 235\n",
      "total discriminator loss:0.5210001878575319\n",
      "Training Step: 236\n",
      "total discriminator loss:0.49748179290835814\n",
      "Training Step: 237\n",
      "total discriminator loss:0.5470039434641374\n",
      "Training Step: 238\n"
     ]
    },
    {
     "name": "stderr",
     "output_type": "stream",
     "text": [
      "241it [00:13, 17.71it/s]"
     ]
    },
    {
     "name": "stdout",
     "output_type": "stream",
     "text": [
      "total discriminator loss:0.5256191701641435\n",
      "Training Step: 239\n",
      "total discriminator loss:0.5133555267568441\n",
      "Training Step: 240\n",
      "total discriminator loss:0.5510331739033726\n",
      "Training Step: 241\n",
      "total discriminator loss:0.5072083093442774\n",
      "Training Step: 242\n"
     ]
    },
    {
     "name": "stderr",
     "output_type": "stream",
     "text": [
      "245it [00:14, 17.51it/s]"
     ]
    },
    {
     "name": "stdout",
     "output_type": "stream",
     "text": [
      "total discriminator loss:0.4915960733988528\n",
      "Training Step: 243\n",
      "total discriminator loss:0.491464722463719\n",
      "Training Step: 244\n",
      "total discriminator loss:0.4532871381982488\n",
      "Training Step: 245\n",
      "total discriminator loss:0.48697684373875927\n",
      "Training Step: 246\n"
     ]
    },
    {
     "name": "stderr",
     "output_type": "stream",
     "text": [
      "249it [00:14, 17.60it/s]"
     ]
    },
    {
     "name": "stdout",
     "output_type": "stream",
     "text": [
      "total discriminator loss:0.47845485041257174\n",
      "Training Step: 247\n",
      "total discriminator loss:0.5000548212708584\n",
      "Training Step: 248\n",
      "total discriminator loss:0.4831212328897438\n",
      "Training Step: 249\n",
      "total discriminator loss:0.5285555237467326\n",
      "Training Step: 250\n"
     ]
    },
    {
     "name": "stderr",
     "output_type": "stream",
     "text": [
      "253it [00:14, 17.65it/s]"
     ]
    },
    {
     "name": "stdout",
     "output_type": "stream",
     "text": [
      "total discriminator loss:0.4447275808291155\n",
      "Training Step: 251\n",
      "total discriminator loss:0.4979529683050822\n",
      "Training Step: 252\n",
      "total discriminator loss:0.49004700500733706\n",
      "Training Step: 253\n",
      "total discriminator loss:0.49869786885745004\n",
      "Training Step: 254\n"
     ]
    },
    {
     "name": "stderr",
     "output_type": "stream",
     "text": [
      "257it [00:14, 17.77it/s]"
     ]
    },
    {
     "name": "stdout",
     "output_type": "stream",
     "text": [
      "total discriminator loss:0.5375108897122896\n",
      "Training Step: 255\n",
      "total discriminator loss:0.5383061701807603\n",
      "Training Step: 256\n",
      "total discriminator loss:0.4806878621188266\n",
      "Training Step: 257\n",
      "total discriminator loss:0.4928444372784171\n",
      "Training Step: 258\n"
     ]
    },
    {
     "name": "stderr",
     "output_type": "stream",
     "text": [
      "261it [00:15, 17.76it/s]"
     ]
    },
    {
     "name": "stdout",
     "output_type": "stream",
     "text": [
      "total discriminator loss:0.48370338533442975\n",
      "Training Step: 259\n",
      "total discriminator loss:0.4683174733186518\n",
      "Training Step: 260\n",
      "total discriminator loss:0.495761935981934\n",
      "Training Step: 261\n",
      "total discriminator loss:0.46412267889717385\n",
      "Training Step: 262\n"
     ]
    },
    {
     "name": "stderr",
     "output_type": "stream",
     "text": [
      "265it [00:15, 17.80it/s]"
     ]
    },
    {
     "name": "stdout",
     "output_type": "stream",
     "text": [
      "total discriminator loss:0.46537433118391275\n",
      "Training Step: 263\n",
      "total discriminator loss:0.501908784226276\n",
      "Training Step: 264\n",
      "total discriminator loss:0.4817682417598135\n",
      "Training Step: 265\n",
      "total discriminator loss:0.46289877116960865\n",
      "Training Step: 266\n"
     ]
    },
    {
     "name": "stderr",
     "output_type": "stream",
     "text": [
      "269it [00:15, 17.60it/s]"
     ]
    },
    {
     "name": "stdout",
     "output_type": "stream",
     "text": [
      "total discriminator loss:0.48583475272229815\n",
      "Training Step: 267\n",
      "total discriminator loss:0.47112649192737566\n",
      "Training Step: 268\n",
      "total discriminator loss:0.4684546408941612\n",
      "Training Step: 269\n",
      "total discriminator loss:0.46540286315995555\n",
      "Training Step: 270\n"
     ]
    },
    {
     "name": "stderr",
     "output_type": "stream",
     "text": [
      "273it [00:15, 17.54it/s]"
     ]
    },
    {
     "name": "stdout",
     "output_type": "stream",
     "text": [
      "total discriminator loss:0.4907257998121776\n",
      "Training Step: 271\n",
      "total discriminator loss:0.4753622997512193\n",
      "Training Step: 272\n",
      "total discriminator loss:0.4379641883945298\n",
      "Training Step: 273\n",
      "total discriminator loss:0.43121610705742364\n",
      "Training Step: 274\n"
     ]
    },
    {
     "name": "stderr",
     "output_type": "stream",
     "text": [
      "277it [00:15, 17.60it/s]"
     ]
    },
    {
     "name": "stdout",
     "output_type": "stream",
     "text": [
      "total discriminator loss:0.5050451179207909\n",
      "Training Step: 275\n",
      "total discriminator loss:0.4793618814254651\n",
      "Training Step: 276\n",
      "total discriminator loss:0.47630195827724714\n",
      "Training Step: 277\n",
      "total discriminator loss:0.4408869991069081\n",
      "Training Step: 278\n"
     ]
    },
    {
     "name": "stderr",
     "output_type": "stream",
     "text": [
      "281it [00:16, 17.78it/s]"
     ]
    },
    {
     "name": "stdout",
     "output_type": "stream",
     "text": [
      "total discriminator loss:0.43891785944919764\n",
      "Training Step: 279\n",
      "total discriminator loss:0.42241502685454224\n",
      "Training Step: 280\n",
      "total discriminator loss:0.46206843844623924\n",
      "Training Step: 281\n",
      "total discriminator loss:0.44170425539245406\n",
      "Training Step: 282\n"
     ]
    },
    {
     "name": "stderr",
     "output_type": "stream",
     "text": [
      "285it [00:16, 17.73it/s]"
     ]
    },
    {
     "name": "stdout",
     "output_type": "stream",
     "text": [
      "total discriminator loss:0.45415226840037315\n",
      "Training Step: 283\n",
      "total discriminator loss:0.43801508361582575\n",
      "Training Step: 284\n",
      "total discriminator loss:0.4390720977617646\n",
      "Training Step: 285\n",
      "total discriminator loss:0.4389476416959243\n",
      "Training Step: 286\n"
     ]
    },
    {
     "name": "stderr",
     "output_type": "stream",
     "text": [
      "289it [00:16, 17.66it/s]"
     ]
    },
    {
     "name": "stdout",
     "output_type": "stream",
     "text": [
      "total discriminator loss:0.5034348030177944\n",
      "Training Step: 287\n",
      "total discriminator loss:0.4535951451667438\n",
      "Training Step: 288\n",
      "total discriminator loss:0.4497284294571946\n",
      "Training Step: 289\n",
      "total discriminator loss:0.4761654553128844\n",
      "Training Step: 290\n"
     ]
    },
    {
     "name": "stderr",
     "output_type": "stream",
     "text": [
      "293it [00:16, 17.51it/s]"
     ]
    },
    {
     "name": "stdout",
     "output_type": "stream",
     "text": [
      "total discriminator loss:0.44175761450236284\n",
      "Training Step: 291\n",
      "total discriminator loss:0.4803950418928633\n",
      "Training Step: 292\n",
      "total discriminator loss:0.45569972848937973\n",
      "Training Step: 293\n",
      "total discriminator loss:0.46237778701569376\n",
      "Training Step: 294\n"
     ]
    },
    {
     "name": "stderr",
     "output_type": "stream",
     "text": [
      "297it [00:17, 17.63it/s]"
     ]
    },
    {
     "name": "stdout",
     "output_type": "stream",
     "text": [
      "total discriminator loss:0.40955363438893944\n",
      "Training Step: 295\n",
      "total discriminator loss:0.3963516769888029\n",
      "Training Step: 296\n",
      "total discriminator loss:0.44788252509350784\n",
      "Training Step: 297\n",
      "total discriminator loss:0.43803429576687536\n",
      "Training Step: 298\n"
     ]
    },
    {
     "name": "stderr",
     "output_type": "stream",
     "text": [
      "301it [00:17, 17.75it/s]"
     ]
    },
    {
     "name": "stdout",
     "output_type": "stream",
     "text": [
      "total discriminator loss:0.44675678137599484\n",
      "Training Step: 299\n",
      "total discriminator loss:0.4240485284640243\n",
      "Training Step: 300\n",
      "total discriminator loss:0.35603858362774865\n",
      "Training Step: 301\n",
      "total discriminator loss:0.4003714289581054\n",
      "Training Step: 302\n"
     ]
    },
    {
     "name": "stderr",
     "output_type": "stream",
     "text": [
      "305it [00:17, 17.57it/s]"
     ]
    },
    {
     "name": "stdout",
     "output_type": "stream",
     "text": [
      "total discriminator loss:0.49007653439065557\n",
      "Training Step: 303\n",
      "total discriminator loss:0.45496966604743994\n",
      "Training Step: 304\n",
      "total discriminator loss:0.44449245226377665\n",
      "Training Step: 305\n",
      "total discriminator loss:0.4332450547945881\n",
      "Training Step: 306\n"
     ]
    },
    {
     "name": "stderr",
     "output_type": "stream",
     "text": [
      "309it [00:17, 17.53it/s]"
     ]
    },
    {
     "name": "stdout",
     "output_type": "stream",
     "text": [
      "total discriminator loss:0.4829936247257501\n",
      "Training Step: 307\n",
      "total discriminator loss:0.42088455060457725\n",
      "Training Step: 308\n",
      "total discriminator loss:0.4183911395836496\n",
      "Training Step: 309\n",
      "total discriminator loss:0.4376924982478235\n",
      "Training Step: 310\n"
     ]
    },
    {
     "name": "stderr",
     "output_type": "stream",
     "text": [
      "313it [00:18, 17.58it/s]"
     ]
    },
    {
     "name": "stdout",
     "output_type": "stream",
     "text": [
      "total discriminator loss:0.451157553792903\n",
      "Training Step: 311\n",
      "total discriminator loss:0.42064219022113536\n",
      "Training Step: 312\n",
      "total discriminator loss:0.4638072598178197\n",
      "Training Step: 313\n",
      "total discriminator loss:0.4412593697063939\n",
      "Training Step: 314\n"
     ]
    },
    {
     "name": "stderr",
     "output_type": "stream",
     "text": [
      "317it [00:18, 17.63it/s]"
     ]
    },
    {
     "name": "stdout",
     "output_type": "stream",
     "text": [
      "total discriminator loss:0.4408047445704723\n",
      "Training Step: 315\n",
      "total discriminator loss:0.4339449059670094\n",
      "Training Step: 316\n",
      "total discriminator loss:0.45826870863385855\n",
      "Training Step: 317\n",
      "total discriminator loss:0.42302391290402697\n",
      "Training Step: 318\n"
     ]
    },
    {
     "name": "stderr",
     "output_type": "stream",
     "text": [
      "321it [00:18, 17.77it/s]"
     ]
    },
    {
     "name": "stdout",
     "output_type": "stream",
     "text": [
      "total discriminator loss:0.42380086071067175\n",
      "Training Step: 319\n",
      "total discriminator loss:0.391921446561323\n",
      "Training Step: 320\n",
      "total discriminator loss:0.48879260636710875\n",
      "Training Step: 321\n",
      "total discriminator loss:0.38307291430479057\n",
      "Training Step: 322\n"
     ]
    },
    {
     "name": "stderr",
     "output_type": "stream",
     "text": [
      "325it [00:18, 17.76it/s]"
     ]
    },
    {
     "name": "stdout",
     "output_type": "stream",
     "text": [
      "total discriminator loss:0.41071755188703357\n",
      "Training Step: 323\n",
      "total discriminator loss:0.3840029289554189\n",
      "Training Step: 324\n",
      "total discriminator loss:0.37071029513261\n",
      "Training Step: 325\n",
      "total discriminator loss:0.4145850186904221\n",
      "Training Step: 326\n"
     ]
    },
    {
     "name": "stderr",
     "output_type": "stream",
     "text": [
      "329it [00:18, 17.52it/s]"
     ]
    },
    {
     "name": "stdout",
     "output_type": "stream",
     "text": [
      "total discriminator loss:0.4868813424834348\n",
      "Training Step: 327\n",
      "total discriminator loss:0.42829197503587735\n",
      "Training Step: 328\n",
      "total discriminator loss:0.4353031080034474\n",
      "Training Step: 329\n",
      "total discriminator loss:0.4518172073878165\n",
      "Training Step: 330\n"
     ]
    },
    {
     "name": "stderr",
     "output_type": "stream",
     "text": [
      "333it [00:19, 17.58it/s]"
     ]
    },
    {
     "name": "stdout",
     "output_type": "stream",
     "text": [
      "total discriminator loss:0.4177148157976672\n",
      "Training Step: 331\n",
      "total discriminator loss:0.3776706634047451\n",
      "Training Step: 332\n",
      "total discriminator loss:0.3824209437300611\n",
      "Training Step: 333\n",
      "total discriminator loss:0.4284553764950778\n",
      "Training Step: 334\n"
     ]
    },
    {
     "name": "stderr",
     "output_type": "stream",
     "text": [
      "337it [00:19, 17.70it/s]"
     ]
    },
    {
     "name": "stdout",
     "output_type": "stream",
     "text": [
      "total discriminator loss:0.4115919082714804\n",
      "Training Step: 335\n",
      "total discriminator loss:0.42511232559104856\n",
      "Training Step: 336\n",
      "total discriminator loss:0.4260534263791988\n",
      "Training Step: 337\n",
      "total discriminator loss:0.3957439287317201\n",
      "Training Step: 338\n"
     ]
    },
    {
     "name": "stderr",
     "output_type": "stream",
     "text": [
      "341it [00:19, 17.66it/s]"
     ]
    },
    {
     "name": "stdout",
     "output_type": "stream",
     "text": [
      "total discriminator loss:0.39427433823059543\n",
      "Training Step: 339\n",
      "total discriminator loss:0.38713250087935225\n",
      "Training Step: 340\n",
      "total discriminator loss:0.39940528239902834\n",
      "Training Step: 341\n",
      "total discriminator loss:0.41123908425640704\n",
      "Training Step: 342\n"
     ]
    },
    {
     "name": "stderr",
     "output_type": "stream",
     "text": [
      "345it [00:19, 17.65it/s]"
     ]
    },
    {
     "name": "stdout",
     "output_type": "stream",
     "text": [
      "total discriminator loss:0.3848016691553121\n",
      "Training Step: 343\n",
      "total discriminator loss:0.3806235483282352\n",
      "Training Step: 344\n",
      "total discriminator loss:0.4153842326665709\n",
      "Training Step: 345\n",
      "total discriminator loss:0.4127680486159919\n",
      "Training Step: 346\n"
     ]
    },
    {
     "name": "stderr",
     "output_type": "stream",
     "text": [
      "349it [00:20, 17.77it/s]"
     ]
    },
    {
     "name": "stdout",
     "output_type": "stream",
     "text": [
      "total discriminator loss:0.40759429122544494\n",
      "Training Step: 347\n",
      "total discriminator loss:0.39660812209790663\n",
      "Training Step: 348\n",
      "total discriminator loss:0.4006609224139811\n",
      "Training Step: 349\n",
      "total discriminator loss:0.4559530948123937\n",
      "Training Step: 350\n"
     ]
    },
    {
     "name": "stderr",
     "output_type": "stream",
     "text": [
      "353it [00:20, 17.67it/s]"
     ]
    },
    {
     "name": "stdout",
     "output_type": "stream",
     "text": [
      "total discriminator loss:0.41103315665777185\n",
      "Training Step: 351\n",
      "total discriminator loss:0.40683509310561883\n",
      "Training Step: 352\n",
      "total discriminator loss:0.40920697925326077\n",
      "Training Step: 353\n",
      "total discriminator loss:0.38349294026055614\n",
      "Training Step: 354\n"
     ]
    },
    {
     "name": "stderr",
     "output_type": "stream",
     "text": [
      "357it [00:20, 17.43it/s]"
     ]
    },
    {
     "name": "stdout",
     "output_type": "stream",
     "text": [
      "total discriminator loss:0.39386905423292495\n",
      "Training Step: 355\n",
      "total discriminator loss:0.40506468471666884\n",
      "Training Step: 356\n",
      "total discriminator loss:0.34884480063673107\n",
      "Training Step: 357\n",
      "total discriminator loss:0.3965677312975867\n",
      "Training Step: 358\n"
     ]
    },
    {
     "name": "stderr",
     "output_type": "stream",
     "text": [
      "361it [00:20, 17.47it/s]"
     ]
    },
    {
     "name": "stdout",
     "output_type": "stream",
     "text": [
      "total discriminator loss:0.3840665068146159\n",
      "Training Step: 359\n",
      "total discriminator loss:0.4661490480705049\n",
      "Training Step: 360\n",
      "total discriminator loss:0.38653223817777504\n",
      "Training Step: 361\n",
      "total discriminator loss:0.3665424299969874\n",
      "Training Step: 362\n"
     ]
    },
    {
     "name": "stderr",
     "output_type": "stream",
     "text": [
      "365it [00:20, 17.56it/s]"
     ]
    },
    {
     "name": "stdout",
     "output_type": "stream",
     "text": [
      "total discriminator loss:0.3947427196708372\n",
      "Training Step: 363\n",
      "total discriminator loss:0.3863070834273251\n",
      "Training Step: 364\n",
      "total discriminator loss:0.43113524814391513\n",
      "Training Step: 365\n",
      "total discriminator loss:0.4062173774353733\n",
      "Training Step: 366\n"
     ]
    },
    {
     "name": "stderr",
     "output_type": "stream",
     "text": [
      "369it [00:21, 17.72it/s]"
     ]
    },
    {
     "name": "stdout",
     "output_type": "stream",
     "text": [
      "total discriminator loss:0.37046621387512013\n",
      "Training Step: 367\n",
      "total discriminator loss:0.4089486291461385\n",
      "Training Step: 368\n",
      "total discriminator loss:0.36423505065649014\n",
      "Training Step: 369\n",
      "total discriminator loss:0.42163920634974467\n",
      "Training Step: 370\n"
     ]
    },
    {
     "name": "stderr",
     "output_type": "stream",
     "text": [
      "373it [00:21, 17.71it/s]"
     ]
    },
    {
     "name": "stdout",
     "output_type": "stream",
     "text": [
      "total discriminator loss:0.35775701289117845\n",
      "Training Step: 371\n",
      "total discriminator loss:0.35612419742910073\n",
      "Training Step: 372\n",
      "total discriminator loss:0.4484712141066107\n",
      "Training Step: 373\n",
      "total discriminator loss:0.4032634573264153\n",
      "Training Step: 374\n"
     ]
    },
    {
     "name": "stderr",
     "output_type": "stream",
     "text": [
      "377it [00:21, 17.68it/s]"
     ]
    },
    {
     "name": "stdout",
     "output_type": "stream",
     "text": [
      "total discriminator loss:0.42675705165831695\n",
      "Training Step: 375\n",
      "total discriminator loss:0.3989012138560378\n",
      "Training Step: 376\n",
      "total discriminator loss:0.38615895963811797\n",
      "Training Step: 377\n",
      "total discriminator loss:0.43805649883421616\n",
      "Training Step: 378\n"
     ]
    },
    {
     "name": "stderr",
     "output_type": "stream",
     "text": [
      "381it [00:21, 17.58it/s]"
     ]
    },
    {
     "name": "stdout",
     "output_type": "stream",
     "text": [
      "total discriminator loss:0.4327689392727645\n",
      "Training Step: 379\n",
      "total discriminator loss:0.40779557841895886\n",
      "Training Step: 380\n",
      "total discriminator loss:0.43722250018823045\n",
      "Training Step: 381\n",
      "total discriminator loss:0.38128288268260324\n",
      "Training Step: 382\n"
     ]
    },
    {
     "name": "stderr",
     "output_type": "stream",
     "text": [
      "385it [00:22, 17.68it/s]"
     ]
    },
    {
     "name": "stdout",
     "output_type": "stream",
     "text": [
      "total discriminator loss:0.36515355305351505\n",
      "Training Step: 383\n",
      "total discriminator loss:0.3983452095377208\n",
      "Training Step: 384\n",
      "total discriminator loss:0.39801164019456603\n",
      "Training Step: 385\n",
      "total discriminator loss:0.3560546860965623\n",
      "Training Step: 386\n"
     ]
    },
    {
     "name": "stderr",
     "output_type": "stream",
     "text": [
      "389it [00:22, 17.65it/s]"
     ]
    },
    {
     "name": "stdout",
     "output_type": "stream",
     "text": [
      "total discriminator loss:0.4374943826716432\n",
      "Training Step: 387\n",
      "total discriminator loss:0.3872986327777439\n",
      "Training Step: 388\n",
      "total discriminator loss:0.36517285914250275\n",
      "Training Step: 389\n",
      "total discriminator loss:0.418320734688591\n",
      "Training Step: 390\n"
     ]
    },
    {
     "name": "stderr",
     "output_type": "stream",
     "text": [
      "393it [00:22, 17.54it/s]"
     ]
    },
    {
     "name": "stdout",
     "output_type": "stream",
     "text": [
      "total discriminator loss:0.33513110276647806\n",
      "Training Step: 391\n",
      "total discriminator loss:0.40973309205377617\n",
      "Training Step: 392\n",
      "total discriminator loss:0.4066205415330748\n",
      "Training Step: 393\n",
      "total discriminator loss:0.3619871210669281\n",
      "Training Step: 394\n"
     ]
    },
    {
     "name": "stderr",
     "output_type": "stream",
     "text": [
      "397it [00:22, 17.61it/s]"
     ]
    },
    {
     "name": "stdout",
     "output_type": "stream",
     "text": [
      "total discriminator loss:0.3746541659801124\n",
      "Training Step: 395\n",
      "total discriminator loss:0.4042169463361251\n",
      "Training Step: 396\n",
      "total discriminator loss:0.3812737019999213\n",
      "Training Step: 397\n",
      "total discriminator loss:0.34837373467051047\n",
      "Training Step: 398\n"
     ]
    },
    {
     "name": "stderr",
     "output_type": "stream",
     "text": [
      "401it [00:23, 17.62it/s]"
     ]
    },
    {
     "name": "stdout",
     "output_type": "stream",
     "text": [
      "total discriminator loss:0.33887742002296994\n",
      "Training Step: 399\n",
      "total discriminator loss:0.3730274335144972\n",
      "Training Step: 400\n",
      "total discriminator loss:0.3314867344201277\n",
      "Training Step: 401\n",
      "total discriminator loss:0.4118923579713041\n",
      "Training Step: 402\n"
     ]
    },
    {
     "name": "stderr",
     "output_type": "stream",
     "text": [
      "405it [00:23, 17.72it/s]"
     ]
    },
    {
     "name": "stdout",
     "output_type": "stream",
     "text": [
      "total discriminator loss:0.41159946687526283\n",
      "Training Step: 403\n",
      "total discriminator loss:0.4269773735437148\n",
      "Training Step: 404\n",
      "total discriminator loss:0.3612834947758797\n",
      "Training Step: 405\n",
      "total discriminator loss:0.3930583030602746\n",
      "Training Step: 406\n"
     ]
    },
    {
     "name": "stderr",
     "output_type": "stream",
     "text": [
      "409it [00:23, 17.64it/s]"
     ]
    },
    {
     "name": "stdout",
     "output_type": "stream",
     "text": [
      "total discriminator loss:0.3475583905366698\n",
      "Training Step: 407\n",
      "total discriminator loss:0.3687979880088107\n",
      "Training Step: 408\n",
      "total discriminator loss:0.42016094986349073\n",
      "Training Step: 409\n",
      "total discriminator loss:0.3778325827620807\n",
      "Training Step: 410\n"
     ]
    },
    {
     "name": "stderr",
     "output_type": "stream",
     "text": [
      "413it [00:23, 17.62it/s]"
     ]
    },
    {
     "name": "stdout",
     "output_type": "stream",
     "text": [
      "total discriminator loss:0.39460749204437817\n",
      "Training Step: 411\n",
      "total discriminator loss:0.4022183895041377\n",
      "Training Step: 412\n",
      "total discriminator loss:0.3395644452711929\n",
      "Training Step: 413\n",
      "total discriminator loss:0.3951392610480266\n",
      "Training Step: 414\n"
     ]
    },
    {
     "name": "stderr",
     "output_type": "stream",
     "text": [
      "417it [00:23, 17.73it/s]"
     ]
    },
    {
     "name": "stdout",
     "output_type": "stream",
     "text": [
      "total discriminator loss:0.4139491317165681\n",
      "Training Step: 415\n",
      "total discriminator loss:0.4030750693459656\n",
      "Training Step: 416\n",
      "total discriminator loss:0.36034459556887033\n",
      "Training Step: 417\n",
      "total discriminator loss:0.40195467238541827\n",
      "Training Step: 418\n"
     ]
    },
    {
     "name": "stderr",
     "output_type": "stream",
     "text": [
      "421it [00:24, 17.68it/s]"
     ]
    },
    {
     "name": "stdout",
     "output_type": "stream",
     "text": [
      "total discriminator loss:0.41419513410009307\n",
      "Training Step: 419\n",
      "total discriminator loss:0.3338276259069733\n",
      "Training Step: 420\n",
      "total discriminator loss:0.31543929188998765\n",
      "Training Step: 421\n",
      "total discriminator loss:0.4199995311587896\n",
      "Training Step: 422\n"
     ]
    },
    {
     "name": "stderr",
     "output_type": "stream",
     "text": [
      "425it [00:24, 17.73it/s]"
     ]
    },
    {
     "name": "stdout",
     "output_type": "stream",
     "text": [
      "total discriminator loss:0.4120525213535998\n",
      "Training Step: 423\n",
      "total discriminator loss:0.40373823839733136\n",
      "Training Step: 424\n",
      "total discriminator loss:0.37479260834398814\n",
      "Training Step: 425\n",
      "total discriminator loss:0.44246348414784253\n",
      "Training Step: 426\n"
     ]
    },
    {
     "name": "stderr",
     "output_type": "stream",
     "text": [
      "429it [00:24, 17.64it/s]"
     ]
    },
    {
     "name": "stdout",
     "output_type": "stream",
     "text": [
      "total discriminator loss:0.42527078899356496\n",
      "Training Step: 427\n",
      "total discriminator loss:0.33973178644588264\n",
      "Training Step: 428\n",
      "total discriminator loss:0.3999936844511487\n",
      "Training Step: 429\n",
      "total discriminator loss:0.40982662075332454\n",
      "Training Step: 430\n"
     ]
    },
    {
     "name": "stderr",
     "output_type": "stream",
     "text": [
      "433it [00:24, 17.66it/s]"
     ]
    },
    {
     "name": "stdout",
     "output_type": "stream",
     "text": [
      "total discriminator loss:0.39558422450057906\n",
      "Training Step: 431\n",
      "total discriminator loss:0.4120637098888784\n",
      "Training Step: 432\n",
      "total discriminator loss:0.3885273575955422\n",
      "Training Step: 433\n",
      "total discriminator loss:0.3749201356695333\n",
      "Training Step: 434\n"
     ]
    },
    {
     "name": "stderr",
     "output_type": "stream",
     "text": [
      "437it [00:25, 17.79it/s]"
     ]
    },
    {
     "name": "stdout",
     "output_type": "stream",
     "text": [
      "total discriminator loss:0.3871594573838829\n",
      "Training Step: 435\n",
      "total discriminator loss:0.34523386782858967\n",
      "Training Step: 436\n",
      "total discriminator loss:0.3446637255318029\n",
      "Training Step: 437\n",
      "total discriminator loss:0.37802672457658437\n",
      "Training Step: 438\n"
     ]
    },
    {
     "name": "stderr",
     "output_type": "stream",
     "text": [
      "441it [00:25, 17.85it/s]"
     ]
    },
    {
     "name": "stdout",
     "output_type": "stream",
     "text": [
      "total discriminator loss:0.44746424163977727\n",
      "Training Step: 439\n",
      "total discriminator loss:0.4565872404586884\n",
      "Training Step: 440\n",
      "total discriminator loss:0.377863396529661\n",
      "Training Step: 441\n",
      "total discriminator loss:0.41466319501642407\n",
      "Training Step: 442\n"
     ]
    },
    {
     "name": "stderr",
     "output_type": "stream",
     "text": [
      "445it [00:25, 17.70it/s]"
     ]
    },
    {
     "name": "stdout",
     "output_type": "stream",
     "text": [
      "total discriminator loss:0.330548117115281\n",
      "Training Step: 443\n",
      "total discriminator loss:0.4306001005017352\n",
      "Training Step: 444\n",
      "total discriminator loss:0.3906537409258021\n",
      "Training Step: 445\n",
      "total discriminator loss:0.3589678222920293\n",
      "Training Step: 446\n"
     ]
    },
    {
     "name": "stderr",
     "output_type": "stream",
     "text": [
      "449it [00:25, 17.70it/s]"
     ]
    },
    {
     "name": "stdout",
     "output_type": "stream",
     "text": [
      "total discriminator loss:0.3465180561177776\n",
      "Training Step: 447\n",
      "total discriminator loss:0.3791556912267319\n",
      "Training Step: 448\n",
      "total discriminator loss:0.3871092186591643\n",
      "Training Step: 449\n",
      "total discriminator loss:0.37283589810322315\n",
      "Training Step: 450\n"
     ]
    },
    {
     "name": "stderr",
     "output_type": "stream",
     "text": [
      "453it [00:25, 17.58it/s]"
     ]
    },
    {
     "name": "stdout",
     "output_type": "stream",
     "text": [
      "total discriminator loss:0.4205278260935598\n",
      "Training Step: 451\n",
      "total discriminator loss:0.3960828878836271\n",
      "Training Step: 452\n",
      "total discriminator loss:0.34782091462174597\n",
      "Training Step: 453\n",
      "total discriminator loss:0.3810116977322683\n",
      "Training Step: 454\n"
     ]
    },
    {
     "name": "stderr",
     "output_type": "stream",
     "text": [
      "457it [00:26, 17.67it/s]"
     ]
    },
    {
     "name": "stdout",
     "output_type": "stream",
     "text": [
      "total discriminator loss:0.3852912288454507\n",
      "Training Step: 455\n",
      "total discriminator loss:0.38217870393706405\n",
      "Training Step: 456\n",
      "total discriminator loss:0.37142153256148247\n",
      "Training Step: 457\n",
      "total discriminator loss:0.38082157117433646\n",
      "Training Step: 458\n"
     ]
    },
    {
     "name": "stderr",
     "output_type": "stream",
     "text": [
      "461it [00:26, 17.73it/s]"
     ]
    },
    {
     "name": "stdout",
     "output_type": "stream",
     "text": [
      "total discriminator loss:0.38248099963571913\n",
      "Training Step: 459\n",
      "total discriminator loss:0.3878653630613587\n",
      "Training Step: 460\n",
      "total discriminator loss:0.3272772405932255\n",
      "Training Step: 461\n",
      "total discriminator loss:0.3612134317561065\n",
      "Training Step: 462\n"
     ]
    },
    {
     "name": "stderr",
     "output_type": "stream",
     "text": [
      "465it [00:26, 17.62it/s]"
     ]
    },
    {
     "name": "stdout",
     "output_type": "stream",
     "text": [
      "total discriminator loss:0.37898645869547765\n",
      "Training Step: 463\n",
      "total discriminator loss:0.3331478548390586\n",
      "Training Step: 464\n",
      "total discriminator loss:0.35548817219380274\n",
      "Training Step: 465\n",
      "total discriminator loss:0.3434164910365498\n",
      "Training Step: 466\n"
     ]
    },
    {
     "name": "stderr",
     "output_type": "stream",
     "text": [
      "469it [00:26, 17.61it/s]"
     ]
    },
    {
     "name": "stdout",
     "output_type": "stream",
     "text": [
      "total discriminator loss:0.3113361412723892\n",
      "Training Step: 467\n",
      "total discriminator loss:0.39438463555341186\n",
      "Training Step: 468\n",
      "total discriminator loss:0.3775113680407165\n",
      "Training Step: 469\n",
      "total discriminator loss:0.3910400279512631\n",
      "Training Step: 470\n"
     ]
    },
    {
     "name": "stderr",
     "output_type": "stream",
     "text": [
      "473it [00:27, 17.64it/s]"
     ]
    },
    {
     "name": "stdout",
     "output_type": "stream",
     "text": [
      "total discriminator loss:0.35924328387820625\n",
      "Training Step: 471\n",
      "total discriminator loss:0.4105542365350898\n",
      "Training Step: 472\n",
      "total discriminator loss:0.3299574526501756\n",
      "Training Step: 473\n",
      "total discriminator loss:0.3788973813396259\n",
      "Training Step: 474\n"
     ]
    },
    {
     "name": "stderr",
     "output_type": "stream",
     "text": [
      "477it [00:27, 17.59it/s]"
     ]
    },
    {
     "name": "stdout",
     "output_type": "stream",
     "text": [
      "total discriminator loss:0.3591964613644349\n",
      "Training Step: 475\n",
      "total discriminator loss:0.36693772706868477\n",
      "Training Step: 476\n",
      "total discriminator loss:0.35209191965716563\n",
      "Training Step: 477\n",
      "total discriminator loss:0.4167828862739776\n",
      "Training Step: 478\n"
     ]
    },
    {
     "name": "stderr",
     "output_type": "stream",
     "text": [
      "481it [00:27, 17.46it/s]"
     ]
    },
    {
     "name": "stdout",
     "output_type": "stream",
     "text": [
      "total discriminator loss:0.34084337080488725\n",
      "Training Step: 479\n",
      "total discriminator loss:0.3338880007229812\n",
      "Training Step: 480\n",
      "total discriminator loss:0.3018809018334806\n",
      "Training Step: 481\n",
      "total discriminator loss:0.35840830184991207\n",
      "Training Step: 482\n"
     ]
    },
    {
     "name": "stderr",
     "output_type": "stream",
     "text": [
      "485it [00:27, 17.52it/s]"
     ]
    },
    {
     "name": "stdout",
     "output_type": "stream",
     "text": [
      "total discriminator loss:0.2955427095948333\n",
      "Training Step: 483\n",
      "total discriminator loss:0.37986553869429834\n",
      "Training Step: 484\n",
      "total discriminator loss:0.35348631426600763\n",
      "Training Step: 485\n",
      "total discriminator loss:0.42207375546791287\n",
      "Training Step: 486\n"
     ]
    },
    {
     "name": "stderr",
     "output_type": "stream",
     "text": [
      "489it [00:28, 17.53it/s]"
     ]
    },
    {
     "name": "stdout",
     "output_type": "stream",
     "text": [
      "total discriminator loss:0.34936452373733934\n",
      "Training Step: 487\n",
      "total discriminator loss:0.37215673040538744\n",
      "Training Step: 488\n",
      "total discriminator loss:0.3960176282378533\n",
      "Training Step: 489\n",
      "total discriminator loss:0.3882250928777912\n",
      "Training Step: 490\n"
     ]
    },
    {
     "name": "stderr",
     "output_type": "stream",
     "text": [
      "493it [00:28, 17.56it/s]"
     ]
    },
    {
     "name": "stdout",
     "output_type": "stream",
     "text": [
      "total discriminator loss:0.37377016144869735\n",
      "Training Step: 491\n",
      "total discriminator loss:0.3701285847195345\n",
      "Training Step: 492\n",
      "total discriminator loss:0.40699921123879074\n",
      "Training Step: 493\n",
      "total discriminator loss:0.4326541067398167\n",
      "Training Step: 494\n"
     ]
    },
    {
     "name": "stderr",
     "output_type": "stream",
     "text": [
      "497it [00:28, 17.73it/s]"
     ]
    },
    {
     "name": "stdout",
     "output_type": "stream",
     "text": [
      "total discriminator loss:0.3478889992710642\n",
      "Training Step: 495\n",
      "total discriminator loss:0.3920431353445698\n",
      "Training Step: 496\n",
      "total discriminator loss:0.38600967779256623\n",
      "Training Step: 497\n",
      "total discriminator loss:0.36231503001422727\n",
      "Training Step: 498\n"
     ]
    },
    {
     "name": "stderr",
     "output_type": "stream",
     "text": [
      "501it [00:28, 17.63it/s]"
     ]
    },
    {
     "name": "stdout",
     "output_type": "stream",
     "text": [
      "total discriminator loss:0.374251290722591\n",
      "Training Step: 499\n",
      "total discriminator loss:0.34701932293604976\n",
      "Training Step: 500\n",
      "total discriminator loss:0.36233244728869707\n",
      "Training Step: 501\n",
      "total discriminator loss:0.37915716336481864\n",
      "Training Step: 502\n"
     ]
    },
    {
     "name": "stderr",
     "output_type": "stream",
     "text": [
      "\r",
      "503it [00:28, 17.18it/s]"
     ]
    },
    {
     "name": "stdout",
     "output_type": "stream",
     "text": [
      "total discriminator loss:0.35171168372405015\n",
      "Training Step: 503\n",
      "total discriminator loss:0.36430456869129946\n",
      "Training Step: 504\n",
      "total discriminator loss:0.388298296366713\n",
      "Training Step: 505\n",
      "total discriminator loss:0.3946082193809973\n"
     ]
    },
    {
     "name": "stderr",
     "output_type": "stream",
     "text": [
      "507it [00:29, 17.32it/s]"
     ]
    },
    {
     "name": "stdout",
     "output_type": "stream",
     "text": [
      "Training Step: 506\n",
      "total discriminator loss:0.3249304106586546\n",
      "Training Step: 507\n",
      "total discriminator loss:0.3411505363739831\n",
      "Training Step: 508\n",
      "total discriminator loss:0.38351027593143433\n",
      "Training Step: 509\n"
     ]
    },
    {
     "name": "stderr",
     "output_type": "stream",
     "text": [
      "511it [00:29, 17.37it/s]"
     ]
    },
    {
     "name": "stdout",
     "output_type": "stream",
     "text": [
      "total discriminator loss:0.32737784125367886\n",
      "Training Step: 510\n",
      "total discriminator loss:0.37632210643034764\n",
      "Training Step: 511\n",
      "total discriminator loss:0.3665818136547261\n",
      "Training Step: 512\n",
      "total discriminator loss:0.3742606732479783\n",
      "Training Step: 513\n"
     ]
    },
    {
     "name": "stderr",
     "output_type": "stream",
     "text": [
      "515it [00:29, 17.56it/s]"
     ]
    },
    {
     "name": "stdout",
     "output_type": "stream",
     "text": [
      "total discriminator loss:0.3442232162871965\n",
      "Training Step: 514\n",
      "total discriminator loss:0.36542952654663474\n",
      "Training Step: 515\n",
      "total discriminator loss:0.2959232927114793\n",
      "Training Step: 516\n",
      "total discriminator loss:0.37768447448048836\n",
      "Training Step: 517\n"
     ]
    },
    {
     "name": "stderr",
     "output_type": "stream",
     "text": [
      "519it [00:29, 17.71it/s]"
     ]
    },
    {
     "name": "stdout",
     "output_type": "stream",
     "text": [
      "total discriminator loss:0.3532916644262508\n",
      "Training Step: 518\n",
      "total discriminator loss:0.33187673517229727\n",
      "Training Step: 519\n",
      "total discriminator loss:0.3521445982685396\n",
      "Training Step: 520\n",
      "total discriminator loss:0.3649577362956804\n",
      "Training Step: 521\n"
     ]
    },
    {
     "name": "stderr",
     "output_type": "stream",
     "text": [
      "523it [00:29, 17.48it/s]"
     ]
    },
    {
     "name": "stdout",
     "output_type": "stream",
     "text": [
      "total discriminator loss:0.3404090236490382\n",
      "Training Step: 522\n",
      "total discriminator loss:0.3674481559621717\n",
      "Training Step: 523\n",
      "total discriminator loss:0.3526054766816267\n",
      "Training Step: 524\n",
      "total discriminator loss:0.3818504123265457\n",
      "Training Step: 525\n"
     ]
    },
    {
     "name": "stderr",
     "output_type": "stream",
     "text": [
      "527it [00:30, 17.49it/s]"
     ]
    },
    {
     "name": "stdout",
     "output_type": "stream",
     "text": [
      "total discriminator loss:0.37319348823050147\n",
      "Training Step: 526\n",
      "total discriminator loss:0.36997975492430696\n",
      "Training Step: 527\n",
      "total discriminator loss:0.36078637361630883\n",
      "Training Step: 528\n",
      "total discriminator loss:0.3771284888637104\n",
      "Training Step: 529\n"
     ]
    },
    {
     "name": "stderr",
     "output_type": "stream",
     "text": [
      "531it [00:30, 17.44it/s]"
     ]
    },
    {
     "name": "stdout",
     "output_type": "stream",
     "text": [
      "total discriminator loss:0.34774052581358383\n",
      "Training Step: 530\n",
      "total discriminator loss:0.3798382332688936\n",
      "Training Step: 531\n",
      "total discriminator loss:0.38000422038781123\n",
      "Training Step: 532\n",
      "total discriminator loss:0.3800549804557262\n",
      "Training Step: 533\n"
     ]
    },
    {
     "name": "stderr",
     "output_type": "stream",
     "text": [
      "535it [00:30, 17.45it/s]"
     ]
    },
    {
     "name": "stdout",
     "output_type": "stream",
     "text": [
      "total discriminator loss:0.36609273916894847\n",
      "Training Step: 534\n",
      "total discriminator loss:0.4051198901615449\n",
      "Training Step: 535\n",
      "total discriminator loss:0.3436641379514214\n",
      "Training Step: 536\n",
      "total discriminator loss:0.4246697941579265\n",
      "Training Step: 537\n"
     ]
    },
    {
     "name": "stderr",
     "output_type": "stream",
     "text": [
      "539it [00:30, 17.54it/s]"
     ]
    },
    {
     "name": "stdout",
     "output_type": "stream",
     "text": [
      "total discriminator loss:0.38518698493881987\n",
      "Training Step: 538\n",
      "total discriminator loss:0.3713977859562525\n",
      "Training Step: 539\n",
      "total discriminator loss:0.34445873419245365\n",
      "Training Step: 540\n",
      "total discriminator loss:0.3715167107657686\n",
      "Training Step: 541\n"
     ]
    },
    {
     "name": "stderr",
     "output_type": "stream",
     "text": [
      "543it [00:31, 17.62it/s]"
     ]
    },
    {
     "name": "stdout",
     "output_type": "stream",
     "text": [
      "total discriminator loss:0.3568638199762011\n",
      "Training Step: 542\n",
      "total discriminator loss:0.3137677862558735\n",
      "Training Step: 543\n",
      "total discriminator loss:0.3783603290586227\n",
      "Training Step: 544\n",
      "total discriminator loss:0.3708500180694259\n",
      "Training Step: 545\n"
     ]
    },
    {
     "name": "stderr",
     "output_type": "stream",
     "text": [
      "547it [00:31, 17.63it/s]"
     ]
    },
    {
     "name": "stdout",
     "output_type": "stream",
     "text": [
      "total discriminator loss:0.3715197461151216\n",
      "Training Step: 546\n",
      "total discriminator loss:0.3971524802661456\n",
      "Training Step: 547\n",
      "total discriminator loss:0.3756261308387977\n",
      "Training Step: 548\n",
      "total discriminator loss:0.38650856585135474\n",
      "Training Step: 549\n"
     ]
    },
    {
     "name": "stderr",
     "output_type": "stream",
     "text": [
      "551it [00:31, 17.55it/s]"
     ]
    },
    {
     "name": "stdout",
     "output_type": "stream",
     "text": [
      "total discriminator loss:0.41013609463691225\n",
      "Training Step: 550\n",
      "total discriminator loss:0.32664684712399394\n",
      "Training Step: 551\n",
      "total discriminator loss:0.3591353732475415\n",
      "Training Step: 552\n",
      "total discriminator loss:0.37900779654548106\n",
      "Training Step: 553\n"
     ]
    },
    {
     "name": "stderr",
     "output_type": "stream",
     "text": [
      "555it [00:31, 17.58it/s]"
     ]
    },
    {
     "name": "stdout",
     "output_type": "stream",
     "text": [
      "total discriminator loss:0.40866696473337033\n",
      "Training Step: 554\n",
      "total discriminator loss:0.37999125043770365\n",
      "Training Step: 555\n",
      "total discriminator loss:0.37766435750191363\n",
      "Training Step: 556\n",
      "total discriminator loss:0.419791104746856\n",
      "Training Step: 557\n"
     ]
    },
    {
     "name": "stderr",
     "output_type": "stream",
     "text": [
      "559it [00:31, 17.73it/s]"
     ]
    },
    {
     "name": "stdout",
     "output_type": "stream",
     "text": [
      "total discriminator loss:0.32788981480113477\n",
      "Training Step: 558\n",
      "total discriminator loss:0.3594772483044809\n",
      "Training Step: 559\n",
      "total discriminator loss:0.3053872385485751\n",
      "Training Step: 560\n",
      "total discriminator loss:0.4281012874017881\n",
      "Training Step: 561\n"
     ]
    },
    {
     "name": "stderr",
     "output_type": "stream",
     "text": [
      "563it [00:32, 17.49it/s]"
     ]
    },
    {
     "name": "stdout",
     "output_type": "stream",
     "text": [
      "total discriminator loss:0.37853212967843264\n",
      "Training Step: 562\n",
      "total discriminator loss:0.3908937751322299\n",
      "Training Step: 563\n",
      "total discriminator loss:0.3504579918117805\n",
      "Training Step: 564\n",
      "total discriminator loss:0.3570112314143627\n",
      "Training Step: 565\n"
     ]
    },
    {
     "name": "stderr",
     "output_type": "stream",
     "text": [
      "567it [00:32, 17.49it/s]"
     ]
    },
    {
     "name": "stdout",
     "output_type": "stream",
     "text": [
      "total discriminator loss:0.33124386490220137\n",
      "Training Step: 566\n",
      "total discriminator loss:0.39493524960857307\n",
      "Training Step: 567\n",
      "total discriminator loss:0.3534667027325623\n",
      "Training Step: 568\n",
      "total discriminator loss:0.3564939899646863\n",
      "Training Step: 569\n"
     ]
    },
    {
     "name": "stderr",
     "output_type": "stream",
     "text": [
      "571it [00:32, 17.51it/s]"
     ]
    },
    {
     "name": "stdout",
     "output_type": "stream",
     "text": [
      "total discriminator loss:0.36709611934973485\n",
      "Training Step: 570\n",
      "total discriminator loss:0.39245466516993954\n",
      "Training Step: 571\n",
      "total discriminator loss:0.3465699224248068\n",
      "Training Step: 572\n",
      "total discriminator loss:0.34349965986183306\n",
      "Training Step: 573\n"
     ]
    },
    {
     "name": "stderr",
     "output_type": "stream",
     "text": [
      "575it [00:32, 17.47it/s]"
     ]
    },
    {
     "name": "stdout",
     "output_type": "stream",
     "text": [
      "total discriminator loss:0.35310975483236084\n",
      "Training Step: 574\n",
      "total discriminator loss:0.35520471138046394\n",
      "Training Step: 575\n",
      "total discriminator loss:0.3202320599459859\n",
      "Training Step: 576\n",
      "total discriminator loss:0.4188065064434451\n",
      "Training Step: 577\n"
     ]
    },
    {
     "name": "stderr",
     "output_type": "stream",
     "text": [
      "579it [00:33, 17.52it/s]"
     ]
    },
    {
     "name": "stdout",
     "output_type": "stream",
     "text": [
      "total discriminator loss:0.36316447206174074\n",
      "Training Step: 578\n",
      "total discriminator loss:0.4040600639289749\n",
      "Training Step: 579\n",
      "total discriminator loss:0.3510368647589701\n",
      "Training Step: 580\n",
      "total discriminator loss:0.3456900672992961\n",
      "Training Step: 581\n"
     ]
    },
    {
     "name": "stderr",
     "output_type": "stream",
     "text": [
      "583it [00:33, 17.62it/s]"
     ]
    },
    {
     "name": "stdout",
     "output_type": "stream",
     "text": [
      "total discriminator loss:0.34493422635875837\n",
      "Training Step: 582\n",
      "total discriminator loss:0.34942465055707916\n",
      "Training Step: 583\n",
      "total discriminator loss:0.3845548512778305\n",
      "Training Step: 584\n",
      "total discriminator loss:0.38082391836588325\n",
      "Training Step: 585\n"
     ]
    },
    {
     "name": "stderr",
     "output_type": "stream",
     "text": [
      "587it [00:33, 17.69it/s]"
     ]
    },
    {
     "name": "stdout",
     "output_type": "stream",
     "text": [
      "total discriminator loss:0.35362151130649444\n",
      "Training Step: 586\n",
      "total discriminator loss:0.3490547344759028\n",
      "Training Step: 587\n",
      "total discriminator loss:0.3436461112987776\n",
      "Training Step: 588\n",
      "total discriminator loss:0.3879018216883149\n",
      "Training Step: 589\n"
     ]
    },
    {
     "name": "stderr",
     "output_type": "stream",
     "text": [
      "591it [00:33, 17.63it/s]"
     ]
    },
    {
     "name": "stdout",
     "output_type": "stream",
     "text": [
      "total discriminator loss:0.40583917155177035\n",
      "Training Step: 590\n",
      "total discriminator loss:0.3848795139770844\n",
      "Training Step: 591\n",
      "total discriminator loss:0.3412541726150374\n",
      "Training Step: 592\n",
      "total discriminator loss:0.36674819992617774\n",
      "Training Step: 593\n"
     ]
    },
    {
     "name": "stderr",
     "output_type": "stream",
     "text": [
      "595it [00:34, 17.61it/s]"
     ]
    },
    {
     "name": "stdout",
     "output_type": "stream",
     "text": [
      "total discriminator loss:0.401860860366158\n",
      "Training Step: 594\n",
      "total discriminator loss:0.3534225005989883\n",
      "Training Step: 595\n",
      "total discriminator loss:0.3366080412695447\n",
      "Training Step: 596\n",
      "total discriminator loss:0.3876055376683068\n",
      "Training Step: 597\n"
     ]
    },
    {
     "name": "stderr",
     "output_type": "stream",
     "text": [
      "599it [00:34, 17.63it/s]"
     ]
    },
    {
     "name": "stdout",
     "output_type": "stream",
     "text": [
      "total discriminator loss:0.3731892724326712\n",
      "Training Step: 598\n",
      "total discriminator loss:0.35737010901437744\n",
      "Training Step: 599\n",
      "total discriminator loss:0.4003232477325774\n",
      "Training Step: 600\n",
      "total discriminator loss:0.37071721730338236\n",
      "Training Step: 601\n"
     ]
    },
    {
     "name": "stderr",
     "output_type": "stream",
     "text": [
      "602it [00:34, 17.47it/s]"
     ]
    },
    {
     "name": "stdout",
     "output_type": "stream",
     "text": [
      "total discriminator loss:0.36190145325675943\n",
      "Training Step: 602\n",
      "total discriminator loss:0.399366847361104\n"
     ]
    },
    {
     "name": "stderr",
     "output_type": "stream",
     "text": [
      "\n"
     ]
    }
   ],
   "source": [
    "step = 0\n",
    "OPTIMIZER = Adam(lr=1e-3)\n",
    "\n",
    "for event_type_batch, labels in tqdm(pretrain_D_dataset.take(_TOTAL_STEPS)):\n",
    "    step += 1\n",
    "    print('Training Step:', step)\n",
    "\n",
    "    disc_token_loss = pretrain_discriminator(event_type_batch, labels, pretrained_discriminator, verbose=True, optimizer=OPTIMIZER)\n",
    "    pretrain_disc_token_loss_history.append(disc_token_loss.numpy())"
   ]
  },
  {
   "cell_type": "code",
   "execution_count": 57,
   "id": "working-reason",
   "metadata": {},
   "outputs": [],
   "source": [
    "if not os.path.exists(model_save_dir + '/pretrained_disc_weights'):\n",
    "    os.makedirs(model_save_dir + '/pretrained_disc_weights')\n",
    "\n",
    "D_save_path = model_save_dir + '/pretrained_disc_weights/model.tf'\n",
    "pretrained_discriminator.save_weights(D_save_path)"
   ]
  },
  {
   "cell_type": "code",
   "execution_count": 58,
   "id": "cultural-travel",
   "metadata": {},
   "outputs": [
    {
     "name": "stdout",
     "output_type": "stream",
     "text": [
      "Model: \"model_11\"\n",
      "_________________________________________________________________\n",
      "Layer (type)                 Output Shape              Param #   \n",
      "=================================================================\n",
      "event_type (InputLayer)      [(256, None, 1)]          0         \n",
      "_________________________________________________________________\n",
      "embedding_11 (Embedding)     (256, None, 1, 16)        96        \n",
      "_________________________________________________________________\n",
      "tf_op_layer_Squeeze_11 (Tens [(256, None, 16)]         0         \n",
      "_________________________________________________________________\n",
      "lstm (LSTM)                  (256, 16)                 2112      \n",
      "_________________________________________________________________\n",
      "dropout_3 (Dropout)          (256, 16)                 0         \n",
      "_________________________________________________________________\n",
      "final (Dense)                (256, 1)                  17        \n",
      "=================================================================\n",
      "Total params: 2,225\n",
      "Trainable params: 2,225\n",
      "Non-trainable params: 0\n",
      "_________________________________________________________________\n"
     ]
    }
   ],
   "source": [
    "reload_pretrained_disc = build_D_RNN(batch_size=BATCH_SIZE,\n",
    "                                   T=T,\n",
    "                                   event_vocab_dim=EVENT_VOCAB_DIM,\n",
    "                                   emb_dim=EMB_DIM,\n",
    "                                   dropout_rate=0.25)\n",
    "\n",
    "reload_pretrained_disc.build(input_shape=((BATCH_SIZE, T, 1)))\n",
    "reload_pretrained_disc.load_weights(D_save_path)\n",
    "reload_pretrained_disc.summary()"
   ]
  },
  {
   "cell_type": "markdown",
   "id": "north-bacon",
   "metadata": {},
   "source": [
    "## Seq Gan original Traning"
   ]
  },
  {
   "cell_type": "code",
   "execution_count": 59,
   "id": "single-aaron",
   "metadata": {},
   "outputs": [],
   "source": [
    "def train_generator(generator, discriminator, batch_size, T, mc_size=10, verbose=False,                   \n",
    "                    optimizer=Adam(lr=0.001), end_token=0, init_token=1):\n",
    "    \n",
    "    prefix = tf.ones([batch_size, 1, 1], dtype=tf.float64)\n",
    "    curr_state_et = prefix[:, -1:, :]\n",
    "    \n",
    "    with tf.GradientTape(persistent=True) as tape:                        \n",
    "\n",
    "        gen_step_loss = []\n",
    "\n",
    "        for _ in tqdm(range(1, T)):\n",
    "\n",
    "            # MC rollout to the end to get final return\n",
    "            rollout_returns = []\n",
    "            for _ in range(mc_size):\n",
    "                batch_rollout_et = rollout_from_prefix(generator, batch_size, prefix, T)\n",
    "                rollout_returns.append(discriminator(batch_rollout_et))\n",
    "            \n",
    "            Q_avg = tf.reduce_mean(rollout_returns, axis=0)\n",
    "            \n",
    "            # one-step rollout to get next prefix\n",
    "            token_logits = generator(prefix)        \n",
    "            sampled_et = tf.random.categorical(token_logits, num_samples=1, dtype=tf.int32)\n",
    "            sampled_et = tf.reshape(sampled_et, [batch_size, 1, 1])\n",
    "            sampled_et = tf.cast(sampled_et, dtype=tf.float64)\n",
    "\n",
    "            # Add new samples to prefix\n",
    "            # DO NOT stop genererating once hit end_token\n",
    "            prefix = tf.concat([prefix, sampled_et], axis=1)\n",
    "            \n",
    "            # averge loss over batch at each rollout step: -E[log_prob * Q]\n",
    "            policy_gradient_loss = -tf.reduce_mean(tf.math.log(tf.nn.softmax(token_logits)) * Q_avg)\n",
    "            gen_step_loss.append(policy_gradient_loss)\n",
    "        \n",
    "        avg_gen_loss = tf.reduce_mean(gen_step_loss)\n",
    "        \n",
    "        if verbose:\n",
    "            print('generator loss:{}'.format(avg_gen_loss))\n",
    "            print('-----------------------')\n",
    "\n",
    "    # update generator\n",
    "    generator_grads = tape.gradient(avg_gen_loss, generator.trainable_variables)\n",
    "    optimizer.apply_gradients(zip(generator_grads, generator.trainable_variables))\n",
    "\n",
    "    # explicitly drop tape because persistent=True\n",
    "    del tape\n",
    "\n",
    "    return avg_gen_loss\n",
    "\n",
    "\n",
    "def train_discriminator(real_data_batch, generator, discriminator, batch_size, T, verbose=False,\n",
    "                        optimizer=Adam(lr=0.001)):\n",
    "\n",
    "    # data prep\n",
    "    real_labels = tf.ones((batch_size//2, 1))        \n",
    "    fake_labels = tf.zeros((batch_size//2, 1))\n",
    "    \n",
    "    real_data_batch = real_data_batch[:batch_size//2, :, :]\n",
    "    fake_data_batch = generate_sequences(batch_size//2, generator, batch_size, T)\n",
    "    \n",
    "    total_data = tf.concat([fake_data_batch, real_data_batch], axis=0)\n",
    "    total_labels = tf.concat([fake_labels, real_labels], axis=0)\n",
    "\n",
    "    # train the discriminator\n",
    "    with tf.GradientTape() as tape:                                                           \n",
    "        # train discriminator\n",
    "        pred_prob = discriminator(total_data)\n",
    "\n",
    "        # cross-entropy loss\n",
    "        discriminator_loss = tf.reduce_mean(\n",
    "            tf.keras.losses.binary_crossentropy(total_labels, pred_prob, from_logits=False))        \n",
    "\n",
    "        if verbose:\n",
    "            print('total discriminator loss:{}'.format(discriminator_loss))\n",
    "            print('-----------------------')\n",
    "\n",
    "    grads = tape.gradient(discriminator_loss, discriminator.trainable_variables)\n",
    "    optimizer.apply_gradients(zip(grads, discriminator.trainable_variables))\n",
    "\n",
    "    return discriminator_loss"
   ]
  },
  {
   "cell_type": "markdown",
   "id": "available-latest",
   "metadata": {},
   "source": [
    "## Start training from pretrained G and D"
   ]
  },
  {
   "cell_type": "code",
   "execution_count": 61,
   "id": "immediate-perry",
   "metadata": {},
   "outputs": [
    {
     "name": "stdout",
     "output_type": "stream",
     "text": [
      "Model: \"model_12\"\n",
      "_________________________________________________________________\n",
      "Layer (type)                 Output Shape              Param #   \n",
      "=================================================================\n",
      "event_type (InputLayer)      [(256, None, 1)]          0         \n",
      "_________________________________________________________________\n",
      "embedding_12 (Embedding)     (256, None, 1, 16)        96        \n",
      "_________________________________________________________________\n",
      "tf_op_layer_Squeeze_12 (Tens [(256, None, 16)]         0         \n",
      "_________________________________________________________________\n",
      "lstm (LSTM)                  (256, 16)                 2112      \n",
      "_________________________________________________________________\n",
      "dense_1 (Dense)              (256, 6)                  102       \n",
      "=================================================================\n",
      "Total params: 2,310\n",
      "Trainable params: 2,310\n",
      "Non-trainable params: 0\n",
      "_________________________________________________________________\n",
      "Model: \"model_13\"\n",
      "_________________________________________________________________\n",
      "Layer (type)                 Output Shape              Param #   \n",
      "=================================================================\n",
      "event_type (InputLayer)      [(256, None, 1)]          0         \n",
      "_________________________________________________________________\n",
      "embedding_13 (Embedding)     (256, None, 1, 16)        96        \n",
      "_________________________________________________________________\n",
      "tf_op_layer_Squeeze_13 (Tens [(256, None, 16)]         0         \n",
      "_________________________________________________________________\n",
      "lstm (LSTM)                  (256, 16)                 2112      \n",
      "_________________________________________________________________\n",
      "dropout_4 (Dropout)          (256, 16)                 0         \n",
      "_________________________________________________________________\n",
      "final (Dense)                (256, 1)                  17        \n",
      "=================================================================\n",
      "Total params: 2,225\n",
      "Trainable params: 2,225\n",
      "Non-trainable params: 0\n",
      "_________________________________________________________________\n"
     ]
    }
   ],
   "source": [
    "G_save_path = model_save_dir + '/pretrained_gen_weights/model.tf'\n",
    "D_save_path = model_save_dir + '/pretrained_disc_weights/model.tf'\n",
    "\n",
    "G = build_G(\n",
    "    batch_size = BATCH_SIZE,\n",
    "    event_vocab_dim = EVENT_VOCAB_DIM,\n",
    "    emb_dim = EMB_DIM,\n",
    "    hidden_dim= HIDDEN_DIM,\n",
    ")\n",
    "\n",
    "G.build(input_shape=((BATCH_SIZE, T, 1)))\n",
    "G.load_weights(G_save_path)\n",
    "G.summary()\n",
    "\n",
    "D = build_D_RNN(batch_size=BATCH_SIZE, T=T,\n",
    "            event_vocab_dim=EVENT_VOCAB_DIM,\n",
    "            emb_dim=EMB_DIM,\n",
    "            dropout_rate=0.25)\n",
    "\n",
    "D.build(input_shape=((BATCH_SIZE, T, 1)))\n",
    "D.load_weights(D_save_path)\n",
    "D.summary()"
   ]
  },
  {
   "cell_type": "code",
   "execution_count": 62,
   "id": "twelve-transcript",
   "metadata": {},
   "outputs": [],
   "source": [
    "N_total_G = pos_event_type_seqs.shape[0]\n",
    "\n",
    "EPOCHS = 1\n",
    "_TOTAL_STEPS = int(EPOCHS * N_total_G / BATCH_SIZE)\n",
    "\n",
    "train_dataset = create_dataset(pos_event_type_seqs[:N_total_G,:,:],\n",
    "                             np.ones((N_total_G, 1)),\n",
    "                             batch_size=BATCH_SIZE,\n",
    "                             epochs=EPOCHS,\n",
    "                             buffer_size=N_total_G)\n",
    "\n",
    "gen_loss_history = []\n",
    "disc_loss_history = []\n",
    "\n",
    "step = 0\n",
    "\n",
    "G_optimizer = Adam(learning_rate=1e-3)\n",
    "D_optimizer = Adam(learning_rate=1e-3)\n",
    "\n",
    "_G_STEPS = 1\n",
    "_D_STEPS = 1"
   ]
  },
  {
   "cell_type": "code",
   "execution_count": 63,
   "id": "tribal-parking",
   "metadata": {},
   "outputs": [
    {
     "name": "stderr",
     "output_type": "stream",
     "text": [
      "0it [00:00, ?it/s]\n",
      "  0%|          | 0/20 [00:00<?, ?it/s]\u001b[A"
     ]
    },
    {
     "name": "stdout",
     "output_type": "stream",
     "text": [
      "Training Step: 1\n"
     ]
    },
    {
     "name": "stderr",
     "output_type": "stream",
     "text": [
      "\n",
      "  5%|▌         | 1/20 [00:01<00:31,  1.66s/it]\u001b[A\n",
      " 10%|█         | 2/20 [00:03<00:30,  1.71s/it]\u001b[A\n",
      " 15%|█▌        | 3/20 [00:04<00:28,  1.65s/it]\u001b[A\n",
      " 20%|██        | 4/20 [00:06<00:26,  1.64s/it]\u001b[A\n",
      " 25%|██▌       | 5/20 [00:08<00:23,  1.57s/it]\u001b[A\n",
      " 30%|███       | 6/20 [00:09<00:21,  1.56s/it]\u001b[A\n",
      " 35%|███▌      | 7/20 [00:10<00:19,  1.49s/it]\u001b[A\n",
      " 40%|████      | 8/20 [00:12<00:17,  1.43s/it]\u001b[A\n",
      " 45%|████▌     | 9/20 [00:13<00:14,  1.36s/it]\u001b[A\n",
      " 50%|█████     | 10/20 [00:14<00:13,  1.34s/it]\u001b[A\n",
      " 55%|█████▌    | 11/20 [00:15<00:11,  1.27s/it]\u001b[A\n",
      " 60%|██████    | 12/20 [00:16<00:09,  1.20s/it]\u001b[A\n",
      " 65%|██████▌   | 13/20 [00:17<00:07,  1.13s/it]\u001b[A\n",
      " 70%|███████   | 14/20 [00:18<00:06,  1.07s/it]\u001b[A\n",
      " 75%|███████▌  | 15/20 [00:19<00:05,  1.06s/it]\u001b[A\n",
      " 80%|████████  | 16/20 [00:20<00:03,  1.01it/s]\u001b[A\n",
      " 85%|████████▌ | 17/20 [00:21<00:02,  1.10it/s]\u001b[A\n",
      " 90%|█████████ | 18/20 [00:22<00:01,  1.19it/s]\u001b[A\n",
      " 95%|█████████▌| 19/20 [00:22<00:00,  1.30it/s]\u001b[A\n",
      "100%|██████████| 20/20 [00:23<00:00,  1.16s/it]\u001b[A\n"
     ]
    },
    {
     "name": "stdout",
     "output_type": "stream",
     "text": [
      "generator loss:0.48525510975257136\n",
      "-----------------------\n"
     ]
    },
    {
     "name": "stderr",
     "output_type": "stream",
     "text": [
      "1it [00:28, 28.58s/it]\n",
      "  0%|          | 0/20 [00:00<?, ?it/s]\u001b[A"
     ]
    },
    {
     "name": "stdout",
     "output_type": "stream",
     "text": [
      "total discriminator loss:0.5347571405912818\n",
      "-----------------------\n",
      "Training Step: 2\n"
     ]
    },
    {
     "name": "stderr",
     "output_type": "stream",
     "text": [
      "\n",
      "  5%|▌         | 1/20 [00:01<00:25,  1.35s/it]\u001b[A\n",
      " 10%|█         | 2/20 [00:02<00:24,  1.37s/it]\u001b[A\n",
      " 15%|█▌        | 3/20 [00:03<00:22,  1.30s/it]\u001b[A\n",
      " 20%|██        | 4/20 [00:05<00:20,  1.30s/it]\u001b[A\n",
      " 25%|██▌       | 5/20 [00:06<00:18,  1.23s/it]\u001b[A\n",
      " 30%|███       | 6/20 [00:07<00:17,  1.22s/it]\u001b[A\n",
      " 35%|███▌      | 7/20 [00:08<00:15,  1.16s/it]\u001b[A\n",
      " 40%|████      | 8/20 [00:09<00:13,  1.10s/it]\u001b[A\n",
      " 45%|████▌     | 9/20 [00:10<00:11,  1.05s/it]\u001b[A\n",
      " 50%|█████     | 10/20 [00:11<00:10,  1.05s/it]\u001b[A\n",
      " 55%|█████▌    | 11/20 [00:12<00:08,  1.02it/s]\u001b[A\n",
      " 60%|██████    | 12/20 [00:13<00:07,  1.09it/s]\u001b[A\n",
      " 65%|██████▌   | 13/20 [00:13<00:05,  1.17it/s]\u001b[A\n",
      " 70%|███████   | 14/20 [00:14<00:04,  1.25it/s]\u001b[A\n",
      " 75%|███████▌  | 15/20 [00:15<00:03,  1.34it/s]\u001b[A\n",
      " 80%|████████  | 16/20 [00:15<00:03,  1.31it/s]\u001b[A\n",
      " 85%|████████▌ | 17/20 [00:16<00:02,  1.44it/s]\u001b[A\n",
      " 90%|█████████ | 18/20 [00:16<00:01,  1.59it/s]\u001b[A\n",
      " 95%|█████████▌| 19/20 [00:17<00:00,  1.76it/s]\u001b[A\n",
      "100%|██████████| 20/20 [00:17<00:00,  1.12it/s]\u001b[A\n"
     ]
    },
    {
     "name": "stdout",
     "output_type": "stream",
     "text": [
      "generator loss:0.5679176722863927\n",
      "-----------------------\n"
     ]
    },
    {
     "name": "stderr",
     "output_type": "stream",
     "text": [
      "2it [00:51, 25.12s/it]\n",
      "  0%|          | 0/20 [00:00<?, ?it/s]\u001b[A"
     ]
    },
    {
     "name": "stdout",
     "output_type": "stream",
     "text": [
      "total discriminator loss:0.40591860886677855\n",
      "-----------------------\n",
      "Training Step: 3\n"
     ]
    },
    {
     "name": "stderr",
     "output_type": "stream",
     "text": [
      "\n",
      "  5%|▌         | 1/20 [00:01<00:25,  1.36s/it]\u001b[A\n",
      " 10%|█         | 2/20 [00:02<00:23,  1.32s/it]\u001b[A\n",
      " 15%|█▌        | 3/20 [00:04<00:22,  1.34s/it]\u001b[A\n",
      " 20%|██        | 4/20 [00:05<00:20,  1.28s/it]\u001b[A\n",
      " 25%|██▌       | 5/20 [00:06<00:19,  1.28s/it]\u001b[A\n",
      " 30%|███       | 6/20 [00:07<00:17,  1.21s/it]\u001b[A\n",
      " 35%|███▌      | 7/20 [00:08<00:15,  1.21s/it]\u001b[A\n",
      " 40%|████      | 8/20 [00:09<00:13,  1.15s/it]\u001b[A\n",
      " 45%|████▌     | 9/20 [00:10<00:11,  1.08s/it]\u001b[A\n",
      " 50%|█████     | 10/20 [00:11<00:10,  1.02s/it]\u001b[A\n",
      " 55%|█████▌    | 11/20 [00:12<00:08,  1.04it/s]\u001b[A\n",
      " 60%|██████    | 12/20 [00:13<00:07,  1.04it/s]\u001b[A\n",
      " 65%|██████▌   | 13/20 [00:14<00:06,  1.12it/s]\u001b[A\n",
      " 70%|███████   | 14/20 [00:14<00:04,  1.20it/s]\u001b[A\n",
      " 75%|███████▌  | 15/20 [00:15<00:03,  1.30it/s]\u001b[A\n",
      " 80%|████████  | 16/20 [00:16<00:02,  1.38it/s]\u001b[A\n",
      " 85%|████████▌ | 17/20 [00:16<00:02,  1.50it/s]\u001b[A\n",
      " 90%|█████████ | 18/20 [00:17<00:01,  1.63it/s]\u001b[A\n",
      " 95%|█████████▌| 19/20 [00:17<00:00,  1.59it/s]\u001b[A\n",
      "100%|██████████| 20/20 [00:18<00:00,  1.10it/s]\u001b[A\n"
     ]
    },
    {
     "name": "stdout",
     "output_type": "stream",
     "text": [
      "generator loss:0.6060481008610392\n",
      "-----------------------\n"
     ]
    },
    {
     "name": "stderr",
     "output_type": "stream",
     "text": [
      "3it [01:14, 24.19s/it]\n",
      "  0%|          | 0/20 [00:00<?, ?it/s]\u001b[A"
     ]
    },
    {
     "name": "stdout",
     "output_type": "stream",
     "text": [
      "total discriminator loss:0.3470762165914749\n",
      "-----------------------\n",
      "Training Step: 4\n"
     ]
    },
    {
     "name": "stderr",
     "output_type": "stream",
     "text": [
      "\n",
      "  5%|▌         | 1/20 [00:01<00:25,  1.36s/it]\u001b[A\n",
      " 10%|█         | 2/20 [00:02<00:23,  1.32s/it]\u001b[A\n",
      " 15%|█▌        | 3/20 [00:03<00:21,  1.28s/it]\u001b[A\n",
      " 20%|██        | 4/20 [00:05<00:20,  1.29s/it]\u001b[A\n",
      " 25%|██▌       | 5/20 [00:06<00:18,  1.23s/it]\u001b[A\n",
      " 30%|███       | 6/20 [00:07<00:16,  1.19s/it]\u001b[A\n",
      " 35%|███▌      | 7/20 [00:08<00:15,  1.18s/it]\u001b[A\n",
      " 40%|████      | 8/20 [00:09<00:13,  1.12s/it]\u001b[A\n",
      " 45%|████▌     | 9/20 [00:10<00:11,  1.05s/it]\u001b[A\n",
      " 50%|█████     | 10/20 [00:11<00:09,  1.01it/s]\u001b[A\n",
      " 55%|█████▌    | 11/20 [00:12<00:08,  1.01it/s]\u001b[A\n",
      " 60%|██████    | 12/20 [00:13<00:07,  1.08it/s]\u001b[A\n",
      " 65%|██████▌   | 13/20 [00:13<00:06,  1.15it/s]\u001b[A\n",
      " 70%|███████   | 14/20 [00:14<00:04,  1.24it/s]\u001b[A\n",
      " 75%|███████▌  | 15/20 [00:15<00:03,  1.33it/s]\u001b[A\n",
      " 80%|████████  | 16/20 [00:15<00:02,  1.41it/s]\u001b[A\n",
      " 85%|████████▌ | 17/20 [00:16<00:02,  1.39it/s]\u001b[A\n",
      " 90%|█████████ | 18/20 [00:16<00:01,  1.54it/s]\u001b[A\n",
      " 95%|█████████▌| 19/20 [00:17<00:00,  1.72it/s]\u001b[A\n",
      "100%|██████████| 20/20 [00:17<00:00,  1.12it/s]\u001b[A\n"
     ]
    },
    {
     "name": "stdout",
     "output_type": "stream",
     "text": [
      "generator loss:0.5163780781185753\n",
      "-----------------------\n"
     ]
    },
    {
     "name": "stderr",
     "output_type": "stream",
     "text": [
      "4it [01:37, 23.60s/it]\n",
      "  0%|          | 0/20 [00:00<?, ?it/s]\u001b[A"
     ]
    },
    {
     "name": "stdout",
     "output_type": "stream",
     "text": [
      "total discriminator loss:0.37265630285433143\n",
      "-----------------------\n",
      "Training Step: 5\n"
     ]
    },
    {
     "name": "stderr",
     "output_type": "stream",
     "text": [
      "\n",
      "  5%|▌         | 1/20 [00:01<00:25,  1.35s/it]\u001b[A\n",
      " 10%|█         | 2/20 [00:02<00:23,  1.31s/it]\u001b[A\n",
      " 15%|█▌        | 3/20 [00:03<00:22,  1.33s/it]\u001b[A\n",
      " 20%|██        | 4/20 [00:05<00:20,  1.27s/it]\u001b[A\n",
      " 25%|██▌       | 5/20 [00:06<00:18,  1.26s/it]\u001b[A\n",
      " 30%|███       | 6/20 [00:07<00:16,  1.19s/it]\u001b[A\n",
      " 35%|███▌      | 7/20 [00:08<00:14,  1.14s/it]\u001b[A\n",
      " 40%|████      | 8/20 [00:09<00:13,  1.09s/it]\u001b[A\n",
      " 45%|████▌     | 9/20 [00:10<00:11,  1.09s/it]\u001b[A\n",
      " 50%|█████     | 10/20 [00:11<00:10,  1.02s/it]\u001b[A\n",
      " 55%|█████▌    | 11/20 [00:12<00:08,  1.04it/s]\u001b[A\n",
      " 60%|██████    | 12/20 [00:13<00:07,  1.11it/s]\u001b[A\n",
      " 65%|██████▌   | 13/20 [00:13<00:06,  1.10it/s]\u001b[A\n",
      " 70%|███████   | 14/20 [00:14<00:05,  1.19it/s]\u001b[A\n",
      " 75%|███████▌  | 15/20 [00:15<00:03,  1.29it/s]\u001b[A\n",
      " 80%|████████  | 16/20 [00:15<00:02,  1.38it/s]\u001b[A\n",
      " 85%|████████▌ | 17/20 [00:16<00:01,  1.51it/s]\u001b[A\n",
      " 90%|█████████ | 18/20 [00:16<00:01,  1.65it/s]\u001b[A\n",
      " 95%|█████████▌| 19/20 [00:17<00:00,  1.80it/s]\u001b[A\n",
      "100%|██████████| 20/20 [00:17<00:00,  1.13it/s]\u001b[A\n"
     ]
    },
    {
     "name": "stdout",
     "output_type": "stream",
     "text": [
      "generator loss:0.5612546117783709\n",
      "-----------------------\n"
     ]
    },
    {
     "name": "stderr",
     "output_type": "stream",
     "text": [
      "5it [01:59, 23.22s/it]\n",
      "  0%|          | 0/20 [00:00<?, ?it/s]\u001b[A"
     ]
    },
    {
     "name": "stdout",
     "output_type": "stream",
     "text": [
      "total discriminator loss:0.3404561772094701\n",
      "-----------------------\n",
      "Training Step: 6\n"
     ]
    },
    {
     "name": "stderr",
     "output_type": "stream",
     "text": [
      "\n",
      "  5%|▌         | 1/20 [00:01<00:27,  1.44s/it]\u001b[A\n",
      " 10%|█         | 2/20 [00:02<00:25,  1.42s/it]\u001b[A\n",
      " 15%|█▌        | 3/20 [00:04<00:22,  1.34s/it]\u001b[A\n",
      " 20%|██        | 4/20 [00:05<00:21,  1.32s/it]\u001b[A\n",
      " 25%|██▌       | 5/20 [00:06<00:18,  1.24s/it]\u001b[A\n",
      " 30%|███       | 6/20 [00:07<00:16,  1.18s/it]\u001b[A\n",
      " 35%|███▌      | 7/20 [00:08<00:15,  1.18s/it]\u001b[A\n",
      " 40%|████      | 8/20 [00:09<00:13,  1.12s/it]\u001b[A\n",
      " 45%|████▌     | 9/20 [00:10<00:11,  1.05s/it]\u001b[A\n",
      " 50%|█████     | 10/20 [00:11<00:09,  1.00it/s]\u001b[A\n",
      " 55%|█████▌    | 11/20 [00:12<00:08,  1.00it/s]\u001b[A\n",
      " 60%|██████    | 12/20 [00:13<00:07,  1.08it/s]\u001b[A\n",
      " 65%|██████▌   | 13/20 [00:13<00:06,  1.15it/s]\u001b[A\n",
      " 70%|███████   | 14/20 [00:14<00:04,  1.24it/s]\u001b[A\n",
      " 75%|███████▌  | 15/20 [00:15<00:03,  1.33it/s]\u001b[A\n",
      " 80%|████████  | 16/20 [00:15<00:02,  1.41it/s]\u001b[A\n",
      " 85%|████████▌ | 17/20 [00:16<00:02,  1.39it/s]\u001b[A\n",
      " 90%|█████████ | 18/20 [00:17<00:01,  1.55it/s]\u001b[A\n",
      " 95%|█████████▌| 19/20 [00:17<00:00,  1.72it/s]\u001b[A\n",
      "100%|██████████| 20/20 [00:17<00:00,  1.11it/s]\u001b[A\n"
     ]
    },
    {
     "name": "stdout",
     "output_type": "stream",
     "text": [
      "generator loss:0.46056621860970726\n",
      "-----------------------\n"
     ]
    },
    {
     "name": "stderr",
     "output_type": "stream",
     "text": [
      "6it [02:22, 23.10s/it]\n",
      "  0%|          | 0/20 [00:00<?, ?it/s]\u001b[A"
     ]
    },
    {
     "name": "stdout",
     "output_type": "stream",
     "text": [
      "total discriminator loss:0.4221304218131812\n",
      "-----------------------\n",
      "Training Step: 7\n"
     ]
    },
    {
     "name": "stderr",
     "output_type": "stream",
     "text": [
      "\n",
      "  5%|▌         | 1/20 [00:01<00:25,  1.36s/it]\u001b[A\n",
      " 10%|█         | 2/20 [00:02<00:23,  1.32s/it]\u001b[A\n",
      " 15%|█▌        | 3/20 [00:04<00:22,  1.35s/it]\u001b[A\n",
      " 20%|██        | 4/20 [00:05<00:20,  1.29s/it]\u001b[A\n",
      " 25%|██▌       | 5/20 [00:06<00:19,  1.28s/it]\u001b[A\n",
      " 30%|███       | 6/20 [00:07<00:16,  1.21s/it]\u001b[A\n",
      " 35%|███▌      | 7/20 [00:08<00:14,  1.15s/it]\u001b[A\n",
      " 40%|████      | 8/20 [00:09<00:13,  1.15s/it]\u001b[A\n",
      " 45%|████▌     | 9/20 [00:10<00:11,  1.08s/it]\u001b[A\n",
      " 50%|█████     | 10/20 [00:11<00:10,  1.01s/it]\u001b[A\n",
      " 55%|█████▌    | 11/20 [00:12<00:08,  1.05it/s]\u001b[A\n",
      " 60%|██████    | 12/20 [00:13<00:07,  1.11it/s]\u001b[A\n",
      " 65%|██████▌   | 13/20 [00:14<00:06,  1.11it/s]\u001b[A\n",
      " 70%|███████   | 14/20 [00:14<00:05,  1.20it/s]\u001b[A\n",
      " 75%|███████▌  | 15/20 [00:15<00:03,  1.29it/s]\u001b[A\n",
      " 80%|████████  | 16/20 [00:15<00:02,  1.39it/s]\u001b[A\n",
      " 85%|████████▌ | 17/20 [00:16<00:01,  1.51it/s]\u001b[A\n",
      " 90%|█████████ | 18/20 [00:16<00:01,  1.65it/s]\u001b[A\n",
      " 95%|█████████▌| 19/20 [00:17<00:00,  1.80it/s]\u001b[A\n",
      "100%|██████████| 20/20 [00:17<00:00,  1.12it/s]\u001b[A\n"
     ]
    },
    {
     "name": "stdout",
     "output_type": "stream",
     "text": [
      "generator loss:0.525027435449915\n",
      "-----------------------\n"
     ]
    },
    {
     "name": "stderr",
     "output_type": "stream",
     "text": [
      "7it [02:45, 23.03s/it]\n",
      "  0%|          | 0/20 [00:00<?, ?it/s]\u001b[A"
     ]
    },
    {
     "name": "stdout",
     "output_type": "stream",
     "text": [
      "total discriminator loss:0.3802340827540952\n",
      "-----------------------\n",
      "Training Step: 8\n"
     ]
    },
    {
     "name": "stderr",
     "output_type": "stream",
     "text": [
      "\n",
      "  5%|▌         | 1/20 [00:01<00:25,  1.36s/it]\u001b[A\n",
      " 10%|█         | 2/20 [00:02<00:23,  1.32s/it]\u001b[A\n",
      " 15%|█▌        | 3/20 [00:03<00:21,  1.28s/it]\u001b[A\n",
      " 20%|██        | 4/20 [00:05<00:19,  1.24s/it]\u001b[A\n",
      " 25%|██▌       | 5/20 [00:06<00:17,  1.20s/it]\u001b[A\n",
      " 30%|███       | 6/20 [00:07<00:16,  1.20s/it]\u001b[A\n",
      " 35%|███▌      | 7/20 [00:08<00:14,  1.14s/it]\u001b[A\n",
      " 40%|████      | 8/20 [00:09<00:13,  1.09s/it]\u001b[A\n",
      " 45%|████▌     | 9/20 [00:10<00:11,  1.09s/it]\u001b[A\n",
      " 50%|█████     | 10/20 [00:11<00:10,  1.01s/it]\u001b[A\n",
      " 55%|█████▌    | 11/20 [00:12<00:08,  1.04it/s]\u001b[A\n",
      " 60%|██████    | 12/20 [00:12<00:07,  1.10it/s]\u001b[A\n",
      " 65%|██████▌   | 13/20 [00:13<00:05,  1.17it/s]\u001b[A\n",
      " 70%|███████   | 14/20 [00:14<00:05,  1.16it/s]\u001b[A\n",
      " 75%|███████▌  | 15/20 [00:15<00:03,  1.26it/s]\u001b[A\n",
      " 80%|████████  | 16/20 [00:15<00:02,  1.35it/s]\u001b[A\n",
      " 85%|████████▌ | 17/20 [00:16<00:02,  1.47it/s]\u001b[A\n",
      " 90%|█████████ | 18/20 [00:16<00:01,  1.61it/s]\u001b[A\n",
      " 95%|█████████▌| 19/20 [00:17<00:00,  1.77it/s]\u001b[A\n",
      "100%|██████████| 20/20 [00:17<00:00,  1.13it/s]\u001b[A\n"
     ]
    },
    {
     "name": "stdout",
     "output_type": "stream",
     "text": [
      "generator loss:0.43953380699845646\n",
      "-----------------------\n"
     ]
    },
    {
     "name": "stderr",
     "output_type": "stream",
     "text": [
      "8it [03:07, 22.88s/it]\n",
      "  0%|          | 0/20 [00:00<?, ?it/s]\u001b[A"
     ]
    },
    {
     "name": "stdout",
     "output_type": "stream",
     "text": [
      "total discriminator loss:0.3499611060939758\n",
      "-----------------------\n",
      "Training Step: 9\n"
     ]
    },
    {
     "name": "stderr",
     "output_type": "stream",
     "text": [
      "\n",
      "  5%|▌         | 1/20 [00:01<00:27,  1.45s/it]\u001b[A\n",
      " 10%|█         | 2/20 [00:02<00:24,  1.35s/it]\u001b[A\n",
      " 15%|█▌        | 3/20 [00:04<00:22,  1.34s/it]\u001b[A\n",
      " 20%|██        | 4/20 [00:05<00:20,  1.28s/it]\u001b[A\n",
      " 25%|██▌       | 5/20 [00:06<00:18,  1.26s/it]\u001b[A\n",
      " 30%|███       | 6/20 [00:07<00:16,  1.19s/it]\u001b[A\n",
      " 35%|███▌      | 7/20 [00:08<00:14,  1.14s/it]\u001b[A\n",
      " 40%|████      | 8/20 [00:09<00:13,  1.14s/it]\u001b[A\n",
      " 45%|████▌     | 9/20 [00:10<00:11,  1.07s/it]\u001b[A\n",
      " 50%|█████     | 10/20 [00:11<00:10,  1.00s/it]\u001b[A\n",
      " 55%|█████▌    | 11/20 [00:12<00:08,  1.06it/s]\u001b[A\n",
      " 60%|██████    | 12/20 [00:13<00:07,  1.05it/s]\u001b[A\n",
      " 65%|██████▌   | 13/20 [00:13<00:06,  1.13it/s]\u001b[A\n",
      " 70%|███████   | 14/20 [00:14<00:04,  1.21it/s]\u001b[A\n",
      " 75%|███████▌  | 15/20 [00:15<00:03,  1.30it/s]\u001b[A\n",
      " 80%|████████  | 16/20 [00:15<00:02,  1.39it/s]\u001b[A\n",
      " 85%|████████▌ | 17/20 [00:16<00:01,  1.51it/s]\u001b[A\n",
      " 90%|█████████ | 18/20 [00:16<00:01,  1.64it/s]\u001b[A\n",
      " 95%|█████████▌| 19/20 [00:17<00:00,  1.60it/s]\u001b[A\n",
      "100%|██████████| 20/20 [00:17<00:00,  1.11it/s]\u001b[A\n"
     ]
    },
    {
     "name": "stdout",
     "output_type": "stream",
     "text": [
      "generator loss:0.49496511370544827\n",
      "-----------------------\n"
     ]
    },
    {
     "name": "stderr",
     "output_type": "stream",
     "text": [
      "9it [03:30, 22.88s/it]\n",
      "  0%|          | 0/20 [00:00<?, ?it/s]\u001b[A"
     ]
    },
    {
     "name": "stdout",
     "output_type": "stream",
     "text": [
      "total discriminator loss:0.32513817346289275\n",
      "-----------------------\n",
      "Training Step: 10\n"
     ]
    },
    {
     "name": "stderr",
     "output_type": "stream",
     "text": [
      "\n",
      "  5%|▌         | 1/20 [00:01<00:26,  1.38s/it]\u001b[A\n",
      " 10%|█         | 2/20 [00:02<00:23,  1.32s/it]\u001b[A\n",
      " 15%|█▌        | 3/20 [00:03<00:21,  1.28s/it]\u001b[A\n",
      " 20%|██        | 4/20 [00:05<00:20,  1.29s/it]\u001b[A\n",
      " 25%|██▌       | 5/20 [00:06<00:18,  1.23s/it]\u001b[A\n",
      " 30%|███       | 6/20 [00:07<00:16,  1.18s/it]\u001b[A\n",
      " 35%|███▌      | 7/20 [00:08<00:15,  1.18s/it]\u001b[A\n",
      " 40%|████      | 8/20 [00:09<00:13,  1.12s/it]\u001b[A\n",
      " 45%|████▌     | 9/20 [00:10<00:11,  1.08s/it]\u001b[A\n",
      " 50%|█████     | 10/20 [00:11<00:10,  1.01s/it]\u001b[A\n",
      " 55%|█████▌    | 11/20 [00:12<00:09,  1.01s/it]\u001b[A\n",
      " 60%|██████    | 12/20 [00:13<00:07,  1.06it/s]\u001b[A\n",
      " 65%|██████▌   | 13/20 [00:13<00:06,  1.13it/s]\u001b[A\n",
      " 70%|███████   | 14/20 [00:14<00:04,  1.22it/s]\u001b[A\n",
      " 75%|███████▌  | 15/20 [00:15<00:03,  1.30it/s]\u001b[A\n",
      " 80%|████████  | 16/20 [00:15<00:02,  1.39it/s]\u001b[A\n",
      " 85%|████████▌ | 17/20 [00:16<00:02,  1.37it/s]\u001b[A\n",
      " 90%|█████████ | 18/20 [00:17<00:01,  1.52it/s]\u001b[A\n",
      " 95%|█████████▌| 19/20 [00:17<00:00,  1.69it/s]\u001b[A\n",
      "100%|██████████| 20/20 [00:18<00:00,  1.11it/s]\u001b[A\n"
     ]
    },
    {
     "name": "stdout",
     "output_type": "stream",
     "text": [
      "generator loss:0.41845501569410776\n",
      "-----------------------\n"
     ]
    },
    {
     "name": "stderr",
     "output_type": "stream",
     "text": [
      "10it [03:53, 22.89s/it]\n",
      "  0%|          | 0/20 [00:00<?, ?it/s]\u001b[A"
     ]
    },
    {
     "name": "stdout",
     "output_type": "stream",
     "text": [
      "total discriminator loss:0.3255412585427401\n",
      "-----------------------\n",
      "Training Step: 11\n"
     ]
    },
    {
     "name": "stderr",
     "output_type": "stream",
     "text": [
      "\n",
      "  5%|▌         | 1/20 [00:01<00:25,  1.36s/it]\u001b[A\n",
      " 10%|█         | 2/20 [00:02<00:23,  1.31s/it]\u001b[A\n",
      " 15%|█▌        | 3/20 [00:03<00:22,  1.33s/it]\u001b[A\n",
      " 20%|██        | 4/20 [00:05<00:20,  1.27s/it]\u001b[A\n",
      " 25%|██▌       | 5/20 [00:06<00:18,  1.22s/it]\u001b[A\n",
      " 30%|███       | 6/20 [00:07<00:16,  1.21s/it]\u001b[A\n",
      " 35%|███▌      | 7/20 [00:08<00:14,  1.15s/it]\u001b[A\n",
      " 40%|████      | 8/20 [00:09<00:13,  1.10s/it]\u001b[A\n",
      " 45%|████▌     | 9/20 [00:10<00:12,  1.10s/it]\u001b[A\n",
      " 50%|█████     | 10/20 [00:11<00:10,  1.03s/it]\u001b[A\n",
      " 55%|█████▌    | 11/20 [00:12<00:08,  1.04it/s]\u001b[A\n",
      " 60%|██████    | 12/20 [00:13<00:07,  1.11it/s]\u001b[A\n",
      " 65%|██████▌   | 13/20 [00:13<00:06,  1.10it/s]\u001b[A\n",
      " 70%|███████   | 14/20 [00:14<00:05,  1.19it/s]\u001b[A\n",
      " 75%|███████▌  | 15/20 [00:15<00:03,  1.28it/s]\u001b[A\n",
      " 80%|████████  | 16/20 [00:15<00:02,  1.38it/s]\u001b[A\n",
      " 85%|████████▌ | 17/20 [00:16<00:01,  1.50it/s]\u001b[A\n",
      " 90%|█████████ | 18/20 [00:16<00:01,  1.64it/s]\u001b[A\n",
      " 95%|█████████▌| 19/20 [00:17<00:00,  1.79it/s]\u001b[A\n",
      "100%|██████████| 20/20 [00:17<00:00,  1.13it/s]\u001b[A\n"
     ]
    },
    {
     "name": "stdout",
     "output_type": "stream",
     "text": [
      "generator loss:0.43163549466317014\n",
      "-----------------------\n"
     ]
    },
    {
     "name": "stderr",
     "output_type": "stream",
     "text": [
      "11it [04:16, 22.82s/it]\n",
      "  0%|          | 0/20 [00:00<?, ?it/s]\u001b[A"
     ]
    },
    {
     "name": "stdout",
     "output_type": "stream",
     "text": [
      "total discriminator loss:0.3268132685749636\n",
      "-----------------------\n",
      "Training Step: 12\n"
     ]
    },
    {
     "name": "stderr",
     "output_type": "stream",
     "text": [
      "\n",
      "  5%|▌         | 1/20 [00:01<00:27,  1.45s/it]\u001b[A\n",
      " 10%|█         | 2/20 [00:02<00:25,  1.43s/it]\u001b[A\n",
      " 15%|█▌        | 3/20 [00:04<00:22,  1.34s/it]\u001b[A\n",
      " 20%|██        | 4/20 [00:05<00:21,  1.33s/it]\u001b[A\n",
      " 25%|██▌       | 5/20 [00:06<00:18,  1.25s/it]\u001b[A\n",
      " 30%|███       | 6/20 [00:07<00:16,  1.19s/it]\u001b[A\n",
      " 35%|███▌      | 7/20 [00:08<00:15,  1.18s/it]\u001b[A\n",
      " 40%|████      | 8/20 [00:09<00:13,  1.12s/it]\u001b[A\n",
      " 45%|████▌     | 9/20 [00:10<00:11,  1.06s/it]\u001b[A\n",
      " 50%|█████     | 10/20 [00:11<00:09,  1.00it/s]\u001b[A\n",
      " 55%|█████▌    | 11/20 [00:12<00:09,  1.01s/it]\u001b[A\n",
      " 60%|██████    | 12/20 [00:13<00:07,  1.07it/s]\u001b[A\n",
      " 65%|██████▌   | 13/20 [00:14<00:06,  1.15it/s]\u001b[A\n",
      " 70%|███████   | 14/20 [00:14<00:04,  1.21it/s]\u001b[A\n",
      " 75%|███████▌  | 15/20 [00:15<00:03,  1.30it/s]\u001b[A\n",
      " 80%|████████  | 16/20 [00:16<00:02,  1.36it/s]\u001b[A\n",
      " 85%|████████▌ | 17/20 [00:16<00:02,  1.48it/s]\u001b[A\n",
      " 90%|█████████ | 18/20 [00:17<00:01,  1.47it/s]\u001b[A\n",
      " 95%|█████████▌| 19/20 [00:17<00:00,  1.65it/s]\u001b[A\n",
      "100%|██████████| 20/20 [00:18<00:00,  1.10it/s]\u001b[A\n"
     ]
    },
    {
     "name": "stdout",
     "output_type": "stream",
     "text": [
      "generator loss:0.3661868313222076\n",
      "-----------------------\n"
     ]
    },
    {
     "name": "stderr",
     "output_type": "stream",
     "text": [
      "12it [04:39, 22.89s/it]\n",
      "  0%|          | 0/20 [00:00<?, ?it/s]\u001b[A"
     ]
    },
    {
     "name": "stdout",
     "output_type": "stream",
     "text": [
      "total discriminator loss:0.2932349350856504\n",
      "-----------------------\n",
      "Training Step: 13\n"
     ]
    },
    {
     "name": "stderr",
     "output_type": "stream",
     "text": [
      "\n",
      "  5%|▌         | 1/20 [00:01<00:25,  1.36s/it]\u001b[A\n",
      " 10%|█         | 2/20 [00:02<00:23,  1.33s/it]\u001b[A\n",
      " 15%|█▌        | 3/20 [00:03<00:21,  1.28s/it]\u001b[A\n",
      " 20%|██        | 4/20 [00:05<00:20,  1.29s/it]\u001b[A\n",
      " 25%|██▌       | 5/20 [00:06<00:18,  1.23s/it]\u001b[A\n",
      " 30%|███       | 6/20 [00:07<00:16,  1.18s/it]\u001b[A\n",
      " 35%|███▌      | 7/20 [00:08<00:15,  1.18s/it]\u001b[A\n",
      " 40%|████      | 8/20 [00:09<00:13,  1.12s/it]\u001b[A\n",
      " 45%|████▌     | 9/20 [00:10<00:11,  1.06s/it]\u001b[A\n",
      " 50%|█████     | 10/20 [00:11<00:10,  1.05s/it]\u001b[A\n",
      " 55%|█████▌    | 11/20 [00:12<00:08,  1.02it/s]\u001b[A\n",
      " 60%|██████    | 12/20 [00:13<00:07,  1.08it/s]\u001b[A\n",
      " 65%|██████▌   | 13/20 [00:13<00:06,  1.16it/s]\u001b[A\n",
      " 70%|███████   | 14/20 [00:14<00:04,  1.24it/s]\u001b[A\n",
      " 75%|███████▌  | 15/20 [00:15<00:03,  1.33it/s]\u001b[A\n",
      " 80%|████████  | 16/20 [00:16<00:03,  1.29it/s]\u001b[A\n",
      " 85%|████████▌ | 17/20 [00:16<00:02,  1.42it/s]\u001b[A\n",
      " 90%|█████████ | 18/20 [00:17<00:01,  1.57it/s]\u001b[A\n",
      " 95%|█████████▌| 19/20 [00:17<00:00,  1.74it/s]\u001b[A\n",
      "100%|██████████| 20/20 [00:17<00:00,  1.12it/s]\u001b[A\n"
     ]
    },
    {
     "name": "stdout",
     "output_type": "stream",
     "text": [
      "generator loss:0.3985918162257012\n",
      "-----------------------\n"
     ]
    },
    {
     "name": "stderr",
     "output_type": "stream",
     "text": [
      "13it [05:02, 22.85s/it]\n",
      "  0%|          | 0/20 [00:00<?, ?it/s]\u001b[A"
     ]
    },
    {
     "name": "stdout",
     "output_type": "stream",
     "text": [
      "total discriminator loss:0.29081737926966517\n",
      "-----------------------\n",
      "Training Step: 14\n"
     ]
    },
    {
     "name": "stderr",
     "output_type": "stream",
     "text": [
      "\n",
      "  5%|▌         | 1/20 [00:01<00:25,  1.37s/it]\u001b[A\n",
      " 10%|█         | 2/20 [00:02<00:24,  1.33s/it]\u001b[A\n",
      " 15%|█▌        | 3/20 [00:04<00:22,  1.35s/it]\u001b[A\n",
      " 20%|██        | 4/20 [00:05<00:20,  1.29s/it]\u001b[A\n",
      " 25%|██▌       | 5/20 [00:06<00:19,  1.27s/it]\u001b[A\n",
      " 30%|███       | 6/20 [00:07<00:16,  1.20s/it]\u001b[A\n",
      " 35%|███▌      | 7/20 [00:08<00:14,  1.15s/it]\u001b[A\n",
      " 40%|████      | 8/20 [00:09<00:13,  1.14s/it]\u001b[A\n",
      " 45%|████▌     | 9/20 [00:10<00:11,  1.07s/it]\u001b[A\n",
      " 50%|█████     | 10/20 [00:11<00:10,  1.01s/it]\u001b[A\n",
      " 55%|█████▌    | 11/20 [00:12<00:08,  1.05it/s]\u001b[A\n",
      " 60%|██████    | 12/20 [00:13<00:07,  1.05it/s]\u001b[A\n",
      " 65%|██████▌   | 13/20 [00:14<00:06,  1.13it/s]\u001b[A\n",
      " 70%|███████   | 14/20 [00:14<00:04,  1.22it/s]\u001b[A\n",
      " 75%|███████▌  | 15/20 [00:15<00:03,  1.31it/s]\u001b[A\n",
      " 80%|████████  | 16/20 [00:15<00:02,  1.40it/s]\u001b[A\n",
      " 85%|████████▌ | 17/20 [00:16<00:01,  1.52it/s]\u001b[A\n",
      " 90%|█████████ | 18/20 [00:16<00:01,  1.65it/s]\u001b[A\n",
      " 95%|█████████▌| 19/20 [00:17<00:00,  1.80it/s]\u001b[A\n",
      "100%|██████████| 20/20 [00:18<00:00,  1.11it/s]\u001b[A\n"
     ]
    },
    {
     "name": "stdout",
     "output_type": "stream",
     "text": [
      "generator loss:0.38340462111198537\n",
      "-----------------------\n"
     ]
    },
    {
     "name": "stderr",
     "output_type": "stream",
     "text": [
      "14it [05:25, 22.86s/it]\n",
      "  0%|          | 0/20 [00:00<?, ?it/s]\u001b[A"
     ]
    },
    {
     "name": "stdout",
     "output_type": "stream",
     "text": [
      "total discriminator loss:0.2953636246541945\n",
      "-----------------------\n",
      "Training Step: 15\n"
     ]
    },
    {
     "name": "stderr",
     "output_type": "stream",
     "text": [
      "\n",
      "  5%|▌         | 1/20 [00:01<00:25,  1.35s/it]\u001b[A\n",
      " 10%|█         | 2/20 [00:02<00:23,  1.31s/it]\u001b[A\n",
      " 15%|█▌        | 3/20 [00:03<00:21,  1.28s/it]\u001b[A\n",
      " 20%|██        | 4/20 [00:05<00:19,  1.24s/it]\u001b[A\n",
      " 25%|██▌       | 5/20 [00:06<00:18,  1.24s/it]\u001b[A\n",
      " 30%|███       | 6/20 [00:07<00:16,  1.20s/it]\u001b[A\n",
      " 35%|███▌      | 7/20 [00:08<00:15,  1.19s/it]\u001b[A\n",
      " 40%|████      | 8/20 [00:09<00:13,  1.12s/it]\u001b[A\n",
      " 45%|████▌     | 9/20 [00:10<00:11,  1.06s/it]\u001b[A\n",
      " 50%|█████     | 10/20 [00:11<00:10,  1.00s/it]\u001b[A\n",
      " 55%|█████▌    | 11/20 [00:12<00:09,  1.00s/it]\u001b[A\n",
      " 60%|██████    | 12/20 [00:13<00:07,  1.07it/s]\u001b[A\n",
      " 65%|██████▌   | 13/20 [00:13<00:06,  1.15it/s]\u001b[A\n",
      " 70%|███████   | 14/20 [00:14<00:04,  1.23it/s]\u001b[A\n",
      " 75%|███████▌  | 15/20 [00:15<00:03,  1.32it/s]\u001b[A\n",
      " 80%|████████  | 16/20 [00:15<00:02,  1.41it/s]\u001b[A\n",
      " 85%|████████▌ | 17/20 [00:16<00:01,  1.53it/s]\u001b[A\n",
      " 90%|█████████ | 18/20 [00:16<00:01,  1.66it/s]\u001b[A\n",
      " 95%|█████████▌| 19/20 [00:17<00:00,  1.62it/s]\u001b[A\n",
      "100%|██████████| 20/20 [00:17<00:00,  1.12it/s]\u001b[A\n"
     ]
    },
    {
     "name": "stdout",
     "output_type": "stream",
     "text": [
      "generator loss:0.41115879635878017\n",
      "-----------------------\n"
     ]
    },
    {
     "name": "stderr",
     "output_type": "stream",
     "text": [
      "15it [05:47, 22.82s/it]\n",
      "  0%|          | 0/20 [00:00<?, ?it/s]\u001b[A"
     ]
    },
    {
     "name": "stdout",
     "output_type": "stream",
     "text": [
      "total discriminator loss:0.2860210229033562\n",
      "-----------------------\n",
      "Training Step: 16\n"
     ]
    },
    {
     "name": "stderr",
     "output_type": "stream",
     "text": [
      "\n",
      "  5%|▌         | 1/20 [00:01<00:25,  1.36s/it]\u001b[A\n",
      " 10%|█         | 2/20 [00:02<00:23,  1.32s/it]\u001b[A\n",
      " 15%|█▌        | 3/20 [00:03<00:21,  1.28s/it]\u001b[A\n",
      " 20%|██        | 4/20 [00:05<00:20,  1.29s/it]\u001b[A\n",
      " 25%|██▌       | 5/20 [00:06<00:18,  1.22s/it]\u001b[A\n",
      " 30%|███       | 6/20 [00:07<00:16,  1.17s/it]\u001b[A\n",
      " 35%|███▌      | 7/20 [00:08<00:15,  1.17s/it]\u001b[A\n",
      " 40%|████      | 8/20 [00:09<00:13,  1.11s/it]\u001b[A\n",
      " 45%|████▌     | 9/20 [00:10<00:11,  1.05s/it]\u001b[A\n",
      " 50%|█████     | 10/20 [00:11<00:10,  1.05s/it]\u001b[A\n",
      " 55%|█████▌    | 11/20 [00:12<00:08,  1.02it/s]\u001b[A\n",
      " 60%|██████    | 12/20 [00:13<00:07,  1.09it/s]\u001b[A\n",
      " 65%|██████▌   | 13/20 [00:13<00:06,  1.17it/s]\u001b[A\n",
      " 70%|███████   | 14/20 [00:14<00:04,  1.24it/s]\u001b[A\n",
      " 75%|███████▌  | 15/20 [00:15<00:03,  1.33it/s]\u001b[A\n",
      " 80%|████████  | 16/20 [00:15<00:02,  1.41it/s]\u001b[A\n",
      " 85%|████████▌ | 17/20 [00:16<00:02,  1.38it/s]\u001b[A\n",
      " 90%|█████████ | 18/20 [00:16<00:01,  1.53it/s]\u001b[A\n",
      " 95%|█████████▌| 19/20 [00:17<00:00,  1.70it/s]\u001b[A\n",
      "100%|██████████| 20/20 [00:17<00:00,  1.12it/s]\u001b[A\n"
     ]
    },
    {
     "name": "stdout",
     "output_type": "stream",
     "text": [
      "generator loss:0.3436656257190448\n",
      "-----------------------\n"
     ]
    },
    {
     "name": "stderr",
     "output_type": "stream",
     "text": [
      "16it [06:10, 22.80s/it]\n",
      "  0%|          | 0/20 [00:00<?, ?it/s]\u001b[A"
     ]
    },
    {
     "name": "stdout",
     "output_type": "stream",
     "text": [
      "total discriminator loss:0.2687271268612701\n",
      "-----------------------\n",
      "Training Step: 17\n"
     ]
    },
    {
     "name": "stderr",
     "output_type": "stream",
     "text": [
      "\n",
      "  5%|▌         | 1/20 [00:01<00:26,  1.40s/it]\u001b[A\n",
      " 10%|█         | 2/20 [00:02<00:24,  1.36s/it]\u001b[A\n",
      " 15%|█▌        | 3/20 [00:04<00:23,  1.36s/it]\u001b[A\n",
      " 20%|██        | 4/20 [00:05<00:20,  1.29s/it]\u001b[A\n",
      " 25%|██▌       | 5/20 [00:06<00:19,  1.28s/it]\u001b[A\n",
      " 30%|███       | 6/20 [00:07<00:16,  1.21s/it]\u001b[A\n",
      " 35%|███▌      | 7/20 [00:08<00:14,  1.15s/it]\u001b[A\n",
      " 40%|████      | 8/20 [00:09<00:13,  1.15s/it]\u001b[A\n",
      " 45%|████▌     | 9/20 [00:10<00:11,  1.08s/it]\u001b[A\n",
      " 50%|█████     | 10/20 [00:11<00:10,  1.02s/it]\u001b[A\n",
      " 55%|█████▌    | 11/20 [00:12<00:08,  1.04it/s]\u001b[A\n",
      " 60%|██████    | 12/20 [00:13<00:07,  1.10it/s]\u001b[A\n",
      " 65%|██████▌   | 13/20 [00:14<00:06,  1.10it/s]\u001b[A\n",
      " 70%|███████   | 14/20 [00:14<00:05,  1.19it/s]\u001b[A\n",
      " 75%|███████▌  | 15/20 [00:15<00:03,  1.29it/s]\u001b[A\n",
      " 80%|████████  | 16/20 [00:16<00:02,  1.38it/s]\u001b[A\n",
      " 85%|████████▌ | 17/20 [00:16<00:01,  1.51it/s]\u001b[A\n",
      " 90%|█████████ | 18/20 [00:17<00:01,  1.64it/s]\u001b[A\n",
      " 95%|█████████▌| 19/20 [00:17<00:00,  1.80it/s]\u001b[A\n",
      "100%|██████████| 20/20 [00:17<00:00,  1.12it/s]\u001b[A\n"
     ]
    },
    {
     "name": "stdout",
     "output_type": "stream",
     "text": [
      "generator loss:0.3720632054196863\n",
      "-----------------------\n"
     ]
    },
    {
     "name": "stderr",
     "output_type": "stream",
     "text": [
      "17it [06:33, 22.86s/it]\n",
      "  0%|          | 0/20 [00:00<?, ?it/s]\u001b[A"
     ]
    },
    {
     "name": "stdout",
     "output_type": "stream",
     "text": [
      "total discriminator loss:0.2687904490173796\n",
      "-----------------------\n",
      "Training Step: 18\n"
     ]
    },
    {
     "name": "stderr",
     "output_type": "stream",
     "text": [
      "\n",
      "  5%|▌         | 1/20 [00:01<00:25,  1.34s/it]\u001b[A\n",
      " 10%|█         | 2/20 [00:02<00:23,  1.31s/it]\u001b[A\n",
      " 15%|█▌        | 3/20 [00:03<00:21,  1.27s/it]\u001b[A\n",
      " 20%|██        | 4/20 [00:05<00:19,  1.23s/it]\u001b[A\n",
      " 25%|██▌       | 5/20 [00:06<00:18,  1.24s/it]\u001b[A\n",
      " 30%|███       | 6/20 [00:07<00:16,  1.18s/it]\u001b[A\n",
      " 35%|███▌      | 7/20 [00:08<00:14,  1.13s/it]\u001b[A\n",
      " 40%|████      | 8/20 [00:09<00:13,  1.13s/it]\u001b[A\n",
      " 45%|████▌     | 9/20 [00:10<00:11,  1.07s/it]\u001b[A\n",
      " 50%|█████     | 10/20 [00:11<00:10,  1.00s/it]\u001b[A\n",
      " 55%|█████▌    | 11/20 [00:12<00:08,  1.05it/s]\u001b[A\n",
      " 60%|██████    | 12/20 [00:12<00:07,  1.11it/s]\u001b[A\n",
      " 65%|██████▌   | 13/20 [00:13<00:06,  1.05it/s]\u001b[A\n",
      " 70%|███████   | 14/20 [00:14<00:05,  1.11it/s]\u001b[A\n",
      " 75%|███████▌  | 15/20 [00:15<00:04,  1.22it/s]\u001b[A\n",
      " 80%|████████  | 16/20 [00:16<00:03,  1.32it/s]\u001b[A\n",
      " 85%|████████▌ | 17/20 [00:16<00:02,  1.45it/s]\u001b[A\n",
      " 90%|█████████ | 18/20 [00:17<00:01,  1.59it/s]\u001b[A\n",
      " 95%|█████████▌| 19/20 [00:17<00:00,  1.76it/s]\u001b[A\n",
      "100%|██████████| 20/20 [00:17<00:00,  1.12it/s]\u001b[A\n"
     ]
    },
    {
     "name": "stdout",
     "output_type": "stream",
     "text": [
      "generator loss:0.3033855099125811\n",
      "-----------------------\n"
     ]
    },
    {
     "name": "stderr",
     "output_type": "stream",
     "text": [
      "18it [06:56, 22.84s/it]\n",
      "  0%|          | 0/20 [00:00<?, ?it/s]\u001b[A"
     ]
    },
    {
     "name": "stdout",
     "output_type": "stream",
     "text": [
      "total discriminator loss:0.23369132407312945\n",
      "-----------------------\n",
      "Training Step: 19\n"
     ]
    },
    {
     "name": "stderr",
     "output_type": "stream",
     "text": [
      "\n",
      "  5%|▌         | 1/20 [00:01<00:27,  1.43s/it]\u001b[A\n",
      " 10%|█         | 2/20 [00:02<00:25,  1.41s/it]\u001b[A\n",
      " 15%|█▌        | 3/20 [00:04<00:22,  1.33s/it]\u001b[A\n",
      " 20%|██        | 4/20 [00:05<00:21,  1.32s/it]\u001b[A\n",
      " 25%|██▌       | 5/20 [00:06<00:18,  1.25s/it]\u001b[A\n",
      " 30%|███       | 6/20 [00:07<00:16,  1.18s/it]\u001b[A\n",
      " 35%|███▌      | 7/20 [00:08<00:15,  1.18s/it]\u001b[A\n",
      " 40%|████      | 8/20 [00:09<00:13,  1.12s/it]\u001b[A\n",
      " 45%|████▌     | 9/20 [00:10<00:11,  1.06s/it]\u001b[A\n",
      " 50%|█████     | 10/20 [00:11<00:10,  1.06s/it]\u001b[A\n",
      " 55%|█████▌    | 11/20 [00:12<00:08,  1.01it/s]\u001b[A\n",
      " 60%|██████    | 12/20 [00:13<00:07,  1.08it/s]\u001b[A\n",
      " 65%|██████▌   | 13/20 [00:14<00:06,  1.15it/s]\u001b[A\n",
      " 70%|███████   | 14/20 [00:14<00:04,  1.24it/s]\u001b[A\n",
      " 75%|███████▌  | 15/20 [00:15<00:03,  1.31it/s]\u001b[A\n",
      " 80%|████████  | 16/20 [00:16<00:03,  1.28it/s]\u001b[A\n",
      " 85%|████████▌ | 17/20 [00:16<00:02,  1.41it/s]\u001b[A\n",
      " 90%|█████████ | 18/20 [00:17<00:01,  1.54it/s]\u001b[A\n",
      " 95%|█████████▌| 19/20 [00:17<00:00,  1.66it/s]\u001b[A\n",
      "100%|██████████| 20/20 [00:18<00:00,  1.10it/s]\u001b[A\n"
     ]
    },
    {
     "name": "stdout",
     "output_type": "stream",
     "text": [
      "generator loss:0.331476148660475\n",
      "-----------------------\n"
     ]
    },
    {
     "name": "stderr",
     "output_type": "stream",
     "text": [
      "19it [07:19, 22.91s/it]\n",
      "  0%|          | 0/20 [00:00<?, ?it/s]\u001b[A"
     ]
    },
    {
     "name": "stdout",
     "output_type": "stream",
     "text": [
      "total discriminator loss:0.23286373988872744\n",
      "-----------------------\n",
      "Training Step: 20\n"
     ]
    },
    {
     "name": "stderr",
     "output_type": "stream",
     "text": [
      "\n",
      "  5%|▌         | 1/20 [00:01<00:26,  1.39s/it]\u001b[A\n",
      " 10%|█         | 2/20 [00:02<00:24,  1.36s/it]\u001b[A\n",
      " 15%|█▌        | 3/20 [00:04<00:23,  1.37s/it]\u001b[A\n",
      " 20%|██        | 4/20 [00:05<00:20,  1.30s/it]\u001b[A\n",
      " 25%|██▌       | 5/20 [00:06<00:19,  1.28s/it]\u001b[A\n",
      " 30%|███       | 6/20 [00:07<00:16,  1.21s/it]\u001b[A\n",
      " 35%|███▌      | 7/20 [00:08<00:14,  1.15s/it]\u001b[A\n",
      " 40%|████      | 8/20 [00:09<00:13,  1.15s/it]\u001b[A\n",
      " 45%|████▌     | 9/20 [00:10<00:11,  1.09s/it]\u001b[A\n",
      " 50%|█████     | 10/20 [00:11<00:10,  1.02s/it]\u001b[A\n",
      " 55%|█████▌    | 11/20 [00:12<00:08,  1.04it/s]\u001b[A\n",
      " 60%|██████    | 12/20 [00:13<00:07,  1.04it/s]\u001b[A\n",
      " 65%|██████▌   | 13/20 [00:14<00:06,  1.12it/s]\u001b[A\n",
      " 70%|███████   | 14/20 [00:14<00:04,  1.21it/s]\u001b[A\n",
      " 75%|███████▌  | 15/20 [00:15<00:03,  1.30it/s]\u001b[A\n",
      " 80%|████████  | 16/20 [00:16<00:02,  1.39it/s]\u001b[A\n",
      " 85%|████████▌ | 17/20 [00:16<00:01,  1.51it/s]\u001b[A\n",
      " 90%|█████████ | 18/20 [00:17<00:01,  1.64it/s]\u001b[A\n",
      " 95%|█████████▌| 19/20 [00:17<00:00,  1.60it/s]\u001b[A\n",
      "100%|██████████| 20/20 [00:18<00:00,  1.10it/s]\u001b[A\n"
     ]
    },
    {
     "name": "stdout",
     "output_type": "stream",
     "text": [
      "generator loss:0.267735325875741\n",
      "-----------------------\n"
     ]
    },
    {
     "name": "stderr",
     "output_type": "stream",
     "text": [
      "20it [07:42, 22.96s/it]\n",
      "  0%|          | 0/20 [00:00<?, ?it/s]\u001b[A"
     ]
    },
    {
     "name": "stdout",
     "output_type": "stream",
     "text": [
      "total discriminator loss:0.2697371501557321\n",
      "-----------------------\n",
      "Training Step: 21\n"
     ]
    },
    {
     "name": "stderr",
     "output_type": "stream",
     "text": [
      "\n",
      "  5%|▌         | 1/20 [00:01<00:26,  1.37s/it]\u001b[A\n",
      " 10%|█         | 2/20 [00:02<00:24,  1.34s/it]\u001b[A\n",
      " 15%|█▌        | 3/20 [00:03<00:22,  1.32s/it]\u001b[A\n",
      " 20%|██        | 4/20 [00:05<00:22,  1.38s/it]\u001b[A\n",
      " 25%|██▌       | 5/20 [00:06<00:21,  1.43s/it]\u001b[A\n",
      " 30%|███       | 6/20 [00:08<00:19,  1.40s/it]\u001b[A\n",
      " 35%|███▌      | 7/20 [00:09<00:18,  1.41s/it]\u001b[A\n",
      " 40%|████      | 8/20 [00:10<00:16,  1.35s/it]\u001b[A\n",
      " 45%|████▌     | 9/20 [00:12<00:14,  1.28s/it]\u001b[A\n",
      " 50%|█████     | 10/20 [00:13<00:12,  1.21s/it]\u001b[A\n",
      " 55%|█████▌    | 11/20 [00:14<00:10,  1.14s/it]\u001b[A\n",
      " 60%|██████    | 12/20 [00:15<00:09,  1.15s/it]\u001b[A\n",
      " 65%|██████▌   | 13/20 [00:16<00:07,  1.07s/it]\u001b[A\n",
      " 70%|███████   | 14/20 [00:17<00:06,  1.00s/it]\u001b[A\n",
      " 75%|███████▌  | 15/20 [00:17<00:04,  1.07it/s]\u001b[A\n",
      " 80%|████████  | 16/20 [00:18<00:03,  1.14it/s]\u001b[A\n",
      " 85%|████████▌ | 17/20 [00:19<00:02,  1.24it/s]\u001b[A\n",
      " 90%|█████████ | 18/20 [00:19<00:01,  1.34it/s]\u001b[A\n",
      " 95%|█████████▌| 19/20 [00:20<00:00,  1.31it/s]\u001b[A\n",
      "100%|██████████| 20/20 [00:21<00:00,  1.06s/it]\u001b[A\n"
     ]
    },
    {
     "name": "stdout",
     "output_type": "stream",
     "text": [
      "generator loss:0.307246422786713\n",
      "-----------------------\n"
     ]
    },
    {
     "name": "stderr",
     "output_type": "stream",
     "text": [
      "21it [08:08, 23.99s/it]\n",
      "  0%|          | 0/20 [00:00<?, ?it/s]\u001b[A"
     ]
    },
    {
     "name": "stdout",
     "output_type": "stream",
     "text": [
      "total discriminator loss:0.25533624578926817\n",
      "-----------------------\n",
      "Training Step: 22\n"
     ]
    },
    {
     "name": "stderr",
     "output_type": "stream",
     "text": [
      "\n",
      "  5%|▌         | 1/20 [00:01<00:25,  1.36s/it]\u001b[A\n",
      " 10%|█         | 2/20 [00:02<00:23,  1.32s/it]\u001b[A\n",
      " 15%|█▌        | 3/20 [00:03<00:21,  1.28s/it]\u001b[A\n",
      " 20%|██        | 4/20 [00:05<00:20,  1.30s/it]\u001b[A\n",
      " 25%|██▌       | 5/20 [00:06<00:18,  1.23s/it]\u001b[A\n",
      " 30%|███       | 6/20 [00:07<00:16,  1.18s/it]\u001b[A\n",
      " 35%|███▌      | 7/20 [00:08<00:15,  1.18s/it]\u001b[A\n",
      " 40%|████      | 8/20 [00:09<00:13,  1.11s/it]\u001b[A\n",
      " 45%|████▌     | 9/20 [00:10<00:11,  1.06s/it]\u001b[A\n",
      " 50%|█████     | 10/20 [00:11<00:09,  1.00it/s]\u001b[A\n",
      " 55%|█████▌    | 11/20 [00:12<00:09,  1.00s/it]\u001b[A\n",
      " 60%|██████    | 12/20 [00:13<00:07,  1.07it/s]\u001b[A\n",
      " 65%|██████▌   | 13/20 [00:13<00:06,  1.15it/s]\u001b[A\n",
      " 70%|███████   | 14/20 [00:14<00:04,  1.23it/s]\u001b[A\n",
      " 75%|███████▌  | 15/20 [00:15<00:03,  1.32it/s]\u001b[A\n",
      " 80%|████████  | 16/20 [00:15<00:02,  1.41it/s]\u001b[A\n",
      " 85%|████████▌ | 17/20 [00:16<00:02,  1.39it/s]\u001b[A\n",
      " 90%|█████████ | 18/20 [00:17<00:01,  1.54it/s]\u001b[A\n",
      " 95%|█████████▌| 19/20 [00:17<00:00,  1.71it/s]\u001b[A\n",
      "100%|██████████| 20/20 [00:17<00:00,  1.12it/s]\u001b[A\n"
     ]
    },
    {
     "name": "stdout",
     "output_type": "stream",
     "text": [
      "generator loss:0.23029947586805913\n",
      "-----------------------\n"
     ]
    },
    {
     "name": "stderr",
     "output_type": "stream",
     "text": [
      "22it [08:31, 23.61s/it]\n",
      "  0%|          | 0/20 [00:00<?, ?it/s]\u001b[A"
     ]
    },
    {
     "name": "stdout",
     "output_type": "stream",
     "text": [
      "total discriminator loss:0.22134071091955188\n",
      "-----------------------\n",
      "Training Step: 23\n"
     ]
    },
    {
     "name": "stderr",
     "output_type": "stream",
     "text": [
      "\n",
      "  5%|▌         | 1/20 [00:01<00:26,  1.37s/it]\u001b[A\n",
      " 10%|█         | 2/20 [00:02<00:23,  1.33s/it]\u001b[A\n",
      " 15%|█▌        | 3/20 [00:04<00:22,  1.33s/it]\u001b[A\n",
      " 20%|██        | 4/20 [00:05<00:20,  1.27s/it]\u001b[A\n",
      " 25%|██▌       | 5/20 [00:06<00:19,  1.27s/it]\u001b[A\n",
      " 30%|███       | 6/20 [00:07<00:16,  1.21s/it]\u001b[A\n",
      " 35%|███▌      | 7/20 [00:08<00:14,  1.15s/it]\u001b[A\n",
      " 40%|████      | 8/20 [00:09<00:13,  1.10s/it]\u001b[A\n",
      " 45%|████▌     | 9/20 [00:10<00:12,  1.10s/it]\u001b[A\n",
      " 50%|█████     | 10/20 [00:11<00:10,  1.03s/it]\u001b[A\n",
      " 55%|█████▌    | 11/20 [00:12<00:08,  1.03it/s]\u001b[A\n",
      " 60%|██████    | 12/20 [00:13<00:07,  1.09it/s]\u001b[A\n",
      " 65%|██████▌   | 13/20 [00:14<00:06,  1.08it/s]\u001b[A\n",
      " 70%|███████   | 14/20 [00:14<00:05,  1.18it/s]\u001b[A\n",
      " 75%|███████▌  | 15/20 [00:15<00:03,  1.27it/s]\u001b[A\n",
      " 80%|████████  | 16/20 [00:16<00:02,  1.36it/s]\u001b[A\n",
      " 85%|████████▌ | 17/20 [00:16<00:02,  1.48it/s]\u001b[A\n",
      " 90%|█████████ | 18/20 [00:17<00:01,  1.61it/s]\u001b[A\n",
      " 95%|█████████▌| 19/20 [00:17<00:00,  1.76it/s]\u001b[A\n",
      "100%|██████████| 20/20 [00:17<00:00,  1.12it/s]\u001b[A\n"
     ]
    },
    {
     "name": "stdout",
     "output_type": "stream",
     "text": [
      "generator loss:0.2651480899767652\n",
      "-----------------------\n"
     ]
    },
    {
     "name": "stderr",
     "output_type": "stream",
     "text": [
      "23it [08:54, 23.38s/it]\n",
      "  0%|          | 0/20 [00:00<?, ?it/s]\u001b[A"
     ]
    },
    {
     "name": "stdout",
     "output_type": "stream",
     "text": [
      "total discriminator loss:0.21018493235393637\n",
      "-----------------------\n",
      "Training Step: 24\n"
     ]
    },
    {
     "name": "stderr",
     "output_type": "stream",
     "text": [
      "\n",
      "  5%|▌         | 1/20 [00:01<00:27,  1.47s/it]\u001b[A\n",
      " 10%|█         | 2/20 [00:02<00:25,  1.43s/it]\u001b[A\n",
      " 15%|█▌        | 3/20 [00:04<00:22,  1.34s/it]\u001b[A\n",
      " 20%|██        | 4/20 [00:05<00:21,  1.33s/it]\u001b[A\n",
      " 25%|██▌       | 5/20 [00:06<00:18,  1.25s/it]\u001b[A\n",
      " 30%|███       | 6/20 [00:07<00:16,  1.19s/it]\u001b[A\n",
      " 35%|███▌      | 7/20 [00:08<00:15,  1.19s/it]\u001b[A\n",
      " 40%|████      | 8/20 [00:09<00:13,  1.13s/it]\u001b[A\n",
      " 45%|████▌     | 9/20 [00:10<00:11,  1.07s/it]\u001b[A\n",
      " 50%|█████     | 10/20 [00:11<00:10,  1.01s/it]\u001b[A\n",
      " 55%|█████▌    | 11/20 [00:12<00:09,  1.01s/it]\u001b[A\n",
      " 60%|██████    | 12/20 [00:13<00:07,  1.07it/s]\u001b[A\n",
      " 65%|██████▌   | 13/20 [00:14<00:06,  1.15it/s]\u001b[A\n",
      " 70%|███████   | 14/20 [00:14<00:04,  1.22it/s]\u001b[A\n",
      " 75%|███████▌  | 15/20 [00:15<00:03,  1.31it/s]\u001b[A\n",
      " 80%|████████  | 16/20 [00:16<00:02,  1.40it/s]\u001b[A\n",
      " 85%|████████▌ | 17/20 [00:16<00:02,  1.38it/s]\u001b[A\n",
      " 90%|█████████ | 18/20 [00:17<00:01,  1.53it/s]\u001b[A\n",
      " 95%|█████████▌| 19/20 [00:17<00:00,  1.70it/s]\u001b[A\n",
      "100%|██████████| 20/20 [00:18<00:00,  1.10it/s]\u001b[A\n"
     ]
    },
    {
     "name": "stdout",
     "output_type": "stream",
     "text": [
      "generator loss:0.31001552573290797\n",
      "-----------------------\n"
     ]
    },
    {
     "name": "stderr",
     "output_type": "stream",
     "text": [
      "24it [09:17, 23.26s/it]\n",
      "  0%|          | 0/20 [00:00<?, ?it/s]\u001b[A"
     ]
    },
    {
     "name": "stdout",
     "output_type": "stream",
     "text": [
      "total discriminator loss:0.24868509788159635\n",
      "-----------------------\n",
      "Training Step: 25\n"
     ]
    },
    {
     "name": "stderr",
     "output_type": "stream",
     "text": [
      "\n",
      "  5%|▌         | 1/20 [00:01<00:26,  1.37s/it]\u001b[A\n",
      " 10%|█         | 2/20 [00:02<00:23,  1.32s/it]\u001b[A\n",
      " 15%|█▌        | 3/20 [00:04<00:22,  1.33s/it]\u001b[A\n",
      " 20%|██        | 4/20 [00:05<00:20,  1.27s/it]\u001b[A\n",
      " 25%|██▌       | 5/20 [00:06<00:19,  1.28s/it]\u001b[A\n",
      " 30%|███       | 6/20 [00:07<00:16,  1.20s/it]\u001b[A\n",
      " 35%|███▌      | 7/20 [00:08<00:14,  1.15s/it]\u001b[A\n",
      " 40%|████      | 8/20 [00:09<00:13,  1.10s/it]\u001b[A\n",
      " 45%|████▌     | 9/20 [00:10<00:12,  1.10s/it]\u001b[A\n",
      " 50%|█████     | 10/20 [00:11<00:10,  1.03s/it]\u001b[A\n",
      " 55%|█████▌    | 11/20 [00:12<00:08,  1.04it/s]\u001b[A\n",
      " 60%|██████    | 12/20 [00:13<00:07,  1.10it/s]\u001b[A\n",
      " 65%|██████▌   | 13/20 [00:14<00:06,  1.10it/s]\u001b[A\n",
      " 70%|███████   | 14/20 [00:14<00:05,  1.19it/s]\u001b[A\n",
      " 75%|███████▌  | 15/20 [00:15<00:03,  1.29it/s]\u001b[A\n",
      " 80%|████████  | 16/20 [00:15<00:02,  1.38it/s]\u001b[A\n",
      " 85%|████████▌ | 17/20 [00:16<00:01,  1.50it/s]\u001b[A\n",
      " 90%|█████████ | 18/20 [00:16<00:01,  1.64it/s]\u001b[A\n",
      " 95%|█████████▌| 19/20 [00:17<00:00,  1.80it/s]\u001b[A\n",
      "100%|██████████| 20/20 [00:17<00:00,  1.12it/s]\u001b[A\n"
     ]
    },
    {
     "name": "stdout",
     "output_type": "stream",
     "text": [
      "generator loss:0.22808742172727872\n",
      "-----------------------\n"
     ]
    },
    {
     "name": "stderr",
     "output_type": "stream",
     "text": [
      "25it [09:40, 23.09s/it]\n",
      "  0%|          | 0/20 [00:00<?, ?it/s]\u001b[A"
     ]
    },
    {
     "name": "stdout",
     "output_type": "stream",
     "text": [
      "total discriminator loss:0.20344031769229978\n",
      "-----------------------\n",
      "Training Step: 26\n"
     ]
    },
    {
     "name": "stderr",
     "output_type": "stream",
     "text": [
      "\n",
      "  5%|▌         | 1/20 [00:01<00:27,  1.47s/it]\u001b[A\n",
      " 10%|█         | 2/20 [00:02<00:25,  1.43s/it]\u001b[A\n",
      " 15%|█▌        | 3/20 [00:04<00:22,  1.35s/it]\u001b[A\n",
      " 20%|██        | 4/20 [00:05<00:21,  1.34s/it]\u001b[A\n",
      " 25%|██▌       | 5/20 [00:06<00:18,  1.26s/it]\u001b[A\n",
      " 30%|███       | 6/20 [00:07<00:16,  1.20s/it]\u001b[A\n",
      " 35%|███▌      | 7/20 [00:08<00:15,  1.20s/it]\u001b[A\n",
      " 40%|████      | 8/20 [00:09<00:13,  1.13s/it]\u001b[A\n",
      " 45%|████▌     | 9/20 [00:10<00:11,  1.07s/it]\u001b[A\n",
      " 50%|█████     | 10/20 [00:11<00:10,  1.01s/it]\u001b[A\n",
      " 55%|█████▌    | 11/20 [00:12<00:09,  1.02s/it]\u001b[A\n",
      " 60%|██████    | 12/20 [00:13<00:07,  1.03it/s]\u001b[A\n",
      " 65%|██████▌   | 13/20 [00:14<00:06,  1.11it/s]\u001b[A\n",
      " 70%|███████   | 14/20 [00:14<00:05,  1.20it/s]\u001b[A\n",
      " 75%|███████▌  | 15/20 [00:15<00:03,  1.29it/s]\u001b[A\n",
      " 80%|████████  | 16/20 [00:16<00:02,  1.38it/s]\u001b[A\n",
      " 85%|████████▌ | 17/20 [00:16<00:02,  1.36it/s]\u001b[A\n",
      " 90%|█████████ | 18/20 [00:17<00:01,  1.51it/s]\u001b[A\n",
      " 95%|█████████▌| 19/20 [00:17<00:00,  1.68it/s]\u001b[A\n",
      "100%|██████████| 20/20 [00:18<00:00,  1.09it/s]\u001b[A\n"
     ]
    },
    {
     "name": "stdout",
     "output_type": "stream",
     "text": [
      "generator loss:0.17351455489321413\n",
      "-----------------------\n"
     ]
    },
    {
     "name": "stderr",
     "output_type": "stream",
     "text": [
      "26it [10:03, 23.13s/it]\n",
      "  0%|          | 0/20 [00:00<?, ?it/s]\u001b[A"
     ]
    },
    {
     "name": "stdout",
     "output_type": "stream",
     "text": [
      "total discriminator loss:0.23516764246795607\n",
      "-----------------------\n",
      "Training Step: 27\n"
     ]
    },
    {
     "name": "stderr",
     "output_type": "stream",
     "text": [
      "\n",
      "  5%|▌         | 1/20 [00:01<00:25,  1.36s/it]\u001b[A\n",
      " 10%|█         | 2/20 [00:02<00:24,  1.33s/it]\u001b[A\n",
      " 15%|█▌        | 3/20 [00:04<00:22,  1.35s/it]\u001b[A\n",
      " 20%|██        | 4/20 [00:05<00:20,  1.28s/it]\u001b[A\n",
      " 25%|██▌       | 5/20 [00:06<00:19,  1.28s/it]\u001b[A\n",
      " 30%|███       | 6/20 [00:07<00:16,  1.21s/it]\u001b[A\n",
      " 35%|███▌      | 7/20 [00:08<00:14,  1.15s/it]\u001b[A\n",
      " 40%|████      | 8/20 [00:09<00:13,  1.10s/it]\u001b[A\n",
      " 45%|████▌     | 9/20 [00:10<00:12,  1.10s/it]\u001b[A\n",
      " 50%|█████     | 10/20 [00:11<00:10,  1.03s/it]\u001b[A\n",
      " 55%|█████▌    | 11/20 [00:12<00:08,  1.04it/s]\u001b[A\n",
      " 60%|██████    | 12/20 [00:13<00:07,  1.10it/s]\u001b[A\n",
      " 65%|██████▌   | 13/20 [00:14<00:06,  1.09it/s]\u001b[A\n",
      " 70%|███████   | 14/20 [00:14<00:05,  1.18it/s]\u001b[A\n",
      " 75%|███████▌  | 15/20 [00:15<00:03,  1.27it/s]\u001b[A\n",
      " 80%|████████  | 16/20 [00:16<00:02,  1.37it/s]\u001b[A\n",
      " 85%|████████▌ | 17/20 [00:16<00:02,  1.49it/s]\u001b[A\n",
      " 90%|█████████ | 18/20 [00:17<00:01,  1.63it/s]\u001b[A\n",
      " 95%|█████████▌| 19/20 [00:17<00:00,  1.79it/s]\u001b[A\n",
      "100%|██████████| 20/20 [00:17<00:00,  1.12it/s]\u001b[A\n"
     ]
    },
    {
     "name": "stdout",
     "output_type": "stream",
     "text": [
      "generator loss:0.1920243394346713\n",
      "-----------------------\n"
     ]
    },
    {
     "name": "stderr",
     "output_type": "stream",
     "text": [
      "27it [10:26, 23.01s/it]\n",
      "  0%|          | 0/20 [00:00<?, ?it/s]\u001b[A"
     ]
    },
    {
     "name": "stdout",
     "output_type": "stream",
     "text": [
      "total discriminator loss:0.21771423011226637\n",
      "-----------------------\n",
      "Training Step: 28\n"
     ]
    },
    {
     "name": "stderr",
     "output_type": "stream",
     "text": [
      "\n",
      "  5%|▌         | 1/20 [00:01<00:27,  1.44s/it]\u001b[A\n",
      " 10%|█         | 2/20 [00:02<00:25,  1.42s/it]\u001b[A\n",
      " 15%|█▌        | 3/20 [00:04<00:23,  1.38s/it]\u001b[A\n",
      " 20%|██        | 4/20 [00:05<00:21,  1.37s/it]\u001b[A\n",
      " 25%|██▌       | 5/20 [00:06<00:19,  1.29s/it]\u001b[A\n",
      " 30%|███       | 6/20 [00:07<00:16,  1.21s/it]\u001b[A\n",
      " 35%|███▌      | 7/20 [00:08<00:15,  1.22s/it]\u001b[A\n",
      " 40%|████      | 8/20 [00:09<00:13,  1.14s/it]\u001b[A\n",
      " 45%|████▌     | 9/20 [00:10<00:11,  1.07s/it]\u001b[A\n",
      " 50%|█████     | 10/20 [00:11<00:10,  1.01s/it]\u001b[A\n",
      " 55%|█████▌    | 11/20 [00:12<00:09,  1.02s/it]\u001b[A\n",
      " 60%|██████    | 12/20 [00:13<00:07,  1.06it/s]\u001b[A\n",
      " 65%|██████▌   | 13/20 [00:14<00:06,  1.13it/s]\u001b[A\n",
      " 70%|███████   | 14/20 [00:15<00:04,  1.21it/s]\u001b[A\n",
      " 75%|███████▌  | 15/20 [00:15<00:03,  1.29it/s]\u001b[A\n",
      " 80%|████████  | 16/20 [00:16<00:02,  1.38it/s]\u001b[A\n",
      " 85%|████████▌ | 17/20 [00:17<00:02,  1.36it/s]\u001b[A\n",
      " 90%|█████████ | 18/20 [00:17<00:01,  1.52it/s]\u001b[A\n",
      " 95%|█████████▌| 19/20 [00:17<00:00,  1.69it/s]\u001b[A\n",
      "100%|██████████| 20/20 [00:18<00:00,  1.09it/s]\u001b[A\n"
     ]
    },
    {
     "name": "stdout",
     "output_type": "stream",
     "text": [
      "generator loss:0.20542739796004636\n",
      "-----------------------\n"
     ]
    },
    {
     "name": "stderr",
     "output_type": "stream",
     "text": [
      "28it [10:49, 23.09s/it]\n",
      "  0%|          | 0/20 [00:00<?, ?it/s]\u001b[A"
     ]
    },
    {
     "name": "stdout",
     "output_type": "stream",
     "text": [
      "total discriminator loss:0.1952144014837809\n",
      "-----------------------\n",
      "Training Step: 29\n"
     ]
    },
    {
     "name": "stderr",
     "output_type": "stream",
     "text": [
      "\n",
      "  5%|▌         | 1/20 [00:01<00:25,  1.36s/it]\u001b[A\n",
      " 10%|█         | 2/20 [00:02<00:23,  1.32s/it]\u001b[A\n",
      " 15%|█▌        | 3/20 [00:04<00:22,  1.33s/it]\u001b[A\n",
      " 20%|██        | 4/20 [00:05<00:20,  1.27s/it]\u001b[A\n",
      " 25%|██▌       | 5/20 [00:06<00:18,  1.27s/it]\u001b[A\n",
      " 30%|███       | 6/20 [00:07<00:16,  1.20s/it]\u001b[A\n",
      " 35%|███▌      | 7/20 [00:08<00:14,  1.14s/it]\u001b[A\n",
      " 40%|████      | 8/20 [00:09<00:13,  1.14s/it]\u001b[A\n",
      " 45%|████▌     | 9/20 [00:10<00:11,  1.08s/it]\u001b[A\n",
      " 50%|█████     | 10/20 [00:11<00:10,  1.01s/it]\u001b[A\n",
      " 55%|█████▌    | 11/20 [00:12<00:08,  1.05it/s]\u001b[A\n",
      " 60%|██████    | 12/20 [00:13<00:07,  1.11it/s]\u001b[A\n",
      " 65%|██████▌   | 13/20 [00:13<00:06,  1.10it/s]\u001b[A\n",
      " 70%|███████   | 14/20 [00:14<00:05,  1.19it/s]\u001b[A\n",
      " 75%|███████▌  | 15/20 [00:15<00:03,  1.29it/s]\u001b[A\n",
      " 80%|████████  | 16/20 [00:15<00:02,  1.38it/s]\u001b[A\n",
      " 85%|████████▌ | 17/20 [00:16<00:01,  1.50it/s]\u001b[A\n",
      " 90%|█████████ | 18/20 [00:16<00:01,  1.64it/s]\u001b[A\n",
      " 95%|█████████▌| 19/20 [00:17<00:00,  1.80it/s]\u001b[A\n",
      "100%|██████████| 20/20 [00:17<00:00,  1.13it/s]\u001b[A\n"
     ]
    },
    {
     "name": "stdout",
     "output_type": "stream",
     "text": [
      "generator loss:0.20440329835425194\n",
      "-----------------------\n"
     ]
    },
    {
     "name": "stderr",
     "output_type": "stream",
     "text": [
      "29it [11:12, 23.02s/it]\n",
      "  0%|          | 0/20 [00:00<?, ?it/s]\u001b[A"
     ]
    },
    {
     "name": "stdout",
     "output_type": "stream",
     "text": [
      "total discriminator loss:0.18967269247904506\n",
      "-----------------------\n",
      "Training Step: 30\n"
     ]
    },
    {
     "name": "stderr",
     "output_type": "stream",
     "text": [
      "\n",
      "  5%|▌         | 1/20 [00:01<00:26,  1.37s/it]\u001b[A\n",
      " 10%|█         | 2/20 [00:02<00:24,  1.34s/it]\u001b[A\n",
      " 15%|█▌        | 3/20 [00:03<00:22,  1.30s/it]\u001b[A\n",
      " 20%|██        | 4/20 [00:05<00:20,  1.27s/it]\u001b[A\n",
      " 25%|██▌       | 5/20 [00:06<00:18,  1.22s/it]\u001b[A\n",
      " 30%|███       | 6/20 [00:07<00:17,  1.23s/it]\u001b[A\n",
      " 35%|███▌      | 7/20 [00:08<00:15,  1.17s/it]\u001b[A\n",
      " 40%|████      | 8/20 [00:09<00:13,  1.12s/it]\u001b[A\n",
      " 45%|████▌     | 9/20 [00:10<00:12,  1.14s/it]\u001b[A\n",
      " 50%|█████     | 10/20 [00:11<00:10,  1.06s/it]\u001b[A\n",
      " 55%|█████▌    | 11/20 [00:12<00:08,  1.00it/s]\u001b[A\n",
      " 60%|██████    | 12/20 [00:13<00:07,  1.08it/s]\u001b[A\n",
      " 65%|██████▌   | 13/20 [00:14<00:06,  1.15it/s]\u001b[A\n",
      " 70%|███████   | 14/20 [00:14<00:05,  1.15it/s]\u001b[A\n",
      " 75%|███████▌  | 15/20 [00:15<00:04,  1.25it/s]\u001b[A\n",
      " 80%|████████  | 16/20 [00:16<00:02,  1.35it/s]\u001b[A\n",
      " 85%|████████▌ | 17/20 [00:16<00:02,  1.48it/s]\u001b[A\n",
      " 90%|█████████ | 18/20 [00:17<00:01,  1.62it/s]\u001b[A\n",
      " 95%|█████████▌| 19/20 [00:17<00:00,  1.77it/s]\u001b[A\n",
      "100%|██████████| 20/20 [00:18<00:00,  1.11it/s]\u001b[A\n"
     ]
    },
    {
     "name": "stdout",
     "output_type": "stream",
     "text": [
      "generator loss:0.1554010041858474\n",
      "-----------------------\n"
     ]
    },
    {
     "name": "stderr",
     "output_type": "stream",
     "text": [
      "30it [11:35, 22.98s/it]\n",
      "  0%|          | 0/20 [00:00<?, ?it/s]\u001b[A"
     ]
    },
    {
     "name": "stdout",
     "output_type": "stream",
     "text": [
      "total discriminator loss:0.15018838203953255\n",
      "-----------------------\n",
      "Training Step: 31\n"
     ]
    },
    {
     "name": "stderr",
     "output_type": "stream",
     "text": [
      "\n",
      "  5%|▌         | 1/20 [00:01<00:27,  1.46s/it]\u001b[A\n",
      " 10%|█         | 2/20 [00:02<00:24,  1.36s/it]\u001b[A\n",
      " 15%|█▌        | 3/20 [00:04<00:23,  1.36s/it]\u001b[A\n",
      " 20%|██        | 4/20 [00:05<00:20,  1.29s/it]\u001b[A\n",
      " 25%|██▌       | 5/20 [00:06<00:19,  1.27s/it]\u001b[A\n",
      " 30%|███       | 6/20 [00:07<00:16,  1.20s/it]\u001b[A\n",
      " 35%|███▌      | 7/20 [00:08<00:14,  1.14s/it]\u001b[A\n",
      " 40%|████      | 8/20 [00:09<00:13,  1.14s/it]\u001b[A\n",
      " 45%|████▌     | 9/20 [00:10<00:11,  1.08s/it]\u001b[A\n",
      " 50%|█████     | 10/20 [00:11<00:10,  1.01s/it]\u001b[A\n",
      " 55%|█████▌    | 11/20 [00:12<00:08,  1.04it/s]\u001b[A\n",
      " 60%|██████    | 12/20 [00:13<00:07,  1.04it/s]\u001b[A\n",
      " 65%|██████▌   | 13/20 [00:14<00:06,  1.12it/s]\u001b[A\n",
      " 70%|███████   | 14/20 [00:14<00:04,  1.21it/s]\u001b[A\n",
      " 75%|███████▌  | 15/20 [00:15<00:03,  1.30it/s]\u001b[A\n",
      " 80%|████████  | 16/20 [00:16<00:02,  1.39it/s]\u001b[A\n",
      " 85%|████████▌ | 17/20 [00:16<00:01,  1.51it/s]\u001b[A\n",
      " 90%|█████████ | 18/20 [00:17<00:01,  1.64it/s]\u001b[A\n",
      " 95%|█████████▌| 19/20 [00:17<00:00,  1.61it/s]\u001b[A\n",
      "100%|██████████| 20/20 [00:18<00:00,  1.11it/s]\u001b[A\n"
     ]
    },
    {
     "name": "stdout",
     "output_type": "stream",
     "text": [
      "generator loss:0.18568751993486382\n",
      "-----------------------\n"
     ]
    },
    {
     "name": "stderr",
     "output_type": "stream",
     "text": [
      "31it [11:58, 22.98s/it]\n",
      "  0%|          | 0/20 [00:00<?, ?it/s]\u001b[A"
     ]
    },
    {
     "name": "stdout",
     "output_type": "stream",
     "text": [
      "total discriminator loss:0.1628193467860965\n",
      "-----------------------\n",
      "Training Step: 32\n"
     ]
    },
    {
     "name": "stderr",
     "output_type": "stream",
     "text": [
      "\n",
      "  5%|▌         | 1/20 [00:01<00:25,  1.36s/it]\u001b[A\n",
      " 10%|█         | 2/20 [00:02<00:23,  1.32s/it]\u001b[A\n",
      " 15%|█▌        | 3/20 [00:03<00:21,  1.28s/it]\u001b[A\n",
      " 20%|██        | 4/20 [00:05<00:20,  1.29s/it]\u001b[A\n",
      " 25%|██▌       | 5/20 [00:06<00:18,  1.23s/it]\u001b[A\n",
      " 30%|███       | 6/20 [00:07<00:16,  1.18s/it]\u001b[A\n",
      " 35%|███▌      | 7/20 [00:08<00:16,  1.27s/it]\u001b[A\n",
      " 40%|████      | 8/20 [00:10<00:15,  1.26s/it]\u001b[A\n",
      " 45%|████▌     | 9/20 [00:11<00:13,  1.22s/it]\u001b[A\n",
      " 50%|█████     | 10/20 [00:12<00:11,  1.18s/it]\u001b[A\n",
      " 55%|█████▌    | 11/20 [00:13<00:10,  1.20s/it]\u001b[A\n",
      " 60%|██████    | 12/20 [00:14<00:09,  1.13s/it]\u001b[A\n",
      " 65%|██████▌   | 13/20 [00:15<00:07,  1.07s/it]\u001b[A\n",
      " 70%|███████   | 14/20 [00:16<00:06,  1.03s/it]\u001b[A\n",
      " 75%|███████▌  | 15/20 [00:17<00:04,  1.04it/s]\u001b[A\n",
      " 80%|████████  | 16/20 [00:17<00:03,  1.11it/s]\u001b[A\n",
      " 85%|████████▌ | 17/20 [00:18<00:02,  1.11it/s]\u001b[A\n",
      " 90%|█████████ | 18/20 [00:19<00:01,  1.23it/s]\u001b[A\n",
      " 95%|█████████▌| 19/20 [00:20<00:00,  1.36it/s]\u001b[A\n",
      "100%|██████████| 20/20 [00:20<00:00,  1.03s/it]\u001b[A\n"
     ]
    },
    {
     "name": "stdout",
     "output_type": "stream",
     "text": [
      "generator loss:0.13874560153635568\n",
      "-----------------------\n"
     ]
    },
    {
     "name": "stderr",
     "output_type": "stream",
     "text": [
      "32it [12:24, 24.03s/it]\n",
      "  0%|          | 0/20 [00:00<?, ?it/s]\u001b[A"
     ]
    },
    {
     "name": "stdout",
     "output_type": "stream",
     "text": [
      "total discriminator loss:0.17636009942314934\n",
      "-----------------------\n",
      "Training Step: 33\n"
     ]
    },
    {
     "name": "stderr",
     "output_type": "stream",
     "text": [
      "\n",
      "  5%|▌         | 1/20 [00:01<00:33,  1.76s/it]\u001b[A\n",
      " 10%|█         | 2/20 [00:03<00:30,  1.70s/it]\u001b[A\n",
      " 15%|█▌        | 3/20 [00:05<00:29,  1.73s/it]\u001b[A\n",
      " 20%|██        | 4/20 [00:06<00:26,  1.66s/it]\u001b[A\n",
      " 25%|██▌       | 5/20 [00:08<00:23,  1.59s/it]\u001b[A\n",
      " 30%|███       | 6/20 [00:09<00:22,  1.58s/it]\u001b[A\n",
      " 35%|███▌      | 7/20 [00:11<00:19,  1.51s/it]\u001b[A\n",
      " 40%|████      | 8/20 [00:12<00:17,  1.44s/it]\u001b[A\n",
      " 45%|████▌     | 9/20 [00:13<00:15,  1.43s/it]\u001b[A\n",
      " 50%|█████     | 10/20 [00:14<00:13,  1.33s/it]\u001b[A\n",
      " 55%|█████▌    | 11/20 [00:16<00:11,  1.26s/it]\u001b[A\n",
      " 60%|██████    | 12/20 [00:17<00:09,  1.19s/it]\u001b[A\n",
      " 65%|██████▌   | 13/20 [00:18<00:08,  1.19s/it]\u001b[A\n",
      " 70%|███████   | 14/20 [00:19<00:06,  1.10s/it]\u001b[A\n",
      " 75%|███████▌  | 15/20 [00:19<00:05,  1.02s/it]\u001b[A\n",
      " 80%|████████  | 16/20 [00:20<00:03,  1.05it/s]\u001b[A\n",
      " 85%|████████▌ | 17/20 [00:21<00:02,  1.14it/s]\u001b[A\n",
      " 90%|█████████ | 18/20 [00:22<00:01,  1.23it/s]\u001b[A\n",
      " 95%|█████████▌| 19/20 [00:22<00:00,  1.39it/s]\u001b[A\n",
      "100%|██████████| 20/20 [00:23<00:00,  1.15s/it]\u001b[A\n"
     ]
    },
    {
     "name": "stdout",
     "output_type": "stream",
     "text": [
      "generator loss:0.1510110198801865\n",
      "-----------------------\n"
     ]
    },
    {
     "name": "stderr",
     "output_type": "stream",
     "text": [
      "33it [12:52, 25.19s/it]\n",
      "  0%|          | 0/20 [00:00<?, ?it/s]\u001b[A"
     ]
    },
    {
     "name": "stdout",
     "output_type": "stream",
     "text": [
      "total discriminator loss:0.14764384530509872\n",
      "-----------------------\n",
      "Training Step: 34\n"
     ]
    },
    {
     "name": "stderr",
     "output_type": "stream",
     "text": [
      "\n",
      "  5%|▌         | 1/20 [00:01<00:27,  1.45s/it]\u001b[A\n",
      " 10%|█         | 2/20 [00:02<00:25,  1.42s/it]\u001b[A\n",
      " 15%|█▌        | 3/20 [00:04<00:22,  1.33s/it]\u001b[A\n",
      " 20%|██        | 4/20 [00:05<00:21,  1.32s/it]\u001b[A\n",
      " 25%|██▌       | 5/20 [00:06<00:18,  1.26s/it]\u001b[A\n",
      " 30%|███       | 6/20 [00:07<00:16,  1.20s/it]\u001b[A\n",
      " 35%|███▌      | 7/20 [00:08<00:15,  1.20s/it]\u001b[A\n",
      " 40%|████      | 8/20 [00:09<00:13,  1.13s/it]\u001b[A\n",
      " 45%|████▌     | 9/20 [00:10<00:11,  1.07s/it]\u001b[A\n",
      " 50%|█████     | 10/20 [00:11<00:10,  1.01s/it]\u001b[A\n",
      " 55%|█████▌    | 11/20 [00:12<00:09,  1.01s/it]\u001b[A\n",
      " 60%|██████    | 12/20 [00:13<00:07,  1.06it/s]\u001b[A\n",
      " 65%|██████▌   | 13/20 [00:14<00:06,  1.14it/s]\u001b[A\n",
      " 70%|███████   | 14/20 [00:14<00:04,  1.23it/s]\u001b[A\n",
      " 75%|███████▌  | 15/20 [00:15<00:03,  1.31it/s]\u001b[A\n",
      " 80%|████████  | 16/20 [00:16<00:02,  1.40it/s]\u001b[A\n",
      " 85%|████████▌ | 17/20 [00:16<00:01,  1.51it/s]\u001b[A\n",
      " 90%|█████████ | 18/20 [00:17<00:01,  1.47it/s]\u001b[A\n",
      " 95%|█████████▌| 19/20 [00:17<00:00,  1.65it/s]\u001b[A\n",
      "100%|██████████| 20/20 [00:18<00:00,  1.10it/s]\u001b[A\n"
     ]
    },
    {
     "name": "stdout",
     "output_type": "stream",
     "text": [
      "generator loss:0.1684334926445943\n",
      "-----------------------\n"
     ]
    },
    {
     "name": "stderr",
     "output_type": "stream",
     "text": [
      "34it [13:15, 24.55s/it]\n",
      "  0%|          | 0/20 [00:00<?, ?it/s]\u001b[A"
     ]
    },
    {
     "name": "stdout",
     "output_type": "stream",
     "text": [
      "total discriminator loss:0.1434594718632045\n",
      "-----------------------\n",
      "Training Step: 35\n"
     ]
    },
    {
     "name": "stderr",
     "output_type": "stream",
     "text": [
      "\n",
      "  5%|▌         | 1/20 [00:01<00:25,  1.36s/it]\u001b[A\n",
      " 10%|█         | 2/20 [00:02<00:23,  1.32s/it]\u001b[A\n",
      " 15%|█▌        | 3/20 [00:03<00:21,  1.28s/it]\u001b[A\n",
      " 20%|██        | 4/20 [00:05<00:20,  1.29s/it]\u001b[A\n",
      " 25%|██▌       | 5/20 [00:06<00:18,  1.22s/it]\u001b[A\n",
      " 30%|███       | 6/20 [00:07<00:16,  1.18s/it]\u001b[A\n",
      " 35%|███▌      | 7/20 [00:08<00:15,  1.18s/it]\u001b[A\n",
      " 40%|████      | 8/20 [00:09<00:13,  1.12s/it]\u001b[A\n",
      " 45%|████▌     | 9/20 [00:10<00:11,  1.05s/it]\u001b[A\n",
      " 50%|█████     | 10/20 [00:11<00:10,  1.05s/it]\u001b[A\n",
      " 55%|█████▌    | 11/20 [00:12<00:08,  1.02it/s]\u001b[A\n",
      " 60%|██████    | 12/20 [00:13<00:07,  1.09it/s]\u001b[A\n",
      " 65%|██████▌   | 13/20 [00:13<00:06,  1.16it/s]\u001b[A\n",
      " 70%|███████   | 14/20 [00:14<00:04,  1.24it/s]\u001b[A\n",
      " 75%|███████▌  | 15/20 [00:15<00:03,  1.33it/s]\u001b[A\n",
      " 80%|████████  | 16/20 [00:15<00:03,  1.30it/s]\u001b[A\n",
      " 85%|████████▌ | 17/20 [00:16<00:02,  1.43it/s]\u001b[A\n",
      " 90%|█████████ | 18/20 [00:16<00:01,  1.58it/s]\u001b[A\n",
      " 95%|█████████▌| 19/20 [00:17<00:00,  1.75it/s]\u001b[A\n",
      "100%|██████████| 20/20 [00:17<00:00,  1.12it/s]\u001b[A\n"
     ]
    },
    {
     "name": "stdout",
     "output_type": "stream",
     "text": [
      "generator loss:0.15620854751679075\n",
      "-----------------------\n"
     ]
    },
    {
     "name": "stderr",
     "output_type": "stream",
     "text": [
      "35it [13:38, 24.00s/it]\n",
      "  0%|          | 0/20 [00:00<?, ?it/s]\u001b[A"
     ]
    },
    {
     "name": "stdout",
     "output_type": "stream",
     "text": [
      "total discriminator loss:0.13174129709014554\n",
      "-----------------------\n",
      "Training Step: 36\n"
     ]
    },
    {
     "name": "stderr",
     "output_type": "stream",
     "text": [
      "\n",
      "  5%|▌         | 1/20 [00:01<00:26,  1.37s/it]\u001b[A\n",
      " 10%|█         | 2/20 [00:02<00:23,  1.33s/it]\u001b[A\n",
      " 15%|█▌        | 3/20 [00:04<00:22,  1.34s/it]\u001b[A\n",
      " 20%|██        | 4/20 [00:05<00:20,  1.28s/it]\u001b[A\n",
      " 25%|██▌       | 5/20 [00:06<00:18,  1.27s/it]\u001b[A\n",
      " 30%|███       | 6/20 [00:07<00:16,  1.20s/it]\u001b[A\n",
      " 35%|███▌      | 7/20 [00:08<00:14,  1.15s/it]\u001b[A\n",
      " 40%|████      | 8/20 [00:09<00:13,  1.15s/it]\u001b[A\n",
      " 45%|████▌     | 9/20 [00:10<00:11,  1.09s/it]\u001b[A\n",
      " 50%|█████     | 10/20 [00:11<00:10,  1.02s/it]\u001b[A\n",
      " 55%|█████▌    | 11/20 [00:12<00:08,  1.04it/s]\u001b[A\n",
      " 60%|██████    | 12/20 [00:13<00:07,  1.04it/s]\u001b[A\n",
      " 65%|██████▌   | 13/20 [00:14<00:06,  1.12it/s]\u001b[A\n",
      " 70%|███████   | 14/20 [00:14<00:05,  1.20it/s]\u001b[A\n",
      " 75%|███████▌  | 15/20 [00:15<00:03,  1.29it/s]\u001b[A\n",
      " 80%|████████  | 16/20 [00:15<00:02,  1.39it/s]\u001b[A\n",
      " 85%|████████▌ | 17/20 [00:16<00:01,  1.51it/s]\u001b[A\n",
      " 90%|█████████ | 18/20 [00:17<00:01,  1.63it/s]\u001b[A\n",
      " 95%|█████████▌| 19/20 [00:17<00:00,  1.75it/s]\u001b[A\n",
      "100%|██████████| 20/20 [00:18<00:00,  1.10it/s]\u001b[A\n"
     ]
    },
    {
     "name": "stdout",
     "output_type": "stream",
     "text": [
      "generator loss:0.11690463335600891\n",
      "-----------------------\n"
     ]
    },
    {
     "name": "stderr",
     "output_type": "stream",
     "text": [
      "36it [14:01, 23.74s/it]\n",
      "  0%|          | 0/20 [00:00<?, ?it/s]\u001b[A"
     ]
    },
    {
     "name": "stdout",
     "output_type": "stream",
     "text": [
      "total discriminator loss:0.13949252366527953\n",
      "-----------------------\n",
      "Training Step: 37\n"
     ]
    },
    {
     "name": "stderr",
     "output_type": "stream",
     "text": [
      "\n",
      "  5%|▌         | 1/20 [00:01<00:25,  1.36s/it]\u001b[A\n",
      " 10%|█         | 2/20 [00:02<00:23,  1.32s/it]\u001b[A\n",
      " 15%|█▌        | 3/20 [00:03<00:21,  1.27s/it]\u001b[A\n",
      " 20%|██        | 4/20 [00:05<00:19,  1.24s/it]\u001b[A\n",
      " 25%|██▌       | 5/20 [00:06<00:18,  1.24s/it]\u001b[A\n",
      " 30%|███       | 6/20 [00:07<00:16,  1.18s/it]\u001b[A\n",
      " 35%|███▌      | 7/20 [00:08<00:15,  1.19s/it]\u001b[A\n",
      " 40%|████      | 8/20 [00:09<00:13,  1.13s/it]\u001b[A\n",
      " 45%|████▌     | 9/20 [00:10<00:11,  1.06s/it]\u001b[A\n",
      " 50%|█████     | 10/20 [00:11<00:10,  1.00s/it]\u001b[A\n",
      " 55%|█████▌    | 11/20 [00:12<00:09,  1.01s/it]\u001b[A\n",
      " 60%|██████    | 12/20 [00:13<00:07,  1.07it/s]\u001b[A\n",
      " 65%|██████▌   | 13/20 [00:13<00:06,  1.15it/s]\u001b[A\n",
      " 70%|███████   | 14/20 [00:14<00:04,  1.23it/s]\u001b[A\n",
      " 75%|███████▌  | 15/20 [00:15<00:03,  1.32it/s]\u001b[A\n",
      " 80%|████████  | 16/20 [00:15<00:02,  1.41it/s]\u001b[A\n",
      " 85%|████████▌ | 17/20 [00:16<00:01,  1.53it/s]\u001b[A\n",
      " 90%|█████████ | 18/20 [00:16<00:01,  1.66it/s]\u001b[A\n",
      " 95%|█████████▌| 19/20 [00:17<00:00,  1.62it/s]\u001b[A\n",
      "100%|██████████| 20/20 [00:17<00:00,  1.12it/s]\u001b[A\n"
     ]
    },
    {
     "name": "stdout",
     "output_type": "stream",
     "text": [
      "generator loss:0.13254305499712243\n",
      "-----------------------\n"
     ]
    },
    {
     "name": "stderr",
     "output_type": "stream",
     "text": [
      "37it [14:24, 23.43s/it]\n",
      "  0%|          | 0/20 [00:00<?, ?it/s]\u001b[A"
     ]
    },
    {
     "name": "stdout",
     "output_type": "stream",
     "text": [
      "total discriminator loss:0.12144180909830138\n",
      "-----------------------\n",
      "Training Step: 38\n"
     ]
    },
    {
     "name": "stderr",
     "output_type": "stream",
     "text": [
      "\n",
      "  5%|▌         | 1/20 [00:01<00:25,  1.35s/it]\u001b[A\n",
      " 10%|█         | 2/20 [00:02<00:23,  1.31s/it]\u001b[A\n",
      " 15%|█▌        | 3/20 [00:03<00:21,  1.27s/it]\u001b[A\n",
      " 20%|██        | 4/20 [00:05<00:20,  1.28s/it]\u001b[A\n",
      " 25%|██▌       | 5/20 [00:06<00:18,  1.22s/it]\u001b[A\n",
      " 30%|███       | 6/20 [00:07<00:16,  1.19s/it]\u001b[A\n",
      " 35%|███▌      | 7/20 [00:08<00:15,  1.20s/it]\u001b[A\n",
      " 40%|████      | 8/20 [00:09<00:13,  1.13s/it]\u001b[A\n",
      " 45%|████▌     | 9/20 [00:10<00:11,  1.07s/it]\u001b[A\n",
      " 50%|█████     | 10/20 [00:11<00:10,  1.09s/it]\u001b[A\n",
      " 55%|█████▌    | 11/20 [00:12<00:09,  1.01s/it]\u001b[A\n",
      " 60%|██████    | 12/20 [00:13<00:07,  1.07it/s]\u001b[A\n",
      " 65%|██████▌   | 13/20 [00:13<00:06,  1.15it/s]\u001b[A\n",
      " 70%|███████   | 14/20 [00:14<00:04,  1.23it/s]\u001b[A\n",
      " 75%|███████▌  | 15/20 [00:15<00:03,  1.32it/s]\u001b[A\n",
      " 80%|████████  | 16/20 [00:15<00:02,  1.41it/s]\u001b[A\n",
      " 85%|████████▌ | 17/20 [00:16<00:02,  1.39it/s]\u001b[A\n",
      " 90%|█████████ | 18/20 [00:17<00:01,  1.55it/s]\u001b[A\n",
      " 95%|█████████▌| 19/20 [00:17<00:00,  1.71it/s]\u001b[A\n",
      "100%|██████████| 20/20 [00:17<00:00,  1.11it/s]\u001b[A\n"
     ]
    },
    {
     "name": "stdout",
     "output_type": "stream",
     "text": [
      "generator loss:0.11421169190040412\n",
      "-----------------------\n"
     ]
    },
    {
     "name": "stderr",
     "output_type": "stream",
     "text": [
      "38it [14:47, 23.47s/it]\n",
      "  0%|          | 0/20 [00:00<?, ?it/s]\u001b[A"
     ]
    },
    {
     "name": "stdout",
     "output_type": "stream",
     "text": [
      "total discriminator loss:0.09980827107504336\n",
      "-----------------------\n",
      "Training Step: 39\n"
     ]
    },
    {
     "name": "stderr",
     "output_type": "stream",
     "text": [
      "\n",
      "  5%|▌         | 1/20 [00:01<00:32,  1.74s/it]\u001b[A\n",
      " 10%|█         | 2/20 [00:03<00:30,  1.68s/it]\u001b[A\n",
      " 15%|█▌        | 3/20 [00:05<00:28,  1.68s/it]\u001b[A\n",
      " 20%|██        | 4/20 [00:06<00:25,  1.61s/it]\u001b[A\n",
      " 25%|██▌       | 5/20 [00:08<00:23,  1.59s/it]\u001b[A\n",
      " 30%|███       | 6/20 [00:09<00:21,  1.51s/it]\u001b[A\n",
      " 35%|███▌      | 7/20 [00:10<00:18,  1.44s/it]\u001b[A\n",
      " 40%|████      | 8/20 [00:12<00:17,  1.44s/it]\u001b[A\n",
      " 45%|████▌     | 9/20 [00:13<00:14,  1.35s/it]\u001b[A\n",
      " 50%|█████     | 10/20 [00:14<00:12,  1.26s/it]\u001b[A\n",
      " 55%|█████▌    | 11/20 [00:15<00:10,  1.19s/it]\u001b[A\n",
      " 60%|██████    | 12/20 [00:16<00:08,  1.12s/it]\u001b[A\n",
      " 65%|██████▌   | 13/20 [00:17<00:07,  1.12s/it]\u001b[A\n",
      " 70%|███████   | 14/20 [00:18<00:06,  1.04s/it]\u001b[A\n",
      " 75%|███████▌  | 15/20 [00:19<00:04,  1.03it/s]\u001b[A\n",
      " 80%|████████  | 16/20 [00:19<00:03,  1.11it/s]\u001b[A\n",
      " 85%|████████▌ | 17/20 [00:20<00:02,  1.21it/s]\u001b[A\n",
      " 90%|█████████ | 18/20 [00:21<00:01,  1.31it/s]\u001b[A\n",
      " 95%|█████████▌| 19/20 [00:21<00:00,  1.44it/s]\u001b[A\n",
      "100%|██████████| 20/20 [00:22<00:00,  1.11s/it]\u001b[A\n"
     ]
    },
    {
     "name": "stdout",
     "output_type": "stream",
     "text": [
      "generator loss:0.11677311937730525\n",
      "-----------------------\n"
     ]
    },
    {
     "name": "stderr",
     "output_type": "stream",
     "text": [
      "39it [15:16, 24.97s/it]\n",
      "  0%|          | 0/20 [00:00<?, ?it/s]\u001b[A"
     ]
    },
    {
     "name": "stdout",
     "output_type": "stream",
     "text": [
      "total discriminator loss:0.1031235534502889\n",
      "-----------------------\n",
      "Training Step: 40\n"
     ]
    },
    {
     "name": "stderr",
     "output_type": "stream",
     "text": [
      "\n",
      "  5%|▌         | 1/20 [00:01<00:32,  1.72s/it]\u001b[A\n",
      " 10%|█         | 2/20 [00:03<00:29,  1.67s/it]\u001b[A\n",
      " 15%|█▌        | 3/20 [00:04<00:27,  1.60s/it]\u001b[A\n",
      " 20%|██        | 4/20 [00:06<00:24,  1.56s/it]\u001b[A\n",
      " 25%|██▌       | 5/20 [00:07<00:23,  1.57s/it]\u001b[A\n",
      " 30%|███       | 6/20 [00:09<00:20,  1.50s/it]\u001b[A\n",
      " 35%|███▌      | 7/20 [00:10<00:18,  1.43s/it]\u001b[A\n",
      " 40%|████      | 8/20 [00:12<00:17,  1.43s/it]\u001b[A\n",
      " 45%|████▌     | 9/20 [00:13<00:14,  1.33s/it]\u001b[A\n",
      " 50%|█████     | 10/20 [00:14<00:11,  1.19s/it]\u001b[A\n",
      " 55%|█████▌    | 11/20 [00:14<00:09,  1.07s/it]\u001b[A\n",
      " 60%|██████    | 12/20 [00:15<00:07,  1.02it/s]\u001b[A\n",
      " 65%|██████▌   | 13/20 [00:16<00:06,  1.04it/s]\u001b[A\n",
      " 70%|███████   | 14/20 [00:17<00:05,  1.14it/s]\u001b[A\n",
      " 75%|███████▌  | 15/20 [00:17<00:04,  1.25it/s]\u001b[A\n",
      " 80%|████████  | 16/20 [00:18<00:02,  1.35it/s]\u001b[A\n",
      " 85%|████████▌ | 17/20 [00:18<00:02,  1.48it/s]\u001b[A\n",
      " 90%|█████████ | 18/20 [00:19<00:01,  1.62it/s]\u001b[A\n",
      " 95%|█████████▌| 19/20 [00:19<00:00,  1.78it/s]\u001b[A\n",
      "100%|██████████| 20/20 [00:20<00:00,  1.01s/it]\u001b[A\n"
     ]
    },
    {
     "name": "stdout",
     "output_type": "stream",
     "text": [
      "generator loss:0.09725062066413594\n",
      "-----------------------\n"
     ]
    },
    {
     "name": "stderr",
     "output_type": "stream",
     "text": [
      "40it [15:41, 25.01s/it]\n",
      "  0%|          | 0/20 [00:00<?, ?it/s]\u001b[A"
     ]
    },
    {
     "name": "stdout",
     "output_type": "stream",
     "text": [
      "total discriminator loss:0.11063111681216237\n",
      "-----------------------\n",
      "Training Step: 41\n"
     ]
    },
    {
     "name": "stderr",
     "output_type": "stream",
     "text": [
      "\n",
      "  5%|▌         | 1/20 [00:01<00:27,  1.45s/it]\u001b[A\n",
      " 10%|█         | 2/20 [00:02<00:25,  1.42s/it]\u001b[A\n",
      " 15%|█▌        | 3/20 [00:04<00:22,  1.34s/it]\u001b[A\n",
      " 20%|██        | 4/20 [00:05<00:21,  1.33s/it]\u001b[A\n",
      " 25%|██▌       | 5/20 [00:06<00:18,  1.25s/it]\u001b[A\n",
      " 30%|███       | 6/20 [00:07<00:16,  1.20s/it]\u001b[A\n",
      " 35%|███▌      | 7/20 [00:08<00:15,  1.19s/it]\u001b[A\n",
      " 40%|████      | 8/20 [00:09<00:13,  1.12s/it]\u001b[A\n",
      " 45%|████▌     | 9/20 [00:10<00:11,  1.06s/it]\u001b[A\n",
      " 50%|█████     | 10/20 [00:11<00:10,  1.06s/it]\u001b[A\n",
      " 55%|█████▌    | 11/20 [00:12<00:08,  1.02it/s]\u001b[A\n",
      " 60%|██████    | 12/20 [00:13<00:07,  1.09it/s]\u001b[A\n",
      " 65%|██████▌   | 13/20 [00:14<00:06,  1.16it/s]\u001b[A\n",
      " 70%|███████   | 14/20 [00:14<00:04,  1.24it/s]\u001b[A\n",
      " 75%|███████▌  | 15/20 [00:15<00:03,  1.33it/s]\u001b[A\n",
      " 80%|████████  | 16/20 [00:16<00:03,  1.30it/s]\u001b[A\n",
      " 85%|████████▌ | 17/20 [00:16<00:02,  1.43it/s]\u001b[A\n",
      " 90%|█████████ | 18/20 [00:17<00:01,  1.58it/s]\u001b[A\n",
      " 95%|█████████▌| 19/20 [00:17<00:00,  1.75it/s]\u001b[A\n",
      "100%|██████████| 20/20 [00:18<00:00,  1.11it/s]\u001b[A\n"
     ]
    },
    {
     "name": "stdout",
     "output_type": "stream",
     "text": [
      "generator loss:0.09602487855843134\n",
      "-----------------------\n"
     ]
    },
    {
     "name": "stderr",
     "output_type": "stream",
     "text": [
      "41it [16:04, 24.37s/it]\n",
      "  0%|          | 0/20 [00:00<?, ?it/s]\u001b[A"
     ]
    },
    {
     "name": "stdout",
     "output_type": "stream",
     "text": [
      "total discriminator loss:0.11975465784301326\n",
      "-----------------------\n",
      "Training Step: 42\n"
     ]
    },
    {
     "name": "stderr",
     "output_type": "stream",
     "text": [
      "\n",
      "  5%|▌         | 1/20 [00:01<00:25,  1.35s/it]\u001b[A\n",
      " 10%|█         | 2/20 [00:02<00:23,  1.31s/it]\u001b[A\n",
      " 15%|█▌        | 3/20 [00:03<00:22,  1.33s/it]\u001b[A\n",
      " 20%|██        | 4/20 [00:05<00:20,  1.27s/it]\u001b[A\n",
      " 25%|██▌       | 5/20 [00:06<00:18,  1.26s/it]\u001b[A\n",
      " 30%|███       | 6/20 [00:07<00:16,  1.20s/it]\u001b[A\n",
      " 35%|███▌      | 7/20 [00:08<00:14,  1.14s/it]\u001b[A\n",
      " 40%|████      | 8/20 [00:09<00:13,  1.14s/it]\u001b[A\n",
      " 45%|████▌     | 9/20 [00:10<00:11,  1.07s/it]\u001b[A\n",
      " 50%|█████     | 10/20 [00:11<00:10,  1.01s/it]\u001b[A\n",
      " 55%|█████▌    | 11/20 [00:12<00:08,  1.05it/s]\u001b[A\n",
      " 60%|██████    | 12/20 [00:13<00:07,  1.04it/s]\u001b[A\n",
      " 65%|██████▌   | 13/20 [00:13<00:06,  1.12it/s]\u001b[A\n",
      " 70%|███████   | 14/20 [00:14<00:04,  1.21it/s]\u001b[A\n",
      " 75%|███████▌  | 15/20 [00:15<00:03,  1.30it/s]\u001b[A\n",
      " 80%|████████  | 16/20 [00:15<00:02,  1.38it/s]\u001b[A\n",
      " 85%|████████▌ | 17/20 [00:16<00:01,  1.50it/s]\u001b[A\n",
      " 90%|█████████ | 18/20 [00:16<00:01,  1.64it/s]\u001b[A\n",
      " 95%|█████████▌| 19/20 [00:17<00:00,  1.60it/s]\u001b[A\n",
      "100%|██████████| 20/20 [00:17<00:00,  1.11it/s]\u001b[A\n"
     ]
    },
    {
     "name": "stdout",
     "output_type": "stream",
     "text": [
      "generator loss:0.08697690929597976\n",
      "-----------------------\n"
     ]
    },
    {
     "name": "stderr",
     "output_type": "stream",
     "text": [
      "42it [16:26, 23.91s/it]\n",
      "  0%|          | 0/20 [00:00<?, ?it/s]\u001b[A"
     ]
    },
    {
     "name": "stdout",
     "output_type": "stream",
     "text": [
      "total discriminator loss:0.09341631767795992\n",
      "-----------------------\n",
      "Training Step: 43\n"
     ]
    },
    {
     "name": "stderr",
     "output_type": "stream",
     "text": [
      "\n",
      "  5%|▌         | 1/20 [00:01<00:26,  1.40s/it]\u001b[A\n",
      " 10%|█         | 2/20 [00:02<00:25,  1.40s/it]\u001b[A\n",
      " 15%|█▌        | 3/20 [00:04<00:22,  1.35s/it]\u001b[A\n",
      " 20%|██        | 4/20 [00:05<00:20,  1.31s/it]\u001b[A\n",
      " 25%|██▌       | 5/20 [00:06<00:19,  1.30s/it]\u001b[A\n",
      " 30%|███       | 6/20 [00:07<00:17,  1.23s/it]\u001b[A\n",
      " 35%|███▌      | 7/20 [00:08<00:15,  1.23s/it]\u001b[A\n",
      " 40%|████      | 8/20 [00:09<00:13,  1.15s/it]\u001b[A\n",
      " 45%|████▌     | 9/20 [00:10<00:11,  1.08s/it]\u001b[A\n",
      " 50%|█████     | 10/20 [00:11<00:10,  1.01s/it]\u001b[A\n",
      " 55%|█████▌    | 11/20 [00:12<00:08,  1.05it/s]\u001b[A\n",
      " 60%|██████    | 12/20 [00:13<00:07,  1.05it/s]\u001b[A\n",
      " 65%|██████▌   | 13/20 [00:14<00:06,  1.14it/s]\u001b[A\n",
      " 70%|███████   | 14/20 [00:14<00:04,  1.22it/s]\u001b[A\n",
      " 75%|███████▌  | 15/20 [00:15<00:03,  1.32it/s]\u001b[A\n",
      " 80%|████████  | 16/20 [00:16<00:02,  1.40it/s]\u001b[A\n",
      " 85%|████████▌ | 17/20 [00:16<00:01,  1.53it/s]\u001b[A\n",
      " 90%|█████████ | 18/20 [00:17<00:01,  1.66it/s]\u001b[A\n",
      " 95%|█████████▌| 19/20 [00:17<00:00,  1.61it/s]\u001b[A\n",
      "100%|██████████| 20/20 [00:18<00:00,  1.10it/s]\u001b[A\n"
     ]
    },
    {
     "name": "stdout",
     "output_type": "stream",
     "text": [
      "generator loss:0.08608297502321267\n",
      "-----------------------\n"
     ]
    },
    {
     "name": "stderr",
     "output_type": "stream",
     "text": [
      "43it [16:49, 23.62s/it]\n",
      "  0%|          | 0/20 [00:00<?, ?it/s]\u001b[A"
     ]
    },
    {
     "name": "stdout",
     "output_type": "stream",
     "text": [
      "total discriminator loss:0.08444413034665174\n",
      "-----------------------\n",
      "Training Step: 44\n"
     ]
    },
    {
     "name": "stderr",
     "output_type": "stream",
     "text": [
      "\n",
      "  5%|▌         | 1/20 [00:01<00:25,  1.35s/it]\u001b[A\n",
      " 10%|█         | 2/20 [00:02<00:23,  1.32s/it]\u001b[A\n",
      " 15%|█▌        | 3/20 [00:03<00:22,  1.31s/it]\u001b[A\n",
      " 20%|██        | 4/20 [00:05<00:20,  1.31s/it]\u001b[A\n",
      " 25%|██▌       | 5/20 [00:06<00:18,  1.24s/it]\u001b[A\n",
      " 30%|███       | 6/20 [00:07<00:16,  1.18s/it]\u001b[A\n",
      " 35%|███▌      | 7/20 [00:08<00:15,  1.18s/it]\u001b[A\n",
      " 40%|████      | 8/20 [00:09<00:13,  1.11s/it]\u001b[A\n",
      " 45%|████▌     | 9/20 [00:10<00:11,  1.06s/it]\u001b[A\n",
      " 50%|█████     | 10/20 [00:11<00:09,  1.00it/s]\u001b[A\n",
      " 55%|█████▌    | 11/20 [00:12<00:08,  1.00it/s]\u001b[A\n",
      " 60%|██████    | 12/20 [00:13<00:07,  1.07it/s]\u001b[A\n",
      " 65%|██████▌   | 13/20 [00:13<00:06,  1.15it/s]\u001b[A\n",
      " 70%|███████   | 14/20 [00:14<00:04,  1.23it/s]\u001b[A\n",
      " 75%|███████▌  | 15/20 [00:15<00:03,  1.32it/s]\u001b[A\n",
      " 80%|████████  | 16/20 [00:15<00:02,  1.41it/s]\u001b[A\n",
      " 85%|████████▌ | 17/20 [00:16<00:02,  1.39it/s]\u001b[A\n",
      " 90%|█████████ | 18/20 [00:17<00:01,  1.55it/s]\u001b[A\n",
      " 95%|█████████▌| 19/20 [00:17<00:00,  1.72it/s]\u001b[A\n",
      "100%|██████████| 20/20 [00:17<00:00,  1.12it/s]\u001b[A\n"
     ]
    },
    {
     "name": "stdout",
     "output_type": "stream",
     "text": [
      "generator loss:0.09537141130032001\n",
      "-----------------------\n"
     ]
    },
    {
     "name": "stderr",
     "output_type": "stream",
     "text": [
      "44it [17:12, 23.36s/it]\n",
      "  0%|          | 0/20 [00:00<?, ?it/s]\u001b[A"
     ]
    },
    {
     "name": "stdout",
     "output_type": "stream",
     "text": [
      "total discriminator loss:0.09554013082142132\n",
      "-----------------------\n",
      "Training Step: 45\n"
     ]
    },
    {
     "name": "stderr",
     "output_type": "stream",
     "text": [
      "\n",
      "  5%|▌         | 1/20 [00:01<00:26,  1.38s/it]\u001b[A\n",
      " 10%|█         | 2/20 [00:02<00:27,  1.51s/it]\u001b[A\n",
      " 15%|█▌        | 3/20 [00:04<00:26,  1.57s/it]\u001b[A\n",
      " 20%|██        | 4/20 [00:06<00:24,  1.53s/it]\u001b[A\n",
      " 25%|██▌       | 5/20 [00:07<00:23,  1.53s/it]\u001b[A\n",
      " 30%|███       | 6/20 [00:08<00:20,  1.46s/it]\u001b[A\n",
      " 35%|███▌      | 7/20 [00:10<00:18,  1.41s/it]\u001b[A\n",
      " 40%|████      | 8/20 [00:11<00:16,  1.34s/it]\u001b[A\n",
      " 45%|████▌     | 9/20 [00:12<00:14,  1.34s/it]\u001b[A\n",
      " 50%|█████     | 10/20 [00:13<00:12,  1.26s/it]\u001b[A\n",
      " 55%|█████▌    | 11/20 [00:14<00:10,  1.18s/it]\u001b[A\n",
      " 60%|██████    | 12/20 [00:15<00:08,  1.12s/it]\u001b[A\n",
      " 65%|██████▌   | 13/20 [00:16<00:07,  1.12s/it]\u001b[A\n",
      " 70%|███████   | 14/20 [00:17<00:06,  1.04s/it]\u001b[A\n",
      " 75%|███████▌  | 15/20 [00:18<00:04,  1.04it/s]\u001b[A\n",
      " 80%|████████  | 16/20 [00:19<00:03,  1.12it/s]\u001b[A\n",
      " 85%|████████▌ | 17/20 [00:19<00:02,  1.22it/s]\u001b[A\n",
      " 90%|█████████ | 18/20 [00:20<00:01,  1.33it/s]\u001b[A\n",
      " 95%|█████████▌| 19/20 [00:21<00:00,  1.46it/s]\u001b[A\n",
      "100%|██████████| 20/20 [00:21<00:00,  1.08s/it]\u001b[A\n"
     ]
    },
    {
     "name": "stdout",
     "output_type": "stream",
     "text": [
      "generator loss:0.0696420600951905\n",
      "-----------------------\n"
     ]
    },
    {
     "name": "stderr",
     "output_type": "stream",
     "text": [
      "45it [17:40, 24.57s/it]\n",
      "  0%|          | 0/20 [00:00<?, ?it/s]\u001b[A"
     ]
    },
    {
     "name": "stdout",
     "output_type": "stream",
     "text": [
      "total discriminator loss:0.10358142759704622\n",
      "-----------------------\n",
      "Training Step: 46\n"
     ]
    },
    {
     "name": "stderr",
     "output_type": "stream",
     "text": [
      "\n",
      "  5%|▌         | 1/20 [00:01<00:33,  1.78s/it]\u001b[A\n",
      " 10%|█         | 2/20 [00:03<00:31,  1.75s/it]\u001b[A\n",
      " 15%|█▌        | 3/20 [00:05<00:28,  1.66s/it]\u001b[A\n",
      " 20%|██        | 4/20 [00:06<00:26,  1.66s/it]\u001b[A\n",
      " 25%|██▌       | 5/20 [00:08<00:23,  1.57s/it]\u001b[A\n",
      " 30%|███       | 6/20 [00:09<00:20,  1.49s/it]\u001b[A\n",
      " 35%|███▌      | 7/20 [00:10<00:19,  1.47s/it]\u001b[A\n",
      " 40%|████      | 8/20 [00:12<00:16,  1.38s/it]\u001b[A\n",
      " 45%|████▌     | 9/20 [00:13<00:14,  1.30s/it]\u001b[A\n",
      " 50%|█████     | 10/20 [00:14<00:12,  1.23s/it]\u001b[A\n",
      " 55%|█████▌    | 11/20 [00:15<00:11,  1.23s/it]\u001b[A\n",
      " 60%|██████    | 12/20 [00:16<00:09,  1.14s/it]\u001b[A\n",
      " 65%|██████▌   | 13/20 [00:17<00:07,  1.07s/it]\u001b[A\n",
      " 70%|███████   | 14/20 [00:18<00:05,  1.00it/s]\u001b[A\n",
      " 75%|███████▌  | 15/20 [00:18<00:04,  1.07it/s]\u001b[A\n",
      " 80%|████████  | 16/20 [00:19<00:03,  1.15it/s]\u001b[A\n",
      " 85%|████████▌ | 17/20 [00:20<00:02,  1.14it/s]\u001b[A\n",
      " 90%|█████████ | 18/20 [00:21<00:01,  1.26it/s]\u001b[A\n",
      " 95%|█████████▌| 19/20 [00:21<00:00,  1.40it/s]\u001b[A\n",
      "100%|██████████| 20/20 [00:22<00:00,  1.11s/it]\u001b[A\n"
     ]
    },
    {
     "name": "stdout",
     "output_type": "stream",
     "text": [
      "generator loss:0.07400985425042744\n",
      "-----------------------\n"
     ]
    },
    {
     "name": "stderr",
     "output_type": "stream",
     "text": [
      "46it [18:07, 25.58s/it]\n",
      "  0%|          | 0/20 [00:00<?, ?it/s]\u001b[A"
     ]
    },
    {
     "name": "stdout",
     "output_type": "stream",
     "text": [
      "total discriminator loss:0.07950556975322856\n",
      "-----------------------\n",
      "Training Step: 47\n"
     ]
    },
    {
     "name": "stderr",
     "output_type": "stream",
     "text": [
      "\n",
      "  5%|▌         | 1/20 [00:01<00:31,  1.67s/it]\u001b[A\n",
      " 10%|█         | 2/20 [00:03<00:28,  1.60s/it]\u001b[A\n",
      " 15%|█▌        | 3/20 [00:04<00:27,  1.63s/it]\u001b[A\n",
      " 20%|██        | 4/20 [00:06<00:25,  1.57s/it]\u001b[A\n",
      " 25%|██▌       | 5/20 [00:07<00:23,  1.56s/it]\u001b[A\n",
      " 30%|███       | 6/20 [00:09<00:20,  1.49s/it]\u001b[A\n",
      " 35%|███▌      | 7/20 [00:10<00:18,  1.42s/it]\u001b[A\n",
      " 40%|████      | 8/20 [00:11<00:16,  1.36s/it]\u001b[A\n",
      " 45%|████▌     | 9/20 [00:13<00:14,  1.35s/it]\u001b[A\n",
      " 50%|█████     | 10/20 [00:14<00:12,  1.26s/it]\u001b[A\n",
      " 55%|█████▌    | 11/20 [00:15<00:10,  1.18s/it]\u001b[A\n",
      " 60%|██████    | 12/20 [00:16<00:08,  1.11s/it]\u001b[A\n",
      " 65%|██████▌   | 13/20 [00:17<00:07,  1.12s/it]\u001b[A\n",
      " 70%|███████   | 14/20 [00:18<00:06,  1.03s/it]\u001b[A\n",
      " 75%|███████▌  | 15/20 [00:18<00:04,  1.05it/s]\u001b[A\n",
      " 80%|████████  | 16/20 [00:19<00:03,  1.12it/s]\u001b[A\n",
      " 85%|████████▌ | 17/20 [00:20<00:02,  1.23it/s]\u001b[A\n",
      " 90%|█████████ | 18/20 [00:20<00:01,  1.33it/s]\u001b[A\n",
      " 95%|█████████▌| 19/20 [00:21<00:00,  1.46it/s]\u001b[A\n",
      "100%|██████████| 20/20 [00:21<00:00,  1.09s/it]\u001b[A\n"
     ]
    },
    {
     "name": "stdout",
     "output_type": "stream",
     "text": [
      "generator loss:0.07923058627146153\n",
      "-----------------------\n"
     ]
    },
    {
     "name": "stderr",
     "output_type": "stream",
     "text": [
      "47it [18:35, 26.20s/it]\n",
      "  0%|          | 0/20 [00:00<?, ?it/s]\u001b[A"
     ]
    },
    {
     "name": "stdout",
     "output_type": "stream",
     "text": [
      "total discriminator loss:0.0706147793613608\n",
      "-----------------------\n",
      "Training Step: 48\n"
     ]
    },
    {
     "name": "stderr",
     "output_type": "stream",
     "text": [
      "\n",
      "  5%|▌         | 1/20 [00:01<00:33,  1.79s/it]\u001b[A\n",
      " 10%|█         | 2/20 [00:03<00:31,  1.76s/it]\u001b[A\n",
      " 15%|█▌        | 3/20 [00:05<00:28,  1.66s/it]\u001b[A\n",
      " 20%|██        | 4/20 [00:06<00:26,  1.64s/it]\u001b[A\n",
      " 25%|██▌       | 5/20 [00:08<00:23,  1.55s/it]\u001b[A\n",
      " 30%|███       | 6/20 [00:09<00:20,  1.47s/it]\u001b[A\n",
      " 35%|███▌      | 7/20 [00:10<00:19,  1.47s/it]\u001b[A\n",
      " 40%|████      | 8/20 [00:12<00:16,  1.39s/it]\u001b[A\n",
      " 45%|████▌     | 9/20 [00:13<00:14,  1.32s/it]\u001b[A\n",
      " 50%|█████     | 10/20 [00:14<00:12,  1.25s/it]\u001b[A\n",
      " 55%|█████▌    | 11/20 [00:15<00:11,  1.23s/it]\u001b[A\n",
      " 60%|██████    | 12/20 [00:16<00:09,  1.15s/it]\u001b[A\n",
      " 65%|██████▌   | 13/20 [00:17<00:07,  1.08s/it]\u001b[A\n",
      " 70%|███████   | 14/20 [00:18<00:06,  1.00s/it]\u001b[A\n",
      " 75%|███████▌  | 15/20 [00:18<00:04,  1.07it/s]\u001b[A\n",
      " 80%|████████  | 16/20 [00:19<00:03,  1.14it/s]\u001b[A\n",
      " 85%|████████▌ | 17/20 [00:20<00:02,  1.13it/s]\u001b[A\n",
      " 90%|█████████ | 18/20 [00:21<00:01,  1.24it/s]\u001b[A\n",
      " 95%|█████████▌| 19/20 [00:21<00:00,  1.38it/s]\u001b[A\n",
      "100%|██████████| 20/20 [00:22<00:00,  1.12s/it]\u001b[A\n"
     ]
    },
    {
     "name": "stdout",
     "output_type": "stream",
     "text": [
      "generator loss:0.059805195177140766\n",
      "-----------------------\n"
     ]
    },
    {
     "name": "stderr",
     "output_type": "stream",
     "text": [
      "48it [19:03, 26.76s/it]\n",
      "  0%|          | 0/20 [00:00<?, ?it/s]\u001b[A"
     ]
    },
    {
     "name": "stdout",
     "output_type": "stream",
     "text": [
      "total discriminator loss:0.07972838437422784\n",
      "-----------------------\n",
      "Training Step: 49\n"
     ]
    },
    {
     "name": "stderr",
     "output_type": "stream",
     "text": [
      "\n",
      "  5%|▌         | 1/20 [00:01<00:32,  1.70s/it]\u001b[A\n",
      " 10%|█         | 2/20 [00:03<00:29,  1.63s/it]\u001b[A\n",
      " 15%|█▌        | 3/20 [00:04<00:27,  1.63s/it]\u001b[A\n",
      " 20%|██        | 4/20 [00:06<00:25,  1.58s/it]\u001b[A\n",
      " 25%|██▌       | 5/20 [00:07<00:23,  1.57s/it]\u001b[A\n",
      " 30%|███       | 6/20 [00:09<00:20,  1.48s/it]\u001b[A\n",
      " 35%|███▌      | 7/20 [00:10<00:18,  1.41s/it]\u001b[A\n",
      " 40%|████      | 8/20 [00:11<00:16,  1.35s/it]\u001b[A\n",
      " 45%|████▌     | 9/20 [00:13<00:14,  1.36s/it]\u001b[A\n",
      " 50%|█████     | 10/20 [00:14<00:12,  1.28s/it]\u001b[A\n",
      " 55%|█████▌    | 11/20 [00:15<00:10,  1.20s/it]\u001b[A\n",
      " 60%|██████    | 12/20 [00:16<00:09,  1.13s/it]\u001b[A\n",
      " 65%|██████▌   | 13/20 [00:17<00:07,  1.13s/it]\u001b[A\n",
      " 70%|███████   | 14/20 [00:18<00:06,  1.05s/it]\u001b[A\n",
      " 75%|███████▌  | 15/20 [00:18<00:04,  1.03it/s]\u001b[A\n",
      " 80%|████████  | 16/20 [00:19<00:03,  1.08it/s]\u001b[A\n",
      " 85%|████████▌ | 17/20 [00:20<00:02,  1.19it/s]\u001b[A\n",
      " 90%|█████████ | 18/20 [00:21<00:01,  1.29it/s]\u001b[A\n",
      " 95%|█████████▌| 19/20 [00:21<00:00,  1.42it/s]\u001b[A\n",
      "100%|██████████| 20/20 [00:22<00:00,  1.11s/it]\u001b[A\n"
     ]
    },
    {
     "name": "stdout",
     "output_type": "stream",
     "text": [
      "generator loss:0.06573803281556813\n",
      "-----------------------\n"
     ]
    },
    {
     "name": "stderr",
     "output_type": "stream",
     "text": [
      "49it [19:31, 27.05s/it]\n",
      "  0%|          | 0/20 [00:00<?, ?it/s]\u001b[A"
     ]
    },
    {
     "name": "stdout",
     "output_type": "stream",
     "text": [
      "total discriminator loss:0.0741228507710275\n",
      "-----------------------\n",
      "Training Step: 50\n"
     ]
    },
    {
     "name": "stderr",
     "output_type": "stream",
     "text": [
      "\n",
      "  5%|▌         | 1/20 [00:01<00:33,  1.75s/it]\u001b[A\n",
      " 10%|█         | 2/20 [00:03<00:31,  1.74s/it]\u001b[A\n",
      " 15%|█▌        | 3/20 [00:05<00:27,  1.65s/it]\u001b[A\n",
      " 20%|██        | 4/20 [00:06<00:26,  1.63s/it]\u001b[A\n",
      " 25%|██▌       | 5/20 [00:07<00:22,  1.53s/it]\u001b[A\n",
      " 30%|███       | 6/20 [00:09<00:20,  1.46s/it]\u001b[A\n",
      " 35%|███▌      | 7/20 [00:10<00:19,  1.46s/it]\u001b[A\n",
      " 40%|████      | 8/20 [00:11<00:16,  1.38s/it]\u001b[A\n",
      " 45%|████▌     | 9/20 [00:13<00:14,  1.31s/it]\u001b[A\n",
      " 50%|█████     | 10/20 [00:14<00:12,  1.24s/it]\u001b[A\n",
      " 55%|█████▌    | 11/20 [00:15<00:11,  1.23s/it]\u001b[A\n",
      " 60%|██████    | 12/20 [00:16<00:09,  1.15s/it]\u001b[A\n",
      " 65%|██████▌   | 13/20 [00:17<00:07,  1.08s/it]\u001b[A\n",
      " 70%|███████   | 14/20 [00:18<00:06,  1.01s/it]\u001b[A\n",
      " 75%|███████▌  | 15/20 [00:18<00:04,  1.06it/s]\u001b[A\n",
      " 80%|████████  | 16/20 [00:19<00:03,  1.13it/s]\u001b[A\n",
      " 85%|████████▌ | 17/20 [00:20<00:02,  1.12it/s]\u001b[A\n",
      " 90%|█████████ | 18/20 [00:21<00:01,  1.24it/s]\u001b[A\n",
      " 95%|█████████▌| 19/20 [00:21<00:00,  1.38it/s]\u001b[A\n",
      "100%|██████████| 20/20 [00:22<00:00,  1.11s/it]\u001b[A\n"
     ]
    },
    {
     "name": "stdout",
     "output_type": "stream",
     "text": [
      "generator loss:0.05475609677197588\n",
      "-----------------------\n"
     ]
    },
    {
     "name": "stderr",
     "output_type": "stream",
     "text": [
      "50it [19:59, 27.34s/it]\n",
      "  0%|          | 0/20 [00:00<?, ?it/s]\u001b[A"
     ]
    },
    {
     "name": "stdout",
     "output_type": "stream",
     "text": [
      "total discriminator loss:0.07641364540870962\n",
      "-----------------------\n",
      "Training Step: 51\n"
     ]
    },
    {
     "name": "stderr",
     "output_type": "stream",
     "text": [
      "\n",
      "  5%|▌         | 1/20 [00:01<00:32,  1.73s/it]\u001b[A\n",
      " 10%|█         | 2/20 [00:03<00:30,  1.69s/it]\u001b[A\n",
      " 15%|█▌        | 3/20 [00:05<00:28,  1.70s/it]\u001b[A\n",
      " 20%|██        | 4/20 [00:06<00:25,  1.61s/it]\u001b[A\n",
      " 25%|██▌       | 5/20 [00:08<00:23,  1.59s/it]\u001b[A\n",
      " 30%|███       | 6/20 [00:09<00:21,  1.50s/it]\u001b[A\n",
      " 35%|███▌      | 7/20 [00:10<00:18,  1.42s/it]\u001b[A\n",
      " 40%|████      | 8/20 [00:12<00:16,  1.41s/it]\u001b[A\n",
      " 45%|████▌     | 9/20 [00:13<00:14,  1.34s/it]\u001b[A\n",
      " 50%|█████     | 10/20 [00:14<00:12,  1.25s/it]\u001b[A\n",
      " 55%|█████▌    | 11/20 [00:15<00:10,  1.18s/it]\u001b[A\n",
      " 60%|██████    | 12/20 [00:16<00:08,  1.11s/it]\u001b[A\n",
      " 65%|██████▌   | 13/20 [00:17<00:07,  1.12s/it]\u001b[A\n",
      " 70%|███████   | 14/20 [00:18<00:06,  1.04s/it]\u001b[A\n",
      " 75%|███████▌  | 15/20 [00:19<00:04,  1.04it/s]\u001b[A\n",
      " 80%|████████  | 16/20 [00:19<00:03,  1.12it/s]\u001b[A\n",
      " 85%|████████▌ | 17/20 [00:20<00:02,  1.21it/s]\u001b[A\n",
      " 90%|█████████ | 18/20 [00:21<00:01,  1.32it/s]\u001b[A\n",
      " 95%|█████████▌| 19/20 [00:21<00:00,  1.44it/s]\u001b[A\n",
      "100%|██████████| 20/20 [00:22<00:00,  1.11s/it]\u001b[A\n"
     ]
    },
    {
     "name": "stdout",
     "output_type": "stream",
     "text": [
      "generator loss:0.058199721883074006\n",
      "-----------------------\n"
     ]
    },
    {
     "name": "stderr",
     "output_type": "stream",
     "text": [
      "51it [20:27, 27.58s/it]\n",
      "  0%|          | 0/20 [00:00<?, ?it/s]\u001b[A"
     ]
    },
    {
     "name": "stdout",
     "output_type": "stream",
     "text": [
      "total discriminator loss:0.08386882662812571\n",
      "-----------------------\n",
      "Training Step: 52\n"
     ]
    },
    {
     "name": "stderr",
     "output_type": "stream",
     "text": [
      "\n",
      "  5%|▌         | 1/20 [00:01<00:32,  1.72s/it]\u001b[A\n",
      " 10%|█         | 2/20 [00:03<00:29,  1.65s/it]\u001b[A\n",
      " 15%|█▌        | 3/20 [00:04<00:27,  1.60s/it]\u001b[A\n",
      " 20%|██        | 4/20 [00:06<00:25,  1.56s/it]\u001b[A\n",
      " 25%|██▌       | 5/20 [00:07<00:22,  1.49s/it]\u001b[A\n",
      " 30%|███       | 6/20 [00:09<00:21,  1.54s/it]\u001b[A\n",
      " 35%|███▌      | 7/20 [00:10<00:18,  1.46s/it]\u001b[A\n",
      " 40%|████      | 8/20 [00:11<00:16,  1.38s/it]\u001b[A\n",
      " 45%|████▌     | 9/20 [00:13<00:15,  1.36s/it]\u001b[A\n",
      " 50%|█████     | 10/20 [00:14<00:12,  1.27s/it]\u001b[A\n",
      " 55%|█████▌    | 11/20 [00:15<00:10,  1.19s/it]\u001b[A\n",
      " 60%|██████    | 12/20 [00:16<00:09,  1.13s/it]\u001b[A\n",
      " 65%|██████▌   | 13/20 [00:17<00:07,  1.05s/it]\u001b[A\n",
      " 70%|███████   | 14/20 [00:18<00:06,  1.05s/it]\u001b[A\n",
      " 75%|███████▌  | 15/20 [00:18<00:04,  1.03it/s]\u001b[A\n",
      " 80%|████████  | 16/20 [00:19<00:03,  1.10it/s]\u001b[A\n",
      " 85%|████████▌ | 17/20 [00:20<00:02,  1.21it/s]\u001b[A\n",
      " 90%|█████████ | 18/20 [00:20<00:01,  1.32it/s]\u001b[A\n",
      " 95%|█████████▌| 19/20 [00:21<00:00,  1.44it/s]\u001b[A\n",
      "100%|██████████| 20/20 [00:22<00:00,  1.10s/it]\u001b[A\n"
     ]
    },
    {
     "name": "stdout",
     "output_type": "stream",
     "text": [
      "generator loss:0.053164204738462326\n",
      "-----------------------\n"
     ]
    },
    {
     "name": "stderr",
     "output_type": "stream",
     "text": [
      "52it [20:55, 27.66s/it]\n",
      "  0%|          | 0/20 [00:00<?, ?it/s]\u001b[A"
     ]
    },
    {
     "name": "stdout",
     "output_type": "stream",
     "text": [
      "total discriminator loss:0.08385346691354291\n",
      "-----------------------\n",
      "Training Step: 53\n"
     ]
    },
    {
     "name": "stderr",
     "output_type": "stream",
     "text": [
      "\n",
      "  5%|▌         | 1/20 [00:01<00:34,  1.81s/it]\u001b[A\n",
      " 10%|█         | 2/20 [00:03<00:30,  1.70s/it]\u001b[A\n",
      " 15%|█▌        | 3/20 [00:05<00:28,  1.66s/it]\u001b[A\n",
      " 20%|██        | 4/20 [00:06<00:25,  1.57s/it]\u001b[A\n",
      " 25%|██▌       | 5/20 [00:08<00:23,  1.56s/it]\u001b[A\n",
      " 30%|███       | 6/20 [00:09<00:20,  1.48s/it]\u001b[A\n",
      " 35%|███▌      | 7/20 [00:10<00:18,  1.41s/it]\u001b[A\n",
      " 40%|████      | 8/20 [00:12<00:16,  1.41s/it]\u001b[A\n",
      " 45%|████▌     | 9/20 [00:13<00:14,  1.33s/it]\u001b[A\n",
      " 50%|█████     | 10/20 [00:14<00:12,  1.25s/it]\u001b[A\n",
      " 55%|█████▌    | 11/20 [00:15<00:10,  1.18s/it]\u001b[A\n",
      " 60%|██████    | 12/20 [00:16<00:09,  1.18s/it]\u001b[A\n",
      " 65%|██████▌   | 13/20 [00:17<00:07,  1.10s/it]\u001b[A\n",
      " 70%|███████   | 14/20 [00:18<00:06,  1.02s/it]\u001b[A\n",
      " 75%|███████▌  | 15/20 [00:18<00:04,  1.06it/s]\u001b[A\n",
      " 80%|████████  | 16/20 [00:19<00:03,  1.13it/s]\u001b[A\n",
      " 85%|████████▌ | 17/20 [00:20<00:02,  1.23it/s]\u001b[A\n",
      " 90%|█████████ | 18/20 [00:20<00:01,  1.33it/s]\u001b[A\n",
      " 95%|█████████▌| 19/20 [00:21<00:00,  1.31it/s]\u001b[A\n",
      "100%|██████████| 20/20 [00:22<00:00,  1.11s/it]\u001b[A\n"
     ]
    },
    {
     "name": "stdout",
     "output_type": "stream",
     "text": [
      "generator loss:0.053214477196379714\n",
      "-----------------------\n"
     ]
    },
    {
     "name": "stderr",
     "output_type": "stream",
     "text": [
      "53it [21:23, 27.81s/it]\n",
      "  0%|          | 0/20 [00:00<?, ?it/s]\u001b[A"
     ]
    },
    {
     "name": "stdout",
     "output_type": "stream",
     "text": [
      "total discriminator loss:0.05625487066925666\n",
      "-----------------------\n",
      "Training Step: 54\n"
     ]
    },
    {
     "name": "stderr",
     "output_type": "stream",
     "text": [
      "\n",
      "  5%|▌         | 1/20 [00:01<00:33,  1.75s/it]\u001b[A\n",
      " 10%|█         | 2/20 [00:03<00:29,  1.66s/it]\u001b[A\n",
      " 15%|█▌        | 3/20 [00:04<00:27,  1.64s/it]\u001b[A\n",
      " 20%|██        | 4/20 [00:06<00:25,  1.62s/it]\u001b[A\n",
      " 25%|██▌       | 5/20 [00:07<00:23,  1.54s/it]\u001b[A\n",
      " 30%|███       | 6/20 [00:09<00:20,  1.48s/it]\u001b[A\n",
      " 35%|███▌      | 7/20 [00:10<00:19,  1.47s/it]\u001b[A\n",
      " 40%|████      | 8/20 [00:12<00:16,  1.39s/it]\u001b[A\n",
      " 45%|████▌     | 9/20 [00:13<00:14,  1.34s/it]\u001b[A\n",
      " 50%|█████     | 10/20 [00:14<00:12,  1.26s/it]\u001b[A\n",
      " 55%|█████▌    | 11/20 [00:15<00:11,  1.27s/it]\u001b[A\n",
      " 60%|██████    | 12/20 [00:16<00:09,  1.18s/it]\u001b[A\n",
      " 65%|██████▌   | 13/20 [00:17<00:07,  1.10s/it]\u001b[A\n",
      " 70%|███████   | 14/20 [00:18<00:06,  1.03s/it]\u001b[A\n",
      " 75%|███████▌  | 15/20 [00:19<00:04,  1.04it/s]\u001b[A\n",
      " 80%|████████  | 16/20 [00:19<00:03,  1.11it/s]\u001b[A\n",
      " 85%|████████▌ | 17/20 [00:20<00:02,  1.10it/s]\u001b[A\n",
      " 90%|█████████ | 18/20 [00:21<00:01,  1.21it/s]\u001b[A\n",
      " 95%|█████████▌| 19/20 [00:22<00:00,  1.34it/s]\u001b[A\n",
      "100%|██████████| 20/20 [00:22<00:00,  1.13s/it]\u001b[A\n"
     ]
    },
    {
     "name": "stdout",
     "output_type": "stream",
     "text": [
      "generator loss:0.054790750709272903\n",
      "-----------------------\n"
     ]
    },
    {
     "name": "stderr",
     "output_type": "stream",
     "text": [
      "54it [21:51, 27.96s/it]\n",
      "  0%|          | 0/20 [00:00<?, ?it/s]\u001b[A"
     ]
    },
    {
     "name": "stdout",
     "output_type": "stream",
     "text": [
      "total discriminator loss:0.06290257135001351\n",
      "-----------------------\n",
      "Training Step: 55\n"
     ]
    },
    {
     "name": "stderr",
     "output_type": "stream",
     "text": [
      "\n",
      "  5%|▌         | 1/20 [00:01<00:32,  1.70s/it]\u001b[A\n",
      " 10%|█         | 2/20 [00:03<00:29,  1.63s/it]\u001b[A\n",
      " 15%|█▌        | 3/20 [00:04<00:28,  1.65s/it]\u001b[A\n",
      " 20%|██        | 4/20 [00:06<00:25,  1.57s/it]\u001b[A\n",
      " 25%|██▌       | 5/20 [00:07<00:22,  1.50s/it]\u001b[A\n",
      " 30%|███       | 6/20 [00:09<00:20,  1.50s/it]\u001b[A\n",
      " 35%|███▌      | 7/20 [00:10<00:18,  1.42s/it]\u001b[A\n",
      " 40%|████      | 8/20 [00:11<00:16,  1.36s/it]\u001b[A\n",
      " 45%|████▌     | 9/20 [00:13<00:14,  1.35s/it]\u001b[A\n",
      " 50%|█████     | 10/20 [00:14<00:12,  1.26s/it]\u001b[A\n",
      " 55%|█████▌    | 11/20 [00:15<00:10,  1.18s/it]\u001b[A\n",
      " 60%|██████    | 12/20 [00:16<00:08,  1.11s/it]\u001b[A\n",
      " 65%|██████▌   | 13/20 [00:17<00:07,  1.11s/it]\u001b[A\n",
      " 70%|███████   | 14/20 [00:18<00:06,  1.03s/it]\u001b[A\n",
      " 75%|███████▌  | 15/20 [00:18<00:04,  1.05it/s]\u001b[A\n",
      " 80%|████████  | 16/20 [00:19<00:03,  1.13it/s]\u001b[A\n",
      " 85%|████████▌ | 17/20 [00:20<00:02,  1.22it/s]\u001b[A\n",
      " 90%|█████████ | 18/20 [00:20<00:01,  1.34it/s]\u001b[A\n",
      " 95%|█████████▌| 19/20 [00:21<00:00,  1.47it/s]\u001b[A\n",
      "100%|██████████| 20/20 [00:21<00:00,  1.09s/it]\u001b[A\n"
     ]
    },
    {
     "name": "stdout",
     "output_type": "stream",
     "text": [
      "generator loss:0.056541763438410775\n",
      "-----------------------\n"
     ]
    },
    {
     "name": "stderr",
     "output_type": "stream",
     "text": [
      "55it [22:18, 27.64s/it]\n",
      "  0%|          | 0/20 [00:00<?, ?it/s]\u001b[A"
     ]
    },
    {
     "name": "stdout",
     "output_type": "stream",
     "text": [
      "total discriminator loss:0.07442240788042513\n",
      "-----------------------\n",
      "Training Step: 56\n"
     ]
    },
    {
     "name": "stderr",
     "output_type": "stream",
     "text": [
      "\n",
      "  5%|▌         | 1/20 [00:01<00:28,  1.48s/it]\u001b[A\n",
      " 10%|█         | 2/20 [00:02<00:26,  1.45s/it]\u001b[A\n",
      " 15%|█▌        | 3/20 [00:04<00:23,  1.36s/it]\u001b[A\n",
      " 20%|██        | 4/20 [00:05<00:21,  1.34s/it]\u001b[A\n",
      " 25%|██▌       | 5/20 [00:06<00:18,  1.26s/it]\u001b[A\n",
      " 30%|███       | 6/20 [00:07<00:16,  1.20s/it]\u001b[A\n",
      " 35%|███▌      | 7/20 [00:08<00:15,  1.20s/it]\u001b[A\n",
      " 40%|████      | 8/20 [00:09<00:13,  1.13s/it]\u001b[A\n",
      " 45%|████▌     | 9/20 [00:10<00:11,  1.07s/it]\u001b[A\n",
      " 50%|█████     | 10/20 [00:11<00:10,  1.01s/it]\u001b[A\n",
      " 55%|█████▌    | 11/20 [00:12<00:09,  1.02s/it]\u001b[A\n",
      " 60%|██████    | 12/20 [00:13<00:07,  1.06it/s]\u001b[A\n",
      " 65%|██████▌   | 13/20 [00:14<00:06,  1.14it/s]\u001b[A\n",
      " 70%|███████   | 14/20 [00:14<00:04,  1.22it/s]\u001b[A\n",
      " 75%|███████▌  | 15/20 [00:15<00:03,  1.31it/s]\u001b[A\n",
      " 80%|████████  | 16/20 [00:16<00:02,  1.40it/s]\u001b[A\n",
      " 85%|████████▌ | 17/20 [00:16<00:01,  1.52it/s]\u001b[A\n",
      " 90%|█████████ | 18/20 [00:17<00:01,  1.48it/s]\u001b[A\n",
      " 95%|█████████▌| 19/20 [00:17<00:00,  1.66it/s]\u001b[A\n",
      "100%|██████████| 20/20 [00:18<00:00,  1.10it/s]\u001b[A\n"
     ]
    },
    {
     "name": "stdout",
     "output_type": "stream",
     "text": [
      "generator loss:0.05062854180083458\n",
      "-----------------------\n"
     ]
    },
    {
     "name": "stderr",
     "output_type": "stream",
     "text": [
      "56it [22:41, 26.29s/it]\n",
      "  0%|          | 0/20 [00:00<?, ?it/s]\u001b[A"
     ]
    },
    {
     "name": "stdout",
     "output_type": "stream",
     "text": [
      "total discriminator loss:0.05716217190552402\n",
      "-----------------------\n",
      "Training Step: 57\n"
     ]
    },
    {
     "name": "stderr",
     "output_type": "stream",
     "text": [
      "\n",
      "  5%|▌         | 1/20 [00:01<00:26,  1.37s/it]\u001b[A\n",
      " 10%|█         | 2/20 [00:02<00:24,  1.33s/it]\u001b[A\n",
      " 15%|█▌        | 3/20 [00:03<00:22,  1.30s/it]\u001b[A\n",
      " 20%|██        | 4/20 [00:05<00:21,  1.32s/it]\u001b[A\n",
      " 25%|██▌       | 5/20 [00:06<00:18,  1.25s/it]\u001b[A\n",
      " 30%|███       | 6/20 [00:07<00:16,  1.20s/it]\u001b[A\n",
      " 35%|███▌      | 7/20 [00:08<00:15,  1.20s/it]\u001b[A\n",
      " 40%|████      | 8/20 [00:09<00:13,  1.13s/it]\u001b[A\n",
      " 45%|████▌     | 9/20 [00:10<00:11,  1.07s/it]\u001b[A\n",
      " 50%|█████     | 10/20 [00:11<00:10,  1.06s/it]\u001b[A\n",
      " 55%|█████▌    | 11/20 [00:12<00:08,  1.01it/s]\u001b[A\n",
      " 60%|██████    | 12/20 [00:13<00:07,  1.08it/s]\u001b[A\n",
      " 65%|██████▌   | 13/20 [00:13<00:06,  1.16it/s]\u001b[A\n",
      " 70%|███████   | 14/20 [00:14<00:04,  1.24it/s]\u001b[A\n",
      " 75%|███████▌  | 15/20 [00:15<00:03,  1.33it/s]\u001b[A\n",
      " 80%|████████  | 16/20 [00:16<00:03,  1.30it/s]\u001b[A\n",
      " 85%|████████▌ | 17/20 [00:16<00:02,  1.43it/s]\u001b[A\n",
      " 90%|█████████ | 18/20 [00:17<00:01,  1.58it/s]\u001b[A\n",
      " 95%|█████████▌| 19/20 [00:17<00:00,  1.74it/s]\u001b[A\n",
      "100%|██████████| 20/20 [00:17<00:00,  1.11it/s]\u001b[A\n"
     ]
    },
    {
     "name": "stdout",
     "output_type": "stream",
     "text": [
      "generator loss:0.04310002711358974\n",
      "-----------------------\n"
     ]
    },
    {
     "name": "stderr",
     "output_type": "stream",
     "text": [
      "57it [23:04, 25.25s/it]\n",
      "  0%|          | 0/20 [00:00<?, ?it/s]\u001b[A"
     ]
    },
    {
     "name": "stdout",
     "output_type": "stream",
     "text": [
      "total discriminator loss:0.057135755934709063\n",
      "-----------------------\n",
      "Training Step: 58\n"
     ]
    },
    {
     "name": "stderr",
     "output_type": "stream",
     "text": [
      "\n",
      "  5%|▌         | 1/20 [00:01<00:26,  1.37s/it]\u001b[A\n",
      " 10%|█         | 2/20 [00:02<00:24,  1.34s/it]\u001b[A\n",
      " 15%|█▌        | 3/20 [00:04<00:22,  1.35s/it]\u001b[A\n",
      " 20%|██        | 4/20 [00:05<00:20,  1.29s/it]\u001b[A\n",
      " 25%|██▌       | 5/20 [00:06<00:19,  1.28s/it]\u001b[A\n",
      " 30%|███       | 6/20 [00:07<00:16,  1.21s/it]\u001b[A\n",
      " 35%|███▌      | 7/20 [00:08<00:14,  1.15s/it]\u001b[A\n",
      " 40%|████      | 8/20 [00:09<00:13,  1.15s/it]\u001b[A\n",
      " 45%|████▌     | 9/20 [00:10<00:11,  1.08s/it]\u001b[A\n",
      " 50%|█████     | 10/20 [00:11<00:10,  1.01s/it]\u001b[A\n",
      " 55%|█████▌    | 11/20 [00:12<00:08,  1.04it/s]\u001b[A\n",
      " 60%|██████    | 12/20 [00:13<00:07,  1.04it/s]\u001b[A\n",
      " 65%|██████▌   | 13/20 [00:14<00:06,  1.12it/s]\u001b[A\n",
      " 70%|███████   | 14/20 [00:14<00:05,  1.19it/s]\u001b[A\n",
      " 75%|███████▌  | 15/20 [00:15<00:03,  1.29it/s]\u001b[A\n",
      " 80%|████████  | 16/20 [00:16<00:02,  1.37it/s]\u001b[A\n",
      " 85%|████████▌ | 17/20 [00:16<00:02,  1.49it/s]\u001b[A\n",
      " 90%|█████████ | 18/20 [00:17<00:01,  1.62it/s]\u001b[A\n",
      " 95%|█████████▌| 19/20 [00:17<00:00,  1.77it/s]\u001b[A\n",
      "100%|██████████| 20/20 [00:18<00:00,  1.10it/s]\u001b[A\n"
     ]
    },
    {
     "name": "stdout",
     "output_type": "stream",
     "text": [
      "generator loss:0.03951055970854551\n",
      "-----------------------\n"
     ]
    },
    {
     "name": "stderr",
     "output_type": "stream",
     "text": [
      "58it [23:27, 24.61s/it]\n",
      "  0%|          | 0/20 [00:00<?, ?it/s]\u001b[A"
     ]
    },
    {
     "name": "stdout",
     "output_type": "stream",
     "text": [
      "total discriminator loss:0.05258026300465633\n",
      "-----------------------\n",
      "Training Step: 59\n"
     ]
    },
    {
     "name": "stderr",
     "output_type": "stream",
     "text": [
      "\n",
      "  5%|▌         | 1/20 [00:01<00:25,  1.36s/it]\u001b[A\n",
      " 10%|█         | 2/20 [00:02<00:23,  1.32s/it]\u001b[A\n",
      " 15%|█▌        | 3/20 [00:03<00:21,  1.28s/it]\u001b[A\n",
      " 20%|██        | 4/20 [00:05<00:19,  1.25s/it]\u001b[A\n",
      " 25%|██▌       | 5/20 [00:06<00:18,  1.25s/it]\u001b[A\n",
      " 30%|███       | 6/20 [00:07<00:16,  1.19s/it]\u001b[A\n",
      " 35%|███▌      | 7/20 [00:08<00:15,  1.20s/it]\u001b[A\n",
      " 40%|████      | 8/20 [00:09<00:13,  1.13s/it]\u001b[A\n",
      " 45%|████▌     | 9/20 [00:10<00:11,  1.07s/it]\u001b[A\n",
      " 50%|█████     | 10/20 [00:11<00:10,  1.01s/it]\u001b[A\n",
      " 55%|█████▌    | 11/20 [00:12<00:09,  1.01s/it]\u001b[A\n",
      " 60%|██████    | 12/20 [00:13<00:07,  1.06it/s]\u001b[A\n",
      " 65%|██████▌   | 13/20 [00:13<00:06,  1.14it/s]\u001b[A\n",
      " 70%|███████   | 14/20 [00:14<00:04,  1.22it/s]\u001b[A\n",
      " 75%|███████▌  | 15/20 [00:15<00:03,  1.31it/s]\u001b[A\n",
      " 80%|████████  | 16/20 [00:15<00:02,  1.40it/s]\u001b[A\n",
      " 85%|████████▌ | 17/20 [00:16<00:01,  1.52it/s]\u001b[A\n",
      " 90%|█████████ | 18/20 [00:16<00:01,  1.65it/s]\u001b[A\n",
      " 95%|█████████▌| 19/20 [00:17<00:00,  1.60it/s]\u001b[A\n",
      "100%|██████████| 20/20 [00:17<00:00,  1.11it/s]\u001b[A\n"
     ]
    },
    {
     "name": "stdout",
     "output_type": "stream",
     "text": [
      "generator loss:0.04577476937344981\n",
      "-----------------------\n"
     ]
    },
    {
     "name": "stderr",
     "output_type": "stream",
     "text": [
      "59it [23:50, 24.09s/it]\n",
      "  0%|          | 0/20 [00:00<?, ?it/s]\u001b[A"
     ]
    },
    {
     "name": "stdout",
     "output_type": "stream",
     "text": [
      "total discriminator loss:0.04754569821446319\n",
      "-----------------------\n",
      "Training Step: 60\n"
     ]
    },
    {
     "name": "stderr",
     "output_type": "stream",
     "text": [
      "\n",
      "  5%|▌         | 1/20 [00:01<00:25,  1.36s/it]\u001b[A\n",
      " 10%|█         | 2/20 [00:02<00:23,  1.32s/it]\u001b[A\n",
      " 15%|█▌        | 3/20 [00:03<00:22,  1.29s/it]\u001b[A\n",
      " 20%|██        | 4/20 [00:05<00:20,  1.30s/it]\u001b[A\n",
      " 25%|██▌       | 5/20 [00:06<00:18,  1.24s/it]\u001b[A\n",
      " 30%|███       | 6/20 [00:07<00:16,  1.19s/it]\u001b[A\n",
      " 35%|███▌      | 7/20 [00:08<00:15,  1.20s/it]\u001b[A\n",
      " 40%|████      | 8/20 [00:09<00:13,  1.14s/it]\u001b[A\n",
      " 45%|████▌     | 9/20 [00:10<00:11,  1.08s/it]\u001b[A\n",
      " 50%|█████     | 10/20 [00:11<00:10,  1.08s/it]\u001b[A\n",
      " 55%|█████▌    | 11/20 [00:12<00:09,  1.01s/it]\u001b[A\n",
      " 60%|██████    | 12/20 [00:13<00:07,  1.06it/s]\u001b[A\n",
      " 65%|██████▌   | 13/20 [00:14<00:06,  1.13it/s]\u001b[A\n",
      " 70%|███████   | 14/20 [00:14<00:04,  1.21it/s]\u001b[A\n",
      " 75%|███████▌  | 15/20 [00:15<00:03,  1.30it/s]\u001b[A\n",
      " 80%|████████  | 16/20 [00:16<00:02,  1.38it/s]\u001b[A\n",
      " 85%|████████▌ | 17/20 [00:16<00:02,  1.36it/s]\u001b[A\n",
      " 90%|█████████ | 18/20 [00:17<00:01,  1.51it/s]\u001b[A\n",
      " 95%|█████████▌| 19/20 [00:17<00:00,  1.69it/s]\u001b[A\n",
      "100%|██████████| 20/20 [00:18<00:00,  1.10it/s]\u001b[A\n"
     ]
    },
    {
     "name": "stdout",
     "output_type": "stream",
     "text": [
      "generator loss:0.0444932136129082\n",
      "-----------------------\n"
     ]
    },
    {
     "name": "stderr",
     "output_type": "stream",
     "text": [
      "60it [24:13, 23.78s/it]\n",
      "  0%|          | 0/20 [00:00<?, ?it/s]\u001b[A"
     ]
    },
    {
     "name": "stdout",
     "output_type": "stream",
     "text": [
      "total discriminator loss:0.05223499869574624\n",
      "-----------------------\n",
      "Training Step: 61\n"
     ]
    },
    {
     "name": "stderr",
     "output_type": "stream",
     "text": [
      "\n",
      "  5%|▌         | 1/20 [00:01<00:26,  1.37s/it]\u001b[A\n",
      " 10%|█         | 2/20 [00:02<00:23,  1.32s/it]\u001b[A\n",
      " 15%|█▌        | 3/20 [00:04<00:22,  1.34s/it]\u001b[A\n",
      " 20%|██        | 4/20 [00:05<00:20,  1.28s/it]\u001b[A\n",
      " 25%|██▌       | 5/20 [00:06<00:19,  1.27s/it]\u001b[A\n",
      " 30%|███       | 6/20 [00:07<00:16,  1.20s/it]\u001b[A\n",
      " 35%|███▌      | 7/20 [00:08<00:14,  1.15s/it]\u001b[A\n",
      " 40%|████      | 8/20 [00:09<00:13,  1.16s/it]\u001b[A\n",
      " 45%|████▌     | 9/20 [00:10<00:11,  1.09s/it]\u001b[A\n",
      " 50%|█████     | 10/20 [00:11<00:10,  1.02s/it]\u001b[A\n",
      " 55%|█████▌    | 11/20 [00:12<00:08,  1.04it/s]\u001b[A\n",
      " 60%|██████    | 12/20 [00:13<00:07,  1.10it/s]\u001b[A\n",
      " 65%|██████▌   | 13/20 [00:14<00:06,  1.10it/s]\u001b[A\n",
      " 70%|███████   | 14/20 [00:14<00:05,  1.19it/s]\u001b[A\n",
      " 75%|███████▌  | 15/20 [00:15<00:03,  1.28it/s]\u001b[A\n",
      " 80%|████████  | 16/20 [00:16<00:02,  1.38it/s]\u001b[A\n",
      " 85%|████████▌ | 17/20 [00:16<00:01,  1.50it/s]\u001b[A\n",
      " 90%|█████████ | 18/20 [00:17<00:01,  1.64it/s]\u001b[A\n",
      " 95%|█████████▌| 19/20 [00:17<00:00,  1.80it/s]\u001b[A\n",
      "100%|██████████| 20/20 [00:17<00:00,  1.12it/s]\u001b[A\n"
     ]
    },
    {
     "name": "stdout",
     "output_type": "stream",
     "text": [
      "generator loss:0.03787048787233925\n",
      "-----------------------\n"
     ]
    },
    {
     "name": "stderr",
     "output_type": "stream",
     "text": [
      "61it [24:36, 23.55s/it]\n",
      "  0%|          | 0/20 [00:00<?, ?it/s]\u001b[A"
     ]
    },
    {
     "name": "stdout",
     "output_type": "stream",
     "text": [
      "total discriminator loss:0.05182448285209666\n",
      "-----------------------\n",
      "Training Step: 62\n"
     ]
    },
    {
     "name": "stderr",
     "output_type": "stream",
     "text": [
      "\n",
      "  5%|▌         | 1/20 [00:01<00:25,  1.35s/it]\u001b[A\n",
      " 10%|█         | 2/20 [00:02<00:23,  1.33s/it]\u001b[A\n",
      " 15%|█▌        | 3/20 [00:03<00:21,  1.29s/it]\u001b[A\n",
      " 20%|██        | 4/20 [00:05<00:20,  1.25s/it]\u001b[A\n",
      " 25%|██▌       | 5/20 [00:06<00:18,  1.25s/it]\u001b[A\n",
      " 30%|███       | 6/20 [00:07<00:16,  1.19s/it]\u001b[A\n",
      " 35%|███▌      | 7/20 [00:08<00:14,  1.14s/it]\u001b[A\n",
      " 40%|████      | 8/20 [00:09<00:13,  1.14s/it]\u001b[A\n",
      " 45%|████▌     | 9/20 [00:10<00:11,  1.08s/it]\u001b[A\n",
      " 50%|█████     | 10/20 [00:11<00:10,  1.04s/it]\u001b[A\n",
      " 55%|█████▌    | 11/20 [00:12<00:08,  1.02it/s]\u001b[A\n",
      " 60%|██████    | 12/20 [00:13<00:07,  1.09it/s]\u001b[A\n",
      " 65%|██████▌   | 13/20 [00:14<00:06,  1.09it/s]\u001b[A\n",
      " 70%|███████   | 14/20 [00:14<00:05,  1.18it/s]\u001b[A\n",
      " 75%|███████▌  | 15/20 [00:15<00:03,  1.28it/s]\u001b[A\n",
      " 80%|████████  | 16/20 [00:15<00:02,  1.37it/s]\u001b[A\n",
      " 85%|████████▌ | 17/20 [00:16<00:02,  1.49it/s]\u001b[A\n",
      " 90%|█████████ | 18/20 [00:16<00:01,  1.62it/s]\u001b[A\n",
      " 95%|█████████▌| 19/20 [00:17<00:00,  1.78it/s]\u001b[A\n",
      "100%|██████████| 20/20 [00:17<00:00,  1.12it/s]\u001b[A\n"
     ]
    },
    {
     "name": "stdout",
     "output_type": "stream",
     "text": [
      "generator loss:0.03255708914156198\n",
      "-----------------------\n"
     ]
    },
    {
     "name": "stderr",
     "output_type": "stream",
     "text": [
      "62it [24:59, 23.29s/it]\n",
      "  0%|          | 0/20 [00:00<?, ?it/s]\u001b[A"
     ]
    },
    {
     "name": "stdout",
     "output_type": "stream",
     "text": [
      "total discriminator loss:0.0475350883615526\n",
      "-----------------------\n",
      "Training Step: 63\n"
     ]
    },
    {
     "name": "stderr",
     "output_type": "stream",
     "text": [
      "\n",
      "  5%|▌         | 1/20 [00:01<00:27,  1.46s/it]\u001b[A\n",
      " 10%|█         | 2/20 [00:02<00:25,  1.44s/it]\u001b[A\n",
      " 15%|█▌        | 3/20 [00:04<00:22,  1.35s/it]\u001b[A\n",
      " 20%|██        | 4/20 [00:05<00:21,  1.34s/it]\u001b[A\n",
      " 25%|██▌       | 5/20 [00:06<00:18,  1.26s/it]\u001b[A\n",
      " 30%|███       | 6/20 [00:07<00:16,  1.21s/it]\u001b[A\n",
      " 35%|███▌      | 7/20 [00:08<00:15,  1.20s/it]\u001b[A\n",
      " 40%|████      | 8/20 [00:09<00:13,  1.14s/it]\u001b[A\n",
      " 45%|████▌     | 9/20 [00:10<00:11,  1.07s/it]\u001b[A\n",
      " 50%|█████     | 10/20 [00:11<00:10,  1.07s/it]\u001b[A\n",
      " 55%|█████▌    | 11/20 [00:12<00:08,  1.01it/s]\u001b[A\n",
      " 60%|██████    | 12/20 [00:13<00:07,  1.08it/s]\u001b[A\n",
      " 65%|██████▌   | 13/20 [00:14<00:06,  1.15it/s]\u001b[A\n",
      " 70%|███████   | 14/20 [00:14<00:04,  1.23it/s]\u001b[A\n",
      " 75%|███████▌  | 15/20 [00:15<00:03,  1.32it/s]\u001b[A\n",
      " 80%|████████  | 16/20 [00:16<00:03,  1.28it/s]\u001b[A\n",
      " 85%|████████▌ | 17/20 [00:16<00:02,  1.41it/s]\u001b[A\n",
      " 90%|█████████ | 18/20 [00:17<00:01,  1.56it/s]\u001b[A\n",
      " 95%|█████████▌| 19/20 [00:17<00:00,  1.73it/s]\u001b[A\n",
      "100%|██████████| 20/20 [00:18<00:00,  1.10it/s]\u001b[A\n"
     ]
    },
    {
     "name": "stdout",
     "output_type": "stream",
     "text": [
      "generator loss:0.0381409204717431\n",
      "-----------------------\n"
     ]
    },
    {
     "name": "stderr",
     "output_type": "stream",
     "text": [
      "63it [25:22, 23.23s/it]\n",
      "  0%|          | 0/20 [00:00<?, ?it/s]\u001b[A"
     ]
    },
    {
     "name": "stdout",
     "output_type": "stream",
     "text": [
      "total discriminator loss:0.045060959341392114\n",
      "-----------------------\n",
      "Training Step: 64\n"
     ]
    },
    {
     "name": "stderr",
     "output_type": "stream",
     "text": [
      "\n",
      "  5%|▌         | 1/20 [00:01<00:26,  1.38s/it]\u001b[A\n",
      " 10%|█         | 2/20 [00:02<00:24,  1.35s/it]\u001b[A\n",
      " 15%|█▌        | 3/20 [00:04<00:22,  1.35s/it]\u001b[A\n",
      " 20%|██        | 4/20 [00:05<00:20,  1.28s/it]\u001b[A\n",
      " 25%|██▌       | 5/20 [00:06<00:19,  1.27s/it]\u001b[A\n",
      " 30%|███       | 6/20 [00:07<00:16,  1.20s/it]\u001b[A\n",
      " 35%|███▌      | 7/20 [00:08<00:14,  1.15s/it]\u001b[A\n",
      " 40%|████      | 8/20 [00:09<00:13,  1.15s/it]\u001b[A\n",
      " 45%|████▌     | 9/20 [00:10<00:11,  1.08s/it]\u001b[A\n",
      " 50%|█████     | 10/20 [00:11<00:10,  1.01s/it]\u001b[A\n",
      " 55%|█████▌    | 11/20 [00:12<00:08,  1.04it/s]\u001b[A\n",
      " 60%|██████    | 12/20 [00:13<00:07,  1.04it/s]\u001b[A\n",
      " 65%|██████▌   | 13/20 [00:14<00:06,  1.13it/s]\u001b[A\n",
      " 70%|███████   | 14/20 [00:14<00:04,  1.22it/s]\u001b[A\n",
      " 75%|███████▌  | 15/20 [00:15<00:03,  1.31it/s]\u001b[A\n",
      " 80%|████████  | 16/20 [00:15<00:02,  1.40it/s]\u001b[A\n",
      " 85%|████████▌ | 17/20 [00:16<00:01,  1.51it/s]\u001b[A\n",
      " 90%|█████████ | 18/20 [00:16<00:01,  1.65it/s]\u001b[A\n",
      " 95%|█████████▌| 19/20 [00:17<00:00,  1.60it/s]\u001b[A\n",
      "100%|██████████| 20/20 [00:18<00:00,  1.11it/s]\u001b[A\n"
     ]
    },
    {
     "name": "stdout",
     "output_type": "stream",
     "text": [
      "generator loss:0.03553122959977304\n",
      "-----------------------\n"
     ]
    },
    {
     "name": "stderr",
     "output_type": "stream",
     "text": [
      "64it [25:45, 23.13s/it]\n",
      "  0%|          | 0/20 [00:00<?, ?it/s]\u001b[A"
     ]
    },
    {
     "name": "stdout",
     "output_type": "stream",
     "text": [
      "total discriminator loss:0.049480770868677214\n",
      "-----------------------\n",
      "Training Step: 65\n"
     ]
    },
    {
     "name": "stderr",
     "output_type": "stream",
     "text": [
      "\n",
      "  5%|▌         | 1/20 [00:01<00:26,  1.41s/it]\u001b[A\n",
      " 10%|█         | 2/20 [00:02<00:24,  1.35s/it]\u001b[A\n",
      " 15%|█▌        | 3/20 [00:03<00:22,  1.31s/it]\u001b[A\n",
      " 20%|██        | 4/20 [00:05<00:20,  1.26s/it]\u001b[A\n",
      " 25%|██▌       | 5/20 [00:06<00:18,  1.26s/it]\u001b[A\n",
      " 30%|███       | 6/20 [00:07<00:16,  1.20s/it]\u001b[A\n",
      " 35%|███▌      | 7/20 [00:08<00:15,  1.19s/it]\u001b[A\n",
      " 40%|████      | 8/20 [00:09<00:13,  1.13s/it]\u001b[A\n",
      " 45%|████▌     | 9/20 [00:10<00:11,  1.07s/it]\u001b[A\n",
      " 50%|█████     | 10/20 [00:11<00:10,  1.01s/it]\u001b[A\n",
      " 55%|█████▌    | 11/20 [00:12<00:08,  1.04it/s]\u001b[A\n",
      " 60%|██████    | 12/20 [00:13<00:07,  1.03it/s]\u001b[A\n",
      " 65%|██████▌   | 13/20 [00:14<00:06,  1.11it/s]\u001b[A\n",
      " 70%|███████   | 14/20 [00:14<00:05,  1.20it/s]\u001b[A\n",
      " 75%|███████▌  | 15/20 [00:15<00:03,  1.29it/s]\u001b[A\n",
      " 80%|████████  | 16/20 [00:15<00:02,  1.38it/s]\u001b[A\n",
      " 85%|████████▌ | 17/20 [00:16<00:02,  1.50it/s]\u001b[A\n",
      " 90%|█████████ | 18/20 [00:17<00:01,  1.63it/s]\u001b[A\n",
      " 95%|█████████▌| 19/20 [00:17<00:00,  1.58it/s]\u001b[A\n",
      "100%|██████████| 20/20 [00:18<00:00,  1.11it/s]\u001b[A\n"
     ]
    },
    {
     "name": "stdout",
     "output_type": "stream",
     "text": [
      "generator loss:0.03337465761364065\n",
      "-----------------------\n"
     ]
    },
    {
     "name": "stderr",
     "output_type": "stream",
     "text": [
      "65it [26:08, 23.10s/it]\n",
      "  0%|          | 0/20 [00:00<?, ?it/s]\u001b[A"
     ]
    },
    {
     "name": "stdout",
     "output_type": "stream",
     "text": [
      "total discriminator loss:0.04298737849414832\n",
      "-----------------------\n",
      "Training Step: 66\n"
     ]
    },
    {
     "name": "stderr",
     "output_type": "stream",
     "text": [
      "\n",
      "  5%|▌         | 1/20 [00:01<00:25,  1.37s/it]\u001b[A\n",
      " 10%|█         | 2/20 [00:02<00:23,  1.33s/it]\u001b[A\n",
      " 15%|█▌        | 3/20 [00:03<00:21,  1.29s/it]\u001b[A\n",
      " 20%|██        | 4/20 [00:05<00:20,  1.30s/it]\u001b[A\n",
      " 25%|██▌       | 5/20 [00:06<00:18,  1.24s/it]\u001b[A\n",
      " 30%|███       | 6/20 [00:07<00:16,  1.18s/it]\u001b[A\n",
      " 35%|███▌      | 7/20 [00:08<00:15,  1.19s/it]\u001b[A\n",
      " 40%|████      | 8/20 [00:09<00:13,  1.12s/it]\u001b[A\n",
      " 45%|████▌     | 9/20 [00:10<00:11,  1.07s/it]\u001b[A\n",
      " 50%|█████     | 10/20 [00:11<00:10,  1.01s/it]\u001b[A\n",
      " 55%|█████▌    | 11/20 [00:12<00:09,  1.01s/it]\u001b[A\n",
      " 60%|██████    | 12/20 [00:13<00:07,  1.06it/s]\u001b[A\n",
      " 65%|██████▌   | 13/20 [00:13<00:06,  1.14it/s]\u001b[A\n",
      " 70%|███████   | 14/20 [00:14<00:04,  1.22it/s]\u001b[A\n",
      " 75%|███████▌  | 15/20 [00:15<00:03,  1.31it/s]\u001b[A\n",
      " 80%|████████  | 16/20 [00:15<00:02,  1.39it/s]\u001b[A\n",
      " 85%|████████▌ | 17/20 [00:16<00:02,  1.37it/s]\u001b[A\n",
      " 90%|█████████ | 18/20 [00:17<00:01,  1.53it/s]\u001b[A\n",
      " 95%|█████████▌| 19/20 [00:17<00:00,  1.69it/s]\u001b[A\n",
      "100%|██████████| 20/20 [00:18<00:00,  1.11it/s]\u001b[A\n"
     ]
    },
    {
     "name": "stdout",
     "output_type": "stream",
     "text": [
      "generator loss:0.036343196878707754\n",
      "-----------------------\n"
     ]
    },
    {
     "name": "stderr",
     "output_type": "stream",
     "text": [
      "66it [26:31, 23.04s/it]\n",
      "  0%|          | 0/20 [00:00<?, ?it/s]\u001b[A"
     ]
    },
    {
     "name": "stdout",
     "output_type": "stream",
     "text": [
      "total discriminator loss:0.04830151927347763\n",
      "-----------------------\n",
      "Training Step: 67\n"
     ]
    },
    {
     "name": "stderr",
     "output_type": "stream",
     "text": [
      "\n",
      "  5%|▌         | 1/20 [00:01<00:26,  1.40s/it]\u001b[A\n",
      " 10%|█         | 2/20 [00:02<00:24,  1.34s/it]\u001b[A\n",
      " 15%|█▌        | 3/20 [00:04<00:23,  1.36s/it]\u001b[A\n",
      " 20%|██        | 4/20 [00:05<00:20,  1.29s/it]\u001b[A\n",
      " 25%|██▌       | 5/20 [00:06<00:19,  1.30s/it]\u001b[A\n",
      " 30%|███       | 6/20 [00:07<00:17,  1.23s/it]\u001b[A\n",
      " 35%|███▌      | 7/20 [00:08<00:15,  1.17s/it]\u001b[A\n",
      " 40%|████      | 8/20 [00:09<00:13,  1.11s/it]\u001b[A\n",
      " 45%|████▌     | 9/20 [00:10<00:12,  1.11s/it]\u001b[A\n",
      " 50%|█████     | 10/20 [00:11<00:10,  1.03s/it]\u001b[A\n",
      " 55%|█████▌    | 11/20 [00:12<00:08,  1.03it/s]\u001b[A\n",
      " 60%|██████    | 12/20 [00:13<00:07,  1.09it/s]\u001b[A\n",
      " 65%|██████▌   | 13/20 [00:14<00:06,  1.08it/s]\u001b[A\n",
      " 70%|███████   | 14/20 [00:14<00:05,  1.17it/s]\u001b[A\n",
      " 75%|███████▌  | 15/20 [00:15<00:03,  1.25it/s]\u001b[A\n",
      " 80%|████████  | 16/20 [00:16<00:02,  1.34it/s]\u001b[A\n",
      " 85%|████████▌ | 17/20 [00:16<00:02,  1.46it/s]\u001b[A\n",
      " 90%|█████████ | 18/20 [00:17<00:01,  1.59it/s]\u001b[A\n",
      " 95%|█████████▌| 19/20 [00:17<00:00,  1.74it/s]\u001b[A\n",
      "100%|██████████| 20/20 [00:18<00:00,  1.10it/s]\u001b[A\n"
     ]
    },
    {
     "name": "stdout",
     "output_type": "stream",
     "text": [
      "generator loss:0.03777673242006616\n",
      "-----------------------\n"
     ]
    },
    {
     "name": "stderr",
     "output_type": "stream",
     "text": [
      "67it [26:54, 23.05s/it]\n",
      "  0%|          | 0/20 [00:00<?, ?it/s]\u001b[A"
     ]
    },
    {
     "name": "stdout",
     "output_type": "stream",
     "text": [
      "total discriminator loss:0.04296604468419338\n",
      "-----------------------\n",
      "Training Step: 68\n"
     ]
    },
    {
     "name": "stderr",
     "output_type": "stream",
     "text": [
      "\n",
      "  5%|▌         | 1/20 [00:01<00:27,  1.46s/it]\u001b[A\n",
      " 10%|█         | 2/20 [00:02<00:25,  1.43s/it]\u001b[A\n",
      " 15%|█▌        | 3/20 [00:04<00:22,  1.34s/it]\u001b[A\n",
      " 20%|██        | 4/20 [00:05<00:21,  1.33s/it]\u001b[A\n",
      " 25%|██▌       | 5/20 [00:06<00:18,  1.25s/it]\u001b[A\n",
      " 30%|███       | 6/20 [00:07<00:16,  1.19s/it]\u001b[A\n",
      " 35%|███▌      | 7/20 [00:08<00:15,  1.19s/it]\u001b[A\n",
      " 40%|████      | 8/20 [00:09<00:13,  1.12s/it]\u001b[A\n",
      " 45%|████▌     | 9/20 [00:10<00:11,  1.06s/it]\u001b[A\n",
      " 50%|█████     | 10/20 [00:11<00:10,  1.00s/it]\u001b[A\n",
      " 55%|█████▌    | 11/20 [00:12<00:09,  1.00s/it]\u001b[A\n",
      " 60%|██████    | 12/20 [00:13<00:07,  1.07it/s]\u001b[A\n",
      " 65%|██████▌   | 13/20 [00:14<00:06,  1.14it/s]\u001b[A\n",
      " 70%|███████   | 14/20 [00:14<00:04,  1.22it/s]\u001b[A\n",
      " 75%|███████▌  | 15/20 [00:15<00:03,  1.32it/s]\u001b[A\n",
      " 80%|████████  | 16/20 [00:16<00:02,  1.40it/s]\u001b[A\n",
      " 85%|████████▌ | 17/20 [00:16<00:02,  1.38it/s]\u001b[A\n",
      " 90%|█████████ | 18/20 [00:17<00:01,  1.53it/s]\u001b[A\n",
      " 95%|█████████▌| 19/20 [00:17<00:00,  1.70it/s]\u001b[A\n",
      "100%|██████████| 20/20 [00:18<00:00,  1.11it/s]\u001b[A\n"
     ]
    },
    {
     "name": "stdout",
     "output_type": "stream",
     "text": [
      "generator loss:0.030754810607692994\n",
      "-----------------------\n"
     ]
    },
    {
     "name": "stderr",
     "output_type": "stream",
     "text": [
      "68it [27:17, 23.03s/it]\n",
      "  0%|          | 0/20 [00:00<?, ?it/s]\u001b[A"
     ]
    },
    {
     "name": "stdout",
     "output_type": "stream",
     "text": [
      "total discriminator loss:0.043153378686710014\n",
      "-----------------------\n",
      "Training Step: 69\n"
     ]
    },
    {
     "name": "stderr",
     "output_type": "stream",
     "text": [
      "\n",
      "  5%|▌         | 1/20 [00:01<00:26,  1.40s/it]\u001b[A\n",
      " 10%|█         | 2/20 [00:02<00:24,  1.37s/it]\u001b[A\n",
      " 15%|█▌        | 3/20 [00:04<00:23,  1.39s/it]\u001b[A\n",
      " 20%|██        | 4/20 [00:05<00:21,  1.34s/it]\u001b[A\n",
      " 25%|██▌       | 5/20 [00:06<00:19,  1.32s/it]\u001b[A\n",
      " 30%|███       | 6/20 [00:07<00:17,  1.24s/it]\u001b[A\n",
      " 35%|███▌      | 7/20 [00:08<00:15,  1.18s/it]\u001b[A\n",
      " 40%|████      | 8/20 [00:09<00:13,  1.12s/it]\u001b[A\n",
      " 45%|████▌     | 9/20 [00:10<00:12,  1.12s/it]\u001b[A\n",
      " 50%|█████     | 10/20 [00:11<00:10,  1.04s/it]\u001b[A\n",
      " 55%|█████▌    | 11/20 [00:12<00:08,  1.02it/s]\u001b[A\n",
      " 60%|██████    | 12/20 [00:13<00:07,  1.09it/s]\u001b[A\n",
      " 65%|██████▌   | 13/20 [00:14<00:06,  1.08it/s]\u001b[A\n",
      " 70%|███████   | 14/20 [00:15<00:05,  1.17it/s]\u001b[A\n",
      " 75%|███████▌  | 15/20 [00:15<00:03,  1.27it/s]\u001b[A\n",
      " 80%|████████  | 16/20 [00:16<00:02,  1.36it/s]\u001b[A\n",
      " 85%|████████▌ | 17/20 [00:16<00:02,  1.48it/s]\u001b[A\n",
      " 90%|█████████ | 18/20 [00:17<00:01,  1.62it/s]\u001b[A\n",
      " 95%|█████████▌| 19/20 [00:17<00:00,  1.78it/s]\u001b[A\n",
      "100%|██████████| 20/20 [00:18<00:00,  1.10it/s]\u001b[A\n"
     ]
    },
    {
     "name": "stdout",
     "output_type": "stream",
     "text": [
      "generator loss:0.03272191747342225\n",
      "-----------------------\n"
     ]
    },
    {
     "name": "stderr",
     "output_type": "stream",
     "text": [
      "69it [27:40, 23.05s/it]\n",
      "  0%|          | 0/20 [00:00<?, ?it/s]\u001b[A"
     ]
    },
    {
     "name": "stdout",
     "output_type": "stream",
     "text": [
      "total discriminator loss:0.0551701334403341\n",
      "-----------------------\n",
      "Training Step: 70\n"
     ]
    },
    {
     "name": "stderr",
     "output_type": "stream",
     "text": [
      "\n",
      "  5%|▌         | 1/20 [00:01<00:27,  1.47s/it]\u001b[A\n",
      " 10%|█         | 2/20 [00:02<00:25,  1.44s/it]\u001b[A\n",
      " 15%|█▌        | 3/20 [00:04<00:23,  1.36s/it]\u001b[A\n",
      " 20%|██        | 4/20 [00:05<00:21,  1.36s/it]\u001b[A\n",
      " 25%|██▌       | 5/20 [00:06<00:19,  1.28s/it]\u001b[A\n",
      " 30%|███       | 6/20 [00:07<00:17,  1.22s/it]\u001b[A\n",
      " 35%|███▌      | 7/20 [00:09<00:15,  1.23s/it]\u001b[A\n",
      " 40%|████      | 8/20 [00:10<00:13,  1.15s/it]\u001b[A\n",
      " 45%|████▌     | 9/20 [00:10<00:11,  1.09s/it]\u001b[A\n",
      " 50%|█████     | 10/20 [00:11<00:10,  1.02s/it]\u001b[A\n",
      " 55%|█████▌    | 11/20 [00:12<00:09,  1.03s/it]\u001b[A\n",
      " 60%|██████    | 12/20 [00:13<00:07,  1.04it/s]\u001b[A\n",
      " 65%|██████▌   | 13/20 [00:14<00:06,  1.12it/s]\u001b[A\n",
      " 70%|███████   | 14/20 [00:15<00:04,  1.20it/s]\u001b[A\n",
      " 75%|███████▌  | 15/20 [00:15<00:03,  1.29it/s]\u001b[A\n",
      " 80%|████████  | 16/20 [00:16<00:02,  1.37it/s]\u001b[A\n",
      " 85%|████████▌ | 17/20 [00:17<00:02,  1.35it/s]\u001b[A\n",
      " 90%|█████████ | 18/20 [00:17<00:01,  1.50it/s]\u001b[A\n",
      " 95%|█████████▌| 19/20 [00:18<00:00,  1.67it/s]\u001b[A\n",
      "100%|██████████| 20/20 [00:18<00:00,  1.08it/s]\u001b[A\n"
     ]
    },
    {
     "name": "stdout",
     "output_type": "stream",
     "text": [
      "generator loss:0.029610197192108924\n",
      "-----------------------\n"
     ]
    },
    {
     "name": "stderr",
     "output_type": "stream",
     "text": [
      "70it [28:03, 23.14s/it]\n",
      "  0%|          | 0/20 [00:00<?, ?it/s]\u001b[A"
     ]
    },
    {
     "name": "stdout",
     "output_type": "stream",
     "text": [
      "total discriminator loss:0.04816552152838123\n",
      "-----------------------\n",
      "Training Step: 71\n"
     ]
    },
    {
     "name": "stderr",
     "output_type": "stream",
     "text": [
      "\n",
      "  5%|▌         | 1/20 [00:01<00:26,  1.38s/it]\u001b[A\n",
      " 10%|█         | 2/20 [00:02<00:24,  1.34s/it]\u001b[A\n",
      " 15%|█▌        | 3/20 [00:04<00:22,  1.35s/it]\u001b[A\n",
      " 20%|██        | 4/20 [00:05<00:20,  1.30s/it]\u001b[A\n",
      " 25%|██▌       | 5/20 [00:06<00:19,  1.29s/it]\u001b[A\n",
      " 30%|███       | 6/20 [00:07<00:17,  1.22s/it]\u001b[A\n",
      " 35%|███▌      | 7/20 [00:08<00:15,  1.16s/it]\u001b[A\n",
      " 40%|████      | 8/20 [00:09<00:13,  1.11s/it]\u001b[A\n",
      " 45%|████▌     | 9/20 [00:10<00:12,  1.11s/it]\u001b[A\n",
      " 50%|█████     | 10/20 [00:11<00:10,  1.03s/it]\u001b[A\n",
      " 55%|█████▌    | 11/20 [00:12<00:08,  1.04it/s]\u001b[A\n",
      " 60%|██████    | 12/20 [00:13<00:07,  1.10it/s]\u001b[A\n",
      " 65%|██████▌   | 13/20 [00:14<00:06,  1.09it/s]\u001b[A\n",
      " 70%|███████   | 14/20 [00:14<00:05,  1.19it/s]\u001b[A\n",
      " 75%|███████▌  | 15/20 [00:15<00:03,  1.28it/s]\u001b[A\n",
      " 80%|████████  | 16/20 [00:16<00:02,  1.37it/s]\u001b[A\n",
      " 85%|████████▌ | 17/20 [00:16<00:01,  1.50it/s]\u001b[A\n",
      " 90%|█████████ | 18/20 [00:17<00:01,  1.64it/s]\u001b[A\n",
      " 95%|█████████▌| 19/20 [00:17<00:00,  1.80it/s]\u001b[A\n",
      "100%|██████████| 20/20 [00:17<00:00,  1.12it/s]\u001b[A\n"
     ]
    },
    {
     "name": "stdout",
     "output_type": "stream",
     "text": [
      "generator loss:0.03274252829645108\n",
      "-----------------------\n"
     ]
    },
    {
     "name": "stderr",
     "output_type": "stream",
     "text": [
      "71it [28:26, 23.03s/it]\n",
      "  0%|          | 0/20 [00:00<?, ?it/s]\u001b[A"
     ]
    },
    {
     "name": "stdout",
     "output_type": "stream",
     "text": [
      "total discriminator loss:0.03715394498260481\n",
      "-----------------------\n",
      "Training Step: 72\n"
     ]
    },
    {
     "name": "stderr",
     "output_type": "stream",
     "text": [
      "\n",
      "  5%|▌         | 1/20 [00:01<00:28,  1.51s/it]\u001b[A\n",
      " 10%|█         | 2/20 [00:02<00:26,  1.45s/it]\u001b[A\n",
      " 15%|█▌        | 3/20 [00:04<00:23,  1.35s/it]\u001b[A\n",
      " 20%|██        | 4/20 [00:05<00:21,  1.35s/it]\u001b[A\n",
      " 25%|██▌       | 5/20 [00:06<00:18,  1.26s/it]\u001b[A\n",
      " 30%|███       | 6/20 [00:07<00:16,  1.20s/it]\u001b[A\n",
      " 35%|███▌      | 7/20 [00:08<00:15,  1.20s/it]\u001b[A\n",
      " 40%|████      | 8/20 [00:09<00:13,  1.13s/it]\u001b[A\n",
      " 45%|████▌     | 9/20 [00:10<00:11,  1.07s/it]\u001b[A\n",
      " 50%|█████     | 10/20 [00:11<00:10,  1.01s/it]\u001b[A\n",
      " 55%|█████▌    | 11/20 [00:12<00:09,  1.01s/it]\u001b[A\n",
      " 60%|██████    | 12/20 [00:13<00:07,  1.06it/s]\u001b[A\n",
      " 65%|██████▌   | 13/20 [00:14<00:06,  1.14it/s]\u001b[A\n",
      " 70%|███████   | 14/20 [00:14<00:04,  1.22it/s]\u001b[A\n",
      " 75%|███████▌  | 15/20 [00:15<00:03,  1.31it/s]\u001b[A\n",
      " 80%|████████  | 16/20 [00:16<00:02,  1.40it/s]\u001b[A\n",
      " 85%|████████▌ | 17/20 [00:16<00:02,  1.37it/s]\u001b[A\n",
      " 90%|█████████ | 18/20 [00:17<00:01,  1.52it/s]\u001b[A\n",
      " 95%|█████████▌| 19/20 [00:17<00:00,  1.69it/s]\u001b[A\n",
      "100%|██████████| 20/20 [00:18<00:00,  1.10it/s]\u001b[A\n"
     ]
    },
    {
     "name": "stdout",
     "output_type": "stream",
     "text": [
      "generator loss:0.03126600040538483\n",
      "-----------------------\n"
     ]
    },
    {
     "name": "stderr",
     "output_type": "stream",
     "text": [
      "72it [28:49, 23.05s/it]\n",
      "  0%|          | 0/20 [00:00<?, ?it/s]\u001b[A"
     ]
    },
    {
     "name": "stdout",
     "output_type": "stream",
     "text": [
      "total discriminator loss:0.046596567689916775\n",
      "-----------------------\n",
      "Training Step: 73\n"
     ]
    },
    {
     "name": "stderr",
     "output_type": "stream",
     "text": [
      "\n",
      "  5%|▌         | 1/20 [00:01<00:25,  1.36s/it]\u001b[A\n",
      " 10%|█         | 2/20 [00:02<00:23,  1.32s/it]\u001b[A\n",
      " 15%|█▌        | 3/20 [00:04<00:22,  1.34s/it]\u001b[A\n",
      " 20%|██        | 4/20 [00:05<00:20,  1.28s/it]\u001b[A\n",
      " 25%|██▌       | 5/20 [00:06<00:19,  1.27s/it]\u001b[A\n",
      " 30%|███       | 6/20 [00:07<00:16,  1.20s/it]\u001b[A\n",
      " 35%|███▌      | 7/20 [00:08<00:14,  1.15s/it]\u001b[A\n",
      " 40%|████      | 8/20 [00:09<00:13,  1.15s/it]\u001b[A\n",
      " 45%|████▌     | 9/20 [00:10<00:11,  1.08s/it]\u001b[A\n",
      " 50%|█████     | 10/20 [00:11<00:10,  1.02s/it]\u001b[A\n",
      " 55%|█████▌    | 11/20 [00:12<00:08,  1.04it/s]\u001b[A\n",
      " 60%|██████    | 12/20 [00:13<00:07,  1.10it/s]\u001b[A\n",
      " 65%|██████▌   | 13/20 [00:14<00:06,  1.09it/s]\u001b[A\n",
      " 70%|███████   | 14/20 [00:14<00:05,  1.18it/s]\u001b[A\n",
      " 75%|███████▌  | 15/20 [00:15<00:03,  1.27it/s]\u001b[A\n",
      " 80%|████████  | 16/20 [00:16<00:02,  1.36it/s]\u001b[A\n",
      " 85%|████████▌ | 17/20 [00:16<00:02,  1.48it/s]\u001b[A\n",
      " 90%|█████████ | 18/20 [00:17<00:01,  1.61it/s]\u001b[A\n",
      " 95%|█████████▌| 19/20 [00:17<00:00,  1.77it/s]\u001b[A\n",
      "100%|██████████| 20/20 [00:17<00:00,  1.12it/s]\u001b[A\n"
     ]
    },
    {
     "name": "stdout",
     "output_type": "stream",
     "text": [
      "generator loss:0.03280125541648808\n",
      "-----------------------\n"
     ]
    },
    {
     "name": "stderr",
     "output_type": "stream",
     "text": [
      "73it [29:12, 23.05s/it]\n",
      "  0%|          | 0/20 [00:00<?, ?it/s]\u001b[A"
     ]
    },
    {
     "name": "stdout",
     "output_type": "stream",
     "text": [
      "total discriminator loss:0.035401919011858136\n",
      "-----------------------\n",
      "Training Step: 74\n"
     ]
    },
    {
     "name": "stderr",
     "output_type": "stream",
     "text": [
      "\n",
      "  5%|▌         | 1/20 [00:01<00:25,  1.36s/it]\u001b[A\n",
      " 10%|█         | 2/20 [00:02<00:23,  1.33s/it]\u001b[A\n",
      " 15%|█▌        | 3/20 [00:03<00:21,  1.29s/it]\u001b[A\n",
      " 20%|██        | 4/20 [00:05<00:19,  1.24s/it]\u001b[A\n",
      " 25%|██▌       | 5/20 [00:06<00:17,  1.20s/it]\u001b[A\n",
      " 30%|███       | 6/20 [00:07<00:16,  1.21s/it]\u001b[A\n",
      " 35%|███▌      | 7/20 [00:08<00:15,  1.16s/it]\u001b[A\n",
      " 40%|████      | 8/20 [00:09<00:13,  1.11s/it]\u001b[A\n",
      " 45%|████▌     | 9/20 [00:10<00:12,  1.12s/it]\u001b[A\n",
      " 50%|█████     | 10/20 [00:11<00:10,  1.04s/it]\u001b[A\n",
      " 55%|█████▌    | 11/20 [00:12<00:08,  1.02it/s]\u001b[A\n",
      " 60%|██████    | 12/20 [00:13<00:07,  1.09it/s]\u001b[A\n",
      " 65%|██████▌   | 13/20 [00:13<00:05,  1.17it/s]\u001b[A\n",
      " 70%|███████   | 14/20 [00:14<00:05,  1.15it/s]\u001b[A\n",
      " 75%|███████▌  | 15/20 [00:15<00:03,  1.25it/s]\u001b[A\n",
      " 80%|████████  | 16/20 [00:15<00:02,  1.35it/s]\u001b[A\n",
      " 85%|████████▌ | 17/20 [00:16<00:02,  1.47it/s]\u001b[A\n",
      " 90%|█████████ | 18/20 [00:16<00:01,  1.61it/s]\u001b[A\n",
      " 95%|█████████▌| 19/20 [00:17<00:00,  1.78it/s]\u001b[A\n",
      "100%|██████████| 20/20 [00:17<00:00,  1.12it/s]\u001b[A\n"
     ]
    },
    {
     "name": "stdout",
     "output_type": "stream",
     "text": [
      "generator loss:0.029863397136167442\n",
      "-----------------------\n"
     ]
    },
    {
     "name": "stderr",
     "output_type": "stream",
     "text": [
      "74it [29:35, 22.93s/it]\n",
      "  0%|          | 0/20 [00:00<?, ?it/s]\u001b[A"
     ]
    },
    {
     "name": "stdout",
     "output_type": "stream",
     "text": [
      "total discriminator loss:0.03588188135001387\n",
      "-----------------------\n",
      "Training Step: 75\n"
     ]
    },
    {
     "name": "stderr",
     "output_type": "stream",
     "text": [
      "\n",
      "  5%|▌         | 1/20 [00:01<00:27,  1.45s/it]\u001b[A\n",
      " 10%|█         | 2/20 [00:02<00:24,  1.36s/it]\u001b[A\n",
      " 15%|█▌        | 3/20 [00:04<00:23,  1.36s/it]\u001b[A\n",
      " 20%|██        | 4/20 [00:05<00:20,  1.29s/it]\u001b[A\n",
      " 25%|██▌       | 5/20 [00:06<00:19,  1.28s/it]\u001b[A\n",
      " 30%|███       | 6/20 [00:07<00:16,  1.20s/it]\u001b[A\n",
      " 35%|███▌      | 7/20 [00:08<00:14,  1.14s/it]\u001b[A\n",
      " 40%|████      | 8/20 [00:09<00:13,  1.14s/it]\u001b[A\n",
      " 45%|████▌     | 9/20 [00:10<00:11,  1.08s/it]\u001b[A\n",
      " 50%|█████     | 10/20 [00:11<00:10,  1.02s/it]\u001b[A\n",
      " 55%|█████▌    | 11/20 [00:12<00:08,  1.04it/s]\u001b[A\n",
      " 60%|██████    | 12/20 [00:13<00:07,  1.04it/s]\u001b[A\n",
      " 65%|██████▌   | 13/20 [00:14<00:06,  1.12it/s]\u001b[A\n",
      " 70%|███████   | 14/20 [00:14<00:04,  1.21it/s]\u001b[A\n",
      " 75%|███████▌  | 15/20 [00:15<00:03,  1.30it/s]\u001b[A\n",
      " 80%|████████  | 16/20 [00:16<00:02,  1.40it/s]\u001b[A\n",
      " 85%|████████▌ | 17/20 [00:16<00:01,  1.51it/s]\u001b[A\n",
      " 90%|█████████ | 18/20 [00:17<00:01,  1.65it/s]\u001b[A\n",
      " 95%|█████████▌| 19/20 [00:17<00:00,  1.60it/s]\u001b[A\n",
      "100%|██████████| 20/20 [00:18<00:00,  1.10it/s]\u001b[A\n"
     ]
    },
    {
     "name": "stdout",
     "output_type": "stream",
     "text": [
      "generator loss:0.02841664606741757\n",
      "-----------------------\n"
     ]
    },
    {
     "name": "stderr",
     "output_type": "stream",
     "text": [
      "75it [29:58, 22.94s/it]\n",
      "  0%|          | 0/20 [00:00<?, ?it/s]\u001b[A"
     ]
    },
    {
     "name": "stdout",
     "output_type": "stream",
     "text": [
      "total discriminator loss:0.03627512934163583\n",
      "-----------------------\n",
      "Training Step: 76\n"
     ]
    },
    {
     "name": "stderr",
     "output_type": "stream",
     "text": [
      "\n",
      "  5%|▌         | 1/20 [00:01<00:25,  1.36s/it]\u001b[A\n",
      " 10%|█         | 2/20 [00:02<00:23,  1.32s/it]\u001b[A\n",
      " 15%|█▌        | 3/20 [00:03<00:22,  1.33s/it]\u001b[A\n",
      " 20%|██        | 4/20 [00:05<00:21,  1.33s/it]\u001b[A\n",
      " 25%|██▌       | 5/20 [00:06<00:18,  1.26s/it]\u001b[A\n",
      " 30%|███       | 6/20 [00:07<00:16,  1.20s/it]\u001b[A\n",
      " 35%|███▌      | 7/20 [00:08<00:15,  1.19s/it]\u001b[A\n",
      " 40%|████      | 8/20 [00:09<00:13,  1.12s/it]\u001b[A\n",
      " 45%|████▌     | 9/20 [00:10<00:11,  1.06s/it]\u001b[A\n",
      " 50%|█████     | 10/20 [00:11<00:09,  1.00it/s]\u001b[A\n",
      " 55%|█████▌    | 11/20 [00:12<00:09,  1.00s/it]\u001b[A\n",
      " 60%|██████    | 12/20 [00:13<00:07,  1.07it/s]\u001b[A\n",
      " 65%|██████▌   | 13/20 [00:13<00:06,  1.15it/s]\u001b[A\n",
      " 70%|███████   | 14/20 [00:14<00:04,  1.23it/s]\u001b[A\n",
      " 75%|███████▌  | 15/20 [00:15<00:03,  1.32it/s]\u001b[A\n",
      " 80%|████████  | 16/20 [00:15<00:02,  1.41it/s]\u001b[A\n",
      " 85%|████████▌ | 17/20 [00:16<00:02,  1.38it/s]\u001b[A\n",
      " 90%|█████████ | 18/20 [00:17<00:01,  1.54it/s]\u001b[A\n",
      " 95%|█████████▌| 19/20 [00:17<00:00,  1.71it/s]\u001b[A\n",
      "100%|██████████| 20/20 [00:17<00:00,  1.11it/s]\u001b[A\n"
     ]
    },
    {
     "name": "stdout",
     "output_type": "stream",
     "text": [
      "generator loss:0.0273402133645142\n",
      "-----------------------\n"
     ]
    },
    {
     "name": "stderr",
     "output_type": "stream",
     "text": [
      "76it [30:21, 22.91s/it]\n",
      "  0%|          | 0/20 [00:00<?, ?it/s]\u001b[A"
     ]
    },
    {
     "name": "stdout",
     "output_type": "stream",
     "text": [
      "total discriminator loss:0.033576418587067836\n",
      "-----------------------\n",
      "Training Step: 77\n"
     ]
    },
    {
     "name": "stderr",
     "output_type": "stream",
     "text": [
      "\n",
      "  5%|▌         | 1/20 [00:01<00:25,  1.37s/it]\u001b[A\n",
      " 10%|█         | 2/20 [00:02<00:24,  1.34s/it]\u001b[A\n",
      " 15%|█▌        | 3/20 [00:04<00:23,  1.36s/it]\u001b[A\n",
      " 20%|██        | 4/20 [00:05<00:20,  1.30s/it]\u001b[A\n",
      " 25%|██▌       | 5/20 [00:06<00:18,  1.24s/it]\u001b[A\n",
      " 30%|███       | 6/20 [00:07<00:17,  1.24s/it]\u001b[A\n",
      " 35%|███▌      | 7/20 [00:08<00:15,  1.18s/it]\u001b[A\n",
      " 40%|████      | 8/20 [00:09<00:13,  1.12s/it]\u001b[A\n",
      " 45%|████▌     | 9/20 [00:10<00:12,  1.12s/it]\u001b[A\n",
      " 50%|█████     | 10/20 [00:11<00:10,  1.06s/it]\u001b[A\n",
      " 55%|█████▌    | 11/20 [00:12<00:09,  1.01s/it]\u001b[A\n",
      " 60%|██████    | 12/20 [00:13<00:07,  1.06it/s]\u001b[A\n",
      " 65%|██████▌   | 13/20 [00:14<00:06,  1.06it/s]\u001b[A\n",
      " 70%|███████   | 14/20 [00:15<00:05,  1.12it/s]\u001b[A\n",
      " 75%|███████▌  | 15/20 [00:15<00:04,  1.20it/s]\u001b[A\n",
      " 80%|████████  | 16/20 [00:16<00:03,  1.31it/s]\u001b[A\n",
      " 85%|████████▌ | 17/20 [00:16<00:02,  1.44it/s]\u001b[A\n",
      " 90%|█████████ | 18/20 [00:17<00:01,  1.58it/s]\u001b[A\n",
      " 95%|█████████▌| 19/20 [00:17<00:00,  1.74it/s]\u001b[A\n",
      "100%|██████████| 20/20 [00:18<00:00,  1.09it/s]\u001b[A\n"
     ]
    },
    {
     "name": "stdout",
     "output_type": "stream",
     "text": [
      "generator loss:0.031096827768453718\n",
      "-----------------------\n"
     ]
    },
    {
     "name": "stderr",
     "output_type": "stream",
     "text": [
      "77it [30:44, 23.02s/it]\n",
      "  0%|          | 0/20 [00:00<?, ?it/s]\u001b[A"
     ]
    },
    {
     "name": "stdout",
     "output_type": "stream",
     "text": [
      "total discriminator loss:0.03207710741870087\n",
      "-----------------------\n",
      "Training Step: 78\n"
     ]
    },
    {
     "name": "stderr",
     "output_type": "stream",
     "text": [
      "\n",
      "  5%|▌         | 1/20 [00:01<00:28,  1.51s/it]\u001b[A\n",
      " 10%|█         | 2/20 [00:02<00:26,  1.47s/it]\u001b[A\n",
      " 15%|█▌        | 3/20 [00:04<00:23,  1.37s/it]\u001b[A\n",
      " 20%|██        | 4/20 [00:05<00:21,  1.35s/it]\u001b[A\n",
      " 25%|██▌       | 5/20 [00:06<00:18,  1.27s/it]\u001b[A\n",
      " 30%|███       | 6/20 [00:07<00:16,  1.20s/it]\u001b[A\n",
      " 35%|███▌      | 7/20 [00:08<00:15,  1.19s/it]\u001b[A\n",
      " 40%|████      | 8/20 [00:09<00:13,  1.12s/it]\u001b[A\n",
      " 45%|████▌     | 9/20 [00:10<00:11,  1.07s/it]\u001b[A\n",
      " 50%|█████     | 10/20 [00:11<00:10,  1.01s/it]\u001b[A\n",
      " 55%|█████▌    | 11/20 [00:12<00:09,  1.02s/it]\u001b[A\n",
      " 60%|██████    | 12/20 [00:13<00:07,  1.04it/s]\u001b[A\n",
      " 65%|██████▌   | 13/20 [00:14<00:06,  1.12it/s]\u001b[A\n",
      " 70%|███████   | 14/20 [00:14<00:04,  1.21it/s]\u001b[A\n",
      " 75%|███████▌  | 15/20 [00:15<00:03,  1.30it/s]\u001b[A\n",
      " 80%|████████  | 16/20 [00:16<00:02,  1.38it/s]\u001b[A\n",
      " 85%|████████▌ | 17/20 [00:16<00:01,  1.51it/s]\u001b[A\n",
      " 90%|█████████ | 18/20 [00:17<00:01,  1.47it/s]\u001b[A\n",
      " 95%|█████████▌| 19/20 [00:17<00:00,  1.65it/s]\u001b[A\n",
      "100%|██████████| 20/20 [00:18<00:00,  1.09it/s]\u001b[A\n"
     ]
    },
    {
     "name": "stdout",
     "output_type": "stream",
     "text": [
      "generator loss:0.03169188804577229\n",
      "-----------------------\n"
     ]
    },
    {
     "name": "stderr",
     "output_type": "stream",
     "text": [
      "78it [31:07, 23.06s/it]\n",
      "  0%|          | 0/20 [00:00<?, ?it/s]\u001b[A"
     ]
    },
    {
     "name": "stdout",
     "output_type": "stream",
     "text": [
      "total discriminator loss:0.030139920886878863\n",
      "-----------------------\n",
      "Training Step: 79\n"
     ]
    },
    {
     "name": "stderr",
     "output_type": "stream",
     "text": [
      "\n",
      "  5%|▌         | 1/20 [00:01<00:26,  1.37s/it]\u001b[A\n",
      " 10%|█         | 2/20 [00:02<00:23,  1.33s/it]\u001b[A\n",
      " 15%|█▌        | 3/20 [00:03<00:21,  1.29s/it]\u001b[A\n",
      " 20%|██        | 4/20 [00:05<00:20,  1.30s/it]\u001b[A\n",
      " 25%|██▌       | 5/20 [00:06<00:18,  1.23s/it]\u001b[A\n",
      " 30%|███       | 6/20 [00:07<00:16,  1.17s/it]\u001b[A\n",
      " 35%|███▌      | 7/20 [00:08<00:15,  1.18s/it]\u001b[A\n",
      " 40%|████      | 8/20 [00:09<00:13,  1.12s/it]\u001b[A\n",
      " 45%|████▌     | 9/20 [00:10<00:11,  1.06s/it]\u001b[A\n",
      " 50%|█████     | 10/20 [00:11<00:10,  1.06s/it]\u001b[A\n",
      " 55%|█████▌    | 11/20 [00:12<00:08,  1.02it/s]\u001b[A\n",
      " 60%|██████    | 12/20 [00:13<00:07,  1.09it/s]\u001b[A\n",
      " 65%|██████▌   | 13/20 [00:13<00:06,  1.16it/s]\u001b[A\n",
      " 70%|███████   | 14/20 [00:14<00:04,  1.24it/s]\u001b[A\n",
      " 75%|███████▌  | 15/20 [00:15<00:03,  1.33it/s]\u001b[A\n",
      " 80%|████████  | 16/20 [00:16<00:03,  1.27it/s]\u001b[A\n",
      " 85%|████████▌ | 17/20 [00:16<00:02,  1.41it/s]\u001b[A\n",
      " 90%|█████████ | 18/20 [00:17<00:01,  1.56it/s]\u001b[A\n",
      " 95%|█████████▌| 19/20 [00:17<00:00,  1.73it/s]\u001b[A\n",
      "100%|██████████| 20/20 [00:17<00:00,  1.12it/s]\u001b[A\n"
     ]
    },
    {
     "name": "stdout",
     "output_type": "stream",
     "text": [
      "generator loss:0.03391890721110028\n",
      "-----------------------\n"
     ]
    },
    {
     "name": "stderr",
     "output_type": "stream",
     "text": [
      "79it [31:30, 22.97s/it]\n",
      "  0%|          | 0/20 [00:00<?, ?it/s]\u001b[A"
     ]
    },
    {
     "name": "stdout",
     "output_type": "stream",
     "text": [
      "total discriminator loss:0.0471134183952946\n",
      "-----------------------\n",
      "Training Step: 80\n"
     ]
    },
    {
     "name": "stderr",
     "output_type": "stream",
     "text": [
      "\n",
      "  5%|▌         | 1/20 [00:01<00:26,  1.38s/it]\u001b[A\n",
      " 10%|█         | 2/20 [00:02<00:23,  1.33s/it]\u001b[A\n",
      " 15%|█▌        | 3/20 [00:04<00:22,  1.35s/it]\u001b[A\n",
      " 20%|██        | 4/20 [00:05<00:20,  1.29s/it]\u001b[A\n",
      " 25%|██▌       | 5/20 [00:06<00:19,  1.28s/it]\u001b[A\n",
      " 30%|███       | 6/20 [00:07<00:16,  1.21s/it]\u001b[A\n",
      " 35%|███▌      | 7/20 [00:08<00:14,  1.15s/it]\u001b[A\n",
      " 40%|████      | 8/20 [00:09<00:13,  1.15s/it]\u001b[A\n",
      " 45%|████▌     | 9/20 [00:10<00:11,  1.09s/it]\u001b[A\n",
      " 50%|█████     | 10/20 [00:11<00:10,  1.02s/it]\u001b[A\n",
      " 55%|█████▌    | 11/20 [00:12<00:08,  1.04it/s]\u001b[A\n",
      " 60%|██████    | 12/20 [00:13<00:07,  1.04it/s]\u001b[A\n",
      " 65%|██████▌   | 13/20 [00:14<00:06,  1.12it/s]\u001b[A\n",
      " 70%|███████   | 14/20 [00:14<00:05,  1.20it/s]\u001b[A\n",
      " 75%|███████▌  | 15/20 [00:15<00:03,  1.29it/s]\u001b[A\n",
      " 80%|████████  | 16/20 [00:16<00:02,  1.38it/s]\u001b[A\n",
      " 85%|████████▌ | 17/20 [00:16<00:02,  1.49it/s]\u001b[A\n",
      " 90%|█████████ | 18/20 [00:17<00:01,  1.62it/s]\u001b[A\n",
      " 95%|█████████▌| 19/20 [00:17<00:00,  1.77it/s]\u001b[A\n",
      "100%|██████████| 20/20 [00:18<00:00,  1.10it/s]\u001b[A\n"
     ]
    },
    {
     "name": "stdout",
     "output_type": "stream",
     "text": [
      "generator loss:0.03041669615504845\n",
      "-----------------------\n"
     ]
    },
    {
     "name": "stderr",
     "output_type": "stream",
     "text": [
      "80it [31:53, 22.99s/it]\n",
      "  0%|          | 0/20 [00:00<?, ?it/s]\u001b[A"
     ]
    },
    {
     "name": "stdout",
     "output_type": "stream",
     "text": [
      "total discriminator loss:0.03698141735296141\n",
      "-----------------------\n",
      "Training Step: 81\n"
     ]
    },
    {
     "name": "stderr",
     "output_type": "stream",
     "text": [
      "\n",
      "  5%|▌         | 1/20 [00:01<00:25,  1.36s/it]\u001b[A\n",
      " 10%|█         | 2/20 [00:02<00:23,  1.33s/it]\u001b[A\n",
      " 15%|█▌        | 3/20 [00:03<00:22,  1.30s/it]\u001b[A\n",
      " 20%|██        | 4/20 [00:05<00:20,  1.27s/it]\u001b[A\n",
      " 25%|██▌       | 5/20 [00:06<00:19,  1.27s/it]\u001b[A\n",
      " 30%|███       | 6/20 [00:07<00:16,  1.21s/it]\u001b[A\n",
      " 35%|███▌      | 7/20 [00:08<00:15,  1.22s/it]\u001b[A\n",
      " 40%|████      | 8/20 [00:09<00:13,  1.15s/it]\u001b[A\n",
      " 45%|████▌     | 9/20 [00:10<00:11,  1.08s/it]\u001b[A\n",
      " 50%|█████     | 10/20 [00:11<00:10,  1.02s/it]\u001b[A\n",
      " 55%|█████▌    | 11/20 [00:12<00:09,  1.02s/it]\u001b[A\n",
      " 60%|██████    | 12/20 [00:13<00:07,  1.05it/s]\u001b[A\n",
      " 65%|██████▌   | 13/20 [00:14<00:06,  1.13it/s]\u001b[A\n",
      " 70%|███████   | 14/20 [00:14<00:04,  1.21it/s]\u001b[A\n",
      " 75%|███████▌  | 15/20 [00:15<00:03,  1.30it/s]\u001b[A\n",
      " 80%|████████  | 16/20 [00:16<00:02,  1.38it/s]\u001b[A\n",
      " 85%|████████▌ | 17/20 [00:16<00:02,  1.49it/s]\u001b[A\n",
      " 90%|█████████ | 18/20 [00:17<00:01,  1.63it/s]\u001b[A\n",
      " 95%|█████████▌| 19/20 [00:17<00:00,  1.58it/s]\u001b[A\n",
      "100%|██████████| 20/20 [00:18<00:00,  1.10it/s]\u001b[A\n"
     ]
    },
    {
     "name": "stdout",
     "output_type": "stream",
     "text": [
      "generator loss:0.027325540832771632\n",
      "-----------------------\n"
     ]
    },
    {
     "name": "stderr",
     "output_type": "stream",
     "text": [
      "81it [32:16, 23.03s/it]\n",
      "  0%|          | 0/20 [00:00<?, ?it/s]\u001b[A"
     ]
    },
    {
     "name": "stdout",
     "output_type": "stream",
     "text": [
      "total discriminator loss:0.029687838883536745\n",
      "-----------------------\n",
      "Training Step: 82\n"
     ]
    },
    {
     "name": "stderr",
     "output_type": "stream",
     "text": [
      "\n",
      "  5%|▌         | 1/20 [00:01<00:26,  1.37s/it]\u001b[A\n",
      " 10%|█         | 2/20 [00:02<00:24,  1.34s/it]\u001b[A\n",
      " 15%|█▌        | 3/20 [00:03<00:22,  1.30s/it]\u001b[A\n",
      " 20%|██        | 4/20 [00:05<00:20,  1.31s/it]\u001b[A\n",
      " 25%|██▌       | 5/20 [00:06<00:18,  1.24s/it]\u001b[A\n",
      " 30%|███       | 6/20 [00:07<00:16,  1.18s/it]\u001b[A\n",
      " 35%|███▌      | 7/20 [00:08<00:15,  1.18s/it]\u001b[A\n",
      " 40%|████      | 8/20 [00:09<00:13,  1.12s/it]\u001b[A\n",
      " 45%|████▌     | 9/20 [00:10<00:11,  1.06s/it]\u001b[A\n",
      " 50%|█████     | 10/20 [00:11<00:10,  1.06s/it]\u001b[A\n",
      " 55%|█████▌    | 11/20 [00:12<00:08,  1.00it/s]\u001b[A\n",
      " 60%|██████    | 12/20 [00:13<00:07,  1.07it/s]\u001b[A\n",
      " 65%|██████▌   | 13/20 [00:14<00:06,  1.14it/s]\u001b[A\n",
      " 70%|███████   | 14/20 [00:14<00:04,  1.22it/s]\u001b[A\n",
      " 75%|███████▌  | 15/20 [00:15<00:03,  1.30it/s]\u001b[A\n",
      " 80%|████████  | 16/20 [00:15<00:02,  1.39it/s]\u001b[A\n",
      " 85%|████████▌ | 17/20 [00:16<00:02,  1.37it/s]\u001b[A\n",
      " 90%|█████████ | 18/20 [00:17<00:01,  1.52it/s]\u001b[A\n",
      " 95%|█████████▌| 19/20 [00:17<00:00,  1.70it/s]\u001b[A\n",
      "100%|██████████| 20/20 [00:18<00:00,  1.11it/s]\u001b[A\n"
     ]
    },
    {
     "name": "stdout",
     "output_type": "stream",
     "text": [
      "generator loss:0.030032699452622963\n",
      "-----------------------\n"
     ]
    },
    {
     "name": "stderr",
     "output_type": "stream",
     "text": [
      "82it [32:39, 22.96s/it]\n",
      "  0%|          | 0/20 [00:00<?, ?it/s]\u001b[A"
     ]
    },
    {
     "name": "stdout",
     "output_type": "stream",
     "text": [
      "total discriminator loss:0.028466073654990303\n",
      "-----------------------\n",
      "Training Step: 83\n"
     ]
    },
    {
     "name": "stderr",
     "output_type": "stream",
     "text": [
      "\n",
      "  5%|▌         | 1/20 [00:01<00:25,  1.37s/it]\u001b[A\n",
      " 10%|█         | 2/20 [00:02<00:23,  1.32s/it]\u001b[A\n",
      " 15%|█▌        | 3/20 [00:04<00:22,  1.34s/it]\u001b[A\n",
      " 20%|██        | 4/20 [00:05<00:20,  1.28s/it]\u001b[A\n",
      " 25%|██▌       | 5/20 [00:06<00:19,  1.28s/it]\u001b[A\n",
      " 30%|███       | 6/20 [00:07<00:16,  1.21s/it]\u001b[A\n",
      " 35%|███▌      | 7/20 [00:08<00:15,  1.16s/it]\u001b[A\n",
      " 40%|████      | 8/20 [00:09<00:14,  1.17s/it]\u001b[A\n",
      " 45%|████▌     | 9/20 [00:10<00:12,  1.10s/it]\u001b[A\n",
      " 50%|█████     | 10/20 [00:11<00:10,  1.03s/it]\u001b[A\n",
      " 55%|█████▌    | 11/20 [00:12<00:08,  1.03it/s]\u001b[A\n",
      " 60%|██████    | 12/20 [00:13<00:07,  1.10it/s]\u001b[A\n",
      " 65%|██████▌   | 13/20 [00:14<00:06,  1.09it/s]\u001b[A\n",
      " 70%|███████   | 14/20 [00:14<00:05,  1.18it/s]\u001b[A\n",
      " 75%|███████▌  | 15/20 [00:15<00:03,  1.28it/s]\u001b[A\n",
      " 80%|████████  | 16/20 [00:16<00:02,  1.37it/s]\u001b[A\n",
      " 85%|████████▌ | 17/20 [00:16<00:02,  1.48it/s]\u001b[A\n",
      " 90%|█████████ | 18/20 [00:17<00:01,  1.62it/s]\u001b[A\n",
      " 95%|█████████▌| 19/20 [00:17<00:00,  1.78it/s]\u001b[A\n",
      "100%|██████████| 20/20 [00:17<00:00,  1.11it/s]\u001b[A\n"
     ]
    },
    {
     "name": "stdout",
     "output_type": "stream",
     "text": [
      "generator loss:0.031723985993583184\n",
      "-----------------------\n"
     ]
    },
    {
     "name": "stderr",
     "output_type": "stream",
     "text": [
      "83it [33:02, 22.96s/it]\n",
      "  0%|          | 0/20 [00:00<?, ?it/s]\u001b[A"
     ]
    },
    {
     "name": "stdout",
     "output_type": "stream",
     "text": [
      "total discriminator loss:0.03958836433662101\n",
      "-----------------------\n",
      "Training Step: 84\n"
     ]
    },
    {
     "name": "stderr",
     "output_type": "stream",
     "text": [
      "\n",
      "  5%|▌         | 1/20 [00:01<00:26,  1.39s/it]\u001b[A\n",
      " 10%|█         | 2/20 [00:02<00:24,  1.36s/it]\u001b[A\n",
      " 15%|█▌        | 3/20 [00:03<00:22,  1.31s/it]\u001b[A\n",
      " 20%|██        | 4/20 [00:05<00:20,  1.27s/it]\u001b[A\n",
      " 25%|██▌       | 5/20 [00:06<00:19,  1.27s/it]\u001b[A\n",
      " 30%|███       | 6/20 [00:07<00:16,  1.20s/it]\u001b[A\n",
      " 35%|███▌      | 7/20 [00:08<00:14,  1.15s/it]\u001b[A\n",
      " 40%|████      | 8/20 [00:09<00:13,  1.15s/it]\u001b[A\n",
      " 45%|████▌     | 9/20 [00:10<00:11,  1.08s/it]\u001b[A\n",
      " 50%|█████     | 10/20 [00:11<00:10,  1.02s/it]\u001b[A\n",
      " 55%|█████▌    | 11/20 [00:12<00:08,  1.05it/s]\u001b[A\n",
      " 60%|██████    | 12/20 [00:13<00:07,  1.11it/s]\u001b[A\n",
      " 65%|██████▌   | 13/20 [00:14<00:06,  1.10it/s]\u001b[A\n",
      " 70%|███████   | 14/20 [00:14<00:05,  1.18it/s]\u001b[A\n",
      " 75%|███████▌  | 15/20 [00:15<00:03,  1.28it/s]\u001b[A\n",
      " 80%|████████  | 16/20 [00:15<00:02,  1.37it/s]\u001b[A\n",
      " 85%|████████▌ | 17/20 [00:16<00:02,  1.49it/s]\u001b[A\n",
      " 90%|█████████ | 18/20 [00:17<00:01,  1.63it/s]\u001b[A\n",
      " 95%|█████████▌| 19/20 [00:17<00:00,  1.79it/s]\u001b[A\n",
      "100%|██████████| 20/20 [00:17<00:00,  1.12it/s]\u001b[A\n"
     ]
    },
    {
     "name": "stdout",
     "output_type": "stream",
     "text": [
      "generator loss:0.028106537721665936\n",
      "-----------------------\n"
     ]
    },
    {
     "name": "stderr",
     "output_type": "stream",
     "text": [
      "84it [33:25, 22.89s/it]\n",
      "  0%|          | 0/20 [00:00<?, ?it/s]\u001b[A"
     ]
    },
    {
     "name": "stdout",
     "output_type": "stream",
     "text": [
      "total discriminator loss:0.0331927008257748\n",
      "-----------------------\n",
      "Training Step: 85\n"
     ]
    },
    {
     "name": "stderr",
     "output_type": "stream",
     "text": [
      "\n",
      "  5%|▌         | 1/20 [00:01<00:27,  1.47s/it]\u001b[A\n",
      " 10%|█         | 2/20 [00:02<00:26,  1.44s/it]\u001b[A\n",
      " 15%|█▌        | 3/20 [00:04<00:23,  1.37s/it]\u001b[A\n",
      " 20%|██        | 4/20 [00:05<00:21,  1.36s/it]\u001b[A\n",
      " 25%|██▌       | 5/20 [00:06<00:19,  1.28s/it]\u001b[A\n",
      " 30%|███       | 6/20 [00:07<00:17,  1.22s/it]\u001b[A\n",
      " 35%|███▌      | 7/20 [00:08<00:15,  1.22s/it]\u001b[A\n",
      " 40%|████      | 8/20 [00:09<00:13,  1.15s/it]\u001b[A\n",
      " 45%|████▌     | 9/20 [00:10<00:11,  1.08s/it]\u001b[A\n",
      " 50%|█████     | 10/20 [00:11<00:10,  1.08s/it]\u001b[A\n",
      " 55%|█████▌    | 11/20 [00:12<00:09,  1.01s/it]\u001b[A\n",
      " 60%|██████    | 12/20 [00:13<00:07,  1.06it/s]\u001b[A\n",
      " 65%|██████▌   | 13/20 [00:14<00:06,  1.14it/s]\u001b[A\n",
      " 70%|███████   | 14/20 [00:15<00:04,  1.22it/s]\u001b[A\n",
      " 75%|███████▌  | 15/20 [00:15<00:03,  1.31it/s]\u001b[A\n",
      " 80%|████████  | 16/20 [00:16<00:03,  1.27it/s]\u001b[A\n",
      " 85%|████████▌ | 17/20 [00:17<00:02,  1.41it/s]\u001b[A\n",
      " 90%|█████████ | 18/20 [00:17<00:01,  1.56it/s]\u001b[A\n",
      " 95%|█████████▌| 19/20 [00:17<00:00,  1.73it/s]\u001b[A\n",
      "100%|██████████| 20/20 [00:18<00:00,  1.09it/s]\u001b[A\n"
     ]
    },
    {
     "name": "stdout",
     "output_type": "stream",
     "text": [
      "generator loss:0.02780670384358842\n",
      "-----------------------\n"
     ]
    },
    {
     "name": "stderr",
     "output_type": "stream",
     "text": [
      "85it [33:48, 23.00s/it]\n",
      "  0%|          | 0/20 [00:00<?, ?it/s]\u001b[A"
     ]
    },
    {
     "name": "stdout",
     "output_type": "stream",
     "text": [
      "total discriminator loss:0.027486837069875945\n",
      "-----------------------\n",
      "Training Step: 86\n"
     ]
    },
    {
     "name": "stderr",
     "output_type": "stream",
     "text": [
      "\n",
      "  5%|▌         | 1/20 [00:01<00:26,  1.39s/it]\u001b[A\n",
      " 10%|█         | 2/20 [00:02<00:24,  1.34s/it]\u001b[A\n",
      " 15%|█▌        | 3/20 [00:04<00:22,  1.35s/it]\u001b[A\n",
      " 20%|██        | 4/20 [00:05<00:20,  1.29s/it]\u001b[A\n",
      " 25%|██▌       | 5/20 [00:06<00:19,  1.27s/it]\u001b[A\n",
      " 30%|███       | 6/20 [00:07<00:16,  1.20s/it]\u001b[A\n",
      " 35%|███▌      | 7/20 [00:08<00:14,  1.15s/it]\u001b[A\n",
      " 40%|████      | 8/20 [00:09<00:13,  1.15s/it]\u001b[A\n",
      " 45%|████▌     | 9/20 [00:10<00:11,  1.08s/it]\u001b[A\n",
      " 50%|█████     | 10/20 [00:11<00:10,  1.01s/it]\u001b[A\n",
      " 55%|█████▌    | 11/20 [00:12<00:08,  1.05it/s]\u001b[A\n",
      " 60%|██████    | 12/20 [00:13<00:07,  1.04it/s]\u001b[A\n",
      " 65%|██████▌   | 13/20 [00:14<00:06,  1.12it/s]\u001b[A\n",
      " 70%|███████   | 14/20 [00:14<00:04,  1.20it/s]\u001b[A\n",
      " 75%|███████▌  | 15/20 [00:15<00:03,  1.30it/s]\u001b[A\n",
      " 80%|████████  | 16/20 [00:15<00:02,  1.38it/s]\u001b[A\n",
      " 85%|████████▌ | 17/20 [00:16<00:02,  1.50it/s]\u001b[A\n",
      " 90%|█████████ | 18/20 [00:17<00:01,  1.63it/s]\u001b[A\n",
      " 95%|█████████▌| 19/20 [00:17<00:00,  1.58it/s]\u001b[A\n",
      "100%|██████████| 20/20 [00:18<00:00,  1.10it/s]\u001b[A\n"
     ]
    },
    {
     "name": "stdout",
     "output_type": "stream",
     "text": [
      "generator loss:0.028179723353024887\n",
      "-----------------------\n"
     ]
    },
    {
     "name": "stderr",
     "output_type": "stream",
     "text": [
      "86it [34:11, 22.99s/it]\n",
      "  0%|          | 0/20 [00:00<?, ?it/s]\u001b[A"
     ]
    },
    {
     "name": "stdout",
     "output_type": "stream",
     "text": [
      "total discriminator loss:0.03111721355013548\n",
      "-----------------------\n",
      "Training Step: 87\n"
     ]
    },
    {
     "name": "stderr",
     "output_type": "stream",
     "text": [
      "\n",
      "  5%|▌         | 1/20 [00:01<00:27,  1.42s/it]\u001b[A\n",
      " 10%|█         | 2/20 [00:02<00:24,  1.35s/it]\u001b[A\n",
      " 15%|█▌        | 3/20 [00:03<00:22,  1.30s/it]\u001b[A\n",
      " 20%|██        | 4/20 [00:05<00:20,  1.26s/it]\u001b[A\n",
      " 25%|██▌       | 5/20 [00:06<00:19,  1.28s/it]\u001b[A\n",
      " 30%|███       | 6/20 [00:07<00:17,  1.22s/it]\u001b[A\n",
      " 35%|███▌      | 7/20 [00:08<00:15,  1.22s/it]\u001b[A\n",
      " 40%|████      | 8/20 [00:09<00:13,  1.15s/it]\u001b[A\n",
      " 45%|████▌     | 9/20 [00:10<00:12,  1.09s/it]\u001b[A\n",
      " 50%|█████     | 10/20 [00:11<00:10,  1.02s/it]\u001b[A\n",
      " 55%|█████▌    | 11/20 [00:12<00:08,  1.04it/s]\u001b[A\n",
      " 60%|██████    | 12/20 [00:13<00:07,  1.04it/s]\u001b[A\n",
      " 65%|██████▌   | 13/20 [00:14<00:06,  1.12it/s]\u001b[A\n",
      " 70%|███████   | 14/20 [00:14<00:04,  1.21it/s]\u001b[A\n",
      " 75%|███████▌  | 15/20 [00:15<00:03,  1.30it/s]\u001b[A\n",
      " 80%|████████  | 16/20 [00:16<00:02,  1.39it/s]\u001b[A\n",
      " 85%|████████▌ | 17/20 [00:16<00:01,  1.51it/s]\u001b[A\n",
      " 90%|█████████ | 18/20 [00:17<00:01,  1.64it/s]\u001b[A\n",
      " 95%|█████████▌| 19/20 [00:17<00:00,  1.59it/s]\u001b[A\n",
      "100%|██████████| 20/20 [00:18<00:00,  1.10it/s]\u001b[A\n"
     ]
    },
    {
     "name": "stdout",
     "output_type": "stream",
     "text": [
      "generator loss:0.025904295511041876\n",
      "-----------------------\n"
     ]
    },
    {
     "name": "stderr",
     "output_type": "stream",
     "text": [
      "87it [34:34, 23.01s/it]\n",
      "  0%|          | 0/20 [00:00<?, ?it/s]\u001b[A"
     ]
    },
    {
     "name": "stdout",
     "output_type": "stream",
     "text": [
      "total discriminator loss:0.03858254654373931\n",
      "-----------------------\n",
      "Training Step: 88\n"
     ]
    },
    {
     "name": "stderr",
     "output_type": "stream",
     "text": [
      "\n",
      "  5%|▌         | 1/20 [00:01<00:26,  1.38s/it]\u001b[A\n",
      " 10%|█         | 2/20 [00:02<00:23,  1.33s/it]\u001b[A\n",
      " 15%|█▌        | 3/20 [00:03<00:21,  1.29s/it]\u001b[A\n",
      " 20%|██        | 4/20 [00:05<00:20,  1.31s/it]\u001b[A\n",
      " 25%|██▌       | 5/20 [00:06<00:18,  1.25s/it]\u001b[A\n",
      " 30%|███       | 6/20 [00:07<00:16,  1.20s/it]\u001b[A\n",
      " 35%|███▌      | 7/20 [00:08<00:15,  1.20s/it]\u001b[A\n",
      " 40%|████      | 8/20 [00:09<00:13,  1.14s/it]\u001b[A\n",
      " 45%|████▌     | 9/20 [00:10<00:11,  1.08s/it]\u001b[A\n",
      " 50%|█████     | 10/20 [00:11<00:10,  1.02s/it]\u001b[A\n",
      " 55%|█████▌    | 11/20 [00:12<00:09,  1.02s/it]\u001b[A\n",
      " 60%|██████    | 12/20 [00:13<00:07,  1.05it/s]\u001b[A\n",
      " 65%|██████▌   | 13/20 [00:14<00:06,  1.08it/s]\u001b[A\n",
      " 70%|███████   | 14/20 [00:15<00:05,  1.13it/s]\u001b[A\n",
      " 75%|███████▌  | 15/20 [00:15<00:04,  1.22it/s]\u001b[A\n",
      " 80%|████████  | 16/20 [00:16<00:03,  1.32it/s]\u001b[A\n",
      " 85%|████████▌ | 17/20 [00:17<00:02,  1.32it/s]\u001b[A\n",
      " 90%|█████████ | 18/20 [00:17<00:01,  1.48it/s]\u001b[A\n",
      " 95%|█████████▌| 19/20 [00:17<00:00,  1.66it/s]\u001b[A\n",
      "100%|██████████| 20/20 [00:18<00:00,  1.09it/s]\u001b[A\n"
     ]
    },
    {
     "name": "stdout",
     "output_type": "stream",
     "text": [
      "generator loss:0.02231140968342351\n",
      "-----------------------\n"
     ]
    },
    {
     "name": "stderr",
     "output_type": "stream",
     "text": [
      "88it [34:57, 23.08s/it]\n",
      "  0%|          | 0/20 [00:00<?, ?it/s]\u001b[A"
     ]
    },
    {
     "name": "stdout",
     "output_type": "stream",
     "text": [
      "total discriminator loss:0.027642484085876336\n",
      "-----------------------\n",
      "Training Step: 89\n"
     ]
    },
    {
     "name": "stderr",
     "output_type": "stream",
     "text": [
      "\n",
      "  5%|▌         | 1/20 [00:01<00:26,  1.39s/it]\u001b[A\n",
      " 10%|█         | 2/20 [00:02<00:24,  1.33s/it]\u001b[A\n",
      " 15%|█▌        | 3/20 [00:04<00:23,  1.35s/it]\u001b[A\n",
      " 20%|██        | 4/20 [00:05<00:20,  1.31s/it]\u001b[A\n",
      " 25%|██▌       | 5/20 [00:06<00:19,  1.30s/it]\u001b[A\n",
      " 30%|███       | 6/20 [00:07<00:17,  1.22s/it]\u001b[A\n",
      " 35%|███▌      | 7/20 [00:08<00:15,  1.17s/it]\u001b[A\n",
      " 40%|████      | 8/20 [00:09<00:13,  1.11s/it]\u001b[A\n",
      " 45%|████▌     | 9/20 [00:10<00:12,  1.11s/it]\u001b[A\n",
      " 50%|█████     | 10/20 [00:11<00:10,  1.03s/it]\u001b[A\n",
      " 55%|█████▌    | 11/20 [00:12<00:08,  1.03it/s]\u001b[A\n",
      " 60%|██████    | 12/20 [00:13<00:07,  1.10it/s]\u001b[A\n",
      " 65%|██████▌   | 13/20 [00:14<00:06,  1.09it/s]\u001b[A\n",
      " 70%|███████   | 14/20 [00:14<00:05,  1.18it/s]\u001b[A\n",
      " 75%|███████▌  | 15/20 [00:15<00:03,  1.28it/s]\u001b[A\n",
      " 80%|████████  | 16/20 [00:16<00:02,  1.37it/s]\u001b[A\n",
      " 85%|████████▌ | 17/20 [00:16<00:02,  1.50it/s]\u001b[A\n",
      " 90%|█████████ | 18/20 [00:17<00:01,  1.64it/s]\u001b[A\n",
      " 95%|█████████▌| 19/20 [00:17<00:00,  1.80it/s]\u001b[A\n",
      "100%|██████████| 20/20 [00:17<00:00,  1.11it/s]\u001b[A\n"
     ]
    },
    {
     "name": "stdout",
     "output_type": "stream",
     "text": [
      "generator loss:0.02400760688160119\n",
      "-----------------------\n"
     ]
    },
    {
     "name": "stderr",
     "output_type": "stream",
     "text": [
      "89it [35:20, 22.99s/it]\n",
      "  0%|          | 0/20 [00:00<?, ?it/s]\u001b[A"
     ]
    },
    {
     "name": "stdout",
     "output_type": "stream",
     "text": [
      "total discriminator loss:0.025967682475484935\n",
      "-----------------------\n",
      "Training Step: 90\n"
     ]
    },
    {
     "name": "stderr",
     "output_type": "stream",
     "text": [
      "\n",
      "  5%|▌         | 1/20 [00:01<00:27,  1.47s/it]\u001b[A\n",
      " 10%|█         | 2/20 [00:02<00:25,  1.44s/it]\u001b[A\n",
      " 15%|█▌        | 3/20 [00:04<00:23,  1.37s/it]\u001b[A\n",
      " 20%|██        | 4/20 [00:05<00:21,  1.36s/it]\u001b[A\n",
      " 25%|██▌       | 5/20 [00:06<00:19,  1.28s/it]\u001b[A\n",
      " 30%|███       | 6/20 [00:07<00:16,  1.21s/it]\u001b[A\n",
      " 35%|███▌      | 7/20 [00:08<00:15,  1.21s/it]\u001b[A\n",
      " 40%|████      | 8/20 [00:09<00:13,  1.14s/it]\u001b[A\n",
      " 45%|████▌     | 9/20 [00:10<00:11,  1.08s/it]\u001b[A\n",
      " 50%|█████     | 10/20 [00:11<00:10,  1.02s/it]\u001b[A\n",
      " 55%|█████▌    | 11/20 [00:12<00:09,  1.02s/it]\u001b[A\n",
      " 60%|██████    | 12/20 [00:13<00:07,  1.05it/s]\u001b[A\n",
      " 65%|██████▌   | 13/20 [00:14<00:06,  1.13it/s]\u001b[A\n",
      " 70%|███████   | 14/20 [00:15<00:04,  1.20it/s]\u001b[A\n",
      " 75%|███████▌  | 15/20 [00:15<00:03,  1.29it/s]\u001b[A\n",
      " 80%|████████  | 16/20 [00:16<00:02,  1.37it/s]\u001b[A\n",
      " 85%|████████▌ | 17/20 [00:17<00:02,  1.35it/s]\u001b[A\n",
      " 90%|█████████ | 18/20 [00:17<00:01,  1.50it/s]\u001b[A\n",
      " 95%|█████████▌| 19/20 [00:17<00:00,  1.68it/s]\u001b[A\n",
      "100%|██████████| 20/20 [00:18<00:00,  1.09it/s]\u001b[A\n"
     ]
    },
    {
     "name": "stdout",
     "output_type": "stream",
     "text": [
      "generator loss:0.027964584678005767\n",
      "-----------------------\n"
     ]
    },
    {
     "name": "stderr",
     "output_type": "stream",
     "text": [
      "90it [35:43, 23.09s/it]\n",
      "  0%|          | 0/20 [00:00<?, ?it/s]\u001b[A"
     ]
    },
    {
     "name": "stdout",
     "output_type": "stream",
     "text": [
      "total discriminator loss:0.02553694933950728\n",
      "-----------------------\n",
      "Training Step: 91\n"
     ]
    },
    {
     "name": "stderr",
     "output_type": "stream",
     "text": [
      "\n",
      "  5%|▌         | 1/20 [00:01<00:26,  1.38s/it]\u001b[A\n",
      " 10%|█         | 2/20 [00:02<00:24,  1.35s/it]\u001b[A\n",
      " 15%|█▌        | 3/20 [00:04<00:23,  1.38s/it]\u001b[A\n",
      " 20%|██        | 4/20 [00:05<00:21,  1.32s/it]\u001b[A\n",
      " 25%|██▌       | 5/20 [00:06<00:19,  1.31s/it]\u001b[A\n",
      " 30%|███       | 6/20 [00:07<00:17,  1.23s/it]\u001b[A\n",
      " 35%|███▌      | 7/20 [00:08<00:15,  1.18s/it]\u001b[A\n",
      " 40%|████      | 8/20 [00:09<00:13,  1.12s/it]\u001b[A\n",
      " 45%|████▌     | 9/20 [00:10<00:12,  1.12s/it]\u001b[A\n",
      " 50%|█████     | 10/20 [00:11<00:10,  1.06s/it]\u001b[A\n",
      " 55%|█████▌    | 11/20 [00:12<00:08,  1.01it/s]\u001b[A\n",
      " 60%|██████    | 12/20 [00:13<00:07,  1.08it/s]\u001b[A\n",
      " 65%|██████▌   | 13/20 [00:14<00:06,  1.07it/s]\u001b[A\n",
      " 70%|███████   | 14/20 [00:15<00:05,  1.16it/s]\u001b[A\n",
      " 75%|███████▌  | 15/20 [00:15<00:03,  1.26it/s]\u001b[A\n",
      " 80%|████████  | 16/20 [00:16<00:02,  1.34it/s]\u001b[A\n",
      " 85%|████████▌ | 17/20 [00:16<00:02,  1.46it/s]\u001b[A\n",
      " 90%|█████████ | 18/20 [00:17<00:01,  1.60it/s]\u001b[A\n",
      " 95%|█████████▌| 19/20 [00:17<00:00,  1.75it/s]\u001b[A\n",
      "100%|██████████| 20/20 [00:18<00:00,  1.10it/s]\u001b[A\n"
     ]
    },
    {
     "name": "stdout",
     "output_type": "stream",
     "text": [
      "generator loss:0.024313363131688033\n",
      "-----------------------\n"
     ]
    },
    {
     "name": "stderr",
     "output_type": "stream",
     "text": [
      "91it [36:06, 23.12s/it]\n",
      "  0%|          | 0/20 [00:00<?, ?it/s]\u001b[A"
     ]
    },
    {
     "name": "stdout",
     "output_type": "stream",
     "text": [
      "total discriminator loss:0.024694609625874775\n",
      "-----------------------\n",
      "Training Step: 92\n"
     ]
    },
    {
     "name": "stderr",
     "output_type": "stream",
     "text": [
      "\n",
      "  5%|▌         | 1/20 [00:01<00:28,  1.49s/it]\u001b[A\n",
      " 10%|█         | 2/20 [00:02<00:26,  1.47s/it]\u001b[A\n",
      " 15%|█▌        | 3/20 [00:04<00:23,  1.37s/it]\u001b[A\n",
      " 20%|██        | 4/20 [00:05<00:21,  1.36s/it]\u001b[A\n",
      " 25%|██▌       | 5/20 [00:06<00:19,  1.28s/it]\u001b[A\n",
      " 30%|███       | 6/20 [00:07<00:16,  1.21s/it]\u001b[A\n",
      " 35%|███▌      | 7/20 [00:08<00:15,  1.21s/it]\u001b[A\n",
      " 40%|████      | 8/20 [00:09<00:13,  1.14s/it]\u001b[A\n",
      " 45%|████▌     | 9/20 [00:10<00:11,  1.08s/it]\u001b[A\n",
      " 50%|█████     | 10/20 [00:11<00:10,  1.01s/it]\u001b[A\n",
      " 55%|█████▌    | 11/20 [00:12<00:09,  1.02s/it]\u001b[A\n",
      " 60%|██████    | 12/20 [00:13<00:07,  1.05it/s]\u001b[A\n",
      " 65%|██████▌   | 13/20 [00:14<00:06,  1.13it/s]\u001b[A\n",
      " 70%|███████   | 14/20 [00:15<00:04,  1.21it/s]\u001b[A\n",
      " 75%|███████▌  | 15/20 [00:15<00:03,  1.30it/s]\u001b[A\n",
      " 80%|████████  | 16/20 [00:16<00:02,  1.38it/s]\u001b[A\n",
      " 85%|████████▌ | 17/20 [00:17<00:02,  1.36it/s]\u001b[A\n",
      " 90%|█████████ | 18/20 [00:17<00:01,  1.52it/s]\u001b[A\n",
      " 95%|█████████▌| 19/20 [00:17<00:00,  1.69it/s]\u001b[A\n",
      "100%|██████████| 20/20 [00:18<00:00,  1.09it/s]\u001b[A\n"
     ]
    },
    {
     "name": "stdout",
     "output_type": "stream",
     "text": [
      "generator loss:0.027428980564883177\n",
      "-----------------------\n"
     ]
    },
    {
     "name": "stderr",
     "output_type": "stream",
     "text": [
      "92it [36:30, 23.17s/it]\n",
      "  0%|          | 0/20 [00:00<?, ?it/s]\u001b[A"
     ]
    },
    {
     "name": "stdout",
     "output_type": "stream",
     "text": [
      "total discriminator loss:0.02332536012959388\n",
      "-----------------------\n",
      "Training Step: 93\n"
     ]
    },
    {
     "name": "stderr",
     "output_type": "stream",
     "text": [
      "\n",
      "  5%|▌         | 1/20 [00:01<00:26,  1.39s/it]\u001b[A\n",
      " 10%|█         | 2/20 [00:02<00:24,  1.35s/it]\u001b[A\n",
      " 15%|█▌        | 3/20 [00:04<00:23,  1.37s/it]\u001b[A\n",
      " 20%|██        | 4/20 [00:05<00:20,  1.31s/it]\u001b[A\n",
      " 25%|██▌       | 5/20 [00:06<00:19,  1.30s/it]\u001b[A\n",
      " 30%|███       | 6/20 [00:07<00:17,  1.22s/it]\u001b[A\n",
      " 35%|███▌      | 7/20 [00:08<00:15,  1.16s/it]\u001b[A\n",
      " 40%|████      | 8/20 [00:09<00:13,  1.11s/it]\u001b[A\n",
      " 45%|████▌     | 9/20 [00:10<00:12,  1.11s/it]\u001b[A\n",
      " 50%|█████     | 10/20 [00:11<00:10,  1.04s/it]\u001b[A\n",
      " 55%|█████▌    | 11/20 [00:12<00:08,  1.02it/s]\u001b[A\n",
      " 60%|██████    | 12/20 [00:13<00:07,  1.08it/s]\u001b[A\n",
      " 65%|██████▌   | 13/20 [00:14<00:06,  1.07it/s]\u001b[A\n",
      " 70%|███████   | 14/20 [00:15<00:05,  1.15it/s]\u001b[A\n",
      " 75%|███████▌  | 15/20 [00:15<00:04,  1.25it/s]\u001b[A\n",
      " 80%|████████  | 16/20 [00:16<00:02,  1.34it/s]\u001b[A\n",
      " 85%|████████▌ | 17/20 [00:16<00:02,  1.46it/s]\u001b[A\n",
      " 90%|█████████ | 18/20 [00:17<00:01,  1.60it/s]\u001b[A\n",
      " 95%|█████████▌| 19/20 [00:17<00:00,  1.76it/s]\u001b[A\n",
      "100%|██████████| 20/20 [00:18<00:00,  1.10it/s]\u001b[A\n"
     ]
    },
    {
     "name": "stdout",
     "output_type": "stream",
     "text": [
      "generator loss:0.032349972645923125\n",
      "-----------------------\n"
     ]
    },
    {
     "name": "stderr",
     "output_type": "stream",
     "text": [
      "93it [36:53, 23.14s/it]\n",
      "  0%|          | 0/20 [00:00<?, ?it/s]\u001b[A"
     ]
    },
    {
     "name": "stdout",
     "output_type": "stream",
     "text": [
      "total discriminator loss:0.02541291850702069\n",
      "-----------------------\n",
      "Training Step: 94\n"
     ]
    },
    {
     "name": "stderr",
     "output_type": "stream",
     "text": [
      "\n",
      "  5%|▌         | 1/20 [00:01<00:28,  1.49s/it]\u001b[A\n",
      " 10%|█         | 2/20 [00:02<00:26,  1.45s/it]\u001b[A\n",
      " 15%|█▌        | 3/20 [00:04<00:23,  1.36s/it]\u001b[A\n",
      " 20%|██        | 4/20 [00:05<00:21,  1.35s/it]\u001b[A\n",
      " 25%|██▌       | 5/20 [00:06<00:19,  1.27s/it]\u001b[A\n",
      " 30%|███       | 6/20 [00:07<00:16,  1.20s/it]\u001b[A\n",
      " 35%|███▌      | 7/20 [00:08<00:15,  1.20s/it]\u001b[A\n",
      " 40%|████      | 8/20 [00:09<00:13,  1.13s/it]\u001b[A\n",
      " 45%|████▌     | 9/20 [00:10<00:11,  1.07s/it]\u001b[A\n",
      " 50%|█████     | 10/20 [00:11<00:10,  1.01s/it]\u001b[A\n",
      " 55%|█████▌    | 11/20 [00:12<00:09,  1.01s/it]\u001b[A\n",
      " 60%|██████    | 12/20 [00:13<00:07,  1.06it/s]\u001b[A\n",
      " 65%|██████▌   | 13/20 [00:14<00:06,  1.13it/s]\u001b[A\n",
      " 70%|███████   | 14/20 [00:14<00:04,  1.21it/s]\u001b[A\n",
      " 75%|███████▌  | 15/20 [00:15<00:03,  1.29it/s]\u001b[A\n",
      " 80%|████████  | 16/20 [00:16<00:02,  1.37it/s]\u001b[A\n",
      " 85%|████████▌ | 17/20 [00:17<00:02,  1.34it/s]\u001b[A\n",
      " 90%|█████████ | 18/20 [00:17<00:01,  1.50it/s]\u001b[A\n",
      " 95%|█████████▌| 19/20 [00:17<00:00,  1.66it/s]\u001b[A\n",
      "100%|██████████| 20/20 [00:18<00:00,  1.09it/s]\u001b[A\n"
     ]
    },
    {
     "name": "stdout",
     "output_type": "stream",
     "text": [
      "generator loss:0.02948610708806031\n",
      "-----------------------\n"
     ]
    },
    {
     "name": "stderr",
     "output_type": "stream",
     "text": [
      "94it [37:16, 23.15s/it]\n",
      "  0%|          | 0/20 [00:00<?, ?it/s]\u001b[A"
     ]
    },
    {
     "name": "stdout",
     "output_type": "stream",
     "text": [
      "total discriminator loss:0.024822155537854093\n",
      "-----------------------\n",
      "Training Step: 95\n"
     ]
    },
    {
     "name": "stderr",
     "output_type": "stream",
     "text": [
      "\n",
      "  5%|▌         | 1/20 [00:01<00:26,  1.40s/it]\u001b[A\n",
      " 10%|█         | 2/20 [00:02<00:24,  1.36s/it]\u001b[A\n",
      " 15%|█▌        | 3/20 [00:04<00:23,  1.36s/it]\u001b[A\n",
      " 20%|██        | 4/20 [00:05<00:20,  1.29s/it]\u001b[A\n",
      " 25%|██▌       | 5/20 [00:06<00:19,  1.29s/it]\u001b[A\n",
      " 30%|███       | 6/20 [00:07<00:17,  1.22s/it]\u001b[A\n",
      " 35%|███▌      | 7/20 [00:08<00:15,  1.16s/it]\u001b[A\n",
      " 40%|████      | 8/20 [00:09<00:13,  1.15s/it]\u001b[A\n",
      " 45%|████▌     | 9/20 [00:10<00:11,  1.08s/it]\u001b[A\n",
      " 50%|█████     | 10/20 [00:11<00:10,  1.02s/it]\u001b[A\n",
      " 55%|█████▌    | 11/20 [00:12<00:08,  1.04it/s]\u001b[A\n",
      " 60%|██████    | 12/20 [00:13<00:07,  1.11it/s]\u001b[A\n",
      " 65%|██████▌   | 13/20 [00:14<00:06,  1.09it/s]\u001b[A\n",
      " 70%|███████   | 14/20 [00:14<00:05,  1.19it/s]\u001b[A\n",
      " 75%|███████▌  | 15/20 [00:15<00:03,  1.29it/s]\u001b[A\n",
      " 80%|████████  | 16/20 [00:16<00:02,  1.38it/s]\u001b[A\n",
      " 85%|████████▌ | 17/20 [00:16<00:02,  1.50it/s]\u001b[A\n",
      " 90%|█████████ | 18/20 [00:17<00:01,  1.64it/s]\u001b[A\n",
      " 95%|█████████▌| 19/20 [00:17<00:00,  1.81it/s]\u001b[A\n",
      "100%|██████████| 20/20 [00:17<00:00,  1.12it/s]\u001b[A\n"
     ]
    },
    {
     "name": "stdout",
     "output_type": "stream",
     "text": [
      "generator loss:0.024884137471965502\n",
      "-----------------------\n"
     ]
    },
    {
     "name": "stderr",
     "output_type": "stream",
     "text": [
      "95it [37:39, 23.11s/it]\n",
      "  0%|          | 0/20 [00:00<?, ?it/s]\u001b[A"
     ]
    },
    {
     "name": "stdout",
     "output_type": "stream",
     "text": [
      "total discriminator loss:0.02287728147731926\n",
      "-----------------------\n",
      "Training Step: 96\n"
     ]
    },
    {
     "name": "stderr",
     "output_type": "stream",
     "text": [
      "\n",
      "  5%|▌         | 1/20 [00:01<00:26,  1.37s/it]\u001b[A\n",
      " 10%|█         | 2/20 [00:02<00:23,  1.33s/it]\u001b[A\n",
      " 15%|█▌        | 3/20 [00:03<00:21,  1.29s/it]\u001b[A\n",
      " 20%|██        | 4/20 [00:05<00:19,  1.25s/it]\u001b[A\n",
      " 25%|██▌       | 5/20 [00:06<00:18,  1.21s/it]\u001b[A\n",
      " 30%|███       | 6/20 [00:07<00:17,  1.22s/it]\u001b[A\n",
      " 35%|███▌      | 7/20 [00:08<00:15,  1.17s/it]\u001b[A\n",
      " 40%|████      | 8/20 [00:09<00:13,  1.12s/it]\u001b[A\n",
      " 45%|████▌     | 9/20 [00:10<00:12,  1.12s/it]\u001b[A\n",
      " 50%|█████     | 10/20 [00:11<00:10,  1.04s/it]\u001b[A\n",
      " 55%|█████▌    | 11/20 [00:12<00:08,  1.03it/s]\u001b[A\n",
      " 60%|██████    | 12/20 [00:13<00:07,  1.09it/s]\u001b[A\n",
      " 65%|██████▌   | 13/20 [00:13<00:06,  1.16it/s]\u001b[A\n",
      " 70%|███████   | 14/20 [00:14<00:05,  1.14it/s]\u001b[A\n",
      " 75%|███████▌  | 15/20 [00:15<00:04,  1.25it/s]\u001b[A\n",
      " 80%|████████  | 16/20 [00:16<00:02,  1.35it/s]\u001b[A\n",
      " 85%|████████▌ | 17/20 [00:16<00:02,  1.47it/s]\u001b[A\n",
      " 90%|█████████ | 18/20 [00:17<00:01,  1.61it/s]\u001b[A\n",
      " 95%|█████████▌| 19/20 [00:17<00:00,  1.77it/s]\u001b[A\n",
      "100%|██████████| 20/20 [00:17<00:00,  1.12it/s]\u001b[A\n"
     ]
    },
    {
     "name": "stdout",
     "output_type": "stream",
     "text": [
      "generator loss:0.027979692659350137\n",
      "-----------------------\n"
     ]
    },
    {
     "name": "stderr",
     "output_type": "stream",
     "text": [
      "96it [38:02, 22.99s/it]\n",
      "  0%|          | 0/20 [00:00<?, ?it/s]\u001b[A"
     ]
    },
    {
     "name": "stdout",
     "output_type": "stream",
     "text": [
      "total discriminator loss:0.02256183187104978\n",
      "-----------------------\n",
      "Training Step: 97\n"
     ]
    },
    {
     "name": "stderr",
     "output_type": "stream",
     "text": [
      "\n",
      "  5%|▌         | 1/20 [00:01<00:28,  1.49s/it]\u001b[A\n",
      " 10%|█         | 2/20 [00:02<00:25,  1.39s/it]\u001b[A\n",
      " 15%|█▌        | 3/20 [00:04<00:23,  1.39s/it]\u001b[A\n",
      " 20%|██        | 4/20 [00:05<00:21,  1.32s/it]\u001b[A\n",
      " 25%|██▌       | 5/20 [00:06<00:19,  1.31s/it]\u001b[A\n",
      " 30%|███       | 6/20 [00:07<00:17,  1.23s/it]\u001b[A\n",
      " 35%|███▌      | 7/20 [00:08<00:15,  1.17s/it]\u001b[A\n",
      " 40%|████      | 8/20 [00:09<00:13,  1.17s/it]\u001b[A\n",
      " 45%|████▌     | 9/20 [00:10<00:12,  1.09s/it]\u001b[A\n",
      " 50%|█████     | 10/20 [00:11<00:10,  1.03s/it]\u001b[A\n",
      " 55%|█████▌    | 11/20 [00:12<00:08,  1.03it/s]\u001b[A\n",
      " 60%|██████    | 12/20 [00:13<00:07,  1.02it/s]\u001b[A\n",
      " 65%|██████▌   | 13/20 [00:14<00:06,  1.10it/s]\u001b[A\n",
      " 70%|███████   | 14/20 [00:15<00:05,  1.19it/s]\u001b[A\n",
      " 75%|███████▌  | 15/20 [00:15<00:03,  1.29it/s]\u001b[A\n",
      " 80%|████████  | 16/20 [00:16<00:02,  1.37it/s]\u001b[A\n",
      " 85%|████████▌ | 17/20 [00:16<00:02,  1.48it/s]\u001b[A\n",
      " 90%|█████████ | 18/20 [00:17<00:01,  1.62it/s]\u001b[A\n",
      " 95%|█████████▌| 19/20 [00:18<00:00,  1.58it/s]\u001b[A\n",
      "100%|██████████| 20/20 [00:18<00:00,  1.09it/s]\u001b[A\n"
     ]
    },
    {
     "name": "stdout",
     "output_type": "stream",
     "text": [
      "generator loss:0.02720240167309671\n",
      "-----------------------\n"
     ]
    },
    {
     "name": "stderr",
     "output_type": "stream",
     "text": [
      "97it [38:25, 23.06s/it]\n",
      "  0%|          | 0/20 [00:00<?, ?it/s]\u001b[A"
     ]
    },
    {
     "name": "stdout",
     "output_type": "stream",
     "text": [
      "total discriminator loss:0.024477643539657503\n",
      "-----------------------\n",
      "Training Step: 98\n"
     ]
    },
    {
     "name": "stderr",
     "output_type": "stream",
     "text": [
      "\n",
      "  5%|▌         | 1/20 [00:01<00:26,  1.37s/it]\u001b[A\n",
      " 10%|█         | 2/20 [00:02<00:23,  1.32s/it]\u001b[A\n",
      " 15%|█▌        | 3/20 [00:03<00:21,  1.29s/it]\u001b[A\n",
      " 20%|██        | 4/20 [00:05<00:20,  1.30s/it]\u001b[A\n",
      " 25%|██▌       | 5/20 [00:06<00:18,  1.24s/it]\u001b[A\n",
      " 30%|███       | 6/20 [00:07<00:16,  1.18s/it]\u001b[A\n",
      " 35%|███▌      | 7/20 [00:08<00:15,  1.20s/it]\u001b[A\n",
      " 40%|████      | 8/20 [00:09<00:13,  1.13s/it]\u001b[A\n",
      " 45%|████▌     | 9/20 [00:10<00:11,  1.08s/it]\u001b[A\n",
      " 50%|█████     | 10/20 [00:11<00:10,  1.02s/it]\u001b[A\n",
      " 55%|█████▌    | 11/20 [00:12<00:09,  1.03s/it]\u001b[A\n",
      " 60%|██████    | 12/20 [00:13<00:07,  1.04it/s]\u001b[A\n",
      " 65%|██████▌   | 13/20 [00:14<00:06,  1.12it/s]\u001b[A\n",
      " 70%|███████   | 14/20 [00:14<00:04,  1.20it/s]\u001b[A\n",
      " 75%|███████▌  | 15/20 [00:15<00:03,  1.30it/s]\u001b[A\n",
      " 80%|████████  | 16/20 [00:16<00:02,  1.39it/s]\u001b[A\n",
      " 85%|████████▌ | 17/20 [00:16<00:02,  1.36it/s]\u001b[A\n",
      " 90%|█████████ | 18/20 [00:17<00:01,  1.51it/s]\u001b[A\n",
      " 95%|█████████▌| 19/20 [00:17<00:00,  1.69it/s]\u001b[A\n",
      "100%|██████████| 20/20 [00:18<00:00,  1.10it/s]\u001b[A\n"
     ]
    },
    {
     "name": "stdout",
     "output_type": "stream",
     "text": [
      "generator loss:0.021870478369397105\n",
      "-----------------------\n"
     ]
    },
    {
     "name": "stderr",
     "output_type": "stream",
     "text": [
      "98it [38:48, 23.00s/it]\n",
      "  0%|          | 0/20 [00:00<?, ?it/s]\u001b[A"
     ]
    },
    {
     "name": "stdout",
     "output_type": "stream",
     "text": [
      "total discriminator loss:0.02227668674412489\n",
      "-----------------------\n",
      "Training Step: 99\n"
     ]
    },
    {
     "name": "stderr",
     "output_type": "stream",
     "text": [
      "\n",
      "  5%|▌         | 1/20 [00:01<00:26,  1.40s/it]\u001b[A\n",
      " 10%|█         | 2/20 [00:02<00:24,  1.36s/it]\u001b[A\n",
      " 15%|█▌        | 3/20 [00:04<00:23,  1.37s/it]\u001b[A\n",
      " 20%|██        | 4/20 [00:05<00:20,  1.30s/it]\u001b[A\n",
      " 25%|██▌       | 5/20 [00:06<00:18,  1.23s/it]\u001b[A\n",
      " 30%|███       | 6/20 [00:07<00:17,  1.24s/it]\u001b[A\n",
      " 35%|███▌      | 7/20 [00:08<00:15,  1.18s/it]\u001b[A\n",
      " 40%|████      | 8/20 [00:09<00:13,  1.12s/it]\u001b[A\n",
      " 45%|████▌     | 9/20 [00:10<00:12,  1.12s/it]\u001b[A\n",
      " 50%|█████     | 10/20 [00:11<00:10,  1.04s/it]\u001b[A\n",
      " 55%|█████▌    | 11/20 [00:12<00:08,  1.02it/s]\u001b[A\n",
      " 60%|██████    | 12/20 [00:13<00:07,  1.09it/s]\u001b[A\n",
      " 65%|██████▌   | 13/20 [00:14<00:06,  1.08it/s]\u001b[A\n",
      " 70%|███████   | 14/20 [00:14<00:05,  1.17it/s]\u001b[A\n",
      " 75%|███████▌  | 15/20 [00:15<00:03,  1.27it/s]\u001b[A\n",
      " 80%|████████  | 16/20 [00:16<00:02,  1.36it/s]\u001b[A\n",
      " 85%|████████▌ | 17/20 [00:16<00:02,  1.49it/s]\u001b[A\n",
      " 90%|█████████ | 18/20 [00:17<00:01,  1.63it/s]\u001b[A\n",
      " 95%|█████████▌| 19/20 [00:17<00:00,  1.78it/s]\u001b[A\n",
      "100%|██████████| 20/20 [00:18<00:00,  1.11it/s]\u001b[A\n"
     ]
    },
    {
     "name": "stdout",
     "output_type": "stream",
     "text": [
      "generator loss:0.024508018700369078\n",
      "-----------------------\n"
     ]
    },
    {
     "name": "stderr",
     "output_type": "stream",
     "text": [
      "99it [39:11, 22.95s/it]\n",
      "  0%|          | 0/20 [00:00<?, ?it/s]\u001b[A"
     ]
    },
    {
     "name": "stdout",
     "output_type": "stream",
     "text": [
      "total discriminator loss:0.021607430294206198\n",
      "-----------------------\n",
      "Training Step: 100\n"
     ]
    },
    {
     "name": "stderr",
     "output_type": "stream",
     "text": [
      "\n",
      "  5%|▌         | 1/20 [00:01<00:28,  1.48s/it]\u001b[A\n",
      " 10%|█         | 2/20 [00:02<00:25,  1.44s/it]\u001b[A\n",
      " 15%|█▌        | 3/20 [00:04<00:23,  1.36s/it]\u001b[A\n",
      " 20%|██        | 4/20 [00:05<00:21,  1.36s/it]\u001b[A\n",
      " 25%|██▌       | 5/20 [00:06<00:19,  1.28s/it]\u001b[A\n",
      " 30%|███       | 6/20 [00:07<00:17,  1.22s/it]\u001b[A\n",
      " 35%|███▌      | 7/20 [00:08<00:15,  1.22s/it]\u001b[A\n",
      " 40%|████      | 8/20 [00:09<00:13,  1.14s/it]\u001b[A\n",
      " 45%|████▌     | 9/20 [00:10<00:11,  1.08s/it]\u001b[A\n",
      " 50%|█████     | 10/20 [00:11<00:10,  1.02s/it]\u001b[A\n",
      " 55%|█████▌    | 11/20 [00:12<00:09,  1.02s/it]\u001b[A\n",
      " 60%|██████    | 12/20 [00:13<00:07,  1.05it/s]\u001b[A\n",
      " 65%|██████▌   | 13/20 [00:14<00:06,  1.12it/s]\u001b[A\n",
      " 70%|███████   | 14/20 [00:15<00:04,  1.20it/s]\u001b[A\n",
      " 75%|███████▌  | 15/20 [00:15<00:03,  1.30it/s]\u001b[A\n",
      " 80%|████████  | 16/20 [00:16<00:02,  1.38it/s]\u001b[A\n",
      " 85%|████████▌ | 17/20 [00:16<00:02,  1.50it/s]\u001b[A\n",
      " 90%|█████████ | 18/20 [00:17<00:01,  1.45it/s]\u001b[A\n",
      " 95%|█████████▌| 19/20 [00:17<00:00,  1.63it/s]\u001b[A\n",
      "100%|██████████| 20/20 [00:18<00:00,  1.09it/s]\u001b[A\n"
     ]
    },
    {
     "name": "stdout",
     "output_type": "stream",
     "text": [
      "generator loss:0.02303004695098554\n",
      "-----------------------\n"
     ]
    },
    {
     "name": "stderr",
     "output_type": "stream",
     "text": [
      "100it [39:34, 23.02s/it]\n",
      "  0%|          | 0/20 [00:00<?, ?it/s]\u001b[A"
     ]
    },
    {
     "name": "stdout",
     "output_type": "stream",
     "text": [
      "total discriminator loss:0.020804712083347186\n",
      "-----------------------\n",
      "Training Step: 101\n"
     ]
    },
    {
     "name": "stderr",
     "output_type": "stream",
     "text": [
      "\n",
      "  5%|▌         | 1/20 [00:01<00:26,  1.37s/it]\u001b[A\n",
      " 10%|█         | 2/20 [00:02<00:23,  1.33s/it]\u001b[A\n",
      " 15%|█▌        | 3/20 [00:03<00:21,  1.29s/it]\u001b[A\n",
      " 20%|██        | 4/20 [00:05<00:21,  1.32s/it]\u001b[A\n",
      " 25%|██▌       | 5/20 [00:06<00:18,  1.26s/it]\u001b[A\n",
      " 30%|███       | 6/20 [00:07<00:16,  1.21s/it]\u001b[A\n",
      " 35%|███▌      | 7/20 [00:08<00:15,  1.21s/it]\u001b[A\n",
      " 40%|████      | 8/20 [00:09<00:13,  1.13s/it]\u001b[A\n",
      " 45%|████▌     | 9/20 [00:10<00:11,  1.07s/it]\u001b[A\n",
      " 50%|█████     | 10/20 [00:11<00:10,  1.07s/it]\u001b[A\n",
      " 55%|█████▌    | 11/20 [00:12<00:08,  1.00it/s]\u001b[A\n",
      " 60%|██████    | 12/20 [00:13<00:07,  1.07it/s]\u001b[A\n",
      " 65%|██████▌   | 13/20 [00:14<00:06,  1.14it/s]\u001b[A\n",
      " 70%|███████   | 14/20 [00:14<00:04,  1.22it/s]\u001b[A\n",
      " 75%|███████▌  | 15/20 [00:15<00:03,  1.31it/s]\u001b[A\n",
      " 80%|████████  | 16/20 [00:16<00:03,  1.27it/s]\u001b[A\n",
      " 85%|████████▌ | 17/20 [00:16<00:02,  1.41it/s]\u001b[A\n",
      " 90%|█████████ | 18/20 [00:17<00:01,  1.56it/s]\u001b[A\n",
      " 95%|█████████▌| 19/20 [00:17<00:00,  1.72it/s]\u001b[A\n",
      "100%|██████████| 20/20 [00:18<00:00,  1.10it/s]\u001b[A\n"
     ]
    },
    {
     "name": "stdout",
     "output_type": "stream",
     "text": [
      "generator loss:0.024921956231958503\n",
      "-----------------------\n"
     ]
    },
    {
     "name": "stderr",
     "output_type": "stream",
     "text": [
      "101it [39:57, 23.00s/it]\n",
      "  0%|          | 0/20 [00:00<?, ?it/s]\u001b[A"
     ]
    },
    {
     "name": "stdout",
     "output_type": "stream",
     "text": [
      "total discriminator loss:0.024743858769661734\n",
      "-----------------------\n",
      "Training Step: 102\n"
     ]
    },
    {
     "name": "stderr",
     "output_type": "stream",
     "text": [
      "\n",
      "  5%|▌         | 1/20 [00:01<00:26,  1.39s/it]\u001b[A\n",
      " 10%|█         | 2/20 [00:02<00:23,  1.33s/it]\u001b[A\n",
      " 15%|█▌        | 3/20 [00:04<00:23,  1.37s/it]\u001b[A\n",
      " 20%|██        | 4/20 [00:05<00:20,  1.30s/it]\u001b[A\n",
      " 25%|██▌       | 5/20 [00:06<00:19,  1.29s/it]\u001b[A\n",
      " 30%|███       | 6/20 [00:07<00:17,  1.22s/it]\u001b[A\n",
      " 35%|███▌      | 7/20 [00:08<00:15,  1.16s/it]\u001b[A\n",
      " 40%|████      | 8/20 [00:09<00:13,  1.16s/it]\u001b[A\n",
      " 45%|████▌     | 9/20 [00:10<00:12,  1.09s/it]\u001b[A\n",
      " 50%|█████     | 10/20 [00:11<00:10,  1.03s/it]\u001b[A\n",
      " 55%|█████▌    | 11/20 [00:12<00:08,  1.03it/s]\u001b[A\n",
      " 60%|██████    | 12/20 [00:13<00:07,  1.02it/s]\u001b[A\n",
      " 65%|██████▌   | 13/20 [00:14<00:06,  1.11it/s]\u001b[A\n",
      " 70%|███████   | 14/20 [00:14<00:05,  1.20it/s]\u001b[A\n",
      " 75%|███████▌  | 15/20 [00:15<00:03,  1.30it/s]\u001b[A\n",
      " 80%|████████  | 16/20 [00:16<00:02,  1.39it/s]\u001b[A\n",
      " 85%|████████▌ | 17/20 [00:16<00:01,  1.51it/s]\u001b[A\n",
      " 90%|█████████ | 18/20 [00:17<00:01,  1.65it/s]\u001b[A\n",
      " 95%|█████████▌| 19/20 [00:17<00:00,  1.80it/s]\u001b[A\n",
      "100%|██████████| 20/20 [00:18<00:00,  1.10it/s]\u001b[A\n"
     ]
    },
    {
     "name": "stdout",
     "output_type": "stream",
     "text": [
      "generator loss:0.020771458405182214\n",
      "-----------------------\n"
     ]
    },
    {
     "name": "stderr",
     "output_type": "stream",
     "text": [
      "102it [40:20, 23.01s/it]\n",
      "  0%|          | 0/20 [00:00<?, ?it/s]\u001b[A"
     ]
    },
    {
     "name": "stdout",
     "output_type": "stream",
     "text": [
      "total discriminator loss:0.02431178914925402\n",
      "-----------------------\n",
      "Training Step: 103\n"
     ]
    },
    {
     "name": "stderr",
     "output_type": "stream",
     "text": [
      "\n",
      "  5%|▌         | 1/20 [00:01<00:25,  1.37s/it]\n",
      "102it [40:21, 23.74s/it]\n"
     ]
    },
    {
     "ename": "KeyboardInterrupt",
     "evalue": "",
     "output_type": "error",
     "traceback": [
      "\u001b[0;31m---------------------------------------------------------------------------\u001b[0m",
      "\u001b[0;31mKeyboardInterrupt\u001b[0m                         Traceback (most recent call last)",
      "\u001b[0;32m<ipython-input-63-2ed301cc1795>\u001b[0m in \u001b[0;36m<module>\u001b[0;34m()\u001b[0m\n\u001b[1;32m      4\u001b[0m     \u001b[0;31m# train the generator\u001b[0m\u001b[0;34m\u001b[0m\u001b[0;34m\u001b[0m\u001b[0;34m\u001b[0m\u001b[0m\n\u001b[1;32m      5\u001b[0m     \u001b[0;32mfor\u001b[0m \u001b[0m_\u001b[0m \u001b[0;32min\u001b[0m \u001b[0mrange\u001b[0m\u001b[0;34m(\u001b[0m\u001b[0m_G_STEPS\u001b[0m\u001b[0;34m)\u001b[0m\u001b[0;34m:\u001b[0m\u001b[0;34m\u001b[0m\u001b[0;34m\u001b[0m\u001b[0m\n\u001b[0;32m----> 6\u001b[0;31m         \u001b[0mgen_loss\u001b[0m \u001b[0;34m=\u001b[0m \u001b[0mtrain_generator\u001b[0m\u001b[0;34m(\u001b[0m\u001b[0mG\u001b[0m\u001b[0;34m,\u001b[0m \u001b[0mD\u001b[0m\u001b[0;34m,\u001b[0m \u001b[0mBATCH_SIZE\u001b[0m\u001b[0;34m,\u001b[0m \u001b[0mT\u001b[0m\u001b[0;34m,\u001b[0m \u001b[0mmc_size\u001b[0m\u001b[0;34m=\u001b[0m\u001b[0;36m10\u001b[0m\u001b[0;34m,\u001b[0m \u001b[0mverbose\u001b[0m\u001b[0;34m=\u001b[0m\u001b[0;32mTrue\u001b[0m\u001b[0;34m,\u001b[0m \u001b[0moptimizer\u001b[0m\u001b[0;34m=\u001b[0m\u001b[0mAdam\u001b[0m\u001b[0;34m(\u001b[0m\u001b[0mlr\u001b[0m\u001b[0;34m=\u001b[0m\u001b[0;36m0.001\u001b[0m\u001b[0;34m)\u001b[0m\u001b[0;34m)\u001b[0m\u001b[0;34m\u001b[0m\u001b[0;34m\u001b[0m\u001b[0m\n\u001b[0m\u001b[1;32m      7\u001b[0m         \u001b[0mgen_loss_history\u001b[0m\u001b[0;34m.\u001b[0m\u001b[0mappend\u001b[0m\u001b[0;34m(\u001b[0m\u001b[0mgen_loss\u001b[0m\u001b[0;34m.\u001b[0m\u001b[0mnumpy\u001b[0m\u001b[0;34m(\u001b[0m\u001b[0;34m)\u001b[0m\u001b[0;34m)\u001b[0m\u001b[0;34m\u001b[0m\u001b[0;34m\u001b[0m\u001b[0m\n\u001b[1;32m      8\u001b[0m \u001b[0;34m\u001b[0m\u001b[0m\n",
      "\u001b[0;32m<ipython-input-59-afebe9d221e9>\u001b[0m in \u001b[0;36mtrain_generator\u001b[0;34m(generator, discriminator, batch_size, T, mc_size, verbose, optimizer, end_token, init_token)\u001b[0m\n\u001b[1;32m      9\u001b[0m         \u001b[0mgen_step_loss\u001b[0m \u001b[0;34m=\u001b[0m \u001b[0;34m[\u001b[0m\u001b[0;34m]\u001b[0m\u001b[0;34m\u001b[0m\u001b[0;34m\u001b[0m\u001b[0m\n\u001b[1;32m     10\u001b[0m \u001b[0;34m\u001b[0m\u001b[0m\n\u001b[0;32m---> 11\u001b[0;31m         \u001b[0;32mfor\u001b[0m \u001b[0m_\u001b[0m \u001b[0;32min\u001b[0m \u001b[0mtqdm\u001b[0m\u001b[0;34m(\u001b[0m\u001b[0mrange\u001b[0m\u001b[0;34m(\u001b[0m\u001b[0;36m1\u001b[0m\u001b[0;34m,\u001b[0m \u001b[0mT\u001b[0m\u001b[0;34m)\u001b[0m\u001b[0;34m)\u001b[0m\u001b[0;34m:\u001b[0m\u001b[0;34m\u001b[0m\u001b[0;34m\u001b[0m\u001b[0m\n\u001b[0m\u001b[1;32m     12\u001b[0m \u001b[0;34m\u001b[0m\u001b[0m\n\u001b[1;32m     13\u001b[0m             \u001b[0;31m# MC rollout to the end to get final return\u001b[0m\u001b[0;34m\u001b[0m\u001b[0;34m\u001b[0m\u001b[0;34m\u001b[0m\u001b[0m\n",
      "\u001b[0;32m/opt/conda/envs/basileus/lib/python3.7/site-packages/tqdm/std.py\u001b[0m in \u001b[0;36m__iter__\u001b[0;34m(self)\u001b[0m\n\u001b[1;32m   1173\u001b[0m                     \u001b[0mdt\u001b[0m \u001b[0;34m=\u001b[0m \u001b[0mtime\u001b[0m\u001b[0;34m(\u001b[0m\u001b[0;34m)\u001b[0m \u001b[0;34m-\u001b[0m \u001b[0mlast_print_t\u001b[0m\u001b[0;34m\u001b[0m\u001b[0;34m\u001b[0m\u001b[0m\n\u001b[1;32m   1174\u001b[0m                     \u001b[0;32mif\u001b[0m \u001b[0mdt\u001b[0m \u001b[0;34m>=\u001b[0m \u001b[0mmininterval\u001b[0m\u001b[0;34m:\u001b[0m\u001b[0;34m\u001b[0m\u001b[0;34m\u001b[0m\u001b[0m\n\u001b[0;32m-> 1175\u001b[0;31m                         \u001b[0mself\u001b[0m\u001b[0;34m.\u001b[0m\u001b[0mupdate\u001b[0m\u001b[0;34m(\u001b[0m\u001b[0mn\u001b[0m \u001b[0;34m-\u001b[0m \u001b[0mlast_print_n\u001b[0m\u001b[0;34m)\u001b[0m\u001b[0;34m\u001b[0m\u001b[0;34m\u001b[0m\u001b[0m\n\u001b[0m\u001b[1;32m   1176\u001b[0m                         \u001b[0mlast_print_n\u001b[0m \u001b[0;34m=\u001b[0m \u001b[0mself\u001b[0m\u001b[0;34m.\u001b[0m\u001b[0mlast_print_n\u001b[0m\u001b[0;34m\u001b[0m\u001b[0;34m\u001b[0m\u001b[0m\n\u001b[1;32m   1177\u001b[0m                         \u001b[0mlast_print_t\u001b[0m \u001b[0;34m=\u001b[0m \u001b[0mself\u001b[0m\u001b[0;34m.\u001b[0m\u001b[0mlast_print_t\u001b[0m\u001b[0;34m\u001b[0m\u001b[0;34m\u001b[0m\u001b[0m\n",
      "\u001b[0;32m/opt/conda/envs/basileus/lib/python3.7/site-packages/tqdm/std.py\u001b[0m in \u001b[0;36mupdate\u001b[0;34m(self, n)\u001b[0m\n\u001b[1;32m   1223\u001b[0m                     \u001b[0mself\u001b[0m\u001b[0;34m.\u001b[0m\u001b[0m_ema_dn\u001b[0m\u001b[0;34m(\u001b[0m\u001b[0mdn\u001b[0m\u001b[0;34m)\u001b[0m\u001b[0;34m\u001b[0m\u001b[0;34m\u001b[0m\u001b[0m\n\u001b[1;32m   1224\u001b[0m                     \u001b[0mself\u001b[0m\u001b[0;34m.\u001b[0m\u001b[0m_ema_dt\u001b[0m\u001b[0;34m(\u001b[0m\u001b[0mdt\u001b[0m\u001b[0;34m)\u001b[0m\u001b[0;34m\u001b[0m\u001b[0;34m\u001b[0m\u001b[0m\n\u001b[0;32m-> 1225\u001b[0;31m                 \u001b[0mself\u001b[0m\u001b[0;34m.\u001b[0m\u001b[0mrefresh\u001b[0m\u001b[0;34m(\u001b[0m\u001b[0mlock_args\u001b[0m\u001b[0;34m=\u001b[0m\u001b[0mself\u001b[0m\u001b[0;34m.\u001b[0m\u001b[0mlock_args\u001b[0m\u001b[0;34m)\u001b[0m\u001b[0;34m\u001b[0m\u001b[0;34m\u001b[0m\u001b[0m\n\u001b[0m\u001b[1;32m   1226\u001b[0m                 \u001b[0;32mif\u001b[0m \u001b[0mself\u001b[0m\u001b[0;34m.\u001b[0m\u001b[0mdynamic_miniters\u001b[0m\u001b[0;34m:\u001b[0m\u001b[0;34m\u001b[0m\u001b[0;34m\u001b[0m\u001b[0m\n\u001b[1;32m   1227\u001b[0m                     \u001b[0;31m# If no `miniters` was specified, adjust automatically to the\u001b[0m\u001b[0;34m\u001b[0m\u001b[0;34m\u001b[0m\u001b[0;34m\u001b[0m\u001b[0m\n",
      "\u001b[0;32m/opt/conda/envs/basileus/lib/python3.7/site-packages/tqdm/std.py\u001b[0m in \u001b[0;36mrefresh\u001b[0;34m(self, nolock, lock_args)\u001b[0m\n\u001b[1;32m   1324\u001b[0m             \u001b[0;32melse\u001b[0m\u001b[0;34m:\u001b[0m\u001b[0;34m\u001b[0m\u001b[0;34m\u001b[0m\u001b[0m\n\u001b[1;32m   1325\u001b[0m                 \u001b[0mself\u001b[0m\u001b[0;34m.\u001b[0m\u001b[0m_lock\u001b[0m\u001b[0;34m.\u001b[0m\u001b[0macquire\u001b[0m\u001b[0;34m(\u001b[0m\u001b[0;34m)\u001b[0m\u001b[0;34m\u001b[0m\u001b[0;34m\u001b[0m\u001b[0m\n\u001b[0;32m-> 1326\u001b[0;31m         \u001b[0mself\u001b[0m\u001b[0;34m.\u001b[0m\u001b[0mdisplay\u001b[0m\u001b[0;34m(\u001b[0m\u001b[0;34m)\u001b[0m\u001b[0;34m\u001b[0m\u001b[0;34m\u001b[0m\u001b[0m\n\u001b[0m\u001b[1;32m   1327\u001b[0m         \u001b[0;32mif\u001b[0m \u001b[0;32mnot\u001b[0m \u001b[0mnolock\u001b[0m\u001b[0;34m:\u001b[0m\u001b[0;34m\u001b[0m\u001b[0;34m\u001b[0m\u001b[0m\n\u001b[1;32m   1328\u001b[0m             \u001b[0mself\u001b[0m\u001b[0;34m.\u001b[0m\u001b[0m_lock\u001b[0m\u001b[0;34m.\u001b[0m\u001b[0mrelease\u001b[0m\u001b[0;34m(\u001b[0m\u001b[0;34m)\u001b[0m\u001b[0;34m\u001b[0m\u001b[0;34m\u001b[0m\u001b[0m\n",
      "\u001b[0;32m/opt/conda/envs/basileus/lib/python3.7/site-packages/tqdm/std.py\u001b[0m in \u001b[0;36mdisplay\u001b[0;34m(self, msg, pos)\u001b[0m\n\u001b[1;32m   1464\u001b[0m \u001b[0;34m\u001b[0m\u001b[0m\n\u001b[1;32m   1465\u001b[0m         \u001b[0;32mif\u001b[0m \u001b[0mpos\u001b[0m\u001b[0;34m:\u001b[0m\u001b[0;34m\u001b[0m\u001b[0;34m\u001b[0m\u001b[0m\n\u001b[0;32m-> 1466\u001b[0;31m             \u001b[0mself\u001b[0m\u001b[0;34m.\u001b[0m\u001b[0mmoveto\u001b[0m\u001b[0;34m(\u001b[0m\u001b[0mpos\u001b[0m\u001b[0;34m)\u001b[0m\u001b[0;34m\u001b[0m\u001b[0;34m\u001b[0m\u001b[0m\n\u001b[0m\u001b[1;32m   1467\u001b[0m         \u001b[0mself\u001b[0m\u001b[0;34m.\u001b[0m\u001b[0msp\u001b[0m\u001b[0;34m(\u001b[0m\u001b[0mself\u001b[0m\u001b[0;34m.\u001b[0m\u001b[0m__repr__\u001b[0m\u001b[0;34m(\u001b[0m\u001b[0;34m)\u001b[0m \u001b[0;32mif\u001b[0m \u001b[0mmsg\u001b[0m \u001b[0;32mis\u001b[0m \u001b[0;32mNone\u001b[0m \u001b[0;32melse\u001b[0m \u001b[0mmsg\u001b[0m\u001b[0;34m)\u001b[0m\u001b[0;34m\u001b[0m\u001b[0;34m\u001b[0m\u001b[0m\n\u001b[1;32m   1468\u001b[0m         \u001b[0;32mif\u001b[0m \u001b[0mpos\u001b[0m\u001b[0;34m:\u001b[0m\u001b[0;34m\u001b[0m\u001b[0;34m\u001b[0m\u001b[0m\n",
      "\u001b[0;32m/opt/conda/envs/basileus/lib/python3.7/site-packages/tqdm/std.py\u001b[0m in \u001b[0;36mmoveto\u001b[0;34m(self, n)\u001b[0m\n\u001b[1;32m   1415\u001b[0m     \u001b[0;32mdef\u001b[0m \u001b[0mmoveto\u001b[0m\u001b[0;34m(\u001b[0m\u001b[0mself\u001b[0m\u001b[0;34m,\u001b[0m \u001b[0mn\u001b[0m\u001b[0;34m)\u001b[0m\u001b[0;34m:\u001b[0m\u001b[0;34m\u001b[0m\u001b[0;34m\u001b[0m\u001b[0m\n\u001b[1;32m   1416\u001b[0m         \u001b[0;31m# TODO: private method\u001b[0m\u001b[0;34m\u001b[0m\u001b[0;34m\u001b[0m\u001b[0;34m\u001b[0m\u001b[0m\n\u001b[0;32m-> 1417\u001b[0;31m         \u001b[0mself\u001b[0m\u001b[0;34m.\u001b[0m\u001b[0mfp\u001b[0m\u001b[0;34m.\u001b[0m\u001b[0mwrite\u001b[0m\u001b[0;34m(\u001b[0m\u001b[0m_unicode\u001b[0m\u001b[0;34m(\u001b[0m\u001b[0;34m'\\n'\u001b[0m \u001b[0;34m*\u001b[0m \u001b[0mn\u001b[0m \u001b[0;34m+\u001b[0m \u001b[0m_term_move_up\u001b[0m\u001b[0;34m(\u001b[0m\u001b[0;34m)\u001b[0m \u001b[0;34m*\u001b[0m \u001b[0;34m-\u001b[0m\u001b[0mn\u001b[0m\u001b[0;34m)\u001b[0m\u001b[0;34m)\u001b[0m\u001b[0;34m\u001b[0m\u001b[0;34m\u001b[0m\u001b[0m\n\u001b[0m\u001b[1;32m   1418\u001b[0m         \u001b[0mself\u001b[0m\u001b[0;34m.\u001b[0m\u001b[0mfp\u001b[0m\u001b[0;34m.\u001b[0m\u001b[0mflush\u001b[0m\u001b[0;34m(\u001b[0m\u001b[0;34m)\u001b[0m\u001b[0;34m\u001b[0m\u001b[0;34m\u001b[0m\u001b[0m\n\u001b[1;32m   1419\u001b[0m \u001b[0;34m\u001b[0m\u001b[0m\n",
      "\u001b[0;32m/opt/conda/envs/basileus/lib/python3.7/site-packages/tqdm/utils.py\u001b[0m in \u001b[0;36minner\u001b[0;34m(*args, **kwargs)\u001b[0m\n\u001b[1;32m    141\u001b[0m         \u001b[0;32mdef\u001b[0m \u001b[0minner\u001b[0m\u001b[0;34m(\u001b[0m\u001b[0;34m*\u001b[0m\u001b[0margs\u001b[0m\u001b[0;34m,\u001b[0m \u001b[0;34m**\u001b[0m\u001b[0mkwargs\u001b[0m\u001b[0;34m)\u001b[0m\u001b[0;34m:\u001b[0m\u001b[0;34m\u001b[0m\u001b[0;34m\u001b[0m\u001b[0m\n\u001b[1;32m    142\u001b[0m             \u001b[0;32mtry\u001b[0m\u001b[0;34m:\u001b[0m\u001b[0;34m\u001b[0m\u001b[0;34m\u001b[0m\u001b[0m\n\u001b[0;32m--> 143\u001b[0;31m                 \u001b[0;32mreturn\u001b[0m \u001b[0mfunc\u001b[0m\u001b[0;34m(\u001b[0m\u001b[0;34m*\u001b[0m\u001b[0margs\u001b[0m\u001b[0;34m,\u001b[0m \u001b[0;34m**\u001b[0m\u001b[0mkwargs\u001b[0m\u001b[0;34m)\u001b[0m\u001b[0;34m\u001b[0m\u001b[0;34m\u001b[0m\u001b[0m\n\u001b[0m\u001b[1;32m    144\u001b[0m             \u001b[0;32mexcept\u001b[0m \u001b[0mOSError\u001b[0m \u001b[0;32mas\u001b[0m \u001b[0me\u001b[0m\u001b[0;34m:\u001b[0m\u001b[0;34m\u001b[0m\u001b[0;34m\u001b[0m\u001b[0m\n\u001b[1;32m    145\u001b[0m                 \u001b[0;32mif\u001b[0m \u001b[0me\u001b[0m\u001b[0;34m.\u001b[0m\u001b[0merrno\u001b[0m \u001b[0;34m!=\u001b[0m \u001b[0;36m5\u001b[0m\u001b[0;34m:\u001b[0m\u001b[0;34m\u001b[0m\u001b[0;34m\u001b[0m\u001b[0m\n",
      "\u001b[0;32m/opt/conda/envs/basileus/lib/python3.7/site-packages/ipykernel/iostream.py\u001b[0m in \u001b[0;36mwrite\u001b[0;34m(self, string)\u001b[0m\n\u001b[1;32m    400\u001b[0m             \u001b[0mis_child\u001b[0m \u001b[0;34m=\u001b[0m \u001b[0;34m(\u001b[0m\u001b[0;32mnot\u001b[0m \u001b[0mself\u001b[0m\u001b[0;34m.\u001b[0m\u001b[0m_is_master_process\u001b[0m\u001b[0;34m(\u001b[0m\u001b[0;34m)\u001b[0m\u001b[0;34m)\u001b[0m\u001b[0;34m\u001b[0m\u001b[0;34m\u001b[0m\u001b[0m\n\u001b[1;32m    401\u001b[0m             \u001b[0;31m# only touch the buffer in the IO thread to avoid races\u001b[0m\u001b[0;34m\u001b[0m\u001b[0;34m\u001b[0m\u001b[0;34m\u001b[0m\u001b[0m\n\u001b[0;32m--> 402\u001b[0;31m             \u001b[0mself\u001b[0m\u001b[0;34m.\u001b[0m\u001b[0mpub_thread\u001b[0m\u001b[0;34m.\u001b[0m\u001b[0mschedule\u001b[0m\u001b[0;34m(\u001b[0m\u001b[0;32mlambda\u001b[0m \u001b[0;34m:\u001b[0m \u001b[0mself\u001b[0m\u001b[0;34m.\u001b[0m\u001b[0m_buffer\u001b[0m\u001b[0;34m.\u001b[0m\u001b[0mwrite\u001b[0m\u001b[0;34m(\u001b[0m\u001b[0mstring\u001b[0m\u001b[0;34m)\u001b[0m\u001b[0;34m)\u001b[0m\u001b[0;34m\u001b[0m\u001b[0;34m\u001b[0m\u001b[0m\n\u001b[0m\u001b[1;32m    403\u001b[0m             \u001b[0;32mif\u001b[0m \u001b[0mis_child\u001b[0m\u001b[0;34m:\u001b[0m\u001b[0;34m\u001b[0m\u001b[0;34m\u001b[0m\u001b[0m\n\u001b[1;32m    404\u001b[0m                 \u001b[0;31m# mp.Pool cannot be trusted to flush promptly (or ever),\u001b[0m\u001b[0;34m\u001b[0m\u001b[0;34m\u001b[0m\u001b[0;34m\u001b[0m\u001b[0m\n",
      "\u001b[0;32m/opt/conda/envs/basileus/lib/python3.7/site-packages/ipykernel/iostream.py\u001b[0m in \u001b[0;36mschedule\u001b[0;34m(self, f)\u001b[0m\n\u001b[1;32m    201\u001b[0m             \u001b[0mself\u001b[0m\u001b[0;34m.\u001b[0m\u001b[0m_events\u001b[0m\u001b[0;34m.\u001b[0m\u001b[0mappend\u001b[0m\u001b[0;34m(\u001b[0m\u001b[0mf\u001b[0m\u001b[0;34m)\u001b[0m\u001b[0;34m\u001b[0m\u001b[0;34m\u001b[0m\u001b[0m\n\u001b[1;32m    202\u001b[0m             \u001b[0;31m# wake event thread (message content is ignored)\u001b[0m\u001b[0;34m\u001b[0m\u001b[0;34m\u001b[0m\u001b[0;34m\u001b[0m\u001b[0m\n\u001b[0;32m--> 203\u001b[0;31m             \u001b[0mself\u001b[0m\u001b[0;34m.\u001b[0m\u001b[0m_event_pipe\u001b[0m\u001b[0;34m.\u001b[0m\u001b[0msend\u001b[0m\u001b[0;34m(\u001b[0m\u001b[0;34mb''\u001b[0m\u001b[0;34m)\u001b[0m\u001b[0;34m\u001b[0m\u001b[0;34m\u001b[0m\u001b[0m\n\u001b[0m\u001b[1;32m    204\u001b[0m         \u001b[0;32melse\u001b[0m\u001b[0;34m:\u001b[0m\u001b[0;34m\u001b[0m\u001b[0;34m\u001b[0m\u001b[0m\n\u001b[1;32m    205\u001b[0m             \u001b[0mf\u001b[0m\u001b[0;34m(\u001b[0m\u001b[0;34m)\u001b[0m\u001b[0;34m\u001b[0m\u001b[0;34m\u001b[0m\u001b[0m\n",
      "\u001b[0;32m/opt/conda/envs/basileus/lib/python3.7/site-packages/ipykernel/iostream.py\u001b[0m in \u001b[0;36m_event_pipe\u001b[0;34m(self)\u001b[0m\n\u001b[1;32m     93\u001b[0m         \u001b[0;34m\"\"\"thread-local event pipe for signaling events that should be processed in the thread\"\"\"\u001b[0m\u001b[0;34m\u001b[0m\u001b[0;34m\u001b[0m\u001b[0m\n\u001b[1;32m     94\u001b[0m         \u001b[0;32mtry\u001b[0m\u001b[0;34m:\u001b[0m\u001b[0;34m\u001b[0m\u001b[0;34m\u001b[0m\u001b[0m\n\u001b[0;32m---> 95\u001b[0;31m             \u001b[0mevent_pipe\u001b[0m \u001b[0;34m=\u001b[0m \u001b[0mself\u001b[0m\u001b[0;34m.\u001b[0m\u001b[0m_local\u001b[0m\u001b[0;34m.\u001b[0m\u001b[0mevent_pipe\u001b[0m\u001b[0;34m\u001b[0m\u001b[0;34m\u001b[0m\u001b[0m\n\u001b[0m\u001b[1;32m     96\u001b[0m         \u001b[0;32mexcept\u001b[0m \u001b[0mAttributeError\u001b[0m\u001b[0;34m:\u001b[0m\u001b[0;34m\u001b[0m\u001b[0;34m\u001b[0m\u001b[0m\n\u001b[1;32m     97\u001b[0m             \u001b[0;31m# new thread, new event pipe\u001b[0m\u001b[0;34m\u001b[0m\u001b[0;34m\u001b[0m\u001b[0;34m\u001b[0m\u001b[0m\n",
      "\u001b[0;31mKeyboardInterrupt\u001b[0m: "
     ]
    }
   ],
   "source": [
    "for event_type_batch, _ in tqdm(train_dataset.take(_TOTAL_STEPS)):\n",
    "    step += 1\n",
    "    print('Training Step:', step)\n",
    "    # train the generator\n",
    "    for _ in range(_G_STEPS):\n",
    "        gen_loss = train_generator(G, D, BATCH_SIZE, T, mc_size=10, verbose=True, optimizer=Adam(lr=0.001))        \n",
    "        gen_loss_history.append(gen_loss.numpy())\n",
    "    \n",
    "    # train the discriminator\n",
    "    for _ in range(_D_STEPS):\n",
    "        disc_loss = train_discriminator(event_type_batch, G, D, BATCH_SIZE, T, verbose=True, optimizer=Adam(lr=0.001))\n",
    "        disc_loss_history.append(disc_loss.numpy())\n",
    "\n",
    "#     # save weights every 200 steps\n",
    "#     if step % 100 == 0:\n",
    "#         print('Saving weights...')\n",
    "#         save_path_prefix = f'/home/lun/project-basileus/seq-gan/experiment_results/long_seqs_v10/oracle_train_{step}'\n",
    "#         save_model_weights(save_path_prefix, generator, discriminator, critic)\n",
    "#         print('All Saved!')"
   ]
  },
  {
   "cell_type": "code",
   "execution_count": 64,
   "id": "floral-annual",
   "metadata": {},
   "outputs": [
    {
     "data": {
      "text/plain": [
       "(102, 102)"
      ]
     },
     "execution_count": 64,
     "metadata": {},
     "output_type": "execute_result"
    }
   ],
   "source": [
    "len(gen_loss_history), len(disc_loss_history)"
   ]
  },
  {
   "cell_type": "code",
   "execution_count": 65,
   "id": "muslim-illustration",
   "metadata": {},
   "outputs": [
    {
     "data": {
      "text/plain": [
       "Text(0.5, 0, 'Training steps')"
      ]
     },
     "execution_count": 65,
     "metadata": {},
     "output_type": "execute_result"
    },
    {
     "data": {
      "image/png": "[encoded data removed]",
      "text/plain": [
       "<Figure size 600x400 with 1 Axes>"
      ]
     },
     "metadata": {
      "needs_background": "light"
     },
     "output_type": "display_data"
    },
    {
     "data": {
      "image/png": "[encoded data removed]",
      "text/plain": [
       "<Figure size 600x400 with 1 Axes>"
      ]
     },
     "metadata": {
      "needs_background": "light"
     },
     "output_type": "display_data"
    }
   ],
   "source": [
    "x = range(len(gen_loss_history))\n",
    "plt.figure(dpi=100)\n",
    "plt.plot(x, gen_loss_history)\n",
    "plt.title('Generator Loss History')\n",
    "plt.xlabel('Training steps')\n",
    "\n",
    "x = range(len(disc_loss_history))\n",
    "plt.figure(dpi=100)\n",
    "plt.plot(x, disc_loss_history)\n",
    "plt.title('Discriminator Loss History')\n",
    "plt.xlabel('Training steps')"
   ]
  },
  {
   "cell_type": "markdown",
   "id": "dominant-sperm",
   "metadata": {},
   "source": [
    "## Compare generated sequences between Random G and trained G"
   ]
  },
  {
   "cell_type": "code",
   "execution_count": 71,
   "id": "governing-rwanda",
   "metadata": {},
   "outputs": [],
   "source": [
    "G0 = build_G(\n",
    "    batch_size = BATCH_SIZE,\n",
    "    event_vocab_dim = EVENT_VOCAB_DIM,\n",
    "    emb_dim = EMB_DIM,\n",
    "    hidden_dim= HIDDEN_DIM,\n",
    ")\n",
    "seqs_random = generate_sequences(1000, G0,BATCH_SIZE, T)"
   ]
  },
  {
   "cell_type": "code",
   "execution_count": 72,
   "id": "utility-auditor",
   "metadata": {},
   "outputs": [],
   "source": [
    "seqs_trained = generate_sequences(1000, G, BATCH_SIZE, T)"
   ]
  },
  {
   "cell_type": "code",
   "execution_count": 73,
   "id": "appointed-lawsuit",
   "metadata": {},
   "outputs": [
    {
     "data": {
      "text/plain": [
       "<tf.Tensor: shape=(1000, 21, 1), dtype=float64, numpy=\n",
       "array([[[1.],\n",
       "        [0.],\n",
       "        [2.],\n",
       "        ...,\n",
       "        [3.],\n",
       "        [2.],\n",
       "        [3.]],\n",
       "\n",
       "       [[1.],\n",
       "        [2.],\n",
       "        [3.],\n",
       "        ...,\n",
       "        [5.],\n",
       "        [4.],\n",
       "        [4.]],\n",
       "\n",
       "       [[1.],\n",
       "        [2.],\n",
       "        [3.],\n",
       "        ...,\n",
       "        [3.],\n",
       "        [4.],\n",
       "        [4.]],\n",
       "\n",
       "       ...,\n",
       "\n",
       "       [[1.],\n",
       "        [2.],\n",
       "        [1.],\n",
       "        ...,\n",
       "        [2.],\n",
       "        [3.],\n",
       "        [4.]],\n",
       "\n",
       "       [[1.],\n",
       "        [4.],\n",
       "        [2.],\n",
       "        ...,\n",
       "        [3.],\n",
       "        [3.],\n",
       "        [3.]],\n",
       "\n",
       "       [[1.],\n",
       "        [2.],\n",
       "        [3.],\n",
       "        ...,\n",
       "        [2.],\n",
       "        [2.],\n",
       "        [2.]]])>"
      ]
     },
     "execution_count": 73,
     "metadata": {},
     "output_type": "execute_result"
    }
   ],
   "source": [
    "seqs_random"
   ]
  },
  {
   "cell_type": "code",
   "execution_count": 74,
   "id": "champion-equivalent",
   "metadata": {},
   "outputs": [
    {
     "data": {
      "text/plain": [
       "<tf.Tensor: shape=(1000, 21, 1), dtype=float64, numpy=\n",
       "array([[[1.],\n",
       "        [4.],\n",
       "        [2.],\n",
       "        ...,\n",
       "        [1.],\n",
       "        [5.],\n",
       "        [2.]],\n",
       "\n",
       "       [[1.],\n",
       "        [1.],\n",
       "        [1.],\n",
       "        ...,\n",
       "        [3.],\n",
       "        [3.],\n",
       "        [2.]],\n",
       "\n",
       "       [[1.],\n",
       "        [3.],\n",
       "        [2.],\n",
       "        ...,\n",
       "        [0.],\n",
       "        [4.],\n",
       "        [4.]],\n",
       "\n",
       "       ...,\n",
       "\n",
       "       [[1.],\n",
       "        [2.],\n",
       "        [4.],\n",
       "        ...,\n",
       "        [0.],\n",
       "        [5.],\n",
       "        [0.]],\n",
       "\n",
       "       [[1.],\n",
       "        [5.],\n",
       "        [4.],\n",
       "        ...,\n",
       "        [0.],\n",
       "        [1.],\n",
       "        [1.]],\n",
       "\n",
       "       [[1.],\n",
       "        [4.],\n",
       "        [3.],\n",
       "        ...,\n",
       "        [5.],\n",
       "        [3.],\n",
       "        [4.]]])>"
      ]
     },
     "execution_count": 74,
     "metadata": {},
     "output_type": "execute_result"
    }
   ],
   "source": [
    "seqs_trained"
   ]
  },
  {
   "cell_type": "markdown",
   "id": "primary-lafayette",
   "metadata": {},
   "source": [
    "## Save trained G and D weights"
   ]
  },
  {
   "cell_type": "code",
   "execution_count": 76,
   "id": "changed-postage",
   "metadata": {},
   "outputs": [],
   "source": [
    "if not os.path.exists(model_save_dir + '/G_run_2021-03-26'):\n",
    "    os.makedirs(model_save_dir + '/G_run_2021-03-26')\n",
    "\n",
    "G_save_path = model_save_dir + '/G_run_2021-03-26/model.tf'\n",
    "                \n",
    "if not os.path.exists(model_save_dir + '/D_run_2021-03-26'):\n",
    "    os.makedirs(model_save_dir + '/D_run_2021-03-26')\n",
    "\n",
    "D_save_path = model_save_dir + '/D_run_2021-03-26/model.tf'\n",
    "\n",
    "G.save_weights(G_save_path)\n",
    "D.save_weights(D_save_path)"
   ]
  },
  {
   "cell_type": "markdown",
   "id": "administrative-compound",
   "metadata": {},
   "source": [
    "## Debug"
   ]
  },
  {
   "cell_type": "code",
   "execution_count": null,
   "id": "latter-audio",
   "metadata": {},
   "outputs": [],
   "source": []
  }
 ],
 "metadata": {
  "kernelspec": {
   "display_name": "Python 3",
   "language": "python",
   "name": "python3"
  },
  "language_info": {
   "codemirror_mode": {
    "name": "ipython",
    "version": 3
   },
   "file_extension": ".py",
   "mimetype": "text/x-python",
   "name": "python",
   "nbconvert_exporter": "python",
   "pygments_lexer": "ipython3",
   "version": "3.7.9"
  }
 },
 "nbformat": 4,
 "nbformat_minor": 5
}
