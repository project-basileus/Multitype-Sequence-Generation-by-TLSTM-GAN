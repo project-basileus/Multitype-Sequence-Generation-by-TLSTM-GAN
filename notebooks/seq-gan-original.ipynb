{
 "cells": [
  {
   "cell_type": "code",
   "execution_count": 1,
   "id": "starting-plastic",
   "metadata": {},
   "outputs": [],
   "source": [
    "import os \n",
    "import sys\n",
    "from tqdm import tqdm\n",
    "import importlib\n",
    "import numpy as np\n",
    "import pickle\n",
    "import tensorflow as tf\n",
    "import matplotlib.pyplot as plt\n",
    "\n",
    "module_path = \"/home/lun/project-basileus/multitype-sequence-generation-by-tlstm-gan/\"\n",
    "data_path = \"/home/lun/project-basileus/multitype-sequence-generation-by-tlstm-gan/data/long_seqs_v10/\"\n",
    "\n",
    "if module_path not in sys.path:\n",
    "    sys.path.append(module_path)"
   ]
  },
  {
   "cell_type": "code",
   "execution_count": 2,
   "id": "funny-swaziland",
   "metadata": {},
   "outputs": [
    {
     "data": {
      "text/plain": [
       "'2.1.0'"
      ]
     },
     "execution_count": 2,
     "metadata": {},
     "output_type": "execute_result"
    }
   ],
   "source": [
    "tf.__version__"
   ]
  },
  {
   "cell_type": "markdown",
   "id": "juvenile-object",
   "metadata": {},
   "source": [
    "## Load Data"
   ]
  },
  {
   "cell_type": "code",
   "execution_count": 3,
   "id": "reflected-gamma",
   "metadata": {},
   "outputs": [],
   "source": [
    "pos_data_path = os.path.join(data_path, 'positive_long_sequences.pickle')\n",
    "neg_data_path = os.path.join(data_path, 'negative_long_sequences.pickle')\n",
    "\n",
    "def load_sequence_from_pickle_to_numpy(pickle_file_path):\n",
    "    \"\"\"\n",
    "        A list of sequence in format of (event_type, time_delta)\n",
    "    :param pickle_file_path: e.g. /.../project-basileus/seq-gan/data/fixed_length/valid_sequences.pickle\n",
    "    :return: (event_type_seqs, time_delta)\n",
    "    \"\"\"\n",
    "    with open(pickle_file_path, 'rb') as f:\n",
    "        raw_seqs = pickle.load(f)\n",
    "\n",
    "    if not raw_seqs or not raw_seqs[0]:\n",
    "        return np.array([]), np.array([])\n",
    "\n",
    "    N = len(raw_seqs)\n",
    "    T = len(raw_seqs[0])\n",
    "    \n",
    "    seqs = np.array(raw_seqs)\n",
    "#     print(seqs.shape)\n",
    "    \n",
    "    et_seqs = seqs[:, :, 0].astype(np.float64).reshape((N, T, 1))\n",
    "    ts_seqs = seqs[:, :, 1].astype(np.float64).reshape((N, T, 1))\n",
    "    return et_seqs, ts_seqs\n",
    "    \n",
    "pos_event_type_seqs, pos_timestamp_seqs = load_sequence_from_pickle_to_numpy(pos_data_path)\n",
    "neg_event_type_seqs, neg_timestamp_seqs = load_sequence_from_pickle_to_numpy(neg_data_path)"
   ]
  },
  {
   "cell_type": "code",
   "execution_count": 4,
   "id": "prepared-kansas",
   "metadata": {},
   "outputs": [],
   "source": [
    "def create_dataset(features: np.array, labels: np.array, batch_size=2, epochs=10, buffer_size=10000):\n",
    "    \"\"\"\n",
    "    Create dataset from numpy arrays\n",
    "    \"\"\"\n",
    "    dataset = tf.data.Dataset.from_tensor_slices((features, labels))\n",
    "    dataset = dataset.shuffle(buffer_size)\n",
    "    dataset = dataset.repeat(epochs)\n",
    "    dataset = dataset.batch(batch_size, drop_remainder=True)\n",
    "    return dataset"
   ]
  },
  {
   "cell_type": "code",
   "execution_count": 6,
   "id": "brown-stranger",
   "metadata": {},
   "outputs": [],
   "source": [
    "BATCH_SIZE = 16\n",
    "T = 20 + 1\n",
    "VOCAB = ['END/PADDING', 'INIT', 'start', 'view', 'click', 'install']\n",
    "EVENT_VOCAB_DIM = len(VOCAB)\n",
    "EMB_DIM = 8\n",
    "HIDDEN_DIM = 32\n",
    "\n",
    "END_TOKEN = 0\n",
    "MAX_TIME = 1024"
   ]
  },
  {
   "cell_type": "markdown",
   "id": "sensitive-organic",
   "metadata": {},
   "source": [
    "## Create original SeqGan"
   ]
  },
  {
   "cell_type": "code",
   "execution_count": 7,
   "id": "linear-sunrise",
   "metadata": {},
   "outputs": [],
   "source": [
    "import tensorflow as tf\n",
    "from tensorflow.keras import backend as K\n",
    "from tensorflow.keras.models import Model\n",
    "from tensorflow.keras import Sequential\n",
    "from tensorflow.keras.optimizers import Adam, SGD\n",
    "from tensorflow.keras.layers import Input, LSTM, Embedding, Reshape, Dense, Dropout, Conv1D, Conv2D, MaxPooling1D, Activation, Multiply, Add, Lambda\n",
    "from tensorflow.keras import regularizers\n",
    "\n",
    "# from sgtlstm.TimeLSTM import TimeLSTM0, TimeLSTM1, TimeLSTM2, TimeLSTM3\n",
    "\n",
    "tf.keras.backend.set_floatx('float64')\n",
    "\n",
    "\n",
    "def build_G(batch_size, event_vocab_dim, emb_dim, hidden_dim=11):\n",
    "    # normal LSTM\n",
    "    i_et = Input(batch_shape=(batch_size, None, 1), name='event_type')  # input of discrete feature event type\n",
    "    mask_layer = tf.keras.layers.Masking(mask_value=0., input_shape=(None, 1))\n",
    "    masked_et = mask_layer(i_et)\n",
    "    \n",
    "    embed0 = Embedding(input_dim=event_vocab_dim, output_dim=emb_dim, mask_zero=True)(masked_et)\n",
    "    # turn [batch_size, None, 1, emb_dim] -> [batch_size, None, emb_dim]\n",
    "    embed0 = tf.squeeze(embed0, axis=2)\n",
    "\n",
    "    hm = LSTM(hidden_dim, \n",
    "              name='lstm',\n",
    "              stateful=True,\n",
    "              return_sequences=False,\n",
    "              kernel_initializer=tf.keras.initializers.RandomNormal(stddev=0.1),\n",
    "              recurrent_initializer=tf.keras.initializers.RandomNormal(stddev=0.1),\n",
    "              bias_initializer=tf.keras.initializers.RandomNormal(stddev=0.1))(embed0)\n",
    "\n",
    "    logits = Dense(event_vocab_dim,\n",
    "                   activation='linear',\n",
    "                   name='dense_1',\n",
    "                   kernel_initializer=tf.keras.initializers.RandomNormal(stddev=0.1),\n",
    "                   bias_initializer=tf.keras.initializers.RandomNormal(stddev=0.1))(hm)\n",
    "    \n",
    "    generator = Model(\n",
    "        inputs=i_et,\n",
    "        outputs=logits)\n",
    "        \n",
    "    return generator"
   ]
  },
  {
   "cell_type": "code",
   "execution_count": 8,
   "id": "former-portuguese",
   "metadata": {},
   "outputs": [],
   "source": [
    "# Modified from: https://gist.github.com/iskandr/a874e4cf358697037d14a17020304535\n",
    "def highway_layers(value, n_layers, activation=\"tanh\", gate_bias=-3):\n",
    "    dim = K.int_shape(value)[-1]\n",
    "    gate_bias_initializer = tf.keras.initializers.Constant(gate_bias)\n",
    "    for i in range(n_layers):     \n",
    "        gate = Dense(units=dim, bias_initializer=gate_bias_initializer, activation='sigmoid')(value)\n",
    "        negated_gate = Lambda(\n",
    "            lambda x: 1.0 - x,\n",
    "            output_shape=(dim,))(gate)\n",
    "        transformed = Dense(units=dim, activation=activation)(value)\n",
    "        transformed_gated = Multiply()([gate, transformed])\n",
    "        identity_gated = Multiply()([negated_gate, value])\n",
    "        value = Add()([transformed_gated, identity_gated])\n",
    "    return value"
   ]
  },
  {
   "cell_type": "code",
   "execution_count": 9,
   "id": "piano-merchandise",
   "metadata": {},
   "outputs": [],
   "source": [
    "def build_D(T, event_vocab_dim, emb_dim, num_filters=100, kernel_size=4, dropout_rate=0.25):\n",
    "    # Highway network\n",
    "    i_et = Input(shape=(T, 1), name='event_type')  # input of discrete feature event type\n",
    "\n",
    "    mask_layer = tf.keras.layers.Masking(mask_value=0., input_shape=(T, 1))\n",
    "    masked_et = mask_layer(i_et)\n",
    "    \n",
    "    embed0 = Embedding(input_dim=event_vocab_dim, output_dim=emb_dim, mask_zero=True)(masked_et)\n",
    "    embed0 = tf.squeeze(embed0, axis=2)\n",
    "\n",
    "    conv1 = Conv1D(\n",
    "        filters=num_filters,\n",
    "        kernel_size=kernel_size,\n",
    "        strides=1,\n",
    "        padding=\"valid\",\n",
    "        activation='relu',\n",
    "        use_bias=True,\n",
    "        kernel_initializer=tf.keras.initializers.TruncatedNormal(mean=0.0, stddev=0.1, seed=None),\n",
    "        bias_initializer=tf.keras.initializers.Constant(value=0.1))(embed0)\n",
    "    \n",
    "    pooled = MaxPooling1D(pool_size=T-kernel_size+1, strides=1)(conv1)\n",
    "    \n",
    "    highwayed = highway_layers(pooled, n_layers=1, activation=\"relu\", gate_bias=0)\n",
    "\n",
    "    dropped = Dropout(rate=dropout_rate)(highwayed)\n",
    "    \n",
    "    prob = Dense(1, \n",
    "                 activation='sigmoid',\n",
    "                 name='final',\n",
    "                 kernel_initializer=tf.keras.initializers.TruncatedNormal(mean=0.0, stddev=0.1, seed=None),\n",
    "                 bias_initializer=tf.keras.initializers.Constant(value=0.1))(dropped)\n",
    "\n",
    "    discriminator = Model(\n",
    "        inputs=i_et,\n",
    "        outputs=prob)\n",
    "\n",
    "    return discriminator"
   ]
  },
  {
   "cell_type": "markdown",
   "id": "alpine-jurisdiction",
   "metadata": {},
   "source": [
    "## Test initial G and D"
   ]
  },
  {
   "cell_type": "code",
   "execution_count": null,
   "id": "gross-breed",
   "metadata": {},
   "outputs": [],
   "source": [
    "G = build_G(batch_size=BATCH_SIZE, event_vocab_dim=11, emb_dim=EMB_DIM, hidden_dim=HIDDEN_DIM)"
   ]
  },
  {
   "cell_type": "code",
   "execution_count": null,
   "id": "thorough-immune",
   "metadata": {},
   "outputs": [],
   "source": [
    "seq_batch_1 = tf.cast(tf.random.uniform([BATCH_SIZE, T-1, 1], maxval=10, dtype=tf.int32)+1, tf.float32)\n",
    "# seq_batch_1"
   ]
  },
  {
   "cell_type": "code",
   "execution_count": null,
   "id": "useful-robertson",
   "metadata": {},
   "outputs": [],
   "source": [
    "G(seq_batch_1)"
   ]
  },
  {
   "cell_type": "code",
   "execution_count": null,
   "id": "seasonal-culture",
   "metadata": {},
   "outputs": [],
   "source": [
    "D = build_D(T=20, event_vocab_dim=11, emb_dim=32, num_filters=100, kernel_size=4, dropout_rate=0.25)"
   ]
  },
  {
   "cell_type": "code",
   "execution_count": null,
   "id": "electronic-anchor",
   "metadata": {},
   "outputs": [],
   "source": [
    "D(seq_batch_1)"
   ]
  },
  {
   "cell_type": "markdown",
   "id": "voluntary-apartment",
   "metadata": {},
   "source": [
    "## Pre-Training of original SeqGAn"
   ]
  },
  {
   "cell_type": "code",
   "execution_count": null,
   "id": "dense-intranet",
   "metadata": {},
   "outputs": [],
   "source": [
    "def pretrain_discriminator(event_type_batch, label_batch, discriminator, verbose=False, optimizer=Adam(lr=0.001)):\n",
    "    # train the discriminator\n",
    "    with tf.GradientTape() as tape:\n",
    "        # train discriminator\n",
    "        true_prob = discriminator(event_type_batch)\n",
    "\n",
    "        # cross-entropy loss\n",
    "        discriminator_loss = ce_loss = tf.reduce_mean(\n",
    "            tf.keras.losses.binary_crossentropy(label_batch, true_prob, from_logits=False)\n",
    "        )\n",
    "\n",
    "        if verbose:\n",
    "            print('total discriminator loss:{}'.format(discriminator_loss))\n",
    "\n",
    "    grads = tape.gradient(discriminator_loss, discriminator.trainable_variables)\n",
    "    optimizer.apply_gradients(zip(grads, discriminator.trainable_variables))\n",
    "\n",
    "    return discriminator_loss\n",
    "\n",
    "\n",
    "def pretrain_generator(event_type_batch, generator, verbose=False, optimizer=Adam(lr=0.001)):\n",
    "    _, T, _ = event_type_batch.shape\n",
    "\n",
    "    # train the generator\n",
    "    with tf.GradientTape() as tape:\n",
    "        generator.reset_states()\n",
    "        ce_loss_list = []\n",
    "\n",
    "        for i in range(0, T - 1):\n",
    "            curr_state_et = event_type_batch[:, i:i + 1, :]\n",
    "            target_et = event_type_batch[:, i + 1, :]\n",
    "\n",
    "            token_logits = generator(curr_state_et)\n",
    "\n",
    "            ce_losses = tf.keras.losses.sparse_categorical_crossentropy(target_et, token_logits, from_logits=True)\n",
    "            ce_loss = tf.reduce_mean(ce_losses)\n",
    "            ce_loss_list.append(ce_loss)\n",
    "\n",
    "        generator_loss = tf.reduce_mean(ce_loss_list)\n",
    "\n",
    "    if verbose:\n",
    "        print('train loss:{}'.format(generator_loss))\n",
    "\n",
    "    # apply gradient decent per batch\n",
    "    grads = tape.gradient(generator_loss, generator.trainable_variables)\n",
    "    optimizer.apply_gradients(zip(grads, generator.trainable_variables))\n",
    "\n",
    "    return generator_loss"
   ]
  },
  {
   "cell_type": "markdown",
   "id": "proper-worker",
   "metadata": {},
   "source": [
    "### pre-train G"
   ]
  },
  {
   "cell_type": "code",
   "execution_count": null,
   "id": "attached-allen",
   "metadata": {},
   "outputs": [],
   "source": [
    "N_total_G = pos_event_type_seqs.shape[0]\n",
    "\n",
    "EPOCHS = 1\n",
    "_TOTAL_STEPS = int(EPOCHS * N_total_G / BATCH_SIZE)\n",
    "\n",
    "pretrain_G_dataset = create_dataset(pos_event_type_seqs,\n",
    "                                  np.ones((N_total_G, 1)),\n",
    "                                  batch_size=BATCH_SIZE,\n",
    "                                  epochs=EPOCHS,\n",
    "                                  buffer_size=N_total_G)"
   ]
  },
  {
   "cell_type": "code",
   "execution_count": null,
   "id": "mobile-cartoon",
   "metadata": {},
   "outputs": [],
   "source": [
    "pretrain_gen_ce_loss_history = []\n",
    "pretrain_gen_metrics_history = []\n",
    "\n",
    "pretrained_generator = build_G(\n",
    "    batch_size=BATCH_SIZE,\n",
    "    event_vocab_dim = EVENT_VOCAB_DIM,\n",
    "    emb_dim = EMB_DIM,\n",
    "    hidden_dim= HIDDEN_DIM)"
   ]
  },
  {
   "cell_type": "code",
   "execution_count": null,
   "id": "charitable-woman",
   "metadata": {},
   "outputs": [],
   "source": [
    "step = 0\n",
    "OPTIMIZER = Adam(lr=1e-3)\n",
    "\n",
    "for event_type_batch, _ in tqdm(pretrain_G_dataset.take(_TOTAL_STEPS)):\n",
    "    step += 1\n",
    "    print('Training Step:', step)\n",
    "        \n",
    "    gen_ce_loss =  pretrain_generator(event_type_batch, pretrained_generator, verbose=True, optimizer=OPTIMIZER)                    \n",
    "    pretrain_gen_ce_loss_history.append(gen_ce_loss.numpy())"
   ]
  },
  {
   "cell_type": "code",
   "execution_count": null,
   "id": "driven-patch",
   "metadata": {},
   "outputs": [],
   "source": [
    "model_save_dir = '/home/lun/project-basileus/multitype-sequence-generation-by-tlstm-gan/models/seqgan_original'\n",
    "if not os.path.exists(model_save_dir + '/pretrained_gen_weights'):\n",
    "    os.makedirs(model_save_dir + '/pretrained_gen_weights')\n",
    "\n",
    "G_save_path = model_save_dir + '/pretrained_gen_weights/model.tf'\n",
    "pretrained_generator.save_weights(G_save_path)"
   ]
  },
  {
   "cell_type": "code",
   "execution_count": null,
   "id": "configured-resident",
   "metadata": {},
   "outputs": [],
   "source": [
    "reload_pretrained_gen = build_G(\n",
    "    batch_size = BATCH_SIZE,\n",
    "    event_vocab_dim = EVENT_VOCAB_DIM,\n",
    "    emb_dim = EMB_DIM,\n",
    "    hidden_dim= HIDDEN_DIM,\n",
    ")\n",
    "\n",
    "reload_pretrained_gen.build(input_shape=((BATCH_SIZE, T, 1)))\n",
    "reload_pretrained_gen.load_weights(G_save_path)\n",
    "reload_pretrained_gen.summary()"
   ]
  },
  {
   "cell_type": "code",
   "execution_count": 16,
   "id": "western-borough",
   "metadata": {},
   "outputs": [],
   "source": [
    "def rollout_from_prefix(\n",
    "        G, batch_size, prefix, L=T, end_token=0, init_token=1):\n",
    "    # Begin from dummy init state (init_token=1, init_timestamp=0.0)\n",
    "    all_state_et = prefix\n",
    "    curr_state_et = prefix[:, -1:, :]\n",
    "    l_prefix = prefix.shape[1]\n",
    "    \n",
    "    G.reset_states()\n",
    "\n",
    "    for _ in range(L-l_prefix):  # sequence length\n",
    "        token_logits = G(curr_state_et)\n",
    "        \n",
    "        sampled_et = tf.random.categorical(token_logits, num_samples=1, dtype=tf.int32)\n",
    "        sampled_et = tf.reshape(sampled_et, [batch_size, 1, 1])\n",
    "\n",
    "        # cast sampled_et into float\n",
    "        sampled_et = tf.cast(sampled_et, dtype=tf.float64)\n",
    "\n",
    "        # stop genererating once hit end_token\n",
    "        cond_end_token = tf.equal(curr_state_et, end_token)\n",
    "        curr_state_et = tf.where(cond_end_token, curr_state_et, sampled_et)\n",
    "        all_state_et = tf.concat([all_state_et, curr_state_et], axis=1)\n",
    "\n",
    "    return all_state_et\n",
    "\n",
    "\n",
    "\n",
    "def generate_sequences(N_gen, generator, batch_size, T):\n",
    "    \"\"\"\n",
    "        Generate sequences batch per batch\n",
    "    :param N_gen: total number of seqs to be generated\n",
    "    :param generator:\n",
    "    :param batch_size:\n",
    "    :param T:\n",
    "    :return: a python list of shape [N_gen, T, 1]\n",
    "    \"\"\"\n",
    "    N = 0\n",
    "    all_type_seq = None\n",
    "    init_prefix = tf.ones([batch_size, 1, 1], dtype=tf.float64)\n",
    "    \n",
    "    while N < N_gen:\n",
    "        batch_state_et = rollout_from_prefix(generator, batch_size, init_prefix, T)\n",
    "        batch_type_seq = batch_state_et.numpy()\n",
    "\n",
    "        if all_type_seq is None:\n",
    "            all_type_seq = batch_type_seq\n",
    "        else:\n",
    "            all_type_seq = np.concatenate([all_type_seq, batch_type_seq], axis=0)\n",
    "\n",
    "        N += batch_size\n",
    "\n",
    "    # convert to python list\n",
    "    type_seq_list = all_type_seq[:N_gen].tolist()\n",
    "\n",
    "    return type_seq_list"
   ]
  },
  {
   "cell_type": "markdown",
   "id": "legendary-container",
   "metadata": {},
   "source": [
    "### pre-train D"
   ]
  },
  {
   "cell_type": "code",
   "execution_count": null,
   "id": "shaped-victoria",
   "metadata": {},
   "outputs": [],
   "source": [
    "N_fake_D = N_real_D = N_total_G // 100"
   ]
  },
  {
   "cell_type": "code",
   "execution_count": null,
   "id": "discrete-trauma",
   "metadata": {},
   "outputs": [],
   "source": [
    "# generate fake data by G to pre-train D\n",
    "fake_pos_event_type_seqs = np.array(generate_sequences(N_fake_D, pretrained_generator, BATCH_SIZE, T))"
   ]
  },
  {
   "cell_type": "code",
   "execution_count": null,
   "id": "authorized-catering",
   "metadata": {},
   "outputs": [],
   "source": [
    "# generate fake data by G to pre-train D\n",
    "real_pos_event_type_seqs = pos_event_type_seqs[0:N_real_D, :, :]"
   ]
  },
  {
   "cell_type": "code",
   "execution_count": null,
   "id": "outstanding-burke",
   "metadata": {},
   "outputs": [],
   "source": [
    "N_total_D = N_fake_D + N_real_D\n",
    "\n",
    "pretrain_D_et = np.concatenate([fake_pos_event_type_seqs, real_pos_event_type_seqs], axis=0)\n",
    "pretrain_D_labels = np.concatenate([np.zeros((N_fake_D, 1)), np.ones((N_real_D, 1))], axis=0)\n",
    "\n",
    "EPOCHS = 10\n",
    "_TOTAL_STEPS = int(EPOCHS * N_total_D / BATCH_SIZE)\n",
    "\n",
    "pretrain_D_dataset = create_dataset(pretrain_D_et,\n",
    "                                    pretrain_D_labels,\n",
    "                                    batch_size=BATCH_SIZE,\n",
    "                                    epochs=EPOCHS,\n",
    "                                    buffer_size=N_total_D) # shuffle the entire Dataset"
   ]
  },
  {
   "cell_type": "code",
   "execution_count": null,
   "id": "direct-desire",
   "metadata": {},
   "outputs": [],
   "source": [
    "pretrain_disc_token_loss_history = []\n",
    "\n",
    "pretrained_discriminator = build_D(T=T,\n",
    "                                   event_vocab_dim=EVENT_VOCAB_DIM,\n",
    "                                   emb_dim=EMB_DIM,\n",
    "                                   num_filters=100,\n",
    "                                   kernel_size=4,\n",
    "                                   dropout_rate=0.25)"
   ]
  },
  {
   "cell_type": "code",
   "execution_count": null,
   "id": "external-extent",
   "metadata": {},
   "outputs": [],
   "source": [
    "step = 0\n",
    "OPTIMIZER = SGD(lr=1e-3)\n",
    "for event_type_batch, labels in tqdm(pretrain_D_dataset.take(_TOTAL_STEPS)):\n",
    "    step += 1\n",
    "    print('Training Step:', step)\n",
    "\n",
    "    disc_token_loss = pretrain_discriminator(event_type_batch, labels, pretrained_discriminator, verbose=True, optimizer=OPTIMIZER)\n",
    "    pretrain_disc_token_loss_history.append(disc_token_loss.numpy())"
   ]
  },
  {
   "cell_type": "code",
   "execution_count": null,
   "id": "working-reason",
   "metadata": {},
   "outputs": [],
   "source": [
    "model_save_dir = '/home/lun/project-basileus/multitype-sequence-generation-by-tlstm-gan/models/seqgan_original'\n",
    "if not os.path.exists(model_save_dir + '/pretrained_disc_weights'):\n",
    "    os.makedirs(model_save_dir + '/pretrained_disc_weights')\n",
    "\n",
    "D_save_path = model_save_dir + '/pretrained_disc_weights/model.tf'\n",
    "pretrained_discriminator.save_weights(D_save_path)"
   ]
  },
  {
   "cell_type": "code",
   "execution_count": null,
   "id": "cultural-travel",
   "metadata": {},
   "outputs": [],
   "source": [
    "reload_pretrained_disc = build_D(T=T,\n",
    "                                   event_vocab_dim=EVENT_VOCAB_DIM,\n",
    "                                   emb_dim=EMB_DIM,\n",
    "                                   num_filters=100,\n",
    "                                   kernel_size=4,\n",
    "                                   dropout_rate=0.25)\n",
    "\n",
    "reload_pretrained_disc.build(input_shape=((BATCH_SIZE, T, 1)))\n",
    "reload_pretrained_disc.load_weights(D_save_path)\n",
    "reload_pretrained_disc.summary()"
   ]
  },
  {
   "cell_type": "markdown",
   "id": "north-bacon",
   "metadata": {},
   "source": [
    "## Seq Gan original Traning"
   ]
  },
  {
   "cell_type": "code",
   "execution_count": 17,
   "id": "single-aaron",
   "metadata": {},
   "outputs": [],
   "source": [
    "def train_generator(generator, discriminator, batch_size, T, mc_size=10, verbose=False,                   \n",
    "                    optimizer=Adam(lr=0.001), end_token=0, init_token=1):\n",
    "    \n",
    "    prefix = tf.ones([batch_size, 1, 1], dtype=tf.float64)\n",
    "    curr_state_et = prefix[:, -1:, :]\n",
    "    \n",
    "    with tf.GradientTape(persistent=True) as tape:                        \n",
    "\n",
    "        gen_step_loss = []\n",
    "\n",
    "        for _ in tqdm(range(1, T)):\n",
    "\n",
    "            # MC rollout to the end to get final return\n",
    "            rollout_returns = []\n",
    "            for _ in range(mc_size):\n",
    "                batch_rollout_et = rollout_from_prefix(generator, batch_size, prefix, T)\n",
    "                rollout_returns.append(discriminator(batch_rollout_et))\n",
    "            \n",
    "            Q_avg = tf.reduce_mean(rollout_returns, axis=0)\n",
    "            \n",
    "            # one-step rollout to get next prefix\n",
    "            token_logits = generator(prefix)        \n",
    "            sampled_et = tf.random.categorical(token_logits, num_samples=1, dtype=tf.int32)\n",
    "            sampled_et = tf.reshape(sampled_et, [batch_size, 1, 1])\n",
    "            sampled_et = tf.cast(sampled_et, dtype=tf.float64)\n",
    "\n",
    "            # stop genererating once hit end_token\n",
    "            cond_end_token = tf.equal(curr_state_et, end_token)\n",
    "            curr_state_et = tf.where(cond_end_token, curr_state_et, sampled_et)\n",
    "            prefix = tf.concat([prefix, curr_state_et], axis=1)\n",
    "            \n",
    "            # averge loss over batch at each rollout step: -E[log_prob * Q]\n",
    "            policy_gradient_loss = -tf.reduce_mean(tf.math.log(tf.nn.softmax(token_logits)) * Q_avg)\n",
    "            gen_step_loss.append(policy_gradient_loss)\n",
    "        \n",
    "        avg_gen_loss = tf.reduce_mean(gen_step_loss)\n",
    "        \n",
    "        if verbose:\n",
    "            print('generator loss:{}'.format(avg_gen_loss))\n",
    "            print('-----------------------')\n",
    "\n",
    "    # update generator\n",
    "    generator_grads = tape.gradient(avg_gen_loss, generator.trainable_variables)\n",
    "    optimizer.apply_gradients(zip(generator_grads, generator.trainable_variables))\n",
    "\n",
    "    # explicitly drop tape because persistent=True\n",
    "    del tape\n",
    "\n",
    "    return avg_gen_loss\n",
    "\n",
    "\n",
    "def train_discriminator(real_data_batch, generator, discriminator, batch_size, T, verbose=False,\n",
    "                        optimizer=Adam(lr=0.001)):\n",
    "\n",
    "    # data prep\n",
    "    real_labels = tf.ones((batch_size, 1))        \n",
    "\n",
    "    fake_labels = tf.zeros((batch_size, 1))    \n",
    "    fake_data_batch = np.array(generate_sequences(1, generator, batch_size, T))\n",
    "    \n",
    "    total_data = tf.concat([fake_data_batch, real_data_batch], axis=0)\n",
    "    total_labels = tf.concat([fake_labels, real_labels], axis=0)\n",
    "\n",
    "\n",
    "    # train the discriminator\n",
    "    with tf.GradientTape() as tape:                                                           \n",
    "        # train discriminator\n",
    "        pred_prob = discriminator(total_data)\n",
    "\n",
    "        # cross-entropy loss\n",
    "        discriminator_loss = tf.reduce_mean(\n",
    "            tf.keras.losses.binary_crossentropy(total_labels, pred_prob, from_logits=False))        \n",
    "\n",
    "        if verbose:\n",
    "            print('total discriminator loss:{}'.format(discriminator_loss))\n",
    "            print('-----------------------')\n",
    "\n",
    "    grads = tape.gradient(discriminator_loss, discriminator.trainable_variables)\n",
    "    optimizer.apply_gradients(zip(grads, discriminator.trainable_variables))\n",
    "\n",
    "    return discriminator_loss"
   ]
  },
  {
   "cell_type": "markdown",
   "id": "available-latest",
   "metadata": {},
   "source": [
    "## Start training from pretrained G and D"
   ]
  },
  {
   "cell_type": "code",
   "execution_count": 18,
   "id": "immediate-perry",
   "metadata": {},
   "outputs": [
    {
     "name": "stdout",
     "output_type": "stream",
     "text": [
      "Model: \"model_2\"\n",
      "_________________________________________________________________\n",
      "Layer (type)                 Output Shape              Param #   \n",
      "=================================================================\n",
      "event_type (InputLayer)      [(16, None, 1)]           0         \n",
      "_________________________________________________________________\n",
      "masking_2 (Masking)          (16, None, 1)             0         \n",
      "_________________________________________________________________\n",
      "embedding_2 (Embedding)      (16, None, 1, 8)          48        \n",
      "_________________________________________________________________\n",
      "tf_op_layer_Squeeze_2 (Tenso [(16, None, 8)]           0         \n",
      "_________________________________________________________________\n",
      "lstm (LSTM)                  (16, 32)                  5248      \n",
      "_________________________________________________________________\n",
      "dense_1 (Dense)              (16, 6)                   198       \n",
      "=================================================================\n",
      "Total params: 5,494\n",
      "Trainable params: 5,494\n",
      "Non-trainable params: 0\n",
      "_________________________________________________________________\n",
      "Model: \"model_3\"\n",
      "__________________________________________________________________________________________________\n",
      "Layer (type)                    Output Shape         Param #     Connected to                     \n",
      "==================================================================================================\n",
      "event_type (InputLayer)         [(None, 21, 1)]      0                                            \n",
      "__________________________________________________________________________________________________\n",
      "masking_3 (Masking)             (None, 21, 1)        0           event_type[0][0]                 \n",
      "__________________________________________________________________________________________________\n",
      "embedding_3 (Embedding)         (None, 21, 1, 8)     48          masking_3[0][0]                  \n",
      "__________________________________________________________________________________________________\n",
      "tf_op_layer_Squeeze_3 (TensorFl [(None, 21, 8)]      0           embedding_3[0][0]                \n",
      "__________________________________________________________________________________________________\n",
      "conv1d_1 (Conv1D)               (None, 18, 100)      3300        tf_op_layer_Squeeze_3[0][0]      \n",
      "__________________________________________________________________________________________________\n",
      "max_pooling1d_1 (MaxPooling1D)  (None, 1, 100)       0           conv1d_1[0][0]                   \n",
      "__________________________________________________________________________________________________\n",
      "dense_2 (Dense)                 (None, 1, 100)       10100       max_pooling1d_1[0][0]            \n",
      "__________________________________________________________________________________________________\n",
      "dense_3 (Dense)                 (None, 1, 100)       10100       max_pooling1d_1[0][0]            \n",
      "__________________________________________________________________________________________________\n",
      "lambda_1 (Lambda)               (None, 1, 100)       0           dense_2[0][0]                    \n",
      "__________________________________________________________________________________________________\n",
      "multiply_2 (Multiply)           (None, 1, 100)       0           dense_2[0][0]                    \n",
      "                                                                 dense_3[0][0]                    \n",
      "__________________________________________________________________________________________________\n",
      "multiply_3 (Multiply)           (None, 1, 100)       0           lambda_1[0][0]                   \n",
      "                                                                 max_pooling1d_1[0][0]            \n",
      "__________________________________________________________________________________________________\n",
      "add_1 (Add)                     (None, 1, 100)       0           multiply_2[0][0]                 \n",
      "                                                                 multiply_3[0][0]                 \n",
      "__________________________________________________________________________________________________\n",
      "dropout_1 (Dropout)             (None, 1, 100)       0           add_1[0][0]                      \n",
      "__________________________________________________________________________________________________\n",
      "final (Dense)                   (None, 1, 1)         101         dropout_1[0][0]                  \n",
      "==================================================================================================\n",
      "Total params: 23,649\n",
      "Trainable params: 23,649\n",
      "Non-trainable params: 0\n",
      "__________________________________________________________________________________________________\n"
     ]
    }
   ],
   "source": [
    "model_save_dir = '/home/lun/project-basileus/multitype-sequence-generation-by-tlstm-gan/models/seqgan_original'\n",
    "G_save_path = model_save_dir + '/pretrained_gen_weights/model.tf'\n",
    "D_save_path = model_save_dir + '/pretrained_disc_weights/model.tf'\n",
    "\n",
    "G = build_G(\n",
    "    batch_size = BATCH_SIZE,\n",
    "    event_vocab_dim = EVENT_VOCAB_DIM,\n",
    "    emb_dim = EMB_DIM,\n",
    "    hidden_dim= HIDDEN_DIM,\n",
    ")\n",
    "\n",
    "G.build(input_shape=((BATCH_SIZE, T, 1)))\n",
    "# G.load_weights(G_save_path)\n",
    "G.summary()\n",
    "\n",
    "D = build_D(T=T,\n",
    "            event_vocab_dim=EVENT_VOCAB_DIM,\n",
    "            emb_dim=EMB_DIM,\n",
    "            num_filters=100,\n",
    "            kernel_size=4,\n",
    "            dropout_rate=0.25)\n",
    "\n",
    "D.build(input_shape=((BATCH_SIZE, T, 1)))\n",
    "# D.load_weights(D_save_path)\n",
    "D.summary()"
   ]
  },
  {
   "cell_type": "code",
   "execution_count": 19,
   "id": "twelve-transcript",
   "metadata": {},
   "outputs": [],
   "source": [
    "N_total_G = pos_event_type_seqs.shape[0] // 20\n",
    "\n",
    "EPOCHS = 3\n",
    "_TOTAL_STEPS = int(EPOCHS * N_total_G / BATCH_SIZE)\n",
    "\n",
    "train_dataset = create_dataset(pos_event_type_seqs[:N_total_G,:,:],\n",
    "                             np.ones((N_total_G, 1)),\n",
    "                             batch_size=BATCH_SIZE,\n",
    "                             epochs=EPOCHS,\n",
    "                             buffer_size=N_total_G)\n",
    "\n",
    "gen_loss_history = []\n",
    "disc_loss_history = []\n",
    "\n",
    "step = 0\n",
    "\n",
    "G_optimizer = SGD(learning_rate=1e-3)\n",
    "D_optimizer = SGD(learning_rate=1e-3)\n",
    "\n",
    "_G_STEPS = 1\n",
    "_D_STEPS = 1"
   ]
  },
  {
   "cell_type": "code",
   "execution_count": 20,
   "id": "tribal-parking",
   "metadata": {},
   "outputs": [
    {
     "name": "stderr",
     "output_type": "stream",
     "text": [
      "0it [00:00, ?it/s]\n",
      "  0%|          | 0/20 [00:00<?, ?it/s]\u001b[A"
     ]
    },
    {
     "name": "stdout",
     "output_type": "stream",
     "text": [
      "Training Step: 1\n"
     ]
    },
    {
     "name": "stderr",
     "output_type": "stream",
     "text": [
      "\n",
      "  5%|▌         | 1/20 [00:10<03:20, 10.56s/it]\u001b[A\n",
      " 10%|█         | 2/20 [00:20<03:04, 10.25s/it]\u001b[A\n",
      " 15%|█▌        | 3/20 [00:30<02:49,  9.98s/it]\u001b[A\n",
      " 20%|██        | 4/20 [00:39<02:33,  9.61s/it]\u001b[A\n",
      " 25%|██▌       | 5/20 [00:47<02:16,  9.11s/it]\u001b[A\n",
      " 30%|███       | 6/20 [00:55<02:03,  8.82s/it]\u001b[A\n",
      " 35%|███▌      | 7/20 [01:03<01:50,  8.52s/it]\u001b[A\n",
      " 40%|████      | 8/20 [01:10<01:36,  8.03s/it]\u001b[A\n",
      " 45%|████▌     | 9/20 [01:16<01:22,  7.50s/it]\u001b[A\n",
      " 50%|█████     | 10/20 [01:23<01:12,  7.21s/it]\u001b[A\n",
      " 55%|█████▌    | 11/20 [01:28<00:59,  6.65s/it]\u001b[A\n",
      " 60%|██████    | 12/20 [01:33<00:48,  6.11s/it]\u001b[A\n",
      " 65%|██████▌   | 13/20 [01:38<00:39,  5.62s/it]\u001b[A\n",
      " 70%|███████   | 14/20 [01:43<00:32,  5.38s/it]\u001b[A\n",
      " 75%|███████▌  | 15/20 [01:46<00:24,  4.82s/it]\u001b[A\n",
      " 80%|████████  | 16/20 [01:49<00:17,  4.29s/it]\u001b[A\n",
      " 85%|████████▌ | 17/20 [01:52<00:11,  3.77s/it]\u001b[A\n",
      " 90%|█████████ | 18/20 [01:54<00:06,  3.28s/it]\u001b[A\n",
      " 95%|█████████▌| 19/20 [01:56<00:02,  2.79s/it]\u001b[A\n",
      "100%|██████████| 20/20 [01:57<00:00,  5.86s/it]\u001b[A\n"
     ]
    },
    {
     "name": "stdout",
     "output_type": "stream",
     "text": [
      "generator loss:0.8984120299817666\n",
      "-----------------------\n"
     ]
    },
    {
     "name": "stderr",
     "output_type": "stream",
     "text": [
      "1it [02:07, 127.18s/it]\n",
      "  0%|          | 0/20 [00:00<?, ?it/s]\u001b[A"
     ]
    },
    {
     "name": "stdout",
     "output_type": "stream",
     "text": [
      "total discriminator loss:0.6931607826259902\n",
      "-----------------------\n",
      "Training Step: 2\n"
     ]
    },
    {
     "name": "stderr",
     "output_type": "stream",
     "text": [
      "\n",
      "  5%|▌         | 1/20 [00:09<03:09,  9.96s/it]\u001b[A\n",
      " 10%|█         | 2/20 [00:19<02:57,  9.84s/it]\u001b[A\n",
      " 15%|█▌        | 3/20 [00:28<02:40,  9.46s/it]\u001b[A\n",
      " 20%|██        | 4/20 [00:37<02:26,  9.17s/it]\u001b[A\n",
      " 25%|██▌       | 5/20 [00:45<02:12,  8.86s/it]\u001b[A\n",
      " 30%|███       | 6/20 [00:53<01:58,  8.49s/it]\u001b[A\n",
      " 35%|███▌      | 7/20 [01:00<01:43,  7.95s/it]\u001b[A\n",
      " 40%|████      | 8/20 [01:07<01:32,  7.68s/it]\u001b[A\n",
      " 45%|████▌     | 9/20 [01:13<01:18,  7.11s/it]\u001b[A\n",
      " 50%|█████     | 10/20 [01:19<01:06,  6.67s/it]\u001b[A\n",
      " 55%|█████▌    | 11/20 [01:24<00:57,  6.42s/it]\u001b[A\n",
      " 60%|██████    | 12/20 [01:29<00:47,  5.88s/it]\u001b[A\n",
      " 65%|██████▌   | 13/20 [01:33<00:37,  5.35s/it]\u001b[A\n",
      " 70%|███████   | 14/20 [01:37<00:29,  4.88s/it]\u001b[A\n",
      " 75%|███████▌  | 15/20 [01:40<00:21,  4.39s/it]\u001b[A\n",
      " 80%|████████  | 16/20 [01:44<00:16,  4.20s/it]\u001b[A\n",
      " 85%|████████▌ | 17/20 [01:46<00:11,  3.67s/it]\u001b[A\n",
      " 90%|█████████ | 18/20 [01:48<00:06,  3.16s/it]\u001b[A\n",
      " 95%|█████████▌| 19/20 [01:50<00:02,  2.67s/it]\u001b[A\n",
      "100%|██████████| 20/20 [01:51<00:00,  5.57s/it]\u001b[A\n"
     ]
    },
    {
     "name": "stdout",
     "output_type": "stream",
     "text": [
      "generator loss:0.9123065806225459\n",
      "-----------------------\n"
     ]
    },
    {
     "name": "stderr",
     "output_type": "stream",
     "text": [
      "2it [04:08, 123.53s/it]\n",
      "  0%|          | 0/20 [00:00<?, ?it/s]\u001b[A"
     ]
    },
    {
     "name": "stdout",
     "output_type": "stream",
     "text": [
      "total discriminator loss:0.6932544798174098\n",
      "-----------------------\n",
      "Training Step: 3\n"
     ]
    },
    {
     "name": "stderr",
     "output_type": "stream",
     "text": [
      "\n",
      "  5%|▌         | 1/20 [00:09<03:03,  9.64s/it]\u001b[A\n",
      " 10%|█         | 2/20 [00:18<02:49,  9.40s/it]\u001b[A\n",
      " 15%|█▌        | 3/20 [00:27<02:34,  9.11s/it]\u001b[A\n",
      " 20%|██        | 4/20 [00:36<02:22,  8.89s/it]\u001b[A\n",
      " 25%|██▌       | 5/20 [00:44<02:08,  8.59s/it]\u001b[A\n",
      " 30%|███       | 6/20 [00:51<01:55,  8.27s/it]\u001b[A\n",
      " 35%|███▌      | 7/20 [00:58<01:40,  7.76s/it]\u001b[A\n",
      " 40%|████      | 8/20 [01:05<01:30,  7.50s/it]\u001b[A\n",
      " 45%|████▌     | 9/20 [01:11<01:16,  7.00s/it]\u001b[A\n",
      " 50%|█████     | 10/20 [01:17<01:08,  6.81s/it]\u001b[A\n",
      " 55%|█████▌    | 11/20 [01:23<00:56,  6.31s/it]\u001b[A\n",
      " 60%|██████    | 12/20 [01:27<00:46,  5.79s/it]\u001b[A\n",
      " 65%|██████▌   | 13/20 [01:31<00:37,  5.30s/it]\u001b[A\n",
      " 70%|███████   | 14/20 [01:35<00:28,  4.83s/it]\u001b[A\n",
      " 75%|███████▌  | 15/20 [01:39<00:23,  4.63s/it]\u001b[A\n",
      " 80%|████████  | 16/20 [01:42<00:16,  4.10s/it]\u001b[A\n",
      " 85%|████████▌ | 17/20 [01:44<00:10,  3.59s/it]\u001b[A\n",
      " 90%|█████████ | 18/20 [01:46<00:06,  3.10s/it]\u001b[A\n",
      " 95%|█████████▌| 19/20 [01:48<00:02,  2.62s/it]\u001b[A\n",
      "100%|██████████| 20/20 [01:49<00:00,  5.48s/it]\u001b[A\n"
     ]
    },
    {
     "name": "stdout",
     "output_type": "stream",
     "text": [
      "generator loss:0.895577280695159\n",
      "-----------------------\n"
     ]
    },
    {
     "name": "stderr",
     "output_type": "stream",
     "text": [
      "3it [06:07, 121.44s/it]\n",
      "  0%|          | 0/20 [00:00<?, ?it/s]\u001b[A"
     ]
    },
    {
     "name": "stdout",
     "output_type": "stream",
     "text": [
      "total discriminator loss:0.6931763983990782\n",
      "-----------------------\n",
      "Training Step: 4\n"
     ]
    },
    {
     "name": "stderr",
     "output_type": "stream",
     "text": [
      "\n",
      "  5%|▌         | 1/20 [00:09<03:02,  9.59s/it]\u001b[A\n",
      " 10%|█         | 2/20 [00:19<02:50,  9.49s/it]\u001b[A\n",
      " 15%|█▌        | 3/20 [00:28<02:37,  9.29s/it]\u001b[A\n",
      " 20%|██        | 4/20 [00:36<02:23,  8.97s/it]\u001b[A\n",
      " 25%|██▌       | 5/20 [00:44<02:07,  8.52s/it]\u001b[A\n",
      " 30%|███       | 6/20 [00:51<01:55,  8.22s/it]\u001b[A\n",
      " 35%|███▌      | 7/20 [00:59<01:43,  7.94s/it]\u001b[A\n",
      " 40%|████      | 8/20 [01:05<01:29,  7.47s/it]\u001b[A\n",
      " 45%|████▌     | 9/20 [01:11<01:16,  6.98s/it]\u001b[A\n",
      " 50%|█████     | 10/20 [01:17<01:07,  6.77s/it]\u001b[A\n",
      " 55%|█████▌    | 11/20 [01:23<00:56,  6.26s/it]\u001b[A\n",
      " 60%|██████    | 12/20 [01:27<00:46,  5.76s/it]\u001b[A\n",
      " 65%|██████▌   | 13/20 [01:31<00:36,  5.25s/it]\u001b[A\n",
      " 70%|███████   | 14/20 [01:36<00:30,  5.04s/it]\u001b[A\n",
      " 75%|███████▌  | 15/20 [01:39<00:22,  4.50s/it]\u001b[A\n",
      " 80%|████████  | 16/20 [01:42<00:16,  4.00s/it]\u001b[A\n",
      " 85%|████████▌ | 17/20 [01:44<00:10,  3.52s/it]\u001b[A\n",
      " 90%|█████████ | 18/20 [01:46<00:06,  3.06s/it]\u001b[A\n",
      " 95%|█████████▌| 19/20 [01:48<00:02,  2.60s/it]\u001b[A\n",
      "100%|██████████| 20/20 [01:49<00:00,  5.47s/it]\u001b[A\n"
     ]
    },
    {
     "name": "stdout",
     "output_type": "stream",
     "text": [
      "generator loss:0.9122379255150193\n",
      "-----------------------\n"
     ]
    },
    {
     "name": "stderr",
     "output_type": "stream",
     "text": [
      "4it [08:05, 120.39s/it]\n",
      "  0%|          | 0/20 [00:00<?, ?it/s]\u001b[A"
     ]
    },
    {
     "name": "stdout",
     "output_type": "stream",
     "text": [
      "total discriminator loss:0.6932518368053703\n",
      "-----------------------\n",
      "Training Step: 5\n"
     ]
    },
    {
     "name": "stderr",
     "output_type": "stream",
     "text": [
      "\n",
      "  5%|▌         | 1/20 [00:09<03:03,  9.68s/it]\u001b[A\n",
      " 10%|█         | 2/20 [00:19<02:50,  9.47s/it]\u001b[A\n",
      " 15%|█▌        | 3/20 [00:27<02:33,  9.05s/it]\u001b[A\n",
      " 20%|██        | 4/20 [00:35<02:20,  8.81s/it]\u001b[A\n",
      " 25%|██▌       | 5/20 [00:43<02:07,  8.50s/it]\u001b[A\n",
      " 30%|███       | 6/20 [00:51<01:54,  8.20s/it]\u001b[A\n",
      " 35%|███▌      | 7/20 [00:58<01:40,  7.71s/it]\u001b[A\n",
      " 40%|████      | 8/20 [01:05<01:29,  7.47s/it]\u001b[A\n",
      " 45%|████▌     | 9/20 [01:11<01:16,  6.97s/it]\u001b[A\n",
      " 50%|█████     | 10/20 [01:16<01:05,  6.53s/it]\u001b[A\n",
      " 55%|█████▌    | 11/20 [01:22<00:56,  6.28s/it]\u001b[A\n",
      " 60%|██████    | 12/20 [01:26<00:45,  5.75s/it]\u001b[A\n",
      " 65%|██████▌   | 13/20 [01:30<00:36,  5.23s/it]\u001b[A\n",
      " 70%|███████   | 14/20 [01:34<00:28,  4.75s/it]\u001b[A\n",
      " 75%|███████▌  | 15/20 [01:37<00:21,  4.29s/it]\u001b[A\n",
      " 80%|████████  | 16/20 [01:41<00:16,  4.09s/it]\u001b[A\n",
      " 85%|████████▌ | 17/20 [01:43<00:10,  3.56s/it]\u001b[A\n",
      " 90%|█████████ | 18/20 [01:45<00:06,  3.06s/it]\u001b[A\n",
      " 95%|█████████▌| 19/20 [01:47<00:02,  2.58s/it]\u001b[A\n",
      "100%|██████████| 20/20 [01:48<00:00,  5.41s/it]\u001b[A\n"
     ]
    },
    {
     "name": "stdout",
     "output_type": "stream",
     "text": [
      "generator loss:0.8934243405384443\n",
      "-----------------------\n"
     ]
    },
    {
     "name": "stderr",
     "output_type": "stream",
     "text": [
      "5it [10:03, 119.31s/it]\n",
      "  0%|          | 0/20 [00:00<?, ?it/s]\u001b[A"
     ]
    },
    {
     "name": "stdout",
     "output_type": "stream",
     "text": [
      "total discriminator loss:0.6931744415469064\n",
      "-----------------------\n",
      "Training Step: 6\n"
     ]
    },
    {
     "name": "stderr",
     "output_type": "stream",
     "text": [
      "\n",
      "  5%|▌         | 1/20 [00:09<02:58,  9.41s/it]\u001b[A\n",
      " 10%|█         | 2/20 [00:18<02:45,  9.21s/it]\u001b[A\n",
      " 15%|█▌        | 3/20 [00:27<02:33,  9.01s/it]\u001b[A\n",
      " 20%|██        | 4/20 [00:35<02:18,  8.68s/it]\u001b[A\n",
      " 25%|██▌       | 5/20 [00:42<02:02,  8.16s/it]\u001b[A\n",
      " 30%|███       | 6/20 [00:49<01:49,  7.85s/it]\u001b[A\n",
      " 35%|███▌      | 7/20 [00:56<01:35,  7.36s/it]\u001b[A\n",
      " 40%|████      | 8/20 [01:02<01:25,  7.12s/it]\u001b[A\n",
      " 45%|████▌     | 9/20 [01:08<01:12,  6.62s/it]\u001b[A\n",
      " 50%|█████     | 10/20 [01:14<01:03,  6.38s/it]\u001b[A\n",
      " 55%|█████▌    | 11/20 [01:19<00:53,  5.89s/it]\u001b[A\n",
      " 60%|██████    | 12/20 [01:23<00:43,  5.42s/it]\u001b[A\n",
      " 65%|██████▌   | 13/20 [01:27<00:34,  4.97s/it]\u001b[A\n",
      " 70%|███████   | 14/20 [01:31<00:28,  4.77s/it]\u001b[A\n",
      " 75%|███████▌  | 15/20 [01:34<00:21,  4.26s/it]\u001b[A\n",
      " 80%|████████  | 16/20 [01:37<00:15,  3.78s/it]\u001b[A\n",
      " 85%|████████▌ | 17/20 [01:39<00:09,  3.32s/it]\u001b[A\n",
      " 90%|█████████ | 18/20 [01:41<00:05,  2.87s/it]\u001b[A\n",
      " 95%|█████████▌| 19/20 [01:42<00:02,  2.43s/it]\u001b[A\n",
      "100%|██████████| 20/20 [01:43<00:00,  5.19s/it]\u001b[A\n"
     ]
    },
    {
     "name": "stdout",
     "output_type": "stream",
     "text": [
      "generator loss:0.9108002298668285\n",
      "-----------------------\n"
     ]
    },
    {
     "name": "stderr",
     "output_type": "stream",
     "text": [
      "6it [11:56, 117.20s/it]\n",
      "  0%|          | 0/20 [00:00<?, ?it/s]\u001b[A"
     ]
    },
    {
     "name": "stdout",
     "output_type": "stream",
     "text": [
      "total discriminator loss:0.6932304570209078\n",
      "-----------------------\n",
      "Training Step: 7\n"
     ]
    },
    {
     "name": "stderr",
     "output_type": "stream",
     "text": [
      "\n",
      "  5%|▌         | 1/20 [00:09<02:53,  9.12s/it]\u001b[A\n",
      " 10%|█         | 2/20 [00:17<02:40,  8.91s/it]\u001b[A\n",
      " 15%|█▌        | 3/20 [00:26<02:28,  8.73s/it]\u001b[A\n",
      " 20%|██        | 4/20 [00:34<02:15,  8.44s/it]\u001b[A\n",
      " 25%|██▌       | 5/20 [00:42<02:02,  8.17s/it]\u001b[A\n",
      " 30%|███       | 6/20 [00:48<01:47,  7.68s/it]\u001b[A\n",
      " 35%|███▌      | 7/20 [00:55<01:36,  7.41s/it]\u001b[A\n",
      " 40%|████      | 8/20 [01:01<01:23,  7.00s/it]\u001b[A\n",
      " 45%|████▌     | 9/20 [01:08<01:14,  6.76s/it]\u001b[A\n",
      " 50%|█████     | 10/20 [01:13<01:02,  6.30s/it]\u001b[A\n",
      " 55%|█████▌    | 11/20 [01:18<00:52,  5.85s/it]\u001b[A\n",
      " 60%|██████    | 12/20 [01:22<00:43,  5.40s/it]\u001b[A\n",
      " 65%|██████▌   | 13/20 [01:27<00:36,  5.17s/it]\u001b[A\n",
      " 70%|███████   | 14/20 [01:30<00:27,  4.66s/it]\u001b[A\n",
      " 75%|███████▌  | 15/20 [01:33<00:20,  4.19s/it]\u001b[A\n",
      " 80%|████████  | 16/20 [01:36<00:14,  3.73s/it]\u001b[A\n",
      " 85%|████████▌ | 17/20 [01:38<00:09,  3.29s/it]\u001b[A\n",
      " 90%|█████████ | 18/20 [01:40<00:05,  2.86s/it]\u001b[A\n",
      " 95%|█████████▌| 19/20 [01:41<00:02,  2.42s/it]\u001b[A\n",
      "100%|██████████| 20/20 [01:42<00:00,  5.14s/it]\u001b[A\n"
     ]
    },
    {
     "name": "stdout",
     "output_type": "stream",
     "text": [
      "generator loss:0.8930324044836955\n",
      "-----------------------\n"
     ]
    },
    {
     "name": "stderr",
     "output_type": "stream",
     "text": [
      "7it [13:48, 115.50s/it]\n",
      "  0%|          | 0/20 [00:00<?, ?it/s]\u001b[A"
     ]
    },
    {
     "name": "stdout",
     "output_type": "stream",
     "text": [
      "total discriminator loss:0.6931889322134467\n",
      "-----------------------\n",
      "Training Step: 8\n"
     ]
    },
    {
     "name": "stderr",
     "output_type": "stream",
     "text": [
      "\n",
      "  5%|▌         | 1/20 [00:09<02:58,  9.37s/it]\u001b[A\n",
      " 10%|█         | 2/20 [00:18<02:44,  9.11s/it]\u001b[A\n",
      " 15%|█▌        | 3/20 [00:26<02:31,  8.90s/it]\u001b[A\n",
      " 20%|██        | 4/20 [00:35<02:18,  8.63s/it]\u001b[A\n",
      " 25%|██▌       | 5/20 [00:42<02:02,  8.16s/it]\u001b[A\n",
      " 30%|███       | 6/20 [00:49<01:50,  7.86s/it]\u001b[A\n",
      " 35%|███▌      | 7/20 [00:56<01:38,  7.57s/it]\u001b[A\n",
      " 40%|████      | 8/20 [01:02<01:25,  7.10s/it]\u001b[A\n",
      " 45%|████▌     | 9/20 [01:08<01:12,  6.61s/it]\u001b[A\n",
      " 50%|█████     | 10/20 [01:14<01:04,  6.41s/it]\u001b[A\n",
      " 55%|█████▌    | 11/20 [01:19<00:53,  5.94s/it]\u001b[A\n",
      " 60%|██████    | 12/20 [01:23<00:43,  5.45s/it]\u001b[A\n",
      " 65%|██████▌   | 13/20 [01:27<00:34,  4.97s/it]\u001b[A\n",
      " 70%|███████   | 14/20 [01:31<00:28,  4.77s/it]\u001b[A\n",
      " 75%|███████▌  | 15/20 [01:34<00:21,  4.26s/it]\u001b[A\n",
      " 80%|████████  | 16/20 [01:37<00:15,  3.79s/it]\u001b[A\n",
      " 85%|████████▌ | 17/20 [01:39<00:10,  3.33s/it]\u001b[A\n",
      " 90%|█████████ | 18/20 [01:41<00:05,  2.88s/it]\u001b[A\n",
      " 95%|█████████▌| 19/20 [01:43<00:02,  2.45s/it]\u001b[A\n",
      "100%|██████████| 20/20 [01:44<00:00,  5.20s/it]\u001b[A\n"
     ]
    },
    {
     "name": "stdout",
     "output_type": "stream",
     "text": [
      "generator loss:0.9104671588776199\n",
      "-----------------------\n"
     ]
    },
    {
     "name": "stderr",
     "output_type": "stream",
     "text": [
      "8it [15:41, 114.82s/it]\n",
      "  0%|          | 0/20 [00:00<?, ?it/s]\u001b[A"
     ]
    },
    {
     "name": "stdout",
     "output_type": "stream",
     "text": [
      "total discriminator loss:0.6932164587476954\n",
      "-----------------------\n",
      "Training Step: 9\n"
     ]
    },
    {
     "name": "stderr",
     "output_type": "stream",
     "text": [
      "\n",
      "  5%|▌         | 1/20 [00:09<02:57,  9.32s/it]\u001b[A\n",
      " 10%|█         | 2/20 [00:18<02:44,  9.12s/it]\u001b[A\n",
      " 15%|█▌        | 3/20 [00:26<02:29,  8.81s/it]\u001b[A\n",
      " 20%|██        | 4/20 [00:34<02:16,  8.54s/it]\u001b[A\n",
      " 25%|██▌       | 5/20 [00:42<02:03,  8.23s/it]\u001b[A\n",
      " 30%|███       | 6/20 [00:49<01:50,  7.90s/it]\u001b[A\n",
      " 35%|███▌      | 7/20 [00:56<01:36,  7.42s/it]\u001b[A\n",
      " 40%|████      | 8/20 [01:02<01:26,  7.19s/it]\u001b[A\n",
      " 45%|████▌     | 9/20 [01:08<01:13,  6.70s/it]\u001b[A\n",
      " 50%|█████     | 10/20 [01:13<01:03,  6.31s/it]\u001b[A\n",
      " 55%|█████▌    | 11/20 [01:19<00:54,  6.10s/it]\u001b[A\n",
      " 60%|██████    | 12/20 [01:23<00:44,  5.56s/it]\u001b[A\n",
      " 65%|██████▌   | 13/20 [01:27<00:35,  5.08s/it]\u001b[A\n",
      " 70%|███████   | 14/20 [01:31<00:27,  4.63s/it]\u001b[A\n",
      " 75%|███████▌  | 15/20 [01:34<00:20,  4.18s/it]\u001b[A\n",
      " 80%|████████  | 16/20 [01:38<00:15,  3.99s/it]\u001b[A\n",
      " 85%|████████▌ | 17/20 [01:40<00:10,  3.48s/it]\u001b[A\n",
      " 90%|█████████ | 18/20 [01:42<00:05,  2.99s/it]\u001b[A\n",
      " 95%|█████████▌| 19/20 [01:43<00:02,  2.52s/it]\u001b[A\n",
      "100%|██████████| 20/20 [01:44<00:00,  5.24s/it]\u001b[A\n"
     ]
    },
    {
     "name": "stdout",
     "output_type": "stream",
     "text": [
      "generator loss:0.8928795845091283\n",
      "-----------------------\n"
     ]
    },
    {
     "name": "stderr",
     "output_type": "stream",
     "text": [
      "9it [17:35, 114.59s/it]\n",
      "  0%|          | 0/20 [00:00<?, ?it/s]\u001b[A"
     ]
    },
    {
     "name": "stdout",
     "output_type": "stream",
     "text": [
      "total discriminator loss:0.6931917157213592\n",
      "-----------------------\n",
      "Training Step: 10\n"
     ]
    },
    {
     "name": "stderr",
     "output_type": "stream",
     "text": [
      "\n",
      "  5%|▌         | 1/20 [00:09<02:52,  9.08s/it]\u001b[A\n",
      " 10%|█         | 2/20 [00:18<02:42,  9.05s/it]\u001b[A\n",
      " 15%|█▌        | 3/20 [00:26<02:29,  8.79s/it]\u001b[A\n",
      " 20%|██        | 4/20 [00:35<02:18,  8.66s/it]\u001b[A\n",
      " 25%|██▌       | 5/20 [00:42<02:02,  8.18s/it]\u001b[A\n",
      " 30%|███       | 6/20 [00:49<01:49,  7.85s/it]\u001b[A\n",
      " 35%|███▌      | 7/20 [00:55<01:35,  7.38s/it]\u001b[A\n",
      " 40%|████      | 8/20 [01:02<01:25,  7.12s/it]\u001b[A\n",
      " 45%|████▌     | 9/20 [01:08<01:12,  6.61s/it]\u001b[A\n",
      " 50%|█████     | 10/20 [01:14<01:04,  6.41s/it]\u001b[A\n",
      " 55%|█████▌    | 11/20 [01:18<00:53,  5.93s/it]\u001b[A\n",
      " 60%|██████    | 12/20 [01:23<00:43,  5.46s/it]\u001b[A\n",
      " 65%|██████▌   | 13/20 [01:27<00:35,  5.01s/it]\u001b[A\n",
      " 70%|███████   | 14/20 [01:31<00:28,  4.80s/it]\u001b[A\n",
      " 75%|███████▌  | 15/20 [01:34<00:21,  4.28s/it]\u001b[A\n",
      " 80%|████████  | 16/20 [01:37<00:15,  3.81s/it]\u001b[A\n",
      " 85%|████████▌ | 17/20 [01:39<00:10,  3.35s/it]\u001b[A\n",
      " 90%|█████████ | 18/20 [01:41<00:05,  2.91s/it]\u001b[A\n",
      " 95%|█████████▌| 19/20 [01:42<00:02,  2.47s/it]\u001b[A\n",
      "100%|██████████| 20/20 [01:43<00:00,  5.20s/it]\u001b[A\n"
     ]
    },
    {
     "name": "stdout",
     "output_type": "stream",
     "text": [
      "generator loss:0.9097283839809449\n",
      "-----------------------\n"
     ]
    },
    {
     "name": "stderr",
     "output_type": "stream",
     "text": [
      "10it [19:29, 114.16s/it]\n",
      "  0%|          | 0/20 [00:00<?, ?it/s]\u001b[A"
     ]
    },
    {
     "name": "stdout",
     "output_type": "stream",
     "text": [
      "total discriminator loss:0.6932164452084906\n",
      "-----------------------\n",
      "Training Step: 11\n"
     ]
    },
    {
     "name": "stderr",
     "output_type": "stream",
     "text": [
      "\n",
      "  5%|▌         | 1/20 [00:08<02:50,  8.99s/it]\u001b[A\n",
      " 10%|█         | 2/20 [00:18<02:42,  9.02s/it]\u001b[A\n",
      " 15%|█▌        | 3/20 [00:26<02:30,  8.86s/it]\u001b[A\n",
      " 20%|██        | 4/20 [00:34<02:17,  8.58s/it]\u001b[A\n",
      " 25%|██▌       | 5/20 [00:42<02:03,  8.26s/it]\u001b[A\n",
      " 30%|███       | 6/20 [00:49<01:48,  7.78s/it]\u001b[A\n",
      " 35%|███▌      | 7/20 [00:56<01:37,  7.51s/it]\u001b[A\n",
      " 40%|████      | 8/20 [01:02<01:24,  7.08s/it]\u001b[A\n",
      " 45%|████▌     | 9/20 [01:08<01:14,  6.81s/it]\u001b[A\n",
      " 50%|█████     | 10/20 [01:14<01:03,  6.35s/it]\u001b[A\n",
      " 55%|█████▌    | 11/20 [01:18<00:53,  5.90s/it]\u001b[A\n",
      " 60%|██████    | 12/20 [01:23<00:43,  5.45s/it]\u001b[A\n",
      " 65%|██████▌   | 13/20 [01:28<00:36,  5.21s/it]\u001b[A\n",
      " 70%|███████   | 14/20 [01:31<00:28,  4.69s/it]\u001b[A\n",
      " 75%|███████▌  | 15/20 [01:34<00:21,  4.20s/it]\u001b[A\n",
      " 80%|████████  | 16/20 [01:37<00:14,  3.73s/it]\u001b[A\n",
      " 85%|████████▌ | 17/20 [01:39<00:09,  3.28s/it]\u001b[A\n",
      " 90%|█████████ | 18/20 [01:41<00:05,  2.84s/it]\u001b[A\n",
      " 95%|█████████▌| 19/20 [01:42<00:02,  2.42s/it]\u001b[A\n",
      "100%|██████████| 20/20 [01:43<00:00,  5.19s/it]\u001b[A\n"
     ]
    },
    {
     "name": "stdout",
     "output_type": "stream",
     "text": [
      "generator loss:0.8932798849503791\n",
      "-----------------------\n"
     ]
    },
    {
     "name": "stderr",
     "output_type": "stream",
     "text": [
      "11it [21:21, 113.78s/it]\n",
      "  0%|          | 0/20 [00:00<?, ?it/s]\u001b[A"
     ]
    },
    {
     "name": "stdout",
     "output_type": "stream",
     "text": [
      "total discriminator loss:0.6931924008433106\n",
      "-----------------------\n",
      "Training Step: 12\n"
     ]
    },
    {
     "name": "stderr",
     "output_type": "stream",
     "text": [
      "\n",
      "  5%|▌         | 1/20 [00:09<02:58,  9.40s/it]\u001b[A\n",
      " 10%|█         | 2/20 [00:18<02:43,  9.07s/it]\u001b[A\n",
      " 15%|█▌        | 3/20 [00:26<02:30,  8.87s/it]\u001b[A\n",
      " 20%|██        | 4/20 [00:35<02:17,  8.59s/it]\u001b[A\n",
      " 25%|██▌       | 5/20 [00:42<02:01,  8.13s/it]\u001b[A\n",
      " 30%|███       | 6/20 [00:49<01:49,  7.84s/it]\u001b[A\n",
      " 35%|███▌      | 7/20 [00:56<01:37,  7.53s/it]\u001b[A\n",
      " 40%|████      | 8/20 [01:02<01:25,  7.08s/it]\u001b[A\n",
      " 45%|████▌     | 9/20 [01:08<01:13,  6.64s/it]\u001b[A\n",
      " 50%|█████     | 10/20 [01:14<01:04,  6.43s/it]\u001b[A\n",
      " 55%|█████▌    | 11/20 [01:19<00:53,  5.95s/it]\u001b[A\n",
      " 60%|██████    | 12/20 [01:23<00:43,  5.46s/it]\u001b[A\n",
      " 65%|██████▌   | 13/20 [01:27<00:34,  5.00s/it]\u001b[A\n",
      " 70%|███████   | 14/20 [01:31<00:28,  4.79s/it]\u001b[A\n",
      " 75%|███████▌  | 15/20 [01:34<00:21,  4.29s/it]\u001b[A\n",
      " 80%|████████  | 16/20 [01:37<00:15,  3.82s/it]\u001b[A\n",
      " 85%|████████▌ | 17/20 [01:39<00:10,  3.36s/it]\u001b[A\n",
      " 90%|█████████ | 18/20 [01:41<00:05,  2.92s/it]\u001b[A\n",
      " 95%|█████████▌| 19/20 [01:43<00:02,  2.47s/it]\u001b[A\n",
      "100%|██████████| 20/20 [01:44<00:00,  5.21s/it]\u001b[A\n"
     ]
    },
    {
     "name": "stdout",
     "output_type": "stream",
     "text": [
      "generator loss:0.9103910861666261\n",
      "-----------------------\n"
     ]
    },
    {
     "name": "stderr",
     "output_type": "stream",
     "text": [
      "12it [23:15, 113.71s/it]\n",
      "  0%|          | 0/20 [00:00<?, ?it/s]\u001b[A"
     ]
    },
    {
     "name": "stdout",
     "output_type": "stream",
     "text": [
      "total discriminator loss:0.6932060559505078\n",
      "-----------------------\n",
      "Training Step: 13\n"
     ]
    },
    {
     "name": "stderr",
     "output_type": "stream",
     "text": [
      "\n",
      "  5%|▌         | 1/20 [00:09<02:57,  9.33s/it]\u001b[A\n",
      " 10%|█         | 2/20 [00:18<02:44,  9.12s/it]\u001b[A\n",
      " 15%|█▌        | 3/20 [00:26<02:28,  8.73s/it]\u001b[A\n",
      " 20%|██        | 4/20 [00:34<02:14,  8.40s/it]\u001b[A\n",
      " 25%|██▌       | 5/20 [00:42<02:01,  8.13s/it]\u001b[A\n",
      " 30%|███       | 6/20 [00:49<01:49,  7.82s/it]\u001b[A\n",
      " 35%|███▌      | 7/20 [00:55<01:35,  7.33s/it]\u001b[A\n",
      " 40%|████      | 8/20 [01:02<01:25,  7.10s/it]\u001b[A\n",
      " 45%|████▌     | 9/20 [01:07<01:12,  6.61s/it]\u001b[A\n",
      " 50%|█████     | 10/20 [01:13<01:01,  6.20s/it]\u001b[A\n",
      " 55%|█████▌    | 11/20 [01:18<00:53,  5.99s/it]\u001b[A\n",
      " 60%|██████    | 12/20 [01:22<00:43,  5.48s/it]\u001b[A\n",
      " 65%|██████▌   | 13/20 [01:26<00:35,  5.01s/it]\u001b[A\n",
      " 70%|███████   | 14/20 [01:30<00:27,  4.57s/it]\u001b[A\n",
      " 75%|███████▌  | 15/20 [01:33<00:20,  4.14s/it]\u001b[A\n",
      " 80%|████████  | 16/20 [01:37<00:15,  3.94s/it]\u001b[A\n",
      " 85%|████████▌ | 17/20 [01:39<00:10,  3.43s/it]\u001b[A\n",
      " 90%|█████████ | 18/20 [01:41<00:05,  2.95s/it]\u001b[A\n",
      " 95%|█████████▌| 19/20 [01:42<00:02,  2.49s/it]\u001b[A\n",
      "100%|██████████| 20/20 [01:43<00:00,  5.18s/it]\u001b[A\n"
     ]
    },
    {
     "name": "stdout",
     "output_type": "stream",
     "text": [
      "generator loss:0.8911041532976132\n",
      "-----------------------\n"
     ]
    },
    {
     "name": "stderr",
     "output_type": "stream",
     "text": [
      "13it [25:08, 113.37s/it]\n",
      "  0%|          | 0/20 [00:00<?, ?it/s]\u001b[A"
     ]
    },
    {
     "name": "stdout",
     "output_type": "stream",
     "text": [
      "total discriminator loss:0.6931969506886555\n",
      "-----------------------\n",
      "Training Step: 14\n"
     ]
    },
    {
     "name": "stderr",
     "output_type": "stream",
     "text": [
      "\n",
      "  5%|▌         | 1/20 [00:08<02:49,  8.95s/it]\u001b[A\n",
      " 10%|█         | 2/20 [00:17<02:38,  8.79s/it]\u001b[A\n",
      " 15%|█▌        | 3/20 [00:25<02:25,  8.54s/it]\u001b[A\n",
      " 20%|██        | 4/20 [00:34<02:14,  8.43s/it]\u001b[A\n",
      " 25%|██▌       | 5/20 [00:41<01:59,  7.97s/it]\u001b[A\n",
      " 30%|███       | 6/20 [00:48<01:47,  7.70s/it]\u001b[A\n",
      " 35%|███▌      | 7/20 [00:54<01:34,  7.29s/it]\u001b[A\n",
      " 40%|████      | 8/20 [01:01<01:25,  7.09s/it]\u001b[A\n",
      " 45%|████▌     | 9/20 [01:07<01:12,  6.62s/it]\u001b[A\n",
      " 50%|█████     | 10/20 [01:13<01:04,  6.42s/it]\u001b[A\n",
      " 55%|█████▌    | 11/20 [01:17<00:53,  5.94s/it]\u001b[A\n",
      " 60%|██████    | 12/20 [01:22<00:43,  5.46s/it]\u001b[A\n",
      " 65%|██████▌   | 13/20 [01:26<00:34,  5.00s/it]\u001b[A\n",
      " 70%|███████   | 14/20 [01:30<00:28,  4.79s/it]\u001b[A\n",
      " 75%|███████▌  | 15/20 [01:33<00:21,  4.27s/it]\u001b[A\n",
      " 80%|████████  | 16/20 [01:36<00:15,  3.79s/it]\u001b[A\n",
      " 85%|████████▌ | 17/20 [01:38<00:09,  3.32s/it]\u001b[A\n",
      " 90%|█████████ | 18/20 [01:40<00:05,  2.87s/it]\u001b[A\n",
      " 95%|█████████▌| 19/20 [01:41<00:02,  2.44s/it]\u001b[A\n",
      "100%|██████████| 20/20 [01:42<00:00,  5.14s/it]\u001b[A\n"
     ]
    },
    {
     "name": "stdout",
     "output_type": "stream",
     "text": [
      "generator loss:0.9087680465192516\n",
      "-----------------------\n"
     ]
    },
    {
     "name": "stderr",
     "output_type": "stream",
     "text": [
      "14it [26:59, 112.92s/it]\n",
      "  0%|          | 0/20 [00:00<?, ?it/s]\u001b[A"
     ]
    },
    {
     "name": "stdout",
     "output_type": "stream",
     "text": [
      "total discriminator loss:0.6932050842518204\n",
      "-----------------------\n",
      "Training Step: 15\n"
     ]
    },
    {
     "name": "stderr",
     "output_type": "stream",
     "text": [
      "\n",
      "  5%|▌         | 1/20 [00:08<02:47,  8.80s/it]\u001b[A\n",
      " 10%|█         | 2/20 [00:17<02:37,  8.77s/it]\u001b[A\n",
      " 15%|█▌        | 3/20 [00:26<02:26,  8.64s/it]\u001b[A\n",
      " 20%|██        | 4/20 [00:34<02:14,  8.39s/it]\u001b[A\n",
      " 25%|██▌       | 5/20 [00:41<02:02,  8.14s/it]\u001b[A\n",
      " 30%|███       | 6/20 [00:48<01:47,  7.71s/it]\u001b[A\n",
      " 35%|███▌      | 7/20 [00:55<01:36,  7.42s/it]\u001b[A\n",
      " 40%|████      | 8/20 [01:01<01:23,  6.98s/it]\u001b[A\n",
      " 45%|████▌     | 9/20 [01:07<01:13,  6.71s/it]\u001b[A\n",
      " 50%|█████     | 10/20 [01:12<01:02,  6.25s/it]\u001b[A\n",
      " 55%|█████▌    | 11/20 [01:17<00:52,  5.79s/it]\u001b[A\n",
      " 60%|██████    | 12/20 [01:21<00:42,  5.33s/it]\u001b[A\n",
      " 65%|██████▌   | 13/20 [01:26<00:35,  5.11s/it]\u001b[A\n",
      " 70%|███████   | 14/20 [01:29<00:27,  4.60s/it]\u001b[A\n",
      " 75%|███████▌  | 15/20 [01:32<00:20,  4.13s/it]\u001b[A\n",
      " 80%|████████  | 16/20 [01:35<00:14,  3.67s/it]\u001b[A\n",
      " 85%|████████▌ | 17/20 [01:37<00:09,  3.24s/it]\u001b[A\n",
      " 90%|█████████ | 18/20 [01:39<00:05,  2.81s/it]\u001b[A\n",
      " 95%|█████████▌| 19/20 [01:40<00:02,  2.38s/it]\u001b[A\n",
      "100%|██████████| 20/20 [01:41<00:00,  5.10s/it]\u001b[A\n"
     ]
    },
    {
     "name": "stdout",
     "output_type": "stream",
     "text": [
      "generator loss:0.8924617585198906\n",
      "-----------------------\n"
     ]
    },
    {
     "name": "stderr",
     "output_type": "stream",
     "text": [
      "15it [28:50, 112.33s/it]\n",
      "  0%|          | 0/20 [00:00<?, ?it/s]\u001b[A"
     ]
    },
    {
     "name": "stdout",
     "output_type": "stream",
     "text": [
      "total discriminator loss:0.6931935629640266\n",
      "-----------------------\n",
      "Training Step: 16\n"
     ]
    },
    {
     "name": "stderr",
     "output_type": "stream",
     "text": [
      "\n",
      "  5%|▌         | 1/20 [00:09<02:55,  9.26s/it]\u001b[A\n",
      " 10%|█         | 2/20 [00:18<02:42,  9.00s/it]\u001b[A\n",
      " 15%|█▌        | 3/20 [00:26<02:29,  8.77s/it]\u001b[A\n",
      " 20%|██        | 4/20 [00:34<02:15,  8.49s/it]\u001b[A\n",
      " 25%|██▌       | 5/20 [00:41<02:00,  8.00s/it]\u001b[A\n",
      " 30%|███       | 6/20 [00:48<01:48,  7.72s/it]\u001b[A\n",
      " 35%|███▌      | 7/20 [00:55<01:36,  7.43s/it]\u001b[A\n",
      " 40%|████      | 8/20 [01:01<01:23,  6.98s/it]\u001b[A\n",
      " 45%|████▌     | 9/20 [01:07<01:11,  6.52s/it]\u001b[A\n",
      " 50%|█████     | 10/20 [01:13<01:03,  6.33s/it]\u001b[A\n",
      " 55%|█████▌    | 11/20 [01:17<00:52,  5.85s/it]\u001b[A\n",
      " 60%|██████    | 12/20 [01:22<00:43,  5.38s/it]\u001b[A\n",
      " 65%|██████▌   | 13/20 [01:26<00:34,  4.93s/it]\u001b[A\n",
      " 70%|███████   | 14/20 [01:30<00:28,  4.72s/it]\u001b[A\n",
      " 75%|███████▌  | 15/20 [01:33<00:21,  4.21s/it]\u001b[A\n",
      " 80%|████████  | 16/20 [01:36<00:14,  3.73s/it]\u001b[A\n",
      " 85%|████████▌ | 17/20 [01:38<00:09,  3.29s/it]\u001b[A\n",
      " 90%|█████████ | 18/20 [01:40<00:05,  2.85s/it]\u001b[A\n",
      " 95%|█████████▌| 19/20 [01:41<00:02,  2.42s/it]\u001b[A\n",
      "100%|██████████| 20/20 [01:42<00:00,  5.13s/it]\u001b[A\n"
     ]
    },
    {
     "name": "stdout",
     "output_type": "stream",
     "text": [
      "generator loss:0.9083985542878785\n",
      "-----------------------\n"
     ]
    },
    {
     "name": "stderr",
     "output_type": "stream",
     "text": [
      "16it [30:42, 112.14s/it]\n",
      "  0%|          | 0/20 [00:00<?, ?it/s]\u001b[A"
     ]
    },
    {
     "name": "stdout",
     "output_type": "stream",
     "text": [
      "total discriminator loss:0.6931997984875171\n",
      "-----------------------\n",
      "Training Step: 17\n"
     ]
    },
    {
     "name": "stderr",
     "output_type": "stream",
     "text": [
      "\n",
      "  5%|▌         | 1/20 [00:09<02:54,  9.17s/it]\u001b[A\n",
      " 10%|█         | 2/20 [00:18<02:41,  8.98s/it]\u001b[A\n",
      " 15%|█▌        | 3/20 [00:26<02:26,  8.63s/it]\u001b[A\n",
      " 20%|██        | 4/20 [00:34<02:13,  8.35s/it]\u001b[A\n",
      " 25%|██▌       | 5/20 [00:41<02:00,  8.03s/it]\u001b[A\n",
      " 30%|███       | 6/20 [00:48<01:48,  7.75s/it]\u001b[A\n",
      " 35%|███▌      | 7/20 [00:55<01:34,  7.27s/it]\u001b[A\n",
      " 40%|████      | 8/20 [01:01<01:24,  7.04s/it]\u001b[A\n",
      " 45%|████▌     | 9/20 [01:07<01:12,  6.55s/it]\u001b[A\n",
      " 50%|█████     | 10/20 [01:12<01:01,  6.14s/it]\u001b[A\n",
      " 55%|█████▌    | 11/20 [01:17<00:53,  5.93s/it]\u001b[A\n",
      " 60%|██████    | 12/20 [01:22<00:43,  5.44s/it]\u001b[A\n",
      " 65%|██████▌   | 13/20 [01:25<00:34,  4.97s/it]\u001b[A\n",
      " 70%|███████   | 14/20 [01:29<00:27,  4.53s/it]\u001b[A\n",
      " 75%|███████▌  | 15/20 [01:32<00:20,  4.09s/it]\u001b[A\n",
      " 80%|████████  | 16/20 [01:36<00:15,  3.93s/it]\u001b[A\n",
      " 85%|████████▌ | 17/20 [01:38<00:10,  3.41s/it]\u001b[A\n",
      " 90%|█████████ | 18/20 [01:40<00:05,  2.94s/it]\u001b[A\n",
      " 95%|█████████▌| 19/20 [01:41<00:02,  2.48s/it]\u001b[A\n",
      "100%|██████████| 20/20 [01:42<00:00,  5.13s/it]\u001b[A\n"
     ]
    },
    {
     "name": "stdout",
     "output_type": "stream",
     "text": [
      "generator loss:0.8911655191528437\n",
      "-----------------------\n"
     ]
    },
    {
     "name": "stderr",
     "output_type": "stream",
     "text": [
      "17it [32:34, 112.02s/it]\n",
      "  0%|          | 0/20 [00:00<?, ?it/s]\u001b[A"
     ]
    },
    {
     "name": "stdout",
     "output_type": "stream",
     "text": [
      "total discriminator loss:0.6931966689144797\n",
      "-----------------------\n",
      "Training Step: 18\n"
     ]
    },
    {
     "name": "stderr",
     "output_type": "stream",
     "text": [
      "\n",
      "  5%|▌         | 1/20 [00:08<02:50,  8.97s/it]\u001b[A\n",
      " 10%|█         | 2/20 [00:17<02:40,  8.93s/it]\u001b[A\n",
      " 15%|█▌        | 3/20 [00:26<02:27,  8.68s/it]\u001b[A\n",
      " 20%|██        | 4/20 [00:34<02:17,  8.57s/it]\u001b[A\n",
      " 25%|██▌       | 5/20 [00:41<02:00,  8.06s/it]\u001b[A\n",
      " 30%|███       | 6/20 [00:49<01:48,  7.77s/it]\u001b[A\n",
      " 35%|███▌      | 7/20 [00:55<01:34,  7.29s/it]\u001b[A\n",
      " 40%|████      | 8/20 [01:01<01:24,  7.06s/it]\u001b[A\n",
      " 45%|████▌     | 9/20 [01:07<01:12,  6.57s/it]\u001b[A\n",
      " 50%|█████     | 10/20 [01:13<01:03,  6.36s/it]\u001b[A\n",
      " 55%|█████▌    | 11/20 [01:18<00:52,  5.87s/it]\u001b[A\n",
      " 60%|██████    | 12/20 [01:22<00:43,  5.41s/it]\u001b[A\n",
      " 65%|██████▌   | 13/20 [01:26<00:34,  4.97s/it]\u001b[A\n",
      " 70%|███████   | 14/20 [01:30<00:28,  4.79s/it]\u001b[A\n",
      " 75%|███████▌  | 15/20 [01:33<00:21,  4.28s/it]\u001b[A\n",
      " 80%|████████  | 16/20 [01:36<00:15,  3.79s/it]\u001b[A\n",
      " 85%|████████▌ | 17/20 [01:38<00:09,  3.33s/it]\u001b[A\n",
      " 90%|█████████ | 18/20 [01:40<00:05,  2.88s/it]\u001b[A\n",
      " 95%|█████████▌| 19/20 [01:42<00:02,  2.45s/it]\u001b[A\n",
      "100%|██████████| 20/20 [01:43<00:00,  5.15s/it]\u001b[A\n"
     ]
    },
    {
     "name": "stdout",
     "output_type": "stream",
     "text": [
      "generator loss:0.9083661592711746\n",
      "-----------------------\n"
     ]
    },
    {
     "name": "stderr",
     "output_type": "stream",
     "text": [
      "18it [34:26, 112.03s/it]\n",
      "  0%|          | 0/20 [00:00<?, ?it/s]\u001b[A"
     ]
    },
    {
     "name": "stdout",
     "output_type": "stream",
     "text": [
      "total discriminator loss:0.6931952953533772\n",
      "-----------------------\n",
      "Training Step: 19\n"
     ]
    },
    {
     "name": "stderr",
     "output_type": "stream",
     "text": [
      "\n",
      "  5%|▌         | 1/20 [00:08<02:50,  8.95s/it]\u001b[A\n",
      " 10%|█         | 2/20 [00:17<02:40,  8.91s/it]\u001b[A\n",
      " 15%|█▌        | 3/20 [00:26<02:28,  8.73s/it]\u001b[A\n",
      " 20%|██        | 4/20 [00:34<02:15,  8.45s/it]\u001b[A\n",
      " 25%|██▌       | 5/20 [00:41<02:02,  8.14s/it]\u001b[A\n",
      " 30%|███       | 6/20 [00:48<01:47,  7.67s/it]\u001b[A\n",
      " 35%|███▌      | 7/20 [00:55<01:36,  7.39s/it]\u001b[A\n",
      " 40%|████      | 8/20 [01:01<01:23,  6.97s/it]\u001b[A\n",
      " 45%|████▌     | 9/20 [01:07<01:14,  6.74s/it]\u001b[A\n",
      " 50%|█████     | 10/20 [01:13<01:02,  6.28s/it]\u001b[A\n",
      " 55%|█████▌    | 11/20 [01:17<00:52,  5.82s/it]\u001b[A\n",
      " 60%|██████    | 12/20 [01:22<00:43,  5.39s/it]\u001b[A\n",
      " 65%|██████▌   | 13/20 [01:26<00:36,  5.17s/it]\u001b[A\n",
      " 70%|███████   | 14/20 [01:30<00:27,  4.66s/it]\u001b[A\n",
      " 75%|███████▌  | 15/20 [01:33<00:20,  4.18s/it]\u001b[A\n",
      " 80%|████████  | 16/20 [01:36<00:14,  3.72s/it]\u001b[A\n",
      " 85%|████████▌ | 17/20 [01:38<00:09,  3.28s/it]\u001b[A\n",
      " 90%|█████████ | 18/20 [01:40<00:05,  2.85s/it]\u001b[A\n",
      " 95%|█████████▌| 19/20 [01:41<00:02,  2.41s/it]\u001b[A\n",
      "100%|██████████| 20/20 [01:42<00:00,  5.13s/it]\u001b[A\n"
     ]
    },
    {
     "name": "stdout",
     "output_type": "stream",
     "text": [
      "generator loss:0.8907577635807818\n",
      "-----------------------\n"
     ]
    },
    {
     "name": "stderr",
     "output_type": "stream",
     "text": [
      "19it [36:18, 111.94s/it]\n",
      "  0%|          | 0/20 [00:00<?, ?it/s]\u001b[A"
     ]
    },
    {
     "name": "stdout",
     "output_type": "stream",
     "text": [
      "total discriminator loss:0.6932026243009731\n",
      "-----------------------\n",
      "Training Step: 20\n"
     ]
    },
    {
     "name": "stderr",
     "output_type": "stream",
     "text": [
      "\n",
      "  5%|▌         | 1/20 [00:09<02:57,  9.36s/it]\u001b[A\n",
      " 10%|█         | 2/20 [00:18<02:42,  9.03s/it]\u001b[A\n",
      " 15%|█▌        | 3/20 [00:26<02:28,  8.76s/it]\u001b[A\n",
      " 20%|██        | 4/20 [00:34<02:15,  8.45s/it]\u001b[A\n",
      " 25%|██▌       | 5/20 [00:41<02:00,  8.00s/it]\u001b[A\n",
      " 30%|███       | 6/20 [00:48<01:47,  7.71s/it]\u001b[A\n",
      " 35%|███▌      | 7/20 [00:55<01:36,  7.43s/it]\u001b[A\n",
      " 40%|████      | 8/20 [01:01<01:23,  6.99s/it]\u001b[A\n",
      " 45%|████▌     | 9/20 [01:07<01:11,  6.53s/it]\u001b[A\n",
      " 50%|█████     | 10/20 [01:13<01:03,  6.33s/it]\u001b[A\n",
      " 55%|█████▌    | 11/20 [01:18<00:52,  5.86s/it]\u001b[A\n",
      " 60%|██████    | 12/20 [01:22<00:42,  5.37s/it]\u001b[A\n",
      " 65%|██████▌   | 13/20 [01:26<00:34,  4.91s/it]\u001b[A\n",
      " 70%|███████   | 14/20 [01:30<00:28,  4.72s/it]\u001b[A\n",
      " 75%|███████▌  | 15/20 [01:33<00:21,  4.21s/it]\u001b[A\n",
      " 80%|████████  | 16/20 [01:36<00:14,  3.74s/it]\u001b[A\n",
      " 85%|████████▌ | 17/20 [01:38<00:09,  3.29s/it]\u001b[A\n",
      " 90%|█████████ | 18/20 [01:40<00:05,  2.84s/it]\u001b[A\n",
      " 95%|█████████▌| 19/20 [01:41<00:02,  2.41s/it]\u001b[A\n",
      "100%|██████████| 20/20 [01:42<00:00,  5.13s/it]\u001b[A\n"
     ]
    },
    {
     "name": "stdout",
     "output_type": "stream",
     "text": [
      "generator loss:0.9081817069675722\n",
      "-----------------------\n"
     ]
    },
    {
     "name": "stderr",
     "output_type": "stream",
     "text": [
      "20it [38:09, 111.83s/it]\n",
      "  0%|          | 0/20 [00:00<?, ?it/s]\u001b[A"
     ]
    },
    {
     "name": "stdout",
     "output_type": "stream",
     "text": [
      "total discriminator loss:0.6932020741230541\n",
      "-----------------------\n",
      "Training Step: 21\n"
     ]
    },
    {
     "name": "stderr",
     "output_type": "stream",
     "text": [
      "\n",
      "  5%|▌         | 1/20 [00:09<02:55,  9.24s/it]\u001b[A\n",
      " 10%|█         | 2/20 [00:18<02:41,  8.98s/it]\u001b[A\n",
      " 15%|█▌        | 3/20 [00:26<02:26,  8.61s/it]\u001b[A\n",
      " 20%|██        | 4/20 [00:34<02:13,  8.33s/it]\u001b[A\n",
      " 25%|██▌       | 5/20 [00:41<02:00,  8.04s/it]\u001b[A\n",
      " 30%|███       | 6/20 [00:48<01:48,  7.76s/it]\u001b[A\n",
      " 35%|███▌      | 7/20 [00:55<01:34,  7.30s/it]\u001b[A\n",
      " 40%|████      | 8/20 [01:01<01:25,  7.08s/it]\u001b[A\n",
      " 45%|████▌     | 9/20 [01:07<01:12,  6.60s/it]\u001b[A\n",
      " 50%|█████     | 10/20 [01:12<01:01,  6.20s/it]\u001b[A\n",
      " 55%|█████▌    | 11/20 [01:18<00:53,  5.97s/it]\u001b[A\n",
      " 60%|██████    | 12/20 [01:22<00:43,  5.47s/it]\u001b[A\n",
      " 65%|██████▌   | 13/20 [01:26<00:34,  4.98s/it]\u001b[A\n",
      " 70%|███████   | 14/20 [01:29<00:27,  4.52s/it]\u001b[A\n",
      " 75%|███████▌  | 15/20 [01:32<00:20,  4.07s/it]\u001b[A\n",
      " 80%|████████  | 16/20 [01:36<00:15,  3.89s/it]\u001b[A\n",
      " 85%|████████▌ | 17/20 [01:38<00:10,  3.39s/it]\u001b[A\n",
      " 90%|█████████ | 18/20 [01:40<00:05,  2.91s/it]\u001b[A\n",
      " 95%|█████████▌| 19/20 [01:41<00:02,  2.45s/it]\u001b[A\n",
      "100%|██████████| 20/20 [01:42<00:00,  5.13s/it]\u001b[A\n"
     ]
    },
    {
     "name": "stdout",
     "output_type": "stream",
     "text": [
      "generator loss:0.8925090475145072\n",
      "-----------------------\n"
     ]
    },
    {
     "name": "stderr",
     "output_type": "stream",
     "text": [
      "21it [40:01, 111.71s/it]\n",
      "  0%|          | 0/20 [00:00<?, ?it/s]\u001b[A"
     ]
    },
    {
     "name": "stdout",
     "output_type": "stream",
     "text": [
      "total discriminator loss:0.6931988220163041\n",
      "-----------------------\n",
      "Training Step: 22\n"
     ]
    },
    {
     "name": "stderr",
     "output_type": "stream",
     "text": [
      "\n",
      "  5%|▌         | 1/20 [00:08<02:48,  8.85s/it]\u001b[A\n",
      " 10%|█         | 2/20 [00:17<02:36,  8.72s/it]\u001b[A\n",
      " 15%|█▌        | 3/20 [00:25<02:24,  8.51s/it]\u001b[A\n",
      " 20%|██        | 4/20 [00:33<02:14,  8.41s/it]\u001b[A\n",
      " 25%|██▌       | 5/20 [00:41<01:59,  7.96s/it]\u001b[A\n",
      " 30%|███       | 6/20 [00:48<01:47,  7.71s/it]\u001b[A\n",
      " 35%|███▌      | 7/20 [00:54<01:34,  7.27s/it]\u001b[A\n",
      " 40%|████      | 8/20 [01:01<01:24,  7.08s/it]\u001b[A\n",
      " 45%|████▌     | 9/20 [01:07<01:12,  6.62s/it]\u001b[A\n",
      " 50%|█████     | 10/20 [01:13<01:04,  6.42s/it]\u001b[A\n",
      " 55%|█████▌    | 11/20 [01:17<00:53,  5.93s/it]\u001b[A\n",
      " 60%|██████    | 12/20 [01:22<00:43,  5.44s/it]\u001b[A\n",
      " 65%|██████▌   | 13/20 [01:26<00:34,  4.98s/it]\u001b[A\n",
      " 70%|███████   | 14/20 [01:30<00:28,  4.79s/it]\u001b[A\n",
      " 75%|███████▌  | 15/20 [01:33<00:21,  4.28s/it]\u001b[A\n",
      " 80%|████████  | 16/20 [01:36<00:15,  3.78s/it]\u001b[A\n",
      " 85%|████████▌ | 17/20 [01:38<00:09,  3.31s/it]\u001b[A\n",
      " 90%|█████████ | 18/20 [01:40<00:05,  2.87s/it]\u001b[A\n",
      " 95%|█████████▌| 19/20 [01:41<00:02,  2.44s/it]\u001b[A\n",
      "100%|██████████| 20/20 [01:42<00:00,  5.13s/it]\u001b[A\n"
     ]
    },
    {
     "name": "stdout",
     "output_type": "stream",
     "text": [
      "generator loss:0.9074745949262532\n",
      "-----------------------\n"
     ]
    },
    {
     "name": "stderr",
     "output_type": "stream",
     "text": [
      "22it [41:52, 111.67s/it]\n",
      "  0%|          | 0/20 [00:00<?, ?it/s]\u001b[A"
     ]
    },
    {
     "name": "stdout",
     "output_type": "stream",
     "text": [
      "total discriminator loss:0.693204831783833\n",
      "-----------------------\n",
      "Training Step: 23\n"
     ]
    },
    {
     "name": "stderr",
     "output_type": "stream",
     "text": [
      "\n",
      "  5%|▌         | 1/20 [00:08<02:48,  8.89s/it]\u001b[A\n",
      " 10%|█         | 2/20 [00:17<02:38,  8.79s/it]\u001b[A\n",
      " 15%|█▌        | 3/20 [00:26<02:27,  8.65s/it]\u001b[A\n",
      " 20%|██        | 4/20 [00:34<02:14,  8.40s/it]\u001b[A\n",
      " 25%|██▌       | 5/20 [00:41<02:02,  8.15s/it]\u001b[A\n",
      " 30%|███       | 6/20 [00:48<01:47,  7.68s/it]\u001b[A\n",
      " 35%|███▌      | 7/20 [00:55<01:35,  7.38s/it]\u001b[A\n",
      " 40%|████      | 8/20 [01:01<01:23,  6.96s/it]\u001b[A\n",
      " 45%|████▌     | 9/20 [01:07<01:13,  6.71s/it]\u001b[A\n",
      " 50%|█████     | 10/20 [01:12<01:02,  6.25s/it]\u001b[A\n",
      " 55%|█████▌    | 11/20 [01:17<00:52,  5.79s/it]\u001b[A\n",
      " 60%|██████    | 12/20 [01:21<00:42,  5.34s/it]\u001b[A\n",
      " 65%|██████▌   | 13/20 [01:26<00:35,  5.13s/it]\u001b[A\n",
      " 70%|███████   | 14/20 [01:29<00:27,  4.62s/it]\u001b[A\n",
      " 75%|███████▌  | 15/20 [01:32<00:20,  4.14s/it]\u001b[A\n",
      " 80%|████████  | 16/20 [01:35<00:14,  3.69s/it]\u001b[A\n",
      " 85%|████████▌ | 17/20 [01:37<00:09,  3.24s/it]\u001b[A\n",
      " 90%|█████████ | 18/20 [01:39<00:05,  2.81s/it]\u001b[A\n",
      " 95%|█████████▌| 19/20 [01:41<00:02,  2.39s/it]\u001b[A\n",
      "100%|██████████| 20/20 [01:42<00:00,  5.10s/it]\u001b[A\n"
     ]
    },
    {
     "name": "stdout",
     "output_type": "stream",
     "text": [
      "generator loss:0.8909994535114013\n",
      "-----------------------\n"
     ]
    },
    {
     "name": "stderr",
     "output_type": "stream",
     "text": [
      "23it [43:43, 111.41s/it]\n",
      "  0%|          | 0/20 [00:00<?, ?it/s]\u001b[A"
     ]
    },
    {
     "name": "stdout",
     "output_type": "stream",
     "text": [
      "total discriminator loss:0.6931976873243682\n",
      "-----------------------\n",
      "Training Step: 24\n"
     ]
    },
    {
     "name": "stderr",
     "output_type": "stream",
     "text": [
      "\n",
      "  5%|▌         | 1/20 [00:09<02:56,  9.27s/it]\u001b[A\n",
      " 10%|█         | 2/20 [00:18<02:41,  8.99s/it]\u001b[A\n",
      " 15%|█▌        | 3/20 [00:26<02:29,  8.79s/it]\u001b[A\n",
      " 20%|██        | 4/20 [00:34<02:15,  8.49s/it]\u001b[A\n",
      " 25%|██▌       | 5/20 [00:41<02:00,  8.02s/it]\u001b[A\n",
      " 30%|███       | 6/20 [00:49<01:48,  7.73s/it]\u001b[A\n",
      " 35%|███▌      | 7/20 [00:55<01:36,  7.46s/it]\u001b[A\n",
      " 40%|████      | 8/20 [01:01<01:23,  7.00s/it]\u001b[A\n",
      " 45%|████▌     | 9/20 [01:07<01:11,  6.53s/it]\u001b[A\n",
      " 50%|█████     | 10/20 [01:13<01:03,  6.32s/it]\u001b[A\n",
      " 55%|█████▌    | 11/20 [01:18<00:52,  5.84s/it]\u001b[A\n",
      " 60%|██████    | 12/20 [01:22<00:42,  5.36s/it]\u001b[A\n",
      " 65%|██████▌   | 13/20 [01:26<00:34,  4.90s/it]\u001b[A\n",
      " 70%|███████   | 14/20 [01:30<00:28,  4.70s/it]\u001b[A\n",
      " 75%|███████▌  | 15/20 [01:33<00:21,  4.20s/it]\u001b[A\n",
      " 80%|████████  | 16/20 [01:36<00:14,  3.74s/it]\u001b[A\n",
      " 85%|████████▌ | 17/20 [01:38<00:09,  3.28s/it]\u001b[A\n",
      " 90%|█████████ | 18/20 [01:40<00:05,  2.84s/it]\u001b[A\n",
      " 95%|█████████▌| 19/20 [01:41<00:02,  2.41s/it]\u001b[A\n",
      "100%|██████████| 20/20 [01:42<00:00,  5.13s/it]\u001b[A\n"
     ]
    },
    {
     "name": "stdout",
     "output_type": "stream",
     "text": [
      "generator loss:0.9079115675179207\n",
      "-----------------------\n"
     ]
    },
    {
     "name": "stderr",
     "output_type": "stream",
     "text": [
      "24it [45:35, 111.43s/it]\n",
      "  0%|          | 0/20 [00:00<?, ?it/s]\u001b[A"
     ]
    },
    {
     "name": "stdout",
     "output_type": "stream",
     "text": [
      "total discriminator loss:0.6932054386272724\n",
      "-----------------------\n",
      "Training Step: 25\n"
     ]
    },
    {
     "name": "stderr",
     "output_type": "stream",
     "text": [
      "\n",
      "  5%|▌         | 1/20 [00:09<02:54,  9.19s/it]\u001b[A\n",
      " 10%|█         | 2/20 [00:17<02:41,  8.96s/it]\u001b[A\n",
      " 15%|█▌        | 3/20 [00:26<02:26,  8.61s/it]\u001b[A\n",
      " 20%|██        | 4/20 [00:34<02:13,  8.32s/it]\u001b[A\n",
      " 25%|██▌       | 5/20 [00:41<02:00,  8.04s/it]\u001b[A\n",
      " 30%|███       | 6/20 [00:48<01:48,  7.76s/it]\u001b[A\n",
      " 35%|███▌      | 7/20 [00:55<01:35,  7.31s/it]\u001b[A\n",
      " 40%|████      | 8/20 [01:01<01:25,  7.09s/it]\u001b[A\n",
      " 45%|████▌     | 9/20 [01:07<01:12,  6.59s/it]\u001b[A\n",
      " 50%|█████     | 10/20 [01:12<01:01,  6.16s/it]\u001b[A\n",
      " 55%|█████▌    | 11/20 [01:17<00:53,  5.95s/it]\u001b[A\n",
      " 60%|██████    | 12/20 [01:22<00:43,  5.45s/it]\u001b[A\n",
      " 65%|██████▌   | 13/20 [01:26<00:34,  4.97s/it]\u001b[A\n",
      " 70%|███████   | 14/20 [01:29<00:27,  4.52s/it]\u001b[A\n",
      " 75%|███████▌  | 15/20 [01:32<00:20,  4.08s/it]\u001b[A\n",
      " 80%|████████  | 16/20 [01:36<00:15,  3.91s/it]\u001b[A\n",
      " 85%|████████▌ | 17/20 [01:38<00:10,  3.40s/it]\u001b[A\n",
      " 90%|█████████ | 18/20 [01:40<00:05,  2.92s/it]\u001b[A\n",
      " 95%|█████████▌| 19/20 [01:41<00:02,  2.46s/it]\u001b[A\n",
      "100%|██████████| 20/20 [01:42<00:00,  5.13s/it]\u001b[A\n"
     ]
    },
    {
     "name": "stdout",
     "output_type": "stream",
     "text": [
      "generator loss:0.8921380313486648\n",
      "-----------------------\n"
     ]
    },
    {
     "name": "stderr",
     "output_type": "stream",
     "text": [
      "25it [47:26, 111.46s/it]\n",
      "  0%|          | 0/20 [00:00<?, ?it/s]\u001b[A"
     ]
    },
    {
     "name": "stdout",
     "output_type": "stream",
     "text": [
      "total discriminator loss:0.6931975205565969\n",
      "-----------------------\n",
      "Training Step: 26\n"
     ]
    },
    {
     "name": "stderr",
     "output_type": "stream",
     "text": [
      "\n",
      "  5%|▌         | 1/20 [00:08<02:48,  8.86s/it]\u001b[A\n",
      " 10%|█         | 2/20 [00:17<02:36,  8.69s/it]\u001b[A\n",
      " 15%|█▌        | 3/20 [00:25<02:23,  8.47s/it]\u001b[A\n",
      " 20%|██        | 4/20 [00:33<02:14,  8.40s/it]\u001b[A\n",
      " 25%|██▌       | 5/20 [00:41<01:59,  7.96s/it]\u001b[A\n",
      " 30%|███       | 6/20 [00:48<01:47,  7.70s/it]\u001b[A\n",
      " 35%|███▌      | 7/20 [00:54<01:34,  7.24s/it]\u001b[A\n",
      " 40%|████      | 8/20 [01:01<01:24,  7.02s/it]\u001b[A\n",
      " 45%|████▌     | 9/20 [01:06<01:11,  6.53s/it]\u001b[A\n",
      " 50%|█████     | 10/20 [01:12<01:03,  6.31s/it]\u001b[A\n",
      " 55%|█████▌    | 11/20 [01:17<00:52,  5.82s/it]\u001b[A\n",
      " 60%|██████    | 12/20 [01:21<00:42,  5.33s/it]\u001b[A\n",
      " 65%|██████▌   | 13/20 [01:25<00:34,  4.88s/it]\u001b[A\n",
      " 70%|███████   | 14/20 [01:29<00:28,  4.67s/it]\u001b[A\n",
      " 75%|███████▌  | 15/20 [01:32<00:20,  4.18s/it]\u001b[A\n",
      " 80%|████████  | 16/20 [01:35<00:14,  3.72s/it]\u001b[A\n",
      " 85%|████████▌ | 17/20 [01:37<00:09,  3.28s/it]\u001b[A\n",
      " 90%|█████████ | 18/20 [01:39<00:05,  2.85s/it]\u001b[A\n",
      " 95%|█████████▌| 19/20 [01:40<00:02,  2.42s/it]\u001b[A\n",
      "100%|██████████| 20/20 [01:41<00:00,  5.08s/it]\u001b[A\n"
     ]
    },
    {
     "name": "stdout",
     "output_type": "stream",
     "text": [
      "generator loss:0.9087168090571573\n",
      "-----------------------\n"
     ]
    },
    {
     "name": "stderr",
     "output_type": "stream",
     "text": [
      "26it [49:16, 111.14s/it]\n",
      "  0%|          | 0/20 [00:00<?, ?it/s]\u001b[A"
     ]
    },
    {
     "name": "stdout",
     "output_type": "stream",
     "text": [
      "total discriminator loss:0.6932013351560715\n",
      "-----------------------\n",
      "Training Step: 27\n"
     ]
    },
    {
     "name": "stderr",
     "output_type": "stream",
     "text": [
      "\n",
      "  5%|▌         | 1/20 [00:08<02:47,  8.81s/it]\u001b[A\n",
      " 10%|█         | 2/20 [00:17<02:38,  8.82s/it]\u001b[A\n",
      " 15%|█▌        | 3/20 [00:26<02:28,  8.71s/it]\u001b[A\n",
      " 20%|██        | 4/20 [00:34<02:15,  8.45s/it]\u001b[A\n",
      " 25%|██▌       | 5/20 [00:41<02:02,  8.16s/it]\u001b[A\n",
      " 30%|███       | 6/20 [00:48<01:47,  7.66s/it]\u001b[A\n",
      " 35%|███▌      | 7/20 [00:55<01:36,  7.42s/it]\u001b[A\n",
      " 40%|████      | 8/20 [01:01<01:23,  6.99s/it]\u001b[A\n",
      " 45%|████▌     | 9/20 [01:07<01:14,  6.74s/it]\u001b[A\n",
      " 50%|█████     | 10/20 [01:13<01:02,  6.27s/it]\u001b[A\n",
      " 55%|█████▌    | 11/20 [01:17<00:52,  5.82s/it]\u001b[A\n",
      " 60%|██████    | 12/20 [01:22<00:42,  5.36s/it]\u001b[A\n",
      " 65%|██████▌   | 13/20 [01:26<00:36,  5.16s/it]\u001b[A\n",
      " 70%|███████   | 14/20 [01:30<00:27,  4.66s/it]\u001b[A\n",
      " 75%|███████▌  | 15/20 [01:33<00:21,  4.20s/it]\u001b[A\n",
      " 80%|████████  | 16/20 [01:36<00:14,  3.73s/it]\u001b[A\n",
      " 85%|████████▌ | 17/20 [01:38<00:09,  3.28s/it]\u001b[A\n",
      " 90%|█████████ | 18/20 [01:40<00:05,  2.85s/it]\u001b[A\n",
      " 95%|█████████▌| 19/20 [01:41<00:02,  2.42s/it]\u001b[A\n",
      "100%|██████████| 20/20 [01:42<00:00,  5.13s/it]\u001b[A\n"
     ]
    },
    {
     "name": "stdout",
     "output_type": "stream",
     "text": [
      "generator loss:0.8912788540984538\n",
      "-----------------------\n"
     ]
    },
    {
     "name": "stderr",
     "output_type": "stream",
     "text": [
      "27it [51:08, 111.23s/it]\n",
      "  0%|          | 0/20 [00:00<?, ?it/s]\u001b[A"
     ]
    },
    {
     "name": "stdout",
     "output_type": "stream",
     "text": [
      "total discriminator loss:0.6932016855992531\n",
      "-----------------------\n",
      "Training Step: 28\n"
     ]
    },
    {
     "name": "stderr",
     "output_type": "stream",
     "text": [
      "\n",
      "  5%|▌         | 1/20 [00:09<02:58,  9.42s/it]\u001b[A\n",
      " 10%|█         | 2/20 [00:18<02:43,  9.07s/it]\u001b[A\n",
      " 15%|█▌        | 3/20 [00:26<02:29,  8.82s/it]\u001b[A\n",
      " 20%|██        | 4/20 [00:34<02:16,  8.51s/it]\u001b[A\n",
      " 25%|██▌       | 5/20 [00:42<02:00,  8.04s/it]\u001b[A\n",
      " 30%|███       | 6/20 [00:49<01:48,  7.76s/it]\u001b[A\n",
      " 35%|███▌      | 7/20 [00:56<01:37,  7.47s/it]\u001b[A\n",
      " 40%|████      | 8/20 [01:02<01:23,  7.00s/it]\u001b[A\n",
      " 45%|████▌     | 9/20 [01:07<01:11,  6.52s/it]\u001b[A\n",
      " 50%|█████     | 10/20 [01:13<01:02,  6.30s/it]\u001b[A\n",
      " 55%|█████▌    | 11/20 [01:18<00:52,  5.82s/it]\u001b[A\n",
      " 60%|██████    | 12/20 [01:22<00:42,  5.34s/it]\u001b[A\n",
      " 65%|██████▌   | 13/20 [01:26<00:34,  4.90s/it]\u001b[A\n",
      " 70%|███████   | 14/20 [01:30<00:28,  4.71s/it]\u001b[A\n",
      " 75%|███████▌  | 15/20 [01:33<00:21,  4.21s/it]\u001b[A\n",
      " 80%|████████  | 16/20 [01:36<00:14,  3.74s/it]\u001b[A\n",
      " 85%|████████▌ | 17/20 [01:38<00:09,  3.29s/it]\u001b[A\n",
      " 90%|█████████ | 18/20 [01:40<00:05,  2.85s/it]\u001b[A\n",
      " 95%|█████████▌| 19/20 [01:41<00:02,  2.42s/it]\u001b[A\n",
      "100%|██████████| 20/20 [01:42<00:00,  5.13s/it]\u001b[A\n"
     ]
    },
    {
     "name": "stdout",
     "output_type": "stream",
     "text": [
      "generator loss:0.9082636688472412\n",
      "-----------------------\n"
     ]
    },
    {
     "name": "stderr",
     "output_type": "stream",
     "text": [
      "28it [52:59, 111.31s/it]\n",
      "  0%|          | 0/20 [00:00<?, ?it/s]\u001b[A"
     ]
    },
    {
     "name": "stdout",
     "output_type": "stream",
     "text": [
      "total discriminator loss:0.6932008451185234\n",
      "-----------------------\n",
      "Training Step: 29\n"
     ]
    },
    {
     "name": "stderr",
     "output_type": "stream",
     "text": [
      "\n",
      "  5%|▌         | 1/20 [00:09<02:55,  9.22s/it]\u001b[A\n",
      " 10%|█         | 2/20 [00:18<02:41,  8.97s/it]\u001b[A\n",
      " 15%|█▌        | 3/20 [00:26<02:27,  8.65s/it]\u001b[A\n",
      " 20%|██        | 4/20 [00:34<02:14,  8.43s/it]\u001b[A\n",
      " 25%|██▌       | 5/20 [00:41<02:01,  8.11s/it]\u001b[A\n",
      " 30%|███       | 6/20 [00:49<01:49,  7.82s/it]\u001b[A\n",
      " 35%|███▌      | 7/20 [00:55<01:35,  7.35s/it]\u001b[A\n",
      " 40%|████      | 8/20 [01:02<01:25,  7.13s/it]\u001b[A\n",
      " 45%|████▌     | 9/20 [01:07<01:12,  6.62s/it]\u001b[A\n",
      " 50%|█████     | 10/20 [01:12<01:01,  6.18s/it]\u001b[A\n",
      " 55%|█████▌    | 11/20 [01:18<00:53,  5.97s/it]\u001b[A\n",
      " 60%|██████    | 12/20 [01:22<00:43,  5.44s/it]\u001b[A\n",
      " 65%|██████▌   | 13/20 [01:26<00:34,  4.96s/it]\u001b[A\n",
      " 70%|███████   | 14/20 [01:29<00:27,  4.50s/it]\u001b[A\n",
      " 75%|███████▌  | 15/20 [01:32<00:20,  4.06s/it]\u001b[A\n",
      " 80%|████████  | 16/20 [01:35<00:14,  3.62s/it]\u001b[A\n",
      " 85%|████████▌ | 17/20 [01:38<00:10,  3.47s/it]\u001b[A\n",
      " 90%|█████████ | 18/20 [01:40<00:05,  2.97s/it]\u001b[A\n",
      " 95%|█████████▌| 19/20 [01:41<00:02,  2.49s/it]\u001b[A\n",
      "100%|██████████| 20/20 [01:42<00:00,  5.14s/it]\u001b[A\n"
     ]
    },
    {
     "name": "stdout",
     "output_type": "stream",
     "text": [
      "generator loss:0.8919599762927817\n",
      "-----------------------\n"
     ]
    },
    {
     "name": "stderr",
     "output_type": "stream",
     "text": [
      "29it [54:51, 111.40s/it]\n",
      "  0%|          | 0/20 [00:00<?, ?it/s]\u001b[A"
     ]
    },
    {
     "name": "stdout",
     "output_type": "stream",
     "text": [
      "total discriminator loss:0.6931989580578668\n",
      "-----------------------\n",
      "Training Step: 30\n"
     ]
    },
    {
     "name": "stderr",
     "output_type": "stream",
     "text": [
      "\n",
      "  5%|▌         | 1/20 [00:08<02:48,  8.87s/it]\u001b[A\n",
      " 10%|█         | 2/20 [00:17<02:34,  8.61s/it]\u001b[A\n",
      " 15%|█▌        | 3/20 [00:25<02:25,  8.53s/it]\u001b[A\n",
      " 20%|██        | 4/20 [00:33<02:12,  8.29s/it]\u001b[A\n",
      " 25%|██▌       | 5/20 [00:40<01:58,  7.87s/it]\u001b[A\n",
      " 30%|███       | 6/20 [00:47<01:46,  7.61s/it]\u001b[A\n",
      " 35%|███▌      | 7/20 [00:54<01:35,  7.35s/it]\u001b[A\n",
      " 40%|████      | 8/20 [01:00<01:23,  6.92s/it]\u001b[A\n",
      " 45%|████▌     | 9/20 [01:06<01:11,  6.46s/it]\u001b[A\n",
      " 50%|█████     | 10/20 [01:11<01:02,  6.26s/it]\u001b[A\n",
      " 55%|█████▌    | 11/20 [01:16<00:52,  5.78s/it]\u001b[A\n",
      " 60%|██████    | 12/20 [01:20<00:42,  5.31s/it]\u001b[A\n",
      " 65%|██████▌   | 13/20 [01:25<00:35,  5.11s/it]\u001b[A\n",
      " 70%|███████   | 14/20 [01:28<00:27,  4.59s/it]\u001b[A\n",
      " 75%|███████▌  | 15/20 [01:31<00:20,  4.11s/it]\u001b[A\n",
      " 80%|████████  | 16/20 [01:34<00:14,  3.65s/it]\u001b[A\n",
      " 85%|████████▌ | 17/20 [01:36<00:09,  3.23s/it]\u001b[A\n",
      " 90%|█████████ | 18/20 [01:38<00:05,  2.81s/it]\u001b[A\n",
      " 95%|█████████▌| 19/20 [01:39<00:02,  2.39s/it]\u001b[A\n",
      "100%|██████████| 20/20 [01:40<00:00,  5.05s/it]\u001b[A\n"
     ]
    },
    {
     "name": "stdout",
     "output_type": "stream",
     "text": [
      "generator loss:0.9079141811553534\n",
      "-----------------------\n"
     ]
    },
    {
     "name": "stderr",
     "output_type": "stream",
     "text": [
      "30it [56:41, 110.89s/it]\n",
      "  0%|          | 0/20 [00:00<?, ?it/s]\u001b[A"
     ]
    },
    {
     "name": "stdout",
     "output_type": "stream",
     "text": [
      "total discriminator loss:0.6932007655551501\n",
      "-----------------------\n",
      "Training Step: 31\n"
     ]
    },
    {
     "name": "stderr",
     "output_type": "stream",
     "text": [
      "\n",
      "  5%|▌         | 1/20 [00:09<02:52,  9.07s/it]\u001b[A\n",
      " 10%|█         | 2/20 [00:17<02:39,  8.89s/it]\u001b[A\n",
      " 15%|█▌        | 3/20 [00:25<02:24,  8.53s/it]\u001b[A\n",
      " 20%|██        | 4/20 [00:34<02:14,  8.42s/it]\u001b[A\n",
      " 25%|██▌       | 5/20 [00:41<01:59,  7.96s/it]\u001b[A\n",
      " 30%|███       | 6/20 [00:48<01:47,  7.67s/it]\u001b[A\n",
      " 35%|███▌      | 7/20 [00:54<01:33,  7.21s/it]\u001b[A\n",
      " 40%|████      | 8/20 [01:01<01:23,  6.99s/it]\u001b[A\n",
      " 45%|████▌     | 9/20 [01:06<01:11,  6.50s/it]\u001b[A\n",
      " 50%|█████     | 10/20 [01:12<01:03,  6.31s/it]\u001b[A\n",
      " 55%|█████▌    | 11/20 [01:17<00:52,  5.85s/it]\u001b[A\n",
      " 60%|██████    | 12/20 [01:21<00:42,  5.36s/it]\u001b[A\n",
      " 65%|██████▌   | 13/20 [01:25<00:34,  4.90s/it]\u001b[A\n",
      " 70%|███████   | 14/20 [01:28<00:26,  4.46s/it]\u001b[A\n",
      " 75%|███████▌  | 15/20 [01:32<00:21,  4.29s/it]\u001b[A\n",
      " 80%|████████  | 16/20 [01:35<00:15,  3.79s/it]\u001b[A\n",
      " 85%|████████▌ | 17/20 [01:37<00:09,  3.32s/it]\u001b[A\n",
      " 90%|█████████ | 18/20 [01:39<00:05,  2.86s/it]\u001b[A\n",
      " 95%|█████████▌| 19/20 [01:40<00:02,  2.43s/it]\u001b[A\n",
      "100%|██████████| 20/20 [01:41<00:00,  5.09s/it]\u001b[A\n"
     ]
    },
    {
     "name": "stdout",
     "output_type": "stream",
     "text": [
      "generator loss:0.892356369859956\n",
      "-----------------------\n"
     ]
    },
    {
     "name": "stderr",
     "output_type": "stream",
     "text": [
      "31it [58:31, 110.80s/it]\n",
      "  0%|          | 0/20 [00:00<?, ?it/s]\u001b[A"
     ]
    },
    {
     "name": "stdout",
     "output_type": "stream",
     "text": [
      "total discriminator loss:0.6931979066961862\n",
      "-----------------------\n",
      "Training Step: 32\n"
     ]
    },
    {
     "name": "stderr",
     "output_type": "stream",
     "text": [
      "\n",
      "  5%|▌         | 1/20 [00:08<02:47,  8.80s/it]\u001b[A\n",
      " 10%|█         | 2/20 [00:17<02:38,  8.79s/it]\u001b[A\n",
      " 15%|█▌        | 3/20 [00:25<02:26,  8.62s/it]\u001b[A\n",
      " 20%|██        | 4/20 [00:33<02:13,  8.37s/it]\u001b[A\n",
      " 25%|██▌       | 5/20 [00:41<02:01,  8.07s/it]\u001b[A\n",
      " 30%|███       | 6/20 [00:48<01:46,  7.61s/it]\u001b[A\n",
      " 35%|███▌      | 7/20 [00:55<01:35,  7.37s/it]\u001b[A\n",
      " 40%|████      | 8/20 [01:01<01:23,  6.92s/it]\u001b[A\n",
      " 45%|████▌     | 9/20 [01:07<01:13,  6.68s/it]\u001b[A\n",
      " 50%|█████     | 10/20 [01:12<01:02,  6.23s/it]\u001b[A\n",
      " 55%|█████▌    | 11/20 [01:17<00:52,  5.78s/it]\u001b[A\n",
      " 60%|██████    | 12/20 [01:21<00:42,  5.33s/it]\u001b[A\n",
      " 65%|██████▌   | 13/20 [01:26<00:36,  5.14s/it]\u001b[A\n",
      " 70%|███████   | 14/20 [01:29<00:27,  4.64s/it]\u001b[A\n",
      " 75%|███████▌  | 15/20 [01:32<00:20,  4.15s/it]\u001b[A\n",
      " 80%|████████  | 16/20 [01:35<00:14,  3.69s/it]\u001b[A\n",
      " 85%|████████▌ | 17/20 [01:37<00:09,  3.25s/it]\u001b[A\n",
      " 90%|█████████ | 18/20 [01:39<00:05,  2.82s/it]\u001b[A\n",
      " 95%|█████████▌| 19/20 [01:40<00:02,  2.40s/it]\u001b[A\n",
      "100%|██████████| 20/20 [01:41<00:00,  5.09s/it]\u001b[A\n"
     ]
    },
    {
     "name": "stdout",
     "output_type": "stream",
     "text": [
      "generator loss:0.9079265936887857\n",
      "-----------------------\n"
     ]
    },
    {
     "name": "stderr",
     "output_type": "stream",
     "text": [
      "32it [1:00:22, 110.71s/it]\n",
      "  0%|          | 0/20 [00:00<?, ?it/s]\u001b[A"
     ]
    },
    {
     "name": "stdout",
     "output_type": "stream",
     "text": [
      "total discriminator loss:0.6932048315803446\n",
      "-----------------------\n",
      "Training Step: 33\n"
     ]
    },
    {
     "name": "stderr",
     "output_type": "stream",
     "text": [
      "\n",
      "  5%|▌         | 1/20 [00:09<02:53,  9.11s/it]\u001b[A\n",
      " 10%|█         | 2/20 [00:17<02:40,  8.93s/it]\u001b[A\n",
      " 15%|█▌        | 3/20 [00:26<02:28,  8.74s/it]\u001b[A\n",
      " 20%|██        | 4/20 [00:34<02:15,  8.44s/it]\u001b[A\n",
      " 25%|██▌       | 5/20 [00:41<02:00,  8.01s/it]\u001b[A\n",
      " 30%|███       | 6/20 [00:48<01:48,  7.72s/it]\u001b[A\n",
      " 35%|███▌      | 7/20 [00:55<01:36,  7.41s/it]\u001b[A\n",
      " 40%|████      | 8/20 [01:01<01:23,  6.95s/it]\u001b[A\n",
      " 45%|████▌     | 9/20 [01:06<01:11,  6.48s/it]\u001b[A\n",
      " 50%|█████     | 10/20 [01:12<01:02,  6.27s/it]\u001b[A\n",
      " 55%|█████▌    | 11/20 [01:17<00:52,  5.81s/it]\u001b[A\n",
      " 60%|██████    | 12/20 [01:21<00:42,  5.34s/it]\u001b[A\n",
      " 65%|██████▌   | 13/20 [01:25<00:34,  4.89s/it]\u001b[A\n",
      " 70%|███████   | 14/20 [01:29<00:28,  4.71s/it]\u001b[A\n",
      " 75%|███████▌  | 15/20 [01:32<00:20,  4.20s/it]\u001b[A\n",
      " 80%|████████  | 16/20 [01:35<00:14,  3.71s/it]\u001b[A\n",
      " 85%|████████▌ | 17/20 [01:37<00:09,  3.26s/it]\u001b[A\n",
      " 90%|█████████ | 18/20 [01:39<00:05,  2.81s/it]\u001b[A\n",
      " 95%|█████████▌| 19/20 [01:40<00:02,  2.38s/it]\u001b[A\n",
      "100%|██████████| 20/20 [01:41<00:00,  5.10s/it]\u001b[A\n"
     ]
    },
    {
     "name": "stdout",
     "output_type": "stream",
     "text": [
      "generator loss:0.8905337433603797\n",
      "-----------------------\n"
     ]
    },
    {
     "name": "stderr",
     "output_type": "stream",
     "text": [
      "33it [1:02:12, 110.70s/it]\n",
      "  0%|          | 0/20 [00:00<?, ?it/s]\u001b[A"
     ]
    },
    {
     "name": "stdout",
     "output_type": "stream",
     "text": [
      "total discriminator loss:0.6932048166348705\n",
      "-----------------------\n",
      "Training Step: 34\n"
     ]
    },
    {
     "name": "stderr",
     "output_type": "stream",
     "text": [
      "\n",
      "  5%|▌         | 1/20 [00:09<02:51,  9.01s/it]\u001b[A\n",
      " 10%|█         | 2/20 [00:17<02:40,  8.92s/it]\u001b[A\n",
      " 15%|█▌        | 3/20 [00:26<02:28,  8.75s/it]\u001b[A\n",
      " 20%|██        | 4/20 [00:34<02:15,  8.48s/it]\u001b[A\n",
      " 25%|██▌       | 5/20 [00:41<02:00,  8.04s/it]\u001b[A\n",
      " 30%|███       | 6/20 [00:49<01:48,  7.78s/it]\u001b[A\n",
      " 35%|███▌      | 7/20 [00:55<01:37,  7.51s/it]\u001b[A\n",
      " 40%|████      | 8/20 [01:01<01:24,  7.02s/it]\u001b[A\n",
      " 45%|████▌     | 9/20 [01:07<01:12,  6.55s/it]\u001b[A\n",
      " 50%|█████     | 10/20 [01:13<01:03,  6.32s/it]\u001b[A\n",
      " 55%|█████▌    | 11/20 [01:18<00:52,  5.84s/it]\u001b[A\n",
      " 60%|██████    | 12/20 [01:22<00:42,  5.37s/it]\u001b[A\n",
      " 65%|██████▌   | 13/20 [01:26<00:34,  4.90s/it]\u001b[A\n",
      " 70%|███████   | 14/20 [01:30<00:28,  4.71s/it]\u001b[A\n",
      " 75%|███████▌  | 15/20 [01:33<00:21,  4.21s/it]\u001b[A\n",
      " 80%|████████  | 16/20 [01:36<00:14,  3.75s/it]\u001b[A\n",
      " 85%|████████▌ | 17/20 [01:38<00:09,  3.29s/it]\u001b[A\n",
      " 90%|█████████ | 18/20 [01:40<00:05,  2.85s/it]\u001b[A\n",
      " 95%|█████████▌| 19/20 [01:41<00:02,  2.41s/it]\u001b[A\n",
      "100%|██████████| 20/20 [01:42<00:00,  5.13s/it]\u001b[A\n"
     ]
    },
    {
     "name": "stdout",
     "output_type": "stream",
     "text": [
      "generator loss:0.9083350582399191\n",
      "-----------------------\n"
     ]
    },
    {
     "name": "stderr",
     "output_type": "stream",
     "text": [
      "34it [1:04:04, 110.81s/it]\n",
      "  0%|          | 0/20 [00:00<?, ?it/s]\u001b[A"
     ]
    },
    {
     "name": "stdout",
     "output_type": "stream",
     "text": [
      "total discriminator loss:0.6931980689742868\n",
      "-----------------------\n",
      "Training Step: 35\n"
     ]
    },
    {
     "name": "stderr",
     "output_type": "stream",
     "text": [
      "\n",
      "  5%|▌         | 1/20 [00:09<02:54,  9.17s/it]\u001b[A\n",
      " 10%|█         | 2/20 [00:17<02:40,  8.94s/it]\u001b[A\n",
      " 15%|█▌        | 3/20 [00:26<02:26,  8.60s/it]\u001b[A\n",
      " 20%|██        | 4/20 [00:34<02:14,  8.38s/it]\u001b[A\n",
      " 25%|██▌       | 5/20 [00:41<02:01,  8.11s/it]\u001b[A\n",
      " 30%|███       | 6/20 [00:49<01:49,  7.81s/it]\u001b[A\n",
      " 35%|███▌      | 7/20 [00:55<01:34,  7.30s/it]\u001b[A\n",
      " 40%|████      | 8/20 [01:01<01:25,  7.09s/it]\u001b[A\n",
      " 45%|████▌     | 9/20 [01:07<01:12,  6.57s/it]\u001b[A\n",
      " 50%|█████     | 10/20 [01:12<01:01,  6.14s/it]\u001b[A\n",
      " 55%|█████▌    | 11/20 [01:18<00:53,  5.93s/it]\u001b[A\n",
      " 60%|██████    | 12/20 [01:22<00:43,  5.44s/it]\u001b[A\n",
      " 65%|██████▌   | 13/20 [01:26<00:34,  4.98s/it]\u001b[A\n",
      " 70%|███████   | 14/20 [01:29<00:27,  4.53s/it]\u001b[A\n",
      " 75%|███████▌  | 15/20 [01:32<00:20,  4.09s/it]\u001b[A\n",
      " 80%|████████  | 16/20 [01:35<00:14,  3.65s/it]\u001b[A\n",
      " 85%|████████▌ | 17/20 [01:38<00:10,  3.49s/it]\u001b[A\n",
      " 90%|█████████ | 18/20 [01:40<00:05,  2.99s/it]\u001b[A\n",
      " 95%|█████████▌| 19/20 [01:41<00:02,  2.52s/it]\u001b[A\n",
      "100%|██████████| 20/20 [01:42<00:00,  5.14s/it]\u001b[A\n"
     ]
    },
    {
     "name": "stdout",
     "output_type": "stream",
     "text": [
      "generator loss:0.8917925514093357\n",
      "-----------------------\n"
     ]
    },
    {
     "name": "stderr",
     "output_type": "stream",
     "text": [
      "35it [1:05:55, 111.05s/it]\n",
      "  0%|          | 0/20 [00:00<?, ?it/s]\u001b[A"
     ]
    },
    {
     "name": "stdout",
     "output_type": "stream",
     "text": [
      "total discriminator loss:0.6931980743092081\n",
      "-----------------------\n",
      "Training Step: 36\n"
     ]
    },
    {
     "name": "stderr",
     "output_type": "stream",
     "text": [
      "\n",
      "  5%|▌         | 1/20 [00:08<02:50,  8.97s/it]\u001b[A\n",
      " 10%|█         | 2/20 [00:17<02:36,  8.69s/it]\u001b[A\n",
      " 15%|█▌        | 3/20 [00:26<02:27,  8.66s/it]\u001b[A\n",
      " 20%|██        | 4/20 [00:34<02:14,  8.42s/it]\u001b[A\n",
      " 25%|██▌       | 5/20 [00:41<02:02,  8.14s/it]\u001b[A\n",
      " 30%|███       | 6/20 [00:48<01:47,  7.66s/it]\u001b[A\n",
      " 35%|███▌      | 7/20 [00:55<01:36,  7.39s/it]\u001b[A\n",
      " 40%|████      | 8/20 [01:01<01:23,  6.94s/it]\u001b[A\n",
      " 45%|████▌     | 9/20 [01:07<01:13,  6.69s/it]\u001b[A\n",
      " 50%|█████     | 10/20 [01:12<01:02,  6.24s/it]\u001b[A\n",
      " 55%|█████▌    | 11/20 [01:17<00:52,  5.79s/it]\u001b[A\n",
      " 60%|██████    | 12/20 [01:21<00:42,  5.32s/it]\u001b[A\n",
      " 65%|██████▌   | 13/20 [01:26<00:35,  5.12s/it]\u001b[A\n",
      " 70%|███████   | 14/20 [01:29<00:27,  4.61s/it]\u001b[A\n",
      " 75%|███████▌  | 15/20 [01:32<00:20,  4.13s/it]\u001b[A\n",
      " 80%|████████  | 16/20 [01:35<00:14,  3.68s/it]\u001b[A\n",
      " 85%|████████▌ | 17/20 [01:37<00:09,  3.24s/it]\u001b[A\n",
      " 90%|█████████ | 18/20 [01:39<00:05,  2.82s/it]\u001b[A\n",
      " 95%|█████████▌| 19/20 [01:40<00:02,  2.39s/it]\u001b[A\n",
      "100%|██████████| 20/20 [01:41<00:00,  5.09s/it]\u001b[A\n"
     ]
    },
    {
     "name": "stdout",
     "output_type": "stream",
     "text": [
      "generator loss:0.9069407329309531\n",
      "-----------------------\n"
     ]
    },
    {
     "name": "stderr",
     "output_type": "stream",
     "text": [
      "36it [1:07:46, 110.88s/it]\n",
      "  0%|          | 0/20 [00:00<?, ?it/s]\u001b[A"
     ]
    },
    {
     "name": "stdout",
     "output_type": "stream",
     "text": [
      "total discriminator loss:0.6931989777201479\n",
      "-----------------------\n",
      "Training Step: 37\n"
     ]
    },
    {
     "name": "stderr",
     "output_type": "stream",
     "text": [
      "\n",
      "  5%|▌         | 1/20 [00:09<02:57,  9.35s/it]\u001b[A\n",
      " 10%|█         | 2/20 [00:18<02:44,  9.13s/it]\u001b[A\n",
      " 15%|█▌        | 3/20 [00:26<02:28,  8.72s/it]\u001b[A\n",
      " 20%|██        | 4/20 [00:34<02:15,  8.44s/it]\u001b[A\n",
      " 25%|██▌       | 5/20 [00:42<02:01,  8.13s/it]\u001b[A\n",
      " 30%|███       | 6/20 [00:49<01:49,  7.83s/it]\u001b[A\n",
      " 35%|███▌      | 7/20 [00:55<01:35,  7.34s/it]\u001b[A\n",
      " 40%|████      | 8/20 [01:02<01:24,  7.08s/it]\u001b[A\n",
      " 45%|████▌     | 9/20 [01:07<01:12,  6.58s/it]\u001b[A\n",
      " 50%|█████     | 10/20 [01:13<01:03,  6.39s/it]\u001b[A\n",
      " 55%|█████▌    | 11/20 [01:18<00:53,  5.89s/it]\u001b[A\n",
      " 60%|██████    | 12/20 [01:22<00:43,  5.41s/it]\u001b[A\n",
      " 65%|██████▌   | 13/20 [01:26<00:34,  4.94s/it]\u001b[A\n",
      " 70%|███████   | 14/20 [01:30<00:26,  4.49s/it]\u001b[A\n",
      " 75%|███████▌  | 15/20 [01:34<00:21,  4.32s/it]\u001b[A\n",
      " 80%|████████  | 16/20 [01:36<00:15,  3.82s/it]\u001b[A\n",
      " 85%|████████▌ | 17/20 [01:38<00:10,  3.35s/it]\u001b[A\n",
      " 90%|█████████ | 18/20 [01:40<00:05,  2.89s/it]\u001b[A\n",
      " 95%|█████████▌| 19/20 [01:42<00:02,  2.44s/it]\u001b[A\n",
      "100%|██████████| 20/20 [01:43<00:00,  5.16s/it]\u001b[A\n"
     ]
    },
    {
     "name": "stdout",
     "output_type": "stream",
     "text": [
      "generator loss:0.8916812657443025\n",
      "-----------------------\n"
     ]
    },
    {
     "name": "stderr",
     "output_type": "stream",
     "text": [
      "37it [1:09:37, 111.15s/it]\n",
      "  0%|          | 0/20 [00:00<?, ?it/s]\u001b[A"
     ]
    },
    {
     "name": "stdout",
     "output_type": "stream",
     "text": [
      "total discriminator loss:0.6932094300195548\n",
      "-----------------------\n",
      "Training Step: 38\n"
     ]
    },
    {
     "name": "stderr",
     "output_type": "stream",
     "text": [
      "\n",
      "  5%|▌         | 1/20 [00:08<02:49,  8.89s/it]\u001b[A\n",
      " 10%|█         | 2/20 [00:17<02:39,  8.88s/it]\u001b[A\n",
      " 15%|█▌        | 3/20 [00:26<02:26,  8.61s/it]\u001b[A\n",
      " 20%|██        | 4/20 [00:34<02:13,  8.35s/it]\u001b[A\n",
      " 25%|██▌       | 5/20 [00:41<02:01,  8.11s/it]\u001b[A\n",
      " 30%|███       | 6/20 [00:48<01:49,  7.81s/it]\u001b[A\n",
      " 35%|███▌      | 7/20 [00:55<01:34,  7.30s/it]\u001b[A\n",
      " 40%|████      | 8/20 [01:01<01:24,  7.06s/it]\u001b[A\n",
      " 45%|████▌     | 9/20 [01:07<01:12,  6.57s/it]\u001b[A\n",
      " 50%|█████     | 10/20 [01:12<01:01,  6.15s/it]\u001b[A\n",
      " 55%|█████▌    | 11/20 [01:17<00:53,  5.93s/it]\u001b[A\n",
      " 60%|██████    | 12/20 [01:22<00:43,  5.42s/it]\u001b[A\n",
      " 65%|██████▌   | 13/20 [01:25<00:34,  4.95s/it]\u001b[A\n",
      " 70%|███████   | 14/20 [01:29<00:26,  4.49s/it]\u001b[A\n",
      " 75%|███████▌  | 15/20 [01:32<00:20,  4.04s/it]\u001b[A\n",
      " 80%|████████  | 16/20 [01:34<00:14,  3.60s/it]\u001b[A\n",
      " 85%|████████▌ | 17/20 [01:38<00:10,  3.44s/it]\u001b[A\n",
      " 90%|█████████ | 18/20 [01:39<00:05,  2.95s/it]\u001b[A\n",
      " 95%|█████████▌| 19/20 [01:41<00:02,  2.48s/it]\u001b[A\n",
      "100%|██████████| 20/20 [01:42<00:00,  5.11s/it]\u001b[A\n"
     ]
    },
    {
     "name": "stdout",
     "output_type": "stream",
     "text": [
      "generator loss:0.9074830123582229\n",
      "-----------------------\n"
     ]
    },
    {
     "name": "stderr",
     "output_type": "stream",
     "text": [
      "38it [1:11:28, 111.03s/it]\n",
      "  0%|          | 0/20 [00:00<?, ?it/s]\u001b[A"
     ]
    },
    {
     "name": "stdout",
     "output_type": "stream",
     "text": [
      "total discriminator loss:0.6932059348367072\n",
      "-----------------------\n",
      "Training Step: 39\n"
     ]
    },
    {
     "name": "stderr",
     "output_type": "stream",
     "text": [
      "\n",
      "  5%|▌         | 1/20 [00:08<02:47,  8.84s/it]\u001b[A\n",
      " 10%|█         | 2/20 [00:17<02:34,  8.56s/it]\u001b[A\n",
      " 15%|█▌        | 3/20 [00:25<02:24,  8.48s/it]\u001b[A\n",
      " 20%|██        | 4/20 [00:33<02:12,  8.26s/it]\u001b[A\n",
      " 25%|██▌       | 5/20 [00:41<01:59,  7.99s/it]\u001b[A\n",
      " 30%|███       | 6/20 [00:47<01:45,  7.55s/it]\u001b[A\n",
      " 35%|███▌      | 7/20 [00:54<01:35,  7.32s/it]\u001b[A\n",
      " 40%|████      | 8/20 [01:00<01:22,  6.88s/it]\u001b[A\n",
      " 45%|████▌     | 9/20 [01:06<01:13,  6.66s/it]\u001b[A\n",
      " 50%|█████     | 10/20 [01:11<01:02,  6.24s/it]\u001b[A\n",
      " 55%|█████▌    | 11/20 [01:16<00:52,  5.80s/it]\u001b[A\n",
      " 60%|██████    | 12/20 [01:21<00:42,  5.35s/it]\u001b[A\n",
      " 65%|██████▌   | 13/20 [01:25<00:36,  5.15s/it]\u001b[A\n",
      " 70%|███████   | 14/20 [01:29<00:28,  4.67s/it]\u001b[A\n",
      " 75%|███████▌  | 15/20 [01:32<00:20,  4.20s/it]\u001b[A\n",
      " 80%|████████  | 16/20 [01:35<00:14,  3.73s/it]\u001b[A\n",
      " 85%|████████▌ | 17/20 [01:37<00:09,  3.29s/it]\u001b[A\n",
      " 90%|█████████ | 18/20 [01:39<00:05,  2.85s/it]\u001b[A\n",
      " 95%|█████████▌| 19/20 [01:40<00:02,  2.42s/it]\u001b[A\n",
      "100%|██████████| 20/20 [01:41<00:00,  5.08s/it]\u001b[A\n"
     ]
    },
    {
     "name": "stdout",
     "output_type": "stream",
     "text": [
      "generator loss:0.8920550637180428\n",
      "-----------------------\n"
     ]
    },
    {
     "name": "stderr",
     "output_type": "stream",
     "text": [
      "39it [1:13:18, 110.76s/it]\n",
      "  0%|          | 0/20 [00:00<?, ?it/s]\u001b[A"
     ]
    },
    {
     "name": "stdout",
     "output_type": "stream",
     "text": [
      "total discriminator loss:0.6931920199893581\n",
      "-----------------------\n",
      "Training Step: 40\n"
     ]
    },
    {
     "name": "stderr",
     "output_type": "stream",
     "text": [
      "\n",
      "  5%|▌         | 1/20 [00:09<02:55,  9.25s/it]\u001b[A\n",
      " 10%|█         | 2/20 [00:18<02:41,  8.96s/it]\u001b[A\n",
      " 15%|█▌        | 3/20 [00:26<02:25,  8.58s/it]\u001b[A\n",
      " 20%|██        | 4/20 [00:34<02:12,  8.30s/it]\u001b[A\n",
      " 25%|██▌       | 5/20 [00:41<02:00,  8.00s/it]\u001b[A\n",
      " 30%|███       | 6/20 [00:48<01:47,  7.70s/it]\u001b[A\n",
      " 35%|███▌      | 7/20 [00:54<01:33,  7.22s/it]\u001b[A\n",
      " 40%|████      | 8/20 [01:01<01:24,  7.02s/it]\u001b[A\n",
      " 45%|████▌     | 9/20 [01:06<01:11,  6.53s/it]\u001b[A\n",
      " 50%|█████     | 10/20 [01:12<01:01,  6.10s/it]\u001b[A\n",
      " 55%|█████▌    | 11/20 [01:17<00:53,  5.91s/it]\u001b[A\n",
      " 60%|██████    | 12/20 [01:21<00:43,  5.41s/it]\u001b[A\n",
      " 65%|██████▌   | 13/20 [01:25<00:34,  4.93s/it]\u001b[A\n",
      " 70%|███████   | 14/20 [01:28<00:26,  4.47s/it]\u001b[A\n",
      " 75%|███████▌  | 15/20 [01:32<00:20,  4.04s/it]\u001b[A\n",
      " 80%|████████  | 16/20 [01:35<00:15,  3.89s/it]\u001b[A\n",
      " 85%|████████▌ | 17/20 [01:37<00:10,  3.38s/it]\u001b[A\n",
      " 90%|█████████ | 18/20 [01:39<00:05,  2.92s/it]\u001b[A\n",
      " 95%|█████████▌| 19/20 [01:41<00:02,  2.47s/it]\u001b[A\n",
      "100%|██████████| 20/20 [01:42<00:00,  5.10s/it]\u001b[A\n"
     ]
    },
    {
     "name": "stdout",
     "output_type": "stream",
     "text": [
      "generator loss:0.9076403076870608\n",
      "-----------------------\n"
     ]
    },
    {
     "name": "stderr",
     "output_type": "stream",
     "text": [
      "40it [1:15:09, 110.67s/it]\n",
      "  0%|          | 0/20 [00:00<?, ?it/s]\u001b[A"
     ]
    },
    {
     "name": "stdout",
     "output_type": "stream",
     "text": [
      "total discriminator loss:0.6931940839904881\n",
      "-----------------------\n",
      "Training Step: 41\n"
     ]
    },
    {
     "name": "stderr",
     "output_type": "stream",
     "text": [
      "\n",
      "  5%|▌         | 1/20 [00:08<02:47,  8.80s/it]\u001b[A\n",
      " 10%|█         | 2/20 [00:17<02:36,  8.70s/it]\u001b[A\n",
      " 15%|█▌        | 3/20 [00:25<02:26,  8.61s/it]\u001b[A\n",
      " 20%|██        | 4/20 [00:33<02:13,  8.35s/it]\u001b[A\n",
      " 25%|██▌       | 5/20 [00:41<01:58,  7.91s/it]\u001b[A\n",
      " 30%|███       | 6/20 [00:48<01:47,  7.65s/it]\u001b[A\n",
      " 35%|███▌      | 7/20 [00:54<01:33,  7.20s/it]\u001b[A\n",
      " 40%|████      | 8/20 [01:00<01:23,  6.98s/it]\u001b[A\n",
      " 45%|████▌     | 9/20 [01:06<01:11,  6.50s/it]\u001b[A\n",
      " 50%|█████     | 10/20 [01:12<01:02,  6.29s/it]\u001b[A\n",
      " 55%|█████▌    | 11/20 [01:16<00:52,  5.80s/it]\u001b[A\n",
      " 60%|██████    | 12/20 [01:21<00:42,  5.33s/it]\u001b[A\n",
      " 65%|██████▌   | 13/20 [01:24<00:34,  4.87s/it]\u001b[A\n",
      " 70%|███████   | 14/20 [01:29<00:28,  4.70s/it]\u001b[A\n",
      " 75%|███████▌  | 15/20 [01:32<00:21,  4.20s/it]\u001b[A\n",
      " 80%|████████  | 16/20 [01:34<00:14,  3.72s/it]\u001b[A\n",
      " 85%|████████▌ | 17/20 [01:37<00:09,  3.26s/it]\u001b[A\n",
      " 90%|█████████ | 18/20 [01:38<00:05,  2.82s/it]\u001b[A\n",
      " 95%|█████████▌| 19/20 [01:40<00:02,  2.39s/it]\u001b[A\n",
      "100%|██████████| 20/20 [01:41<00:00,  5.06s/it]\u001b[A\n"
     ]
    },
    {
     "name": "stdout",
     "output_type": "stream",
     "text": [
      "generator loss:0.8920099586682486\n",
      "-----------------------\n"
     ]
    },
    {
     "name": "stderr",
     "output_type": "stream",
     "text": [
      "41it [1:16:59, 110.40s/it]\n",
      "  0%|          | 0/20 [00:00<?, ?it/s]\u001b[A"
     ]
    },
    {
     "name": "stdout",
     "output_type": "stream",
     "text": [
      "total discriminator loss:0.693195695995967\n",
      "-----------------------\n",
      "Training Step: 42\n"
     ]
    },
    {
     "name": "stderr",
     "output_type": "stream",
     "text": [
      "\n",
      "  5%|▌         | 1/20 [00:08<02:45,  8.69s/it]\u001b[A\n",
      " 10%|█         | 2/20 [00:17<02:39,  8.85s/it]\u001b[A\n",
      " 15%|█▌        | 3/20 [00:25<02:25,  8.57s/it]\u001b[A\n",
      " 20%|██        | 4/20 [00:33<02:13,  8.32s/it]\u001b[A\n",
      " 25%|██▌       | 5/20 [00:41<02:00,  8.07s/it]\u001b[A\n",
      " 30%|███       | 6/20 [00:48<01:46,  7.60s/it]\u001b[A\n",
      " 35%|███▌      | 7/20 [00:54<01:35,  7.35s/it]\u001b[A\n",
      " 40%|████      | 8/20 [01:00<01:23,  6.92s/it]\u001b[A\n",
      " 45%|████▌     | 9/20 [01:07<01:13,  6.66s/it]\u001b[A\n",
      " 50%|█████     | 10/20 [01:12<01:02,  6.21s/it]\u001b[A\n",
      " 55%|█████▌    | 11/20 [01:17<00:51,  5.76s/it]\u001b[A\n",
      " 60%|██████    | 12/20 [01:22<00:44,  5.55s/it]\u001b[A\n",
      " 65%|██████▌   | 13/20 [01:25<00:35,  5.03s/it]\u001b[A\n",
      " 70%|███████   | 14/20 [01:29<00:27,  4.55s/it]\u001b[A\n",
      " 75%|███████▌  | 15/20 [01:32<00:20,  4.11s/it]\u001b[A\n",
      " 80%|████████  | 16/20 [01:35<00:14,  3.66s/it]\u001b[A\n",
      " 85%|████████▌ | 17/20 [01:37<00:09,  3.23s/it]\u001b[A\n",
      " 90%|█████████ | 18/20 [01:39<00:05,  2.80s/it]\u001b[A\n",
      " 95%|█████████▌| 19/20 [01:41<00:02,  2.67s/it]\u001b[A\n",
      "100%|██████████| 20/20 [01:42<00:00,  5.12s/it]\u001b[A\n"
     ]
    },
    {
     "name": "stdout",
     "output_type": "stream",
     "text": [
      "generator loss:0.9078381202844248\n",
      "-----------------------\n"
     ]
    },
    {
     "name": "stderr",
     "output_type": "stream",
     "text": [
      "42it [1:18:49, 110.56s/it]\n",
      "  0%|          | 0/20 [00:00<?, ?it/s]\u001b[A"
     ]
    },
    {
     "name": "stdout",
     "output_type": "stream",
     "text": [
      "total discriminator loss:0.693196254771778\n",
      "-----------------------\n",
      "Training Step: 43\n"
     ]
    },
    {
     "name": "stderr",
     "output_type": "stream",
     "text": [
      "\n",
      "  5%|▌         | 1/20 [00:08<02:48,  8.85s/it]\u001b[A\n",
      " 10%|█         | 2/20 [00:17<02:34,  8.58s/it]\u001b[A\n",
      " 15%|█▌        | 3/20 [00:25<02:22,  8.40s/it]\u001b[A\n",
      " 20%|██        | 4/20 [00:33<02:11,  8.22s/it]\u001b[A\n",
      " 25%|██▌       | 5/20 [00:40<01:59,  7.97s/it]\u001b[A\n",
      " 30%|███       | 6/20 [00:47<01:45,  7.53s/it]\u001b[A\n",
      " 35%|███▌      | 7/20 [00:54<01:34,  7.27s/it]\u001b[A\n",
      " 40%|████      | 8/20 [01:00<01:22,  6.84s/it]\u001b[A\n",
      " 45%|████▌     | 9/20 [01:06<01:12,  6.62s/it]\u001b[A\n",
      " 50%|█████     | 10/20 [01:11<01:01,  6.15s/it]\u001b[A\n",
      " 55%|█████▌    | 11/20 [01:16<00:51,  5.71s/it]\u001b[A\n",
      " 60%|██████    | 12/20 [01:21<00:44,  5.52s/it]\u001b[A\n",
      " 65%|██████▌   | 13/20 [01:25<00:35,  5.01s/it]\u001b[A\n",
      " 70%|███████   | 14/20 [01:28<00:27,  4.53s/it]\u001b[A\n",
      " 75%|███████▌  | 15/20 [01:31<00:20,  4.09s/it]\u001b[A\n",
      " 80%|████████  | 16/20 [01:34<00:14,  3.65s/it]\u001b[A\n",
      " 85%|████████▌ | 17/20 [01:36<00:09,  3.21s/it]\u001b[A\n",
      " 90%|█████████ | 18/20 [01:38<00:05,  2.79s/it]\u001b[A\n",
      " 95%|█████████▌| 19/20 [01:39<00:02,  2.38s/it]\u001b[A\n",
      "100%|██████████| 20/20 [01:41<00:00,  5.08s/it]\u001b[A\n"
     ]
    },
    {
     "name": "stdout",
     "output_type": "stream",
     "text": [
      "generator loss:0.8920686188545426\n",
      "-----------------------\n"
     ]
    },
    {
     "name": "stderr",
     "output_type": "stream",
     "text": [
      "43it [1:20:39, 110.37s/it]\n",
      "  0%|          | 0/20 [00:00<?, ?it/s]\u001b[A"
     ]
    },
    {
     "name": "stdout",
     "output_type": "stream",
     "text": [
      "total discriminator loss:0.6931967422922686\n",
      "-----------------------\n",
      "Training Step: 44\n"
     ]
    },
    {
     "name": "stderr",
     "output_type": "stream",
     "text": [
      "\n",
      "  5%|▌         | 1/20 [00:08<02:48,  8.88s/it]\u001b[A\n",
      " 10%|█         | 2/20 [00:17<02:35,  8.61s/it]\u001b[A\n",
      " 15%|█▌        | 3/20 [00:25<02:23,  8.46s/it]\u001b[A\n",
      " 20%|██        | 4/20 [00:33<02:12,  8.30s/it]\u001b[A\n",
      " 25%|██▌       | 5/20 [00:41<02:00,  8.06s/it]\u001b[A\n",
      " 30%|███       | 6/20 [00:47<01:46,  7.60s/it]\u001b[A\n",
      " 35%|███▌      | 7/20 [00:54<01:35,  7.35s/it]\u001b[A\n",
      " 40%|████      | 8/20 [01:00<01:22,  6.92s/it]\u001b[A\n",
      " 45%|████▌     | 9/20 [01:06<01:13,  6.68s/it]\u001b[A\n",
      " 50%|█████     | 10/20 [01:12<01:02,  6.22s/it]\u001b[A\n",
      " 55%|█████▌    | 11/20 [01:16<00:51,  5.76s/it]\u001b[A\n",
      " 60%|██████    | 12/20 [01:21<00:42,  5.30s/it]\u001b[A\n",
      " 65%|██████▌   | 13/20 [01:25<00:35,  5.11s/it]\u001b[A\n",
      " 70%|███████   | 14/20 [01:29<00:27,  4.62s/it]\u001b[A\n",
      " 75%|███████▌  | 15/20 [01:32<00:20,  4.15s/it]\u001b[A\n",
      " 80%|████████  | 16/20 [01:34<00:14,  3.70s/it]\u001b[A\n",
      " 85%|████████▌ | 17/20 [01:37<00:09,  3.26s/it]\u001b[A\n",
      " 90%|█████████ | 18/20 [01:39<00:05,  2.84s/it]\u001b[A\n",
      " 95%|█████████▌| 19/20 [01:40<00:02,  2.41s/it]\u001b[A\n",
      "100%|██████████| 20/20 [01:41<00:00,  5.08s/it]\u001b[A\n"
     ]
    },
    {
     "name": "stdout",
     "output_type": "stream",
     "text": [
      "generator loss:0.9070187966259085\n",
      "-----------------------\n"
     ]
    },
    {
     "name": "stderr",
     "output_type": "stream",
     "text": [
      "44it [1:22:29, 110.23s/it]\n",
      "  0%|          | 0/20 [00:00<?, ?it/s]\u001b[A"
     ]
    },
    {
     "name": "stdout",
     "output_type": "stream",
     "text": [
      "total discriminator loss:0.6932011812423954\n",
      "-----------------------\n",
      "Training Step: 45\n"
     ]
    },
    {
     "name": "stderr",
     "output_type": "stream",
     "text": [
      "\n",
      "  5%|▌         | 1/20 [00:09<02:56,  9.28s/it]\u001b[A\n",
      " 10%|█         | 2/20 [00:18<02:42,  9.02s/it]\u001b[A\n",
      " 15%|█▌        | 3/20 [00:26<02:29,  8.78s/it]\u001b[A\n",
      " 20%|██        | 4/20 [00:34<02:15,  8.48s/it]\u001b[A\n",
      " 25%|██▌       | 5/20 [00:41<01:59,  8.00s/it]\u001b[A\n",
      " 30%|███       | 6/20 [00:48<01:48,  7.73s/it]\u001b[A\n",
      " 35%|███▌      | 7/20 [00:55<01:36,  7.46s/it]\u001b[A\n",
      " 40%|████      | 8/20 [01:01<01:23,  6.97s/it]\u001b[A\n",
      " 45%|████▌     | 9/20 [01:07<01:11,  6.48s/it]\u001b[A\n",
      " 50%|█████     | 10/20 [01:13<01:02,  6.29s/it]\u001b[A\n",
      " 55%|█████▌    | 11/20 [01:17<00:52,  5.80s/it]\u001b[A\n",
      " 60%|██████    | 12/20 [01:22<00:42,  5.34s/it]\u001b[A\n",
      " 65%|██████▌   | 13/20 [01:25<00:34,  4.87s/it]\u001b[A\n",
      " 70%|███████   | 14/20 [01:30<00:28,  4.70s/it]\u001b[A\n",
      " 75%|███████▌  | 15/20 [01:33<00:20,  4.19s/it]\u001b[A\n",
      " 80%|████████  | 16/20 [01:35<00:14,  3.71s/it]\u001b[A\n",
      " 85%|████████▌ | 17/20 [01:37<00:09,  3.25s/it]\u001b[A\n",
      " 90%|█████████ | 18/20 [01:39<00:05,  2.81s/it]\u001b[A\n",
      " 95%|█████████▌| 19/20 [01:41<00:02,  2.38s/it]\u001b[A\n",
      "100%|██████████| 20/20 [01:42<00:00,  5.10s/it]\u001b[A\n"
     ]
    },
    {
     "name": "stdout",
     "output_type": "stream",
     "text": [
      "generator loss:0.8913472442052083\n",
      "-----------------------\n"
     ]
    },
    {
     "name": "stderr",
     "output_type": "stream",
     "text": [
      "45it [1:24:20, 110.28s/it]\n",
      "  0%|          | 0/20 [00:00<?, ?it/s]\u001b[A"
     ]
    },
    {
     "name": "stdout",
     "output_type": "stream",
     "text": [
      "total discriminator loss:0.6931970477701985\n",
      "-----------------------\n",
      "Training Step: 46\n"
     ]
    },
    {
     "name": "stderr",
     "output_type": "stream",
     "text": [
      "\n",
      "  5%|▌         | 1/20 [00:08<02:48,  8.89s/it]\u001b[A\n",
      " 10%|█         | 2/20 [00:17<02:39,  8.86s/it]\u001b[A\n",
      " 15%|█▌        | 3/20 [00:26<02:27,  8.67s/it]\u001b[A\n",
      " 20%|██        | 4/20 [00:34<02:13,  8.36s/it]\u001b[A\n",
      " 25%|██▌       | 5/20 [00:41<02:00,  8.05s/it]\u001b[A\n",
      " 30%|███       | 6/20 [00:48<01:46,  7.57s/it]\u001b[A\n",
      " 35%|███▌      | 7/20 [00:54<01:35,  7.32s/it]\u001b[A\n",
      " 40%|████      | 8/20 [01:00<01:22,  6.87s/it]\u001b[A\n",
      " 45%|████▌     | 9/20 [01:07<01:13,  6.64s/it]\u001b[A\n",
      " 50%|█████     | 10/20 [01:12<01:01,  6.19s/it]\u001b[A\n",
      " 55%|█████▌    | 11/20 [01:16<00:51,  5.73s/it]\u001b[A\n",
      " 60%|██████    | 12/20 [01:21<00:42,  5.28s/it]\u001b[A\n",
      " 65%|██████▌   | 13/20 [01:25<00:35,  5.09s/it]\u001b[A\n",
      " 70%|███████   | 14/20 [01:29<00:27,  4.58s/it]\u001b[A\n",
      " 75%|███████▌  | 15/20 [01:32<00:20,  4.11s/it]\u001b[A\n",
      " 80%|████████  | 16/20 [01:34<00:14,  3.65s/it]\u001b[A\n",
      " 85%|████████▌ | 17/20 [01:37<00:09,  3.23s/it]\u001b[A\n",
      " 90%|█████████ | 18/20 [01:38<00:05,  2.79s/it]\u001b[A\n",
      " 95%|█████████▌| 19/20 [01:40<00:02,  2.37s/it]\u001b[A\n",
      "100%|██████████| 20/20 [01:41<00:00,  5.06s/it]\u001b[A\n"
     ]
    },
    {
     "name": "stdout",
     "output_type": "stream",
     "text": [
      "generator loss:0.9076857165013485\n",
      "-----------------------\n"
     ]
    },
    {
     "name": "stderr",
     "output_type": "stream",
     "text": [
      "46it [1:26:09, 110.06s/it]\n",
      "  0%|          | 0/20 [00:00<?, ?it/s]\u001b[A"
     ]
    },
    {
     "name": "stdout",
     "output_type": "stream",
     "text": [
      "total discriminator loss:0.6931978971818893\n",
      "-----------------------\n",
      "Training Step: 47\n"
     ]
    },
    {
     "name": "stderr",
     "output_type": "stream",
     "text": [
      "\n",
      "  5%|▌         | 1/20 [00:09<02:55,  9.21s/it]\u001b[A\n",
      " 10%|█         | 2/20 [00:18<02:41,  8.97s/it]\u001b[A\n",
      " 15%|█▌        | 3/20 [00:26<02:28,  8.72s/it]\u001b[A\n",
      " 20%|██        | 4/20 [00:34<02:14,  8.42s/it]\u001b[A\n",
      " 25%|██▌       | 5/20 [00:41<01:59,  7.96s/it]\u001b[A\n",
      " 30%|███       | 6/20 [00:48<01:47,  7.70s/it]\u001b[A\n",
      " 35%|███▌      | 7/20 [00:55<01:34,  7.24s/it]\u001b[A\n",
      " 40%|████      | 8/20 [01:01<01:24,  7.01s/it]\u001b[A\n",
      " 45%|████▌     | 9/20 [01:07<01:11,  6.53s/it]\u001b[A\n",
      " 50%|█████     | 10/20 [01:12<01:03,  6.31s/it]\u001b[A\n",
      " 55%|█████▌    | 11/20 [01:17<00:52,  5.81s/it]\u001b[A\n",
      " 60%|██████    | 12/20 [01:21<00:42,  5.33s/it]\u001b[A\n",
      " 65%|██████▌   | 13/20 [01:25<00:34,  4.87s/it]\u001b[A\n",
      " 70%|███████   | 14/20 [01:29<00:28,  4.69s/it]\u001b[A\n",
      " 75%|███████▌  | 15/20 [01:32<00:20,  4.20s/it]\u001b[A\n",
      " 80%|████████  | 16/20 [01:35<00:14,  3.72s/it]\u001b[A\n",
      " 85%|████████▌ | 17/20 [01:37<00:09,  3.27s/it]\u001b[A\n",
      " 90%|█████████ | 18/20 [01:39<00:05,  2.84s/it]\u001b[A\n",
      " 95%|█████████▌| 19/20 [01:40<00:02,  2.42s/it]\u001b[A\n",
      "100%|██████████| 20/20 [01:42<00:00,  5.10s/it]\u001b[A\n"
     ]
    },
    {
     "name": "stdout",
     "output_type": "stream",
     "text": [
      "generator loss:0.8905161021868748\n",
      "-----------------------\n"
     ]
    },
    {
     "name": "stderr",
     "output_type": "stream",
     "text": [
      "47it [1:28:00, 110.17s/it]\n",
      "  0%|          | 0/20 [00:00<?, ?it/s]\u001b[A"
     ]
    },
    {
     "name": "stdout",
     "output_type": "stream",
     "text": [
      "total discriminator loss:0.6931990540652455\n",
      "-----------------------\n",
      "Training Step: 48\n"
     ]
    },
    {
     "name": "stderr",
     "output_type": "stream",
     "text": [
      "\n",
      "  5%|▌         | 1/20 [00:08<02:50,  8.96s/it]\u001b[A\n",
      " 10%|█         | 2/20 [00:18<02:42,  9.01s/it]\u001b[A\n",
      " 15%|█▌        | 3/20 [00:26<02:27,  8.67s/it]\u001b[A\n",
      " 20%|██        | 4/20 [00:34<02:14,  8.42s/it]\u001b[A\n",
      " 25%|██▌       | 5/20 [00:41<02:02,  8.13s/it]\u001b[A\n",
      " 30%|███       | 6/20 [00:48<01:46,  7.64s/it]\u001b[A\n",
      " 35%|███▌      | 7/20 [00:55<01:35,  7.37s/it]\u001b[A\n",
      " 40%|████      | 8/20 [01:01<01:23,  6.92s/it]\u001b[A\n",
      " 45%|████▌     | 9/20 [01:07<01:13,  6.66s/it]\u001b[A\n",
      " 50%|█████     | 10/20 [01:12<01:01,  6.19s/it]\u001b[A\n",
      " 55%|█████▌    | 11/20 [01:17<00:51,  5.74s/it]\u001b[A\n",
      " 60%|██████    | 12/20 [01:22<00:44,  5.52s/it]\u001b[A\n",
      " 65%|██████▌   | 13/20 [01:26<00:35,  5.02s/it]\u001b[A\n",
      " 70%|███████   | 14/20 [01:29<00:27,  4.54s/it]\u001b[A\n",
      " 75%|███████▌  | 15/20 [01:32<00:20,  4.09s/it]\u001b[A\n",
      " 80%|████████  | 16/20 [01:35<00:14,  3.66s/it]\u001b[A\n",
      " 85%|████████▌ | 17/20 [01:37<00:09,  3.23s/it]\u001b[A\n",
      " 90%|█████████ | 18/20 [01:39<00:05,  2.80s/it]\u001b[A\n",
      " 95%|█████████▌| 19/20 [01:40<00:02,  2.38s/it]\u001b[A\n",
      "100%|██████████| 20/20 [01:42<00:00,  5.14s/it]\u001b[A\n"
     ]
    },
    {
     "name": "stdout",
     "output_type": "stream",
     "text": [
      "generator loss:0.9075180889823418\n",
      "-----------------------\n"
     ]
    },
    {
     "name": "stderr",
     "output_type": "stream",
     "text": [
      "48it [1:29:51, 110.47s/it]\n",
      "  0%|          | 0/20 [00:00<?, ?it/s]\u001b[A"
     ]
    },
    {
     "name": "stdout",
     "output_type": "stream",
     "text": [
      "total discriminator loss:0.6931958875612932\n",
      "-----------------------\n",
      "Training Step: 49\n"
     ]
    },
    {
     "name": "stderr",
     "output_type": "stream",
     "text": [
      "\n",
      "  5%|▌         | 1/20 [00:08<02:50,  8.96s/it]\u001b[A\n",
      " 10%|█         | 2/20 [00:17<02:35,  8.65s/it]\u001b[A\n",
      " 15%|█▌        | 3/20 [00:25<02:23,  8.46s/it]\u001b[A\n",
      " 20%|██        | 4/20 [00:33<02:12,  8.28s/it]\u001b[A\n",
      " 25%|██▌       | 5/20 [00:41<02:01,  8.09s/it]\u001b[A\n",
      " 30%|███       | 6/20 [00:48<01:46,  7.64s/it]\u001b[A\n",
      " 35%|███▌      | 7/20 [00:54<01:35,  7.37s/it]\u001b[A\n",
      " 40%|████      | 8/20 [01:00<01:23,  6.92s/it]\u001b[A\n",
      " 45%|████▌     | 9/20 [01:07<01:13,  6.68s/it]\u001b[A\n",
      " 50%|█████     | 10/20 [01:12<01:02,  6.21s/it]\u001b[A\n",
      " 55%|█████▌    | 11/20 [01:17<00:51,  5.77s/it]\u001b[A\n",
      " 60%|██████    | 12/20 [01:21<00:42,  5.33s/it]\u001b[A\n",
      " 65%|██████▌   | 13/20 [01:26<00:35,  5.14s/it]\u001b[A\n",
      " 70%|███████   | 14/20 [01:29<00:27,  4.62s/it]\u001b[A\n",
      " 75%|███████▌  | 15/20 [01:32<00:20,  4.13s/it]\u001b[A\n",
      " 80%|████████  | 16/20 [01:35<00:14,  3.69s/it]\u001b[A\n",
      " 85%|████████▌ | 17/20 [01:37<00:09,  3.25s/it]\u001b[A\n",
      " 90%|█████████ | 18/20 [01:39<00:05,  2.82s/it]\u001b[A\n",
      " 95%|█████████▌| 19/20 [01:40<00:02,  2.39s/it]\u001b[A\n",
      "100%|██████████| 20/20 [01:41<00:00,  5.08s/it]\u001b[A\n"
     ]
    },
    {
     "name": "stdout",
     "output_type": "stream",
     "text": [
      "generator loss:0.8907329642058055\n",
      "-----------------------\n"
     ]
    },
    {
     "name": "stderr",
     "output_type": "stream",
     "text": [
      "49it [1:31:41, 110.28s/it]\n",
      "  0%|          | 0/20 [00:00<?, ?it/s]\u001b[A"
     ]
    },
    {
     "name": "stdout",
     "output_type": "stream",
     "text": [
      "total discriminator loss:0.6931962045594042\n",
      "-----------------------\n",
      "Training Step: 50\n"
     ]
    },
    {
     "name": "stderr",
     "output_type": "stream",
     "text": [
      "\n",
      "  5%|▌         | 1/20 [00:09<02:56,  9.31s/it]\u001b[A\n",
      " 10%|█         | 2/20 [00:18<02:42,  9.05s/it]\u001b[A\n",
      " 15%|█▌        | 3/20 [00:26<02:29,  8.82s/it]\u001b[A\n",
      " 20%|██        | 4/20 [00:34<02:16,  8.52s/it]\u001b[A\n",
      " 25%|██▌       | 5/20 [00:41<02:00,  8.02s/it]\u001b[A\n",
      " 30%|███       | 6/20 [00:49<01:47,  7.71s/it]\u001b[A\n",
      " 35%|███▌      | 7/20 [00:55<01:36,  7.46s/it]\u001b[A\n",
      " 40%|████      | 8/20 [01:01<01:23,  6.99s/it]\u001b[A\n",
      " 45%|████▌     | 9/20 [01:07<01:11,  6.54s/it]\u001b[A\n",
      " 50%|█████     | 10/20 [01:13<01:03,  6.32s/it]\u001b[A\n",
      " 55%|█████▌    | 11/20 [01:18<00:52,  5.85s/it]\u001b[A\n",
      " 60%|██████    | 12/20 [01:22<00:42,  5.37s/it]\u001b[A\n",
      " 65%|██████▌   | 13/20 [01:26<00:34,  4.91s/it]\u001b[A\n",
      " 70%|███████   | 14/20 [01:30<00:28,  4.72s/it]\u001b[A\n",
      " 75%|███████▌  | 15/20 [01:33<00:21,  4.22s/it]\u001b[A\n",
      " 80%|████████  | 16/20 [01:36<00:14,  3.74s/it]\u001b[A\n",
      " 85%|████████▌ | 17/20 [01:38<00:09,  3.28s/it]\u001b[A\n",
      " 90%|█████████ | 18/20 [01:40<00:05,  2.84s/it]\u001b[A\n",
      " 95%|█████████▌| 19/20 [01:41<00:02,  2.41s/it]\u001b[A\n",
      "100%|██████████| 20/20 [01:42<00:00,  5.13s/it]\u001b[A\n"
     ]
    },
    {
     "name": "stdout",
     "output_type": "stream",
     "text": [
      "generator loss:0.9076781719566084\n",
      "-----------------------\n"
     ]
    },
    {
     "name": "stderr",
     "output_type": "stream",
     "text": [
      "50it [1:33:32, 110.46s/it]\n",
      "  0%|          | 0/20 [00:00<?, ?it/s]\u001b[A"
     ]
    },
    {
     "name": "stdout",
     "output_type": "stream",
     "text": [
      "total discriminator loss:0.6931977873703212\n",
      "-----------------------\n",
      "Training Step: 51\n"
     ]
    },
    {
     "name": "stderr",
     "output_type": "stream",
     "text": [
      "\n",
      "  5%|▌         | 1/20 [00:09<02:51,  9.01s/it]\u001b[A\n",
      " 10%|█         | 2/20 [00:17<02:39,  8.86s/it]\u001b[A\n",
      " 15%|█▌        | 3/20 [00:26<02:27,  8.65s/it]\u001b[A\n",
      " 20%|██        | 4/20 [00:34<02:14,  8.38s/it]\u001b[A\n",
      " 25%|██▌       | 5/20 [00:41<02:01,  8.07s/it]\u001b[A\n",
      " 30%|███       | 6/20 [00:48<01:46,  7.60s/it]\u001b[A\n",
      " 35%|███▌      | 7/20 [00:55<01:35,  7.34s/it]\u001b[A\n",
      " 40%|████      | 8/20 [01:01<01:22,  6.91s/it]\u001b[A\n",
      " 45%|████▌     | 9/20 [01:07<01:13,  6.66s/it]\u001b[A\n",
      " 50%|█████     | 10/20 [01:12<01:02,  6.23s/it]\u001b[A\n",
      " 55%|█████▌    | 11/20 [01:17<00:52,  5.79s/it]\u001b[A\n",
      " 60%|██████    | 12/20 [01:22<00:44,  5.60s/it]\u001b[A\n",
      " 65%|██████▌   | 13/20 [01:26<00:35,  5.11s/it]\u001b[A\n",
      " 70%|███████   | 14/20 [01:29<00:27,  4.64s/it]\u001b[A\n",
      " 75%|███████▌  | 15/20 [01:33<00:20,  4.16s/it]\u001b[A\n",
      " 80%|████████  | 16/20 [01:35<00:14,  3.70s/it]\u001b[A\n",
      " 85%|████████▌ | 17/20 [01:37<00:09,  3.26s/it]\u001b[A\n",
      " 90%|█████████ | 18/20 [01:39<00:05,  2.83s/it]\u001b[A\n",
      " 95%|█████████▌| 19/20 [01:41<00:02,  2.40s/it]\u001b[A\n",
      "100%|██████████| 20/20 [01:42<00:00,  5.11s/it]\u001b[A\n"
     ]
    },
    {
     "name": "stdout",
     "output_type": "stream",
     "text": [
      "generator loss:0.8903359687751324\n",
      "-----------------------\n"
     ]
    },
    {
     "name": "stderr",
     "output_type": "stream",
     "text": [
      "51it [1:35:22, 110.45s/it]\n",
      "  0%|          | 0/20 [00:00<?, ?it/s]\u001b[A"
     ]
    },
    {
     "name": "stdout",
     "output_type": "stream",
     "text": [
      "total discriminator loss:0.693194436371558\n",
      "-----------------------\n",
      "Training Step: 52\n"
     ]
    },
    {
     "name": "stderr",
     "output_type": "stream",
     "text": [
      "\n",
      "  5%|▌         | 1/20 [00:09<02:59,  9.44s/it]\u001b[A\n",
      " 10%|█         | 2/20 [00:18<02:44,  9.13s/it]\u001b[A\n",
      " 15%|█▌        | 3/20 [00:26<02:30,  8.87s/it]\u001b[A\n",
      " 20%|██        | 4/20 [00:34<02:16,  8.54s/it]\u001b[A\n",
      " 25%|██▌       | 5/20 [00:42<02:03,  8.23s/it]\u001b[A\n",
      " 30%|███       | 6/20 [00:49<01:48,  7.73s/it]\u001b[A\n",
      " 35%|███▌      | 7/20 [00:56<01:36,  7.44s/it]\u001b[A\n",
      " 40%|████      | 8/20 [01:02<01:23,  6.98s/it]\u001b[A\n",
      " 45%|████▌     | 9/20 [01:08<01:13,  6.71s/it]\u001b[A\n",
      " 50%|█████     | 10/20 [01:13<01:02,  6.23s/it]\u001b[A\n",
      " 55%|█████▌    | 11/20 [01:18<00:51,  5.75s/it]\u001b[A\n",
      " 60%|██████    | 12/20 [01:23<00:44,  5.54s/it]\u001b[A\n",
      " 65%|██████▌   | 13/20 [01:27<00:35,  5.04s/it]\u001b[A\n",
      " 70%|███████   | 14/20 [01:30<00:27,  4.55s/it]\u001b[A\n",
      " 75%|███████▌  | 15/20 [01:33<00:20,  4.09s/it]\u001b[A\n",
      " 80%|████████  | 16/20 [01:36<00:14,  3.64s/it]\u001b[A\n",
      " 85%|████████▌ | 17/20 [01:38<00:09,  3.21s/it]\u001b[A\n",
      " 90%|█████████ | 18/20 [01:40<00:05,  2.78s/it]\u001b[A\n",
      " 95%|█████████▌| 19/20 [01:41<00:02,  2.37s/it]\u001b[A\n",
      "100%|██████████| 20/20 [01:42<00:00,  5.13s/it]\u001b[A\n"
     ]
    },
    {
     "name": "stdout",
     "output_type": "stream",
     "text": [
      "generator loss:0.906596007730774\n",
      "-----------------------\n"
     ]
    },
    {
     "name": "stderr",
     "output_type": "stream",
     "text": [
      "52it [1:37:13, 110.54s/it]\n",
      "  0%|          | 0/20 [00:00<?, ?it/s]\u001b[A"
     ]
    },
    {
     "name": "stdout",
     "output_type": "stream",
     "text": [
      "total discriminator loss:0.693196705986081\n",
      "-----------------------\n",
      "Training Step: 53\n"
     ]
    },
    {
     "name": "stderr",
     "output_type": "stream",
     "text": [
      "\n",
      "  5%|▌         | 1/20 [00:09<02:58,  9.41s/it]\u001b[A\n",
      " 10%|█         | 2/20 [00:18<02:43,  9.06s/it]\u001b[A\n",
      " 15%|█▌        | 3/20 [00:26<02:30,  8.82s/it]\u001b[A\n",
      " 20%|██        | 4/20 [00:34<02:15,  8.48s/it]\u001b[A\n",
      " 25%|██▌       | 5/20 [00:42<02:02,  8.15s/it]\u001b[A\n",
      " 30%|███       | 6/20 [00:48<01:47,  7.65s/it]\u001b[A\n",
      " 35%|███▌      | 7/20 [00:55<01:36,  7.40s/it]\u001b[A\n",
      " 40%|████      | 8/20 [01:01<01:23,  6.95s/it]\u001b[A\n",
      " 45%|████▌     | 9/20 [01:08<01:13,  6.70s/it]\u001b[A\n",
      " 50%|█████     | 10/20 [01:13<01:02,  6.24s/it]\u001b[A\n",
      " 55%|█████▌    | 11/20 [01:17<00:51,  5.78s/it]\u001b[A\n",
      " 60%|██████    | 12/20 [01:22<00:44,  5.56s/it]\u001b[A\n",
      " 65%|██████▌   | 13/20 [01:26<00:35,  5.04s/it]\u001b[A\n",
      " 70%|███████   | 14/20 [01:30<00:27,  4.56s/it]\u001b[A\n",
      " 75%|███████▌  | 15/20 [01:33<00:20,  4.09s/it]\u001b[A\n",
      " 80%|████████  | 16/20 [01:35<00:14,  3.65s/it]\u001b[A\n",
      " 85%|████████▌ | 17/20 [01:38<00:09,  3.22s/it]\u001b[A\n",
      " 90%|█████████ | 18/20 [01:39<00:05,  2.79s/it]\u001b[A\n",
      " 95%|█████████▌| 19/20 [01:41<00:02,  2.37s/it]\u001b[A\n",
      "100%|██████████| 20/20 [01:42<00:00,  5.11s/it]\u001b[A\n"
     ]
    },
    {
     "name": "stdout",
     "output_type": "stream",
     "text": [
      "generator loss:0.8910770748770066\n",
      "-----------------------\n"
     ]
    },
    {
     "name": "stderr",
     "output_type": "stream",
     "text": [
      "53it [1:39:03, 110.52s/it]\n",
      "  0%|          | 0/20 [00:00<?, ?it/s]\u001b[A"
     ]
    },
    {
     "name": "stdout",
     "output_type": "stream",
     "text": [
      "total discriminator loss:0.6931976629841944\n",
      "-----------------------\n",
      "Training Step: 54\n"
     ]
    },
    {
     "name": "stderr",
     "output_type": "stream",
     "text": [
      "\n",
      "  5%|▌         | 1/20 [00:09<02:55,  9.26s/it]\u001b[A\n",
      " 10%|█         | 2/20 [00:17<02:40,  8.92s/it]\u001b[A\n",
      " 15%|█▌        | 3/20 [00:26<02:27,  8.67s/it]\u001b[A\n",
      " 20%|██        | 4/20 [00:34<02:13,  8.36s/it]\u001b[A\n",
      " 25%|██▌       | 5/20 [00:41<02:00,  8.05s/it]\u001b[A\n",
      " 30%|███       | 6/20 [00:48<01:46,  7.58s/it]\u001b[A\n",
      " 35%|███▌      | 7/20 [00:55<01:35,  7.33s/it]\u001b[A\n",
      " 40%|████      | 8/20 [01:01<01:22,  6.88s/it]\u001b[A\n",
      " 45%|████▌     | 9/20 [01:07<01:13,  6.65s/it]\u001b[A\n",
      " 50%|█████     | 10/20 [01:12<01:02,  6.21s/it]\u001b[A\n",
      " 55%|█████▌    | 11/20 [01:17<00:51,  5.75s/it]\u001b[A\n",
      " 60%|██████    | 12/20 [01:22<00:44,  5.55s/it]\u001b[A\n",
      " 65%|██████▌   | 13/20 [01:26<00:35,  5.02s/it]\u001b[A\n",
      " 70%|███████   | 14/20 [01:29<00:27,  4.55s/it]\u001b[A\n",
      " 75%|███████▌  | 15/20 [01:32<00:20,  4.09s/it]\u001b[A\n",
      " 80%|████████  | 16/20 [01:35<00:14,  3.65s/it]\u001b[A\n",
      " 85%|████████▌ | 17/20 [01:37<00:09,  3.22s/it]\u001b[A\n",
      " 90%|█████████ | 18/20 [01:39<00:05,  2.79s/it]\u001b[A\n",
      " 95%|█████████▌| 19/20 [01:40<00:02,  2.37s/it]\u001b[A\n",
      "100%|██████████| 20/20 [01:41<00:00,  5.08s/it]\u001b[A\n"
     ]
    },
    {
     "name": "stdout",
     "output_type": "stream",
     "text": [
      "generator loss:0.9070097645214155\n",
      "-----------------------\n"
     ]
    },
    {
     "name": "stderr",
     "output_type": "stream",
     "text": [
      "54it [1:40:53, 110.32s/it]\n",
      "  0%|          | 0/20 [00:00<?, ?it/s]\u001b[A"
     ]
    },
    {
     "name": "stdout",
     "output_type": "stream",
     "text": [
      "total discriminator loss:0.6931948365170336\n",
      "-----------------------\n",
      "Training Step: 55\n"
     ]
    },
    {
     "name": "stderr",
     "output_type": "stream",
     "text": [
      "\n",
      "  5%|▌         | 1/20 [00:09<02:57,  9.32s/it]\u001b[A\n",
      " 10%|█         | 2/20 [00:18<02:42,  9.00s/it]\u001b[A\n",
      " 15%|█▌        | 3/20 [00:26<02:28,  8.74s/it]\u001b[A\n",
      " 20%|██        | 4/20 [00:34<02:14,  8.42s/it]\u001b[A\n",
      " 25%|██▌       | 5/20 [00:42<02:01,  8.11s/it]\u001b[A\n",
      " 30%|███       | 6/20 [00:48<01:46,  7.63s/it]\u001b[A\n",
      " 35%|███▌      | 7/20 [00:55<01:35,  7.35s/it]\u001b[A\n",
      " 40%|████      | 8/20 [01:01<01:22,  6.90s/it]\u001b[A\n",
      " 45%|████▌     | 9/20 [01:07<01:13,  6.64s/it]\u001b[A\n",
      " 50%|█████     | 10/20 [01:12<01:01,  6.17s/it]\u001b[A\n",
      " 55%|█████▌    | 11/20 [01:17<00:51,  5.71s/it]\u001b[A\n",
      " 60%|██████    | 12/20 [01:22<00:44,  5.53s/it]\u001b[A\n",
      " 65%|██████▌   | 13/20 [01:26<00:35,  5.03s/it]\u001b[A\n",
      " 70%|███████   | 14/20 [01:29<00:27,  4.57s/it]\u001b[A\n",
      " 75%|███████▌  | 15/20 [01:32<00:20,  4.12s/it]\u001b[A\n",
      " 80%|████████  | 16/20 [01:35<00:14,  3.69s/it]\u001b[A\n",
      " 85%|████████▌ | 17/20 [01:37<00:09,  3.25s/it]\u001b[A\n",
      " 90%|█████████ | 18/20 [01:39<00:05,  2.83s/it]\u001b[A\n",
      " 95%|█████████▌| 19/20 [01:41<00:02,  2.42s/it]\u001b[A\n",
      "100%|██████████| 20/20 [01:42<00:00,  5.11s/it]\u001b[A\n"
     ]
    },
    {
     "name": "stdout",
     "output_type": "stream",
     "text": [
      "generator loss:0.8908816289134374\n",
      "-----------------------\n"
     ]
    },
    {
     "name": "stderr",
     "output_type": "stream",
     "text": [
      "55it [1:42:44, 110.37s/it]\n",
      "  0%|          | 0/20 [00:00<?, ?it/s]\u001b[A"
     ]
    },
    {
     "name": "stdout",
     "output_type": "stream",
     "text": [
      "total discriminator loss:0.693198522007696\n",
      "-----------------------\n",
      "Training Step: 56\n"
     ]
    },
    {
     "name": "stderr",
     "output_type": "stream",
     "text": [
      "\n",
      "  5%|▌         | 1/20 [00:09<02:58,  9.41s/it]\u001b[A\n",
      " 10%|█         | 2/20 [00:18<02:43,  9.08s/it]\u001b[A\n",
      " 15%|█▌        | 3/20 [00:26<02:30,  8.85s/it]\u001b[A\n",
      " 20%|██        | 4/20 [00:34<02:16,  8.52s/it]\u001b[A\n",
      " 25%|██▌       | 5/20 [00:42<02:02,  8.17s/it]\u001b[A\n",
      " 30%|███       | 6/20 [00:49<01:47,  7.66s/it]\u001b[A\n",
      " 35%|███▌      | 7/20 [00:55<01:36,  7.40s/it]\u001b[A\n",
      " 40%|████      | 8/20 [01:01<01:23,  6.92s/it]\u001b[A\n",
      " 45%|████▌     | 9/20 [01:07<01:13,  6.66s/it]\u001b[A\n",
      " 50%|█████     | 10/20 [01:13<01:02,  6.21s/it]\u001b[A\n",
      " 55%|█████▌    | 11/20 [01:17<00:51,  5.78s/it]\u001b[A\n",
      " 60%|██████    | 12/20 [01:22<00:44,  5.57s/it]\u001b[A\n",
      " 65%|██████▌   | 13/20 [01:26<00:35,  5.06s/it]\u001b[A\n",
      " 70%|███████   | 14/20 [01:30<00:27,  4.58s/it]\u001b[A\n",
      " 75%|███████▌  | 15/20 [01:33<00:20,  4.11s/it]\u001b[A\n",
      " 80%|████████  | 16/20 [01:36<00:14,  3.66s/it]\u001b[A\n",
      " 85%|████████▌ | 17/20 [01:38<00:09,  3.22s/it]\u001b[A\n",
      " 90%|█████████ | 18/20 [01:40<00:05,  2.80s/it]\u001b[A\n",
      " 95%|█████████▌| 19/20 [01:41<00:02,  2.38s/it]\u001b[A\n",
      "100%|██████████| 20/20 [01:42<00:00,  5.12s/it]\u001b[A\n"
     ]
    },
    {
     "name": "stdout",
     "output_type": "stream",
     "text": [
      "generator loss:0.9076465509695509\n",
      "-----------------------\n"
     ]
    },
    {
     "name": "stderr",
     "output_type": "stream",
     "text": [
      "56it [1:44:34, 110.45s/it]\n",
      "  0%|          | 0/20 [00:00<?, ?it/s]\u001b[A"
     ]
    },
    {
     "name": "stdout",
     "output_type": "stream",
     "text": [
      "total discriminator loss:0.6931954541531138\n",
      "-----------------------\n",
      "Training Step: 57\n"
     ]
    },
    {
     "name": "stderr",
     "output_type": "stream",
     "text": [
      "\n",
      "  5%|▌         | 1/20 [00:09<02:56,  9.29s/it]\u001b[A\n",
      " 10%|█         | 2/20 [00:18<02:42,  9.04s/it]\u001b[A\n",
      " 15%|█▌        | 3/20 [00:26<02:29,  8.79s/it]\u001b[A\n",
      " 20%|██        | 4/20 [00:34<02:15,  8.49s/it]\u001b[A\n",
      " 25%|██▌       | 5/20 [00:42<02:02,  8.18s/it]\u001b[A\n",
      " 30%|███       | 6/20 [00:49<01:47,  7.71s/it]\u001b[A\n",
      " 35%|███▌      | 7/20 [00:55<01:36,  7.44s/it]\u001b[A\n",
      " 40%|████      | 8/20 [01:01<01:23,  6.98s/it]\u001b[A\n",
      " 45%|████▌     | 9/20 [01:08<01:13,  6.70s/it]\u001b[A\n",
      " 50%|█████     | 10/20 [01:13<01:02,  6.20s/it]\u001b[A\n",
      " 55%|█████▌    | 11/20 [01:17<00:51,  5.75s/it]\u001b[A\n",
      " 60%|██████    | 12/20 [01:22<00:44,  5.55s/it]\u001b[A\n",
      " 65%|██████▌   | 13/20 [01:26<00:35,  5.04s/it]\u001b[A\n",
      " 70%|███████   | 14/20 [01:30<00:27,  4.55s/it]\u001b[A\n",
      " 75%|███████▌  | 15/20 [01:33<00:20,  4.09s/it]\u001b[A\n",
      " 80%|████████  | 16/20 [01:35<00:14,  3.64s/it]\u001b[A\n",
      " 85%|████████▌ | 17/20 [01:38<00:09,  3.22s/it]\u001b[A\n",
      " 90%|█████████ | 18/20 [01:39<00:05,  2.78s/it]\u001b[A\n",
      " 95%|█████████▌| 19/20 [01:41<00:02,  2.36s/it]\u001b[A\n",
      "100%|██████████| 20/20 [01:42<00:00,  5.11s/it]\u001b[A\n"
     ]
    },
    {
     "name": "stdout",
     "output_type": "stream",
     "text": [
      "generator loss:0.8906287998908254\n",
      "-----------------------\n"
     ]
    },
    {
     "name": "stderr",
     "output_type": "stream",
     "text": [
      "57it [1:46:25, 110.46s/it]\n",
      "  0%|          | 0/20 [00:00<?, ?it/s]\u001b[A"
     ]
    },
    {
     "name": "stdout",
     "output_type": "stream",
     "text": [
      "total discriminator loss:0.6931977381735861\n",
      "-----------------------\n",
      "Training Step: 58\n"
     ]
    },
    {
     "name": "stderr",
     "output_type": "stream",
     "text": [
      "\n",
      "  5%|▌         | 1/20 [00:09<02:54,  9.21s/it]\u001b[A\n",
      " 10%|█         | 2/20 [00:17<02:39,  8.88s/it]\u001b[A\n",
      " 15%|█▌        | 3/20 [00:26<02:27,  8.66s/it]\u001b[A\n",
      " 20%|██        | 4/20 [00:34<02:14,  8.38s/it]\u001b[A\n",
      " 25%|██▌       | 5/20 [00:41<02:01,  8.08s/it]\u001b[A\n",
      " 30%|███       | 6/20 [00:48<01:46,  7.61s/it]\u001b[A\n",
      " 35%|███▌      | 7/20 [00:55<01:35,  7.36s/it]\u001b[A\n",
      " 40%|████      | 8/20 [01:01<01:23,  6.93s/it]\u001b[A\n",
      " 45%|████▌     | 9/20 [01:07<01:13,  6.69s/it]\u001b[A\n",
      " 50%|█████     | 10/20 [01:12<01:02,  6.25s/it]\u001b[A\n",
      " 55%|█████▌    | 11/20 [01:17<00:52,  5.81s/it]\u001b[A\n",
      " 60%|██████    | 12/20 [01:22<00:45,  5.64s/it]\u001b[A\n",
      " 65%|██████▌   | 13/20 [01:26<00:35,  5.13s/it]\u001b[A\n",
      " 70%|███████   | 14/20 [01:30<00:27,  4.65s/it]\u001b[A\n",
      " 75%|███████▌  | 15/20 [01:33<00:20,  4.17s/it]\u001b[A\n",
      " 80%|████████  | 16/20 [01:35<00:14,  3.71s/it]\u001b[A\n",
      " 85%|████████▌ | 17/20 [01:38<00:09,  3.26s/it]\u001b[A\n",
      " 90%|█████████ | 18/20 [01:39<00:05,  2.82s/it]\u001b[A\n",
      " 95%|█████████▌| 19/20 [01:41<00:02,  2.39s/it]\u001b[A\n",
      "100%|██████████| 20/20 [01:42<00:00,  5.12s/it]\u001b[A\n"
     ]
    },
    {
     "name": "stdout",
     "output_type": "stream",
     "text": [
      "generator loss:0.9070942047212721\n",
      "-----------------------\n"
     ]
    },
    {
     "name": "stderr",
     "output_type": "stream",
     "text": [
      "58it [1:48:15, 110.54s/it]\n",
      "  0%|          | 0/20 [00:00<?, ?it/s]\u001b[A"
     ]
    },
    {
     "name": "stdout",
     "output_type": "stream",
     "text": [
      "total discriminator loss:0.6931979311822145\n",
      "-----------------------\n",
      "Training Step: 59\n"
     ]
    },
    {
     "name": "stderr",
     "output_type": "stream",
     "text": [
      "\n",
      "  5%|▌         | 1/20 [00:09<02:58,  9.38s/it]\u001b[A\n",
      " 10%|█         | 2/20 [00:18<02:43,  9.07s/it]\u001b[A\n",
      " 15%|█▌        | 3/20 [00:26<02:29,  8.81s/it]\u001b[A\n",
      " 20%|██        | 4/20 [00:34<02:15,  8.50s/it]\u001b[A\n",
      " 25%|██▌       | 5/20 [00:42<02:02,  8.18s/it]\u001b[A\n",
      " 30%|███       | 6/20 [00:49<01:47,  7.67s/it]\u001b[A\n",
      " 35%|███▌      | 7/20 [00:55<01:35,  7.37s/it]\u001b[A\n",
      " 40%|████      | 8/20 [01:01<01:22,  6.92s/it]\u001b[A\n",
      " 45%|████▌     | 9/20 [01:07<01:13,  6.67s/it]\u001b[A\n",
      " 50%|█████     | 10/20 [01:13<01:02,  6.20s/it]\u001b[A\n",
      " 55%|█████▌    | 11/20 [01:17<00:51,  5.75s/it]\u001b[A\n",
      " 60%|██████    | 12/20 [01:22<00:44,  5.54s/it]\u001b[A\n",
      " 65%|██████▌   | 13/20 [01:26<00:35,  5.03s/it]\u001b[A\n",
      " 70%|███████   | 14/20 [01:30<00:27,  4.56s/it]\u001b[A\n",
      " 75%|███████▌  | 15/20 [01:33<00:20,  4.10s/it]\u001b[A\n",
      " 80%|████████  | 16/20 [01:35<00:14,  3.65s/it]\u001b[A\n",
      " 85%|████████▌ | 17/20 [01:37<00:09,  3.21s/it]\u001b[A\n",
      " 90%|█████████ | 18/20 [01:39<00:05,  2.79s/it]\u001b[A\n",
      " 95%|█████████▌| 19/20 [01:41<00:02,  2.37s/it]\u001b[A\n",
      "100%|██████████| 20/20 [01:42<00:00,  5.11s/it]\u001b[A\n"
     ]
    },
    {
     "name": "stdout",
     "output_type": "stream",
     "text": [
      "generator loss:0.8913948465010643\n",
      "-----------------------\n"
     ]
    },
    {
     "name": "stderr",
     "output_type": "stream",
     "text": [
      "59it [1:50:06, 110.51s/it]\n",
      "  0%|          | 0/20 [00:00<?, ?it/s]\u001b[A"
     ]
    },
    {
     "name": "stdout",
     "output_type": "stream",
     "text": [
      "total discriminator loss:0.6932004359934035\n",
      "-----------------------\n",
      "Training Step: 60\n"
     ]
    },
    {
     "name": "stderr",
     "output_type": "stream",
     "text": [
      "\n",
      "  5%|▌         | 1/20 [00:09<02:57,  9.33s/it]\u001b[A\n",
      " 10%|█         | 2/20 [00:18<02:42,  9.04s/it]\u001b[A\n",
      " 15%|█▌        | 3/20 [00:26<02:29,  8.80s/it]\u001b[A\n",
      " 20%|██        | 4/20 [00:34<02:15,  8.48s/it]\u001b[A\n",
      " 25%|██▌       | 5/20 [00:42<02:03,  8.26s/it]\u001b[A\n",
      " 30%|███       | 6/20 [00:49<01:49,  7.82s/it]\u001b[A\n",
      " 35%|███▌      | 7/20 [00:56<01:39,  7.62s/it]\u001b[A\n",
      " 40%|████      | 8/20 [01:02<01:26,  7.19s/it]\u001b[A\n",
      " 45%|████▌     | 9/20 [01:09<01:16,  6.94s/it]\u001b[A\n",
      " 50%|█████     | 10/20 [01:14<01:04,  6.42s/it]\u001b[A\n",
      " 55%|█████▌    | 11/20 [01:19<00:53,  5.91s/it]\u001b[A\n",
      " 60%|██████    | 12/20 [01:24<00:45,  5.65s/it]\u001b[A\n",
      " 65%|██████▌   | 13/20 [01:28<00:35,  5.10s/it]\u001b[A\n",
      " 70%|███████   | 14/20 [01:31<00:27,  4.59s/it]\u001b[A\n",
      " 75%|███████▌  | 15/20 [01:34<00:20,  4.12s/it]\u001b[A\n",
      " 80%|████████  | 16/20 [01:37<00:14,  3.66s/it]\u001b[A\n",
      " 85%|████████▌ | 17/20 [01:39<00:09,  3.23s/it]\u001b[A\n",
      " 90%|█████████ | 18/20 [01:41<00:05,  2.81s/it]\u001b[A\n",
      " 95%|█████████▌| 19/20 [01:42<00:02,  2.38s/it]\u001b[A\n",
      "100%|██████████| 20/20 [01:43<00:00,  5.19s/it]\u001b[A\n"
     ]
    },
    {
     "name": "stdout",
     "output_type": "stream",
     "text": [
      "generator loss:0.9070562114779801\n",
      "-----------------------\n"
     ]
    },
    {
     "name": "stderr",
     "output_type": "stream",
     "text": [
      "60it [1:51:58, 110.99s/it]\n",
      "  0%|          | 0/20 [00:00<?, ?it/s]\u001b[A"
     ]
    },
    {
     "name": "stdout",
     "output_type": "stream",
     "text": [
      "total discriminator loss:0.6931891464679183\n",
      "-----------------------\n",
      "Training Step: 61\n"
     ]
    },
    {
     "name": "stderr",
     "output_type": "stream",
     "text": [
      "\n",
      "  5%|▌         | 1/20 [00:09<02:58,  9.39s/it]\u001b[A\n",
      " 10%|█         | 2/20 [00:18<02:42,  9.02s/it]\u001b[A\n",
      " 15%|█▌        | 3/20 [00:26<02:29,  8.79s/it]\u001b[A\n",
      " 20%|██        | 4/20 [00:34<02:15,  8.46s/it]\u001b[A\n",
      " 25%|██▌       | 5/20 [00:42<02:02,  8.17s/it]\u001b[A\n",
      " 30%|███       | 6/20 [00:49<01:47,  7.70s/it]\u001b[A\n",
      " 35%|███▌      | 7/20 [00:56<01:37,  7.51s/it]\u001b[A\n",
      " 40%|████      | 8/20 [01:02<01:24,  7.07s/it]\u001b[A\n",
      " 45%|████▌     | 9/20 [01:08<01:14,  6.81s/it]\u001b[A\n",
      " 50%|█████     | 10/20 [01:13<01:03,  6.32s/it]\u001b[A\n",
      " 55%|█████▌    | 11/20 [01:18<00:52,  5.87s/it]\u001b[A\n",
      " 60%|██████    | 12/20 [01:23<00:45,  5.66s/it]\u001b[A\n",
      " 65%|██████▌   | 13/20 [01:27<00:36,  5.15s/it]\u001b[A\n",
      " 70%|███████   | 14/20 [01:31<00:27,  4.64s/it]\u001b[A\n",
      " 75%|███████▌  | 15/20 [01:34<00:20,  4.17s/it]\u001b[A\n",
      " 80%|████████  | 16/20 [01:36<00:14,  3.71s/it]\u001b[A\n",
      " 85%|████████▌ | 17/20 [01:39<00:09,  3.28s/it]\u001b[A\n",
      " 90%|█████████ | 18/20 [01:41<00:05,  2.84s/it]\u001b[A\n",
      " 95%|█████████▌| 19/20 [01:42<00:02,  2.42s/it]\u001b[A\n",
      "100%|██████████| 20/20 [01:43<00:00,  5.18s/it]\u001b[A\n"
     ]
    },
    {
     "name": "stdout",
     "output_type": "stream",
     "text": [
      "generator loss:0.8910580131547048\n",
      "-----------------------\n"
     ]
    },
    {
     "name": "stderr",
     "output_type": "stream",
     "text": [
      "61it [1:53:50, 111.27s/it]\n",
      "  0%|          | 0/20 [00:00<?, ?it/s]\u001b[A"
     ]
    },
    {
     "name": "stdout",
     "output_type": "stream",
     "text": [
      "total discriminator loss:0.6931918593759842\n",
      "-----------------------\n",
      "Training Step: 62\n"
     ]
    },
    {
     "name": "stderr",
     "output_type": "stream",
     "text": [
      "\n",
      "  5%|▌         | 1/20 [00:09<02:57,  9.35s/it]\u001b[A\n",
      " 10%|█         | 2/20 [00:18<02:43,  9.10s/it]\u001b[A\n",
      " 15%|█▌        | 3/20 [00:26<02:30,  8.88s/it]\u001b[A\n",
      " 20%|██        | 4/20 [00:35<02:17,  8.57s/it]\u001b[A\n",
      " 25%|██▌       | 5/20 [00:42<02:03,  8.24s/it]\u001b[A\n",
      " 30%|███       | 6/20 [00:49<01:48,  7.74s/it]\u001b[A\n",
      " 35%|███▌      | 7/20 [00:56<01:36,  7.44s/it]\u001b[A\n",
      " 40%|████      | 8/20 [01:02<01:23,  6.96s/it]\u001b[A\n",
      " 45%|████▌     | 9/20 [01:08<01:13,  6.69s/it]\u001b[A\n",
      " 50%|█████     | 10/20 [01:13<01:02,  6.23s/it]\u001b[A\n",
      " 55%|█████▌    | 11/20 [01:18<00:52,  5.78s/it]\u001b[A\n",
      " 60%|██████    | 12/20 [01:23<00:44,  5.57s/it]\u001b[A\n",
      " 65%|██████▌   | 13/20 [01:27<00:35,  5.06s/it]\u001b[A\n",
      " 70%|███████   | 14/20 [01:30<00:27,  4.57s/it]\u001b[A\n",
      " 75%|███████▌  | 15/20 [01:33<00:20,  4.10s/it]\u001b[A\n",
      " 80%|████████  | 16/20 [01:36<00:14,  3.65s/it]\u001b[A\n",
      " 85%|████████▌ | 17/20 [01:38<00:09,  3.21s/it]\u001b[A\n",
      " 90%|█████████ | 18/20 [01:40<00:05,  2.78s/it]\u001b[A\n",
      " 95%|█████████▌| 19/20 [01:41<00:02,  2.36s/it]\u001b[A\n",
      "100%|██████████| 20/20 [01:42<00:00,  5.13s/it]\u001b[A\n"
     ]
    },
    {
     "name": "stdout",
     "output_type": "stream",
     "text": [
      "generator loss:0.9061224507152206\n",
      "-----------------------\n"
     ]
    },
    {
     "name": "stderr",
     "output_type": "stream",
     "text": [
      "62it [1:55:41, 111.16s/it]\n",
      "  0%|          | 0/20 [00:00<?, ?it/s]\u001b[A"
     ]
    },
    {
     "name": "stdout",
     "output_type": "stream",
     "text": [
      "total discriminator loss:0.6931981008206667\n",
      "-----------------------\n",
      "Training Step: 63\n"
     ]
    },
    {
     "name": "stderr",
     "output_type": "stream",
     "text": [
      "\n",
      "  5%|▌         | 1/20 [00:09<02:59,  9.44s/it]\u001b[A\n",
      " 10%|█         | 2/20 [00:18<02:43,  9.08s/it]\u001b[A\n",
      " 15%|█▌        | 3/20 [00:26<02:30,  8.84s/it]\u001b[A\n",
      " 20%|██        | 4/20 [00:34<02:16,  8.51s/it]\u001b[A\n",
      " 25%|██▌       | 5/20 [00:42<02:02,  8.19s/it]\u001b[A\n",
      " 30%|███       | 6/20 [00:49<01:47,  7.67s/it]\u001b[A\n",
      " 35%|███▌      | 7/20 [00:55<01:36,  7.39s/it]\u001b[A\n",
      " 40%|████      | 8/20 [01:01<01:23,  6.93s/it]\u001b[A\n",
      " 45%|████▌     | 9/20 [01:07<01:13,  6.67s/it]\u001b[A\n",
      " 50%|█████     | 10/20 [01:13<01:01,  6.20s/it]\u001b[A\n",
      " 55%|█████▌    | 11/20 [01:17<00:51,  5.76s/it]\u001b[A\n",
      " 60%|██████    | 12/20 [01:23<00:44,  5.57s/it]\u001b[A\n",
      " 65%|██████▌   | 13/20 [01:26<00:35,  5.04s/it]\u001b[A\n",
      " 70%|███████   | 14/20 [01:30<00:27,  4.56s/it]\u001b[A\n",
      " 75%|███████▌  | 15/20 [01:33<00:20,  4.10s/it]\u001b[A\n",
      " 80%|████████  | 16/20 [01:35<00:14,  3.65s/it]\u001b[A\n",
      " 85%|████████▌ | 17/20 [01:38<00:09,  3.21s/it]\u001b[A\n",
      " 90%|█████████ | 18/20 [01:39<00:05,  2.78s/it]\u001b[A\n",
      " 95%|█████████▌| 19/20 [01:41<00:02,  2.37s/it]\u001b[A\n",
      "100%|██████████| 20/20 [01:42<00:00,  5.12s/it]\u001b[A\n"
     ]
    },
    {
     "name": "stdout",
     "output_type": "stream",
     "text": [
      "generator loss:0.8913400659677462\n",
      "-----------------------\n"
     ]
    },
    {
     "name": "stderr",
     "output_type": "stream",
     "text": [
      "63it [1:57:31, 110.98s/it]\n",
      "  0%|          | 0/20 [00:00<?, ?it/s]\u001b[A"
     ]
    },
    {
     "name": "stdout",
     "output_type": "stream",
     "text": [
      "total discriminator loss:0.6931981533513772\n",
      "-----------------------\n",
      "Training Step: 64\n"
     ]
    },
    {
     "name": "stderr",
     "output_type": "stream",
     "text": [
      "\n",
      "  5%|▌         | 1/20 [00:09<02:57,  9.35s/it]\u001b[A\n",
      " 10%|█         | 2/20 [00:18<02:41,  9.00s/it]\u001b[A\n",
      " 15%|█▌        | 3/20 [00:26<02:28,  8.76s/it]\u001b[A\n",
      " 20%|██        | 4/20 [00:34<02:15,  8.45s/it]\u001b[A\n",
      " 25%|██▌       | 5/20 [00:42<02:02,  8.13s/it]\u001b[A\n",
      " 30%|███       | 6/20 [00:48<01:47,  7.65s/it]\u001b[A\n",
      " 35%|███▌      | 7/20 [00:55<01:36,  7.39s/it]\u001b[A\n",
      " 40%|████      | 8/20 [01:01<01:23,  6.93s/it]\u001b[A\n",
      " 45%|████▌     | 9/20 [01:07<01:13,  6.69s/it]\u001b[A\n",
      " 50%|█████     | 10/20 [01:12<01:02,  6.22s/it]\u001b[A\n",
      " 55%|█████▌    | 11/20 [01:17<00:51,  5.75s/it]\u001b[A\n",
      " 60%|██████    | 12/20 [01:22<00:44,  5.54s/it]\u001b[A\n",
      " 65%|██████▌   | 13/20 [01:26<00:35,  5.03s/it]\u001b[A\n",
      " 70%|███████   | 14/20 [01:29<00:27,  4.54s/it]\u001b[A\n",
      " 75%|███████▌  | 15/20 [01:33<00:20,  4.09s/it]\u001b[A\n",
      " 80%|████████  | 16/20 [01:35<00:14,  3.63s/it]\u001b[A\n",
      " 85%|████████▌ | 17/20 [01:37<00:09,  3.21s/it]\u001b[A\n",
      " 90%|█████████ | 18/20 [01:39<00:05,  2.79s/it]\u001b[A\n",
      " 95%|█████████▌| 19/20 [01:41<00:02,  2.37s/it]\u001b[A\n",
      "100%|██████████| 20/20 [01:42<00:00,  5.10s/it]\u001b[A\n"
     ]
    },
    {
     "name": "stdout",
     "output_type": "stream",
     "text": [
      "generator loss:0.9075883896570591\n",
      "-----------------------\n"
     ]
    },
    {
     "name": "stderr",
     "output_type": "stream",
     "text": [
      "64it [1:59:22, 110.77s/it]\n",
      "  0%|          | 0/20 [00:00<?, ?it/s]\u001b[A"
     ]
    },
    {
     "name": "stdout",
     "output_type": "stream",
     "text": [
      "total discriminator loss:0.6931998177404469\n",
      "-----------------------\n",
      "Training Step: 65\n"
     ]
    },
    {
     "name": "stderr",
     "output_type": "stream",
     "text": [
      "\n",
      "  5%|▌         | 1/20 [00:09<02:57,  9.34s/it]\u001b[A\n",
      " 10%|█         | 2/20 [00:18<02:42,  9.02s/it]\u001b[A\n",
      " 15%|█▌        | 3/20 [00:26<02:28,  8.76s/it]\u001b[A\n",
      " 20%|██        | 4/20 [00:34<02:14,  8.42s/it]\u001b[A\n",
      " 25%|██▌       | 5/20 [00:42<02:01,  8.11s/it]\u001b[A\n",
      " 30%|███       | 6/20 [00:48<01:46,  7.63s/it]\u001b[A\n",
      " 35%|███▌      | 7/20 [00:55<01:35,  7.36s/it]\u001b[A\n",
      " 40%|████      | 8/20 [01:01<01:22,  6.91s/it]\u001b[A\n",
      " 45%|████▌     | 9/20 [01:07<01:13,  6.66s/it]\u001b[A\n",
      " 50%|█████     | 10/20 [01:12<01:01,  6.18s/it]\u001b[A\n",
      " 55%|█████▌    | 11/20 [01:17<00:51,  5.73s/it]\u001b[A\n",
      " 60%|██████    | 12/20 [01:22<00:44,  5.52s/it]\u001b[A\n",
      " 70%|███████   | 14/20 [01:29<00:27,  4.54s/it]\u001b[A\n",
      " 75%|███████▌  | 15/20 [01:32<00:20,  4.08s/it]\u001b[A\n",
      " 80%|████████  | 16/20 [01:35<00:14,  3.65s/it]\u001b[A\n",
      " 85%|████████▌ | 17/20 [01:37<00:09,  3.21s/it]\u001b[A\n",
      " 90%|█████████ | 18/20 [01:39<00:05,  2.79s/it]\u001b[A\n",
      " 95%|█████████▌| 19/20 [01:40<00:02,  2.38s/it]\u001b[A\n",
      "100%|██████████| 20/20 [01:41<00:00,  5.09s/it]\u001b[A\n"
     ]
    },
    {
     "name": "stdout",
     "output_type": "stream",
     "text": [
      "generator loss:0.8913752256948031\n",
      "-----------------------\n"
     ]
    },
    {
     "name": "stderr",
     "output_type": "stream",
     "text": [
      "65it [2:01:12, 110.60s/it]\n",
      "  0%|          | 0/20 [00:00<?, ?it/s]\u001b[A"
     ]
    },
    {
     "name": "stdout",
     "output_type": "stream",
     "text": [
      "total discriminator loss:0.6931966118183185\n",
      "-----------------------\n",
      "Training Step: 66\n"
     ]
    },
    {
     "name": "stderr",
     "output_type": "stream",
     "text": [
      "\n",
      "  5%|▌         | 1/20 [00:09<02:56,  9.28s/it]\u001b[A\n",
      " 10%|█         | 2/20 [00:18<02:42,  9.00s/it]\u001b[A\n",
      " 15%|█▌        | 3/20 [00:26<02:28,  8.76s/it]\u001b[A\n",
      " 20%|██        | 4/20 [00:34<02:14,  8.43s/it]\u001b[A\n",
      " 25%|██▌       | 5/20 [00:42<02:01,  8.12s/it]\u001b[A\n",
      " 30%|███       | 6/20 [00:48<01:47,  7.65s/it]\u001b[A\n",
      " 35%|███▌      | 7/20 [00:55<01:35,  7.38s/it]\u001b[A\n",
      " 40%|████      | 8/20 [01:01<01:22,  6.91s/it]\u001b[A\n",
      " 45%|████▌     | 9/20 [01:07<01:13,  6.65s/it]\u001b[A\n",
      " 50%|█████     | 10/20 [01:12<01:01,  6.17s/it]\u001b[A\n",
      " 55%|█████▌    | 11/20 [01:17<00:51,  5.72s/it]\u001b[A\n",
      " 60%|██████    | 12/20 [01:22<00:44,  5.53s/it]\u001b[A\n",
      " 65%|██████▌   | 13/20 [01:26<00:35,  5.02s/it]\u001b[A\n",
      " 70%|███████   | 14/20 [01:29<00:27,  4.54s/it]\u001b[A\n",
      " 75%|███████▌  | 15/20 [01:32<00:20,  4.08s/it]\u001b[A\n",
      " 80%|████████  | 16/20 [01:35<00:14,  3.63s/it]\u001b[A\n",
      " 85%|████████▌ | 17/20 [01:37<00:09,  3.21s/it]\u001b[A\n",
      " 90%|█████████ | 18/20 [01:39<00:05,  2.79s/it]\u001b[A\n",
      " 95%|█████████▌| 19/20 [01:40<00:02,  2.37s/it]\u001b[A\n",
      "100%|██████████| 20/20 [01:41<00:00,  5.09s/it]\u001b[A\n"
     ]
    },
    {
     "name": "stdout",
     "output_type": "stream",
     "text": [
      "generator loss:0.9067860971875017\n",
      "-----------------------\n"
     ]
    },
    {
     "name": "stderr",
     "output_type": "stream",
     "text": [
      "66it [2:03:02, 110.47s/it]\n",
      "  0%|          | 0/20 [00:00<?, ?it/s]\u001b[A"
     ]
    },
    {
     "name": "stdout",
     "output_type": "stream",
     "text": [
      "total discriminator loss:0.6931940877372184\n",
      "-----------------------\n",
      "Training Step: 67\n"
     ]
    },
    {
     "name": "stderr",
     "output_type": "stream",
     "text": [
      "\n",
      "  5%|▌         | 1/20 [00:09<02:58,  9.41s/it]\u001b[A\n",
      " 10%|█         | 2/20 [00:18<02:43,  9.09s/it]\u001b[A\n",
      " 15%|█▌        | 3/20 [00:26<02:30,  8.83s/it]\u001b[A\n",
      " 20%|██        | 4/20 [00:34<02:16,  8.51s/it]\u001b[A\n",
      " 25%|██▌       | 5/20 [00:42<02:02,  8.20s/it]\u001b[A\n",
      " 30%|███       | 6/20 [00:49<01:47,  7.70s/it]\u001b[A\n",
      " 35%|███▌      | 7/20 [00:56<01:36,  7.41s/it]\u001b[A\n",
      " 40%|████      | 8/20 [01:01<01:23,  6.94s/it]\u001b[A\n",
      " 45%|████▌     | 9/20 [01:08<01:13,  6.69s/it]\u001b[A\n",
      " 50%|█████     | 10/20 [01:13<01:02,  6.22s/it]\u001b[A\n",
      " 55%|█████▌    | 11/20 [01:17<00:51,  5.75s/it]\u001b[A\n",
      " 60%|██████    | 12/20 [01:23<00:44,  5.54s/it]\u001b[A\n",
      " 65%|██████▌   | 13/20 [01:26<00:35,  5.01s/it]\u001b[A\n",
      " 70%|███████   | 14/20 [01:30<00:27,  4.52s/it]\u001b[A\n",
      " 75%|███████▌  | 15/20 [01:33<00:20,  4.06s/it]\u001b[A\n",
      " 80%|████████  | 16/20 [01:35<00:14,  3.62s/it]\u001b[A\n",
      " 85%|████████▌ | 17/20 [01:37<00:09,  3.19s/it]\u001b[A\n",
      " 90%|█████████ | 18/20 [01:39<00:05,  2.77s/it]\u001b[A\n",
      " 95%|█████████▌| 19/20 [01:41<00:02,  2.35s/it]\u001b[A\n",
      "100%|██████████| 20/20 [01:42<00:00,  5.11s/it]\u001b[A\n"
     ]
    },
    {
     "name": "stdout",
     "output_type": "stream",
     "text": [
      "generator loss:0.8912242174254267\n",
      "-----------------------\n"
     ]
    },
    {
     "name": "stderr",
     "output_type": "stream",
     "text": [
      "67it [2:04:52, 110.43s/it]\n",
      "  0%|          | 0/20 [00:00<?, ?it/s]\u001b[A"
     ]
    },
    {
     "name": "stdout",
     "output_type": "stream",
     "text": [
      "total discriminator loss:0.6931959359063314\n",
      "-----------------------\n",
      "Training Step: 68\n"
     ]
    },
    {
     "name": "stderr",
     "output_type": "stream",
     "text": [
      "\n",
      "  5%|▌         | 1/20 [00:09<02:54,  9.20s/it]\u001b[A\n",
      " 10%|█         | 2/20 [00:17<02:40,  8.89s/it]\u001b[A\n",
      " 15%|█▌        | 3/20 [00:26<02:26,  8.64s/it]\u001b[A\n",
      " 20%|██        | 4/20 [00:34<02:13,  8.32s/it]\u001b[A\n",
      " 25%|██▌       | 5/20 [00:41<02:00,  8.04s/it]\u001b[A\n",
      " 30%|███       | 6/20 [00:48<01:45,  7.57s/it]\u001b[A\n",
      " 35%|███▌      | 7/20 [00:55<01:34,  7.30s/it]\u001b[A\n",
      " 40%|████      | 8/20 [01:00<01:22,  6.87s/it]\u001b[A\n",
      " 45%|████▌     | 9/20 [01:07<01:12,  6.62s/it]\u001b[A\n",
      " 50%|█████     | 10/20 [01:12<01:01,  6.16s/it]\u001b[A\n",
      " 55%|█████▌    | 11/20 [01:16<00:51,  5.70s/it]\u001b[A\n",
      " 60%|██████    | 12/20 [01:21<00:44,  5.54s/it]\u001b[A\n",
      " 65%|██████▌   | 13/20 [01:25<00:35,  5.05s/it]\u001b[A\n",
      " 70%|███████   | 14/20 [01:29<00:27,  4.58s/it]\u001b[A\n",
      " 75%|███████▌  | 15/20 [01:32<00:20,  4.12s/it]\u001b[A\n",
      " 80%|████████  | 16/20 [01:35<00:14,  3.68s/it]\u001b[A\n",
      " 85%|████████▌ | 17/20 [01:37<00:09,  3.24s/it]\u001b[A\n",
      " 90%|█████████ | 18/20 [01:39<00:05,  2.81s/it]\u001b[A\n",
      " 95%|█████████▌| 19/20 [01:40<00:02,  2.38s/it]\u001b[A\n",
      "100%|██████████| 20/20 [01:41<00:00,  5.08s/it]\u001b[A\n"
     ]
    },
    {
     "name": "stdout",
     "output_type": "stream",
     "text": [
      "generator loss:0.9075444664642971\n",
      "-----------------------\n"
     ]
    },
    {
     "name": "stderr",
     "output_type": "stream",
     "text": [
      "68it [2:06:42, 110.23s/it]\n",
      "  0%|          | 0/20 [00:00<?, ?it/s]\u001b[A"
     ]
    },
    {
     "name": "stdout",
     "output_type": "stream",
     "text": [
      "total discriminator loss:0.6931980385996641\n",
      "-----------------------\n",
      "Training Step: 69\n"
     ]
    },
    {
     "name": "stderr",
     "output_type": "stream",
     "text": [
      "\n",
      "  5%|▌         | 1/20 [00:09<02:56,  9.28s/it]\u001b[A\n",
      " 10%|█         | 2/20 [00:18<02:41,  8.96s/it]\u001b[A\n",
      " 15%|█▌        | 3/20 [00:26<02:28,  8.71s/it]\u001b[A\n",
      " 20%|██        | 4/20 [00:34<02:14,  8.39s/it]\u001b[A\n",
      " 25%|██▌       | 5/20 [00:41<02:01,  8.08s/it]\u001b[A\n",
      " 30%|███       | 6/20 [00:48<01:46,  7.61s/it]\u001b[A\n",
      " 35%|███▌      | 7/20 [00:55<01:35,  7.37s/it]\u001b[A\n",
      " 40%|████      | 8/20 [01:01<01:22,  6.92s/it]\u001b[A\n",
      " 45%|████▌     | 9/20 [01:07<01:13,  6.65s/it]\u001b[A\n",
      " 50%|█████     | 10/20 [01:12<01:01,  6.18s/it]\u001b[A\n",
      " 55%|█████▌    | 11/20 [01:17<00:51,  5.71s/it]\u001b[A\n",
      " 60%|██████    | 12/20 [01:22<00:44,  5.50s/it]\u001b[A\n",
      " 65%|██████▌   | 13/20 [01:26<00:34,  4.99s/it]\u001b[A\n",
      " 70%|███████   | 14/20 [01:29<00:27,  4.51s/it]\u001b[A\n",
      " 75%|███████▌  | 15/20 [01:32<00:20,  4.05s/it]\u001b[A\n",
      " 80%|████████  | 16/20 [01:34<00:14,  3.60s/it]\u001b[A\n",
      " 85%|████████▌ | 17/20 [01:37<00:09,  3.18s/it]\u001b[A\n",
      " 90%|█████████ | 18/20 [01:38<00:05,  2.76s/it]\u001b[A\n",
      " 95%|█████████▌| 19/20 [01:40<00:02,  2.35s/it]\u001b[A\n",
      "100%|██████████| 20/20 [01:41<00:00,  5.07s/it]\u001b[A\n"
     ]
    },
    {
     "name": "stdout",
     "output_type": "stream",
     "text": [
      "generator loss:0.8917598294186526\n",
      "-----------------------\n"
     ]
    },
    {
     "name": "stderr",
     "output_type": "stream",
     "text": [
      "69it [2:08:32, 110.03s/it]\n",
      "  0%|          | 0/20 [00:00<?, ?it/s]\u001b[A"
     ]
    },
    {
     "name": "stdout",
     "output_type": "stream",
     "text": [
      "total discriminator loss:0.6931952602974936\n",
      "-----------------------\n",
      "Training Step: 70\n"
     ]
    },
    {
     "name": "stderr",
     "output_type": "stream",
     "text": [
      "\n",
      "  5%|▌         | 1/20 [00:09<02:56,  9.30s/it]\u001b[A\n",
      " 10%|█         | 2/20 [00:18<02:42,  9.05s/it]\u001b[A\n",
      " 15%|█▌        | 3/20 [00:26<02:29,  8.78s/it]\u001b[A\n",
      " 20%|██        | 4/20 [00:34<02:15,  8.48s/it]\u001b[A\n",
      " 25%|██▌       | 5/20 [00:42<02:02,  8.16s/it]\u001b[A\n",
      " 30%|███       | 6/20 [00:48<01:47,  7.67s/it]\u001b[A\n",
      " 35%|███▌      | 7/20 [00:55<01:36,  7.40s/it]\u001b[A\n",
      " 40%|████      | 8/20 [01:01<01:23,  6.97s/it]\u001b[A\n",
      " 45%|████▌     | 9/20 [01:08<01:14,  6.73s/it]\u001b[A\n",
      " 50%|█████     | 10/20 [01:13<01:02,  6.29s/it]\u001b[A\n",
      " 55%|█████▌    | 11/20 [01:18<00:52,  5.82s/it]\u001b[A\n",
      " 60%|██████    | 12/20 [01:23<00:44,  5.59s/it]\u001b[A\n",
      " 65%|██████▌   | 13/20 [01:27<00:35,  5.08s/it]\u001b[A\n",
      " 70%|███████   | 14/20 [01:30<00:27,  4.59s/it]\u001b[A\n",
      " 75%|███████▌  | 15/20 [01:33<00:20,  4.11s/it]\u001b[A\n",
      " 80%|████████  | 16/20 [01:36<00:14,  3.65s/it]\u001b[A\n",
      " 85%|████████▌ | 17/20 [01:38<00:09,  3.22s/it]\u001b[A\n",
      " 90%|█████████ | 18/20 [01:40<00:05,  2.79s/it]\u001b[A\n",
      " 95%|█████████▌| 19/20 [01:41<00:02,  2.37s/it]\u001b[A\n",
      "100%|██████████| 20/20 [01:42<00:00,  5.13s/it]\u001b[A\n"
     ]
    },
    {
     "name": "stdout",
     "output_type": "stream",
     "text": [
      "generator loss:0.907294192108693\n",
      "-----------------------\n"
     ]
    },
    {
     "name": "stderr",
     "output_type": "stream",
     "text": [
      "70it [2:10:22, 110.25s/it]\n",
      "  0%|          | 0/20 [00:00<?, ?it/s]\u001b[A"
     ]
    },
    {
     "name": "stdout",
     "output_type": "stream",
     "text": [
      "total discriminator loss:0.6932003788758248\n",
      "-----------------------\n",
      "Training Step: 71\n"
     ]
    },
    {
     "name": "stderr",
     "output_type": "stream",
     "text": [
      "\n",
      "  5%|▌         | 1/20 [00:09<02:56,  9.27s/it]\u001b[A\n",
      " 10%|█         | 2/20 [00:18<02:42,  9.00s/it]\u001b[A\n",
      " 15%|█▌        | 3/20 [00:26<02:30,  8.84s/it]\u001b[A\n",
      " 20%|██        | 4/20 [00:34<02:16,  8.53s/it]\u001b[A\n",
      " 25%|██▌       | 5/20 [00:42<02:02,  8.19s/it]\u001b[A\n",
      " 30%|███       | 6/20 [00:49<01:47,  7.67s/it]\u001b[A\n",
      " 35%|███▌      | 7/20 [00:55<01:36,  7.39s/it]\u001b[A\n",
      " 40%|████      | 8/20 [01:01<01:23,  6.94s/it]\u001b[A\n",
      " 45%|████▌     | 9/20 [01:07<01:13,  6.69s/it]\u001b[A\n",
      " 50%|█████     | 10/20 [01:13<01:02,  6.22s/it]\u001b[A\n",
      " 55%|█████▌    | 11/20 [01:17<00:51,  5.75s/it]\u001b[A\n",
      " 60%|██████    | 12/20 [01:22<00:44,  5.54s/it]\u001b[A\n",
      " 65%|██████▌   | 13/20 [01:26<00:35,  5.02s/it]\u001b[A\n",
      " 70%|███████   | 14/20 [01:30<00:27,  4.54s/it]\u001b[A\n",
      " 75%|███████▌  | 15/20 [01:33<00:20,  4.09s/it]\u001b[A\n",
      " 80%|████████  | 16/20 [01:35<00:14,  3.65s/it]\u001b[A\n",
      " 85%|████████▌ | 17/20 [01:38<00:09,  3.22s/it]\u001b[A\n",
      " 90%|█████████ | 18/20 [01:39<00:05,  2.80s/it]\u001b[A\n",
      " 95%|█████████▌| 19/20 [01:41<00:02,  2.38s/it]\u001b[A\n",
      "100%|██████████| 20/20 [01:42<00:00,  5.11s/it]\u001b[A\n"
     ]
    },
    {
     "name": "stdout",
     "output_type": "stream",
     "text": [
      "generator loss:0.8906429900798057\n",
      "-----------------------\n"
     ]
    },
    {
     "name": "stderr",
     "output_type": "stream",
     "text": [
      "71it [2:12:13, 110.34s/it]\n",
      "  0%|          | 0/20 [00:00<?, ?it/s]\u001b[A"
     ]
    },
    {
     "name": "stdout",
     "output_type": "stream",
     "text": [
      "total discriminator loss:0.6931956220777312\n",
      "-----------------------\n",
      "Training Step: 72\n"
     ]
    },
    {
     "name": "stderr",
     "output_type": "stream",
     "text": [
      "\n",
      "  5%|▌         | 1/20 [00:09<02:57,  9.33s/it]\u001b[A\n",
      " 10%|█         | 2/20 [00:18<02:42,  9.02s/it]\u001b[A\n",
      " 15%|█▌        | 3/20 [00:26<02:29,  8.78s/it]\u001b[A\n",
      " 20%|██        | 4/20 [00:34<02:15,  8.47s/it]\u001b[A\n",
      " 25%|██▌       | 5/20 [00:42<02:02,  8.17s/it]\u001b[A\n",
      " 30%|███       | 6/20 [00:49<01:47,  7.70s/it]\u001b[A\n",
      " 35%|███▌      | 7/20 [00:55<01:36,  7.42s/it]\u001b[A\n",
      " 40%|████      | 8/20 [01:01<01:23,  6.97s/it]\u001b[A\n",
      " 45%|████▌     | 9/20 [01:08<01:13,  6.72s/it]\u001b[A\n",
      " 50%|█████     | 10/20 [01:13<01:02,  6.22s/it]\u001b[A\n",
      " 55%|█████▌    | 11/20 [01:17<00:51,  5.77s/it]\u001b[A\n",
      " 60%|██████    | 12/20 [01:23<00:44,  5.58s/it]\u001b[A\n",
      " 65%|██████▌   | 13/20 [01:26<00:35,  5.07s/it]\u001b[A\n",
      " 70%|███████   | 14/20 [01:30<00:27,  4.58s/it]\u001b[A\n",
      " 75%|███████▌  | 15/20 [01:33<00:20,  4.13s/it]\u001b[A\n",
      " 80%|████████  | 16/20 [01:36<00:14,  3.68s/it]\u001b[A\n",
      " 85%|████████▌ | 17/20 [01:38<00:09,  3.25s/it]\u001b[A\n",
      " 90%|█████████ | 18/20 [01:40<00:05,  2.82s/it]\u001b[A\n",
      " 95%|█████████▌| 19/20 [01:41<00:02,  2.40s/it]\u001b[A\n",
      "100%|██████████| 20/20 [01:42<00:00,  5.13s/it]\u001b[A\n"
     ]
    },
    {
     "name": "stdout",
     "output_type": "stream",
     "text": [
      "generator loss:0.9071328088411897\n",
      "-----------------------\n"
     ]
    },
    {
     "name": "stderr",
     "output_type": "stream",
     "text": [
      "72it [2:14:04, 110.50s/it]\n",
      "  0%|          | 0/20 [00:00<?, ?it/s]\u001b[A"
     ]
    },
    {
     "name": "stdout",
     "output_type": "stream",
     "text": [
      "total discriminator loss:0.6931948709203704\n",
      "-----------------------\n",
      "Training Step: 73\n"
     ]
    },
    {
     "name": "stderr",
     "output_type": "stream",
     "text": [
      "\n",
      "  5%|▌         | 1/20 [00:09<02:56,  9.30s/it]\u001b[A\n",
      " 10%|█         | 2/20 [00:18<02:41,  8.99s/it]\u001b[A\n",
      " 15%|█▌        | 3/20 [00:26<02:29,  8.77s/it]\u001b[A\n",
      " 20%|██        | 4/20 [00:34<02:15,  8.45s/it]\u001b[A\n",
      " 25%|██▌       | 5/20 [00:42<02:01,  8.13s/it]\u001b[A\n",
      " 30%|███       | 6/20 [00:48<01:46,  7.63s/it]\u001b[A\n",
      " 35%|███▌      | 7/20 [00:55<01:35,  7.35s/it]\u001b[A\n",
      " 40%|████      | 8/20 [01:01<01:22,  6.90s/it]\u001b[A\n",
      " 45%|████▌     | 9/20 [01:07<01:13,  6.66s/it]\u001b[A\n",
      " 50%|█████     | 10/20 [01:12<01:01,  6.18s/it]\u001b[A\n",
      " 55%|█████▌    | 11/20 [01:17<00:51,  5.74s/it]\u001b[A\n",
      " 60%|██████    | 12/20 [01:22<00:44,  5.53s/it]\u001b[A\n",
      " 65%|██████▌   | 13/20 [01:26<00:35,  5.03s/it]\u001b[A\n",
      " 70%|███████   | 14/20 [01:29<00:27,  4.55s/it]\u001b[A\n",
      " 75%|███████▌  | 15/20 [01:32<00:20,  4.10s/it]\u001b[A\n",
      " 80%|████████  | 16/20 [01:35<00:14,  3.65s/it]\u001b[A\n",
      " 85%|████████▌ | 17/20 [01:37<00:09,  3.22s/it]\u001b[A\n",
      " 90%|█████████ | 18/20 [01:39<00:05,  2.79s/it]\u001b[A\n",
      " 95%|█████████▌| 19/20 [01:40<00:02,  2.37s/it]\u001b[A\n",
      "100%|██████████| 20/20 [01:41<00:00,  5.09s/it]\u001b[A\n"
     ]
    },
    {
     "name": "stdout",
     "output_type": "stream",
     "text": [
      "generator loss:0.8912329212118966\n",
      "-----------------------\n"
     ]
    },
    {
     "name": "stderr",
     "output_type": "stream",
     "text": [
      "73it [2:15:54, 110.39s/it]\n",
      "  0%|          | 0/20 [00:00<?, ?it/s]\u001b[A"
     ]
    },
    {
     "name": "stdout",
     "output_type": "stream",
     "text": [
      "total discriminator loss:0.6931948944290103\n",
      "-----------------------\n",
      "Training Step: 74\n"
     ]
    },
    {
     "name": "stderr",
     "output_type": "stream",
     "text": [
      "\n",
      "  5%|▌         | 1/20 [00:09<02:55,  9.26s/it]\u001b[A\n",
      " 10%|█         | 2/20 [00:18<02:41,  8.97s/it]\u001b[A\n",
      " 15%|█▌        | 3/20 [00:26<02:29,  8.80s/it]\u001b[A\n",
      " 20%|██        | 4/20 [00:34<02:15,  8.47s/it]\u001b[A\n",
      " 25%|██▌       | 5/20 [00:42<02:02,  8.14s/it]\u001b[A\n",
      " 30%|███       | 6/20 [00:48<01:47,  7.66s/it]\u001b[A\n",
      " 35%|███▌      | 7/20 [00:55<01:36,  7.39s/it]\u001b[A\n",
      " 40%|████      | 8/20 [01:01<01:23,  6.92s/it]\u001b[A\n",
      " 45%|████▌     | 9/20 [01:07<01:13,  6.68s/it]\u001b[A\n",
      " 50%|█████     | 10/20 [01:12<01:02,  6.21s/it]\u001b[A\n",
      " 55%|█████▌    | 11/20 [01:17<00:51,  5.76s/it]\u001b[A\n",
      " 60%|██████    | 12/20 [01:22<00:44,  5.55s/it]\u001b[A\n",
      " 65%|██████▌   | 13/20 [01:26<00:35,  5.03s/it]\u001b[A\n",
      " 70%|███████   | 14/20 [01:30<00:27,  4.55s/it]\u001b[A\n",
      " 75%|███████▌  | 15/20 [01:33<00:20,  4.09s/it]\u001b[A\n",
      " 80%|████████  | 16/20 [01:35<00:14,  3.64s/it]\u001b[A\n",
      " 85%|████████▌ | 17/20 [01:37<00:09,  3.21s/it]\u001b[A\n",
      " 90%|█████████ | 18/20 [01:39<00:05,  2.79s/it]\u001b[A\n",
      " 95%|█████████▌| 19/20 [01:41<00:02,  2.36s/it]\u001b[A\n",
      "100%|██████████| 20/20 [01:42<00:00,  5.10s/it]\u001b[A\n"
     ]
    },
    {
     "name": "stdout",
     "output_type": "stream",
     "text": [
      "generator loss:0.9065698118204623\n",
      "-----------------------\n"
     ]
    },
    {
     "name": "stderr",
     "output_type": "stream",
     "text": [
      "74it [2:17:44, 110.38s/it]\n",
      "  0%|          | 0/20 [00:00<?, ?it/s]\u001b[A"
     ]
    },
    {
     "name": "stdout",
     "output_type": "stream",
     "text": [
      "total discriminator loss:0.6932002792851891\n",
      "-----------------------\n",
      "Training Step: 75\n"
     ]
    },
    {
     "name": "stderr",
     "output_type": "stream",
     "text": [
      "\n",
      "  5%|▌         | 1/20 [00:09<02:58,  9.38s/it]\u001b[A\n",
      " 10%|█         | 2/20 [00:18<02:43,  9.07s/it]\u001b[A\n",
      " 15%|█▌        | 3/20 [00:26<02:30,  8.84s/it]\u001b[A\n",
      " 20%|██        | 4/20 [00:34<02:15,  8.49s/it]\u001b[A\n",
      " 25%|██▌       | 5/20 [00:42<02:02,  8.17s/it]\u001b[A\n",
      " 30%|███       | 6/20 [00:49<01:47,  7.67s/it]\u001b[A\n",
      " 35%|███▌      | 7/20 [00:55<01:36,  7.41s/it]\u001b[A\n",
      " 40%|████      | 8/20 [01:02<01:23,  6.99s/it]\u001b[A\n",
      " 45%|████▌     | 9/20 [01:08<01:14,  6.79s/it]\u001b[A\n",
      " 50%|█████     | 10/20 [01:13<01:03,  6.32s/it]\u001b[A\n",
      " 55%|█████▌    | 11/20 [01:18<00:52,  5.85s/it]\u001b[A\n",
      " 60%|██████    | 12/20 [01:23<00:45,  5.63s/it]\u001b[A\n",
      " 65%|██████▌   | 13/20 [01:27<00:35,  5.09s/it]\u001b[A\n",
      " 70%|███████   | 14/20 [01:30<00:27,  4.60s/it]\u001b[A\n",
      " 75%|███████▌  | 15/20 [01:33<00:20,  4.14s/it]\u001b[A\n",
      " 80%|████████  | 16/20 [01:36<00:14,  3.70s/it]\u001b[A\n",
      " 85%|████████▌ | 17/20 [01:38<00:09,  3.27s/it]\u001b[A\n",
      " 90%|█████████ | 18/20 [01:40<00:05,  2.83s/it]\u001b[A\n",
      " 95%|█████████▌| 19/20 [01:42<00:02,  2.41s/it]\u001b[A\n",
      "100%|██████████| 20/20 [01:43<00:00,  5.16s/it]\u001b[A\n"
     ]
    },
    {
     "name": "stdout",
     "output_type": "stream",
     "text": [
      "generator loss:0.8915762637098874\n",
      "-----------------------\n"
     ]
    },
    {
     "name": "stderr",
     "output_type": "stream",
     "text": [
      "75it [2:19:36, 110.71s/it]\n",
      "  0%|          | 0/20 [00:00<?, ?it/s]\u001b[A"
     ]
    },
    {
     "name": "stdout",
     "output_type": "stream",
     "text": [
      "total discriminator loss:0.6931985652317189\n",
      "-----------------------\n",
      "Training Step: 76\n"
     ]
    },
    {
     "name": "stderr",
     "output_type": "stream",
     "text": [
      "\n",
      "  5%|▌         | 1/20 [00:09<02:57,  9.36s/it]\u001b[A\n",
      " 10%|█         | 2/20 [00:18<02:42,  9.03s/it]\u001b[A\n",
      " 15%|█▌        | 3/20 [00:26<02:29,  8.79s/it]\u001b[A\n",
      " 20%|██        | 4/20 [00:34<02:15,  8.47s/it]\u001b[A\n",
      " 25%|██▌       | 5/20 [00:42<02:02,  8.17s/it]\u001b[A\n",
      " 30%|███       | 6/20 [00:49<01:47,  7.68s/it]\u001b[A\n",
      " 35%|███▌      | 7/20 [00:55<01:36,  7.39s/it]\u001b[A\n",
      " 40%|████      | 8/20 [01:01<01:23,  6.95s/it]\u001b[A\n",
      " 45%|████▌     | 9/20 [01:07<01:13,  6.69s/it]\u001b[A\n",
      " 50%|█████     | 10/20 [01:13<01:02,  6.23s/it]\u001b[A\n",
      " 55%|█████▌    | 11/20 [01:17<00:51,  5.77s/it]\u001b[A\n",
      " 60%|██████    | 12/20 [01:22<00:44,  5.56s/it]\u001b[A\n",
      " 65%|██████▌   | 13/20 [01:26<00:35,  5.04s/it]\u001b[A\n",
      " 70%|███████   | 14/20 [01:30<00:27,  4.56s/it]\u001b[A\n",
      " 75%|███████▌  | 15/20 [01:33<00:20,  4.10s/it]\u001b[A\n",
      " 80%|████████  | 16/20 [01:35<00:14,  3.66s/it]\u001b[A\n",
      " 85%|████████▌ | 17/20 [01:38<00:09,  3.21s/it]\u001b[A\n",
      " 90%|█████████ | 18/20 [01:39<00:05,  2.79s/it]\u001b[A\n",
      " 95%|█████████▌| 19/20 [01:41<00:02,  2.37s/it]\u001b[A\n",
      "100%|██████████| 20/20 [01:42<00:00,  5.11s/it]\u001b[A\n"
     ]
    },
    {
     "name": "stdout",
     "output_type": "stream",
     "text": [
      "generator loss:0.9071269744048639\n",
      "-----------------------\n"
     ]
    },
    {
     "name": "stderr",
     "output_type": "stream",
     "text": [
      "76it [2:21:26, 110.66s/it]\n",
      "  0%|          | 0/20 [00:00<?, ?it/s]\u001b[A"
     ]
    },
    {
     "name": "stdout",
     "output_type": "stream",
     "text": [
      "total discriminator loss:0.6931903953222011\n",
      "-----------------------\n",
      "Training Step: 77\n"
     ]
    },
    {
     "name": "stderr",
     "output_type": "stream",
     "text": [
      "\n",
      "  5%|▌         | 1/20 [00:09<02:57,  9.36s/it]\u001b[A\n",
      " 10%|█         | 2/20 [00:18<02:43,  9.07s/it]\u001b[A\n",
      " 15%|█▌        | 3/20 [00:26<02:30,  8.84s/it]\u001b[A\n",
      " 20%|██        | 4/20 [00:34<02:16,  8.51s/it]\u001b[A\n",
      " 25%|██▌       | 5/20 [00:42<02:02,  8.18s/it]\u001b[A\n",
      " 30%|███       | 6/20 [00:49<01:47,  7.67s/it]\u001b[A\n",
      " 35%|███▌      | 7/20 [00:55<01:36,  7.40s/it]\u001b[A\n",
      " 40%|████      | 8/20 [01:01<01:23,  6.96s/it]\u001b[A\n",
      " 45%|████▌     | 9/20 [01:08<01:13,  6.72s/it]\u001b[A\n",
      " 50%|█████     | 10/20 [01:13<01:02,  6.26s/it]\u001b[A\n",
      " 55%|█████▌    | 11/20 [01:18<00:52,  5.81s/it]\u001b[A\n",
      " 60%|██████    | 12/20 [01:23<00:44,  5.62s/it]\u001b[A\n",
      " 65%|██████▌   | 13/20 [01:27<00:35,  5.11s/it]\u001b[A\n",
      " 70%|███████   | 14/20 [01:30<00:27,  4.64s/it]\u001b[A\n",
      " 75%|███████▌  | 15/20 [01:33<00:20,  4.18s/it]\u001b[A\n",
      " 80%|████████  | 16/20 [01:36<00:14,  3.72s/it]\u001b[A\n",
      " 85%|████████▌ | 17/20 [01:38<00:09,  3.29s/it]\u001b[A\n",
      " 90%|█████████ | 18/20 [01:40<00:05,  2.87s/it]\u001b[A\n",
      " 95%|█████████▌| 19/20 [01:42<00:02,  2.43s/it]\u001b[A\n",
      "100%|██████████| 20/20 [01:43<00:00,  5.16s/it]\u001b[A\n"
     ]
    },
    {
     "name": "stdout",
     "output_type": "stream",
     "text": [
      "generator loss:0.8921985174170391\n",
      "-----------------------\n"
     ]
    },
    {
     "name": "stderr",
     "output_type": "stream",
     "text": [
      "77it [2:23:18, 110.95s/it]\n",
      "  0%|          | 0/20 [00:00<?, ?it/s]\u001b[A"
     ]
    },
    {
     "name": "stdout",
     "output_type": "stream",
     "text": [
      "total discriminator loss:0.6931959875593259\n",
      "-----------------------\n",
      "Training Step: 78\n"
     ]
    },
    {
     "name": "stderr",
     "output_type": "stream",
     "text": [
      "\n",
      "  5%|▌         | 1/20 [00:09<03:01,  9.55s/it]\u001b[A\n",
      " 10%|█         | 2/20 [00:18<02:45,  9.21s/it]\u001b[A\n",
      " 15%|█▌        | 3/20 [00:27<02:32,  8.95s/it]\u001b[A\n",
      " 20%|██        | 4/20 [00:35<02:18,  8.64s/it]\u001b[A\n",
      " 25%|██▌       | 5/20 [00:43<02:05,  8.36s/it]\u001b[A\n",
      " 30%|███       | 6/20 [00:50<01:50,  7.86s/it]\u001b[A\n",
      " 35%|███▌      | 7/20 [00:57<01:38,  7.56s/it]\u001b[A\n",
      " 40%|████      | 8/20 [01:03<01:24,  7.07s/it]\u001b[A\n",
      " 45%|████▌     | 9/20 [01:09<01:14,  6.79s/it]\u001b[A\n",
      " 50%|█████     | 10/20 [01:14<01:02,  6.29s/it]\u001b[A\n",
      " 55%|█████▌    | 11/20 [01:19<00:52,  5.83s/it]\u001b[A\n",
      " 60%|██████    | 12/20 [01:24<00:45,  5.63s/it]\u001b[A\n",
      " 65%|██████▌   | 13/20 [01:28<00:35,  5.09s/it]\u001b[A\n",
      " 70%|███████   | 14/20 [01:31<00:27,  4.60s/it]\u001b[A\n",
      " 75%|███████▌  | 15/20 [01:34<00:20,  4.15s/it]\u001b[A\n",
      " 80%|████████  | 16/20 [01:37<00:14,  3.70s/it]\u001b[A\n",
      " 85%|████████▌ | 17/20 [01:39<00:09,  3.25s/it]\u001b[A\n",
      " 90%|█████████ | 18/20 [01:41<00:05,  2.83s/it]\u001b[A\n",
      " 95%|█████████▌| 19/20 [01:42<00:02,  2.40s/it]\u001b[A\n",
      "100%|██████████| 20/20 [01:43<00:00,  5.19s/it]\u001b[A\n"
     ]
    },
    {
     "name": "stdout",
     "output_type": "stream",
     "text": [
      "generator loss:0.9077657800959014\n",
      "-----------------------\n"
     ]
    },
    {
     "name": "stderr",
     "output_type": "stream",
     "text": [
      "78it [2:25:10, 111.33s/it]\n",
      "  0%|          | 0/20 [00:00<?, ?it/s]\u001b[A"
     ]
    },
    {
     "name": "stdout",
     "output_type": "stream",
     "text": [
      "total discriminator loss:0.6931958688734213\n",
      "-----------------------\n",
      "Training Step: 79\n"
     ]
    },
    {
     "name": "stderr",
     "output_type": "stream",
     "text": [
      "\n",
      "  5%|▌         | 1/20 [00:09<02:57,  9.37s/it]\u001b[A\n",
      " 10%|█         | 2/20 [00:18<02:43,  9.09s/it]\u001b[A\n",
      " 15%|█▌        | 3/20 [00:26<02:31,  8.88s/it]\u001b[A\n",
      " 20%|██        | 4/20 [00:34<02:16,  8.55s/it]\u001b[A\n",
      " 25%|██▌       | 5/20 [00:42<02:03,  8.24s/it]\u001b[A\n",
      " 30%|███       | 6/20 [00:49<01:48,  7.74s/it]\u001b[A\n",
      " 35%|███▌      | 7/20 [00:56<01:36,  7.45s/it]\u001b[A\n",
      " 40%|████      | 8/20 [01:02<01:23,  7.00s/it]\u001b[A\n",
      " 45%|████▌     | 9/20 [01:08<01:14,  6.74s/it]\u001b[A\n",
      " 50%|█████     | 10/20 [01:13<01:02,  6.26s/it]\u001b[A\n",
      " 55%|█████▌    | 11/20 [01:18<00:52,  5.80s/it]\u001b[A\n",
      " 60%|██████    | 12/20 [01:23<00:44,  5.58s/it]\u001b[A\n",
      " 65%|██████▌   | 13/20 [01:27<00:35,  5.08s/it]\u001b[A\n",
      " 70%|███████   | 14/20 [01:30<00:27,  4.60s/it]\u001b[A\n",
      " 75%|███████▌  | 15/20 [01:33<00:20,  4.14s/it]\u001b[A\n",
      " 80%|████████  | 16/20 [01:36<00:14,  3.69s/it]\u001b[A\n",
      " 85%|████████▌ | 17/20 [01:38<00:09,  3.26s/it]\u001b[A\n",
      " 90%|█████████ | 18/20 [01:40<00:05,  2.84s/it]\u001b[A\n",
      " 95%|█████████▌| 19/20 [01:42<00:02,  2.42s/it]\u001b[A\n",
      "100%|██████████| 20/20 [01:43<00:00,  5.16s/it]\u001b[A\n"
     ]
    },
    {
     "name": "stdout",
     "output_type": "stream",
     "text": [
      "generator loss:0.8904037698602497\n",
      "-----------------------\n"
     ]
    },
    {
     "name": "stderr",
     "output_type": "stream",
     "text": [
      "79it [2:27:02, 111.42s/it]\n",
      "  0%|          | 0/20 [00:00<?, ?it/s]\u001b[A"
     ]
    },
    {
     "name": "stdout",
     "output_type": "stream",
     "text": [
      "total discriminator loss:0.6931927554995371\n",
      "-----------------------\n",
      "Training Step: 80\n"
     ]
    },
    {
     "name": "stderr",
     "output_type": "stream",
     "text": [
      "\n",
      "  5%|▌         | 1/20 [00:09<03:00,  9.53s/it]\u001b[A\n",
      " 10%|█         | 2/20 [00:18<02:44,  9.13s/it]\u001b[A\n",
      " 15%|█▌        | 3/20 [00:26<02:31,  8.88s/it]\u001b[A\n",
      " 20%|██        | 4/20 [00:34<02:16,  8.55s/it]\u001b[A\n",
      " 25%|██▌       | 5/20 [00:42<02:02,  8.19s/it]\u001b[A\n",
      " 30%|███       | 6/20 [00:49<01:47,  7.69s/it]\u001b[A\n",
      " 35%|███▌      | 7/20 [00:56<01:36,  7.41s/it]\u001b[A\n",
      " 40%|████      | 8/20 [01:02<01:23,  6.94s/it]\u001b[A\n",
      " 45%|████▌     | 9/20 [01:08<01:13,  6.68s/it]\u001b[A\n",
      " 50%|█████     | 10/20 [01:13<01:01,  6.18s/it]\u001b[A\n",
      " 55%|█████▌    | 11/20 [01:17<00:51,  5.74s/it]\u001b[A\n",
      " 60%|██████    | 12/20 [01:23<00:44,  5.55s/it]\u001b[A\n",
      " 65%|██████▌   | 13/20 [01:26<00:35,  5.04s/it]\u001b[A\n",
      " 70%|███████   | 14/20 [01:30<00:27,  4.56s/it]\u001b[A\n",
      " 75%|███████▌  | 15/20 [01:33<00:20,  4.10s/it]\u001b[A\n",
      " 80%|████████  | 16/20 [01:36<00:14,  3.66s/it]\u001b[A\n",
      " 85%|████████▌ | 17/20 [01:38<00:09,  3.23s/it]\u001b[A\n",
      " 90%|█████████ | 18/20 [01:40<00:05,  2.81s/it]\u001b[A\n",
      " 95%|█████████▌| 19/20 [01:41<00:02,  2.39s/it]\u001b[A\n",
      "100%|██████████| 20/20 [01:42<00:00,  5.13s/it]\u001b[A\n"
     ]
    },
    {
     "name": "stdout",
     "output_type": "stream",
     "text": [
      "generator loss:0.907244257608045\n",
      "-----------------------\n"
     ]
    },
    {
     "name": "stderr",
     "output_type": "stream",
     "text": [
      "80it [2:28:53, 111.26s/it]\n",
      "  0%|          | 0/20 [00:00<?, ?it/s]\u001b[A"
     ]
    },
    {
     "name": "stdout",
     "output_type": "stream",
     "text": [
      "total discriminator loss:0.693196653547235\n",
      "-----------------------\n",
      "Training Step: 81\n"
     ]
    },
    {
     "name": "stderr",
     "output_type": "stream",
     "text": [
      "\n",
      "  5%|▌         | 1/20 [00:09<03:00,  9.53s/it]\u001b[A\n",
      " 10%|█         | 2/20 [00:18<02:43,  9.08s/it]\u001b[A\n",
      " 15%|█▌        | 3/20 [00:26<02:29,  8.80s/it]\u001b[A\n",
      " 20%|██        | 4/20 [00:34<02:15,  8.47s/it]\u001b[A\n",
      " 25%|██▌       | 5/20 [00:42<02:01,  8.12s/it]\u001b[A\n",
      " 30%|███       | 6/20 [00:48<01:46,  7.62s/it]\u001b[A\n",
      " 35%|███▌      | 7/20 [00:55<01:35,  7.36s/it]\u001b[A\n",
      " 40%|████      | 8/20 [01:01<01:22,  6.91s/it]\u001b[A\n",
      " 45%|████▌     | 9/20 [01:07<01:13,  6.68s/it]\u001b[A\n",
      " 50%|█████     | 10/20 [01:13<01:02,  6.22s/it]\u001b[A\n",
      " 55%|█████▌    | 11/20 [01:17<00:51,  5.77s/it]\u001b[A\n",
      " 60%|██████    | 12/20 [01:22<00:44,  5.57s/it]\u001b[A\n",
      " 65%|██████▌   | 13/20 [01:26<00:35,  5.06s/it]\u001b[A\n",
      " 70%|███████   | 14/20 [01:30<00:27,  4.57s/it]\u001b[A\n",
      " 75%|███████▌  | 15/20 [01:33<00:20,  4.11s/it]\u001b[A\n",
      " 80%|████████  | 16/20 [01:35<00:14,  3.66s/it]\u001b[A\n",
      " 85%|████████▌ | 17/20 [01:38<00:09,  3.24s/it]\u001b[A\n",
      " 90%|█████████ | 18/20 [01:39<00:05,  2.81s/it]\u001b[A\n",
      " 95%|█████████▌| 19/20 [01:41<00:02,  2.39s/it]\u001b[A\n",
      "100%|██████████| 20/20 [01:42<00:00,  5.12s/it]\u001b[A\n"
     ]
    },
    {
     "name": "stdout",
     "output_type": "stream",
     "text": [
      "generator loss:0.8906370853800876\n",
      "-----------------------\n"
     ]
    },
    {
     "name": "stderr",
     "output_type": "stream",
     "text": [
      "81it [2:30:43, 111.10s/it]\n",
      "  0%|          | 0/20 [00:00<?, ?it/s]\u001b[A"
     ]
    },
    {
     "name": "stdout",
     "output_type": "stream",
     "text": [
      "total discriminator loss:0.6931927696527295\n",
      "-----------------------\n",
      "Training Step: 82\n"
     ]
    },
    {
     "name": "stderr",
     "output_type": "stream",
     "text": [
      "\n",
      "  5%|▌         | 1/20 [00:09<02:57,  9.33s/it]\u001b[A\n",
      " 10%|█         | 2/20 [00:18<02:42,  9.03s/it]\u001b[A\n",
      " 15%|█▌        | 3/20 [00:26<02:29,  8.79s/it]\u001b[A\n",
      " 20%|██        | 4/20 [00:34<02:16,  8.51s/it]\u001b[A\n",
      " 25%|██▌       | 5/20 [00:42<02:02,  8.20s/it]\u001b[A\n",
      " 30%|███       | 6/20 [00:49<01:47,  7.68s/it]\u001b[A\n",
      " 35%|███▌      | 7/20 [00:55<01:36,  7.41s/it]\u001b[A\n",
      " 40%|████      | 8/20 [01:01<01:23,  6.96s/it]\u001b[A\n",
      " 45%|████▌     | 9/20 [01:07<01:13,  6.69s/it]\u001b[A\n",
      " 50%|█████     | 10/20 [01:13<01:02,  6.21s/it]\u001b[A\n",
      " 55%|█████▌    | 11/20 [01:17<00:51,  5.75s/it]\u001b[A\n",
      " 60%|██████    | 12/20 [01:22<00:44,  5.54s/it]\u001b[A\n",
      " 65%|██████▌   | 13/20 [01:26<00:35,  5.02s/it]\u001b[A\n",
      " 70%|███████   | 14/20 [01:30<00:27,  4.54s/it]\u001b[A\n",
      " 75%|███████▌  | 15/20 [01:33<00:20,  4.09s/it]\u001b[A\n",
      " 80%|████████  | 16/20 [01:35<00:14,  3.65s/it]\u001b[A\n",
      " 85%|████████▌ | 17/20 [01:38<00:09,  3.23s/it]\u001b[A\n",
      " 90%|█████████ | 18/20 [01:39<00:05,  2.80s/it]\u001b[A\n",
      " 95%|█████████▌| 19/20 [01:41<00:02,  2.37s/it]\u001b[A\n",
      "100%|██████████| 20/20 [01:42<00:00,  5.11s/it]\u001b[A\n"
     ]
    },
    {
     "name": "stdout",
     "output_type": "stream",
     "text": [
      "generator loss:0.906693126705551\n",
      "-----------------------\n"
     ]
    },
    {
     "name": "stderr",
     "output_type": "stream",
     "text": [
      "82it [2:32:34, 110.95s/it]\n",
      "  0%|          | 0/20 [00:00<?, ?it/s]\u001b[A"
     ]
    },
    {
     "name": "stdout",
     "output_type": "stream",
     "text": [
      "total discriminator loss:0.6931964791124253\n",
      "-----------------------\n",
      "Training Step: 83\n"
     ]
    },
    {
     "name": "stderr",
     "output_type": "stream",
     "text": [
      "\n",
      "  5%|▌         | 1/20 [00:09<02:56,  9.32s/it]\u001b[A\n",
      " 10%|█         | 2/20 [00:18<02:42,  9.01s/it]\u001b[A\n",
      " 15%|█▌        | 3/20 [00:26<02:28,  8.76s/it]\u001b[A\n",
      " 20%|██        | 4/20 [00:34<02:15,  8.45s/it]\u001b[A\n",
      " 25%|██▌       | 5/20 [00:42<02:01,  8.13s/it]\u001b[A\n",
      " 30%|███       | 6/20 [00:48<01:46,  7.62s/it]\u001b[A\n",
      " 35%|███▌      | 7/20 [00:55<01:35,  7.37s/it]\u001b[A\n",
      " 40%|████      | 8/20 [01:01<01:23,  6.93s/it]\u001b[A\n",
      " 45%|████▌     | 9/20 [01:07<01:13,  6.70s/it]\u001b[A\n",
      " 50%|█████     | 10/20 [01:12<01:02,  6.22s/it]\u001b[A\n",
      " 55%|█████▌    | 11/20 [01:17<00:51,  5.77s/it]\u001b[A\n",
      " 60%|██████    | 12/20 [01:22<00:44,  5.57s/it]\u001b[A\n",
      " 65%|██████▌   | 13/20 [01:26<00:35,  5.06s/it]\u001b[A\n",
      " 70%|███████   | 14/20 [01:30<00:27,  4.59s/it]\u001b[A\n",
      " 75%|███████▌  | 15/20 [01:33<00:20,  4.12s/it]\u001b[A\n",
      " 80%|████████  | 16/20 [01:35<00:14,  3.66s/it]\u001b[A\n",
      " 85%|████████▌ | 17/20 [01:38<00:09,  3.24s/it]\u001b[A\n",
      " 90%|█████████ | 18/20 [01:39<00:05,  2.81s/it]\u001b[A\n",
      " 95%|█████████▌| 19/20 [01:41<00:02,  2.39s/it]\u001b[A\n",
      "100%|██████████| 20/20 [01:42<00:00,  5.11s/it]\u001b[A\n"
     ]
    },
    {
     "name": "stdout",
     "output_type": "stream",
     "text": [
      "generator loss:0.8912675266481397\n",
      "-----------------------\n"
     ]
    },
    {
     "name": "stderr",
     "output_type": "stream",
     "text": [
      "83it [2:34:25, 110.85s/it]\n",
      "  0%|          | 0/20 [00:00<?, ?it/s]\u001b[A"
     ]
    },
    {
     "name": "stdout",
     "output_type": "stream",
     "text": [
      "total discriminator loss:0.6931984903476704\n",
      "-----------------------\n",
      "Training Step: 84\n"
     ]
    },
    {
     "name": "stderr",
     "output_type": "stream",
     "text": [
      "\n",
      "  5%|▌         | 1/20 [00:09<02:56,  9.29s/it]\u001b[A\n",
      " 10%|█         | 2/20 [00:18<02:41,  9.00s/it]\u001b[A\n",
      " 15%|█▌        | 3/20 [00:26<02:29,  8.78s/it]\u001b[A\n",
      " 20%|██        | 4/20 [00:34<02:15,  8.47s/it]\u001b[A\n",
      " 25%|██▌       | 5/20 [00:42<02:02,  8.19s/it]\u001b[A\n",
      " 30%|███       | 6/20 [00:49<01:47,  7.70s/it]\u001b[A\n",
      " 35%|███▌      | 7/20 [00:55<01:36,  7.45s/it]\u001b[A\n",
      " 40%|████      | 8/20 [01:01<01:23,  6.98s/it]\u001b[A\n",
      " 45%|████▌     | 9/20 [01:08<01:14,  6.74s/it]\u001b[A\n",
      " 50%|█████     | 10/20 [01:13<01:02,  6.26s/it]\u001b[A\n",
      " 55%|█████▌    | 11/20 [01:18<00:52,  5.79s/it]\u001b[A\n",
      " 60%|██████    | 12/20 [01:23<00:44,  5.60s/it]\u001b[A\n",
      " 65%|██████▌   | 13/20 [01:27<00:35,  5.07s/it]\u001b[A\n",
      " 70%|███████   | 14/20 [01:30<00:27,  4.58s/it]\u001b[A\n",
      " 75%|███████▌  | 15/20 [01:33<00:20,  4.10s/it]\u001b[A\n",
      " 80%|████████  | 16/20 [01:36<00:14,  3.64s/it]\u001b[A\n",
      " 85%|████████▌ | 17/20 [01:38<00:09,  3.20s/it]\u001b[A\n",
      " 90%|█████████ | 18/20 [01:40<00:05,  2.78s/it]\u001b[A\n",
      " 95%|█████████▌| 19/20 [01:41<00:02,  2.36s/it]\u001b[A\n",
      "100%|██████████| 20/20 [01:42<00:00,  5.12s/it]\u001b[A\n"
     ]
    },
    {
     "name": "stdout",
     "output_type": "stream",
     "text": [
      "generator loss:0.9072579711831498\n",
      "-----------------------\n"
     ]
    },
    {
     "name": "stderr",
     "output_type": "stream",
     "text": [
      "84it [2:36:15, 110.81s/it]\n",
      "  0%|          | 0/20 [00:00<?, ?it/s]\u001b[A"
     ]
    },
    {
     "name": "stdout",
     "output_type": "stream",
     "text": [
      "total discriminator loss:0.6931968625290297\n",
      "-----------------------\n",
      "Training Step: 85\n"
     ]
    },
    {
     "name": "stderr",
     "output_type": "stream",
     "text": [
      "\n",
      "  5%|▌         | 1/20 [00:09<02:56,  9.31s/it]\u001b[A\n",
      " 10%|█         | 2/20 [00:18<02:42,  9.03s/it]\u001b[A\n",
      " 15%|█▌        | 3/20 [00:26<02:29,  8.79s/it]\u001b[A\n",
      " 20%|██        | 4/20 [00:34<02:15,  8.47s/it]\u001b[A\n",
      " 25%|██▌       | 5/20 [00:42<02:02,  8.15s/it]\u001b[A\n",
      " 30%|███       | 6/20 [00:48<01:46,  7.64s/it]\u001b[A\n",
      " 35%|███▌      | 7/20 [00:55<01:35,  7.38s/it]\u001b[A\n",
      " 40%|████      | 8/20 [01:01<01:22,  6.91s/it]\u001b[A\n",
      " 45%|████▌     | 9/20 [01:07<01:13,  6.66s/it]\u001b[A\n",
      " 50%|█████     | 10/20 [01:12<01:01,  6.19s/it]\u001b[A\n",
      " 55%|█████▌    | 11/20 [01:17<00:51,  5.77s/it]\u001b[A\n",
      " 60%|██████    | 12/20 [01:22<00:44,  5.57s/it]\u001b[A\n",
      " 65%|██████▌   | 13/20 [01:26<00:35,  5.06s/it]\u001b[A\n",
      " 70%|███████   | 14/20 [01:30<00:27,  4.57s/it]\u001b[A\n",
      " 75%|███████▌  | 15/20 [01:33<00:20,  4.11s/it]\u001b[A\n",
      " 80%|████████  | 16/20 [01:35<00:14,  3.67s/it]\u001b[A\n",
      " 85%|████████▌ | 17/20 [01:38<00:09,  3.23s/it]\u001b[A\n",
      " 90%|█████████ | 18/20 [01:39<00:05,  2.81s/it]\u001b[A\n",
      " 95%|█████████▌| 19/20 [01:41<00:02,  2.39s/it]\u001b[A\n",
      "100%|██████████| 20/20 [01:42<00:00,  5.11s/it]\u001b[A\n"
     ]
    },
    {
     "name": "stdout",
     "output_type": "stream",
     "text": [
      "generator loss:0.891314638872092\n",
      "-----------------------\n"
     ]
    },
    {
     "name": "stderr",
     "output_type": "stream",
     "text": [
      "85it [2:38:06, 110.75s/it]\n",
      "  0%|          | 0/20 [00:00<?, ?it/s]\u001b[A"
     ]
    },
    {
     "name": "stdout",
     "output_type": "stream",
     "text": [
      "total discriminator loss:0.6932031138104825\n",
      "-----------------------\n",
      "Training Step: 86\n"
     ]
    },
    {
     "name": "stderr",
     "output_type": "stream",
     "text": [
      "\n",
      "  5%|▌         | 1/20 [00:09<02:56,  9.31s/it]\u001b[A\n",
      " 10%|█         | 2/20 [00:18<02:41,  8.99s/it]\u001b[A\n",
      " 15%|█▌        | 3/20 [00:26<02:28,  8.76s/it]\u001b[A\n",
      " 20%|██        | 4/20 [00:34<02:14,  8.42s/it]\u001b[A\n",
      " 25%|██▌       | 5/20 [00:41<02:01,  8.10s/it]\u001b[A\n",
      " 30%|███       | 6/20 [00:48<01:46,  7.60s/it]\u001b[A\n",
      " 35%|███▌      | 7/20 [00:55<01:35,  7.35s/it]\u001b[A\n",
      " 40%|████      | 8/20 [01:01<01:22,  6.89s/it]\u001b[A\n",
      " 45%|████▌     | 9/20 [01:07<01:13,  6.69s/it]\u001b[A\n",
      " 50%|█████     | 10/20 [01:12<01:02,  6.21s/it]\u001b[A\n",
      " 55%|█████▌    | 11/20 [01:17<00:51,  5.76s/it]\u001b[A\n",
      " 60%|██████    | 12/20 [01:22<00:44,  5.56s/it]\u001b[A\n",
      " 65%|██████▌   | 13/20 [01:26<00:35,  5.04s/it]\u001b[A\n",
      " 70%|███████   | 14/20 [01:29<00:27,  4.56s/it]\u001b[A\n",
      " 75%|███████▌  | 15/20 [01:32<00:20,  4.10s/it]\u001b[A\n",
      " 80%|████████  | 16/20 [01:35<00:14,  3.66s/it]\u001b[A\n",
      " 85%|████████▌ | 17/20 [01:37<00:09,  3.23s/it]\u001b[A\n",
      " 90%|█████████ | 18/20 [01:39<00:05,  2.80s/it]\u001b[A\n",
      " 95%|█████████▌| 19/20 [01:40<00:02,  2.38s/it]\u001b[A\n",
      "100%|██████████| 20/20 [01:42<00:00,  5.10s/it]\u001b[A\n"
     ]
    },
    {
     "name": "stdout",
     "output_type": "stream",
     "text": [
      "generator loss:0.9068728086929434\n",
      "-----------------------\n"
     ]
    },
    {
     "name": "stderr",
     "output_type": "stream",
     "text": [
      "86it [2:39:56, 110.65s/it]\n",
      "  0%|          | 0/20 [00:00<?, ?it/s]\u001b[A"
     ]
    },
    {
     "name": "stdout",
     "output_type": "stream",
     "text": [
      "total discriminator loss:0.6932009288426474\n",
      "-----------------------\n",
      "Training Step: 87\n"
     ]
    },
    {
     "name": "stderr",
     "output_type": "stream",
     "text": [
      "\n",
      "  5%|▌         | 1/20 [00:09<02:56,  9.28s/it]\u001b[A\n",
      " 10%|█         | 2/20 [00:18<02:41,  8.96s/it]\u001b[A\n",
      " 15%|█▌        | 3/20 [00:26<02:28,  8.73s/it]\u001b[A\n",
      " 20%|██        | 4/20 [00:34<02:14,  8.42s/it]\u001b[A\n",
      " 25%|██▌       | 5/20 [00:42<02:01,  8.13s/it]\u001b[A\n",
      " 30%|███       | 6/20 [00:48<01:46,  7.63s/it]\u001b[A\n",
      " 35%|███▌      | 7/20 [00:55<01:35,  7.36s/it]\u001b[A\n",
      " 40%|████      | 8/20 [01:01<01:22,  6.91s/it]\u001b[A\n",
      " 45%|████▌     | 9/20 [01:07<01:13,  6.66s/it]\u001b[A\n",
      " 50%|█████     | 10/20 [01:12<01:01,  6.17s/it]\u001b[A\n",
      " 55%|█████▌    | 11/20 [01:17<00:51,  5.72s/it]\u001b[A\n",
      " 60%|██████    | 12/20 [01:22<00:44,  5.52s/it]\u001b[A\n",
      " 65%|██████▌   | 13/20 [01:26<00:35,  5.00s/it]\u001b[A\n",
      " 70%|███████   | 14/20 [01:29<00:27,  4.53s/it]\u001b[A\n",
      " 75%|███████▌  | 15/20 [01:32<00:20,  4.07s/it]\u001b[A\n",
      " 80%|████████  | 16/20 [01:35<00:14,  3.63s/it]\u001b[A\n",
      " 85%|████████▌ | 17/20 [01:37<00:09,  3.19s/it]\u001b[A\n",
      " 90%|█████████ | 18/20 [01:39<00:05,  2.78s/it]\u001b[A\n",
      " 95%|█████████▌| 19/20 [01:40<00:02,  2.36s/it]\u001b[A\n",
      "100%|██████████| 20/20 [01:41<00:00,  5.08s/it]\u001b[A\n"
     ]
    },
    {
     "name": "stdout",
     "output_type": "stream",
     "text": [
      "generator loss:0.8915568238699902\n",
      "-----------------------\n"
     ]
    },
    {
     "name": "stderr",
     "output_type": "stream",
     "text": [
      "87it [2:41:46, 110.43s/it]\n",
      "  0%|          | 0/20 [00:00<?, ?it/s]\u001b[A"
     ]
    },
    {
     "name": "stdout",
     "output_type": "stream",
     "text": [
      "total discriminator loss:0.6931921720493923\n",
      "-----------------------\n",
      "Training Step: 88\n"
     ]
    },
    {
     "name": "stderr",
     "output_type": "stream",
     "text": [
      "\n",
      "  5%|▌         | 1/20 [00:09<02:55,  9.25s/it]\u001b[A\n",
      " 10%|█         | 2/20 [00:17<02:41,  8.95s/it]\u001b[A\n",
      " 15%|█▌        | 3/20 [00:26<02:27,  8.70s/it]\u001b[A\n",
      " 20%|██        | 4/20 [00:34<02:13,  8.36s/it]\u001b[A\n",
      " 25%|██▌       | 5/20 [00:41<02:01,  8.07s/it]\u001b[A\n",
      " 30%|███       | 6/20 [00:48<01:46,  7.58s/it]\u001b[A\n",
      " 35%|███▌      | 7/20 [00:55<01:35,  7.35s/it]\u001b[A\n",
      " 40%|████      | 8/20 [01:01<01:22,  6.91s/it]\u001b[A\n",
      " 45%|████▌     | 9/20 [01:07<01:13,  6.68s/it]\u001b[A\n",
      " 50%|█████     | 10/20 [01:12<01:02,  6.21s/it]\u001b[A\n",
      " 55%|█████▌    | 11/20 [01:17<00:51,  5.77s/it]\u001b[A\n",
      " 60%|██████    | 12/20 [01:22<00:44,  5.54s/it]\u001b[A\n",
      " 65%|██████▌   | 13/20 [01:26<00:35,  5.02s/it]\u001b[A\n",
      " 70%|███████   | 14/20 [01:29<00:27,  4.54s/it]\u001b[A\n",
      " 75%|███████▌  | 15/20 [01:32<00:20,  4.09s/it]\u001b[A\n",
      " 80%|████████  | 16/20 [01:35<00:14,  3.64s/it]\u001b[A\n",
      " 85%|████████▌ | 17/20 [01:37<00:09,  3.21s/it]\u001b[A\n",
      " 90%|█████████ | 18/20 [01:39<00:05,  2.79s/it]\u001b[A\n",
      " 95%|█████████▌| 19/20 [01:40<00:02,  2.37s/it]\u001b[A\n",
      "100%|██████████| 20/20 [01:41<00:00,  5.08s/it]\u001b[A\n"
     ]
    },
    {
     "name": "stdout",
     "output_type": "stream",
     "text": [
      "generator loss:0.9060305418614935\n",
      "-----------------------\n"
     ]
    },
    {
     "name": "stderr",
     "output_type": "stream",
     "text": [
      "88it [2:43:36, 110.29s/it]\n",
      "  0%|          | 0/20 [00:00<?, ?it/s]\u001b[A"
     ]
    },
    {
     "name": "stdout",
     "output_type": "stream",
     "text": [
      "total discriminator loss:0.6931941259877301\n",
      "-----------------------\n",
      "Training Step: 89\n"
     ]
    },
    {
     "name": "stderr",
     "output_type": "stream",
     "text": [
      "\n",
      "  5%|▌         | 1/20 [00:09<02:56,  9.30s/it]\u001b[A\n",
      " 10%|█         | 2/20 [00:18<02:42,  9.01s/it]\u001b[A\n",
      " 15%|█▌        | 3/20 [00:26<02:28,  8.76s/it]\u001b[A\n",
      " 20%|██        | 4/20 [00:34<02:14,  8.43s/it]\u001b[A\n",
      " 25%|██▌       | 5/20 [00:42<02:01,  8.10s/it]\u001b[A\n",
      " 30%|███       | 6/20 [00:48<01:46,  7.61s/it]\u001b[A\n",
      " 35%|███▌      | 7/20 [00:55<01:35,  7.35s/it]\u001b[A\n",
      " 40%|████      | 8/20 [01:01<01:22,  6.89s/it]\u001b[A\n",
      " 45%|████▌     | 9/20 [01:07<01:13,  6.66s/it]\u001b[A\n",
      " 50%|█████     | 10/20 [01:12<01:01,  6.19s/it]\u001b[A\n",
      " 55%|█████▌    | 11/20 [01:17<00:51,  5.77s/it]\u001b[A\n",
      " 60%|██████    | 12/20 [01:22<00:44,  5.59s/it]\u001b[A\n",
      " 65%|██████▌   | 13/20 [01:26<00:35,  5.06s/it]\u001b[A\n",
      " 70%|███████   | 14/20 [01:29<00:27,  4.57s/it]\u001b[A\n",
      " 75%|███████▌  | 15/20 [01:32<00:20,  4.11s/it]\u001b[A\n",
      " 80%|████████  | 16/20 [01:35<00:14,  3.66s/it]\u001b[A\n",
      " 85%|████████▌ | 17/20 [01:37<00:09,  3.23s/it]\u001b[A\n",
      " 90%|█████████ | 18/20 [01:39<00:05,  2.81s/it]\u001b[A\n",
      " 95%|█████████▌| 19/20 [01:41<00:02,  2.39s/it]\u001b[A\n",
      "100%|██████████| 20/20 [01:42<00:00,  5.10s/it]\u001b[A\n"
     ]
    },
    {
     "name": "stdout",
     "output_type": "stream",
     "text": [
      "generator loss:0.8915708920960913\n",
      "-----------------------\n"
     ]
    },
    {
     "name": "stderr",
     "output_type": "stream",
     "text": [
      "89it [2:45:27, 110.29s/it]\n",
      "  0%|          | 0/20 [00:00<?, ?it/s]\u001b[A"
     ]
    },
    {
     "name": "stdout",
     "output_type": "stream",
     "text": [
      "total discriminator loss:0.6931920065751364\n",
      "-----------------------\n",
      "Training Step: 90\n"
     ]
    },
    {
     "name": "stderr",
     "output_type": "stream",
     "text": [
      "\n",
      "  5%|▌         | 1/20 [00:09<02:57,  9.33s/it]\u001b[A\n",
      " 10%|█         | 2/20 [00:18<02:42,  9.03s/it]\u001b[A\n",
      " 15%|█▌        | 3/20 [00:26<02:29,  8.82s/it]\u001b[A\n",
      " 20%|██        | 4/20 [00:34<02:15,  8.49s/it]\u001b[A\n",
      " 25%|██▌       | 5/20 [00:42<02:02,  8.18s/it]\u001b[A\n",
      " 30%|███       | 6/20 [00:48<01:47,  7.66s/it]\u001b[A\n",
      " 35%|███▌      | 7/20 [00:55<01:35,  7.36s/it]\u001b[A\n",
      " 40%|████      | 8/20 [01:01<01:22,  6.90s/it]\u001b[A\n",
      " 45%|████▌     | 9/20 [01:07<01:13,  6.65s/it]\u001b[A\n",
      " 50%|█████     | 10/20 [01:12<01:01,  6.17s/it]\u001b[A\n",
      " 55%|█████▌    | 11/20 [01:17<00:51,  5.71s/it]\u001b[A\n",
      " 60%|██████    | 12/20 [01:22<00:44,  5.53s/it]\u001b[A\n",
      " 65%|██████▌   | 13/20 [01:26<00:35,  5.01s/it]\u001b[A\n",
      " 70%|███████   | 14/20 [01:29<00:27,  4.52s/it]\u001b[A\n",
      " 75%|███████▌  | 15/20 [01:32<00:20,  4.06s/it]\u001b[A\n",
      " 80%|████████  | 16/20 [01:35<00:14,  3.61s/it]\u001b[A\n",
      " 85%|████████▌ | 17/20 [01:37<00:09,  3.18s/it]\u001b[A\n",
      " 90%|█████████ | 18/20 [01:39<00:05,  2.77s/it]\u001b[A\n",
      " 95%|█████████▌| 19/20 [01:40<00:02,  2.35s/it]\u001b[A\n",
      "100%|██████████| 20/20 [01:41<00:00,  5.09s/it]\u001b[A\n"
     ]
    },
    {
     "name": "stdout",
     "output_type": "stream",
     "text": [
      "generator loss:0.9070680282789013\n",
      "-----------------------\n"
     ]
    },
    {
     "name": "stderr",
     "output_type": "stream",
     "text": [
      "90it [2:47:17, 110.19s/it]\n",
      "  0%|          | 0/20 [00:00<?, ?it/s]\u001b[A"
     ]
    },
    {
     "name": "stdout",
     "output_type": "stream",
     "text": [
      "total discriminator loss:0.6931919034178942\n",
      "-----------------------\n",
      "Training Step: 91\n"
     ]
    },
    {
     "name": "stderr",
     "output_type": "stream",
     "text": [
      "\n",
      "  5%|▌         | 1/20 [00:09<02:56,  9.30s/it]\u001b[A\n",
      " 10%|█         | 2/20 [00:18<02:41,  9.00s/it]\u001b[A\n",
      " 15%|█▌        | 3/20 [00:26<02:29,  8.78s/it]\u001b[A\n",
      " 20%|██        | 4/20 [00:34<02:15,  8.49s/it]\u001b[A\n",
      " 25%|██▌       | 5/20 [00:42<02:03,  8.22s/it]\u001b[A\n",
      " 30%|███       | 6/20 [00:49<01:48,  7.75s/it]\u001b[A\n",
      " 35%|███▌      | 7/20 [00:56<01:37,  7.48s/it]\u001b[A\n",
      " 40%|████      | 8/20 [01:02<01:24,  7.01s/it]\u001b[A\n",
      " 45%|████▌     | 9/20 [01:08<01:14,  6.76s/it]\u001b[A\n",
      " 50%|█████     | 10/20 [01:13<01:02,  6.27s/it]\u001b[A\n",
      " 55%|█████▌    | 11/20 [01:18<00:52,  5.81s/it]\u001b[A\n",
      " 60%|██████    | 12/20 [01:23<00:44,  5.62s/it]\u001b[A\n",
      " 65%|██████▌   | 13/20 [01:27<00:35,  5.10s/it]\u001b[A\n",
      " 70%|███████   | 14/20 [01:30<00:27,  4.61s/it]\u001b[A\n",
      " 75%|███████▌  | 15/20 [01:33<00:20,  4.14s/it]\u001b[A\n",
      " 80%|████████  | 16/20 [01:36<00:14,  3.69s/it]\u001b[A\n",
      " 85%|████████▌ | 17/20 [01:38<00:09,  3.25s/it]\u001b[A\n",
      " 90%|█████████ | 18/20 [01:40<00:05,  2.82s/it]\u001b[A\n",
      " 95%|█████████▌| 19/20 [01:42<00:02,  2.41s/it]\u001b[A\n",
      "100%|██████████| 20/20 [01:43<00:00,  5.16s/it]\u001b[A\n"
     ]
    },
    {
     "name": "stdout",
     "output_type": "stream",
     "text": [
      "generator loss:0.8910831587853171\n",
      "-----------------------\n"
     ]
    },
    {
     "name": "stderr",
     "output_type": "stream",
     "text": [
      "91it [2:49:08, 110.56s/it]\n",
      "  0%|          | 0/20 [00:00<?, ?it/s]\u001b[A"
     ]
    },
    {
     "name": "stdout",
     "output_type": "stream",
     "text": [
      "total discriminator loss:0.6931903797067471\n",
      "-----------------------\n",
      "Training Step: 92\n"
     ]
    },
    {
     "name": "stderr",
     "output_type": "stream",
     "text": [
      "\n",
      "  5%|▌         | 1/20 [00:09<02:59,  9.46s/it]\u001b[A\n",
      " 10%|█         | 2/20 [00:18<02:45,  9.18s/it]\u001b[A\n",
      " 15%|█▌        | 3/20 [00:27<02:33,  9.01s/it]\u001b[A\n",
      " 20%|██        | 4/20 [00:35<02:18,  8.68s/it]\u001b[A\n",
      " 25%|██▌       | 5/20 [00:43<02:05,  8.35s/it]\u001b[A\n",
      " 30%|███       | 6/20 [00:49<01:49,  7.82s/it]\u001b[A\n",
      " 35%|███▌      | 7/20 [00:56<01:38,  7.54s/it]\u001b[A\n",
      " 40%|████      | 8/20 [01:03<01:24,  7.07s/it]\u001b[A\n",
      " 45%|████▌     | 9/20 [01:09<01:15,  6.85s/it]\u001b[A\n",
      " 50%|█████     | 10/20 [01:14<01:03,  6.35s/it]\u001b[A\n",
      " 55%|█████▌    | 11/20 [01:19<00:52,  5.87s/it]\u001b[A\n",
      " 60%|██████    | 12/20 [01:24<00:45,  5.66s/it]\u001b[A\n",
      " 65%|██████▌   | 13/20 [01:28<00:35,  5.13s/it]\u001b[A\n",
      " 70%|███████   | 14/20 [01:32<00:27,  4.65s/it]\u001b[A\n",
      " 75%|███████▌  | 15/20 [01:35<00:20,  4.18s/it]\u001b[A\n",
      " 80%|████████  | 16/20 [01:37<00:14,  3.73s/it]\u001b[A\n",
      " 85%|████████▌ | 17/20 [01:40<00:09,  3.30s/it]\u001b[A\n",
      " 90%|█████████ | 18/20 [01:41<00:05,  2.87s/it]\u001b[A\n",
      " 95%|█████████▌| 19/20 [01:43<00:02,  2.44s/it]\u001b[A\n",
      "100%|██████████| 20/20 [01:44<00:00,  5.22s/it]\u001b[A\n"
     ]
    },
    {
     "name": "stdout",
     "output_type": "stream",
     "text": [
      "generator loss:0.9074144225924835\n",
      "-----------------------\n"
     ]
    },
    {
     "name": "stderr",
     "output_type": "stream",
     "text": [
      "92it [2:51:01, 111.24s/it]\n",
      "  0%|          | 0/20 [00:00<?, ?it/s]\u001b[A"
     ]
    },
    {
     "name": "stdout",
     "output_type": "stream",
     "text": [
      "total discriminator loss:0.6931992780549704\n",
      "-----------------------\n",
      "Training Step: 93\n"
     ]
    },
    {
     "name": "stderr",
     "output_type": "stream",
     "text": [
      "\n",
      "  5%|▌         | 1/20 [00:09<03:01,  9.54s/it]\u001b[A\n",
      " 10%|█         | 2/20 [00:18<02:44,  9.17s/it]\u001b[A\n",
      " 15%|█▌        | 3/20 [00:27<02:31,  8.90s/it]\u001b[A\n",
      " 20%|██        | 4/20 [00:35<02:17,  8.58s/it]\u001b[A\n",
      " 25%|██▌       | 5/20 [00:42<02:03,  8.26s/it]\u001b[A\n",
      " 30%|███       | 6/20 [00:49<01:48,  7.76s/it]\u001b[A\n",
      " 35%|███▌      | 7/20 [00:56<01:37,  7.50s/it]\u001b[A\n",
      " 40%|████      | 8/20 [01:02<01:24,  7.01s/it]\u001b[A\n",
      " 45%|████▌     | 9/20 [01:08<01:14,  6.74s/it]\u001b[A\n",
      " 50%|█████     | 10/20 [01:13<01:02,  6.27s/it]\u001b[A\n",
      " 55%|█████▌    | 11/20 [01:18<00:52,  5.79s/it]\u001b[A\n",
      " 60%|██████    | 12/20 [01:23<00:44,  5.58s/it]\u001b[A\n",
      " 65%|██████▌   | 13/20 [01:27<00:35,  5.09s/it]\u001b[A\n",
      " 70%|███████   | 14/20 [01:31<00:27,  4.60s/it]\u001b[A\n",
      " 75%|███████▌  | 15/20 [01:34<00:20,  4.15s/it]\u001b[A\n",
      " 80%|████████  | 16/20 [01:36<00:14,  3.70s/it]\u001b[A\n",
      " 85%|████████▌ | 17/20 [01:39<00:09,  3.26s/it]\u001b[A\n",
      " 90%|█████████ | 18/20 [01:40<00:05,  2.84s/it]\u001b[A\n",
      " 95%|█████████▌| 19/20 [01:42<00:02,  2.42s/it]\u001b[A\n",
      "100%|██████████| 20/20 [01:43<00:00,  5.17s/it]\u001b[A\n"
     ]
    },
    {
     "name": "stdout",
     "output_type": "stream",
     "text": [
      "generator loss:0.8897983471105686\n",
      "-----------------------\n"
     ]
    },
    {
     "name": "stderr",
     "output_type": "stream",
     "text": [
      "93it [2:52:53, 111.40s/it]\n",
      "  0%|          | 0/20 [00:00<?, ?it/s]\u001b[A"
     ]
    },
    {
     "name": "stdout",
     "output_type": "stream",
     "text": [
      "total discriminator loss:0.6931952723496219\n",
      "-----------------------\n",
      "Training Step: 94\n"
     ]
    },
    {
     "name": "stderr",
     "output_type": "stream",
     "text": [
      "\n",
      "  5%|▌         | 1/20 [00:09<03:01,  9.55s/it]\u001b[A\n",
      " 10%|█         | 2/20 [00:18<02:46,  9.23s/it]\u001b[A\n",
      " 15%|█▌        | 3/20 [00:27<02:31,  8.92s/it]\u001b[A\n",
      " 20%|██        | 4/20 [00:35<02:16,  8.56s/it]\u001b[A\n",
      " 25%|██▌       | 5/20 [00:42<02:03,  8.24s/it]\u001b[A\n",
      " 30%|███       | 6/20 [00:49<01:48,  7.74s/it]\u001b[A\n",
      " 35%|███▌      | 7/20 [00:56<01:36,  7.46s/it]\u001b[A\n",
      " 40%|████      | 8/20 [01:02<01:24,  7.00s/it]\u001b[A\n",
      " 45%|████▌     | 9/20 [01:08<01:14,  6.74s/it]\u001b[A\n",
      " 50%|█████     | 10/20 [01:13<01:02,  6.25s/it]\u001b[A\n",
      " 55%|█████▌    | 11/20 [01:18<00:52,  5.79s/it]\u001b[A\n",
      " 60%|██████    | 12/20 [01:23<00:44,  5.58s/it]\u001b[A\n",
      " 65%|██████▌   | 13/20 [01:27<00:35,  5.05s/it]\u001b[A\n",
      " 70%|███████   | 14/20 [01:30<00:27,  4.58s/it]\u001b[A\n",
      " 75%|███████▌  | 15/20 [01:34<00:20,  4.13s/it]\u001b[A\n",
      " 80%|████████  | 16/20 [01:36<00:14,  3.68s/it]\u001b[A\n",
      " 85%|████████▌ | 17/20 [01:38<00:09,  3.24s/it]\u001b[A\n",
      " 90%|█████████ | 18/20 [01:40<00:05,  2.82s/it]\u001b[A\n",
      " 95%|█████████▌| 19/20 [01:42<00:02,  2.40s/it]\u001b[A\n",
      "100%|██████████| 20/20 [01:43<00:00,  5.16s/it]\u001b[A\n"
     ]
    },
    {
     "name": "stdout",
     "output_type": "stream",
     "text": [
      "generator loss:0.9055500151604366\n",
      "-----------------------\n"
     ]
    },
    {
     "name": "stderr",
     "output_type": "stream",
     "text": [
      "94it [2:54:44, 111.42s/it]\n",
      "  0%|          | 0/20 [00:00<?, ?it/s]\u001b[A"
     ]
    },
    {
     "name": "stdout",
     "output_type": "stream",
     "text": [
      "total discriminator loss:0.6931943335245209\n",
      "-----------------------\n",
      "Training Step: 95\n"
     ]
    },
    {
     "name": "stderr",
     "output_type": "stream",
     "text": [
      "\n",
      "  5%|▌         | 1/20 [00:09<02:57,  9.32s/it]\u001b[A\n",
      " 10%|█         | 2/20 [00:18<02:42,  9.04s/it]\u001b[A\n",
      " 15%|█▌        | 3/20 [00:26<02:29,  8.78s/it]\u001b[A\n",
      " 20%|██        | 4/20 [00:34<02:15,  8.44s/it]\u001b[A\n",
      " 25%|██▌       | 5/20 [00:42<02:02,  8.13s/it]\u001b[A\n",
      " 30%|███       | 6/20 [00:48<01:47,  7.65s/it]\u001b[A\n",
      " 35%|███▌      | 7/20 [00:55<01:35,  7.35s/it]\u001b[A\n",
      " 40%|████      | 8/20 [01:01<01:22,  6.90s/it]\u001b[A\n",
      " 45%|████▌     | 9/20 [01:07<01:13,  6.66s/it]\u001b[A\n",
      " 50%|█████     | 10/20 [01:12<01:01,  6.19s/it]\u001b[A\n",
      " 55%|█████▌    | 11/20 [01:17<00:51,  5.73s/it]\u001b[A\n",
      " 60%|██████    | 12/20 [01:22<00:44,  5.52s/it]\u001b[A\n",
      " 65%|██████▌   | 13/20 [01:26<00:35,  5.00s/it]\u001b[A\n",
      " 70%|███████   | 14/20 [01:29<00:27,  4.55s/it]\u001b[A\n",
      " 75%|███████▌  | 15/20 [01:32<00:20,  4.08s/it]\u001b[A\n",
      " 80%|████████  | 16/20 [01:35<00:14,  3.64s/it]\u001b[A\n",
      " 85%|████████▌ | 17/20 [01:37<00:09,  3.21s/it]\u001b[A\n",
      " 90%|█████████ | 18/20 [01:39<00:05,  2.79s/it]\u001b[A\n",
      " 95%|█████████▌| 19/20 [01:40<00:02,  2.37s/it]\u001b[A\n",
      "100%|██████████| 20/20 [01:41<00:00,  5.09s/it]\u001b[A\n"
     ]
    },
    {
     "name": "stdout",
     "output_type": "stream",
     "text": [
      "generator loss:0.8904972146122463\n",
      "-----------------------\n"
     ]
    },
    {
     "name": "stderr",
     "output_type": "stream",
     "text": [
      "95it [2:56:34, 111.04s/it]\n",
      "  0%|          | 0/20 [00:00<?, ?it/s]\u001b[A"
     ]
    },
    {
     "name": "stdout",
     "output_type": "stream",
     "text": [
      "total discriminator loss:0.6931941453564309\n",
      "-----------------------\n",
      "Training Step: 96\n"
     ]
    },
    {
     "name": "stderr",
     "output_type": "stream",
     "text": [
      "\n",
      "  5%|▌         | 1/20 [00:09<02:57,  9.33s/it]\u001b[A\n",
      " 10%|█         | 2/20 [00:18<02:42,  9.04s/it]\u001b[A\n",
      " 15%|█▌        | 3/20 [00:26<02:29,  8.79s/it]\u001b[A\n",
      " 20%|██        | 4/20 [00:34<02:15,  8.48s/it]\u001b[A\n",
      " 25%|██▌       | 5/20 [00:42<02:03,  8.23s/it]\u001b[A\n",
      " 30%|███       | 6/20 [00:49<01:48,  7.74s/it]\u001b[A\n",
      " 35%|███▌      | 7/20 [00:56<01:36,  7.45s/it]\u001b[A\n",
      " 40%|████      | 8/20 [01:02<01:23,  6.98s/it]\u001b[A\n",
      " 45%|████▌     | 9/20 [01:08<01:13,  6.71s/it]\u001b[A\n",
      " 50%|█████     | 10/20 [01:13<01:02,  6.22s/it]\u001b[A\n",
      " 55%|█████▌    | 11/20 [01:18<00:51,  5.77s/it]\u001b[A\n",
      " 60%|██████    | 12/20 [01:23<00:44,  5.58s/it]\u001b[A\n",
      " 65%|██████▌   | 13/20 [01:26<00:35,  5.04s/it]\u001b[A\n",
      " 70%|███████   | 14/20 [01:30<00:27,  4.56s/it]\u001b[A\n",
      " 75%|███████▌  | 15/20 [01:33<00:20,  4.10s/it]\u001b[A\n",
      " 80%|████████  | 16/20 [01:36<00:14,  3.65s/it]\u001b[A\n",
      " 85%|████████▌ | 17/20 [01:38<00:09,  3.21s/it]\u001b[A\n",
      " 90%|█████████ | 18/20 [01:40<00:05,  2.79s/it]\u001b[A\n",
      " 95%|█████████▌| 19/20 [01:41<00:02,  2.38s/it]\u001b[A\n",
      "100%|██████████| 20/20 [01:42<00:00,  5.12s/it]\u001b[A\n"
     ]
    },
    {
     "name": "stdout",
     "output_type": "stream",
     "text": [
      "generator loss:0.906661010259946\n",
      "-----------------------\n"
     ]
    },
    {
     "name": "stderr",
     "output_type": "stream",
     "text": [
      "96it [2:58:25, 110.95s/it]\n",
      "  0%|          | 0/20 [00:00<?, ?it/s]\u001b[A"
     ]
    },
    {
     "name": "stdout",
     "output_type": "stream",
     "text": [
      "total discriminator loss:0.6931955760616597\n",
      "-----------------------\n",
      "Training Step: 97\n"
     ]
    },
    {
     "name": "stderr",
     "output_type": "stream",
     "text": [
      "\n",
      "  5%|▌         | 1/20 [00:09<02:57,  9.35s/it]\u001b[A\n",
      " 10%|█         | 2/20 [00:18<02:42,  9.04s/it]\u001b[A\n",
      " 15%|█▌        | 3/20 [00:26<02:29,  8.77s/it]\u001b[A\n",
      " 20%|██        | 4/20 [00:34<02:14,  8.40s/it]\u001b[A\n",
      " 25%|██▌       | 5/20 [00:41<02:01,  8.08s/it]\u001b[A\n",
      " 30%|███       | 6/20 [00:48<01:45,  7.57s/it]\u001b[A\n",
      " 35%|███▌      | 7/20 [00:55<01:35,  7.32s/it]\u001b[A\n",
      " 40%|████      | 8/20 [01:01<01:22,  6.86s/it]\u001b[A\n",
      " 45%|████▌     | 9/20 [01:07<01:12,  6.62s/it]\u001b[A\n",
      " 50%|█████     | 10/20 [01:12<01:01,  6.14s/it]\u001b[A\n",
      " 55%|█████▌    | 11/20 [01:17<00:51,  5.69s/it]\u001b[A\n",
      " 60%|██████    | 12/20 [01:22<00:44,  5.51s/it]\u001b[A\n",
      " 65%|██████▌   | 13/20 [01:25<00:34,  4.99s/it]\u001b[A\n",
      " 70%|███████   | 14/20 [01:29<00:27,  4.53s/it]\u001b[A\n",
      " 75%|███████▌  | 15/20 [01:32<00:20,  4.07s/it]\u001b[A\n",
      " 80%|████████  | 16/20 [01:35<00:14,  3.63s/it]\u001b[A\n",
      " 85%|████████▌ | 17/20 [01:37<00:09,  3.20s/it]\u001b[A\n",
      " 90%|█████████ | 18/20 [01:39<00:05,  2.78s/it]\u001b[A\n",
      " 95%|█████████▌| 19/20 [01:40<00:02,  2.36s/it]\u001b[A\n",
      "100%|██████████| 20/20 [01:41<00:00,  5.07s/it]\u001b[A\n"
     ]
    },
    {
     "name": "stdout",
     "output_type": "stream",
     "text": [
      "generator loss:0.89190952903281\n",
      "-----------------------\n"
     ]
    },
    {
     "name": "stderr",
     "output_type": "stream",
     "text": [
      "97it [3:00:15, 110.61s/it]\n",
      "  0%|          | 0/20 [00:00<?, ?it/s]\u001b[A"
     ]
    },
    {
     "name": "stdout",
     "output_type": "stream",
     "text": [
      "total discriminator loss:0.6931958905444637\n",
      "-----------------------\n",
      "Training Step: 98\n"
     ]
    },
    {
     "name": "stderr",
     "output_type": "stream",
     "text": [
      "\n",
      "  5%|▌         | 1/20 [00:09<02:55,  9.23s/it]\u001b[A\n",
      " 10%|█         | 2/20 [00:17<02:40,  8.93s/it]\u001b[A\n",
      " 15%|█▌        | 3/20 [00:26<02:28,  8.71s/it]\u001b[A\n",
      " 20%|██        | 4/20 [00:34<02:14,  8.41s/it]\u001b[A\n",
      " 25%|██▌       | 5/20 [00:41<02:01,  8.11s/it]\u001b[A\n",
      " 30%|███       | 6/20 [00:48<01:46,  7.61s/it]\u001b[A\n",
      " 35%|███▌      | 7/20 [00:55<01:35,  7.36s/it]\u001b[A\n",
      " 40%|████      | 8/20 [01:01<01:22,  6.90s/it]\u001b[A\n",
      " 45%|████▌     | 9/20 [01:07<01:13,  6.64s/it]\u001b[A\n",
      " 50%|█████     | 10/20 [01:12<01:01,  6.16s/it]\u001b[A\n",
      " 55%|█████▌    | 11/20 [01:17<00:51,  5.69s/it]\u001b[A\n",
      " 60%|██████    | 12/20 [01:22<00:43,  5.49s/it]\u001b[A\n",
      " 65%|██████▌   | 13/20 [01:25<00:34,  4.98s/it]\u001b[A\n",
      " 70%|███████   | 14/20 [01:29<00:26,  4.49s/it]\u001b[A\n",
      " 75%|███████▌  | 15/20 [01:32<00:20,  4.05s/it]\u001b[A\n",
      " 80%|████████  | 16/20 [01:34<00:14,  3.61s/it]\u001b[A\n",
      " 85%|████████▌ | 17/20 [01:37<00:09,  3.20s/it]\u001b[A\n",
      " 90%|█████████ | 18/20 [01:38<00:05,  2.78s/it]\u001b[A\n",
      " 95%|█████████▌| 19/20 [01:40<00:02,  2.36s/it]\u001b[A\n",
      "100%|██████████| 20/20 [01:41<00:00,  5.07s/it]\u001b[A\n"
     ]
    },
    {
     "name": "stdout",
     "output_type": "stream",
     "text": [
      "generator loss:0.9069959863729732\n",
      "-----------------------\n"
     ]
    },
    {
     "name": "stderr",
     "output_type": "stream",
     "text": [
      "98it [3:02:04, 110.32s/it]\n",
      "  0%|          | 0/20 [00:00<?, ?it/s]\u001b[A"
     ]
    },
    {
     "name": "stdout",
     "output_type": "stream",
     "text": [
      "total discriminator loss:0.69319641467117\n",
      "-----------------------\n",
      "Training Step: 99\n"
     ]
    },
    {
     "name": "stderr",
     "output_type": "stream",
     "text": [
      "\n",
      "  5%|▌         | 1/20 [00:09<02:57,  9.34s/it]\u001b[A\n",
      " 10%|█         | 2/20 [00:18<02:41,  8.99s/it]\u001b[A\n",
      " 15%|█▌        | 3/20 [00:26<02:29,  8.77s/it]\u001b[A\n",
      " 20%|██        | 4/20 [00:34<02:15,  8.47s/it]\u001b[A\n",
      " 25%|██▌       | 5/20 [00:42<02:02,  8.17s/it]\u001b[A\n",
      " 30%|███       | 6/20 [00:48<01:47,  7.67s/it]\u001b[A\n",
      " 35%|███▌      | 7/20 [00:55<01:36,  7.41s/it]\u001b[A\n",
      " 40%|████      | 8/20 [01:01<01:23,  6.96s/it]\u001b[A\n",
      " 45%|████▌     | 9/20 [01:07<01:13,  6.69s/it]\u001b[A\n",
      " 50%|█████     | 10/20 [01:13<01:02,  6.20s/it]\u001b[A\n",
      " 55%|█████▌    | 11/20 [01:17<00:51,  5.74s/it]\u001b[A\n",
      " 60%|██████    | 12/20 [01:22<00:44,  5.55s/it]\u001b[A\n",
      " 65%|██████▌   | 13/20 [01:26<00:35,  5.02s/it]\u001b[A\n",
      " 70%|███████   | 14/20 [01:30<00:27,  4.53s/it]\u001b[A\n",
      " 75%|███████▌  | 15/20 [01:33<00:20,  4.08s/it]\u001b[A\n",
      " 80%|████████  | 16/20 [01:35<00:14,  3.65s/it]\u001b[A\n",
      " 85%|████████▌ | 17/20 [01:37<00:09,  3.21s/it]\u001b[A\n",
      " 90%|█████████ | 18/20 [01:39<00:05,  2.78s/it]\u001b[A\n",
      " 95%|█████████▌| 19/20 [01:41<00:02,  2.36s/it]\u001b[A\n",
      "100%|██████████| 20/20 [01:42<00:00,  5.10s/it]\u001b[A\n"
     ]
    },
    {
     "name": "stdout",
     "output_type": "stream",
     "text": [
      "generator loss:0.8907567010887597\n",
      "-----------------------\n"
     ]
    },
    {
     "name": "stderr",
     "output_type": "stream",
     "text": [
      "99it [3:03:55, 110.31s/it]\n",
      "  0%|          | 0/20 [00:00<?, ?it/s]\u001b[A"
     ]
    },
    {
     "name": "stdout",
     "output_type": "stream",
     "text": [
      "total discriminator loss:0.6931950999348051\n",
      "-----------------------\n",
      "Training Step: 100\n"
     ]
    },
    {
     "name": "stderr",
     "output_type": "stream",
     "text": [
      "\n",
      "  5%|▌         | 1/20 [00:09<02:58,  9.40s/it]\u001b[A\n",
      " 10%|█         | 2/20 [00:18<02:43,  9.06s/it]\u001b[A\n",
      " 15%|█▌        | 3/20 [00:26<02:29,  8.80s/it]\u001b[A\n",
      " 20%|██        | 4/20 [00:34<02:15,  8.45s/it]\u001b[A\n",
      " 25%|██▌       | 5/20 [00:42<02:02,  8.17s/it]\u001b[A\n",
      " 30%|███       | 6/20 [00:49<01:47,  7.68s/it]\u001b[A\n",
      " 35%|███▌      | 7/20 [00:55<01:36,  7.39s/it]\u001b[A\n",
      " 40%|████      | 8/20 [01:01<01:23,  6.95s/it]\u001b[A\n",
      " 45%|████▌     | 9/20 [01:08<01:13,  6.71s/it]\u001b[A\n",
      " 50%|█████     | 10/20 [01:13<01:02,  6.21s/it]\u001b[A\n",
      " 55%|█████▌    | 11/20 [01:17<00:51,  5.75s/it]\u001b[A\n",
      " 60%|██████    | 12/20 [01:22<00:44,  5.56s/it]\u001b[A\n",
      " 65%|██████▌   | 13/20 [01:26<00:35,  5.05s/it]\u001b[A\n",
      " 70%|███████   | 14/20 [01:30<00:27,  4.56s/it]\u001b[A\n",
      " 75%|███████▌  | 15/20 [01:33<00:20,  4.09s/it]\u001b[A\n",
      " 80%|████████  | 16/20 [01:35<00:14,  3.65s/it]\u001b[A\n",
      " 85%|████████▌ | 17/20 [01:38<00:09,  3.23s/it]\u001b[A\n",
      " 90%|█████████ | 18/20 [01:39<00:05,  2.81s/it]\u001b[A\n",
      " 95%|█████████▌| 19/20 [01:41<00:02,  2.39s/it]\u001b[A\n",
      "100%|██████████| 20/20 [01:42<00:00,  5.12s/it]\u001b[A\n"
     ]
    },
    {
     "name": "stdout",
     "output_type": "stream",
     "text": [
      "generator loss:0.9067064654526618\n",
      "-----------------------\n"
     ]
    },
    {
     "name": "stderr",
     "output_type": "stream",
     "text": [
      "100it [3:05:45, 110.43s/it]\n",
      "  0%|          | 0/20 [00:00<?, ?it/s]\u001b[A"
     ]
    },
    {
     "name": "stdout",
     "output_type": "stream",
     "text": [
      "total discriminator loss:0.6931916907753566\n",
      "-----------------------\n",
      "Training Step: 101\n"
     ]
    },
    {
     "name": "stderr",
     "output_type": "stream",
     "text": [
      "\n",
      "  5%|▌         | 1/20 [00:09<02:56,  9.29s/it]\u001b[A\n",
      " 10%|█         | 2/20 [00:18<02:41,  8.99s/it]\u001b[A\n",
      " 15%|█▌        | 3/20 [00:26<02:29,  8.77s/it]\u001b[A\n",
      " 20%|██        | 4/20 [00:34<02:15,  8.45s/it]\u001b[A\n",
      " 25%|██▌       | 5/20 [00:42<02:02,  8.14s/it]\u001b[A\n",
      " 30%|███       | 6/20 [00:48<01:46,  7.64s/it]\u001b[A\n",
      " 35%|███▌      | 7/20 [00:55<01:36,  7.39s/it]\u001b[A\n",
      " 40%|████      | 8/20 [01:01<01:23,  6.94s/it]\u001b[A\n",
      " 45%|████▌     | 9/20 [01:07<01:13,  6.71s/it]\u001b[A\n",
      " 50%|█████     | 10/20 [01:13<01:02,  6.26s/it]\u001b[A\n",
      " 55%|█████▌    | 11/20 [01:17<00:52,  5.80s/it]\u001b[A\n",
      " 60%|██████    | 12/20 [01:23<00:44,  5.60s/it]\u001b[A\n",
      " 65%|██████▌   | 13/20 [01:26<00:35,  5.08s/it]\u001b[A\n",
      " 70%|███████   | 14/20 [01:30<00:27,  4.59s/it]\u001b[A\n",
      " 75%|███████▌  | 15/20 [01:33<00:20,  4.12s/it]\u001b[A\n",
      " 80%|████████  | 16/20 [01:35<00:14,  3.67s/it]\u001b[A\n",
      " 85%|████████▌ | 17/20 [01:38<00:09,  3.22s/it]\u001b[A\n",
      " 90%|█████████ | 18/20 [01:39<00:05,  2.80s/it]\u001b[A\n",
      " 95%|█████████▌| 19/20 [01:41<00:02,  2.38s/it]\u001b[A\n",
      "100%|██████████| 20/20 [01:42<00:00,  5.12s/it]\u001b[A\n"
     ]
    },
    {
     "name": "stdout",
     "output_type": "stream",
     "text": [
      "generator loss:0.891039965560745\n",
      "-----------------------\n"
     ]
    },
    {
     "name": "stderr",
     "output_type": "stream",
     "text": [
      "101it [3:07:36, 110.50s/it]\n",
      "  0%|          | 0/20 [00:00<?, ?it/s]\u001b[A"
     ]
    },
    {
     "name": "stdout",
     "output_type": "stream",
     "text": [
      "total discriminator loss:0.693194923731839\n",
      "-----------------------\n",
      "Training Step: 102\n"
     ]
    },
    {
     "name": "stderr",
     "output_type": "stream",
     "text": [
      "\n",
      "  5%|▌         | 1/20 [00:09<02:56,  9.30s/it]\u001b[A\n",
      " 10%|█         | 2/20 [00:18<02:42,  9.05s/it]\u001b[A\n",
      " 15%|█▌        | 3/20 [00:26<02:29,  8.79s/it]\u001b[A\n",
      " 20%|██        | 4/20 [00:34<02:15,  8.47s/it]\u001b[A\n",
      " 25%|██▌       | 5/20 [00:42<02:02,  8.16s/it]\u001b[A\n",
      " 30%|███       | 6/20 [00:48<01:47,  7.68s/it]\u001b[A\n",
      " 35%|███▌      | 7/20 [00:55<01:36,  7.41s/it]\u001b[A\n",
      " 40%|████      | 8/20 [01:01<01:23,  6.95s/it]\u001b[A\n",
      " 45%|████▌     | 9/20 [01:07<01:13,  6.70s/it]\u001b[A\n",
      " 50%|█████     | 10/20 [01:13<01:02,  6.21s/it]\u001b[A\n",
      " 55%|█████▌    | 11/20 [01:17<00:51,  5.77s/it]\u001b[A\n",
      " 60%|██████    | 12/20 [01:22<00:44,  5.56s/it]\u001b[A\n",
      " 65%|██████▌   | 13/20 [01:26<00:35,  5.04s/it]\u001b[A\n",
      " 70%|███████   | 14/20 [01:30<00:27,  4.54s/it]\u001b[A\n",
      " 75%|███████▌  | 15/20 [01:33<00:20,  4.07s/it]\u001b[A\n",
      " 80%|████████  | 16/20 [01:35<00:14,  3.62s/it]\u001b[A\n",
      " 85%|████████▌ | 17/20 [01:37<00:09,  3.20s/it]\u001b[A\n",
      " 90%|█████████ | 18/20 [01:39<00:05,  2.78s/it]\u001b[A\n",
      " 95%|█████████▌| 19/20 [01:41<00:02,  2.38s/it]\u001b[A\n",
      "100%|██████████| 20/20 [01:42<00:00,  5.11s/it]\u001b[A\n"
     ]
    },
    {
     "name": "stdout",
     "output_type": "stream",
     "text": [
      "generator loss:0.9070760852199236\n",
      "-----------------------\n"
     ]
    },
    {
     "name": "stderr",
     "output_type": "stream",
     "text": [
      "102it [3:09:26, 110.44s/it]\n",
      "  0%|          | 0/20 [00:00<?, ?it/s]\u001b[A"
     ]
    },
    {
     "name": "stdout",
     "output_type": "stream",
     "text": [
      "total discriminator loss:0.693196494438277\n",
      "-----------------------\n",
      "Training Step: 103\n"
     ]
    },
    {
     "name": "stderr",
     "output_type": "stream",
     "text": [
      "\n",
      "  5%|▌         | 1/20 [00:09<02:57,  9.33s/it]\u001b[A\n",
      " 10%|█         | 2/20 [00:18<02:43,  9.06s/it]\u001b[A\n",
      " 15%|█▌        | 3/20 [00:26<02:30,  8.84s/it]\u001b[A\n",
      " 20%|██        | 4/20 [00:34<02:16,  8.55s/it]\u001b[A\n",
      " 25%|██▌       | 5/20 [00:42<02:03,  8.21s/it]\u001b[A\n",
      " 30%|███       | 6/20 [00:49<01:47,  7.71s/it]\u001b[A\n",
      " 35%|███▌      | 7/20 [00:56<01:37,  7.47s/it]\u001b[A\n",
      " 40%|████      | 8/20 [01:02<01:24,  7.01s/it]\u001b[A\n",
      " 45%|████▌     | 9/20 [01:08<01:14,  6.78s/it]\u001b[A\n",
      " 50%|█████     | 10/20 [01:13<01:03,  6.31s/it]\u001b[A\n",
      " 55%|█████▌    | 11/20 [01:18<00:52,  5.84s/it]\u001b[A\n",
      " 60%|██████    | 12/20 [01:23<00:45,  5.65s/it]\u001b[A\n",
      " 65%|██████▌   | 13/20 [01:27<00:35,  5.11s/it]\u001b[A\n",
      " 70%|███████   | 14/20 [01:31<00:27,  4.62s/it]\u001b[A\n",
      " 75%|███████▌  | 15/20 [01:34<00:20,  4.14s/it]\u001b[A\n",
      " 80%|████████  | 16/20 [01:36<00:14,  3.69s/it]\u001b[A\n",
      " 85%|████████▌ | 17/20 [01:39<00:09,  3.25s/it]\u001b[A\n",
      " 90%|█████████ | 18/20 [01:40<00:05,  2.81s/it]\u001b[A\n",
      " 95%|█████████▌| 19/20 [01:42<00:02,  2.39s/it]\u001b[A\n",
      "100%|██████████| 20/20 [01:43<00:00,  5.16s/it]\u001b[A\n"
     ]
    },
    {
     "name": "stdout",
     "output_type": "stream",
     "text": [
      "generator loss:0.8912193336815453\n",
      "-----------------------\n"
     ]
    },
    {
     "name": "stderr",
     "output_type": "stream",
     "text": [
      "103it [3:11:18, 110.72s/it]\n",
      "  0%|          | 0/20 [00:00<?, ?it/s]\u001b[A"
     ]
    },
    {
     "name": "stdout",
     "output_type": "stream",
     "text": [
      "total discriminator loss:0.6931917587784756\n",
      "-----------------------\n",
      "Training Step: 104\n"
     ]
    },
    {
     "name": "stderr",
     "output_type": "stream",
     "text": [
      "\n",
      "  5%|▌         | 1/20 [00:09<02:56,  9.27s/it]\u001b[A\n",
      " 10%|█         | 2/20 [00:18<02:41,  8.96s/it]\u001b[A\n",
      " 15%|█▌        | 3/20 [00:26<02:27,  8.69s/it]\u001b[A\n",
      " 20%|██        | 4/20 [00:34<02:13,  8.37s/it]\u001b[A\n",
      " 25%|██▌       | 5/20 [00:41<02:01,  8.08s/it]\u001b[A\n",
      " 30%|███       | 6/20 [00:48<01:46,  7.59s/it]\u001b[A\n",
      " 35%|███▌      | 7/20 [00:55<01:35,  7.32s/it]\u001b[A\n",
      " 40%|████      | 8/20 [01:01<01:22,  6.86s/it]\u001b[A\n",
      " 45%|████▌     | 9/20 [01:07<01:12,  6.63s/it]\u001b[A\n",
      " 50%|█████     | 10/20 [01:12<01:01,  6.17s/it]\u001b[A\n",
      " 55%|█████▌    | 11/20 [01:17<00:51,  5.71s/it]\u001b[A\n",
      " 60%|██████    | 12/20 [01:22<00:44,  5.52s/it]\u001b[A\n",
      " 65%|██████▌   | 13/20 [01:25<00:35,  5.02s/it]\u001b[A\n",
      " 70%|███████   | 14/20 [01:29<00:27,  4.54s/it]\u001b[A\n",
      " 75%|███████▌  | 15/20 [01:32<00:20,  4.10s/it]\u001b[A\n",
      " 80%|████████  | 16/20 [01:35<00:14,  3.68s/it]\u001b[A\n",
      " 85%|████████▌ | 17/20 [01:37<00:09,  3.24s/it]\u001b[A\n",
      " 90%|█████████ | 18/20 [01:39<00:05,  2.80s/it]\u001b[A\n",
      " 95%|█████████▌| 19/20 [01:40<00:02,  2.38s/it]\u001b[A\n",
      "100%|██████████| 20/20 [01:41<00:00,  5.08s/it]\u001b[A\n"
     ]
    },
    {
     "name": "stdout",
     "output_type": "stream",
     "text": [
      "generator loss:0.9066278049837783\n",
      "-----------------------\n"
     ]
    },
    {
     "name": "stderr",
     "output_type": "stream",
     "text": [
      "104it [3:13:07, 110.42s/it]\n",
      "  0%|          | 0/20 [00:00<?, ?it/s]\u001b[A"
     ]
    },
    {
     "name": "stdout",
     "output_type": "stream",
     "text": [
      "total discriminator loss:0.6931968344665362\n",
      "-----------------------\n",
      "Training Step: 105\n"
     ]
    },
    {
     "name": "stderr",
     "output_type": "stream",
     "text": [
      "\n",
      "  5%|▌         | 1/20 [00:09<02:54,  9.19s/it]\u001b[A\n",
      " 10%|█         | 2/20 [00:17<02:40,  8.94s/it]\u001b[A\n",
      " 15%|█▌        | 3/20 [00:26<02:27,  8.68s/it]\u001b[A\n",
      " 20%|██        | 4/20 [00:34<02:13,  8.37s/it]\u001b[A\n",
      " 25%|██▌       | 5/20 [00:41<02:01,  8.07s/it]\u001b[A\n",
      " 30%|███       | 6/20 [00:48<01:46,  7.59s/it]\u001b[A\n",
      " 35%|███▌      | 7/20 [00:55<01:35,  7.38s/it]\u001b[A\n",
      " 40%|████      | 8/20 [01:01<01:22,  6.92s/it]\u001b[A\n",
      " 45%|████▌     | 9/20 [01:07<01:13,  6.68s/it]\u001b[A\n",
      " 50%|█████     | 10/20 [01:12<01:02,  6.21s/it]\u001b[A\n",
      " 55%|█████▌    | 11/20 [01:17<00:51,  5.75s/it]\u001b[A\n",
      " 60%|██████    | 12/20 [01:22<00:44,  5.57s/it]\u001b[A\n",
      " 65%|██████▌   | 13/20 [01:26<00:35,  5.07s/it]\u001b[A\n",
      " 70%|███████   | 14/20 [01:29<00:27,  4.57s/it]\u001b[A\n",
      " 75%|███████▌  | 15/20 [01:32<00:20,  4.10s/it]\u001b[A\n",
      " 80%|████████  | 16/20 [01:35<00:14,  3.65s/it]\u001b[A\n",
      " 85%|████████▌ | 17/20 [01:37<00:09,  3.21s/it]\u001b[A\n",
      " 90%|█████████ | 18/20 [01:39<00:05,  2.78s/it]\u001b[A\n",
      " 95%|█████████▌| 19/20 [01:40<00:02,  2.37s/it]\u001b[A\n",
      "100%|██████████| 20/20 [01:41<00:00,  5.09s/it]\u001b[A\n"
     ]
    },
    {
     "name": "stdout",
     "output_type": "stream",
     "text": [
      "generator loss:0.8906779988676256\n",
      "-----------------------\n"
     ]
    },
    {
     "name": "stderr",
     "output_type": "stream",
     "text": [
      "105it [3:14:57, 110.26s/it]\n",
      "  0%|          | 0/20 [00:00<?, ?it/s]\u001b[A"
     ]
    },
    {
     "name": "stdout",
     "output_type": "stream",
     "text": [
      "total discriminator loss:0.6931949202296719\n",
      "-----------------------\n",
      "Training Step: 106\n"
     ]
    },
    {
     "name": "stderr",
     "output_type": "stream",
     "text": [
      "\n",
      "  5%|▌         | 1/20 [00:09<02:54,  9.20s/it]\u001b[A\n",
      " 10%|█         | 2/20 [00:17<02:40,  8.93s/it]\u001b[A\n",
      " 15%|█▌        | 3/20 [00:26<02:28,  8.71s/it]\u001b[A\n",
      " 20%|██        | 4/20 [00:34<02:14,  8.41s/it]\u001b[A\n",
      " 25%|██▌       | 5/20 [00:41<02:02,  8.14s/it]\u001b[A\n",
      " 30%|███       | 6/20 [00:48<01:47,  7.65s/it]\u001b[A\n",
      " 35%|███▌      | 7/20 [00:55<01:36,  7.39s/it]\u001b[A\n",
      " 40%|████      | 8/20 [01:01<01:23,  6.94s/it]\u001b[A\n",
      " 45%|████▌     | 9/20 [01:07<01:13,  6.71s/it]\u001b[A\n",
      " 50%|█████     | 10/20 [01:12<01:02,  6.24s/it]\u001b[A\n",
      " 55%|█████▌    | 11/20 [01:17<00:51,  5.77s/it]\u001b[A\n",
      " 60%|██████    | 12/20 [01:22<00:44,  5.59s/it]\u001b[A\n",
      " 65%|██████▌   | 13/20 [01:26<00:35,  5.07s/it]\u001b[A\n",
      " 70%|███████   | 14/20 [01:30<00:27,  4.59s/it]\u001b[A\n",
      " 75%|███████▌  | 15/20 [01:33<00:20,  4.12s/it]\u001b[A\n",
      " 80%|████████  | 16/20 [01:35<00:14,  3.68s/it]\u001b[A\n",
      " 85%|████████▌ | 17/20 [01:38<00:09,  3.24s/it]\u001b[A\n",
      " 90%|█████████ | 18/20 [01:39<00:05,  2.81s/it]\u001b[A\n",
      " 95%|█████████▌| 19/20 [01:41<00:02,  2.38s/it]\u001b[A\n",
      "100%|██████████| 20/20 [01:42<00:00,  5.11s/it]\u001b[A\n"
     ]
    },
    {
     "name": "stdout",
     "output_type": "stream",
     "text": [
      "generator loss:0.9073250437583251\n",
      "-----------------------\n"
     ]
    },
    {
     "name": "stderr",
     "output_type": "stream",
     "text": [
      "106it [3:16:48, 110.28s/it]\n",
      "  0%|          | 0/20 [00:00<?, ?it/s]\u001b[A"
     ]
    },
    {
     "name": "stdout",
     "output_type": "stream",
     "text": [
      "total discriminator loss:0.6931922837326292\n",
      "-----------------------\n",
      "Training Step: 107\n"
     ]
    },
    {
     "name": "stderr",
     "output_type": "stream",
     "text": [
      "\n",
      "  5%|▌         | 1/20 [00:09<02:55,  9.23s/it]\u001b[A\n",
      " 10%|█         | 2/20 [00:17<02:41,  8.95s/it]\u001b[A\n",
      " 15%|█▌        | 3/20 [00:26<02:28,  8.71s/it]\u001b[A\n",
      " 20%|██        | 4/20 [00:34<02:14,  8.38s/it]\u001b[A\n",
      " 25%|██▌       | 5/20 [00:41<02:01,  8.07s/it]\u001b[A\n",
      " 30%|███       | 6/20 [00:48<01:46,  7.60s/it]\u001b[A\n",
      " 35%|███▌      | 7/20 [00:55<01:35,  7.33s/it]\u001b[A\n",
      " 40%|████      | 8/20 [01:01<01:22,  6.87s/it]\u001b[A\n",
      " 45%|████▌     | 9/20 [01:07<01:13,  6.64s/it]\u001b[A\n",
      " 50%|█████     | 10/20 [01:12<01:01,  6.16s/it]\u001b[A\n",
      " 55%|█████▌    | 11/20 [01:17<00:51,  5.72s/it]\u001b[A\n",
      " 60%|██████    | 12/20 [01:22<00:44,  5.53s/it]\u001b[A\n",
      " 65%|██████▌   | 13/20 [01:26<00:35,  5.01s/it]\u001b[A\n",
      " 70%|███████   | 14/20 [01:29<00:27,  4.51s/it]\u001b[A\n",
      " 75%|███████▌  | 15/20 [01:32<00:20,  4.05s/it]\u001b[A\n",
      " 80%|████████  | 16/20 [01:34<00:14,  3.61s/it]\u001b[A\n",
      " 85%|████████▌ | 17/20 [01:37<00:09,  3.18s/it]\u001b[A\n",
      " 90%|█████████ | 18/20 [01:38<00:05,  2.76s/it]\u001b[A\n",
      " 95%|█████████▌| 19/20 [01:40<00:02,  2.34s/it]\u001b[A\n",
      "100%|██████████| 20/20 [01:41<00:00,  5.06s/it]\u001b[A\n"
     ]
    },
    {
     "name": "stdout",
     "output_type": "stream",
     "text": [
      "generator loss:0.8902132074808555\n",
      "-----------------------\n"
     ]
    },
    {
     "name": "stderr",
     "output_type": "stream",
     "text": [
      "107it [3:18:37, 109.99s/it]\n",
      "  0%|          | 0/20 [00:00<?, ?it/s]\u001b[A"
     ]
    },
    {
     "name": "stdout",
     "output_type": "stream",
     "text": [
      "total discriminator loss:0.6931950084906321\n",
      "-----------------------\n",
      "Training Step: 108\n"
     ]
    },
    {
     "name": "stderr",
     "output_type": "stream",
     "text": [
      "\n",
      "  5%|▌         | 1/20 [00:09<02:54,  9.18s/it]\u001b[A\n",
      " 10%|█         | 2/20 [00:17<02:39,  8.88s/it]\u001b[A\n",
      " 15%|█▌        | 3/20 [00:26<02:28,  8.71s/it]\u001b[A\n",
      " 20%|██        | 4/20 [00:34<02:14,  8.40s/it]\u001b[A\n",
      " 25%|██▌       | 5/20 [00:41<02:01,  8.13s/it]\u001b[A\n",
      " 30%|███       | 6/20 [00:48<01:47,  7.66s/it]\u001b[A\n",
      " 35%|███▌      | 7/20 [00:55<01:35,  7.38s/it]\u001b[A\n",
      " 40%|████      | 8/20 [01:01<01:22,  6.91s/it]\u001b[A\n",
      " 45%|████▌     | 9/20 [01:07<01:13,  6.67s/it]\u001b[A\n",
      " 50%|█████     | 10/20 [01:12<01:01,  6.18s/it]\u001b[A\n",
      " 55%|█████▌    | 11/20 [01:17<00:51,  5.72s/it]\u001b[A\n",
      " 60%|██████    | 12/20 [01:22<00:44,  5.53s/it]\u001b[A\n",
      " 65%|██████▌   | 13/20 [01:26<00:35,  5.01s/it]\u001b[A\n",
      " 70%|███████   | 14/20 [01:29<00:27,  4.53s/it]\u001b[A\n",
      " 75%|███████▌  | 15/20 [01:32<00:20,  4.07s/it]\u001b[A\n",
      " 80%|████████  | 16/20 [01:35<00:14,  3.62s/it]\u001b[A\n",
      " 85%|████████▌ | 17/20 [01:37<00:09,  3.19s/it]\u001b[A\n",
      " 90%|█████████ | 18/20 [01:39<00:05,  2.77s/it]\u001b[A\n",
      " 95%|█████████▌| 19/20 [01:40<00:02,  2.35s/it]\u001b[A\n",
      "100%|██████████| 20/20 [01:41<00:00,  5.08s/it]\u001b[A\n"
     ]
    },
    {
     "name": "stdout",
     "output_type": "stream",
     "text": [
      "generator loss:0.9066686795624648\n",
      "-----------------------\n"
     ]
    },
    {
     "name": "stderr",
     "output_type": "stream",
     "text": [
      "108it [3:20:27, 109.88s/it]\n",
      "  0%|          | 0/20 [00:00<?, ?it/s]\u001b[A"
     ]
    },
    {
     "name": "stdout",
     "output_type": "stream",
     "text": [
      "total discriminator loss:0.6931993297584722\n",
      "-----------------------\n",
      "Training Step: 109\n"
     ]
    },
    {
     "name": "stderr",
     "output_type": "stream",
     "text": [
      "\n",
      "  5%|▌         | 1/20 [00:09<02:54,  9.17s/it]\u001b[A\n",
      " 10%|█         | 2/20 [00:17<02:39,  8.85s/it]\u001b[A\n",
      " 15%|█▌        | 3/20 [00:26<02:26,  8.63s/it]\u001b[A\n",
      " 20%|██        | 4/20 [00:34<02:13,  8.32s/it]\u001b[A\n",
      " 25%|██▌       | 5/20 [00:41<02:00,  8.04s/it]\u001b[A\n",
      " 30%|███       | 6/20 [00:48<01:46,  7.58s/it]\u001b[A\n",
      " 35%|███▌      | 7/20 [00:55<01:35,  7.34s/it]\u001b[A\n",
      " 40%|████      | 8/20 [01:00<01:22,  6.87s/it]\u001b[A\n",
      " 45%|████▌     | 9/20 [01:07<01:13,  6.68s/it]\u001b[A\n",
      " 50%|█████     | 10/20 [01:12<01:02,  6.21s/it]\u001b[A\n",
      " 55%|█████▌    | 11/20 [01:17<00:51,  5.77s/it]\u001b[A\n",
      " 60%|██████    | 12/20 [01:22<00:44,  5.58s/it]\u001b[A\n",
      " 65%|██████▌   | 13/20 [01:26<00:35,  5.06s/it]\u001b[A\n",
      " 70%|███████   | 14/20 [01:29<00:27,  4.56s/it]\u001b[A\n",
      " 75%|███████▌  | 15/20 [01:32<00:20,  4.11s/it]\u001b[A\n",
      " 80%|████████  | 16/20 [01:35<00:14,  3.66s/it]\u001b[A\n",
      " 85%|████████▌ | 17/20 [01:37<00:09,  3.23s/it]\u001b[A\n",
      " 90%|█████████ | 18/20 [01:39<00:05,  2.80s/it]\u001b[A\n",
      " 95%|█████████▌| 19/20 [01:40<00:02,  2.38s/it]\u001b[A\n",
      "100%|██████████| 20/20 [01:41<00:00,  5.08s/it]\u001b[A\n"
     ]
    },
    {
     "name": "stdout",
     "output_type": "stream",
     "text": [
      "generator loss:0.8916944126101164\n",
      "-----------------------\n"
     ]
    },
    {
     "name": "stderr",
     "output_type": "stream",
     "text": [
      "109it [3:22:16, 109.87s/it]\n",
      "  0%|          | 0/20 [00:00<?, ?it/s]\u001b[A"
     ]
    },
    {
     "name": "stdout",
     "output_type": "stream",
     "text": [
      "total discriminator loss:0.693189057168139\n",
      "-----------------------\n",
      "Training Step: 110\n"
     ]
    },
    {
     "name": "stderr",
     "output_type": "stream",
     "text": [
      "\n",
      "  5%|▌         | 1/20 [00:09<02:53,  9.14s/it]\u001b[A\n",
      " 10%|█         | 2/20 [00:17<02:39,  8.87s/it]\u001b[A\n",
      " 15%|█▌        | 3/20 [00:26<02:27,  8.66s/it]\u001b[A\n",
      " 20%|██        | 4/20 [00:34<02:14,  8.38s/it]\u001b[A\n",
      " 25%|██▌       | 5/20 [00:41<02:01,  8.10s/it]\u001b[A\n",
      " 30%|███       | 6/20 [00:48<01:46,  7.63s/it]\u001b[A\n",
      " 35%|███▌      | 7/20 [00:55<01:35,  7.37s/it]\u001b[A\n",
      " 40%|████      | 8/20 [01:01<01:22,  6.89s/it]\u001b[A\n",
      " 45%|████▌     | 9/20 [01:07<01:12,  6.63s/it]\u001b[A\n",
      " 50%|█████     | 10/20 [01:12<01:01,  6.14s/it]\u001b[A\n",
      " 55%|█████▌    | 11/20 [01:16<00:51,  5.69s/it]\u001b[A\n",
      " 60%|██████    | 12/20 [01:21<00:43,  5.48s/it]\u001b[A\n",
      " 65%|██████▌   | 13/20 [01:25<00:34,  4.98s/it]\u001b[A\n",
      " 70%|███████   | 14/20 [01:29<00:27,  4.51s/it]\u001b[A\n",
      " 75%|███████▌  | 15/20 [01:32<00:20,  4.05s/it]\u001b[A\n",
      " 80%|████████  | 16/20 [01:34<00:14,  3.62s/it]\u001b[A\n",
      " 85%|████████▌ | 17/20 [01:37<00:09,  3.19s/it]\u001b[A\n",
      " 90%|█████████ | 18/20 [01:38<00:05,  2.77s/it]\u001b[A\n",
      " 95%|█████████▌| 19/20 [01:40<00:02,  2.35s/it]\u001b[A\n",
      "100%|██████████| 20/20 [01:41<00:00,  5.06s/it]\u001b[A\n"
     ]
    },
    {
     "name": "stdout",
     "output_type": "stream",
     "text": [
      "generator loss:0.9064361464593927\n",
      "-----------------------\n"
     ]
    },
    {
     "name": "stderr",
     "output_type": "stream",
     "text": [
      "110it [3:24:06, 109.67s/it]\n",
      "  0%|          | 0/20 [00:00<?, ?it/s]\u001b[A"
     ]
    },
    {
     "name": "stdout",
     "output_type": "stream",
     "text": [
      "total discriminator loss:0.693193720448406\n",
      "-----------------------\n",
      "Training Step: 111\n"
     ]
    },
    {
     "name": "stderr",
     "output_type": "stream",
     "text": [
      "\n",
      "  5%|▌         | 1/20 [00:09<02:54,  9.20s/it]\u001b[A\n",
      " 10%|█         | 2/20 [00:17<02:40,  8.94s/it]\u001b[A\n",
      " 15%|█▌        | 3/20 [00:26<02:27,  8.69s/it]\u001b[A\n",
      " 20%|██        | 4/20 [00:34<02:13,  8.34s/it]\u001b[A\n",
      " 25%|██▌       | 5/20 [00:41<02:00,  8.03s/it]\u001b[A\n",
      " 30%|███       | 6/20 [00:48<01:45,  7.55s/it]\u001b[A\n",
      " 35%|███▌      | 7/20 [00:55<01:34,  7.30s/it]\u001b[A\n",
      " 40%|████      | 8/20 [01:00<01:21,  6.83s/it]\u001b[A\n",
      " 45%|████▌     | 9/20 [01:06<01:12,  6.59s/it]\u001b[A\n",
      " 50%|█████     | 10/20 [01:11<01:01,  6.11s/it]\u001b[A\n",
      " 55%|█████▌    | 11/20 [01:16<00:51,  5.67s/it]\u001b[A\n",
      " 60%|██████    | 12/20 [01:21<00:43,  5.49s/it]\u001b[A\n",
      " 65%|██████▌   | 13/20 [01:25<00:34,  4.98s/it]\u001b[A\n",
      " 70%|███████   | 14/20 [01:28<00:26,  4.50s/it]\u001b[A\n",
      " 75%|███████▌  | 15/20 [01:31<00:20,  4.04s/it]\u001b[A\n",
      " 80%|████████  | 16/20 [01:34<00:14,  3.61s/it]\u001b[A\n",
      " 85%|████████▌ | 17/20 [01:36<00:09,  3.18s/it]\u001b[A\n",
      " 90%|█████████ | 18/20 [01:38<00:05,  2.77s/it]\u001b[A\n",
      " 95%|█████████▌| 19/20 [01:39<00:02,  2.36s/it]\u001b[A\n",
      "100%|██████████| 20/20 [01:40<00:00,  5.04s/it]\u001b[A\n"
     ]
    },
    {
     "name": "stdout",
     "output_type": "stream",
     "text": [
      "generator loss:0.8909554830431763\n",
      "-----------------------\n"
     ]
    },
    {
     "name": "stderr",
     "output_type": "stream",
     "text": [
      "111it [3:25:55, 109.46s/it]\n",
      "  0%|          | 0/20 [00:00<?, ?it/s]\u001b[A"
     ]
    },
    {
     "name": "stdout",
     "output_type": "stream",
     "text": [
      "total discriminator loss:0.6931883483232323\n",
      "-----------------------\n",
      "Training Step: 112\n"
     ]
    },
    {
     "name": "stderr",
     "output_type": "stream",
     "text": [
      "\n",
      "  5%|▌         | 1/20 [00:09<02:55,  9.25s/it]\u001b[A\n",
      " 10%|█         | 2/20 [00:17<02:40,  8.93s/it]\u001b[A\n",
      " 15%|█▌        | 3/20 [00:26<02:28,  8.71s/it]\u001b[A\n",
      " 20%|██        | 4/20 [00:34<02:14,  8.39s/it]\u001b[A\n",
      " 25%|██▌       | 5/20 [00:41<02:01,  8.10s/it]\u001b[A\n",
      " 30%|███       | 6/20 [00:48<01:46,  7.63s/it]\u001b[A\n",
      " 35%|███▌      | 7/20 [00:55<01:35,  7.38s/it]\u001b[A\n",
      " 40%|████      | 8/20 [01:01<01:23,  6.94s/it]\u001b[A\n",
      " 45%|████▌     | 9/20 [01:07<01:13,  6.69s/it]\u001b[A\n",
      " 50%|█████     | 10/20 [01:12<01:02,  6.21s/it]\u001b[A\n",
      " 55%|█████▌    | 11/20 [01:17<00:51,  5.74s/it]\u001b[A\n",
      " 60%|██████    | 12/20 [01:22<00:44,  5.53s/it]\u001b[A\n",
      " 65%|██████▌   | 13/20 [01:26<00:35,  5.00s/it]\u001b[A\n",
      " 70%|███████   | 14/20 [01:29<00:27,  4.53s/it]\u001b[A\n",
      " 75%|███████▌  | 15/20 [01:32<00:20,  4.06s/it]\u001b[A\n",
      " 80%|████████  | 16/20 [01:35<00:14,  3.62s/it]\u001b[A\n",
      " 85%|████████▌ | 17/20 [01:37<00:09,  3.19s/it]\u001b[A\n",
      " 90%|█████████ | 18/20 [01:39<00:05,  2.77s/it]\u001b[A\n",
      " 95%|█████████▌| 19/20 [01:40<00:02,  2.35s/it]\u001b[A\n",
      "100%|██████████| 20/20 [01:41<00:00,  5.08s/it]\u001b[A\n"
     ]
    },
    {
     "name": "stdout",
     "output_type": "stream",
     "text": [
      "generator loss:0.9065632872244784\n",
      "-----------------------\n"
     ]
    },
    {
     "name": "stderr",
     "output_type": "stream",
     "text": [
      "112it [3:27:44, 109.56s/it]\n",
      "  0%|          | 0/20 [00:00<?, ?it/s]\u001b[A"
     ]
    },
    {
     "name": "stdout",
     "output_type": "stream",
     "text": [
      "total discriminator loss:0.6931911288693855\n",
      "-----------------------\n",
      "Training Step: 113\n"
     ]
    },
    {
     "name": "stderr",
     "output_type": "stream",
     "text": [
      "\n",
      "  5%|▌         | 1/20 [00:09<02:56,  9.28s/it]\u001b[A\n",
      " 10%|█         | 2/20 [00:18<02:41,  8.96s/it]\u001b[A\n",
      " 15%|█▌        | 3/20 [00:26<02:28,  8.72s/it]\u001b[A\n",
      " 20%|██        | 4/20 [00:34<02:14,  8.40s/it]\u001b[A\n",
      " 25%|██▌       | 5/20 [00:41<02:01,  8.10s/it]\u001b[A\n",
      " 30%|███       | 6/20 [00:48<01:46,  7.62s/it]\u001b[A\n",
      " 35%|███▌      | 7/20 [00:55<01:35,  7.36s/it]\u001b[A\n",
      " 40%|████      | 8/20 [01:01<01:22,  6.90s/it]\u001b[A\n",
      " 45%|████▌     | 9/20 [01:07<01:13,  6.66s/it]\u001b[A\n",
      " 50%|█████     | 10/20 [01:12<01:01,  6.18s/it]\u001b[A\n",
      " 55%|█████▌    | 11/20 [01:17<00:51,  5.70s/it]\u001b[A\n",
      " 60%|██████    | 12/20 [01:22<00:44,  5.51s/it]\u001b[A\n",
      " 65%|██████▌   | 13/20 [01:26<00:34,  5.00s/it]\u001b[A\n",
      " 70%|███████   | 14/20 [01:29<00:27,  4.52s/it]\u001b[A\n",
      " 75%|███████▌  | 15/20 [01:32<00:20,  4.06s/it]\u001b[A\n",
      " 80%|████████  | 16/20 [01:35<00:14,  3.62s/it]\u001b[A\n",
      " 85%|████████▌ | 17/20 [01:37<00:09,  3.21s/it]\u001b[A\n",
      " 90%|█████████ | 18/20 [01:39<00:05,  2.80s/it]\u001b[A\n",
      " 95%|█████████▌| 19/20 [01:40<00:02,  2.38s/it]\u001b[A\n",
      "100%|██████████| 20/20 [01:41<00:00,  5.08s/it]\u001b[A\n"
     ]
    },
    {
     "name": "stdout",
     "output_type": "stream",
     "text": [
      "generator loss:0.891076183434205\n",
      "-----------------------\n"
     ]
    },
    {
     "name": "stderr",
     "output_type": "stream",
     "text": [
      "113it [3:29:34, 109.61s/it]\n",
      "  0%|          | 0/20 [00:00<?, ?it/s]\u001b[A"
     ]
    },
    {
     "name": "stdout",
     "output_type": "stream",
     "text": [
      "total discriminator loss:0.6932003644833662\n",
      "-----------------------\n",
      "Training Step: 114\n"
     ]
    },
    {
     "name": "stderr",
     "output_type": "stream",
     "text": [
      "\n",
      "  5%|▌         | 1/20 [00:09<02:55,  9.24s/it]\u001b[A\n",
      " 10%|█         | 2/20 [00:17<02:40,  8.90s/it]\u001b[A\n",
      " 15%|█▌        | 3/20 [00:26<02:27,  8.68s/it]\u001b[A\n",
      " 20%|██        | 4/20 [00:34<02:14,  8.40s/it]\u001b[A\n",
      " 25%|██▌       | 5/20 [00:41<02:01,  8.10s/it]\u001b[A\n",
      " 30%|███       | 6/20 [00:48<01:46,  7.63s/it]\u001b[A\n",
      " 35%|███▌      | 7/20 [00:55<01:36,  7.39s/it]\u001b[A\n",
      " 40%|████      | 8/20 [01:01<01:23,  6.93s/it]\u001b[A\n",
      " 45%|████▌     | 9/20 [01:07<01:13,  6.69s/it]\u001b[A\n",
      " 50%|█████     | 10/20 [01:12<01:02,  6.22s/it]\u001b[A\n",
      " 55%|█████▌    | 11/20 [01:17<00:51,  5.76s/it]\u001b[A\n",
      " 60%|██████    | 12/20 [01:22<00:44,  5.56s/it]\u001b[A\n",
      " 65%|██████▌   | 13/20 [01:26<00:35,  5.04s/it]\u001b[A\n",
      " 70%|███████   | 14/20 [01:29<00:27,  4.56s/it]\u001b[A\n",
      " 75%|███████▌  | 15/20 [01:32<00:20,  4.10s/it]\u001b[A\n",
      " 80%|████████  | 16/20 [01:35<00:14,  3.66s/it]\u001b[A\n",
      " 85%|████████▌ | 17/20 [01:37<00:09,  3.23s/it]\u001b[A\n",
      " 90%|█████████ | 18/20 [01:39<00:05,  2.81s/it]\u001b[A\n",
      " 95%|█████████▌| 19/20 [01:41<00:02,  2.39s/it]\u001b[A\n",
      "100%|██████████| 20/20 [01:42<00:00,  5.10s/it]\u001b[A\n"
     ]
    },
    {
     "name": "stdout",
     "output_type": "stream",
     "text": [
      "generator loss:0.9061419173031993\n",
      "-----------------------\n"
     ]
    },
    {
     "name": "stderr",
     "output_type": "stream",
     "text": [
      "114it [3:31:24, 109.79s/it]\n",
      "  0%|          | 0/20 [00:00<?, ?it/s]\u001b[A"
     ]
    },
    {
     "name": "stdout",
     "output_type": "stream",
     "text": [
      "total discriminator loss:0.6931906696687875\n",
      "-----------------------\n",
      "Training Step: 115\n"
     ]
    },
    {
     "name": "stderr",
     "output_type": "stream",
     "text": [
      "\n",
      "  5%|▌         | 1/20 [00:09<02:56,  9.28s/it]\u001b[A\n",
      " 10%|█         | 2/20 [00:17<02:40,  8.92s/it]\u001b[A\n",
      " 15%|█▌        | 3/20 [00:26<02:27,  8.68s/it]\u001b[A\n",
      " 20%|██        | 4/20 [00:34<02:13,  8.35s/it]\u001b[A\n",
      " 25%|██▌       | 5/20 [00:41<02:00,  8.06s/it]\u001b[A\n",
      " 30%|███       | 6/20 [00:48<01:45,  7.57s/it]\u001b[A\n",
      " 35%|███▌      | 7/20 [00:55<01:35,  7.34s/it]\u001b[A\n",
      " 40%|████      | 8/20 [01:01<01:22,  6.91s/it]\u001b[A\n",
      " 45%|████▌     | 9/20 [01:07<01:13,  6.66s/it]\u001b[A\n",
      " 50%|█████     | 10/20 [01:12<01:01,  6.20s/it]\u001b[A\n",
      " 55%|█████▌    | 11/20 [01:17<00:51,  5.75s/it]\u001b[A\n",
      " 60%|██████    | 12/20 [01:22<00:44,  5.56s/it]\u001b[A\n",
      " 65%|██████▌   | 13/20 [01:26<00:35,  5.06s/it]\u001b[A\n",
      " 70%|███████   | 14/20 [01:29<00:27,  4.58s/it]\u001b[A\n",
      " 75%|███████▌  | 15/20 [01:32<00:20,  4.12s/it]\u001b[A\n",
      " 80%|████████  | 16/20 [01:35<00:14,  3.67s/it]\u001b[A\n",
      " 85%|████████▌ | 17/20 [01:37<00:09,  3.25s/it]\u001b[A\n",
      " 90%|█████████ | 18/20 [01:39<00:05,  2.82s/it]\u001b[A\n",
      " 95%|█████████▌| 19/20 [01:40<00:02,  2.40s/it]\u001b[A\n",
      "100%|██████████| 20/20 [01:41<00:00,  5.09s/it]\u001b[A\n"
     ]
    },
    {
     "name": "stdout",
     "output_type": "stream",
     "text": [
      "generator loss:0.8906951582753286\n",
      "-----------------------\n"
     ]
    },
    {
     "name": "stderr",
     "output_type": "stream",
     "text": [
      "115it [3:33:14, 109.88s/it]\n",
      "  0%|          | 0/20 [00:00<?, ?it/s]\u001b[A"
     ]
    },
    {
     "name": "stdout",
     "output_type": "stream",
     "text": [
      "total discriminator loss:0.6931898415793615\n",
      "-----------------------\n",
      "Training Step: 116\n"
     ]
    },
    {
     "name": "stderr",
     "output_type": "stream",
     "text": [
      "\n",
      "  5%|▌         | 1/20 [00:09<03:00,  9.49s/it]\u001b[A\n",
      " 10%|█         | 2/20 [00:18<02:42,  9.04s/it]\u001b[A\n",
      " 15%|█▌        | 3/20 [00:26<02:29,  8.77s/it]\u001b[A\n",
      " 20%|██        | 4/20 [00:34<02:15,  8.46s/it]\u001b[A\n",
      " 25%|██▌       | 5/20 [00:42<02:02,  8.16s/it]\u001b[A\n",
      " 30%|███       | 6/20 [00:49<01:47,  7.68s/it]\u001b[A\n",
      " 35%|███▌      | 7/20 [00:55<01:35,  7.38s/it]\u001b[A\n",
      " 40%|████      | 8/20 [01:01<01:22,  6.90s/it]\u001b[A\n",
      " 45%|████▌     | 9/20 [01:07<01:13,  6.65s/it]\u001b[A\n",
      " 50%|█████     | 10/20 [01:12<01:01,  6.18s/it]\u001b[A\n",
      " 55%|█████▌    | 11/20 [01:17<00:51,  5.73s/it]\u001b[A\n",
      " 60%|██████    | 12/20 [01:22<00:44,  5.55s/it]\u001b[A\n",
      " 65%|██████▌   | 13/20 [01:26<00:35,  5.04s/it]\u001b[A\n",
      " 70%|███████   | 14/20 [01:30<00:27,  4.56s/it]\u001b[A\n",
      " 75%|███████▌  | 15/20 [01:33<00:20,  4.09s/it]\u001b[A\n",
      " 80%|████████  | 16/20 [01:35<00:14,  3.64s/it]\u001b[A\n",
      " 85%|████████▌ | 17/20 [01:37<00:09,  3.21s/it]\u001b[A\n",
      " 90%|█████████ | 18/20 [01:39<00:05,  2.79s/it]\u001b[A\n",
      " 95%|█████████▌| 19/20 [01:41<00:02,  2.37s/it]\u001b[A\n",
      "100%|██████████| 20/20 [01:42<00:00,  5.10s/it]\u001b[A\n"
     ]
    },
    {
     "name": "stdout",
     "output_type": "stream",
     "text": [
      "generator loss:0.9062440558825926\n",
      "-----------------------\n"
     ]
    },
    {
     "name": "stderr",
     "output_type": "stream",
     "text": [
      "116it [3:35:05, 110.00s/it]\n",
      "  0%|          | 0/20 [00:00<?, ?it/s]\u001b[A"
     ]
    },
    {
     "name": "stdout",
     "output_type": "stream",
     "text": [
      "total discriminator loss:0.6931888978980898\n",
      "-----------------------\n",
      "Training Step: 117\n"
     ]
    },
    {
     "name": "stderr",
     "output_type": "stream",
     "text": [
      "\n",
      "  5%|▌         | 1/20 [00:09<02:56,  9.31s/it]\u001b[A\n",
      " 10%|█         | 2/20 [00:18<02:42,  9.01s/it]\u001b[A\n",
      " 15%|█▌        | 3/20 [00:26<02:28,  8.76s/it]\u001b[A\n",
      " 20%|██        | 4/20 [00:34<02:15,  8.44s/it]\u001b[A\n",
      " 25%|██▌       | 5/20 [00:42<02:01,  8.13s/it]\u001b[A\n",
      " 30%|███       | 6/20 [00:48<01:46,  7.63s/it]\u001b[A\n",
      " 35%|███▌      | 7/20 [00:55<01:35,  7.37s/it]\u001b[A\n",
      " 40%|████      | 8/20 [01:01<01:22,  6.89s/it]\u001b[A\n",
      " 45%|████▌     | 9/20 [01:07<01:12,  6.63s/it]\u001b[A\n",
      " 50%|█████     | 10/20 [01:12<01:01,  6.16s/it]\u001b[A\n",
      " 55%|█████▌    | 11/20 [01:17<00:51,  5.72s/it]\u001b[A\n",
      " 60%|██████    | 12/20 [01:22<00:44,  5.52s/it]\u001b[A\n",
      " 65%|██████▌   | 13/20 [01:26<00:35,  5.00s/it]\u001b[A\n",
      " 70%|███████   | 14/20 [01:29<00:27,  4.52s/it]\u001b[A\n",
      " 75%|███████▌  | 15/20 [01:32<00:20,  4.06s/it]\u001b[A\n",
      " 80%|████████  | 16/20 [01:35<00:14,  3.61s/it]\u001b[A\n",
      " 85%|████████▌ | 17/20 [01:37<00:09,  3.19s/it]\u001b[A\n",
      " 90%|█████████ | 18/20 [01:39<00:05,  2.76s/it]\u001b[A\n",
      " 95%|█████████▌| 19/20 [01:40<00:02,  2.35s/it]\u001b[A\n",
      "100%|██████████| 20/20 [01:41<00:00,  5.08s/it]\u001b[A\n"
     ]
    },
    {
     "name": "stdout",
     "output_type": "stream",
     "text": [
      "generator loss:0.8912682920827846\n",
      "-----------------------\n"
     ]
    },
    {
     "name": "stderr",
     "output_type": "stream",
     "text": [
      "117it [3:36:54, 109.90s/it]\n",
      "  0%|          | 0/20 [00:00<?, ?it/s]\u001b[A"
     ]
    },
    {
     "name": "stdout",
     "output_type": "stream",
     "text": [
      "total discriminator loss:0.6931945786094194\n",
      "-----------------------\n",
      "Training Step: 118\n"
     ]
    },
    {
     "name": "stderr",
     "output_type": "stream",
     "text": [
      "\n",
      "  5%|▌         | 1/20 [00:09<02:56,  9.27s/it]\u001b[A\n",
      " 10%|█         | 2/20 [00:18<02:41,  8.98s/it]\u001b[A\n",
      " 15%|█▌        | 3/20 [00:26<02:28,  8.72s/it]\u001b[A\n",
      " 20%|██        | 4/20 [00:34<02:14,  8.41s/it]\u001b[A\n",
      " 25%|██▌       | 5/20 [00:41<02:01,  8.11s/it]\u001b[A\n",
      " 30%|███       | 6/20 [00:48<01:47,  7.65s/it]\u001b[A\n",
      " 35%|███▌      | 7/20 [00:55<01:36,  7.41s/it]\u001b[A\n",
      " 40%|████      | 8/20 [01:01<01:23,  6.96s/it]\u001b[A\n",
      " 45%|████▌     | 9/20 [01:07<01:14,  6.73s/it]\u001b[A\n",
      " 50%|█████     | 10/20 [01:13<01:02,  6.25s/it]\u001b[A\n",
      " 55%|█████▌    | 11/20 [01:17<00:52,  5.78s/it]\u001b[A\n",
      " 60%|██████    | 12/20 [01:22<00:44,  5.57s/it]\u001b[A\n",
      " 65%|██████▌   | 13/20 [01:26<00:35,  5.05s/it]\u001b[A\n",
      " 70%|███████   | 14/20 [01:30<00:27,  4.57s/it]\u001b[A\n",
      " 75%|███████▌  | 15/20 [01:33<00:20,  4.12s/it]\u001b[A\n",
      " 80%|████████  | 16/20 [01:35<00:14,  3.67s/it]\u001b[A\n",
      " 85%|████████▌ | 17/20 [01:38<00:09,  3.23s/it]\u001b[A\n",
      " 90%|█████████ | 18/20 [01:39<00:05,  2.81s/it]\u001b[A\n",
      " 95%|█████████▌| 19/20 [01:41<00:02,  2.39s/it]\u001b[A\n",
      "100%|██████████| 20/20 [01:42<00:00,  5.12s/it]\u001b[A\n"
     ]
    },
    {
     "name": "stdout",
     "output_type": "stream",
     "text": [
      "generator loss:0.9065512308132305\n",
      "-----------------------\n"
     ]
    },
    {
     "name": "stderr",
     "output_type": "stream",
     "text": [
      "118it [3:38:45, 110.07s/it]\n",
      "  0%|          | 0/20 [00:00<?, ?it/s]\u001b[A"
     ]
    },
    {
     "name": "stdout",
     "output_type": "stream",
     "text": [
      "total discriminator loss:0.6931869230111612\n",
      "-----------------------\n",
      "Training Step: 119\n"
     ]
    },
    {
     "name": "stderr",
     "output_type": "stream",
     "text": [
      "\n",
      "  5%|▌         | 1/20 [00:09<02:56,  9.27s/it]\u001b[A\n",
      " 10%|█         | 2/20 [00:17<02:40,  8.94s/it]\u001b[A\n",
      " 15%|█▌        | 3/20 [00:26<02:28,  8.72s/it]\u001b[A\n",
      " 20%|██        | 4/20 [00:34<02:14,  8.40s/it]\u001b[A\n",
      " 25%|██▌       | 5/20 [00:41<02:01,  8.10s/it]\u001b[A\n",
      " 30%|███       | 6/20 [00:48<01:46,  7.62s/it]\u001b[A\n",
      " 35%|███▌      | 7/20 [00:55<01:35,  7.37s/it]\u001b[A\n",
      " 40%|████      | 8/20 [01:01<01:23,  6.95s/it]\u001b[A\n",
      " 45%|████▌     | 9/20 [01:07<01:14,  6.73s/it]\u001b[A\n",
      " 50%|█████     | 10/20 [01:12<01:02,  6.24s/it]\u001b[A\n",
      " 55%|█████▌    | 11/20 [01:17<00:51,  5.76s/it]\u001b[A\n",
      " 60%|██████    | 12/20 [01:22<00:44,  5.58s/it]\u001b[A\n",
      " 65%|██████▌   | 13/20 [01:26<00:35,  5.06s/it]\u001b[A\n",
      " 70%|███████   | 14/20 [01:30<00:27,  4.56s/it]\u001b[A\n",
      " 75%|███████▌  | 15/20 [01:33<00:20,  4.09s/it]\u001b[A\n",
      " 80%|████████  | 16/20 [01:35<00:14,  3.65s/it]\u001b[A\n",
      " 85%|████████▌ | 17/20 [01:37<00:09,  3.22s/it]\u001b[A\n",
      " 90%|█████████ | 18/20 [01:39<00:05,  2.80s/it]\u001b[A\n",
      " 95%|█████████▌| 19/20 [01:41<00:02,  2.37s/it]\u001b[A\n",
      "100%|██████████| 20/20 [01:42<00:00,  5.10s/it]\u001b[A\n"
     ]
    },
    {
     "name": "stdout",
     "output_type": "stream",
     "text": [
      "generator loss:0.8899795170259575\n",
      "-----------------------\n"
     ]
    },
    {
     "name": "stderr",
     "output_type": "stream",
     "text": [
      "119it [3:40:35, 110.12s/it]\n",
      "  0%|          | 0/20 [00:00<?, ?it/s]\u001b[A"
     ]
    },
    {
     "name": "stdout",
     "output_type": "stream",
     "text": [
      "total discriminator loss:0.6931885703287999\n",
      "-----------------------\n",
      "Training Step: 120\n"
     ]
    },
    {
     "name": "stderr",
     "output_type": "stream",
     "text": [
      "\n",
      "  5%|▌         | 1/20 [00:09<02:54,  9.20s/it]\u001b[A\n",
      " 10%|█         | 2/20 [00:17<02:39,  8.87s/it]\u001b[A\n",
      " 15%|█▌        | 3/20 [00:26<02:27,  8.67s/it]\u001b[A\n",
      " 20%|██        | 4/20 [00:34<02:13,  8.37s/it]\u001b[A\n",
      " 25%|██▌       | 5/20 [00:41<02:01,  8.08s/it]\u001b[A\n",
      " 30%|███       | 6/20 [00:48<01:46,  7.59s/it]\u001b[A\n",
      " 35%|███▌      | 7/20 [00:55<01:35,  7.34s/it]\u001b[A\n",
      " 40%|████      | 8/20 [01:01<01:22,  6.90s/it]\u001b[A\n",
      " 45%|████▌     | 9/20 [01:07<01:13,  6.66s/it]\u001b[A\n",
      " 50%|█████     | 10/20 [01:12<01:01,  6.17s/it]\u001b[A\n",
      " 55%|█████▌    | 11/20 [01:17<00:51,  5.71s/it]\u001b[A\n",
      " 60%|██████    | 12/20 [01:22<00:44,  5.52s/it]\u001b[A\n",
      " 65%|██████▌   | 13/20 [01:25<00:35,  5.01s/it]\u001b[A\n",
      " 70%|███████   | 14/20 [01:29<00:27,  4.54s/it]\u001b[A\n",
      " 75%|███████▌  | 15/20 [01:32<00:20,  4.07s/it]\u001b[A\n",
      " 80%|████████  | 16/20 [01:35<00:14,  3.64s/it]\u001b[A\n",
      " 85%|████████▌ | 17/20 [01:37<00:09,  3.20s/it]\u001b[A\n",
      " 90%|█████████ | 18/20 [01:38<00:05,  2.77s/it]\u001b[A\n",
      " 95%|█████████▌| 19/20 [01:40<00:02,  2.36s/it]\u001b[A\n",
      "100%|██████████| 20/20 [01:41<00:00,  5.07s/it]\u001b[A\n"
     ]
    },
    {
     "name": "stdout",
     "output_type": "stream",
     "text": [
      "generator loss:0.9057299923143745\n",
      "-----------------------\n"
     ]
    },
    {
     "name": "stderr",
     "output_type": "stream",
     "text": [
      "120it [3:42:25, 109.94s/it]\n",
      "  0%|          | 0/20 [00:00<?, ?it/s]\u001b[A"
     ]
    },
    {
     "name": "stdout",
     "output_type": "stream",
     "text": [
      "total discriminator loss:0.6931942841799251\n",
      "-----------------------\n",
      "Training Step: 121\n"
     ]
    },
    {
     "name": "stderr",
     "output_type": "stream",
     "text": [
      "\n",
      "  5%|▌         | 1/20 [00:09<02:54,  9.20s/it]\u001b[A\n",
      " 10%|█         | 2/20 [00:17<02:41,  8.96s/it]\u001b[A\n",
      " 15%|█▌        | 3/20 [00:26<02:28,  8.76s/it]\u001b[A\n",
      " 20%|██        | 4/20 [00:34<02:15,  8.44s/it]\u001b[A\n",
      " 25%|██▌       | 5/20 [00:42<02:01,  8.13s/it]\u001b[A\n",
      " 30%|███       | 6/20 [00:48<01:47,  7.65s/it]\u001b[A\n",
      " 35%|███▌      | 7/20 [00:55<01:36,  7.39s/it]\u001b[A\n",
      " 40%|████      | 8/20 [01:01<01:23,  6.93s/it]\u001b[A\n",
      " 45%|████▌     | 9/20 [01:07<01:13,  6.68s/it]\u001b[A\n",
      " 50%|█████     | 10/20 [01:12<01:01,  6.20s/it]\u001b[A\n",
      " 55%|█████▌    | 11/20 [01:17<00:51,  5.74s/it]\u001b[A\n",
      " 60%|██████    | 12/20 [01:22<00:44,  5.53s/it]\u001b[A\n",
      " 65%|██████▌   | 13/20 [01:26<00:35,  5.01s/it]\u001b[A\n",
      " 70%|███████   | 14/20 [01:29<00:27,  4.53s/it]\u001b[A\n",
      " 75%|███████▌  | 15/20 [01:32<00:20,  4.07s/it]\u001b[A\n",
      " 80%|████████  | 16/20 [01:35<00:14,  3.63s/it]\u001b[A\n",
      " 85%|████████▌ | 17/20 [01:37<00:09,  3.20s/it]\u001b[A\n",
      " 90%|█████████ | 18/20 [01:39<00:05,  2.77s/it]\u001b[A\n",
      " 95%|█████████▌| 19/20 [01:40<00:02,  2.35s/it]\u001b[A\n",
      "100%|██████████| 20/20 [01:41<00:00,  5.09s/it]\u001b[A\n"
     ]
    },
    {
     "name": "stdout",
     "output_type": "stream",
     "text": [
      "generator loss:0.8907017199418645\n",
      "-----------------------\n"
     ]
    },
    {
     "name": "stderr",
     "output_type": "stream",
     "text": [
      "121it [3:44:15, 109.95s/it]\n",
      "  0%|          | 0/20 [00:00<?, ?it/s]\u001b[A"
     ]
    },
    {
     "name": "stdout",
     "output_type": "stream",
     "text": [
      "total discriminator loss:0.6931911761687772\n",
      "-----------------------\n",
      "Training Step: 122\n"
     ]
    },
    {
     "name": "stderr",
     "output_type": "stream",
     "text": [
      "\n",
      "  5%|▌         | 1/20 [00:09<02:55,  9.25s/it]\u001b[A\n",
      " 10%|█         | 2/20 [00:18<02:41,  8.98s/it]\u001b[A\n",
      " 15%|█▌        | 3/20 [00:26<02:28,  8.71s/it]\u001b[A\n",
      " 20%|██        | 4/20 [00:34<02:13,  8.37s/it]\u001b[A\n",
      " 25%|██▌       | 5/20 [00:41<02:01,  8.08s/it]\u001b[A\n",
      " 30%|███       | 6/20 [00:48<01:46,  7.59s/it]\u001b[A\n",
      " 35%|███▌      | 7/20 [00:55<01:35,  7.34s/it]\u001b[A\n",
      " 40%|████      | 8/20 [01:01<01:22,  6.90s/it]\u001b[A\n",
      " 45%|████▌     | 9/20 [01:07<01:13,  6.67s/it]\u001b[A\n",
      " 50%|█████     | 10/20 [01:12<01:02,  6.22s/it]\u001b[A\n",
      " 55%|█████▌    | 11/20 [01:17<00:51,  5.75s/it]\u001b[A\n",
      " 60%|██████    | 12/20 [01:22<00:44,  5.55s/it]\u001b[A\n",
      " 65%|██████▌   | 13/20 [01:26<00:35,  5.04s/it]\u001b[A\n",
      " 70%|███████   | 14/20 [01:29<00:27,  4.56s/it]\u001b[A\n",
      " 75%|███████▌  | 15/20 [01:32<00:20,  4.11s/it]\u001b[A\n",
      " 80%|████████  | 16/20 [01:35<00:14,  3.65s/it]\u001b[A\n",
      " 85%|████████▌ | 17/20 [01:37<00:09,  3.22s/it]\u001b[A\n",
      " 90%|█████████ | 18/20 [01:39<00:05,  2.79s/it]\u001b[A\n",
      " 95%|█████████▌| 19/20 [01:40<00:02,  2.38s/it]\u001b[A\n",
      "100%|██████████| 20/20 [01:41<00:00,  5.09s/it]\u001b[A\n"
     ]
    },
    {
     "name": "stdout",
     "output_type": "stream",
     "text": [
      "generator loss:0.9062490945394167\n",
      "-----------------------\n"
     ]
    },
    {
     "name": "stderr",
     "output_type": "stream",
     "text": [
      "122it [3:46:05, 109.95s/it]\n",
      "  0%|          | 0/20 [00:00<?, ?it/s]\u001b[A"
     ]
    },
    {
     "name": "stdout",
     "output_type": "stream",
     "text": [
      "total discriminator loss:0.6931964018011865\n",
      "-----------------------\n",
      "Training Step: 123\n"
     ]
    },
    {
     "name": "stderr",
     "output_type": "stream",
     "text": [
      "\n",
      "  5%|▌         | 1/20 [00:09<02:54,  9.18s/it]\u001b[A\n",
      " 10%|█         | 2/20 [00:17<02:40,  8.90s/it]\u001b[A\n",
      " 15%|█▌        | 3/20 [00:26<02:28,  8.72s/it]\u001b[A\n",
      " 20%|██        | 4/20 [00:34<02:14,  8.43s/it]\u001b[A\n",
      " 25%|██▌       | 5/20 [00:41<02:01,  8.12s/it]\u001b[A\n",
      " 30%|███       | 6/20 [00:48<01:46,  7.62s/it]\u001b[A\n",
      " 35%|███▌      | 7/20 [00:55<01:35,  7.35s/it]\u001b[A\n",
      " 40%|████      | 8/20 [01:01<01:22,  6.89s/it]\u001b[A\n",
      " 45%|████▌     | 9/20 [01:07<01:13,  6.64s/it]\u001b[A\n",
      " 50%|█████     | 10/20 [01:12<01:01,  6.17s/it]\u001b[A\n",
      " 55%|█████▌    | 11/20 [01:17<00:51,  5.72s/it]\u001b[A\n",
      " 60%|██████    | 12/20 [01:22<00:44,  5.53s/it]\u001b[A\n",
      " 65%|██████▌   | 13/20 [01:26<00:35,  5.03s/it]\u001b[A\n",
      " 70%|███████   | 14/20 [01:29<00:27,  4.54s/it]\u001b[A\n",
      " 75%|███████▌  | 15/20 [01:32<00:20,  4.09s/it]\u001b[A\n",
      " 80%|████████  | 16/20 [01:35<00:14,  3.66s/it]\u001b[A\n",
      " 85%|████████▌ | 17/20 [01:37<00:09,  3.24s/it]\u001b[A\n",
      " 90%|█████████ | 18/20 [01:39<00:05,  2.81s/it]\u001b[A\n",
      " 95%|█████████▌| 19/20 [01:40<00:02,  2.38s/it]\u001b[A\n",
      "100%|██████████| 20/20 [01:41<00:00,  5.09s/it]\u001b[A\n"
     ]
    },
    {
     "name": "stdout",
     "output_type": "stream",
     "text": [
      "generator loss:0.8907440567150715\n",
      "-----------------------\n"
     ]
    },
    {
     "name": "stderr",
     "output_type": "stream",
     "text": [
      "123it [3:47:54, 109.95s/it]\n",
      "  0%|          | 0/20 [00:00<?, ?it/s]\u001b[A"
     ]
    },
    {
     "name": "stdout",
     "output_type": "stream",
     "text": [
      "total discriminator loss:0.6931957511436251\n",
      "-----------------------\n",
      "Training Step: 124\n"
     ]
    },
    {
     "name": "stderr",
     "output_type": "stream",
     "text": [
      "\n",
      "  5%|▌         | 1/20 [00:09<02:57,  9.36s/it]\u001b[A\n",
      " 10%|█         | 2/20 [00:18<02:42,  9.04s/it]\u001b[A\n",
      " 15%|█▌        | 3/20 [00:26<02:29,  8.81s/it]\u001b[A\n",
      " 20%|██        | 4/20 [00:34<02:15,  8.47s/it]\u001b[A\n",
      " 25%|██▌       | 5/20 [00:42<02:02,  8.15s/it]\u001b[A\n",
      " 30%|███       | 6/20 [00:48<01:47,  7.65s/it]\u001b[A\n",
      " 35%|███▌      | 7/20 [00:55<01:35,  7.37s/it]\u001b[A\n",
      " 40%|████      | 8/20 [01:01<01:22,  6.91s/it]\u001b[A\n",
      " 45%|████▌     | 9/20 [01:07<01:13,  6.67s/it]\u001b[A\n",
      " 50%|█████     | 10/20 [01:12<01:01,  6.18s/it]\u001b[A\n",
      " 55%|█████▌    | 11/20 [01:17<00:51,  5.72s/it]\u001b[A\n",
      " 60%|██████    | 12/20 [01:22<00:44,  5.52s/it]\u001b[A\n",
      " 65%|██████▌   | 13/20 [01:26<00:35,  5.01s/it]\u001b[A\n",
      " 70%|███████   | 14/20 [01:29<00:27,  4.52s/it]\u001b[A\n",
      " 75%|███████▌  | 15/20 [01:32<00:20,  4.07s/it]\u001b[A\n",
      " 80%|████████  | 16/20 [01:35<00:14,  3.62s/it]\u001b[A\n",
      " 85%|████████▌ | 17/20 [01:37<00:09,  3.19s/it]\u001b[A\n",
      " 90%|█████████ | 18/20 [01:39<00:05,  2.76s/it]\u001b[A\n",
      " 95%|█████████▌| 19/20 [01:40<00:02,  2.35s/it]\u001b[A\n",
      "100%|██████████| 20/20 [01:41<00:00,  5.09s/it]\u001b[A\n"
     ]
    },
    {
     "name": "stdout",
     "output_type": "stream",
     "text": [
      "generator loss:0.9063023585811113\n",
      "-----------------------\n"
     ]
    },
    {
     "name": "stderr",
     "output_type": "stream",
     "text": [
      "124it [3:49:44, 109.95s/it]\n",
      "  0%|          | 0/20 [00:00<?, ?it/s]\u001b[A"
     ]
    },
    {
     "name": "stdout",
     "output_type": "stream",
     "text": [
      "total discriminator loss:0.6931949038437435\n",
      "-----------------------\n",
      "Training Step: 125\n"
     ]
    },
    {
     "name": "stderr",
     "output_type": "stream",
     "text": [
      "\n",
      "  5%|▌         | 1/20 [00:09<02:55,  9.23s/it]\u001b[A\n",
      " 10%|█         | 2/20 [00:17<02:40,  8.94s/it]\u001b[A\n",
      " 15%|█▌        | 3/20 [00:26<02:28,  8.72s/it]\u001b[A\n",
      " 20%|██        | 4/20 [00:34<02:14,  8.40s/it]\u001b[A\n",
      " 25%|██▌       | 5/20 [00:41<02:01,  8.09s/it]\u001b[A\n",
      " 30%|███       | 6/20 [00:48<01:46,  7.61s/it]\u001b[A\n",
      " 35%|███▌      | 7/20 [00:55<01:35,  7.33s/it]\u001b[A\n",
      " 40%|████      | 8/20 [01:01<01:22,  6.88s/it]\u001b[A\n",
      " 45%|████▌     | 9/20 [01:07<01:13,  6.65s/it]\u001b[A\n",
      " 50%|█████     | 10/20 [01:12<01:01,  6.19s/it]\u001b[A\n",
      " 55%|█████▌    | 11/20 [01:17<00:51,  5.72s/it]\u001b[A\n",
      " 60%|██████    | 12/20 [01:22<00:44,  5.53s/it]\u001b[A\n",
      " 65%|██████▌   | 13/20 [01:26<00:34,  4.99s/it]\u001b[A\n",
      " 70%|███████   | 14/20 [01:29<00:27,  4.51s/it]\u001b[A\n",
      " 75%|███████▌  | 15/20 [01:32<00:20,  4.05s/it]\u001b[A\n",
      " 80%|████████  | 16/20 [01:35<00:14,  3.61s/it]\u001b[A\n",
      " 85%|████████▌ | 17/20 [01:37<00:09,  3.19s/it]\u001b[A\n",
      " 90%|█████████ | 18/20 [01:39<00:05,  2.78s/it]\u001b[A\n",
      " 95%|█████████▌| 19/20 [01:40<00:02,  2.36s/it]\u001b[A\n",
      "100%|██████████| 20/20 [01:41<00:00,  5.07s/it]\u001b[A\n"
     ]
    },
    {
     "name": "stdout",
     "output_type": "stream",
     "text": [
      "generator loss:0.8898422641210534\n",
      "-----------------------\n"
     ]
    },
    {
     "name": "stderr",
     "output_type": "stream",
     "text": [
      "125it [3:51:34, 109.83s/it]\n",
      "  0%|          | 0/20 [00:00<?, ?it/s]\u001b[A"
     ]
    },
    {
     "name": "stdout",
     "output_type": "stream",
     "text": [
      "total discriminator loss:0.6931878331980958\n",
      "-----------------------\n",
      "Training Step: 126\n"
     ]
    },
    {
     "name": "stderr",
     "output_type": "stream",
     "text": [
      "\n",
      "  5%|▌         | 1/20 [00:09<02:54,  9.20s/it]\u001b[A\n",
      " 10%|█         | 2/20 [00:17<02:41,  8.95s/it]\u001b[A\n",
      " 15%|█▌        | 3/20 [00:26<02:28,  8.75s/it]\u001b[A\n",
      " 20%|██        | 4/20 [00:34<02:14,  8.43s/it]\u001b[A\n",
      " 25%|██▌       | 5/20 [00:41<02:01,  8.12s/it]\u001b[A\n",
      " 30%|███       | 6/20 [00:48<01:46,  7.62s/it]\u001b[A\n",
      " 35%|███▌      | 7/20 [00:55<01:35,  7.38s/it]\u001b[A\n",
      " 40%|████      | 8/20 [01:01<01:23,  6.92s/it]\u001b[A\n",
      " 45%|████▌     | 9/20 [01:07<01:13,  6.69s/it]\u001b[A\n",
      " 50%|█████     | 10/20 [01:12<01:02,  6.20s/it]\u001b[A\n",
      " 55%|█████▌    | 11/20 [01:17<00:51,  5.74s/it]\u001b[A\n",
      " 60%|██████    | 12/20 [01:22<00:44,  5.55s/it]\u001b[A\n",
      " 65%|██████▌   | 13/20 [01:26<00:35,  5.05s/it]\u001b[A\n",
      " 70%|███████   | 14/20 [01:29<00:27,  4.58s/it]\u001b[A\n",
      " 75%|███████▌  | 15/20 [01:33<00:20,  4.12s/it]\u001b[A\n",
      " 80%|████████  | 16/20 [01:35<00:14,  3.68s/it]\u001b[A\n",
      " 85%|████████▌ | 17/20 [01:37<00:09,  3.25s/it]\u001b[A\n",
      " 90%|█████████ | 18/20 [01:39<00:05,  2.82s/it]\u001b[A\n",
      " 95%|█████████▌| 19/20 [01:41<00:02,  2.40s/it]\u001b[A\n",
      "100%|██████████| 20/20 [01:42<00:00,  5.11s/it]\u001b[A\n"
     ]
    },
    {
     "name": "stdout",
     "output_type": "stream",
     "text": [
      "generator loss:0.9061872152482326\n",
      "-----------------------\n"
     ]
    },
    {
     "name": "stderr",
     "output_type": "stream",
     "text": [
      "126it [3:53:24, 109.97s/it]\n",
      "  0%|          | 0/20 [00:00<?, ?it/s]\u001b[A"
     ]
    },
    {
     "name": "stdout",
     "output_type": "stream",
     "text": [
      "total discriminator loss:0.6931896058872036\n",
      "-----------------------\n",
      "Training Step: 127\n"
     ]
    },
    {
     "name": "stderr",
     "output_type": "stream",
     "text": [
      "\n",
      "  5%|▌         | 1/20 [00:09<02:56,  9.27s/it]\u001b[A\n",
      " 10%|█         | 2/20 [00:18<02:41,  8.98s/it]\u001b[A\n",
      " 15%|█▌        | 3/20 [00:26<02:29,  8.80s/it]\u001b[A\n",
      " 20%|██        | 4/20 [00:34<02:16,  8.50s/it]\u001b[A\n",
      " 25%|██▌       | 5/20 [00:42<02:03,  8.21s/it]\u001b[A\n",
      " 30%|███       | 6/20 [00:49<01:48,  7.74s/it]\u001b[A\n",
      " 35%|███▌      | 7/20 [00:56<01:37,  7.46s/it]\u001b[A\n",
      " 40%|████      | 8/20 [01:02<01:23,  6.99s/it]\u001b[A\n",
      " 45%|████▌     | 9/20 [01:08<01:13,  6.72s/it]\u001b[A\n",
      " 50%|█████     | 10/20 [01:13<01:02,  6.22s/it]\u001b[A\n",
      " 55%|█████▌    | 11/20 [01:18<00:51,  5.76s/it]\u001b[A\n",
      " 60%|██████    | 12/20 [01:23<00:44,  5.56s/it]\u001b[A\n",
      " 65%|██████▌   | 13/20 [01:26<00:35,  5.05s/it]\u001b[A\n",
      " 70%|███████   | 14/20 [01:30<00:27,  4.56s/it]\u001b[A\n",
      " 75%|███████▌  | 15/20 [01:33<00:20,  4.10s/it]\u001b[A\n",
      " 80%|████████  | 16/20 [01:36<00:14,  3.66s/it]\u001b[A\n",
      " 85%|████████▌ | 17/20 [01:38<00:09,  3.22s/it]\u001b[A\n",
      " 90%|█████████ | 18/20 [01:40<00:05,  2.79s/it]\u001b[A\n",
      " 95%|█████████▌| 19/20 [01:41<00:02,  2.39s/it]\u001b[A\n",
      "100%|██████████| 20/20 [01:42<00:00,  5.13s/it]\u001b[A\n"
     ]
    },
    {
     "name": "stdout",
     "output_type": "stream",
     "text": [
      "generator loss:0.8900884556947958\n",
      "-----------------------\n"
     ]
    },
    {
     "name": "stderr",
     "output_type": "stream",
     "text": [
      "127it [3:55:15, 110.21s/it]\n",
      "  0%|          | 0/20 [00:00<?, ?it/s]\u001b[A"
     ]
    },
    {
     "name": "stdout",
     "output_type": "stream",
     "text": [
      "total discriminator loss:0.6931902150293584\n",
      "-----------------------\n",
      "Training Step: 128\n"
     ]
    },
    {
     "name": "stderr",
     "output_type": "stream",
     "text": [
      "\n",
      "  5%|▌         | 1/20 [00:09<02:57,  9.37s/it]\u001b[A\n",
      " 10%|█         | 2/20 [00:18<02:41,  8.98s/it]\u001b[A\n",
      " 15%|█▌        | 3/20 [00:26<02:28,  8.74s/it]\u001b[A\n",
      " 20%|██        | 4/20 [00:34<02:14,  8.42s/it]\u001b[A\n",
      " 25%|██▌       | 5/20 [00:42<02:01,  8.12s/it]\u001b[A\n",
      " 30%|███       | 6/20 [00:48<01:47,  7.66s/it]\u001b[A\n",
      " 35%|███▌      | 7/20 [00:55<01:36,  7.40s/it]\u001b[A\n",
      " 40%|████      | 8/20 [01:01<01:23,  6.94s/it]\u001b[A\n",
      " 45%|████▌     | 9/20 [01:07<01:13,  6.70s/it]\u001b[A\n",
      " 50%|█████     | 10/20 [01:12<01:02,  6.21s/it]\u001b[A\n",
      " 55%|█████▌    | 11/20 [01:17<00:51,  5.75s/it]\u001b[A\n",
      " 60%|██████    | 12/20 [01:22<00:44,  5.55s/it]\u001b[A\n",
      " 65%|██████▌   | 13/20 [01:26<00:35,  5.03s/it]\u001b[A\n",
      " 70%|███████   | 14/20 [01:30<00:27,  4.55s/it]\u001b[A\n",
      " 75%|███████▌  | 15/20 [01:33<00:20,  4.11s/it]\u001b[A\n",
      " 80%|████████  | 16/20 [01:35<00:14,  3.66s/it]\u001b[A\n",
      " 85%|████████▌ | 17/20 [01:37<00:09,  3.23s/it]\u001b[A\n",
      " 90%|█████████ | 18/20 [01:39<00:05,  2.81s/it]\u001b[A\n",
      " 95%|█████████▌| 19/20 [01:41<00:02,  2.40s/it]\u001b[A\n",
      "100%|██████████| 20/20 [01:42<00:00,  5.11s/it]\u001b[A\n"
     ]
    },
    {
     "name": "stdout",
     "output_type": "stream",
     "text": [
      "generator loss:0.9055218514034354\n",
      "-----------------------\n"
     ]
    },
    {
     "name": "stderr",
     "output_type": "stream",
     "text": [
      "128it [3:57:05, 110.28s/it]\n",
      "  0%|          | 0/20 [00:00<?, ?it/s]\u001b[A"
     ]
    },
    {
     "name": "stdout",
     "output_type": "stream",
     "text": [
      "total discriminator loss:0.6931928573905238\n",
      "-----------------------\n",
      "Training Step: 129\n"
     ]
    },
    {
     "name": "stderr",
     "output_type": "stream",
     "text": [
      "\n",
      "  5%|▌         | 1/20 [00:09<02:59,  9.44s/it]\u001b[A\n",
      " 10%|█         | 2/20 [00:18<02:43,  9.07s/it]\u001b[A\n",
      " 15%|█▌        | 3/20 [00:26<02:29,  8.81s/it]\u001b[A\n",
      " 20%|██        | 4/20 [00:34<02:16,  8.51s/it]\u001b[A\n",
      " 25%|██▌       | 5/20 [00:42<02:02,  8.20s/it]\u001b[A\n",
      " 30%|███       | 6/20 [00:49<01:47,  7.70s/it]\u001b[A\n",
      " 35%|███▌      | 7/20 [00:56<01:36,  7.45s/it]\u001b[A\n",
      " 40%|████      | 8/20 [01:02<01:23,  7.00s/it]\u001b[A\n",
      " 45%|████▌     | 9/20 [01:08<01:14,  6.75s/it]\u001b[A\n",
      " 50%|█████     | 10/20 [01:13<01:02,  6.27s/it]\u001b[A\n",
      " 55%|█████▌    | 11/20 [01:18<00:52,  5.80s/it]\u001b[A\n",
      " 60%|██████    | 12/20 [01:23<00:44,  5.60s/it]\u001b[A\n",
      " 65%|██████▌   | 13/20 [01:27<00:35,  5.07s/it]\u001b[A\n",
      " 70%|███████   | 14/20 [01:30<00:27,  4.58s/it]\u001b[A\n",
      " 75%|███████▌  | 15/20 [01:33<00:20,  4.12s/it]\u001b[A\n",
      " 80%|████████  | 16/20 [01:36<00:14,  3.66s/it]\u001b[A\n",
      " 85%|████████▌ | 17/20 [01:38<00:09,  3.22s/it]\u001b[A\n",
      " 90%|█████████ | 18/20 [01:40<00:05,  2.80s/it]\u001b[A\n",
      " 95%|█████████▌| 19/20 [01:41<00:02,  2.37s/it]\u001b[A\n",
      "100%|██████████| 20/20 [01:42<00:00,  5.14s/it]\u001b[A\n"
     ]
    },
    {
     "name": "stdout",
     "output_type": "stream",
     "text": [
      "generator loss:0.8906483499514881\n",
      "-----------------------\n"
     ]
    },
    {
     "name": "stderr",
     "output_type": "stream",
     "text": [
      "129it [3:58:57, 110.53s/it]\n",
      "  0%|          | 0/20 [00:00<?, ?it/s]\u001b[A"
     ]
    },
    {
     "name": "stdout",
     "output_type": "stream",
     "text": [
      "total discriminator loss:0.6931927402508896\n",
      "-----------------------\n",
      "Training Step: 130\n"
     ]
    },
    {
     "name": "stderr",
     "output_type": "stream",
     "text": [
      "\n",
      "  5%|▌         | 1/20 [00:09<02:55,  9.24s/it]\u001b[A\n",
      " 10%|█         | 2/20 [00:18<02:41,  8.97s/it]\u001b[A\n",
      " 15%|█▌        | 3/20 [00:26<02:28,  8.74s/it]\u001b[A\n",
      " 20%|██        | 4/20 [00:34<02:14,  8.42s/it]\u001b[A\n",
      " 25%|██▌       | 5/20 [00:41<02:01,  8.10s/it]\u001b[A\n",
      " 30%|███       | 6/20 [00:48<01:46,  7.60s/it]\u001b[A\n",
      " 35%|███▌      | 7/20 [00:55<01:35,  7.34s/it]\u001b[A\n",
      " 40%|████      | 8/20 [01:01<01:22,  6.89s/it]\u001b[A\n",
      " 45%|████▌     | 9/20 [01:07<01:13,  6.67s/it]\u001b[A\n",
      " 50%|█████     | 10/20 [01:12<01:01,  6.20s/it]\u001b[A\n",
      " 55%|█████▌    | 11/20 [01:17<00:51,  5.73s/it]\u001b[A\n",
      " 60%|██████    | 12/20 [01:22<00:44,  5.54s/it]\u001b[A\n",
      " 65%|██████▌   | 13/20 [01:26<00:35,  5.02s/it]\u001b[A\n",
      " 70%|███████   | 14/20 [01:29<00:27,  4.54s/it]\u001b[A\n",
      " 75%|███████▌  | 15/20 [01:32<00:20,  4.07s/it]\u001b[A\n",
      " 80%|████████  | 16/20 [01:35<00:14,  3.63s/it]\u001b[A\n",
      " 85%|████████▌ | 17/20 [01:37<00:09,  3.20s/it]\u001b[A\n",
      " 90%|█████████ | 18/20 [01:39<00:05,  2.77s/it]\u001b[A\n",
      " 95%|█████████▌| 19/20 [01:40<00:02,  2.35s/it]\u001b[A\n",
      "100%|██████████| 20/20 [01:41<00:00,  5.08s/it]\u001b[A\n"
     ]
    },
    {
     "name": "stdout",
     "output_type": "stream",
     "text": [
      "generator loss:0.9054397331725266\n",
      "-----------------------\n"
     ]
    },
    {
     "name": "stderr",
     "output_type": "stream",
     "text": [
      "130it [4:00:46, 110.31s/it]\n",
      "  0%|          | 0/20 [00:00<?, ?it/s]\u001b[A"
     ]
    },
    {
     "name": "stdout",
     "output_type": "stream",
     "text": [
      "total discriminator loss:0.6931927195603518\n",
      "-----------------------\n",
      "Training Step: 131\n"
     ]
    },
    {
     "name": "stderr",
     "output_type": "stream",
     "text": [
      "\n",
      "  5%|▌         | 1/20 [00:09<02:57,  9.34s/it]\u001b[A\n",
      " 10%|█         | 2/20 [00:18<02:42,  9.01s/it]\u001b[A\n",
      " 15%|█▌        | 3/20 [00:26<02:29,  8.77s/it]\u001b[A\n",
      " 20%|██        | 4/20 [00:34<02:15,  8.45s/it]\u001b[A\n",
      " 25%|██▌       | 5/20 [00:42<02:01,  8.13s/it]\u001b[A\n",
      " 30%|███       | 6/20 [00:48<01:46,  7.63s/it]\u001b[A\n",
      " 35%|███▌      | 7/20 [00:55<01:35,  7.36s/it]\u001b[A\n",
      " 40%|████      | 8/20 [01:01<01:22,  6.90s/it]\u001b[A\n",
      " 45%|████▌     | 9/20 [01:07<01:13,  6.64s/it]\u001b[A\n",
      " 50%|█████     | 10/20 [01:12<01:01,  6.17s/it]\u001b[A\n",
      " 55%|█████▌    | 11/20 [01:17<00:51,  5.71s/it]\u001b[A\n",
      " 60%|██████    | 12/20 [01:22<00:44,  5.52s/it]\u001b[A\n",
      " 65%|██████▌   | 13/20 [01:26<00:35,  5.02s/it]\u001b[A\n",
      " 70%|███████   | 14/20 [01:29<00:27,  4.54s/it]\u001b[A\n",
      " 75%|███████▌  | 15/20 [01:32<00:20,  4.07s/it]\u001b[A\n",
      " 80%|████████  | 16/20 [01:35<00:14,  3.62s/it]\u001b[A\n",
      " 85%|████████▌ | 17/20 [01:37<00:09,  3.19s/it]\u001b[A\n",
      " 90%|█████████ | 18/20 [01:39<00:05,  2.77s/it]\u001b[A\n",
      " 95%|█████████▌| 19/20 [01:40<00:02,  2.36s/it]\u001b[A\n",
      "100%|██████████| 20/20 [01:41<00:00,  5.08s/it]\u001b[A\n"
     ]
    },
    {
     "name": "stdout",
     "output_type": "stream",
     "text": [
      "generator loss:0.8915274169735756\n",
      "-----------------------\n"
     ]
    },
    {
     "name": "stderr",
     "output_type": "stream",
     "text": [
      "131it [4:02:36, 110.17s/it]\n",
      "  0%|          | 0/20 [00:00<?, ?it/s]\u001b[A"
     ]
    },
    {
     "name": "stdout",
     "output_type": "stream",
     "text": [
      "total discriminator loss:0.6931890046525755\n",
      "-----------------------\n",
      "Training Step: 132\n"
     ]
    },
    {
     "name": "stderr",
     "output_type": "stream",
     "text": [
      "\n",
      "  5%|▌         | 1/20 [00:09<02:57,  9.35s/it]\u001b[A\n",
      " 10%|█         | 2/20 [00:18<02:41,  9.00s/it]\u001b[A\n",
      " 15%|█▌        | 3/20 [00:26<02:28,  8.76s/it]\u001b[A\n",
      " 20%|██        | 4/20 [00:34<02:15,  8.47s/it]\u001b[A\n",
      " 25%|██▌       | 5/20 [00:42<02:02,  8.17s/it]\u001b[A\n",
      " 30%|███       | 6/20 [00:48<01:47,  7.68s/it]\u001b[A\n",
      " 35%|███▌      | 7/20 [00:55<01:36,  7.41s/it]\u001b[A\n",
      " 40%|████      | 8/20 [01:01<01:23,  6.95s/it]\u001b[A\n",
      " 45%|████▌     | 9/20 [01:07<01:13,  6.71s/it]\u001b[A\n",
      " 50%|█████     | 10/20 [01:13<01:02,  6.23s/it]\u001b[A\n",
      " 55%|█████▌    | 11/20 [01:17<00:51,  5.77s/it]\u001b[A\n",
      " 60%|██████    | 12/20 [01:22<00:44,  5.57s/it]\u001b[A\n",
      " 65%|██████▌   | 13/20 [01:26<00:35,  5.05s/it]\u001b[A\n",
      " 70%|███████   | 14/20 [01:30<00:27,  4.57s/it]\u001b[A\n",
      " 75%|███████▌  | 15/20 [01:33<00:20,  4.12s/it]\u001b[A\n",
      " 80%|████████  | 16/20 [01:36<00:14,  3.68s/it]\u001b[A\n",
      " 85%|████████▌ | 17/20 [01:38<00:09,  3.25s/it]\u001b[A\n",
      " 90%|█████████ | 18/20 [01:40<00:05,  2.82s/it]\u001b[A\n",
      " 95%|█████████▌| 19/20 [01:41<00:02,  2.40s/it]\u001b[A\n",
      "100%|██████████| 20/20 [01:42<00:00,  5.13s/it]\u001b[A\n"
     ]
    },
    {
     "name": "stdout",
     "output_type": "stream",
     "text": [
      "generator loss:0.9052553263548144\n",
      "-----------------------\n"
     ]
    },
    {
     "name": "stderr",
     "output_type": "stream",
     "text": [
      "132it [4:04:27, 110.31s/it]\n",
      "  0%|          | 0/20 [00:00<?, ?it/s]\u001b[A"
     ]
    },
    {
     "name": "stdout",
     "output_type": "stream",
     "text": [
      "total discriminator loss:0.6931875900745879\n",
      "-----------------------\n",
      "Training Step: 133\n"
     ]
    },
    {
     "name": "stderr",
     "output_type": "stream",
     "text": [
      "\n",
      "  5%|▌         | 1/20 [00:09<02:57,  9.34s/it]\u001b[A\n",
      " 10%|█         | 2/20 [00:18<02:42,  9.01s/it]\u001b[A\n",
      " 15%|█▌        | 3/20 [00:26<02:29,  8.79s/it]\u001b[A\n",
      " 20%|██        | 4/20 [00:34<02:15,  8.49s/it]\u001b[A\n",
      " 25%|██▌       | 5/20 [00:42<02:02,  8.18s/it]\u001b[A\n",
      " 30%|███       | 6/20 [00:49<01:47,  7.69s/it]\u001b[A\n",
      " 35%|███▌      | 7/20 [00:55<01:36,  7.43s/it]\u001b[A\n",
      " 40%|████      | 8/20 [01:01<01:23,  6.99s/it]\u001b[A\n",
      " 45%|████▌     | 9/20 [01:08<01:14,  6.75s/it]\u001b[A\n",
      " 50%|█████     | 10/20 [01:13<01:02,  6.27s/it]\u001b[A\n",
      " 55%|█████▌    | 11/20 [01:18<00:52,  5.80s/it]\u001b[A\n",
      " 60%|██████    | 12/20 [01:23<00:44,  5.60s/it]\u001b[A\n",
      " 65%|██████▌   | 13/20 [01:27<00:35,  5.09s/it]\u001b[A\n",
      " 70%|███████   | 14/20 [01:30<00:27,  4.61s/it]\u001b[A\n",
      " 75%|███████▌  | 15/20 [01:33<00:20,  4.13s/it]\u001b[A\n",
      " 80%|████████  | 16/20 [01:36<00:14,  3.68s/it]\u001b[A\n",
      " 85%|████████▌ | 17/20 [01:38<00:09,  3.23s/it]\u001b[A\n",
      " 90%|█████████ | 18/20 [01:40<00:05,  2.80s/it]\u001b[A\n",
      " 95%|█████████▌| 19/20 [01:41<00:02,  2.37s/it]\u001b[A\n",
      "100%|██████████| 20/20 [01:42<00:00,  5.13s/it]\u001b[A\n"
     ]
    },
    {
     "name": "stdout",
     "output_type": "stream",
     "text": [
      "generator loss:0.8893315152064073\n",
      "-----------------------\n"
     ]
    },
    {
     "name": "stderr",
     "output_type": "stream",
     "text": [
      "133it [4:06:18, 110.45s/it]\n",
      "  0%|          | 0/20 [00:00<?, ?it/s]\u001b[A"
     ]
    },
    {
     "name": "stdout",
     "output_type": "stream",
     "text": [
      "total discriminator loss:0.6931887641015755\n",
      "-----------------------\n",
      "Training Step: 134\n"
     ]
    },
    {
     "name": "stderr",
     "output_type": "stream",
     "text": [
      "\n",
      "  5%|▌         | 1/20 [00:09<02:55,  9.23s/it]\u001b[A\n",
      " 10%|█         | 2/20 [00:17<02:40,  8.93s/it]\u001b[A\n",
      " 15%|█▌        | 3/20 [00:26<02:28,  8.71s/it]\u001b[A\n",
      " 20%|██        | 4/20 [00:34<02:14,  8.39s/it]\u001b[A\n",
      " 25%|██▌       | 5/20 [00:41<02:01,  8.08s/it]\u001b[A\n",
      " 30%|███       | 6/20 [00:48<01:46,  7.61s/it]\u001b[A\n",
      " 35%|███▌      | 7/20 [00:55<01:35,  7.36s/it]\u001b[A\n",
      " 40%|████      | 8/20 [01:01<01:22,  6.91s/it]\u001b[A\n",
      " 45%|████▌     | 9/20 [01:07<01:13,  6.69s/it]\u001b[A\n",
      " 50%|█████     | 10/20 [01:12<01:02,  6.23s/it]\u001b[A\n",
      " 55%|█████▌    | 11/20 [01:17<00:51,  5.77s/it]\u001b[A\n",
      " 60%|██████    | 12/20 [01:22<00:44,  5.56s/it]\u001b[A\n",
      " 65%|██████▌   | 13/20 [01:26<00:35,  5.03s/it]\u001b[A\n",
      " 70%|███████   | 14/20 [01:29<00:27,  4.55s/it]\u001b[A\n",
      " 75%|███████▌  | 15/20 [01:32<00:20,  4.09s/it]\u001b[A\n",
      " 80%|████████  | 16/20 [01:35<00:14,  3.64s/it]\u001b[A\n",
      " 85%|████████▌ | 17/20 [01:37<00:09,  3.21s/it]\u001b[A\n",
      " 90%|█████████ | 18/20 [01:39<00:05,  2.78s/it]\u001b[A\n",
      " 95%|█████████▌| 19/20 [01:40<00:02,  2.36s/it]\u001b[A\n",
      "100%|██████████| 20/20 [01:41<00:00,  5.09s/it]\u001b[A\n"
     ]
    },
    {
     "name": "stdout",
     "output_type": "stream",
     "text": [
      "generator loss:0.9061200894317201\n",
      "-----------------------\n"
     ]
    },
    {
     "name": "stderr",
     "output_type": "stream",
     "text": [
      "134it [4:08:07, 110.27s/it]\n",
      "  0%|          | 0/20 [00:00<?, ?it/s]\u001b[A"
     ]
    },
    {
     "name": "stdout",
     "output_type": "stream",
     "text": [
      "total discriminator loss:0.6931846586491214\n",
      "-----------------------\n",
      "Training Step: 135\n"
     ]
    },
    {
     "name": "stderr",
     "output_type": "stream",
     "text": [
      "\n",
      "  5%|▌         | 1/20 [00:09<02:54,  9.18s/it]\u001b[A\n",
      " 10%|█         | 2/20 [00:17<02:39,  8.87s/it]\u001b[A\n",
      " 15%|█▌        | 3/20 [00:26<02:27,  8.65s/it]\u001b[A\n",
      " 20%|██        | 4/20 [00:34<02:14,  8.38s/it]\u001b[A\n",
      " 25%|██▌       | 5/20 [00:41<02:01,  8.09s/it]\u001b[A\n",
      " 30%|███       | 6/20 [00:48<01:46,  7.61s/it]\u001b[A\n",
      " 35%|███▌      | 7/20 [00:55<01:35,  7.36s/it]\u001b[A\n",
      " 40%|████      | 8/20 [01:01<01:22,  6.89s/it]\u001b[A\n",
      " 45%|████▌     | 9/20 [01:07<01:12,  6.63s/it]\u001b[A\n",
      " 50%|█████     | 10/20 [01:12<01:01,  6.17s/it]\u001b[A\n",
      " 55%|█████▌    | 11/20 [01:17<00:51,  5.72s/it]\u001b[A\n",
      " 60%|██████    | 12/20 [01:22<00:44,  5.54s/it]\u001b[A\n",
      " 65%|██████▌   | 13/20 [01:26<00:35,  5.02s/it]\u001b[A\n",
      " 70%|███████   | 14/20 [01:29<00:27,  4.53s/it]\u001b[A\n",
      " 75%|███████▌  | 15/20 [01:32<00:20,  4.08s/it]\u001b[A\n",
      " 80%|████████  | 16/20 [01:35<00:14,  3.65s/it]\u001b[A\n",
      " 85%|████████▌ | 17/20 [01:37<00:09,  3.23s/it]\u001b[A\n",
      " 90%|█████████ | 18/20 [01:39<00:05,  2.80s/it]\u001b[A\n",
      " 95%|█████████▌| 19/20 [01:40<00:02,  2.39s/it]\u001b[A\n",
      "100%|██████████| 20/20 [01:41<00:00,  5.08s/it]\u001b[A\n"
     ]
    },
    {
     "name": "stdout",
     "output_type": "stream",
     "text": [
      "generator loss:0.8908464259803207\n",
      "-----------------------\n"
     ]
    },
    {
     "name": "stderr",
     "output_type": "stream",
     "text": [
      "135it [4:09:57, 110.14s/it]\n",
      "  0%|          | 0/20 [00:00<?, ?it/s]\u001b[A"
     ]
    },
    {
     "name": "stdout",
     "output_type": "stream",
     "text": [
      "total discriminator loss:0.6931901806565671\n",
      "-----------------------\n",
      "Training Step: 136\n"
     ]
    },
    {
     "name": "stderr",
     "output_type": "stream",
     "text": [
      "\n",
      "  5%|▌         | 1/20 [00:09<02:57,  9.32s/it]\u001b[A\n",
      " 10%|█         | 2/20 [00:18<02:41,  8.97s/it]\u001b[A\n",
      " 15%|█▌        | 3/20 [00:26<02:28,  8.71s/it]\u001b[A\n",
      " 20%|██        | 4/20 [00:34<02:14,  8.39s/it]\u001b[A\n",
      " 25%|██▌       | 5/20 [00:41<02:01,  8.10s/it]\u001b[A\n",
      " 30%|███       | 6/20 [00:48<01:46,  7.62s/it]\u001b[A\n",
      " 35%|███▌      | 7/20 [00:55<01:36,  7.40s/it]\u001b[A\n",
      " 40%|████      | 8/20 [01:01<01:23,  6.94s/it]\u001b[A\n",
      " 45%|████▌     | 9/20 [01:07<01:13,  6.71s/it]\u001b[A\n",
      " 50%|█████     | 10/20 [01:12<01:02,  6.23s/it]\u001b[A\n",
      " 55%|█████▌    | 11/20 [01:17<00:51,  5.77s/it]\u001b[A\n",
      " 60%|██████    | 12/20 [01:22<00:44,  5.57s/it]\u001b[A\n",
      " 65%|██████▌   | 13/20 [01:26<00:35,  5.06s/it]\u001b[A\n",
      " 70%|███████   | 14/20 [01:30<00:27,  4.56s/it]\u001b[A\n",
      " 75%|███████▌  | 15/20 [01:33<00:20,  4.10s/it]\u001b[A\n",
      " 80%|████████  | 16/20 [01:35<00:14,  3.66s/it]\u001b[A\n",
      " 85%|████████▌ | 17/20 [01:37<00:09,  3.23s/it]\u001b[A\n",
      " 90%|█████████ | 18/20 [01:39<00:05,  2.80s/it]\u001b[A\n",
      " 95%|█████████▌| 19/20 [01:41<00:02,  2.38s/it]\u001b[A\n",
      "100%|██████████| 20/20 [01:42<00:00,  5.10s/it]\u001b[A\n"
     ]
    },
    {
     "name": "stdout",
     "output_type": "stream",
     "text": [
      "generator loss:0.9063516253575591\n",
      "-----------------------\n"
     ]
    },
    {
     "name": "stderr",
     "output_type": "stream",
     "text": [
      "136it [4:11:48, 110.17s/it]\n",
      "  0%|          | 0/20 [00:00<?, ?it/s]\u001b[A"
     ]
    },
    {
     "name": "stdout",
     "output_type": "stream",
     "text": [
      "total discriminator loss:0.6931926781750528\n",
      "-----------------------\n",
      "Training Step: 137\n"
     ]
    },
    {
     "name": "stderr",
     "output_type": "stream",
     "text": [
      "\n",
      "  5%|▌         | 1/20 [00:09<02:57,  9.35s/it]\u001b[A\n",
      " 10%|█         | 2/20 [00:18<02:42,  9.04s/it]\u001b[A\n",
      " 15%|█▌        | 3/20 [00:26<02:29,  8.79s/it]\u001b[A\n",
      " 20%|██        | 4/20 [00:34<02:16,  8.51s/it]\u001b[A\n",
      " 25%|██▌       | 5/20 [00:42<02:02,  8.19s/it]\u001b[A\n",
      " 30%|███       | 6/20 [00:49<01:47,  7.70s/it]\u001b[A\n",
      " 35%|███▌      | 7/20 [00:56<01:36,  7.46s/it]\u001b[A\n",
      " 40%|████      | 8/20 [01:02<01:24,  7.01s/it]\u001b[A\n",
      " 45%|████▌     | 9/20 [01:08<01:14,  6.76s/it]\u001b[A\n",
      " 50%|█████     | 10/20 [01:13<01:02,  6.28s/it]\u001b[A\n",
      " 55%|█████▌    | 11/20 [01:18<00:52,  5.80s/it]\u001b[A\n",
      " 60%|██████    | 12/20 [01:23<00:44,  5.59s/it]\u001b[A\n",
      " 65%|██████▌   | 13/20 [01:27<00:35,  5.07s/it]\u001b[A\n",
      " 70%|███████   | 14/20 [01:30<00:27,  4.59s/it]\u001b[A\n",
      " 75%|███████▌  | 15/20 [01:33<00:20,  4.13s/it]\u001b[A\n",
      " 80%|████████  | 16/20 [01:36<00:14,  3.69s/it]\u001b[A\n",
      " 85%|████████▌ | 17/20 [01:38<00:09,  3.26s/it]\u001b[A\n",
      " 90%|█████████ | 18/20 [01:40<00:05,  2.82s/it]\u001b[A\n",
      " 95%|█████████▌| 19/20 [01:41<00:02,  2.40s/it]\u001b[A\n",
      "100%|██████████| 20/20 [01:42<00:00,  5.15s/it]\u001b[A\n"
     ]
    },
    {
     "name": "stdout",
     "output_type": "stream",
     "text": [
      "generator loss:0.8917758439352422\n",
      "-----------------------\n"
     ]
    },
    {
     "name": "stderr",
     "output_type": "stream",
     "text": [
      "137it [4:13:39, 110.44s/it]\n",
      "  0%|          | 0/20 [00:00<?, ?it/s]\u001b[A"
     ]
    },
    {
     "name": "stdout",
     "output_type": "stream",
     "text": [
      "total discriminator loss:0.6931845506025184\n",
      "-----------------------\n",
      "Training Step: 138\n"
     ]
    },
    {
     "name": "stderr",
     "output_type": "stream",
     "text": [
      "\n",
      "  5%|▌         | 1/20 [00:09<02:57,  9.32s/it]\u001b[A\n",
      " 10%|█         | 2/20 [00:18<02:41,  8.99s/it]\u001b[A\n",
      " 15%|█▌        | 3/20 [00:26<02:28,  8.76s/it]\u001b[A\n",
      " 20%|██        | 4/20 [00:34<02:15,  8.45s/it]\u001b[A\n",
      " 25%|██▌       | 5/20 [00:42<02:02,  8.16s/it]\u001b[A\n",
      " 30%|███       | 6/20 [00:48<01:47,  7.67s/it]\u001b[A\n",
      " 35%|███▌      | 7/20 [00:55<01:36,  7.41s/it]\u001b[A\n",
      " 40%|████      | 8/20 [01:01<01:23,  6.93s/it]\u001b[A\n",
      " 45%|████▌     | 9/20 [01:07<01:13,  6.70s/it]\u001b[A\n",
      " 50%|█████     | 10/20 [01:13<01:02,  6.22s/it]\u001b[A\n",
      " 55%|█████▌    | 11/20 [01:17<00:51,  5.78s/it]\u001b[A\n",
      " 60%|██████    | 12/20 [01:22<00:44,  5.60s/it]\u001b[A\n",
      " 65%|██████▌   | 13/20 [01:26<00:35,  5.08s/it]\u001b[A\n",
      " 70%|███████   | 14/20 [01:30<00:27,  4.58s/it]\u001b[A\n",
      " 75%|███████▌  | 15/20 [01:33<00:20,  4.11s/it]\u001b[A\n",
      " 80%|████████  | 16/20 [01:35<00:14,  3.65s/it]\u001b[A\n",
      " 85%|████████▌ | 17/20 [01:38<00:09,  3.22s/it]\u001b[A\n",
      " 90%|█████████ | 18/20 [01:39<00:05,  2.79s/it]\u001b[A\n",
      " 95%|█████████▌| 19/20 [01:41<00:02,  2.38s/it]\u001b[A\n",
      "100%|██████████| 20/20 [01:42<00:00,  5.12s/it]\u001b[A\n"
     ]
    },
    {
     "name": "stdout",
     "output_type": "stream",
     "text": [
      "generator loss:0.9059622138476552\n",
      "-----------------------\n"
     ]
    },
    {
     "name": "stderr",
     "output_type": "stream",
     "text": [
      "138it [4:15:29, 110.46s/it]\n",
      "  0%|          | 0/20 [00:00<?, ?it/s]\u001b[A"
     ]
    },
    {
     "name": "stdout",
     "output_type": "stream",
     "text": [
      "total discriminator loss:0.6931886072626784\n",
      "-----------------------\n",
      "Training Step: 139\n"
     ]
    },
    {
     "name": "stderr",
     "output_type": "stream",
     "text": [
      "\n",
      "  5%|▌         | 1/20 [00:09<02:56,  9.28s/it]\u001b[A\n",
      " 10%|█         | 2/20 [00:18<02:42,  9.00s/it]\u001b[A\n",
      " 15%|█▌        | 3/20 [00:26<02:28,  8.76s/it]\u001b[A\n",
      " 20%|██        | 4/20 [00:34<02:15,  8.46s/it]\u001b[A\n",
      " 25%|██▌       | 5/20 [00:42<02:02,  8.14s/it]\u001b[A\n",
      " 30%|███       | 6/20 [00:48<01:46,  7.64s/it]\u001b[A\n",
      " 35%|███▌      | 7/20 [00:55<01:36,  7.39s/it]\u001b[A\n",
      " 40%|████      | 8/20 [01:01<01:23,  6.94s/it]\u001b[A\n",
      " 45%|████▌     | 9/20 [01:07<01:13,  6.68s/it]\u001b[A\n",
      " 50%|█████     | 10/20 [01:12<01:01,  6.18s/it]\u001b[A\n",
      " 55%|█████▌    | 11/20 [01:17<00:51,  5.72s/it]\u001b[A\n",
      " 60%|██████    | 12/20 [01:22<00:44,  5.52s/it]\u001b[A\n",
      " 65%|██████▌   | 13/20 [01:26<00:34,  5.00s/it]\u001b[A\n",
      " 70%|███████   | 14/20 [01:29<00:27,  4.51s/it]\u001b[A\n",
      " 75%|███████▌  | 15/20 [01:32<00:20,  4.06s/it]\u001b[A\n",
      " 80%|████████  | 16/20 [01:35<00:14,  3.61s/it]\u001b[A\n",
      " 85%|████████▌ | 17/20 [01:37<00:09,  3.18s/it]\u001b[A\n",
      " 90%|█████████ | 18/20 [01:39<00:05,  2.75s/it]\u001b[A\n",
      " 95%|█████████▌| 19/20 [01:40<00:02,  2.34s/it]\u001b[A\n",
      "100%|██████████| 20/20 [01:41<00:00,  5.08s/it]\u001b[A\n"
     ]
    },
    {
     "name": "stdout",
     "output_type": "stream",
     "text": [
      "generator loss:0.8917811062525669\n",
      "-----------------------\n"
     ]
    },
    {
     "name": "stderr",
     "output_type": "stream",
     "text": [
      "139it [4:17:19, 110.25s/it]\n",
      "  0%|          | 0/20 [00:00<?, ?it/s]\u001b[A"
     ]
    },
    {
     "name": "stdout",
     "output_type": "stream",
     "text": [
      "total discriminator loss:0.6931890853503212\n",
      "-----------------------\n",
      "Training Step: 140\n"
     ]
    },
    {
     "name": "stderr",
     "output_type": "stream",
     "text": [
      "\n",
      "  5%|▌         | 1/20 [00:09<02:56,  9.29s/it]\u001b[A\n",
      " 10%|█         | 2/20 [00:18<02:41,  8.96s/it]\u001b[A\n",
      " 15%|█▌        | 3/20 [00:26<02:28,  8.71s/it]\u001b[A\n",
      " 20%|██        | 4/20 [00:34<02:14,  8.42s/it]\u001b[A\n",
      " 25%|██▌       | 5/20 [00:41<02:01,  8.09s/it]\u001b[A\n",
      " 30%|███       | 6/20 [00:48<01:46,  7.58s/it]\u001b[A\n",
      " 35%|███▌      | 7/20 [00:55<01:35,  7.32s/it]\u001b[A\n",
      " 40%|████      | 8/20 [01:01<01:22,  6.86s/it]\u001b[A\n",
      " 45%|████▌     | 9/20 [01:07<01:12,  6.62s/it]\u001b[A\n",
      " 50%|█████     | 10/20 [01:12<01:01,  6.15s/it]\u001b[A\n",
      " 55%|█████▌    | 11/20 [01:17<00:51,  5.71s/it]\u001b[A\n",
      " 60%|██████    | 12/20 [01:22<00:44,  5.51s/it]\u001b[A\n",
      " 65%|██████▌   | 13/20 [01:25<00:35,  5.00s/it]\u001b[A\n",
      " 70%|███████   | 14/20 [01:29<00:27,  4.52s/it]\u001b[A\n",
      " 75%|███████▌  | 15/20 [01:32<00:20,  4.06s/it]\u001b[A\n",
      " 80%|████████  | 16/20 [01:34<00:14,  3.62s/it]\u001b[A\n",
      " 85%|████████▌ | 17/20 [01:37<00:09,  3.19s/it]\u001b[A\n",
      " 90%|█████████ | 18/20 [01:38<00:05,  2.77s/it]\u001b[A\n",
      " 95%|█████████▌| 19/20 [01:40<00:02,  2.35s/it]\u001b[A\n",
      "100%|██████████| 20/20 [01:41<00:00,  5.07s/it]\u001b[A\n"
     ]
    },
    {
     "name": "stdout",
     "output_type": "stream",
     "text": [
      "generator loss:0.9062737876172033\n",
      "-----------------------\n"
     ]
    },
    {
     "name": "stderr",
     "output_type": "stream",
     "text": [
      "140it [4:19:08, 110.00s/it]\n",
      "  0%|          | 0/20 [00:00<?, ?it/s]\u001b[A"
     ]
    },
    {
     "name": "stdout",
     "output_type": "stream",
     "text": [
      "total discriminator loss:0.6931875480477983\n",
      "-----------------------\n",
      "Training Step: 141\n"
     ]
    },
    {
     "name": "stderr",
     "output_type": "stream",
     "text": [
      "\n",
      "  5%|▌         | 1/20 [00:09<02:55,  9.23s/it]\u001b[A\n",
      " 10%|█         | 2/20 [00:17<02:40,  8.90s/it]\u001b[A\n",
      " 15%|█▌        | 3/20 [00:26<02:27,  8.68s/it]\u001b[A\n",
      " 20%|██        | 4/20 [00:34<02:13,  8.36s/it]\u001b[A\n",
      " 25%|██▌       | 5/20 [00:41<02:00,  8.06s/it]\u001b[A\n",
      " 30%|███       | 6/20 [00:48<01:45,  7.57s/it]\u001b[A\n",
      " 35%|███▌      | 7/20 [00:55<01:34,  7.30s/it]\u001b[A\n",
      " 40%|████      | 8/20 [01:00<01:22,  6.86s/it]\u001b[A\n",
      " 45%|████▌     | 9/20 [01:07<01:12,  6.63s/it]\u001b[A\n",
      " 50%|█████     | 10/20 [01:12<01:01,  6.16s/it]\u001b[A\n",
      " 55%|█████▌    | 11/20 [01:16<00:51,  5.72s/it]\u001b[A\n",
      " 60%|██████    | 12/20 [01:22<00:44,  5.52s/it]\u001b[A\n",
      " 65%|██████▌   | 13/20 [01:25<00:35,  5.01s/it]\u001b[A\n",
      " 70%|███████   | 14/20 [01:29<00:27,  4.52s/it]\u001b[A\n",
      " 75%|███████▌  | 15/20 [01:32<00:20,  4.07s/it]\u001b[A\n",
      " 80%|████████  | 16/20 [01:34<00:14,  3.62s/it]\u001b[A\n",
      " 85%|████████▌ | 17/20 [01:37<00:09,  3.19s/it]\u001b[A\n",
      " 90%|█████████ | 18/20 [01:38<00:05,  2.77s/it]\u001b[A\n",
      " 95%|█████████▌| 19/20 [01:40<00:02,  2.36s/it]\u001b[A\n",
      "100%|██████████| 20/20 [01:41<00:00,  5.06s/it]\u001b[A\n"
     ]
    },
    {
     "name": "stdout",
     "output_type": "stream",
     "text": [
      "generator loss:0.8926214793805467\n",
      "-----------------------\n"
     ]
    },
    {
     "name": "stderr",
     "output_type": "stream",
     "text": [
      "141it [4:20:58, 109.81s/it]\n",
      "  0%|          | 0/20 [00:00<?, ?it/s]\u001b[A"
     ]
    },
    {
     "name": "stdout",
     "output_type": "stream",
     "text": [
      "total discriminator loss:0.6931914141872835\n",
      "-----------------------\n",
      "Training Step: 142\n"
     ]
    },
    {
     "name": "stderr",
     "output_type": "stream",
     "text": [
      "\n",
      "  5%|▌         | 1/20 [00:09<02:56,  9.29s/it]\u001b[A\n",
      " 10%|█         | 2/20 [00:18<02:41,  8.95s/it]\u001b[A\n",
      " 15%|█▌        | 3/20 [00:26<02:28,  8.74s/it]\u001b[A\n",
      " 20%|██        | 4/20 [00:34<02:14,  8.41s/it]\u001b[A\n",
      " 25%|██▌       | 5/20 [00:41<02:01,  8.11s/it]\u001b[A\n",
      " 30%|███       | 6/20 [00:48<01:46,  7.61s/it]\u001b[A\n",
      " 35%|███▌      | 7/20 [00:55<01:35,  7.34s/it]\u001b[A\n",
      " 40%|████      | 8/20 [01:01<01:22,  6.89s/it]\u001b[A\n",
      " 45%|████▌     | 9/20 [01:07<01:13,  6.64s/it]\u001b[A\n",
      " 50%|█████     | 10/20 [01:12<01:01,  6.16s/it]\u001b[A\n",
      " 55%|█████▌    | 11/20 [01:17<00:51,  5.71s/it]\u001b[A\n",
      " 60%|██████    | 12/20 [01:22<00:44,  5.52s/it]\u001b[A\n",
      " 65%|██████▌   | 13/20 [01:26<00:35,  5.00s/it]\u001b[A\n",
      " 70%|███████   | 14/20 [01:29<00:27,  4.52s/it]\u001b[A\n",
      " 75%|███████▌  | 15/20 [01:32<00:20,  4.06s/it]\u001b[A\n",
      " 80%|████████  | 16/20 [01:35<00:14,  3.62s/it]\u001b[A\n",
      " 85%|████████▌ | 17/20 [01:37<00:09,  3.20s/it]\u001b[A\n",
      " 90%|█████████ | 18/20 [01:39<00:05,  2.78s/it]\u001b[A\n",
      " 95%|█████████▌| 19/20 [01:40<00:02,  2.37s/it]\u001b[A\n",
      "100%|██████████| 20/20 [01:41<00:00,  5.08s/it]\u001b[A\n"
     ]
    },
    {
     "name": "stdout",
     "output_type": "stream",
     "text": [
      "generator loss:0.9057766313316359\n",
      "-----------------------\n"
     ]
    },
    {
     "name": "stderr",
     "output_type": "stream",
     "text": [
      "142it [4:22:47, 109.77s/it]\n",
      "  0%|          | 0/20 [00:00<?, ?it/s]\u001b[A"
     ]
    },
    {
     "name": "stdout",
     "output_type": "stream",
     "text": [
      "total discriminator loss:0.6931940394445252\n",
      "-----------------------\n",
      "Training Step: 143\n"
     ]
    },
    {
     "name": "stderr",
     "output_type": "stream",
     "text": [
      "\n",
      "  5%|▌         | 1/20 [00:09<02:58,  9.38s/it]\u001b[A\n",
      " 10%|█         | 2/20 [00:18<02:43,  9.06s/it]\u001b[A\n",
      " 15%|█▌        | 3/20 [00:26<02:29,  8.77s/it]\u001b[A\n",
      " 20%|██        | 4/20 [00:34<02:14,  8.43s/it]\u001b[A\n",
      " 25%|██▌       | 5/20 [00:42<02:01,  8.11s/it]\u001b[A\n",
      " 30%|███       | 6/20 [00:48<01:46,  7.61s/it]\u001b[A\n",
      " 35%|███▌      | 7/20 [00:55<01:35,  7.34s/it]\u001b[A\n",
      " 40%|████      | 8/20 [01:01<01:22,  6.89s/it]\u001b[A\n",
      " 45%|████▌     | 9/20 [01:07<01:13,  6.66s/it]\u001b[A\n",
      " 50%|█████     | 10/20 [01:12<01:01,  6.19s/it]\u001b[A\n",
      " 55%|█████▌    | 11/20 [01:17<00:51,  5.73s/it]\u001b[A\n",
      " 60%|██████    | 12/20 [01:22<00:44,  5.54s/it]\u001b[A\n",
      " 65%|██████▌   | 13/20 [01:26<00:35,  5.01s/it]\u001b[A\n",
      " 70%|███████   | 14/20 [01:29<00:27,  4.52s/it]\u001b[A\n",
      " 75%|███████▌  | 15/20 [01:32<00:20,  4.06s/it]\u001b[A\n",
      " 80%|████████  | 16/20 [01:35<00:14,  3.61s/it]\u001b[A\n",
      " 85%|████████▌ | 17/20 [01:37<00:09,  3.19s/it]\u001b[A\n",
      " 90%|█████████ | 18/20 [01:39<00:05,  2.78s/it]\u001b[A\n",
      " 95%|█████████▌| 19/20 [01:40<00:02,  2.37s/it]\u001b[A\n",
      "100%|██████████| 20/20 [01:41<00:00,  5.09s/it]\u001b[A\n"
     ]
    },
    {
     "name": "stdout",
     "output_type": "stream",
     "text": [
      "generator loss:0.8911329458864884\n",
      "-----------------------\n"
     ]
    },
    {
     "name": "stderr",
     "output_type": "stream",
     "text": [
      "143it [4:24:37, 109.82s/it]\n",
      "  0%|          | 0/20 [00:00<?, ?it/s]\u001b[A"
     ]
    },
    {
     "name": "stdout",
     "output_type": "stream",
     "text": [
      "total discriminator loss:0.6931911796439088\n",
      "-----------------------\n",
      "Training Step: 144\n"
     ]
    },
    {
     "name": "stderr",
     "output_type": "stream",
     "text": [
      "\n",
      "  5%|▌         | 1/20 [00:09<02:59,  9.43s/it]\u001b[A\n",
      " 10%|█         | 2/20 [00:18<02:43,  9.10s/it]\u001b[A\n",
      " 15%|█▌        | 3/20 [00:26<02:30,  8.83s/it]\u001b[A\n",
      " 20%|██        | 4/20 [00:34<02:15,  8.48s/it]\u001b[A\n",
      " 25%|██▌       | 5/20 [00:42<02:02,  8.18s/it]\u001b[A\n",
      " 30%|███       | 6/20 [00:49<01:47,  7.68s/it]\u001b[A\n",
      " 35%|███▌      | 7/20 [00:56<01:36,  7.43s/it]\u001b[A\n",
      " 40%|████      | 8/20 [01:02<01:23,  6.98s/it]\u001b[A\n",
      " 45%|████▌     | 9/20 [01:08<01:14,  6.75s/it]\u001b[A\n",
      " 50%|█████     | 10/20 [01:13<01:02,  6.28s/it]\u001b[A\n",
      " 55%|█████▌    | 11/20 [01:18<00:52,  5.81s/it]\u001b[A\n",
      " 60%|██████    | 12/20 [01:23<00:44,  5.61s/it]\u001b[A\n",
      " 65%|██████▌   | 13/20 [01:27<00:35,  5.07s/it]\u001b[A\n",
      " 70%|███████   | 14/20 [01:30<00:27,  4.58s/it]\u001b[A\n",
      " 75%|███████▌  | 15/20 [01:33<00:20,  4.13s/it]\u001b[A\n",
      " 80%|████████  | 16/20 [01:36<00:14,  3.69s/it]\u001b[A\n",
      " 85%|████████▌ | 17/20 [01:38<00:09,  3.25s/it]\u001b[A\n",
      " 90%|█████████ | 18/20 [01:40<00:05,  2.81s/it]\u001b[A\n",
      " 95%|█████████▌| 19/20 [01:41<00:02,  2.41s/it]\u001b[A\n",
      "100%|██████████| 20/20 [01:42<00:00,  5.15s/it]\u001b[A\n"
     ]
    },
    {
     "name": "stdout",
     "output_type": "stream",
     "text": [
      "generator loss:0.9055981346655674\n",
      "-----------------------\n"
     ]
    },
    {
     "name": "stderr",
     "output_type": "stream",
     "text": [
      "144it [4:26:29, 110.26s/it]\n",
      "  0%|          | 0/20 [00:00<?, ?it/s]\u001b[A"
     ]
    },
    {
     "name": "stdout",
     "output_type": "stream",
     "text": [
      "total discriminator loss:0.6931924424925396\n",
      "-----------------------\n",
      "Training Step: 145\n"
     ]
    },
    {
     "name": "stderr",
     "output_type": "stream",
     "text": [
      "\n",
      "  5%|▌         | 1/20 [00:09<02:59,  9.43s/it]\u001b[A\n",
      " 10%|█         | 2/20 [00:18<02:43,  9.07s/it]\u001b[A\n",
      " 15%|█▌        | 3/20 [00:26<02:29,  8.79s/it]\u001b[A\n",
      " 20%|██        | 4/20 [00:34<02:15,  8.46s/it]\u001b[A\n",
      " 25%|██▌       | 5/20 [00:42<02:02,  8.19s/it]\u001b[A\n",
      " 30%|███       | 6/20 [00:49<01:47,  7.66s/it]\u001b[A\n",
      " 35%|███▌      | 7/20 [00:55<01:35,  7.37s/it]\u001b[A\n",
      " 40%|████      | 8/20 [01:01<01:22,  6.90s/it]\u001b[A\n",
      " 45%|████▌     | 9/20 [01:07<01:13,  6.65s/it]\u001b[A\n",
      " 50%|█████     | 10/20 [01:12<01:01,  6.17s/it]\u001b[A\n",
      " 55%|█████▌    | 11/20 [01:17<00:51,  5.72s/it]\u001b[A\n",
      " 60%|██████    | 12/20 [01:22<00:44,  5.53s/it]\u001b[A\n",
      " 65%|██████▌   | 13/20 [01:26<00:34,  4.99s/it]\u001b[A\n",
      " 70%|███████   | 14/20 [01:29<00:27,  4.51s/it]\u001b[A\n",
      " 75%|███████▌  | 15/20 [01:32<00:20,  4.05s/it]\u001b[A\n",
      " 80%|████████  | 16/20 [01:35<00:14,  3.63s/it]\u001b[A\n",
      " 85%|████████▌ | 17/20 [01:37<00:09,  3.19s/it]\u001b[A\n",
      " 90%|█████████ | 18/20 [01:39<00:05,  2.77s/it]\u001b[A\n",
      " 95%|█████████▌| 19/20 [01:40<00:02,  2.36s/it]\u001b[A\n",
      "100%|██████████| 20/20 [01:41<00:00,  5.09s/it]\u001b[A\n"
     ]
    },
    {
     "name": "stdout",
     "output_type": "stream",
     "text": [
      "generator loss:0.8909315564003262\n",
      "-----------------------\n"
     ]
    },
    {
     "name": "stderr",
     "output_type": "stream",
     "text": [
      "145it [4:28:19, 110.18s/it]\n",
      "  0%|          | 0/20 [00:00<?, ?it/s]\u001b[A"
     ]
    },
    {
     "name": "stdout",
     "output_type": "stream",
     "text": [
      "total discriminator loss:0.6931901337341176\n",
      "-----------------------\n",
      "Training Step: 146\n"
     ]
    },
    {
     "name": "stderr",
     "output_type": "stream",
     "text": [
      "\n",
      "  5%|▌         | 1/20 [00:09<02:56,  9.31s/it]\u001b[A\n",
      " 10%|█         | 2/20 [00:18<02:41,  9.00s/it]\u001b[A\n",
      " 15%|█▌        | 3/20 [00:26<02:28,  8.76s/it]\u001b[A\n",
      " 20%|██        | 4/20 [00:34<02:14,  8.43s/it]\u001b[A\n",
      " 25%|██▌       | 5/20 [00:42<02:01,  8.12s/it]\u001b[A\n",
      " 30%|███       | 6/20 [00:48<01:47,  7.64s/it]\u001b[A\n",
      " 35%|███▌      | 7/20 [00:55<01:35,  7.36s/it]\u001b[A\n",
      " 40%|████      | 8/20 [01:01<01:22,  6.90s/it]\u001b[A\n",
      " 45%|████▌     | 9/20 [01:07<01:13,  6.66s/it]\u001b[A\n",
      " 50%|█████     | 10/20 [01:12<01:01,  6.19s/it]\u001b[A\n",
      " 55%|█████▌    | 11/20 [01:17<00:51,  5.75s/it]\u001b[A\n",
      " 60%|██████    | 12/20 [01:22<00:44,  5.57s/it]\u001b[A\n",
      " 65%|██████▌   | 13/20 [01:26<00:35,  5.03s/it]\u001b[A\n",
      " 70%|███████   | 14/20 [01:29<00:27,  4.55s/it]\u001b[A\n",
      " 75%|███████▌  | 15/20 [01:32<00:20,  4.09s/it]\u001b[A\n",
      " 80%|████████  | 16/20 [01:35<00:14,  3.63s/it]\u001b[A\n",
      " 85%|████████▌ | 17/20 [01:37<00:09,  3.20s/it]\u001b[A\n",
      " 90%|█████████ | 18/20 [01:39<00:05,  2.78s/it]\u001b[A\n",
      " 95%|█████████▌| 19/20 [01:40<00:02,  2.36s/it]\u001b[A\n",
      "100%|██████████| 20/20 [01:41<00:00,  5.09s/it]\u001b[A\n"
     ]
    },
    {
     "name": "stdout",
     "output_type": "stream",
     "text": [
      "generator loss:0.906190399849855\n",
      "-----------------------\n"
     ]
    },
    {
     "name": "stderr",
     "output_type": "stream",
     "text": [
      "146it [4:30:09, 110.12s/it]\n",
      "  0%|          | 0/20 [00:00<?, ?it/s]\u001b[A"
     ]
    },
    {
     "name": "stdout",
     "output_type": "stream",
     "text": [
      "total discriminator loss:0.6931897417019284\n",
      "-----------------------\n",
      "Training Step: 147\n"
     ]
    },
    {
     "name": "stderr",
     "output_type": "stream",
     "text": [
      "\n",
      "  5%|▌         | 1/20 [00:09<02:54,  9.18s/it]\u001b[A\n",
      " 10%|█         | 2/20 [00:17<02:40,  8.90s/it]\u001b[A\n",
      " 15%|█▌        | 3/20 [00:26<02:27,  8.68s/it]\u001b[A\n",
      " 20%|██        | 4/20 [00:34<02:13,  8.37s/it]\u001b[A\n",
      " 25%|██▌       | 5/20 [00:41<02:01,  8.09s/it]\u001b[A\n",
      " 30%|███       | 6/20 [00:48<01:46,  7.62s/it]\u001b[A\n",
      " 35%|███▌      | 7/20 [00:55<01:35,  7.38s/it]\u001b[A\n",
      " 40%|████      | 8/20 [01:01<01:23,  6.92s/it]\u001b[A\n",
      " 45%|████▌     | 9/20 [01:07<01:13,  6.68s/it]\u001b[A\n",
      " 50%|█████     | 10/20 [01:12<01:02,  6.20s/it]\u001b[A\n",
      " 55%|█████▌    | 11/20 [01:17<00:51,  5.74s/it]\u001b[A\n",
      " 60%|██████    | 12/20 [01:22<00:44,  5.53s/it]\u001b[A\n",
      " 65%|██████▌   | 13/20 [01:26<00:35,  5.02s/it]\u001b[A\n",
      " 70%|███████   | 14/20 [01:29<00:27,  4.53s/it]\u001b[A\n",
      " 75%|███████▌  | 15/20 [01:32<00:20,  4.07s/it]\u001b[A\n",
      " 80%|████████  | 16/20 [01:35<00:14,  3.63s/it]\u001b[A\n",
      " 85%|████████▌ | 17/20 [01:37<00:09,  3.21s/it]\u001b[A\n",
      " 90%|█████████ | 18/20 [01:39<00:05,  2.79s/it]\u001b[A\n",
      " 95%|█████████▌| 19/20 [01:40<00:02,  2.37s/it]\u001b[A\n",
      "100%|██████████| 20/20 [01:41<00:00,  5.08s/it]\u001b[A\n"
     ]
    },
    {
     "name": "stdout",
     "output_type": "stream",
     "text": [
      "generator loss:0.89077454055133\n",
      "-----------------------\n"
     ]
    },
    {
     "name": "stderr",
     "output_type": "stream",
     "text": [
      "147it [4:31:58, 110.02s/it]\n",
      "  0%|          | 0/20 [00:00<?, ?it/s]\u001b[A"
     ]
    },
    {
     "name": "stdout",
     "output_type": "stream",
     "text": [
      "total discriminator loss:0.693187669377197\n",
      "-----------------------\n",
      "Training Step: 148\n"
     ]
    },
    {
     "name": "stderr",
     "output_type": "stream",
     "text": [
      "\n",
      "  5%|▌         | 1/20 [00:09<02:56,  9.28s/it]\u001b[A\n",
      " 10%|█         | 2/20 [00:18<02:42,  9.01s/it]\u001b[A\n",
      " 15%|█▌        | 3/20 [00:26<02:28,  8.73s/it]\u001b[A\n",
      " 20%|██        | 4/20 [00:34<02:13,  8.37s/it]\u001b[A\n",
      " 25%|██▌       | 5/20 [00:41<02:01,  8.11s/it]\u001b[A\n",
      " 30%|███       | 6/20 [00:48<01:46,  7.62s/it]\u001b[A\n",
      " 35%|███▌      | 7/20 [00:55<01:35,  7.38s/it]\u001b[A\n",
      " 40%|████      | 8/20 [01:01<01:23,  6.94s/it]\u001b[A\n",
      " 45%|████▌     | 9/20 [01:07<01:13,  6.68s/it]\u001b[A\n",
      " 50%|█████     | 10/20 [01:12<01:01,  6.18s/it]\u001b[A\n",
      " 55%|█████▌    | 11/20 [01:17<00:51,  5.73s/it]\u001b[A\n",
      " 60%|██████    | 12/20 [01:22<00:44,  5.54s/it]\u001b[A\n",
      " 65%|██████▌   | 13/20 [01:26<00:35,  5.03s/it]\u001b[A\n",
      " 70%|███████   | 14/20 [01:29<00:27,  4.54s/it]\u001b[A\n",
      " 75%|███████▌  | 15/20 [01:32<00:20,  4.08s/it]\u001b[A\n",
      " 80%|████████  | 16/20 [01:35<00:14,  3.63s/it]\u001b[A\n",
      " 85%|████████▌ | 17/20 [01:37<00:09,  3.20s/it]\u001b[A\n",
      " 90%|█████████ | 18/20 [01:39<00:05,  2.77s/it]\u001b[A\n",
      " 95%|█████████▌| 19/20 [01:40<00:02,  2.35s/it]\u001b[A\n",
      "100%|██████████| 20/20 [01:41<00:00,  5.08s/it]\u001b[A\n"
     ]
    },
    {
     "name": "stdout",
     "output_type": "stream",
     "text": [
      "generator loss:0.9062406210245273\n",
      "-----------------------\n"
     ]
    },
    {
     "name": "stderr",
     "output_type": "stream",
     "text": [
      "148it [4:33:48, 109.95s/it]\n",
      "  0%|          | 0/20 [00:00<?, ?it/s]\u001b[A"
     ]
    },
    {
     "name": "stdout",
     "output_type": "stream",
     "text": [
      "total discriminator loss:0.6931878074806547\n",
      "-----------------------\n",
      "Training Step: 149\n"
     ]
    },
    {
     "name": "stderr",
     "output_type": "stream",
     "text": [
      "\n",
      "  5%|▌         | 1/20 [00:09<02:55,  9.23s/it]\u001b[A\n",
      " 10%|█         | 2/20 [00:17<02:40,  8.92s/it]\u001b[A\n",
      " 15%|█▌        | 3/20 [00:26<02:27,  8.69s/it]\u001b[A\n",
      " 20%|██        | 4/20 [00:34<02:13,  8.36s/it]\u001b[A\n",
      " 25%|██▌       | 5/20 [00:41<02:00,  8.02s/it]\u001b[A\n",
      " 30%|███       | 6/20 [00:48<01:45,  7.53s/it]\u001b[A\n",
      " 35%|███▌      | 7/20 [00:54<01:34,  7.27s/it]\u001b[A\n",
      " 40%|████      | 8/20 [01:00<01:21,  6.83s/it]\u001b[A\n",
      " 45%|████▌     | 9/20 [01:06<01:12,  6.60s/it]\u001b[A\n",
      " 50%|█████     | 10/20 [01:12<01:01,  6.14s/it]\u001b[A\n",
      " 55%|█████▌    | 11/20 [01:16<00:51,  5.70s/it]\u001b[A\n",
      " 60%|██████    | 12/20 [01:21<00:44,  5.51s/it]\u001b[A\n",
      " 65%|██████▌   | 13/20 [01:25<00:35,  5.01s/it]\u001b[A\n",
      " 70%|███████   | 14/20 [01:29<00:27,  4.54s/it]\u001b[A\n",
      " 75%|███████▌  | 15/20 [01:32<00:20,  4.08s/it]\u001b[A\n",
      " 80%|████████  | 16/20 [01:34<00:14,  3.64s/it]\u001b[A\n",
      " 85%|████████▌ | 17/20 [01:37<00:09,  3.22s/it]\u001b[A\n",
      " 90%|█████████ | 18/20 [01:38<00:05,  2.79s/it]\u001b[A\n",
      " 95%|█████████▌| 19/20 [01:40<00:02,  2.37s/it]\u001b[A\n",
      "100%|██████████| 20/20 [01:41<00:00,  5.06s/it]\u001b[A\n"
     ]
    },
    {
     "name": "stdout",
     "output_type": "stream",
     "text": [
      "generator loss:0.8903133010614062\n",
      "-----------------------\n"
     ]
    },
    {
     "name": "stderr",
     "output_type": "stream",
     "text": [
      "149it [4:35:37, 109.77s/it]\n",
      "  0%|          | 0/20 [00:00<?, ?it/s]\u001b[A"
     ]
    },
    {
     "name": "stdout",
     "output_type": "stream",
     "text": [
      "total discriminator loss:0.6931869592858417\n",
      "-----------------------\n",
      "Training Step: 150\n"
     ]
    },
    {
     "name": "stderr",
     "output_type": "stream",
     "text": [
      "\n",
      "  5%|▌         | 1/20 [00:09<02:55,  9.24s/it]\u001b[A\n",
      " 10%|█         | 2/20 [00:18<02:41,  8.97s/it]\u001b[A\n",
      " 15%|█▌        | 3/20 [00:26<02:28,  8.73s/it]\u001b[A\n",
      " 20%|██        | 4/20 [00:34<02:14,  8.41s/it]\u001b[A\n",
      " 25%|██▌       | 5/20 [00:41<02:01,  8.12s/it]\u001b[A\n",
      " 30%|███       | 6/20 [00:48<01:46,  7.63s/it]\u001b[A\n",
      " 35%|███▌      | 7/20 [00:55<01:35,  7.35s/it]\u001b[A\n",
      " 40%|████      | 8/20 [01:01<01:22,  6.90s/it]\u001b[A\n",
      " 45%|████▌     | 9/20 [01:07<01:13,  6.66s/it]\u001b[A\n",
      " 50%|█████     | 10/20 [01:12<01:01,  6.19s/it]\u001b[A\n",
      " 55%|█████▌    | 11/20 [01:17<00:51,  5.73s/it]\u001b[A\n",
      " 60%|██████    | 12/20 [01:22<00:44,  5.55s/it]\u001b[A\n",
      " 65%|██████▌   | 13/20 [01:26<00:35,  5.04s/it]\u001b[A\n",
      " 70%|███████   | 14/20 [01:29<00:27,  4.55s/it]\u001b[A\n",
      " 75%|███████▌  | 15/20 [01:32<00:20,  4.08s/it]\u001b[A\n",
      " 80%|████████  | 16/20 [01:35<00:14,  3.64s/it]\u001b[A\n",
      " 85%|████████▌ | 17/20 [01:37<00:09,  3.20s/it]\u001b[A\n",
      " 90%|█████████ | 18/20 [01:39<00:05,  2.78s/it]\u001b[A\n",
      " 95%|█████████▌| 19/20 [01:40<00:02,  2.36s/it]\u001b[A\n",
      "100%|██████████| 20/20 [01:41<00:00,  5.09s/it]\u001b[A\n"
     ]
    },
    {
     "name": "stdout",
     "output_type": "stream",
     "text": [
      "generator loss:0.9058282137355\n",
      "-----------------------\n"
     ]
    },
    {
     "name": "stderr",
     "output_type": "stream",
     "text": [
      "150it [4:37:27, 109.82s/it]\n",
      "  0%|          | 0/20 [00:00<?, ?it/s]\u001b[A"
     ]
    },
    {
     "name": "stdout",
     "output_type": "stream",
     "text": [
      "total discriminator loss:0.6931847355021764\n",
      "-----------------------\n",
      "Training Step: 151\n"
     ]
    },
    {
     "name": "stderr",
     "output_type": "stream",
     "text": [
      "\n",
      "  5%|▌         | 1/20 [00:09<02:55,  9.22s/it]\u001b[A\n",
      " 10%|█         | 2/20 [00:17<02:40,  8.92s/it]\u001b[A\n",
      " 15%|█▌        | 3/20 [00:26<02:28,  8.72s/it]\u001b[A\n",
      " 20%|██        | 4/20 [00:34<02:14,  8.40s/it]\u001b[A\n",
      " 25%|██▌       | 5/20 [00:41<02:01,  8.09s/it]\u001b[A\n",
      " 30%|███       | 6/20 [00:48<01:46,  7.60s/it]\u001b[A\n",
      " 35%|███▌      | 7/20 [00:55<01:35,  7.35s/it]\u001b[A\n",
      " 40%|████      | 8/20 [01:01<01:22,  6.88s/it]\u001b[A\n",
      " 45%|████▌     | 9/20 [01:07<01:13,  6.66s/it]\u001b[A\n",
      " 50%|█████     | 10/20 [01:12<01:01,  6.19s/it]\u001b[A\n",
      " 55%|█████▌    | 11/20 [01:17<00:51,  5.74s/it]\u001b[A\n",
      " 60%|██████    | 12/20 [01:22<00:44,  5.56s/it]\u001b[A\n",
      " 65%|██████▌   | 13/20 [01:26<00:35,  5.04s/it]\u001b[A\n",
      " 70%|███████   | 14/20 [01:29<00:27,  4.55s/it]\u001b[A\n",
      " 75%|███████▌  | 15/20 [01:32<00:20,  4.09s/it]\u001b[A\n",
      " 80%|████████  | 16/20 [01:35<00:14,  3.64s/it]\u001b[A\n",
      " 85%|████████▌ | 17/20 [01:37<00:09,  3.21s/it]\u001b[A\n",
      " 90%|█████████ | 18/20 [01:39<00:05,  2.79s/it]\u001b[A\n",
      " 95%|█████████▌| 19/20 [01:40<00:02,  2.37s/it]\u001b[A\n",
      "100%|██████████| 20/20 [01:41<00:00,  5.08s/it]\u001b[A\n"
     ]
    },
    {
     "name": "stdout",
     "output_type": "stream",
     "text": [
      "generator loss:0.8899833081087491\n",
      "-----------------------\n"
     ]
    },
    {
     "name": "stderr",
     "output_type": "stream",
     "text": [
      "151it [4:39:17, 109.84s/it]\n",
      "  0%|          | 0/20 [00:00<?, ?it/s]\u001b[A"
     ]
    },
    {
     "name": "stdout",
     "output_type": "stream",
     "text": [
      "total discriminator loss:0.6931885331698974\n",
      "-----------------------\n",
      "Training Step: 152\n"
     ]
    },
    {
     "name": "stderr",
     "output_type": "stream",
     "text": [
      "\n",
      "  5%|▌         | 1/20 [00:09<02:55,  9.26s/it]\u001b[A\n",
      " 10%|█         | 2/20 [00:17<02:40,  8.92s/it]\u001b[A\n",
      " 15%|█▌        | 3/20 [00:26<02:27,  8.68s/it]\u001b[A\n",
      " 20%|██        | 4/20 [00:34<02:13,  8.36s/it]\u001b[A\n",
      " 25%|██▌       | 5/20 [00:41<02:00,  8.05s/it]\u001b[A\n",
      " 30%|███       | 6/20 [00:48<01:45,  7.57s/it]\u001b[A\n",
      " 35%|███▌      | 7/20 [00:55<01:35,  7.32s/it]\u001b[A\n",
      " 40%|████      | 8/20 [01:01<01:22,  6.85s/it]\u001b[A\n",
      " 45%|████▌     | 9/20 [01:07<01:12,  6.62s/it]\u001b[A\n",
      " 50%|█████     | 10/20 [01:12<01:01,  6.14s/it]\u001b[A\n",
      " 55%|█████▌    | 11/20 [01:16<00:51,  5.70s/it]\u001b[A\n",
      " 60%|██████    | 12/20 [01:21<00:44,  5.51s/it]\u001b[A\n",
      " 65%|██████▌   | 13/20 [01:25<00:35,  5.00s/it]\u001b[A\n",
      " 70%|███████   | 14/20 [01:29<00:27,  4.53s/it]\u001b[A\n",
      " 75%|███████▌  | 15/20 [01:32<00:20,  4.08s/it]\u001b[A\n",
      " 80%|████████  | 16/20 [01:34<00:14,  3.64s/it]\u001b[A\n",
      " 85%|████████▌ | 17/20 [01:37<00:09,  3.21s/it]\u001b[A\n",
      " 90%|█████████ | 18/20 [01:38<00:05,  2.80s/it]\u001b[A\n",
      " 95%|█████████▌| 19/20 [01:40<00:02,  2.39s/it]\u001b[A\n",
      "100%|██████████| 20/20 [01:41<00:00,  5.07s/it]\u001b[A\n"
     ]
    },
    {
     "name": "stdout",
     "output_type": "stream",
     "text": [
      "generator loss:0.9065118427935126\n",
      "-----------------------\n"
     ]
    },
    {
     "name": "stderr",
     "output_type": "stream",
     "text": [
      "152it [4:41:07, 109.75s/it]\n",
      "  0%|          | 0/20 [00:00<?, ?it/s]\u001b[A"
     ]
    },
    {
     "name": "stdout",
     "output_type": "stream",
     "text": [
      "total discriminator loss:0.693193002968427\n",
      "-----------------------\n",
      "Training Step: 153\n"
     ]
    },
    {
     "name": "stderr",
     "output_type": "stream",
     "text": [
      "\n",
      "  5%|▌         | 1/20 [00:09<02:57,  9.33s/it]\u001b[A\n",
      " 10%|█         | 2/20 [00:18<02:42,  9.02s/it]\u001b[A\n",
      " 15%|█▌        | 3/20 [00:26<02:29,  8.78s/it]\u001b[A\n",
      " 20%|██        | 4/20 [00:34<02:15,  8.45s/it]\u001b[A\n",
      " 25%|██▌       | 5/20 [00:42<02:02,  8.13s/it]\u001b[A\n",
      " 30%|███       | 6/20 [00:48<01:46,  7.63s/it]\u001b[A\n",
      " 35%|███▌      | 7/20 [00:55<01:35,  7.37s/it]\u001b[A\n",
      " 40%|████      | 8/20 [01:01<01:22,  6.91s/it]\u001b[A\n",
      " 45%|████▌     | 9/20 [01:07<01:13,  6.69s/it]\u001b[A\n",
      " 50%|█████     | 10/20 [01:12<01:02,  6.23s/it]\u001b[A\n",
      " 55%|█████▌    | 11/20 [01:17<00:51,  5.77s/it]\u001b[A\n",
      " 60%|██████    | 12/20 [01:22<00:44,  5.57s/it]\u001b[A\n",
      " 65%|██████▌   | 13/20 [01:26<00:35,  5.05s/it]\u001b[A\n",
      " 70%|███████   | 14/20 [01:30<00:27,  4.56s/it]\u001b[A\n",
      " 75%|███████▌  | 15/20 [01:33<00:20,  4.10s/it]\u001b[A\n",
      " 80%|████████  | 16/20 [01:35<00:14,  3.67s/it]\u001b[A\n",
      " 85%|████████▌ | 17/20 [01:38<00:09,  3.23s/it]\u001b[A\n",
      " 90%|█████████ | 18/20 [01:39<00:05,  2.81s/it]\u001b[A\n",
      " 95%|█████████▌| 19/20 [01:41<00:02,  2.39s/it]\u001b[A\n",
      "100%|██████████| 20/20 [01:42<00:00,  5.11s/it]\u001b[A\n"
     ]
    },
    {
     "name": "stdout",
     "output_type": "stream",
     "text": [
      "generator loss:0.8896336412119611\n",
      "-----------------------\n"
     ]
    },
    {
     "name": "stderr",
     "output_type": "stream",
     "text": [
      "153it [4:42:57, 109.96s/it]\n",
      "  0%|          | 0/20 [00:00<?, ?it/s]\u001b[A"
     ]
    },
    {
     "name": "stdout",
     "output_type": "stream",
     "text": [
      "total discriminator loss:0.693186699054565\n",
      "-----------------------\n",
      "Training Step: 154\n"
     ]
    },
    {
     "name": "stderr",
     "output_type": "stream",
     "text": [
      "\n",
      "  5%|▌         | 1/20 [00:09<02:56,  9.27s/it]\u001b[A\n",
      " 10%|█         | 2/20 [00:17<02:40,  8.93s/it]\u001b[A\n",
      " 15%|█▌        | 3/20 [00:26<02:27,  8.68s/it]\u001b[A\n",
      " 20%|██        | 4/20 [00:34<02:14,  8.41s/it]\u001b[A\n",
      " 25%|██▌       | 5/20 [00:41<02:01,  8.12s/it]\u001b[A\n",
      " 30%|███       | 6/20 [00:48<01:47,  7.65s/it]\u001b[A\n",
      " 35%|███▌      | 7/20 [00:55<01:35,  7.38s/it]\u001b[A\n",
      " 40%|████      | 8/20 [01:01<01:22,  6.91s/it]\u001b[A\n",
      " 45%|████▌     | 9/20 [01:07<01:13,  6.67s/it]\u001b[A\n",
      " 50%|█████     | 10/20 [01:12<01:01,  6.18s/it]\u001b[A\n",
      " 55%|█████▌    | 11/20 [01:17<00:51,  5.72s/it]\u001b[A\n",
      " 60%|██████    | 12/20 [01:22<00:44,  5.53s/it]\u001b[A\n",
      " 65%|██████▌   | 13/20 [01:26<00:35,  5.01s/it]\u001b[A\n",
      " 70%|███████   | 14/20 [01:29<00:27,  4.53s/it]\u001b[A\n",
      " 75%|███████▌  | 15/20 [01:32<00:20,  4.07s/it]\u001b[A\n",
      " 80%|████████  | 16/20 [01:35<00:14,  3.63s/it]\u001b[A\n",
      " 85%|████████▌ | 17/20 [01:37<00:09,  3.19s/it]\u001b[A\n",
      " 90%|█████████ | 18/20 [01:39<00:05,  2.77s/it]\u001b[A\n",
      " 95%|█████████▌| 19/20 [01:40<00:02,  2.36s/it]\u001b[A\n",
      "100%|██████████| 20/20 [01:41<00:00,  5.08s/it]\u001b[A\n"
     ]
    },
    {
     "name": "stdout",
     "output_type": "stream",
     "text": [
      "generator loss:0.9052672729988057\n",
      "-----------------------\n"
     ]
    },
    {
     "name": "stderr",
     "output_type": "stream",
     "text": [
      "154it [4:44:47, 109.90s/it]\n",
      "  0%|          | 0/20 [00:00<?, ?it/s]\u001b[A"
     ]
    },
    {
     "name": "stdout",
     "output_type": "stream",
     "text": [
      "total discriminator loss:0.6931873046990921\n",
      "-----------------------\n",
      "Training Step: 155\n"
     ]
    },
    {
     "name": "stderr",
     "output_type": "stream",
     "text": [
      "\n",
      "  5%|▌         | 1/20 [00:09<02:53,  9.15s/it]\u001b[A\n",
      " 10%|█         | 2/20 [00:17<02:39,  8.88s/it]\u001b[A\n",
      " 15%|█▌        | 3/20 [00:26<02:27,  8.67s/it]\u001b[A\n",
      " 20%|██        | 4/20 [00:34<02:13,  8.35s/it]\u001b[A\n",
      " 25%|██▌       | 5/20 [00:41<02:01,  8.08s/it]\u001b[A\n",
      " 30%|███       | 6/20 [00:48<01:46,  7.59s/it]\u001b[A\n",
      " 35%|███▌      | 7/20 [00:55<01:35,  7.34s/it]\u001b[A\n",
      " 40%|████      | 8/20 [01:01<01:22,  6.90s/it]\u001b[A\n",
      " 45%|████▌     | 9/20 [01:07<01:13,  6.67s/it]\u001b[A\n",
      " 50%|█████     | 10/20 [01:12<01:02,  6.20s/it]\u001b[A\n",
      " 55%|█████▌    | 11/20 [01:17<00:51,  5.74s/it]\u001b[A\n",
      " 60%|██████    | 12/20 [01:22<00:44,  5.53s/it]\u001b[A\n",
      " 65%|██████▌   | 13/20 [01:26<00:35,  5.03s/it]\u001b[A\n",
      " 70%|███████   | 14/20 [01:29<00:27,  4.54s/it]\u001b[A\n",
      " 75%|███████▌  | 15/20 [01:32<00:20,  4.08s/it]\u001b[A\n",
      " 80%|████████  | 16/20 [01:35<00:14,  3.64s/it]\u001b[A\n",
      " 85%|████████▌ | 17/20 [01:37<00:09,  3.21s/it]\u001b[A\n",
      " 90%|█████████ | 18/20 [01:39<00:05,  2.78s/it]\u001b[A\n",
      " 95%|█████████▌| 19/20 [01:40<00:02,  2.36s/it]\u001b[A\n",
      "100%|██████████| 20/20 [01:41<00:00,  5.08s/it]\u001b[A\n"
     ]
    },
    {
     "name": "stdout",
     "output_type": "stream",
     "text": [
      "generator loss:0.8898365381205829\n",
      "-----------------------\n"
     ]
    },
    {
     "name": "stderr",
     "output_type": "stream",
     "text": [
      "155it [4:46:37, 109.86s/it]\n",
      "  0%|          | 0/20 [00:00<?, ?it/s]\u001b[A"
     ]
    },
    {
     "name": "stdout",
     "output_type": "stream",
     "text": [
      "total discriminator loss:0.6931880277664346\n",
      "-----------------------\n",
      "Training Step: 156\n"
     ]
    },
    {
     "name": "stderr",
     "output_type": "stream",
     "text": [
      "\n",
      "  5%|▌         | 1/20 [00:09<02:55,  9.26s/it]\u001b[A\n",
      " 10%|█         | 2/20 [00:17<02:40,  8.94s/it]\u001b[A\n",
      " 15%|█▌        | 3/20 [00:26<02:28,  8.74s/it]\u001b[A\n",
      " 20%|██        | 4/20 [00:34<02:14,  8.44s/it]\u001b[A\n",
      " 25%|██▌       | 5/20 [00:42<02:02,  8.16s/it]\u001b[A\n",
      " 30%|███       | 6/20 [00:48<01:47,  7.70s/it]\u001b[A\n",
      " 35%|███▌      | 7/20 [00:55<01:36,  7.43s/it]\u001b[A\n",
      " 40%|████      | 8/20 [01:01<01:23,  6.97s/it]\u001b[A\n",
      " 45%|████▌     | 9/20 [01:08<01:14,  6.74s/it]\u001b[A\n",
      " 50%|█████     | 10/20 [01:13<01:02,  6.23s/it]\u001b[A\n",
      " 55%|█████▌    | 11/20 [01:17<00:51,  5.78s/it]\u001b[A\n",
      " 60%|██████    | 12/20 [01:23<00:44,  5.60s/it]\u001b[A\n",
      " 65%|██████▌   | 13/20 [01:26<00:35,  5.07s/it]\u001b[A\n",
      " 70%|███████   | 14/20 [01:30<00:27,  4.57s/it]\u001b[A\n",
      " 75%|███████▌  | 15/20 [01:33<00:20,  4.10s/it]\u001b[A\n",
      " 80%|████████  | 16/20 [01:35<00:14,  3.65s/it]\u001b[A\n",
      " 85%|████████▌ | 17/20 [01:38<00:09,  3.21s/it]\u001b[A\n",
      " 90%|█████████ | 18/20 [01:39<00:05,  2.79s/it]\u001b[A\n",
      " 95%|█████████▌| 19/20 [01:41<00:02,  2.36s/it]\u001b[A\n",
      "100%|██████████| 20/20 [01:42<00:00,  5.11s/it]\u001b[A\n"
     ]
    },
    {
     "name": "stdout",
     "output_type": "stream",
     "text": [
      "generator loss:0.9059103192175456\n",
      "-----------------------\n"
     ]
    },
    {
     "name": "stderr",
     "output_type": "stream",
     "text": [
      "156it [4:48:27, 110.02s/it]\n",
      "  0%|          | 0/20 [00:00<?, ?it/s]\u001b[A"
     ]
    },
    {
     "name": "stdout",
     "output_type": "stream",
     "text": [
      "total discriminator loss:0.6931858147960768\n",
      "-----------------------\n",
      "Training Step: 157\n"
     ]
    },
    {
     "name": "stderr",
     "output_type": "stream",
     "text": [
      "\n",
      "  5%|▌         | 1/20 [00:09<02:54,  9.19s/it]\u001b[A\n",
      " 10%|█         | 2/20 [00:17<02:40,  8.90s/it]\u001b[A\n",
      " 15%|█▌        | 3/20 [00:26<02:27,  8.70s/it]\u001b[A\n",
      " 20%|██        | 4/20 [00:34<02:14,  8.41s/it]\u001b[A\n",
      " 25%|██▌       | 5/20 [00:41<02:01,  8.10s/it]\u001b[A\n",
      " 30%|███       | 6/20 [00:48<01:46,  7.61s/it]\u001b[A\n",
      " 35%|███▌      | 7/20 [00:55<01:35,  7.35s/it]\u001b[A\n",
      " 40%|████      | 8/20 [01:01<01:22,  6.90s/it]\u001b[A\n",
      " 45%|████▌     | 9/20 [01:07<01:13,  6.66s/it]\u001b[A\n",
      " 50%|█████     | 10/20 [01:12<01:01,  6.18s/it]\u001b[A\n",
      " 55%|█████▌    | 11/20 [01:17<00:51,  5.75s/it]\u001b[A\n",
      " 60%|██████    | 12/20 [01:22<00:44,  5.57s/it]\u001b[A\n",
      " 65%|██████▌   | 13/20 [01:26<00:35,  5.05s/it]\u001b[A\n",
      " 70%|███████   | 14/20 [01:29<00:27,  4.58s/it]\u001b[A\n",
      " 75%|███████▌  | 15/20 [01:32<00:20,  4.13s/it]\u001b[A\n",
      " 80%|████████  | 16/20 [01:35<00:14,  3.68s/it]\u001b[A\n",
      " 85%|████████▌ | 17/20 [01:37<00:09,  3.25s/it]\u001b[A\n",
      " 90%|█████████ | 18/20 [01:39<00:05,  2.82s/it]\u001b[A\n",
      " 95%|█████████▌| 19/20 [01:41<00:02,  2.41s/it]\u001b[A\n",
      "100%|██████████| 20/20 [01:42<00:00,  5.10s/it]\u001b[A\n"
     ]
    },
    {
     "name": "stdout",
     "output_type": "stream",
     "text": [
      "generator loss:0.8913041018278204\n",
      "-----------------------\n"
     ]
    },
    {
     "name": "stderr",
     "output_type": "stream",
     "text": [
      "157it [4:50:17, 110.08s/it]\n",
      "  0%|          | 0/20 [00:00<?, ?it/s]\u001b[A"
     ]
    },
    {
     "name": "stdout",
     "output_type": "stream",
     "text": [
      "total discriminator loss:0.6931899392947111\n",
      "-----------------------\n",
      "Training Step: 158\n"
     ]
    },
    {
     "name": "stderr",
     "output_type": "stream",
     "text": [
      "\n",
      "  5%|▌         | 1/20 [00:09<02:59,  9.46s/it]\u001b[A\n",
      " 10%|█         | 2/20 [00:18<02:46,  9.26s/it]\u001b[A\n",
      " 15%|█▌        | 3/20 [00:27<02:33,  9.04s/it]\u001b[A\n",
      " 20%|██        | 4/20 [00:35<02:19,  8.72s/it]\u001b[A\n",
      " 25%|██▌       | 5/20 [00:43<02:05,  8.38s/it]\u001b[A\n",
      " 30%|███       | 6/20 [00:50<01:50,  7.88s/it]\u001b[A\n",
      " 35%|███▌      | 7/20 [00:57<01:39,  7.62s/it]\u001b[A\n",
      " 40%|████      | 8/20 [01:03<01:25,  7.10s/it]\u001b[A\n",
      " 45%|████▌     | 9/20 [01:09<01:15,  6.83s/it]\u001b[A\n",
      " 50%|█████     | 10/20 [01:14<01:03,  6.33s/it]\u001b[A\n",
      " 55%|█████▌    | 11/20 [01:19<00:53,  5.89s/it]\u001b[A\n",
      " 60%|██████    | 12/20 [01:24<00:45,  5.71s/it]\u001b[A\n",
      " 65%|██████▌   | 13/20 [01:28<00:36,  5.17s/it]\u001b[A\n",
      " 70%|███████   | 14/20 [01:32<00:28,  4.68s/it]\u001b[A\n",
      " 75%|███████▌  | 15/20 [01:35<00:20,  4.19s/it]\u001b[A\n",
      " 80%|████████  | 16/20 [01:38<00:14,  3.74s/it]\u001b[A\n",
      " 85%|████████▌ | 17/20 [01:40<00:09,  3.30s/it]\u001b[A\n",
      " 90%|█████████ | 18/20 [01:42<00:05,  2.85s/it]\u001b[A\n",
      " 95%|█████████▌| 19/20 [01:43<00:02,  2.42s/it]\u001b[A\n",
      "100%|██████████| 20/20 [01:44<00:00,  5.24s/it]\u001b[A\n"
     ]
    },
    {
     "name": "stdout",
     "output_type": "stream",
     "text": [
      "generator loss:0.9052501161848404\n",
      "-----------------------\n"
     ]
    },
    {
     "name": "stderr",
     "output_type": "stream",
     "text": [
      "158it [4:52:11, 110.98s/it]\n",
      "  0%|          | 0/20 [00:00<?, ?it/s]\u001b[A"
     ]
    },
    {
     "name": "stdout",
     "output_type": "stream",
     "text": [
      "total discriminator loss:0.6931873971738416\n",
      "-----------------------\n",
      "Training Step: 159\n"
     ]
    },
    {
     "name": "stderr",
     "output_type": "stream",
     "text": [
      "\n",
      "  5%|▌         | 1/20 [00:09<02:58,  9.40s/it]\u001b[A\n",
      " 10%|█         | 2/20 [00:18<02:43,  9.11s/it]\u001b[A\n",
      " 15%|█▌        | 3/20 [00:26<02:31,  8.90s/it]\u001b[A\n",
      " 20%|██        | 4/20 [00:35<02:17,  8.60s/it]\u001b[A\n",
      " 25%|██▌       | 5/20 [00:42<02:04,  8.30s/it]\u001b[A\n",
      " 30%|███       | 6/20 [00:49<01:49,  7.83s/it]\u001b[A\n",
      " 35%|███▌      | 7/20 [00:56<01:38,  7.59s/it]\u001b[A\n",
      " 40%|████      | 8/20 [01:02<01:24,  7.08s/it]\u001b[A\n",
      " 45%|████▌     | 9/20 [01:09<01:15,  6.83s/it]\u001b[A\n",
      " 50%|█████     | 10/20 [01:14<01:03,  6.34s/it]\u001b[A\n",
      " 55%|█████▌    | 11/20 [01:19<00:52,  5.86s/it]\u001b[A\n",
      " 60%|██████    | 12/20 [01:24<00:45,  5.69s/it]\u001b[A\n",
      " 65%|██████▌   | 13/20 [01:28<00:36,  5.18s/it]\u001b[A\n",
      " 70%|███████   | 14/20 [01:31<00:28,  4.68s/it]\u001b[A\n",
      " 75%|███████▌  | 15/20 [01:35<00:20,  4.20s/it]\u001b[A\n",
      " 80%|████████  | 16/20 [01:37<00:14,  3.74s/it]\u001b[A\n",
      " 85%|████████▌ | 17/20 [01:40<00:09,  3.30s/it]\u001b[A\n",
      " 90%|█████████ | 18/20 [01:41<00:05,  2.87s/it]\u001b[A\n",
      " 95%|█████████▌| 19/20 [01:43<00:02,  2.44s/it]\u001b[A\n",
      "100%|██████████| 20/20 [01:44<00:00,  5.22s/it]\u001b[A\n"
     ]
    },
    {
     "name": "stdout",
     "output_type": "stream",
     "text": [
      "generator loss:0.8901768581841927\n",
      "-----------------------\n"
     ]
    },
    {
     "name": "stderr",
     "output_type": "stream",
     "text": [
      "159it [4:54:03, 111.46s/it]\n",
      "  0%|          | 0/20 [00:00<?, ?it/s]\u001b[A"
     ]
    },
    {
     "name": "stdout",
     "output_type": "stream",
     "text": [
      "total discriminator loss:0.6931953273576434\n",
      "-----------------------\n",
      "Training Step: 160\n"
     ]
    },
    {
     "name": "stderr",
     "output_type": "stream",
     "text": [
      "\n",
      "  5%|▌         | 1/20 [00:09<03:01,  9.55s/it]\u001b[A\n",
      " 10%|█         | 2/20 [00:18<02:45,  9.20s/it]\u001b[A\n",
      " 15%|█▌        | 3/20 [00:27<02:31,  8.93s/it]\u001b[A\n",
      " 20%|██        | 4/20 [00:35<02:16,  8.55s/it]\u001b[A\n",
      " 25%|██▌       | 5/20 [00:42<02:03,  8.23s/it]\u001b[A\n",
      " 30%|███       | 6/20 [00:49<01:47,  7.71s/it]\u001b[A\n",
      " 35%|███▌      | 7/20 [00:56<01:36,  7.44s/it]\u001b[A\n",
      " 40%|████      | 8/20 [01:02<01:24,  7.00s/it]\u001b[A\n",
      " 45%|████▌     | 9/20 [01:08<01:14,  6.78s/it]\u001b[A\n",
      " 50%|█████     | 10/20 [01:13<01:02,  6.30s/it]\u001b[A\n",
      " 55%|█████▌    | 11/20 [01:18<00:52,  5.84s/it]\u001b[A\n",
      " 60%|██████    | 12/20 [01:23<00:45,  5.64s/it]\u001b[A\n",
      " 65%|██████▌   | 13/20 [01:27<00:35,  5.12s/it]\u001b[A\n",
      " 70%|███████   | 14/20 [01:31<00:27,  4.61s/it]\u001b[A\n",
      " 75%|███████▌  | 15/20 [01:34<00:20,  4.13s/it]\u001b[A\n",
      " 80%|████████  | 16/20 [01:36<00:14,  3.68s/it]\u001b[A\n",
      " 85%|████████▌ | 17/20 [01:39<00:09,  3.25s/it]\u001b[A\n",
      " 90%|█████████ | 18/20 [01:41<00:05,  2.83s/it]\u001b[A\n",
      " 95%|█████████▌| 19/20 [01:42<00:02,  2.42s/it]\u001b[A\n",
      "100%|██████████| 20/20 [01:43<00:00,  5.17s/it]\u001b[A\n"
     ]
    },
    {
     "name": "stdout",
     "output_type": "stream",
     "text": [
      "generator loss:0.9056267988818651\n",
      "-----------------------\n"
     ]
    },
    {
     "name": "stderr",
     "output_type": "stream",
     "text": [
      "160it [4:55:55, 111.53s/it]\n",
      "  0%|          | 0/20 [00:00<?, ?it/s]\u001b[A"
     ]
    },
    {
     "name": "stdout",
     "output_type": "stream",
     "text": [
      "total discriminator loss:0.69318506873872\n",
      "-----------------------\n",
      "Training Step: 161\n"
     ]
    },
    {
     "name": "stderr",
     "output_type": "stream",
     "text": [
      "\n",
      "  5%|▌         | 1/20 [00:09<02:58,  9.38s/it]\u001b[A\n",
      " 10%|█         | 2/20 [00:18<02:43,  9.08s/it]\u001b[A\n",
      " 15%|█▌        | 3/20 [00:26<02:30,  8.83s/it]\u001b[A\n",
      " 20%|██        | 4/20 [00:34<02:16,  8.50s/it]\u001b[A\n",
      " 25%|██▌       | 5/20 [00:42<02:04,  8.27s/it]\u001b[A\n",
      " 30%|███       | 6/20 [00:49<01:49,  7.81s/it]\u001b[A\n",
      " 35%|███▌      | 7/20 [00:56<01:38,  7.54s/it]\u001b[A\n",
      " 40%|████      | 8/20 [01:02<01:24,  7.06s/it]\u001b[A\n",
      " 45%|████▌     | 9/20 [01:08<01:14,  6.82s/it]\u001b[A\n",
      " 50%|█████     | 10/20 [01:14<01:03,  6.33s/it]\u001b[A\n",
      " 55%|█████▌    | 11/20 [01:18<00:52,  5.85s/it]\u001b[A\n",
      " 60%|██████    | 12/20 [01:23<00:45,  5.63s/it]\u001b[A\n",
      " 65%|██████▌   | 13/20 [01:27<00:35,  5.10s/it]\u001b[A\n",
      " 70%|███████   | 14/20 [01:31<00:27,  4.60s/it]\u001b[A\n",
      " 75%|███████▌  | 15/20 [01:34<00:20,  4.13s/it]\u001b[A\n",
      " 80%|████████  | 16/20 [01:37<00:14,  3.69s/it]\u001b[A\n",
      " 85%|████████▌ | 17/20 [01:39<00:09,  3.26s/it]\u001b[A\n",
      " 90%|█████████ | 18/20 [01:41<00:05,  2.84s/it]\u001b[A\n",
      " 95%|█████████▌| 19/20 [01:42<00:02,  2.42s/it]\u001b[A\n",
      "100%|██████████| 20/20 [01:43<00:00,  5.18s/it]\u001b[A\n"
     ]
    },
    {
     "name": "stdout",
     "output_type": "stream",
     "text": [
      "generator loss:0.8906777728019639\n",
      "-----------------------\n"
     ]
    },
    {
     "name": "stderr",
     "output_type": "stream",
     "text": [
      "161it [4:57:47, 111.63s/it]\n",
      "  0%|          | 0/20 [00:00<?, ?it/s]\u001b[A"
     ]
    },
    {
     "name": "stdout",
     "output_type": "stream",
     "text": [
      "total discriminator loss:0.6931892141150628\n",
      "-----------------------\n",
      "Training Step: 162\n"
     ]
    },
    {
     "name": "stderr",
     "output_type": "stream",
     "text": [
      "\n",
      "  5%|▌         | 1/20 [00:09<02:59,  9.45s/it]\u001b[A\n",
      " 10%|█         | 2/20 [00:18<02:44,  9.12s/it]\u001b[A\n",
      " 15%|█▌        | 3/20 [00:26<02:30,  8.87s/it]\u001b[A\n",
      " 20%|██        | 4/20 [00:35<02:17,  8.57s/it]\u001b[A\n",
      " 25%|██▌       | 5/20 [00:42<02:04,  8.29s/it]\u001b[A\n",
      " 30%|███       | 6/20 [00:49<01:49,  7.81s/it]\u001b[A\n",
      " 35%|███▌      | 7/20 [00:56<01:38,  7.54s/it]\u001b[A\n",
      " 40%|████      | 8/20 [01:02<01:25,  7.08s/it]\u001b[A\n",
      " 45%|████▌     | 9/20 [01:09<01:15,  6.84s/it]\u001b[A\n",
      " 50%|█████     | 10/20 [01:14<01:03,  6.35s/it]\u001b[A\n",
      " 55%|█████▌    | 11/20 [01:19<00:52,  5.86s/it]\u001b[A\n",
      " 60%|██████    | 12/20 [01:24<00:45,  5.67s/it]\u001b[A\n",
      " 65%|██████▌   | 13/20 [01:28<00:35,  5.13s/it]\u001b[A\n",
      " 70%|███████   | 14/20 [01:31<00:27,  4.65s/it]\u001b[A\n",
      " 75%|███████▌  | 15/20 [01:34<00:20,  4.17s/it]\u001b[A\n",
      " 80%|████████  | 16/20 [01:37<00:14,  3.70s/it]\u001b[A\n",
      " 85%|████████▌ | 17/20 [01:39<00:09,  3.26s/it]\u001b[A\n",
      " 90%|█████████ | 18/20 [01:41<00:05,  2.82s/it]\u001b[A\n",
      " 95%|█████████▌| 19/20 [01:42<00:02,  2.40s/it]\u001b[A\n",
      "100%|██████████| 20/20 [01:43<00:00,  5.19s/it]\u001b[A\n"
     ]
    },
    {
     "name": "stdout",
     "output_type": "stream",
     "text": [
      "generator loss:0.9051278576316062\n",
      "-----------------------\n"
     ]
    },
    {
     "name": "stderr",
     "output_type": "stream",
     "text": [
      "162it [4:59:39, 111.82s/it]\n",
      "  0%|          | 0/20 [00:00<?, ?it/s]\u001b[A"
     ]
    },
    {
     "name": "stdout",
     "output_type": "stream",
     "text": [
      "total discriminator loss:0.6931928586644222\n",
      "-----------------------\n",
      "Training Step: 163\n"
     ]
    },
    {
     "name": "stderr",
     "output_type": "stream",
     "text": [
      "\n",
      "  5%|▌         | 1/20 [00:09<03:00,  9.52s/it]\u001b[A\n",
      " 10%|█         | 2/20 [00:18<02:43,  9.08s/it]\u001b[A\n",
      " 15%|█▌        | 3/20 [00:26<02:31,  8.89s/it]\u001b[A\n",
      " 20%|██        | 4/20 [00:34<02:16,  8.54s/it]\u001b[A\n",
      " 25%|██▌       | 5/20 [00:42<02:03,  8.22s/it]\u001b[A\n",
      " 30%|███       | 6/20 [00:49<01:47,  7.71s/it]\u001b[A\n",
      " 35%|███▌      | 7/20 [00:56<01:36,  7.45s/it]\u001b[A\n",
      " 40%|████      | 8/20 [01:02<01:23,  6.99s/it]\u001b[A\n",
      " 45%|████▌     | 9/20 [01:08<01:14,  6.75s/it]\u001b[A\n",
      " 50%|█████     | 10/20 [01:13<01:02,  6.27s/it]\u001b[A\n",
      " 55%|█████▌    | 11/20 [01:18<00:52,  5.82s/it]\u001b[A\n",
      " 60%|██████    | 12/20 [01:23<00:45,  5.64s/it]\u001b[A\n",
      " 65%|██████▌   | 13/20 [01:27<00:35,  5.11s/it]\u001b[A\n",
      " 70%|███████   | 14/20 [01:31<00:27,  4.62s/it]\u001b[A\n",
      " 75%|███████▌  | 15/20 [01:34<00:20,  4.15s/it]\u001b[A\n",
      " 80%|████████  | 16/20 [01:36<00:14,  3.69s/it]\u001b[A\n",
      " 85%|████████▌ | 17/20 [01:38<00:09,  3.25s/it]\u001b[A\n",
      " 90%|█████████ | 18/20 [01:40<00:05,  2.82s/it]\u001b[A\n",
      " 95%|█████████▌| 19/20 [01:42<00:02,  2.41s/it]\u001b[A\n",
      "100%|██████████| 20/20 [01:43<00:00,  5.16s/it]\u001b[A\n"
     ]
    },
    {
     "name": "stdout",
     "output_type": "stream",
     "text": [
      "generator loss:0.8928394690981275\n",
      "-----------------------\n"
     ]
    },
    {
     "name": "stderr",
     "output_type": "stream",
     "text": [
      "163it [5:01:30, 111.70s/it]\n",
      "  0%|          | 0/20 [00:00<?, ?it/s]\u001b[A"
     ]
    },
    {
     "name": "stdout",
     "output_type": "stream",
     "text": [
      "total discriminator loss:0.6931877859289762\n",
      "-----------------------\n",
      "Training Step: 164\n"
     ]
    },
    {
     "name": "stderr",
     "output_type": "stream",
     "text": [
      "\n",
      "  5%|▌         | 1/20 [00:09<02:59,  9.43s/it]\u001b[A\n",
      " 10%|█         | 2/20 [00:18<02:44,  9.15s/it]\u001b[A\n",
      " 15%|█▌        | 3/20 [00:26<02:30,  8.86s/it]\u001b[A\n",
      " 20%|██        | 4/20 [00:34<02:16,  8.55s/it]\u001b[A\n",
      " 25%|██▌       | 5/20 [00:42<02:03,  8.24s/it]\u001b[A\n",
      " 30%|███       | 6/20 [00:49<01:48,  7.74s/it]\u001b[A\n",
      " 35%|███▌      | 7/20 [00:56<01:37,  7.47s/it]\u001b[A\n",
      " 40%|████      | 8/20 [01:02<01:23,  6.99s/it]\u001b[A\n",
      " 45%|████▌     | 9/20 [01:08<01:14,  6.75s/it]\u001b[A\n",
      " 50%|█████     | 10/20 [01:13<01:02,  6.25s/it]\u001b[A\n",
      " 55%|█████▌    | 11/20 [01:18<00:52,  5.81s/it]\u001b[A\n",
      " 60%|██████    | 12/20 [01:23<00:45,  5.64s/it]\u001b[A\n",
      " 65%|██████▌   | 13/20 [01:27<00:35,  5.12s/it]\u001b[A\n",
      " 70%|███████   | 14/20 [01:31<00:27,  4.64s/it]\u001b[A\n",
      " 75%|███████▌  | 15/20 [01:34<00:20,  4.17s/it]\u001b[A\n",
      " 80%|████████  | 16/20 [01:36<00:14,  3.72s/it]\u001b[A\n",
      " 85%|████████▌ | 17/20 [01:39<00:09,  3.27s/it]\u001b[A\n",
      " 90%|█████████ | 18/20 [01:41<00:05,  2.85s/it]\u001b[A\n",
      " 95%|█████████▌| 19/20 [01:42<00:02,  2.42s/it]\u001b[A\n",
      "100%|██████████| 20/20 [01:43<00:00,  5.17s/it]\u001b[A\n"
     ]
    },
    {
     "name": "stdout",
     "output_type": "stream",
     "text": [
      "generator loss:0.9055945136143244\n",
      "-----------------------\n"
     ]
    },
    {
     "name": "stderr",
     "output_type": "stream",
     "text": [
      "164it [5:03:22, 111.70s/it]\n",
      "  0%|          | 0/20 [00:00<?, ?it/s]\u001b[A"
     ]
    },
    {
     "name": "stdout",
     "output_type": "stream",
     "text": [
      "total discriminator loss:0.6931923010726737\n",
      "-----------------------\n",
      "Training Step: 165\n"
     ]
    },
    {
     "name": "stderr",
     "output_type": "stream",
     "text": [
      "\n",
      "  5%|▌         | 1/20 [00:09<02:57,  9.35s/it]\u001b[A\n",
      " 10%|█         | 2/20 [00:18<02:42,  9.05s/it]\u001b[A\n",
      " 15%|█▌        | 3/20 [00:26<02:30,  8.83s/it]\u001b[A\n",
      " 20%|██        | 4/20 [00:34<02:16,  8.50s/it]\u001b[A\n",
      " 25%|██▌       | 5/20 [00:42<02:02,  8.18s/it]\u001b[A\n",
      " 30%|███       | 6/20 [00:49<01:47,  7.68s/it]\u001b[A\n",
      " 35%|███▌      | 7/20 [00:56<01:36,  7.44s/it]\u001b[A\n",
      " 40%|████      | 8/20 [01:02<01:23,  6.98s/it]\u001b[A\n",
      " 45%|████▌     | 9/20 [01:08<01:14,  6.73s/it]\u001b[A\n",
      " 50%|█████     | 10/20 [01:13<01:02,  6.24s/it]\u001b[A\n",
      " 55%|█████▌    | 11/20 [01:18<00:52,  5.78s/it]\u001b[A\n",
      " 60%|██████    | 12/20 [01:23<00:44,  5.58s/it]\u001b[A\n",
      " 65%|██████▌   | 13/20 [01:27<00:35,  5.05s/it]\u001b[A\n",
      " 70%|███████   | 14/20 [01:30<00:27,  4.57s/it]\u001b[A\n",
      " 75%|███████▌  | 15/20 [01:33<00:20,  4.12s/it]\u001b[A\n",
      " 80%|████████  | 16/20 [01:36<00:14,  3.69s/it]\u001b[A\n",
      " 85%|████████▌ | 17/20 [01:38<00:09,  3.27s/it]\u001b[A\n",
      " 90%|█████████ | 18/20 [01:40<00:05,  2.86s/it]\u001b[A\n",
      " 95%|█████████▌| 19/20 [01:41<00:02,  2.43s/it]\u001b[A\n",
      "100%|██████████| 20/20 [01:42<00:00,  5.15s/it]\u001b[A\n"
     ]
    },
    {
     "name": "stdout",
     "output_type": "stream",
     "text": [
      "generator loss:0.8918562970904377\n",
      "-----------------------\n"
     ]
    },
    {
     "name": "stderr",
     "output_type": "stream",
     "text": [
      "165it [5:05:13, 111.53s/it]\n",
      "  0%|          | 0/20 [00:00<?, ?it/s]\u001b[A"
     ]
    },
    {
     "name": "stdout",
     "output_type": "stream",
     "text": [
      "total discriminator loss:0.6931875535688616\n",
      "-----------------------\n",
      "Training Step: 166\n"
     ]
    },
    {
     "name": "stderr",
     "output_type": "stream",
     "text": [
      "\n",
      "  5%|▌         | 1/20 [00:09<02:58,  9.37s/it]\u001b[A\n",
      " 10%|█         | 2/20 [00:18<02:41,  9.00s/it]\u001b[A\n",
      " 15%|█▌        | 3/20 [00:26<02:29,  8.77s/it]\u001b[A\n",
      " 20%|██        | 4/20 [00:34<02:15,  8.45s/it]\u001b[A\n",
      " 25%|██▌       | 5/20 [00:42<02:02,  8.15s/it]\u001b[A\n",
      " 30%|███       | 6/20 [00:48<01:46,  7.61s/it]\u001b[A\n",
      " 35%|███▌      | 7/20 [00:55<01:35,  7.35s/it]\u001b[A\n",
      " 40%|████      | 8/20 [01:01<01:22,  6.90s/it]\u001b[A\n",
      " 45%|████▌     | 9/20 [01:07<01:13,  6.67s/it]\u001b[A\n",
      " 50%|█████     | 10/20 [01:12<01:02,  6.21s/it]\u001b[A\n",
      " 55%|█████▌    | 11/20 [01:17<00:51,  5.74s/it]\u001b[A\n",
      " 60%|██████    | 12/20 [01:22<00:44,  5.56s/it]\u001b[A\n",
      " 65%|██████▌   | 13/20 [01:26<00:35,  5.04s/it]\u001b[A\n",
      " 70%|███████   | 14/20 [01:29<00:27,  4.56s/it]\u001b[A\n",
      " 75%|███████▌  | 15/20 [01:32<00:20,  4.10s/it]\u001b[A\n",
      " 80%|████████  | 16/20 [01:35<00:14,  3.65s/it]\u001b[A\n",
      " 85%|████████▌ | 17/20 [01:37<00:09,  3.22s/it]\u001b[A\n",
      " 90%|█████████ | 18/20 [01:39<00:05,  2.80s/it]\u001b[A\n",
      " 95%|█████████▌| 19/20 [01:41<00:02,  2.38s/it]\u001b[A\n",
      "100%|██████████| 20/20 [01:42<00:00,  5.10s/it]\u001b[A\n"
     ]
    },
    {
     "name": "stdout",
     "output_type": "stream",
     "text": [
      "generator loss:0.9058711732763488\n",
      "-----------------------\n"
     ]
    },
    {
     "name": "stderr",
     "output_type": "stream",
     "text": [
      "166it [5:07:03, 111.15s/it]\n",
      "  0%|          | 0/20 [00:00<?, ?it/s]\u001b[A"
     ]
    },
    {
     "name": "stdout",
     "output_type": "stream",
     "text": [
      "total discriminator loss:0.6931912708202871\n",
      "-----------------------\n",
      "Training Step: 167\n"
     ]
    },
    {
     "name": "stderr",
     "output_type": "stream",
     "text": [
      "\n",
      "  5%|▌         | 1/20 [00:09<02:56,  9.29s/it]\u001b[A\n",
      " 10%|█         | 2/20 [00:18<02:41,  8.98s/it]\u001b[A\n",
      " 15%|█▌        | 3/20 [00:26<02:29,  8.78s/it]\u001b[A\n",
      " 20%|██        | 4/20 [00:34<02:15,  8.49s/it]\u001b[A\n",
      " 25%|██▌       | 5/20 [00:42<02:02,  8.19s/it]\u001b[A\n",
      " 30%|███       | 6/20 [00:49<01:47,  7.69s/it]\u001b[A\n",
      " 35%|███▌      | 7/20 [00:55<01:36,  7.45s/it]\u001b[A\n",
      " 40%|████      | 8/20 [01:02<01:24,  7.04s/it]\u001b[A\n",
      " 45%|████▌     | 9/20 [01:08<01:14,  6.79s/it]\u001b[A\n",
      " 50%|█████     | 10/20 [01:13<01:02,  6.28s/it]\u001b[A\n",
      " 55%|█████▌    | 11/20 [01:18<00:52,  5.79s/it]\u001b[A\n",
      " 60%|██████    | 12/20 [01:23<00:44,  5.61s/it]\u001b[A\n",
      " 65%|██████▌   | 13/20 [01:27<00:35,  5.09s/it]\u001b[A\n",
      " 70%|███████   | 14/20 [01:30<00:27,  4.62s/it]\u001b[A\n",
      " 75%|███████▌  | 15/20 [01:33<00:20,  4.16s/it]\u001b[A\n",
      " 80%|████████  | 16/20 [01:36<00:14,  3.71s/it]\u001b[A\n",
      " 85%|████████▌ | 17/20 [01:38<00:09,  3.27s/it]\u001b[A\n",
      " 90%|█████████ | 18/20 [01:40<00:05,  2.84s/it]\u001b[A\n",
      " 95%|█████████▌| 19/20 [01:42<00:02,  2.41s/it]\u001b[A\n",
      "100%|██████████| 20/20 [01:43<00:00,  5.16s/it]\u001b[A\n"
     ]
    },
    {
     "name": "stdout",
     "output_type": "stream",
     "text": [
      "generator loss:0.8909691387831821\n",
      "-----------------------\n"
     ]
    },
    {
     "name": "stderr",
     "output_type": "stream",
     "text": [
      "167it [5:08:55, 111.19s/it]\n",
      "  0%|          | 0/20 [00:00<?, ?it/s]\u001b[A"
     ]
    },
    {
     "name": "stdout",
     "output_type": "stream",
     "text": [
      "total discriminator loss:0.6931888288037131\n",
      "-----------------------\n",
      "Training Step: 168\n"
     ]
    },
    {
     "name": "stderr",
     "output_type": "stream",
     "text": [
      "\n",
      "  5%|▌         | 1/20 [00:09<02:58,  9.39s/it]\u001b[A\n",
      " 10%|█         | 2/20 [00:18<02:42,  9.04s/it]\u001b[A\n",
      " 15%|█▌        | 3/20 [00:26<02:28,  8.76s/it]\u001b[A\n",
      " 20%|██        | 4/20 [00:34<02:14,  8.42s/it]\u001b[A\n",
      " 25%|██▌       | 5/20 [00:42<02:01,  8.11s/it]\u001b[A\n",
      " 30%|███       | 6/20 [00:48<01:46,  7.63s/it]\u001b[A\n",
      " 35%|███▌      | 7/20 [00:55<01:36,  7.39s/it]\u001b[A\n",
      " 40%|████      | 8/20 [01:01<01:23,  6.92s/it]\u001b[A\n",
      " 45%|████▌     | 9/20 [01:07<01:13,  6.69s/it]\u001b[A\n",
      " 50%|█████     | 10/20 [01:12<01:02,  6.22s/it]\u001b[A\n",
      " 55%|█████▌    | 11/20 [01:17<00:51,  5.76s/it]\u001b[A\n",
      " 60%|██████    | 12/20 [01:22<00:44,  5.58s/it]\u001b[A\n",
      " 65%|██████▌   | 13/20 [01:26<00:35,  5.05s/it]\u001b[A\n",
      " 70%|███████   | 14/20 [01:30<00:27,  4.57s/it]\u001b[A\n",
      " 75%|███████▌  | 15/20 [01:33<00:20,  4.10s/it]\u001b[A\n",
      " 80%|████████  | 16/20 [01:35<00:14,  3.65s/it]\u001b[A\n",
      " 85%|████████▌ | 17/20 [01:37<00:09,  3.22s/it]\u001b[A\n",
      " 90%|█████████ | 18/20 [01:39<00:05,  2.79s/it]\u001b[A\n",
      " 95%|█████████▌| 19/20 [01:41<00:02,  2.38s/it]\u001b[A\n",
      "100%|██████████| 20/20 [01:42<00:00,  5.11s/it]\u001b[A\n"
     ]
    },
    {
     "name": "stdout",
     "output_type": "stream",
     "text": [
      "generator loss:0.9050880846652763\n",
      "-----------------------\n"
     ]
    },
    {
     "name": "stderr",
     "output_type": "stream",
     "text": [
      "168it [5:10:45, 110.96s/it]\n",
      "  0%|          | 0/20 [00:00<?, ?it/s]\u001b[A"
     ]
    },
    {
     "name": "stdout",
     "output_type": "stream",
     "text": [
      "total discriminator loss:0.6931844123015379\n",
      "-----------------------\n",
      "Training Step: 169\n"
     ]
    },
    {
     "name": "stderr",
     "output_type": "stream",
     "text": [
      "\n",
      "  5%|▌         | 1/20 [00:09<02:55,  9.23s/it]\u001b[A\n",
      " 10%|█         | 2/20 [00:17<02:40,  8.94s/it]\u001b[A\n",
      " 15%|█▌        | 3/20 [00:26<02:28,  8.73s/it]\u001b[A\n",
      " 20%|██        | 4/20 [00:34<02:14,  8.43s/it]\u001b[A\n",
      " 25%|██▌       | 5/20 [00:41<02:01,  8.12s/it]\u001b[A\n",
      " 30%|███       | 6/20 [00:48<01:46,  7.63s/it]\u001b[A\n",
      " 35%|███▌      | 7/20 [00:55<01:35,  7.36s/it]\u001b[A\n",
      " 40%|████      | 8/20 [01:01<01:22,  6.90s/it]\u001b[A\n",
      " 45%|████▌     | 9/20 [01:07<01:13,  6.67s/it]\u001b[A\n",
      " 50%|█████     | 10/20 [01:12<01:02,  6.21s/it]\u001b[A\n",
      " 55%|█████▌    | 11/20 [01:17<00:52,  5.78s/it]\u001b[A\n",
      " 60%|██████    | 12/20 [01:22<00:44,  5.60s/it]\u001b[A\n",
      " 65%|██████▌   | 13/20 [01:26<00:35,  5.07s/it]\u001b[A\n",
      " 70%|███████   | 14/20 [01:29<00:27,  4.57s/it]\u001b[A\n",
      " 75%|███████▌  | 15/20 [01:33<00:20,  4.11s/it]\u001b[A\n",
      " 80%|████████  | 16/20 [01:35<00:14,  3.65s/it]\u001b[A\n",
      " 85%|████████▌ | 17/20 [01:37<00:09,  3.22s/it]\u001b[A\n",
      " 90%|█████████ | 18/20 [01:39<00:05,  2.79s/it]\u001b[A\n",
      " 95%|█████████▌| 19/20 [01:41<00:02,  2.37s/it]\u001b[A\n",
      "100%|██████████| 20/20 [01:42<00:00,  5.10s/it]\u001b[A\n"
     ]
    },
    {
     "name": "stdout",
     "output_type": "stream",
     "text": [
      "generator loss:0.8903820765481306\n",
      "-----------------------\n"
     ]
    },
    {
     "name": "stderr",
     "output_type": "stream",
     "text": [
      "169it [5:12:35, 110.72s/it]\n",
      "  0%|          | 0/20 [00:00<?, ?it/s]\u001b[A"
     ]
    },
    {
     "name": "stdout",
     "output_type": "stream",
     "text": [
      "total discriminator loss:0.6931900784133572\n",
      "-----------------------\n",
      "Training Step: 170\n"
     ]
    },
    {
     "name": "stderr",
     "output_type": "stream",
     "text": [
      "\n",
      "  5%|▌         | 1/20 [00:09<02:57,  9.36s/it]\u001b[A\n",
      " 10%|█         | 2/20 [00:18<02:43,  9.06s/it]\u001b[A\n",
      " 15%|█▌        | 3/20 [00:26<02:30,  8.84s/it]\u001b[A\n",
      " 20%|██        | 4/20 [00:34<02:15,  8.49s/it]\u001b[A\n",
      " 25%|██▌       | 5/20 [00:42<02:02,  8.16s/it]\u001b[A\n",
      " 30%|███       | 6/20 [00:49<01:47,  7.66s/it]\u001b[A\n",
      " 35%|███▌      | 7/20 [00:55<01:36,  7.42s/it]\u001b[A\n",
      " 40%|████      | 8/20 [01:01<01:23,  6.95s/it]\u001b[A\n",
      " 45%|████▌     | 9/20 [01:08<01:13,  6.71s/it]\u001b[A\n",
      " 50%|█████     | 10/20 [01:13<01:02,  6.23s/it]\u001b[A\n",
      " 55%|█████▌    | 11/20 [01:17<00:51,  5.77s/it]\u001b[A\n",
      " 60%|██████    | 12/20 [01:23<00:44,  5.59s/it]\u001b[A\n",
      " 65%|██████▌   | 13/20 [01:27<00:35,  5.08s/it]\u001b[A\n",
      " 70%|███████   | 14/20 [01:30<00:27,  4.61s/it]\u001b[A\n",
      " 75%|███████▌  | 15/20 [01:33<00:20,  4.14s/it]\u001b[A\n",
      " 80%|████████  | 16/20 [01:36<00:14,  3.69s/it]\u001b[A\n",
      " 85%|████████▌ | 17/20 [01:38<00:09,  3.25s/it]\u001b[A\n",
      " 90%|█████████ | 18/20 [01:40<00:05,  2.82s/it]\u001b[A\n",
      " 95%|█████████▌| 19/20 [01:41<00:02,  2.40s/it]\u001b[A\n",
      "100%|██████████| 20/20 [01:42<00:00,  5.13s/it]\u001b[A\n"
     ]
    },
    {
     "name": "stdout",
     "output_type": "stream",
     "text": [
      "generator loss:0.9058120761186729\n",
      "-----------------------\n"
     ]
    },
    {
     "name": "stderr",
     "output_type": "stream",
     "text": [
      "170it [5:14:26, 110.78s/it]\n",
      "  0%|          | 0/20 [00:00<?, ?it/s]\u001b[A"
     ]
    },
    {
     "name": "stdout",
     "output_type": "stream",
     "text": [
      "total discriminator loss:0.6931896675285714\n",
      "-----------------------\n",
      "Training Step: 171\n"
     ]
    },
    {
     "name": "stderr",
     "output_type": "stream",
     "text": [
      "\n",
      "  5%|▌         | 1/20 [00:09<02:58,  9.40s/it]\u001b[A\n",
      " 10%|█         | 2/20 [00:18<02:44,  9.11s/it]\u001b[A\n",
      " 15%|█▌        | 3/20 [00:26<02:30,  8.85s/it]\u001b[A\n",
      " 20%|██        | 4/20 [00:34<02:16,  8.53s/it]\u001b[A\n",
      " 25%|██▌       | 5/20 [00:42<02:03,  8.22s/it]\u001b[A\n",
      " 30%|███       | 6/20 [00:49<01:47,  7.71s/it]\u001b[A\n",
      " 35%|███▌      | 7/20 [00:56<01:36,  7.45s/it]\u001b[A\n",
      " 40%|████      | 8/20 [01:02<01:23,  6.98s/it]\u001b[A\n",
      " 45%|████▌     | 9/20 [01:08<01:14,  6.74s/it]\u001b[A\n",
      " 50%|█████     | 10/20 [01:13<01:02,  6.24s/it]\u001b[A\n",
      " 55%|█████▌    | 11/20 [01:18<00:51,  5.77s/it]\u001b[A\n",
      " 60%|██████    | 12/20 [01:23<00:44,  5.57s/it]\u001b[A\n",
      " 65%|██████▌   | 13/20 [01:27<00:35,  5.06s/it]\u001b[A\n",
      " 70%|███████   | 14/20 [01:30<00:27,  4.57s/it]\u001b[A\n",
      " 75%|███████▌  | 15/20 [01:33<00:20,  4.11s/it]\u001b[A\n",
      " 80%|████████  | 16/20 [01:36<00:14,  3.66s/it]\u001b[A\n",
      " 85%|████████▌ | 17/20 [01:38<00:09,  3.23s/it]\u001b[A\n",
      " 90%|█████████ | 18/20 [01:40<00:05,  2.81s/it]\u001b[A\n",
      " 95%|█████████▌| 19/20 [01:41<00:02,  2.38s/it]\u001b[A\n",
      "100%|██████████| 20/20 [01:42<00:00,  5.14s/it]\u001b[A\n"
     ]
    },
    {
     "name": "stdout",
     "output_type": "stream",
     "text": [
      "generator loss:0.8894960685489769\n",
      "-----------------------\n"
     ]
    },
    {
     "name": "stderr",
     "output_type": "stream",
     "text": [
      "171it [5:16:17, 110.82s/it]\n",
      "  0%|          | 0/20 [00:00<?, ?it/s]\u001b[A"
     ]
    },
    {
     "name": "stdout",
     "output_type": "stream",
     "text": [
      "total discriminator loss:0.6931853120788691\n",
      "-----------------------\n",
      "Training Step: 172\n"
     ]
    },
    {
     "name": "stderr",
     "output_type": "stream",
     "text": [
      "\n",
      "  5%|▌         | 1/20 [00:09<02:56,  9.30s/it]\u001b[A\n",
      " 10%|█         | 2/20 [00:18<02:42,  9.05s/it]\u001b[A\n",
      " 15%|█▌        | 3/20 [00:26<02:31,  8.89s/it]\u001b[A\n",
      " 20%|██        | 4/20 [00:34<02:16,  8.56s/it]\u001b[A\n",
      " 25%|██▌       | 5/20 [00:42<02:04,  8.27s/it]\u001b[A\n",
      " 30%|███       | 6/20 [00:49<01:49,  7.79s/it]\u001b[A\n",
      " 35%|███▌      | 7/20 [00:56<01:37,  7.51s/it]\u001b[A\n",
      " 40%|████      | 8/20 [01:02<01:24,  7.02s/it]\u001b[A\n",
      " 45%|████▌     | 9/20 [01:08<01:14,  6.77s/it]\u001b[A\n",
      " 50%|█████     | 10/20 [01:13<01:02,  6.28s/it]\u001b[A\n",
      " 55%|█████▌    | 11/20 [01:18<00:52,  5.82s/it]\u001b[A\n",
      " 60%|██████    | 12/20 [01:23<00:45,  5.65s/it]\u001b[A\n",
      " 65%|██████▌   | 13/20 [01:27<00:35,  5.11s/it]\u001b[A\n",
      " 70%|███████   | 14/20 [01:31<00:27,  4.61s/it]\u001b[A\n",
      " 75%|███████▌  | 15/20 [01:34<00:20,  4.15s/it]\u001b[A\n",
      " 80%|████████  | 16/20 [01:36<00:14,  3.71s/it]\u001b[A\n",
      " 85%|████████▌ | 17/20 [01:39<00:09,  3.27s/it]\u001b[A\n",
      " 90%|█████████ | 18/20 [01:41<00:05,  2.84s/it]\u001b[A\n",
      " 95%|█████████▌| 19/20 [01:42<00:02,  2.42s/it]\u001b[A\n",
      "100%|██████████| 20/20 [01:43<00:00,  5.18s/it]\u001b[A\n"
     ]
    },
    {
     "name": "stdout",
     "output_type": "stream",
     "text": [
      "generator loss:0.905865364292114\n",
      "-----------------------\n"
     ]
    },
    {
     "name": "stderr",
     "output_type": "stream",
     "text": [
      "172it [5:18:09, 111.10s/it]\n",
      "  0%|          | 0/20 [00:00<?, ?it/s]\u001b[A"
     ]
    },
    {
     "name": "stdout",
     "output_type": "stream",
     "text": [
      "total discriminator loss:0.6931928796713188\n",
      "-----------------------\n",
      "Training Step: 173\n"
     ]
    },
    {
     "name": "stderr",
     "output_type": "stream",
     "text": [
      "\n",
      "  5%|▌         | 1/20 [00:09<02:57,  9.35s/it]\u001b[A\n",
      " 10%|█         | 2/20 [00:18<02:42,  9.05s/it]\u001b[A\n",
      " 15%|█▌        | 3/20 [00:26<02:30,  8.85s/it]\u001b[A\n",
      " 20%|██        | 4/20 [00:34<02:16,  8.50s/it]\u001b[A\n",
      " 25%|██▌       | 5/20 [00:42<02:02,  8.20s/it]\u001b[A\n",
      " 30%|███       | 6/20 [00:49<01:47,  7.70s/it]\u001b[A\n",
      " 35%|███▌      | 7/20 [00:56<01:36,  7.44s/it]\u001b[A\n",
      " 40%|████      | 8/20 [01:02<01:23,  6.97s/it]\u001b[A\n",
      " 45%|████▌     | 9/20 [01:08<01:14,  6.75s/it]\u001b[A\n",
      " 50%|█████     | 10/20 [01:13<01:02,  6.25s/it]\u001b[A\n",
      " 55%|█████▌    | 11/20 [01:18<00:52,  5.79s/it]\u001b[A\n",
      " 60%|██████    | 12/20 [01:23<00:44,  5.61s/it]\u001b[A\n",
      " 65%|██████▌   | 13/20 [01:27<00:35,  5.09s/it]\u001b[A\n",
      " 70%|███████   | 14/20 [01:30<00:27,  4.61s/it]\u001b[A\n",
      " 75%|███████▌  | 15/20 [01:33<00:20,  4.14s/it]\u001b[A\n",
      " 80%|████████  | 16/20 [01:36<00:14,  3.69s/it]\u001b[A\n",
      " 85%|████████▌ | 17/20 [01:38<00:09,  3.24s/it]\u001b[A\n",
      " 90%|█████████ | 18/20 [01:40<00:05,  2.81s/it]\u001b[A\n",
      " 95%|█████████▌| 19/20 [01:41<00:02,  2.39s/it]\u001b[A\n",
      "100%|██████████| 20/20 [01:42<00:00,  5.14s/it]\u001b[A\n"
     ]
    },
    {
     "name": "stdout",
     "output_type": "stream",
     "text": [
      "generator loss:0.891109284845266\n",
      "-----------------------\n"
     ]
    },
    {
     "name": "stderr",
     "output_type": "stream",
     "text": [
      "173it [5:20:00, 111.10s/it]\n",
      "  0%|          | 0/20 [00:00<?, ?it/s]\u001b[A"
     ]
    },
    {
     "name": "stdout",
     "output_type": "stream",
     "text": [
      "total discriminator loss:0.6931934482006729\n",
      "-----------------------\n",
      "Training Step: 174\n"
     ]
    },
    {
     "name": "stderr",
     "output_type": "stream",
     "text": [
      "\n",
      "  5%|▌         | 1/20 [00:09<02:56,  9.31s/it]\u001b[A\n",
      " 10%|█         | 2/20 [00:18<02:42,  9.03s/it]\u001b[A\n",
      " 15%|█▌        | 3/20 [00:26<02:29,  8.81s/it]\u001b[A\n",
      " 20%|██        | 4/20 [00:34<02:15,  8.48s/it]\u001b[A\n",
      " 25%|██▌       | 5/20 [00:42<02:02,  8.17s/it]\u001b[A\n",
      " 30%|███       | 6/20 [00:48<01:47,  7.67s/it]\u001b[A\n",
      " 35%|███▌      | 7/20 [00:55<01:36,  7.40s/it]\u001b[A\n",
      " 40%|████      | 8/20 [01:01<01:23,  6.94s/it]\u001b[A\n",
      " 45%|████▌     | 9/20 [01:07<01:13,  6.69s/it]\u001b[A\n",
      " 50%|█████     | 10/20 [01:13<01:02,  6.22s/it]\u001b[A\n",
      " 55%|█████▌    | 11/20 [01:17<00:51,  5.75s/it]\u001b[A\n",
      " 60%|██████    | 12/20 [01:22<00:44,  5.56s/it]\u001b[A\n",
      " 65%|██████▌   | 13/20 [01:26<00:35,  5.03s/it]\u001b[A\n",
      " 70%|███████   | 14/20 [01:30<00:27,  4.53s/it]\u001b[A\n",
      " 75%|███████▌  | 15/20 [01:33<00:20,  4.06s/it]\u001b[A\n",
      " 80%|████████  | 16/20 [01:35<00:14,  3.61s/it]\u001b[A\n",
      " 85%|████████▌ | 17/20 [01:37<00:09,  3.18s/it]\u001b[A\n",
      " 90%|█████████ | 18/20 [01:39<00:05,  2.76s/it]\u001b[A\n",
      " 95%|█████████▌| 19/20 [01:40<00:02,  2.35s/it]\u001b[A\n",
      "100%|██████████| 20/20 [01:41<00:00,  5.10s/it]\u001b[A\n"
     ]
    },
    {
     "name": "stdout",
     "output_type": "stream",
     "text": [
      "generator loss:0.9056596764638076\n",
      "-----------------------\n"
     ]
    },
    {
     "name": "stderr",
     "output_type": "stream",
     "text": [
      "174it [5:21:50, 110.80s/it]\n",
      "  0%|          | 0/20 [00:00<?, ?it/s]\u001b[A"
     ]
    },
    {
     "name": "stdout",
     "output_type": "stream",
     "text": [
      "total discriminator loss:0.6931903374378307\n",
      "-----------------------\n",
      "Training Step: 175\n"
     ]
    },
    {
     "name": "stderr",
     "output_type": "stream",
     "text": [
      "\n",
      "  5%|▌         | 1/20 [00:09<02:56,  9.27s/it]\u001b[A\n",
      " 10%|█         | 2/20 [00:18<02:42,  9.03s/it]\u001b[A\n",
      " 15%|█▌        | 3/20 [00:26<02:30,  8.85s/it]\u001b[A\n",
      " 20%|██        | 4/20 [00:34<02:16,  8.50s/it]\u001b[A\n",
      " 25%|██▌       | 5/20 [00:42<02:03,  8.20s/it]\u001b[A\n",
      " 30%|███       | 6/20 [00:49<01:47,  7.71s/it]\u001b[A\n",
      " 35%|███▌      | 7/20 [00:55<01:36,  7.42s/it]\u001b[A\n",
      " 40%|████      | 8/20 [01:01<01:23,  6.95s/it]\u001b[A\n",
      " 45%|████▌     | 9/20 [01:08<01:13,  6.72s/it]\u001b[A\n",
      " 50%|█████     | 10/20 [01:13<01:02,  6.25s/it]\u001b[A\n",
      " 55%|█████▌    | 11/20 [01:18<00:52,  5.79s/it]\u001b[A\n",
      " 60%|██████    | 12/20 [01:23<00:44,  5.58s/it]\u001b[A\n",
      " 65%|██████▌   | 13/20 [01:27<00:35,  5.05s/it]\u001b[A\n",
      " 70%|███████   | 14/20 [01:30<00:27,  4.56s/it]\u001b[A\n",
      " 75%|███████▌  | 15/20 [01:33<00:20,  4.11s/it]\u001b[A\n",
      " 80%|████████  | 16/20 [01:36<00:14,  3.67s/it]\u001b[A\n",
      " 85%|████████▌ | 17/20 [01:38<00:09,  3.25s/it]\u001b[A\n",
      " 90%|█████████ | 18/20 [01:40<00:05,  2.83s/it]\u001b[A\n",
      " 95%|█████████▌| 19/20 [01:41<00:02,  2.42s/it]\u001b[A\n",
      "100%|██████████| 20/20 [01:42<00:00,  5.14s/it]\u001b[A\n"
     ]
    },
    {
     "name": "stdout",
     "output_type": "stream",
     "text": [
      "generator loss:0.8911566651142785\n",
      "-----------------------\n"
     ]
    },
    {
     "name": "stderr",
     "output_type": "stream",
     "text": [
      "175it [5:23:41, 110.85s/it]\n",
      "  0%|          | 0/20 [00:00<?, ?it/s]\u001b[A"
     ]
    },
    {
     "name": "stdout",
     "output_type": "stream",
     "text": [
      "total discriminator loss:0.6931869883032054\n",
      "-----------------------\n",
      "Training Step: 176\n"
     ]
    },
    {
     "name": "stderr",
     "output_type": "stream",
     "text": [
      "\n",
      "  5%|▌         | 1/20 [00:09<02:59,  9.45s/it]\u001b[A\n",
      " 10%|█         | 2/20 [00:18<02:42,  9.05s/it]\u001b[A\n",
      " 15%|█▌        | 3/20 [00:26<02:30,  8.83s/it]\u001b[A\n",
      " 20%|██        | 4/20 [00:34<02:15,  8.49s/it]\u001b[A\n",
      " 25%|██▌       | 5/20 [00:42<02:03,  8.21s/it]\u001b[A\n",
      " 30%|███       | 6/20 [00:49<01:47,  7.69s/it]\u001b[A\n",
      " 35%|███▌      | 7/20 [00:56<01:36,  7.44s/it]\u001b[A\n",
      " 40%|████      | 8/20 [01:02<01:23,  6.99s/it]\u001b[A\n",
      " 45%|████▌     | 9/20 [01:08<01:14,  6.76s/it]\u001b[A\n",
      " 50%|█████     | 10/20 [01:13<01:02,  6.27s/it]\u001b[A\n",
      " 55%|█████▌    | 11/20 [01:18<00:52,  5.80s/it]\u001b[A\n",
      " 60%|██████    | 12/20 [01:23<00:44,  5.60s/it]\u001b[A\n",
      " 65%|██████▌   | 13/20 [01:27<00:35,  5.10s/it]\u001b[A\n",
      " 70%|███████   | 14/20 [01:30<00:27,  4.62s/it]\u001b[A\n",
      " 75%|███████▌  | 15/20 [01:33<00:20,  4.15s/it]\u001b[A\n",
      " 80%|████████  | 16/20 [01:36<00:14,  3.71s/it]\u001b[A\n",
      " 85%|████████▌ | 17/20 [01:38<00:09,  3.27s/it]\u001b[A\n",
      " 90%|█████████ | 18/20 [01:40<00:05,  2.84s/it]\u001b[A\n",
      " 95%|█████████▌| 19/20 [01:42<00:02,  2.42s/it]\u001b[A\n",
      "100%|██████████| 20/20 [01:43<00:00,  5.16s/it]\u001b[A\n"
     ]
    },
    {
     "name": "stdout",
     "output_type": "stream",
     "text": [
      "generator loss:0.9056272143432356\n",
      "-----------------------\n"
     ]
    },
    {
     "name": "stderr",
     "output_type": "stream",
     "text": [
      "176it [5:25:32, 111.01s/it]\n",
      "  0%|          | 0/20 [00:00<?, ?it/s]\u001b[A"
     ]
    },
    {
     "name": "stdout",
     "output_type": "stream",
     "text": [
      "total discriminator loss:0.6931849016995558\n",
      "-----------------------\n",
      "Training Step: 177\n"
     ]
    },
    {
     "name": "stderr",
     "output_type": "stream",
     "text": [
      "\n",
      "  5%|▌         | 1/20 [00:09<02:59,  9.42s/it]\u001b[A\n",
      " 10%|█         | 2/20 [00:18<02:43,  9.10s/it]\u001b[A\n",
      " 15%|█▌        | 3/20 [00:26<02:30,  8.87s/it]\u001b[A\n",
      " 20%|██        | 4/20 [00:34<02:17,  8.57s/it]\u001b[A\n",
      " 25%|██▌       | 5/20 [00:42<02:03,  8.22s/it]\u001b[A\n",
      " 30%|███       | 6/20 [00:49<01:47,  7.70s/it]\u001b[A\n",
      " 35%|███▌      | 7/20 [00:56<01:36,  7.44s/it]\u001b[A\n",
      " 40%|████      | 8/20 [01:02<01:23,  6.97s/it]\u001b[A\n",
      " 45%|████▌     | 9/20 [01:08<01:14,  6.76s/it]\u001b[A\n",
      " 50%|█████     | 10/20 [01:13<01:03,  6.30s/it]\u001b[A\n",
      " 55%|█████▌    | 11/20 [01:18<00:52,  5.85s/it]\u001b[A\n",
      " 60%|██████    | 12/20 [01:23<00:45,  5.65s/it]\u001b[A\n",
      " 65%|██████▌   | 13/20 [01:27<00:35,  5.12s/it]\u001b[A\n",
      " 70%|███████   | 14/20 [01:31<00:27,  4.64s/it]\u001b[A\n",
      " 75%|███████▌  | 15/20 [01:34<00:20,  4.17s/it]\u001b[A\n",
      " 80%|████████  | 16/20 [01:36<00:14,  3.72s/it]\u001b[A\n",
      " 85%|████████▌ | 17/20 [01:39<00:09,  3.28s/it]\u001b[A\n",
      " 90%|█████████ | 18/20 [01:41<00:05,  2.86s/it]\u001b[A\n",
      " 95%|█████████▌| 19/20 [01:42<00:02,  2.44s/it]\u001b[A\n",
      "100%|██████████| 20/20 [01:43<00:00,  5.18s/it]\u001b[A\n"
     ]
    },
    {
     "name": "stdout",
     "output_type": "stream",
     "text": [
      "generator loss:0.8907543616030349\n",
      "-----------------------\n"
     ]
    },
    {
     "name": "stderr",
     "output_type": "stream",
     "text": [
      "177it [5:27:24, 111.27s/it]\n",
      "  0%|          | 0/20 [00:00<?, ?it/s]\u001b[A"
     ]
    },
    {
     "name": "stdout",
     "output_type": "stream",
     "text": [
      "total discriminator loss:0.6931867355473755\n",
      "-----------------------\n",
      "Training Step: 178\n"
     ]
    },
    {
     "name": "stderr",
     "output_type": "stream",
     "text": [
      "\n",
      "  5%|▌         | 1/20 [00:09<03:00,  9.51s/it]\u001b[A\n",
      " 10%|█         | 2/20 [00:18<02:45,  9.21s/it]\u001b[A\n",
      " 15%|█▌        | 3/20 [00:27<02:32,  8.95s/it]\u001b[A\n",
      " 20%|██        | 4/20 [00:35<02:17,  8.61s/it]\u001b[A\n",
      " 25%|██▌       | 5/20 [00:42<02:04,  8.29s/it]\u001b[A\n",
      " 30%|███       | 6/20 [00:49<01:49,  7.79s/it]\u001b[A\n",
      " 35%|███▌      | 7/20 [00:56<01:37,  7.51s/it]\u001b[A\n",
      " 40%|████      | 8/20 [01:02<01:24,  7.02s/it]\u001b[A\n",
      " 45%|████▌     | 9/20 [01:08<01:14,  6.77s/it]\u001b[A\n",
      " 50%|█████     | 10/20 [01:14<01:02,  6.26s/it]\u001b[A\n",
      " 55%|█████▌    | 11/20 [01:18<00:52,  5.79s/it]\u001b[A\n",
      " 60%|██████    | 12/20 [01:23<00:44,  5.58s/it]\u001b[A\n",
      " 65%|██████▌   | 13/20 [01:27<00:35,  5.04s/it]\u001b[A\n",
      " 70%|███████   | 14/20 [01:31<00:27,  4.56s/it]\u001b[A\n",
      " 75%|███████▌  | 15/20 [01:34<00:20,  4.12s/it]\u001b[A\n",
      " 80%|████████  | 16/20 [01:36<00:14,  3.67s/it]\u001b[A\n",
      " 85%|████████▌ | 17/20 [01:39<00:09,  3.23s/it]\u001b[A\n",
      " 90%|█████████ | 18/20 [01:40<00:05,  2.81s/it]\u001b[A\n",
      " 95%|█████████▌| 19/20 [01:42<00:02,  2.38s/it]\u001b[A\n",
      "100%|██████████| 20/20 [01:43<00:00,  5.16s/it]\u001b[A\n"
     ]
    },
    {
     "name": "stdout",
     "output_type": "stream",
     "text": [
      "generator loss:0.9049425200320051\n",
      "-----------------------\n"
     ]
    },
    {
     "name": "stderr",
     "output_type": "stream",
     "text": [
      "178it [5:29:16, 111.32s/it]\n",
      "  0%|          | 0/20 [00:00<?, ?it/s]\u001b[A"
     ]
    },
    {
     "name": "stdout",
     "output_type": "stream",
     "text": [
      "total discriminator loss:0.6931843402915279\n",
      "-----------------------\n",
      "Training Step: 179\n"
     ]
    },
    {
     "name": "stderr",
     "output_type": "stream",
     "text": [
      "\n",
      "  5%|▌         | 1/20 [00:09<02:57,  9.36s/it]\u001b[A\n",
      " 10%|█         | 2/20 [00:18<02:42,  9.04s/it]\u001b[A\n",
      " 15%|█▌        | 3/20 [00:26<02:29,  8.80s/it]\u001b[A\n",
      " 20%|██        | 4/20 [00:34<02:16,  8.52s/it]\u001b[A\n",
      " 25%|██▌       | 5/20 [00:42<02:02,  8.20s/it]\u001b[A\n",
      " 30%|███       | 6/20 [00:49<01:47,  7.68s/it]\u001b[A\n",
      " 35%|███▌      | 7/20 [00:55<01:36,  7.42s/it]\u001b[A\n",
      " 40%|████      | 8/20 [01:01<01:23,  6.96s/it]\u001b[A\n",
      " 45%|████▌     | 9/20 [01:08<01:13,  6.71s/it]\u001b[A\n",
      " 50%|█████     | 10/20 [01:13<01:02,  6.23s/it]\u001b[A\n",
      " 55%|█████▌    | 11/20 [01:17<00:51,  5.77s/it]\u001b[A\n",
      " 60%|██████    | 12/20 [01:23<00:44,  5.58s/it]\u001b[A\n",
      " 65%|██████▌   | 13/20 [01:26<00:35,  5.06s/it]\u001b[A\n",
      " 70%|███████   | 14/20 [01:30<00:27,  4.58s/it]\u001b[A\n",
      " 75%|███████▌  | 15/20 [01:33<00:20,  4.13s/it]\u001b[A\n",
      " 80%|████████  | 16/20 [01:36<00:14,  3.69s/it]\u001b[A\n",
      " 85%|████████▌ | 17/20 [01:38<00:09,  3.26s/it]\u001b[A\n",
      " 90%|█████████ | 18/20 [01:40<00:05,  2.82s/it]\u001b[A\n",
      " 95%|█████████▌| 19/20 [01:41<00:02,  2.40s/it]\u001b[A\n",
      "100%|██████████| 20/20 [01:42<00:00,  5.13s/it]\u001b[A\n"
     ]
    },
    {
     "name": "stdout",
     "output_type": "stream",
     "text": [
      "generator loss:0.888966553502468\n",
      "-----------------------\n"
     ]
    },
    {
     "name": "stderr",
     "output_type": "stream",
     "text": [
      "179it [5:31:07, 111.18s/it]\n",
      "  0%|          | 0/20 [00:00<?, ?it/s]\u001b[A"
     ]
    },
    {
     "name": "stdout",
     "output_type": "stream",
     "text": [
      "total discriminator loss:0.6931878022357898\n",
      "-----------------------\n",
      "Training Step: 180\n"
     ]
    },
    {
     "name": "stderr",
     "output_type": "stream",
     "text": [
      "\n",
      "  5%|▌         | 1/20 [00:09<02:57,  9.35s/it]\u001b[A\n",
      " 10%|█         | 2/20 [00:18<02:43,  9.08s/it]\u001b[A\n",
      " 15%|█▌        | 3/20 [00:26<02:30,  8.84s/it]\u001b[A\n",
      " 20%|██        | 4/20 [00:34<02:16,  8.50s/it]\u001b[A\n",
      " 25%|██▌       | 5/20 [00:42<02:03,  8.21s/it]\u001b[A\n",
      " 30%|███       | 6/20 [00:49<01:47,  7.69s/it]\u001b[A\n",
      " 35%|███▌      | 7/20 [00:56<01:36,  7.42s/it]\u001b[A\n",
      " 40%|████      | 8/20 [01:01<01:23,  6.96s/it]\u001b[A\n",
      " 45%|████▌     | 9/20 [01:08<01:13,  6.70s/it]\u001b[A\n",
      " 50%|█████     | 10/20 [01:13<01:02,  6.23s/it]\u001b[A\n",
      " 55%|█████▌    | 11/20 [01:18<00:52,  5.80s/it]\u001b[A\n",
      " 60%|██████    | 12/20 [01:23<00:44,  5.61s/it]\u001b[A\n",
      " 65%|██████▌   | 13/20 [01:27<00:35,  5.08s/it]\u001b[A\n",
      " 70%|███████   | 14/20 [01:30<00:27,  4.59s/it]\u001b[A\n",
      " 75%|███████▌  | 15/20 [01:33<00:20,  4.13s/it]\u001b[A\n",
      " 80%|████████  | 16/20 [01:36<00:14,  3.68s/it]\u001b[A\n",
      " 85%|████████▌ | 17/20 [01:38<00:09,  3.23s/it]\u001b[A\n",
      " 90%|█████████ | 18/20 [01:40<00:05,  2.81s/it]\u001b[A\n",
      " 95%|█████████▌| 19/20 [01:41<00:02,  2.40s/it]\u001b[A\n",
      "100%|██████████| 20/20 [01:42<00:00,  5.14s/it]\u001b[A\n"
     ]
    },
    {
     "name": "stdout",
     "output_type": "stream",
     "text": [
      "generator loss:0.9058549524729699\n",
      "-----------------------\n"
     ]
    },
    {
     "name": "stderr",
     "output_type": "stream",
     "text": [
      "180it [5:32:58, 111.11s/it]\n",
      "  0%|          | 0/20 [00:00<?, ?it/s]\u001b[A"
     ]
    },
    {
     "name": "stdout",
     "output_type": "stream",
     "text": [
      "total discriminator loss:0.6931859671450868\n",
      "-----------------------\n",
      "Training Step: 181\n"
     ]
    },
    {
     "name": "stderr",
     "output_type": "stream",
     "text": [
      "\n",
      "  5%|▌         | 1/20 [00:09<02:59,  9.47s/it]\u001b[A\n",
      " 10%|█         | 2/20 [00:18<02:43,  9.08s/it]\u001b[A\n",
      " 15%|█▌        | 3/20 [00:26<02:30,  8.84s/it]\u001b[A\n",
      " 20%|██        | 4/20 [00:34<02:15,  8.47s/it]\u001b[A\n",
      " 25%|██▌       | 5/20 [00:42<02:02,  8.16s/it]\u001b[A\n",
      " 30%|███       | 6/20 [00:49<01:47,  7.66s/it]\u001b[A\n",
      " 35%|███▌      | 7/20 [00:55<01:36,  7.42s/it]\u001b[A\n",
      " 40%|████      | 8/20 [01:01<01:23,  6.95s/it]\u001b[A\n",
      " 45%|████▌     | 9/20 [01:08<01:13,  6.72s/it]\u001b[A\n",
      " 50%|█████     | 10/20 [01:13<01:02,  6.28s/it]\u001b[A\n",
      " 55%|█████▌    | 11/20 [01:18<00:52,  5.80s/it]\u001b[A\n",
      " 60%|██████    | 12/20 [01:23<00:44,  5.60s/it]\u001b[A\n",
      " 65%|██████▌   | 13/20 [01:27<00:35,  5.07s/it]\u001b[A\n",
      " 70%|███████   | 14/20 [01:30<00:27,  4.57s/it]\u001b[A\n",
      " 75%|███████▌  | 15/20 [01:33<00:20,  4.11s/it]\u001b[A\n",
      " 80%|████████  | 16/20 [01:36<00:14,  3.68s/it]\u001b[A\n",
      " 85%|████████▌ | 17/20 [01:38<00:09,  3.23s/it]\u001b[A\n",
      " 90%|█████████ | 18/20 [01:40<00:05,  2.80s/it]\u001b[A\n",
      " 95%|█████████▌| 19/20 [01:41<00:02,  2.38s/it]\u001b[A\n",
      "100%|██████████| 20/20 [01:42<00:00,  5.13s/it]\u001b[A\n"
     ]
    },
    {
     "name": "stdout",
     "output_type": "stream",
     "text": [
      "generator loss:0.8913872175236317\n",
      "-----------------------\n"
     ]
    },
    {
     "name": "stderr",
     "output_type": "stream",
     "text": [
      "181it [5:34:48, 111.01s/it]\n",
      "  0%|          | 0/20 [00:00<?, ?it/s]\u001b[A"
     ]
    },
    {
     "name": "stdout",
     "output_type": "stream",
     "text": [
      "total discriminator loss:0.6931863726341913\n",
      "-----------------------\n",
      "Training Step: 182\n"
     ]
    },
    {
     "name": "stderr",
     "output_type": "stream",
     "text": [
      "\n",
      "  5%|▌         | 1/20 [00:09<02:56,  9.26s/it]\u001b[A\n",
      " 10%|█         | 2/20 [00:17<02:41,  8.95s/it]\u001b[A\n",
      " 15%|█▌        | 3/20 [00:26<02:28,  8.72s/it]\u001b[A\n",
      " 20%|██        | 4/20 [00:34<02:14,  8.43s/it]\u001b[A\n",
      " 25%|██▌       | 5/20 [00:42<02:02,  8.17s/it]\u001b[A\n",
      " 30%|███       | 6/20 [00:48<01:47,  7.67s/it]\u001b[A\n",
      " 35%|███▌      | 7/20 [00:55<01:36,  7.42s/it]\u001b[A\n",
      " 40%|████      | 8/20 [01:01<01:23,  6.97s/it]\u001b[A\n",
      " 45%|████▌     | 9/20 [01:07<01:13,  6.71s/it]\u001b[A\n",
      " 50%|█████     | 10/20 [01:13<01:02,  6.22s/it]\u001b[A\n",
      " 55%|█████▌    | 11/20 [01:17<00:51,  5.76s/it]\u001b[A\n",
      " 60%|██████    | 12/20 [01:22<00:44,  5.59s/it]\u001b[A\n",
      " 65%|██████▌   | 13/20 [01:26<00:35,  5.07s/it]\u001b[A\n",
      " 70%|███████   | 14/20 [01:30<00:27,  4.58s/it]\u001b[A\n",
      " 75%|███████▌  | 15/20 [01:33<00:20,  4.11s/it]\u001b[A\n",
      " 80%|████████  | 16/20 [01:35<00:14,  3.66s/it]\u001b[A\n",
      " 85%|████████▌ | 17/20 [01:38<00:09,  3.23s/it]\u001b[A\n",
      " 90%|█████████ | 18/20 [01:39<00:05,  2.79s/it]\u001b[A\n",
      " 95%|█████████▌| 19/20 [01:41<00:02,  2.37s/it]\u001b[A\n",
      "100%|██████████| 20/20 [01:42<00:00,  5.11s/it]\u001b[A\n"
     ]
    },
    {
     "name": "stdout",
     "output_type": "stream",
     "text": [
      "generator loss:0.9055243915013982\n",
      "-----------------------\n"
     ]
    },
    {
     "name": "stderr",
     "output_type": "stream",
     "text": [
      "182it [5:36:39, 110.82s/it]\n",
      "  0%|          | 0/20 [00:00<?, ?it/s]\u001b[A"
     ]
    },
    {
     "name": "stdout",
     "output_type": "stream",
     "text": [
      "total discriminator loss:0.6931909633705143\n",
      "-----------------------\n",
      "Training Step: 183\n"
     ]
    },
    {
     "name": "stderr",
     "output_type": "stream",
     "text": [
      "\n",
      "  5%|▌         | 1/20 [00:09<02:57,  9.34s/it]\u001b[A\n",
      " 10%|█         | 2/20 [00:18<02:41,  8.96s/it]\u001b[A\n",
      " 15%|█▌        | 3/20 [00:26<02:28,  8.72s/it]\u001b[A\n",
      " 20%|██        | 4/20 [00:34<02:14,  8.41s/it]\u001b[A\n",
      " 25%|██▌       | 5/20 [00:41<02:01,  8.08s/it]\u001b[A\n",
      " 30%|███       | 6/20 [00:48<01:46,  7.62s/it]\u001b[A\n",
      " 35%|███▌      | 7/20 [00:55<01:35,  7.37s/it]\u001b[A\n",
      " 40%|████      | 8/20 [01:01<01:22,  6.91s/it]\u001b[A\n",
      " 45%|████▌     | 9/20 [01:07<01:13,  6.69s/it]\u001b[A\n",
      " 50%|█████     | 10/20 [01:12<01:01,  6.19s/it]\u001b[A\n",
      " 55%|█████▌    | 11/20 [01:17<00:51,  5.73s/it]\u001b[A\n",
      " 60%|██████    | 12/20 [01:22<00:44,  5.54s/it]\u001b[A\n",
      " 65%|██████▌   | 13/20 [01:26<00:35,  5.01s/it]\u001b[A\n",
      " 70%|███████   | 14/20 [01:29<00:27,  4.53s/it]\u001b[A\n",
      " 75%|███████▌  | 15/20 [01:32<00:20,  4.08s/it]\u001b[A\n",
      " 80%|████████  | 16/20 [01:35<00:14,  3.63s/it]\u001b[A\n",
      " 85%|████████▌ | 17/20 [01:37<00:09,  3.20s/it]\u001b[A\n",
      " 90%|█████████ | 18/20 [01:39<00:05,  2.78s/it]\u001b[A\n",
      " 95%|█████████▌| 19/20 [01:40<00:02,  2.36s/it]\u001b[A\n",
      "100%|██████████| 20/20 [01:41<00:00,  5.09s/it]\u001b[A\n"
     ]
    },
    {
     "name": "stdout",
     "output_type": "stream",
     "text": [
      "generator loss:0.8894298875614008\n",
      "-----------------------\n"
     ]
    },
    {
     "name": "stderr",
     "output_type": "stream",
     "text": [
      "183it [5:38:29, 110.52s/it]\n",
      "  0%|          | 0/20 [00:00<?, ?it/s]\u001b[A"
     ]
    },
    {
     "name": "stdout",
     "output_type": "stream",
     "text": [
      "total discriminator loss:0.6931850613641721\n",
      "-----------------------\n",
      "Training Step: 184\n"
     ]
    },
    {
     "name": "stderr",
     "output_type": "stream",
     "text": [
      "\n",
      "  5%|▌         | 1/20 [00:09<02:55,  9.26s/it]\u001b[A\n",
      " 10%|█         | 2/20 [00:18<02:41,  8.96s/it]\u001b[A\n",
      " 15%|█▌        | 3/20 [00:26<02:28,  8.74s/it]\u001b[A\n",
      " 20%|██        | 4/20 [00:34<02:14,  8.43s/it]\u001b[A\n",
      " 25%|██▌       | 5/20 [00:42<02:01,  8.12s/it]\u001b[A\n",
      " 30%|███       | 6/20 [00:48<01:46,  7.61s/it]\u001b[A\n",
      " 35%|███▌      | 7/20 [00:55<01:35,  7.36s/it]\u001b[A\n",
      " 40%|████      | 8/20 [01:01<01:22,  6.89s/it]\u001b[A\n",
      " 45%|████▌     | 9/20 [01:07<01:13,  6.66s/it]\u001b[A\n",
      " 50%|█████     | 10/20 [01:12<01:01,  6.18s/it]\u001b[A\n",
      " 55%|█████▌    | 11/20 [01:17<00:51,  5.73s/it]\u001b[A\n",
      " 60%|██████    | 12/20 [01:22<00:44,  5.55s/it]\u001b[A\n",
      " 65%|██████▌   | 13/20 [01:26<00:35,  5.04s/it]\u001b[A\n",
      " 70%|███████   | 14/20 [01:29<00:27,  4.56s/it]\u001b[A\n",
      " 75%|███████▌  | 15/20 [01:32<00:20,  4.10s/it]\u001b[A\n",
      " 80%|████████  | 16/20 [01:35<00:14,  3.64s/it]\u001b[A\n",
      " 85%|████████▌ | 17/20 [01:37<00:09,  3.21s/it]\u001b[A\n",
      " 90%|█████████ | 18/20 [01:39<00:05,  2.79s/it]\u001b[A\n",
      " 95%|█████████▌| 19/20 [01:40<00:02,  2.37s/it]\u001b[A\n",
      "100%|██████████| 20/20 [01:41<00:00,  5.09s/it]\u001b[A\n"
     ]
    },
    {
     "name": "stdout",
     "output_type": "stream",
     "text": [
      "generator loss:0.9054745287489541\n",
      "-----------------------\n"
     ]
    },
    {
     "name": "stderr",
     "output_type": "stream",
     "text": [
      "184it [5:40:18, 110.33s/it]\n",
      "  0%|          | 0/20 [00:00<?, ?it/s]\u001b[A"
     ]
    },
    {
     "name": "stdout",
     "output_type": "stream",
     "text": [
      "total discriminator loss:0.6931849823003443\n",
      "-----------------------\n",
      "Training Step: 185\n"
     ]
    },
    {
     "name": "stderr",
     "output_type": "stream",
     "text": [
      "\n",
      "  5%|▌         | 1/20 [00:09<02:54,  9.18s/it]\u001b[A\n",
      " 10%|█         | 2/20 [00:17<02:41,  8.95s/it]\u001b[A\n",
      " 15%|█▌        | 3/20 [00:26<02:28,  8.75s/it]\u001b[A\n",
      " 20%|██        | 4/20 [00:34<02:15,  8.46s/it]\u001b[A\n",
      " 25%|██▌       | 5/20 [00:42<02:02,  8.17s/it]\u001b[A\n",
      " 30%|███       | 6/20 [00:48<01:47,  7.69s/it]\u001b[A\n",
      " 35%|███▌      | 7/20 [00:55<01:36,  7.45s/it]\u001b[A\n",
      " 40%|████      | 8/20 [01:01<01:23,  6.96s/it]\u001b[A\n",
      " 45%|████▌     | 9/20 [01:07<01:13,  6.70s/it]\u001b[A\n",
      " 50%|█████     | 10/20 [01:12<01:02,  6.20s/it]\u001b[A\n",
      " 55%|█████▌    | 11/20 [01:17<00:51,  5.73s/it]\u001b[A\n",
      " 60%|██████    | 12/20 [01:22<00:44,  5.53s/it]\u001b[A\n",
      " 65%|██████▌   | 13/20 [01:26<00:35,  5.00s/it]\u001b[A\n",
      " 70%|███████   | 14/20 [01:29<00:27,  4.52s/it]\u001b[A\n",
      " 75%|███████▌  | 15/20 [01:32<00:20,  4.05s/it]\u001b[A\n",
      " 80%|████████  | 16/20 [01:35<00:14,  3.61s/it]\u001b[A\n",
      " 85%|████████▌ | 17/20 [01:37<00:09,  3.18s/it]\u001b[A\n",
      " 90%|█████████ | 18/20 [01:39<00:05,  2.75s/it]\u001b[A\n",
      " 95%|█████████▌| 19/20 [01:40<00:02,  2.34s/it]\u001b[A\n",
      "100%|██████████| 20/20 [01:41<00:00,  5.09s/it]\u001b[A\n"
     ]
    },
    {
     "name": "stdout",
     "output_type": "stream",
     "text": [
      "generator loss:0.8907852271205691\n",
      "-----------------------\n"
     ]
    },
    {
     "name": "stderr",
     "output_type": "stream",
     "text": [
      "185it [5:42:08, 110.17s/it]\n",
      "  0%|          | 0/20 [00:00<?, ?it/s]\u001b[A"
     ]
    },
    {
     "name": "stdout",
     "output_type": "stream",
     "text": [
      "total discriminator loss:0.6931906530008338\n",
      "-----------------------\n",
      "Training Step: 186\n"
     ]
    },
    {
     "name": "stderr",
     "output_type": "stream",
     "text": [
      "\n",
      "  5%|▌         | 1/20 [00:09<02:54,  9.21s/it]\u001b[A\n",
      " 10%|█         | 2/20 [00:17<02:40,  8.92s/it]\u001b[A\n",
      " 15%|█▌        | 3/20 [00:26<02:27,  8.69s/it]\u001b[A\n",
      " 20%|██        | 4/20 [00:34<02:13,  8.37s/it]\u001b[A\n",
      " 25%|██▌       | 5/20 [00:41<02:01,  8.08s/it]\u001b[A\n",
      " 30%|███       | 6/20 [00:48<01:46,  7.59s/it]\u001b[A\n",
      " 35%|███▌      | 7/20 [00:55<01:35,  7.34s/it]\u001b[A\n",
      " 40%|████      | 8/20 [01:01<01:22,  6.91s/it]\u001b[A\n",
      " 45%|████▌     | 9/20 [01:07<01:13,  6.67s/it]\u001b[A\n",
      " 50%|█████     | 10/20 [01:12<01:01,  6.19s/it]\u001b[A\n",
      " 55%|█████▌    | 11/20 [01:17<00:51,  5.73s/it]\u001b[A\n",
      " 60%|██████    | 12/20 [01:22<00:44,  5.57s/it]\u001b[A\n",
      " 65%|██████▌   | 13/20 [01:26<00:35,  5.05s/it]\u001b[A\n",
      " 70%|███████   | 14/20 [01:29<00:27,  4.55s/it]\u001b[A\n",
      " 75%|███████▌  | 15/20 [01:32<00:20,  4.11s/it]\u001b[A\n",
      " 80%|████████  | 16/20 [01:35<00:14,  3.66s/it]\u001b[A\n",
      " 85%|████████▌ | 17/20 [01:37<00:09,  3.22s/it]\u001b[A\n",
      " 90%|█████████ | 18/20 [01:39<00:05,  2.79s/it]\u001b[A\n",
      " 95%|█████████▌| 19/20 [01:40<00:02,  2.37s/it]\u001b[A\n",
      "100%|██████████| 20/20 [01:41<00:00,  5.09s/it]\u001b[A\n"
     ]
    },
    {
     "name": "stdout",
     "output_type": "stream",
     "text": [
      "generator loss:0.905653105770605\n",
      "-----------------------\n"
     ]
    },
    {
     "name": "stderr",
     "output_type": "stream",
     "text": [
      "186it [5:43:58, 110.06s/it]\n",
      "  0%|          | 0/20 [00:00<?, ?it/s]\u001b[A"
     ]
    },
    {
     "name": "stdout",
     "output_type": "stream",
     "text": [
      "total discriminator loss:0.6931880016870191\n",
      "-----------------------\n",
      "Training Step: 187\n"
     ]
    },
    {
     "name": "stderr",
     "output_type": "stream",
     "text": [
      "\n",
      "  5%|▌         | 1/20 [00:09<02:55,  9.22s/it]\u001b[A\n",
      " 10%|█         | 2/20 [00:17<02:40,  8.89s/it]\u001b[A\n",
      " 15%|█▌        | 3/20 [00:26<02:27,  8.70s/it]\u001b[A\n",
      " 20%|██        | 4/20 [00:34<02:14,  8.42s/it]\u001b[A\n",
      " 25%|██▌       | 5/20 [00:41<02:01,  8.12s/it]\u001b[A\n",
      " 30%|███       | 6/20 [00:48<01:46,  7.64s/it]\u001b[A\n",
      " 35%|███▌      | 7/20 [00:55<01:35,  7.37s/it]\u001b[A\n",
      " 40%|████      | 8/20 [01:01<01:22,  6.90s/it]\u001b[A\n",
      " 45%|████▌     | 9/20 [01:07<01:13,  6.67s/it]\u001b[A\n",
      " 50%|█████     | 10/20 [01:12<01:01,  6.18s/it]\u001b[A\n",
      " 55%|█████▌    | 11/20 [01:17<00:51,  5.72s/it]\u001b[A\n",
      " 60%|██████    | 12/20 [01:22<00:44,  5.54s/it]\u001b[A\n",
      " 65%|██████▌   | 13/20 [01:26<00:35,  5.01s/it]\u001b[A\n",
      " 70%|███████   | 14/20 [01:29<00:27,  4.53s/it]\u001b[A\n",
      " 75%|███████▌  | 15/20 [01:32<00:20,  4.05s/it]\u001b[A\n",
      " 80%|████████  | 16/20 [01:35<00:14,  3.62s/it]\u001b[A\n",
      " 85%|████████▌ | 17/20 [01:37<00:09,  3.21s/it]\u001b[A\n",
      " 90%|█████████ | 18/20 [01:39<00:05,  2.77s/it]\u001b[A\n",
      " 95%|█████████▌| 19/20 [01:40<00:02,  2.36s/it]\u001b[A\n",
      "100%|██████████| 20/20 [01:41<00:00,  5.08s/it]\u001b[A\n"
     ]
    },
    {
     "name": "stdout",
     "output_type": "stream",
     "text": [
      "generator loss:0.891121127840902\n",
      "-----------------------\n"
     ]
    },
    {
     "name": "stderr",
     "output_type": "stream",
     "text": [
      "187it [5:45:48, 109.96s/it]\n",
      "  0%|          | 0/20 [00:00<?, ?it/s]\u001b[A"
     ]
    },
    {
     "name": "stdout",
     "output_type": "stream",
     "text": [
      "total discriminator loss:0.6931902689823182\n",
      "-----------------------\n",
      "Training Step: 188\n"
     ]
    },
    {
     "name": "stderr",
     "output_type": "stream",
     "text": [
      "\n",
      "  5%|▌         | 1/20 [00:09<02:56,  9.29s/it]\u001b[A\n",
      " 10%|█         | 2/20 [00:18<02:42,  9.03s/it]\u001b[A\n",
      " 15%|█▌        | 3/20 [00:26<02:29,  8.81s/it]\u001b[A\n",
      " 20%|██        | 4/20 [00:34<02:15,  8.49s/it]\u001b[A\n",
      " 25%|██▌       | 5/20 [00:42<02:02,  8.19s/it]\u001b[A\n",
      " 30%|███       | 6/20 [00:49<01:47,  7.70s/it]\u001b[A\n",
      " 35%|███▌      | 7/20 [00:55<01:36,  7.43s/it]\u001b[A\n",
      " 40%|████      | 8/20 [01:01<01:23,  6.98s/it]\u001b[A\n",
      " 45%|████▌     | 9/20 [01:08<01:14,  6.74s/it]\u001b[A\n",
      " 50%|█████     | 10/20 [01:13<01:02,  6.26s/it]\u001b[A\n",
      " 55%|█████▌    | 11/20 [01:18<00:52,  5.79s/it]\u001b[A\n",
      " 60%|██████    | 12/20 [01:23<00:44,  5.59s/it]\u001b[A\n",
      " 65%|██████▌   | 13/20 [01:27<00:35,  5.06s/it]\u001b[A\n",
      " 70%|███████   | 14/20 [01:30<00:27,  4.57s/it]\u001b[A\n",
      " 75%|███████▌  | 15/20 [01:33<00:20,  4.10s/it]\u001b[A\n",
      " 80%|████████  | 16/20 [01:36<00:14,  3.65s/it]\u001b[A\n",
      " 85%|████████▌ | 17/20 [01:38<00:09,  3.21s/it]\u001b[A\n",
      " 90%|█████████ | 18/20 [01:40<00:05,  2.78s/it]\u001b[A\n",
      " 95%|█████████▌| 19/20 [01:41<00:02,  2.36s/it]\u001b[A\n",
      "100%|██████████| 20/20 [01:42<00:00,  5.12s/it]\u001b[A\n"
     ]
    },
    {
     "name": "stdout",
     "output_type": "stream",
     "text": [
      "generator loss:0.9048330574858404\n",
      "-----------------------\n"
     ]
    },
    {
     "name": "stderr",
     "output_type": "stream",
     "text": [
      "188it [5:47:38, 110.13s/it]\n",
      "  0%|          | 0/20 [00:00<?, ?it/s]\u001b[A"
     ]
    },
    {
     "name": "stdout",
     "output_type": "stream",
     "text": [
      "total discriminator loss:0.6931846195731919\n",
      "-----------------------\n",
      "Training Step: 189\n"
     ]
    },
    {
     "name": "stderr",
     "output_type": "stream",
     "text": [
      "\n",
      "  5%|▌         | 1/20 [00:09<02:56,  9.32s/it]\u001b[A\n",
      " 10%|█         | 2/20 [00:18<02:42,  9.01s/it]\u001b[A\n",
      " 15%|█▌        | 3/20 [00:26<02:29,  8.78s/it]\u001b[A\n",
      " 20%|██        | 4/20 [00:34<02:15,  8.47s/it]\u001b[A\n",
      " 25%|██▌       | 5/20 [00:42<02:02,  8.16s/it]\u001b[A\n",
      " 30%|███       | 6/20 [00:48<01:46,  7.64s/it]\u001b[A\n",
      " 35%|███▌      | 7/20 [00:55<01:35,  7.36s/it]\u001b[A\n",
      " 40%|████      | 8/20 [01:01<01:22,  6.88s/it]\u001b[A\n",
      " 45%|████▌     | 9/20 [01:07<01:12,  6.63s/it]\u001b[A\n",
      " 50%|█████     | 10/20 [01:12<01:01,  6.17s/it]\u001b[A\n",
      " 55%|█████▌    | 11/20 [01:17<00:51,  5.70s/it]\u001b[A\n",
      " 60%|██████    | 12/20 [01:22<00:44,  5.52s/it]\u001b[A\n",
      " 65%|██████▌   | 13/20 [01:26<00:35,  5.02s/it]\u001b[A\n",
      " 70%|███████   | 14/20 [01:29<00:27,  4.55s/it]\u001b[A\n",
      " 75%|███████▌  | 15/20 [01:32<00:20,  4.10s/it]\u001b[A\n",
      " 80%|████████  | 16/20 [01:35<00:14,  3.64s/it]\u001b[A\n",
      " 85%|████████▌ | 17/20 [01:37<00:09,  3.22s/it]\u001b[A\n",
      " 90%|█████████ | 18/20 [01:39<00:05,  2.80s/it]\u001b[A\n",
      " 95%|█████████▌| 19/20 [01:40<00:02,  2.38s/it]\u001b[A\n",
      "100%|██████████| 20/20 [01:41<00:00,  5.09s/it]\u001b[A\n"
     ]
    },
    {
     "name": "stdout",
     "output_type": "stream",
     "text": [
      "generator loss:0.8914665858514436\n",
      "-----------------------\n"
     ]
    },
    {
     "name": "stderr",
     "output_type": "stream",
     "text": [
      "189it [5:49:28, 110.08s/it]\n",
      "  0%|          | 0/20 [00:00<?, ?it/s]\u001b[A"
     ]
    },
    {
     "name": "stdout",
     "output_type": "stream",
     "text": [
      "total discriminator loss:0.6931841380587899\n",
      "-----------------------\n",
      "Training Step: 190\n"
     ]
    },
    {
     "name": "stderr",
     "output_type": "stream",
     "text": [
      "\n",
      "  5%|▌         | 1/20 [00:09<02:56,  9.27s/it]\u001b[A\n",
      " 10%|█         | 2/20 [00:18<02:42,  9.04s/it]\u001b[A\n",
      " 15%|█▌        | 3/20 [00:26<02:29,  8.82s/it]\u001b[A\n",
      " 20%|██        | 4/20 [00:34<02:15,  8.48s/it]\u001b[A\n",
      " 25%|██▌       | 5/20 [00:42<02:02,  8.14s/it]\u001b[A\n",
      " 30%|███       | 6/20 [00:48<01:46,  7.63s/it]\u001b[A\n",
      " 35%|███▌      | 7/20 [00:55<01:35,  7.36s/it]\u001b[A\n",
      " 40%|████      | 8/20 [01:01<01:22,  6.90s/it]\u001b[A\n",
      " 45%|████▌     | 9/20 [01:07<01:13,  6.65s/it]\u001b[A\n",
      " 50%|█████     | 10/20 [01:12<01:01,  6.15s/it]\u001b[A\n",
      " 55%|█████▌    | 11/20 [01:17<00:51,  5.69s/it]\u001b[A\n",
      " 60%|██████    | 12/20 [01:22<00:44,  5.52s/it]\u001b[A\n",
      " 65%|██████▌   | 13/20 [01:26<00:34,  5.00s/it]\u001b[A\n",
      " 70%|███████   | 14/20 [01:29<00:27,  4.53s/it]\u001b[A\n",
      " 75%|███████▌  | 15/20 [01:32<00:20,  4.07s/it]\u001b[A\n",
      " 80%|████████  | 16/20 [01:35<00:14,  3.62s/it]\u001b[A\n",
      " 85%|████████▌ | 17/20 [01:37<00:09,  3.19s/it]\u001b[A\n",
      " 90%|█████████ | 18/20 [01:39<00:05,  2.77s/it]\u001b[A\n",
      " 95%|█████████▌| 19/20 [01:40<00:02,  2.36s/it]\u001b[A\n",
      "100%|██████████| 20/20 [01:41<00:00,  5.08s/it]\u001b[A\n"
     ]
    },
    {
     "name": "stdout",
     "output_type": "stream",
     "text": [
      "generator loss:0.905120624748351\n",
      "-----------------------\n"
     ]
    },
    {
     "name": "stderr",
     "output_type": "stream",
     "text": [
      "190it [5:51:18, 110.00s/it]\n",
      "  0%|          | 0/20 [00:00<?, ?it/s]\u001b[A"
     ]
    },
    {
     "name": "stdout",
     "output_type": "stream",
     "text": [
      "total discriminator loss:0.6931886378087572\n",
      "-----------------------\n",
      "Training Step: 191\n"
     ]
    },
    {
     "name": "stderr",
     "output_type": "stream",
     "text": [
      "\n",
      "  5%|▌         | 1/20 [00:09<02:54,  9.18s/it]\u001b[A\n",
      " 10%|█         | 2/20 [00:17<02:39,  8.88s/it]\u001b[A\n",
      " 15%|█▌        | 3/20 [00:26<02:27,  8.68s/it]\u001b[A\n",
      " 20%|██        | 4/20 [00:34<02:13,  8.37s/it]\u001b[A\n",
      " 25%|██▌       | 5/20 [00:41<02:01,  8.08s/it]\u001b[A\n",
      " 30%|███       | 6/20 [00:48<01:46,  7.60s/it]\u001b[A\n",
      " 35%|███▌      | 7/20 [00:55<01:35,  7.36s/it]\u001b[A\n",
      " 40%|████      | 8/20 [01:01<01:22,  6.90s/it]\u001b[A\n",
      " 45%|████▌     | 9/20 [01:07<01:13,  6.65s/it]\u001b[A\n",
      " 50%|█████     | 10/20 [01:12<01:01,  6.16s/it]\u001b[A\n",
      " 55%|█████▌    | 11/20 [01:17<00:51,  5.71s/it]\u001b[A\n",
      " 60%|██████    | 12/20 [01:22<00:44,  5.54s/it]\u001b[A\n",
      " 65%|██████▌   | 13/20 [01:26<00:35,  5.03s/it]\u001b[A\n",
      " 70%|███████   | 14/20 [01:29<00:27,  4.55s/it]\u001b[A\n",
      " 75%|███████▌  | 15/20 [01:32<00:20,  4.10s/it]\u001b[A\n",
      " 80%|████████  | 16/20 [01:35<00:14,  3.66s/it]\u001b[A\n",
      " 85%|████████▌ | 17/20 [01:37<00:09,  3.22s/it]\u001b[A\n",
      " 90%|█████████ | 18/20 [01:39<00:05,  2.80s/it]\u001b[A\n",
      " 95%|█████████▌| 19/20 [01:40<00:02,  2.38s/it]\u001b[A\n",
      "100%|██████████| 20/20 [01:41<00:00,  5.08s/it]\u001b[A\n"
     ]
    },
    {
     "name": "stdout",
     "output_type": "stream",
     "text": [
      "generator loss:0.8910841576447635\n",
      "-----------------------\n"
     ]
    },
    {
     "name": "stderr",
     "output_type": "stream",
     "text": [
      "191it [5:53:08, 109.94s/it]\n",
      "  0%|          | 0/20 [00:00<?, ?it/s]\u001b[A"
     ]
    },
    {
     "name": "stdout",
     "output_type": "stream",
     "text": [
      "total discriminator loss:0.6931844186690486\n",
      "-----------------------\n",
      "Training Step: 192\n"
     ]
    },
    {
     "name": "stderr",
     "output_type": "stream",
     "text": [
      "\n",
      "  5%|▌         | 1/20 [00:09<02:55,  9.23s/it]\u001b[A\n",
      " 10%|█         | 2/20 [00:18<02:41,  8.97s/it]\u001b[A\n",
      " 15%|█▌        | 3/20 [00:26<02:28,  8.73s/it]\u001b[A\n",
      " 20%|██        | 4/20 [00:34<02:14,  8.38s/it]\u001b[A\n",
      " 25%|██▌       | 5/20 [00:41<02:01,  8.08s/it]\u001b[A\n",
      " 30%|███       | 6/20 [00:48<01:46,  7.59s/it]\u001b[A\n",
      " 35%|███▌      | 7/20 [00:55<01:35,  7.34s/it]\u001b[A\n",
      " 40%|████      | 8/20 [01:01<01:22,  6.89s/it]\u001b[A\n",
      " 45%|████▌     | 9/20 [01:07<01:13,  6.67s/it]\u001b[A\n",
      " 50%|█████     | 10/20 [01:12<01:02,  6.21s/it]\u001b[A\n",
      " 55%|█████▌    | 11/20 [01:17<00:51,  5.75s/it]\u001b[A\n",
      " 60%|██████    | 12/20 [01:22<00:44,  5.57s/it]\u001b[A\n",
      " 65%|██████▌   | 13/20 [01:26<00:35,  5.05s/it]\u001b[A\n",
      " 70%|███████   | 14/20 [01:29<00:27,  4.56s/it]\u001b[A\n",
      " 75%|███████▌  | 15/20 [01:32<00:20,  4.10s/it]\u001b[A\n",
      " 80%|████████  | 16/20 [01:35<00:14,  3.65s/it]\u001b[A\n",
      " 85%|████████▌ | 17/20 [01:37<00:09,  3.22s/it]\u001b[A\n",
      " 90%|█████████ | 18/20 [01:39<00:05,  2.79s/it]\u001b[A\n",
      " 95%|█████████▌| 19/20 [01:40<00:02,  2.37s/it]\u001b[A\n",
      "100%|██████████| 20/20 [01:41<00:00,  5.09s/it]\u001b[A\n"
     ]
    },
    {
     "name": "stdout",
     "output_type": "stream",
     "text": [
      "generator loss:0.9054842167227732\n",
      "-----------------------\n"
     ]
    },
    {
     "name": "stderr",
     "output_type": "stream",
     "text": [
      "192it [5:54:58, 109.95s/it]\n",
      "  0%|          | 0/20 [00:00<?, ?it/s]\u001b[A"
     ]
    },
    {
     "name": "stdout",
     "output_type": "stream",
     "text": [
      "total discriminator loss:0.693190749253633\n",
      "-----------------------\n",
      "Training Step: 193\n"
     ]
    },
    {
     "name": "stderr",
     "output_type": "stream",
     "text": [
      "\n",
      "  5%|▌         | 1/20 [00:09<02:56,  9.30s/it]\u001b[A\n",
      " 10%|█         | 2/20 [00:18<02:41,  8.99s/it]\u001b[A\n",
      " 15%|█▌        | 3/20 [00:26<02:28,  8.76s/it]\u001b[A\n",
      " 20%|██        | 4/20 [00:34<02:15,  8.48s/it]\u001b[A\n",
      " 25%|██▌       | 5/20 [00:42<02:02,  8.20s/it]\u001b[A\n",
      " 30%|███       | 6/20 [00:49<01:48,  7.72s/it]\u001b[A\n",
      " 35%|███▌      | 7/20 [00:55<01:36,  7.43s/it]\u001b[A\n",
      " 40%|████      | 8/20 [01:01<01:23,  6.97s/it]\u001b[A\n",
      " 45%|████▌     | 9/20 [01:08<01:14,  6.75s/it]\u001b[A\n",
      " 50%|█████     | 10/20 [01:13<01:02,  6.29s/it]\u001b[A\n",
      " 55%|█████▌    | 11/20 [01:18<00:52,  5.81s/it]\u001b[A\n",
      " 60%|██████    | 12/20 [01:23<00:44,  5.61s/it]\u001b[A\n",
      " 65%|██████▌   | 13/20 [01:27<00:35,  5.08s/it]\u001b[A\n",
      " 70%|███████   | 14/20 [01:30<00:27,  4.61s/it]\u001b[A\n",
      " 75%|███████▌  | 15/20 [01:33<00:20,  4.14s/it]\u001b[A\n",
      " 80%|████████  | 16/20 [01:36<00:14,  3.68s/it]\u001b[A\n",
      " 85%|████████▌ | 17/20 [01:38<00:09,  3.24s/it]\u001b[A\n",
      " 90%|█████████ | 18/20 [01:40<00:05,  2.81s/it]\u001b[A\n",
      " 95%|█████████▌| 19/20 [01:41<00:02,  2.40s/it]\u001b[A\n",
      "100%|██████████| 20/20 [01:42<00:00,  5.14s/it]\u001b[A\n"
     ]
    },
    {
     "name": "stdout",
     "output_type": "stream",
     "text": [
      "generator loss:0.8911604025193125\n",
      "-----------------------\n"
     ]
    },
    {
     "name": "stderr",
     "output_type": "stream",
     "text": [
      "193it [5:56:49, 110.24s/it]\n",
      "  0%|          | 0/20 [00:00<?, ?it/s]\u001b[A"
     ]
    },
    {
     "name": "stdout",
     "output_type": "stream",
     "text": [
      "total discriminator loss:0.693188731188325\n",
      "-----------------------\n",
      "Training Step: 194\n"
     ]
    },
    {
     "name": "stderr",
     "output_type": "stream",
     "text": [
      "\n",
      "  5%|▌         | 1/20 [00:09<02:57,  9.36s/it]\u001b[A\n",
      " 10%|█         | 2/20 [00:18<02:42,  9.03s/it]\u001b[A\n",
      " 15%|█▌        | 3/20 [00:26<02:29,  8.78s/it]\u001b[A\n",
      " 20%|██        | 4/20 [00:34<02:15,  8.45s/it]\u001b[A\n",
      " 25%|██▌       | 5/20 [00:42<02:02,  8.15s/it]\u001b[A\n",
      " 30%|███       | 6/20 [00:48<01:47,  7.65s/it]\u001b[A\n",
      " 35%|███▌      | 7/20 [00:55<01:36,  7.40s/it]\u001b[A\n",
      " 40%|████      | 8/20 [01:01<01:23,  6.96s/it]\u001b[A\n",
      " 45%|████▌     | 9/20 [01:08<01:14,  6.75s/it]\u001b[A\n",
      " 50%|█████     | 10/20 [01:13<01:02,  6.27s/it]\u001b[A\n",
      " 55%|█████▌    | 11/20 [01:18<00:52,  5.80s/it]\u001b[A\n",
      " 60%|██████    | 12/20 [01:23<00:44,  5.60s/it]\u001b[A\n",
      " 65%|██████▌   | 13/20 [01:27<00:35,  5.08s/it]\u001b[A\n",
      " 70%|███████   | 14/20 [01:30<00:27,  4.58s/it]\u001b[A\n",
      " 75%|███████▌  | 15/20 [01:33<00:20,  4.11s/it]\u001b[A\n",
      " 80%|████████  | 16/20 [01:36<00:14,  3.66s/it]\u001b[A\n",
      " 85%|████████▌ | 17/20 [01:38<00:09,  3.22s/it]\u001b[A\n",
      " 90%|█████████ | 18/20 [01:40<00:05,  2.79s/it]\u001b[A\n",
      " 95%|█████████▌| 19/20 [01:41<00:02,  2.37s/it]\u001b[A\n",
      "100%|██████████| 20/20 [01:42<00:00,  5.12s/it]\u001b[A\n"
     ]
    },
    {
     "name": "stdout",
     "output_type": "stream",
     "text": [
      "generator loss:0.9056225025207144\n",
      "-----------------------\n"
     ]
    },
    {
     "name": "stderr",
     "output_type": "stream",
     "text": [
      "194it [5:58:39, 110.35s/it]\n",
      "  0%|          | 0/20 [00:00<?, ?it/s]\u001b[A"
     ]
    },
    {
     "name": "stdout",
     "output_type": "stream",
     "text": [
      "total discriminator loss:0.6931945672424571\n",
      "-----------------------\n",
      "Training Step: 195\n"
     ]
    },
    {
     "name": "stderr",
     "output_type": "stream",
     "text": [
      "\n",
      "  5%|▌         | 1/20 [00:09<02:55,  9.26s/it]\u001b[A\n",
      " 10%|█         | 2/20 [00:17<02:40,  8.91s/it]\u001b[A\n",
      " 15%|█▌        | 3/20 [00:26<02:28,  8.71s/it]\u001b[A\n",
      " 20%|██        | 4/20 [00:34<02:14,  8.39s/it]\u001b[A\n",
      " 25%|██▌       | 5/20 [00:41<02:01,  8.09s/it]\u001b[A\n",
      " 30%|███       | 6/20 [00:48<01:46,  7.58s/it]\u001b[A\n",
      " 35%|███▌      | 7/20 [00:55<01:35,  7.35s/it]\u001b[A\n",
      " 40%|████      | 8/20 [01:01<01:22,  6.91s/it]\u001b[A\n",
      " 45%|████▌     | 9/20 [01:07<01:13,  6.65s/it]\u001b[A\n",
      " 50%|█████     | 10/20 [01:12<01:01,  6.18s/it]\u001b[A\n",
      " 55%|█████▌    | 11/20 [01:17<00:51,  5.72s/it]\u001b[A\n",
      " 60%|██████    | 12/20 [01:22<00:44,  5.54s/it]\u001b[A\n",
      " 65%|██████▌   | 13/20 [01:26<00:35,  5.03s/it]\u001b[A\n",
      " 70%|███████   | 14/20 [01:29<00:27,  4.54s/it]\u001b[A\n",
      " 75%|███████▌  | 15/20 [01:32<00:20,  4.09s/it]\u001b[A\n",
      " 80%|████████  | 16/20 [01:35<00:14,  3.65s/it]\u001b[A\n",
      " 85%|████████▌ | 17/20 [01:37<00:09,  3.22s/it]\u001b[A\n",
      " 90%|█████████ | 18/20 [01:39<00:05,  2.79s/it]\u001b[A\n",
      " 95%|█████████▌| 19/20 [01:40<00:02,  2.38s/it]\u001b[A\n",
      "100%|██████████| 20/20 [01:41<00:00,  5.08s/it]\u001b[A\n"
     ]
    },
    {
     "name": "stdout",
     "output_type": "stream",
     "text": [
      "generator loss:0.8901433597734372\n",
      "-----------------------\n"
     ]
    },
    {
     "name": "stderr",
     "output_type": "stream",
     "text": [
      "195it [6:00:29, 110.20s/it]\n",
      "  0%|          | 0/20 [00:00<?, ?it/s]\u001b[A"
     ]
    },
    {
     "name": "stdout",
     "output_type": "stream",
     "text": [
      "total discriminator loss:0.6931890674390354\n",
      "-----------------------\n",
      "Training Step: 196\n"
     ]
    },
    {
     "name": "stderr",
     "output_type": "stream",
     "text": [
      "\n",
      "  5%|▌         | 1/20 [00:09<02:54,  9.18s/it]\u001b[A\n",
      " 10%|█         | 2/20 [00:17<02:40,  8.90s/it]\u001b[A\n",
      " 15%|█▌        | 3/20 [00:26<02:28,  8.72s/it]\u001b[A\n",
      " 20%|██        | 4/20 [00:34<02:14,  8.40s/it]\u001b[A\n",
      " 25%|██▌       | 5/20 [00:41<02:01,  8.08s/it]\u001b[A\n",
      " 30%|███       | 6/20 [00:48<01:46,  7.61s/it]\u001b[A\n",
      " 35%|███▌      | 7/20 [00:55<01:35,  7.36s/it]\u001b[A\n",
      " 40%|████      | 8/20 [01:01<01:22,  6.90s/it]\u001b[A\n",
      " 45%|████▌     | 9/20 [01:07<01:13,  6.65s/it]\u001b[A\n",
      " 50%|█████     | 10/20 [01:12<01:01,  6.17s/it]\u001b[A\n",
      " 55%|█████▌    | 11/20 [01:17<00:51,  5.71s/it]\u001b[A\n",
      " 60%|██████    | 12/20 [01:22<00:44,  5.52s/it]\u001b[A\n",
      " 65%|██████▌   | 13/20 [01:26<00:35,  5.01s/it]\u001b[A\n",
      " 70%|███████   | 14/20 [01:29<00:27,  4.53s/it]\u001b[A\n",
      " 75%|███████▌  | 15/20 [01:32<00:20,  4.07s/it]\u001b[A\n",
      " 80%|████████  | 16/20 [01:35<00:14,  3.63s/it]\u001b[A\n",
      " 85%|████████▌ | 17/20 [01:37<00:09,  3.19s/it]\u001b[A\n",
      " 90%|█████████ | 18/20 [01:39<00:05,  2.76s/it]\u001b[A\n",
      " 95%|█████████▌| 19/20 [01:40<00:02,  2.36s/it]\u001b[A\n",
      "100%|██████████| 20/20 [01:41<00:00,  5.07s/it]\u001b[A\n"
     ]
    },
    {
     "name": "stdout",
     "output_type": "stream",
     "text": [
      "generator loss:0.9055667213066027\n",
      "-----------------------\n"
     ]
    },
    {
     "name": "stderr",
     "output_type": "stream",
     "text": [
      "196it [6:02:19, 110.00s/it]\n",
      "  0%|          | 0/20 [00:00<?, ?it/s]\u001b[A"
     ]
    },
    {
     "name": "stdout",
     "output_type": "stream",
     "text": [
      "total discriminator loss:0.6931825479352993\n",
      "-----------------------\n",
      "Training Step: 197\n"
     ]
    },
    {
     "name": "stderr",
     "output_type": "stream",
     "text": [
      "\n",
      "  5%|▌         | 1/20 [00:09<02:57,  9.33s/it]\u001b[A\n",
      " 10%|█         | 2/20 [00:17<02:40,  8.90s/it]\u001b[A\n",
      " 15%|█▌        | 3/20 [00:26<02:27,  8.65s/it]\u001b[A\n",
      " 20%|██        | 4/20 [00:34<02:14,  8.39s/it]\u001b[A\n",
      " 25%|██▌       | 5/20 [00:41<02:01,  8.13s/it]\u001b[A\n",
      " 30%|███       | 6/20 [00:48<01:47,  7.67s/it]\u001b[A\n",
      " 35%|███▌      | 7/20 [00:55<01:36,  7.41s/it]\u001b[A\n",
      " 40%|████      | 8/20 [01:01<01:23,  6.95s/it]\u001b[A\n",
      " 45%|████▌     | 9/20 [01:07<01:13,  6.70s/it]\u001b[A\n",
      " 50%|█████     | 10/20 [01:12<01:02,  6.21s/it]\u001b[A\n",
      " 55%|█████▌    | 11/20 [01:17<00:51,  5.75s/it]\u001b[A\n",
      " 60%|██████    | 12/20 [01:22<00:44,  5.57s/it]\u001b[A\n",
      " 65%|██████▌   | 13/20 [01:26<00:35,  5.06s/it]\u001b[A\n",
      " 70%|███████   | 14/20 [01:29<00:27,  4.57s/it]\u001b[A\n",
      " 75%|███████▌  | 15/20 [01:33<00:20,  4.10s/it]\u001b[A\n",
      " 80%|████████  | 16/20 [01:35<00:14,  3.66s/it]\u001b[A\n",
      " 85%|████████▌ | 17/20 [01:37<00:09,  3.22s/it]\u001b[A\n",
      " 90%|█████████ | 18/20 [01:39<00:05,  2.80s/it]\u001b[A\n",
      " 95%|█████████▌| 19/20 [01:41<00:02,  2.39s/it]\u001b[A\n",
      "100%|██████████| 20/20 [01:42<00:00,  5.11s/it]\u001b[A\n"
     ]
    },
    {
     "name": "stdout",
     "output_type": "stream",
     "text": [
      "generator loss:0.8909976023840092\n",
      "-----------------------\n"
     ]
    },
    {
     "name": "stderr",
     "output_type": "stream",
     "text": [
      "197it [6:04:09, 110.08s/it]\n",
      "  0%|          | 0/20 [00:00<?, ?it/s]\u001b[A"
     ]
    },
    {
     "name": "stdout",
     "output_type": "stream",
     "text": [
      "total discriminator loss:0.6931856431658711\n",
      "-----------------------\n",
      "Training Step: 198\n"
     ]
    },
    {
     "name": "stderr",
     "output_type": "stream",
     "text": [
      "\n",
      "  5%|▌         | 1/20 [00:09<02:57,  9.36s/it]\u001b[A\n",
      " 10%|█         | 2/20 [00:18<02:42,  9.02s/it]\u001b[A\n",
      " 15%|█▌        | 3/20 [00:26<02:28,  8.75s/it]\u001b[A\n",
      " 20%|██        | 4/20 [00:34<02:14,  8.42s/it]\u001b[A\n",
      " 25%|██▌       | 5/20 [00:42<02:01,  8.10s/it]\u001b[A\n",
      " 30%|███       | 6/20 [00:48<01:46,  7.61s/it]\u001b[A\n",
      " 35%|███▌      | 7/20 [00:55<01:35,  7.36s/it]\u001b[A\n",
      " 40%|████      | 8/20 [01:01<01:22,  6.91s/it]\u001b[A\n",
      " 45%|████▌     | 9/20 [01:07<01:13,  6.68s/it]\u001b[A\n",
      " 50%|█████     | 10/20 [01:12<01:02,  6.21s/it]\u001b[A\n",
      " 55%|█████▌    | 11/20 [01:17<00:52,  5.79s/it]\u001b[A\n",
      " 60%|██████    | 12/20 [01:22<00:44,  5.59s/it]\u001b[A\n",
      " 65%|██████▌   | 13/20 [01:26<00:35,  5.05s/it]\u001b[A\n",
      " 70%|███████   | 14/20 [01:30<00:27,  4.56s/it]\u001b[A\n",
      " 75%|███████▌  | 15/20 [01:33<00:20,  4.11s/it]\u001b[A\n",
      " 80%|████████  | 16/20 [01:35<00:14,  3.66s/it]\u001b[A\n",
      " 85%|████████▌ | 17/20 [01:37<00:09,  3.22s/it]\u001b[A\n",
      " 90%|█████████ | 18/20 [01:39<00:05,  2.79s/it]\u001b[A\n",
      " 95%|█████████▌| 19/20 [01:41<00:02,  2.37s/it]\u001b[A\n",
      "100%|██████████| 20/20 [01:42<00:00,  5.10s/it]\u001b[A\n"
     ]
    },
    {
     "name": "stdout",
     "output_type": "stream",
     "text": [
      "generator loss:0.9054167361090751\n",
      "-----------------------\n"
     ]
    },
    {
     "name": "stderr",
     "output_type": "stream",
     "text": [
      "198it [6:05:59, 110.10s/it]\n",
      "  0%|          | 0/20 [00:00<?, ?it/s]\u001b[A"
     ]
    },
    {
     "name": "stdout",
     "output_type": "stream",
     "text": [
      "total discriminator loss:0.6931887548403822\n",
      "-----------------------\n",
      "Training Step: 199\n"
     ]
    },
    {
     "name": "stderr",
     "output_type": "stream",
     "text": [
      "\n",
      "  5%|▌         | 1/20 [00:09<02:54,  9.20s/it]\u001b[A\n",
      " 10%|█         | 2/20 [00:17<02:40,  8.92s/it]\u001b[A\n",
      " 15%|█▌        | 3/20 [00:26<02:28,  8.73s/it]\u001b[A\n",
      " 20%|██        | 4/20 [00:34<02:14,  8.42s/it]\u001b[A\n",
      " 25%|██▌       | 5/20 [00:41<02:01,  8.09s/it]\u001b[A\n",
      " 30%|███       | 6/20 [00:48<01:46,  7.58s/it]\u001b[A\n",
      " 35%|███▌      | 7/20 [00:55<01:35,  7.31s/it]\u001b[A\n",
      " 40%|████      | 8/20 [01:01<01:22,  6.89s/it]\u001b[A\n",
      " 45%|████▌     | 9/20 [01:07<01:13,  6.67s/it]\u001b[A\n",
      " 50%|█████     | 10/20 [01:12<01:02,  6.20s/it]\u001b[A\n",
      " 55%|█████▌    | 11/20 [01:17<00:51,  5.76s/it]\u001b[A\n",
      " 60%|██████    | 12/20 [01:22<00:44,  5.57s/it]\u001b[A\n",
      " 65%|██████▌   | 13/20 [01:26<00:35,  5.05s/it]\u001b[A\n",
      " 70%|███████   | 14/20 [01:29<00:27,  4.56s/it]\u001b[A\n",
      " 75%|███████▌  | 15/20 [01:32<00:20,  4.08s/it]\u001b[A\n",
      " 80%|████████  | 16/20 [01:35<00:14,  3.63s/it]\u001b[A\n",
      " 85%|████████▌ | 17/20 [01:37<00:09,  3.19s/it]\u001b[A\n",
      " 90%|█████████ | 18/20 [01:39<00:05,  2.77s/it]\u001b[A\n",
      " 95%|█████████▌| 19/20 [01:40<00:02,  2.35s/it]\u001b[A\n",
      "100%|██████████| 20/20 [01:41<00:00,  5.08s/it]\u001b[A\n"
     ]
    },
    {
     "name": "stdout",
     "output_type": "stream",
     "text": [
      "generator loss:0.8898735464668001\n",
      "-----------------------\n"
     ]
    },
    {
     "name": "stderr",
     "output_type": "stream",
     "text": [
      "199it [6:07:49, 110.00s/it]\n",
      "  0%|          | 0/20 [00:00<?, ?it/s]\u001b[A"
     ]
    },
    {
     "name": "stdout",
     "output_type": "stream",
     "text": [
      "total discriminator loss:0.6931867559818327\n",
      "-----------------------\n",
      "Training Step: 200\n"
     ]
    },
    {
     "name": "stderr",
     "output_type": "stream",
     "text": [
      "\n",
      "  5%|▌         | 1/20 [00:09<02:55,  9.24s/it]\u001b[A\n",
      " 10%|█         | 2/20 [00:18<02:41,  8.96s/it]\u001b[A\n",
      " 15%|█▌        | 3/20 [00:26<02:28,  8.73s/it]\u001b[A\n",
      " 20%|██        | 4/20 [00:34<02:14,  8.42s/it]\u001b[A\n",
      " 25%|██▌       | 5/20 [00:41<02:01,  8.09s/it]\u001b[A\n",
      " 30%|███       | 6/20 [00:48<01:46,  7.59s/it]\u001b[A\n",
      " 35%|███▌      | 7/20 [00:55<01:35,  7.32s/it]\u001b[A\n",
      " 40%|████      | 8/20 [01:01<01:22,  6.86s/it]\u001b[A\n",
      " 45%|████▌     | 9/20 [01:07<01:12,  6.63s/it]\u001b[A\n",
      " 50%|█████     | 10/20 [01:12<01:01,  6.17s/it]\u001b[A\n",
      " 55%|█████▌    | 11/20 [01:17<00:51,  5.72s/it]\u001b[A\n",
      " 60%|██████    | 12/20 [01:22<00:44,  5.54s/it]\u001b[A\n",
      " 65%|██████▌   | 13/20 [01:26<00:35,  5.01s/it]\u001b[A\n",
      " 70%|███████   | 14/20 [01:29<00:27,  4.53s/it]\u001b[A\n",
      " 75%|███████▌  | 15/20 [01:32<00:20,  4.07s/it]\u001b[A\n",
      " 80%|████████  | 16/20 [01:35<00:14,  3.63s/it]\u001b[A\n",
      " 85%|████████▌ | 17/20 [01:37<00:09,  3.21s/it]\u001b[A\n",
      " 90%|█████████ | 18/20 [01:39<00:05,  2.78s/it]\u001b[A\n",
      " 95%|█████████▌| 19/20 [01:40<00:02,  2.36s/it]\u001b[A\n",
      "100%|██████████| 20/20 [01:41<00:00,  5.08s/it]\u001b[A\n"
     ]
    },
    {
     "name": "stdout",
     "output_type": "stream",
     "text": [
      "generator loss:0.905905997598547\n",
      "-----------------------\n"
     ]
    },
    {
     "name": "stderr",
     "output_type": "stream",
     "text": [
      "200it [6:09:38, 109.88s/it]\n",
      "  0%|          | 0/20 [00:00<?, ?it/s]\u001b[A"
     ]
    },
    {
     "name": "stdout",
     "output_type": "stream",
     "text": [
      "total discriminator loss:0.6931850183603337\n",
      "-----------------------\n",
      "Training Step: 201\n"
     ]
    },
    {
     "name": "stderr",
     "output_type": "stream",
     "text": [
      "\n",
      "  5%|▌         | 1/20 [00:09<02:55,  9.22s/it]\u001b[A\n",
      " 10%|█         | 2/20 [00:17<02:40,  8.93s/it]\u001b[A\n",
      " 15%|█▌        | 3/20 [00:26<02:27,  8.67s/it]\u001b[A\n",
      " 20%|██        | 4/20 [00:34<02:13,  8.37s/it]\u001b[A\n",
      " 25%|██▌       | 5/20 [00:41<02:01,  8.10s/it]\u001b[A\n",
      " 30%|███       | 6/20 [00:48<01:46,  7.61s/it]\u001b[A\n",
      " 35%|███▌      | 7/20 [00:55<01:35,  7.36s/it]\u001b[A\n",
      " 40%|████      | 8/20 [01:01<01:22,  6.90s/it]\u001b[A\n",
      " 45%|████▌     | 9/20 [01:07<01:13,  6.65s/it]\u001b[A\n",
      " 50%|█████     | 10/20 [01:12<01:01,  6.16s/it]\u001b[A\n",
      " 55%|█████▌    | 11/20 [01:17<00:51,  5.70s/it]\u001b[A\n",
      " 60%|██████    | 12/20 [01:22<00:44,  5.53s/it]\u001b[A\n",
      " 65%|██████▌   | 13/20 [01:26<00:35,  5.02s/it]\u001b[A\n",
      " 70%|███████   | 14/20 [01:29<00:27,  4.53s/it]\u001b[A\n",
      " 75%|███████▌  | 15/20 [01:32<00:20,  4.08s/it]\u001b[A\n",
      " 80%|████████  | 16/20 [01:35<00:14,  3.63s/it]\u001b[A\n",
      " 85%|████████▌ | 17/20 [01:37<00:09,  3.20s/it]\u001b[A\n",
      " 90%|█████████ | 18/20 [01:39<00:05,  2.78s/it]\u001b[A\n",
      " 95%|█████████▌| 19/20 [01:40<00:02,  2.36s/it]\u001b[A\n",
      "100%|██████████| 20/20 [01:41<00:00,  5.07s/it]\u001b[A\n"
     ]
    },
    {
     "name": "stdout",
     "output_type": "stream",
     "text": [
      "generator loss:0.8911295057042381\n",
      "-----------------------\n"
     ]
    },
    {
     "name": "stderr",
     "output_type": "stream",
     "text": [
      "201it [6:11:28, 109.77s/it]\n",
      "  0%|          | 0/20 [00:00<?, ?it/s]\u001b[A"
     ]
    },
    {
     "name": "stdout",
     "output_type": "stream",
     "text": [
      "total discriminator loss:0.6931868256547469\n",
      "-----------------------\n",
      "Training Step: 202\n"
     ]
    },
    {
     "name": "stderr",
     "output_type": "stream",
     "text": [
      "\n",
      "  5%|▌         | 1/20 [00:09<02:56,  9.30s/it]\u001b[A\n",
      " 10%|█         | 2/20 [00:18<02:41,  8.97s/it]\u001b[A\n",
      " 15%|█▌        | 3/20 [00:26<02:28,  8.74s/it]\u001b[A\n",
      " 20%|██        | 4/20 [00:34<02:15,  8.45s/it]\u001b[A\n",
      " 25%|██▌       | 5/20 [00:42<02:01,  8.12s/it]\u001b[A\n",
      " 30%|███       | 6/20 [00:48<01:46,  7.59s/it]\u001b[A\n",
      " 35%|███▌      | 7/20 [00:55<01:35,  7.34s/it]\u001b[A\n",
      " 40%|████      | 8/20 [01:01<01:22,  6.90s/it]\u001b[A\n",
      " 45%|████▌     | 9/20 [01:07<01:13,  6.67s/it]\u001b[A\n",
      " 50%|█████     | 10/20 [01:12<01:01,  6.19s/it]\u001b[A\n",
      " 55%|█████▌    | 11/20 [01:17<00:51,  5.73s/it]\u001b[A\n",
      " 60%|██████    | 12/20 [01:22<00:44,  5.55s/it]\u001b[A\n",
      " 65%|██████▌   | 13/20 [01:26<00:35,  5.02s/it]\u001b[A\n",
      " 70%|███████   | 14/20 [01:29<00:27,  4.54s/it]\u001b[A\n",
      " 75%|███████▌  | 15/20 [01:32<00:20,  4.08s/it]\u001b[A\n",
      " 80%|████████  | 16/20 [01:35<00:14,  3.65s/it]\u001b[A\n",
      " 85%|████████▌ | 17/20 [01:37<00:09,  3.22s/it]\u001b[A\n",
      " 90%|█████████ | 18/20 [01:39<00:05,  2.79s/it]\u001b[A\n",
      " 95%|█████████▌| 19/20 [01:40<00:02,  2.36s/it]\u001b[A\n",
      "100%|██████████| 20/20 [01:41<00:00,  5.09s/it]\u001b[A\n"
     ]
    },
    {
     "name": "stdout",
     "output_type": "stream",
     "text": [
      "generator loss:0.9051253808028165\n",
      "-----------------------\n"
     ]
    },
    {
     "name": "stderr",
     "output_type": "stream",
     "text": [
      "202it [6:13:18, 109.78s/it]\n",
      "  0%|          | 0/20 [00:00<?, ?it/s]\u001b[A"
     ]
    },
    {
     "name": "stdout",
     "output_type": "stream",
     "text": [
      "total discriminator loss:0.6931870636198819\n",
      "-----------------------\n",
      "Training Step: 203\n"
     ]
    },
    {
     "name": "stderr",
     "output_type": "stream",
     "text": [
      "\n",
      "  5%|▌         | 1/20 [00:09<02:54,  9.19s/it]\u001b[A\n",
      " 10%|█         | 2/20 [00:17<02:40,  8.90s/it]\u001b[A\n",
      " 15%|█▌        | 3/20 [00:26<02:27,  8.71s/it]\u001b[A\n",
      " 20%|██        | 4/20 [00:34<02:13,  8.36s/it]\u001b[A\n",
      " 25%|██▌       | 5/20 [00:41<02:01,  8.09s/it]\u001b[A\n",
      " 30%|███       | 6/20 [00:48<01:46,  7.62s/it]\u001b[A\n",
      " 35%|███▌      | 7/20 [00:55<01:35,  7.36s/it]\u001b[A\n",
      " 40%|████      | 8/20 [01:01<01:22,  6.90s/it]\u001b[A\n",
      " 45%|████▌     | 9/20 [01:07<01:13,  6.68s/it]\u001b[A\n",
      " 50%|█████     | 10/20 [01:12<01:02,  6.21s/it]\u001b[A\n",
      " 55%|█████▌    | 11/20 [01:17<00:51,  5.74s/it]\u001b[A\n",
      " 60%|██████    | 12/20 [01:22<00:44,  5.56s/it]\u001b[A\n",
      " 65%|██████▌   | 13/20 [01:26<00:35,  5.05s/it]\u001b[A\n",
      " 70%|███████   | 14/20 [01:29<00:27,  4.56s/it]\u001b[A\n",
      " 75%|███████▌  | 15/20 [01:32<00:20,  4.10s/it]\u001b[A\n",
      " 80%|████████  | 16/20 [01:35<00:14,  3.66s/it]\u001b[A\n",
      " 85%|████████▌ | 17/20 [01:37<00:09,  3.22s/it]\u001b[A\n",
      " 90%|█████████ | 18/20 [01:39<00:05,  2.79s/it]\u001b[A\n",
      " 95%|█████████▌| 19/20 [01:40<00:02,  2.36s/it]\u001b[A\n",
      "100%|██████████| 20/20 [01:41<00:00,  5.09s/it]\u001b[A\n"
     ]
    },
    {
     "name": "stdout",
     "output_type": "stream",
     "text": [
      "generator loss:0.8914677620078624\n",
      "-----------------------\n"
     ]
    },
    {
     "name": "stderr",
     "output_type": "stream",
     "text": [
      "203it [6:15:08, 109.81s/it]\n",
      "  0%|          | 0/20 [00:00<?, ?it/s]\u001b[A"
     ]
    },
    {
     "name": "stdout",
     "output_type": "stream",
     "text": [
      "total discriminator loss:0.6931843413494371\n",
      "-----------------------\n",
      "Training Step: 204\n"
     ]
    },
    {
     "name": "stderr",
     "output_type": "stream",
     "text": [
      "\n",
      "  5%|▌         | 1/20 [00:09<02:55,  9.26s/it]\u001b[A\n",
      " 10%|█         | 2/20 [00:17<02:41,  8.95s/it]\u001b[A\n",
      " 15%|█▌        | 3/20 [00:26<02:28,  8.75s/it]\u001b[A\n",
      " 20%|██        | 4/20 [00:34<02:14,  8.43s/it]\u001b[A\n",
      " 25%|██▌       | 5/20 [00:42<02:01,  8.13s/it]\u001b[A\n",
      " 30%|███       | 6/20 [00:48<01:46,  7.64s/it]\u001b[A\n",
      " 35%|███▌      | 7/20 [00:55<01:35,  7.37s/it]\u001b[A\n",
      " 40%|████      | 8/20 [01:01<01:22,  6.90s/it]\u001b[A\n",
      " 45%|████▌     | 9/20 [01:07<01:13,  6.66s/it]\u001b[A\n",
      " 50%|█████     | 10/20 [01:12<01:01,  6.18s/it]\u001b[A\n",
      " 55%|█████▌    | 11/20 [01:17<00:51,  5.71s/it]\u001b[A\n",
      " 60%|██████    | 12/20 [01:22<00:44,  5.54s/it]\u001b[A\n",
      " 65%|██████▌   | 13/20 [01:26<00:35,  5.03s/it]\u001b[A\n",
      " 70%|███████   | 14/20 [01:29<00:27,  4.55s/it]\u001b[A\n",
      " 75%|███████▌  | 15/20 [01:32<00:20,  4.10s/it]\u001b[A\n",
      " 80%|████████  | 16/20 [01:35<00:14,  3.65s/it]\u001b[A\n",
      " 85%|████████▌ | 17/20 [01:37<00:09,  3.22s/it]\u001b[A\n",
      " 90%|█████████ | 18/20 [01:39<00:05,  2.81s/it]\u001b[A\n",
      " 95%|█████████▌| 19/20 [01:40<00:02,  2.39s/it]\u001b[A\n",
      "100%|██████████| 20/20 [01:41<00:00,  5.10s/it]\u001b[A\n"
     ]
    },
    {
     "name": "stdout",
     "output_type": "stream",
     "text": [
      "generator loss:0.9052520677497707\n",
      "-----------------------\n"
     ]
    },
    {
     "name": "stderr",
     "output_type": "stream",
     "text": [
      "204it [6:16:58, 109.99s/it]\n",
      "  0%|          | 0/20 [00:00<?, ?it/s]\u001b[A"
     ]
    },
    {
     "name": "stdout",
     "output_type": "stream",
     "text": [
      "total discriminator loss:0.6931912377999675\n",
      "-----------------------\n",
      "Training Step: 205\n"
     ]
    },
    {
     "name": "stderr",
     "output_type": "stream",
     "text": [
      "\n",
      "  5%|▌         | 1/20 [00:09<02:56,  9.26s/it]\u001b[A\n",
      " 10%|█         | 2/20 [00:18<02:41,  8.99s/it]\u001b[A\n",
      " 15%|█▌        | 3/20 [00:26<02:28,  8.76s/it]\u001b[A\n",
      " 20%|██        | 4/20 [00:34<02:14,  8.42s/it]\u001b[A\n",
      " 25%|██▌       | 5/20 [00:42<02:01,  8.11s/it]\u001b[A\n",
      " 30%|███       | 6/20 [00:48<01:46,  7.62s/it]\u001b[A\n",
      " 35%|███▌      | 7/20 [00:55<01:35,  7.36s/it]\u001b[A\n",
      " 40%|████      | 8/20 [01:01<01:22,  6.90s/it]\u001b[A\n",
      " 45%|████▌     | 9/20 [01:07<01:13,  6.68s/it]\u001b[A\n",
      " 50%|█████     | 10/20 [01:12<01:02,  6.21s/it]\u001b[A\n",
      " 55%|█████▌    | 11/20 [01:17<00:51,  5.76s/it]\u001b[A\n",
      " 60%|██████    | 12/20 [01:22<00:44,  5.57s/it]\u001b[A\n",
      " 65%|██████▌   | 13/20 [01:26<00:35,  5.04s/it]\u001b[A\n",
      " 70%|███████   | 14/20 [01:29<00:27,  4.55s/it]\u001b[A\n",
      " 75%|███████▌  | 15/20 [01:32<00:20,  4.09s/it]\u001b[A\n",
      " 80%|████████  | 16/20 [01:35<00:14,  3.65s/it]\u001b[A\n",
      " 85%|████████▌ | 17/20 [01:37<00:09,  3.22s/it]\u001b[A\n",
      " 90%|█████████ | 18/20 [01:39<00:05,  2.80s/it]\u001b[A\n",
      " 95%|█████████▌| 19/20 [01:40<00:02,  2.38s/it]\u001b[A\n",
      "100%|██████████| 20/20 [01:41<00:00,  5.10s/it]\u001b[A\n"
     ]
    },
    {
     "name": "stdout",
     "output_type": "stream",
     "text": [
      "generator loss:0.8909394159803632\n",
      "-----------------------\n"
     ]
    },
    {
     "name": "stderr",
     "output_type": "stream",
     "text": [
      "205it [6:18:48, 110.03s/it]\n",
      "  0%|          | 0/20 [00:00<?, ?it/s]\u001b[A"
     ]
    },
    {
     "name": "stdout",
     "output_type": "stream",
     "text": [
      "total discriminator loss:0.6931860091859918\n",
      "-----------------------\n",
      "Training Step: 206\n"
     ]
    },
    {
     "name": "stderr",
     "output_type": "stream",
     "text": [
      "\n",
      "  5%|▌         | 1/20 [00:09<02:57,  9.35s/it]\u001b[A\n",
      " 10%|█         | 2/20 [00:18<02:42,  9.02s/it]\u001b[A\n",
      " 15%|█▌        | 3/20 [00:26<02:29,  8.78s/it]\u001b[A\n",
      " 20%|██        | 4/20 [00:34<02:15,  8.46s/it]\u001b[A\n",
      " 25%|██▌       | 5/20 [00:42<02:02,  8.14s/it]\u001b[A\n",
      " 30%|███       | 6/20 [00:48<01:47,  7.65s/it]\u001b[A\n",
      " 35%|███▌      | 7/20 [00:55<01:36,  7.40s/it]\u001b[A\n",
      " 40%|████      | 8/20 [01:01<01:22,  6.90s/it]\u001b[A\n",
      " 45%|████▌     | 9/20 [01:07<01:13,  6.66s/it]\u001b[A\n",
      " 50%|█████     | 10/20 [01:12<01:01,  6.18s/it]\u001b[A\n",
      " 55%|█████▌    | 11/20 [01:17<00:51,  5.72s/it]\u001b[A\n",
      " 60%|██████    | 12/20 [01:22<00:44,  5.53s/it]\u001b[A\n",
      " 65%|██████▌   | 13/20 [01:26<00:35,  5.02s/it]\u001b[A\n",
      " 70%|███████   | 14/20 [01:29<00:27,  4.52s/it]\u001b[A\n",
      " 75%|███████▌  | 15/20 [01:32<00:20,  4.07s/it]\u001b[A\n",
      " 80%|████████  | 16/20 [01:35<00:14,  3.63s/it]\u001b[A\n",
      " 85%|████████▌ | 17/20 [01:37<00:09,  3.18s/it]\u001b[A\n",
      " 90%|█████████ | 18/20 [01:39<00:05,  2.76s/it]\u001b[A\n",
      " 95%|█████████▌| 19/20 [01:40<00:02,  2.34s/it]\u001b[A\n",
      "100%|██████████| 20/20 [01:41<00:00,  5.08s/it]\u001b[A\n"
     ]
    },
    {
     "name": "stdout",
     "output_type": "stream",
     "text": [
      "generator loss:0.9059770813525756\n",
      "-----------------------\n"
     ]
    },
    {
     "name": "stderr",
     "output_type": "stream",
     "text": [
      "206it [6:20:38, 109.97s/it]\n",
      "  0%|          | 0/20 [00:00<?, ?it/s]\u001b[A"
     ]
    },
    {
     "name": "stdout",
     "output_type": "stream",
     "text": [
      "total discriminator loss:0.6931833678788981\n",
      "-----------------------\n",
      "Training Step: 207\n"
     ]
    },
    {
     "name": "stderr",
     "output_type": "stream",
     "text": [
      "\n",
      "  5%|▌         | 1/20 [00:09<02:55,  9.26s/it]\u001b[A\n",
      " 10%|█         | 2/20 [00:17<02:41,  8.95s/it]\u001b[A\n",
      " 15%|█▌        | 3/20 [00:26<02:28,  8.74s/it]\u001b[A\n",
      " 20%|██        | 4/20 [00:34<02:14,  8.43s/it]\u001b[A\n",
      " 25%|██▌       | 5/20 [00:41<02:01,  8.11s/it]\u001b[A\n",
      " 30%|███       | 6/20 [00:48<01:46,  7.63s/it]\u001b[A\n",
      " 35%|███▌      | 7/20 [00:55<01:35,  7.37s/it]\u001b[A\n",
      " 40%|████      | 8/20 [01:01<01:22,  6.90s/it]\u001b[A\n",
      " 45%|████▌     | 9/20 [01:07<01:13,  6.66s/it]\u001b[A\n",
      " 50%|█████     | 10/20 [01:12<01:01,  6.20s/it]\u001b[A\n",
      " 55%|█████▌    | 11/20 [01:17<00:51,  5.73s/it]\u001b[A\n",
      " 60%|██████    | 12/20 [01:22<00:44,  5.54s/it]\u001b[A\n",
      " 65%|██████▌   | 13/20 [01:26<00:35,  5.02s/it]\u001b[A\n",
      " 70%|███████   | 14/20 [01:29<00:27,  4.52s/it]\u001b[A\n",
      " 75%|███████▌  | 15/20 [01:32<00:20,  4.06s/it]\u001b[A\n",
      " 80%|████████  | 16/20 [01:35<00:14,  3.62s/it]\u001b[A\n",
      " 85%|████████▌ | 17/20 [01:37<00:09,  3.18s/it]\u001b[A\n",
      " 90%|█████████ | 18/20 [01:39<00:05,  2.76s/it]\u001b[A\n",
      " 95%|█████████▌| 19/20 [01:40<00:02,  2.34s/it]\u001b[A\n",
      "100%|██████████| 20/20 [01:41<00:00,  5.08s/it]\u001b[A\n"
     ]
    },
    {
     "name": "stdout",
     "output_type": "stream",
     "text": [
      "generator loss:0.8909529476929106\n",
      "-----------------------\n"
     ]
    },
    {
     "name": "stderr",
     "output_type": "stream",
     "text": [
      "207it [6:22:28, 109.88s/it]\n",
      "  0%|          | 0/20 [00:00<?, ?it/s]\u001b[A"
     ]
    },
    {
     "name": "stdout",
     "output_type": "stream",
     "text": [
      "total discriminator loss:0.6931863985523781\n",
      "-----------------------\n",
      "Training Step: 208\n"
     ]
    },
    {
     "name": "stderr",
     "output_type": "stream",
     "text": [
      "\n",
      "  5%|▌         | 1/20 [00:09<02:55,  9.22s/it]\u001b[A\n",
      " 10%|█         | 2/20 [00:17<02:40,  8.92s/it]\u001b[A\n",
      " 15%|█▌        | 3/20 [00:26<02:28,  8.73s/it]\u001b[A\n",
      " 20%|██        | 4/20 [00:34<02:14,  8.40s/it]\u001b[A\n",
      " 25%|██▌       | 5/20 [00:41<02:01,  8.08s/it]\u001b[A\n",
      " 30%|███       | 6/20 [00:48<01:46,  7.61s/it]\u001b[A\n",
      " 35%|███▌      | 7/20 [00:55<01:35,  7.36s/it]\u001b[A\n",
      " 40%|████      | 8/20 [01:01<01:22,  6.89s/it]\u001b[A\n",
      " 45%|████▌     | 9/20 [01:07<01:13,  6.66s/it]\u001b[A\n",
      " 50%|█████     | 10/20 [01:12<01:01,  6.16s/it]\u001b[A\n",
      " 55%|█████▌    | 11/20 [01:17<00:51,  5.71s/it]\u001b[A\n",
      " 60%|██████    | 12/20 [01:22<00:44,  5.52s/it]\u001b[A\n",
      " 65%|██████▌   | 13/20 [01:26<00:35,  5.01s/it]\u001b[A\n",
      " 70%|███████   | 14/20 [01:29<00:27,  4.52s/it]\u001b[A\n",
      " 75%|███████▌  | 15/20 [01:32<00:20,  4.07s/it]\u001b[A\n",
      " 80%|████████  | 16/20 [01:35<00:14,  3.62s/it]\u001b[A\n",
      " 85%|████████▌ | 17/20 [01:37<00:09,  3.20s/it]\u001b[A\n",
      " 90%|█████████ | 18/20 [01:39<00:05,  2.78s/it]\u001b[A\n",
      " 95%|█████████▌| 19/20 [01:40<00:02,  2.37s/it]\u001b[A\n",
      "100%|██████████| 20/20 [01:41<00:00,  5.07s/it]\u001b[A\n"
     ]
    },
    {
     "name": "stdout",
     "output_type": "stream",
     "text": [
      "generator loss:0.9053262031192414\n",
      "-----------------------\n"
     ]
    },
    {
     "name": "stderr",
     "output_type": "stream",
     "text": [
      "208it [6:24:17, 109.80s/it]\n",
      "  0%|          | 0/20 [00:00<?, ?it/s]\u001b[A"
     ]
    },
    {
     "name": "stdout",
     "output_type": "stream",
     "text": [
      "total discriminator loss:0.6931890887451013\n",
      "-----------------------\n",
      "Training Step: 209\n"
     ]
    },
    {
     "name": "stderr",
     "output_type": "stream",
     "text": [
      "\n",
      "  5%|▌         | 1/20 [00:09<02:54,  9.20s/it]\u001b[A\n",
      " 10%|█         | 2/20 [00:17<02:40,  8.90s/it]\u001b[A\n",
      " 15%|█▌        | 3/20 [00:26<02:28,  8.71s/it]\u001b[A\n",
      " 20%|██        | 4/20 [00:34<02:14,  8.40s/it]\u001b[A\n",
      " 25%|██▌       | 5/20 [00:41<02:01,  8.12s/it]\u001b[A\n",
      " 30%|███       | 6/20 [00:48<01:46,  7.62s/it]\u001b[A\n",
      " 35%|███▌      | 7/20 [00:55<01:35,  7.38s/it]\u001b[A\n",
      " 40%|████      | 8/20 [01:01<01:22,  6.90s/it]\u001b[A\n",
      " 45%|████▌     | 9/20 [01:07<01:13,  6.66s/it]\u001b[A\n",
      " 50%|█████     | 10/20 [01:12<01:01,  6.17s/it]\u001b[A\n",
      " 55%|█████▌    | 11/20 [01:17<00:51,  5.71s/it]\u001b[A\n",
      " 60%|██████    | 12/20 [01:22<00:44,  5.54s/it]\u001b[A\n",
      " 65%|██████▌   | 13/20 [01:26<00:35,  5.01s/it]\u001b[A\n",
      " 70%|███████   | 14/20 [01:29<00:27,  4.52s/it]\u001b[A\n",
      " 75%|███████▌  | 15/20 [01:32<00:20,  4.07s/it]\u001b[A\n",
      " 80%|████████  | 16/20 [01:35<00:14,  3.63s/it]\u001b[A\n",
      " 85%|████████▌ | 17/20 [01:37<00:09,  3.21s/it]\u001b[A\n",
      " 90%|█████████ | 18/20 [01:39<00:05,  2.79s/it]\u001b[A\n",
      " 95%|█████████▌| 19/20 [01:40<00:02,  2.37s/it]\u001b[A\n",
      "100%|██████████| 20/20 [01:41<00:00,  5.08s/it]\u001b[A\n"
     ]
    },
    {
     "name": "stdout",
     "output_type": "stream",
     "text": [
      "generator loss:0.8909263839350515\n",
      "-----------------------\n"
     ]
    },
    {
     "name": "stderr",
     "output_type": "stream",
     "text": [
      "209it [6:26:07, 109.77s/it]\n",
      "  0%|          | 0/20 [00:00<?, ?it/s]\u001b[A"
     ]
    },
    {
     "name": "stdout",
     "output_type": "stream",
     "text": [
      "total discriminator loss:0.6931872407649227\n",
      "-----------------------\n",
      "Training Step: 210\n"
     ]
    },
    {
     "name": "stderr",
     "output_type": "stream",
     "text": [
      "\n",
      "  5%|▌         | 1/20 [00:09<02:57,  9.34s/it]\u001b[A\n",
      " 10%|█         | 2/20 [00:18<02:42,  9.02s/it]\u001b[A\n",
      " 15%|█▌        | 3/20 [00:26<02:29,  8.78s/it]\u001b[A\n",
      " 20%|██        | 4/20 [00:34<02:14,  8.43s/it]\u001b[A\n",
      " 25%|██▌       | 5/20 [00:42<02:01,  8.11s/it]\u001b[A\n",
      " 30%|███       | 6/20 [00:48<01:46,  7.60s/it]\u001b[A\n",
      " 35%|███▌      | 7/20 [00:55<01:35,  7.36s/it]\u001b[A\n",
      " 40%|████      | 8/20 [01:01<01:23,  6.93s/it]\u001b[A\n",
      " 45%|████▌     | 9/20 [01:07<01:13,  6.71s/it]\u001b[A\n",
      " 50%|█████     | 10/20 [01:12<01:02,  6.23s/it]\u001b[A\n",
      " 55%|█████▌    | 11/20 [01:17<00:51,  5.75s/it]\u001b[A\n",
      " 60%|██████    | 12/20 [01:22<00:44,  5.55s/it]\u001b[A\n",
      " 65%|██████▌   | 13/20 [01:26<00:35,  5.03s/it]\u001b[A\n",
      " 70%|███████   | 14/20 [01:29<00:27,  4.54s/it]\u001b[A\n",
      " 75%|███████▌  | 15/20 [01:32<00:20,  4.09s/it]\u001b[A\n",
      " 80%|████████  | 16/20 [01:35<00:14,  3.66s/it]\u001b[A\n",
      " 85%|████████▌ | 17/20 [01:37<00:09,  3.22s/it]\u001b[A\n",
      " 90%|█████████ | 18/20 [01:39<00:05,  2.80s/it]\u001b[A\n",
      " 95%|█████████▌| 19/20 [01:41<00:02,  2.38s/it]\u001b[A\n",
      "100%|██████████| 20/20 [01:42<00:00,  5.10s/it]\u001b[A\n"
     ]
    },
    {
     "name": "stdout",
     "output_type": "stream",
     "text": [
      "generator loss:0.9055487161717366\n",
      "-----------------------\n"
     ]
    },
    {
     "name": "stderr",
     "output_type": "stream",
     "text": [
      "210it [6:27:57, 109.89s/it]\n",
      "  0%|          | 0/20 [00:00<?, ?it/s]\u001b[A"
     ]
    },
    {
     "name": "stdout",
     "output_type": "stream",
     "text": [
      "total discriminator loss:0.6931863445905676\n",
      "-----------------------\n",
      "Training Step: 211\n"
     ]
    },
    {
     "name": "stderr",
     "output_type": "stream",
     "text": [
      "\n",
      "  5%|▌         | 1/20 [00:09<02:55,  9.24s/it]\u001b[A\n",
      " 10%|█         | 2/20 [00:17<02:40,  8.91s/it]\u001b[A\n",
      " 15%|█▌        | 3/20 [00:26<02:27,  8.68s/it]\u001b[A\n",
      " 20%|██        | 4/20 [00:34<02:13,  8.37s/it]\u001b[A\n",
      " 25%|██▌       | 5/20 [00:41<02:01,  8.09s/it]\u001b[A\n",
      " 30%|███       | 6/20 [00:48<01:46,  7.60s/it]\u001b[A\n",
      " 35%|███▌      | 7/20 [00:55<01:35,  7.34s/it]\u001b[A\n",
      " 40%|████      | 8/20 [01:01<01:22,  6.89s/it]\u001b[A\n",
      " 45%|████▌     | 9/20 [01:07<01:13,  6.65s/it]\u001b[A\n",
      " 50%|█████     | 10/20 [01:12<01:01,  6.16s/it]\u001b[A\n",
      " 55%|█████▌    | 11/20 [01:17<00:51,  5.70s/it]\u001b[A\n",
      " 60%|██████    | 12/20 [01:22<00:44,  5.52s/it]\u001b[A\n",
      " 65%|██████▌   | 13/20 [01:25<00:34,  4.99s/it]\u001b[A\n",
      " 70%|███████   | 14/20 [01:29<00:27,  4.51s/it]\u001b[A\n",
      " 75%|███████▌  | 15/20 [01:32<00:20,  4.06s/it]\u001b[A\n",
      " 80%|████████  | 16/20 [01:34<00:14,  3.61s/it]\u001b[A\n",
      " 85%|████████▌ | 17/20 [01:37<00:09,  3.19s/it]\u001b[A\n",
      " 90%|█████████ | 18/20 [01:38<00:05,  2.78s/it]\u001b[A\n",
      " 95%|█████████▌| 19/20 [01:40<00:02,  2.36s/it]\u001b[A\n",
      "100%|██████████| 20/20 [01:41<00:00,  5.07s/it]\u001b[A\n"
     ]
    },
    {
     "name": "stdout",
     "output_type": "stream",
     "text": [
      "generator loss:0.8912685642103295\n",
      "-----------------------\n"
     ]
    },
    {
     "name": "stderr",
     "output_type": "stream",
     "text": [
      "211it [6:29:47, 109.75s/it]\n",
      "  0%|          | 0/20 [00:00<?, ?it/s]\u001b[A"
     ]
    },
    {
     "name": "stdout",
     "output_type": "stream",
     "text": [
      "total discriminator loss:0.693188493241096\n",
      "-----------------------\n",
      "Training Step: 212\n"
     ]
    },
    {
     "name": "stderr",
     "output_type": "stream",
     "text": [
      "\n",
      "  5%|▌         | 1/20 [00:09<02:56,  9.28s/it]\u001b[A\n",
      " 10%|█         | 2/20 [00:18<02:41,  8.97s/it]\u001b[A\n",
      " 15%|█▌        | 3/20 [00:26<02:28,  8.76s/it]\u001b[A\n",
      " 20%|██        | 4/20 [00:34<02:14,  8.43s/it]\u001b[A\n",
      " 25%|██▌       | 5/20 [00:42<02:02,  8.14s/it]\u001b[A\n",
      " 30%|███       | 6/20 [00:48<01:47,  7.65s/it]\u001b[A\n",
      " 35%|███▌      | 7/20 [00:55<01:35,  7.38s/it]\u001b[A\n",
      " 40%|████      | 8/20 [01:01<01:22,  6.90s/it]\u001b[A\n",
      " 45%|████▌     | 9/20 [01:07<01:13,  6.67s/it]\u001b[A\n",
      " 50%|█████     | 10/20 [01:12<01:01,  6.20s/it]\u001b[A\n",
      " 55%|█████▌    | 11/20 [01:17<00:51,  5.75s/it]\u001b[A\n",
      " 60%|██████    | 12/20 [01:22<00:44,  5.57s/it]\u001b[A\n",
      " 65%|██████▌   | 13/20 [01:26<00:35,  5.05s/it]\u001b[A\n",
      " 70%|███████   | 14/20 [01:30<00:27,  4.57s/it]\u001b[A\n",
      " 75%|███████▌  | 15/20 [01:33<00:20,  4.14s/it]\u001b[A\n",
      " 80%|████████  | 16/20 [01:35<00:14,  3.68s/it]\u001b[A\n",
      " 85%|████████▌ | 17/20 [01:37<00:09,  3.24s/it]\u001b[A\n",
      " 90%|█████████ | 18/20 [01:39<00:05,  2.81s/it]\u001b[A\n",
      " 95%|█████████▌| 19/20 [01:41<00:02,  2.39s/it]\u001b[A\n",
      "100%|██████████| 20/20 [01:42<00:00,  5.11s/it]\u001b[A\n"
     ]
    },
    {
     "name": "stdout",
     "output_type": "stream",
     "text": [
      "generator loss:0.9054986469314757\n",
      "-----------------------\n"
     ]
    },
    {
     "name": "stderr",
     "output_type": "stream",
     "text": [
      "212it [6:31:37, 109.93s/it]\n",
      "  0%|          | 0/20 [00:00<?, ?it/s]\u001b[A"
     ]
    },
    {
     "name": "stdout",
     "output_type": "stream",
     "text": [
      "total discriminator loss:0.6931820045722494\n",
      "-----------------------\n",
      "Training Step: 213\n"
     ]
    },
    {
     "name": "stderr",
     "output_type": "stream",
     "text": [
      "\n",
      "  5%|▌         | 1/20 [00:09<02:56,  9.28s/it]\u001b[A\n",
      " 10%|█         | 2/20 [00:18<02:42,  9.01s/it]\u001b[A\n",
      " 15%|█▌        | 3/20 [00:26<02:29,  8.78s/it]\u001b[A\n",
      " 20%|██        | 4/20 [00:34<02:15,  8.47s/it]\u001b[A\n",
      " 25%|██▌       | 5/20 [00:42<02:02,  8.16s/it]\u001b[A\n",
      " 30%|███       | 6/20 [00:48<01:47,  7.68s/it]\u001b[A\n",
      " 35%|███▌      | 7/20 [00:55<01:36,  7.41s/it]\u001b[A\n",
      " 40%|████      | 8/20 [01:01<01:23,  6.95s/it]\u001b[A\n",
      " 45%|████▌     | 9/20 [01:07<01:13,  6.72s/it]\u001b[A\n",
      " 50%|█████     | 10/20 [01:13<01:02,  6.25s/it]\u001b[A\n",
      " 55%|█████▌    | 11/20 [01:17<00:52,  5.79s/it]\u001b[A\n",
      " 60%|██████    | 12/20 [01:23<00:44,  5.61s/it]\u001b[A\n",
      " 65%|██████▌   | 13/20 [01:27<00:35,  5.09s/it]\u001b[A\n",
      " 70%|███████   | 14/20 [01:30<00:27,  4.61s/it]\u001b[A\n",
      " 75%|███████▌  | 15/20 [01:33<00:20,  4.14s/it]\u001b[A\n",
      " 80%|████████  | 16/20 [01:36<00:14,  3.68s/it]\u001b[A\n",
      " 85%|████████▌ | 17/20 [01:38<00:09,  3.25s/it]\u001b[A\n",
      " 90%|█████████ | 18/20 [01:40<00:05,  2.83s/it]\u001b[A\n",
      " 95%|█████████▌| 19/20 [01:41<00:02,  2.41s/it]\u001b[A\n",
      "100%|██████████| 20/20 [01:42<00:00,  5.14s/it]\u001b[A\n"
     ]
    },
    {
     "name": "stdout",
     "output_type": "stream",
     "text": [
      "generator loss:0.8893722358104945\n",
      "-----------------------\n"
     ]
    },
    {
     "name": "stderr",
     "output_type": "stream",
     "text": [
      "213it [6:33:28, 110.23s/it]\n",
      "  0%|          | 0/20 [00:00<?, ?it/s]\u001b[A"
     ]
    },
    {
     "name": "stdout",
     "output_type": "stream",
     "text": [
      "total discriminator loss:0.6931850108951834\n",
      "-----------------------\n",
      "Training Step: 214\n"
     ]
    },
    {
     "name": "stderr",
     "output_type": "stream",
     "text": [
      "\n",
      "  5%|▌         | 1/20 [00:09<02:56,  9.29s/it]\u001b[A\n",
      " 10%|█         | 2/20 [00:18<02:41,  8.99s/it]\u001b[A\n",
      " 15%|█▌        | 3/20 [00:26<02:29,  8.78s/it]\u001b[A\n",
      " 20%|██        | 4/20 [00:34<02:15,  8.48s/it]\u001b[A\n",
      " 25%|██▌       | 5/20 [00:42<02:02,  8.18s/it]\u001b[A\n",
      " 30%|███       | 6/20 [00:48<01:47,  7.69s/it]\u001b[A\n",
      " 35%|███▌      | 7/20 [00:55<01:36,  7.42s/it]\u001b[A\n",
      " 40%|████      | 8/20 [01:01<01:23,  6.95s/it]\u001b[A\n",
      " 45%|████▌     | 9/20 [01:07<01:13,  6.69s/it]\u001b[A\n",
      " 50%|█████     | 10/20 [01:13<01:02,  6.21s/it]\u001b[A\n",
      " 55%|█████▌    | 11/20 [01:17<00:51,  5.74s/it]\u001b[A\n",
      " 60%|██████    | 12/20 [01:22<00:44,  5.56s/it]\u001b[A\n",
      " 65%|██████▌   | 13/20 [01:26<00:35,  5.05s/it]\u001b[A\n",
      " 70%|███████   | 14/20 [01:30<00:27,  4.56s/it]\u001b[A\n",
      " 75%|███████▌  | 15/20 [01:33<00:20,  4.11s/it]\u001b[A\n",
      " 80%|████████  | 16/20 [01:35<00:14,  3.66s/it]\u001b[A\n",
      " 85%|████████▌ | 17/20 [01:38<00:09,  3.23s/it]\u001b[A\n",
      " 90%|█████████ | 18/20 [01:39<00:05,  2.80s/it]\u001b[A\n",
      " 95%|█████████▌| 19/20 [01:41<00:02,  2.39s/it]\u001b[A\n",
      "100%|██████████| 20/20 [01:42<00:00,  5.12s/it]\u001b[A\n"
     ]
    },
    {
     "name": "stdout",
     "output_type": "stream",
     "text": [
      "generator loss:0.9053003237637955\n",
      "-----------------------\n"
     ]
    },
    {
     "name": "stderr",
     "output_type": "stream",
     "text": [
      "214it [6:35:18, 110.31s/it]\n",
      "  0%|          | 0/20 [00:00<?, ?it/s]\u001b[A"
     ]
    },
    {
     "name": "stdout",
     "output_type": "stream",
     "text": [
      "total discriminator loss:0.6931875839498685\n",
      "-----------------------\n",
      "Training Step: 215\n"
     ]
    },
    {
     "name": "stderr",
     "output_type": "stream",
     "text": [
      "\n",
      "  5%|▌         | 1/20 [00:09<02:57,  9.32s/it]\u001b[A\n",
      " 10%|█         | 2/20 [00:18<02:41,  8.99s/it]\u001b[A\n",
      " 15%|█▌        | 3/20 [00:26<02:28,  8.76s/it]\u001b[A\n",
      " 20%|██        | 4/20 [00:34<02:14,  8.41s/it]\u001b[A\n",
      " 25%|██▌       | 5/20 [00:42<02:01,  8.10s/it]\u001b[A\n",
      " 30%|███       | 6/20 [00:48<01:46,  7.58s/it]\u001b[A\n",
      " 35%|███▌      | 7/20 [00:55<01:35,  7.35s/it]\u001b[A\n",
      " 40%|████      | 8/20 [01:01<01:22,  6.87s/it]\u001b[A\n",
      " 45%|████▌     | 9/20 [01:07<01:13,  6.65s/it]\u001b[A\n",
      " 50%|█████     | 10/20 [01:12<01:01,  6.17s/it]\u001b[A\n",
      " 55%|█████▌    | 11/20 [01:17<00:51,  5.71s/it]\u001b[A\n",
      " 60%|██████    | 12/20 [01:22<00:44,  5.53s/it]\u001b[A\n",
      " 65%|██████▌   | 13/20 [01:26<00:35,  5.00s/it]\u001b[A\n",
      " 70%|███████   | 14/20 [01:29<00:27,  4.53s/it]\u001b[A\n",
      " 75%|███████▌  | 15/20 [01:32<00:20,  4.06s/it]\u001b[A\n",
      " 80%|████████  | 16/20 [01:35<00:14,  3.62s/it]\u001b[A\n",
      " 85%|████████▌ | 17/20 [01:37<00:09,  3.19s/it]\u001b[A\n",
      " 90%|█████████ | 18/20 [01:39<00:05,  2.78s/it]\u001b[A\n",
      " 95%|█████████▌| 19/20 [01:40<00:02,  2.37s/it]\u001b[A\n",
      "100%|██████████| 20/20 [01:41<00:00,  5.08s/it]\u001b[A\n"
     ]
    },
    {
     "name": "stdout",
     "output_type": "stream",
     "text": [
      "generator loss:0.8914337815190452\n",
      "-----------------------\n"
     ]
    },
    {
     "name": "stderr",
     "output_type": "stream",
     "text": [
      "215it [6:37:08, 110.13s/it]\n",
      "  0%|          | 0/20 [00:00<?, ?it/s]\u001b[A"
     ]
    },
    {
     "name": "stdout",
     "output_type": "stream",
     "text": [
      "total discriminator loss:0.6931813412924386\n",
      "-----------------------\n",
      "Training Step: 216\n"
     ]
    },
    {
     "name": "stderr",
     "output_type": "stream",
     "text": [
      "\n",
      "  5%|▌         | 1/20 [00:09<02:55,  9.25s/it]\u001b[A\n",
      " 10%|█         | 2/20 [00:17<02:40,  8.92s/it]\u001b[A\n",
      " 15%|█▌        | 3/20 [00:26<02:27,  8.70s/it]\u001b[A\n",
      " 20%|██        | 4/20 [00:34<02:14,  8.40s/it]\u001b[A\n",
      " 25%|██▌       | 5/20 [00:41<02:01,  8.09s/it]\u001b[A\n",
      " 30%|███       | 6/20 [00:48<01:46,  7.60s/it]\u001b[A\n",
      " 35%|███▌      | 7/20 [00:55<01:35,  7.33s/it]\u001b[A\n",
      " 40%|████      | 8/20 [01:01<01:22,  6.85s/it]\u001b[A\n",
      " 45%|████▌     | 9/20 [01:07<01:12,  6.62s/it]\u001b[A\n",
      " 50%|█████     | 10/20 [01:12<01:01,  6.14s/it]\u001b[A\n",
      " 55%|█████▌    | 11/20 [01:16<00:51,  5.69s/it]\u001b[A\n",
      " 60%|██████    | 12/20 [01:22<00:44,  5.51s/it]\u001b[A\n",
      " 65%|██████▌   | 13/20 [01:25<00:35,  5.00s/it]\u001b[A\n",
      " 70%|███████   | 14/20 [01:29<00:27,  4.51s/it]\u001b[A\n",
      " 75%|███████▌  | 15/20 [01:32<00:20,  4.05s/it]\u001b[A\n",
      " 80%|████████  | 16/20 [01:34<00:14,  3.61s/it]\u001b[A\n",
      " 85%|████████▌ | 17/20 [01:37<00:09,  3.18s/it]\u001b[A\n",
      " 90%|█████████ | 18/20 [01:38<00:05,  2.77s/it]\u001b[A\n",
      " 95%|█████████▌| 19/20 [01:40<00:02,  2.36s/it]\u001b[A\n",
      "100%|██████████| 20/20 [01:41<00:00,  5.06s/it]\u001b[A\n"
     ]
    },
    {
     "name": "stdout",
     "output_type": "stream",
     "text": [
      "generator loss:0.9061594362940089\n",
      "-----------------------\n"
     ]
    },
    {
     "name": "stderr",
     "output_type": "stream",
     "text": [
      "216it [6:38:57, 109.88s/it]\n",
      "  0%|          | 0/20 [00:00<?, ?it/s]\u001b[A"
     ]
    },
    {
     "name": "stdout",
     "output_type": "stream",
     "text": [
      "total discriminator loss:0.6931803960349497\n",
      "-----------------------\n",
      "Training Step: 217\n"
     ]
    },
    {
     "name": "stderr",
     "output_type": "stream",
     "text": [
      "\n",
      "  5%|▌         | 1/20 [00:09<02:58,  9.40s/it]\u001b[A\n",
      " 10%|█         | 2/20 [00:18<02:43,  9.10s/it]\u001b[A\n",
      " 15%|█▌        | 3/20 [00:26<02:29,  8.82s/it]\u001b[A\n",
      " 20%|██        | 4/20 [00:34<02:15,  8.46s/it]\u001b[A\n",
      " 25%|██▌       | 5/20 [00:42<02:02,  8.14s/it]\u001b[A\n",
      " 30%|███       | 6/20 [00:48<01:46,  7.64s/it]\u001b[A\n",
      " 35%|███▌      | 7/20 [00:55<01:35,  7.37s/it]\u001b[A\n",
      " 40%|████      | 8/20 [01:01<01:22,  6.90s/it]\u001b[A\n",
      " 45%|████▌     | 9/20 [01:07<01:13,  6.66s/it]\u001b[A\n",
      " 50%|█████     | 10/20 [01:12<01:01,  6.18s/it]\u001b[A\n",
      " 55%|█████▌    | 11/20 [01:17<00:51,  5.71s/it]\u001b[A\n",
      " 60%|██████    | 12/20 [01:22<00:44,  5.53s/it]\u001b[A\n",
      " 65%|██████▌   | 13/20 [01:26<00:35,  5.01s/it]\u001b[A\n",
      " 70%|███████   | 14/20 [01:29<00:27,  4.52s/it]\u001b[A\n",
      " 75%|███████▌  | 15/20 [01:32<00:20,  4.06s/it]\u001b[A\n",
      " 80%|████████  | 16/20 [01:35<00:14,  3.62s/it]\u001b[A\n",
      " 85%|████████▌ | 17/20 [01:37<00:09,  3.19s/it]\u001b[A\n",
      " 90%|█████████ | 18/20 [01:39<00:05,  2.76s/it]\u001b[A\n",
      " 95%|█████████▌| 19/20 [01:40<00:02,  2.35s/it]\u001b[A\n",
      "100%|██████████| 20/20 [01:41<00:00,  5.09s/it]\u001b[A\n"
     ]
    },
    {
     "name": "stdout",
     "output_type": "stream",
     "text": [
      "generator loss:0.8900953499549956\n",
      "-----------------------\n"
     ]
    },
    {
     "name": "stderr",
     "output_type": "stream",
     "text": [
      "217it [6:40:47, 109.89s/it]\n",
      "  0%|          | 0/20 [00:00<?, ?it/s]\u001b[A"
     ]
    },
    {
     "name": "stdout",
     "output_type": "stream",
     "text": [
      "total discriminator loss:0.6931890693528001\n",
      "-----------------------\n",
      "Training Step: 218\n"
     ]
    },
    {
     "name": "stderr",
     "output_type": "stream",
     "text": [
      "\n",
      "  5%|▌         | 1/20 [00:09<02:56,  9.27s/it]\u001b[A\n",
      " 10%|█         | 2/20 [00:18<02:41,  8.95s/it]\u001b[A\n",
      " 15%|█▌        | 3/20 [00:26<02:28,  8.74s/it]\u001b[A\n",
      " 20%|██        | 4/20 [00:34<02:14,  8.40s/it]\u001b[A\n",
      " 25%|██▌       | 5/20 [00:41<02:01,  8.10s/it]\u001b[A\n",
      " 30%|███       | 6/20 [00:48<01:46,  7.60s/it]\u001b[A\n",
      " 35%|███▌      | 7/20 [00:55<01:35,  7.38s/it]\u001b[A\n",
      " 40%|████      | 8/20 [01:01<01:22,  6.89s/it]\u001b[A\n",
      " 45%|████▌     | 9/20 [01:07<01:13,  6.64s/it]\u001b[A\n",
      " 50%|█████     | 10/20 [01:12<01:01,  6.17s/it]\u001b[A\n",
      " 55%|█████▌    | 11/20 [01:17<00:51,  5.70s/it]\u001b[A\n",
      " 60%|██████    | 12/20 [01:22<00:44,  5.52s/it]\u001b[A\n",
      " 65%|██████▌   | 13/20 [01:26<00:35,  5.00s/it]\u001b[A\n",
      " 70%|███████   | 14/20 [01:29<00:27,  4.52s/it]\u001b[A\n",
      " 75%|███████▌  | 15/20 [01:32<00:20,  4.06s/it]\u001b[A\n",
      " 80%|████████  | 16/20 [01:35<00:14,  3.61s/it]\u001b[A\n",
      " 85%|████████▌ | 17/20 [01:37<00:09,  3.19s/it]\u001b[A\n",
      " 90%|█████████ | 18/20 [01:39<00:05,  2.76s/it]\u001b[A\n",
      " 95%|█████████▌| 19/20 [01:40<00:02,  2.35s/it]\u001b[A\n",
      "100%|██████████| 20/20 [01:41<00:00,  5.07s/it]\u001b[A\n"
     ]
    },
    {
     "name": "stdout",
     "output_type": "stream",
     "text": [
      "generator loss:0.9050012155728236\n",
      "-----------------------\n"
     ]
    },
    {
     "name": "stderr",
     "output_type": "stream",
     "text": [
      "218it [6:42:37, 109.78s/it]\n",
      "  0%|          | 0/20 [00:00<?, ?it/s]\u001b[A"
     ]
    },
    {
     "name": "stdout",
     "output_type": "stream",
     "text": [
      "total discriminator loss:0.6931886984071005\n",
      "-----------------------\n",
      "Training Step: 219\n"
     ]
    },
    {
     "name": "stderr",
     "output_type": "stream",
     "text": [
      "\n",
      "  5%|▌         | 1/20 [00:09<02:58,  9.42s/it]\u001b[A\n",
      " 10%|█         | 2/20 [00:18<02:43,  9.10s/it]\u001b[A\n",
      " 15%|█▌        | 3/20 [00:26<02:29,  8.82s/it]\u001b[A\n",
      " 20%|██        | 4/20 [00:34<02:15,  8.46s/it]\u001b[A\n",
      " 25%|██▌       | 5/20 [00:42<02:02,  8.14s/it]\u001b[A\n",
      " 30%|███       | 6/20 [00:48<01:46,  7.61s/it]\u001b[A\n",
      " 35%|███▌      | 7/20 [00:55<01:35,  7.35s/it]\u001b[A\n",
      " 40%|████      | 8/20 [01:01<01:22,  6.88s/it]\u001b[A\n",
      " 45%|████▌     | 9/20 [01:07<01:13,  6.65s/it]\u001b[A\n",
      " 50%|█████     | 10/20 [01:12<01:01,  6.17s/it]\u001b[A\n",
      " 55%|█████▌    | 11/20 [01:17<00:51,  5.70s/it]\u001b[A\n",
      " 60%|██████    | 12/20 [01:22<00:44,  5.51s/it]\u001b[A\n",
      " 65%|██████▌   | 13/20 [01:26<00:34,  4.99s/it]\u001b[A\n",
      " 70%|███████   | 14/20 [01:29<00:27,  4.51s/it]\u001b[A\n",
      " 75%|███████▌  | 15/20 [01:32<00:20,  4.06s/it]\u001b[A\n",
      " 80%|████████  | 16/20 [01:35<00:14,  3.62s/it]\u001b[A\n",
      " 85%|████████▌ | 17/20 [01:37<00:09,  3.19s/it]\u001b[A\n",
      " 90%|█████████ | 18/20 [01:39<00:05,  2.77s/it]\u001b[A\n",
      " 95%|█████████▌| 19/20 [01:40<00:02,  2.35s/it]\u001b[A\n",
      "100%|██████████| 20/20 [01:41<00:00,  5.08s/it]\u001b[A\n"
     ]
    },
    {
     "name": "stdout",
     "output_type": "stream",
     "text": [
      "generator loss:0.8916771331495784\n",
      "-----------------------\n"
     ]
    },
    {
     "name": "stderr",
     "output_type": "stream",
     "text": [
      "219it [6:44:27, 109.77s/it]\n",
      "  0%|          | 0/20 [00:00<?, ?it/s]\u001b[A"
     ]
    },
    {
     "name": "stdout",
     "output_type": "stream",
     "text": [
      "total discriminator loss:0.6931887960971879\n",
      "-----------------------\n",
      "Training Step: 220\n"
     ]
    },
    {
     "name": "stderr",
     "output_type": "stream",
     "text": [
      "\n",
      "  5%|▌         | 1/20 [00:09<02:55,  9.22s/it]\u001b[A\n",
      " 10%|█         | 2/20 [00:17<02:41,  8.95s/it]\u001b[A\n",
      " 15%|█▌        | 3/20 [00:26<02:27,  8.70s/it]\u001b[A\n",
      " 20%|██        | 4/20 [00:34<02:14,  8.40s/it]\u001b[A\n",
      " 25%|██▌       | 5/20 [00:41<02:01,  8.12s/it]\u001b[A\n",
      " 30%|███       | 6/20 [00:48<01:46,  7.63s/it]\u001b[A\n",
      " 35%|███▌      | 7/20 [00:55<01:35,  7.38s/it]\u001b[A\n",
      " 40%|████      | 8/20 [01:01<01:23,  6.93s/it]\u001b[A\n",
      " 45%|████▌     | 9/20 [01:07<01:13,  6.69s/it]\u001b[A\n",
      " 50%|█████     | 10/20 [01:12<01:02,  6.20s/it]\u001b[A\n",
      " 55%|█████▌    | 11/20 [01:17<00:51,  5.74s/it]\u001b[A\n",
      " 60%|██████    | 12/20 [01:22<00:44,  5.55s/it]\u001b[A\n",
      " 65%|██████▌   | 13/20 [01:26<00:35,  5.03s/it]\u001b[A\n",
      " 70%|███████   | 14/20 [01:29<00:27,  4.54s/it]\u001b[A\n",
      " 75%|███████▌  | 15/20 [01:32<00:20,  4.08s/it]\u001b[A\n",
      " 80%|████████  | 16/20 [01:35<00:14,  3.63s/it]\u001b[A\n",
      " 85%|████████▌ | 17/20 [01:37<00:09,  3.20s/it]\u001b[A\n",
      " 90%|█████████ | 18/20 [01:39<00:05,  2.77s/it]\u001b[A\n",
      " 95%|█████████▌| 19/20 [01:40<00:02,  2.36s/it]\u001b[A\n",
      "100%|██████████| 20/20 [01:41<00:00,  5.09s/it]\u001b[A\n"
     ]
    },
    {
     "name": "stdout",
     "output_type": "stream",
     "text": [
      "generator loss:0.9050213337729645\n",
      "-----------------------\n"
     ]
    },
    {
     "name": "stderr",
     "output_type": "stream",
     "text": [
      "220it [6:46:16, 109.79s/it]\n",
      "  0%|          | 0/20 [00:00<?, ?it/s]\u001b[A"
     ]
    },
    {
     "name": "stdout",
     "output_type": "stream",
     "text": [
      "total discriminator loss:0.6931860728852517\n",
      "-----------------------\n",
      "Training Step: 221\n"
     ]
    },
    {
     "name": "stderr",
     "output_type": "stream",
     "text": [
      "\n",
      "  5%|▌         | 1/20 [00:09<02:55,  9.23s/it]\u001b[A\n",
      " 10%|█         | 2/20 [00:17<02:41,  8.96s/it]\u001b[A\n",
      " 15%|█▌        | 3/20 [00:26<02:28,  8.75s/it]\u001b[A\n",
      " 20%|██        | 4/20 [00:34<02:15,  8.48s/it]\u001b[A\n",
      " 25%|██▌       | 5/20 [00:42<02:02,  8.16s/it]\u001b[A\n",
      " 30%|███       | 6/20 [00:48<01:47,  7.65s/it]\u001b[A\n",
      " 35%|███▌      | 7/20 [00:55<01:36,  7.40s/it]\u001b[A\n",
      " 40%|████      | 8/20 [01:01<01:23,  6.94s/it]\u001b[A\n",
      " 45%|████▌     | 9/20 [01:07<01:13,  6.70s/it]\u001b[A\n",
      " 50%|█████     | 10/20 [01:12<01:02,  6.22s/it]\u001b[A\n",
      " 55%|█████▌    | 11/20 [01:17<00:51,  5.75s/it]\u001b[A\n",
      " 60%|██████    | 12/20 [01:22<00:44,  5.56s/it]\u001b[A\n",
      " 65%|██████▌   | 13/20 [01:26<00:35,  5.04s/it]\u001b[A\n",
      " 70%|███████   | 14/20 [01:30<00:27,  4.55s/it]\u001b[A\n",
      " 75%|███████▌  | 15/20 [01:33<00:20,  4.10s/it]\u001b[A\n",
      " 80%|████████  | 16/20 [01:35<00:14,  3.66s/it]\u001b[A\n",
      " 85%|████████▌ | 17/20 [01:37<00:09,  3.22s/it]\u001b[A\n",
      " 90%|█████████ | 18/20 [01:39<00:05,  2.80s/it]\u001b[A\n",
      " 95%|█████████▌| 19/20 [01:41<00:02,  2.38s/it]\u001b[A\n",
      "100%|██████████| 20/20 [01:42<00:00,  5.11s/it]\u001b[A\n"
     ]
    },
    {
     "name": "stdout",
     "output_type": "stream",
     "text": [
      "generator loss:0.889785321188451\n",
      "-----------------------\n"
     ]
    },
    {
     "name": "stderr",
     "output_type": "stream",
     "text": [
      "221it [6:48:07, 109.96s/it]\n",
      "  0%|          | 0/20 [00:00<?, ?it/s]\u001b[A"
     ]
    },
    {
     "name": "stdout",
     "output_type": "stream",
     "text": [
      "total discriminator loss:0.6931844160992253\n",
      "-----------------------\n",
      "Training Step: 222\n"
     ]
    },
    {
     "name": "stderr",
     "output_type": "stream",
     "text": [
      "\n",
      "  5%|▌         | 1/20 [00:09<02:54,  9.16s/it]\u001b[A\n",
      " 10%|█         | 2/20 [00:17<02:39,  8.87s/it]\u001b[A\n",
      " 15%|█▌        | 3/20 [00:26<02:27,  8.67s/it]\u001b[A\n",
      " 20%|██        | 4/20 [00:34<02:13,  8.37s/it]\u001b[A\n",
      " 25%|██▌       | 5/20 [00:41<02:01,  8.10s/it]\u001b[A\n",
      " 30%|███       | 6/20 [00:48<01:46,  7.59s/it]\u001b[A\n",
      " 35%|███▌      | 7/20 [00:55<01:35,  7.35s/it]\u001b[A\n",
      " 40%|████      | 8/20 [01:01<01:22,  6.88s/it]\u001b[A\n",
      " 45%|████▌     | 9/20 [01:07<01:13,  6.65s/it]\u001b[A\n",
      " 50%|█████     | 10/20 [01:12<01:01,  6.16s/it]\u001b[A\n",
      " 55%|█████▌    | 11/20 [01:16<00:51,  5.70s/it]\u001b[A\n",
      " 60%|██████    | 12/20 [01:22<00:44,  5.52s/it]\u001b[A\n",
      " 65%|██████▌   | 13/20 [01:25<00:35,  5.00s/it]\u001b[A\n",
      " 70%|███████   | 14/20 [01:29<00:27,  4.52s/it]\u001b[A\n",
      " 75%|███████▌  | 15/20 [01:32<00:20,  4.06s/it]\u001b[A\n",
      " 80%|████████  | 16/20 [01:34<00:14,  3.61s/it]\u001b[A\n",
      " 85%|████████▌ | 17/20 [01:37<00:09,  3.19s/it]\u001b[A\n",
      " 90%|█████████ | 18/20 [01:38<00:05,  2.77s/it]\u001b[A\n",
      " 95%|█████████▌| 19/20 [01:40<00:02,  2.36s/it]\u001b[A\n",
      "100%|██████████| 20/20 [01:41<00:00,  5.06s/it]\u001b[A\n"
     ]
    },
    {
     "name": "stdout",
     "output_type": "stream",
     "text": [
      "generator loss:0.9050988253089038\n",
      "-----------------------\n"
     ]
    },
    {
     "name": "stderr",
     "output_type": "stream",
     "text": [
      "222it [6:49:56, 109.81s/it]\n",
      "  0%|          | 0/20 [00:00<?, ?it/s]\u001b[A"
     ]
    },
    {
     "name": "stdout",
     "output_type": "stream",
     "text": [
      "total discriminator loss:0.693184877122306\n",
      "-----------------------\n",
      "Training Step: 223\n"
     ]
    },
    {
     "name": "stderr",
     "output_type": "stream",
     "text": [
      "\n",
      "  5%|▌         | 1/20 [00:09<02:57,  9.34s/it]\u001b[A\n",
      " 10%|█         | 2/20 [00:18<02:42,  9.05s/it]\u001b[A\n",
      " 15%|█▌        | 3/20 [00:26<02:29,  8.80s/it]\u001b[A\n",
      " 20%|██        | 4/20 [00:34<02:15,  8.45s/it]\u001b[A\n",
      " 25%|██▌       | 5/20 [00:42<02:02,  8.13s/it]\u001b[A\n",
      " 30%|███       | 6/20 [00:48<01:46,  7.62s/it]\u001b[A\n",
      " 35%|███▌      | 7/20 [00:55<01:35,  7.36s/it]\u001b[A\n",
      " 40%|████      | 8/20 [01:01<01:22,  6.89s/it]\u001b[A\n",
      " 45%|████▌     | 9/20 [01:07<01:13,  6.66s/it]\u001b[A\n",
      " 50%|█████     | 10/20 [01:12<01:01,  6.16s/it]\u001b[A\n",
      " 55%|█████▌    | 11/20 [01:17<00:51,  5.71s/it]\u001b[A\n",
      " 60%|██████    | 12/20 [01:22<00:44,  5.52s/it]\u001b[A\n",
      " 65%|██████▌   | 13/20 [01:26<00:35,  5.01s/it]\u001b[A\n",
      " 70%|███████   | 14/20 [01:29<00:27,  4.52s/it]\u001b[A\n",
      " 75%|███████▌  | 15/20 [01:32<00:20,  4.08s/it]\u001b[A\n",
      " 80%|████████  | 16/20 [01:35<00:14,  3.64s/it]\u001b[A\n",
      " 85%|████████▌ | 17/20 [01:37<00:09,  3.21s/it]\u001b[A\n",
      " 90%|█████████ | 18/20 [01:39<00:05,  2.78s/it]\u001b[A\n",
      " 95%|█████████▌| 19/20 [01:40<00:02,  2.37s/it]\u001b[A\n",
      "100%|██████████| 20/20 [01:41<00:00,  5.09s/it]\u001b[A\n"
     ]
    },
    {
     "name": "stdout",
     "output_type": "stream",
     "text": [
      "generator loss:0.8907191841793949\n",
      "-----------------------\n"
     ]
    },
    {
     "name": "stderr",
     "output_type": "stream",
     "text": [
      "223it [6:51:46, 109.84s/it]\n",
      "  0%|          | 0/20 [00:00<?, ?it/s]\u001b[A"
     ]
    },
    {
     "name": "stdout",
     "output_type": "stream",
     "text": [
      "total discriminator loss:0.693181169370996\n",
      "-----------------------\n",
      "Training Step: 224\n"
     ]
    },
    {
     "name": "stderr",
     "output_type": "stream",
     "text": [
      "\n",
      "  5%|▌         | 1/20 [00:09<02:55,  9.25s/it]\u001b[A\n",
      " 10%|█         | 2/20 [00:17<02:41,  8.95s/it]\u001b[A\n",
      " 15%|█▌        | 3/20 [00:26<02:29,  8.77s/it]\u001b[A\n",
      " 20%|██        | 4/20 [00:34<02:14,  8.42s/it]\u001b[A\n",
      " 25%|██▌       | 5/20 [00:41<02:01,  8.11s/it]\u001b[A\n",
      " 30%|███       | 6/20 [00:48<01:46,  7.62s/it]\u001b[A\n",
      " 35%|███▌      | 7/20 [00:55<01:36,  7.39s/it]\u001b[A\n",
      " 40%|████      | 8/20 [01:01<01:23,  6.93s/it]\u001b[A\n",
      " 45%|████▌     | 9/20 [01:07<01:13,  6.70s/it]\u001b[A\n",
      " 50%|█████     | 10/20 [01:12<01:02,  6.22s/it]\u001b[A\n",
      " 55%|█████▌    | 11/20 [01:17<00:52,  5.79s/it]\u001b[A\n",
      " 60%|██████    | 12/20 [01:22<00:44,  5.62s/it]\u001b[A\n",
      " 65%|██████▌   | 13/20 [01:26<00:35,  5.09s/it]\u001b[A\n",
      " 70%|███████   | 14/20 [01:30<00:27,  4.60s/it]\u001b[A\n",
      " 75%|███████▌  | 15/20 [01:33<00:20,  4.12s/it]\u001b[A\n",
      " 80%|████████  | 16/20 [01:35<00:14,  3.67s/it]\u001b[A\n",
      " 85%|████████▌ | 17/20 [01:38<00:09,  3.23s/it]\u001b[A\n",
      " 90%|█████████ | 18/20 [01:39<00:05,  2.80s/it]\u001b[A\n",
      " 95%|█████████▌| 19/20 [01:41<00:02,  2.38s/it]\u001b[A\n",
      "100%|██████████| 20/20 [01:42<00:00,  5.11s/it]\u001b[A\n"
     ]
    },
    {
     "name": "stdout",
     "output_type": "stream",
     "text": [
      "generator loss:0.9047399874993696\n",
      "-----------------------\n"
     ]
    },
    {
     "name": "stderr",
     "output_type": "stream",
     "text": [
      "224it [6:53:37, 110.03s/it]\n",
      "  0%|          | 0/20 [00:00<?, ?it/s]\u001b[A"
     ]
    },
    {
     "name": "stdout",
     "output_type": "stream",
     "text": [
      "total discriminator loss:0.6931854621732625\n",
      "-----------------------\n",
      "Training Step: 225\n"
     ]
    },
    {
     "name": "stderr",
     "output_type": "stream",
     "text": [
      "\n",
      "  5%|▌         | 1/20 [00:09<02:56,  9.30s/it]\u001b[A\n",
      " 10%|█         | 2/20 [00:18<02:41,  9.00s/it]\u001b[A\n",
      " 15%|█▌        | 3/20 [00:26<02:28,  8.76s/it]\u001b[A\n",
      " 20%|██        | 4/20 [00:34<02:14,  8.42s/it]\u001b[A\n",
      " 25%|██▌       | 5/20 [00:42<02:01,  8.12s/it]\u001b[A\n",
      " 30%|███       | 6/20 [00:48<01:46,  7.62s/it]\u001b[A\n",
      " 35%|███▌      | 7/20 [00:55<01:35,  7.36s/it]\u001b[A\n",
      " 40%|████      | 8/20 [01:01<01:22,  6.89s/it]\u001b[A\n",
      " 45%|████▌     | 9/20 [01:07<01:13,  6.66s/it]\u001b[A\n",
      " 50%|█████     | 10/20 [01:12<01:01,  6.19s/it]\u001b[A\n",
      " 55%|█████▌    | 11/20 [01:17<00:51,  5.73s/it]\u001b[A\n",
      " 60%|██████    | 12/20 [01:22<00:44,  5.54s/it]\u001b[A\n",
      " 65%|██████▌   | 13/20 [01:26<00:35,  5.03s/it]\u001b[A\n",
      " 70%|███████   | 14/20 [01:29<00:27,  4.53s/it]\u001b[A\n",
      " 75%|███████▌  | 15/20 [01:32<00:20,  4.07s/it]\u001b[A\n",
      " 80%|████████  | 16/20 [01:35<00:14,  3.63s/it]\u001b[A\n",
      " 85%|████████▌ | 17/20 [01:37<00:09,  3.20s/it]\u001b[A\n",
      " 90%|█████████ | 18/20 [01:39<00:05,  2.77s/it]\u001b[A\n",
      " 95%|█████████▌| 19/20 [01:40<00:02,  2.36s/it]\u001b[A\n",
      "100%|██████████| 20/20 [01:41<00:00,  5.09s/it]\u001b[A\n"
     ]
    },
    {
     "name": "stdout",
     "output_type": "stream",
     "text": [
      "generator loss:0.8915186000614248\n",
      "-----------------------\n"
     ]
    },
    {
     "name": "stderr",
     "output_type": "stream",
     "text": [
      "225it [6:55:27, 109.99s/it]\n",
      "  0%|          | 0/20 [00:00<?, ?it/s]\u001b[A"
     ]
    },
    {
     "name": "stdout",
     "output_type": "stream",
     "text": [
      "total discriminator loss:0.6931850533871715\n",
      "-----------------------\n",
      "Training Step: 226\n"
     ]
    },
    {
     "name": "stderr",
     "output_type": "stream",
     "text": [
      "\n",
      "  5%|▌         | 1/20 [00:09<02:55,  9.22s/it]\u001b[A\n",
      " 10%|█         | 2/20 [00:17<02:40,  8.94s/it]\u001b[A\n",
      " 15%|█▌        | 3/20 [00:26<02:28,  8.71s/it]\u001b[A\n",
      " 20%|██        | 4/20 [00:34<02:14,  8.38s/it]\u001b[A\n",
      " 25%|██▌       | 5/20 [00:41<02:01,  8.08s/it]\u001b[A\n",
      " 30%|███       | 6/20 [00:48<01:46,  7.59s/it]\u001b[A\n",
      " 35%|███▌      | 7/20 [00:55<01:35,  7.35s/it]\u001b[A\n",
      " 40%|████      | 8/20 [01:01<01:22,  6.88s/it]\u001b[A\n",
      " 45%|████▌     | 9/20 [01:07<01:13,  6.66s/it]\u001b[A\n",
      " 50%|█████     | 10/20 [01:12<01:01,  6.17s/it]\u001b[A\n",
      " 55%|█████▌    | 11/20 [01:17<00:51,  5.72s/it]\u001b[A\n",
      " 60%|██████    | 12/20 [01:22<00:44,  5.53s/it]\u001b[A\n",
      " 65%|██████▌   | 13/20 [01:26<00:35,  5.01s/it]\u001b[A\n",
      " 70%|███████   | 14/20 [01:29<00:27,  4.52s/it]\u001b[A\n",
      " 75%|███████▌  | 15/20 [01:32<00:20,  4.07s/it]\u001b[A\n",
      " 80%|████████  | 16/20 [01:35<00:14,  3.63s/it]\u001b[A\n",
      " 85%|████████▌ | 17/20 [01:37<00:09,  3.20s/it]\u001b[A\n",
      " 90%|█████████ | 18/20 [01:39<00:05,  2.78s/it]\u001b[A\n",
      " 95%|█████████▌| 19/20 [01:40<00:02,  2.36s/it]\u001b[A\n",
      "100%|██████████| 20/20 [01:41<00:00,  5.07s/it]\u001b[A\n"
     ]
    },
    {
     "name": "stdout",
     "output_type": "stream",
     "text": [
      "generator loss:0.9054394448255303\n",
      "-----------------------\n"
     ]
    },
    {
     "name": "stderr",
     "output_type": "stream",
     "text": [
      "226it [6:57:16, 109.87s/it]\n",
      "  0%|          | 0/20 [00:00<?, ?it/s]\u001b[A"
     ]
    },
    {
     "name": "stdout",
     "output_type": "stream",
     "text": [
      "total discriminator loss:0.6931799811769929\n",
      "-----------------------\n",
      "Training Step: 227\n"
     ]
    },
    {
     "name": "stderr",
     "output_type": "stream",
     "text": [
      "\n",
      "  5%|▌         | 1/20 [00:09<02:57,  9.32s/it]\u001b[A\n",
      " 10%|█         | 2/20 [00:18<02:41,  8.95s/it]\u001b[A\n",
      " 15%|█▌        | 3/20 [00:26<02:28,  8.72s/it]\u001b[A\n",
      " 20%|██        | 4/20 [00:34<02:14,  8.38s/it]\u001b[A\n",
      " 25%|██▌       | 5/20 [00:41<02:01,  8.09s/it]\u001b[A\n",
      " 30%|███       | 6/20 [00:48<01:46,  7.61s/it]\u001b[A\n",
      " 35%|███▌      | 7/20 [00:55<01:35,  7.35s/it]\u001b[A\n",
      " 40%|████      | 8/20 [01:01<01:22,  6.90s/it]\u001b[A\n",
      " 45%|████▌     | 9/20 [01:07<01:13,  6.68s/it]\u001b[A\n",
      " 50%|█████     | 10/20 [01:12<01:01,  6.19s/it]\u001b[A\n",
      " 55%|█████▌    | 11/20 [01:17<00:51,  5.72s/it]\u001b[A\n",
      " 60%|██████    | 12/20 [01:22<00:44,  5.56s/it]\u001b[A\n",
      " 65%|██████▌   | 13/20 [01:26<00:35,  5.06s/it]\u001b[A\n",
      " 70%|███████   | 14/20 [01:29<00:27,  4.57s/it]\u001b[A\n",
      " 75%|███████▌  | 15/20 [01:32<00:20,  4.10s/it]\u001b[A\n",
      " 80%|████████  | 16/20 [01:35<00:14,  3.65s/it]\u001b[A\n",
      " 85%|████████▌ | 17/20 [01:37<00:09,  3.22s/it]\u001b[A\n",
      " 90%|█████████ | 18/20 [01:39<00:05,  2.80s/it]\u001b[A\n",
      " 95%|█████████▌| 19/20 [01:40<00:02,  2.39s/it]\u001b[A\n",
      "100%|██████████| 20/20 [01:41<00:00,  5.09s/it]\u001b[A\n"
     ]
    },
    {
     "name": "stdout",
     "output_type": "stream",
     "text": [
      "generator loss:0.8914667602443906\n",
      "-----------------------\n"
     ]
    },
    {
     "name": "stderr",
     "output_type": "stream",
     "text": [
      "227it [6:59:06, 109.93s/it]\n",
      "  0%|          | 0/20 [00:00<?, ?it/s]\u001b[A"
     ]
    },
    {
     "name": "stdout",
     "output_type": "stream",
     "text": [
      "total discriminator loss:0.6931827150370669\n",
      "-----------------------\n",
      "Training Step: 228\n"
     ]
    },
    {
     "name": "stderr",
     "output_type": "stream",
     "text": [
      "\n",
      "  5%|▌         | 1/20 [00:09<02:56,  9.30s/it]\u001b[A\n",
      " 10%|█         | 2/20 [00:17<02:40,  8.92s/it]\u001b[A\n",
      " 15%|█▌        | 3/20 [00:26<02:28,  8.73s/it]\u001b[A\n",
      " 20%|██        | 4/20 [00:34<02:14,  8.41s/it]\u001b[A\n",
      " 25%|██▌       | 5/20 [00:41<02:01,  8.10s/it]\u001b[A\n",
      " 30%|███       | 6/20 [00:48<01:46,  7.60s/it]\u001b[A\n",
      " 35%|███▌      | 7/20 [00:55<01:35,  7.34s/it]\u001b[A\n",
      " 40%|████      | 8/20 [01:01<01:22,  6.86s/it]\u001b[A\n",
      " 45%|████▌     | 9/20 [01:07<01:13,  6.64s/it]\u001b[A\n",
      " 50%|█████     | 10/20 [01:12<01:01,  6.16s/it]\u001b[A\n",
      " 55%|█████▌    | 11/20 [01:17<00:51,  5.71s/it]\u001b[A\n",
      " 60%|██████    | 12/20 [01:22<00:44,  5.54s/it]\u001b[A\n",
      " 65%|██████▌   | 13/20 [01:26<00:35,  5.02s/it]\u001b[A\n",
      " 70%|███████   | 14/20 [01:29<00:27,  4.53s/it]\u001b[A\n",
      " 75%|███████▌  | 15/20 [01:32<00:20,  4.08s/it]\u001b[A\n",
      " 80%|████████  | 16/20 [01:35<00:14,  3.64s/it]\u001b[A\n",
      " 85%|████████▌ | 17/20 [01:37<00:09,  3.20s/it]\u001b[A\n",
      " 90%|█████████ | 18/20 [01:39<00:05,  2.78s/it]\u001b[A\n",
      " 95%|█████████▌| 19/20 [01:40<00:02,  2.36s/it]\u001b[A\n",
      "100%|██████████| 20/20 [01:41<00:00,  5.08s/it]\u001b[A\n"
     ]
    },
    {
     "name": "stdout",
     "output_type": "stream",
     "text": [
      "generator loss:0.9055016918706157\n",
      "-----------------------\n"
     ]
    },
    {
     "name": "stderr",
     "output_type": "stream",
     "text": [
      "228it [7:00:56, 109.85s/it]\n",
      "  0%|          | 0/20 [00:00<?, ?it/s]\u001b[A"
     ]
    },
    {
     "name": "stdout",
     "output_type": "stream",
     "text": [
      "total discriminator loss:0.6931881252254288\n",
      "-----------------------\n",
      "Training Step: 229\n"
     ]
    },
    {
     "name": "stderr",
     "output_type": "stream",
     "text": [
      "\n",
      "  5%|▌         | 1/20 [00:09<02:56,  9.28s/it]\u001b[A\n",
      " 10%|█         | 2/20 [00:17<02:40,  8.91s/it]\u001b[A\n",
      " 15%|█▌        | 3/20 [00:26<02:27,  8.66s/it]\u001b[A\n",
      " 20%|██        | 4/20 [00:34<02:13,  8.32s/it]\u001b[A\n",
      " 25%|██▌       | 5/20 [00:41<02:00,  8.03s/it]\u001b[A\n",
      " 30%|███       | 6/20 [00:48<01:45,  7.54s/it]\u001b[A\n",
      " 35%|███▌      | 7/20 [00:55<01:35,  7.31s/it]\u001b[A\n",
      " 40%|████      | 8/20 [01:00<01:22,  6.84s/it]\u001b[A\n",
      " 45%|████▌     | 9/20 [01:06<01:12,  6.62s/it]\u001b[A\n",
      " 50%|█████     | 10/20 [01:12<01:01,  6.14s/it]\u001b[A\n",
      " 55%|█████▌    | 11/20 [01:16<00:51,  5.69s/it]\u001b[A\n",
      " 60%|██████    | 12/20 [01:21<00:44,  5.51s/it]\u001b[A\n",
      " 65%|██████▌   | 13/20 [01:25<00:34,  5.00s/it]\u001b[A\n",
      " 70%|███████   | 14/20 [01:29<00:27,  4.51s/it]\u001b[A\n",
      " 75%|███████▌  | 15/20 [01:32<00:20,  4.06s/it]\u001b[A\n",
      " 80%|████████  | 16/20 [01:34<00:14,  3.62s/it]\u001b[A\n",
      " 85%|████████▌ | 17/20 [01:36<00:09,  3.19s/it]\u001b[A\n",
      " 90%|█████████ | 18/20 [01:38<00:05,  2.77s/it]\u001b[A\n",
      " 95%|█████████▌| 19/20 [01:40<00:02,  2.36s/it]\u001b[A\n",
      "100%|██████████| 20/20 [01:41<00:00,  5.05s/it]\u001b[A\n"
     ]
    },
    {
     "name": "stdout",
     "output_type": "stream",
     "text": [
      "generator loss:0.8911484845404012\n",
      "-----------------------\n"
     ]
    },
    {
     "name": "stderr",
     "output_type": "stream",
     "text": [
      "229it [7:02:45, 109.64s/it]\n",
      "  0%|          | 0/20 [00:00<?, ?it/s]\u001b[A"
     ]
    },
    {
     "name": "stdout",
     "output_type": "stream",
     "text": [
      "total discriminator loss:0.6931814295844111\n",
      "-----------------------\n",
      "Training Step: 230\n"
     ]
    },
    {
     "name": "stderr",
     "output_type": "stream",
     "text": [
      "\n",
      "  5%|▌         | 1/20 [00:09<02:55,  9.23s/it]\u001b[A\n",
      " 10%|█         | 2/20 [00:17<02:39,  8.88s/it]\u001b[A\n",
      " 15%|█▌        | 3/20 [00:26<02:27,  8.68s/it]\u001b[A\n",
      " 20%|██        | 4/20 [00:34<02:13,  8.37s/it]\u001b[A\n",
      " 25%|██▌       | 5/20 [00:41<02:01,  8.08s/it]\u001b[A\n",
      " 30%|███       | 6/20 [00:48<01:46,  7.59s/it]\u001b[A\n",
      " 35%|███▌      | 7/20 [00:55<01:35,  7.34s/it]\u001b[A\n",
      " 40%|████      | 8/20 [01:01<01:22,  6.88s/it]\u001b[A\n",
      " 45%|████▌     | 9/20 [01:07<01:13,  6.65s/it]\u001b[A\n",
      " 50%|█████     | 10/20 [01:12<01:01,  6.16s/it]\u001b[A\n",
      " 55%|█████▌    | 11/20 [01:17<00:51,  5.71s/it]\u001b[A\n",
      " 60%|██████    | 12/20 [01:22<00:44,  5.53s/it]\u001b[A\n",
      " 65%|██████▌   | 13/20 [01:25<00:35,  5.02s/it]\u001b[A\n",
      " 70%|███████   | 14/20 [01:29<00:27,  4.53s/it]\u001b[A\n",
      " 75%|███████▌  | 15/20 [01:32<00:20,  4.08s/it]\u001b[A\n",
      " 80%|████████  | 16/20 [01:35<00:14,  3.64s/it]\u001b[A\n",
      " 85%|████████▌ | 17/20 [01:37<00:09,  3.22s/it]\u001b[A\n",
      " 90%|█████████ | 18/20 [01:39<00:05,  2.80s/it]\u001b[A\n",
      " 95%|█████████▌| 19/20 [01:40<00:02,  2.38s/it]\u001b[A\n",
      "100%|██████████| 20/20 [01:41<00:00,  5.08s/it]\u001b[A\n"
     ]
    },
    {
     "name": "stdout",
     "output_type": "stream",
     "text": [
      "generator loss:0.9051371002744837\n",
      "-----------------------\n"
     ]
    },
    {
     "name": "stderr",
     "output_type": "stream",
     "text": [
      "230it [7:04:35, 109.64s/it]\n",
      "  0%|          | 0/20 [00:00<?, ?it/s]\u001b[A"
     ]
    },
    {
     "name": "stdout",
     "output_type": "stream",
     "text": [
      "total discriminator loss:0.6931842659432189\n",
      "-----------------------\n",
      "Training Step: 231\n"
     ]
    },
    {
     "name": "stderr",
     "output_type": "stream",
     "text": [
      "\n",
      "  5%|▌         | 1/20 [00:09<02:55,  9.26s/it]\u001b[A\n",
      " 10%|█         | 2/20 [00:17<02:40,  8.89s/it]\u001b[A\n",
      " 15%|█▌        | 3/20 [00:26<02:27,  8.65s/it]\u001b[A\n",
      " 20%|██        | 4/20 [00:34<02:13,  8.35s/it]\u001b[A\n",
      " 25%|██▌       | 5/20 [00:41<02:00,  8.04s/it]\u001b[A\n",
      " 30%|███       | 6/20 [00:48<01:45,  7.55s/it]\u001b[A\n",
      " 35%|███▌      | 7/20 [00:54<01:34,  7.29s/it]\u001b[A\n",
      " 40%|████      | 8/20 [01:00<01:22,  6.84s/it]\u001b[A\n",
      " 45%|████▌     | 9/20 [01:07<01:12,  6.63s/it]\u001b[A\n",
      " 50%|█████     | 10/20 [01:12<01:01,  6.16s/it]\u001b[A\n",
      " 55%|█████▌    | 11/20 [01:16<00:51,  5.70s/it]\u001b[A\n",
      " 60%|██████    | 12/20 [01:21<00:44,  5.54s/it]\u001b[A\n",
      " 65%|██████▌   | 13/20 [01:25<00:35,  5.02s/it]\u001b[A\n",
      " 70%|███████   | 14/20 [01:29<00:27,  4.53s/it]\u001b[A\n",
      " 75%|███████▌  | 15/20 [01:32<00:20,  4.08s/it]\u001b[A\n",
      " 80%|████████  | 16/20 [01:34<00:14,  3.64s/it]\u001b[A\n",
      " 85%|████████▌ | 17/20 [01:37<00:09,  3.22s/it]\u001b[A\n",
      " 90%|█████████ | 18/20 [01:38<00:05,  2.80s/it]\u001b[A\n",
      " 95%|█████████▌| 19/20 [01:40<00:02,  2.37s/it]\u001b[A\n",
      "100%|██████████| 20/20 [01:41<00:00,  5.06s/it]\u001b[A\n"
     ]
    },
    {
     "name": "stdout",
     "output_type": "stream",
     "text": [
      "generator loss:0.8913528303574386\n",
      "-----------------------\n"
     ]
    },
    {
     "name": "stderr",
     "output_type": "stream",
     "text": [
      "231it [7:06:24, 109.57s/it]\n",
      "  0%|          | 0/20 [00:00<?, ?it/s]\u001b[A"
     ]
    },
    {
     "name": "stdout",
     "output_type": "stream",
     "text": [
      "total discriminator loss:0.6931898243763958\n",
      "-----------------------\n",
      "Training Step: 232\n"
     ]
    },
    {
     "name": "stderr",
     "output_type": "stream",
     "text": [
      "\n",
      "  5%|▌         | 1/20 [00:09<02:56,  9.30s/it]\u001b[A\n",
      " 10%|█         | 2/20 [00:18<02:41,  8.96s/it]\u001b[A\n",
      " 15%|█▌        | 3/20 [00:26<02:28,  8.76s/it]\u001b[A\n",
      " 20%|██        | 4/20 [00:34<02:14,  8.41s/it]\u001b[A\n",
      " 25%|██▌       | 5/20 [00:41<02:01,  8.09s/it]\u001b[A\n",
      " 30%|███       | 6/20 [00:48<01:46,  7.59s/it]\u001b[A\n",
      " 35%|███▌      | 7/20 [00:55<01:35,  7.33s/it]\u001b[A\n",
      " 40%|████      | 8/20 [01:01<01:22,  6.85s/it]\u001b[A\n",
      " 45%|████▌     | 9/20 [01:07<01:12,  6.61s/it]\u001b[A\n",
      " 50%|█████     | 10/20 [01:12<01:01,  6.13s/it]\u001b[A\n",
      " 55%|█████▌    | 11/20 [01:17<00:51,  5.69s/it]\u001b[A\n",
      " 60%|██████    | 12/20 [01:22<00:44,  5.52s/it]\u001b[A\n",
      " 65%|██████▌   | 13/20 [01:26<00:35,  5.05s/it]\u001b[A\n",
      " 70%|███████   | 14/20 [01:29<00:27,  4.59s/it]\u001b[A\n",
      " 75%|███████▌  | 15/20 [01:32<00:20,  4.13s/it]\u001b[A\n",
      " 80%|████████  | 16/20 [01:35<00:14,  3.67s/it]\u001b[A\n",
      " 85%|████████▌ | 17/20 [01:37<00:09,  3.24s/it]\u001b[A\n",
      " 90%|█████████ | 18/20 [01:39<00:05,  2.82s/it]\u001b[A\n",
      " 95%|█████████▌| 19/20 [01:40<00:02,  2.39s/it]\u001b[A\n",
      "100%|██████████| 20/20 [01:41<00:00,  5.09s/it]\u001b[A\n"
     ]
    },
    {
     "name": "stdout",
     "output_type": "stream",
     "text": [
      "generator loss:0.9052907048682275\n",
      "-----------------------\n"
     ]
    },
    {
     "name": "stderr",
     "output_type": "stream",
     "text": [
      "232it [7:08:14, 109.67s/it]\n",
      "  0%|          | 0/20 [00:00<?, ?it/s]\u001b[A"
     ]
    },
    {
     "name": "stdout",
     "output_type": "stream",
     "text": [
      "total discriminator loss:0.6931830437960942\n",
      "-----------------------\n",
      "Training Step: 233\n"
     ]
    },
    {
     "name": "stderr",
     "output_type": "stream",
     "text": [
      "\n",
      "  5%|▌         | 1/20 [00:09<02:55,  9.26s/it]\u001b[A\n",
      " 10%|█         | 2/20 [00:18<02:41,  8.96s/it]\u001b[A\n",
      " 15%|█▌        | 3/20 [00:26<02:28,  8.76s/it]\u001b[A\n",
      " 20%|██        | 4/20 [00:34<02:14,  8.41s/it]\u001b[A\n",
      " 25%|██▌       | 5/20 [00:41<02:01,  8.07s/it]\u001b[A\n",
      " 30%|███       | 6/20 [00:48<01:46,  7.58s/it]\u001b[A\n",
      " 35%|███▌      | 7/20 [00:55<01:35,  7.32s/it]\u001b[A\n",
      " 40%|████      | 8/20 [01:01<01:22,  6.84s/it]\u001b[A\n",
      " 45%|████▌     | 9/20 [01:07<01:12,  6.64s/it]\u001b[A\n",
      " 50%|█████     | 10/20 [01:12<01:01,  6.16s/it]\u001b[A\n",
      " 55%|█████▌    | 11/20 [01:17<00:51,  5.71s/it]\u001b[A\n",
      " 60%|██████    | 12/20 [01:22<00:44,  5.52s/it]\u001b[A\n",
      " 65%|██████▌   | 13/20 [01:25<00:35,  5.01s/it]\u001b[A\n",
      " 70%|███████   | 14/20 [01:29<00:27,  4.51s/it]\u001b[A\n",
      " 75%|███████▌  | 15/20 [01:32<00:20,  4.06s/it]\u001b[A\n",
      " 80%|████████  | 16/20 [01:34<00:14,  3.63s/it]\u001b[A\n",
      " 85%|████████▌ | 17/20 [01:37<00:09,  3.20s/it]\u001b[A\n",
      " 90%|█████████ | 18/20 [01:38<00:05,  2.78s/it]\u001b[A\n",
      " 95%|█████████▌| 19/20 [01:40<00:02,  2.36s/it]\u001b[A\n",
      "100%|██████████| 20/20 [01:41<00:00,  5.07s/it]\u001b[A\n"
     ]
    },
    {
     "name": "stdout",
     "output_type": "stream",
     "text": [
      "generator loss:0.8909175232817625\n",
      "-----------------------\n"
     ]
    },
    {
     "name": "stderr",
     "output_type": "stream",
     "text": [
      "233it [7:10:03, 109.59s/it]\n",
      "  0%|          | 0/20 [00:00<?, ?it/s]\u001b[A"
     ]
    },
    {
     "name": "stdout",
     "output_type": "stream",
     "text": [
      "total discriminator loss:0.6931886421034106\n",
      "-----------------------\n",
      "Training Step: 234\n"
     ]
    },
    {
     "name": "stderr",
     "output_type": "stream",
     "text": [
      "\n",
      "  5%|▌         | 1/20 [00:09<02:56,  9.28s/it]\u001b[A\n",
      " 10%|█         | 2/20 [00:17<02:40,  8.93s/it]\u001b[A\n",
      " 15%|█▌        | 3/20 [00:26<02:27,  8.69s/it]\u001b[A\n",
      " 20%|██        | 4/20 [00:34<02:14,  8.38s/it]\u001b[A\n",
      " 25%|██▌       | 5/20 [00:41<02:01,  8.11s/it]\u001b[A\n",
      " 30%|███       | 6/20 [00:48<01:46,  7.63s/it]\u001b[A\n",
      " 35%|███▌      | 7/20 [00:55<01:35,  7.38s/it]\u001b[A\n",
      " 40%|████      | 8/20 [01:01<01:23,  6.93s/it]\u001b[A\n",
      " 45%|████▌     | 9/20 [01:07<01:13,  6.70s/it]\u001b[A\n",
      " 50%|█████     | 10/20 [01:12<01:02,  6.22s/it]\u001b[A\n",
      " 55%|█████▌    | 11/20 [01:17<00:51,  5.75s/it]\u001b[A\n",
      " 60%|██████    | 12/20 [01:22<00:44,  5.56s/it]\u001b[A\n",
      " 65%|██████▌   | 13/20 [01:26<00:35,  5.04s/it]\u001b[A\n",
      " 70%|███████   | 14/20 [01:29<00:27,  4.56s/it]\u001b[A\n",
      " 75%|███████▌  | 15/20 [01:32<00:20,  4.10s/it]\u001b[A\n",
      " 80%|████████  | 16/20 [01:35<00:14,  3.65s/it]\u001b[A\n",
      " 85%|████████▌ | 17/20 [01:37<00:09,  3.22s/it]\u001b[A\n",
      " 90%|█████████ | 18/20 [01:39<00:05,  2.79s/it]\u001b[A\n",
      " 95%|█████████▌| 19/20 [01:40<00:02,  2.37s/it]\u001b[A\n",
      "100%|██████████| 20/20 [01:41<00:00,  5.09s/it]\u001b[A\n"
     ]
    },
    {
     "name": "stdout",
     "output_type": "stream",
     "text": [
      "generator loss:0.9049139648478061\n",
      "-----------------------\n"
     ]
    },
    {
     "name": "stderr",
     "output_type": "stream",
     "text": [
      "234it [7:11:53, 109.71s/it]\n",
      "  0%|          | 0/20 [00:00<?, ?it/s]\u001b[A"
     ]
    },
    {
     "name": "stdout",
     "output_type": "stream",
     "text": [
      "total discriminator loss:0.6931851663646423\n",
      "-----------------------\n",
      "Training Step: 235\n"
     ]
    },
    {
     "name": "stderr",
     "output_type": "stream",
     "text": [
      "\n",
      "  5%|▌         | 1/20 [00:09<02:56,  9.30s/it]\u001b[A\n",
      " 10%|█         | 2/20 [00:18<02:41,  8.95s/it]\u001b[A\n",
      " 15%|█▌        | 3/20 [00:26<02:28,  8.71s/it]\u001b[A\n",
      " 20%|██        | 4/20 [00:34<02:14,  8.39s/it]\u001b[A\n",
      " 25%|██▌       | 5/20 [00:41<02:01,  8.09s/it]\u001b[A\n",
      " 30%|███       | 6/20 [00:48<01:46,  7.63s/it]\u001b[A\n",
      " 35%|███▌      | 7/20 [00:55<01:36,  7.39s/it]\u001b[A\n",
      " 40%|████      | 8/20 [01:01<01:23,  6.94s/it]\u001b[A\n",
      " 45%|████▌     | 9/20 [01:07<01:13,  6.71s/it]\u001b[A\n",
      " 50%|█████     | 10/20 [01:12<01:02,  6.24s/it]\u001b[A\n",
      " 55%|█████▌    | 11/20 [01:17<00:51,  5.75s/it]\u001b[A\n",
      " 60%|██████    | 12/20 [01:22<00:44,  5.55s/it]\u001b[A\n",
      " 65%|██████▌   | 13/20 [01:26<00:35,  5.02s/it]\u001b[A\n",
      " 70%|███████   | 14/20 [01:29<00:27,  4.54s/it]\u001b[A\n",
      " 75%|███████▌  | 15/20 [01:32<00:20,  4.07s/it]\u001b[A\n",
      " 80%|████████  | 16/20 [01:35<00:14,  3.61s/it]\u001b[A\n",
      " 85%|████████▌ | 17/20 [01:37<00:09,  3.18s/it]\u001b[A\n",
      " 90%|█████████ | 18/20 [01:39<00:05,  2.76s/it]\u001b[A\n",
      " 95%|█████████▌| 19/20 [01:40<00:02,  2.34s/it]\u001b[A\n",
      "100%|██████████| 20/20 [01:41<00:00,  5.08s/it]\u001b[A\n"
     ]
    },
    {
     "name": "stdout",
     "output_type": "stream",
     "text": [
      "generator loss:0.8913689006842673\n",
      "-----------------------\n"
     ]
    },
    {
     "name": "stderr",
     "output_type": "stream",
     "text": [
      "235it [7:13:43, 109.72s/it]\n",
      "  0%|          | 0/20 [00:00<?, ?it/s]\u001b[A"
     ]
    },
    {
     "name": "stdout",
     "output_type": "stream",
     "text": [
      "total discriminator loss:0.6931854324273656\n",
      "-----------------------\n",
      "Training Step: 236\n"
     ]
    },
    {
     "name": "stderr",
     "output_type": "stream",
     "text": [
      "\n",
      "  5%|▌         | 1/20 [00:09<02:55,  9.22s/it]\u001b[A\n",
      " 10%|█         | 2/20 [00:17<02:40,  8.91s/it]\u001b[A\n",
      " 15%|█▌        | 3/20 [00:26<02:28,  8.72s/it]\u001b[A\n",
      " 20%|██        | 4/20 [00:34<02:14,  8.40s/it]\u001b[A\n",
      " 25%|██▌       | 5/20 [00:41<02:01,  8.08s/it]\u001b[A\n",
      " 30%|███       | 6/20 [00:48<01:45,  7.56s/it]\u001b[A\n",
      " 35%|███▌      | 7/20 [00:55<01:35,  7.32s/it]\u001b[A\n",
      " 40%|████      | 8/20 [01:01<01:22,  6.88s/it]\u001b[A\n",
      " 45%|████▌     | 9/20 [01:07<01:13,  6.65s/it]\u001b[A\n",
      " 50%|█████     | 10/20 [01:12<01:01,  6.16s/it]\u001b[A\n",
      " 55%|█████▌    | 11/20 [01:17<00:51,  5.71s/it]\u001b[A\n",
      " 60%|██████    | 12/20 [01:22<00:44,  5.53s/it]\u001b[A\n",
      " 65%|██████▌   | 13/20 [01:25<00:35,  5.01s/it]\u001b[A\n",
      " 70%|███████   | 14/20 [01:29<00:27,  4.53s/it]\u001b[A\n",
      " 75%|███████▌  | 15/20 [01:32<00:20,  4.07s/it]\u001b[A\n",
      " 80%|████████  | 16/20 [01:34<00:14,  3.62s/it]\u001b[A\n",
      " 85%|████████▌ | 17/20 [01:37<00:09,  3.19s/it]\u001b[A\n",
      " 90%|█████████ | 18/20 [01:38<00:05,  2.77s/it]\u001b[A\n",
      " 95%|█████████▌| 19/20 [01:40<00:02,  2.36s/it]\u001b[A\n",
      "100%|██████████| 20/20 [01:41<00:00,  5.07s/it]\u001b[A\n"
     ]
    },
    {
     "name": "stdout",
     "output_type": "stream",
     "text": [
      "generator loss:0.9057695841276395\n",
      "-----------------------\n"
     ]
    },
    {
     "name": "stderr",
     "output_type": "stream",
     "text": [
      "236it [7:15:33, 109.65s/it]\n",
      "  0%|          | 0/20 [00:00<?, ?it/s]\u001b[A"
     ]
    },
    {
     "name": "stdout",
     "output_type": "stream",
     "text": [
      "total discriminator loss:0.6931869589794948\n",
      "-----------------------\n",
      "Training Step: 237\n"
     ]
    },
    {
     "name": "stderr",
     "output_type": "stream",
     "text": [
      "\n",
      "  5%|▌         | 1/20 [00:09<02:56,  9.31s/it]\u001b[A\n",
      " 10%|█         | 2/20 [00:18<02:41,  9.00s/it]\u001b[A\n",
      " 15%|█▌        | 3/20 [00:26<02:29,  8.77s/it]\u001b[A\n",
      " 20%|██        | 4/20 [00:34<02:15,  8.47s/it]\u001b[A\n",
      " 25%|██▌       | 5/20 [00:42<02:02,  8.15s/it]\u001b[A\n",
      " 30%|███       | 6/20 [00:48<01:47,  7.66s/it]\u001b[A\n",
      " 35%|███▌      | 7/20 [00:55<01:36,  7.40s/it]\u001b[A\n",
      " 40%|████      | 8/20 [01:01<01:23,  6.93s/it]\u001b[A\n",
      " 45%|████▌     | 9/20 [01:07<01:13,  6.70s/it]\u001b[A\n",
      " 50%|█████     | 10/20 [01:13<01:02,  6.22s/it]\u001b[A\n",
      " 55%|█████▌    | 11/20 [01:17<00:51,  5.76s/it]\u001b[A\n",
      " 60%|██████    | 12/20 [01:22<00:44,  5.57s/it]\u001b[A\n",
      " 65%|██████▌   | 13/20 [01:26<00:35,  5.05s/it]\u001b[A\n",
      " 70%|███████   | 14/20 [01:30<00:27,  4.57s/it]\u001b[A\n",
      " 75%|███████▌  | 15/20 [01:33<00:20,  4.10s/it]\u001b[A\n",
      " 80%|████████  | 16/20 [01:35<00:14,  3.65s/it]\u001b[A\n",
      " 85%|████████▌ | 17/20 [01:38<00:09,  3.22s/it]\u001b[A\n",
      " 90%|█████████ | 18/20 [01:39<00:05,  2.79s/it]\u001b[A\n",
      " 95%|█████████▌| 19/20 [01:41<00:02,  2.37s/it]\u001b[A\n",
      "100%|██████████| 20/20 [01:42<00:00,  5.11s/it]\u001b[A\n"
     ]
    },
    {
     "name": "stdout",
     "output_type": "stream",
     "text": [
      "generator loss:0.8904711209408284\n",
      "-----------------------\n"
     ]
    },
    {
     "name": "stderr",
     "output_type": "stream",
     "text": [
      "237it [7:17:23, 109.85s/it]\n",
      "  0%|          | 0/20 [00:00<?, ?it/s]\u001b[A"
     ]
    },
    {
     "name": "stdout",
     "output_type": "stream",
     "text": [
      "total discriminator loss:0.6931840406662031\n",
      "-----------------------\n",
      "Training Step: 238\n"
     ]
    },
    {
     "name": "stderr",
     "output_type": "stream",
     "text": [
      "\n",
      "  5%|▌         | 1/20 [00:09<02:57,  9.32s/it]\u001b[A\n",
      " 10%|█         | 2/20 [00:18<02:41,  8.97s/it]\u001b[A\n",
      " 15%|█▌        | 3/20 [00:26<02:28,  8.74s/it]\u001b[A\n",
      " 20%|██        | 4/20 [00:34<02:14,  8.43s/it]\u001b[A\n",
      " 25%|██▌       | 5/20 [00:42<02:01,  8.11s/it]\u001b[A\n",
      " 30%|███       | 6/20 [00:48<01:46,  7.59s/it]\u001b[A\n",
      " 35%|███▌      | 7/20 [00:55<01:35,  7.33s/it]\u001b[A\n",
      " 40%|████      | 8/20 [01:01<01:22,  6.88s/it]\u001b[A\n",
      " 45%|████▌     | 9/20 [01:07<01:13,  6.65s/it]\u001b[A\n",
      " 50%|█████     | 10/20 [01:12<01:01,  6.17s/it]\u001b[A\n",
      " 55%|█████▌    | 11/20 [01:17<00:51,  5.71s/it]\u001b[A\n",
      " 60%|██████    | 12/20 [01:22<00:44,  5.54s/it]\u001b[A\n",
      " 65%|██████▌   | 13/20 [01:26<00:35,  5.01s/it]\u001b[A\n",
      " 70%|███████   | 14/20 [01:29<00:27,  4.52s/it]\u001b[A\n",
      " 75%|███████▌  | 15/20 [01:32<00:20,  4.06s/it]\u001b[A\n",
      " 80%|████████  | 16/20 [01:35<00:14,  3.61s/it]\u001b[A\n",
      " 85%|████████▌ | 17/20 [01:37<00:09,  3.19s/it]\u001b[A\n",
      " 90%|█████████ | 18/20 [01:39<00:05,  2.77s/it]\u001b[A\n",
      " 95%|█████████▌| 19/20 [01:40<00:02,  2.35s/it]\u001b[A\n",
      "100%|██████████| 20/20 [01:41<00:00,  5.07s/it]\u001b[A\n"
     ]
    },
    {
     "name": "stdout",
     "output_type": "stream",
     "text": [
      "generator loss:0.9053667715144288\n",
      "-----------------------\n"
     ]
    },
    {
     "name": "stderr",
     "output_type": "stream",
     "text": [
      "238it [7:19:12, 109.76s/it]\n",
      "  0%|          | 0/20 [00:00<?, ?it/s]\u001b[A"
     ]
    },
    {
     "name": "stdout",
     "output_type": "stream",
     "text": [
      "total discriminator loss:0.6931889102588973\n",
      "-----------------------\n",
      "Training Step: 239\n"
     ]
    },
    {
     "name": "stderr",
     "output_type": "stream",
     "text": [
      "\n",
      "  5%|▌         | 1/20 [00:09<02:55,  9.25s/it]\u001b[A\n",
      " 10%|█         | 2/20 [00:17<02:40,  8.89s/it]\u001b[A\n",
      " 15%|█▌        | 3/20 [00:26<02:27,  8.67s/it]\u001b[A\n",
      " 20%|██        | 4/20 [00:34<02:13,  8.35s/it]\u001b[A\n",
      " 25%|██▌       | 5/20 [00:41<02:00,  8.06s/it]\u001b[A\n",
      " 30%|███       | 6/20 [00:48<01:46,  7.58s/it]\u001b[A\n",
      " 35%|███▌      | 7/20 [00:55<01:35,  7.34s/it]\u001b[A\n",
      " 40%|████      | 8/20 [01:01<01:22,  6.90s/it]\u001b[A\n",
      " 45%|████▌     | 9/20 [01:07<01:13,  6.69s/it]\u001b[A\n",
      " 50%|█████     | 10/20 [01:12<01:01,  6.20s/it]\u001b[A\n",
      " 55%|█████▌    | 11/20 [01:17<00:51,  5.74s/it]\u001b[A\n",
      " 60%|██████    | 12/20 [01:22<00:44,  5.55s/it]\u001b[A\n",
      " 65%|██████▌   | 13/20 [01:26<00:35,  5.02s/it]\u001b[A\n",
      " 70%|███████   | 14/20 [01:29<00:27,  4.52s/it]\u001b[A\n",
      " 75%|███████▌  | 15/20 [01:32<00:20,  4.05s/it]\u001b[A\n",
      " 80%|████████  | 16/20 [01:35<00:14,  3.62s/it]\u001b[A\n",
      " 85%|████████▌ | 17/20 [01:37<00:09,  3.21s/it]\u001b[A\n",
      " 90%|█████████ | 18/20 [01:39<00:05,  2.79s/it]\u001b[A\n",
      " 95%|█████████▌| 19/20 [01:40<00:02,  2.37s/it]\u001b[A\n",
      "100%|██████████| 20/20 [01:41<00:00,  5.07s/it]\u001b[A\n"
     ]
    },
    {
     "name": "stdout",
     "output_type": "stream",
     "text": [
      "generator loss:0.891699597003808\n",
      "-----------------------\n"
     ]
    },
    {
     "name": "stderr",
     "output_type": "stream",
     "text": [
      "239it [7:21:02, 109.72s/it]\n",
      "  0%|          | 0/20 [00:00<?, ?it/s]\u001b[A"
     ]
    },
    {
     "name": "stdout",
     "output_type": "stream",
     "text": [
      "total discriminator loss:0.6931871136446338\n",
      "-----------------------\n",
      "Training Step: 240\n"
     ]
    },
    {
     "name": "stderr",
     "output_type": "stream",
     "text": [
      "\n",
      "  5%|▌         | 1/20 [00:09<02:54,  9.17s/it]\u001b[A\n",
      " 10%|█         | 2/20 [00:17<02:40,  8.90s/it]\u001b[A\n",
      " 15%|█▌        | 3/20 [00:26<02:27,  8.68s/it]\u001b[A\n",
      " 20%|██        | 4/20 [00:34<02:13,  8.37s/it]\u001b[A\n",
      " 25%|██▌       | 5/20 [00:41<02:01,  8.07s/it]\u001b[A\n",
      " 30%|███       | 6/20 [00:48<01:46,  7.59s/it]\u001b[A\n",
      " 35%|███▌      | 7/20 [00:55<01:35,  7.34s/it]\u001b[A\n",
      " 40%|████      | 8/20 [01:01<01:22,  6.88s/it]\u001b[A\n",
      " 45%|████▌     | 9/20 [01:07<01:13,  6.65s/it]\u001b[A\n",
      " 50%|█████     | 10/20 [01:12<01:01,  6.17s/it]\u001b[A\n",
      " 55%|█████▌    | 11/20 [01:17<00:51,  5.71s/it]\u001b[A\n",
      " 60%|██████    | 12/20 [01:22<00:44,  5.52s/it]\u001b[A\n",
      " 65%|██████▌   | 13/20 [01:25<00:35,  5.00s/it]\u001b[A\n",
      " 70%|███████   | 14/20 [01:29<00:27,  4.52s/it]\u001b[A\n",
      " 75%|███████▌  | 15/20 [01:32<00:20,  4.05s/it]\u001b[A\n",
      " 80%|████████  | 16/20 [01:34<00:14,  3.61s/it]\u001b[A\n",
      " 85%|████████▌ | 17/20 [01:37<00:09,  3.18s/it]\u001b[A\n",
      " 90%|█████████ | 18/20 [01:38<00:05,  2.77s/it]\u001b[A\n",
      " 95%|█████████▌| 19/20 [01:40<00:02,  2.35s/it]\u001b[A\n",
      "100%|██████████| 20/20 [01:41<00:00,  5.06s/it]\u001b[A\n"
     ]
    },
    {
     "name": "stdout",
     "output_type": "stream",
     "text": [
      "generator loss:0.9050346927335747\n",
      "-----------------------\n"
     ]
    },
    {
     "name": "stderr",
     "output_type": "stream",
     "text": [
      "240it [7:22:51, 109.60s/it]\n",
      "  0%|          | 0/20 [00:00<?, ?it/s]\u001b[A"
     ]
    },
    {
     "name": "stdout",
     "output_type": "stream",
     "text": [
      "total discriminator loss:0.6931813510251423\n",
      "-----------------------\n",
      "Training Step: 241\n"
     ]
    },
    {
     "name": "stderr",
     "output_type": "stream",
     "text": [
      "\n",
      "  5%|▌         | 1/20 [00:09<02:56,  9.27s/it]\u001b[A\n",
      " 10%|█         | 2/20 [00:18<02:41,  8.97s/it]\u001b[A\n",
      " 15%|█▌        | 3/20 [00:26<02:27,  8.68s/it]\u001b[A\n",
      " 20%|██        | 4/20 [00:34<02:13,  8.34s/it]\u001b[A\n",
      " 25%|██▌       | 5/20 [00:41<02:00,  8.04s/it]\u001b[A\n",
      " 30%|███       | 6/20 [00:48<01:45,  7.56s/it]\u001b[A\n",
      " 35%|███▌      | 7/20 [00:55<01:35,  7.33s/it]\u001b[A\n",
      " 40%|████      | 8/20 [01:01<01:22,  6.89s/it]\u001b[A\n",
      " 45%|████▌     | 9/20 [01:07<01:13,  6.64s/it]\u001b[A\n",
      " 50%|█████     | 10/20 [01:12<01:01,  6.17s/it]\u001b[A\n",
      " 55%|█████▌    | 11/20 [01:17<00:51,  5.72s/it]\u001b[A\n",
      " 60%|██████    | 12/20 [01:22<00:44,  5.54s/it]\u001b[A\n",
      " 65%|██████▌   | 13/20 [01:25<00:35,  5.02s/it]\u001b[A\n",
      " 70%|███████   | 14/20 [01:29<00:27,  4.53s/it]\u001b[A\n",
      " 75%|███████▌  | 15/20 [01:32<00:20,  4.08s/it]\u001b[A\n",
      " 80%|████████  | 16/20 [01:35<00:14,  3.63s/it]\u001b[A\n",
      " 85%|████████▌ | 17/20 [01:37<00:09,  3.19s/it]\u001b[A\n",
      " 90%|█████████ | 18/20 [01:38<00:05,  2.77s/it]\u001b[A\n",
      " 95%|█████████▌| 19/20 [01:40<00:02,  2.35s/it]\u001b[A\n",
      "100%|██████████| 20/20 [01:41<00:00,  5.07s/it]\u001b[A\n"
     ]
    },
    {
     "name": "stdout",
     "output_type": "stream",
     "text": [
      "generator loss:0.8898827541914377\n",
      "-----------------------\n"
     ]
    },
    {
     "name": "stderr",
     "output_type": "stream",
     "text": [
      "241it [7:24:41, 109.56s/it]\n",
      "  0%|          | 0/20 [00:00<?, ?it/s]\u001b[A"
     ]
    },
    {
     "name": "stdout",
     "output_type": "stream",
     "text": [
      "total discriminator loss:0.69318165662922\n",
      "-----------------------\n",
      "Training Step: 242\n"
     ]
    },
    {
     "name": "stderr",
     "output_type": "stream",
     "text": [
      "\n",
      " 60%|██████    | 12/20 [01:22<00:44,  5.52s/it]\u001b[A\n",
      " 65%|██████▌   | 13/20 [01:26<00:35,  5.03s/it]\u001b[A\n",
      " 70%|███████   | 14/20 [01:29<00:27,  4.57s/it]\u001b[A\n",
      " 75%|███████▌  | 15/20 [01:32<00:20,  4.11s/it]\u001b[A\n",
      " 80%|████████  | 16/20 [01:35<00:14,  3.66s/it]\u001b[A\n",
      " 85%|████████▌ | 17/20 [01:37<00:09,  3.23s/it]\u001b[A\n",
      " 90%|█████████ | 18/20 [01:39<00:05,  2.80s/it]\u001b[A\n",
      " 95%|█████████▌| 19/20 [01:40<00:02,  2.38s/it]\u001b[A\n",
      "100%|██████████| 20/20 [01:41<00:00,  5.09s/it]\u001b[A\n"
     ]
    },
    {
     "name": "stdout",
     "output_type": "stream",
     "text": [
      "generator loss:0.9049016057895637\n",
      "-----------------------\n"
     ]
    },
    {
     "name": "stderr",
     "output_type": "stream",
     "text": [
      "242it [7:26:31, 109.65s/it]\n",
      "  0%|          | 0/20 [00:00<?, ?it/s]\u001b[A"
     ]
    },
    {
     "name": "stdout",
     "output_type": "stream",
     "text": [
      "total discriminator loss:0.6931877866467149\n",
      "-----------------------\n",
      "Training Step: 243\n"
     ]
    },
    {
     "name": "stderr",
     "output_type": "stream",
     "text": [
      "\n",
      "  5%|▌         | 1/20 [00:09<02:56,  9.29s/it]\u001b[A\n",
      " 10%|█         | 2/20 [00:18<02:41,  8.96s/it]\u001b[A\n",
      " 15%|█▌        | 3/20 [00:26<02:28,  8.71s/it]\u001b[A\n",
      " 20%|██        | 4/20 [00:34<02:13,  8.37s/it]\u001b[A\n",
      " 25%|██▌       | 5/20 [00:41<02:01,  8.07s/it]\u001b[A\n",
      " 30%|███       | 6/20 [00:48<01:46,  7.59s/it]\u001b[A\n",
      " 35%|███▌      | 7/20 [00:55<01:35,  7.34s/it]\u001b[A\n",
      " 40%|████      | 8/20 [01:01<01:22,  6.89s/it]\u001b[A\n",
      " 45%|████▌     | 9/20 [01:07<01:13,  6.68s/it]\u001b[A\n",
      " 50%|█████     | 10/20 [01:12<01:01,  6.20s/it]\u001b[A\n",
      " 55%|█████▌    | 11/20 [01:17<00:51,  5.75s/it]\u001b[A\n",
      " 60%|██████    | 12/20 [01:22<00:44,  5.57s/it]\u001b[A\n",
      " 65%|██████▌   | 13/20 [01:26<00:35,  5.05s/it]\u001b[A\n",
      " 70%|███████   | 14/20 [01:29<00:27,  4.57s/it]\u001b[A\n",
      " 75%|███████▌  | 15/20 [01:32<00:20,  4.10s/it]\u001b[A\n",
      " 80%|████████  | 16/20 [01:35<00:14,  3.64s/it]\u001b[A\n",
      " 85%|████████▌ | 17/20 [01:37<00:09,  3.20s/it]\u001b[A\n",
      " 90%|█████████ | 18/20 [01:39<00:05,  2.78s/it]\u001b[A\n",
      " 95%|█████████▌| 19/20 [01:40<00:02,  2.36s/it]\u001b[A\n",
      "100%|██████████| 20/20 [01:41<00:00,  5.08s/it]\u001b[A\n"
     ]
    },
    {
     "name": "stdout",
     "output_type": "stream",
     "text": [
      "generator loss:0.8902751160983385\n",
      "-----------------------\n"
     ]
    },
    {
     "name": "stderr",
     "output_type": "stream",
     "text": [
      "243it [7:28:21, 109.69s/it]\n",
      "  0%|          | 0/20 [00:00<?, ?it/s]\u001b[A"
     ]
    },
    {
     "name": "stdout",
     "output_type": "stream",
     "text": [
      "total discriminator loss:0.6931861574029412\n",
      "-----------------------\n",
      "Training Step: 244\n"
     ]
    },
    {
     "name": "stderr",
     "output_type": "stream",
     "text": [
      "\n",
      "  5%|▌         | 1/20 [00:09<02:52,  9.09s/it]\u001b[A\n",
      " 10%|█         | 2/20 [00:17<02:39,  8.84s/it]\u001b[A\n",
      " 15%|█▌        | 3/20 [00:26<02:27,  8.70s/it]\u001b[A\n",
      " 20%|██        | 4/20 [00:34<02:13,  8.37s/it]\u001b[A\n",
      " 25%|██▌       | 5/20 [00:41<02:01,  8.07s/it]\u001b[A\n",
      " 30%|███       | 6/20 [00:48<01:45,  7.57s/it]\u001b[A\n",
      " 35%|███▌      | 7/20 [00:55<01:35,  7.32s/it]\u001b[A\n",
      " 40%|████      | 8/20 [01:01<01:22,  6.89s/it]\u001b[A\n",
      " 45%|████▌     | 9/20 [01:07<01:13,  6.65s/it]\u001b[A\n",
      " 50%|█████     | 10/20 [01:12<01:01,  6.15s/it]\u001b[A\n",
      " 55%|█████▌    | 11/20 [01:16<00:51,  5.69s/it]\u001b[A\n",
      " 60%|██████    | 12/20 [01:21<00:44,  5.51s/it]\u001b[A\n",
      " 65%|██████▌   | 13/20 [01:25<00:34,  4.99s/it]\u001b[A\n",
      " 70%|███████   | 14/20 [01:29<00:27,  4.51s/it]\u001b[A\n",
      " 75%|███████▌  | 15/20 [01:32<00:20,  4.06s/it]\u001b[A\n",
      " 80%|████████  | 16/20 [01:34<00:14,  3.62s/it]\u001b[A\n",
      " 85%|████████▌ | 17/20 [01:36<00:09,  3.19s/it]\u001b[A\n",
      " 90%|█████████ | 18/20 [01:38<00:05,  2.76s/it]\u001b[A\n",
      " 95%|█████████▌| 19/20 [01:40<00:02,  2.34s/it]\u001b[A\n",
      "100%|██████████| 20/20 [01:41<00:00,  5.05s/it]\u001b[A\n"
     ]
    },
    {
     "name": "stdout",
     "output_type": "stream",
     "text": [
      "generator loss:0.904929869510477\n",
      "-----------------------\n"
     ]
    },
    {
     "name": "stderr",
     "output_type": "stream",
     "text": [
      "244it [7:30:10, 109.53s/it]\n",
      "  0%|          | 0/20 [00:00<?, ?it/s]\u001b[A"
     ]
    },
    {
     "name": "stdout",
     "output_type": "stream",
     "text": [
      "total discriminator loss:0.693185975659924\n",
      "-----------------------\n",
      "Training Step: 245\n"
     ]
    },
    {
     "name": "stderr",
     "output_type": "stream",
     "text": [
      "\n",
      "  5%|▌         | 1/20 [00:09<02:54,  9.16s/it]\u001b[A\n",
      " 10%|█         | 2/20 [00:17<02:39,  8.87s/it]\u001b[A\n",
      " 15%|█▌        | 3/20 [00:26<02:27,  8.66s/it]\u001b[A\n",
      " 20%|██        | 4/20 [00:34<02:13,  8.34s/it]\u001b[A\n",
      " 25%|██▌       | 5/20 [00:41<02:00,  8.06s/it]\u001b[A\n",
      " 30%|███       | 6/20 [00:48<01:46,  7.58s/it]\u001b[A\n",
      " 35%|███▌      | 7/20 [00:55<01:35,  7.34s/it]\u001b[A\n",
      " 40%|████      | 8/20 [01:01<01:22,  6.88s/it]\u001b[A\n",
      " 45%|████▌     | 9/20 [01:07<01:13,  6.64s/it]\u001b[A\n",
      " 50%|█████     | 10/20 [01:12<01:01,  6.17s/it]\u001b[A\n",
      " 55%|█████▌    | 11/20 [01:16<00:51,  5.71s/it]\u001b[A\n",
      " 60%|██████    | 12/20 [01:22<00:44,  5.52s/it]\u001b[A\n",
      " 65%|██████▌   | 13/20 [01:25<00:34,  5.00s/it]\u001b[A\n",
      " 70%|███████   | 14/20 [01:29<00:27,  4.51s/it]\u001b[A\n",
      " 75%|███████▌  | 15/20 [01:32<00:20,  4.05s/it]\u001b[A\n",
      " 80%|████████  | 16/20 [01:34<00:14,  3.60s/it]\u001b[A\n",
      " 85%|████████▌ | 17/20 [01:36<00:09,  3.18s/it]\u001b[A\n",
      " 90%|█████████ | 18/20 [01:38<00:05,  2.76s/it]\u001b[A\n",
      " 95%|█████████▌| 19/20 [01:40<00:02,  2.34s/it]\u001b[A\n",
      "100%|██████████| 20/20 [01:41<00:00,  5.05s/it]\u001b[A\n"
     ]
    },
    {
     "name": "stdout",
     "output_type": "stream",
     "text": [
      "generator loss:0.8910985571941825\n",
      "-----------------------\n"
     ]
    },
    {
     "name": "stderr",
     "output_type": "stream",
     "text": [
      "245it [7:31:59, 109.40s/it]\n",
      "  0%|          | 0/20 [00:00<?, ?it/s]\u001b[A"
     ]
    },
    {
     "name": "stdout",
     "output_type": "stream",
     "text": [
      "total discriminator loss:0.693183751924864\n",
      "-----------------------\n",
      "Training Step: 246\n"
     ]
    },
    {
     "name": "stderr",
     "output_type": "stream",
     "text": [
      "\n",
      "  5%|▌         | 1/20 [00:09<02:54,  9.21s/it]\u001b[A\n",
      " 10%|█         | 2/20 [00:17<02:40,  8.90s/it]\u001b[A\n",
      " 15%|█▌        | 3/20 [00:26<02:26,  8.64s/it]\u001b[A\n",
      " 20%|██        | 4/20 [00:34<02:13,  8.34s/it]\u001b[A\n",
      " 25%|██▌       | 5/20 [00:41<02:00,  8.06s/it]\u001b[A\n",
      " 30%|███       | 6/20 [00:48<01:46,  7.57s/it]\u001b[A\n",
      " 35%|███▌      | 7/20 [00:55<01:35,  7.37s/it]\u001b[A\n",
      " 40%|████      | 8/20 [01:01<01:22,  6.92s/it]\u001b[A\n",
      " 45%|████▌     | 9/20 [01:07<01:13,  6.68s/it]\u001b[A\n",
      " 50%|█████     | 10/20 [01:12<01:01,  6.19s/it]\u001b[A\n",
      " 55%|█████▌    | 11/20 [01:17<00:51,  5.72s/it]\u001b[A\n",
      " 60%|██████    | 12/20 [01:22<00:44,  5.54s/it]\u001b[A\n",
      " 65%|██████▌   | 13/20 [01:26<00:35,  5.01s/it]\u001b[A\n",
      " 70%|███████   | 14/20 [01:29<00:27,  4.51s/it]\u001b[A\n",
      " 75%|███████▌  | 15/20 [01:32<00:20,  4.05s/it]\u001b[A\n",
      " 80%|████████  | 16/20 [01:34<00:14,  3.61s/it]\u001b[A\n",
      " 85%|████████▌ | 17/20 [01:37<00:09,  3.17s/it]\u001b[A\n",
      " 90%|█████████ | 18/20 [01:38<00:05,  2.76s/it]\u001b[A\n",
      " 95%|█████████▌| 19/20 [01:40<00:02,  2.34s/it]\u001b[A\n",
      "100%|██████████| 20/20 [01:41<00:00,  5.06s/it]\u001b[A\n"
     ]
    },
    {
     "name": "stdout",
     "output_type": "stream",
     "text": [
      "generator loss:0.9047061377788523\n",
      "-----------------------\n"
     ]
    },
    {
     "name": "stderr",
     "output_type": "stream",
     "text": [
      "246it [7:33:48, 109.39s/it]\n",
      "  0%|          | 0/20 [00:00<?, ?it/s]\u001b[A"
     ]
    },
    {
     "name": "stdout",
     "output_type": "stream",
     "text": [
      "total discriminator loss:0.6931865055415496\n",
      "-----------------------\n",
      "Training Step: 247\n"
     ]
    },
    {
     "name": "stderr",
     "output_type": "stream",
     "text": [
      "\n",
      "  5%|▌         | 1/20 [00:09<02:56,  9.31s/it]\u001b[A\n",
      " 10%|█         | 2/20 [00:18<02:41,  8.99s/it]\u001b[A\n",
      " 15%|█▌        | 3/20 [00:26<02:28,  8.72s/it]\u001b[A\n",
      " 20%|██        | 4/20 [00:34<02:14,  8.39s/it]\u001b[A\n",
      " 25%|██▌       | 5/20 [00:41<02:01,  8.07s/it]\u001b[A\n",
      " 30%|███       | 6/20 [00:48<01:46,  7.60s/it]\u001b[A\n",
      " 35%|███▌      | 7/20 [00:55<01:35,  7.36s/it]\u001b[A\n",
      " 40%|████      | 8/20 [01:01<01:22,  6.91s/it]\u001b[A\n",
      " 45%|████▌     | 9/20 [01:07<01:13,  6.68s/it]\u001b[A\n",
      " 50%|█████     | 10/20 [01:12<01:02,  6.20s/it]\u001b[A\n",
      " 55%|█████▌    | 11/20 [01:17<00:51,  5.76s/it]\u001b[A\n",
      " 60%|██████    | 12/20 [01:22<00:44,  5.56s/it]\u001b[A\n",
      " 65%|██████▌   | 13/20 [01:26<00:35,  5.03s/it]\u001b[A\n",
      " 70%|███████   | 14/20 [01:29<00:27,  4.53s/it]\u001b[A\n",
      " 75%|███████▌  | 15/20 [01:32<00:20,  4.07s/it]\u001b[A\n",
      " 80%|████████  | 16/20 [01:35<00:14,  3.62s/it]\u001b[A\n",
      " 85%|████████▌ | 17/20 [01:37<00:09,  3.19s/it]\u001b[A\n",
      " 90%|█████████ | 18/20 [01:39<00:05,  2.77s/it]\u001b[A\n",
      " 95%|█████████▌| 19/20 [01:40<00:02,  2.35s/it]\u001b[A\n",
      "100%|██████████| 20/20 [01:41<00:00,  5.08s/it]\u001b[A\n"
     ]
    },
    {
     "name": "stdout",
     "output_type": "stream",
     "text": [
      "generator loss:0.8903094395276607\n",
      "-----------------------\n"
     ]
    },
    {
     "name": "stderr",
     "output_type": "stream",
     "text": [
      "247it [7:35:38, 109.48s/it]\n",
      "  0%|          | 0/20 [00:00<?, ?it/s]\u001b[A"
     ]
    },
    {
     "name": "stdout",
     "output_type": "stream",
     "text": [
      "total discriminator loss:0.6931834275334674\n",
      "-----------------------\n",
      "Training Step: 248\n"
     ]
    },
    {
     "name": "stderr",
     "output_type": "stream",
     "text": [
      "\n",
      "  5%|▌         | 1/20 [00:09<02:53,  9.15s/it]\u001b[A\n",
      " 10%|█         | 2/20 [00:17<02:39,  8.89s/it]\u001b[A\n",
      " 15%|█▌        | 3/20 [00:26<02:26,  8.64s/it]\u001b[A\n",
      " 20%|██        | 4/20 [00:34<02:13,  8.34s/it]\u001b[A\n",
      " 25%|██▌       | 5/20 [00:41<02:00,  8.05s/it]\u001b[A\n",
      " 30%|███       | 6/20 [00:48<01:46,  7.59s/it]\u001b[A\n",
      " 35%|███▌      | 7/20 [00:55<01:35,  7.34s/it]\u001b[A\n",
      " 40%|████      | 8/20 [01:01<01:22,  6.89s/it]\u001b[A\n",
      " 45%|████▌     | 9/20 [01:07<01:13,  6.68s/it]\u001b[A\n",
      " 50%|█████     | 10/20 [01:12<01:01,  6.19s/it]\u001b[A\n",
      " 55%|█████▌    | 11/20 [01:17<00:51,  5.73s/it]\u001b[A\n",
      " 60%|██████    | 12/20 [01:22<00:44,  5.54s/it]\u001b[A\n",
      " 65%|██████▌   | 13/20 [01:25<00:35,  5.02s/it]\u001b[A\n",
      " 70%|███████   | 14/20 [01:29<00:27,  4.54s/it]\u001b[A\n",
      " 75%|███████▌  | 15/20 [01:32<00:20,  4.08s/it]\u001b[A\n",
      " 80%|████████  | 16/20 [01:35<00:14,  3.64s/it]\u001b[A\n",
      " 85%|████████▌ | 17/20 [01:37<00:09,  3.20s/it]\u001b[A\n",
      " 90%|█████████ | 18/20 [01:39<00:05,  2.78s/it]\u001b[A\n",
      " 95%|█████████▌| 19/20 [01:40<00:02,  2.36s/it]\u001b[A\n",
      "100%|██████████| 20/20 [01:41<00:00,  5.07s/it]\u001b[A\n"
     ]
    },
    {
     "name": "stdout",
     "output_type": "stream",
     "text": [
      "generator loss:0.9050027792733278\n",
      "-----------------------\n"
     ]
    },
    {
     "name": "stderr",
     "output_type": "stream",
     "text": [
      "248it [7:37:27, 109.49s/it]\n",
      "  0%|          | 0/20 [00:00<?, ?it/s]\u001b[A"
     ]
    },
    {
     "name": "stdout",
     "output_type": "stream",
     "text": [
      "total discriminator loss:0.6931871657062981\n",
      "-----------------------\n",
      "Training Step: 249\n"
     ]
    },
    {
     "name": "stderr",
     "output_type": "stream",
     "text": [
      "\n",
      "  5%|▌         | 1/20 [00:09<02:54,  9.21s/it]\u001b[A\n",
      " 10%|█         | 2/20 [00:17<02:40,  8.91s/it]\u001b[A\n",
      " 15%|█▌        | 3/20 [00:26<02:27,  8.70s/it]\u001b[A\n",
      " 20%|██        | 4/20 [00:34<02:14,  8.40s/it]\u001b[A\n",
      " 25%|██▌       | 5/20 [00:41<02:01,  8.10s/it]\u001b[A\n",
      " 30%|███       | 6/20 [00:48<01:46,  7.60s/it]\u001b[A\n",
      " 35%|███▌      | 7/20 [00:55<01:35,  7.36s/it]\u001b[A\n",
      " 40%|████      | 8/20 [01:01<01:22,  6.88s/it]\u001b[A\n",
      " 45%|████▌     | 9/20 [01:07<01:13,  6.65s/it]\u001b[A\n",
      " 50%|█████     | 10/20 [01:12<01:01,  6.16s/it]\u001b[A\n",
      " 55%|█████▌    | 11/20 [01:17<00:51,  5.70s/it]\u001b[A\n",
      " 60%|██████    | 12/20 [01:22<00:44,  5.50s/it]\u001b[A\n",
      " 65%|██████▌   | 13/20 [01:25<00:34,  4.98s/it]\u001b[A\n",
      " 70%|███████   | 14/20 [01:29<00:27,  4.50s/it]\u001b[A\n",
      " 75%|███████▌  | 15/20 [01:32<00:20,  4.04s/it]\u001b[A\n",
      " 80%|████████  | 16/20 [01:34<00:14,  3.60s/it]\u001b[A\n",
      " 85%|████████▌ | 17/20 [01:37<00:09,  3.18s/it]\u001b[A\n",
      " 90%|█████████ | 18/20 [01:38<00:05,  2.77s/it]\u001b[A\n",
      " 95%|█████████▌| 19/20 [01:40<00:02,  2.36s/it]\u001b[A\n",
      "100%|██████████| 20/20 [01:41<00:00,  5.06s/it]\u001b[A\n"
     ]
    },
    {
     "name": "stdout",
     "output_type": "stream",
     "text": [
      "generator loss:0.8905529353640214\n",
      "-----------------------\n"
     ]
    },
    {
     "name": "stderr",
     "output_type": "stream",
     "text": [
      "249it [7:39:17, 109.47s/it]\n",
      "  0%|          | 0/20 [00:00<?, ?it/s]\u001b[A"
     ]
    },
    {
     "name": "stdout",
     "output_type": "stream",
     "text": [
      "total discriminator loss:0.6931856316810148\n",
      "-----------------------\n",
      "Training Step: 250\n"
     ]
    },
    {
     "name": "stderr",
     "output_type": "stream",
     "text": [
      "\n",
      "  5%|▌         | 1/20 [00:09<02:55,  9.22s/it]\u001b[A\n",
      " 10%|█         | 2/20 [00:18<02:41,  8.97s/it]\u001b[A\n",
      " 15%|█▌        | 3/20 [00:26<02:29,  8.78s/it]\u001b[A\n",
      " 20%|██        | 4/20 [00:34<02:15,  8.45s/it]\u001b[A\n",
      " 25%|██▌       | 5/20 [00:42<02:02,  8.15s/it]\u001b[A\n",
      " 30%|███       | 6/20 [00:48<01:47,  7.65s/it]\u001b[A\n",
      " 35%|███▌      | 7/20 [00:55<01:35,  7.38s/it]\u001b[A\n",
      " 40%|████      | 8/20 [01:01<01:22,  6.90s/it]\u001b[A\n",
      " 45%|████▌     | 9/20 [01:07<01:13,  6.66s/it]\u001b[A\n",
      " 50%|█████     | 10/20 [01:12<01:01,  6.16s/it]\u001b[A\n",
      " 55%|█████▌    | 11/20 [01:17<00:51,  5.69s/it]\u001b[A\n",
      " 60%|██████    | 12/20 [01:22<00:44,  5.50s/it]\u001b[A\n",
      " 65%|██████▌   | 13/20 [01:26<00:34,  4.98s/it]\u001b[A\n",
      " 70%|███████   | 14/20 [01:29<00:27,  4.50s/it]\u001b[A\n",
      " 75%|███████▌  | 15/20 [01:32<00:20,  4.06s/it]\u001b[A\n",
      " 80%|████████  | 16/20 [01:35<00:14,  3.62s/it]\u001b[A\n",
      " 85%|████████▌ | 17/20 [01:37<00:09,  3.20s/it]\u001b[A\n",
      " 90%|█████████ | 18/20 [01:39<00:05,  2.77s/it]\u001b[A\n",
      " 95%|█████████▌| 19/20 [01:40<00:02,  2.35s/it]\u001b[A\n",
      "100%|██████████| 20/20 [01:41<00:00,  5.08s/it]\u001b[A\n"
     ]
    },
    {
     "name": "stdout",
     "output_type": "stream",
     "text": [
      "generator loss:0.905411474684626\n",
      "-----------------------\n"
     ]
    },
    {
     "name": "stderr",
     "output_type": "stream",
     "text": [
      "250it [7:41:06, 109.50s/it]\n",
      "  0%|          | 0/20 [00:00<?, ?it/s]\u001b[A"
     ]
    },
    {
     "name": "stdout",
     "output_type": "stream",
     "text": [
      "total discriminator loss:0.6931852479317362\n",
      "-----------------------\n",
      "Training Step: 251\n"
     ]
    },
    {
     "name": "stderr",
     "output_type": "stream",
     "text": [
      "\n",
      "  5%|▌         | 1/20 [00:09<02:55,  9.23s/it]\u001b[A\n",
      " 10%|█         | 2/20 [00:17<02:40,  8.92s/it]\u001b[A\n",
      " 15%|█▌        | 3/20 [00:26<02:27,  8.67s/it]\u001b[A\n",
      " 20%|██        | 4/20 [00:34<02:13,  8.37s/it]\u001b[A\n",
      " 25%|██▌       | 5/20 [00:41<02:01,  8.07s/it]\u001b[A\n",
      " 30%|███       | 6/20 [00:48<01:45,  7.56s/it]\u001b[A\n",
      " 35%|███▌      | 7/20 [00:55<01:34,  7.29s/it]\u001b[A\n",
      " 40%|████      | 8/20 [01:00<01:21,  6.83s/it]\u001b[A\n",
      " 45%|████▌     | 9/20 [01:07<01:12,  6.60s/it]\u001b[A\n",
      " 50%|█████     | 10/20 [01:12<01:01,  6.12s/it]\u001b[A\n",
      " 55%|█████▌    | 11/20 [01:16<00:51,  5.68s/it]\u001b[A\n",
      " 60%|██████    | 12/20 [01:21<00:43,  5.50s/it]\u001b[A\n",
      " 65%|██████▌   | 13/20 [01:25<00:34,  4.98s/it]\u001b[A\n",
      " 70%|███████   | 14/20 [01:28<00:26,  4.49s/it]\u001b[A\n",
      " 75%|███████▌  | 15/20 [01:31<00:20,  4.04s/it]\u001b[A\n",
      " 80%|████████  | 16/20 [01:34<00:14,  3.62s/it]\u001b[A\n",
      " 85%|████████▌ | 17/20 [01:36<00:09,  3.19s/it]\u001b[A\n",
      " 90%|█████████ | 18/20 [01:38<00:05,  2.76s/it]\u001b[A\n",
      " 95%|█████████▌| 19/20 [01:39<00:02,  2.35s/it]\u001b[A\n",
      "100%|██████████| 20/20 [01:40<00:00,  5.04s/it]\u001b[A\n"
     ]
    },
    {
     "name": "stdout",
     "output_type": "stream",
     "text": [
      "generator loss:0.8909624323486867\n",
      "-----------------------\n"
     ]
    },
    {
     "name": "stderr",
     "output_type": "stream",
     "text": [
      "251it [7:42:55, 109.35s/it]\n",
      "  0%|          | 0/20 [00:00<?, ?it/s]\u001b[A"
     ]
    },
    {
     "name": "stdout",
     "output_type": "stream",
     "text": [
      "total discriminator loss:0.6931839167338604\n",
      "-----------------------\n",
      "Training Step: 252\n"
     ]
    },
    {
     "name": "stderr",
     "output_type": "stream",
     "text": [
      "\n",
      "  5%|▌         | 1/20 [00:09<02:55,  9.24s/it]\u001b[A\n",
      " 10%|█         | 2/20 [00:17<02:40,  8.93s/it]\u001b[A\n",
      " 15%|█▌        | 3/20 [00:26<02:28,  8.73s/it]\u001b[A\n",
      " 20%|██        | 4/20 [00:34<02:14,  8.44s/it]\u001b[A\n",
      " 25%|██▌       | 5/20 [00:42<02:02,  8.14s/it]\u001b[A\n",
      " 30%|███       | 6/20 [00:48<01:47,  7.65s/it]\u001b[A\n",
      " 35%|███▌      | 7/20 [00:55<01:35,  7.38s/it]\u001b[A\n",
      " 40%|████      | 8/20 [01:01<01:22,  6.91s/it]\u001b[A\n",
      " 45%|████▌     | 9/20 [01:07<01:13,  6.66s/it]\u001b[A\n",
      " 50%|█████     | 10/20 [01:12<01:01,  6.16s/it]\u001b[A\n",
      " 55%|█████▌    | 11/20 [01:17<00:51,  5.68s/it]\u001b[A\n",
      " 60%|██████    | 12/20 [01:22<00:44,  5.51s/it]\u001b[A\n",
      " 65%|██████▌   | 13/20 [01:26<00:34,  4.98s/it]\u001b[A\n",
      " 70%|███████   | 14/20 [01:29<00:26,  4.50s/it]\u001b[A\n",
      " 75%|███████▌  | 15/20 [01:32<00:20,  4.05s/it]\u001b[A\n",
      " 80%|████████  | 16/20 [01:35<00:14,  3.63s/it]\u001b[A\n",
      " 85%|████████▌ | 17/20 [01:37<00:09,  3.20s/it]\u001b[A\n",
      " 90%|█████████ | 18/20 [01:39<00:05,  2.78s/it]\u001b[A\n",
      " 95%|█████████▌| 19/20 [01:40<00:02,  2.37s/it]\u001b[A\n",
      "100%|██████████| 20/20 [01:41<00:00,  5.08s/it]\u001b[A\n"
     ]
    },
    {
     "name": "stdout",
     "output_type": "stream",
     "text": [
      "generator loss:0.9052409138181595\n",
      "-----------------------\n"
     ]
    },
    {
     "name": "stderr",
     "output_type": "stream",
     "text": [
      "252it [7:44:45, 109.45s/it]\n",
      "  0%|          | 0/20 [00:00<?, ?it/s]\u001b[A"
     ]
    },
    {
     "name": "stdout",
     "output_type": "stream",
     "text": [
      "total discriminator loss:0.6931860312914722\n",
      "-----------------------\n",
      "Training Step: 253\n"
     ]
    },
    {
     "name": "stderr",
     "output_type": "stream",
     "text": [
      "\n",
      "  5%|▌         | 1/20 [00:09<02:57,  9.35s/it]\u001b[A\n",
      " 10%|█         | 2/20 [00:18<02:41,  9.00s/it]\u001b[A\n",
      " 15%|█▌        | 3/20 [00:26<02:28,  8.73s/it]\u001b[A\n",
      " 20%|██        | 4/20 [00:34<02:14,  8.41s/it]\u001b[A\n",
      " 25%|██▌       | 5/20 [00:42<02:01,  8.12s/it]\u001b[A\n",
      " 30%|███       | 6/20 [00:48<01:46,  7.62s/it]\u001b[A\n",
      " 35%|███▌      | 7/20 [00:55<01:35,  7.38s/it]\u001b[A\n",
      " 40%|████      | 8/20 [01:01<01:22,  6.91s/it]\u001b[A\n",
      " 45%|████▌     | 9/20 [01:07<01:13,  6.69s/it]\u001b[A\n",
      " 50%|█████     | 10/20 [01:12<01:02,  6.22s/it]\u001b[A\n",
      " 55%|█████▌    | 11/20 [01:17<00:51,  5.75s/it]\u001b[A\n",
      " 60%|██████    | 12/20 [01:22<00:44,  5.56s/it]\u001b[A\n",
      " 65%|██████▌   | 13/20 [01:26<00:35,  5.03s/it]\u001b[A\n",
      " 70%|███████   | 14/20 [01:29<00:27,  4.53s/it]\u001b[A\n",
      " 75%|███████▌  | 15/20 [01:32<00:20,  4.06s/it]\u001b[A\n",
      " 80%|████████  | 16/20 [01:35<00:14,  3.62s/it]\u001b[A\n",
      " 85%|████████▌ | 17/20 [01:37<00:09,  3.19s/it]\u001b[A\n",
      " 90%|█████████ | 18/20 [01:39<00:05,  2.76s/it]\u001b[A\n",
      " 95%|█████████▌| 19/20 [01:40<00:02,  2.35s/it]\u001b[A\n",
      "100%|██████████| 20/20 [01:41<00:00,  5.09s/it]\u001b[A\n"
     ]
    },
    {
     "name": "stdout",
     "output_type": "stream",
     "text": [
      "generator loss:0.889747692877308\n",
      "-----------------------\n"
     ]
    },
    {
     "name": "stderr",
     "output_type": "stream",
     "text": [
      "253it [7:46:35, 109.54s/it]\n",
      "  0%|          | 0/20 [00:00<?, ?it/s]\u001b[A"
     ]
    },
    {
     "name": "stdout",
     "output_type": "stream",
     "text": [
      "total discriminator loss:0.6931883483141484\n",
      "-----------------------\n",
      "Training Step: 254\n"
     ]
    },
    {
     "name": "stderr",
     "output_type": "stream",
     "text": [
      "\n",
      "  5%|▌         | 1/20 [00:09<02:55,  9.22s/it]\u001b[A\n",
      " 10%|█         | 2/20 [00:17<02:41,  8.95s/it]\u001b[A\n",
      " 15%|█▌        | 3/20 [00:26<02:28,  8.73s/it]\u001b[A\n",
      " 20%|██        | 4/20 [00:34<02:14,  8.40s/it]\u001b[A\n",
      " 25%|██▌       | 5/20 [00:41<02:01,  8.07s/it]\u001b[A\n",
      " 30%|███       | 6/20 [00:48<01:46,  7.57s/it]\u001b[A\n",
      " 35%|███▌      | 7/20 [00:55<01:35,  7.31s/it]\u001b[A\n",
      " 40%|████      | 8/20 [01:01<01:22,  6.86s/it]\u001b[A\n",
      " 45%|████▌     | 9/20 [01:07<01:13,  6.65s/it]\u001b[A\n",
      " 50%|█████     | 10/20 [01:12<01:01,  6.17s/it]\u001b[A\n",
      " 55%|█████▌    | 11/20 [01:17<00:51,  5.71s/it]\u001b[A\n",
      " 60%|██████    | 12/20 [01:22<00:44,  5.53s/it]\u001b[A\n",
      " 65%|██████▌   | 13/20 [01:25<00:34,  5.00s/it]\u001b[A\n",
      " 70%|███████   | 14/20 [01:29<00:27,  4.51s/it]\u001b[A\n",
      " 75%|███████▌  | 15/20 [01:32<00:20,  4.06s/it]\u001b[A\n",
      " 80%|████████  | 16/20 [01:34<00:14,  3.61s/it]\u001b[A\n",
      " 85%|████████▌ | 17/20 [01:37<00:09,  3.17s/it]\u001b[A\n",
      " 90%|█████████ | 18/20 [01:38<00:05,  2.75s/it]\u001b[A\n",
      " 95%|█████████▌| 19/20 [01:40<00:02,  2.33s/it]\u001b[A\n",
      "100%|██████████| 20/20 [01:41<00:00,  5.06s/it]\u001b[A\n"
     ]
    },
    {
     "name": "stdout",
     "output_type": "stream",
     "text": [
      "generator loss:0.9052638185969336\n",
      "-----------------------\n"
     ]
    },
    {
     "name": "stderr",
     "output_type": "stream",
     "text": [
      "254it [7:48:24, 109.46s/it]\n",
      "  0%|          | 0/20 [00:00<?, ?it/s]\u001b[A"
     ]
    },
    {
     "name": "stdout",
     "output_type": "stream",
     "text": [
      "total discriminator loss:0.6931854516646756\n",
      "-----------------------\n",
      "Training Step: 255\n"
     ]
    },
    {
     "name": "stderr",
     "output_type": "stream",
     "text": [
      "\n",
      "  5%|▌         | 1/20 [00:09<02:53,  9.13s/it]\u001b[A\n",
      " 10%|█         | 2/20 [00:17<02:39,  8.84s/it]\u001b[A\n",
      " 15%|█▌        | 3/20 [00:26<02:27,  8.69s/it]\u001b[A\n",
      " 20%|██        | 4/20 [00:34<02:14,  8.38s/it]\u001b[A\n",
      " 25%|██▌       | 5/20 [00:41<02:00,  8.06s/it]\u001b[A\n",
      " 30%|███       | 6/20 [00:48<01:46,  7.58s/it]\u001b[A\n",
      " 35%|███▌      | 7/20 [00:55<01:35,  7.32s/it]\u001b[A\n",
      " 40%|████      | 8/20 [01:00<01:22,  6.86s/it]\u001b[A\n",
      " 45%|████▌     | 9/20 [01:07<01:12,  6.63s/it]\u001b[A\n",
      " 50%|█████     | 10/20 [01:12<01:01,  6.14s/it]\u001b[A\n",
      " 55%|█████▌    | 11/20 [01:16<00:51,  5.68s/it]\u001b[A\n",
      " 60%|██████    | 12/20 [01:21<00:44,  5.50s/it]\u001b[A\n",
      " 65%|██████▌   | 13/20 [01:25<00:34,  5.00s/it]\u001b[A\n",
      " 70%|███████   | 14/20 [01:29<00:27,  4.51s/it]\u001b[A\n",
      " 75%|███████▌  | 15/20 [01:32<00:20,  4.05s/it]\u001b[A\n",
      " 80%|████████  | 16/20 [01:34<00:14,  3.62s/it]\u001b[A\n",
      " 85%|████████▌ | 17/20 [01:36<00:09,  3.18s/it]\u001b[A\n",
      " 90%|█████████ | 18/20 [01:38<00:05,  2.76s/it]\u001b[A\n",
      " 95%|█████████▌| 19/20 [01:40<00:02,  2.35s/it]\u001b[A\n",
      "100%|██████████| 20/20 [01:41<00:00,  5.05s/it]\u001b[A\n"
     ]
    },
    {
     "name": "stdout",
     "output_type": "stream",
     "text": [
      "generator loss:0.8908790832912612\n",
      "-----------------------\n"
     ]
    },
    {
     "name": "stderr",
     "output_type": "stream",
     "text": [
      "255it [7:50:13, 109.35s/it]\n",
      "  0%|          | 0/20 [00:00<?, ?it/s]\u001b[A"
     ]
    },
    {
     "name": "stdout",
     "output_type": "stream",
     "text": [
      "total discriminator loss:0.6931819437260928\n",
      "-----------------------\n",
      "Training Step: 256\n"
     ]
    },
    {
     "name": "stderr",
     "output_type": "stream",
     "text": [
      "\n",
      "  5%|▌         | 1/20 [00:09<02:55,  9.25s/it]\u001b[A\n",
      " 10%|█         | 2/20 [00:18<02:41,  8.98s/it]\u001b[A\n",
      " 15%|█▌        | 3/20 [00:26<02:28,  8.76s/it]\u001b[A\n",
      " 20%|██        | 4/20 [00:34<02:14,  8.44s/it]\u001b[A\n",
      " 25%|██▌       | 5/20 [00:42<02:02,  8.15s/it]\u001b[A\n",
      " 30%|███       | 6/20 [00:48<01:47,  7.65s/it]\u001b[A\n",
      " 35%|███▌      | 7/20 [00:55<01:36,  7.41s/it]\u001b[A\n",
      " 40%|████      | 8/20 [01:01<01:23,  6.94s/it]\u001b[A\n",
      " 45%|████▌     | 9/20 [01:07<01:13,  6.70s/it]\u001b[A\n",
      " 50%|█████     | 10/20 [01:12<01:02,  6.21s/it]\u001b[A\n",
      " 55%|█████▌    | 11/20 [01:17<00:51,  5.75s/it]\u001b[A\n",
      " 60%|██████    | 12/20 [01:22<00:44,  5.55s/it]\u001b[A\n",
      " 65%|██████▌   | 13/20 [01:26<00:35,  5.03s/it]\u001b[A\n",
      " 70%|███████   | 14/20 [01:29<00:27,  4.54s/it]\u001b[A\n",
      " 75%|███████▌  | 15/20 [01:32<00:20,  4.08s/it]\u001b[A\n",
      " 80%|████████  | 16/20 [01:35<00:14,  3.62s/it]\u001b[A\n",
      " 85%|████████▌ | 17/20 [01:37<00:09,  3.20s/it]\u001b[A\n",
      " 90%|█████████ | 18/20 [01:39<00:05,  2.78s/it]\u001b[A\n",
      " 95%|█████████▌| 19/20 [01:40<00:02,  2.36s/it]\u001b[A\n",
      "100%|██████████| 20/20 [01:41<00:00,  5.10s/it]\u001b[A\n"
     ]
    },
    {
     "name": "stdout",
     "output_type": "stream",
     "text": [
      "generator loss:0.9049604692666607\n",
      "-----------------------\n"
     ]
    },
    {
     "name": "stderr",
     "output_type": "stream",
     "text": [
      "256it [7:52:03, 109.55s/it]\n",
      "  0%|          | 0/20 [00:00<?, ?it/s]\u001b[A"
     ]
    },
    {
     "name": "stdout",
     "output_type": "stream",
     "text": [
      "total discriminator loss:0.6931872745989928\n",
      "-----------------------\n",
      "Training Step: 257\n"
     ]
    },
    {
     "name": "stderr",
     "output_type": "stream",
     "text": [
      "\n",
      "  5%|▌         | 1/20 [00:09<02:55,  9.25s/it]\u001b[A\n",
      " 10%|█         | 2/20 [00:17<02:41,  8.95s/it]\u001b[A\n",
      " 15%|█▌        | 3/20 [00:26<02:28,  8.73s/it]\u001b[A\n",
      " 20%|██        | 4/20 [00:34<02:14,  8.41s/it]\u001b[A\n",
      " 25%|██▌       | 5/20 [00:41<02:01,  8.12s/it]\u001b[A\n",
      " 30%|███       | 6/20 [00:48<01:46,  7.64s/it]\u001b[A\n",
      " 35%|███▌      | 7/20 [00:55<01:36,  7.39s/it]\u001b[A\n",
      " 40%|████      | 8/20 [01:01<01:23,  6.92s/it]\u001b[A\n",
      " 45%|████▌     | 9/20 [01:07<01:13,  6.69s/it]\u001b[A\n",
      " 50%|█████     | 10/20 [01:12<01:02,  6.21s/it]\u001b[A\n",
      " 55%|█████▌    | 11/20 [01:17<00:51,  5.76s/it]\u001b[A\n",
      " 60%|██████    | 12/20 [01:22<00:44,  5.59s/it]\u001b[A\n",
      " 65%|██████▌   | 13/20 [01:26<00:35,  5.05s/it]\u001b[A\n",
      " 70%|███████   | 14/20 [01:29<00:27,  4.56s/it]\u001b[A\n",
      " 75%|███████▌  | 15/20 [01:33<00:20,  4.10s/it]\u001b[A\n",
      " 80%|████████  | 16/20 [01:35<00:14,  3.65s/it]\u001b[A\n",
      " 85%|████████▌ | 17/20 [01:37<00:09,  3.22s/it]\u001b[A\n",
      " 90%|█████████ | 18/20 [01:39<00:05,  2.80s/it]\u001b[A\n",
      " 95%|█████████▌| 19/20 [01:41<00:02,  2.37s/it]\u001b[A\n",
      "100%|██████████| 20/20 [01:42<00:00,  5.10s/it]\u001b[A\n"
     ]
    },
    {
     "name": "stdout",
     "output_type": "stream",
     "text": [
      "generator loss:0.8904778635497866\n",
      "-----------------------\n"
     ]
    },
    {
     "name": "stderr",
     "output_type": "stream",
     "text": [
      "257it [7:53:53, 109.74s/it]\n",
      "  0%|          | 0/20 [00:00<?, ?it/s]\u001b[A"
     ]
    },
    {
     "name": "stdout",
     "output_type": "stream",
     "text": [
      "total discriminator loss:0.6931862943157335\n",
      "-----------------------\n",
      "Training Step: 258\n"
     ]
    },
    {
     "name": "stderr",
     "output_type": "stream",
     "text": [
      "\n",
      "  5%|▌         | 1/20 [00:09<02:56,  9.27s/it]\u001b[A\n",
      " 10%|█         | 2/20 [00:18<02:41,  8.99s/it]\u001b[A\n",
      " 15%|█▌        | 3/20 [00:26<02:29,  8.77s/it]\u001b[A\n",
      " 15%|█▌        | 3/20 [00:26<02:27,  8.69s/it]\u001b[A\n",
      " 20%|██        | 4/20 [00:34<02:14,  8.40s/it]\u001b[A\n",
      " 25%|██▌       | 5/20 [00:41<02:01,  8.07s/it]\u001b[A\n",
      " 30%|███       | 6/20 [00:48<01:46,  7.58s/it]\u001b[A\n",
      " 35%|███▌      | 7/20 [00:55<01:35,  7.36s/it]\u001b[A\n",
      " 40%|████      | 8/20 [01:01<01:23,  6.92s/it]\u001b[A\n",
      " 45%|████▌     | 9/20 [01:07<01:13,  6.70s/it]\u001b[A\n",
      " 50%|█████     | 10/20 [01:12<01:02,  6.23s/it]\u001b[A\n",
      " 55%|█████▌    | 11/20 [01:17<00:52,  5.78s/it]\u001b[A\n",
      " 60%|██████    | 12/20 [01:22<00:44,  5.61s/it]\u001b[A\n",
      " 65%|██████▌   | 13/20 [01:26<00:35,  5.09s/it]\u001b[A\n",
      " 70%|███████   | 14/20 [01:30<00:27,  4.59s/it]\u001b[A\n",
      " 75%|███████▌  | 15/20 [01:33<00:20,  4.12s/it]\u001b[A\n",
      " 80%|████████  | 16/20 [01:35<00:14,  3.66s/it]\u001b[A\n",
      " 85%|████████▌ | 17/20 [01:37<00:09,  3.22s/it]\u001b[A\n",
      " 90%|█████████ | 18/20 [01:39<00:05,  2.79s/it]\u001b[A\n",
      " 95%|█████████▌| 19/20 [01:41<00:02,  2.37s/it]\u001b[A\n",
      "100%|██████████| 20/20 [01:42<00:00,  5.10s/it]\u001b[A\n"
     ]
    },
    {
     "name": "stdout",
     "output_type": "stream",
     "text": [
      "generator loss:0.8904889965413361\n",
      "-----------------------\n"
     ]
    },
    {
     "name": "stderr",
     "output_type": "stream",
     "text": [
      "259it [7:57:33, 109.86s/it]\n",
      "  0%|          | 0/20 [00:00<?, ?it/s]\u001b[A"
     ]
    },
    {
     "name": "stdout",
     "output_type": "stream",
     "text": [
      "total discriminator loss:0.6931842747596013\n",
      "-----------------------\n",
      "Training Step: 260\n"
     ]
    },
    {
     "name": "stderr",
     "output_type": "stream",
     "text": [
      "\n",
      "  5%|▌         | 1/20 [00:09<03:00,  9.49s/it]\u001b[A\n",
      " 10%|█         | 2/20 [00:18<02:43,  9.08s/it]\u001b[A\n",
      " 15%|█▌        | 3/20 [00:26<02:29,  8.77s/it]\u001b[A\n",
      " 20%|██        | 4/20 [00:34<02:14,  8.40s/it]\u001b[A\n",
      " 25%|██▌       | 5/20 [00:42<02:01,  8.09s/it]\u001b[A\n",
      " 30%|███       | 6/20 [00:48<01:46,  7.58s/it]\u001b[A\n",
      " 35%|███▌      | 7/20 [00:55<01:35,  7.33s/it]\u001b[A\n",
      " 40%|████      | 8/20 [01:01<01:22,  6.86s/it]\u001b[A\n",
      " 45%|████▌     | 9/20 [01:07<01:13,  6.66s/it]\u001b[A\n",
      " 50%|█████     | 10/20 [01:12<01:01,  6.18s/it]\u001b[A\n",
      " 55%|█████▌    | 11/20 [01:17<00:51,  5.73s/it]\u001b[A\n",
      " 60%|██████    | 12/20 [01:22<00:44,  5.54s/it]\u001b[A\n",
      " 65%|██████▌   | 13/20 [01:26<00:35,  5.01s/it]\u001b[A\n",
      " 70%|███████   | 14/20 [01:29<00:27,  4.51s/it]\u001b[A\n",
      " 75%|███████▌  | 15/20 [01:32<00:20,  4.05s/it]\u001b[A\n",
      " 80%|████████  | 16/20 [01:35<00:14,  3.62s/it]\u001b[A\n",
      " 85%|████████▌ | 17/20 [01:37<00:09,  3.18s/it]\u001b[A\n",
      " 90%|█████████ | 18/20 [01:39<00:05,  2.77s/it]\u001b[A\n",
      " 95%|█████████▌| 19/20 [01:40<00:02,  2.35s/it]\u001b[A\n",
      "100%|██████████| 20/20 [01:41<00:00,  5.08s/it]\u001b[A\n"
     ]
    },
    {
     "name": "stdout",
     "output_type": "stream",
     "text": [
      "generator loss:0.9041680300432844\n",
      "-----------------------\n"
     ]
    },
    {
     "name": "stderr",
     "output_type": "stream",
     "text": [
      "260it [7:59:23, 109.80s/it]\n",
      "  0%|          | 0/20 [00:00<?, ?it/s]\u001b[A"
     ]
    },
    {
     "name": "stdout",
     "output_type": "stream",
     "text": [
      "total discriminator loss:0.6931896727737565\n",
      "-----------------------\n",
      "Training Step: 261\n"
     ]
    },
    {
     "name": "stderr",
     "output_type": "stream",
     "text": [
      "\n",
      "  5%|▌         | 1/20 [00:09<02:56,  9.28s/it]\u001b[A\n",
      " 10%|█         | 2/20 [00:18<02:41,  8.96s/it]\u001b[A\n",
      " 15%|█▌        | 3/20 [00:26<02:28,  8.76s/it]\u001b[A\n",
      " 20%|██        | 4/20 [00:34<02:14,  8.44s/it]\u001b[A\n",
      " 25%|██▌       | 5/20 [00:42<02:02,  8.16s/it]\u001b[A\n",
      " 30%|███       | 6/20 [00:48<01:47,  7.65s/it]\u001b[A\n",
      " 35%|███▌      | 7/20 [00:55<01:36,  7.40s/it]\u001b[A\n",
      " 40%|████      | 8/20 [01:01<01:23,  6.95s/it]\u001b[A\n",
      " 45%|████▌     | 9/20 [01:07<01:13,  6.71s/it]\u001b[A\n",
      " 50%|█████     | 10/20 [01:12<01:02,  6.21s/it]\u001b[A\n",
      " 55%|█████▌    | 11/20 [01:17<00:51,  5.73s/it]\u001b[A\n",
      " 60%|██████    | 12/20 [01:22<00:44,  5.54s/it]\u001b[A\n",
      " 65%|██████▌   | 13/20 [01:26<00:35,  5.02s/it]\u001b[A\n",
      " 70%|███████   | 14/20 [01:29<00:27,  4.53s/it]\u001b[A\n",
      " 75%|███████▌  | 15/20 [01:32<00:20,  4.07s/it]\u001b[A\n",
      " 80%|████████  | 16/20 [01:35<00:14,  3.63s/it]\u001b[A\n",
      " 85%|████████▌ | 17/20 [01:37<00:09,  3.19s/it]\u001b[A\n",
      " 90%|█████████ | 18/20 [01:39<00:05,  2.77s/it]\u001b[A\n",
      " 95%|█████████▌| 19/20 [01:40<00:02,  2.36s/it]\u001b[A\n",
      "100%|██████████| 20/20 [01:41<00:00,  5.09s/it]\u001b[A\n"
     ]
    },
    {
     "name": "stdout",
     "output_type": "stream",
     "text": [
      "generator loss:0.8894249882953374\n",
      "-----------------------\n"
     ]
    },
    {
     "name": "stderr",
     "output_type": "stream",
     "text": [
      "261it [8:01:13, 109.84s/it]\n",
      "  0%|          | 0/20 [00:00<?, ?it/s]\u001b[A"
     ]
    },
    {
     "name": "stdout",
     "output_type": "stream",
     "text": [
      "total discriminator loss:0.6931844960075485\n",
      "-----------------------\n",
      "Training Step: 262\n"
     ]
    },
    {
     "name": "stderr",
     "output_type": "stream",
     "text": [
      "\n",
      "  5%|▌         | 1/20 [00:09<02:54,  9.20s/it]\u001b[A\n",
      " 10%|█         | 2/20 [00:17<02:40,  8.92s/it]\u001b[A\n",
      " 15%|█▌        | 3/20 [00:26<02:27,  8.68s/it]\u001b[A\n",
      " 20%|██        | 4/20 [00:34<02:14,  8.38s/it]\u001b[A\n",
      " 25%|██▌       | 5/20 [00:41<02:01,  8.10s/it]\u001b[A\n",
      " 30%|███       | 6/20 [00:48<01:46,  7.60s/it]\u001b[A\n",
      " 35%|███▌      | 7/20 [00:55<01:35,  7.35s/it]\u001b[A\n",
      " 40%|████      | 8/20 [01:01<01:22,  6.90s/it]\u001b[A\n",
      " 45%|████▌     | 9/20 [01:07<01:13,  6.66s/it]\u001b[A\n",
      " 50%|█████     | 10/20 [01:12<01:01,  6.18s/it]\u001b[A\n",
      " 55%|█████▌    | 11/20 [01:17<00:51,  5.72s/it]\u001b[A\n",
      " 60%|██████    | 12/20 [01:22<00:44,  5.55s/it]\u001b[A\n",
      " 65%|██████▌   | 13/20 [01:26<00:35,  5.03s/it]\u001b[A\n",
      " 70%|███████   | 14/20 [01:29<00:27,  4.55s/it]\u001b[A\n",
      " 75%|███████▌  | 15/20 [01:32<00:20,  4.08s/it]\u001b[A\n",
      " 80%|████████  | 16/20 [01:35<00:14,  3.65s/it]\u001b[A\n",
      " 85%|████████▌ | 17/20 [01:37<00:09,  3.21s/it]\u001b[A\n",
      " 90%|█████████ | 18/20 [01:39<00:05,  2.78s/it]\u001b[A\n",
      " 95%|█████████▌| 19/20 [01:40<00:02,  2.36s/it]\u001b[A\n",
      "100%|██████████| 20/20 [01:41<00:00,  5.08s/it]\u001b[A\n"
     ]
    },
    {
     "name": "stdout",
     "output_type": "stream",
     "text": [
      "generator loss:0.9050010555617819\n",
      "-----------------------\n"
     ]
    },
    {
     "name": "stderr",
     "output_type": "stream",
     "text": [
      "262it [8:03:02, 109.80s/it]\n",
      "  0%|          | 0/20 [00:00<?, ?it/s]\u001b[A"
     ]
    },
    {
     "name": "stdout",
     "output_type": "stream",
     "text": [
      "total discriminator loss:0.6931839738995588\n",
      "-----------------------\n",
      "Training Step: 263\n"
     ]
    },
    {
     "name": "stderr",
     "output_type": "stream",
     "text": [
      "\n",
      "  5%|▌         | 1/20 [00:09<02:55,  9.26s/it]\u001b[A\n",
      " 10%|█         | 2/20 [00:18<02:41,  8.99s/it]\u001b[A\n",
      " 15%|█▌        | 3/20 [00:26<02:28,  8.75s/it]\u001b[A\n",
      " 20%|██        | 4/20 [00:34<02:14,  8.43s/it]\u001b[A\n",
      " 25%|██▌       | 5/20 [00:42<02:02,  8.15s/it]\u001b[A\n",
      " 30%|███       | 6/20 [00:48<01:47,  7.67s/it]\u001b[A\n",
      " 35%|███▌      | 7/20 [00:55<01:36,  7.40s/it]\u001b[A\n",
      " 40%|████      | 8/20 [01:01<01:23,  6.94s/it]\u001b[A\n",
      " 45%|████▌     | 9/20 [01:07<01:13,  6.70s/it]\u001b[A\n",
      " 50%|█████     | 10/20 [01:12<01:02,  6.22s/it]\u001b[A\n",
      " 55%|█████▌    | 11/20 [01:17<00:51,  5.76s/it]\u001b[A\n",
      " 60%|██████    | 12/20 [01:22<00:44,  5.57s/it]\u001b[A\n",
      " 65%|██████▌   | 13/20 [01:26<00:35,  5.06s/it]\u001b[A\n",
      " 70%|███████   | 14/20 [01:30<00:27,  4.57s/it]\u001b[A\n",
      " 75%|███████▌  | 15/20 [01:33<00:20,  4.11s/it]\u001b[A\n",
      " 80%|████████  | 16/20 [01:35<00:14,  3.66s/it]\u001b[A\n",
      " 85%|████████▌ | 17/20 [01:38<00:09,  3.23s/it]\u001b[A\n",
      " 90%|█████████ | 18/20 [01:39<00:05,  2.80s/it]\u001b[A\n",
      " 95%|█████████▌| 19/20 [01:41<00:02,  2.39s/it]\u001b[A\n",
      "100%|██████████| 20/20 [01:42<00:00,  5.11s/it]\u001b[A\n"
     ]
    },
    {
     "name": "stdout",
     "output_type": "stream",
     "text": [
      "generator loss:0.8903573040882259\n",
      "-----------------------\n"
     ]
    },
    {
     "name": "stderr",
     "output_type": "stream",
     "text": [
      "263it [8:04:53, 109.99s/it]\n",
      "  0%|          | 0/20 [00:00<?, ?it/s]\u001b[A"
     ]
    },
    {
     "name": "stdout",
     "output_type": "stream",
     "text": [
      "total discriminator loss:0.6931830189827757\n",
      "-----------------------\n",
      "Training Step: 264\n"
     ]
    },
    {
     "name": "stderr",
     "output_type": "stream",
     "text": [
      "\n",
      "  5%|▌         | 1/20 [00:09<02:56,  9.31s/it]\u001b[A\n",
      " 10%|█         | 2/20 [00:18<02:41,  8.98s/it]\u001b[A\n",
      " 15%|█▌        | 3/20 [00:26<02:28,  8.76s/it]\u001b[A\n",
      " 20%|██        | 4/20 [00:34<02:15,  8.46s/it]\u001b[A\n",
      " 25%|██▌       | 5/20 [00:42<02:02,  8.14s/it]\u001b[A\n",
      " 30%|███       | 6/20 [00:48<01:46,  7.64s/it]\u001b[A\n",
      " 35%|███▌      | 7/20 [00:55<01:36,  7.41s/it]\u001b[A\n",
      " 40%|████      | 8/20 [01:01<01:23,  6.96s/it]\u001b[A\n",
      " 45%|████▌     | 9/20 [01:07<01:13,  6.72s/it]\u001b[A\n",
      " 50%|█████     | 10/20 [01:13<01:02,  6.22s/it]\u001b[A\n",
      " 55%|█████▌    | 11/20 [01:17<00:51,  5.75s/it]\u001b[A\n",
      " 60%|██████    | 12/20 [01:22<00:44,  5.56s/it]\u001b[A\n",
      " 65%|██████▌   | 13/20 [01:26<00:35,  5.04s/it]\u001b[A\n",
      " 70%|███████   | 14/20 [01:30<00:27,  4.55s/it]\u001b[A\n",
      " 75%|███████▌  | 15/20 [01:33<00:20,  4.10s/it]\u001b[A\n",
      " 80%|████████  | 16/20 [01:35<00:14,  3.65s/it]\u001b[A\n",
      " 85%|████████▌ | 17/20 [01:37<00:09,  3.22s/it]\u001b[A\n",
      " 90%|█████████ | 18/20 [01:39<00:05,  2.79s/it]\u001b[A\n",
      " 95%|█████████▌| 19/20 [01:41<00:02,  2.36s/it]\u001b[A\n",
      "100%|██████████| 20/20 [01:42<00:00,  5.11s/it]\u001b[A\n"
     ]
    },
    {
     "name": "stdout",
     "output_type": "stream",
     "text": [
      "generator loss:0.9043475721056943\n",
      "-----------------------\n"
     ]
    },
    {
     "name": "stderr",
     "output_type": "stream",
     "text": [
      "264it [8:06:43, 110.07s/it]\n",
      "  0%|          | 0/20 [00:00<?, ?it/s]\u001b[A"
     ]
    },
    {
     "name": "stdout",
     "output_type": "stream",
     "text": [
      "total discriminator loss:0.6931878677793251\n",
      "-----------------------\n",
      "Training Step: 265\n"
     ]
    },
    {
     "name": "stderr",
     "output_type": "stream",
     "text": [
      "\n",
      "  5%|▌         | 1/20 [00:09<02:56,  9.29s/it]\u001b[A\n",
      " 10%|█         | 2/20 [00:18<02:41,  8.95s/it]\u001b[A\n",
      " 15%|█▌        | 3/20 [00:26<02:28,  8.75s/it]\u001b[A\n",
      " 20%|██        | 4/20 [00:34<02:14,  8.42s/it]\u001b[A\n",
      " 25%|██▌       | 5/20 [00:42<02:01,  8.12s/it]\u001b[A\n",
      " 30%|███       | 6/20 [00:48<01:46,  7.61s/it]\u001b[A\n",
      " 35%|███▌      | 7/20 [00:55<01:35,  7.35s/it]\u001b[A\n",
      " 40%|████      | 8/20 [01:01<01:22,  6.91s/it]\u001b[A\n",
      " 45%|████▌     | 9/20 [01:07<01:13,  6.70s/it]\u001b[A\n",
      " 50%|█████     | 10/20 [01:12<01:02,  6.21s/it]\u001b[A\n",
      " 55%|█████▌    | 11/20 [01:17<00:51,  5.74s/it]\u001b[A\n",
      " 60%|██████    | 12/20 [01:22<00:44,  5.55s/it]\u001b[A\n",
      " 65%|██████▌   | 13/20 [01:26<00:35,  5.01s/it]\u001b[A\n",
      " 70%|███████   | 14/20 [01:29<00:27,  4.53s/it]\u001b[A\n",
      " 75%|███████▌  | 15/20 [01:32<00:20,  4.08s/it]\u001b[A\n",
      " 80%|████████  | 16/20 [01:35<00:14,  3.63s/it]\u001b[A\n",
      " 85%|████████▌ | 17/20 [01:37<00:09,  3.21s/it]\u001b[A\n",
      " 90%|█████████ | 18/20 [01:39<00:05,  2.78s/it]\u001b[A\n",
      " 95%|█████████▌| 19/20 [01:40<00:02,  2.37s/it]\u001b[A\n",
      "100%|██████████| 20/20 [01:41<00:00,  5.09s/it]\u001b[A\n"
     ]
    },
    {
     "name": "stdout",
     "output_type": "stream",
     "text": [
      "generator loss:0.889636784186966\n",
      "-----------------------\n"
     ]
    },
    {
     "name": "stderr",
     "output_type": "stream",
     "text": [
      "265it [8:08:33, 110.01s/it]\n",
      "  0%|          | 0/20 [00:00<?, ?it/s]\u001b[A"
     ]
    },
    {
     "name": "stdout",
     "output_type": "stream",
     "text": [
      "total discriminator loss:0.6931828721825655\n",
      "-----------------------\n",
      "Training Step: 266\n"
     ]
    },
    {
     "name": "stderr",
     "output_type": "stream",
     "text": [
      "\n",
      "  5%|▌         | 1/20 [00:09<02:54,  9.20s/it]\u001b[A\n",
      " 10%|█         | 2/20 [00:17<02:40,  8.91s/it]\u001b[A\n",
      " 15%|█▌        | 3/20 [00:26<02:28,  8.71s/it]\u001b[A\n",
      " 20%|██        | 4/20 [00:34<02:14,  8.40s/it]\u001b[A\n",
      " 25%|██▌       | 5/20 [00:41<02:01,  8.09s/it]\u001b[A\n",
      " 30%|███       | 6/20 [00:48<01:46,  7.61s/it]\u001b[A\n",
      " 35%|███▌      | 7/20 [00:55<01:35,  7.38s/it]\u001b[A\n",
      " 40%|████      | 8/20 [01:01<01:22,  6.91s/it]\u001b[A\n",
      " 45%|████▌     | 9/20 [01:07<01:13,  6.68s/it]\u001b[A\n",
      " 50%|█████     | 10/20 [01:12<01:02,  6.20s/it]\u001b[A\n",
      " 55%|█████▌    | 11/20 [01:17<00:51,  5.75s/it]\u001b[A\n",
      " 60%|██████    | 12/20 [01:22<00:44,  5.57s/it]\u001b[A\n",
      " 65%|██████▌   | 13/20 [01:26<00:35,  5.05s/it]\u001b[A\n",
      " 70%|███████   | 14/20 [01:29<00:27,  4.55s/it]\u001b[A\n",
      " 75%|███████▌  | 15/20 [01:32<00:20,  4.09s/it]\u001b[A\n",
      " 80%|████████  | 16/20 [01:35<00:14,  3.65s/it]\u001b[A\n",
      " 85%|████████▌ | 17/20 [01:37<00:09,  3.22s/it]\u001b[A\n",
      " 90%|█████████ | 18/20 [01:39<00:05,  2.81s/it]\u001b[A\n",
      " 95%|█████████▌| 19/20 [01:40<00:02,  2.38s/it]\u001b[A\n",
      "100%|██████████| 20/20 [01:41<00:00,  5.09s/it]\u001b[A\n"
     ]
    },
    {
     "name": "stdout",
     "output_type": "stream",
     "text": [
      "generator loss:0.9046002424365718\n",
      "-----------------------\n"
     ]
    },
    {
     "name": "stderr",
     "output_type": "stream",
     "text": [
      "266it [8:10:23, 110.02s/it]\n",
      "  0%|          | 0/20 [00:00<?, ?it/s]\u001b[A"
     ]
    },
    {
     "name": "stdout",
     "output_type": "stream",
     "text": [
      "total discriminator loss:0.693185806567153\n",
      "-----------------------\n",
      "Training Step: 267\n"
     ]
    },
    {
     "name": "stderr",
     "output_type": "stream",
     "text": [
      "\n",
      "  5%|▌         | 1/20 [00:09<02:57,  9.36s/it]\u001b[A\n",
      " 10%|█         | 2/20 [00:18<02:43,  9.07s/it]\u001b[A\n",
      " 15%|█▌        | 3/20 [00:26<02:29,  8.82s/it]\u001b[A\n",
      " 20%|██        | 4/20 [00:34<02:14,  8.44s/it]\u001b[A\n",
      " 25%|██▌       | 5/20 [00:42<02:01,  8.12s/it]\u001b[A\n",
      " 30%|███       | 6/20 [00:48<01:47,  7.64s/it]\u001b[A\n",
      " 35%|███▌      | 7/20 [00:55<01:35,  7.37s/it]\u001b[A\n",
      " 40%|████      | 8/20 [01:01<01:22,  6.90s/it]\u001b[A\n",
      " 45%|████▌     | 9/20 [01:07<01:13,  6.67s/it]\u001b[A\n",
      " 50%|█████     | 10/20 [01:12<01:01,  6.18s/it]\u001b[A\n",
      " 55%|█████▌    | 11/20 [01:17<00:51,  5.71s/it]\u001b[A\n",
      " 60%|██████    | 12/20 [01:22<00:44,  5.52s/it]\u001b[A\n",
      " 65%|██████▌   | 13/20 [01:26<00:35,  5.01s/it]\u001b[A\n",
      " 70%|███████   | 14/20 [01:29<00:27,  4.53s/it]\u001b[A\n",
      " 75%|███████▌  | 15/20 [01:32<00:20,  4.07s/it]\u001b[A\n",
      " 80%|████████  | 16/20 [01:35<00:14,  3.63s/it]\u001b[A\n",
      " 85%|████████▌ | 17/20 [01:37<00:09,  3.20s/it]\u001b[A\n",
      " 90%|█████████ | 18/20 [01:39<00:05,  2.78s/it]\u001b[A\n",
      " 95%|█████████▌| 19/20 [01:40<00:02,  2.37s/it]\u001b[A\n",
      "100%|██████████| 20/20 [01:41<00:00,  5.09s/it]\u001b[A\n"
     ]
    },
    {
     "name": "stdout",
     "output_type": "stream",
     "text": [
      "generator loss:0.8908029914259877\n",
      "-----------------------\n"
     ]
    },
    {
     "name": "stderr",
     "output_type": "stream",
     "text": [
      "267it [8:12:13, 110.00s/it]\n",
      "  0%|          | 0/20 [00:00<?, ?it/s]\u001b[A"
     ]
    },
    {
     "name": "stdout",
     "output_type": "stream",
     "text": [
      "total discriminator loss:0.6931834460252941\n",
      "-----------------------\n",
      "Training Step: 268\n"
     ]
    },
    {
     "name": "stderr",
     "output_type": "stream",
     "text": [
      "\n",
      "  5%|▌         | 1/20 [00:09<02:56,  9.30s/it]\u001b[A\n",
      " 10%|█         | 2/20 [00:18<02:42,  9.01s/it]\u001b[A\n",
      " 15%|█▌        | 3/20 [00:26<02:28,  8.75s/it]\u001b[A\n",
      " 20%|██        | 4/20 [00:34<02:15,  8.44s/it]\u001b[A\n",
      " 25%|██▌       | 5/20 [00:42<02:02,  8.17s/it]\u001b[A\n",
      " 30%|███       | 6/20 [00:48<01:47,  7.68s/it]\u001b[A\n",
      " 35%|███▌      | 7/20 [00:55<01:36,  7.43s/it]\u001b[A\n",
      " 40%|████      | 8/20 [01:01<01:23,  6.94s/it]\u001b[A\n",
      " 45%|████▌     | 9/20 [01:07<01:13,  6.70s/it]\u001b[A\n",
      " 50%|█████     | 10/20 [01:13<01:02,  6.21s/it]\u001b[A\n",
      " 55%|█████▌    | 11/20 [01:17<00:51,  5.73s/it]\u001b[A\n",
      " 60%|██████    | 12/20 [01:22<00:44,  5.54s/it]\u001b[A\n",
      " 65%|██████▌   | 13/20 [01:26<00:35,  5.01s/it]\u001b[A\n",
      " 70%|███████   | 14/20 [01:29<00:27,  4.53s/it]\u001b[A\n",
      " 75%|███████▌  | 15/20 [01:32<00:20,  4.07s/it]\u001b[A\n",
      " 80%|████████  | 16/20 [01:35<00:14,  3.64s/it]\u001b[A\n",
      " 85%|████████▌ | 17/20 [01:37<00:09,  3.20s/it]\u001b[A\n",
      " 90%|█████████ | 18/20 [01:39<00:05,  2.78s/it]\u001b[A\n",
      " 95%|█████████▌| 19/20 [01:40<00:02,  2.36s/it]\u001b[A\n",
      "100%|██████████| 20/20 [01:41<00:00,  5.10s/it]\u001b[A\n"
     ]
    },
    {
     "name": "stdout",
     "output_type": "stream",
     "text": [
      "generator loss:0.9047347871898115\n",
      "-----------------------\n"
     ]
    },
    {
     "name": "stderr",
     "output_type": "stream",
     "text": [
      "268it [8:14:03, 110.01s/it]\n",
      "  0%|          | 0/20 [00:00<?, ?it/s]\u001b[A"
     ]
    },
    {
     "name": "stdout",
     "output_type": "stream",
     "text": [
      "total discriminator loss:0.693184578492769\n",
      "-----------------------\n",
      "Training Step: 269\n"
     ]
    },
    {
     "name": "stderr",
     "output_type": "stream",
     "text": [
      "\n",
      "  5%|▌         | 1/20 [00:09<02:54,  9.18s/it]\u001b[A\n",
      " 10%|█         | 2/20 [00:17<02:39,  8.85s/it]\u001b[A\n",
      " 15%|█▌        | 3/20 [00:26<02:27,  8.66s/it]\u001b[A\n",
      " 20%|██        | 4/20 [00:34<02:13,  8.37s/it]\u001b[A\n",
      " 25%|██▌       | 5/20 [00:41<02:01,  8.08s/it]\u001b[A\n",
      " 30%|███       | 6/20 [00:48<01:46,  7.60s/it]\u001b[A\n",
      " 35%|███▌      | 7/20 [00:55<01:35,  7.33s/it]\u001b[A\n",
      " 40%|████      | 8/20 [01:00<01:22,  6.85s/it]\u001b[A\n",
      " 45%|████▌     | 9/20 [01:07<01:12,  6.62s/it]\u001b[A\n",
      " 50%|█████     | 10/20 [01:12<01:01,  6.15s/it]\u001b[A\n",
      " 55%|█████▌    | 11/20 [01:16<00:51,  5.71s/it]\u001b[A\n",
      " 60%|██████    | 12/20 [01:22<00:44,  5.53s/it]\u001b[A\n",
      " 65%|██████▌   | 13/20 [01:25<00:34,  4.99s/it]\u001b[A\n",
      " 70%|███████   | 14/20 [01:29<00:27,  4.51s/it]\u001b[A\n",
      " 75%|███████▌  | 15/20 [01:32<00:20,  4.06s/it]\u001b[A\n",
      " 80%|████████  | 16/20 [01:34<00:14,  3.62s/it]\u001b[A\n",
      " 85%|████████▌ | 17/20 [01:36<00:09,  3.19s/it]\u001b[A\n",
      " 90%|█████████ | 18/20 [01:38<00:05,  2.76s/it]\u001b[A\n",
      " 95%|█████████▌| 19/20 [01:40<00:02,  2.35s/it]\u001b[A\n",
      "100%|██████████| 20/20 [01:41<00:00,  5.06s/it]\u001b[A\n"
     ]
    },
    {
     "name": "stdout",
     "output_type": "stream",
     "text": [
      "generator loss:0.8914040909458946\n",
      "-----------------------\n"
     ]
    },
    {
     "name": "stderr",
     "output_type": "stream",
     "text": [
      "269it [8:15:52, 109.79s/it]\n",
      "  0%|          | 0/20 [00:00<?, ?it/s]\u001b[A"
     ]
    },
    {
     "name": "stdout",
     "output_type": "stream",
     "text": [
      "total discriminator loss:0.6931835160587337\n",
      "-----------------------\n",
      "Training Step: 270\n"
     ]
    },
    {
     "name": "stderr",
     "output_type": "stream",
     "text": [
      "\n",
      "  5%|▌         | 1/20 [00:09<02:55,  9.23s/it]\u001b[A\n",
      " 10%|█         | 2/20 [00:17<02:40,  8.93s/it]\u001b[A\n",
      " 15%|█▌        | 3/20 [00:26<02:28,  8.71s/it]\u001b[A\n",
      " 20%|██        | 4/20 [00:34<02:14,  8.39s/it]\u001b[A\n",
      " 25%|██▌       | 5/20 [00:41<02:01,  8.09s/it]\u001b[A\n",
      " 30%|███       | 6/20 [00:48<01:46,  7.62s/it]\u001b[A\n",
      " 35%|███▌      | 7/20 [00:55<01:35,  7.37s/it]\u001b[A\n",
      " 40%|████      | 8/20 [01:01<01:22,  6.89s/it]\u001b[A\n",
      " 45%|████▌     | 9/20 [01:07<01:13,  6.65s/it]\u001b[A\n",
      " 50%|█████     | 10/20 [01:12<01:01,  6.17s/it]\u001b[A\n",
      " 55%|█████▌    | 11/20 [01:17<00:51,  5.71s/it]\u001b[A\n",
      " 60%|██████    | 12/20 [01:22<00:44,  5.54s/it]\u001b[A\n",
      " 65%|██████▌   | 13/20 [01:26<00:35,  5.04s/it]\u001b[A\n",
      " 70%|███████   | 14/20 [01:29<00:27,  4.56s/it]\u001b[A\n",
      " 75%|███████▌  | 15/20 [01:32<00:20,  4.09s/it]\u001b[A\n",
      " 80%|████████  | 16/20 [01:35<00:14,  3.64s/it]\u001b[A\n",
      " 85%|████████▌ | 17/20 [01:37<00:09,  3.20s/it]\u001b[A\n",
      " 90%|█████████ | 18/20 [01:39<00:05,  2.78s/it]\u001b[A\n",
      " 95%|█████████▌| 19/20 [01:40<00:02,  2.36s/it]\u001b[A\n",
      "100%|██████████| 20/20 [01:41<00:00,  5.08s/it]\u001b[A\n"
     ]
    },
    {
     "name": "stdout",
     "output_type": "stream",
     "text": [
      "generator loss:0.9044954147349259\n",
      "-----------------------\n"
     ]
    },
    {
     "name": "stderr",
     "output_type": "stream",
     "text": [
      "270it [8:17:42, 109.77s/it]\n",
      "  0%|          | 0/20 [00:00<?, ?it/s]\u001b[A"
     ]
    },
    {
     "name": "stdout",
     "output_type": "stream",
     "text": [
      "total discriminator loss:0.6931830475028055\n",
      "-----------------------\n",
      "Training Step: 271\n"
     ]
    },
    {
     "name": "stderr",
     "output_type": "stream",
     "text": [
      "\n",
      "  5%|▌         | 1/20 [00:09<02:57,  9.37s/it]\u001b[A\n",
      " 10%|█         | 2/20 [00:18<02:42,  9.05s/it]\u001b[A\n",
      " 15%|█▌        | 3/20 [00:26<02:30,  8.83s/it]\u001b[A\n",
      " 20%|██        | 4/20 [00:34<02:15,  8.48s/it]\u001b[A\n",
      " 25%|██▌       | 5/20 [00:42<02:02,  8.18s/it]\u001b[A\n",
      " 30%|███       | 6/20 [00:49<01:47,  7.67s/it]\u001b[A\n",
      " 35%|███▌      | 7/20 [00:55<01:36,  7.42s/it]\u001b[A\n",
      " 40%|████      | 8/20 [01:01<01:23,  6.95s/it]\u001b[A\n",
      " 45%|████▌     | 9/20 [01:08<01:13,  6.71s/it]\u001b[A\n",
      " 50%|█████     | 10/20 [01:13<01:02,  6.23s/it]\u001b[A\n",
      " 55%|█████▌    | 11/20 [01:17<00:51,  5.77s/it]\u001b[A\n",
      " 60%|██████    | 12/20 [01:23<00:44,  5.59s/it]\u001b[A\n",
      " 65%|██████▌   | 13/20 [01:26<00:35,  5.07s/it]\u001b[A\n",
      " 70%|███████   | 14/20 [01:30<00:27,  4.57s/it]\u001b[A\n",
      " 75%|███████▌  | 15/20 [01:33<00:20,  4.11s/it]\u001b[A\n",
      " 80%|████████  | 16/20 [01:36<00:14,  3.67s/it]\u001b[A\n",
      " 85%|████████▌ | 17/20 [01:38<00:09,  3.23s/it]\u001b[A\n",
      " 90%|█████████ | 18/20 [01:40<00:05,  2.81s/it]\u001b[A\n",
      " 95%|█████████▌| 19/20 [01:41<00:02,  2.38s/it]\u001b[A\n",
      "100%|██████████| 20/20 [01:42<00:00,  5.13s/it]\u001b[A\n"
     ]
    },
    {
     "name": "stdout",
     "output_type": "stream",
     "text": [
      "generator loss:0.8895030223228936\n",
      "-----------------------\n"
     ]
    },
    {
     "name": "stderr",
     "output_type": "stream",
     "text": [
      "271it [8:19:33, 110.05s/it]\n",
      "  0%|          | 0/20 [00:00<?, ?it/s]\u001b[A"
     ]
    },
    {
     "name": "stdout",
     "output_type": "stream",
     "text": [
      "total discriminator loss:0.6931858056459961\n",
      "-----------------------\n",
      "Training Step: 272\n"
     ]
    },
    {
     "name": "stderr",
     "output_type": "stream",
     "text": [
      "\n",
      "  5%|▌         | 1/20 [00:09<02:57,  9.33s/it]\u001b[A\n",
      " 10%|█         | 2/20 [00:18<02:42,  9.04s/it]\u001b[A\n",
      " 15%|█▌        | 3/20 [00:26<02:29,  8.81s/it]\u001b[A\n",
      " 20%|██        | 4/20 [00:34<02:15,  8.50s/it]\u001b[A\n",
      " 25%|██▌       | 5/20 [00:42<02:02,  8.19s/it]\u001b[A\n",
      " 30%|███       | 6/20 [00:49<01:47,  7.71s/it]\u001b[A\n",
      " 35%|███▌      | 7/20 [00:56<01:36,  7.44s/it]\u001b[A\n",
      " 40%|████      | 8/20 [01:01<01:23,  6.96s/it]\u001b[A\n",
      " 45%|████▌     | 9/20 [01:08<01:13,  6.71s/it]\u001b[A\n",
      " 50%|█████     | 10/20 [01:13<01:02,  6.20s/it]\u001b[A\n",
      " 55%|█████▌    | 11/20 [01:17<00:51,  5.77s/it]\u001b[A\n",
      " 60%|██████    | 12/20 [01:23<00:44,  5.58s/it]\u001b[A\n",
      " 65%|██████▌   | 13/20 [01:26<00:35,  5.05s/it]\u001b[A\n",
      " 70%|███████   | 14/20 [01:30<00:27,  4.56s/it]\u001b[A\n",
      " 75%|███████▌  | 15/20 [01:33<00:20,  4.09s/it]\u001b[A\n",
      " 80%|████████  | 16/20 [01:36<00:14,  3.64s/it]\u001b[A\n",
      " 85%|████████▌ | 17/20 [01:38<00:09,  3.21s/it]\u001b[A\n",
      " 90%|█████████ | 18/20 [01:39<00:05,  2.78s/it]\u001b[A\n",
      " 95%|█████████▌| 19/20 [01:41<00:02,  2.36s/it]\u001b[A\n",
      "100%|██████████| 20/20 [01:42<00:00,  5.12s/it]\u001b[A\n"
     ]
    },
    {
     "name": "stdout",
     "output_type": "stream",
     "text": [
      "generator loss:0.9049500871122784\n",
      "-----------------------\n"
     ]
    },
    {
     "name": "stderr",
     "output_type": "stream",
     "text": [
      "272it [8:21:23, 110.18s/it]\n",
      "  0%|          | 0/20 [00:00<?, ?it/s]\u001b[A"
     ]
    },
    {
     "name": "stdout",
     "output_type": "stream",
     "text": [
      "total discriminator loss:0.6931884924588726\n",
      "-----------------------\n",
      "Training Step: 273\n"
     ]
    },
    {
     "name": "stderr",
     "output_type": "stream",
     "text": [
      "\n",
      "  5%|▌         | 1/20 [00:09<02:55,  9.23s/it]\u001b[A\n",
      " 10%|█         | 2/20 [00:17<02:40,  8.94s/it]\u001b[A\n",
      " 15%|█▌        | 3/20 [00:26<02:28,  8.72s/it]\u001b[A\n",
      " 20%|██        | 4/20 [00:34<02:14,  8.41s/it]\u001b[A\n",
      " 25%|██▌       | 5/20 [00:41<02:01,  8.09s/it]\u001b[A\n",
      " 30%|███       | 6/20 [00:48<01:46,  7.60s/it]\u001b[A\n",
      " 35%|███▌      | 7/20 [00:55<01:35,  7.36s/it]\u001b[A\n",
      " 40%|████      | 8/20 [01:01<01:22,  6.90s/it]\u001b[A\n",
      " 45%|████▌     | 9/20 [01:07<01:13,  6.65s/it]\u001b[A\n",
      " 50%|█████     | 10/20 [01:12<01:01,  6.16s/it]\u001b[A\n",
      " 55%|█████▌    | 11/20 [01:17<00:51,  5.70s/it]\u001b[A\n",
      " 60%|██████    | 12/20 [01:22<00:44,  5.52s/it]\u001b[A\n",
      " 65%|██████▌   | 13/20 [01:26<00:35,  5.03s/it]\u001b[A\n",
      " 70%|███████   | 14/20 [01:29<00:27,  4.56s/it]\u001b[A\n",
      " 75%|███████▌  | 15/20 [01:32<00:20,  4.10s/it]\u001b[A\n",
      " 80%|████████  | 16/20 [01:35<00:14,  3.65s/it]\u001b[A\n",
      " 85%|████████▌ | 17/20 [01:37<00:09,  3.22s/it]\u001b[A\n",
      " 90%|█████████ | 18/20 [01:39<00:05,  2.80s/it]\u001b[A\n",
      " 95%|█████████▌| 19/20 [01:40<00:02,  2.38s/it]\u001b[A\n",
      "100%|██████████| 20/20 [01:41<00:00,  5.09s/it]\u001b[A\n"
     ]
    },
    {
     "name": "stdout",
     "output_type": "stream",
     "text": [
      "generator loss:0.8890521920764103\n",
      "-----------------------\n"
     ]
    },
    {
     "name": "stderr",
     "output_type": "stream",
     "text": [
      "273it [8:23:13, 110.07s/it]\n",
      "  0%|          | 0/20 [00:00<?, ?it/s]\u001b[A"
     ]
    },
    {
     "name": "stdout",
     "output_type": "stream",
     "text": [
      "total discriminator loss:0.6931820551680761\n",
      "-----------------------\n",
      "Training Step: 274\n"
     ]
    },
    {
     "name": "stderr",
     "output_type": "stream",
     "text": [
      "\n",
      "  5%|▌         | 1/20 [00:09<02:54,  9.18s/it]\u001b[A\n",
      " 10%|█         | 2/20 [00:17<02:39,  8.88s/it]\u001b[A\n",
      " 15%|█▌        | 3/20 [00:26<02:27,  8.67s/it]\u001b[A\n",
      " 20%|██        | 4/20 [00:34<02:13,  8.37s/it]\u001b[A\n",
      " 25%|██▌       | 5/20 [00:41<02:01,  8.09s/it]\u001b[A\n",
      " 30%|███       | 6/20 [00:48<01:46,  7.61s/it]\u001b[A\n",
      " 35%|███▌      | 7/20 [00:55<01:35,  7.35s/it]\u001b[A\n",
      " 40%|████      | 8/20 [01:01<01:22,  6.90s/it]\u001b[A\n",
      " 45%|████▌     | 9/20 [01:07<01:13,  6.67s/it]\u001b[A\n",
      " 50%|█████     | 10/20 [01:12<01:01,  6.20s/it]\u001b[A\n",
      " 55%|█████▌    | 11/20 [01:17<00:51,  5.74s/it]\u001b[A\n",
      " 60%|██████    | 12/20 [01:22<00:44,  5.56s/it]\u001b[A\n",
      " 65%|██████▌   | 13/20 [01:26<00:35,  5.02s/it]\u001b[A\n",
      " 70%|███████   | 14/20 [01:29<00:27,  4.54s/it]\u001b[A\n",
      " 75%|███████▌  | 15/20 [01:32<00:20,  4.09s/it]\u001b[A\n",
      " 80%|████████  | 16/20 [01:35<00:14,  3.65s/it]\u001b[A\n",
      " 85%|████████▌ | 17/20 [01:37<00:09,  3.22s/it]\u001b[A\n",
      " 90%|█████████ | 18/20 [01:39<00:05,  2.80s/it]\u001b[A\n",
      " 95%|█████████▌| 19/20 [01:40<00:02,  2.38s/it]\u001b[A\n",
      "100%|██████████| 20/20 [01:41<00:00,  5.08s/it]\u001b[A\n"
     ]
    },
    {
     "name": "stdout",
     "output_type": "stream",
     "text": [
      "generator loss:0.9048541324565672\n",
      "-----------------------\n"
     ]
    },
    {
     "name": "stderr",
     "output_type": "stream",
     "text": [
      "274it [8:25:03, 109.99s/it]\n",
      "  0%|          | 0/20 [00:00<?, ?it/s]\u001b[A"
     ]
    },
    {
     "name": "stdout",
     "output_type": "stream",
     "text": [
      "total discriminator loss:0.693182321480543\n",
      "-----------------------\n",
      "Training Step: 275\n"
     ]
    },
    {
     "name": "stderr",
     "output_type": "stream",
     "text": [
      "\n",
      "  5%|▌         | 1/20 [00:09<02:55,  9.22s/it]\u001b[A\n",
      " 10%|█         | 2/20 [00:17<02:40,  8.93s/it]\u001b[A\n",
      " 15%|█▌        | 3/20 [00:26<02:28,  8.75s/it]\u001b[A\n",
      " 20%|██        | 4/20 [00:34<02:14,  8.43s/it]\u001b[A\n",
      " 25%|██▌       | 5/20 [00:42<02:02,  8.13s/it]\u001b[A\n",
      " 30%|███       | 6/20 [00:48<01:47,  7.65s/it]\u001b[A\n",
      " 35%|███▌      | 7/20 [00:55<01:36,  7.40s/it]\u001b[A\n",
      " 40%|████      | 8/20 [01:01<01:23,  6.93s/it]\u001b[A\n",
      " 45%|████▌     | 9/20 [01:07<01:13,  6.69s/it]\u001b[A\n",
      " 50%|█████     | 10/20 [01:12<01:02,  6.24s/it]\u001b[A\n",
      " 55%|█████▌    | 11/20 [01:17<00:52,  5.78s/it]\u001b[A\n",
      " 60%|██████    | 12/20 [01:22<00:44,  5.60s/it]\u001b[A\n",
      " 65%|██████▌   | 13/20 [01:26<00:35,  5.06s/it]\u001b[A\n",
      " 70%|███████   | 14/20 [01:30<00:27,  4.58s/it]\u001b[A\n",
      " 75%|███████▌  | 15/20 [01:33<00:20,  4.12s/it]\u001b[A\n",
      " 80%|████████  | 16/20 [01:35<00:14,  3.67s/it]\u001b[A\n",
      " 85%|████████▌ | 17/20 [01:38<00:09,  3.24s/it]\u001b[A\n",
      " 90%|█████████ | 18/20 [01:39<00:05,  2.81s/it]\u001b[A\n",
      " 95%|█████████▌| 19/20 [01:41<00:02,  2.39s/it]\u001b[A\n",
      "100%|██████████| 20/20 [01:42<00:00,  5.11s/it]\u001b[A\n"
     ]
    },
    {
     "name": "stdout",
     "output_type": "stream",
     "text": [
      "generator loss:0.8909067473045471\n",
      "-----------------------\n"
     ]
    },
    {
     "name": "stderr",
     "output_type": "stream",
     "text": [
      "275it [8:26:53, 110.12s/it]\n",
      "  0%|          | 0/20 [00:00<?, ?it/s]\u001b[A"
     ]
    },
    {
     "name": "stdout",
     "output_type": "stream",
     "text": [
      "total discriminator loss:0.6931839543793561\n",
      "-----------------------\n",
      "Training Step: 276\n"
     ]
    },
    {
     "name": "stderr",
     "output_type": "stream",
     "text": [
      "\n",
      "  5%|▌         | 1/20 [00:09<02:55,  9.26s/it]\u001b[A\n",
      " 10%|█         | 2/20 [00:18<02:41,  8.96s/it]\u001b[A\n",
      " 15%|█▌        | 3/20 [00:26<02:28,  8.71s/it]\u001b[A\n",
      " 20%|██        | 4/20 [00:34<02:14,  8.39s/it]\u001b[A\n",
      " 25%|██▌       | 5/20 [00:41<02:00,  8.06s/it]\u001b[A\n",
      " 30%|███       | 6/20 [00:48<01:46,  7.58s/it]\u001b[A\n",
      " 35%|███▌      | 7/20 [00:55<01:35,  7.32s/it]\u001b[A\n",
      " 40%|████      | 8/20 [01:01<01:22,  6.88s/it]\u001b[A\n",
      " 45%|████▌     | 9/20 [01:07<01:13,  6.67s/it]\u001b[A\n",
      " 50%|█████     | 10/20 [01:12<01:01,  6.20s/it]\u001b[A\n",
      " 55%|█████▌    | 11/20 [01:17<00:51,  5.74s/it]\u001b[A\n",
      " 60%|██████    | 12/20 [01:22<00:44,  5.58s/it]\u001b[A\n",
      " 65%|██████▌   | 13/20 [01:26<00:35,  5.04s/it]\u001b[A\n",
      " 70%|███████   | 14/20 [01:29<00:27,  4.57s/it]\u001b[A\n",
      " 75%|███████▌  | 15/20 [01:32<00:20,  4.11s/it]\u001b[A\n",
      " 80%|████████  | 16/20 [01:35<00:14,  3.66s/it]\u001b[A\n",
      " 85%|████████▌ | 17/20 [01:37<00:09,  3.23s/it]\u001b[A\n",
      " 90%|█████████ | 18/20 [01:39<00:05,  2.81s/it]\u001b[A\n",
      " 95%|█████████▌| 19/20 [01:40<00:02,  2.39s/it]\u001b[A\n",
      "100%|██████████| 20/20 [01:41<00:00,  5.09s/it]\u001b[A\n"
     ]
    },
    {
     "name": "stdout",
     "output_type": "stream",
     "text": [
      "generator loss:0.9051696223455534\n",
      "-----------------------\n"
     ]
    },
    {
     "name": "stderr",
     "output_type": "stream",
     "text": [
      "276it [8:28:43, 110.11s/it]\n",
      "  0%|          | 0/20 [00:00<?, ?it/s]\u001b[A"
     ]
    },
    {
     "name": "stdout",
     "output_type": "stream",
     "text": [
      "total discriminator loss:0.6931799807295027\n",
      "-----------------------\n",
      "Training Step: 277\n"
     ]
    },
    {
     "name": "stderr",
     "output_type": "stream",
     "text": [
      "\n",
      "  5%|▌         | 1/20 [00:09<02:58,  9.41s/it]\u001b[A\n",
      " 10%|█         | 2/20 [00:18<02:42,  9.04s/it]\u001b[A\n",
      " 15%|█▌        | 3/20 [00:26<02:29,  8.78s/it]\u001b[A\n",
      " 20%|██        | 4/20 [00:34<02:15,  8.46s/it]\u001b[A\n",
      " 25%|██▌       | 5/20 [00:42<02:02,  8.16s/it]\u001b[A\n",
      " 30%|███       | 6/20 [00:49<01:47,  7.68s/it]\u001b[A\n",
      " 35%|███▌      | 7/20 [00:55<01:36,  7.44s/it]\u001b[A\n",
      " 40%|████      | 8/20 [01:01<01:23,  6.96s/it]\u001b[A\n",
      " 45%|████▌     | 9/20 [01:08<01:13,  6.72s/it]\u001b[A\n",
      " 50%|█████     | 10/20 [01:13<01:02,  6.22s/it]\u001b[A\n",
      " 55%|█████▌    | 11/20 [01:17<00:52,  5.78s/it]\u001b[A\n",
      " 60%|██████    | 12/20 [01:23<00:44,  5.58s/it]\u001b[A\n",
      " 65%|██████▌   | 13/20 [01:26<00:35,  5.03s/it]\u001b[A\n",
      " 70%|███████   | 14/20 [01:30<00:27,  4.53s/it]\u001b[A\n",
      " 75%|███████▌  | 15/20 [01:33<00:20,  4.08s/it]\u001b[A\n",
      " 80%|████████  | 16/20 [01:35<00:14,  3.64s/it]\u001b[A\n",
      " 85%|████████▌ | 17/20 [01:38<00:09,  3.20s/it]\u001b[A\n",
      " 90%|█████████ | 18/20 [01:39<00:05,  2.78s/it]\u001b[A\n",
      " 95%|█████████▌| 19/20 [01:41<00:02,  2.36s/it]\u001b[A\n",
      "100%|██████████| 20/20 [01:42<00:00,  5.11s/it]\u001b[A\n"
     ]
    },
    {
     "name": "stdout",
     "output_type": "stream",
     "text": [
      "generator loss:0.8904978460723108\n",
      "-----------------------\n"
     ]
    },
    {
     "name": "stderr",
     "output_type": "stream",
     "text": [
      "277it [8:30:34, 110.21s/it]\n",
      "  0%|          | 0/20 [00:00<?, ?it/s]\u001b[A"
     ]
    },
    {
     "name": "stdout",
     "output_type": "stream",
     "text": [
      "total discriminator loss:0.6931817093889824\n",
      "-----------------------\n",
      "Training Step: 278\n"
     ]
    },
    {
     "name": "stderr",
     "output_type": "stream",
     "text": [
      "\n",
      "  5%|▌         | 1/20 [00:09<02:56,  9.30s/it]\u001b[A\n",
      " 10%|█         | 2/20 [00:18<02:41,  8.99s/it]\u001b[A\n",
      " 15%|█▌        | 3/20 [00:26<02:29,  8.79s/it]\u001b[A\n",
      " 20%|██        | 4/20 [00:34<02:15,  8.50s/it]\u001b[A\n",
      " 25%|██▌       | 5/20 [00:42<02:03,  8.21s/it]\u001b[A\n",
      " 30%|███       | 6/20 [00:49<01:48,  7.75s/it]\u001b[A\n",
      " 35%|███▌      | 7/20 [00:56<01:38,  7.56s/it]\u001b[A\n",
      " 40%|████      | 8/20 [01:02<01:25,  7.09s/it]\u001b[A\n",
      " 45%|████▌     | 9/20 [01:08<01:15,  6.83s/it]\u001b[A\n",
      " 50%|█████     | 10/20 [01:13<01:03,  6.31s/it]\u001b[A\n",
      " 55%|█████▌    | 11/20 [01:18<00:52,  5.84s/it]\u001b[A\n",
      " 60%|██████    | 12/20 [01:23<00:45,  5.67s/it]\u001b[A\n",
      " 65%|██████▌   | 13/20 [01:27<00:35,  5.13s/it]\u001b[A\n",
      " 70%|███████   | 14/20 [01:31<00:27,  4.63s/it]\u001b[A\n",
      " 75%|███████▌  | 15/20 [01:34<00:20,  4.15s/it]\u001b[A\n",
      " 80%|████████  | 16/20 [01:36<00:14,  3.69s/it]\u001b[A\n",
      " 85%|████████▌ | 17/20 [01:39<00:09,  3.25s/it]\u001b[A\n",
      " 90%|█████████ | 18/20 [01:40<00:05,  2.81s/it]\u001b[A\n",
      " 95%|█████████▌| 19/20 [01:42<00:02,  2.39s/it]\u001b[A\n",
      "100%|██████████| 20/20 [01:43<00:00,  5.17s/it]\u001b[A\n"
     ]
    },
    {
     "name": "stdout",
     "output_type": "stream",
     "text": [
      "generator loss:0.9048051260563745\n",
      "-----------------------\n"
     ]
    },
    {
     "name": "stderr",
     "output_type": "stream",
     "text": [
      "278it [8:32:25, 110.62s/it]\n",
      "  0%|          | 0/20 [00:00<?, ?it/s]\u001b[A"
     ]
    },
    {
     "name": "stdout",
     "output_type": "stream",
     "text": [
      "total discriminator loss:0.6931841426620399\n",
      "-----------------------\n",
      "Training Step: 279\n"
     ]
    },
    {
     "name": "stderr",
     "output_type": "stream",
     "text": [
      "\n",
      "  5%|▌         | 1/20 [00:09<02:55,  9.25s/it]\u001b[A\n",
      " 10%|█         | 2/20 [00:18<02:41,  8.99s/it]\u001b[A\n",
      " 15%|█▌        | 3/20 [00:26<02:29,  8.78s/it]\u001b[A\n",
      " 20%|██        | 4/20 [00:34<02:15,  8.44s/it]\u001b[A\n",
      " 25%|██▌       | 5/20 [00:42<02:02,  8.16s/it]\u001b[A\n",
      " 30%|███       | 6/20 [00:48<01:47,  7.68s/it]\u001b[A\n",
      " 35%|███▌      | 7/20 [00:55<01:36,  7.40s/it]\u001b[A\n",
      " 40%|████      | 8/20 [01:01<01:23,  6.94s/it]\u001b[A\n",
      " 45%|████▌     | 9/20 [01:07<01:13,  6.71s/it]\u001b[A\n",
      " 50%|█████     | 10/20 [01:13<01:02,  6.23s/it]\u001b[A\n",
      " 55%|█████▌    | 11/20 [01:17<00:51,  5.77s/it]\u001b[A\n",
      " 60%|██████    | 12/20 [01:22<00:44,  5.59s/it]\u001b[A\n",
      " 65%|██████▌   | 13/20 [01:26<00:35,  5.07s/it]\u001b[A\n",
      " 70%|███████   | 14/20 [01:30<00:27,  4.58s/it]\u001b[A\n",
      " 75%|███████▌  | 15/20 [01:33<00:20,  4.12s/it]\u001b[A\n",
      " 80%|████████  | 16/20 [01:35<00:14,  3.67s/it]\u001b[A\n",
      " 85%|████████▌ | 17/20 [01:38<00:09,  3.22s/it]\u001b[A\n",
      " 90%|█████████ | 18/20 [01:39<00:05,  2.79s/it]\u001b[A\n",
      " 95%|█████████▌| 19/20 [01:41<00:02,  2.37s/it]\u001b[A\n",
      "100%|██████████| 20/20 [01:42<00:00,  5.11s/it]\u001b[A\n"
     ]
    },
    {
     "name": "stdout",
     "output_type": "stream",
     "text": [
      "generator loss:0.8902329646458135\n",
      "-----------------------\n"
     ]
    },
    {
     "name": "stderr",
     "output_type": "stream",
     "text": [
      "279it [8:34:16, 110.57s/it]\n",
      "  0%|          | 0/20 [00:00<?, ?it/s]\u001b[A"
     ]
    },
    {
     "name": "stdout",
     "output_type": "stream",
     "text": [
      "total discriminator loss:0.6931841516462809\n",
      "-----------------------\n",
      "Training Step: 280\n"
     ]
    },
    {
     "name": "stderr",
     "output_type": "stream",
     "text": [
      "\n",
      "  5%|▌         | 1/20 [00:09<02:56,  9.31s/it]\u001b[A\n",
      " 10%|█         | 2/20 [00:18<02:41,  8.96s/it]\u001b[A\n",
      " 15%|█▌        | 3/20 [00:26<02:28,  8.74s/it]\u001b[A\n",
      " 20%|██        | 4/20 [00:34<02:14,  8.41s/it]\u001b[A\n",
      " 25%|██▌       | 5/20 [00:41<02:01,  8.11s/it]\u001b[A\n",
      " 30%|███       | 6/20 [00:48<01:46,  7.61s/it]\u001b[A\n",
      " 35%|███▌      | 7/20 [00:55<01:35,  7.35s/it]\u001b[A\n",
      " 40%|████      | 8/20 [01:01<01:22,  6.88s/it]\u001b[A\n",
      " 45%|████▌     | 9/20 [01:07<01:13,  6.66s/it]\u001b[A\n",
      " 50%|█████     | 10/20 [01:12<01:01,  6.19s/it]\u001b[A\n",
      " 55%|█████▌    | 11/20 [01:17<00:51,  5.76s/it]\u001b[A\n",
      " 60%|██████    | 12/20 [01:22<00:44,  5.59s/it]\u001b[A\n",
      " 65%|██████▌   | 13/20 [01:26<00:35,  5.09s/it]\u001b[A\n",
      " 70%|███████   | 14/20 [01:30<00:27,  4.61s/it]\u001b[A\n",
      " 75%|███████▌  | 15/20 [01:33<00:20,  4.14s/it]\u001b[A\n",
      " 80%|████████  | 16/20 [01:35<00:14,  3.69s/it]\u001b[A\n",
      " 85%|████████▌ | 17/20 [01:37<00:09,  3.24s/it]\u001b[A\n",
      " 90%|█████████ | 18/20 [01:39<00:05,  2.80s/it]\u001b[A\n",
      " 95%|█████████▌| 19/20 [01:41<00:02,  2.38s/it]\u001b[A\n",
      "100%|██████████| 20/20 [01:42<00:00,  5.10s/it]\u001b[A\n"
     ]
    },
    {
     "name": "stdout",
     "output_type": "stream",
     "text": [
      "generator loss:0.9046706465599195\n",
      "-----------------------\n"
     ]
    },
    {
     "name": "stderr",
     "output_type": "stream",
     "text": [
      "280it [8:36:06, 110.47s/it]\n",
      "  0%|          | 0/20 [00:00<?, ?it/s]\u001b[A"
     ]
    },
    {
     "name": "stdout",
     "output_type": "stream",
     "text": [
      "total discriminator loss:0.6931798541540954\n",
      "-----------------------\n",
      "Training Step: 281\n"
     ]
    },
    {
     "name": "stderr",
     "output_type": "stream",
     "text": [
      "\n",
      "  5%|▌         | 1/20 [00:09<02:55,  9.26s/it]\u001b[A\n",
      " 10%|█         | 2/20 [00:18<02:41,  8.96s/it]\u001b[A\n",
      " 15%|█▌        | 3/20 [00:26<02:28,  8.76s/it]\u001b[A\n",
      " 20%|██        | 4/20 [00:34<02:15,  8.45s/it]\u001b[A\n",
      " 25%|██▌       | 5/20 [00:42<02:02,  8.15s/it]\u001b[A\n",
      " 30%|███       | 6/20 [00:48<01:47,  7.65s/it]\u001b[A\n",
      " 35%|███▌      | 7/20 [00:55<01:36,  7.41s/it]\u001b[A\n",
      " 40%|████      | 8/20 [01:01<01:23,  6.94s/it]\u001b[A\n",
      " 45%|████▌     | 9/20 [01:07<01:13,  6.71s/it]\u001b[A\n",
      " 50%|█████     | 10/20 [01:13<01:02,  6.24s/it]\u001b[A\n",
      " 55%|█████▌    | 11/20 [01:17<00:51,  5.77s/it]\u001b[A\n",
      " 60%|██████    | 12/20 [01:22<00:44,  5.58s/it]\u001b[A\n",
      " 65%|██████▌   | 13/20 [01:26<00:35,  5.07s/it]\u001b[A\n",
      " 70%|███████   | 14/20 [01:30<00:27,  4.59s/it]\u001b[A\n",
      " 75%|███████▌  | 15/20 [01:33<00:20,  4.13s/it]\u001b[A\n",
      " 80%|████████  | 16/20 [01:36<00:14,  3.69s/it]\u001b[A\n",
      " 85%|████████▌ | 17/20 [01:38<00:09,  3.25s/it]\u001b[A\n",
      " 90%|█████████ | 18/20 [01:40<00:05,  2.82s/it]\u001b[A\n",
      " 95%|█████████▌| 19/20 [01:41<00:02,  2.39s/it]\u001b[A\n",
      "100%|██████████| 20/20 [01:42<00:00,  5.12s/it]\u001b[A\n"
     ]
    },
    {
     "name": "stdout",
     "output_type": "stream",
     "text": [
      "generator loss:0.890490723751995\n",
      "-----------------------\n"
     ]
    },
    {
     "name": "stderr",
     "output_type": "stream",
     "text": [
      "281it [8:37:57, 110.51s/it]\n",
      "  0%|          | 0/20 [00:00<?, ?it/s]\u001b[A"
     ]
    },
    {
     "name": "stdout",
     "output_type": "stream",
     "text": [
      "total discriminator loss:0.6931807814653643\n",
      "-----------------------\n",
      "Training Step: 282\n"
     ]
    },
    {
     "name": "stderr",
     "output_type": "stream",
     "text": [
      "\n",
      "  5%|▌         | 1/20 [00:09<02:54,  9.19s/it]\u001b[A\n",
      " 10%|█         | 2/20 [00:17<02:41,  8.95s/it]\u001b[A\n",
      " 15%|█▌        | 3/20 [00:26<02:29,  8.79s/it]\u001b[A\n",
      " 20%|██        | 4/20 [00:34<02:15,  8.46s/it]\u001b[A\n",
      " 25%|██▌       | 5/20 [00:42<02:02,  8.14s/it]\u001b[A\n",
      " 30%|███       | 6/20 [00:48<01:47,  7.65s/it]\u001b[A\n",
      " 35%|███▌      | 7/20 [00:55<01:36,  7.39s/it]\u001b[A\n",
      " 40%|████      | 8/20 [01:01<01:22,  6.91s/it]\u001b[A\n",
      " 45%|████▌     | 9/20 [01:07<01:13,  6.67s/it]\u001b[A\n",
      " 50%|█████     | 10/20 [01:12<01:01,  6.19s/it]\u001b[A\n",
      " 55%|█████▌    | 11/20 [01:17<00:51,  5.75s/it]\u001b[A\n",
      " 60%|██████    | 12/20 [01:22<00:44,  5.56s/it]\u001b[A\n",
      " 65%|██████▌   | 13/20 [01:26<00:35,  5.05s/it]\u001b[A\n",
      " 70%|███████   | 14/20 [01:29<00:27,  4.55s/it]\u001b[A\n",
      " 75%|███████▌  | 15/20 [01:32<00:20,  4.09s/it]\u001b[A\n",
      " 80%|████████  | 16/20 [01:35<00:14,  3.64s/it]\u001b[A\n",
      " 85%|████████▌ | 17/20 [01:37<00:09,  3.20s/it]\u001b[A\n",
      " 90%|█████████ | 18/20 [01:39<00:05,  2.77s/it]\u001b[A\n",
      " 95%|█████████▌| 19/20 [01:40<00:02,  2.35s/it]\u001b[A\n",
      "100%|██████████| 20/20 [01:41<00:00,  5.09s/it]\u001b[A\n"
     ]
    },
    {
     "name": "stdout",
     "output_type": "stream",
     "text": [
      "generator loss:0.9041892149490284\n",
      "-----------------------\n"
     ]
    },
    {
     "name": "stderr",
     "output_type": "stream",
     "text": [
      "282it [8:39:47, 110.33s/it]\n",
      "  0%|          | 0/20 [00:00<?, ?it/s]\u001b[A"
     ]
    },
    {
     "name": "stdout",
     "output_type": "stream",
     "text": [
      "total discriminator loss:0.6931821658017682\n",
      "-----------------------\n",
      "Training Step: 283\n"
     ]
    },
    {
     "name": "stderr",
     "output_type": "stream",
     "text": [
      "\n",
      "  5%|▌         | 1/20 [00:09<02:56,  9.31s/it]\u001b[A\n",
      " 10%|█         | 2/20 [00:18<02:41,  9.00s/it]\u001b[A\n",
      " 15%|█▌        | 3/20 [00:26<02:28,  8.75s/it]\u001b[A\n",
      " 20%|██        | 4/20 [00:34<02:14,  8.40s/it]\u001b[A\n",
      " 25%|██▌       | 5/20 [00:41<02:01,  8.08s/it]\u001b[A\n",
      " 30%|███       | 6/20 [00:48<01:46,  7.57s/it]\u001b[A\n",
      " 35%|███▌      | 7/20 [00:55<01:34,  7.31s/it]\u001b[A\n",
      " 40%|████      | 8/20 [01:01<01:22,  6.87s/it]\u001b[A\n",
      " 45%|████▌     | 9/20 [01:07<01:13,  6.68s/it]\u001b[A\n",
      " 50%|█████     | 10/20 [01:12<01:01,  6.20s/it]\u001b[A\n",
      " 55%|█████▌    | 11/20 [01:17<00:51,  5.74s/it]\u001b[A\n",
      " 60%|██████    | 12/20 [01:22<00:44,  5.57s/it]\u001b[A\n",
      " 65%|██████▌   | 13/20 [01:26<00:35,  5.05s/it]\u001b[A\n",
      " 70%|███████   | 14/20 [01:29<00:27,  4.57s/it]\u001b[A\n",
      " 75%|███████▌  | 15/20 [01:32<00:20,  4.11s/it]\u001b[A\n",
      " 80%|████████  | 16/20 [01:35<00:14,  3.66s/it]\u001b[A\n",
      " 85%|████████▌ | 17/20 [01:37<00:09,  3.23s/it]\u001b[A\n",
      " 90%|█████████ | 18/20 [01:39<00:05,  2.81s/it]\u001b[A\n",
      " 95%|█████████▌| 19/20 [01:40<00:02,  2.40s/it]\u001b[A\n",
      "100%|██████████| 20/20 [01:41<00:00,  5.10s/it]\u001b[A\n"
     ]
    },
    {
     "name": "stdout",
     "output_type": "stream",
     "text": [
      "generator loss:0.8909662017719476\n",
      "-----------------------\n"
     ]
    },
    {
     "name": "stderr",
     "output_type": "stream",
     "text": [
      "283it [8:41:37, 110.24s/it]\n",
      "  0%|          | 0/20 [00:00<?, ?it/s]\u001b[A"
     ]
    },
    {
     "name": "stdout",
     "output_type": "stream",
     "text": [
      "total discriminator loss:0.6931807501485336\n",
      "-----------------------\n",
      "Training Step: 284\n"
     ]
    },
    {
     "name": "stderr",
     "output_type": "stream",
     "text": [
      "\n",
      "  5%|▌         | 1/20 [00:09<02:58,  9.38s/it]\u001b[A\n",
      " 10%|█         | 2/20 [00:18<02:42,  9.05s/it]\u001b[A\n",
      " 15%|█▌        | 3/20 [00:26<02:29,  8.80s/it]\u001b[A\n",
      " 20%|██        | 4/20 [00:34<02:15,  8.44s/it]\u001b[A\n",
      " 25%|██▌       | 5/20 [00:42<02:01,  8.11s/it]\u001b[A\n",
      " 30%|███       | 6/20 [00:48<01:46,  7.59s/it]\u001b[A\n",
      " 35%|███▌      | 7/20 [00:55<01:35,  7.32s/it]\u001b[A\n",
      " 40%|████      | 8/20 [01:01<01:22,  6.86s/it]\u001b[A\n",
      " 45%|████▌     | 9/20 [01:07<01:13,  6.66s/it]\u001b[A\n",
      " 50%|█████     | 10/20 [01:12<01:01,  6.18s/it]\u001b[A\n",
      " 55%|█████▌    | 11/20 [01:17<00:51,  5.71s/it]\u001b[A\n",
      " 60%|██████    | 12/20 [01:22<00:44,  5.52s/it]\u001b[A\n",
      " 65%|██████▌   | 13/20 [01:26<00:35,  5.00s/it]\u001b[A\n",
      " 70%|███████   | 14/20 [01:29<00:27,  4.53s/it]\u001b[A\n",
      " 75%|███████▌  | 15/20 [01:32<00:20,  4.07s/it]\u001b[A\n",
      " 80%|████████  | 16/20 [01:35<00:14,  3.63s/it]\u001b[A\n",
      " 85%|████████▌ | 17/20 [01:37<00:09,  3.20s/it]\u001b[A\n",
      " 90%|█████████ | 18/20 [01:39<00:05,  2.78s/it]\u001b[A\n",
      " 95%|█████████▌| 19/20 [01:40<00:02,  2.36s/it]\u001b[A\n",
      "100%|██████████| 20/20 [01:41<00:00,  5.08s/it]\u001b[A\n"
     ]
    },
    {
     "name": "stdout",
     "output_type": "stream",
     "text": [
      "generator loss:0.904268127240206\n",
      "-----------------------\n"
     ]
    },
    {
     "name": "stderr",
     "output_type": "stream",
     "text": [
      "284it [8:43:26, 110.10s/it]\n",
      "  0%|          | 0/20 [00:00<?, ?it/s]\u001b[A"
     ]
    },
    {
     "name": "stdout",
     "output_type": "stream",
     "text": [
      "total discriminator loss:0.6931846641283208\n",
      "-----------------------\n",
      "Training Step: 285\n"
     ]
    },
    {
     "name": "stderr",
     "output_type": "stream",
     "text": [
      "\n",
      "  5%|▌         | 1/20 [00:09<02:55,  9.26s/it]\u001b[A\n",
      " 10%|█         | 2/20 [00:18<02:41,  8.97s/it]\u001b[A\n",
      " 15%|█▌        | 3/20 [00:26<02:29,  8.77s/it]\u001b[A\n",
      " 20%|██        | 4/20 [00:34<02:15,  8.45s/it]\u001b[A\n",
      " 25%|██▌       | 5/20 [00:42<02:02,  8.16s/it]\u001b[A\n",
      " 30%|███       | 6/20 [00:48<01:47,  7.67s/it]\u001b[A\n",
      " 35%|███▌      | 7/20 [00:55<01:36,  7.42s/it]\u001b[A\n",
      " 40%|████      | 8/20 [01:01<01:23,  6.95s/it]\u001b[A\n",
      " 45%|████▌     | 9/20 [01:07<01:13,  6.72s/it]\u001b[A\n",
      " 50%|█████     | 10/20 [01:13<01:02,  6.25s/it]\u001b[A\n",
      " 55%|█████▌    | 11/20 [01:17<00:52,  5.79s/it]\u001b[A\n",
      " 60%|██████    | 12/20 [01:23<00:44,  5.61s/it]\u001b[A\n",
      " 65%|██████▌   | 13/20 [01:26<00:35,  5.09s/it]\u001b[A\n",
      " 70%|███████   | 14/20 [01:30<00:27,  4.59s/it]\u001b[A\n",
      " 75%|███████▌  | 15/20 [01:33<00:20,  4.12s/it]\u001b[A\n",
      " 80%|████████  | 16/20 [01:36<00:14,  3.68s/it]\u001b[A\n",
      " 85%|████████▌ | 17/20 [01:38<00:09,  3.25s/it]\u001b[A\n",
      " 90%|█████████ | 18/20 [01:40<00:05,  2.83s/it]\u001b[A\n",
      " 95%|█████████▌| 19/20 [01:41<00:02,  2.40s/it]\u001b[A\n",
      "100%|██████████| 20/20 [01:42<00:00,  5.13s/it]\u001b[A\n"
     ]
    },
    {
     "name": "stdout",
     "output_type": "stream",
     "text": [
      "generator loss:0.8894560917999904\n",
      "-----------------------\n"
     ]
    },
    {
     "name": "stderr",
     "output_type": "stream",
     "text": [
      "285it [8:45:17, 110.30s/it]\n",
      "  0%|          | 0/20 [00:00<?, ?it/s]\u001b[A"
     ]
    },
    {
     "name": "stdout",
     "output_type": "stream",
     "text": [
      "total discriminator loss:0.693185727536135\n",
      "-----------------------\n",
      "Training Step: 286\n"
     ]
    },
    {
     "name": "stderr",
     "output_type": "stream",
     "text": [
      "\n",
      "  5%|▌         | 1/20 [00:09<02:57,  9.35s/it]\u001b[A\n",
      " 10%|█         | 2/20 [00:18<02:43,  9.07s/it]\u001b[A\n",
      " 15%|█▌        | 3/20 [00:26<02:30,  8.85s/it]\u001b[A\n",
      " 20%|██        | 4/20 [00:34<02:16,  8.53s/it]\u001b[A\n",
      " 25%|██▌       | 5/20 [00:42<02:02,  8.20s/it]\u001b[A\n",
      " 30%|███       | 6/20 [00:49<01:47,  7.69s/it]\u001b[A\n",
      " 35%|███▌      | 7/20 [00:56<01:36,  7.43s/it]\u001b[A\n",
      " 40%|████      | 8/20 [01:01<01:23,  6.95s/it]\u001b[A\n",
      " 45%|████▌     | 9/20 [01:08<01:13,  6.72s/it]\u001b[A\n",
      " 50%|█████     | 10/20 [01:13<01:02,  6.22s/it]\u001b[A\n",
      " 55%|█████▌    | 11/20 [01:18<00:51,  5.76s/it]\u001b[A\n",
      " 60%|██████    | 12/20 [01:23<00:44,  5.57s/it]\u001b[A\n",
      " 65%|██████▌   | 13/20 [01:26<00:35,  5.05s/it]\u001b[A\n",
      " 70%|███████   | 14/20 [01:30<00:27,  4.57s/it]\u001b[A\n",
      " 75%|███████▌  | 15/20 [01:33<00:20,  4.10s/it]\u001b[A\n",
      " 80%|████████  | 16/20 [01:36<00:14,  3.68s/it]\u001b[A\n",
      " 85%|████████▌ | 17/20 [01:38<00:09,  3.24s/it]\u001b[A\n",
      " 90%|█████████ | 18/20 [01:40<00:05,  2.81s/it]\u001b[A\n",
      " 95%|█████████▌| 19/20 [01:41<00:02,  2.40s/it]\u001b[A\n",
      "100%|██████████| 20/20 [01:42<00:00,  5.13s/it]\u001b[A\n"
     ]
    },
    {
     "name": "stdout",
     "output_type": "stream",
     "text": [
      "generator loss:0.9038934665527595\n",
      "-----------------------\n"
     ]
    },
    {
     "name": "stderr",
     "output_type": "stream",
     "text": [
      "286it [8:47:08, 110.45s/it]\n",
      "  0%|          | 0/20 [00:00<?, ?it/s]\u001b[A"
     ]
    },
    {
     "name": "stdout",
     "output_type": "stream",
     "text": [
      "total discriminator loss:0.6931790414583323\n",
      "-----------------------\n",
      "Training Step: 287\n"
     ]
    },
    {
     "name": "stderr",
     "output_type": "stream",
     "text": [
      "\n",
      "  5%|▌         | 1/20 [00:09<02:57,  9.34s/it]\u001b[A\n",
      " 10%|█         | 2/20 [00:18<02:42,  9.05s/it]\u001b[A\n",
      " 15%|█▌        | 3/20 [00:26<02:29,  8.82s/it]\u001b[A\n",
      " 20%|██        | 4/20 [00:34<02:16,  8.52s/it]\u001b[A\n",
      " 25%|██▌       | 5/20 [00:42<02:03,  8.20s/it]\u001b[A\n",
      " 30%|███       | 6/20 [00:49<01:47,  7.71s/it]\u001b[A\n",
      " 35%|███▌      | 7/20 [00:56<01:36,  7.44s/it]\u001b[A\n",
      " 40%|████      | 8/20 [01:02<01:23,  6.96s/it]\u001b[A\n",
      " 45%|████▌     | 9/20 [01:08<01:14,  6.73s/it]\u001b[A\n",
      " 50%|█████     | 10/20 [01:13<01:02,  6.23s/it]\u001b[A\n",
      " 55%|█████▌    | 11/20 [01:17<00:51,  5.74s/it]\u001b[A\n",
      " 60%|██████    | 12/20 [01:23<00:44,  5.54s/it]\u001b[A\n",
      " 65%|██████▌   | 13/20 [01:26<00:35,  5.02s/it]\u001b[A\n",
      " 70%|███████   | 14/20 [01:30<00:27,  4.53s/it]\u001b[A\n",
      " 75%|███████▌  | 15/20 [01:33<00:20,  4.06s/it]\u001b[A\n",
      " 80%|████████  | 16/20 [01:35<00:14,  3.62s/it]\u001b[A\n",
      " 85%|████████▌ | 17/20 [01:38<00:09,  3.19s/it]\u001b[A\n",
      " 90%|█████████ | 18/20 [01:39<00:05,  2.77s/it]\u001b[A\n",
      " 95%|█████████▌| 19/20 [01:41<00:02,  2.36s/it]\u001b[A\n",
      "100%|██████████| 20/20 [01:42<00:00,  5.11s/it]\u001b[A\n"
     ]
    },
    {
     "name": "stdout",
     "output_type": "stream",
     "text": [
      "generator loss:0.891643506175986\n",
      "-----------------------\n"
     ]
    },
    {
     "name": "stderr",
     "output_type": "stream",
     "text": [
      "287it [8:48:58, 110.43s/it]\n",
      "  0%|          | 0/20 [00:00<?, ?it/s]\u001b[A"
     ]
    },
    {
     "name": "stdout",
     "output_type": "stream",
     "text": [
      "total discriminator loss:0.6931834493233814\n",
      "-----------------------\n",
      "Training Step: 288\n"
     ]
    },
    {
     "name": "stderr",
     "output_type": "stream",
     "text": [
      "\n",
      "  5%|▌         | 1/20 [00:09<02:54,  9.20s/it]\u001b[A\n",
      " 10%|█         | 2/20 [00:17<02:40,  8.93s/it]\u001b[A\n",
      " 15%|█▌        | 3/20 [00:26<02:28,  8.72s/it]\u001b[A\n",
      " 20%|██        | 4/20 [00:34<02:14,  8.41s/it]\u001b[A\n",
      " 25%|██▌       | 5/20 [00:42<02:02,  8.16s/it]\u001b[A\n",
      " 30%|███       | 6/20 [00:48<01:47,  7.69s/it]\u001b[A\n",
      " 35%|███▌      | 7/20 [00:55<01:36,  7.43s/it]\u001b[A\n",
      " 40%|████      | 8/20 [01:01<01:23,  6.96s/it]\u001b[A\n",
      " 45%|████▌     | 9/20 [01:07<01:13,  6.71s/it]\u001b[A\n",
      " 50%|█████     | 10/20 [01:12<01:02,  6.22s/it]\u001b[A\n",
      " 55%|█████▌    | 11/20 [01:17<00:52,  5.78s/it]\u001b[A\n",
      " 60%|██████    | 12/20 [01:22<00:44,  5.58s/it]\u001b[A\n",
      " 65%|██████▌   | 13/20 [01:26<00:35,  5.06s/it]\u001b[A\n",
      " 70%|███████   | 14/20 [01:30<00:27,  4.57s/it]\u001b[A\n",
      " 75%|███████▌  | 15/20 [01:33<00:20,  4.11s/it]\u001b[A\n",
      " 80%|████████  | 16/20 [01:35<00:14,  3.65s/it]\u001b[A\n",
      " 85%|████████▌ | 17/20 [01:38<00:09,  3.22s/it]\u001b[A\n",
      " 90%|█████████ | 18/20 [01:39<00:05,  2.80s/it]\u001b[A\n",
      " 95%|█████████▌| 19/20 [01:41<00:02,  2.38s/it]\u001b[A\n",
      "100%|██████████| 20/20 [01:42<00:00,  5.11s/it]\u001b[A\n"
     ]
    },
    {
     "name": "stdout",
     "output_type": "stream",
     "text": [
      "generator loss:0.9050796886150063\n",
      "-----------------------\n"
     ]
    },
    {
     "name": "stderr",
     "output_type": "stream",
     "text": [
      "288it [8:50:49, 110.44s/it]\n",
      "  0%|          | 0/20 [00:00<?, ?it/s]\u001b[A"
     ]
    },
    {
     "name": "stdout",
     "output_type": "stream",
     "text": [
      "total discriminator loss:0.693185091387233\n",
      "-----------------------\n",
      "Training Step: 289\n"
     ]
    },
    {
     "name": "stderr",
     "output_type": "stream",
     "text": [
      "\n",
      "  5%|▌         | 1/20 [00:09<02:58,  9.42s/it]\u001b[A\n",
      " 10%|█         | 2/20 [00:18<02:43,  9.07s/it]\u001b[A\n",
      " 15%|█▌        | 3/20 [00:26<02:30,  8.83s/it]\u001b[A\n",
      " 20%|██        | 4/20 [00:34<02:16,  8.52s/it]\u001b[A\n",
      " 25%|██▌       | 5/20 [00:42<02:02,  8.19s/it]\u001b[A\n",
      " 30%|███       | 6/20 [00:49<01:48,  7.72s/it]\u001b[A\n",
      " 35%|███▌      | 7/20 [00:56<01:37,  7.48s/it]\u001b[A\n",
      " 40%|████      | 8/20 [01:02<01:24,  7.01s/it]\u001b[A\n",
      " 45%|████▌     | 9/20 [01:08<01:14,  6.77s/it]\u001b[A\n",
      " 50%|█████     | 10/20 [01:13<01:02,  6.27s/it]\u001b[A\n",
      " 55%|█████▌    | 11/20 [01:18<00:52,  5.82s/it]\u001b[A\n",
      " 60%|██████    | 12/20 [01:23<00:45,  5.65s/it]\u001b[A\n",
      " 65%|██████▌   | 13/20 [01:27<00:35,  5.11s/it]\u001b[A\n",
      " 70%|███████   | 14/20 [01:30<00:27,  4.60s/it]\u001b[A\n",
      " 75%|███████▌  | 15/20 [01:33<00:20,  4.12s/it]\u001b[A\n",
      " 80%|████████  | 16/20 [01:36<00:14,  3.66s/it]\u001b[A\n",
      " 85%|████████▌ | 17/20 [01:38<00:09,  3.23s/it]\u001b[A\n",
      " 90%|█████████ | 18/20 [01:40<00:05,  2.81s/it]\u001b[A\n",
      " 95%|█████████▌| 19/20 [01:42<00:02,  2.41s/it]\u001b[A\n",
      "100%|██████████| 20/20 [01:43<00:00,  5.16s/it]\u001b[A\n"
     ]
    },
    {
     "name": "stdout",
     "output_type": "stream",
     "text": [
      "generator loss:0.8904565052667961\n",
      "-----------------------\n"
     ]
    },
    {
     "name": "stderr",
     "output_type": "stream",
     "text": [
      "289it [8:52:40, 110.73s/it]\n",
      "  0%|          | 0/20 [00:00<?, ?it/s]\u001b[A"
     ]
    },
    {
     "name": "stdout",
     "output_type": "stream",
     "text": [
      "total discriminator loss:0.6931796879675749\n",
      "-----------------------\n",
      "Training Step: 290\n"
     ]
    },
    {
     "name": "stderr",
     "output_type": "stream",
     "text": [
      "\n",
      "  5%|▌         | 1/20 [00:09<02:58,  9.39s/it]\u001b[A\n",
      " 10%|█         | 2/20 [00:18<02:42,  9.02s/it]\u001b[A\n",
      " 15%|█▌        | 3/20 [00:26<02:29,  8.80s/it]\u001b[A\n",
      " 20%|██        | 4/20 [00:34<02:15,  8.48s/it]\u001b[A\n",
      " 25%|██▌       | 5/20 [00:42<02:02,  8.16s/it]\u001b[A\n",
      " 30%|███       | 6/20 [00:48<01:47,  7.65s/it]\u001b[A\n",
      " 35%|███▌      | 7/20 [00:55<01:36,  7.40s/it]\u001b[A\n",
      " 40%|████      | 8/20 [01:01<01:23,  6.93s/it]\u001b[A\n",
      " 45%|████▌     | 9/20 [01:07<01:13,  6.72s/it]\u001b[A\n",
      " 50%|█████     | 10/20 [01:13<01:02,  6.24s/it]\u001b[A\n",
      " 55%|█████▌    | 11/20 [01:17<00:52,  5.78s/it]\u001b[A\n",
      " 60%|██████    | 12/20 [01:23<00:44,  5.60s/it]\u001b[A\n",
      " 65%|██████▌   | 13/20 [01:26<00:35,  5.07s/it]\u001b[A\n",
      " 70%|███████   | 14/20 [01:30<00:27,  4.57s/it]\u001b[A\n",
      " 75%|███████▌  | 15/20 [01:33<00:20,  4.10s/it]\u001b[A\n",
      " 80%|████████  | 16/20 [01:35<00:14,  3.66s/it]\u001b[A\n",
      " 85%|████████▌ | 17/20 [01:38<00:09,  3.23s/it]\u001b[A\n",
      " 90%|█████████ | 18/20 [01:40<00:05,  2.80s/it]\u001b[A\n",
      " 95%|█████████▌| 19/20 [01:41<00:02,  2.38s/it]\u001b[A\n",
      "100%|██████████| 20/20 [01:42<00:00,  5.12s/it]\u001b[A\n"
     ]
    },
    {
     "name": "stdout",
     "output_type": "stream",
     "text": [
      "generator loss:0.9044258435520163\n",
      "-----------------------\n"
     ]
    },
    {
     "name": "stderr",
     "output_type": "stream",
     "text": [
      "290it [8:54:31, 110.67s/it]\n",
      "  0%|          | 0/20 [00:00<?, ?it/s]\u001b[A"
     ]
    },
    {
     "name": "stdout",
     "output_type": "stream",
     "text": [
      "total discriminator loss:0.6931851191130551\n",
      "-----------------------\n",
      "Training Step: 291\n"
     ]
    },
    {
     "name": "stderr",
     "output_type": "stream",
     "text": [
      "\n",
      "  5%|▌         | 1/20 [00:09<02:57,  9.36s/it]\u001b[A\n",
      " 10%|█         | 2/20 [00:18<02:42,  9.01s/it]\u001b[A\n",
      " 15%|█▌        | 3/20 [00:26<02:29,  8.78s/it]\u001b[A\n",
      " 20%|██        | 4/20 [00:34<02:15,  8.46s/it]\u001b[A\n",
      " 25%|██▌       | 5/20 [00:42<02:02,  8.15s/it]\u001b[A\n",
      " 30%|███       | 6/20 [00:48<01:46,  7.63s/it]\u001b[A\n",
      " 35%|███▌      | 7/20 [00:55<01:35,  7.37s/it]\u001b[A\n",
      " 40%|████      | 8/20 [01:01<01:22,  6.89s/it]\u001b[A\n",
      " 45%|████▌     | 9/20 [01:07<01:13,  6.66s/it]\u001b[A\n",
      " 50%|█████     | 10/20 [01:12<01:01,  6.18s/it]\u001b[A\n",
      " 55%|█████▌    | 11/20 [01:17<00:51,  5.73s/it]\u001b[A\n",
      " 60%|██████    | 12/20 [01:22<00:44,  5.54s/it]\u001b[A\n",
      " 65%|██████▌   | 13/20 [01:26<00:35,  5.02s/it]\u001b[A\n",
      " 70%|███████   | 14/20 [01:29<00:27,  4.54s/it]\u001b[A\n",
      " 75%|███████▌  | 15/20 [01:32<00:20,  4.07s/it]\u001b[A\n",
      " 80%|████████  | 16/20 [01:35<00:14,  3.63s/it]\u001b[A\n",
      " 85%|████████▌ | 17/20 [01:37<00:09,  3.20s/it]\u001b[A\n",
      " 90%|█████████ | 18/20 [01:39<00:05,  2.77s/it]\u001b[A\n",
      " 95%|█████████▌| 19/20 [01:40<00:02,  2.36s/it]\u001b[A\n",
      "100%|██████████| 20/20 [01:41<00:00,  5.09s/it]\u001b[A\n"
     ]
    },
    {
     "name": "stdout",
     "output_type": "stream",
     "text": [
      "generator loss:0.8904687402441394\n",
      "-----------------------\n"
     ]
    },
    {
     "name": "stderr",
     "output_type": "stream",
     "text": [
      "291it [8:56:21, 110.46s/it]\n",
      "  0%|          | 0/20 [00:00<?, ?it/s]\u001b[A"
     ]
    },
    {
     "name": "stdout",
     "output_type": "stream",
     "text": [
      "total discriminator loss:0.693186074302499\n",
      "-----------------------\n",
      "Training Step: 292\n"
     ]
    },
    {
     "name": "stderr",
     "output_type": "stream",
     "text": [
      "\n",
      "  5%|▌         | 1/20 [00:09<02:55,  9.26s/it]\u001b[A\n",
      " 10%|█         | 2/20 [00:18<02:42,  9.01s/it]\u001b[A\n",
      " 15%|█▌        | 3/20 [00:26<02:29,  8.80s/it]\u001b[A\n",
      " 20%|██        | 4/20 [00:34<02:15,  8.46s/it]\u001b[A\n",
      " 25%|██▌       | 5/20 [00:42<02:02,  8.16s/it]\u001b[A\n",
      " 30%|███       | 6/20 [00:48<01:47,  7.65s/it]\u001b[A\n",
      " 35%|███▌      | 7/20 [00:55<01:36,  7.39s/it]\u001b[A\n",
      " 40%|████      | 8/20 [01:01<01:23,  6.93s/it]\u001b[A\n",
      " 45%|████▌     | 9/20 [01:07<01:13,  6.68s/it]\u001b[A\n",
      " 50%|█████     | 10/20 [01:12<01:01,  6.20s/it]\u001b[A\n",
      " 55%|█████▌    | 11/20 [01:17<00:51,  5.75s/it]\u001b[A\n",
      " 60%|██████    | 12/20 [01:22<00:44,  5.62s/it]\u001b[A\n",
      " 65%|██████▌   | 13/20 [01:26<00:35,  5.08s/it]\u001b[A\n",
      " 70%|███████   | 14/20 [01:30<00:27,  4.59s/it]\u001b[A\n",
      " 75%|███████▌  | 15/20 [01:33<00:20,  4.11s/it]\u001b[A\n",
      " 80%|████████  | 16/20 [01:35<00:14,  3.65s/it]\u001b[A\n",
      " 85%|████████▌ | 17/20 [01:38<00:09,  3.21s/it]\u001b[A\n",
      " 90%|█████████ | 18/20 [01:39<00:05,  2.78s/it]\u001b[A\n",
      " 95%|█████████▌| 19/20 [01:41<00:02,  2.36s/it]\u001b[A\n",
      "100%|██████████| 20/20 [01:42<00:00,  5.11s/it]\u001b[A\n"
     ]
    },
    {
     "name": "stdout",
     "output_type": "stream",
     "text": [
      "generator loss:0.9039938658200443\n",
      "-----------------------\n"
     ]
    },
    {
     "name": "stderr",
     "output_type": "stream",
     "text": [
      "292it [8:58:11, 110.44s/it]\n",
      "  0%|          | 0/20 [00:00<?, ?it/s]\u001b[A"
     ]
    },
    {
     "name": "stdout",
     "output_type": "stream",
     "text": [
      "total discriminator loss:0.6931823299351931\n",
      "-----------------------\n",
      "Training Step: 293\n"
     ]
    },
    {
     "name": "stderr",
     "output_type": "stream",
     "text": [
      "\n",
      "  5%|▌         | 1/20 [00:09<02:55,  9.24s/it]\u001b[A\n",
      " 10%|█         | 2/20 [00:17<02:40,  8.92s/it]\u001b[A\n",
      " 15%|█▌        | 3/20 [00:26<02:27,  8.68s/it]\u001b[A\n",
      " 20%|██        | 4/20 [00:34<02:14,  8.38s/it]\u001b[A\n",
      " 25%|██▌       | 5/20 [00:41<02:01,  8.11s/it]\u001b[A\n",
      " 30%|███       | 6/20 [00:48<01:46,  7.63s/it]\u001b[A\n",
      " 35%|███▌      | 7/20 [00:55<01:36,  7.39s/it]\u001b[A\n",
      " 40%|████      | 8/20 [01:01<01:23,  6.92s/it]\u001b[A\n",
      " 45%|████▌     | 9/20 [01:07<01:13,  6.71s/it]\u001b[A\n",
      " 50%|█████     | 10/20 [01:12<01:02,  6.21s/it]\u001b[A\n",
      " 55%|█████▌    | 11/20 [01:17<00:51,  5.75s/it]\u001b[A\n",
      " 60%|██████    | 12/20 [01:22<00:44,  5.58s/it]\u001b[A\n",
      " 65%|██████▌   | 13/20 [01:26<00:35,  5.06s/it]\u001b[A\n",
      " 70%|███████   | 14/20 [01:29<00:27,  4.57s/it]\u001b[A\n",
      " 75%|███████▌  | 15/20 [01:32<00:20,  4.11s/it]\u001b[A\n",
      " 80%|████████  | 16/20 [01:35<00:14,  3.66s/it]\u001b[A\n",
      " 85%|████████▌ | 17/20 [01:37<00:09,  3.22s/it]\u001b[A\n",
      " 90%|█████████ | 18/20 [01:39<00:05,  2.80s/it]\u001b[A\n",
      " 95%|█████████▌| 19/20 [01:41<00:02,  2.38s/it]\u001b[A\n",
      "100%|██████████| 20/20 [01:41<00:00,  5.10s/it]\u001b[A\n"
     ]
    },
    {
     "name": "stdout",
     "output_type": "stream",
     "text": [
      "generator loss:0.8901147697429975\n",
      "-----------------------\n"
     ]
    },
    {
     "name": "stderr",
     "output_type": "stream",
     "text": [
      "293it [9:00:01, 110.36s/it]\n",
      "  0%|          | 0/20 [00:00<?, ?it/s]\u001b[A"
     ]
    },
    {
     "name": "stdout",
     "output_type": "stream",
     "text": [
      "total discriminator loss:0.693179681237906\n",
      "-----------------------\n",
      "Training Step: 294\n"
     ]
    },
    {
     "name": "stderr",
     "output_type": "stream",
     "text": [
      "\n",
      "  5%|▌         | 1/20 [00:09<02:56,  9.29s/it]\u001b[A\n",
      " 10%|█         | 2/20 [00:18<02:41,  8.96s/it]\u001b[A\n",
      " 15%|█▌        | 3/20 [00:26<02:28,  8.75s/it]\u001b[A\n",
      " 20%|██        | 4/20 [00:34<02:14,  8.41s/it]\u001b[A\n",
      " 25%|██▌       | 5/20 [00:41<02:01,  8.09s/it]\u001b[A\n",
      " 30%|███       | 6/20 [00:48<01:46,  7.60s/it]\u001b[A\n",
      " 35%|███▌      | 7/20 [00:55<01:35,  7.36s/it]\u001b[A\n",
      " 40%|████      | 8/20 [01:01<01:22,  6.91s/it]\u001b[A\n",
      " 45%|████▌     | 9/20 [01:07<01:13,  6.68s/it]\u001b[A\n",
      " 50%|█████     | 10/20 [01:12<01:02,  6.21s/it]\u001b[A\n",
      " 55%|█████▌    | 11/20 [01:17<00:51,  5.74s/it]\u001b[A\n",
      " 60%|██████    | 12/20 [01:22<00:44,  5.55s/it]\u001b[A\n",
      " 65%|██████▌   | 13/20 [01:26<00:35,  5.02s/it]\u001b[A\n",
      " 70%|███████   | 14/20 [01:29<00:27,  4.53s/it]\u001b[A\n",
      " 75%|███████▌  | 15/20 [01:32<00:20,  4.07s/it]\u001b[A\n",
      " 80%|████████  | 16/20 [01:35<00:14,  3.64s/it]\u001b[A\n",
      " 85%|████████▌ | 17/20 [01:37<00:09,  3.20s/it]\u001b[A\n",
      " 90%|█████████ | 18/20 [01:39<00:05,  2.79s/it]\u001b[A\n",
      " 95%|█████████▌| 19/20 [01:40<00:02,  2.37s/it]\u001b[A\n",
      "100%|██████████| 20/20 [01:41<00:00,  5.09s/it]\u001b[A\n"
     ]
    },
    {
     "name": "stdout",
     "output_type": "stream",
     "text": [
      "generator loss:0.9040208914784911\n",
      "-----------------------\n"
     ]
    },
    {
     "name": "stderr",
     "output_type": "stream",
     "text": [
      "294it [9:01:51, 110.22s/it]\n",
      "  0%|          | 0/20 [00:00<?, ?it/s]\u001b[A"
     ]
    },
    {
     "name": "stdout",
     "output_type": "stream",
     "text": [
      "total discriminator loss:0.6931829771977133\n",
      "-----------------------\n",
      "Training Step: 295\n"
     ]
    },
    {
     "name": "stderr",
     "output_type": "stream",
     "text": [
      "\n",
      "  5%|▌         | 1/20 [00:09<02:58,  9.40s/it]\u001b[A\n",
      " 10%|█         | 2/20 [00:18<02:42,  9.05s/it]\u001b[A\n",
      " 15%|█▌        | 3/20 [00:26<02:29,  8.82s/it]\u001b[A\n",
      " 20%|██        | 4/20 [00:34<02:15,  8.50s/it]\u001b[A\n",
      " 25%|██▌       | 5/20 [00:42<02:03,  8.22s/it]\u001b[A\n",
      " 30%|███       | 6/20 [00:49<01:48,  7.72s/it]\u001b[A\n",
      " 35%|███▌      | 7/20 [00:56<01:37,  7.48s/it]\u001b[A\n",
      " 40%|████      | 8/20 [01:02<01:24,  7.00s/it]\u001b[A\n",
      " 45%|████▌     | 9/20 [01:08<01:14,  6.79s/it]\u001b[A\n",
      " 50%|█████     | 10/20 [01:13<01:02,  6.27s/it]\u001b[A\n",
      " 55%|█████▌    | 11/20 [01:18<00:52,  5.80s/it]\u001b[A\n",
      " 60%|██████    | 12/20 [01:23<00:44,  5.59s/it]\u001b[A\n",
      " 65%|██████▌   | 13/20 [01:27<00:35,  5.06s/it]\u001b[A\n",
      " 70%|███████   | 14/20 [01:30<00:27,  4.57s/it]\u001b[A\n",
      " 75%|███████▌  | 15/20 [01:33<00:20,  4.11s/it]\u001b[A\n",
      " 80%|████████  | 16/20 [01:36<00:14,  3.66s/it]\u001b[A\n",
      " 85%|████████▌ | 17/20 [01:38<00:09,  3.23s/it]\u001b[A\n",
      " 90%|█████████ | 18/20 [01:40<00:05,  2.80s/it]\u001b[A\n",
      " 95%|█████████▌| 19/20 [01:41<00:02,  2.39s/it]\u001b[A\n",
      "100%|██████████| 20/20 [01:42<00:00,  5.14s/it]\u001b[A\n"
     ]
    },
    {
     "name": "stdout",
     "output_type": "stream",
     "text": [
      "generator loss:0.8903183993572792\n",
      "-----------------------\n"
     ]
    },
    {
     "name": "stderr",
     "output_type": "stream",
     "text": [
      "295it [9:03:42, 110.47s/it]\n",
      "  0%|          | 0/20 [00:00<?, ?it/s]\u001b[A"
     ]
    },
    {
     "name": "stdout",
     "output_type": "stream",
     "text": [
      "total discriminator loss:0.6931809385419606\n",
      "-----------------------\n",
      "Training Step: 296\n"
     ]
    },
    {
     "name": "stderr",
     "output_type": "stream",
     "text": [
      "\n",
      "  5%|▌         | 1/20 [00:09<02:59,  9.43s/it]\u001b[A\n",
      " 10%|█         | 2/20 [00:18<02:43,  9.09s/it]\u001b[A\n",
      " 15%|█▌        | 3/20 [00:26<02:31,  8.88s/it]\u001b[A\n",
      " 20%|██        | 4/20 [00:34<02:16,  8.56s/it]\u001b[A\n",
      " 25%|██▌       | 5/20 [00:42<02:03,  8.23s/it]\u001b[A\n",
      " 30%|███       | 6/20 [00:49<01:48,  7.73s/it]\u001b[A\n",
      " 35%|███▌      | 7/20 [00:56<01:37,  7.47s/it]\u001b[A\n",
      " 40%|████      | 8/20 [01:02<01:23,  6.98s/it]\u001b[A\n",
      " 45%|████▌     | 9/20 [01:08<01:13,  6.71s/it]\u001b[A\n",
      " 50%|█████     | 10/20 [01:13<01:02,  6.20s/it]\u001b[A\n",
      " 55%|█████▌    | 11/20 [01:18<00:51,  5.74s/it]\u001b[A\n",
      " 60%|██████    | 12/20 [01:23<00:44,  5.56s/it]\u001b[A\n",
      " 65%|██████▌   | 13/20 [01:27<00:35,  5.04s/it]\u001b[A\n",
      " 70%|███████   | 14/20 [01:30<00:27,  4.56s/it]\u001b[A\n",
      " 75%|███████▌  | 15/20 [01:33<00:20,  4.10s/it]\u001b[A\n",
      " 80%|████████  | 16/20 [01:36<00:14,  3.65s/it]\u001b[A\n",
      " 85%|████████▌ | 17/20 [01:38<00:09,  3.21s/it]\u001b[A\n",
      " 90%|█████████ | 18/20 [01:40<00:05,  2.79s/it]\u001b[A\n",
      " 95%|█████████▌| 19/20 [01:41<00:02,  2.37s/it]\u001b[A\n",
      "100%|██████████| 20/20 [01:42<00:00,  5.13s/it]\u001b[A\n"
     ]
    },
    {
     "name": "stdout",
     "output_type": "stream",
     "text": [
      "generator loss:0.9037472634462679\n",
      "-----------------------\n"
     ]
    },
    {
     "name": "stderr",
     "output_type": "stream",
     "text": [
      "296it [9:05:33, 110.55s/it]\n",
      "  0%|          | 0/20 [00:00<?, ?it/s]\u001b[A"
     ]
    },
    {
     "name": "stdout",
     "output_type": "stream",
     "text": [
      "total discriminator loss:0.6931831727731296\n",
      "-----------------------\n",
      "Training Step: 297\n"
     ]
    },
    {
     "name": "stderr",
     "output_type": "stream",
     "text": [
      "\n",
      "  5%|▌         | 1/20 [00:09<02:57,  9.32s/it]\u001b[A\n",
      " 10%|█         | 2/20 [00:18<02:42,  9.05s/it]\u001b[A\n",
      " 15%|█▌        | 3/20 [00:26<02:29,  8.81s/it]\u001b[A\n",
      " 20%|██        | 4/20 [00:34<02:15,  8.46s/it]\u001b[A\n",
      " 25%|██▌       | 5/20 [00:42<02:02,  8.17s/it]\u001b[A\n",
      " 30%|███       | 6/20 [00:48<01:47,  7.66s/it]\u001b[A\n",
      " 35%|███▌      | 7/20 [00:55<01:36,  7.40s/it]\u001b[A\n",
      " 40%|████      | 8/20 [01:01<01:23,  6.93s/it]\u001b[A\n",
      " 45%|████▌     | 9/20 [01:07<01:13,  6.70s/it]\u001b[A\n",
      " 50%|█████     | 10/20 [01:13<01:02,  6.21s/it]\u001b[A\n",
      " 55%|█████▌    | 11/20 [01:17<00:51,  5.75s/it]\u001b[A\n",
      " 60%|██████    | 12/20 [01:22<00:44,  5.57s/it]\u001b[A\n",
      " 65%|██████▌   | 13/20 [01:26<00:35,  5.04s/it]\u001b[A\n",
      " 70%|███████   | 14/20 [01:30<00:27,  4.55s/it]\u001b[A\n",
      " 75%|███████▌  | 15/20 [01:33<00:20,  4.10s/it]\u001b[A\n",
      " 80%|████████  | 16/20 [01:35<00:14,  3.67s/it]\u001b[A\n",
      " 85%|████████▌ | 17/20 [01:38<00:09,  3.24s/it]\u001b[A\n",
      " 90%|█████████ | 18/20 [01:39<00:05,  2.81s/it]\u001b[A\n",
      " 95%|█████████▌| 19/20 [01:41<00:02,  2.39s/it]\u001b[A\n",
      "100%|██████████| 20/20 [01:42<00:00,  5.12s/it]\u001b[A\n"
     ]
    },
    {
     "name": "stdout",
     "output_type": "stream",
     "text": [
      "generator loss:0.8906589280385623\n",
      "-----------------------\n"
     ]
    },
    {
     "name": "stderr",
     "output_type": "stream",
     "text": [
      "297it [9:07:24, 110.55s/it]\n",
      "  0%|          | 0/20 [00:00<?, ?it/s]\u001b[A"
     ]
    },
    {
     "name": "stdout",
     "output_type": "stream",
     "text": [
      "total discriminator loss:0.6931800167306627\n",
      "-----------------------\n",
      "Training Step: 298\n"
     ]
    },
    {
     "name": "stderr",
     "output_type": "stream",
     "text": [
      "\n",
      "  5%|▌         | 1/20 [00:09<02:58,  9.39s/it]\u001b[A\n",
      " 10%|█         | 2/20 [00:18<02:44,  9.15s/it]\u001b[A\n",
      " 15%|█▌        | 3/20 [00:27<02:31,  8.92s/it]\u001b[A\n",
      " 20%|██        | 4/20 [00:35<02:17,  8.58s/it]\u001b[A\n",
      " 25%|██▌       | 5/20 [00:42<02:03,  8.26s/it]\u001b[A\n",
      " 30%|███       | 6/20 [00:49<01:48,  7.74s/it]\u001b[A\n",
      " 35%|███▌      | 7/20 [00:56<01:37,  7.46s/it]\u001b[A\n",
      " 40%|████      | 8/20 [01:02<01:23,  6.98s/it]\u001b[A\n",
      " 45%|████▌     | 9/20 [01:08<01:14,  6.74s/it]\u001b[A\n",
      " 50%|█████     | 10/20 [01:13<01:02,  6.23s/it]\u001b[A\n",
      " 55%|█████▌    | 11/20 [01:18<00:51,  5.76s/it]\u001b[A\n",
      " 60%|██████    | 12/20 [01:23<00:44,  5.57s/it]\u001b[A\n",
      " 65%|██████▌   | 13/20 [01:27<00:35,  5.04s/it]\u001b[A\n",
      " 70%|███████   | 14/20 [01:30<00:27,  4.55s/it]\u001b[A\n",
      " 75%|███████▌  | 15/20 [01:33<00:20,  4.07s/it]\u001b[A\n",
      " 80%|████████  | 16/20 [01:36<00:14,  3.63s/it]\u001b[A\n",
      " 85%|████████▌ | 17/20 [01:38<00:09,  3.20s/it]\u001b[A\n",
      " 90%|█████████ | 18/20 [01:40<00:05,  2.79s/it]\u001b[A\n",
      " 95%|█████████▌| 19/20 [01:41<00:02,  2.37s/it]\u001b[A\n",
      "100%|██████████| 20/20 [01:42<00:00,  5.14s/it]\u001b[A\n"
     ]
    },
    {
     "name": "stdout",
     "output_type": "stream",
     "text": [
      "generator loss:0.9045537572718676\n",
      "-----------------------\n"
     ]
    },
    {
     "name": "stderr",
     "output_type": "stream",
     "text": [
      "298it [9:09:15, 110.67s/it]\n",
      "  0%|          | 0/20 [00:00<?, ?it/s]\u001b[A"
     ]
    },
    {
     "name": "stdout",
     "output_type": "stream",
     "text": [
      "total discriminator loss:0.6931846215305166\n",
      "-----------------------\n",
      "Training Step: 299\n"
     ]
    },
    {
     "name": "stderr",
     "output_type": "stream",
     "text": [
      "\n",
      "  5%|▌         | 1/20 [00:09<02:58,  9.37s/it]\u001b[A\n",
      " 10%|█         | 2/20 [00:18<02:42,  9.04s/it]\u001b[A\n",
      " 15%|█▌        | 3/20 [00:26<02:29,  8.80s/it]\u001b[A\n",
      " 20%|██        | 4/20 [00:34<02:15,  8.48s/it]\u001b[A\n",
      " 25%|██▌       | 5/20 [00:42<02:02,  8.18s/it]\u001b[A\n",
      " 30%|███       | 6/20 [00:49<01:47,  7.69s/it]\u001b[A\n",
      " 35%|███▌      | 7/20 [00:55<01:36,  7.43s/it]\u001b[A\n",
      " 40%|████      | 8/20 [01:01<01:23,  6.95s/it]\u001b[A\n",
      " 45%|████▌     | 9/20 [01:08<01:13,  6.72s/it]\u001b[A\n",
      " 50%|█████     | 10/20 [01:13<01:02,  6.22s/it]\u001b[A\n",
      " 55%|█████▌    | 11/20 [01:17<00:51,  5.75s/it]\u001b[A\n",
      " 60%|██████    | 12/20 [01:23<00:44,  5.56s/it]\u001b[A\n",
      " 65%|██████▌   | 13/20 [01:26<00:35,  5.04s/it]\u001b[A\n",
      " 70%|███████   | 14/20 [01:30<00:27,  4.55s/it]\u001b[A\n",
      " 75%|███████▌  | 15/20 [01:33<00:20,  4.09s/it]\u001b[A\n",
      " 80%|████████  | 16/20 [01:35<00:14,  3.65s/it]\u001b[A\n",
      " 85%|████████▌ | 17/20 [01:38<00:09,  3.21s/it]\u001b[A\n",
      " 90%|█████████ | 18/20 [01:39<00:05,  2.79s/it]\u001b[A\n",
      " 95%|█████████▌| 19/20 [01:41<00:02,  2.37s/it]\u001b[A\n",
      "100%|██████████| 20/20 [01:42<00:00,  5.12s/it]\u001b[A\n"
     ]
    },
    {
     "name": "stdout",
     "output_type": "stream",
     "text": [
      "generator loss:0.8909013210921014\n",
      "-----------------------\n"
     ]
    },
    {
     "name": "stderr",
     "output_type": "stream",
     "text": [
      "299it [9:11:05, 110.63s/it]\n",
      "  0%|          | 0/20 [00:00<?, ?it/s]\u001b[A"
     ]
    },
    {
     "name": "stdout",
     "output_type": "stream",
     "text": [
      "total discriminator loss:0.6931854814599628\n",
      "-----------------------\n",
      "Training Step: 300\n"
     ]
    },
    {
     "name": "stderr",
     "output_type": "stream",
     "text": [
      "\n",
      "  5%|▌         | 1/20 [00:09<02:55,  9.26s/it]\u001b[A\n",
      " 10%|█         | 2/20 [00:18<02:41,  8.96s/it]\u001b[A\n",
      " 15%|█▌        | 3/20 [00:26<02:27,  8.70s/it]\u001b[A\n",
      " 20%|██        | 4/20 [00:34<02:13,  8.37s/it]\u001b[A\n",
      " 25%|██▌       | 5/20 [00:41<02:01,  8.07s/it]\u001b[A\n",
      " 30%|███       | 6/20 [00:48<01:45,  7.57s/it]\u001b[A\n",
      " 35%|███▌      | 7/20 [00:55<01:35,  7.32s/it]\u001b[A\n",
      " 40%|████      | 8/20 [01:01<01:22,  6.86s/it]\u001b[A\n",
      " 45%|████▌     | 9/20 [01:07<01:12,  6.63s/it]\u001b[A\n",
      " 50%|█████     | 10/20 [01:12<01:01,  6.17s/it]\u001b[A\n",
      " 55%|█████▌    | 11/20 [01:17<00:51,  5.72s/it]\u001b[A\n",
      " 60%|██████    | 12/20 [01:22<00:44,  5.54s/it]\u001b[A\n",
      " 65%|██████▌   | 13/20 [01:25<00:35,  5.02s/it]\u001b[A\n",
      " 70%|███████   | 14/20 [01:29<00:27,  4.53s/it]\u001b[A\n",
      " 75%|███████▌  | 15/20 [01:32<00:20,  4.06s/it]\u001b[A\n",
      " 80%|████████  | 16/20 [01:34<00:14,  3.61s/it]\u001b[A\n",
      " 85%|████████▌ | 17/20 [01:37<00:09,  3.20s/it]\u001b[A\n",
      " 90%|█████████ | 18/20 [01:38<00:05,  2.77s/it]\u001b[A\n",
      " 95%|█████████▌| 19/20 [01:40<00:02,  2.36s/it]\u001b[A\n",
      "100%|██████████| 20/20 [01:41<00:00,  5.07s/it]\u001b[A\n"
     ]
    },
    {
     "name": "stdout",
     "output_type": "stream",
     "text": [
      "generator loss:0.9035245535616377\n",
      "-----------------------\n"
     ]
    },
    {
     "name": "stderr",
     "output_type": "stream",
     "text": [
      "300it [9:12:55, 110.31s/it]\n",
      "  0%|          | 0/20 [00:00<?, ?it/s]\u001b[A"
     ]
    },
    {
     "name": "stdout",
     "output_type": "stream",
     "text": [
      "total discriminator loss:0.6931803466849128\n",
      "-----------------------\n",
      "Training Step: 301\n"
     ]
    },
    {
     "name": "stderr",
     "output_type": "stream",
     "text": [
      "\n",
      "  5%|▌         | 1/20 [00:09<02:55,  9.24s/it]\u001b[A\n",
      " 10%|█         | 2/20 [00:17<02:41,  8.95s/it]\u001b[A\n",
      " 15%|█▌        | 3/20 [00:26<02:28,  8.76s/it]\u001b[A\n",
      " 20%|██        | 4/20 [00:34<02:15,  8.45s/it]\u001b[A\n",
      " 25%|██▌       | 5/20 [00:42<02:01,  8.12s/it]\u001b[A\n",
      " 30%|███       | 6/20 [00:48<01:46,  7.59s/it]\u001b[A\n",
      " 35%|███▌      | 7/20 [00:55<01:35,  7.36s/it]\u001b[A\n",
      " 40%|████      | 8/20 [01:01<01:23,  6.93s/it]\u001b[A\n",
      " 45%|████▌     | 9/20 [01:07<01:13,  6.69s/it]\u001b[A\n",
      " 50%|█████     | 10/20 [01:12<01:01,  6.19s/it]\u001b[A\n",
      " 55%|█████▌    | 11/20 [01:17<00:51,  5.75s/it]\u001b[A\n",
      " 60%|██████    | 12/20 [01:22<00:44,  5.58s/it]\u001b[A\n",
      " 65%|██████▌   | 13/20 [01:26<00:35,  5.05s/it]\u001b[A\n",
      " 70%|███████   | 14/20 [01:29<00:27,  4.55s/it]\u001b[A\n",
      " 75%|███████▌  | 15/20 [01:32<00:20,  4.09s/it]\u001b[A\n",
      " 80%|████████  | 16/20 [01:35<00:14,  3.65s/it]\u001b[A\n",
      " 85%|████████▌ | 17/20 [01:37<00:09,  3.21s/it]\u001b[A\n",
      " 90%|█████████ | 18/20 [01:39<00:05,  2.79s/it]\u001b[A\n",
      " 95%|█████████▌| 19/20 [01:40<00:02,  2.36s/it]\u001b[A\n",
      "100%|██████████| 20/20 [01:41<00:00,  5.09s/it]\u001b[A\n"
     ]
    },
    {
     "name": "stdout",
     "output_type": "stream",
     "text": [
      "generator loss:0.8901986200401965\n",
      "-----------------------\n"
     ]
    },
    {
     "name": "stderr",
     "output_type": "stream",
     "text": [
      "301it [9:14:45, 110.24s/it]\n",
      "  0%|          | 0/20 [00:00<?, ?it/s]\u001b[A"
     ]
    },
    {
     "name": "stdout",
     "output_type": "stream",
     "text": [
      "total discriminator loss:0.6931840561987191\n",
      "-----------------------\n",
      "Training Step: 302\n"
     ]
    },
    {
     "name": "stderr",
     "output_type": "stream",
     "text": [
      "\n",
      "  5%|▌         | 1/20 [00:09<02:58,  9.38s/it]\u001b[A\n",
      " 10%|█         | 2/20 [00:18<02:41,  8.99s/it]\u001b[A\n",
      " 15%|█▌        | 3/20 [00:26<02:28,  8.75s/it]\u001b[A\n",
      " 20%|██        | 4/20 [00:34<02:15,  8.45s/it]\u001b[A\n",
      " 25%|██▌       | 5/20 [00:42<02:02,  8.16s/it]\u001b[A\n",
      " 30%|███       | 6/20 [00:48<01:47,  7.65s/it]\u001b[A\n",
      " 35%|███▌      | 7/20 [00:55<01:35,  7.38s/it]\u001b[A\n",
      " 40%|████      | 8/20 [01:01<01:22,  6.91s/it]\u001b[A\n",
      " 45%|████▌     | 9/20 [01:07<01:13,  6.69s/it]\u001b[A\n",
      " 50%|█████     | 10/20 [01:12<01:02,  6.20s/it]\u001b[A\n",
      " 55%|█████▌    | 11/20 [01:17<00:51,  5.74s/it]\u001b[A\n",
      " 60%|██████    | 12/20 [01:22<00:44,  5.55s/it]\u001b[A\n",
      " 65%|██████▌   | 13/20 [01:26<00:35,  5.03s/it]\u001b[A\n",
      " 70%|███████   | 14/20 [01:29<00:27,  4.54s/it]\u001b[A\n",
      " 75%|███████▌  | 15/20 [01:32<00:20,  4.08s/it]\u001b[A\n",
      " 80%|████████  | 16/20 [01:35<00:14,  3.63s/it]\u001b[A\n",
      " 85%|████████▌ | 17/20 [01:37<00:09,  3.19s/it]\u001b[A\n",
      " 90%|█████████ | 18/20 [01:39<00:05,  2.77s/it]\u001b[A\n",
      " 95%|█████████▌| 19/20 [01:40<00:02,  2.35s/it]\u001b[A\n",
      "100%|██████████| 20/20 [01:41<00:00,  5.09s/it]\u001b[A\n"
     ]
    },
    {
     "name": "stdout",
     "output_type": "stream",
     "text": [
      "generator loss:0.9043327208387755\n",
      "-----------------------\n"
     ]
    },
    {
     "name": "stderr",
     "output_type": "stream",
     "text": [
      "302it [9:16:35, 110.17s/it]\n",
      "  0%|          | 0/20 [00:00<?, ?it/s]\u001b[A"
     ]
    },
    {
     "name": "stdout",
     "output_type": "stream",
     "text": [
      "total discriminator loss:0.6931817266546781\n",
      "-----------------------\n",
      "Training Step: 303\n"
     ]
    },
    {
     "name": "stderr",
     "output_type": "stream",
     "text": [
      "\n",
      "  5%|▌         | 1/20 [00:09<02:54,  9.16s/it]\u001b[A\n",
      " 10%|█         | 2/20 [00:17<02:38,  8.83s/it]\u001b[A\n",
      " 15%|█▌        | 3/20 [00:26<02:26,  8.63s/it]\u001b[A\n",
      " 20%|██        | 4/20 [00:34<02:13,  8.34s/it]\u001b[A\n",
      " 25%|██▌       | 5/20 [00:41<02:00,  8.06s/it]IOPub message rate exceeded.\n",
      "The notebook server will temporarily stop sending output\n",
      "to the client in order to avoid crashing it.\n",
      "To change this limit, set the config variable\n",
      "`--NotebookApp.iopub_msg_rate_limit`.\n",
      "\n",
      "Current values:\n",
      "NotebookApp.iopub_msg_rate_limit=1000.0 (msgs/sec)\n",
      "NotebookApp.rate_limit_window=3.0 (secs)\n",
      "\n",
      "\n",
      " 20%|██        | 4/20 [00:41<02:46, 10.42s/it]\u001b[A\n",
      "387it [11:52:58, 110.54s/it]\n"
     ]
    },
    {
     "ename": "KeyboardInterrupt",
     "evalue": "",
     "output_type": "error",
     "traceback": [
      "\u001b[0;31m-----------------------------------------------------------------------\u001b[0m",
      "\u001b[0;31mKeyboardInterrupt\u001b[0m                     Traceback (most recent call last)",
      "\u001b[0;32m<ipython-input-20-7ab15da3fee7>\u001b[0m in \u001b[0;36m<module>\u001b[0;34m()\u001b[0m\n\u001b[1;32m      4\u001b[0m     \u001b[0;31m# train the generator\u001b[0m\u001b[0;34m\u001b[0m\u001b[0;34m\u001b[0m\u001b[0;34m\u001b[0m\u001b[0m\n\u001b[1;32m      5\u001b[0m     \u001b[0;32mfor\u001b[0m \u001b[0m_\u001b[0m \u001b[0;32min\u001b[0m \u001b[0mrange\u001b[0m\u001b[0;34m(\u001b[0m\u001b[0m_G_STEPS\u001b[0m\u001b[0;34m)\u001b[0m\u001b[0;34m:\u001b[0m\u001b[0;34m\u001b[0m\u001b[0;34m\u001b[0m\u001b[0m\n\u001b[0;32m----> 6\u001b[0;31m         \u001b[0mgen_loss\u001b[0m \u001b[0;34m=\u001b[0m \u001b[0mtrain_generator\u001b[0m\u001b[0;34m(\u001b[0m\u001b[0mG\u001b[0m\u001b[0;34m,\u001b[0m \u001b[0mD\u001b[0m\u001b[0;34m,\u001b[0m \u001b[0mBATCH_SIZE\u001b[0m\u001b[0;34m,\u001b[0m \u001b[0mT\u001b[0m\u001b[0;34m,\u001b[0m \u001b[0mmc_size\u001b[0m\u001b[0;34m=\u001b[0m\u001b[0;36m100\u001b[0m\u001b[0;34m,\u001b[0m \u001b[0mverbose\u001b[0m\u001b[0;34m=\u001b[0m\u001b[0;32mTrue\u001b[0m\u001b[0;34m,\u001b[0m \u001b[0moptimizer\u001b[0m\u001b[0;34m=\u001b[0m\u001b[0mAdam\u001b[0m\u001b[0;34m(\u001b[0m\u001b[0mlr\u001b[0m\u001b[0;34m=\u001b[0m\u001b[0;36m0.001\u001b[0m\u001b[0;34m)\u001b[0m\u001b[0;34m)\u001b[0m\u001b[0;34m\u001b[0m\u001b[0;34m\u001b[0m\u001b[0m\n\u001b[0m\u001b[1;32m      7\u001b[0m         \u001b[0mgen_loss_history\u001b[0m\u001b[0;34m.\u001b[0m\u001b[0mappend\u001b[0m\u001b[0;34m(\u001b[0m\u001b[0mgen_loss\u001b[0m\u001b[0;34m.\u001b[0m\u001b[0mnumpy\u001b[0m\u001b[0;34m(\u001b[0m\u001b[0;34m)\u001b[0m\u001b[0;34m)\u001b[0m\u001b[0;34m\u001b[0m\u001b[0;34m\u001b[0m\u001b[0m\n\u001b[1;32m      8\u001b[0m \u001b[0;34m\u001b[0m\u001b[0m\n",
      "\u001b[0;32m<ipython-input-17-2a89b8ff57cf>\u001b[0m in \u001b[0;36mtrain_generator\u001b[0;34m(generator, discriminator, batch_size, T, mc_size, verbose, optimizer, end_token, init_token)\u001b[0m\n\u001b[1;32m     14\u001b[0m             \u001b[0mrollout_returns\u001b[0m \u001b[0;34m=\u001b[0m \u001b[0;34m[\u001b[0m\u001b[0;34m]\u001b[0m\u001b[0;34m\u001b[0m\u001b[0;34m\u001b[0m\u001b[0m\n\u001b[1;32m     15\u001b[0m             \u001b[0;32mfor\u001b[0m \u001b[0m_\u001b[0m \u001b[0;32min\u001b[0m \u001b[0mrange\u001b[0m\u001b[0;34m(\u001b[0m\u001b[0mmc_size\u001b[0m\u001b[0;34m)\u001b[0m\u001b[0;34m:\u001b[0m\u001b[0;34m\u001b[0m\u001b[0;34m\u001b[0m\u001b[0m\n\u001b[0;32m---> 16\u001b[0;31m                 \u001b[0mbatch_rollout_et\u001b[0m \u001b[0;34m=\u001b[0m \u001b[0mrollout_from_prefix\u001b[0m\u001b[0;34m(\u001b[0m\u001b[0mgenerator\u001b[0m\u001b[0;34m,\u001b[0m \u001b[0mbatch_size\u001b[0m\u001b[0;34m,\u001b[0m \u001b[0mprefix\u001b[0m\u001b[0;34m,\u001b[0m \u001b[0mT\u001b[0m\u001b[0;34m)\u001b[0m\u001b[0;34m\u001b[0m\u001b[0;34m\u001b[0m\u001b[0m\n\u001b[0m\u001b[1;32m     17\u001b[0m                 \u001b[0mrollout_returns\u001b[0m\u001b[0;34m.\u001b[0m\u001b[0mappend\u001b[0m\u001b[0;34m(\u001b[0m\u001b[0mdiscriminator\u001b[0m\u001b[0;34m(\u001b[0m\u001b[0mbatch_rollout_et\u001b[0m\u001b[0;34m)\u001b[0m\u001b[0;34m)\u001b[0m\u001b[0;34m\u001b[0m\u001b[0;34m\u001b[0m\u001b[0m\n\u001b[1;32m     18\u001b[0m \u001b[0;34m\u001b[0m\u001b[0m\n",
      "\u001b[0;32m<ipython-input-16-8aa5b615f96a>\u001b[0m in \u001b[0;36mrollout_from_prefix\u001b[0;34m(G, batch_size, prefix, L, end_token, init_token)\u001b[0m\n\u001b[1;32m      9\u001b[0m \u001b[0;34m\u001b[0m\u001b[0m\n\u001b[1;32m     10\u001b[0m     \u001b[0;32mfor\u001b[0m \u001b[0m_\u001b[0m \u001b[0;32min\u001b[0m \u001b[0mrange\u001b[0m\u001b[0;34m(\u001b[0m\u001b[0mL\u001b[0m\u001b[0;34m-\u001b[0m\u001b[0ml_prefix\u001b[0m\u001b[0;34m)\u001b[0m\u001b[0;34m:\u001b[0m  \u001b[0;31m# sequence length\u001b[0m\u001b[0;34m\u001b[0m\u001b[0;34m\u001b[0m\u001b[0m\n\u001b[0;32m---> 11\u001b[0;31m         \u001b[0mtoken_logits\u001b[0m \u001b[0;34m=\u001b[0m \u001b[0mG\u001b[0m\u001b[0;34m(\u001b[0m\u001b[0mcurr_state_et\u001b[0m\u001b[0;34m)\u001b[0m\u001b[0;34m\u001b[0m\u001b[0;34m\u001b[0m\u001b[0m\n\u001b[0m\u001b[1;32m     12\u001b[0m \u001b[0;34m\u001b[0m\u001b[0m\n\u001b[1;32m     13\u001b[0m         \u001b[0msampled_et\u001b[0m \u001b[0;34m=\u001b[0m \u001b[0mtf\u001b[0m\u001b[0;34m.\u001b[0m\u001b[0mrandom\u001b[0m\u001b[0;34m.\u001b[0m\u001b[0mcategorical\u001b[0m\u001b[0;34m(\u001b[0m\u001b[0mtoken_logits\u001b[0m\u001b[0;34m,\u001b[0m \u001b[0mnum_samples\u001b[0m\u001b[0;34m=\u001b[0m\u001b[0;36m1\u001b[0m\u001b[0;34m,\u001b[0m \u001b[0mdtype\u001b[0m\u001b[0;34m=\u001b[0m\u001b[0mtf\u001b[0m\u001b[0;34m.\u001b[0m\u001b[0mint32\u001b[0m\u001b[0;34m)\u001b[0m\u001b[0;34m\u001b[0m\u001b[0;34m\u001b[0m\u001b[0m\n",
      "\u001b[0;32m/opt/conda/envs/basileus/lib/python3.7/site-packages/tensorflow_core/python/keras/engine/base_layer.py\u001b[0m in \u001b[0;36m__call__\u001b[0;34m(self, inputs, *args, **kwargs)\u001b[0m\n\u001b[1;32m    820\u001b[0m           with base_layer_utils.autocast_context_manager(\n\u001b[1;32m    821\u001b[0m               self._compute_dtype):\n\u001b[0;32m--> 822\u001b[0;31m             \u001b[0moutputs\u001b[0m \u001b[0;34m=\u001b[0m \u001b[0mself\u001b[0m\u001b[0;34m.\u001b[0m\u001b[0mcall\u001b[0m\u001b[0;34m(\u001b[0m\u001b[0mcast_inputs\u001b[0m\u001b[0;34m,\u001b[0m \u001b[0;34m*\u001b[0m\u001b[0margs\u001b[0m\u001b[0;34m,\u001b[0m \u001b[0;34m**\u001b[0m\u001b[0mkwargs\u001b[0m\u001b[0;34m)\u001b[0m\u001b[0;34m\u001b[0m\u001b[0;34m\u001b[0m\u001b[0m\n\u001b[0m\u001b[1;32m    823\u001b[0m           \u001b[0mself\u001b[0m\u001b[0;34m.\u001b[0m\u001b[0m_handle_activity_regularization\u001b[0m\u001b[0;34m(\u001b[0m\u001b[0minputs\u001b[0m\u001b[0;34m,\u001b[0m \u001b[0moutputs\u001b[0m\u001b[0;34m)\u001b[0m\u001b[0;34m\u001b[0m\u001b[0;34m\u001b[0m\u001b[0m\n\u001b[1;32m    824\u001b[0m           \u001b[0mself\u001b[0m\u001b[0;34m.\u001b[0m\u001b[0m_set_mask_metadata\u001b[0m\u001b[0;34m(\u001b[0m\u001b[0minputs\u001b[0m\u001b[0;34m,\u001b[0m \u001b[0moutputs\u001b[0m\u001b[0;34m,\u001b[0m \u001b[0minput_masks\u001b[0m\u001b[0;34m)\u001b[0m\u001b[0;34m\u001b[0m\u001b[0;34m\u001b[0m\u001b[0m\n",
      "\u001b[0;32m/opt/conda/envs/basileus/lib/python3.7/site-packages/tensorflow_core/python/keras/engine/network.py\u001b[0m in \u001b[0;36mcall\u001b[0;34m(self, inputs, training, mask)\u001b[0m\n\u001b[1;32m    715\u001b[0m     return self._run_internal_graph(\n\u001b[1;32m    716\u001b[0m         \u001b[0minputs\u001b[0m\u001b[0;34m,\u001b[0m \u001b[0mtraining\u001b[0m\u001b[0;34m=\u001b[0m\u001b[0mtraining\u001b[0m\u001b[0;34m,\u001b[0m \u001b[0mmask\u001b[0m\u001b[0;34m=\u001b[0m\u001b[0mmask\u001b[0m\u001b[0;34m,\u001b[0m\u001b[0;34m\u001b[0m\u001b[0;34m\u001b[0m\u001b[0m\n\u001b[0;32m--> 717\u001b[0;31m         convert_kwargs_to_constants=base_layer_utils.call_context().saving)\n\u001b[0m\u001b[1;32m    718\u001b[0m \u001b[0;34m\u001b[0m\u001b[0m\n\u001b[1;32m    719\u001b[0m   \u001b[0;32mdef\u001b[0m \u001b[0mcompute_output_shape\u001b[0m\u001b[0;34m(\u001b[0m\u001b[0mself\u001b[0m\u001b[0;34m,\u001b[0m \u001b[0minput_shape\u001b[0m\u001b[0;34m)\u001b[0m\u001b[0;34m:\u001b[0m\u001b[0;34m\u001b[0m\u001b[0;34m\u001b[0m\u001b[0m\n",
      "\u001b[0;32m/opt/conda/envs/basileus/lib/python3.7/site-packages/tensorflow_core/python/keras/engine/network.py\u001b[0m in \u001b[0;36m_run_internal_graph\u001b[0;34m(self, inputs, training, mask, convert_kwargs_to_constants)\u001b[0m\n\u001b[1;32m    889\u001b[0m \u001b[0;34m\u001b[0m\u001b[0m\n\u001b[1;32m    890\u001b[0m           \u001b[0;31m# Compute outputs.\u001b[0m\u001b[0;34m\u001b[0m\u001b[0;34m\u001b[0m\u001b[0;34m\u001b[0m\u001b[0m\n\u001b[0;32m--> 891\u001b[0;31m           \u001b[0moutput_tensors\u001b[0m \u001b[0;34m=\u001b[0m \u001b[0mlayer\u001b[0m\u001b[0;34m(\u001b[0m\u001b[0mcomputed_tensors\u001b[0m\u001b[0;34m,\u001b[0m \u001b[0;34m**\u001b[0m\u001b[0mkwargs\u001b[0m\u001b[0;34m)\u001b[0m\u001b[0;34m\u001b[0m\u001b[0;34m\u001b[0m\u001b[0m\n\u001b[0m\u001b[1;32m    892\u001b[0m \u001b[0;34m\u001b[0m\u001b[0m\n\u001b[1;32m    893\u001b[0m           \u001b[0;31m# Update tensor_dict.\u001b[0m\u001b[0;34m\u001b[0m\u001b[0;34m\u001b[0m\u001b[0;34m\u001b[0m\u001b[0m\n",
      "\u001b[0;32m/opt/conda/envs/basileus/lib/python3.7/site-packages/tensorflow_core/python/keras/layers/recurrent.py\u001b[0m in \u001b[0;36m__call__\u001b[0;34m(self, inputs, initial_state, constants, **kwargs)\u001b[0m\n\u001b[1;32m    642\u001b[0m \u001b[0;34m\u001b[0m\u001b[0m\n\u001b[1;32m    643\u001b[0m     \u001b[0;32mif\u001b[0m \u001b[0minitial_state\u001b[0m \u001b[0;32mis\u001b[0m \u001b[0;32mNone\u001b[0m \u001b[0;32mand\u001b[0m \u001b[0mconstants\u001b[0m \u001b[0;32mis\u001b[0m \u001b[0;32mNone\u001b[0m\u001b[0;34m:\u001b[0m\u001b[0;34m\u001b[0m\u001b[0;34m\u001b[0m\u001b[0m\n\u001b[0;32m--> 644\u001b[0;31m       \u001b[0;32mreturn\u001b[0m \u001b[0msuper\u001b[0m\u001b[0;34m(\u001b[0m\u001b[0mRNN\u001b[0m\u001b[0;34m,\u001b[0m \u001b[0mself\u001b[0m\u001b[0;34m)\u001b[0m\u001b[0;34m.\u001b[0m\u001b[0m__call__\u001b[0m\u001b[0;34m(\u001b[0m\u001b[0minputs\u001b[0m\u001b[0;34m,\u001b[0m \u001b[0;34m**\u001b[0m\u001b[0mkwargs\u001b[0m\u001b[0;34m)\u001b[0m\u001b[0;34m\u001b[0m\u001b[0;34m\u001b[0m\u001b[0m\n\u001b[0m\u001b[1;32m    645\u001b[0m \u001b[0;34m\u001b[0m\u001b[0m\n\u001b[1;32m    646\u001b[0m     \u001b[0;31m# If any of `initial_state` or `constants` are specified and are Keras\u001b[0m\u001b[0;34m\u001b[0m\u001b[0;34m\u001b[0m\u001b[0;34m\u001b[0m\u001b[0m\n",
      "\u001b[0;32m/opt/conda/envs/basileus/lib/python3.7/site-packages/tensorflow_core/python/keras/engine/base_layer.py\u001b[0m in \u001b[0;36m__call__\u001b[0;34m(self, inputs, *args, **kwargs)\u001b[0m\n\u001b[1;32m    820\u001b[0m           with base_layer_utils.autocast_context_manager(\n\u001b[1;32m    821\u001b[0m               self._compute_dtype):\n\u001b[0;32m--> 822\u001b[0;31m             \u001b[0moutputs\u001b[0m \u001b[0;34m=\u001b[0m \u001b[0mself\u001b[0m\u001b[0;34m.\u001b[0m\u001b[0mcall\u001b[0m\u001b[0;34m(\u001b[0m\u001b[0mcast_inputs\u001b[0m\u001b[0;34m,\u001b[0m \u001b[0;34m*\u001b[0m\u001b[0margs\u001b[0m\u001b[0;34m,\u001b[0m \u001b[0;34m**\u001b[0m\u001b[0mkwargs\u001b[0m\u001b[0;34m)\u001b[0m\u001b[0;34m\u001b[0m\u001b[0;34m\u001b[0m\u001b[0m\n\u001b[0m\u001b[1;32m    823\u001b[0m           \u001b[0mself\u001b[0m\u001b[0;34m.\u001b[0m\u001b[0m_handle_activity_regularization\u001b[0m\u001b[0;34m(\u001b[0m\u001b[0minputs\u001b[0m\u001b[0;34m,\u001b[0m \u001b[0moutputs\u001b[0m\u001b[0;34m)\u001b[0m\u001b[0;34m\u001b[0m\u001b[0;34m\u001b[0m\u001b[0m\n\u001b[1;32m    824\u001b[0m           \u001b[0mself\u001b[0m\u001b[0;34m.\u001b[0m\u001b[0m_set_mask_metadata\u001b[0m\u001b[0;34m(\u001b[0m\u001b[0minputs\u001b[0m\u001b[0;34m,\u001b[0m \u001b[0moutputs\u001b[0m\u001b[0;34m,\u001b[0m \u001b[0minput_masks\u001b[0m\u001b[0;34m)\u001b[0m\u001b[0;34m\u001b[0m\u001b[0;34m\u001b[0m\u001b[0m\n",
      "\u001b[0;32m/opt/conda/envs/basileus/lib/python3.7/site-packages/tensorflow_core/python/keras/layers/recurrent_v2.py\u001b[0m in \u001b[0;36mcall\u001b[0;34m(self, inputs, mask, training, initial_state)\u001b[0m\n\u001b[1;32m   1145\u001b[0m         \u001b[0;32melse\u001b[0m\u001b[0;34m:\u001b[0m\u001b[0;34m\u001b[0m\u001b[0;34m\u001b[0m\u001b[0m\n\u001b[1;32m   1146\u001b[0m           last_output, outputs, new_h, new_c, runtime = standard_lstm(\n\u001b[0;32m-> 1147\u001b[0;31m               **normal_lstm_kwargs)\n\u001b[0m\u001b[1;32m   1148\u001b[0m       \u001b[0;32melse\u001b[0m\u001b[0;34m:\u001b[0m\u001b[0;34m\u001b[0m\u001b[0;34m\u001b[0m\u001b[0m\n\u001b[1;32m   1149\u001b[0m         (last_output, outputs, new_h, new_c,\n",
      "\u001b[0;32m/opt/conda/envs/basileus/lib/python3.7/site-packages/tensorflow_core/python/keras/layers/recurrent_v2.py\u001b[0m in \u001b[0;36mstandard_lstm\u001b[0;34m(inputs, init_h, init_c, kernel, recurrent_kernel, bias, activation, recurrent_activation, mask, time_major, go_backwards, sequence_lengths)\u001b[0m\n\u001b[1;32m   1279\u001b[0m       \u001b[0mgo_backwards\u001b[0m\u001b[0;34m=\u001b[0m\u001b[0mgo_backwards\u001b[0m\u001b[0;34m,\u001b[0m\u001b[0;34m\u001b[0m\u001b[0;34m\u001b[0m\u001b[0m\n\u001b[1;32m   1280\u001b[0m       \u001b[0minput_length\u001b[0m\u001b[0;34m=\u001b[0m\u001b[0msequence_lengths\u001b[0m\u001b[0;34m\u001b[0m\u001b[0;34m\u001b[0m\u001b[0m\n\u001b[0;32m-> 1281\u001b[0;31m       if sequence_lengths is not None else timesteps)\n\u001b[0m\u001b[1;32m   1282\u001b[0m   return (last_output, outputs, new_states[0], new_states[1],\n\u001b[1;32m   1283\u001b[0m           _runtime(_RUNTIME_CPU))\n",
      "\u001b[0;32m/opt/conda/envs/basileus/lib/python3.7/site-packages/tensorflow_core/python/keras/backend.py\u001b[0m in \u001b[0;36mrnn\u001b[0;34m(step_function, inputs, initial_states, go_backwards, mask, constants, unroll, input_length, time_major, zero_output_for_mask)\u001b[0m\n\u001b[1;32m   4172\u001b[0m           \u001b[0mbody\u001b[0m\u001b[0;34m=\u001b[0m\u001b[0m_step\u001b[0m\u001b[0;34m,\u001b[0m\u001b[0;34m\u001b[0m\u001b[0;34m\u001b[0m\u001b[0m\n\u001b[1;32m   4173\u001b[0m           \u001b[0mloop_vars\u001b[0m\u001b[0;34m=\u001b[0m\u001b[0;34m(\u001b[0m\u001b[0mtime\u001b[0m\u001b[0;34m,\u001b[0m \u001b[0moutput_ta\u001b[0m\u001b[0;34m)\u001b[0m \u001b[0;34m+\u001b[0m \u001b[0mstates\u001b[0m\u001b[0;34m,\u001b[0m\u001b[0;34m\u001b[0m\u001b[0;34m\u001b[0m\u001b[0m\n\u001b[0;32m-> 4174\u001b[0;31m           **while_loop_kwargs)\n\u001b[0m\u001b[1;32m   4175\u001b[0m       \u001b[0mnew_states\u001b[0m \u001b[0;34m=\u001b[0m \u001b[0mfinal_outputs\u001b[0m\u001b[0;34m[\u001b[0m\u001b[0;36m2\u001b[0m\u001b[0;34m:\u001b[0m\u001b[0;34m]\u001b[0m\u001b[0;34m\u001b[0m\u001b[0;34m\u001b[0m\u001b[0m\n\u001b[1;32m   4176\u001b[0m \u001b[0;34m\u001b[0m\u001b[0m\n",
      "\u001b[0;32m/opt/conda/envs/basileus/lib/python3.7/site-packages/tensorflow_core/python/ops/control_flow_ops.py\u001b[0m in \u001b[0;36mwhile_loop\u001b[0;34m(cond, body, loop_vars, shape_invariants, parallel_iterations, back_prop, swap_memory, name, maximum_iterations, return_same_structure)\u001b[0m\n\u001b[1;32m   2710\u001b[0m \u001b[0;34m\u001b[0m\u001b[0m\n\u001b[1;32m   2711\u001b[0m       loop_var_structure = nest.map_structure(type_spec.type_spec_from_value,\n\u001b[0;32m-> 2712\u001b[0;31m                                               list(loop_vars))\n\u001b[0m\u001b[1;32m   2713\u001b[0m       \u001b[0;32mwhile\u001b[0m \u001b[0mcond\u001b[0m\u001b[0;34m(\u001b[0m\u001b[0;34m*\u001b[0m\u001b[0mloop_vars\u001b[0m\u001b[0;34m)\u001b[0m\u001b[0;34m:\u001b[0m\u001b[0;34m\u001b[0m\u001b[0;34m\u001b[0m\u001b[0m\n\u001b[1;32m   2714\u001b[0m         \u001b[0mloop_vars\u001b[0m \u001b[0;34m=\u001b[0m \u001b[0mbody\u001b[0m\u001b[0;34m(\u001b[0m\u001b[0;34m*\u001b[0m\u001b[0mloop_vars\u001b[0m\u001b[0;34m)\u001b[0m\u001b[0;34m\u001b[0m\u001b[0;34m\u001b[0m\u001b[0m\n",
      "\u001b[0;32m/opt/conda/envs/basileus/lib/python3.7/site-packages/tensorflow_core/python/util/nest.py\u001b[0m in \u001b[0;36mmap_structure\u001b[0;34m(func, *structure, **kwargs)\u001b[0m\n\u001b[1;32m    566\u001b[0m \u001b[0;34m\u001b[0m\u001b[0m\n\u001b[1;32m    567\u001b[0m   return pack_sequence_as(\n\u001b[0;32m--> 568\u001b[0;31m       \u001b[0mstructure\u001b[0m\u001b[0;34m[\u001b[0m\u001b[0;36m0\u001b[0m\u001b[0;34m]\u001b[0m\u001b[0;34m,\u001b[0m \u001b[0;34m[\u001b[0m\u001b[0mfunc\u001b[0m\u001b[0;34m(\u001b[0m\u001b[0;34m*\u001b[0m\u001b[0mx\u001b[0m\u001b[0;34m)\u001b[0m \u001b[0;32mfor\u001b[0m \u001b[0mx\u001b[0m \u001b[0;32min\u001b[0m \u001b[0mentries\u001b[0m\u001b[0;34m]\u001b[0m\u001b[0;34m,\u001b[0m\u001b[0;34m\u001b[0m\u001b[0;34m\u001b[0m\u001b[0m\n\u001b[0m\u001b[1;32m    569\u001b[0m       expand_composites=expand_composites)\n\u001b[1;32m    570\u001b[0m \u001b[0;34m\u001b[0m\u001b[0m\n",
      "\u001b[0;32m/opt/conda/envs/basileus/lib/python3.7/site-packages/tensorflow_core/python/util/nest.py\u001b[0m in \u001b[0;36m<listcomp>\u001b[0;34m(.0)\u001b[0m\n\u001b[1;32m    566\u001b[0m \u001b[0;34m\u001b[0m\u001b[0m\n\u001b[1;32m    567\u001b[0m   return pack_sequence_as(\n\u001b[0;32m--> 568\u001b[0;31m       \u001b[0mstructure\u001b[0m\u001b[0;34m[\u001b[0m\u001b[0;36m0\u001b[0m\u001b[0;34m]\u001b[0m\u001b[0;34m,\u001b[0m \u001b[0;34m[\u001b[0m\u001b[0mfunc\u001b[0m\u001b[0;34m(\u001b[0m\u001b[0;34m*\u001b[0m\u001b[0mx\u001b[0m\u001b[0;34m)\u001b[0m \u001b[0;32mfor\u001b[0m \u001b[0mx\u001b[0m \u001b[0;32min\u001b[0m \u001b[0mentries\u001b[0m\u001b[0;34m]\u001b[0m\u001b[0;34m,\u001b[0m\u001b[0;34m\u001b[0m\u001b[0;34m\u001b[0m\u001b[0m\n\u001b[0m\u001b[1;32m    569\u001b[0m       expand_composites=expand_composites)\n\u001b[1;32m    570\u001b[0m \u001b[0;34m\u001b[0m\u001b[0m\n",
      "\u001b[0;32m/opt/conda/envs/basileus/lib/python3.7/site-packages/tensorflow_core/python/framework/type_spec.py\u001b[0m in \u001b[0;36mtype_spec_from_value\u001b[0;34m(value)\u001b[0m\n\u001b[1;32m    483\u001b[0m   \u001b[0;31m# Fallback: try converting value to a tensor.\u001b[0m\u001b[0;34m\u001b[0m\u001b[0;34m\u001b[0m\u001b[0;34m\u001b[0m\u001b[0m\n\u001b[1;32m    484\u001b[0m   \u001b[0;32mtry\u001b[0m\u001b[0;34m:\u001b[0m\u001b[0;34m\u001b[0m\u001b[0;34m\u001b[0m\u001b[0m\n\u001b[0;32m--> 485\u001b[0;31m     \u001b[0mtensor\u001b[0m \u001b[0;34m=\u001b[0m \u001b[0mops\u001b[0m\u001b[0;34m.\u001b[0m\u001b[0mconvert_to_tensor\u001b[0m\u001b[0;34m(\u001b[0m\u001b[0mvalue\u001b[0m\u001b[0;34m)\u001b[0m\u001b[0;34m\u001b[0m\u001b[0;34m\u001b[0m\u001b[0m\n\u001b[0m\u001b[1;32m    486\u001b[0m     \u001b[0mspec\u001b[0m \u001b[0;34m=\u001b[0m \u001b[0m_type_spec_from_value\u001b[0m\u001b[0;34m(\u001b[0m\u001b[0mtensor\u001b[0m\u001b[0;34m)\u001b[0m\u001b[0;34m\u001b[0m\u001b[0;34m\u001b[0m\u001b[0m\n\u001b[1;32m    487\u001b[0m     \u001b[0;32mif\u001b[0m \u001b[0mspec\u001b[0m \u001b[0;32mis\u001b[0m \u001b[0;32mnot\u001b[0m \u001b[0;32mNone\u001b[0m\u001b[0;34m:\u001b[0m\u001b[0;34m\u001b[0m\u001b[0;34m\u001b[0m\u001b[0m\n",
      "\u001b[0;32m/opt/conda/envs/basileus/lib/python3.7/site-packages/tensorflow_core/python/framework/ops.py\u001b[0m in \u001b[0;36mconvert_to_tensor\u001b[0;34m(value, dtype, name, as_ref, preferred_dtype, dtype_hint, ctx, accepted_result_types)\u001b[0m\n\u001b[1;32m   1312\u001b[0m \u001b[0;34m\u001b[0m\u001b[0m\n\u001b[1;32m   1313\u001b[0m     \u001b[0;32mif\u001b[0m \u001b[0mret\u001b[0m \u001b[0;32mis\u001b[0m \u001b[0;32mNone\u001b[0m\u001b[0;34m:\u001b[0m\u001b[0;34m\u001b[0m\u001b[0;34m\u001b[0m\u001b[0m\n\u001b[0;32m-> 1314\u001b[0;31m       \u001b[0mret\u001b[0m \u001b[0;34m=\u001b[0m \u001b[0mconversion_func\u001b[0m\u001b[0;34m(\u001b[0m\u001b[0mvalue\u001b[0m\u001b[0;34m,\u001b[0m \u001b[0mdtype\u001b[0m\u001b[0;34m=\u001b[0m\u001b[0mdtype\u001b[0m\u001b[0;34m,\u001b[0m \u001b[0mname\u001b[0m\u001b[0;34m=\u001b[0m\u001b[0mname\u001b[0m\u001b[0;34m,\u001b[0m \u001b[0mas_ref\u001b[0m\u001b[0;34m=\u001b[0m\u001b[0mas_ref\u001b[0m\u001b[0;34m)\u001b[0m\u001b[0;34m\u001b[0m\u001b[0;34m\u001b[0m\u001b[0m\n\u001b[0m\u001b[1;32m   1315\u001b[0m \u001b[0;34m\u001b[0m\u001b[0m\n\u001b[1;32m   1316\u001b[0m     \u001b[0;32mif\u001b[0m \u001b[0mret\u001b[0m \u001b[0;32mis\u001b[0m \u001b[0mNotImplemented\u001b[0m\u001b[0;34m:\u001b[0m\u001b[0;34m\u001b[0m\u001b[0;34m\u001b[0m\u001b[0m\n",
      "\u001b[0;32m/opt/conda/envs/basileus/lib/python3.7/site-packages/tensorflow_core/python/ops/resource_variable_ops.py\u001b[0m in \u001b[0;36m_dense_var_to_tensor\u001b[0;34m(var, dtype, name, as_ref)\u001b[0m\n\u001b[1;32m   1792\u001b[0m \u001b[0;34m\u001b[0m\u001b[0m\n\u001b[1;32m   1793\u001b[0m \u001b[0;32mdef\u001b[0m \u001b[0m_dense_var_to_tensor\u001b[0m\u001b[0;34m(\u001b[0m\u001b[0mvar\u001b[0m\u001b[0;34m,\u001b[0m \u001b[0mdtype\u001b[0m\u001b[0;34m=\u001b[0m\u001b[0;32mNone\u001b[0m\u001b[0;34m,\u001b[0m \u001b[0mname\u001b[0m\u001b[0;34m=\u001b[0m\u001b[0;32mNone\u001b[0m\u001b[0;34m,\u001b[0m \u001b[0mas_ref\u001b[0m\u001b[0;34m=\u001b[0m\u001b[0;32mFalse\u001b[0m\u001b[0;34m)\u001b[0m\u001b[0;34m:\u001b[0m\u001b[0;34m\u001b[0m\u001b[0;34m\u001b[0m\u001b[0m\n\u001b[0;32m-> 1794\u001b[0;31m   \u001b[0;32mreturn\u001b[0m \u001b[0mvar\u001b[0m\u001b[0;34m.\u001b[0m\u001b[0m_dense_var_to_tensor\u001b[0m\u001b[0;34m(\u001b[0m\u001b[0mdtype\u001b[0m\u001b[0;34m=\u001b[0m\u001b[0mdtype\u001b[0m\u001b[0;34m,\u001b[0m \u001b[0mname\u001b[0m\u001b[0;34m=\u001b[0m\u001b[0mname\u001b[0m\u001b[0;34m,\u001b[0m \u001b[0mas_ref\u001b[0m\u001b[0;34m=\u001b[0m\u001b[0mas_ref\u001b[0m\u001b[0;34m)\u001b[0m  \u001b[0;31m# pylint: disable=protected-access\u001b[0m\u001b[0;34m\u001b[0m\u001b[0;34m\u001b[0m\u001b[0m\n\u001b[0m\u001b[1;32m   1795\u001b[0m \u001b[0;34m\u001b[0m\u001b[0m\n\u001b[1;32m   1796\u001b[0m \u001b[0;34m\u001b[0m\u001b[0m\n",
      "\u001b[0;32m/opt/conda/envs/basileus/lib/python3.7/site-packages/tensorflow_core/python/ops/resource_variable_ops.py\u001b[0m in \u001b[0;36m_dense_var_to_tensor\u001b[0;34m(***failed resolving arguments***)\u001b[0m\n\u001b[1;32m   1217\u001b[0m       \u001b[0;32mreturn\u001b[0m \u001b[0mself\u001b[0m\u001b[0;34m.\u001b[0m\u001b[0mread_value\u001b[0m\u001b[0;34m(\u001b[0m\u001b[0;34m)\u001b[0m\u001b[0;34m.\u001b[0m\u001b[0mop\u001b[0m\u001b[0;34m.\u001b[0m\u001b[0minputs\u001b[0m\u001b[0;34m[\u001b[0m\u001b[0;36m0\u001b[0m\u001b[0;34m]\u001b[0m\u001b[0;34m\u001b[0m\u001b[0;34m\u001b[0m\u001b[0m\n\u001b[1;32m   1218\u001b[0m     \u001b[0;32melse\u001b[0m\u001b[0;34m:\u001b[0m\u001b[0;34m\u001b[0m\u001b[0;34m\u001b[0m\u001b[0m\n\u001b[0;32m-> 1219\u001b[0;31m       \u001b[0;32mreturn\u001b[0m \u001b[0mself\u001b[0m\u001b[0;34m.\u001b[0m\u001b[0mvalue\u001b[0m\u001b[0;34m(\u001b[0m\u001b[0;34m)\u001b[0m\u001b[0;34m\u001b[0m\u001b[0;34m\u001b[0m\u001b[0m\n\u001b[0m\u001b[1;32m   1220\u001b[0m \u001b[0;34m\u001b[0m\u001b[0m\n\u001b[1;32m   1221\u001b[0m   \u001b[0;32mdef\u001b[0m \u001b[0m__iadd__\u001b[0m\u001b[0;34m(\u001b[0m\u001b[0mself\u001b[0m\u001b[0;34m,\u001b[0m \u001b[0munused_other\u001b[0m\u001b[0;34m)\u001b[0m\u001b[0;34m:\u001b[0m\u001b[0;34m\u001b[0m\u001b[0;34m\u001b[0m\u001b[0m\n",
      "\u001b[0;32m/opt/conda/envs/basileus/lib/python3.7/site-packages/tensorflow_core/python/ops/resource_variable_ops.py\u001b[0m in \u001b[0;36mvalue\u001b[0;34m(self)\u001b[0m\n\u001b[1;32m    527\u001b[0m       \u001b[0;32mreturn\u001b[0m \u001b[0mself\u001b[0m\u001b[0;34m.\u001b[0m\u001b[0m_cached_value\u001b[0m\u001b[0;34m\u001b[0m\u001b[0;34m\u001b[0m\u001b[0m\n\u001b[1;32m    528\u001b[0m     \u001b[0;32mwith\u001b[0m \u001b[0mops\u001b[0m\u001b[0;34m.\u001b[0m\u001b[0mcolocate_with\u001b[0m\u001b[0;34m(\u001b[0m\u001b[0;32mNone\u001b[0m\u001b[0;34m,\u001b[0m \u001b[0mignore_existing\u001b[0m\u001b[0;34m=\u001b[0m\u001b[0;32mTrue\u001b[0m\u001b[0;34m)\u001b[0m\u001b[0;34m:\u001b[0m\u001b[0;34m\u001b[0m\u001b[0;34m\u001b[0m\u001b[0m\n\u001b[0;32m--> 529\u001b[0;31m       \u001b[0;32mreturn\u001b[0m \u001b[0mself\u001b[0m\u001b[0;34m.\u001b[0m\u001b[0m_read_variable_op\u001b[0m\u001b[0;34m(\u001b[0m\u001b[0;34m)\u001b[0m\u001b[0;34m\u001b[0m\u001b[0;34m\u001b[0m\u001b[0m\n\u001b[0m\u001b[1;32m    530\u001b[0m \u001b[0;34m\u001b[0m\u001b[0m\n\u001b[1;32m    531\u001b[0m   \u001b[0;32mdef\u001b[0m \u001b[0m_as_graph_element\u001b[0m\u001b[0;34m(\u001b[0m\u001b[0mself\u001b[0m\u001b[0;34m)\u001b[0m\u001b[0;34m:\u001b[0m\u001b[0;34m\u001b[0m\u001b[0;34m\u001b[0m\u001b[0m\n",
      "\u001b[0;32m/opt/conda/envs/basileus/lib/python3.7/site-packages/tensorflow_core/python/ops/resource_variable_ops.py\u001b[0m in \u001b[0;36m_read_variable_op\u001b[0;34m(self)\u001b[0m\n\u001b[1;32m    611\u001b[0m     \u001b[0mvariable_accessed\u001b[0m\u001b[0;34m(\u001b[0m\u001b[0mself\u001b[0m\u001b[0;34m)\u001b[0m\u001b[0;34m\u001b[0m\u001b[0;34m\u001b[0m\u001b[0m\n\u001b[1;32m    612\u001b[0m     result = gen_resource_variable_ops.read_variable_op(self._handle,\n\u001b[0;32m--> 613\u001b[0;31m                                                         self._dtype)\n\u001b[0m\u001b[1;32m    614\u001b[0m     \u001b[0m_maybe_set_handle_data\u001b[0m\u001b[0;34m(\u001b[0m\u001b[0mself\u001b[0m\u001b[0;34m.\u001b[0m\u001b[0m_dtype\u001b[0m\u001b[0;34m,\u001b[0m \u001b[0mself\u001b[0m\u001b[0;34m.\u001b[0m\u001b[0m_handle\u001b[0m\u001b[0;34m,\u001b[0m \u001b[0mresult\u001b[0m\u001b[0;34m)\u001b[0m\u001b[0;34m\u001b[0m\u001b[0;34m\u001b[0m\u001b[0m\n\u001b[1;32m    615\u001b[0m \u001b[0;34m\u001b[0m\u001b[0m\n",
      "\u001b[0;32m/opt/conda/envs/basileus/lib/python3.7/site-packages/tensorflow_core/python/ops/gen_resource_variable_ops.py\u001b[0m in \u001b[0;36mread_variable_op\u001b[0;34m(resource, dtype, name)\u001b[0m\n\u001b[1;32m    466\u001b[0m   \u001b[0;32mif\u001b[0m \u001b[0mtld\u001b[0m\u001b[0;34m.\u001b[0m\u001b[0mis_eager\u001b[0m\u001b[0;34m:\u001b[0m\u001b[0;34m\u001b[0m\u001b[0;34m\u001b[0m\u001b[0m\n\u001b[1;32m    467\u001b[0m     \u001b[0;32mtry\u001b[0m\u001b[0;34m:\u001b[0m\u001b[0;34m\u001b[0m\u001b[0;34m\u001b[0m\u001b[0m\n\u001b[0;32m--> 468\u001b[0;31m       _result = _pywrap_tensorflow.TFE_Py_FastPathExecute(\n\u001b[0m\u001b[1;32m    469\u001b[0m         \u001b[0m_ctx\u001b[0m\u001b[0;34m.\u001b[0m\u001b[0m_context_handle\u001b[0m\u001b[0;34m,\u001b[0m \u001b[0mtld\u001b[0m\u001b[0;34m.\u001b[0m\u001b[0mdevice_name\u001b[0m\u001b[0;34m,\u001b[0m \u001b[0;34m\"ReadVariableOp\"\u001b[0m\u001b[0;34m,\u001b[0m \u001b[0mname\u001b[0m\u001b[0;34m,\u001b[0m\u001b[0;34m\u001b[0m\u001b[0;34m\u001b[0m\u001b[0m\n\u001b[1;32m    470\u001b[0m         tld.op_callbacks, resource, \"dtype\", dtype)\n",
      "\u001b[0;31mKeyboardInterrupt\u001b[0m: "
     ]
    }
   ],
   "source": [
    "for event_type_batch, _ in tqdm(train_dataset.take(_TOTAL_STEPS)):\n",
    "    step += 1\n",
    "    print('Training Step:', step)\n",
    "    # train the generator\n",
    "    for _ in range(_G_STEPS):\n",
    "        gen_loss = train_generator(G, D, BATCH_SIZE, T, mc_size=100, verbose=True, optimizer=Adam(lr=0.001))        \n",
    "        gen_loss_history.append(gen_loss.numpy())\n",
    "    \n",
    "    # train the discriminator\n",
    "    for _ in range(_D_STEPS):\n",
    "        disc_loss = train_discriminator(event_type_batch, G, D, BATCH_SIZE, T, verbose=True, optimizer=Adam(lr=0.001))\n",
    "        disc_loss_history.append(disc_loss.numpy())\n",
    "\n",
    "#     # save weights every 200 steps\n",
    "#     if step % 100 == 0:\n",
    "#         print('Saving weights...')\n",
    "#         save_path_prefix = f'/home/lun/project-basileus/seq-gan/experiment_results/long_seqs_v10/oracle_train_{step}'\n",
    "#         save_model_weights(save_path_prefix, generator, discriminator, critic)\n",
    "#         print('All Saved!')"
   ]
  },
  {
   "cell_type": "code",
   "execution_count": 21,
   "id": "floral-annual",
   "metadata": {},
   "outputs": [
    {
     "data": {
      "text/plain": [
       "(387, 387)"
      ]
     },
     "execution_count": 21,
     "metadata": {},
     "output_type": "execute_result"
    }
   ],
   "source": [
    "len(gen_loss_history), len(disc_loss_history)"
   ]
  },
  {
   "cell_type": "code",
   "execution_count": 22,
   "id": "muslim-illustration",
   "metadata": {},
   "outputs": [
    {
     "data": {
      "text/plain": [
       "Text(0.5, 0, 'Training steps')"
      ]
     },
     "execution_count": 22,
     "metadata": {},
     "output_type": "execute_result"
    },
    {
     "data": {
      "image/png": "[encoded data removed]",
      "text/plain": [
       "<Figure size 600x400 with 1 Axes>"
      ]
     },
     "metadata": {
      "needs_background": "light"
     },
     "output_type": "display_data"
    },
    {
     "data": {
      "image/png": "[encoded data removed]",
      "text/plain": [
       "<Figure size 600x400 with 1 Axes>"
      ]
     },
     "metadata": {
      "needs_background": "light"
     },
     "output_type": "display_data"
    }
   ],
   "source": [
    "x = range(len(gen_loss_history))\n",
    "plt.figure(dpi=100)\n",
    "plt.plot(x, gen_loss_history)\n",
    "plt.title('Generator Loss History')\n",
    "plt.xlabel('Training steps')\n",
    "\n",
    "x = range(len(disc_loss_history))\n",
    "plt.figure(dpi=100)\n",
    "plt.plot(x, disc_loss_history)\n",
    "plt.title('Discriminator Loss History')\n",
    "plt.xlabel('Training steps')"
   ]
  },
  {
   "cell_type": "code",
   "execution_count": 26,
   "id": "governing-rwanda",
   "metadata": {},
   "outputs": [],
   "source": [
    "a_exam = generate_sequences(1000, G, BATCH_SIZE, T)"
   ]
  },
  {
   "cell_type": "code",
   "execution_count": 27,
   "id": "utility-auditor",
   "metadata": {},
   "outputs": [],
   "source": [
    "G0 = build_G(\n",
    "    batch_size = BATCH_SIZE,\n",
    "    event_vocab_dim = EVENT_VOCAB_DIM,\n",
    "    emb_dim = EMB_DIM,\n",
    "    hidden_dim= HIDDEN_DIM,\n",
    ")\n",
    "b_exam = generate_sequences(1000, G0,BATCH_SIZE, T)"
   ]
  },
  {
   "cell_type": "code",
   "execution_count": null,
   "id": "practical-cornell",
   "metadata": {},
   "outputs": [],
   "source": [
    "\n",
    "\n",
    "\n"
   ]
  },
  {
   "cell_type": "code",
   "execution_count": null,
   "id": "immediate-fraction",
   "metadata": {},
   "outputs": [],
   "source": []
  },
  {
   "cell_type": "code",
   "execution_count": null,
   "id": "thorough-walker",
   "metadata": {},
   "outputs": [],
   "source": []
  },
  {
   "cell_type": "code",
   "execution_count": null,
   "id": "processed-remedy",
   "metadata": {},
   "outputs": [],
   "source": []
  },
  {
   "cell_type": "code",
   "execution_count": null,
   "id": "gentle-spread",
   "metadata": {},
   "outputs": [],
   "source": []
  },
  {
   "cell_type": "code",
   "execution_count": null,
   "id": "changed-postage",
   "metadata": {},
   "outputs": [],
   "source": [
    "model_save_dir = '/home/lun/project-basileus/multitype-sequence-generation-by-tlstm-gan/models/seqgan_original'\n",
    "if not os.path.exists(model_save_dir + '/G_run_0'):\n",
    "    os.makedirs(model_save_dir + '/G_run_0')\n",
    "\n",
    "G_save_path = model_save_dir + '/G_run_0/model.tf'\n",
    "                \n",
    "if not os.path.exists(model_save_dir + '/D_run_0'):\n",
    "    os.makedirs(model_save_dir + '/D_run_0')\n",
    "\n",
    "D_save_path = model_save_dir + '/D_run_0/model.tf'\n",
    "\n",
    "G.save_weights(G_save_path)\n",
    "D.save_weights(D_save_path)"
   ]
  },
  {
   "cell_type": "code",
   "execution_count": null,
   "id": "electronic-brand",
   "metadata": {},
   "outputs": [],
   "source": []
  },
  {
   "cell_type": "markdown",
   "id": "administrative-compound",
   "metadata": {},
   "source": [
    "## Debug"
   ]
  },
  {
   "cell_type": "code",
   "execution_count": null,
   "id": "unlikely-defensive",
   "metadata": {},
   "outputs": [],
   "source": [
    "example_a = tf.zeros((64, 21, 1), dtype=tf.float32)"
   ]
  },
  {
   "cell_type": "code",
   "execution_count": null,
   "id": "cheap-purple",
   "metadata": {},
   "outputs": [],
   "source": [
    "rollout_returns = []\n",
    "for _ in range(10):\n",
    "    rollout_returns.append(D(example_a))"
   ]
  },
  {
   "cell_type": "code",
   "execution_count": null,
   "id": "excellent-passing",
   "metadata": {},
   "outputs": [],
   "source": [
    "tf.reduce_mean(rollout_returns, axis=0).shape"
   ]
  },
  {
   "cell_type": "code",
   "execution_count": null,
   "id": "comfortable-people",
   "metadata": {},
   "outputs": [],
   "source": [
    "logits = np.array([1.,2.,-1.]).reshape((1,3))\n",
    "probs = tf.nn.softmax(logits)"
   ]
  },
  {
   "cell_type": "code",
   "execution_count": null,
   "id": "exceptional-queue",
   "metadata": {},
   "outputs": [],
   "source": [
    "tf.random.categorical(logits,100)"
   ]
  },
  {
   "cell_type": "code",
   "execution_count": null,
   "id": "minimal-administration",
   "metadata": {},
   "outputs": [],
   "source": [
    "aa = tf.reshape(tf.math.log(probs), (1,3))\n",
    "aa"
   ]
  },
  {
   "cell_type": "code",
   "execution_count": null,
   "id": "outside-rebecca",
   "metadata": {},
   "outputs": [],
   "source": [
    "tf.random.categorical(aa,100)"
   ]
  }
 ],
 "metadata": {
  "kernelspec": {
   "display_name": "Python 3",
   "language": "python",
   "name": "python3"
  }
 },
 "nbformat": 4,
 "nbformat_minor": 5
}
